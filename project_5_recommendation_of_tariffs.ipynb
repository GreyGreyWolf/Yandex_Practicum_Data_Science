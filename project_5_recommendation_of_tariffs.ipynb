{
 "cells": [
  {
   "cell_type": "markdown",
   "metadata": {},
   "source": [
    "# Рекомендация тарифов"
   ]
  },
  {
   "cell_type": "markdown",
   "metadata": {},
   "source": [
    "В вашем распоряжении данные о поведении клиентов, которые уже перешли на эти тарифы (из проекта курса «Статистический анализ данных»). Нужно построить модель для задачи классификации, которая выберет подходящий тариф. Предобработка данных не понадобится — вы её уже сделали.\n",
    "\n",
    "Постройте модель с максимально большим значением *accuracy*. Чтобы сдать проект успешно, нужно довести долю правильных ответов по крайней мере до 0.75. Проверьте *accuracy* на тестовой выборке самостоятельно."
   ]
  },
  {
   "cell_type": "markdown",
   "metadata": {},
   "source": [
    "# Описание данных"
   ]
  },
  {
   "cell_type": "markdown",
   "metadata": {},
   "source": [
    "Каждый объект в наборе данных — это информация о поведении одного пользователя за месяц. Известно:\n",
    "\n",
    "* \t\tсalls — количество звонков,\n",
    "\n",
    "\n",
    "* \t\tminutes — суммарная длительность звонков в минутах,\n",
    "\n",
    "\n",
    "* \t\tmessages — количество sms-сообщений,\n",
    "\n",
    "\n",
    "* \t\tmb_used — израсходованный интернет-трафик в Мб,\n",
    "\n",
    "\n",
    "* \t\tis_ultra — каким тарифом пользовался в течение месяца («Ультра» — 1, «Смарт» — 0)."
   ]
  },
  {
   "cell_type": "markdown",
   "metadata": {},
   "source": [
    "Привет, мы еще не знакомы, но если не против, давай на ты?=)\n",
    "\n",
    "Не мог/могла бы ты порекомендовать книгу по машинному обучению для новичка. Книг много разных, но что из этого разнообразия стоит читать? Особенно хочется разобратся в параметрах моделей и способах повышениы точности предсказаний.\n",
    "\n",
    "Была мысль добавить новые признаки (на основе группировки или среднего, например) в датасет для увелеченя точности предсказания, но не знаю корректно ли будет такое действие. В интернете пишут разное.."
   ]
  },
  {
   "cell_type": "markdown",
   "metadata": {},
   "source": [
    "## Откройте и изучите файл"
   ]
  },
  {
   "cell_type": "markdown",
   "metadata": {},
   "source": [
    "**Подгрузим библиотеки.**"
   ]
  },
  {
   "cell_type": "code",
   "execution_count": 1,
   "metadata": {},
   "outputs": [],
   "source": [
    "import pandas as pd\n",
    "from sklearn.metrics import accuracy_score\n",
    "from sklearn.model_selection import train_test_split\n",
    "from sklearn.tree import DecisionTreeClassifier\n",
    "from sklearn.ensemble import RandomForestClassifier\n",
    "from sklearn.linear_model import LogisticRegression\n",
    "from sklearn.dummy import DummyClassifier\n"
   ]
  },
  {
   "cell_type": "markdown",
   "metadata": {},
   "source": [
    "**Теперь откроем датасет и посмотрим на его содержимое (по условию задания предобработка данных не требуется).**"
   ]
  },
  {
   "cell_type": "code",
   "execution_count": 2,
   "metadata": {},
   "outputs": [],
   "source": [
    "df = pd.read_csv('/datasets/users_behavior.csv')"
   ]
  },
  {
   "cell_type": "code",
   "execution_count": 3,
   "metadata": {
    "scrolled": true
   },
   "outputs": [
    {
     "data": {
      "text/html": [
       "<div>\n",
       "<style scoped>\n",
       "    .dataframe tbody tr th:only-of-type {\n",
       "        vertical-align: middle;\n",
       "    }\n",
       "\n",
       "    .dataframe tbody tr th {\n",
       "        vertical-align: top;\n",
       "    }\n",
       "\n",
       "    .dataframe thead th {\n",
       "        text-align: right;\n",
       "    }\n",
       "</style>\n",
       "<table border=\"1\" class=\"dataframe\">\n",
       "  <thead>\n",
       "    <tr style=\"text-align: right;\">\n",
       "      <th></th>\n",
       "      <th>calls</th>\n",
       "      <th>minutes</th>\n",
       "      <th>messages</th>\n",
       "      <th>mb_used</th>\n",
       "      <th>is_ultra</th>\n",
       "    </tr>\n",
       "  </thead>\n",
       "  <tbody>\n",
       "    <tr>\n",
       "      <td>0</td>\n",
       "      <td>40.0</td>\n",
       "      <td>311.90</td>\n",
       "      <td>83.0</td>\n",
       "      <td>19915.42</td>\n",
       "      <td>0</td>\n",
       "    </tr>\n",
       "    <tr>\n",
       "      <td>1</td>\n",
       "      <td>85.0</td>\n",
       "      <td>516.75</td>\n",
       "      <td>56.0</td>\n",
       "      <td>22696.96</td>\n",
       "      <td>0</td>\n",
       "    </tr>\n",
       "    <tr>\n",
       "      <td>2</td>\n",
       "      <td>77.0</td>\n",
       "      <td>467.66</td>\n",
       "      <td>86.0</td>\n",
       "      <td>21060.45</td>\n",
       "      <td>0</td>\n",
       "    </tr>\n",
       "    <tr>\n",
       "      <td>3</td>\n",
       "      <td>106.0</td>\n",
       "      <td>745.53</td>\n",
       "      <td>81.0</td>\n",
       "      <td>8437.39</td>\n",
       "      <td>1</td>\n",
       "    </tr>\n",
       "    <tr>\n",
       "      <td>4</td>\n",
       "      <td>66.0</td>\n",
       "      <td>418.74</td>\n",
       "      <td>1.0</td>\n",
       "      <td>14502.75</td>\n",
       "      <td>0</td>\n",
       "    </tr>\n",
       "  </tbody>\n",
       "</table>\n",
       "</div>"
      ],
      "text/plain": [
       "   calls  minutes  messages   mb_used  is_ultra\n",
       "0   40.0   311.90      83.0  19915.42         0\n",
       "1   85.0   516.75      56.0  22696.96         0\n",
       "2   77.0   467.66      86.0  21060.45         0\n",
       "3  106.0   745.53      81.0   8437.39         1\n",
       "4   66.0   418.74       1.0  14502.75         0"
      ]
     },
     "execution_count": 3,
     "metadata": {},
     "output_type": "execute_result"
    }
   ],
   "source": [
    "df.head()"
   ]
  },
  {
   "cell_type": "code",
   "execution_count": 4,
   "metadata": {
    "scrolled": true
   },
   "outputs": [
    {
     "name": "stdout",
     "output_type": "stream",
     "text": [
      "<class 'pandas.core.frame.DataFrame'>\n",
      "RangeIndex: 3214 entries, 0 to 3213\n",
      "Data columns (total 5 columns):\n",
      "calls       3214 non-null float64\n",
      "minutes     3214 non-null float64\n",
      "messages    3214 non-null float64\n",
      "mb_used     3214 non-null float64\n",
      "is_ultra    3214 non-null int64\n",
      "dtypes: float64(4), int64(1)\n",
      "memory usage: 125.7 KB\n"
     ]
    }
   ],
   "source": [
    "df.info()"
   ]
  },
  {
   "cell_type": "markdown",
   "metadata": {},
   "source": [
    "### Вывод"
   ]
  },
  {
   "cell_type": "markdown",
   "metadata": {},
   "source": [
    "**В датасете нет пропусков, названия колонк соответствуют snake_case, типы данных тоже в порядке.**"
   ]
  },
  {
   "cell_type": "markdown",
   "metadata": {},
   "source": [
    "## Разбейте данные на выборки"
   ]
  },
  {
   "cell_type": "markdown",
   "metadata": {},
   "source": [
    "**В случае, когда тестовая выборка не спрятана, данные раздеяют в пропорции 3:1:1 (тренировочная выборка:валидационная: тестовая).**\n",
    "\n",
    "**Для этого разделим первый раз общий датасет в пропорции 60% для тренировочной выборки, а 40% для валидационной и тестовой.**\n",
    "\n",
    "**После разделим 40% на 20% для валидационной и 20% для тестовой выборки.**"
   ]
  },
  {
   "cell_type": "code",
   "execution_count": 5,
   "metadata": {},
   "outputs": [],
   "source": [
    "df_train, common_for_valid_and_test = train_test_split(df, test_size=0.4, random_state=12345)"
   ]
  },
  {
   "cell_type": "code",
   "execution_count": 6,
   "metadata": {},
   "outputs": [],
   "source": [
    "df_valid, df_test = train_test_split(common_for_valid_and_test, test_size=0.5, random_state=12345)"
   ]
  },
  {
   "cell_type": "markdown",
   "metadata": {},
   "source": [
    "**Посмотрим на получившуюся размерность для каждой выборки.**"
   ]
  },
  {
   "cell_type": "code",
   "execution_count": 7,
   "metadata": {},
   "outputs": [
    {
     "name": "stdout",
     "output_type": "stream",
     "text": [
      "\n",
      "Размер выборки TRAIN - (1928, 5)\n",
      "\n",
      "Размер выборки VALID - (643, 5)\n",
      "\n",
      "Размер выборки TEST - (643, 5)\n"
     ]
    }
   ],
   "source": [
    "for name_of_df, df in {'TRAIN': df_train, 'VALID': df_valid, 'TEST': df_test}.items():\n",
    "    print(f'\\nРазмер выборки {name_of_df} -', df.shape)"
   ]
  },
  {
   "cell_type": "markdown",
   "metadata": {},
   "source": [
    "**В общих признаках избавимся от целевого признака, его запишем в отдельную переменную для каждой выборки соотвественно.**"
   ]
  },
  {
   "cell_type": "code",
   "execution_count": 8,
   "metadata": {},
   "outputs": [],
   "source": [
    "features_train = df_train.drop('is_ultra', axis=1)\n",
    "train_target = df_train['is_ultra']\n",
    "features_valid = df_valid.drop('is_ultra', axis=1)\n",
    "target_valid = df_valid['is_ultra']\n",
    "features_test = df_test.drop('is_ultra', axis=1)\n",
    "test_target = df_test['is_ultra']"
   ]
  },
  {
   "cell_type": "markdown",
   "metadata": {},
   "source": [
    "### Вывод"
   ]
  },
  {
   "cell_type": "markdown",
   "metadata": {},
   "source": [
    "**Общий датасет был разделен в пропорции 3:1:1 на:**\n",
    "\n",
    "1. **Тренировчную выборку для обучения**\n",
    "\n",
    "\n",
    "2. **Валидационную выборку для нахождения лучших параметров**\n",
    "\n",
    "\n",
    "3. **Тестовую выборку для оценки итого качества работы модели.**"
   ]
  },
  {
   "cell_type": "markdown",
   "metadata": {},
   "source": [
    "## Исследуйте модели"
   ]
  },
  {
   "cell_type": "markdown",
   "metadata": {},
   "source": [
    "**Создадим словарь, в котором в дальнейшем будут храниться лучшие параметры для моделей.**"
   ]
  },
  {
   "cell_type": "code",
   "execution_count": 9,
   "metadata": {},
   "outputs": [],
   "source": [
    "best_params_for_model = {}"
   ]
  },
  {
   "cell_type": "markdown",
   "metadata": {},
   "source": [
    "### Рассмотрим модель Дерево Решений (DecisionTreeClassifier)."
   ]
  },
  {
   "cell_type": "markdown",
   "metadata": {},
   "source": [
    "**Обучать модель будем на тренировочных данных, а на валидационной выборке будем искать лучшие гиперпараметры.**\n",
    "\n"
   ]
  },
  {
   "cell_type": "code",
   "execution_count": 10,
   "metadata": {},
   "outputs": [
    {
     "name": "stdout",
     "output_type": "stream",
     "text": [
      "CPU times: user 13.5 s, sys: 50.7 ms, total: 13.5 s\n",
      "Wall time: 13.5 s\n"
     ]
    }
   ],
   "source": [
    "%%time\n",
    "best_accuracy_for_decision_tree = 0\n",
    "for depth in range(1,11, 1):\n",
    "    for min_split in range(2,11, 1):\n",
    "        for min_leaf in range(1,11, 1):\n",
    "            for crit in ['gini', 'entropy']:\n",
    "                for split in ['best', 'random']:\n",
    "                    model_decision_tree = DecisionTreeClassifier(random_state=12345, \n",
    "                                                                 criterion=crit,\n",
    "                                                                 splitter=split,\n",
    "                                                                 max_depth=depth,\n",
    "                                                                 min_samples_split=min_split,\n",
    "                                                                 min_samples_leaf=min_leaf)\n",
    "                    model_decision_tree.fit(features_train, train_target)\n",
    "                    accuracy = model_decision_tree.score(features_valid, target_valid)\n",
    "#                     print('Accuracy -', accuracy, 'Params', [crit, split, depth, min_split, min_leaf])\n",
    "                    if (accuracy > best_accuracy_for_decision_tree):\n",
    "                        best_accuracy_for_decision_tree = accuracy\n",
    "                        best_params_for_model['Decision_Tree'] = {'criterion': crit,\n",
    "                                                                  'splitter': split,\n",
    "                                                                  'max_depth': depth,\n",
    "                                                                  'min_samples_split': min_split,\n",
    "                                                                  'min_samples_leaf': min_leaf}"
   ]
  },
  {
   "cell_type": "markdown",
   "metadata": {},
   "source": [
    "### Рассмотрим модель Случайный Лес (RandomForestClassifier)."
   ]
  },
  {
   "cell_type": "markdown",
   "metadata": {},
   "source": [
    "**Обучим модель и переберем ее параметры.**\n",
    "\n",
    "**Но сначала локализуем диапазон значений количества оценщиков.**\n",
    "\n",
    "**Полученное количество оценщиков, для которого достигается максимальная доля правильных ответов, изучим подробнее при переборе гиперпараметров модели ниже.**"
   ]
  },
  {
   "cell_type": "code",
   "execution_count": 11,
   "metadata": {},
   "outputs": [
    {
     "name": "stdout",
     "output_type": "stream",
     "text": [
      "\n",
      "Лучший показатель доли правильных ответов на диапазоне до 1000 - 0.8040435458786936\n",
      "\n",
      "Лучший показатель кол-ва оценщиков в диапазоне до 1000 - 300\n",
      "\n",
      "Рекомендуемая глубина деревьев - 7\n",
      "CPU times: user 1min 8s, sys: 412 ms, total: 1min 8s\n",
      "Wall time: 1min 8s\n"
     ]
    }
   ],
   "source": [
    "%%time\n",
    "best_accuracy_for_random_forest_in_range_1000 = 0\n",
    "recommended_depth_value = 0\n",
    "best_num_of_tress_in_range_1000 = 0\n",
    "for n_trees in range(100, 1000, 100):\n",
    "    for depth in range(5,11,1):\n",
    "        model_random_forest = RandomForestClassifier(random_state=12345, \n",
    "                                                     n_estimators=n_trees,\n",
    "                                                     max_depth=depth)\n",
    "        model_random_forest.fit(features_train, train_target)\n",
    "        accuracy = model_random_forest.score(features_valid, target_valid)\n",
    "        if accuracy > best_accuracy_for_random_forest_in_range_1000:\n",
    "            best_accuracy_for_random_forest_in_range_1000 = accuracy\n",
    "            best_num_of_tress_in_range_1000 = n_trees\n",
    "            recommended_depth_value = depth\n",
    "print(f'\\nЛучший показатель доли правильных ответов на диапазоне до 1000 - {best_accuracy_for_random_forest_in_range_1000}')            \n",
    "print(f'\\nЛучший показатель кол-ва оценщиков в диапазоне до 1000 - {best_num_of_tress_in_range_1000}') \n",
    "print(f'\\nРекомендуемая глубина деревьев - {recommended_depth_value}')"
   ]
  },
  {
   "cell_type": "markdown",
   "metadata": {},
   "source": [
    "**Максимальная доля правильных ответов достигается при количестве оценщиков равным 300, рассмторим этот дипазон подробнее, уменьшим шаг до 10 и сузив диапазон вокруг 300 для поиска лучшего значения доли правльных ответов.**"
   ]
  },
  {
   "cell_type": "code",
   "execution_count": 12,
   "metadata": {},
   "outputs": [
    {
     "name": "stdout",
     "output_type": "stream",
     "text": [
      "CPU times: user 1min 20s, sys: 416 ms, total: 1min 21s\n",
      "Wall time: 1min 21s\n"
     ]
    }
   ],
   "source": [
    "%%time\n",
    "best_accuracy_for_random_forest = 0\n",
    "for n_trees in range((best_num_of_tress_in_range_1000 - 30),\n",
    "                     (best_num_of_tress_in_range_1000 + 30), 10):\n",
    "    for crit in ['gini', 'entropy']:\n",
    "        for depth in range((recommended_depth_value - 1), \n",
    "                           (recommended_depth_value + 1), 1):\n",
    "            for value_for_bootstrap in [True, False]:\n",
    "                for value_for_start in [True, False]:\n",
    "                    model_random_forest = RandomForestClassifier(random_state=12345, \n",
    "                                                                 n_estimators=n_trees,\n",
    "                                                                 criterion=crit,\n",
    "                                                                 max_depth=depth,\n",
    "                                                                 bootstrap = value_for_bootstrap,\n",
    "                                                                 warm_start=value_for_start)\n",
    "                    model_random_forest.fit(features_train, train_target)\n",
    "                    accuracy = model_random_forest.score(features_valid, target_valid)\n",
    "#                     print('Accuracy -', accuracy, 'Params', [n_trees, crit, depth, value_for_bootstrap, value_for_start])\n",
    "                    if (accuracy > best_accuracy_for_random_forest):\n",
    "                        best_accuracy_for_random_forest = accuracy\n",
    "                        best_params_for_model['Random_Forest'] = {'n_estimators': n_trees,\n",
    "                                                                  'criterion': crit,\n",
    "                                                                  'max_depth': depth,\n",
    "                                                                  'bootstrap': value_for_bootstrap,\n",
    "                                                                  'warm_start': value_for_start}"
   ]
  },
  {
   "cell_type": "markdown",
   "metadata": {},
   "source": [
    "### Рассмотрим модель Логистическая Регрессия (LogisticRegression)"
   ]
  },
  {
   "cell_type": "markdown",
   "metadata": {},
   "source": [
    "**Обучим модель и переберем гиперпараметры.**"
   ]
  },
  {
   "cell_type": "code",
   "execution_count": 13,
   "metadata": {
    "scrolled": true
   },
   "outputs": [
    {
     "name": "stdout",
     "output_type": "stream",
     "text": [
      "CPU times: user 102 ms, sys: 0 ns, total: 102 ms\n",
      "Wall time: 104 ms\n"
     ]
    },
    {
     "name": "stderr",
     "output_type": "stream",
     "text": [
      "/opt/conda/lib/python3.7/site-packages/scipy/optimize/linesearch.py:466: LineSearchWarning: The line search algorithm did not converge\n",
      "  warn('The line search algorithm did not converge', LineSearchWarning)\n",
      "/opt/conda/lib/python3.7/site-packages/scipy/optimize/linesearch.py:314: LineSearchWarning: The line search algorithm did not converge\n",
      "  warn('The line search algorithm did not converge', LineSearchWarning)\n",
      "/opt/conda/lib/python3.7/site-packages/scipy/optimize/linesearch.py:466: LineSearchWarning: The line search algorithm did not converge\n",
      "  warn('The line search algorithm did not converge', LineSearchWarning)\n",
      "/opt/conda/lib/python3.7/site-packages/scipy/optimize/linesearch.py:314: LineSearchWarning: The line search algorithm did not converge\n",
      "  warn('The line search algorithm did not converge', LineSearchWarning)\n",
      "/opt/conda/lib/python3.7/site-packages/scipy/optimize/linesearch.py:466: LineSearchWarning: The line search algorithm did not converge\n",
      "  warn('The line search algorithm did not converge', LineSearchWarning)\n",
      "/opt/conda/lib/python3.7/site-packages/scipy/optimize/linesearch.py:314: LineSearchWarning: The line search algorithm did not converge\n",
      "  warn('The line search algorithm did not converge', LineSearchWarning)\n",
      "/opt/conda/lib/python3.7/site-packages/scipy/optimize/linesearch.py:426: LineSearchWarning: Rounding errors prevent the line search from converging\n",
      "  warn(msg, LineSearchWarning)\n",
      "/opt/conda/lib/python3.7/site-packages/scipy/optimize/linesearch.py:314: LineSearchWarning: The line search algorithm did not converge\n",
      "  warn('The line search algorithm did not converge', LineSearchWarning)\n",
      "/opt/conda/lib/python3.7/site-packages/sklearn/utils/optimize.py:195: UserWarning: Line Search failed\n",
      "  warnings.warn('Line Search failed')\n"
     ]
    }
   ],
   "source": [
    "%%time\n",
    "best_accuracy_for_logistic_regression = 0\n",
    "for value_of_solver in ['newton-cg', 'liblinear']: \n",
    "    model_logistic_regression = LogisticRegression(random_state=12345, \n",
    "                                                   solver = value_of_solver)\n",
    "    model_logistic_regression.fit(features_train, train_target)\n",
    "    model_logistic_regression.score(features_valid, target_valid)\n",
    "#     print('Accuracy -', accuracy, 'Params', [value_of_solver])\n",
    "    if (accuracy > best_accuracy_for_logistic_regression):\n",
    "        best_accuracy_for_logistic_regression = accuracy\n",
    "    best_params_for_model['Logistic_Regression'] = {'solver': value_of_solver}"
   ]
  },
  {
   "cell_type": "markdown",
   "metadata": {},
   "source": [
    "### Вывод"
   ]
  },
  {
   "cell_type": "code",
   "execution_count": 14,
   "metadata": {},
   "outputs": [
    {
     "name": "stdout",
     "output_type": "stream",
     "text": [
      "\n",
      "Лучший результат для Desicion Tree - 0.8040435458786936\n",
      "Параметры модели Desicion Tree - {'criterion': 'gini', 'splitter': 'random', 'max_depth': 9, 'min_samples_split': 10, 'min_samples_leaf': 3}\n",
      "\n",
      "Лучший результат для Random Forest - 0.8055987558320373\n",
      "Параметры модели Random Forest - {'n_estimators': 320, 'criterion': 'gini', 'max_depth': 7, 'bootstrap': True, 'warm_start': True}\n",
      "\n",
      "Лучший результат для Logistic Regression - 0.7900466562986003\n",
      "Параметры модели Logistic Regression - {'solver': 'liblinear'}\n"
     ]
    }
   ],
   "source": [
    "print(f'\\nЛучший результат для Desicion Tree - {best_accuracy_for_decision_tree}')\n",
    "print(f'Параметры модели Desicion Tree - {best_params_for_model[\"Decision_Tree\"]}')\n",
    "print(f'\\nЛучший результат для Random Forest - {best_accuracy_for_random_forest}')\n",
    "print(f'Параметры модели Random Forest - {best_params_for_model[\"Random_Forest\"]}')\n",
    "print(f'\\nЛучший результат для Logistic Regression - {best_accuracy_for_logistic_regression}')\n",
    "print(f'Параметры модели Logistic Regression - {best_params_for_model[\"Logistic_Regression\"]}')"
   ]
  },
  {
   "cell_type": "markdown",
   "metadata": {},
   "source": [
    "**Лучший результат показала модель RandomForest, а самой быстрой стала LogisticRegression.**"
   ]
  },
  {
   "cell_type": "markdown",
   "metadata": {},
   "source": [
    "## Проверьте модель на тестовой выборке"
   ]
  },
  {
   "cell_type": "markdown",
   "metadata": {},
   "source": [
    "**Теперь последовательно создадим и обучим все три модели с их лучшими параметрами на тренировочной выборке и оценим готовые модели на тестовой выборке.**"
   ]
  },
  {
   "cell_type": "code",
   "execution_count": 15,
   "metadata": {},
   "outputs": [],
   "source": [
    "model_decision_tree_for_test = DecisionTreeClassifier(random_state=12345, \n",
    "                                                     criterion=best_params_for_model[\"Decision_Tree\"]['criterion'],\n",
    "                                                     splitter=best_params_for_model[\"Decision_Tree\"]['splitter'],\n",
    "                                                     max_depth=best_params_for_model[\"Decision_Tree\"]['max_depth'],\n",
    "                                                     min_samples_split=best_params_for_model[\"Decision_Tree\"]['min_samples_split'],\n",
    "                                                     min_samples_leaf=best_params_for_model[\"Decision_Tree\"]['min_samples_leaf'])\n",
    "model_decision_tree_for_test.fit(features_train, train_target)\n",
    "test_accuracy_for_decision_tree = model_decision_tree_for_test.score(features_test, test_target)"
   ]
  },
  {
   "cell_type": "code",
   "execution_count": 16,
   "metadata": {},
   "outputs": [],
   "source": [
    "model_random_forest_for_test = RandomForestClassifier(random_state=12345,\n",
    "                                                     n_estimators=best_params_for_model[\"Random_Forest\"]['n_estimators'],\n",
    "                                                     criterion=best_params_for_model[\"Random_Forest\"]['criterion'],\n",
    "                                                     max_depth=best_params_for_model[\"Random_Forest\"]['max_depth'],\n",
    "                                                     bootstrap=best_params_for_model[\"Random_Forest\"]['bootstrap'],\n",
    "                                                     warm_start=best_params_for_model[\"Random_Forest\"]['warm_start'])\n",
    "model_random_forest_for_test.fit(features_train, train_target)\n",
    "test_accuracy_for_random_forest = model_random_forest_for_test.score(features_test, test_target)"
   ]
  },
  {
   "cell_type": "code",
   "execution_count": 17,
   "metadata": {
    "scrolled": true
   },
   "outputs": [],
   "source": [
    "model_logistic_regression_for_test = LogisticRegression(random_state=12345,\n",
    "                                                       solver=best_params_for_model[\"Logistic_Regression\"]['solver'])\n",
    "model_logistic_regression_for_test.fit(features_train, train_target)\n",
    "test_accuracy_for_logistic_regression = model_logistic_regression_for_test.score(features_test, test_target)"
   ]
  },
  {
   "cell_type": "markdown",
   "metadata": {},
   "source": [
    "### Вывод"
   ]
  },
  {
   "cell_type": "code",
   "execution_count": 18,
   "metadata": {},
   "outputs": [
    {
     "name": "stdout",
     "output_type": "stream",
     "text": [
      "\n",
      " Доля правильных ответов на тестовой выборке для Desicion Tree - 0.8009331259720062\n",
      "\n",
      " Доля правильных ответов на тестовой выборке для Random Forest - 0.7978227060653188\n",
      "\n",
      " Доля правильных ответов на тестовой выборке для Logistic Regression - 0.7402799377916018\n"
     ]
    }
   ],
   "source": [
    "print(f'\\n Доля правильных ответов на тестовой выборке для Desicion Tree - {test_accuracy_for_decision_tree}')\n",
    "print(f'\\n Доля правильных ответов на тестовой выборке для Random Forest - {test_accuracy_for_random_forest}')\n",
    "print(f'\\n Доля правильных ответов на тестовой выборке для Logistic Regression - {test_accuracy_for_logistic_regression}')"
   ]
  },
  {
   "cell_type": "markdown",
   "metadata": {},
   "source": [
    "**Лучше всего себя проявила модель DecisionTree. RandomForest показали результат хуже, возможно модель переобучена.**"
   ]
  },
  {
   "cell_type": "markdown",
   "metadata": {},
   "source": [
    "## (бонус) Проверьте модели на адекватность"
   ]
  },
  {
   "cell_type": "markdown",
   "metadata": {},
   "source": [
    "**Для проверки адекватности моделей создадим простейшую (dummy) модель, которая всегда предсказывает наиболее часто встречающийся класс. Так мы получим контрольные данные для сравнительной оценки построенных моделей (более сложных). Сравнив значение доли правильных ответов dummy-модели с значением доли правильных ответов построенных моделей можно оценить адекватоность моделей.**"
   ]
  },
  {
   "cell_type": "code",
   "execution_count": 19,
   "metadata": {},
   "outputs": [],
   "source": [
    "model_dummy = DummyClassifier(strategy=\"most_frequent\", random_state=12345)\n",
    "model_dummy.fit(features_train, train_target)\n",
    "accuracy_for_model_dummy = model_dummy.score(features_test, test_target)"
   ]
  },
  {
   "cell_type": "code",
   "execution_count": 20,
   "metadata": {
    "scrolled": true
   },
   "outputs": [
    {
     "name": "stdout",
     "output_type": "stream",
     "text": [
      "Доля правильных ответов для простейшей модели (Dummy Model) - 0.6842923794712286\n",
      "\n",
      " Доля правильных ответов на тестовой выборке для Desicion Tree - 0.8009331259720062\n",
      "\n",
      " Доля правильных ответов на тестовой выборке для Random Forest - 0.7978227060653188\n",
      "\n",
      " Доля правильных ответов на тестовой выборке для Logistic Regression - 0.7402799377916018\n"
     ]
    }
   ],
   "source": [
    "print(f'Доля правильных ответов для простейшей модели (Dummy Model) - {accuracy_for_model_dummy}')\n",
    "print(f'\\n Доля правильных ответов на тестовой выборке для Desicion Tree - {test_accuracy_for_decision_tree}')\n",
    "print(f'\\n Доля правильных ответов на тестовой выборке для Random Forest - {test_accuracy_for_random_forest}')\n",
    "print(f'\\n Доля правильных ответов на тестовой выборке для Logistic Regression - {test_accuracy_for_logistic_regression}')"
   ]
  },
  {
   "cell_type": "markdown",
   "metadata": {},
   "source": [
    "### Вывод"
   ]
  },
  {
   "cell_type": "markdown",
   "metadata": {},
   "source": [
    "**Все модели являются адекватными, так как их значение доли правильных ответов выше чем у простейшей модели.**"
   ]
  },
  {
   "cell_type": "markdown",
   "metadata": {},
   "source": [
    "## Вывод"
   ]
  },
  {
   "cell_type": "markdown",
   "metadata": {},
   "source": [
    "**Самой точной моделью c высокой долей правильных ответов является DecisionTreeClassifier, а самой быстрой LogisticRegression. Модель RandomForestClassifier показала самый высокие результаты на валидационной выборке, но на тестовой результаты оказались ниже чем у DecisionTreeClassifier, возможно модель была переобучена.**\n",
    "\n",
    "**Все модели прошли проверку на адекватность(сравнение с результатами DummyСlassifier).**"
   ]
  }
 ],
 "metadata": {
  "ExecuteTimeLog": [
   {
    "duration": 396,
    "start_time": "2022-02-10T12:30:59.854Z"
   },
   {
    "duration": 146,
    "start_time": "2022-02-10T12:31:04.693Z"
   },
   {
    "duration": 270,
    "start_time": "2022-02-10T12:31:04.979Z"
   },
   {
    "duration": 1637,
    "start_time": "2022-02-10T12:31:20.311Z"
   },
   {
    "duration": 49,
    "start_time": "2022-02-10T12:31:21.901Z"
   },
   {
    "duration": 227,
    "start_time": "2022-02-10T12:31:31.321Z"
   },
   {
    "duration": 4,
    "start_time": "2022-02-10T12:31:38.370Z"
   },
   {
    "duration": 14,
    "start_time": "2022-02-10T12:31:40.744Z"
   },
   {
    "duration": 16,
    "start_time": "2022-02-10T12:31:41.751Z"
   },
   {
    "duration": 7,
    "start_time": "2022-02-10T12:32:32.902Z"
   },
   {
    "duration": 8,
    "start_time": "2022-02-10T12:32:47.931Z"
   },
   {
    "duration": 1036,
    "start_time": "2022-02-12T13:33:20.691Z"
   },
   {
    "duration": 17,
    "start_time": "2022-02-12T13:33:21.729Z"
   },
   {
    "duration": 13,
    "start_time": "2022-02-12T13:33:21.750Z"
   },
   {
    "duration": 8,
    "start_time": "2022-02-12T13:33:21.765Z"
   },
   {
    "duration": 405,
    "start_time": "2022-02-12T13:33:21.774Z"
   },
   {
    "duration": -840,
    "start_time": "2022-02-12T13:33:23.020Z"
   },
   {
    "duration": -850,
    "start_time": "2022-02-12T13:33:23.031Z"
   },
   {
    "duration": 288,
    "start_time": "2022-02-12T13:54:11.587Z"
   },
   {
    "duration": 2,
    "start_time": "2022-02-12T13:54:42.915Z"
   },
   {
    "duration": 270,
    "start_time": "2022-02-12T14:18:52.343Z"
   },
   {
    "duration": 2,
    "start_time": "2022-02-12T14:19:04.706Z"
   },
   {
    "duration": 18,
    "start_time": "2022-02-12T14:19:05.121Z"
   },
   {
    "duration": 8,
    "start_time": "2022-02-12T14:19:05.618Z"
   },
   {
    "duration": 5,
    "start_time": "2022-02-12T14:19:06.185Z"
   },
   {
    "duration": 5,
    "start_time": "2022-02-12T14:19:08.700Z"
   },
   {
    "duration": 5,
    "start_time": "2022-02-12T14:19:09.091Z"
   },
   {
    "duration": 275,
    "start_time": "2022-02-12T14:19:10.526Z"
   },
   {
    "duration": 276,
    "start_time": "2022-02-12T14:19:19.427Z"
   },
   {
    "duration": 3,
    "start_time": "2022-02-12T14:19:27.915Z"
   },
   {
    "duration": 3,
    "start_time": "2022-02-12T14:24:57.362Z"
   },
   {
    "duration": 3,
    "start_time": "2022-02-12T14:27:31.606Z"
   },
   {
    "duration": 13,
    "start_time": "2022-02-12T14:27:36.152Z"
   },
   {
    "duration": 3,
    "start_time": "2022-02-12T14:27:46.527Z"
   },
   {
    "duration": 7,
    "start_time": "2022-02-12T14:29:13.205Z"
   },
   {
    "duration": 3,
    "start_time": "2022-02-12T14:29:33.872Z"
   },
   {
    "duration": 5,
    "start_time": "2022-02-12T14:29:42.237Z"
   },
   {
    "duration": 3,
    "start_time": "2022-02-12T14:30:05.293Z"
   },
   {
    "duration": 272,
    "start_time": "2022-02-12T14:30:20.634Z"
   },
   {
    "duration": 4,
    "start_time": "2022-02-12T14:30:24.661Z"
   },
   {
    "duration": 4,
    "start_time": "2022-02-12T14:30:34.742Z"
   },
   {
    "duration": 4,
    "start_time": "2022-02-12T14:33:18.602Z"
   },
   {
    "duration": 3,
    "start_time": "2022-02-12T14:33:33.136Z"
   },
   {
    "duration": 4,
    "start_time": "2022-02-12T14:34:50.783Z"
   },
   {
    "duration": 3,
    "start_time": "2022-02-12T14:34:58.179Z"
   },
   {
    "duration": 3,
    "start_time": "2022-02-12T14:35:49.602Z"
   },
   {
    "duration": 3,
    "start_time": "2022-02-12T14:35:52.141Z"
   },
   {
    "duration": 4,
    "start_time": "2022-02-12T14:35:52.564Z"
   },
   {
    "duration": 3,
    "start_time": "2022-02-12T14:36:17.340Z"
   },
   {
    "duration": 2,
    "start_time": "2022-02-12T14:36:17.844Z"
   },
   {
    "duration": 411,
    "start_time": "2022-02-12T14:36:23.523Z"
   },
   {
    "duration": 3,
    "start_time": "2022-02-12T14:36:53.632Z"
   },
   {
    "duration": 5,
    "start_time": "2022-02-12T14:36:54.024Z"
   },
   {
    "duration": 508,
    "start_time": "2022-02-12T14:37:04.479Z"
   },
   {
    "duration": 2,
    "start_time": "2022-02-12T14:37:10.126Z"
   },
   {
    "duration": 3,
    "start_time": "2022-02-12T14:37:12.946Z"
   },
   {
    "duration": 3,
    "start_time": "2022-02-12T14:37:13.338Z"
   },
   {
    "duration": 4,
    "start_time": "2022-02-12T14:37:13.913Z"
   },
   {
    "duration": 3,
    "start_time": "2022-02-12T14:37:20.584Z"
   },
   {
    "duration": 3,
    "start_time": "2022-02-12T14:37:25.747Z"
   },
   {
    "duration": 5,
    "start_time": "2022-02-12T14:37:26.126Z"
   },
   {
    "duration": 260,
    "start_time": "2022-02-12T14:37:28.550Z"
   },
   {
    "duration": 4,
    "start_time": "2022-02-12T14:37:36.439Z"
   },
   {
    "duration": 11,
    "start_time": "2022-02-12T14:38:00.382Z"
   },
   {
    "duration": 2,
    "start_time": "2022-02-12T14:38:34.708Z"
   },
   {
    "duration": 5,
    "start_time": "2022-02-12T14:38:56.375Z"
   },
   {
    "duration": 10,
    "start_time": "2022-02-12T14:38:57.389Z"
   },
   {
    "duration": 3,
    "start_time": "2022-02-12T14:39:10.342Z"
   },
   {
    "duration": 1022,
    "start_time": "2022-02-12T14:39:34.706Z"
   },
   {
    "duration": 18,
    "start_time": "2022-02-12T14:39:35.730Z"
   },
   {
    "duration": 13,
    "start_time": "2022-02-12T14:39:35.749Z"
   },
   {
    "duration": 6,
    "start_time": "2022-02-12T14:39:35.764Z"
   },
   {
    "duration": 7,
    "start_time": "2022-02-12T14:39:35.771Z"
   },
   {
    "duration": 7,
    "start_time": "2022-02-12T14:39:35.779Z"
   },
   {
    "duration": 5,
    "start_time": "2022-02-12T14:39:35.787Z"
   },
   {
    "duration": 3,
    "start_time": "2022-02-12T14:39:35.794Z"
   },
   {
    "duration": 7,
    "start_time": "2022-02-12T14:39:35.798Z"
   },
   {
    "duration": 8,
    "start_time": "2022-02-12T14:39:35.807Z"
   },
   {
    "duration": 5,
    "start_time": "2022-02-12T14:40:20.320Z"
   },
   {
    "duration": 3,
    "start_time": "2022-02-12T14:40:23.048Z"
   },
   {
    "duration": 3,
    "start_time": "2022-02-12T14:40:46.893Z"
   },
   {
    "duration": 5,
    "start_time": "2022-02-12T14:40:47.296Z"
   },
   {
    "duration": 4,
    "start_time": "2022-02-12T14:40:47.961Z"
   },
   {
    "duration": 13,
    "start_time": "2022-02-12T14:41:08.525Z"
   },
   {
    "duration": 3,
    "start_time": "2022-02-12T14:41:17.569Z"
   },
   {
    "duration": 4,
    "start_time": "2022-02-12T14:41:33.910Z"
   },
   {
    "duration": 16,
    "start_time": "2022-02-12T14:42:07.155Z"
   },
   {
    "duration": 3,
    "start_time": "2022-02-12T14:42:38.861Z"
   },
   {
    "duration": 17,
    "start_time": "2022-02-12T14:42:55.074Z"
   },
   {
    "duration": 3,
    "start_time": "2022-02-12T14:42:59.105Z"
   },
   {
    "duration": 1037,
    "start_time": "2022-02-12T14:43:07.896Z"
   },
   {
    "duration": 18,
    "start_time": "2022-02-12T14:43:08.935Z"
   },
   {
    "duration": 15,
    "start_time": "2022-02-12T14:43:08.957Z"
   },
   {
    "duration": 12,
    "start_time": "2022-02-12T14:43:08.974Z"
   },
   {
    "duration": 6,
    "start_time": "2022-02-12T14:43:08.988Z"
   },
   {
    "duration": 14,
    "start_time": "2022-02-12T14:43:08.995Z"
   },
   {
    "duration": 17,
    "start_time": "2022-02-12T14:43:09.011Z"
   },
   {
    "duration": 357,
    "start_time": "2022-02-12T14:43:09.029Z"
   },
   {
    "duration": 71,
    "start_time": "2022-02-12T14:43:09.317Z"
   },
   {
    "duration": 457,
    "start_time": "2022-02-12T14:47:01.600Z"
   },
   {
    "duration": 280,
    "start_time": "2022-02-12T15:02:49.516Z"
   },
   {
    "duration": 3,
    "start_time": "2022-02-12T15:02:53.244Z"
   },
   {
    "duration": 5,
    "start_time": "2022-02-12T15:02:53.679Z"
   },
   {
    "duration": 4,
    "start_time": "2022-02-12T15:02:55.042Z"
   },
   {
    "duration": 3,
    "start_time": "2022-02-12T15:03:01.487Z"
   },
   {
    "duration": 10,
    "start_time": "2022-02-12T15:03:54.278Z"
   },
   {
    "duration": 5,
    "start_time": "2022-02-12T15:04:06.584Z"
   },
   {
    "duration": 10,
    "start_time": "2022-02-12T15:04:07.542Z"
   },
   {
    "duration": 10,
    "start_time": "2022-02-12T15:04:10.760Z"
   },
   {
    "duration": 5,
    "start_time": "2022-02-12T15:22:50.446Z"
   },
   {
    "duration": 5,
    "start_time": "2022-02-12T15:23:05.456Z"
   },
   {
    "duration": 268,
    "start_time": "2022-02-12T15:29:39.806Z"
   },
   {
    "duration": 44,
    "start_time": "2022-02-12T15:29:54.726Z"
   },
   {
    "duration": 43,
    "start_time": "2022-02-12T15:30:06.354Z"
   },
   {
    "duration": 266,
    "start_time": "2022-02-12T15:30:13.278Z"
   },
   {
    "duration": 305,
    "start_time": "2022-02-12T15:30:16.395Z"
   },
   {
    "duration": 44,
    "start_time": "2022-02-12T15:30:28.434Z"
   },
   {
    "duration": 44,
    "start_time": "2022-02-12T15:30:36.709Z"
   },
   {
    "duration": 44,
    "start_time": "2022-02-12T15:30:43.399Z"
   },
   {
    "duration": 43,
    "start_time": "2022-02-12T15:30:55.989Z"
   },
   {
    "duration": 44,
    "start_time": "2022-02-12T15:31:02.571Z"
   },
   {
    "duration": 44,
    "start_time": "2022-02-12T15:31:09.359Z"
   },
   {
    "duration": 45,
    "start_time": "2022-02-12T15:31:36.870Z"
   },
   {
    "duration": 50,
    "start_time": "2022-02-12T15:31:41.463Z"
   },
   {
    "duration": 51,
    "start_time": "2022-02-12T15:31:58.147Z"
   },
   {
    "duration": 53,
    "start_time": "2022-02-12T15:32:44.478Z"
   },
   {
    "duration": 3,
    "start_time": "2022-02-12T15:32:57.330Z"
   },
   {
    "duration": 4,
    "start_time": "2022-02-12T15:32:57.685Z"
   },
   {
    "duration": 280,
    "start_time": "2022-02-12T15:32:58.228Z"
   },
   {
    "duration": 1030,
    "start_time": "2022-02-12T15:33:10.403Z"
   },
   {
    "duration": 19,
    "start_time": "2022-02-12T15:33:11.435Z"
   },
   {
    "duration": 14,
    "start_time": "2022-02-12T15:33:11.459Z"
   },
   {
    "duration": 7,
    "start_time": "2022-02-12T15:33:11.475Z"
   },
   {
    "duration": 5,
    "start_time": "2022-02-12T15:33:11.484Z"
   },
   {
    "duration": 4,
    "start_time": "2022-02-12T15:33:11.490Z"
   },
   {
    "duration": 7,
    "start_time": "2022-02-12T15:33:11.496Z"
   },
   {
    "duration": 5,
    "start_time": "2022-02-12T15:33:11.527Z"
   },
   {
    "duration": 53,
    "start_time": "2022-02-12T15:33:11.533Z"
   },
   {
    "duration": 3187,
    "start_time": "2022-02-12T16:00:27.290Z"
   },
   {
    "duration": 3028,
    "start_time": "2022-02-12T16:01:48.967Z"
   },
   {
    "duration": 2959,
    "start_time": "2022-02-12T16:01:58.988Z"
   },
   {
    "duration": 3305,
    "start_time": "2022-02-12T16:03:36.429Z"
   },
   {
    "duration": 3275,
    "start_time": "2022-02-12T16:05:30.033Z"
   },
   {
    "duration": 10309,
    "start_time": "2022-02-12T16:38:37.489Z"
   },
   {
    "duration": 3,
    "start_time": "2022-02-12T16:40:04.419Z"
   },
   {
    "duration": 9117,
    "start_time": "2022-02-12T16:42:35.286Z"
   },
   {
    "duration": 9133,
    "start_time": "2022-02-12T16:43:05.772Z"
   },
   {
    "duration": 11456,
    "start_time": "2022-02-12T16:44:36.316Z"
   },
   {
    "duration": 11668,
    "start_time": "2022-02-12T16:47:28.671Z"
   },
   {
    "duration": 9698,
    "start_time": "2022-02-12T16:48:54.280Z"
   },
   {
    "duration": 950,
    "start_time": "2022-02-12T16:49:16.486Z"
   },
   {
    "duration": 18,
    "start_time": "2022-02-12T16:49:17.437Z"
   },
   {
    "duration": 13,
    "start_time": "2022-02-12T16:49:17.459Z"
   },
   {
    "duration": 6,
    "start_time": "2022-02-12T16:49:17.473Z"
   },
   {
    "duration": 4,
    "start_time": "2022-02-12T16:49:17.480Z"
   },
   {
    "duration": 22,
    "start_time": "2022-02-12T16:49:17.485Z"
   },
   {
    "duration": 106,
    "start_time": "2022-02-12T16:49:17.510Z"
   },
   {
    "duration": 79,
    "start_time": "2022-02-12T16:49:17.619Z"
   },
   {
    "duration": 111,
    "start_time": "2022-02-12T16:49:17.700Z"
   },
   {
    "duration": 10383,
    "start_time": "2022-02-12T16:49:17.813Z"
   },
   {
    "duration": 10320,
    "start_time": "2022-02-12T16:50:14.801Z"
   },
   {
    "duration": 9749,
    "start_time": "2022-02-12T16:50:32.866Z"
   },
   {
    "duration": 1027,
    "start_time": "2022-02-12T16:51:00.720Z"
   },
   {
    "duration": 19,
    "start_time": "2022-02-12T16:51:01.749Z"
   },
   {
    "duration": 13,
    "start_time": "2022-02-12T16:51:01.770Z"
   },
   {
    "duration": 18,
    "start_time": "2022-02-12T16:51:01.785Z"
   },
   {
    "duration": 8,
    "start_time": "2022-02-12T16:51:01.805Z"
   },
   {
    "duration": 4,
    "start_time": "2022-02-12T16:51:01.815Z"
   },
   {
    "duration": 7,
    "start_time": "2022-02-12T16:51:01.820Z"
   },
   {
    "duration": 10,
    "start_time": "2022-02-12T16:51:01.829Z"
   },
   {
    "duration": 5,
    "start_time": "2022-02-12T16:51:01.840Z"
   },
   {
    "duration": 9414,
    "start_time": "2022-02-12T16:51:01.847Z"
   },
   {
    "duration": 8976,
    "start_time": "2022-02-12T16:51:31.709Z"
   },
   {
    "duration": 8969,
    "start_time": "2022-02-12T16:52:58.817Z"
   },
   {
    "duration": 8932,
    "start_time": "2022-02-12T16:53:18.838Z"
   },
   {
    "duration": 8864,
    "start_time": "2022-02-12T16:57:02.478Z"
   },
   {
    "duration": 9227,
    "start_time": "2022-02-12T16:57:17.686Z"
   },
   {
    "duration": 9481,
    "start_time": "2022-02-12T16:57:38.469Z"
   },
   {
    "duration": 10149,
    "start_time": "2022-02-12T16:57:57.165Z"
   },
   {
    "duration": 4,
    "start_time": "2022-02-12T17:27:12.218Z"
   },
   {
    "duration": 9662,
    "start_time": "2022-02-12T17:27:18.204Z"
   },
   {
    "duration": 12350,
    "start_time": "2022-02-12T18:10:05.112Z"
   },
   {
    "duration": 992,
    "start_time": "2022-02-12T18:11:14.347Z"
   },
   {
    "duration": 19,
    "start_time": "2022-02-12T18:11:15.341Z"
   },
   {
    "duration": 14,
    "start_time": "2022-02-12T18:11:15.361Z"
   },
   {
    "duration": 7,
    "start_time": "2022-02-12T18:11:15.377Z"
   },
   {
    "duration": 5,
    "start_time": "2022-02-12T18:11:15.385Z"
   },
   {
    "duration": 5,
    "start_time": "2022-02-12T18:11:15.392Z"
   },
   {
    "duration": 5,
    "start_time": "2022-02-12T18:11:15.398Z"
   },
   {
    "duration": 23,
    "start_time": "2022-02-12T18:11:15.405Z"
   },
   {
    "duration": 3,
    "start_time": "2022-02-12T18:11:15.431Z"
   },
   {
    "duration": 13292,
    "start_time": "2022-02-12T18:11:15.436Z"
   },
   {
    "duration": 11957,
    "start_time": "2022-02-12T18:11:42.120Z"
   },
   {
    "duration": 9447,
    "start_time": "2022-02-12T18:12:11.363Z"
   },
   {
    "duration": 11653,
    "start_time": "2022-02-12T18:12:35.749Z"
   },
   {
    "duration": 38365,
    "start_time": "2022-02-12T18:16:03.772Z"
   },
   {
    "duration": 104734,
    "start_time": "2022-02-12T18:17:00.183Z"
   },
   {
    "duration": 11906,
    "start_time": "2022-02-12T18:26:01.074Z"
   },
   {
    "duration": 4,
    "start_time": "2022-02-12T18:26:35.051Z"
   },
   {
    "duration": 378,
    "start_time": "2022-02-12T18:52:14.163Z"
   },
   {
    "duration": 466,
    "start_time": "2022-02-12T18:53:46.667Z"
   },
   {
    "duration": 285,
    "start_time": "2022-02-12T18:54:09.666Z"
   },
   {
    "duration": 86,
    "start_time": "2022-02-12T18:57:55.494Z"
   },
   {
    "duration": 277,
    "start_time": "2022-02-12T18:58:05.368Z"
   },
   {
    "duration": 1371567,
    "start_time": "2022-02-12T18:58:18.037Z"
   },
   {
    "duration": 154755,
    "start_time": "2022-02-12T19:35:51.922Z"
   },
   {
    "duration": 175,
    "start_time": "2022-02-12T19:45:42.752Z"
   },
   {
    "duration": 154456,
    "start_time": "2022-02-12T19:45:48.152Z"
   },
   {
    "duration": 178,
    "start_time": "2022-02-12T19:50:36.370Z"
   },
   {
    "duration": 119070,
    "start_time": "2022-02-12T19:51:23.637Z"
   },
   {
    "duration": 43,
    "start_time": "2022-02-12T19:56:14.665Z"
   },
   {
    "duration": 953,
    "start_time": "2022-02-12T19:56:20.483Z"
   },
   {
    "duration": 18,
    "start_time": "2022-02-12T19:56:21.438Z"
   },
   {
    "duration": 13,
    "start_time": "2022-02-12T19:56:21.460Z"
   },
   {
    "duration": 6,
    "start_time": "2022-02-12T19:56:21.475Z"
   },
   {
    "duration": 5,
    "start_time": "2022-02-12T19:56:21.482Z"
   },
   {
    "duration": 4,
    "start_time": "2022-02-12T19:56:21.488Z"
   },
   {
    "duration": 6,
    "start_time": "2022-02-12T19:56:21.494Z"
   },
   {
    "duration": 27,
    "start_time": "2022-02-12T19:56:21.501Z"
   },
   {
    "duration": 4,
    "start_time": "2022-02-12T19:56:21.529Z"
   },
   {
    "duration": 187,
    "start_time": "2022-02-12T19:56:21.534Z"
   },
   {
    "duration": 83,
    "start_time": "2022-02-12T19:56:21.640Z"
   },
   {
    "duration": 183,
    "start_time": "2022-02-12T19:57:21.416Z"
   },
   {
    "duration": 179,
    "start_time": "2022-02-12T19:57:48.605Z"
   },
   {
    "duration": 180,
    "start_time": "2022-02-12T19:58:06.329Z"
   },
   {
    "duration": 952,
    "start_time": "2022-02-12T19:58:11.686Z"
   },
   {
    "duration": 19,
    "start_time": "2022-02-12T19:58:12.640Z"
   },
   {
    "duration": 13,
    "start_time": "2022-02-12T19:58:12.660Z"
   },
   {
    "duration": 5,
    "start_time": "2022-02-12T19:58:12.675Z"
   },
   {
    "duration": 4,
    "start_time": "2022-02-12T19:58:12.682Z"
   },
   {
    "duration": 7,
    "start_time": "2022-02-12T19:58:12.687Z"
   },
   {
    "duration": 5,
    "start_time": "2022-02-12T19:58:12.695Z"
   },
   {
    "duration": 6,
    "start_time": "2022-02-12T19:58:12.702Z"
   },
   {
    "duration": 17,
    "start_time": "2022-02-12T19:58:12.710Z"
   },
   {
    "duration": 170,
    "start_time": "2022-02-12T19:58:12.728Z"
   },
   {
    "duration": 51,
    "start_time": "2022-02-12T19:58:12.849Z"
   },
   {
    "duration": 981,
    "start_time": "2022-02-12T19:59:40.051Z"
   },
   {
    "duration": 18,
    "start_time": "2022-02-12T19:59:41.034Z"
   },
   {
    "duration": 13,
    "start_time": "2022-02-12T19:59:41.054Z"
   },
   {
    "duration": 14,
    "start_time": "2022-02-12T19:59:41.068Z"
   },
   {
    "duration": 11,
    "start_time": "2022-02-12T19:59:41.084Z"
   },
   {
    "duration": 10,
    "start_time": "2022-02-12T19:59:41.096Z"
   },
   {
    "duration": 10,
    "start_time": "2022-02-12T19:59:41.107Z"
   },
   {
    "duration": 7,
    "start_time": "2022-02-12T19:59:41.118Z"
   },
   {
    "duration": 13,
    "start_time": "2022-02-12T19:59:41.126Z"
   },
   {
    "duration": 180,
    "start_time": "2022-02-12T19:59:41.140Z"
   },
   {
    "duration": 12,
    "start_time": "2022-02-12T19:59:41.310Z"
   },
   {
    "duration": 1003,
    "start_time": "2022-02-12T20:01:04.031Z"
   },
   {
    "duration": 18,
    "start_time": "2022-02-12T20:01:05.036Z"
   },
   {
    "duration": 13,
    "start_time": "2022-02-12T20:01:05.056Z"
   },
   {
    "duration": 10,
    "start_time": "2022-02-12T20:01:05.070Z"
   },
   {
    "duration": 4,
    "start_time": "2022-02-12T20:01:05.082Z"
   },
   {
    "duration": 5,
    "start_time": "2022-02-12T20:01:05.087Z"
   },
   {
    "duration": 6,
    "start_time": "2022-02-12T20:01:05.093Z"
   },
   {
    "duration": 10,
    "start_time": "2022-02-12T20:01:05.100Z"
   },
   {
    "duration": 5,
    "start_time": "2022-02-12T20:01:05.111Z"
   },
   {
    "duration": 11810,
    "start_time": "2022-02-12T20:01:05.118Z"
   },
   {
    "duration": 599166,
    "start_time": "2022-02-12T20:01:16.930Z"
   },
   {
    "duration": 92,
    "start_time": "2022-02-12T20:18:42.829Z"
   },
   {
    "duration": 88,
    "start_time": "2022-02-12T20:19:03.784Z"
   },
   {
    "duration": 14917,
    "start_time": "2022-02-12T20:19:28.258Z"
   },
   {
    "duration": 61844,
    "start_time": "2022-02-12T20:20:38.262Z"
   },
   {
    "duration": 55706,
    "start_time": "2022-02-12T20:24:49.195Z"
   },
   {
    "duration": 55503,
    "start_time": "2022-02-12T20:28:03.931Z"
   },
   {
    "duration": 8211,
    "start_time": "2022-02-12T20:32:36.638Z"
   },
   {
    "duration": 680,
    "start_time": "2022-02-12T20:32:44.851Z"
   },
   {
    "duration": 55068,
    "start_time": "2022-02-12T20:32:51.100Z"
   },
   {
    "duration": 62169,
    "start_time": "2022-02-12T20:35:14.522Z"
   },
   {
    "duration": 60898,
    "start_time": "2022-02-12T20:45:55.716Z"
   },
   {
    "duration": 61440,
    "start_time": "2022-02-12T20:48:54.417Z"
   },
   {
    "duration": 391655,
    "start_time": "2022-02-12T20:50:18.630Z"
   },
   {
    "duration": 71448,
    "start_time": "2022-02-12T20:58:47.205Z"
   },
   {
    "duration": 188,
    "start_time": "2022-02-12T21:27:04.699Z"
   },
   {
    "duration": 101,
    "start_time": "2022-02-12T21:28:58.716Z"
   },
   {
    "duration": 186,
    "start_time": "2022-02-12T21:30:05.700Z"
   },
   {
    "duration": 193,
    "start_time": "2022-02-12T21:32:24.245Z"
   },
   {
    "duration": 259,
    "start_time": "2022-02-12T21:32:42.633Z"
   },
   {
    "duration": 255,
    "start_time": "2022-02-12T21:33:18.248Z"
   },
   {
    "duration": 252,
    "start_time": "2022-02-12T21:44:38.669Z"
   },
   {
    "duration": 248,
    "start_time": "2022-02-12T21:45:12.153Z"
   },
   {
    "duration": 262,
    "start_time": "2022-02-12T21:45:47.026Z"
   },
   {
    "duration": 278,
    "start_time": "2022-02-12T21:45:58.922Z"
   },
   {
    "duration": 2224,
    "start_time": "2022-02-12T21:51:30.844Z"
   },
   {
    "duration": 1549,
    "start_time": "2022-02-12T21:52:07.758Z"
   },
   {
    "duration": 128,
    "start_time": "2022-02-12T21:54:21.873Z"
   },
   {
    "duration": 131,
    "start_time": "2022-02-12T21:54:30.690Z"
   },
   {
    "duration": 872,
    "start_time": "2022-02-12T21:59:43.739Z"
   },
   {
    "duration": 874,
    "start_time": "2022-02-12T22:00:46.044Z"
   },
   {
    "duration": 870,
    "start_time": "2022-02-12T22:00:50.575Z"
   },
   {
    "duration": 96,
    "start_time": "2022-02-12T22:01:26.408Z"
   },
   {
    "duration": 1122,
    "start_time": "2022-02-12T22:02:33.527Z"
   },
   {
    "duration": 91,
    "start_time": "2022-02-12T22:03:00.335Z"
   },
   {
    "duration": 78,
    "start_time": "2022-02-12T22:03:06.787Z"
   },
   {
    "duration": 890,
    "start_time": "2022-02-12T22:06:00.909Z"
   },
   {
    "duration": 876,
    "start_time": "2022-02-12T22:06:04.946Z"
   },
   {
    "duration": 883,
    "start_time": "2022-02-12T22:06:39.348Z"
   },
   {
    "duration": 128,
    "start_time": "2022-02-12T22:10:38.976Z"
   },
   {
    "duration": 97,
    "start_time": "2022-02-12T22:14:05.038Z"
   },
   {
    "duration": 85,
    "start_time": "2022-02-12T22:14:15.854Z"
   },
   {
    "duration": 94,
    "start_time": "2022-02-12T22:14:53.603Z"
   },
   {
    "duration": 958,
    "start_time": "2022-02-12T22:15:04.778Z"
   },
   {
    "duration": 18,
    "start_time": "2022-02-12T22:15:05.738Z"
   },
   {
    "duration": 12,
    "start_time": "2022-02-12T22:15:05.758Z"
   },
   {
    "duration": 5,
    "start_time": "2022-02-12T22:15:05.772Z"
   },
   {
    "duration": 6,
    "start_time": "2022-02-12T22:15:05.779Z"
   },
   {
    "duration": 5,
    "start_time": "2022-02-12T22:15:05.786Z"
   },
   {
    "duration": 6,
    "start_time": "2022-02-12T22:15:05.792Z"
   },
   {
    "duration": 7,
    "start_time": "2022-02-12T22:15:05.800Z"
   },
   {
    "duration": 18,
    "start_time": "2022-02-12T22:15:05.809Z"
   },
   {
    "duration": 11780,
    "start_time": "2022-02-12T22:15:05.828Z"
   },
   {
    "duration": 60023,
    "start_time": "2022-02-12T22:15:17.609Z"
   },
   {
    "duration": 72038,
    "start_time": "2022-02-12T22:16:17.634Z"
   },
   {
    "duration": 128,
    "start_time": "2022-02-12T22:17:29.673Z"
   },
   {
    "duration": 94,
    "start_time": "2022-02-12T22:17:29.803Z"
   },
   {
    "duration": 97,
    "start_time": "2022-02-12T22:17:59.202Z"
   },
   {
    "duration": 4,
    "start_time": "2022-02-12T22:18:10.255Z"
   },
   {
    "duration": 5,
    "start_time": "2022-02-12T22:18:59.178Z"
   },
   {
    "duration": 4,
    "start_time": "2022-02-12T22:19:07.596Z"
   },
   {
    "duration": 47,
    "start_time": "2022-02-12T22:21:41.406Z"
   },
   {
    "duration": 5,
    "start_time": "2022-02-12T22:21:45.041Z"
   },
   {
    "duration": 117,
    "start_time": "2022-02-12T22:21:57.588Z"
   },
   {
    "duration": 4,
    "start_time": "2022-02-12T22:21:59.277Z"
   },
   {
    "duration": 1048,
    "start_time": "2022-02-13T09:59:47.194Z"
   },
   {
    "duration": 14,
    "start_time": "2022-02-13T09:59:48.243Z"
   },
   {
    "duration": 16,
    "start_time": "2022-02-13T09:59:48.259Z"
   },
   {
    "duration": 7,
    "start_time": "2022-02-13T09:59:48.276Z"
   },
   {
    "duration": 6,
    "start_time": "2022-02-13T09:59:48.284Z"
   },
   {
    "duration": 21,
    "start_time": "2022-02-13T09:59:48.292Z"
   },
   {
    "duration": 4,
    "start_time": "2022-02-13T09:59:48.315Z"
   },
   {
    "duration": 5,
    "start_time": "2022-02-13T09:59:48.321Z"
   },
   {
    "duration": 5,
    "start_time": "2022-02-13T09:59:48.328Z"
   },
   {
    "duration": 13155,
    "start_time": "2022-02-13T09:59:48.334Z"
   },
   {
    "duration": 67660,
    "start_time": "2022-02-13T10:00:01.491Z"
   },
   {
    "duration": 80118,
    "start_time": "2022-02-13T10:01:09.153Z"
   },
   {
    "duration": 157,
    "start_time": "2022-02-13T10:02:29.273Z"
   },
   {
    "duration": 4,
    "start_time": "2022-02-13T10:02:29.432Z"
   },
   {
    "duration": 4,
    "start_time": "2022-02-13T10:07:07.384Z"
   },
   {
    "duration": 4,
    "start_time": "2022-02-13T10:07:17.007Z"
   },
   {
    "duration": 4,
    "start_time": "2022-02-13T10:12:18.837Z"
   },
   {
    "duration": 322,
    "start_time": "2022-02-13T10:16:21.567Z"
   },
   {
    "duration": 219,
    "start_time": "2022-02-13T10:16:31.373Z"
   },
   {
    "duration": 227,
    "start_time": "2022-02-13T10:16:50.600Z"
   },
   {
    "duration": 8,
    "start_time": "2022-02-13T10:24:38.959Z"
   },
   {
    "duration": 7,
    "start_time": "2022-02-13T10:24:43.270Z"
   },
   {
    "duration": 1058,
    "start_time": "2022-02-13T10:25:08.297Z"
   },
   {
    "duration": 786,
    "start_time": "2022-02-13T10:25:30.956Z"
   },
   {
    "duration": 240,
    "start_time": "2022-02-13T10:27:13.708Z"
   },
   {
    "duration": 27,
    "start_time": "2022-02-13T10:27:57.176Z"
   },
   {
    "duration": 3,
    "start_time": "2022-02-13T10:30:01.852Z"
   },
   {
    "duration": 969,
    "start_time": "2022-02-13T10:32:53.576Z"
   },
   {
    "duration": 15,
    "start_time": "2022-02-13T10:32:54.546Z"
   },
   {
    "duration": 15,
    "start_time": "2022-02-13T10:32:54.563Z"
   },
   {
    "duration": 7,
    "start_time": "2022-02-13T10:32:54.580Z"
   },
   {
    "duration": 4,
    "start_time": "2022-02-13T10:32:54.589Z"
   },
   {
    "duration": 5,
    "start_time": "2022-02-13T10:32:54.613Z"
   },
   {
    "duration": 3,
    "start_time": "2022-02-13T10:32:54.620Z"
   },
   {
    "duration": 6,
    "start_time": "2022-02-13T10:32:54.626Z"
   },
   {
    "duration": 4,
    "start_time": "2022-02-13T10:32:54.633Z"
   },
   {
    "duration": 13348,
    "start_time": "2022-02-13T10:32:54.639Z"
   },
   {
    "duration": 69218,
    "start_time": "2022-02-13T10:33:07.988Z"
   },
   {
    "duration": 82825,
    "start_time": "2022-02-13T10:34:17.212Z"
   },
   {
    "duration": 154,
    "start_time": "2022-02-13T10:35:40.039Z"
   },
   {
    "duration": 6,
    "start_time": "2022-02-13T10:35:40.195Z"
   },
   {
    "duration": 9,
    "start_time": "2022-02-13T10:35:40.213Z"
   },
   {
    "duration": 834,
    "start_time": "2022-02-13T10:35:40.224Z"
   },
   {
    "duration": 26,
    "start_time": "2022-02-13T10:35:41.060Z"
   },
   {
    "duration": 3,
    "start_time": "2022-02-13T10:35:41.088Z"
   },
   {
    "duration": 4,
    "start_time": "2022-02-13T10:38:19.486Z"
   },
   {
    "duration": 796,
    "start_time": "2022-02-13T10:38:32.208Z"
   },
   {
    "duration": 5,
    "start_time": "2022-02-13T10:38:35.976Z"
   },
   {
    "duration": 736,
    "start_time": "2022-02-13T10:38:39.441Z"
   },
   {
    "duration": 24,
    "start_time": "2022-02-13T10:38:40.552Z"
   },
   {
    "duration": 4,
    "start_time": "2022-02-13T10:38:41.348Z"
   },
   {
    "duration": 618,
    "start_time": "2022-02-13T10:38:58.983Z"
   },
   {
    "duration": 29,
    "start_time": "2022-02-13T10:38:59.603Z"
   },
   {
    "duration": 4,
    "start_time": "2022-02-13T10:39:00.207Z"
   },
   {
    "duration": 701,
    "start_time": "2022-02-13T10:39:05.107Z"
   },
   {
    "duration": 29,
    "start_time": "2022-02-13T10:39:05.810Z"
   },
   {
    "duration": 4,
    "start_time": "2022-02-13T10:39:06.011Z"
   },
   {
    "duration": 510,
    "start_time": "2022-02-13T10:39:10.548Z"
   },
   {
    "duration": 26,
    "start_time": "2022-02-13T10:39:11.060Z"
   },
   {
    "duration": 4,
    "start_time": "2022-02-13T10:39:11.239Z"
   },
   {
    "duration": 259,
    "start_time": "2022-02-13T10:39:14.727Z"
   },
   {
    "duration": 26,
    "start_time": "2022-02-13T10:39:15.145Z"
   },
   {
    "duration": 4,
    "start_time": "2022-02-13T10:39:15.677Z"
   },
   {
    "duration": 157,
    "start_time": "2022-02-13T10:39:31.369Z"
   },
   {
    "duration": 26,
    "start_time": "2022-02-13T10:39:31.903Z"
   },
   {
    "duration": 4,
    "start_time": "2022-02-13T10:39:32.395Z"
   },
   {
    "duration": 202,
    "start_time": "2022-02-13T10:39:36.461Z"
   },
   {
    "duration": 26,
    "start_time": "2022-02-13T10:39:36.829Z"
   },
   {
    "duration": 4,
    "start_time": "2022-02-13T10:39:37.244Z"
   },
   {
    "duration": 226,
    "start_time": "2022-02-13T10:39:42.286Z"
   },
   {
    "duration": 26,
    "start_time": "2022-02-13T10:39:42.746Z"
   },
   {
    "duration": 3,
    "start_time": "2022-02-13T10:39:43.376Z"
   },
   {
    "duration": 254,
    "start_time": "2022-02-13T10:39:47.690Z"
   },
   {
    "duration": 26,
    "start_time": "2022-02-13T10:39:48.180Z"
   },
   {
    "duration": 4,
    "start_time": "2022-02-13T10:39:48.693Z"
   },
   {
    "duration": 1035,
    "start_time": "2022-02-13T10:40:32.963Z"
   },
   {
    "duration": 30,
    "start_time": "2022-02-13T10:40:34.000Z"
   },
   {
    "duration": 3,
    "start_time": "2022-02-13T10:40:34.032Z"
   },
   {
    "duration": 1226,
    "start_time": "2022-02-13T10:40:38.343Z"
   },
   {
    "duration": 24,
    "start_time": "2022-02-13T10:40:39.571Z"
   },
   {
    "duration": 4,
    "start_time": "2022-02-13T10:40:39.597Z"
   },
   {
    "duration": 845,
    "start_time": "2022-02-13T10:44:16.076Z"
   },
   {
    "duration": 27,
    "start_time": "2022-02-13T10:44:16.923Z"
   },
   {
    "duration": 4,
    "start_time": "2022-02-13T10:44:16.985Z"
   },
   {
    "duration": 3,
    "start_time": "2022-02-13T10:56:18.731Z"
   },
   {
    "duration": 6,
    "start_time": "2022-02-13T10:58:23.143Z"
   },
   {
    "duration": 3,
    "start_time": "2022-02-13T10:59:12.431Z"
   },
   {
    "duration": 14,
    "start_time": "2022-02-13T10:59:27.969Z"
   },
   {
    "duration": 4,
    "start_time": "2022-02-13T10:59:28.838Z"
   },
   {
    "duration": 103,
    "start_time": "2022-02-13T11:00:04.566Z"
   },
   {
    "duration": 4,
    "start_time": "2022-02-13T11:00:05.157Z"
   },
   {
    "duration": 7,
    "start_time": "2022-02-13T11:00:12.078Z"
   },
   {
    "duration": 795,
    "start_time": "2022-02-13T11:00:14.831Z"
   },
   {
    "duration": 13,
    "start_time": "2022-02-13T11:00:16.237Z"
   },
   {
    "duration": 3,
    "start_time": "2022-02-13T11:00:18.958Z"
   },
   {
    "duration": 13,
    "start_time": "2022-02-13T11:00:55.238Z"
   },
   {
    "duration": 3,
    "start_time": "2022-02-13T11:00:56.079Z"
   },
   {
    "duration": 3,
    "start_time": "2022-02-13T11:01:41.706Z"
   },
   {
    "duration": 70,
    "start_time": "2022-02-13T11:06:44.634Z"
   },
   {
    "duration": 4,
    "start_time": "2022-02-13T11:32:30.121Z"
   },
   {
    "duration": 5,
    "start_time": "2022-02-13T11:32:35.494Z"
   },
   {
    "duration": 4,
    "start_time": "2022-02-13T11:36:26.303Z"
   },
   {
    "duration": 1020,
    "start_time": "2022-02-13T11:52:12.362Z"
   },
   {
    "duration": 15,
    "start_time": "2022-02-13T11:52:13.384Z"
   },
   {
    "duration": 23,
    "start_time": "2022-02-13T11:52:13.404Z"
   },
   {
    "duration": 8,
    "start_time": "2022-02-13T11:52:13.429Z"
   },
   {
    "duration": 6,
    "start_time": "2022-02-13T11:52:13.438Z"
   },
   {
    "duration": 6,
    "start_time": "2022-02-13T11:52:13.446Z"
   },
   {
    "duration": 7,
    "start_time": "2022-02-13T11:52:13.455Z"
   },
   {
    "duration": 8,
    "start_time": "2022-02-13T11:52:13.464Z"
   },
   {
    "duration": 39,
    "start_time": "2022-02-13T11:52:13.474Z"
   },
   {
    "duration": 13557,
    "start_time": "2022-02-13T11:52:13.515Z"
   },
   {
    "duration": 68627,
    "start_time": "2022-02-13T11:52:27.073Z"
   },
   {
    "duration": 81360,
    "start_time": "2022-02-13T11:53:35.701Z"
   },
   {
    "duration": 107,
    "start_time": "2022-02-13T11:54:57.063Z"
   },
   {
    "duration": 4,
    "start_time": "2022-02-13T11:54:57.172Z"
   },
   {
    "duration": 6,
    "start_time": "2022-02-13T11:54:57.178Z"
   },
   {
    "duration": 791,
    "start_time": "2022-02-13T11:54:57.185Z"
   },
   {
    "duration": 13,
    "start_time": "2022-02-13T11:54:57.977Z"
   },
   {
    "duration": 4,
    "start_time": "2022-02-13T11:54:57.992Z"
   },
   {
    "duration": 18,
    "start_time": "2022-02-13T11:54:57.997Z"
   },
   {
    "duration": 4,
    "start_time": "2022-02-13T11:54:58.016Z"
   },
   {
    "duration": 14,
    "start_time": "2022-02-13T12:05:23.474Z"
   },
   {
    "duration": 5690,
    "start_time": "2022-02-13T12:05:30.775Z"
   },
   {
    "duration": 6,
    "start_time": "2022-02-13T12:05:37.846Z"
   },
   {
    "duration": 227,
    "start_time": "2022-02-13T12:05:47.017Z"
   },
   {
    "duration": 8,
    "start_time": "2022-02-13T12:05:58.204Z"
   },
   {
    "duration": 7,
    "start_time": "2022-02-13T12:06:19.131Z"
   },
   {
    "duration": 7,
    "start_time": "2022-02-13T12:08:46.868Z"
   },
   {
    "duration": 8,
    "start_time": "2022-02-13T12:08:51.191Z"
   },
   {
    "duration": 7,
    "start_time": "2022-02-13T12:08:56.973Z"
   }
  ],
  "kernelspec": {
   "display_name": "Python 3 (ipykernel)",
   "language": "python",
   "name": "python3"
  },
  "language_info": {
   "codemirror_mode": {
    "name": "ipython",
    "version": 3
   },
   "file_extension": ".py",
   "mimetype": "text/x-python",
   "name": "python",
   "nbconvert_exporter": "python",
   "pygments_lexer": "ipython3",
   "version": "3.9.5"
  },
  "toc": {
   "base_numbering": 1,
   "nav_menu": {},
   "number_sections": true,
   "sideBar": true,
   "skip_h1_title": true,
   "title_cell": "Table of Contents",
   "title_sidebar": "Contents",
   "toc_cell": false,
   "toc_position": {},
   "toc_section_display": true,
   "toc_window_display": false
  }
 },
 "nbformat": 4,
 "nbformat_minor": 2
}
