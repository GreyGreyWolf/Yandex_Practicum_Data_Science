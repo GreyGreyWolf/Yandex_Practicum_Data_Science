{
 "cells": [
  {
   "cell_type": "markdown",
   "metadata": {
    "toc": true
   },
   "source": [
    "<h1>Содержание<span class=\"tocSkip\"></span></h1>\n",
    "<div class=\"toc\"><ul class=\"toc-item\"><li><span><a href=\"#Подготовка\" data-toc-modified-id=\"Подготовка-1\"><span class=\"toc-item-num\">1&nbsp;&nbsp;</span>Подготовка</a></span><ul class=\"toc-item\"><li><span><a href=\"#Тренировочная-и-тестовая-выборки\" data-toc-modified-id=\"Тренировочная-и-тестовая-выборки-1.1\"><span class=\"toc-item-num\">1.1&nbsp;&nbsp;</span>Тренировочная и тестовая выборки</a></span></li><li><span><a href=\"#Метод-векторизации-&quot;TF-IDF&quot;\" data-toc-modified-id=\"Метод-векторизации-&quot;TF-IDF&quot;-1.2\"><span class=\"toc-item-num\">1.2&nbsp;&nbsp;</span>Метод векторизации \"TF-IDF\"</a></span></li><li><span><a href=\"#Заключение\" data-toc-modified-id=\"Заключение-1.3\"><span class=\"toc-item-num\">1.3&nbsp;&nbsp;</span>Заключение</a></span></li></ul></li><li><span><a href=\"#Обучение\" data-toc-modified-id=\"Обучение-2\"><span class=\"toc-item-num\">2&nbsp;&nbsp;</span>Обучение</a></span><ul class=\"toc-item\"><li><span><a href=\"#Модель-LogisticRegression\" data-toc-modified-id=\"Модель-LogisticRegression-2.1\"><span class=\"toc-item-num\">2.1&nbsp;&nbsp;</span>Модель LogisticRegression</a></span></li><li><span><a href=\"#Модель-DecisionTreeClassifier\" data-toc-modified-id=\"Модель-DecisionTreeClassifier-2.2\"><span class=\"toc-item-num\">2.2&nbsp;&nbsp;</span>Модель DecisionTreeClassifier</a></span></li><li><span><a href=\"#Модель-LinearSVC\" data-toc-modified-id=\"Модель-LinearSVC-2.3\"><span class=\"toc-item-num\">2.3&nbsp;&nbsp;</span>Модель LinearSVC</a></span></li><li><span><a href=\"#Модель-MultinomialNB\" data-toc-modified-id=\"Модель-MultinomialNB-2.4\"><span class=\"toc-item-num\">2.4&nbsp;&nbsp;</span>Модель MultinomialNB</a></span></li><li><span><a href=\"#Модель-KNeighborsClassifier\" data-toc-modified-id=\"Модель-KNeighborsClassifier-2.5\"><span class=\"toc-item-num\">2.5&nbsp;&nbsp;</span>Модель KNeighborsClassifier</a></span></li></ul></li><li><span><a href=\"#Тестирование\" data-toc-modified-id=\"Тестирование-3\"><span class=\"toc-item-num\">3&nbsp;&nbsp;</span>Тестирование</a></span><ul class=\"toc-item\"><li><span><a href=\"#Модель-LogisticRegression\" data-toc-modified-id=\"Модель-LogisticRegression-3.1\"><span class=\"toc-item-num\">3.1&nbsp;&nbsp;</span>Модель LogisticRegression</a></span></li><li><span><a href=\"#Модель-DecisionTreeClassifier\" data-toc-modified-id=\"Модель-DecisionTreeClassifier-3.2\"><span class=\"toc-item-num\">3.2&nbsp;&nbsp;</span>Модель DecisionTreeClassifier</a></span></li><li><span><a href=\"#Модель-LinearSVC\" data-toc-modified-id=\"Модель-LinearSVC-3.3\"><span class=\"toc-item-num\">3.3&nbsp;&nbsp;</span>Модель LinearSVC</a></span></li><li><span><a href=\"#Модель-MultinomialNB\" data-toc-modified-id=\"Модель-MultinomialNB-3.4\"><span class=\"toc-item-num\">3.4&nbsp;&nbsp;</span>Модель MultinomialNB</a></span></li><li><span><a href=\"#Модель-KNeighborsClassifier\" data-toc-modified-id=\"Модель-KNeighborsClassifier-3.5\"><span class=\"toc-item-num\">3.5&nbsp;&nbsp;</span>Модель KNeighborsClassifier</a></span></li></ul></li><li><span><a href=\"#Выводы\" data-toc-modified-id=\"Выводы-4\"><span class=\"toc-item-num\">4&nbsp;&nbsp;</span>Выводы</a></span></li><li><span><a href=\"#Вывод\" data-toc-modified-id=\"Вывод-5\"><span class=\"toc-item-num\">5&nbsp;&nbsp;</span>Вывод</a></span></li><li><span><a href=\"#Чек-лист-проверки\" data-toc-modified-id=\"Чек-лист-проверки-6\"><span class=\"toc-item-num\">6&nbsp;&nbsp;</span>Чек-лист проверки</a></span></li></ul></div>"
   ]
  },
  {
   "cell_type": "markdown",
   "metadata": {},
   "source": [
    "# Проект для «Викишоп»"
   ]
  },
  {
   "cell_type": "markdown",
   "metadata": {},
   "source": [
    "Интернет-магазин «Викишоп» запускает новый сервис. Теперь пользователи могут редактировать и дополнять описания товаров, как в вики-сообществах. То есть клиенты предлагают свои правки и комментируют изменения других. Магазину нужен инструмент, который будет искать токсичные комментарии и отправлять их на модерацию. \n",
    "\n",
    "Обучите модель классифицировать комментарии на позитивные и негативные. В вашем распоряжении набор данных с разметкой о токсичности правок.\n",
    "\n",
    "Постройте модель со значением метрики качества *F1* не меньше 0.75. \n",
    "\n",
    "**Инструкция по выполнению проекта**\n",
    "\n",
    "1. Загрузите и подготовьте данные.\n",
    "2. Обучите разные модели. \n",
    "3. Сделайте выводы.\n",
    "\n",
    "Для выполнения проекта применять *BERT* необязательно, но вы можете попробовать.\n",
    "\n",
    "**Описание данных**\n",
    "\n",
    "Данные находятся в файле `toxic_comments.csv`. Столбец *text* в нём содержит текст комментария, а *toxic* — целевой признак."
   ]
  },
  {
   "cell_type": "markdown",
   "metadata": {},
   "source": [
    "## Подготовка"
   ]
  },
  {
   "cell_type": "markdown",
   "metadata": {},
   "source": [
    "**Загрузим библиотеки**"
   ]
  },
  {
   "cell_type": "code",
   "execution_count": 1,
   "metadata": {},
   "outputs": [],
   "source": [
    "import pandas as pd\n",
    "import matplotlib.pyplot as plt\n",
    "import seaborn as sns\n",
    "import re\n",
    "import nltk\n",
    "import numpy as np\n",
    "from numpy.random import RandomState\n",
    "from nltk.corpus import stopwords, wordnet\n",
    "from sklearn.feature_extraction.text import TfidfVectorizer\n",
    "from sklearn.model_selection import train_test_split, RandomizedSearchCV\n",
    "from sklearn.metrics import f1_score, roc_curve, roc_auc_score\n",
    "from nltk.stem import WordNetLemmatizer \n",
    "from sklearn.linear_model import LogisticRegression\n",
    "from sklearn.svm import LinearSVC\n",
    "from sklearn.naive_bayes import MultinomialNB\n",
    "from sklearn.neighbors import KNeighborsClassifier\n",
    "from sklearn.tree import DecisionTreeClassifier\n",
    "\n",
    "\n",
    "import warnings\n",
    "warnings.filterwarnings(\"ignore\")"
   ]
  },
  {
   "cell_type": "markdown",
   "metadata": {},
   "source": [
    "**Подгрузим датасет**"
   ]
  },
  {
   "cell_type": "code",
   "execution_count": 2,
   "metadata": {},
   "outputs": [],
   "source": [
    "data = pd.read_csv('/datasets/toxic_comments.csv')"
   ]
  },
  {
   "cell_type": "markdown",
   "metadata": {},
   "source": [
    "**Посмотрим на общую информацию**"
   ]
  },
  {
   "cell_type": "code",
   "execution_count": 3,
   "metadata": {},
   "outputs": [
    {
     "name": "stdout",
     "output_type": "stream",
     "text": [
      "<class 'pandas.core.frame.DataFrame'>\n",
      "RangeIndex: 159571 entries, 0 to 159570\n",
      "Data columns (total 2 columns):\n",
      " #   Column  Non-Null Count   Dtype \n",
      "---  ------  --------------   ----- \n",
      " 0   text    159571 non-null  object\n",
      " 1   toxic   159571 non-null  int64 \n",
      "dtypes: int64(1), object(1)\n",
      "memory usage: 2.4+ MB\n"
     ]
    }
   ],
   "source": [
    "data.info()"
   ]
  },
  {
   "cell_type": "markdown",
   "metadata": {},
   "source": [
    "**Пропуски в наборе данных отсутствуют, а тип данных соответствует содержимому.**"
   ]
  },
  {
   "cell_type": "markdown",
   "metadata": {},
   "source": [
    "**Посмотрим на содержимое данных.**"
   ]
  },
  {
   "cell_type": "code",
   "execution_count": 4,
   "metadata": {},
   "outputs": [],
   "source": [
    "pd.set_option('display.max_colwidth', 1000)"
   ]
  },
  {
   "cell_type": "code",
   "execution_count": 5,
   "metadata": {},
   "outputs": [
    {
     "data": {
      "text/html": [
       "<div>\n",
       "<style scoped>\n",
       "    .dataframe tbody tr th:only-of-type {\n",
       "        vertical-align: middle;\n",
       "    }\n",
       "\n",
       "    .dataframe tbody tr th {\n",
       "        vertical-align: top;\n",
       "    }\n",
       "\n",
       "    .dataframe thead th {\n",
       "        text-align: right;\n",
       "    }\n",
       "</style>\n",
       "<table border=\"1\" class=\"dataframe\">\n",
       "  <thead>\n",
       "    <tr style=\"text-align: right;\">\n",
       "      <th></th>\n",
       "      <th>text</th>\n",
       "      <th>toxic</th>\n",
       "    </tr>\n",
       "  </thead>\n",
       "  <tbody>\n",
       "    <tr>\n",
       "      <th>0</th>\n",
       "      <td>Explanation\\nWhy the edits made under my username Hardcore Metallica Fan were reverted? They weren't vandalisms, just closure on some GAs after I voted at New York Dolls FAC. And please don't remove the template from the talk page since I'm retired now.89.205.38.27</td>\n",
       "      <td>0</td>\n",
       "    </tr>\n",
       "    <tr>\n",
       "      <th>1</th>\n",
       "      <td>D'aww! He matches this background colour I'm seemingly stuck with. Thanks.  (talk) 21:51, January 11, 2016 (UTC)</td>\n",
       "      <td>0</td>\n",
       "    </tr>\n",
       "    <tr>\n",
       "      <th>2</th>\n",
       "      <td>Hey man, I'm really not trying to edit war. It's just that this guy is constantly removing relevant information and talking to me through edits instead of my talk page. He seems to care more about the formatting than the actual info.</td>\n",
       "      <td>0</td>\n",
       "    </tr>\n",
       "    <tr>\n",
       "      <th>3</th>\n",
       "      <td>\"\\nMore\\nI can't make any real suggestions on improvement - I wondered if the section statistics should be later on, or a subsection of \"\"types of accidents\"\"  -I think the references may need tidying so that they are all in the exact same format ie date format etc. I can do that later on, if no-one else does first - if you have any preferences for formatting style on references or want to do it yourself please let me know.\\n\\nThere appears to be a backlog on articles for review so I guess there may be a delay until a reviewer turns up. It's listed in the relevant form eg Wikipedia:Good_article_nominations#Transport  \"</td>\n",
       "      <td>0</td>\n",
       "    </tr>\n",
       "    <tr>\n",
       "      <th>4</th>\n",
       "      <td>You, sir, are my hero. Any chance you remember what page that's on?</td>\n",
       "      <td>0</td>\n",
       "    </tr>\n",
       "  </tbody>\n",
       "</table>\n",
       "</div>"
      ],
      "text/plain": [
       "                                                                                                                                                                                                                                                                                                                                                                                                                                                                                                                                                                                                                                                 text  \\\n",
       "0                                                                                                                                                                                                                                                                                                                                                                           Explanation\\nWhy the edits made under my username Hardcore Metallica Fan were reverted? They weren't vandalisms, just closure on some GAs after I voted at New York Dolls FAC. And please don't remove the template from the talk page since I'm retired now.89.205.38.27   \n",
       "1                                                                                                                                                                                                                                                                                                                                                                                                                                                                                                                                    D'aww! He matches this background colour I'm seemingly stuck with. Thanks.  (talk) 21:51, January 11, 2016 (UTC)   \n",
       "2                                                                                                                                                                                                                                                                                                                                                                                                           Hey man, I'm really not trying to edit war. It's just that this guy is constantly removing relevant information and talking to me through edits instead of my talk page. He seems to care more about the formatting than the actual info.   \n",
       "3  \"\\nMore\\nI can't make any real suggestions on improvement - I wondered if the section statistics should be later on, or a subsection of \"\"types of accidents\"\"  -I think the references may need tidying so that they are all in the exact same format ie date format etc. I can do that later on, if no-one else does first - if you have any preferences for formatting style on references or want to do it yourself please let me know.\\n\\nThere appears to be a backlog on articles for review so I guess there may be a delay until a reviewer turns up. It's listed in the relevant form eg Wikipedia:Good_article_nominations#Transport  \"   \n",
       "4                                                                                                                                                                                                                                                                                                                                                                                                                                                                                                                                                                                 You, sir, are my hero. Any chance you remember what page that's on?   \n",
       "\n",
       "   toxic  \n",
       "0      0  \n",
       "1      0  \n",
       "2      0  \n",
       "3      0  \n",
       "4      0  "
      ]
     },
     "execution_count": 5,
     "metadata": {},
     "output_type": "execute_result"
    }
   ],
   "source": [
    "data.head()"
   ]
  },
  {
   "cell_type": "markdown",
   "metadata": {},
   "source": [
    "**Текст комеентариев написан на английском языке. В дальнейшем нужно подобрат корректный лемматизатор.**"
   ]
  },
  {
   "cell_type": "markdown",
   "metadata": {},
   "source": [
    "**Проверим, есть ли дубликаты в наборе.**"
   ]
  },
  {
   "cell_type": "code",
   "execution_count": 6,
   "metadata": {
    "scrolled": true
   },
   "outputs": [
    {
     "name": "stdout",
     "output_type": "stream",
     "text": [
      "\n",
      "Количество дубликатов в наборе данных - 0\n"
     ]
    }
   ],
   "source": [
    "print('\\nКоличество дубликатов в наборе данных -', data.duplicated().sum())"
   ]
  },
  {
   "cell_type": "markdown",
   "metadata": {},
   "source": [
    "**Посмотрим на баланс классов.**"
   ]
  },
  {
   "cell_type": "code",
   "execution_count": 7,
   "metadata": {
    "scrolled": false
   },
   "outputs": [
    {
     "data": {
      "image/png": "[encoded data removed]",
      "text/plain": [
       "<Figure size 1080x360 with 1 Axes>"
      ]
     },
     "metadata": {
      "needs_background": "light"
     },
     "output_type": "display_data"
    }
   ],
   "source": [
    "plt.figure(figsize=[15, 5])\n",
    "plt.title('ГРАФИК БАЛАНСА КЛАССОВ В ЦЕЛЕВОМ ПРИЗНАКЕ.', fontsize=15)\n",
    "palette = {0: 'tab:red', 1: 'tab:green'}\n",
    "sns.set_style('darkgrid')\n",
    "sns.barplot(x=data['toxic'].value_counts().index,\n",
    "            y=data['toxic'].value_counts(),\n",
    "            hue=data['toxic'].value_counts().index,\n",
    "           palette=palette)\n",
    "plt.ylabel('Количество', fontsize=13)\n",
    "plt.xlabel('Классы', fontsize=13)\n",
    "plt.grid(True)\n",
    "negative_class = data['toxic'].value_counts(normalize=True)[0]\n",
    "positive_class = data['toxic'].value_counts(normalize=True)[1]\n",
    "plt.legend(title=f'Отрицательный класс - {negative_class:.2f}%, Положительный класс - {positive_class:.2f}%', \n",
    "           loc='center', \n",
    "           edgecolor = 'r',\n",
    "           facecolor = 'oldlace',\n",
    "           bbox_to_anchor=(0.5, -0.25))\n",
    "plt.show();"
   ]
  },
  {
   "cell_type": "markdown",
   "metadata": {},
   "source": [
    "**Присутствует дисбаланс классов.**"
   ]
  },
  {
   "cell_type": "markdown",
   "metadata": {},
   "source": [
    "**Рассмотрим тест комментариев.**"
   ]
  },
  {
   "cell_type": "code",
   "execution_count": 8,
   "metadata": {
    "scrolled": true
   },
   "outputs": [
    {
     "data": {
      "text/html": [
       "<div>\n",
       "<style scoped>\n",
       "    .dataframe tbody tr th:only-of-type {\n",
       "        vertical-align: middle;\n",
       "    }\n",
       "\n",
       "    .dataframe tbody tr th {\n",
       "        vertical-align: top;\n",
       "    }\n",
       "\n",
       "    .dataframe thead th {\n",
       "        text-align: right;\n",
       "    }\n",
       "</style>\n",
       "<table border=\"1\" class=\"dataframe\">\n",
       "  <thead>\n",
       "    <tr style=\"text-align: right;\">\n",
       "      <th></th>\n",
       "      <th>text</th>\n",
       "      <th>toxic</th>\n",
       "    </tr>\n",
       "  </thead>\n",
       "  <tbody>\n",
       "    <tr>\n",
       "      <th>0</th>\n",
       "      <td>Explanation\\nWhy the edits made under my username Hardcore Metallica Fan were reverted? They weren't vandalisms, just closure on some GAs after I voted at New York Dolls FAC. And please don't remove the template from the talk page since I'm retired now.89.205.38.27</td>\n",
       "      <td>0</td>\n",
       "    </tr>\n",
       "    <tr>\n",
       "      <th>1</th>\n",
       "      <td>D'aww! He matches this background colour I'm seemingly stuck with. Thanks.  (talk) 21:51, January 11, 2016 (UTC)</td>\n",
       "      <td>0</td>\n",
       "    </tr>\n",
       "    <tr>\n",
       "      <th>2</th>\n",
       "      <td>Hey man, I'm really not trying to edit war. It's just that this guy is constantly removing relevant information and talking to me through edits instead of my talk page. He seems to care more about the formatting than the actual info.</td>\n",
       "      <td>0</td>\n",
       "    </tr>\n",
       "    <tr>\n",
       "      <th>3</th>\n",
       "      <td>\"\\nMore\\nI can't make any real suggestions on improvement - I wondered if the section statistics should be later on, or a subsection of \"\"types of accidents\"\"  -I think the references may need tidying so that they are all in the exact same format ie date format etc. I can do that later on, if no-one else does first - if you have any preferences for formatting style on references or want to do it yourself please let me know.\\n\\nThere appears to be a backlog on articles for review so I guess there may be a delay until a reviewer turns up. It's listed in the relevant form eg Wikipedia:Good_article_nominations#Transport  \"</td>\n",
       "      <td>0</td>\n",
       "    </tr>\n",
       "    <tr>\n",
       "      <th>4</th>\n",
       "      <td>You, sir, are my hero. Any chance you remember what page that's on?</td>\n",
       "      <td>0</td>\n",
       "    </tr>\n",
       "  </tbody>\n",
       "</table>\n",
       "</div>"
      ],
      "text/plain": [
       "                                                                                                                                                                                                                                                                                                                                                                                                                                                                                                                                                                                                                                                 text  \\\n",
       "0                                                                                                                                                                                                                                                                                                                                                                           Explanation\\nWhy the edits made under my username Hardcore Metallica Fan were reverted? They weren't vandalisms, just closure on some GAs after I voted at New York Dolls FAC. And please don't remove the template from the talk page since I'm retired now.89.205.38.27   \n",
       "1                                                                                                                                                                                                                                                                                                                                                                                                                                                                                                                                    D'aww! He matches this background colour I'm seemingly stuck with. Thanks.  (talk) 21:51, January 11, 2016 (UTC)   \n",
       "2                                                                                                                                                                                                                                                                                                                                                                                                           Hey man, I'm really not trying to edit war. It's just that this guy is constantly removing relevant information and talking to me through edits instead of my talk page. He seems to care more about the formatting than the actual info.   \n",
       "3  \"\\nMore\\nI can't make any real suggestions on improvement - I wondered if the section statistics should be later on, or a subsection of \"\"types of accidents\"\"  -I think the references may need tidying so that they are all in the exact same format ie date format etc. I can do that later on, if no-one else does first - if you have any preferences for formatting style on references or want to do it yourself please let me know.\\n\\nThere appears to be a backlog on articles for review so I guess there may be a delay until a reviewer turns up. It's listed in the relevant form eg Wikipedia:Good_article_nominations#Transport  \"   \n",
       "4                                                                                                                                                                                                                                                                                                                                                                                                                                                                                                                                                                                 You, sir, are my hero. Any chance you remember what page that's on?   \n",
       "\n",
       "   toxic  \n",
       "0      0  \n",
       "1      0  \n",
       "2      0  \n",
       "3      0  \n",
       "4      0  "
      ]
     },
     "execution_count": 8,
     "metadata": {},
     "output_type": "execute_result"
    }
   ],
   "source": [
    "data.head()"
   ]
  },
  {
   "cell_type": "markdown",
   "metadata": {},
   "source": [
    "**В тексте присутствуют неинформативные символы. Для улучшения работы будущих моделей необходимо \"почистить\" текст.**"
   ]
  },
  {
   "cell_type": "code",
   "execution_count": 9,
   "metadata": {},
   "outputs": [],
   "source": [
    "data = data.sample(50000).reset_index(drop=True)"
   ]
  },
  {
   "cell_type": "code",
   "execution_count": 10,
   "metadata": {},
   "outputs": [],
   "source": [
    "def clear_text(dirty_string):\n",
    "    new_string = dirty_string.lower()\n",
    "    new_string = re.sub(r\"(?:\\n|\\r)\", \"\", new_string)\n",
    "    new_string = re.sub(r'[^a-zA-Z\\ ]', \" \", new_string).strip()\n",
    "    return new_string"
   ]
  },
  {
   "cell_type": "code",
   "execution_count": 11,
   "metadata": {},
   "outputs": [
    {
     "name": "stdout",
     "output_type": "stream",
     "text": [
      "CPU times: user 730 ms, sys: 11 ms, total: 741 ms\n",
      "Wall time: 759 ms\n"
     ]
    }
   ],
   "source": [
    "%%time\n",
    "data['text'] = data['text'].apply(clear_text)"
   ]
  },
  {
   "cell_type": "code",
   "execution_count": 12,
   "metadata": {
    "scrolled": true
   },
   "outputs": [
    {
     "data": {
      "text/html": [
       "<div>\n",
       "<style scoped>\n",
       "    .dataframe tbody tr th:only-of-type {\n",
       "        vertical-align: middle;\n",
       "    }\n",
       "\n",
       "    .dataframe tbody tr th {\n",
       "        vertical-align: top;\n",
       "    }\n",
       "\n",
       "    .dataframe thead th {\n",
       "        text-align: right;\n",
       "    }\n",
       "</style>\n",
       "<table border=\"1\" class=\"dataframe\">\n",
       "  <thead>\n",
       "    <tr style=\"text-align: right;\">\n",
       "      <th></th>\n",
       "      <th>text</th>\n",
       "      <th>toxic</th>\n",
       "    </tr>\n",
       "  </thead>\n",
       "  <tbody>\n",
       "    <tr>\n",
       "      <th>0</th>\n",
       "      <td>as an islamist you don t   find it shocking to see someone drinking    drinking what   alcohol   gasoline  piss   can you have a great conversation with someone who is intoxicated  in vino veritas</td>\n",
       "      <td>1</td>\n",
       "    </tr>\n",
       "    <tr>\n",
       "      <th>1</th>\n",
       "      <td>no it wasn t scrapped  alicia s version remains as the original and    cent s version is just a sample of it  also  her version charted in the us and received plenty of coverage enough to have its own separate article  regards</td>\n",
       "      <td>0</td>\n",
       "    </tr>\n",
       "    <tr>\n",
       "      <th>2</th>\n",
       "      <td>new edits the new edits overwrite what was an account of planck s classification cited by guggenheim  so that account was not uncited  though the edit cover note complained of lack of citation  the term  unrealistic  is not used by those sources and is an unnecessary editorial interpolation  it seems the new edit was made without consultation of the cited sources  the further comments are gratuitous uncited editorial opinion and do not reflect what the cited sources planck and guggenheim say</td>\n",
       "      <td>0</td>\n",
       "    </tr>\n",
       "    <tr>\n",
       "      <th>3</th>\n",
       "      <td>null set   interection of people capable of writing vital articles to fa quality of content prose with people willing to put up with wiki aggressive antics   decide what you want</td>\n",
       "      <td>0</td>\n",
       "    </tr>\n",
       "    <tr>\n",
       "      <th>4</th>\n",
       "      <td>olyeller wrote    finding    news articles from reliable and independent sources would shut me up  if you do that  i ll make the text say annual myself     there are at least two reliable and independent sources that mention the second annual everybody draw mohammed day   one is the news international at http   www thenews com pk todaysprintdetail aspx id       cat    dt             the second is the daily times at http   www dailytimes com pk default asp page       c    c    cstory          pg       therefore  the criterion has been met to call this an annual event</td>\n",
       "      <td>0</td>\n",
       "    </tr>\n",
       "  </tbody>\n",
       "</table>\n",
       "</div>"
      ],
      "text/plain": [
       "                                                                                                                                                                                                                                                                                                                                                                                                                                                                                                                                                                                           text  \\\n",
       "0                                                                                                                                                                                                                                                                                                                                                                                          as an islamist you don t   find it shocking to see someone drinking    drinking what   alcohol   gasoline  piss   can you have a great conversation with someone who is intoxicated  in vino veritas   \n",
       "1                                                                                                                                                                                                                                                                                                                                                            no it wasn t scrapped  alicia s version remains as the original and    cent s version is just a sample of it  also  her version charted in the us and received plenty of coverage enough to have its own separate article  regards   \n",
       "2                                                                              new edits the new edits overwrite what was an account of planck s classification cited by guggenheim  so that account was not uncited  though the edit cover note complained of lack of citation  the term  unrealistic  is not used by those sources and is an unnecessary editorial interpolation  it seems the new edit was made without consultation of the cited sources  the further comments are gratuitous uncited editorial opinion and do not reflect what the cited sources planck and guggenheim say   \n",
       "3                                                                                                                                                                                                                                                                                                                                                                                                            null set   interection of people capable of writing vital articles to fa quality of content prose with people willing to put up with wiki aggressive antics   decide what you want   \n",
       "4  olyeller wrote    finding    news articles from reliable and independent sources would shut me up  if you do that  i ll make the text say annual myself     there are at least two reliable and independent sources that mention the second annual everybody draw mohammed day   one is the news international at http   www thenews com pk todaysprintdetail aspx id       cat    dt             the second is the daily times at http   www dailytimes com pk default asp page       c    c    cstory          pg       therefore  the criterion has been met to call this an annual event   \n",
       "\n",
       "   toxic  \n",
       "0      1  \n",
       "1      0  \n",
       "2      0  \n",
       "3      0  \n",
       "4      0  "
      ]
     },
     "execution_count": 12,
     "metadata": {},
     "output_type": "execute_result"
    }
   ],
   "source": [
    "data.head()"
   ]
  },
  {
   "cell_type": "markdown",
   "metadata": {},
   "source": [
    "**Теперь приведем все слова к их лемме.**"
   ]
  },
  {
   "cell_type": "code",
   "execution_count": 13,
   "metadata": {},
   "outputs": [
    {
     "name": "stderr",
     "output_type": "stream",
     "text": [
      "[nltk_data] Downloading package wordnet to /home/jovyan/nltk_data...\n",
      "[nltk_data]   Package wordnet is already up-to-date!\n",
      "[nltk_data] Downloading package stopwords to /home/jovyan/nltk_data...\n",
      "[nltk_data]   Package stopwords is already up-to-date!\n"
     ]
    }
   ],
   "source": [
    "nltk.download('wordnet')\n",
    "nltk.download('stopwords')\n",
    "stop_words = set(stopwords.words('english'))"
   ]
  },
  {
   "cell_type": "code",
   "execution_count": 14,
   "metadata": {},
   "outputs": [],
   "source": [
    "lemmatizer = WordNetLemmatizer()"
   ]
  },
  {
   "cell_type": "code",
   "execution_count": 15,
   "metadata": {},
   "outputs": [],
   "source": [
    "def lemmatize_sentence(sentence):\n",
    "    lemmatized_text = []\n",
    "    lst_with_words = nltk.word_tokenize(sentence)\n",
    "    for word in lst_with_words:\n",
    "        initial_word = lemmatizer.lemmatize(word)\n",
    "        lemmatized_text.append(initial_word)\n",
    "    return \" \".join(lemmatized_text)"
   ]
  },
  {
   "cell_type": "code",
   "execution_count": 16,
   "metadata": {},
   "outputs": [
    {
     "name": "stdout",
     "output_type": "stream",
     "text": [
      "CPU times: user 29.4 s, sys: 124 ms, total: 29.5 s\n",
      "Wall time: 29.6 s\n"
     ]
    }
   ],
   "source": [
    "%%time\n",
    "data['text'] = data['text'].apply(lemmatize_sentence)"
   ]
  },
  {
   "cell_type": "code",
   "execution_count": null,
   "metadata": {},
   "outputs": [],
   "source": [
    "#КОД РЕВЬЮЕРА\n",
    "# from tqdm import tqdm\n",
    "# warnings.filterwarnings('ignore')\n",
    "\n",
    "# tqdm.pandas(desc=\"progress bar!\")\n",
    "\n",
    "# data['text'] = data['text'].progress_apply(lemmatize_sentence)"
   ]
  },
  {
   "cell_type": "markdown",
   "metadata": {},
   "source": [
    "### Тренировочная и тестовая выборки"
   ]
  },
  {
   "cell_type": "code",
   "execution_count": 17,
   "metadata": {},
   "outputs": [],
   "source": [
    "features = data.drop(['toxic'], axis=1)\n",
    "target = data['toxic']"
   ]
  },
  {
   "cell_type": "code",
   "execution_count": 18,
   "metadata": {},
   "outputs": [],
   "source": [
    "features_train, features_test, y_train, y_test = train_test_split(features, target, test_size=0.25, random_state=12345)"
   ]
  },
  {
   "cell_type": "code",
   "execution_count": 19,
   "metadata": {},
   "outputs": [],
   "source": [
    "del features, target, data"
   ]
  },
  {
   "cell_type": "markdown",
   "metadata": {},
   "source": [
    "### Метод векторизации \"TF-IDF\""
   ]
  },
  {
   "cell_type": "markdown",
   "metadata": {},
   "source": [
    "**В качестве метода векторизации выбрал TF-IDF. Методу так же передадим атрибут stop_words, для того чтобы избавится от неинформативных слов. Обучать векторизатор будем на тренировочной выборке (корпусе).**"
   ]
  },
  {
   "cell_type": "code",
   "execution_count": 20,
   "metadata": {},
   "outputs": [],
   "source": [
    "corpus_train = features_train['text'].values.astype('U')\n",
    "corpus_test = features_test['text'].values.astype('U')"
   ]
  },
  {
   "cell_type": "code",
   "execution_count": 21,
   "metadata": {},
   "outputs": [],
   "source": [
    "del features_train, features_test"
   ]
  },
  {
   "cell_type": "markdown",
   "metadata": {},
   "source": [
    "**Учитывая большое количество слов, буду использовать подход основанный на n-граммах, так же ограничим количество векторов параметрами min_df и max_df.**"
   ]
  },
  {
   "cell_type": "code",
   "execution_count": 22,
   "metadata": {},
   "outputs": [],
   "source": [
    "count_tf_idf = TfidfVectorizer(ngram_range=(1,2),\n",
    "                               stop_words=stop_words,\n",
    "                               min_df=3,\n",
    "                               max_df=0.9,\n",
    "                               strip_accents='unicode',\n",
    "                               use_idf=1,\n",
    "                               smooth_idf=1,\n",
    "                               sublinear_tf=1)"
   ]
  },
  {
   "cell_type": "code",
   "execution_count": 23,
   "metadata": {},
   "outputs": [],
   "source": [
    "tf_df = count_tf_idf.fit(corpus_train)"
   ]
  },
  {
   "cell_type": "code",
   "execution_count": 24,
   "metadata": {},
   "outputs": [],
   "source": [
    "x_train = tf_df.transform(corpus_train)\n",
    "x_test = tf_df.transform(corpus_test)"
   ]
  },
  {
   "cell_type": "code",
   "execution_count": 25,
   "metadata": {},
   "outputs": [],
   "source": [
    "del count_tf_idf, tf_df, corpus_train, corpus_test"
   ]
  },
  {
   "cell_type": "markdown",
   "metadata": {},
   "source": [
    "### Заключение"
   ]
  },
  {
   "cell_type": "markdown",
   "metadata": {},
   "source": [
    "- **Из текста удалены все не информативные символы и слова.**\n",
    "\n",
    "\n",
    "- **Каждое слово приведено к его лемме.**\n",
    "\n",
    "\n",
    "- **Слова в тексте векторизованы.**\n",
    "\n",
    "\n",
    "- **Обнаружен дисбаланс классов.**"
   ]
  },
  {
   "cell_type": "markdown",
   "metadata": {},
   "source": [
    "## Обучение"
   ]
  },
  {
   "cell_type": "code",
   "execution_count": 26,
   "metadata": {},
   "outputs": [],
   "source": [
    "dct_with_models_param = {}"
   ]
  },
  {
   "cell_type": "code",
   "execution_count": 27,
   "metadata": {},
   "outputs": [],
   "source": [
    "state = RandomState(12345)"
   ]
  },
  {
   "cell_type": "markdown",
   "metadata": {},
   "source": [
    "**Для дальнейшего обучения выбрал несколько моделей.**\n",
    "\n",
    "**Для корректировки баланса выбрал метод взвешенных весов.**"
   ]
  },
  {
   "cell_type": "markdown",
   "metadata": {},
   "source": [
    "### Модель LogisticRegression"
   ]
  },
  {
   "cell_type": "code",
   "execution_count": 28,
   "metadata": {},
   "outputs": [
    {
     "name": "stdout",
     "output_type": "stream",
     "text": [
      "CPU times: user 4min 3s, sys: 4min 43s, total: 8min 47s\n",
      "Wall time: 8min 48s\n"
     ]
    }
   ],
   "source": [
    "%%time\n",
    "model_lr_for_search = LogisticRegression(class_weight='balanced', solver='liblinear', max_iter=1000)\n",
    "params = dict(C=np.arange(1, 20, 1))\n",
    "search_for_lr = RandomizedSearchCV(model_lr_for_search, \n",
    "                                   params,\n",
    "                                   scoring='f1',\n",
    "                                   random_state=state)\n",
    "search_for_lr.fit(x_train, y_train)\n",
    "dct_with_models_param['LR'] = search_for_lr.best_params_\n",
    "dct_with_models_param['LR'].update(train_f1=search_for_lr.best_score_)"
   ]
  },
  {
   "cell_type": "code",
   "execution_count": 29,
   "metadata": {},
   "outputs": [],
   "source": [
    "del model_lr_for_search, search_for_lr"
   ]
  },
  {
   "cell_type": "code",
   "execution_count": 30,
   "metadata": {},
   "outputs": [
    {
     "name": "stdout",
     "output_type": "stream",
     "text": [
      "CPU times: user 7.15 s, sys: 9.5 s, total: 16.6 s\n",
      "Wall time: 16.6 s\n"
     ]
    },
    {
     "data": {
      "text/plain": [
       "LogisticRegression(C=13, class_weight='balanced', max_iter=1000,\n",
       "                   random_state=RandomState(MT19937) at 0x7FD86645CC40,\n",
       "                   solver='liblinear')"
      ]
     },
     "execution_count": 30,
     "metadata": {},
     "output_type": "execute_result"
    }
   ],
   "source": [
    "%%time\n",
    "test_model_lr = LogisticRegression(solver='liblinear',\n",
    "                                   C=dct_with_models_param['LR']['C'],\n",
    "                                   class_weight='balanced',\n",
    "                                   random_state=state,\n",
    "                                   max_iter=1000)\n",
    "test_model_lr.fit(x_train, y_train)"
   ]
  },
  {
   "cell_type": "markdown",
   "metadata": {},
   "source": [
    "### Модель DecisionTreeClassifier"
   ]
  },
  {
   "cell_type": "code",
   "execution_count": 31,
   "metadata": {},
   "outputs": [
    {
     "name": "stdout",
     "output_type": "stream",
     "text": [
      "CPU times: user 6min 56s, sys: 0 ns, total: 6min 56s\n",
      "Wall time: 6min 56s\n"
     ]
    }
   ],
   "source": [
    "%%time\n",
    "model_dtc_for_search = DecisionTreeClassifier(class_weight='balanced')\n",
    "params = dict(max_depth=np.arange(10, 100, 10),\n",
    "              splitter=['best', 'random'],\n",
    "              min_samples_leaf=[1, 3])\n",
    "search_for_dtc = RandomizedSearchCV(model_dtc_for_search, \n",
    "                                   params,\n",
    "                                   scoring='f1',\n",
    "                                   random_state=state)\n",
    "search_for_dtc.fit(x_train, y_train)\n",
    "dct_with_models_param['DTC'] = search_for_dtc.best_params_\n",
    "dct_with_models_param['DTC'].update(train_f1=search_for_dtc.best_score_)"
   ]
  },
  {
   "cell_type": "code",
   "execution_count": 32,
   "metadata": {},
   "outputs": [],
   "source": [
    "del model_dtc_for_search, search_for_dtc"
   ]
  },
  {
   "cell_type": "code",
   "execution_count": 33,
   "metadata": {},
   "outputs": [
    {
     "name": "stdout",
     "output_type": "stream",
     "text": [
      "CPU times: user 11.2 s, sys: 0 ns, total: 11.2 s\n",
      "Wall time: 11.3 s\n"
     ]
    },
    {
     "data": {
      "text/plain": [
       "DecisionTreeClassifier(class_weight='balanced', max_depth=70,\n",
       "                       random_state=RandomState(MT19937) at 0x7FD86645CC40,\n",
       "                       splitter='random')"
      ]
     },
     "execution_count": 33,
     "metadata": {},
     "output_type": "execute_result"
    }
   ],
   "source": [
    "%%time\n",
    "test_model_dtc = DecisionTreeClassifier(max_depth=dct_with_models_param['DTC']['max_depth'], \n",
    "                                       splitter=dct_with_models_param['DTC']['splitter'],\n",
    "                                       min_samples_leaf=dct_with_models_param['DTC']['min_samples_leaf'],\n",
    "                                       class_weight='balanced',\n",
    "                                       random_state=state)\n",
    "test_model_dtc.fit(x_train, y_train)"
   ]
  },
  {
   "cell_type": "markdown",
   "metadata": {},
   "source": [
    "### Модель LinearSVC"
   ]
  },
  {
   "cell_type": "code",
   "execution_count": 34,
   "metadata": {},
   "outputs": [
    {
     "name": "stdout",
     "output_type": "stream",
     "text": [
      "CPU times: user 18.3 s, sys: 0 ns, total: 18.3 s\n",
      "Wall time: 18.4 s\n"
     ]
    }
   ],
   "source": [
    "%%time\n",
    "model_lsvc_for_search = LinearSVC(random_state=state, class_weight='balanced')\n",
    "params = dict(C=np.arange(0.1, 1, 0.1))\n",
    "search_for_lsvc = RandomizedSearchCV(model_lsvc_for_search, \n",
    "                                   params,\n",
    "                                   scoring='f1',\n",
    "                                   random_state=state)\n",
    "search_for_lsvc.fit(x_train, y_train)\n",
    "dct_with_models_param['LinearSVC'] = search_for_lsvc.best_params_\n",
    "dct_with_models_param['LinearSVC'].update(train_f1=search_for_lsvc.best_score_)"
   ]
  },
  {
   "cell_type": "code",
   "execution_count": 35,
   "metadata": {},
   "outputs": [],
   "source": [
    "del model_lsvc_for_search, search_for_lsvc"
   ]
  },
  {
   "cell_type": "code",
   "execution_count": 36,
   "metadata": {},
   "outputs": [
    {
     "name": "stdout",
     "output_type": "stream",
     "text": [
      "CPU times: user 657 ms, sys: 0 ns, total: 657 ms\n",
      "Wall time: 664 ms\n"
     ]
    },
    {
     "data": {
      "text/plain": [
       "LinearSVC(C=0.6, class_weight='balanced',\n",
       "          random_state=RandomState(MT19937) at 0x7FD86645CC40)"
      ]
     },
     "execution_count": 36,
     "metadata": {},
     "output_type": "execute_result"
    }
   ],
   "source": [
    "%%time\n",
    "test_model_lsvc = LinearSVC(C=dct_with_models_param['LinearSVC']['C'], \n",
    "                          class_weight='balanced',\n",
    "                          random_state=state)\n",
    "test_model_lsvc.fit(x_train, y_train)"
   ]
  },
  {
   "cell_type": "markdown",
   "metadata": {},
   "source": [
    "### Модель MultinomialNB"
   ]
  },
  {
   "cell_type": "code",
   "execution_count": 37,
   "metadata": {},
   "outputs": [
    {
     "name": "stdout",
     "output_type": "stream",
     "text": [
      "CPU times: user 589 ms, sys: 0 ns, total: 589 ms\n",
      "Wall time: 598 ms\n"
     ]
    }
   ],
   "source": [
    "%%time\n",
    "model_mnb_for_search = MultinomialNB()\n",
    "params = dict(alpha=[0,1], fit_prior=[True, False])\n",
    "search_for_mnb = RandomizedSearchCV(model_mnb_for_search,\n",
    "                                    params,\n",
    "                                    scoring='f1')\n",
    "search_for_mnb.fit(x_train, y_train)\n",
    "dct_with_models_param['MNB'] = search_for_mnb.best_params_\n",
    "dct_with_models_param['MNB'].update(train_f1=search_for_mnb.best_score_)"
   ]
  },
  {
   "cell_type": "code",
   "execution_count": 38,
   "metadata": {},
   "outputs": [],
   "source": [
    "del model_mnb_for_search, search_for_mnb"
   ]
  },
  {
   "cell_type": "code",
   "execution_count": 39,
   "metadata": {
    "scrolled": true
   },
   "outputs": [
    {
     "name": "stdout",
     "output_type": "stream",
     "text": [
      "CPU times: user 16.1 ms, sys: 0 ns, total: 16.1 ms\n",
      "Wall time: 15.4 ms\n"
     ]
    },
    {
     "data": {
      "text/plain": [
       "MultinomialNB(alpha=1, fit_prior=False)"
      ]
     },
     "execution_count": 39,
     "metadata": {},
     "output_type": "execute_result"
    }
   ],
   "source": [
    "%%time\n",
    "test_model_mnb = MultinomialNB(alpha=dct_with_models_param['MNB']['alpha'], \n",
    "                          fit_prior=dct_with_models_param['MNB']['fit_prior'])\n",
    "test_model_mnb.fit(x_train, y_train)"
   ]
  },
  {
   "cell_type": "markdown",
   "metadata": {},
   "source": [
    "### Модель KNeighborsClassifier"
   ]
  },
  {
   "cell_type": "code",
   "execution_count": 42,
   "metadata": {},
   "outputs": [
    {
     "name": "stdout",
     "output_type": "stream",
     "text": [
      "CPU times: user 30min 31s, sys: 40.8 s, total: 31min 12s\n",
      "Wall time: 31min 15s\n"
     ]
    }
   ],
   "source": [
    "%%time\n",
    "model_knb_for_search = KNeighborsClassifier()\n",
    "params = dict(weights=['uniform', 'distance'],\n",
    "              p=[1,2],\n",
    "              leaf_size=np.arange(10,40,1),\n",
    "              metric=['minkowski', 'chebyshev'],\n",
    "              n_neighbors=np.arange(5, 40, 10))\n",
    "search_for_knb = RandomizedSearchCV(model_knb_for_search,\n",
    "                                    params,\n",
    "                                    scoring='f1')\n",
    "search_for_knb.fit(x_train, y_train)\n",
    "dct_with_models_param['KNB'] = search_for_knb.best_params_\n",
    "dct_with_models_param['KNB'].update(train_f1=search_for_knb.best_score_)"
   ]
  },
  {
   "cell_type": "code",
   "execution_count": 43,
   "metadata": {
    "scrolled": true
   },
   "outputs": [],
   "source": [
    "del model_knb_for_search, search_for_knb"
   ]
  },
  {
   "cell_type": "code",
   "execution_count": 44,
   "metadata": {},
   "outputs": [
    {
     "name": "stdout",
     "output_type": "stream",
     "text": [
      "CPU times: user 3.61 ms, sys: 3.5 ms, total: 7.11 ms\n",
      "Wall time: 6.72 ms\n"
     ]
    },
    {
     "data": {
      "text/plain": [
       "KNeighborsClassifier(leaf_size=21, p=1)"
      ]
     },
     "execution_count": 44,
     "metadata": {},
     "output_type": "execute_result"
    }
   ],
   "source": [
    "%%time\n",
    "test_model_knb = KNeighborsClassifier(weights=dct_with_models_param['KNB']['weights'],\n",
    "                                      p=dct_with_models_param['KNB']['p'],\n",
    "                                      n_neighbors=dct_with_models_param['KNB']['n_neighbors'],\n",
    "                                      leaf_size=dct_with_models_param['KNB']['leaf_size'],\n",
    "                                      metric=dct_with_models_param['KNB']['metric'])\n",
    "test_model_knb.fit(x_train, y_train)"
   ]
  },
  {
   "cell_type": "code",
   "execution_count": 45,
   "metadata": {},
   "outputs": [
    {
     "data": {
      "text/plain": [
       "{'weights': 'uniform',\n",
       " 'p': 1,\n",
       " 'n_neighbors': 5,\n",
       " 'metric': 'minkowski',\n",
       " 'leaf_size': 21,\n",
       " 'train_f1': 0.09871862032091083}"
      ]
     },
     "execution_count": 45,
     "metadata": {},
     "output_type": "execute_result"
    }
   ],
   "source": [
    "dct_with_models_param['KNB']"
   ]
  },
  {
   "cell_type": "markdown",
   "metadata": {},
   "source": [
    "## Тестирование"
   ]
  },
  {
   "cell_type": "markdown",
   "metadata": {},
   "source": [
    "**С помощью перебора порога классификации попробуем улучшить метрику моделей.**"
   ]
  },
  {
   "cell_type": "code",
   "execution_count": 46,
   "metadata": {},
   "outputs": [],
   "source": [
    "def get_best_threshold(probabilities_one_test):\n",
    "\n",
    "    best_f1 = 0\n",
    "    best_treshold = 0\n",
    "\n",
    "    for threshold in np.arange(0.1, 0.9, 0.1):\n",
    "        predicted_valid = probabilities_one_test > threshold\n",
    "        f1 = f1_score(y_test, predicted_valid)\n",
    "        if (f1 > best_f1):\n",
    "            best_f1 = f1\n",
    "            best_threshold = threshold\n",
    "            if (best_threshold >= 0.1 ):\n",
    "                min_boundary = (best_threshold - 0.05)\n",
    "                max_boundary = (best_threshold + 0.05)\n",
    "                for updated_threshold in np.arange(min_boundary, max_boundary, 0.01):\n",
    "                    predicted_valid = probabilities_one_test > updated_threshold\n",
    "                    f1 = f1_score(y_test, predicted_valid)\n",
    "                    if (f1 > best_f1):\n",
    "                        best_f1 = f1\n",
    "                        best_threshold = updated_threshold\n",
    "                        \n",
    "    return [best_f1, best_threshold]"
   ]
  },
  {
   "cell_type": "code",
   "execution_count": 47,
   "metadata": {},
   "outputs": [],
   "source": [
    "def draw_graph_roc_curve(lst_with_old_f1_and_threshold, probabilities_one_test, model_name):\n",
    "    \n",
    "    def find_nearest_num(ar_for_search, val):\n",
    "        idx = np.abs(ar_for_search - val).argmin()\n",
    "        return ar_for_search.flat[idx]\n",
    "\n",
    "    model_name = model_name\n",
    "    max_val_tpr = 0\n",
    "    min_val_fpr = 0\n",
    "    best_f1 = lst_with_old_f1_and_threshold[2]\n",
    "    best_threshold = lst_with_old_f1_and_threshold[1]\n",
    "    old_f1 = lst_with_old_f1_and_threshold[0]\n",
    "    auc_roc = roc_auc_score(y_test, probabilities_one_test)\n",
    "    fpr, tpr, all_thresholds = roc_curve(y_test, probabilities_one_test)\n",
    "    nearest_num = find_nearest_num(all_thresholds, best_threshold)\n",
    "    a = np.where(all_thresholds == nearest_num)\n",
    "    index = int(a[0])\n",
    "    max_val_tpr = list(tpr)[index]\n",
    "    min_val_fpr = list(fpr)[index]\n",
    "    plt.figure(figsize=[15, 12])\n",
    "    sns.set_style('darkgrid')\n",
    "    plt.plot([0,1],[0,1], linestyle ='--', label='Константная модель')\n",
    "    plt.text((min_val_fpr + 0.02),(max_val_tpr + 0.02), \n",
    "             f'THRESHOLD - {best_threshold:.2f}, FPR - {min_val_fpr:.2f}, TPR - {max_val_tpr:.2f}',\n",
    "             color='r',\n",
    "             fontsize=16)\n",
    "    plt.plot(fpr,tpr, color='b', label='ROC-кривая')\n",
    "    plt.plot([min_val_fpr],[max_val_tpr], \n",
    "             'o',\n",
    "             color='r',\n",
    "             label=f'Порог классификации - {best_threshold}', markersize=15)\n",
    "    plt.axvline(x=min_val_fpr, color='r', linestyle='--')\n",
    "    plt.axhline(y=max_val_tpr, color='r', linestyle='--')\n",
    "    plt.xlim([0.0, 1.0])\n",
    "    plt.ylim([0.0, 1.0])\n",
    "    plt.xlabel('FPR', fontsize=15)\n",
    "    plt.ylabel('TPR', fontsize=15)\n",
    "    plt.figtext((min_val_fpr + 0.2), (max_val_tpr - 0.10), f'OLD_F1={old_f1:.2f}, NEW_F1={best_f1:.2f}, AUC_ROC={auc_roc:.2f}', fontsize=17)\n",
    "    plt.title(f'ROC-Кривая для {model_name}', fontsize=17)\n",
    "    plt.grid(True)\n",
    "    plt.legend(edgecolor = 'r', facecolor = 'oldlace')\n",
    "    plt.show();    "
   ]
  },
  {
   "cell_type": "markdown",
   "metadata": {},
   "source": [
    "### Модель LogisticRegression"
   ]
  },
  {
   "cell_type": "code",
   "execution_count": 48,
   "metadata": {},
   "outputs": [],
   "source": [
    "probalities_test_lr = test_model_lr.predict_proba(x_test)\n",
    "probabilities_one_test_lr = probalities_test_lr[:,1]"
   ]
  },
  {
   "cell_type": "code",
   "execution_count": 49,
   "metadata": {},
   "outputs": [],
   "source": [
    "best_test_f1, best_threshold_lr = get_best_threshold(probabilities_one_test_lr)"
   ]
  },
  {
   "cell_type": "code",
   "execution_count": 50,
   "metadata": {},
   "outputs": [],
   "source": [
    "dct_with_models_param['LR'].update(best_threshold=best_threshold_lr)"
   ]
  },
  {
   "cell_type": "code",
   "execution_count": 51,
   "metadata": {},
   "outputs": [
    {
     "name": "stdout",
     "output_type": "stream",
     "text": [
      "CPU times: user 7 µs, sys: 0 ns, total: 7 µs\n",
      "Wall time: 11.4 µs\n"
     ]
    }
   ],
   "source": [
    "%%time\n",
    "dct_with_models_param['LR'].update(test_f1=best_test_f1)"
   ]
  },
  {
   "cell_type": "code",
   "execution_count": 52,
   "metadata": {
    "scrolled": false
   },
   "outputs": [
    {
     "data": {
      "image/png": "[encoded data removed]",
      "text/plain": [
       "<Figure size 1080x864 with 1 Axes>"
      ]
     },
     "metadata": {},
     "output_type": "display_data"
    }
   ],
   "source": [
    "old_f1_test_lr = f1_score(y_test, test_model_lr.predict(x_test))\n",
    "draw_graph_roc_curve([old_f1_test_lr, best_threshold_lr, best_test_f1], probabilities_one_test_lr, 'LinearClassifier')"
   ]
  },
  {
   "cell_type": "markdown",
   "metadata": {},
   "source": [
    "### Модель DecisionTreeClassifier"
   ]
  },
  {
   "cell_type": "code",
   "execution_count": 53,
   "metadata": {},
   "outputs": [],
   "source": [
    "probalities_test_dtc = test_model_dtc.predict_proba(x_test)\n",
    "probabilities_one_test_dtc = probalities_test_dtc[:,1]"
   ]
  },
  {
   "cell_type": "code",
   "execution_count": 54,
   "metadata": {},
   "outputs": [],
   "source": [
    "best_test_f1, best_threshold_dtc = get_best_threshold(probabilities_one_test_dtc)"
   ]
  },
  {
   "cell_type": "code",
   "execution_count": 55,
   "metadata": {},
   "outputs": [],
   "source": [
    "dct_with_models_param['DTC'].update(best_threshold=best_threshold_dtc)"
   ]
  },
  {
   "cell_type": "code",
   "execution_count": 56,
   "metadata": {},
   "outputs": [
    {
     "name": "stdout",
     "output_type": "stream",
     "text": [
      "CPU times: user 5 µs, sys: 0 ns, total: 5 µs\n",
      "Wall time: 8.82 µs\n"
     ]
    }
   ],
   "source": [
    "%%time\n",
    "dct_with_models_param['DTC'].update(test_f1=best_test_f1)"
   ]
  },
  {
   "cell_type": "code",
   "execution_count": 57,
   "metadata": {},
   "outputs": [
    {
     "data": {
      "image/png": "[encoded data removed]",
      "text/plain": [
       "<Figure size 1080x864 with 1 Axes>"
      ]
     },
     "metadata": {},
     "output_type": "display_data"
    }
   ],
   "source": [
    "old_f1_test_dtc = f1_score(y_test, test_model_dtc.predict(x_test))\n",
    "draw_graph_roc_curve([old_f1_test_dtc, best_threshold_dtc, best_test_f1], probabilities_one_test_dtc, 'DecisionTreeClassifier')"
   ]
  },
  {
   "cell_type": "markdown",
   "metadata": {},
   "source": [
    "### Модель LinearSVC"
   ]
  },
  {
   "cell_type": "code",
   "execution_count": 58,
   "metadata": {},
   "outputs": [
    {
     "name": "stdout",
     "output_type": "stream",
     "text": [
      "CPU times: user 7.38 ms, sys: 422 µs, total: 7.8 ms\n",
      "Wall time: 6.61 ms\n"
     ]
    }
   ],
   "source": [
    "%%time\n",
    "dct_with_models_param['LinearSVC'].update(test_f1=f1_score(y_test, test_model_lsvc.predict(x_test)))"
   ]
  },
  {
   "cell_type": "markdown",
   "metadata": {},
   "source": [
    "### Модель MultinomialNB"
   ]
  },
  {
   "cell_type": "code",
   "execution_count": 59,
   "metadata": {},
   "outputs": [],
   "source": [
    "probalities_test_mnb = test_model_mnb.predict_proba(x_test)\n",
    "probabilities_one_test_mnb = probalities_test_mnb[:,1]"
   ]
  },
  {
   "cell_type": "code",
   "execution_count": 60,
   "metadata": {},
   "outputs": [],
   "source": [
    "best_test_f1, best_threshold_mnb = get_best_threshold(probabilities_one_test_mnb)"
   ]
  },
  {
   "cell_type": "code",
   "execution_count": 61,
   "metadata": {},
   "outputs": [],
   "source": [
    "dct_with_models_param['MNB'].update(best_threshold=best_threshold_mnb)"
   ]
  },
  {
   "cell_type": "code",
   "execution_count": 62,
   "metadata": {},
   "outputs": [
    {
     "name": "stdout",
     "output_type": "stream",
     "text": [
      "CPU times: user 4 µs, sys: 0 ns, total: 4 µs\n",
      "Wall time: 7.63 µs\n"
     ]
    }
   ],
   "source": [
    "%%time\n",
    "dct_with_models_param['MNB'].update(test_f1=best_test_f1)"
   ]
  },
  {
   "cell_type": "code",
   "execution_count": 63,
   "metadata": {},
   "outputs": [
    {
     "data": {
      "image/png": "[encoded data removed]",
      "text/plain": [
       "<Figure size 1080x864 with 1 Axes>"
      ]
     },
     "metadata": {},
     "output_type": "display_data"
    }
   ],
   "source": [
    "old_f1_test_mnb = f1_score(y_test, test_model_mnb.predict(x_test))\n",
    "draw_graph_roc_curve([old_f1_test_mnb, best_threshold_mnb, best_test_f1], probabilities_one_test_mnb, 'MultinomialNB')"
   ]
  },
  {
   "cell_type": "markdown",
   "metadata": {},
   "source": [
    "### Модель KNeighborsClassifier"
   ]
  },
  {
   "cell_type": "code",
   "execution_count": 64,
   "metadata": {},
   "outputs": [],
   "source": [
    "probalities_test_knb = test_model_knb.predict_proba(x_test)\n",
    "probabilities_one_test_knb = probalities_test_knb[:,1]"
   ]
  },
  {
   "cell_type": "code",
   "execution_count": 65,
   "metadata": {},
   "outputs": [],
   "source": [
    "best_test_f1, best_threshold_knb = get_best_threshold(probabilities_one_test_knb)"
   ]
  },
  {
   "cell_type": "code",
   "execution_count": 66,
   "metadata": {},
   "outputs": [],
   "source": [
    "dct_with_models_param['KNB'].update(best_threshold=best_threshold_knb)"
   ]
  },
  {
   "cell_type": "code",
   "execution_count": 67,
   "metadata": {},
   "outputs": [
    {
     "name": "stdout",
     "output_type": "stream",
     "text": [
      "CPU times: user 5 µs, sys: 1e+03 ns, total: 6 µs\n",
      "Wall time: 9.54 µs\n"
     ]
    }
   ],
   "source": [
    "%%time\n",
    "dct_with_models_param['KNB'].update(test_f1=best_test_f1)"
   ]
  },
  {
   "cell_type": "code",
   "execution_count": 68,
   "metadata": {
    "scrolled": false
   },
   "outputs": [
    {
     "data": {
      "image/png": "[encoded data removed]",
      "text/plain": [
       "<Figure size 1080x864 with 1 Axes>"
      ]
     },
     "metadata": {},
     "output_type": "display_data"
    }
   ],
   "source": [
    "old_f1_test_knb = f1_score(y_test, test_model_knb.predict(x_test))\n",
    "draw_graph_roc_curve([old_f1_test_knb, best_threshold_knb, best_test_f1], probabilities_one_test_knb, 'KNeighborsClassifier')"
   ]
  },
  {
   "cell_type": "markdown",
   "metadata": {},
   "source": [
    "## Выводы"
   ]
  },
  {
   "cell_type": "code",
   "execution_count": 69,
   "metadata": {},
   "outputs": [],
   "source": [
    "model = []\n",
    "train_f1 = []\n",
    "f1_test = []\n",
    "for k in dct_with_models_param.keys():\n",
    "    model.append(k)\n",
    "    train_f1.append(dct_with_models_param[k]['train_f1'])\n",
    "    f1_test.append(dct_with_models_param[k]['test_f1'])"
   ]
  },
  {
   "cell_type": "code",
   "execution_count": 70,
   "metadata": {},
   "outputs": [],
   "source": [
    "results = {\n",
    "    'Model' : model,\n",
    "    'Train F1' :pd.Series(train_f1),\n",
    "    'Test F1' :pd.Series(f1_test)}"
   ]
  },
  {
   "cell_type": "code",
   "execution_count": 71,
   "metadata": {
    "scrolled": true
   },
   "outputs": [
    {
     "data": {
      "text/html": [
       "<div>\n",
       "<style scoped>\n",
       "    .dataframe tbody tr th:only-of-type {\n",
       "        vertical-align: middle;\n",
       "    }\n",
       "\n",
       "    .dataframe tbody tr th {\n",
       "        vertical-align: top;\n",
       "    }\n",
       "\n",
       "    .dataframe thead th {\n",
       "        text-align: right;\n",
       "    }\n",
       "</style>\n",
       "<table border=\"1\" class=\"dataframe\">\n",
       "  <thead>\n",
       "    <tr style=\"text-align: right;\">\n",
       "      <th></th>\n",
       "      <th>Model</th>\n",
       "      <th>Train F1</th>\n",
       "      <th>Test F1</th>\n",
       "    </tr>\n",
       "  </thead>\n",
       "  <tbody>\n",
       "    <tr>\n",
       "      <th>0</th>\n",
       "      <td>LR</td>\n",
       "      <td>0.755812</td>\n",
       "      <td>0.752039</td>\n",
       "    </tr>\n",
       "    <tr>\n",
       "      <th>1</th>\n",
       "      <td>DTC</td>\n",
       "      <td>0.639768</td>\n",
       "      <td>0.632777</td>\n",
       "    </tr>\n",
       "    <tr>\n",
       "      <th>2</th>\n",
       "      <td>LinearSVC</td>\n",
       "      <td>0.754704</td>\n",
       "      <td>0.745483</td>\n",
       "    </tr>\n",
       "    <tr>\n",
       "      <th>3</th>\n",
       "      <td>MNB</td>\n",
       "      <td>0.620398</td>\n",
       "      <td>0.635624</td>\n",
       "    </tr>\n",
       "    <tr>\n",
       "      <th>4</th>\n",
       "      <td>KNB</td>\n",
       "      <td>0.098719</td>\n",
       "      <td>0.219034</td>\n",
       "    </tr>\n",
       "  </tbody>\n",
       "</table>\n",
       "</div>"
      ],
      "text/plain": [
       "       Model  Train F1   Test F1\n",
       "0         LR  0.755812  0.752039\n",
       "1        DTC  0.639768  0.632777\n",
       "2  LinearSVC  0.754704  0.745483\n",
       "3        MNB  0.620398  0.635624\n",
       "4        KNB  0.098719  0.219034"
      ]
     },
     "metadata": {},
     "output_type": "display_data"
    }
   ],
   "source": [
    "display(pd.DataFrame(results))"
   ]
  },
  {
   "cell_type": "markdown",
   "metadata": {},
   "source": [
    "## Вывод"
   ]
  },
  {
   "cell_type": "markdown",
   "metadata": {},
   "source": [
    "**Наилучшая метрика у модели \"Логистическая регрессия\".**\n",
    "\n",
    "**Так же, линейные модели значительно быстрее обучаются и работают .**"
   ]
  }
 ],
 "metadata": {
  "ExecuteTimeLog": [
   {
    "duration": 2044,
    "start_time": "2022-05-16T17:05:11.569Z"
   },
   {
    "duration": 5,
    "start_time": "2022-05-16T17:05:29.032Z"
   },
   {
    "duration": 897,
    "start_time": "2022-05-16T17:05:42.923Z"
   },
   {
    "duration": 865,
    "start_time": "2022-05-16T17:05:54.770Z"
   },
   {
    "duration": 34,
    "start_time": "2022-05-16T17:06:12.020Z"
   },
   {
    "duration": 11,
    "start_time": "2022-05-16T17:06:37.814Z"
   },
   {
    "duration": 6,
    "start_time": "2022-05-16T17:07:13.828Z"
   },
   {
    "duration": 3,
    "start_time": "2022-05-16T17:07:27.547Z"
   },
   {
    "duration": 5,
    "start_time": "2022-05-16T17:14:48.433Z"
   },
   {
    "duration": 2236,
    "start_time": "2022-05-16T17:14:52.370Z"
   },
   {
    "duration": 214,
    "start_time": "2022-05-16T17:14:57.212Z"
   },
   {
    "duration": 64,
    "start_time": "2022-05-16T17:15:33.516Z"
   },
   {
    "duration": 4,
    "start_time": "2022-05-16T17:16:01.089Z"
   },
   {
    "duration": 8,
    "start_time": "2022-05-16T17:16:28.705Z"
   },
   {
    "duration": 10,
    "start_time": "2022-05-16T17:16:46.099Z"
   },
   {
    "duration": 7,
    "start_time": "2022-05-16T17:16:54.978Z"
   },
   {
    "duration": 10,
    "start_time": "2022-05-16T17:24:10.734Z"
   },
   {
    "duration": 6,
    "start_time": "2022-05-16T17:24:24.518Z"
   },
   {
    "duration": 8,
    "start_time": "2022-05-16T17:28:00.512Z"
   },
   {
    "duration": 12,
    "start_time": "2022-05-16T17:29:59.814Z"
   },
   {
    "duration": 8,
    "start_time": "2022-05-16T17:30:06.182Z"
   },
   {
    "duration": 8,
    "start_time": "2022-05-16T17:30:17.333Z"
   },
   {
    "duration": 12,
    "start_time": "2022-05-16T17:30:24.669Z"
   },
   {
    "duration": 12,
    "start_time": "2022-05-16T17:30:27.917Z"
   },
   {
    "duration": 13,
    "start_time": "2022-05-16T17:30:32.484Z"
   },
   {
    "duration": 11,
    "start_time": "2022-05-16T17:30:39.032Z"
   },
   {
    "duration": 12,
    "start_time": "2022-05-16T17:30:49.630Z"
   },
   {
    "duration": 13,
    "start_time": "2022-05-16T17:30:53.069Z"
   },
   {
    "duration": 12,
    "start_time": "2022-05-16T17:31:03.434Z"
   },
   {
    "duration": 8,
    "start_time": "2022-05-16T17:31:18.572Z"
   },
   {
    "duration": 114,
    "start_time": "2022-05-16T17:32:53.660Z"
   },
   {
    "duration": 4,
    "start_time": "2022-05-16T17:47:04.461Z"
   },
   {
    "duration": 9,
    "start_time": "2022-05-16T17:51:10.397Z"
   },
   {
    "duration": 6,
    "start_time": "2022-05-16T17:51:12.260Z"
   },
   {
    "duration": 401,
    "start_time": "2022-05-16T17:58:16.108Z"
   },
   {
    "duration": 333,
    "start_time": "2022-05-16T17:58:26.781Z"
   },
   {
    "duration": 367,
    "start_time": "2022-05-16T17:58:36.023Z"
   },
   {
    "duration": 327,
    "start_time": "2022-05-16T17:58:53.955Z"
   },
   {
    "duration": 334,
    "start_time": "2022-05-16T17:59:01.769Z"
   },
   {
    "duration": 312,
    "start_time": "2022-05-16T17:59:16.770Z"
   },
   {
    "duration": 309,
    "start_time": "2022-05-16T18:04:22.657Z"
   },
   {
    "duration": 298,
    "start_time": "2022-05-16T18:05:52.833Z"
   },
   {
    "duration": 349,
    "start_time": "2022-05-16T18:05:55.990Z"
   },
   {
    "duration": 434,
    "start_time": "2022-05-16T18:08:34.029Z"
   },
   {
    "duration": 586,
    "start_time": "2022-05-16T18:10:42.912Z"
   },
   {
    "duration": 498,
    "start_time": "2022-05-16T18:10:54.313Z"
   },
   {
    "duration": 488,
    "start_time": "2022-05-16T18:11:47.040Z"
   },
   {
    "duration": 513,
    "start_time": "2022-05-16T18:12:12.323Z"
   },
   {
    "duration": 483,
    "start_time": "2022-05-16T18:12:17.791Z"
   },
   {
    "duration": 492,
    "start_time": "2022-05-16T18:12:29.815Z"
   },
   {
    "duration": 508,
    "start_time": "2022-05-16T18:17:24.272Z"
   },
   {
    "duration": 1297,
    "start_time": "2022-05-16T18:19:36.230Z"
   },
   {
    "duration": 1291,
    "start_time": "2022-05-16T18:20:08.116Z"
   },
   {
    "duration": 195,
    "start_time": "2022-05-16T18:21:46.122Z"
   },
   {
    "duration": 142,
    "start_time": "2022-05-16T18:23:16.864Z"
   },
   {
    "duration": 133,
    "start_time": "2022-05-16T18:23:19.611Z"
   },
   {
    "duration": 152,
    "start_time": "2022-05-16T18:23:46.191Z"
   },
   {
    "duration": 139,
    "start_time": "2022-05-16T18:24:34.575Z"
   },
   {
    "duration": 141,
    "start_time": "2022-05-16T18:24:43.824Z"
   },
   {
    "duration": 1247,
    "start_time": "2022-05-16T18:25:32.383Z"
   },
   {
    "duration": 1173,
    "start_time": "2022-05-16T18:25:46.583Z"
   },
   {
    "duration": 180,
    "start_time": "2022-05-16T18:25:55.288Z"
   },
   {
    "duration": 179,
    "start_time": "2022-05-16T18:25:58.681Z"
   },
   {
    "duration": 282,
    "start_time": "2022-05-16T18:26:11.189Z"
   },
   {
    "duration": 290,
    "start_time": "2022-05-16T18:27:11.395Z"
   },
   {
    "duration": 518,
    "start_time": "2022-05-16T18:27:37.313Z"
   },
   {
    "duration": 2699,
    "start_time": "2022-05-16T18:28:23.405Z"
   },
   {
    "duration": 2315,
    "start_time": "2022-05-16T18:28:26.106Z"
   },
   {
    "duration": 33,
    "start_time": "2022-05-16T18:28:28.423Z"
   },
   {
    "duration": 10,
    "start_time": "2022-05-16T18:28:28.458Z"
   },
   {
    "duration": 531,
    "start_time": "2022-05-16T18:28:28.470Z"
   },
   {
    "duration": 225,
    "start_time": "2022-05-16T18:28:29.003Z"
   },
   {
    "duration": 529,
    "start_time": "2022-05-16T18:29:04.800Z"
   },
   {
    "duration": 546,
    "start_time": "2022-05-16T18:29:19.036Z"
   },
   {
    "duration": 522,
    "start_time": "2022-05-16T18:29:40.820Z"
   },
   {
    "duration": 144,
    "start_time": "2022-05-16T18:33:07.094Z"
   },
   {
    "duration": 6,
    "start_time": "2022-05-16T18:33:13.621Z"
   },
   {
    "duration": 280,
    "start_time": "2022-05-16T18:33:17.503Z"
   },
   {
    "duration": 182,
    "start_time": "2022-05-16T18:33:59.413Z"
   },
   {
    "duration": 449,
    "start_time": "2022-05-16T18:45:53.334Z"
   },
   {
    "duration": 431,
    "start_time": "2022-05-16T18:46:06.172Z"
   },
   {
    "duration": 475,
    "start_time": "2022-05-16T18:46:14.850Z"
   },
   {
    "duration": 443,
    "start_time": "2022-05-16T18:46:22.537Z"
   },
   {
    "duration": 1959,
    "start_time": "2022-05-16T18:46:29.848Z"
   },
   {
    "duration": 868,
    "start_time": "2022-05-16T18:46:31.810Z"
   },
   {
    "duration": 33,
    "start_time": "2022-05-16T18:46:32.680Z"
   },
   {
    "duration": 11,
    "start_time": "2022-05-16T18:46:32.715Z"
   },
   {
    "duration": 467,
    "start_time": "2022-05-16T18:46:32.728Z"
   },
   {
    "duration": 239,
    "start_time": "2022-05-16T18:46:33.197Z"
   },
   {
    "duration": 420,
    "start_time": "2022-05-16T18:47:12.083Z"
   },
   {
    "duration": 403,
    "start_time": "2022-05-16T18:47:18.318Z"
   },
   {
    "duration": 388,
    "start_time": "2022-05-16T18:48:23.767Z"
   },
   {
    "duration": 390,
    "start_time": "2022-05-16T18:48:28.509Z"
   },
   {
    "duration": 383,
    "start_time": "2022-05-16T18:48:31.933Z"
   },
   {
    "duration": 6,
    "start_time": "2022-05-16T18:51:13.308Z"
   },
   {
    "duration": 6,
    "start_time": "2022-05-16T18:51:17.056Z"
   },
   {
    "duration": 6,
    "start_time": "2022-05-16T18:51:29.374Z"
   },
   {
    "duration": 140,
    "start_time": "2022-05-16T18:51:46.840Z"
   },
   {
    "duration": 13,
    "start_time": "2022-05-16T18:51:52.483Z"
   },
   {
    "duration": 6,
    "start_time": "2022-05-16T18:51:57.965Z"
   },
   {
    "duration": 379,
    "start_time": "2022-05-16T18:52:13.382Z"
   },
   {
    "duration": 116,
    "start_time": "2022-05-16T18:52:33.860Z"
   },
   {
    "duration": 178,
    "start_time": "2022-05-16T18:53:09.663Z"
   },
   {
    "duration": 187,
    "start_time": "2022-05-16T18:54:15.516Z"
   },
   {
    "duration": 193,
    "start_time": "2022-05-16T18:54:28.299Z"
   },
   {
    "duration": 185,
    "start_time": "2022-05-16T18:54:44.126Z"
   },
   {
    "duration": 197,
    "start_time": "2022-05-16T18:55:00.652Z"
   },
   {
    "duration": 295,
    "start_time": "2022-05-16T18:55:16.056Z"
   },
   {
    "duration": 171,
    "start_time": "2022-05-16T18:55:19.472Z"
   },
   {
    "duration": 6,
    "start_time": "2022-05-16T18:55:25.097Z"
   },
   {
    "duration": 6,
    "start_time": "2022-05-16T18:55:31.778Z"
   },
   {
    "duration": 11,
    "start_time": "2022-05-16T18:55:48.666Z"
   },
   {
    "duration": 5,
    "start_time": "2022-05-16T18:55:52.765Z"
   },
   {
    "duration": 4,
    "start_time": "2022-05-16T18:55:56.534Z"
   },
   {
    "duration": 177,
    "start_time": "2022-05-16T18:56:13.624Z"
   },
   {
    "duration": 179,
    "start_time": "2022-05-16T18:58:16.517Z"
   },
   {
    "duration": 163,
    "start_time": "2022-05-16T18:58:32.974Z"
   },
   {
    "duration": 184,
    "start_time": "2022-05-16T18:58:44.025Z"
   },
   {
    "duration": 161,
    "start_time": "2022-05-16T19:00:20.877Z"
   },
   {
    "duration": 5,
    "start_time": "2022-05-16T19:01:01.597Z"
   },
   {
    "duration": 12,
    "start_time": "2022-05-16T19:01:05.558Z"
   },
   {
    "duration": 5,
    "start_time": "2022-05-16T19:01:09.423Z"
   },
   {
    "duration": 4,
    "start_time": "2022-05-16T19:01:46.607Z"
   },
   {
    "duration": 185,
    "start_time": "2022-05-16T19:03:06.202Z"
   },
   {
    "duration": 159,
    "start_time": "2022-05-16T19:03:23.382Z"
   },
   {
    "duration": 167,
    "start_time": "2022-05-16T19:05:05.113Z"
   },
   {
    "duration": 179,
    "start_time": "2022-05-16T19:05:42.499Z"
   },
   {
    "duration": 197,
    "start_time": "2022-05-16T19:05:48.592Z"
   },
   {
    "duration": 183,
    "start_time": "2022-05-16T19:07:39.426Z"
   },
   {
    "duration": 181,
    "start_time": "2022-05-16T19:07:45.923Z"
   },
   {
    "duration": 192,
    "start_time": "2022-05-16T19:08:08.997Z"
   },
   {
    "duration": 201,
    "start_time": "2022-05-16T19:08:25.771Z"
   },
   {
    "duration": 6,
    "start_time": "2022-05-16T19:10:02.734Z"
   },
   {
    "duration": 151,
    "start_time": "2022-05-16T19:10:10.920Z"
   },
   {
    "duration": 137,
    "start_time": "2022-05-16T19:10:30.276Z"
   },
   {
    "duration": 310,
    "start_time": "2022-05-16T19:10:41.010Z"
   },
   {
    "duration": 187,
    "start_time": "2022-05-16T19:14:10.569Z"
   },
   {
    "duration": 195,
    "start_time": "2022-05-16T19:14:23.407Z"
   },
   {
    "duration": 204,
    "start_time": "2022-05-16T19:14:37.589Z"
   },
   {
    "duration": 1790,
    "start_time": "2022-05-16T19:15:25.549Z"
   },
   {
    "duration": 831,
    "start_time": "2022-05-16T19:15:27.341Z"
   },
   {
    "duration": 35,
    "start_time": "2022-05-16T19:15:28.174Z"
   },
   {
    "duration": 12,
    "start_time": "2022-05-16T19:15:28.211Z"
   },
   {
    "duration": 227,
    "start_time": "2022-05-16T19:15:28.225Z"
   },
   {
    "duration": 222,
    "start_time": "2022-05-16T19:15:28.457Z"
   },
   {
    "duration": 209,
    "start_time": "2022-05-16T19:16:07.021Z"
   },
   {
    "duration": 206,
    "start_time": "2022-05-16T19:16:37.104Z"
   },
   {
    "duration": 335,
    "start_time": "2022-05-16T19:16:44.755Z"
   },
   {
    "duration": 192,
    "start_time": "2022-05-16T19:17:01.067Z"
   },
   {
    "duration": 205,
    "start_time": "2022-05-16T19:17:54.917Z"
   },
   {
    "duration": 222,
    "start_time": "2022-05-16T19:19:40.964Z"
   },
   {
    "duration": 5,
    "start_time": "2022-05-16T19:39:14.048Z"
   },
   {
    "duration": 13,
    "start_time": "2022-05-16T19:39:37.131Z"
   },
   {
    "duration": 3,
    "start_time": "2022-05-16T19:40:15.641Z"
   },
   {
    "duration": 8,
    "start_time": "2022-05-16T19:40:17.167Z"
   },
   {
    "duration": 6,
    "start_time": "2022-05-16T19:40:32.042Z"
   },
   {
    "duration": 4,
    "start_time": "2022-05-16T19:56:20.996Z"
   },
   {
    "duration": 1699,
    "start_time": "2022-05-16T20:04:21.601Z"
   },
   {
    "duration": 785,
    "start_time": "2022-05-16T20:04:23.302Z"
   },
   {
    "duration": 30,
    "start_time": "2022-05-16T20:04:24.089Z"
   },
   {
    "duration": 3,
    "start_time": "2022-05-16T20:04:24.121Z"
   },
   {
    "duration": 14,
    "start_time": "2022-05-16T20:04:24.126Z"
   },
   {
    "duration": 225,
    "start_time": "2022-05-16T20:04:24.156Z"
   },
   {
    "duration": 207,
    "start_time": "2022-05-16T20:04:24.383Z"
   },
   {
    "duration": 6,
    "start_time": "2022-05-16T20:04:24.591Z"
   },
   {
    "duration": 27,
    "start_time": "2022-05-16T20:04:24.599Z"
   },
   {
    "duration": 30,
    "start_time": "2022-05-16T20:04:46.208Z"
   },
   {
    "duration": 274,
    "start_time": "2022-05-16T20:05:31.879Z"
   },
   {
    "duration": 6,
    "start_time": "2022-05-16T20:05:37.215Z"
   },
   {
    "duration": 1841,
    "start_time": "2022-05-16T20:09:50.752Z"
   },
   {
    "duration": 8,
    "start_time": "2022-05-16T20:10:00.301Z"
   },
   {
    "duration": 139,
    "start_time": "2022-05-16T20:16:26.057Z"
   },
   {
    "duration": 155,
    "start_time": "2022-05-16T20:17:17.372Z"
   },
   {
    "duration": 4,
    "start_time": "2022-05-16T20:17:38.616Z"
   },
   {
    "duration": 43,
    "start_time": "2022-05-16T20:22:14.996Z"
   },
   {
    "duration": 1926,
    "start_time": "2022-05-16T20:27:14.802Z"
   },
   {
    "duration": 921,
    "start_time": "2022-05-16T20:27:16.730Z"
   },
   {
    "duration": 36,
    "start_time": "2022-05-16T20:27:17.653Z"
   },
   {
    "duration": 2,
    "start_time": "2022-05-16T20:27:17.692Z"
   },
   {
    "duration": 14,
    "start_time": "2022-05-16T20:27:17.696Z"
   },
   {
    "duration": 286,
    "start_time": "2022-05-16T20:27:17.712Z"
   },
   {
    "duration": 231,
    "start_time": "2022-05-16T20:27:18.000Z"
   },
   {
    "duration": 7,
    "start_time": "2022-05-16T20:27:18.233Z"
   },
   {
    "duration": 48,
    "start_time": "2022-05-16T20:27:18.242Z"
   },
   {
    "duration": 333,
    "start_time": "2022-05-16T20:27:18.293Z"
   },
   {
    "duration": 3622,
    "start_time": "2022-05-16T20:27:18.628Z"
   },
   {
    "duration": 190,
    "start_time": "2022-05-16T20:27:22.252Z"
   },
   {
    "duration": 3,
    "start_time": "2022-05-16T20:27:22.444Z"
   },
   {
    "duration": 8,
    "start_time": "2022-05-16T20:27:29.891Z"
   },
   {
    "duration": 130,
    "start_time": "2022-05-16T20:28:20.247Z"
   },
   {
    "duration": 5,
    "start_time": "2022-05-16T20:28:26.362Z"
   },
   {
    "duration": 4665,
    "start_time": "2022-05-16T20:35:49.829Z"
   },
   {
    "duration": 9,
    "start_time": "2022-05-16T20:35:55.311Z"
   },
   {
    "duration": 179,
    "start_time": "2022-05-16T20:38:18.463Z"
   },
   {
    "duration": 22,
    "start_time": "2022-05-16T20:38:40.811Z"
   },
   {
    "duration": 514,
    "start_time": "2022-05-16T20:39:08.663Z"
   },
   {
    "duration": 118,
    "start_time": "2022-05-16T20:39:11.903Z"
   },
   {
    "duration": 1565,
    "start_time": "2022-05-16T20:42:49.425Z"
   },
   {
    "duration": 18,
    "start_time": "2022-05-16T20:42:59.273Z"
   },
   {
    "duration": 6,
    "start_time": "2022-05-16T20:43:13.376Z"
   },
   {
    "duration": 5,
    "start_time": "2022-05-16T20:43:17.523Z"
   },
   {
    "duration": 15,
    "start_time": "2022-05-16T20:43:49.593Z"
   },
   {
    "duration": 5,
    "start_time": "2022-05-16T20:44:13.022Z"
   },
   {
    "duration": 602,
    "start_time": "2022-05-16T20:47:46.837Z"
   },
   {
    "duration": 124580,
    "start_time": "2022-05-16T20:47:53.871Z"
   },
   {
    "duration": 1913,
    "start_time": "2022-05-16T20:50:40.266Z"
   },
   {
    "duration": 897,
    "start_time": "2022-05-16T20:50:42.181Z"
   },
   {
    "duration": 38,
    "start_time": "2022-05-16T20:50:43.080Z"
   },
   {
    "duration": 4,
    "start_time": "2022-05-16T20:50:43.121Z"
   },
   {
    "duration": 40,
    "start_time": "2022-05-16T20:50:43.127Z"
   },
   {
    "duration": 293,
    "start_time": "2022-05-16T20:50:43.169Z"
   },
   {
    "duration": 248,
    "start_time": "2022-05-16T20:50:43.464Z"
   },
   {
    "duration": 8,
    "start_time": "2022-05-16T20:50:43.714Z"
   },
   {
    "duration": 51,
    "start_time": "2022-05-16T20:50:43.724Z"
   },
   {
    "duration": 326,
    "start_time": "2022-05-16T20:50:43.778Z"
   },
   {
    "duration": 3550,
    "start_time": "2022-05-16T20:50:44.106Z"
   },
   {
    "duration": 244,
    "start_time": "2022-05-16T20:50:47.659Z"
   },
   {
    "duration": 3,
    "start_time": "2022-05-16T20:50:47.906Z"
   },
   {
    "duration": 58982,
    "start_time": "2022-05-16T20:51:01.529Z"
   },
   {
    "duration": 359615,
    "start_time": "2022-05-16T20:52:52.463Z"
   },
   {
    "duration": 2194,
    "start_time": "2022-05-16T20:59:04.176Z"
   },
   {
    "duration": 955,
    "start_time": "2022-05-16T20:59:06.374Z"
   },
   {
    "duration": 44,
    "start_time": "2022-05-16T20:59:07.330Z"
   },
   {
    "duration": 11,
    "start_time": "2022-05-16T20:59:07.376Z"
   },
   {
    "duration": 21,
    "start_time": "2022-05-16T20:59:07.389Z"
   },
   {
    "duration": 271,
    "start_time": "2022-05-16T20:59:07.412Z"
   },
   {
    "duration": 243,
    "start_time": "2022-05-16T20:59:07.685Z"
   },
   {
    "duration": 7,
    "start_time": "2022-05-16T20:59:07.930Z"
   },
   {
    "duration": 60,
    "start_time": "2022-05-16T20:59:07.939Z"
   },
   {
    "duration": 356,
    "start_time": "2022-05-16T20:59:08.003Z"
   },
   {
    "duration": 3925,
    "start_time": "2022-05-16T20:59:08.361Z"
   },
   {
    "duration": 238,
    "start_time": "2022-05-16T20:59:12.288Z"
   },
   {
    "duration": 748,
    "start_time": "2022-05-16T20:59:12.529Z"
   },
   {
    "duration": 0,
    "start_time": "2022-05-16T20:59:13.279Z"
   },
   {
    "duration": 0,
    "start_time": "2022-05-16T20:59:13.281Z"
   },
   {
    "duration": 593,
    "start_time": "2022-05-16T21:00:51.376Z"
   },
   {
    "duration": 626,
    "start_time": "2022-05-16T21:01:02.643Z"
   },
   {
    "duration": 3,
    "start_time": "2022-05-16T21:04:37.053Z"
   },
   {
    "duration": 593,
    "start_time": "2022-05-16T21:05:30.019Z"
   },
   {
    "duration": 10,
    "start_time": "2022-05-16T21:05:47.140Z"
   },
   {
    "duration": 571,
    "start_time": "2022-05-16T21:12:59.382Z"
   },
   {
    "duration": 536,
    "start_time": "2022-05-16T21:13:23.449Z"
   },
   {
    "duration": 1796,
    "start_time": "2022-05-16T21:13:33.706Z"
   },
   {
    "duration": 858,
    "start_time": "2022-05-16T21:13:35.504Z"
   },
   {
    "duration": 37,
    "start_time": "2022-05-16T21:13:36.363Z"
   },
   {
    "duration": 3,
    "start_time": "2022-05-16T21:13:36.402Z"
   },
   {
    "duration": 16,
    "start_time": "2022-05-16T21:13:36.406Z"
   },
   {
    "duration": 263,
    "start_time": "2022-05-16T21:13:36.424Z"
   },
   {
    "duration": 233,
    "start_time": "2022-05-16T21:13:36.689Z"
   },
   {
    "duration": 6,
    "start_time": "2022-05-16T21:13:36.924Z"
   },
   {
    "duration": 52,
    "start_time": "2022-05-16T21:13:36.932Z"
   },
   {
    "duration": 323,
    "start_time": "2022-05-16T21:13:36.986Z"
   },
   {
    "duration": 3,
    "start_time": "2022-05-16T21:13:37.311Z"
   },
   {
    "duration": 3405,
    "start_time": "2022-05-16T21:13:37.315Z"
   },
   {
    "duration": 3344,
    "start_time": "2022-05-16T21:13:56.055Z"
   },
   {
    "duration": 1794,
    "start_time": "2022-05-16T21:15:07.465Z"
   },
   {
    "duration": 869,
    "start_time": "2022-05-16T21:15:09.261Z"
   },
   {
    "duration": 36,
    "start_time": "2022-05-16T21:15:10.132Z"
   },
   {
    "duration": 4,
    "start_time": "2022-05-16T21:15:10.171Z"
   },
   {
    "duration": 16,
    "start_time": "2022-05-16T21:15:10.176Z"
   },
   {
    "duration": 267,
    "start_time": "2022-05-16T21:15:10.194Z"
   },
   {
    "duration": 224,
    "start_time": "2022-05-16T21:15:10.463Z"
   },
   {
    "duration": 7,
    "start_time": "2022-05-16T21:15:10.688Z"
   },
   {
    "duration": 34,
    "start_time": "2022-05-16T21:15:10.698Z"
   },
   {
    "duration": 341,
    "start_time": "2022-05-16T21:15:10.735Z"
   },
   {
    "duration": 3,
    "start_time": "2022-05-16T21:15:11.078Z"
   },
   {
    "duration": 3382,
    "start_time": "2022-05-16T21:15:11.083Z"
   },
   {
    "duration": 3352,
    "start_time": "2022-05-16T21:15:34.317Z"
   },
   {
    "duration": 1767,
    "start_time": "2022-05-16T21:16:31.945Z"
   },
   {
    "duration": 830,
    "start_time": "2022-05-16T21:16:33.715Z"
   },
   {
    "duration": 35,
    "start_time": "2022-05-16T21:16:34.547Z"
   },
   {
    "duration": 3,
    "start_time": "2022-05-16T21:16:34.585Z"
   },
   {
    "duration": 12,
    "start_time": "2022-05-16T21:16:34.590Z"
   },
   {
    "duration": 260,
    "start_time": "2022-05-16T21:16:34.604Z"
   },
   {
    "duration": 221,
    "start_time": "2022-05-16T21:16:34.866Z"
   },
   {
    "duration": 7,
    "start_time": "2022-05-16T21:16:35.089Z"
   },
   {
    "duration": 34,
    "start_time": "2022-05-16T21:16:35.098Z"
   },
   {
    "duration": 328,
    "start_time": "2022-05-16T21:16:35.135Z"
   },
   {
    "duration": 3,
    "start_time": "2022-05-16T21:16:35.466Z"
   },
   {
    "duration": 14,
    "start_time": "2022-05-16T21:16:35.471Z"
   },
   {
    "duration": 3277,
    "start_time": "2022-05-16T21:16:35.487Z"
   },
   {
    "duration": 3227,
    "start_time": "2022-05-16T21:16:38.766Z"
   },
   {
    "duration": 1772,
    "start_time": "2022-05-16T21:17:28.165Z"
   },
   {
    "duration": 862,
    "start_time": "2022-05-16T21:17:29.939Z"
   },
   {
    "duration": 37,
    "start_time": "2022-05-16T21:17:30.803Z"
   },
   {
    "duration": 14,
    "start_time": "2022-05-16T21:17:30.843Z"
   },
   {
    "duration": 12,
    "start_time": "2022-05-16T21:17:30.859Z"
   },
   {
    "duration": 255,
    "start_time": "2022-05-16T21:17:30.873Z"
   },
   {
    "duration": 217,
    "start_time": "2022-05-16T21:17:31.131Z"
   },
   {
    "duration": 8,
    "start_time": "2022-05-16T21:17:31.350Z"
   },
   {
    "duration": 37,
    "start_time": "2022-05-16T21:17:31.360Z"
   },
   {
    "duration": 321,
    "start_time": "2022-05-16T21:17:31.400Z"
   },
   {
    "duration": 3,
    "start_time": "2022-05-16T21:17:31.723Z"
   },
   {
    "duration": 3322,
    "start_time": "2022-05-16T21:17:31.728Z"
   },
   {
    "duration": 7,
    "start_time": "2022-05-16T21:18:09.143Z"
   },
   {
    "duration": 270,
    "start_time": "2022-05-16T21:20:37.402Z"
   },
   {
    "duration": 145,
    "start_time": "2022-05-16T21:23:24.792Z"
   },
   {
    "duration": 3,
    "start_time": "2022-05-16T21:23:39.360Z"
   },
   {
    "duration": 64953,
    "start_time": "2022-05-16T21:23:50.304Z"
   },
   {
    "duration": 3304,
    "start_time": "2022-05-16T21:25:04.689Z"
   },
   {
    "duration": 6,
    "start_time": "2022-05-16T21:25:16.016Z"
   },
   {
    "duration": 1345,
    "start_time": "2022-05-16T21:28:57.429Z"
   },
   {
    "duration": 8,
    "start_time": "2022-05-16T21:29:05.893Z"
   },
   {
    "duration": 2017,
    "start_time": "2022-05-16T21:29:21.677Z"
   },
   {
    "duration": 6,
    "start_time": "2022-05-16T21:29:24.535Z"
   },
   {
    "duration": 741,
    "start_time": "2022-05-16T21:29:40.062Z"
   },
   {
    "duration": 28,
    "start_time": "2022-05-16T21:29:47.166Z"
   },
   {
    "duration": 263,
    "start_time": "2022-05-16T21:29:47.196Z"
   },
   {
    "duration": 3,
    "start_time": "2022-05-16T21:29:50.636Z"
   },
   {
    "duration": 3338,
    "start_time": "2022-05-16T21:29:51.344Z"
   },
   {
    "duration": 1023,
    "start_time": "2022-05-16T21:29:55.467Z"
   },
   {
    "duration": 6,
    "start_time": "2022-05-16T21:29:58.677Z"
   },
   {
    "duration": 1762,
    "start_time": "2022-05-16T21:31:01.308Z"
   },
   {
    "duration": 824,
    "start_time": "2022-05-16T21:31:03.072Z"
   },
   {
    "duration": 34,
    "start_time": "2022-05-16T21:31:03.898Z"
   },
   {
    "duration": 2,
    "start_time": "2022-05-16T21:31:03.934Z"
   },
   {
    "duration": 26,
    "start_time": "2022-05-16T21:31:03.937Z"
   },
   {
    "duration": 239,
    "start_time": "2022-05-16T21:31:03.964Z"
   },
   {
    "duration": 216,
    "start_time": "2022-05-16T21:31:04.205Z"
   },
   {
    "duration": 6,
    "start_time": "2022-05-16T21:31:04.422Z"
   },
   {
    "duration": 46,
    "start_time": "2022-05-16T21:31:04.430Z"
   },
   {
    "duration": 307,
    "start_time": "2022-05-16T21:31:04.479Z"
   },
   {
    "duration": 3,
    "start_time": "2022-05-16T21:31:04.788Z"
   },
   {
    "duration": 1331,
    "start_time": "2022-05-16T21:31:04.792Z"
   },
   {
    "duration": 1031,
    "start_time": "2022-05-16T21:31:06.125Z"
   },
   {
    "duration": 6,
    "start_time": "2022-05-16T21:31:07.158Z"
   },
   {
    "duration": 192,
    "start_time": "2022-05-16T21:31:07.166Z"
   },
   {
    "duration": 4,
    "start_time": "2022-05-16T21:31:07.360Z"
   },
   {
    "duration": 4,
    "start_time": "2022-05-16T21:37:39.779Z"
   },
   {
    "duration": 4,
    "start_time": "2022-05-16T21:38:13.356Z"
   },
   {
    "duration": 1906,
    "start_time": "2022-05-16T21:41:11.134Z"
   },
   {
    "duration": 861,
    "start_time": "2022-05-16T21:41:13.042Z"
   },
   {
    "duration": 38,
    "start_time": "2022-05-16T21:41:13.905Z"
   },
   {
    "duration": 11,
    "start_time": "2022-05-16T21:41:13.945Z"
   },
   {
    "duration": 11,
    "start_time": "2022-05-16T21:41:13.959Z"
   },
   {
    "duration": 263,
    "start_time": "2022-05-16T21:41:13.972Z"
   },
   {
    "duration": 234,
    "start_time": "2022-05-16T21:41:14.237Z"
   },
   {
    "duration": 6,
    "start_time": "2022-05-16T21:41:14.473Z"
   },
   {
    "duration": 36,
    "start_time": "2022-05-16T21:41:14.480Z"
   },
   {
    "duration": 324,
    "start_time": "2022-05-16T21:41:14.518Z"
   },
   {
    "duration": 3,
    "start_time": "2022-05-16T21:41:14.845Z"
   },
   {
    "duration": 2201,
    "start_time": "2022-05-16T21:41:14.856Z"
   },
   {
    "duration": 256,
    "start_time": "2022-05-16T21:41:17.059Z"
   },
   {
    "duration": 3,
    "start_time": "2022-05-16T21:41:17.317Z"
   },
   {
    "duration": 6,
    "start_time": "2022-05-16T21:41:32.936Z"
   },
   {
    "duration": 3,
    "start_time": "2022-05-16T21:44:08.925Z"
   },
   {
    "duration": 3,
    "start_time": "2022-05-16T21:44:53.226Z"
   },
   {
    "duration": 2154,
    "start_time": "2022-05-16T21:44:59.361Z"
   },
   {
    "duration": 3,
    "start_time": "2022-05-16T21:47:12.759Z"
   },
   {
    "duration": 77343,
    "start_time": "2022-05-16T21:47:14.515Z"
   },
   {
    "duration": 6,
    "start_time": "2022-05-16T21:49:00.398Z"
   },
   {
    "duration": 3,
    "start_time": "2022-05-16T21:57:57.309Z"
   },
   {
    "duration": 30,
    "start_time": "2022-05-16T21:58:05.152Z"
   },
   {
    "duration": 4,
    "start_time": "2022-05-16T21:58:10.633Z"
   },
   {
    "duration": 3,
    "start_time": "2022-05-16T21:58:17.064Z"
   },
   {
    "duration": 4,
    "start_time": "2022-05-16T21:58:19.367Z"
   },
   {
    "duration": 4,
    "start_time": "2022-05-16T21:58:27.209Z"
   },
   {
    "duration": 3,
    "start_time": "2022-05-16T22:01:45.513Z"
   },
   {
    "duration": 3,
    "start_time": "2022-05-16T22:01:47.825Z"
   },
   {
    "duration": 4,
    "start_time": "2022-05-16T22:02:07.114Z"
   },
   {
    "duration": 4,
    "start_time": "2022-05-16T22:02:12.812Z"
   },
   {
    "duration": 3,
    "start_time": "2022-05-16T22:02:18.351Z"
   },
   {
    "duration": 3,
    "start_time": "2022-05-16T22:02:29.959Z"
   },
   {
    "duration": 3,
    "start_time": "2022-05-16T22:02:31.750Z"
   },
   {
    "duration": 3,
    "start_time": "2022-05-16T22:02:32.519Z"
   },
   {
    "duration": 3,
    "start_time": "2022-05-16T22:02:43.536Z"
   },
   {
    "duration": 3,
    "start_time": "2022-05-16T22:02:53.649Z"
   },
   {
    "duration": 2,
    "start_time": "2022-05-16T22:02:54.366Z"
   },
   {
    "duration": 3,
    "start_time": "2022-05-16T22:02:56.099Z"
   },
   {
    "duration": 2,
    "start_time": "2022-05-16T22:02:59.363Z"
   },
   {
    "duration": 2,
    "start_time": "2022-05-16T22:03:00.103Z"
   },
   {
    "duration": 4,
    "start_time": "2022-05-16T22:03:00.846Z"
   },
   {
    "duration": 3,
    "start_time": "2022-05-16T22:05:39.151Z"
   },
   {
    "duration": 2,
    "start_time": "2022-05-16T22:05:41.411Z"
   },
   {
    "duration": 2,
    "start_time": "2022-05-16T22:05:42.396Z"
   },
   {
    "duration": 2,
    "start_time": "2022-05-16T22:05:43.045Z"
   },
   {
    "duration": 3,
    "start_time": "2022-05-16T22:05:43.761Z"
   },
   {
    "duration": 2,
    "start_time": "2022-05-16T22:05:52.591Z"
   },
   {
    "duration": 3,
    "start_time": "2022-05-16T22:05:53.668Z"
   },
   {
    "duration": 4,
    "start_time": "2022-05-16T22:05:54.222Z"
   },
   {
    "duration": 3,
    "start_time": "2022-05-16T22:05:56.563Z"
   },
   {
    "duration": 3,
    "start_time": "2022-05-16T22:05:57.619Z"
   },
   {
    "duration": 2,
    "start_time": "2022-05-16T22:05:58.430Z"
   },
   {
    "duration": 4,
    "start_time": "2022-05-16T22:05:59.120Z"
   },
   {
    "duration": 3,
    "start_time": "2022-05-16T22:06:10.707Z"
   },
   {
    "duration": 3,
    "start_time": "2022-05-16T22:06:12.550Z"
   },
   {
    "duration": 3,
    "start_time": "2022-05-16T22:06:13.150Z"
   },
   {
    "duration": 3,
    "start_time": "2022-05-16T22:06:13.797Z"
   },
   {
    "duration": 4,
    "start_time": "2022-05-16T22:06:14.352Z"
   },
   {
    "duration": 4,
    "start_time": "2022-05-16T22:06:21.080Z"
   },
   {
    "duration": 3,
    "start_time": "2022-05-16T22:07:15.209Z"
   },
   {
    "duration": 148,
    "start_time": "2022-05-16T22:07:33.213Z"
   },
   {
    "duration": 5,
    "start_time": "2022-05-16T22:08:16.422Z"
   },
   {
    "duration": 1742,
    "start_time": "2022-05-16T22:08:35.489Z"
   },
   {
    "duration": 816,
    "start_time": "2022-05-16T22:08:37.233Z"
   },
   {
    "duration": 38,
    "start_time": "2022-05-16T22:08:38.051Z"
   },
   {
    "duration": 2,
    "start_time": "2022-05-16T22:08:38.092Z"
   },
   {
    "duration": 14,
    "start_time": "2022-05-16T22:08:38.096Z"
   },
   {
    "duration": 254,
    "start_time": "2022-05-16T22:08:38.112Z"
   },
   {
    "duration": 212,
    "start_time": "2022-05-16T22:08:38.367Z"
   },
   {
    "duration": 7,
    "start_time": "2022-05-16T22:08:38.581Z"
   },
   {
    "duration": 32,
    "start_time": "2022-05-16T22:08:38.590Z"
   },
   {
    "duration": 323,
    "start_time": "2022-05-16T22:08:38.625Z"
   },
   {
    "duration": 3,
    "start_time": "2022-05-16T22:08:38.951Z"
   },
   {
    "duration": 2075,
    "start_time": "2022-05-16T22:08:38.956Z"
   },
   {
    "duration": 182,
    "start_time": "2022-05-16T22:08:41.033Z"
   },
   {
    "duration": 2,
    "start_time": "2022-05-16T22:08:41.217Z"
   },
   {
    "duration": 7,
    "start_time": "2022-05-16T22:08:41.220Z"
   },
   {
    "duration": 841,
    "start_time": "2022-05-16T22:08:41.229Z"
   },
   {
    "duration": 4,
    "start_time": "2022-05-16T22:10:16.572Z"
   },
   {
    "duration": 5,
    "start_time": "2022-05-16T22:10:21.414Z"
   },
   {
    "duration": 1116831,
    "start_time": "2022-05-16T22:10:22.515Z"
   },
   {
    "duration": 6,
    "start_time": "2022-05-16T22:29:43.757Z"
   },
   {
    "duration": 1662,
    "start_time": "2022-05-18T18:35:51.227Z"
   },
   {
    "duration": 2356,
    "start_time": "2022-05-18T18:35:52.892Z"
   },
   {
    "duration": 32,
    "start_time": "2022-05-18T18:35:55.253Z"
   },
   {
    "duration": 6,
    "start_time": "2022-05-18T18:35:55.287Z"
   },
   {
    "duration": 3,
    "start_time": "2022-05-18T18:35:57.836Z"
   },
   {
    "duration": 10,
    "start_time": "2022-05-18T18:35:58.597Z"
   },
   {
    "duration": 255,
    "start_time": "2022-05-18T18:35:59.745Z"
   },
   {
    "duration": 199,
    "start_time": "2022-05-18T18:36:01.131Z"
   },
   {
    "duration": 8,
    "start_time": "2022-05-18T18:36:02.783Z"
   },
   {
    "duration": 28,
    "start_time": "2022-05-18T18:36:03.849Z"
   },
   {
    "duration": 352,
    "start_time": "2022-05-18T18:36:04.743Z"
   },
   {
    "duration": 5,
    "start_time": "2022-05-18T18:36:06.356Z"
   },
   {
    "duration": 2086,
    "start_time": "2022-05-18T18:36:07.693Z"
   },
   {
    "duration": 4,
    "start_time": "2022-05-18T19:13:11.299Z"
   },
   {
    "duration": 732,
    "start_time": "2022-05-18T19:13:12.887Z"
   },
   {
    "duration": 29,
    "start_time": "2022-05-18T19:13:14.314Z"
   },
   {
    "duration": 3,
    "start_time": "2022-05-18T19:13:15.494Z"
   },
   {
    "duration": 7,
    "start_time": "2022-05-18T19:13:16.623Z"
   },
   {
    "duration": 200,
    "start_time": "2022-05-18T19:13:17.385Z"
   },
   {
    "duration": 179,
    "start_time": "2022-05-18T19:13:18.347Z"
   },
   {
    "duration": 5,
    "start_time": "2022-05-18T19:13:19.342Z"
   },
   {
    "duration": 21,
    "start_time": "2022-05-18T19:13:20.362Z"
   },
   {
    "duration": 259,
    "start_time": "2022-05-18T19:13:21.212Z"
   },
   {
    "duration": 3,
    "start_time": "2022-05-18T19:13:22.084Z"
   },
   {
    "duration": 1994,
    "start_time": "2022-05-18T19:13:23.377Z"
   },
   {
    "duration": 11,
    "start_time": "2022-05-18T19:13:26.915Z"
   },
   {
    "duration": 3,
    "start_time": "2022-05-18T19:13:28.355Z"
   },
   {
    "duration": 4,
    "start_time": "2022-05-18T19:13:29.878Z"
   },
   {
    "duration": 17,
    "start_time": "2022-05-18T19:15:06.474Z"
   },
   {
    "duration": 13,
    "start_time": "2022-05-18T19:15:14.170Z"
   },
   {
    "duration": 4,
    "start_time": "2022-05-18T19:15:19.370Z"
   },
   {
    "duration": 6,
    "start_time": "2022-05-18T19:15:23.509Z"
   },
   {
    "duration": 10,
    "start_time": "2022-05-18T19:15:27.824Z"
   },
   {
    "duration": 4,
    "start_time": "2022-05-18T19:15:52.686Z"
   },
   {
    "duration": 263765,
    "start_time": "2022-05-18T19:15:54.024Z"
   },
   {
    "duration": 5,
    "start_time": "2022-05-18T19:23:18.331Z"
   },
   {
    "duration": 6,
    "start_time": "2022-05-18T19:25:15.829Z"
   },
   {
    "duration": 4,
    "start_time": "2022-05-18T19:26:28.142Z"
   },
   {
    "duration": 1114586,
    "start_time": "2022-05-18T19:26:30.720Z"
   },
   {
    "duration": 9,
    "start_time": "2022-05-18T19:46:15.955Z"
   },
   {
    "duration": 32,
    "start_time": "2022-05-18T19:46:57.449Z"
   },
   {
    "duration": 90,
    "start_time": "2022-05-18T19:47:00.226Z"
   },
   {
    "duration": 7,
    "start_time": "2022-05-18T19:47:15.022Z"
   },
   {
    "duration": 13,
    "start_time": "2022-05-18T19:47:28.172Z"
   },
   {
    "duration": 514,
    "start_time": "2022-05-18T20:09:09.400Z"
   },
   {
    "duration": 24,
    "start_time": "2022-05-18T20:25:11.151Z"
   },
   {
    "duration": 10,
    "start_time": "2022-05-18T20:25:54.672Z"
   },
   {
    "duration": 12,
    "start_time": "2022-05-18T20:26:57.556Z"
   },
   {
    "duration": 6,
    "start_time": "2022-05-18T20:27:29.453Z"
   },
   {
    "duration": 12,
    "start_time": "2022-05-18T20:27:42.571Z"
   },
   {
    "duration": 11,
    "start_time": "2022-05-18T20:28:27.256Z"
   },
   {
    "duration": 22,
    "start_time": "2022-05-18T20:29:35.663Z"
   },
   {
    "duration": 20,
    "start_time": "2022-05-18T20:31:13.874Z"
   },
   {
    "duration": 30,
    "start_time": "2022-05-18T20:31:17.018Z"
   },
   {
    "duration": 3,
    "start_time": "2022-05-18T20:31:23.785Z"
   },
   {
    "duration": 23,
    "start_time": "2022-05-18T20:31:26.238Z"
   },
   {
    "duration": 44,
    "start_time": "2022-05-18T20:31:50.013Z"
   },
   {
    "duration": 18,
    "start_time": "2022-05-18T20:31:53.276Z"
   },
   {
    "duration": 12,
    "start_time": "2022-05-18T20:33:14.231Z"
   },
   {
    "duration": 6,
    "start_time": "2022-05-18T20:33:23.556Z"
   },
   {
    "duration": 11,
    "start_time": "2022-05-18T20:33:48.849Z"
   },
   {
    "duration": 9,
    "start_time": "2022-05-18T20:34:51.272Z"
   },
   {
    "duration": 4,
    "start_time": "2022-05-18T20:35:04.616Z"
   },
   {
    "duration": 970,
    "start_time": "2022-05-18T20:35:05.570Z"
   },
   {
    "duration": 46,
    "start_time": "2022-05-18T20:35:06.545Z"
   },
   {
    "duration": 3,
    "start_time": "2022-05-18T20:35:07.516Z"
   },
   {
    "duration": 8,
    "start_time": "2022-05-18T20:35:08.348Z"
   },
   {
    "duration": 291,
    "start_time": "2022-05-18T20:35:09.224Z"
   },
   {
    "duration": 215,
    "start_time": "2022-05-18T20:35:10.309Z"
   },
   {
    "duration": 17,
    "start_time": "2022-05-18T20:35:11.435Z"
   },
   {
    "duration": 41,
    "start_time": "2022-05-18T20:35:13.457Z"
   },
   {
    "duration": 321,
    "start_time": "2022-05-18T20:35:14.153Z"
   },
   {
    "duration": 4,
    "start_time": "2022-05-18T20:35:15.663Z"
   },
   {
    "duration": 2437,
    "start_time": "2022-05-18T20:35:16.603Z"
   },
   {
    "duration": 178,
    "start_time": "2022-05-18T20:35:19.042Z"
   },
   {
    "duration": 11,
    "start_time": "2022-05-18T20:35:19.223Z"
   },
   {
    "duration": 5,
    "start_time": "2022-05-18T20:35:21.915Z"
   },
   {
    "duration": 924285,
    "start_time": "2022-05-18T20:35:23.195Z"
   },
   {
    "duration": 10,
    "start_time": "2022-05-18T21:54:02.222Z"
   },
   {
    "duration": 25,
    "start_time": "2022-05-18T21:54:20.536Z"
   },
   {
    "duration": 11,
    "start_time": "2022-05-18T21:54:30.899Z"
   },
   {
    "duration": 12,
    "start_time": "2022-05-18T21:54:48.240Z"
   },
   {
    "duration": 7,
    "start_time": "2022-05-18T21:55:02.220Z"
   },
   {
    "duration": 8,
    "start_time": "2022-05-18T21:55:10.998Z"
   },
   {
    "duration": 10,
    "start_time": "2022-05-18T21:55:22.600Z"
   },
   {
    "duration": 66547,
    "start_time": "2022-05-18T22:00:13.993Z"
   },
   {
    "duration": 18,
    "start_time": "2022-05-18T22:01:55.818Z"
   },
   {
    "duration": 91236,
    "start_time": "2022-05-18T22:02:15.893Z"
   },
   {
    "duration": 12,
    "start_time": "2022-05-18T22:03:53.099Z"
   },
   {
    "duration": 29,
    "start_time": "2022-05-18T22:04:20.736Z"
   },
   {
    "duration": 12,
    "start_time": "2022-05-18T22:04:30.395Z"
   },
   {
    "duration": 4,
    "start_time": "2022-05-18T22:04:55.795Z"
   },
   {
    "duration": 12,
    "start_time": "2022-05-18T22:05:05.223Z"
   },
   {
    "duration": 6,
    "start_time": "2022-05-18T22:05:29.194Z"
   },
   {
    "duration": 6,
    "start_time": "2022-05-18T22:05:45.306Z"
   },
   {
    "duration": 38758,
    "start_time": "2022-05-18T22:15:12.292Z"
   },
   {
    "duration": 4,
    "start_time": "2022-05-18T22:16:03.127Z"
   },
   {
    "duration": 15,
    "start_time": "2022-05-18T22:16:09.243Z"
   },
   {
    "duration": 4,
    "start_time": "2022-05-18T22:16:16.753Z"
   },
   {
    "duration": 97,
    "start_time": "2022-05-18T22:18:20.874Z"
   },
   {
    "duration": 331,
    "start_time": "2022-05-18T22:18:24.988Z"
   },
   {
    "duration": 10,
    "start_time": "2022-05-18T22:18:56.646Z"
   },
   {
    "duration": 9,
    "start_time": "2022-05-18T22:19:03.298Z"
   },
   {
    "duration": 7,
    "start_time": "2022-05-18T22:19:28.328Z"
   },
   {
    "duration": 22375,
    "start_time": "2022-05-18T22:20:09.579Z"
   },
   {
    "duration": 17,
    "start_time": "2022-05-18T22:20:36.180Z"
   },
   {
    "duration": 3,
    "start_time": "2022-05-18T22:20:43.245Z"
   },
   {
    "duration": 3,
    "start_time": "2022-05-18T22:20:45.376Z"
   },
   {
    "duration": 3,
    "start_time": "2022-05-18T22:20:58.366Z"
   },
   {
    "duration": 11091,
    "start_time": "2022-05-18T22:21:15.437Z"
   },
   {
    "duration": 296,
    "start_time": "2022-05-18T22:21:28.498Z"
   },
   {
    "duration": 12,
    "start_time": "2022-05-18T22:21:31.506Z"
   },
   {
    "duration": 21,
    "start_time": "2022-05-18T22:21:47.123Z"
   },
   {
    "duration": 12,
    "start_time": "2022-05-18T22:25:35.552Z"
   },
   {
    "duration": 63963,
    "start_time": "2022-05-18T22:26:00.279Z"
   },
   {
    "duration": 6,
    "start_time": "2022-05-18T22:29:27.799Z"
   },
   {
    "duration": 6,
    "start_time": "2022-05-18T22:34:04.338Z"
   },
   {
    "duration": 4,
    "start_time": "2022-05-18T22:35:26.032Z"
   },
   {
    "duration": 11,
    "start_time": "2022-05-18T22:35:31.216Z"
   },
   {
    "duration": 4,
    "start_time": "2022-05-18T22:35:34.556Z"
   },
   {
    "duration": 11,
    "start_time": "2022-05-18T22:35:44.838Z"
   },
   {
    "duration": 11,
    "start_time": "2022-05-18T22:36:09.614Z"
   },
   {
    "duration": 12,
    "start_time": "2022-05-18T22:36:23.832Z"
   },
   {
    "duration": 19,
    "start_time": "2022-05-18T22:36:41.688Z"
   },
   {
    "duration": 13,
    "start_time": "2022-05-18T22:36:58.186Z"
   },
   {
    "duration": 68,
    "start_time": "2022-05-19T18:33:20.165Z"
   },
   {
    "duration": 2557,
    "start_time": "2022-05-19T18:37:13.876Z"
   },
   {
    "duration": 3790,
    "start_time": "2022-05-19T18:37:16.436Z"
   },
   {
    "duration": 37,
    "start_time": "2022-05-19T18:37:20.228Z"
   },
   {
    "duration": 3,
    "start_time": "2022-05-19T18:37:20.267Z"
   },
   {
    "duration": 21,
    "start_time": "2022-05-19T18:37:20.271Z"
   },
   {
    "duration": 282,
    "start_time": "2022-05-19T18:37:20.295Z"
   },
   {
    "duration": 256,
    "start_time": "2022-05-19T18:37:20.588Z"
   },
   {
    "duration": 14,
    "start_time": "2022-05-19T18:37:23.485Z"
   },
   {
    "duration": 59,
    "start_time": "2022-05-19T18:37:24.370Z"
   },
   {
    "duration": 395,
    "start_time": "2022-05-19T18:37:25.128Z"
   },
   {
    "duration": 6,
    "start_time": "2022-05-19T18:37:25.833Z"
   },
   {
    "duration": 2148,
    "start_time": "2022-05-19T18:37:29.705Z"
   },
   {
    "duration": 840,
    "start_time": "2022-05-19T18:37:35.025Z"
   },
   {
    "duration": 4,
    "start_time": "2022-05-19T18:37:38.043Z"
   },
   {
    "duration": 19,
    "start_time": "2022-05-19T18:37:40.227Z"
   },
   {
    "duration": 7,
    "start_time": "2022-05-19T18:37:41.110Z"
   },
   {
    "duration": 167035,
    "start_time": "2022-05-19T18:37:48.783Z"
   },
   {
    "duration": 103,
    "start_time": "2022-05-19T18:41:25.282Z"
   },
   {
    "duration": 10,
    "start_time": "2022-05-19T18:41:26.284Z"
   },
   {
    "duration": 10,
    "start_time": "2022-05-19T18:41:33.957Z"
   },
   {
    "duration": 18,
    "start_time": "2022-05-19T18:42:03.230Z"
   },
   {
    "duration": 6,
    "start_time": "2022-05-19T18:56:14.529Z"
   },
   {
    "duration": 12085,
    "start_time": "2022-05-19T18:59:05.015Z"
   },
   {
    "duration": 4,
    "start_time": "2022-05-19T18:59:47.048Z"
   },
   {
    "duration": 108,
    "start_time": "2022-05-19T18:59:55.394Z"
   },
   {
    "duration": 18,
    "start_time": "2022-05-19T19:00:20.242Z"
   },
   {
    "duration": 30,
    "start_time": "2022-05-19T19:02:47.130Z"
   },
   {
    "duration": 12,
    "start_time": "2022-05-19T19:02:59.191Z"
   },
   {
    "duration": 12718,
    "start_time": "2022-05-19T19:03:26.782Z"
   },
   {
    "duration": 14,
    "start_time": "2022-05-19T19:03:42.501Z"
   },
   {
    "duration": 4,
    "start_time": "2022-05-19T19:03:48.648Z"
   },
   {
    "duration": 38,
    "start_time": "2022-05-19T19:06:11.355Z"
   },
   {
    "duration": 36248,
    "start_time": "2022-05-19T19:06:14.441Z"
   },
   {
    "duration": 5,
    "start_time": "2022-05-19T19:06:50.692Z"
   },
   {
    "duration": 15,
    "start_time": "2022-05-19T19:09:12.980Z"
   },
   {
    "duration": 11,
    "start_time": "2022-05-19T19:09:17.749Z"
   },
   {
    "duration": 8,
    "start_time": "2022-05-19T19:09:31.811Z"
   },
   {
    "duration": 31549,
    "start_time": "2022-05-19T19:09:59.171Z"
   },
   {
    "duration": 7,
    "start_time": "2022-05-19T19:10:42.177Z"
   },
   {
    "duration": 5,
    "start_time": "2022-05-19T19:14:21.781Z"
   },
   {
    "duration": 2637,
    "start_time": "2022-05-19T19:15:25.745Z"
   },
   {
    "duration": 9,
    "start_time": "2022-05-19T19:17:39.119Z"
   },
   {
    "duration": 5,
    "start_time": "2022-05-19T19:17:45.727Z"
   },
   {
    "duration": 12,
    "start_time": "2022-05-19T19:27:19.467Z"
   },
   {
    "duration": 10,
    "start_time": "2022-05-19T19:38:07.807Z"
   },
   {
    "duration": 12,
    "start_time": "2022-05-19T19:38:12.666Z"
   },
   {
    "duration": 3,
    "start_time": "2022-05-19T19:38:17.645Z"
   },
   {
    "duration": 5,
    "start_time": "2022-05-19T19:38:27.356Z"
   },
   {
    "duration": 4,
    "start_time": "2022-05-19T19:40:04.874Z"
   },
   {
    "duration": 4,
    "start_time": "2022-05-19T19:53:43.975Z"
   },
   {
    "duration": 24223,
    "start_time": "2022-05-19T20:00:56.260Z"
   },
   {
    "duration": 5,
    "start_time": "2022-05-19T20:02:03.223Z"
   },
   {
    "duration": 23738,
    "start_time": "2022-05-19T20:02:14.967Z"
   },
   {
    "duration": 23749,
    "start_time": "2022-05-19T20:03:04.978Z"
   },
   {
    "duration": 24821,
    "start_time": "2022-05-19T20:03:37.120Z"
   },
   {
    "duration": 10,
    "start_time": "2022-05-19T20:07:14.985Z"
   },
   {
    "duration": 11,
    "start_time": "2022-05-19T20:07:27.150Z"
   },
   {
    "duration": 10,
    "start_time": "2022-05-19T20:07:34.950Z"
   },
   {
    "duration": 11,
    "start_time": "2022-05-19T20:07:57.499Z"
   },
   {
    "duration": 5,
    "start_time": "2022-05-19T20:10:09.262Z"
   },
   {
    "duration": 4,
    "start_time": "2022-05-19T20:10:16.862Z"
   },
   {
    "duration": 21,
    "start_time": "2022-05-19T20:13:00.657Z"
   },
   {
    "duration": 23980,
    "start_time": "2022-05-19T20:13:47.274Z"
   },
   {
    "duration": 48,
    "start_time": "2022-05-19T20:15:14.218Z"
   },
   {
    "duration": 0,
    "start_time": "2022-05-19T20:21:04.451Z"
   },
   {
    "duration": 0,
    "start_time": "2022-05-19T20:22:17.390Z"
   },
   {
    "duration": 4,
    "start_time": "2022-05-19T20:27:57.121Z"
   },
   {
    "duration": 5,
    "start_time": "2022-05-19T20:28:00.165Z"
   },
   {
    "duration": 16,
    "start_time": "2022-05-19T20:28:07.196Z"
   },
   {
    "duration": 4,
    "start_time": "2022-05-19T20:32:17.317Z"
   },
   {
    "duration": 15,
    "start_time": "2022-05-19T20:32:18.882Z"
   },
   {
    "duration": 12,
    "start_time": "2022-05-19T20:34:48.248Z"
   },
   {
    "duration": 11,
    "start_time": "2022-05-19T20:35:08.327Z"
   },
   {
    "duration": 12,
    "start_time": "2022-05-19T20:37:28.825Z"
   },
   {
    "duration": 5,
    "start_time": "2022-05-19T20:40:45.498Z"
   },
   {
    "duration": 10,
    "start_time": "2022-05-19T20:40:50.081Z"
   },
   {
    "duration": 5,
    "start_time": "2022-05-19T20:41:40.210Z"
   },
   {
    "duration": 10,
    "start_time": "2022-05-19T20:41:42.165Z"
   },
   {
    "duration": 20037,
    "start_time": "2022-05-19T20:41:51.448Z"
   },
   {
    "duration": 82377,
    "start_time": "2022-05-19T20:43:04.728Z"
   },
   {
    "duration": 9,
    "start_time": "2022-05-19T20:44:27.107Z"
   },
   {
    "duration": 67,
    "start_time": "2022-05-19T20:44:27.118Z"
   },
   {
    "duration": 12,
    "start_time": "2022-05-19T20:44:27.188Z"
   },
   {
    "duration": 5,
    "start_time": "2022-05-19T20:44:45.627Z"
   },
   {
    "duration": 5,
    "start_time": "2022-05-19T20:44:53.013Z"
   },
   {
    "duration": 4,
    "start_time": "2022-05-19T20:45:04.695Z"
   },
   {
    "duration": 8,
    "start_time": "2022-05-19T20:45:17.641Z"
   },
   {
    "duration": 5,
    "start_time": "2022-05-19T20:45:27.794Z"
   },
   {
    "duration": 69,
    "start_time": "2022-05-19T20:48:20.691Z"
   },
   {
    "duration": 1239,
    "start_time": "2022-05-19T20:48:26.650Z"
   },
   {
    "duration": 4,
    "start_time": "2022-05-19T20:49:21.859Z"
   },
   {
    "duration": 5,
    "start_time": "2022-05-19T20:49:23.836Z"
   },
   {
    "duration": 92921,
    "start_time": "2022-05-19T20:49:24.866Z"
   },
   {
    "duration": 6,
    "start_time": "2022-05-19T20:51:48.213Z"
   },
   {
    "duration": 4,
    "start_time": "2022-05-19T20:51:59.071Z"
   },
   {
    "duration": 4,
    "start_time": "2022-05-19T20:52:21.321Z"
   },
   {
    "duration": 4,
    "start_time": "2022-05-19T20:53:21.511Z"
   },
   {
    "duration": 14,
    "start_time": "2022-05-19T20:53:30.029Z"
   },
   {
    "duration": 14,
    "start_time": "2022-05-19T20:54:19.860Z"
   },
   {
    "duration": 18,
    "start_time": "2022-05-19T20:54:22.160Z"
   },
   {
    "duration": 1572,
    "start_time": "2022-05-19T20:58:26.493Z"
   },
   {
    "duration": 841,
    "start_time": "2022-05-19T20:58:28.066Z"
   },
   {
    "duration": 37,
    "start_time": "2022-05-19T20:58:28.909Z"
   },
   {
    "duration": 3,
    "start_time": "2022-05-19T20:58:28.947Z"
   },
   {
    "duration": 12,
    "start_time": "2022-05-19T20:58:28.952Z"
   },
   {
    "duration": 234,
    "start_time": "2022-05-19T20:58:28.983Z"
   },
   {
    "duration": 196,
    "start_time": "2022-05-19T20:58:29.219Z"
   },
   {
    "duration": 5,
    "start_time": "2022-05-19T20:58:29.417Z"
   },
   {
    "duration": 31,
    "start_time": "2022-05-19T20:58:29.424Z"
   },
   {
    "duration": 310,
    "start_time": "2022-05-19T20:58:29.456Z"
   },
   {
    "duration": 2,
    "start_time": "2022-05-19T20:58:29.769Z"
   },
   {
    "duration": 2032,
    "start_time": "2022-05-19T20:58:29.783Z"
   },
   {
    "duration": 271,
    "start_time": "2022-05-19T20:58:31.817Z"
   },
   {
    "duration": 3,
    "start_time": "2022-05-19T20:58:32.092Z"
   },
   {
    "duration": 17,
    "start_time": "2022-05-19T20:58:32.096Z"
   },
   {
    "duration": 6,
    "start_time": "2022-05-19T20:58:32.114Z"
   },
   {
    "duration": 136884,
    "start_time": "2022-05-19T20:58:32.121Z"
   },
   {
    "duration": 98,
    "start_time": "2022-05-19T21:00:49.007Z"
   },
   {
    "duration": 82688,
    "start_time": "2022-05-19T21:00:49.106Z"
   },
   {
    "duration": 3,
    "start_time": "2022-05-19T21:02:11.796Z"
   },
   {
    "duration": 10,
    "start_time": "2022-05-19T21:02:11.801Z"
   },
   {
    "duration": 246,
    "start_time": "2022-05-19T21:02:11.813Z"
   },
   {
    "duration": 4,
    "start_time": "2022-05-19T21:02:12.061Z"
   },
   {
    "duration": 37,
    "start_time": "2022-05-19T21:02:12.067Z"
   },
   {
    "duration": 0,
    "start_time": "2022-05-19T21:02:12.106Z"
   },
   {
    "duration": 0,
    "start_time": "2022-05-19T21:02:12.107Z"
   },
   {
    "duration": 0,
    "start_time": "2022-05-19T21:02:12.108Z"
   },
   {
    "duration": 0,
    "start_time": "2022-05-19T21:02:12.109Z"
   },
   {
    "duration": 4,
    "start_time": "2022-05-19T21:04:14.763Z"
   },
   {
    "duration": 45,
    "start_time": "2022-05-19T21:04:16.586Z"
   },
   {
    "duration": 1493,
    "start_time": "2022-05-19T21:05:55.114Z"
   },
   {
    "duration": 837,
    "start_time": "2022-05-19T21:05:56.609Z"
   },
   {
    "duration": 37,
    "start_time": "2022-05-19T21:05:57.447Z"
   },
   {
    "duration": 3,
    "start_time": "2022-05-19T21:05:57.486Z"
   },
   {
    "duration": 29,
    "start_time": "2022-05-19T21:05:57.490Z"
   },
   {
    "duration": 244,
    "start_time": "2022-05-19T21:05:57.521Z"
   },
   {
    "duration": 218,
    "start_time": "2022-05-19T21:05:57.766Z"
   },
   {
    "duration": 7,
    "start_time": "2022-05-19T21:05:57.986Z"
   },
   {
    "duration": 57,
    "start_time": "2022-05-19T21:05:57.995Z"
   },
   {
    "duration": 303,
    "start_time": "2022-05-19T21:05:58.056Z"
   },
   {
    "duration": 4,
    "start_time": "2022-05-19T21:05:58.360Z"
   },
   {
    "duration": 2107,
    "start_time": "2022-05-19T21:05:58.365Z"
   },
   {
    "duration": 209,
    "start_time": "2022-05-19T21:06:00.475Z"
   },
   {
    "duration": 3,
    "start_time": "2022-05-19T21:06:00.686Z"
   },
   {
    "duration": 16,
    "start_time": "2022-05-19T21:06:00.691Z"
   },
   {
    "duration": 5,
    "start_time": "2022-05-19T21:06:00.709Z"
   },
   {
    "duration": 140177,
    "start_time": "2022-05-19T21:06:00.716Z"
   },
   {
    "duration": 103,
    "start_time": "2022-05-19T21:08:20.894Z"
   },
   {
    "duration": 84214,
    "start_time": "2022-05-19T21:08:20.999Z"
   },
   {
    "duration": 4,
    "start_time": "2022-05-19T21:09:45.215Z"
   },
   {
    "duration": 15,
    "start_time": "2022-05-19T21:09:45.221Z"
   },
   {
    "duration": 117724,
    "start_time": "2022-05-19T21:09:45.238Z"
   },
   {
    "duration": 4,
    "start_time": "2022-05-19T21:11:42.964Z"
   },
   {
    "duration": 36,
    "start_time": "2022-05-19T21:11:42.970Z"
   },
   {
    "duration": 16,
    "start_time": "2022-05-19T21:11:43.008Z"
   },
   {
    "duration": 11,
    "start_time": "2022-05-19T21:11:43.025Z"
   },
   {
    "duration": 19,
    "start_time": "2022-05-19T21:11:43.037Z"
   },
   {
    "duration": 31,
    "start_time": "2022-05-19T21:11:43.060Z"
   },
   {
    "duration": 30,
    "start_time": "2022-05-19T21:12:36.464Z"
   },
   {
    "duration": 15,
    "start_time": "2022-05-19T21:12:48.784Z"
   },
   {
    "duration": 11,
    "start_time": "2022-05-19T21:13:00.789Z"
   },
   {
    "duration": 15,
    "start_time": "2022-05-19T21:13:03.361Z"
   },
   {
    "duration": 141,
    "start_time": "2022-05-19T21:13:22.803Z"
   },
   {
    "duration": 11,
    "start_time": "2022-05-19T21:13:30.995Z"
   },
   {
    "duration": 4,
    "start_time": "2022-05-19T21:14:23.269Z"
   },
   {
    "duration": 31,
    "start_time": "2022-05-19T21:15:02.751Z"
   },
   {
    "duration": 13,
    "start_time": "2022-05-19T21:15:07.797Z"
   },
   {
    "duration": 15,
    "start_time": "2022-05-19T21:15:10.645Z"
   },
   {
    "duration": 1561,
    "start_time": "2022-05-19T21:15:32.763Z"
   },
   {
    "duration": 806,
    "start_time": "2022-05-19T21:15:34.326Z"
   },
   {
    "duration": 28,
    "start_time": "2022-05-19T21:15:35.134Z"
   },
   {
    "duration": 3,
    "start_time": "2022-05-19T21:15:35.163Z"
   },
   {
    "duration": 25,
    "start_time": "2022-05-19T21:15:35.168Z"
   },
   {
    "duration": 242,
    "start_time": "2022-05-19T21:15:35.194Z"
   },
   {
    "duration": 199,
    "start_time": "2022-05-19T21:15:35.438Z"
   },
   {
    "duration": 7,
    "start_time": "2022-05-19T21:15:35.639Z"
   },
   {
    "duration": 40,
    "start_time": "2022-05-19T21:15:35.647Z"
   },
   {
    "duration": 305,
    "start_time": "2022-05-19T21:15:35.691Z"
   },
   {
    "duration": 4,
    "start_time": "2022-05-19T21:15:35.998Z"
   },
   {
    "duration": 2118,
    "start_time": "2022-05-19T21:15:36.004Z"
   },
   {
    "duration": 182,
    "start_time": "2022-05-19T21:15:38.124Z"
   },
   {
    "duration": 3,
    "start_time": "2022-05-19T21:15:38.307Z"
   },
   {
    "duration": 14,
    "start_time": "2022-05-19T21:15:38.312Z"
   },
   {
    "duration": 4,
    "start_time": "2022-05-19T21:15:38.328Z"
   },
   {
    "duration": 136003,
    "start_time": "2022-05-19T21:15:38.333Z"
   },
   {
    "duration": 99,
    "start_time": "2022-05-19T21:17:54.338Z"
   },
   {
    "duration": 81694,
    "start_time": "2022-05-19T21:17:54.439Z"
   },
   {
    "duration": 3,
    "start_time": "2022-05-19T21:19:16.135Z"
   },
   {
    "duration": 43,
    "start_time": "2022-05-19T21:19:16.140Z"
   },
   {
    "duration": 113059,
    "start_time": "2022-05-19T21:19:16.185Z"
   },
   {
    "duration": 4,
    "start_time": "2022-05-19T21:21:09.246Z"
   },
   {
    "duration": 10,
    "start_time": "2022-05-19T21:21:09.252Z"
   },
   {
    "duration": 25,
    "start_time": "2022-05-19T21:21:09.264Z"
   },
   {
    "duration": 3,
    "start_time": "2022-05-19T21:21:09.291Z"
   },
   {
    "duration": 140,
    "start_time": "2022-05-19T21:24:02.530Z"
   },
   {
    "duration": 34,
    "start_time": "2022-05-19T21:24:07.405Z"
   },
   {
    "duration": 26,
    "start_time": "2022-05-19T21:24:14.125Z"
   },
   {
    "duration": 28,
    "start_time": "2022-05-19T21:24:22.766Z"
   },
   {
    "duration": 28,
    "start_time": "2022-05-19T21:24:36.132Z"
   },
   {
    "duration": 19,
    "start_time": "2022-05-19T21:24:43.245Z"
   },
   {
    "duration": 12,
    "start_time": "2022-05-19T21:24:48.413Z"
   },
   {
    "duration": 14,
    "start_time": "2022-05-19T21:24:58.980Z"
   },
   {
    "duration": 12,
    "start_time": "2022-05-19T21:25:08.557Z"
   },
   {
    "duration": 12,
    "start_time": "2022-05-19T21:25:15.546Z"
   },
   {
    "duration": 15,
    "start_time": "2022-05-19T21:25:24.375Z"
   },
   {
    "duration": 14,
    "start_time": "2022-05-19T21:25:38.895Z"
   },
   {
    "duration": 4,
    "start_time": "2022-05-19T21:25:49.706Z"
   },
   {
    "duration": 3,
    "start_time": "2022-05-19T21:25:55.459Z"
   },
   {
    "duration": 4,
    "start_time": "2022-05-19T21:26:06.064Z"
   },
   {
    "duration": 5,
    "start_time": "2022-05-19T21:26:10.571Z"
   },
   {
    "duration": 12,
    "start_time": "2022-05-19T21:26:16.785Z"
   },
   {
    "duration": 11,
    "start_time": "2022-05-19T21:26:29.488Z"
   },
   {
    "duration": 12,
    "start_time": "2022-05-19T21:29:53.192Z"
   },
   {
    "duration": 11,
    "start_time": "2022-05-19T21:32:41.409Z"
   },
   {
    "duration": 12,
    "start_time": "2022-05-19T21:33:36.565Z"
   },
   {
    "duration": 3,
    "start_time": "2022-05-19T21:33:45.401Z"
   },
   {
    "duration": 434,
    "start_time": "2022-05-19T21:33:48.697Z"
   },
   {
    "duration": 12,
    "start_time": "2022-05-19T21:34:34.100Z"
   },
   {
    "duration": 382,
    "start_time": "2022-05-19T21:35:11.905Z"
   },
   {
    "duration": 518,
    "start_time": "2022-05-19T21:37:18.626Z"
   },
   {
    "duration": 17,
    "start_time": "2022-05-19T21:37:26.678Z"
   },
   {
    "duration": 12,
    "start_time": "2022-05-19T21:37:34.757Z"
   },
   {
    "duration": 2150,
    "start_time": "2022-05-20T12:36:13.383Z"
   },
   {
    "duration": 3833,
    "start_time": "2022-05-20T12:36:15.537Z"
   },
   {
    "duration": 41,
    "start_time": "2022-05-20T12:36:19.372Z"
   },
   {
    "duration": 25,
    "start_time": "2022-05-20T12:36:19.415Z"
   },
   {
    "duration": 56,
    "start_time": "2022-05-20T12:36:19.442Z"
   },
   {
    "duration": 264,
    "start_time": "2022-05-20T12:36:19.504Z"
   },
   {
    "duration": 232,
    "start_time": "2022-05-20T12:36:19.770Z"
   },
   {
    "duration": 6,
    "start_time": "2022-05-20T12:36:20.006Z"
   },
   {
    "duration": 29,
    "start_time": "2022-05-20T12:36:20.322Z"
   },
   {
    "duration": 29,
    "start_time": "2022-05-20T12:36:22.754Z"
   },
   {
    "duration": 326,
    "start_time": "2022-05-20T12:36:23.493Z"
   },
   {
    "duration": 4,
    "start_time": "2022-05-20T12:36:24.171Z"
   },
   {
    "duration": 2380,
    "start_time": "2022-05-20T12:36:24.913Z"
   },
   {
    "duration": 1055,
    "start_time": "2022-05-20T12:36:28.208Z"
   },
   {
    "duration": 3,
    "start_time": "2022-05-20T12:36:30.111Z"
   },
   {
    "duration": 25,
    "start_time": "2022-05-20T12:36:31.029Z"
   },
   {
    "duration": 6,
    "start_time": "2022-05-20T12:36:33.749Z"
   },
   {
    "duration": 162174,
    "start_time": "2022-05-20T12:36:34.760Z"
   },
   {
    "duration": 9,
    "start_time": "2022-05-20T12:39:16.936Z"
   },
   {
    "duration": 3,
    "start_time": "2022-05-20T12:40:13.391Z"
   },
   {
    "duration": 93,
    "start_time": "2022-05-20T12:41:06.916Z"
   },
   {
    "duration": 81334,
    "start_time": "2022-05-20T12:41:21.484Z"
   },
   {
    "duration": 184,
    "start_time": "2022-05-20T12:42:42.820Z"
   },
   {
    "duration": 3,
    "start_time": "2022-05-20T12:43:39.680Z"
   },
   {
    "duration": 6,
    "start_time": "2022-05-20T12:46:28.473Z"
   },
   {
    "duration": 4,
    "start_time": "2022-05-20T12:49:14.363Z"
   },
   {
    "duration": 3,
    "start_time": "2022-05-20T12:49:16.413Z"
   },
   {
    "duration": 115,
    "start_time": "2022-05-20T12:49:19.848Z"
   },
   {
    "duration": 79653,
    "start_time": "2022-05-20T12:49:26.365Z"
   },
   {
    "duration": 3,
    "start_time": "2022-05-20T12:50:46.020Z"
   },
   {
    "duration": 110,
    "start_time": "2022-05-20T12:50:46.025Z"
   },
   {
    "duration": 17,
    "start_time": "2022-05-20T12:52:36.490Z"
   },
   {
    "duration": 93,
    "start_time": "2022-05-20T12:53:03.923Z"
   },
   {
    "duration": 86,
    "start_time": "2022-05-20T12:53:04.518Z"
   },
   {
    "duration": 80133,
    "start_time": "2022-05-20T12:53:15.098Z"
   },
   {
    "duration": 61,
    "start_time": "2022-05-20T12:54:35.234Z"
   },
   {
    "duration": 311628,
    "start_time": "2022-05-20T12:55:12.996Z"
   },
   {
    "duration": 4,
    "start_time": "2022-05-20T13:00:29.710Z"
   },
   {
    "duration": 836,
    "start_time": "2022-05-20T13:00:30.472Z"
   },
   {
    "duration": 32,
    "start_time": "2022-05-20T13:00:31.312Z"
   },
   {
    "duration": 3,
    "start_time": "2022-05-20T13:00:31.659Z"
   },
   {
    "duration": 7,
    "start_time": "2022-05-20T13:00:32.745Z"
   },
   {
    "duration": 214,
    "start_time": "2022-05-20T13:00:33.610Z"
   },
   {
    "duration": 213,
    "start_time": "2022-05-20T13:00:34.615Z"
   },
   {
    "duration": 11,
    "start_time": "2022-05-20T13:00:36.101Z"
   },
   {
    "duration": 31,
    "start_time": "2022-05-20T13:00:36.985Z"
   },
   {
    "duration": 272,
    "start_time": "2022-05-20T13:00:37.857Z"
   },
   {
    "duration": 3,
    "start_time": "2022-05-20T13:00:38.568Z"
   },
   {
    "duration": 2228,
    "start_time": "2022-05-20T13:00:39.620Z"
   },
   {
    "duration": 11,
    "start_time": "2022-05-20T13:00:41.850Z"
   },
   {
    "duration": 47,
    "start_time": "2022-05-20T13:00:41.863Z"
   },
   {
    "duration": 10,
    "start_time": "2022-05-20T13:00:42.576Z"
   },
   {
    "duration": 4,
    "start_time": "2022-05-20T13:00:46.341Z"
   },
   {
    "duration": 60662,
    "start_time": "2022-05-20T13:00:47.784Z"
   },
   {
    "duration": 11,
    "start_time": "2022-05-20T13:01:48.448Z"
   },
   {
    "duration": 4,
    "start_time": "2022-05-20T13:01:48.461Z"
   },
   {
    "duration": 18,
    "start_time": "2022-05-20T13:01:48.467Z"
   },
   {
    "duration": 463,
    "start_time": "2022-05-20T13:01:48.487Z"
   },
   {
    "duration": 169,
    "start_time": "2022-05-20T13:01:48.952Z"
   },
   {
    "duration": 1542,
    "start_time": "2022-05-20T13:03:19.910Z"
   },
   {
    "duration": 850,
    "start_time": "2022-05-20T13:03:21.455Z"
   },
   {
    "duration": 37,
    "start_time": "2022-05-20T13:03:22.309Z"
   },
   {
    "duration": 2,
    "start_time": "2022-05-20T13:03:22.348Z"
   },
   {
    "duration": 12,
    "start_time": "2022-05-20T13:03:22.353Z"
   },
   {
    "duration": 242,
    "start_time": "2022-05-20T13:03:22.367Z"
   },
   {
    "duration": 211,
    "start_time": "2022-05-20T13:03:22.611Z"
   },
   {
    "duration": 5,
    "start_time": "2022-05-20T13:03:22.824Z"
   },
   {
    "duration": 26,
    "start_time": "2022-05-20T13:03:22.831Z"
   },
   {
    "duration": 306,
    "start_time": "2022-05-20T13:03:22.859Z"
   },
   {
    "duration": 3,
    "start_time": "2022-05-20T13:03:23.167Z"
   },
   {
    "duration": 2263,
    "start_time": "2022-05-20T13:03:23.171Z"
   },
   {
    "duration": 260,
    "start_time": "2022-05-20T13:03:25.435Z"
   },
   {
    "duration": 10,
    "start_time": "2022-05-20T13:03:25.698Z"
   },
   {
    "duration": 14,
    "start_time": "2022-05-20T13:03:25.710Z"
   },
   {
    "duration": 5,
    "start_time": "2022-05-20T13:03:25.726Z"
   },
   {
    "duration": 150880,
    "start_time": "2022-05-20T13:03:25.733Z"
   },
   {
    "duration": 8,
    "start_time": "2022-05-20T13:05:56.615Z"
   },
   {
    "duration": 6,
    "start_time": "2022-05-20T13:05:56.624Z"
   },
   {
    "duration": 4,
    "start_time": "2022-05-20T13:05:56.631Z"
   },
   {
    "duration": 810,
    "start_time": "2022-05-20T13:05:56.637Z"
   },
   {
    "duration": 0,
    "start_time": "2022-05-20T13:05:57.449Z"
   },
   {
    "duration": 0,
    "start_time": "2022-05-20T13:05:57.451Z"
   },
   {
    "duration": 0,
    "start_time": "2022-05-20T13:05:57.453Z"
   },
   {
    "duration": 0,
    "start_time": "2022-05-20T13:05:57.454Z"
   },
   {
    "duration": 0,
    "start_time": "2022-05-20T13:05:57.456Z"
   },
   {
    "duration": 0,
    "start_time": "2022-05-20T13:05:57.457Z"
   },
   {
    "duration": 0,
    "start_time": "2022-05-20T13:05:57.458Z"
   },
   {
    "duration": 0,
    "start_time": "2022-05-20T13:05:57.460Z"
   },
   {
    "duration": 0,
    "start_time": "2022-05-20T13:05:57.461Z"
   },
   {
    "duration": 0,
    "start_time": "2022-05-20T13:05:57.462Z"
   },
   {
    "duration": 0,
    "start_time": "2022-05-20T13:05:57.464Z"
   },
   {
    "duration": 0,
    "start_time": "2022-05-20T13:05:57.465Z"
   },
   {
    "duration": 0,
    "start_time": "2022-05-20T13:05:57.466Z"
   },
   {
    "duration": 65,
    "start_time": "2022-05-20T13:06:25.809Z"
   },
   {
    "duration": 11,
    "start_time": "2022-05-20T13:06:41.066Z"
   },
   {
    "duration": 340,
    "start_time": "2022-05-20T13:06:47.641Z"
   },
   {
    "duration": 28,
    "start_time": "2022-05-20T13:07:18.823Z"
   },
   {
    "duration": 59150,
    "start_time": "2022-05-20T13:07:26.764Z"
   },
   {
    "duration": 4,
    "start_time": "2022-05-20T13:08:25.917Z"
   },
   {
    "duration": 334,
    "start_time": "2022-05-20T13:08:55.710Z"
   },
   {
    "duration": 80533,
    "start_time": "2022-05-20T13:10:06.537Z"
   },
   {
    "duration": 83397,
    "start_time": "2022-05-20T13:11:42.382Z"
   },
   {
    "duration": 3,
    "start_time": "2022-05-20T13:13:22.036Z"
   },
   {
    "duration": 11,
    "start_time": "2022-05-20T13:13:30.033Z"
   },
   {
    "duration": 15,
    "start_time": "2022-05-20T13:13:38.213Z"
   },
   {
    "duration": 10,
    "start_time": "2022-05-20T13:14:28.739Z"
   },
   {
    "duration": 9,
    "start_time": "2022-05-20T13:15:26.731Z"
   },
   {
    "duration": 19058,
    "start_time": "2022-05-20T13:16:25.356Z"
   },
   {
    "duration": 4,
    "start_time": "2022-05-20T13:16:50.682Z"
   },
   {
    "duration": 26,
    "start_time": "2022-05-20T13:17:37.884Z"
   },
   {
    "duration": 19264,
    "start_time": "2022-05-20T13:17:58.237Z"
   },
   {
    "duration": 3,
    "start_time": "2022-05-20T13:18:41.387Z"
   },
   {
    "duration": 28227,
    "start_time": "2022-05-20T13:18:47.524Z"
   },
   {
    "duration": 4,
    "start_time": "2022-05-20T13:19:25.471Z"
   },
   {
    "duration": 9,
    "start_time": "2022-05-20T13:19:27.310Z"
   },
   {
    "duration": 11,
    "start_time": "2022-05-20T13:19:35.964Z"
   },
   {
    "duration": 7,
    "start_time": "2022-05-20T13:19:42.413Z"
   },
   {
    "duration": 3,
    "start_time": "2022-05-20T13:20:47.982Z"
   },
   {
    "duration": 462,
    "start_time": "2022-05-20T13:20:48.764Z"
   },
   {
    "duration": 541,
    "start_time": "2022-05-20T13:21:00.320Z"
   },
   {
    "duration": 40,
    "start_time": "2022-05-20T13:21:09.072Z"
   },
   {
    "duration": 21,
    "start_time": "2022-05-20T13:21:26.392Z"
   },
   {
    "duration": 15,
    "start_time": "2022-05-20T13:21:33.515Z"
   },
   {
    "duration": 2,
    "start_time": "2022-05-20T13:29:47.895Z"
   },
   {
    "duration": 233,
    "start_time": "2022-05-20T13:34:22.847Z"
   },
   {
    "duration": 13,
    "start_time": "2022-05-20T13:34:25.754Z"
   },
   {
    "duration": 28867,
    "start_time": "2022-05-20T13:36:17.976Z"
   },
   {
    "duration": 41706,
    "start_time": "2022-05-20T13:36:52.706Z"
   },
   {
    "duration": 149,
    "start_time": "2022-05-20T13:37:46.105Z"
   },
   {
    "duration": 5,
    "start_time": "2022-05-20T14:51:52.950Z"
   },
   {
    "duration": 6,
    "start_time": "2022-05-20T14:51:57.231Z"
   },
   {
    "duration": 807,
    "start_time": "2022-05-20T14:51:58.296Z"
   },
   {
    "duration": 31,
    "start_time": "2022-05-20T14:51:59.105Z"
   },
   {
    "duration": 3,
    "start_time": "2022-05-20T14:52:00.230Z"
   },
   {
    "duration": 8,
    "start_time": "2022-05-20T14:52:00.922Z"
   },
   {
    "duration": 237,
    "start_time": "2022-05-20T14:52:01.793Z"
   },
   {
    "duration": 217,
    "start_time": "2022-05-20T14:52:02.809Z"
   },
   {
    "duration": 7,
    "start_time": "2022-05-20T14:52:03.870Z"
   },
   {
    "duration": 25,
    "start_time": "2022-05-20T14:52:04.785Z"
   },
   {
    "duration": 297,
    "start_time": "2022-05-20T14:52:05.581Z"
   },
   {
    "duration": 3,
    "start_time": "2022-05-20T14:52:06.413Z"
   },
   {
    "duration": 2048,
    "start_time": "2022-05-20T14:52:07.410Z"
   },
   {
    "duration": 273,
    "start_time": "2022-05-20T14:52:09.460Z"
   },
   {
    "duration": 3,
    "start_time": "2022-05-20T14:52:09.734Z"
   },
   {
    "duration": 11,
    "start_time": "2022-05-20T14:52:10.621Z"
   },
   {
    "duration": 5,
    "start_time": "2022-05-20T14:52:14.048Z"
   },
   {
    "duration": 142747,
    "start_time": "2022-05-20T14:52:15.242Z"
   },
   {
    "duration": 9,
    "start_time": "2022-05-20T14:54:37.994Z"
   },
   {
    "duration": 3,
    "start_time": "2022-05-20T14:54:38.005Z"
   },
   {
    "duration": 6,
    "start_time": "2022-05-20T14:54:38.010Z"
   },
   {
    "duration": 4,
    "start_time": "2022-05-20T14:54:38.017Z"
   },
   {
    "duration": 82,
    "start_time": "2022-05-20T14:54:38.023Z"
   },
   {
    "duration": 33,
    "start_time": "2022-05-20T14:54:38.106Z"
   },
   {
    "duration": 62674,
    "start_time": "2022-05-20T14:54:38.141Z"
   },
   {
    "duration": 3,
    "start_time": "2022-05-20T14:55:40.817Z"
   },
   {
    "duration": 85201,
    "start_time": "2022-05-20T14:55:40.823Z"
   },
   {
    "duration": 4,
    "start_time": "2022-05-20T14:57:06.026Z"
   },
   {
    "duration": 15,
    "start_time": "2022-05-20T14:57:06.031Z"
   },
   {
    "duration": 17,
    "start_time": "2022-05-20T14:57:06.048Z"
   },
   {
    "duration": 8,
    "start_time": "2022-05-20T14:57:06.066Z"
   },
   {
    "duration": 0,
    "start_time": "2022-05-20T14:57:06.075Z"
   },
   {
    "duration": 0,
    "start_time": "2022-05-20T14:57:06.077Z"
   },
   {
    "duration": 0,
    "start_time": "2022-05-20T14:57:06.078Z"
   },
   {
    "duration": 0,
    "start_time": "2022-05-20T14:57:06.079Z"
   },
   {
    "duration": 0,
    "start_time": "2022-05-20T14:57:06.094Z"
   },
   {
    "duration": 0,
    "start_time": "2022-05-20T14:57:06.095Z"
   },
   {
    "duration": 0,
    "start_time": "2022-05-20T14:57:06.096Z"
   },
   {
    "duration": 0,
    "start_time": "2022-05-20T14:57:06.097Z"
   },
   {
    "duration": 0,
    "start_time": "2022-05-20T14:57:06.098Z"
   },
   {
    "duration": 0,
    "start_time": "2022-05-20T14:57:06.100Z"
   },
   {
    "duration": 0,
    "start_time": "2022-05-20T14:57:06.101Z"
   },
   {
    "duration": 19579,
    "start_time": "2022-05-20T14:57:20.135Z"
   },
   {
    "duration": 3,
    "start_time": "2022-05-20T14:57:39.716Z"
   },
   {
    "duration": 29277,
    "start_time": "2022-05-20T14:57:39.721Z"
   },
   {
    "duration": 3,
    "start_time": "2022-05-20T14:58:09.000Z"
   },
   {
    "duration": 10,
    "start_time": "2022-05-20T14:58:09.005Z"
   },
   {
    "duration": 7,
    "start_time": "2022-05-20T14:58:09.016Z"
   },
   {
    "duration": 28,
    "start_time": "2022-05-20T14:58:09.025Z"
   },
   {
    "duration": 6,
    "start_time": "2022-05-20T14:58:09.055Z"
   },
   {
    "duration": 485,
    "start_time": "2022-05-20T14:58:09.062Z"
   },
   {
    "duration": 551,
    "start_time": "2022-05-20T14:58:09.549Z"
   },
   {
    "duration": 5,
    "start_time": "2022-05-20T14:58:10.102Z"
   },
   {
    "duration": 12,
    "start_time": "2022-05-20T14:58:10.108Z"
   },
   {
    "duration": 20,
    "start_time": "2022-05-20T14:59:11.298Z"
   },
   {
    "duration": 33,
    "start_time": "2022-05-20T14:59:33.536Z"
   },
   {
    "duration": 26033,
    "start_time": "2022-05-20T14:59:46.288Z"
   },
   {
    "duration": 6,
    "start_time": "2022-05-20T15:00:33.968Z"
   },
   {
    "duration": 20,
    "start_time": "2022-05-20T15:00:36.605Z"
   },
   {
    "duration": 6,
    "start_time": "2022-05-20T15:01:21.434Z"
   },
   {
    "duration": 17,
    "start_time": "2022-05-20T15:01:34.308Z"
   },
   {
    "duration": 13,
    "start_time": "2022-05-20T15:02:32.607Z"
   },
   {
    "duration": 16,
    "start_time": "2022-05-20T15:02:58.795Z"
   },
   {
    "duration": 13,
    "start_time": "2022-05-20T15:04:02.686Z"
   },
   {
    "duration": 16820,
    "start_time": "2022-05-20T15:06:34.202Z"
   },
   {
    "duration": 25415,
    "start_time": "2022-05-20T15:06:51.024Z"
   },
   {
    "duration": 1721,
    "start_time": "2022-05-20T15:07:16.441Z"
   },
   {
    "duration": 909,
    "start_time": "2022-05-20T15:07:18.165Z"
   },
   {
    "duration": 35,
    "start_time": "2022-05-20T15:07:19.076Z"
   },
   {
    "duration": 5,
    "start_time": "2022-05-20T15:07:19.113Z"
   },
   {
    "duration": 18,
    "start_time": "2022-05-20T15:07:19.120Z"
   },
   {
    "duration": 256,
    "start_time": "2022-05-20T15:07:19.140Z"
   },
   {
    "duration": 227,
    "start_time": "2022-05-20T15:07:19.398Z"
   },
   {
    "duration": 6,
    "start_time": "2022-05-20T15:07:19.628Z"
   },
   {
    "duration": 38,
    "start_time": "2022-05-20T15:07:19.636Z"
   },
   {
    "duration": 332,
    "start_time": "2022-05-20T15:07:19.676Z"
   },
   {
    "duration": 3,
    "start_time": "2022-05-20T15:07:20.010Z"
   },
   {
    "duration": 2359,
    "start_time": "2022-05-20T15:07:20.015Z"
   },
   {
    "duration": 307,
    "start_time": "2022-05-20T15:07:22.376Z"
   },
   {
    "duration": 3,
    "start_time": "2022-05-20T15:07:22.684Z"
   },
   {
    "duration": 16,
    "start_time": "2022-05-20T15:07:22.688Z"
   },
   {
    "duration": 4,
    "start_time": "2022-05-20T15:07:22.706Z"
   },
   {
    "duration": 150950,
    "start_time": "2022-05-20T15:07:22.712Z"
   },
   {
    "duration": 10,
    "start_time": "2022-05-20T15:09:53.664Z"
   },
   {
    "duration": 4,
    "start_time": "2022-05-20T15:09:53.675Z"
   },
   {
    "duration": 5,
    "start_time": "2022-05-20T15:09:53.694Z"
   },
   {
    "duration": 9,
    "start_time": "2022-05-20T15:09:53.701Z"
   },
   {
    "duration": 86,
    "start_time": "2022-05-20T15:09:53.712Z"
   },
   {
    "duration": 32,
    "start_time": "2022-05-20T15:09:53.800Z"
   },
   {
    "duration": 64895,
    "start_time": "2022-05-20T15:09:53.834Z"
   },
   {
    "duration": 65,
    "start_time": "2022-05-20T15:10:58.731Z"
   },
   {
    "duration": 88179,
    "start_time": "2022-05-20T15:10:58.800Z"
   },
   {
    "duration": 3,
    "start_time": "2022-05-20T15:12:26.981Z"
   },
   {
    "duration": 23,
    "start_time": "2022-05-20T15:12:26.986Z"
   },
   {
    "duration": 11,
    "start_time": "2022-05-20T15:12:27.011Z"
   },
   {
    "duration": 19587,
    "start_time": "2022-05-20T15:12:27.024Z"
   },
   {
    "duration": 4,
    "start_time": "2022-05-20T15:12:46.613Z"
   },
   {
    "duration": 30395,
    "start_time": "2022-05-20T15:12:46.619Z"
   },
   {
    "duration": 4,
    "start_time": "2022-05-20T15:13:17.016Z"
   },
   {
    "duration": 15,
    "start_time": "2022-05-20T15:13:17.022Z"
   },
   {
    "duration": 8,
    "start_time": "2022-05-20T15:13:17.039Z"
   },
   {
    "duration": 31,
    "start_time": "2022-05-20T15:13:17.049Z"
   },
   {
    "duration": 16,
    "start_time": "2022-05-20T15:13:17.082Z"
   },
   {
    "duration": 561,
    "start_time": "2022-05-20T15:13:17.100Z"
   },
   {
    "duration": 583,
    "start_time": "2022-05-20T15:13:17.663Z"
   },
   {
    "duration": 5,
    "start_time": "2022-05-20T15:13:18.248Z"
   },
   {
    "duration": 7,
    "start_time": "2022-05-20T15:13:18.254Z"
   },
   {
    "duration": 11,
    "start_time": "2022-05-20T15:13:18.262Z"
   },
   {
    "duration": 155,
    "start_time": "2022-05-20T15:13:18.274Z"
   },
   {
    "duration": 0,
    "start_time": "2022-05-20T15:13:18.430Z"
   },
   {
    "duration": 13,
    "start_time": "2022-05-20T15:13:56.532Z"
   },
   {
    "duration": 12,
    "start_time": "2022-05-20T15:14:05.770Z"
   },
   {
    "duration": 5948,
    "start_time": "2022-05-20T15:16:42.241Z"
   },
   {
    "duration": 5,
    "start_time": "2022-05-20T15:16:51.215Z"
   },
   {
    "duration": 19,
    "start_time": "2022-05-20T15:17:01.959Z"
   },
   {
    "duration": 12,
    "start_time": "2022-05-20T15:17:07.410Z"
   },
   {
    "duration": 2442,
    "start_time": "2022-05-20T15:21:17.135Z"
   },
   {
    "duration": 2041,
    "start_time": "2022-05-20T15:21:19.580Z"
   },
   {
    "duration": 859,
    "start_time": "2022-05-20T15:21:21.623Z"
   },
   {
    "duration": 34,
    "start_time": "2022-05-20T15:21:22.484Z"
   },
   {
    "duration": 3,
    "start_time": "2022-05-20T15:21:22.519Z"
   },
   {
    "duration": 13,
    "start_time": "2022-05-20T15:21:22.523Z"
   },
   {
    "duration": 258,
    "start_time": "2022-05-20T15:21:22.538Z"
   },
   {
    "duration": 232,
    "start_time": "2022-05-20T15:21:22.798Z"
   },
   {
    "duration": 6,
    "start_time": "2022-05-20T15:21:23.032Z"
   },
   {
    "duration": 46,
    "start_time": "2022-05-20T15:21:23.041Z"
   },
   {
    "duration": 327,
    "start_time": "2022-05-20T15:21:23.089Z"
   },
   {
    "duration": 4,
    "start_time": "2022-05-20T15:21:23.418Z"
   },
   {
    "duration": 2235,
    "start_time": "2022-05-20T15:21:23.424Z"
   },
   {
    "duration": 199,
    "start_time": "2022-05-20T15:21:25.660Z"
   },
   {
    "duration": 3,
    "start_time": "2022-05-20T15:21:25.861Z"
   },
   {
    "duration": 30,
    "start_time": "2022-05-20T15:21:25.866Z"
   },
   {
    "duration": 12,
    "start_time": "2022-05-20T15:21:25.898Z"
   },
   {
    "duration": 151406,
    "start_time": "2022-05-20T15:21:25.911Z"
   },
   {
    "duration": 15,
    "start_time": "2022-05-20T15:23:57.321Z"
   },
   {
    "duration": 12,
    "start_time": "2022-05-20T15:23:57.338Z"
   },
   {
    "duration": 19,
    "start_time": "2022-05-20T15:23:57.353Z"
   },
   {
    "duration": 17,
    "start_time": "2022-05-20T15:23:57.375Z"
   },
   {
    "duration": 108,
    "start_time": "2022-05-20T15:23:57.395Z"
   },
   {
    "duration": 236,
    "start_time": "2022-05-20T15:23:57.506Z"
   },
   {
    "duration": 65053,
    "start_time": "2022-05-20T15:23:57.744Z"
   },
   {
    "duration": 4,
    "start_time": "2022-05-20T15:25:02.799Z"
   },
   {
    "duration": 84017,
    "start_time": "2022-05-20T15:25:02.805Z"
   },
   {
    "duration": 4,
    "start_time": "2022-05-20T15:26:26.826Z"
   },
   {
    "duration": 19,
    "start_time": "2022-05-20T15:26:26.832Z"
   },
   {
    "duration": 11,
    "start_time": "2022-05-20T15:26:26.853Z"
   },
   {
    "duration": 18743,
    "start_time": "2022-05-20T15:26:26.866Z"
   },
   {
    "duration": 3,
    "start_time": "2022-05-20T15:26:45.610Z"
   },
   {
    "duration": 26763,
    "start_time": "2022-05-20T15:26:45.615Z"
   },
   {
    "duration": 3,
    "start_time": "2022-05-20T15:27:12.380Z"
   },
   {
    "duration": 21,
    "start_time": "2022-05-20T15:27:12.384Z"
   },
   {
    "duration": 11,
    "start_time": "2022-05-20T15:27:12.407Z"
   },
   {
    "duration": 30,
    "start_time": "2022-05-20T15:27:12.420Z"
   },
   {
    "duration": 12,
    "start_time": "2022-05-20T15:27:12.452Z"
   },
   {
    "duration": 457,
    "start_time": "2022-05-20T15:27:12.466Z"
   },
   {
    "duration": 553,
    "start_time": "2022-05-20T15:27:12.924Z"
   },
   {
    "duration": 4,
    "start_time": "2022-05-20T15:27:13.479Z"
   },
   {
    "duration": 6,
    "start_time": "2022-05-20T15:27:13.494Z"
   },
   {
    "duration": 40,
    "start_time": "2022-05-20T15:27:13.501Z"
   },
   {
    "duration": 189,
    "start_time": "2022-05-20T15:27:13.543Z"
   },
   {
    "duration": 0,
    "start_time": "2022-05-20T15:27:13.734Z"
   },
   {
    "duration": 37,
    "start_time": "2022-05-20T15:28:28.990Z"
   },
   {
    "duration": 3,
    "start_time": "2022-05-20T15:28:34.231Z"
   },
   {
    "duration": 4,
    "start_time": "2022-05-20T15:28:34.344Z"
   },
   {
    "duration": 28,
    "start_time": "2022-05-20T15:28:36.420Z"
   },
   {
    "duration": 2519,
    "start_time": "2022-05-20T15:31:30.408Z"
   },
   {
    "duration": 1966,
    "start_time": "2022-05-20T15:31:32.929Z"
   },
   {
    "duration": 902,
    "start_time": "2022-05-20T15:31:34.896Z"
   },
   {
    "duration": 34,
    "start_time": "2022-05-20T15:31:35.800Z"
   },
   {
    "duration": 3,
    "start_time": "2022-05-20T15:31:35.836Z"
   },
   {
    "duration": 26,
    "start_time": "2022-05-20T15:31:35.840Z"
   },
   {
    "duration": 254,
    "start_time": "2022-05-20T15:31:35.868Z"
   },
   {
    "duration": 226,
    "start_time": "2022-05-20T15:31:36.123Z"
   },
   {
    "duration": 7,
    "start_time": "2022-05-20T15:31:36.351Z"
   },
   {
    "duration": 43,
    "start_time": "2022-05-20T15:31:36.360Z"
   },
   {
    "duration": 320,
    "start_time": "2022-05-20T15:31:36.405Z"
   },
   {
    "duration": 3,
    "start_time": "2022-05-20T15:31:36.727Z"
   },
   {
    "duration": 2325,
    "start_time": "2022-05-20T15:31:36.732Z"
   },
   {
    "duration": 257,
    "start_time": "2022-05-20T15:31:39.058Z"
   },
   {
    "duration": 2,
    "start_time": "2022-05-20T15:31:39.317Z"
   },
   {
    "duration": 61,
    "start_time": "2022-05-20T15:31:39.320Z"
   },
   {
    "duration": 4,
    "start_time": "2022-05-20T15:31:39.383Z"
   },
   {
    "duration": 148489,
    "start_time": "2022-05-20T15:31:39.389Z"
   },
   {
    "duration": 17,
    "start_time": "2022-05-20T15:34:07.880Z"
   },
   {
    "duration": 4,
    "start_time": "2022-05-20T15:34:07.899Z"
   },
   {
    "duration": 5,
    "start_time": "2022-05-20T15:34:07.905Z"
   },
   {
    "duration": 5,
    "start_time": "2022-05-20T15:34:07.912Z"
   },
   {
    "duration": 96,
    "start_time": "2022-05-20T15:34:07.919Z"
   },
   {
    "duration": 251,
    "start_time": "2022-05-20T15:34:08.017Z"
   },
   {
    "duration": 63857,
    "start_time": "2022-05-20T15:34:08.270Z"
   },
   {
    "duration": 5,
    "start_time": "2022-05-20T15:35:12.129Z"
   },
   {
    "duration": 90319,
    "start_time": "2022-05-20T15:35:12.136Z"
   },
   {
    "duration": 4,
    "start_time": "2022-05-20T15:36:42.458Z"
   },
   {
    "duration": 16,
    "start_time": "2022-05-20T15:36:42.463Z"
   },
   {
    "duration": 19,
    "start_time": "2022-05-20T15:36:42.481Z"
   },
   {
    "duration": 6,
    "start_time": "2022-05-20T15:36:44.551Z"
   },
   {
    "duration": 4,
    "start_time": "2022-05-20T15:36:51.448Z"
   },
   {
    "duration": 5,
    "start_time": "2022-05-20T15:37:11.104Z"
   },
   {
    "duration": 176,
    "start_time": "2022-05-20T15:37:33.183Z"
   },
   {
    "duration": 10,
    "start_time": "2022-05-20T15:38:42.100Z"
   },
   {
    "duration": 22,
    "start_time": "2022-05-20T15:38:58.296Z"
   },
   {
    "duration": 13,
    "start_time": "2022-05-20T15:39:11.844Z"
   },
   {
    "duration": 10,
    "start_time": "2022-05-20T15:39:20.682Z"
   },
   {
    "duration": 18,
    "start_time": "2022-05-20T15:39:24.241Z"
   },
   {
    "duration": 23,
    "start_time": "2022-05-20T15:39:39.350Z"
   },
   {
    "duration": 10,
    "start_time": "2022-05-20T15:39:42.901Z"
   },
   {
    "duration": 518,
    "start_time": "2022-05-20T15:41:51.844Z"
   },
   {
    "duration": 22,
    "start_time": "2022-05-20T15:43:01.973Z"
   },
   {
    "duration": 7,
    "start_time": "2022-05-20T15:44:18.778Z"
   },
   {
    "duration": 9,
    "start_time": "2022-05-20T15:44:35.197Z"
   },
   {
    "duration": 13,
    "start_time": "2022-05-20T15:44:44.915Z"
   },
   {
    "duration": 7,
    "start_time": "2022-05-20T15:45:02.489Z"
   },
   {
    "duration": 17,
    "start_time": "2022-05-20T15:45:12.666Z"
   },
   {
    "duration": 9,
    "start_time": "2022-05-20T15:45:18.063Z"
   },
   {
    "duration": 13,
    "start_time": "2022-05-20T15:45:35.208Z"
   },
   {
    "duration": 2327,
    "start_time": "2022-05-20T15:45:52.229Z"
   },
   {
    "duration": 1968,
    "start_time": "2022-05-20T15:45:54.558Z"
   },
   {
    "duration": 879,
    "start_time": "2022-05-20T15:45:56.527Z"
   },
   {
    "duration": 32,
    "start_time": "2022-05-20T15:45:57.408Z"
   },
   {
    "duration": 3,
    "start_time": "2022-05-20T15:45:57.441Z"
   },
   {
    "duration": 15,
    "start_time": "2022-05-20T15:45:57.446Z"
   },
   {
    "duration": 258,
    "start_time": "2022-05-20T15:45:57.463Z"
   },
   {
    "duration": 218,
    "start_time": "2022-05-20T15:45:57.723Z"
   },
   {
    "duration": 7,
    "start_time": "2022-05-20T15:45:57.942Z"
   },
   {
    "duration": 29,
    "start_time": "2022-05-20T15:45:57.952Z"
   },
   {
    "duration": 311,
    "start_time": "2022-05-20T15:45:57.995Z"
   },
   {
    "duration": 3,
    "start_time": "2022-05-20T15:45:58.308Z"
   },
   {
    "duration": 2184,
    "start_time": "2022-05-20T15:45:58.313Z"
   },
   {
    "duration": 204,
    "start_time": "2022-05-20T15:46:00.498Z"
   },
   {
    "duration": 3,
    "start_time": "2022-05-20T15:46:00.704Z"
   },
   {
    "duration": 20,
    "start_time": "2022-05-20T15:46:00.708Z"
   },
   {
    "duration": 16,
    "start_time": "2022-05-20T15:46:00.730Z"
   },
   {
    "duration": 149086,
    "start_time": "2022-05-20T15:46:00.747Z"
   },
   {
    "duration": 9,
    "start_time": "2022-05-20T15:48:29.835Z"
   },
   {
    "duration": 11,
    "start_time": "2022-05-20T15:48:29.845Z"
   },
   {
    "duration": 14,
    "start_time": "2022-05-20T15:48:29.858Z"
   },
   {
    "duration": 17,
    "start_time": "2022-05-20T15:48:29.874Z"
   },
   {
    "duration": 100,
    "start_time": "2022-05-20T15:48:29.892Z"
   },
   {
    "duration": 240,
    "start_time": "2022-05-20T15:48:29.994Z"
   },
   {
    "duration": 39288,
    "start_time": "2022-05-20T15:48:30.236Z"
   },
   {
    "duration": 17,
    "start_time": "2022-05-20T15:49:09.526Z"
   },
   {
    "duration": 0,
    "start_time": "2022-05-20T15:49:09.545Z"
   },
   {
    "duration": 0,
    "start_time": "2022-05-20T15:49:09.547Z"
   },
   {
    "duration": 0,
    "start_time": "2022-05-20T15:49:09.549Z"
   },
   {
    "duration": 0,
    "start_time": "2022-05-20T15:49:09.551Z"
   },
   {
    "duration": 0,
    "start_time": "2022-05-20T15:49:09.552Z"
   },
   {
    "duration": 27,
    "start_time": "2022-05-20T15:49:10.806Z"
   },
   {
    "duration": 5,
    "start_time": "2022-05-20T15:49:21.287Z"
   },
   {
    "duration": 3,
    "start_time": "2022-05-20T15:49:22.794Z"
   },
   {
    "duration": 105,
    "start_time": "2022-05-20T15:49:23.656Z"
   },
   {
    "duration": 29,
    "start_time": "2022-05-20T15:49:24.953Z"
   },
   {
    "duration": 364,
    "start_time": "2022-05-20T15:49:34.925Z"
   },
   {
    "duration": 12,
    "start_time": "2022-05-20T15:49:41.231Z"
   },
   {
    "duration": 4,
    "start_time": "2022-05-20T15:49:47.916Z"
   },
   {
    "duration": 64722,
    "start_time": "2022-05-20T15:49:52.101Z"
   },
   {
    "duration": 3,
    "start_time": "2022-05-20T15:50:56.826Z"
   },
   {
    "duration": 93653,
    "start_time": "2022-05-20T15:50:56.831Z"
   },
   {
    "duration": 10,
    "start_time": "2022-05-20T15:52:30.486Z"
   },
   {
    "duration": 23,
    "start_time": "2022-05-20T15:52:30.498Z"
   },
   {
    "duration": 15,
    "start_time": "2022-05-20T15:52:46.155Z"
   },
   {
    "duration": 38,
    "start_time": "2022-05-20T15:53:15.204Z"
   },
   {
    "duration": 5,
    "start_time": "2022-05-20T15:54:35.049Z"
   },
   {
    "duration": 85969,
    "start_time": "2022-05-20T15:54:41.392Z"
   },
   {
    "duration": 10,
    "start_time": "2022-05-20T15:56:07.363Z"
   },
   {
    "duration": 22,
    "start_time": "2022-05-20T15:56:07.377Z"
   },
   {
    "duration": 5,
    "start_time": "2022-05-20T15:56:10.999Z"
   },
   {
    "duration": 9,
    "start_time": "2022-05-20T15:56:24.734Z"
   },
   {
    "duration": 4,
    "start_time": "2022-05-20T15:56:36.334Z"
   },
   {
    "duration": 13,
    "start_time": "2022-05-20T15:57:12.715Z"
   },
   {
    "duration": 9,
    "start_time": "2022-05-20T15:57:22.910Z"
   },
   {
    "duration": 13,
    "start_time": "2022-05-20T15:57:25.455Z"
   },
   {
    "duration": 8,
    "start_time": "2022-05-20T15:57:35.967Z"
   },
   {
    "duration": 7,
    "start_time": "2022-05-20T15:57:55.368Z"
   },
   {
    "duration": 9,
    "start_time": "2022-05-20T15:58:04.858Z"
   },
   {
    "duration": 10,
    "start_time": "2022-05-20T15:58:35.721Z"
   },
   {
    "duration": 3,
    "start_time": "2022-05-20T15:59:04.040Z"
   },
   {
    "duration": 82717,
    "start_time": "2022-05-20T15:59:09.649Z"
   },
   {
    "duration": 3,
    "start_time": "2022-05-20T16:00:32.368Z"
   },
   {
    "duration": 22,
    "start_time": "2022-05-20T16:00:32.373Z"
   },
   {
    "duration": 18,
    "start_time": "2022-05-20T16:00:32.397Z"
   },
   {
    "duration": 5,
    "start_time": "2022-05-20T16:02:15.494Z"
   },
   {
    "duration": 3,
    "start_time": "2022-05-20T16:02:16.347Z"
   },
   {
    "duration": 124464,
    "start_time": "2022-05-20T16:02:25.921Z"
   },
   {
    "duration": 15,
    "start_time": "2022-05-20T16:04:30.387Z"
   },
   {
    "duration": 24,
    "start_time": "2022-05-20T16:04:30.405Z"
   },
   {
    "duration": 9,
    "start_time": "2022-05-20T16:04:54.662Z"
   },
   {
    "duration": 9,
    "start_time": "2022-05-20T16:05:23.300Z"
   },
   {
    "duration": 11,
    "start_time": "2022-05-20T16:05:26.862Z"
   },
   {
    "duration": 10,
    "start_time": "2022-05-20T16:05:36.594Z"
   },
   {
    "duration": 7,
    "start_time": "2022-05-20T16:05:56.008Z"
   },
   {
    "duration": 2197,
    "start_time": "2022-05-20T16:07:35.126Z"
   },
   {
    "duration": 1861,
    "start_time": "2022-05-20T16:07:37.326Z"
   },
   {
    "duration": 796,
    "start_time": "2022-05-20T16:07:39.189Z"
   },
   {
    "duration": 30,
    "start_time": "2022-05-20T16:07:39.987Z"
   },
   {
    "duration": 2,
    "start_time": "2022-05-20T16:07:40.018Z"
   },
   {
    "duration": 14,
    "start_time": "2022-05-20T16:07:40.022Z"
   },
   {
    "duration": 237,
    "start_time": "2022-05-20T16:07:40.037Z"
   },
   {
    "duration": 194,
    "start_time": "2022-05-20T16:07:40.276Z"
   },
   {
    "duration": 6,
    "start_time": "2022-05-20T16:07:40.471Z"
   },
   {
    "duration": 41,
    "start_time": "2022-05-20T16:07:40.479Z"
   },
   {
    "duration": 287,
    "start_time": "2022-05-20T16:07:40.521Z"
   },
   {
    "duration": 4,
    "start_time": "2022-05-20T16:07:40.809Z"
   },
   {
    "duration": 2025,
    "start_time": "2022-05-20T16:07:40.814Z"
   },
   {
    "duration": 176,
    "start_time": "2022-05-20T16:07:42.840Z"
   },
   {
    "duration": 2,
    "start_time": "2022-05-20T16:07:43.018Z"
   },
   {
    "duration": 16,
    "start_time": "2022-05-20T16:07:43.022Z"
   },
   {
    "duration": 4,
    "start_time": "2022-05-20T16:07:43.039Z"
   },
   {
    "duration": 140158,
    "start_time": "2022-05-20T16:07:43.044Z"
   },
   {
    "duration": 9,
    "start_time": "2022-05-20T16:10:03.204Z"
   },
   {
    "duration": 11,
    "start_time": "2022-05-20T16:10:08.608Z"
   },
   {
    "duration": 11,
    "start_time": "2022-05-20T16:10:24.922Z"
   },
   {
    "duration": 11,
    "start_time": "2022-05-20T16:10:28.489Z"
   },
   {
    "duration": 8,
    "start_time": "2022-05-20T16:12:31.908Z"
   },
   {
    "duration": 6,
    "start_time": "2022-05-20T16:12:35.126Z"
   },
   {
    "duration": 3,
    "start_time": "2022-05-20T16:12:39.027Z"
   },
   {
    "duration": 4,
    "start_time": "2022-05-20T16:12:41.661Z"
   },
   {
    "duration": 3,
    "start_time": "2022-05-20T16:12:43.387Z"
   },
   {
    "duration": 3,
    "start_time": "2022-05-20T16:12:46.466Z"
   },
   {
    "duration": 2,
    "start_time": "2022-05-20T16:12:48.698Z"
   },
   {
    "duration": 207,
    "start_time": "2022-05-20T16:12:50.890Z"
   },
   {
    "duration": 40,
    "start_time": "2022-05-20T16:12:59.827Z"
   },
   {
    "duration": 2,
    "start_time": "2022-05-20T16:13:03.589Z"
   },
   {
    "duration": 44,
    "start_time": "2022-05-20T16:13:05.229Z"
   },
   {
    "duration": 2290,
    "start_time": "2022-05-20T16:13:50.654Z"
   },
   {
    "duration": 1838,
    "start_time": "2022-05-20T16:13:52.946Z"
   },
   {
    "duration": 817,
    "start_time": "2022-05-20T16:13:54.786Z"
   },
   {
    "duration": 31,
    "start_time": "2022-05-20T16:13:55.605Z"
   },
   {
    "duration": 3,
    "start_time": "2022-05-20T16:13:55.637Z"
   },
   {
    "duration": 16,
    "start_time": "2022-05-20T16:13:55.642Z"
   },
   {
    "duration": 240,
    "start_time": "2022-05-20T16:13:55.659Z"
   },
   {
    "duration": 198,
    "start_time": "2022-05-20T16:13:55.900Z"
   },
   {
    "duration": 6,
    "start_time": "2022-05-20T16:13:56.100Z"
   },
   {
    "duration": 39,
    "start_time": "2022-05-20T16:13:56.109Z"
   },
   {
    "duration": 301,
    "start_time": "2022-05-20T16:13:56.149Z"
   },
   {
    "duration": 4,
    "start_time": "2022-05-20T16:13:56.453Z"
   },
   {
    "duration": 2082,
    "start_time": "2022-05-20T16:13:56.458Z"
   },
   {
    "duration": 187,
    "start_time": "2022-05-20T16:13:58.542Z"
   },
   {
    "duration": 3,
    "start_time": "2022-05-20T16:13:58.730Z"
   },
   {
    "duration": 15,
    "start_time": "2022-05-20T16:13:58.734Z"
   },
   {
    "duration": 4,
    "start_time": "2022-05-20T16:13:58.751Z"
   },
   {
    "duration": 138535,
    "start_time": "2022-05-20T16:13:58.756Z"
   },
   {
    "duration": 8,
    "start_time": "2022-05-20T16:16:17.295Z"
   },
   {
    "duration": 12,
    "start_time": "2022-05-20T16:16:17.305Z"
   },
   {
    "duration": 18,
    "start_time": "2022-05-20T16:16:17.320Z"
   },
   {
    "duration": 6,
    "start_time": "2022-05-20T16:16:17.340Z"
   },
   {
    "duration": 11,
    "start_time": "2022-05-20T16:16:17.348Z"
   },
   {
    "duration": 5,
    "start_time": "2022-05-20T16:16:17.361Z"
   },
   {
    "duration": 6,
    "start_time": "2022-05-20T16:16:17.367Z"
   },
   {
    "duration": 207,
    "start_time": "2022-05-20T16:16:17.374Z"
   },
   {
    "duration": 7,
    "start_time": "2022-05-20T16:17:11.546Z"
   },
   {
    "duration": 7,
    "start_time": "2022-05-20T16:17:21.820Z"
   },
   {
    "duration": 6,
    "start_time": "2022-05-20T16:17:32.997Z"
   },
   {
    "duration": 15,
    "start_time": "2022-05-20T16:17:48.759Z"
   },
   {
    "duration": 2303,
    "start_time": "2022-05-20T16:17:55.133Z"
   },
   {
    "duration": 1868,
    "start_time": "2022-05-20T16:17:57.438Z"
   },
   {
    "duration": 791,
    "start_time": "2022-05-20T16:17:59.308Z"
   },
   {
    "duration": 32,
    "start_time": "2022-05-20T16:18:00.101Z"
   },
   {
    "duration": 14,
    "start_time": "2022-05-20T16:18:00.135Z"
   },
   {
    "duration": 25,
    "start_time": "2022-05-20T16:18:00.151Z"
   },
   {
    "duration": 247,
    "start_time": "2022-05-20T16:18:00.178Z"
   },
   {
    "duration": 211,
    "start_time": "2022-05-20T16:18:00.427Z"
   },
   {
    "duration": 7,
    "start_time": "2022-05-20T16:18:00.639Z"
   },
   {
    "duration": 55,
    "start_time": "2022-05-20T16:18:00.649Z"
   },
   {
    "duration": 303,
    "start_time": "2022-05-20T16:18:00.706Z"
   },
   {
    "duration": 3,
    "start_time": "2022-05-20T16:18:01.011Z"
   },
   {
    "duration": 2012,
    "start_time": "2022-05-20T16:18:01.015Z"
   },
   {
    "duration": 250,
    "start_time": "2022-05-20T16:18:03.029Z"
   },
   {
    "duration": 2,
    "start_time": "2022-05-20T16:18:03.281Z"
   },
   {
    "duration": 15,
    "start_time": "2022-05-20T16:18:03.285Z"
   },
   {
    "duration": 4,
    "start_time": "2022-05-20T16:18:03.301Z"
   },
   {
    "duration": 137331,
    "start_time": "2022-05-20T16:18:03.307Z"
   },
   {
    "duration": 7,
    "start_time": "2022-05-20T16:20:20.640Z"
   },
   {
    "duration": 14,
    "start_time": "2022-05-20T16:20:20.648Z"
   },
   {
    "duration": 11,
    "start_time": "2022-05-20T16:20:20.664Z"
   },
   {
    "duration": 6,
    "start_time": "2022-05-20T16:20:20.676Z"
   },
   {
    "duration": 11,
    "start_time": "2022-05-20T16:20:20.684Z"
   },
   {
    "duration": 70,
    "start_time": "2022-05-20T16:20:20.697Z"
   },
   {
    "duration": 237,
    "start_time": "2022-05-20T16:20:20.769Z"
   },
   {
    "duration": 8,
    "start_time": "2022-05-20T16:20:21.008Z"
   },
   {
    "duration": 61006,
    "start_time": "2022-05-20T16:20:21.018Z"
   },
   {
    "duration": 4,
    "start_time": "2022-05-20T16:21:29.650Z"
   },
   {
    "duration": 130011,
    "start_time": "2022-05-20T16:21:30.918Z"
   },
   {
    "duration": 755,
    "start_time": "2022-05-20T16:23:40.931Z"
   },
   {
    "duration": 0,
    "start_time": "2022-05-20T16:23:41.688Z"
   },
   {
    "duration": 4,
    "start_time": "2022-05-20T16:24:07.455Z"
   },
   {
    "duration": 121273,
    "start_time": "2022-05-20T16:24:26.361Z"
   },
   {
    "duration": 3,
    "start_time": "2022-05-20T16:26:27.636Z"
   },
   {
    "duration": 10,
    "start_time": "2022-05-20T16:26:34.032Z"
   },
   {
    "duration": 9,
    "start_time": "2022-05-20T16:26:52.043Z"
   },
   {
    "duration": 9,
    "start_time": "2022-05-20T16:27:18.294Z"
   },
   {
    "duration": 5,
    "start_time": "2022-05-20T16:28:58.257Z"
   },
   {
    "duration": 119430,
    "start_time": "2022-05-20T16:29:07.550Z"
   },
   {
    "duration": 129,
    "start_time": "2022-05-20T16:31:06.982Z"
   },
   {
    "duration": 12,
    "start_time": "2022-05-20T16:31:07.113Z"
   },
   {
    "duration": 10,
    "start_time": "2022-05-20T16:31:07.127Z"
   },
   {
    "duration": 9,
    "start_time": "2022-05-20T16:31:15.114Z"
   },
   {
    "duration": 19123,
    "start_time": "2022-05-20T16:31:35.109Z"
   },
   {
    "duration": 7,
    "start_time": "2022-05-20T16:31:54.233Z"
   },
   {
    "duration": 45400,
    "start_time": "2022-05-20T16:31:54.295Z"
   },
   {
    "duration": 488,
    "start_time": "2022-05-20T16:32:39.697Z"
   },
   {
    "duration": 0,
    "start_time": "2022-05-20T16:32:40.186Z"
   },
   {
    "duration": 0,
    "start_time": "2022-05-20T16:32:40.188Z"
   },
   {
    "duration": 463,
    "start_time": "2022-05-20T16:33:28.207Z"
   },
   {
    "duration": 4,
    "start_time": "2022-05-20T16:34:30.018Z"
   },
   {
    "duration": 4,
    "start_time": "2022-05-20T16:34:54.770Z"
   },
   {
    "duration": 3,
    "start_time": "2022-05-20T16:35:50.001Z"
   },
   {
    "duration": 111,
    "start_time": "2022-05-20T16:35:51.391Z"
   },
   {
    "duration": 25,
    "start_time": "2022-05-20T16:35:52.198Z"
   },
   {
    "duration": 60649,
    "start_time": "2022-05-20T16:35:55.261Z"
   },
   {
    "duration": 3,
    "start_time": "2022-05-20T16:36:55.912Z"
   },
   {
    "duration": 117283,
    "start_time": "2022-05-20T16:36:55.917Z"
   },
   {
    "duration": 4,
    "start_time": "2022-05-20T16:38:53.202Z"
   },
   {
    "duration": 13,
    "start_time": "2022-05-20T16:38:53.208Z"
   },
   {
    "duration": 565,
    "start_time": "2022-05-20T16:39:10.929Z"
   },
   {
    "duration": 613,
    "start_time": "2022-05-20T16:39:23.842Z"
   },
   {
    "duration": 4,
    "start_time": "2022-05-20T16:39:38.077Z"
   },
   {
    "duration": 4,
    "start_time": "2022-05-20T16:39:42.602Z"
   },
   {
    "duration": 12,
    "start_time": "2022-05-20T16:39:54.575Z"
   },
   {
    "duration": 2214,
    "start_time": "2022-05-20T16:41:39.224Z"
   },
   {
    "duration": 1824,
    "start_time": "2022-05-20T16:41:41.440Z"
   },
   {
    "duration": 779,
    "start_time": "2022-05-20T16:41:43.266Z"
   },
   {
    "duration": 30,
    "start_time": "2022-05-20T16:41:44.047Z"
   },
   {
    "duration": 3,
    "start_time": "2022-05-20T16:41:44.078Z"
   },
   {
    "duration": 10,
    "start_time": "2022-05-20T16:41:44.094Z"
   },
   {
    "duration": 227,
    "start_time": "2022-05-20T16:41:44.106Z"
   },
   {
    "duration": 195,
    "start_time": "2022-05-20T16:41:44.335Z"
   },
   {
    "duration": 6,
    "start_time": "2022-05-20T16:41:44.531Z"
   },
   {
    "duration": 31,
    "start_time": "2022-05-20T16:41:44.539Z"
   },
   {
    "duration": 303,
    "start_time": "2022-05-20T16:41:44.572Z"
   },
   {
    "duration": 3,
    "start_time": "2022-05-20T16:41:44.877Z"
   },
   {
    "duration": 2027,
    "start_time": "2022-05-20T16:41:44.881Z"
   },
   {
    "duration": 266,
    "start_time": "2022-05-20T16:41:46.910Z"
   },
   {
    "duration": 3,
    "start_time": "2022-05-20T16:41:47.177Z"
   },
   {
    "duration": 20,
    "start_time": "2022-05-20T16:41:47.182Z"
   },
   {
    "duration": 17,
    "start_time": "2022-05-20T16:41:47.204Z"
   },
   {
    "duration": 135397,
    "start_time": "2022-05-20T16:41:47.223Z"
   },
   {
    "duration": 5,
    "start_time": "2022-05-20T16:44:02.622Z"
   },
   {
    "duration": 10,
    "start_time": "2022-05-20T16:44:02.629Z"
   },
   {
    "duration": 3,
    "start_time": "2022-05-20T16:44:02.640Z"
   },
   {
    "duration": 6,
    "start_time": "2022-05-20T16:44:02.645Z"
   },
   {
    "duration": 8,
    "start_time": "2022-05-20T16:44:02.652Z"
   },
   {
    "duration": 84,
    "start_time": "2022-05-20T16:44:02.662Z"
   },
   {
    "duration": 225,
    "start_time": "2022-05-20T16:44:02.748Z"
   },
   {
    "duration": 60452,
    "start_time": "2022-05-20T16:44:02.975Z"
   },
   {
    "duration": 3,
    "start_time": "2022-05-20T16:45:03.429Z"
   },
   {
    "duration": 120106,
    "start_time": "2022-05-20T16:45:03.435Z"
   },
   {
    "duration": 776,
    "start_time": "2022-05-20T16:47:03.543Z"
   },
   {
    "duration": 0,
    "start_time": "2022-05-20T16:47:04.320Z"
   },
   {
    "duration": 0,
    "start_time": "2022-05-20T16:47:04.321Z"
   },
   {
    "duration": 0,
    "start_time": "2022-05-20T16:47:04.323Z"
   },
   {
    "duration": 0,
    "start_time": "2022-05-20T16:47:04.324Z"
   },
   {
    "duration": 0,
    "start_time": "2022-05-20T16:47:04.325Z"
   },
   {
    "duration": 0,
    "start_time": "2022-05-20T16:47:04.326Z"
   },
   {
    "duration": 0,
    "start_time": "2022-05-20T16:47:04.327Z"
   },
   {
    "duration": 4,
    "start_time": "2022-05-20T16:47:25.841Z"
   },
   {
    "duration": 12,
    "start_time": "2022-05-20T16:47:30.319Z"
   },
   {
    "duration": 4,
    "start_time": "2022-05-20T16:47:35.578Z"
   },
   {
    "duration": 4,
    "start_time": "2022-05-20T16:47:50.896Z"
   },
   {
    "duration": 4,
    "start_time": "2022-05-20T16:51:31.368Z"
   },
   {
    "duration": 3,
    "start_time": "2022-05-20T16:52:21.123Z"
   },
   {
    "duration": 4,
    "start_time": "2022-05-20T16:52:23.253Z"
   },
   {
    "duration": 3,
    "start_time": "2022-05-20T16:52:24.435Z"
   },
   {
    "duration": 94,
    "start_time": "2022-05-20T16:52:26.818Z"
   },
   {
    "duration": 20,
    "start_time": "2022-05-20T16:52:28.663Z"
   },
   {
    "duration": 60409,
    "start_time": "2022-05-20T16:52:31.323Z"
   },
   {
    "duration": 4,
    "start_time": "2022-05-20T16:53:31.734Z"
   },
   {
    "duration": 119470,
    "start_time": "2022-05-20T16:53:31.740Z"
   },
   {
    "duration": 4,
    "start_time": "2022-05-20T16:55:31.212Z"
   },
   {
    "duration": 4,
    "start_time": "2022-05-20T16:55:41.181Z"
   },
   {
    "duration": 12,
    "start_time": "2022-05-20T16:56:01.410Z"
   },
   {
    "duration": 10,
    "start_time": "2022-05-20T16:56:23.549Z"
   },
   {
    "duration": 4,
    "start_time": "2022-05-20T17:01:32.783Z"
   },
   {
    "duration": 776,
    "start_time": "2022-05-20T17:01:33.618Z"
   },
   {
    "duration": 27,
    "start_time": "2022-05-20T17:01:34.396Z"
   },
   {
    "duration": 3,
    "start_time": "2022-05-20T17:01:34.963Z"
   },
   {
    "duration": 6,
    "start_time": "2022-05-20T17:01:35.625Z"
   },
   {
    "duration": 209,
    "start_time": "2022-05-20T17:01:36.258Z"
   },
   {
    "duration": 195,
    "start_time": "2022-05-20T17:01:37.583Z"
   },
   {
    "duration": 5,
    "start_time": "2022-05-20T17:01:38.534Z"
   },
   {
    "duration": 29,
    "start_time": "2022-05-20T17:01:40.430Z"
   },
   {
    "duration": 276,
    "start_time": "2022-05-20T17:01:41.851Z"
   },
   {
    "duration": 3,
    "start_time": "2022-05-20T17:01:42.704Z"
   },
   {
    "duration": 2167,
    "start_time": "2022-05-20T17:01:44.837Z"
   },
   {
    "duration": 4,
    "start_time": "2022-05-20T17:01:47.005Z"
   },
   {
    "duration": 4,
    "start_time": "2022-05-20T17:01:47.044Z"
   },
   {
    "duration": 11,
    "start_time": "2022-05-20T17:01:48.298Z"
   },
   {
    "duration": 13,
    "start_time": "2022-05-20T17:04:38.461Z"
   },
   {
    "duration": 4,
    "start_time": "2022-05-20T17:04:44.620Z"
   },
   {
    "duration": 5,
    "start_time": "2022-05-20T17:05:08.033Z"
   },
   {
    "duration": 134999,
    "start_time": "2022-05-20T17:05:09.033Z"
   },
   {
    "duration": 6,
    "start_time": "2022-05-20T17:07:24.034Z"
   },
   {
    "duration": 11,
    "start_time": "2022-05-20T17:07:24.042Z"
   },
   {
    "duration": 22,
    "start_time": "2022-05-20T17:07:24.055Z"
   },
   {
    "duration": 3,
    "start_time": "2022-05-20T17:08:28.663Z"
   },
   {
    "duration": 4,
    "start_time": "2022-05-20T17:08:32.265Z"
   },
   {
    "duration": 3,
    "start_time": "2022-05-20T17:08:37.606Z"
   },
   {
    "duration": 80,
    "start_time": "2022-05-20T17:08:41.068Z"
   },
   {
    "duration": 28,
    "start_time": "2022-05-20T17:08:41.985Z"
   },
   {
    "duration": 62137,
    "start_time": "2022-05-20T17:08:43.976Z"
   },
   {
    "duration": 3,
    "start_time": "2022-05-20T17:09:46.115Z"
   },
   {
    "duration": 15,
    "start_time": "2022-05-20T17:09:59.624Z"
   },
   {
    "duration": 131491,
    "start_time": "2022-05-20T17:10:15.775Z"
   },
   {
    "duration": 4,
    "start_time": "2022-05-20T17:12:27.270Z"
   },
   {
    "duration": 25,
    "start_time": "2022-05-20T17:12:27.277Z"
   },
   {
    "duration": 8,
    "start_time": "2022-05-20T17:12:27.305Z"
   },
   {
    "duration": 9,
    "start_time": "2022-05-20T17:13:00.060Z"
   },
   {
    "duration": 6,
    "start_time": "2022-05-20T17:13:19.692Z"
   },
   {
    "duration": 5,
    "start_time": "2022-05-20T17:14:25.477Z"
   },
   {
    "duration": 5,
    "start_time": "2022-05-20T17:14:56.679Z"
   },
   {
    "duration": 16,
    "start_time": "2022-05-20T17:15:45.007Z"
   },
   {
    "duration": 15,
    "start_time": "2022-05-20T17:16:15.723Z"
   },
   {
    "duration": 7,
    "start_time": "2022-05-20T17:17:44.296Z"
   },
   {
    "duration": 18,
    "start_time": "2022-05-20T17:18:17.717Z"
   },
   {
    "duration": 5,
    "start_time": "2022-05-20T17:18:44.723Z"
   },
   {
    "duration": 5,
    "start_time": "2022-05-20T17:18:49.929Z"
   },
   {
    "duration": 4,
    "start_time": "2022-05-20T17:19:00.080Z"
   },
   {
    "duration": 4,
    "start_time": "2022-05-20T17:19:12.858Z"
   },
   {
    "duration": 8,
    "start_time": "2022-05-20T17:19:21.171Z"
   },
   {
    "duration": 4,
    "start_time": "2022-05-20T17:19:23.900Z"
   },
   {
    "duration": 4,
    "start_time": "2022-05-20T17:19:34.666Z"
   },
   {
    "duration": 6,
    "start_time": "2022-05-20T17:19:41.879Z"
   },
   {
    "duration": 7,
    "start_time": "2022-05-20T17:20:00.863Z"
   },
   {
    "duration": 5,
    "start_time": "2022-05-20T17:20:44.805Z"
   },
   {
    "duration": 5,
    "start_time": "2022-05-20T17:20:51.528Z"
   },
   {
    "duration": 11,
    "start_time": "2022-05-20T17:20:58.590Z"
   },
   {
    "duration": 5,
    "start_time": "2022-05-20T17:22:32.318Z"
   },
   {
    "duration": 4,
    "start_time": "2022-05-20T17:22:39.320Z"
   },
   {
    "duration": 4,
    "start_time": "2022-05-20T17:22:48.646Z"
   },
   {
    "duration": 29,
    "start_time": "2022-05-20T17:23:28.206Z"
   },
   {
    "duration": 4,
    "start_time": "2022-05-20T17:23:42.585Z"
   },
   {
    "duration": 5,
    "start_time": "2022-05-20T17:23:49.058Z"
   },
   {
    "duration": 2282,
    "start_time": "2022-05-20T17:24:16.019Z"
   },
   {
    "duration": 1886,
    "start_time": "2022-05-20T17:24:18.304Z"
   },
   {
    "duration": 791,
    "start_time": "2022-05-20T17:24:20.192Z"
   },
   {
    "duration": 33,
    "start_time": "2022-05-20T17:24:20.985Z"
   },
   {
    "duration": 6,
    "start_time": "2022-05-20T17:24:21.019Z"
   },
   {
    "duration": 15,
    "start_time": "2022-05-20T17:24:21.026Z"
   },
   {
    "duration": 237,
    "start_time": "2022-05-20T17:24:21.042Z"
   },
   {
    "duration": 198,
    "start_time": "2022-05-20T17:24:21.281Z"
   },
   {
    "duration": 15,
    "start_time": "2022-05-20T17:24:21.481Z"
   },
   {
    "duration": 30,
    "start_time": "2022-05-20T17:24:21.499Z"
   },
   {
    "duration": 297,
    "start_time": "2022-05-20T17:24:21.531Z"
   },
   {
    "duration": 3,
    "start_time": "2022-05-20T17:24:21.830Z"
   },
   {
    "duration": 2019,
    "start_time": "2022-05-20T17:24:21.835Z"
   },
   {
    "duration": 214,
    "start_time": "2022-05-20T17:24:23.855Z"
   },
   {
    "duration": 3,
    "start_time": "2022-05-20T17:24:24.070Z"
   },
   {
    "duration": 21,
    "start_time": "2022-05-20T17:24:24.075Z"
   },
   {
    "duration": 14,
    "start_time": "2022-05-20T17:24:24.098Z"
   },
   {
    "duration": 138974,
    "start_time": "2022-05-20T17:24:24.114Z"
   },
   {
    "duration": 9,
    "start_time": "2022-05-20T17:26:43.090Z"
   },
   {
    "duration": 13,
    "start_time": "2022-05-20T17:26:43.100Z"
   },
   {
    "duration": 3,
    "start_time": "2022-05-20T17:26:43.115Z"
   },
   {
    "duration": 8,
    "start_time": "2022-05-20T17:26:43.119Z"
   },
   {
    "duration": 5,
    "start_time": "2022-05-20T17:26:43.129Z"
   },
   {
    "duration": 83,
    "start_time": "2022-05-20T17:26:43.136Z"
   },
   {
    "duration": 232,
    "start_time": "2022-05-20T17:26:43.220Z"
   },
   {
    "duration": 60784,
    "start_time": "2022-05-20T17:26:43.454Z"
   },
   {
    "duration": 3,
    "start_time": "2022-05-20T17:27:44.239Z"
   },
   {
    "duration": 116021,
    "start_time": "2022-05-20T17:27:44.245Z"
   },
   {
    "duration": 3,
    "start_time": "2022-05-20T17:29:40.268Z"
   },
   {
    "duration": 21,
    "start_time": "2022-05-20T17:29:40.273Z"
   },
   {
    "duration": 8,
    "start_time": "2022-05-20T17:29:40.296Z"
   },
   {
    "duration": 6,
    "start_time": "2022-05-20T17:29:40.305Z"
   },
   {
    "duration": 11,
    "start_time": "2022-05-20T17:29:40.312Z"
   },
   {
    "duration": 3,
    "start_time": "2022-05-20T17:29:40.324Z"
   },
   {
    "duration": 15,
    "start_time": "2022-05-20T17:29:55.403Z"
   },
   {
    "duration": 4,
    "start_time": "2022-05-20T17:30:02.635Z"
   },
   {
    "duration": 19440,
    "start_time": "2022-05-20T17:30:09.981Z"
   },
   {
    "duration": 3,
    "start_time": "2022-05-20T17:30:29.423Z"
   },
   {
    "duration": 38734,
    "start_time": "2022-05-20T17:30:29.428Z"
   },
   {
    "duration": 4,
    "start_time": "2022-05-20T17:31:08.164Z"
   },
   {
    "duration": 6,
    "start_time": "2022-05-20T17:31:34.109Z"
   },
   {
    "duration": 4,
    "start_time": "2022-05-20T17:31:40.868Z"
   },
   {
    "duration": 9,
    "start_time": "2022-05-20T17:31:53.998Z"
   },
   {
    "duration": 7,
    "start_time": "2022-05-20T17:33:11.136Z"
   },
   {
    "duration": 4,
    "start_time": "2022-05-20T17:33:25.470Z"
   },
   {
    "duration": 5,
    "start_time": "2022-05-20T17:33:26.514Z"
   },
   {
    "duration": 4,
    "start_time": "2022-05-20T17:33:36.507Z"
   },
   {
    "duration": 4,
    "start_time": "2022-05-20T17:33:41.135Z"
   },
   {
    "duration": 26,
    "start_time": "2022-05-20T17:33:49.457Z"
   },
   {
    "duration": 3,
    "start_time": "2022-05-20T17:33:52.656Z"
   },
   {
    "duration": 466,
    "start_time": "2022-05-20T17:33:55.089Z"
   },
   {
    "duration": 520,
    "start_time": "2022-05-20T17:33:57.383Z"
   },
   {
    "duration": 5,
    "start_time": "2022-05-20T17:33:59.045Z"
   },
   {
    "duration": 3,
    "start_time": "2022-05-20T17:34:03.218Z"
   },
   {
    "duration": 4,
    "start_time": "2022-05-20T17:34:05.766Z"
   },
   {
    "duration": 1087,
    "start_time": "2022-05-20T17:34:08.068Z"
   },
   {
    "duration": 3,
    "start_time": "2022-05-20T17:35:00.384Z"
   },
   {
    "duration": 180,
    "start_time": "2022-05-20T17:35:01.417Z"
   },
   {
    "duration": 3,
    "start_time": "2022-05-20T17:35:36.417Z"
   },
   {
    "duration": 1069,
    "start_time": "2022-05-20T17:35:37.926Z"
   },
   {
    "duration": 14,
    "start_time": "2022-05-20T17:35:54.957Z"
   },
   {
    "duration": 14,
    "start_time": "2022-05-20T17:36:01.737Z"
   },
   {
    "duration": 11,
    "start_time": "2022-05-20T17:36:03.908Z"
   },
   {
    "duration": 12,
    "start_time": "2022-05-20T17:36:12.980Z"
   },
   {
    "duration": 12,
    "start_time": "2022-05-20T17:36:15.565Z"
   },
   {
    "duration": 4,
    "start_time": "2022-05-20T17:37:25.097Z"
   },
   {
    "duration": 1112,
    "start_time": "2022-05-20T17:37:26.707Z"
   },
   {
    "duration": 4,
    "start_time": "2022-05-20T17:38:21.481Z"
   },
   {
    "duration": 1043,
    "start_time": "2022-05-20T17:38:23.785Z"
   },
   {
    "duration": 4,
    "start_time": "2022-05-20T17:38:42.536Z"
   },
   {
    "duration": 1113,
    "start_time": "2022-05-20T17:38:44.015Z"
   },
   {
    "duration": 4,
    "start_time": "2022-05-20T17:39:03.565Z"
   },
   {
    "duration": 1243,
    "start_time": "2022-05-20T17:39:04.588Z"
   },
   {
    "duration": 9,
    "start_time": "2022-05-20T17:39:14.938Z"
   },
   {
    "duration": 4,
    "start_time": "2022-05-20T17:39:26.898Z"
   },
   {
    "duration": 3,
    "start_time": "2022-05-20T17:39:46.021Z"
   },
   {
    "duration": 1069,
    "start_time": "2022-05-20T17:39:48.695Z"
   },
   {
    "duration": 1075,
    "start_time": "2022-05-20T17:41:17.765Z"
   },
   {
    "duration": 32,
    "start_time": "2022-05-20T17:43:38.328Z"
   },
   {
    "duration": 4,
    "start_time": "2022-05-20T17:43:42.657Z"
   },
   {
    "duration": 1124,
    "start_time": "2022-05-20T17:43:44.713Z"
   },
   {
    "duration": 14,
    "start_time": "2022-05-20T17:43:58.168Z"
   },
   {
    "duration": 4,
    "start_time": "2022-05-20T17:44:47.921Z"
   },
   {
    "duration": 1218,
    "start_time": "2022-05-20T17:44:49.737Z"
   },
   {
    "duration": 4,
    "start_time": "2022-05-20T17:45:14.251Z"
   },
   {
    "duration": 1171,
    "start_time": "2022-05-20T17:45:15.834Z"
   },
   {
    "duration": 3,
    "start_time": "2022-05-20T17:47:30.271Z"
   },
   {
    "duration": 26,
    "start_time": "2022-05-20T17:47:32.111Z"
   },
   {
    "duration": 3,
    "start_time": "2022-05-20T17:47:44.618Z"
   },
   {
    "duration": 1136,
    "start_time": "2022-05-20T17:47:46.004Z"
   },
   {
    "duration": 4,
    "start_time": "2022-05-20T17:47:55.593Z"
   },
   {
    "duration": 1095,
    "start_time": "2022-05-20T17:47:57.430Z"
   },
   {
    "duration": 37,
    "start_time": "2022-05-20T17:50:24.601Z"
   },
   {
    "duration": 15,
    "start_time": "2022-05-20T17:51:11.099Z"
   },
   {
    "duration": 3,
    "start_time": "2022-05-20T17:51:20.786Z"
   },
   {
    "duration": 1056,
    "start_time": "2022-05-20T17:51:22.539Z"
   },
   {
    "duration": 2310,
    "start_time": "2022-05-20T19:35:17.269Z"
   },
   {
    "duration": 1917,
    "start_time": "2022-05-20T19:35:19.580Z"
   },
   {
    "duration": 791,
    "start_time": "2022-05-20T19:35:21.499Z"
   },
   {
    "duration": 33,
    "start_time": "2022-05-20T19:35:22.291Z"
   },
   {
    "duration": 5,
    "start_time": "2022-05-20T19:35:22.325Z"
   },
   {
    "duration": 19,
    "start_time": "2022-05-20T19:35:22.331Z"
   },
   {
    "duration": 228,
    "start_time": "2022-05-20T19:35:22.352Z"
   },
   {
    "duration": 192,
    "start_time": "2022-05-20T19:35:22.581Z"
   },
   {
    "duration": 6,
    "start_time": "2022-05-20T19:35:22.774Z"
   },
   {
    "duration": 40,
    "start_time": "2022-05-20T19:35:22.782Z"
   },
   {
    "duration": 290,
    "start_time": "2022-05-20T19:35:22.823Z"
   },
   {
    "duration": 3,
    "start_time": "2022-05-20T19:35:23.115Z"
   },
   {
    "duration": 2006,
    "start_time": "2022-05-20T19:35:23.120Z"
   },
   {
    "duration": 282,
    "start_time": "2022-05-20T19:35:25.127Z"
   },
   {
    "duration": 3,
    "start_time": "2022-05-20T19:35:25.410Z"
   },
   {
    "duration": 22,
    "start_time": "2022-05-20T19:35:25.414Z"
   },
   {
    "duration": 16,
    "start_time": "2022-05-20T19:35:25.437Z"
   },
   {
    "duration": 139841,
    "start_time": "2022-05-20T19:35:25.456Z"
   },
   {
    "duration": 7,
    "start_time": "2022-05-20T19:37:45.298Z"
   },
   {
    "duration": 15,
    "start_time": "2022-05-20T19:37:45.306Z"
   },
   {
    "duration": 5,
    "start_time": "2022-05-20T19:37:45.323Z"
   },
   {
    "duration": 7,
    "start_time": "2022-05-20T19:37:45.329Z"
   },
   {
    "duration": 12,
    "start_time": "2022-05-20T19:37:45.338Z"
   },
   {
    "duration": 520,
    "start_time": "2022-05-20T19:37:45.351Z"
   },
   {
    "duration": 562,
    "start_time": "2022-05-20T19:37:45.873Z"
   },
   {
    "duration": 3,
    "start_time": "2022-05-20T19:37:46.437Z"
   },
   {
    "duration": 402999,
    "start_time": "2022-05-20T19:37:46.442Z"
   },
   {
    "duration": 3,
    "start_time": "2022-05-20T19:44:39.632Z"
   },
   {
    "duration": 44417,
    "start_time": "2022-05-20T19:44:41.609Z"
   },
   {
    "duration": 5,
    "start_time": "2022-05-20T19:45:32.028Z"
   },
   {
    "duration": 20356,
    "start_time": "2022-05-20T19:45:33.458Z"
   },
   {
    "duration": 3,
    "start_time": "2022-05-20T19:45:58.428Z"
   },
   {
    "duration": 143251,
    "start_time": "2022-05-20T19:46:00.246Z"
   },
   {
    "duration": 4,
    "start_time": "2022-05-20T19:48:43.506Z"
   },
   {
    "duration": 24,
    "start_time": "2022-05-20T19:48:45.105Z"
   },
   {
    "duration": 4,
    "start_time": "2022-05-20T19:48:58.188Z"
   },
   {
    "duration": 22,
    "start_time": "2022-05-20T19:48:59.591Z"
   },
   {
    "duration": 4,
    "start_time": "2022-05-20T19:50:07.273Z"
   },
   {
    "duration": 58279,
    "start_time": "2022-05-20T19:50:08.950Z"
   },
   {
    "duration": 2302,
    "start_time": "2022-05-20T20:00:16.845Z"
   },
   {
    "duration": 1893,
    "start_time": "2022-05-20T20:00:19.149Z"
   },
   {
    "duration": 813,
    "start_time": "2022-05-20T20:00:21.044Z"
   },
   {
    "duration": 40,
    "start_time": "2022-05-20T20:00:21.859Z"
   },
   {
    "duration": 2,
    "start_time": "2022-05-20T20:00:21.901Z"
   },
   {
    "duration": 16,
    "start_time": "2022-05-20T20:00:21.905Z"
   },
   {
    "duration": 244,
    "start_time": "2022-05-20T20:00:21.923Z"
   },
   {
    "duration": 213,
    "start_time": "2022-05-20T20:00:22.169Z"
   },
   {
    "duration": 11,
    "start_time": "2022-05-20T20:00:22.384Z"
   },
   {
    "duration": 30,
    "start_time": "2022-05-20T20:00:22.398Z"
   },
   {
    "duration": 306,
    "start_time": "2022-05-20T20:00:22.430Z"
   },
   {
    "duration": 4,
    "start_time": "2022-05-20T20:00:22.738Z"
   },
   {
    "duration": 2047,
    "start_time": "2022-05-20T20:00:22.743Z"
   },
   {
    "duration": 189,
    "start_time": "2022-05-20T20:00:24.795Z"
   },
   {
    "duration": 3,
    "start_time": "2022-05-20T20:00:24.986Z"
   },
   {
    "duration": 16,
    "start_time": "2022-05-20T20:00:24.990Z"
   },
   {
    "duration": 4,
    "start_time": "2022-05-20T20:00:25.008Z"
   },
   {
    "duration": 134612,
    "start_time": "2022-05-20T20:00:25.014Z"
   },
   {
    "duration": 7,
    "start_time": "2022-05-20T20:02:39.628Z"
   },
   {
    "duration": 16,
    "start_time": "2022-05-20T20:02:39.637Z"
   },
   {
    "duration": 6,
    "start_time": "2022-05-20T20:02:39.655Z"
   },
   {
    "duration": 5,
    "start_time": "2022-05-20T20:02:39.663Z"
   },
   {
    "duration": 5,
    "start_time": "2022-05-20T20:02:39.670Z"
   },
   {
    "duration": 463,
    "start_time": "2022-05-20T20:02:39.677Z"
   },
   {
    "duration": 520,
    "start_time": "2022-05-20T20:02:40.142Z"
   },
   {
    "duration": 3,
    "start_time": "2022-05-20T20:02:40.664Z"
   },
   {
    "duration": 8,
    "start_time": "2022-05-20T20:02:40.668Z"
   },
   {
    "duration": 225783,
    "start_time": "2022-05-20T20:02:40.680Z"
   },
   {
    "duration": 0,
    "start_time": "2022-05-20T20:06:26.465Z"
   },
   {
    "duration": 0,
    "start_time": "2022-05-20T20:06:26.466Z"
   },
   {
    "duration": 3,
    "start_time": "2022-05-20T20:11:02.641Z"
   },
   {
    "duration": 48879,
    "start_time": "2022-05-20T20:11:03.917Z"
   },
   {
    "duration": 4,
    "start_time": "2022-05-20T20:14:43.962Z"
   },
   {
    "duration": 4,
    "start_time": "2022-05-20T20:15:26.692Z"
   },
   {
    "duration": 6,
    "start_time": "2022-05-20T20:16:04.570Z"
   },
   {
    "duration": 3,
    "start_time": "2022-05-20T20:16:07.555Z"
   },
   {
    "duration": 4,
    "start_time": "2022-05-20T20:16:16.425Z"
   },
   {
    "duration": 62,
    "start_time": "2022-05-20T20:16:24.697Z"
   },
   {
    "duration": 31,
    "start_time": "2022-05-20T20:16:25.511Z"
   },
   {
    "duration": 59649,
    "start_time": "2022-05-20T20:16:28.479Z"
   },
   {
    "duration": 3,
    "start_time": "2022-05-20T20:17:28.130Z"
   },
   {
    "duration": 19406,
    "start_time": "2022-05-20T20:17:28.202Z"
   },
   {
    "duration": 1247,
    "start_time": "2022-05-20T20:17:47.610Z"
   },
   {
    "duration": 19268,
    "start_time": "2022-05-20T20:17:48.859Z"
   },
   {
    "duration": 549,
    "start_time": "2022-05-20T20:18:08.129Z"
   },
   {
    "duration": 511,
    "start_time": "2022-05-20T20:18:08.680Z"
   },
   {
    "duration": 502,
    "start_time": "2022-05-20T20:19:32.217Z"
   },
   {
    "duration": 5,
    "start_time": "2022-05-20T20:19:33.787Z"
   },
   {
    "duration": 3,
    "start_time": "2022-05-20T20:19:38.679Z"
   },
   {
    "duration": 28,
    "start_time": "2022-05-20T20:19:43.917Z"
   },
   {
    "duration": 324,
    "start_time": "2022-05-20T20:20:17.253Z"
   },
   {
    "duration": 4,
    "start_time": "2022-05-20T20:21:40.015Z"
   },
   {
    "duration": 5,
    "start_time": "2022-05-20T20:21:59.646Z"
   },
   {
    "duration": 4,
    "start_time": "2022-05-20T20:22:09.371Z"
   },
   {
    "duration": 5,
    "start_time": "2022-05-20T20:23:55.281Z"
   },
   {
    "duration": 4,
    "start_time": "2022-05-20T20:23:56.612Z"
   },
   {
    "duration": 1349,
    "start_time": "2022-05-20T20:24:00.857Z"
   },
   {
    "duration": 5,
    "start_time": "2022-05-20T20:24:10.179Z"
   },
   {
    "duration": 4,
    "start_time": "2022-05-20T20:34:43.941Z"
   },
   {
    "duration": 4,
    "start_time": "2022-05-20T20:34:45.542Z"
   },
   {
    "duration": 2816,
    "start_time": "2022-05-20T20:34:57.485Z"
   },
   {
    "duration": 4,
    "start_time": "2022-05-20T20:35:10.174Z"
   },
   {
    "duration": 25757,
    "start_time": "2022-05-20T20:35:13.074Z"
   },
   {
    "duration": 4,
    "start_time": "2022-05-20T20:35:53.728Z"
   },
   {
    "duration": 4,
    "start_time": "2022-05-20T20:36:24.047Z"
   },
   {
    "duration": 11264,
    "start_time": "2022-05-20T20:37:47.922Z"
   },
   {
    "duration": 4,
    "start_time": "2022-05-20T20:38:08.546Z"
   },
   {
    "duration": 6129,
    "start_time": "2022-05-20T20:38:09.568Z"
   },
   {
    "duration": 3,
    "start_time": "2022-05-20T20:38:56.996Z"
   },
   {
    "duration": 95937,
    "start_time": "2022-05-20T20:38:58.064Z"
   },
   {
    "duration": 93,
    "start_time": "2022-05-20T20:40:34.004Z"
   },
   {
    "duration": 3,
    "start_time": "2022-05-20T20:42:27.247Z"
   },
   {
    "duration": 4,
    "start_time": "2022-05-20T20:43:13.439Z"
   },
   {
    "duration": 3,
    "start_time": "2022-05-20T20:43:15.650Z"
   },
   {
    "duration": 67,
    "start_time": "2022-05-20T20:43:18.836Z"
   },
   {
    "duration": 27,
    "start_time": "2022-05-20T20:43:19.695Z"
   },
   {
    "duration": 58373,
    "start_time": "2022-05-20T20:43:20.823Z"
   },
   {
    "duration": 4,
    "start_time": "2022-05-20T20:44:19.198Z"
   },
   {
    "duration": 96,
    "start_time": "2022-05-20T20:44:19.204Z"
   },
   {
    "duration": 19328,
    "start_time": "2022-05-20T20:44:19.302Z"
   },
   {
    "duration": 65,
    "start_time": "2022-05-20T20:44:38.632Z"
   },
   {
    "duration": 95,
    "start_time": "2022-05-20T20:44:38.699Z"
   },
   {
    "duration": 4,
    "start_time": "2022-05-20T20:48:49.183Z"
   },
   {
    "duration": 3,
    "start_time": "2022-05-20T20:48:51.093Z"
   },
   {
    "duration": 24641,
    "start_time": "2022-05-20T20:48:57.143Z"
   },
   {
    "duration": 19236,
    "start_time": "2022-05-20T20:49:21.787Z"
   },
   {
    "duration": 11382,
    "start_time": "2022-05-20T20:49:41.025Z"
   },
   {
    "duration": 4,
    "start_time": "2022-05-20T20:50:43.927Z"
   },
   {
    "duration": 5,
    "start_time": "2022-05-20T20:50:45.531Z"
   },
   {
    "duration": 5,
    "start_time": "2022-05-20T20:51:23.516Z"
   },
   {
    "duration": 142115,
    "start_time": "2022-05-20T20:51:29.489Z"
   },
   {
    "duration": 4,
    "start_time": "2022-05-20T20:59:33.579Z"
   },
   {
    "duration": 5,
    "start_time": "2022-05-20T20:59:34.398Z"
   },
   {
    "duration": 55693,
    "start_time": "2022-05-20T20:59:36.729Z"
   },
   {
    "duration": 43682,
    "start_time": "2022-05-20T21:00:32.425Z"
   },
   {
    "duration": 5,
    "start_time": "2022-05-20T21:01:46.525Z"
   },
   {
    "duration": 3,
    "start_time": "2022-05-20T21:02:21.111Z"
   },
   {
    "duration": 4,
    "start_time": "2022-05-20T21:02:21.909Z"
   },
   {
    "duration": 47916,
    "start_time": "2022-05-20T21:02:23.179Z"
   },
   {
    "duration": 5282,
    "start_time": "2022-05-20T21:03:59.937Z"
   },
   {
    "duration": 3,
    "start_time": "2022-05-20T21:04:06.141Z"
   },
   {
    "duration": 5,
    "start_time": "2022-05-20T21:04:06.892Z"
   },
   {
    "duration": 5113,
    "start_time": "2022-05-20T21:04:07.886Z"
   },
   {
    "duration": 9586,
    "start_time": "2022-05-20T21:04:26.817Z"
   },
   {
    "duration": 9,
    "start_time": "2022-05-20T21:06:07.944Z"
   },
   {
    "duration": 9,
    "start_time": "2022-05-20T21:06:39.740Z"
   },
   {
    "duration": 15,
    "start_time": "2022-05-20T21:06:45.418Z"
   },
   {
    "duration": 17,
    "start_time": "2022-05-20T21:06:50.446Z"
   },
   {
    "duration": 7,
    "start_time": "2022-05-20T21:07:45.789Z"
   },
   {
    "duration": 4,
    "start_time": "2022-05-20T21:07:51.760Z"
   },
   {
    "duration": 8,
    "start_time": "2022-05-20T21:08:02.649Z"
   },
   {
    "duration": 2046,
    "start_time": "2022-05-20T21:08:20.866Z"
   },
   {
    "duration": 4,
    "start_time": "2022-05-20T21:08:57.982Z"
   },
   {
    "duration": 15,
    "start_time": "2022-05-20T21:09:15.386Z"
   },
   {
    "duration": 4,
    "start_time": "2022-05-20T21:09:23.160Z"
   },
   {
    "duration": 13,
    "start_time": "2022-05-20T21:09:25.812Z"
   },
   {
    "duration": 15,
    "start_time": "2022-05-20T21:10:20.366Z"
   },
   {
    "duration": 11,
    "start_time": "2022-05-20T21:10:24.001Z"
   },
   {
    "duration": 4,
    "start_time": "2022-05-20T21:10:38.824Z"
   },
   {
    "duration": 7,
    "start_time": "2022-05-20T21:11:09.164Z"
   },
   {
    "duration": 16,
    "start_time": "2022-05-20T21:11:27.498Z"
   },
   {
    "duration": 310,
    "start_time": "2022-05-20T21:12:57.208Z"
   },
   {
    "duration": 12,
    "start_time": "2022-05-20T21:14:49.313Z"
   },
   {
    "duration": 10,
    "start_time": "2022-05-20T21:15:21.429Z"
   },
   {
    "duration": 9,
    "start_time": "2022-05-20T21:15:25.133Z"
   },
   {
    "duration": 6,
    "start_time": "2022-05-20T21:16:01.445Z"
   },
   {
    "duration": 105,
    "start_time": "2022-05-20T21:16:05.884Z"
   },
   {
    "duration": 12,
    "start_time": "2022-05-20T21:16:40.178Z"
   },
   {
    "duration": 13,
    "start_time": "2022-05-20T21:16:48.231Z"
   },
   {
    "duration": 19,
    "start_time": "2022-05-20T21:16:50.899Z"
   },
   {
    "duration": 4,
    "start_time": "2022-05-20T21:16:59.512Z"
   },
   {
    "duration": 4,
    "start_time": "2022-05-20T21:18:23.528Z"
   },
   {
    "duration": 3,
    "start_time": "2022-05-20T21:18:24.399Z"
   },
   {
    "duration": 86,
    "start_time": "2022-05-20T21:18:25.047Z"
   },
   {
    "duration": 28,
    "start_time": "2022-05-20T21:18:25.692Z"
   },
   {
    "duration": 47152,
    "start_time": "2022-05-20T21:18:26.444Z"
   },
   {
    "duration": 3,
    "start_time": "2022-05-20T21:19:13.598Z"
   },
   {
    "duration": 25493,
    "start_time": "2022-05-20T21:19:13.603Z"
   },
   {
    "duration": 5,
    "start_time": "2022-05-20T21:19:48.722Z"
   },
   {
    "duration": 4,
    "start_time": "2022-05-20T21:19:54.200Z"
   },
   {
    "duration": 12,
    "start_time": "2022-05-20T21:20:09.884Z"
   },
   {
    "duration": 9,
    "start_time": "2022-05-20T21:20:24.614Z"
   },
   {
    "duration": 4,
    "start_time": "2022-05-20T21:20:34.252Z"
   },
   {
    "duration": 3,
    "start_time": "2022-05-20T21:20:36.207Z"
   },
   {
    "duration": 93,
    "start_time": "2022-05-20T21:20:37.032Z"
   },
   {
    "duration": 32,
    "start_time": "2022-05-20T21:20:37.813Z"
   },
   {
    "duration": 48320,
    "start_time": "2022-05-20T21:20:38.593Z"
   },
   {
    "duration": 3,
    "start_time": "2022-05-20T21:21:26.915Z"
   },
   {
    "duration": 98,
    "start_time": "2022-05-20T21:21:26.920Z"
   },
   {
    "duration": 4,
    "start_time": "2022-05-20T21:21:27.020Z"
   },
   {
    "duration": 15812,
    "start_time": "2022-05-20T21:21:27.026Z"
   },
   {
    "duration": 4,
    "start_time": "2022-05-20T21:21:42.839Z"
   },
   {
    "duration": 103,
    "start_time": "2022-05-20T21:21:42.895Z"
   },
   {
    "duration": 195686,
    "start_time": "2022-05-20T21:21:44.821Z"
   },
   {
    "duration": 4,
    "start_time": "2022-05-20T21:25:00.509Z"
   },
   {
    "duration": 26607,
    "start_time": "2022-05-20T21:25:00.514Z"
   },
   {
    "duration": 4,
    "start_time": "2022-05-20T21:25:27.125Z"
   },
   {
    "duration": 63715,
    "start_time": "2022-05-20T21:25:27.130Z"
   },
   {
    "duration": 4,
    "start_time": "2022-05-20T21:26:30.846Z"
   },
   {
    "duration": 11661,
    "start_time": "2022-05-20T21:26:30.852Z"
   },
   {
    "duration": 4,
    "start_time": "2022-05-20T21:26:42.515Z"
   },
   {
    "duration": 12,
    "start_time": "2022-05-20T21:26:42.521Z"
   },
   {
    "duration": 7,
    "start_time": "2022-05-20T21:26:42.535Z"
   },
   {
    "duration": 4,
    "start_time": "2022-05-20T21:27:11.138Z"
   },
   {
    "duration": 4,
    "start_time": "2022-05-20T21:27:16.746Z"
   },
   {
    "duration": 4,
    "start_time": "2022-05-20T21:27:17.606Z"
   },
   {
    "duration": 306775,
    "start_time": "2022-05-20T21:27:18.470Z"
   },
   {
    "duration": 4,
    "start_time": "2022-05-20T21:32:25.247Z"
   },
   {
    "duration": 4,
    "start_time": "2022-05-20T21:32:27.323Z"
   },
   {
    "duration": 5,
    "start_time": "2022-05-20T21:32:28.028Z"
   },
   {
    "duration": 2211,
    "start_time": "2022-05-20T21:33:57.953Z"
   },
   {
    "duration": 1898,
    "start_time": "2022-05-20T21:34:00.166Z"
   },
   {
    "duration": 780,
    "start_time": "2022-05-20T21:34:02.066Z"
   },
   {
    "duration": 31,
    "start_time": "2022-05-20T21:34:02.848Z"
   },
   {
    "duration": 16,
    "start_time": "2022-05-20T21:34:02.881Z"
   },
   {
    "duration": 25,
    "start_time": "2022-05-20T21:34:02.899Z"
   },
   {
    "duration": 220,
    "start_time": "2022-05-20T21:34:02.926Z"
   },
   {
    "duration": 201,
    "start_time": "2022-05-20T21:34:03.148Z"
   },
   {
    "duration": 7,
    "start_time": "2022-05-20T21:34:03.351Z"
   },
   {
    "duration": 45,
    "start_time": "2022-05-20T21:34:03.361Z"
   },
   {
    "duration": 280,
    "start_time": "2022-05-20T21:34:03.408Z"
   },
   {
    "duration": 5,
    "start_time": "2022-05-20T21:34:03.690Z"
   },
   {
    "duration": 2017,
    "start_time": "2022-05-20T21:34:03.697Z"
   },
   {
    "duration": 185,
    "start_time": "2022-05-20T21:34:05.716Z"
   },
   {
    "duration": 3,
    "start_time": "2022-05-20T21:34:05.904Z"
   },
   {
    "duration": 13,
    "start_time": "2022-05-20T21:34:05.909Z"
   },
   {
    "duration": 5,
    "start_time": "2022-05-20T21:34:05.924Z"
   },
   {
    "duration": 132286,
    "start_time": "2022-05-20T21:34:05.930Z"
   },
   {
    "duration": 9,
    "start_time": "2022-05-20T21:36:18.218Z"
   },
   {
    "duration": 26,
    "start_time": "2022-05-20T21:36:18.228Z"
   },
   {
    "duration": 15,
    "start_time": "2022-05-20T21:36:18.256Z"
   },
   {
    "duration": 14,
    "start_time": "2022-05-20T21:36:18.272Z"
   },
   {
    "duration": 13,
    "start_time": "2022-05-20T21:36:18.288Z"
   },
   {
    "duration": 69,
    "start_time": "2022-05-20T21:36:18.303Z"
   },
   {
    "duration": 235,
    "start_time": "2022-05-20T21:36:18.373Z"
   },
   {
    "duration": 55009,
    "start_time": "2022-05-20T21:36:18.609Z"
   },
   {
    "duration": 4,
    "start_time": "2022-05-20T21:37:13.620Z"
   },
   {
    "duration": 4,
    "start_time": "2022-05-20T21:37:13.629Z"
   },
   {
    "duration": 25539,
    "start_time": "2022-05-20T21:37:13.635Z"
   },
   {
    "duration": 4,
    "start_time": "2022-05-20T21:37:39.176Z"
   },
   {
    "duration": 17245,
    "start_time": "2022-05-20T21:37:39.181Z"
   },
   {
    "duration": 3,
    "start_time": "2022-05-20T21:37:56.428Z"
   },
   {
    "duration": 10510,
    "start_time": "2022-05-20T21:37:56.433Z"
   },
   {
    "duration": 4,
    "start_time": "2022-05-20T21:38:06.944Z"
   },
   {
    "duration": 10,
    "start_time": "2022-05-20T21:38:06.950Z"
   },
   {
    "duration": 5,
    "start_time": "2022-05-20T21:38:06.962Z"
   },
   {
    "duration": 470,
    "start_time": "2022-05-20T21:38:06.968Z"
   },
   {
    "duration": 516,
    "start_time": "2022-05-20T21:38:07.440Z"
   },
   {
    "duration": 5,
    "start_time": "2022-05-20T21:38:07.957Z"
   },
   {
    "duration": 5,
    "start_time": "2022-05-20T21:38:07.963Z"
   },
   {
    "duration": 7,
    "start_time": "2022-05-20T21:38:07.969Z"
   },
   {
    "duration": 17,
    "start_time": "2022-05-20T21:38:07.977Z"
   },
   {
    "duration": 70706,
    "start_time": "2022-05-20T21:38:07.996Z"
   },
   {
    "duration": 91,
    "start_time": "2022-05-20T21:39:18.704Z"
   },
   {
    "duration": 5,
    "start_time": "2022-05-20T21:39:18.798Z"
   },
   {
    "duration": 7,
    "start_time": "2022-05-20T21:39:18.805Z"
   },
   {
    "duration": 370284,
    "start_time": "2022-05-20T21:39:18.814Z"
   },
   {
    "duration": 4,
    "start_time": "2022-05-20T21:45:29.100Z"
   },
   {
    "duration": 57,
    "start_time": "2022-05-20T21:50:04.816Z"
   },
   {
    "duration": 3,
    "start_time": "2022-05-20T21:50:09.783Z"
   },
   {
    "duration": 5,
    "start_time": "2022-05-20T21:50:11.342Z"
   },
   {
    "duration": 200518,
    "start_time": "2022-05-20T21:50:14.451Z"
   },
   {
    "duration": 3,
    "start_time": "2022-05-20T21:53:34.970Z"
   },
   {
    "duration": 8,
    "start_time": "2022-05-20T21:53:34.974Z"
   },
   {
    "duration": 11,
    "start_time": "2022-05-20T21:53:34.995Z"
   },
   {
    "duration": 57634,
    "start_time": "2022-05-20T21:53:35.007Z"
   },
   {
    "duration": 2,
    "start_time": "2022-05-20T21:54:32.643Z"
   },
   {
    "duration": 4,
    "start_time": "2022-05-20T21:57:29.450Z"
   },
   {
    "duration": 4,
    "start_time": "2022-05-20T21:57:36.785Z"
   },
   {
    "duration": 56122,
    "start_time": "2022-05-20T21:57:37.723Z"
   },
   {
    "duration": 3,
    "start_time": "2022-05-20T21:58:33.846Z"
   },
   {
    "duration": 4,
    "start_time": "2022-05-20T22:00:00.271Z"
   },
   {
    "duration": 5,
    "start_time": "2022-05-20T22:00:01.101Z"
   },
   {
    "duration": 233,
    "start_time": "2022-05-20T22:00:01.974Z"
   },
   {
    "duration": 4,
    "start_time": "2022-05-20T22:00:22.013Z"
   },
   {
    "duration": 4,
    "start_time": "2022-05-20T22:00:22.629Z"
   },
   {
    "duration": 1001,
    "start_time": "2022-05-20T22:00:23.303Z"
   },
   {
    "duration": 3,
    "start_time": "2022-05-20T22:00:39.195Z"
   },
   {
    "duration": 4,
    "start_time": "2022-05-20T22:00:40.094Z"
   },
   {
    "duration": 85992,
    "start_time": "2022-05-20T22:00:40.703Z"
   },
   {
    "duration": 5,
    "start_time": "2022-05-20T22:06:50.653Z"
   },
   {
    "duration": 108,
    "start_time": "2022-05-20T22:08:14.130Z"
   },
   {
    "duration": 3,
    "start_time": "2022-05-20T22:23:06.374Z"
   },
   {
    "duration": 95,
    "start_time": "2022-05-20T22:23:07.690Z"
   },
   {
    "duration": 13,
    "start_time": "2022-05-20T22:23:08.913Z"
   },
   {
    "duration": 12,
    "start_time": "2022-05-20T22:23:40.118Z"
   },
   {
    "duration": 313,
    "start_time": "2022-05-20T22:27:18.690Z"
   },
   {
    "duration": 240,
    "start_time": "2022-05-20T22:31:28.368Z"
   },
   {
    "duration": 450978,
    "start_time": "2022-05-20T22:31:45.140Z"
   },
   {
    "duration": 14,
    "start_time": "2022-05-20T22:39:36.217Z"
   },
   {
    "duration": 392,
    "start_time": "2022-05-20T22:40:18.397Z"
   },
   {
    "duration": 719,
    "start_time": "2022-05-20T22:40:23.112Z"
   },
   {
    "duration": 526,
    "start_time": "2022-05-20T22:40:32.443Z"
   },
   {
    "duration": 890,
    "start_time": "2022-05-20T22:40:41.748Z"
   },
   {
    "duration": 347188,
    "start_time": "2022-05-20T22:41:11.047Z"
   },
   {
    "duration": 4,
    "start_time": "2022-05-20T22:47:45.529Z"
   },
   {
    "duration": 4,
    "start_time": "2022-05-20T22:47:56.600Z"
   },
   {
    "duration": 23218,
    "start_time": "2022-05-20T22:50:14.563Z"
   },
   {
    "duration": 15,
    "start_time": "2022-05-20T22:54:17.349Z"
   },
   {
    "duration": 4,
    "start_time": "2022-05-20T22:54:23.603Z"
   },
   {
    "duration": 13,
    "start_time": "2022-05-20T22:58:01.177Z"
   },
   {
    "duration": 12,
    "start_time": "2022-05-20T22:58:08.676Z"
   },
   {
    "duration": 13,
    "start_time": "2022-05-20T22:58:13.194Z"
   },
   {
    "duration": 11,
    "start_time": "2022-05-20T22:58:26.696Z"
   },
   {
    "duration": 3,
    "start_time": "2022-05-20T22:58:30.866Z"
   },
   {
    "duration": 3,
    "start_time": "2022-05-20T22:58:54.485Z"
   },
   {
    "duration": 5,
    "start_time": "2022-05-20T22:59:06.187Z"
   },
   {
    "duration": 86,
    "start_time": "2022-05-20T23:02:17.253Z"
   },
   {
    "duration": 14,
    "start_time": "2022-05-20T23:02:42.950Z"
   },
   {
    "duration": 987764,
    "start_time": "2022-05-20T23:03:20.619Z"
   },
   {
    "duration": 0,
    "start_time": "2022-05-20T23:19:48.384Z"
   },
   {
    "duration": 0,
    "start_time": "2022-05-20T23:19:48.385Z"
   },
   {
    "duration": 0,
    "start_time": "2022-05-20T23:19:48.386Z"
   },
   {
    "duration": 0,
    "start_time": "2022-05-20T23:19:48.387Z"
   },
   {
    "duration": 2220,
    "start_time": "2022-05-20T23:35:08.531Z"
   },
   {
    "duration": 1775,
    "start_time": "2022-05-20T23:35:10.753Z"
   },
   {
    "duration": 759,
    "start_time": "2022-05-20T23:35:12.530Z"
   },
   {
    "duration": 27,
    "start_time": "2022-05-20T23:35:13.294Z"
   },
   {
    "duration": 2,
    "start_time": "2022-05-20T23:35:13.323Z"
   },
   {
    "duration": 11,
    "start_time": "2022-05-20T23:35:13.327Z"
   },
   {
    "duration": 236,
    "start_time": "2022-05-20T23:35:13.339Z"
   },
   {
    "duration": 185,
    "start_time": "2022-05-20T23:35:13.576Z"
   },
   {
    "duration": 6,
    "start_time": "2022-05-20T23:35:13.762Z"
   },
   {
    "duration": 40,
    "start_time": "2022-05-20T23:35:13.770Z"
   },
   {
    "duration": 271,
    "start_time": "2022-05-20T23:35:13.812Z"
   },
   {
    "duration": 4,
    "start_time": "2022-05-20T23:35:14.085Z"
   },
   {
    "duration": 2016,
    "start_time": "2022-05-20T23:35:14.094Z"
   },
   {
    "duration": 187,
    "start_time": "2022-05-20T23:35:16.112Z"
   },
   {
    "duration": 3,
    "start_time": "2022-05-20T23:35:16.301Z"
   },
   {
    "duration": 14,
    "start_time": "2022-05-20T23:35:16.305Z"
   },
   {
    "duration": 4,
    "start_time": "2022-05-20T23:35:16.321Z"
   },
   {
    "duration": 131042,
    "start_time": "2022-05-20T23:35:16.327Z"
   },
   {
    "duration": 7,
    "start_time": "2022-05-20T23:37:27.370Z"
   },
   {
    "duration": 19,
    "start_time": "2022-05-20T23:37:27.378Z"
   },
   {
    "duration": 2,
    "start_time": "2022-05-20T23:37:27.399Z"
   },
   {
    "duration": 6,
    "start_time": "2022-05-20T23:37:27.402Z"
   },
   {
    "duration": 5,
    "start_time": "2022-05-20T23:37:27.409Z"
   },
   {
    "duration": 65,
    "start_time": "2022-05-20T23:37:27.415Z"
   },
   {
    "duration": 234,
    "start_time": "2022-05-20T23:37:27.482Z"
   },
   {
    "duration": 54304,
    "start_time": "2022-05-20T23:37:27.718Z"
   },
   {
    "duration": 4,
    "start_time": "2022-05-20T23:38:22.023Z"
   },
   {
    "duration": 9,
    "start_time": "2022-05-20T23:38:22.030Z"
   },
   {
    "duration": 26007,
    "start_time": "2022-05-20T23:38:22.041Z"
   },
   {
    "duration": 155,
    "start_time": "2022-05-20T23:38:48.050Z"
   },
   {
    "duration": 0,
    "start_time": "2022-05-20T23:38:48.207Z"
   },
   {
    "duration": 1,
    "start_time": "2022-05-20T23:38:48.208Z"
   },
   {
    "duration": 0,
    "start_time": "2022-05-20T23:38:48.209Z"
   },
   {
    "duration": 0,
    "start_time": "2022-05-20T23:38:48.211Z"
   },
   {
    "duration": 0,
    "start_time": "2022-05-20T23:38:48.212Z"
   },
   {
    "duration": 0,
    "start_time": "2022-05-20T23:38:48.213Z"
   },
   {
    "duration": 0,
    "start_time": "2022-05-20T23:38:48.213Z"
   },
   {
    "duration": 0,
    "start_time": "2022-05-20T23:38:48.214Z"
   },
   {
    "duration": 0,
    "start_time": "2022-05-20T23:38:48.215Z"
   },
   {
    "duration": 0,
    "start_time": "2022-05-20T23:38:48.217Z"
   },
   {
    "duration": 1,
    "start_time": "2022-05-20T23:38:48.217Z"
   },
   {
    "duration": 0,
    "start_time": "2022-05-20T23:38:48.219Z"
   },
   {
    "duration": 0,
    "start_time": "2022-05-20T23:38:48.219Z"
   },
   {
    "duration": 0,
    "start_time": "2022-05-20T23:38:48.220Z"
   },
   {
    "duration": 0,
    "start_time": "2022-05-20T23:38:48.222Z"
   },
   {
    "duration": 0,
    "start_time": "2022-05-20T23:38:48.222Z"
   },
   {
    "duration": 0,
    "start_time": "2022-05-20T23:38:48.223Z"
   },
   {
    "duration": 0,
    "start_time": "2022-05-20T23:38:48.224Z"
   },
   {
    "duration": 0,
    "start_time": "2022-05-20T23:38:48.225Z"
   },
   {
    "duration": 0,
    "start_time": "2022-05-20T23:38:48.226Z"
   },
   {
    "duration": 0,
    "start_time": "2022-05-20T23:38:48.227Z"
   },
   {
    "duration": 0,
    "start_time": "2022-05-20T23:38:48.228Z"
   },
   {
    "duration": 0,
    "start_time": "2022-05-20T23:38:48.228Z"
   },
   {
    "duration": 0,
    "start_time": "2022-05-20T23:38:48.229Z"
   },
   {
    "duration": 0,
    "start_time": "2022-05-20T23:38:48.230Z"
   },
   {
    "duration": 0,
    "start_time": "2022-05-20T23:38:48.231Z"
   },
   {
    "duration": 0,
    "start_time": "2022-05-20T23:38:48.232Z"
   },
   {
    "duration": 0,
    "start_time": "2022-05-20T23:38:48.233Z"
   },
   {
    "duration": 0,
    "start_time": "2022-05-20T23:38:48.233Z"
   },
   {
    "duration": 0,
    "start_time": "2022-05-20T23:38:48.234Z"
   },
   {
    "duration": 0,
    "start_time": "2022-05-20T23:38:48.235Z"
   },
   {
    "duration": 0,
    "start_time": "2022-05-20T23:38:48.236Z"
   },
   {
    "duration": 0,
    "start_time": "2022-05-20T23:38:48.237Z"
   },
   {
    "duration": 0,
    "start_time": "2022-05-20T23:38:48.238Z"
   },
   {
    "duration": 0,
    "start_time": "2022-05-20T23:38:48.239Z"
   },
   {
    "duration": 0,
    "start_time": "2022-05-20T23:38:48.240Z"
   },
   {
    "duration": 0,
    "start_time": "2022-05-20T23:38:48.240Z"
   },
   {
    "duration": 0,
    "start_time": "2022-05-20T23:38:48.295Z"
   },
   {
    "duration": 17399,
    "start_time": "2022-05-20T23:39:01.297Z"
   },
   {
    "duration": 2,
    "start_time": "2022-05-20T23:39:18.698Z"
   },
   {
    "duration": 11638,
    "start_time": "2022-05-20T23:39:18.702Z"
   },
   {
    "duration": 26,
    "start_time": "2022-05-20T23:39:30.343Z"
   },
   {
    "duration": 6,
    "start_time": "2022-05-20T23:39:30.371Z"
   },
   {
    "duration": 17,
    "start_time": "2022-05-20T23:39:30.378Z"
   },
   {
    "duration": 17,
    "start_time": "2022-05-20T23:39:30.396Z"
   },
   {
    "duration": 0,
    "start_time": "2022-05-20T23:39:30.415Z"
   },
   {
    "duration": 0,
    "start_time": "2022-05-20T23:39:30.416Z"
   },
   {
    "duration": 0,
    "start_time": "2022-05-20T23:39:30.417Z"
   },
   {
    "duration": 3,
    "start_time": "2022-05-20T23:39:56.239Z"
   },
   {
    "duration": 15,
    "start_time": "2022-05-20T23:40:00.166Z"
   },
   {
    "duration": 471,
    "start_time": "2022-05-20T23:40:30.165Z"
   },
   {
    "duration": 67,
    "start_time": "2022-05-20T23:40:34.685Z"
   },
   {
    "duration": 8,
    "start_time": "2022-05-20T23:40:37.551Z"
   },
   {
    "duration": 2,
    "start_time": "2022-05-20T23:41:15.958Z"
   },
   {
    "duration": 2134,
    "start_time": "2022-05-20T23:43:11.511Z"
   },
   {
    "duration": 1822,
    "start_time": "2022-05-20T23:43:13.648Z"
   },
   {
    "duration": 770,
    "start_time": "2022-05-20T23:43:15.472Z"
   },
   {
    "duration": 25,
    "start_time": "2022-05-20T23:43:16.244Z"
   },
   {
    "duration": 3,
    "start_time": "2022-05-20T23:43:16.270Z"
   },
   {
    "duration": 26,
    "start_time": "2022-05-20T23:43:16.274Z"
   },
   {
    "duration": 218,
    "start_time": "2022-05-20T23:43:16.302Z"
   },
   {
    "duration": 179,
    "start_time": "2022-05-20T23:43:16.522Z"
   },
   {
    "duration": 6,
    "start_time": "2022-05-20T23:43:16.702Z"
   },
   {
    "duration": 29,
    "start_time": "2022-05-20T23:43:16.710Z"
   },
   {
    "duration": 299,
    "start_time": "2022-05-20T23:43:16.741Z"
   },
   {
    "duration": 4,
    "start_time": "2022-05-20T23:43:17.042Z"
   },
   {
    "duration": 1961,
    "start_time": "2022-05-20T23:43:17.048Z"
   },
   {
    "duration": 222,
    "start_time": "2022-05-20T23:43:19.010Z"
   },
   {
    "duration": 3,
    "start_time": "2022-05-20T23:43:19.233Z"
   },
   {
    "duration": 15,
    "start_time": "2022-05-20T23:43:19.237Z"
   },
   {
    "duration": 23,
    "start_time": "2022-05-20T23:43:19.254Z"
   },
   {
    "duration": 130181,
    "start_time": "2022-05-20T23:43:19.278Z"
   },
   {
    "duration": 6,
    "start_time": "2022-05-20T23:45:29.460Z"
   },
   {
    "duration": 9,
    "start_time": "2022-05-20T23:45:29.467Z"
   },
   {
    "duration": 6,
    "start_time": "2022-05-20T23:45:29.478Z"
   },
   {
    "duration": 3,
    "start_time": "2022-05-20T23:45:29.494Z"
   },
   {
    "duration": 5,
    "start_time": "2022-05-20T23:45:29.499Z"
   },
   {
    "duration": 67,
    "start_time": "2022-05-20T23:45:29.505Z"
   },
   {
    "duration": 236,
    "start_time": "2022-05-20T23:45:29.573Z"
   },
   {
    "duration": 54707,
    "start_time": "2022-05-20T23:45:29.811Z"
   },
   {
    "duration": 4,
    "start_time": "2022-05-20T23:46:24.520Z"
   },
   {
    "duration": 4,
    "start_time": "2022-05-20T23:46:24.527Z"
   },
   {
    "duration": 25410,
    "start_time": "2022-05-20T23:46:24.532Z"
   },
   {
    "duration": 17390,
    "start_time": "2022-05-20T23:46:49.944Z"
   },
   {
    "duration": 61,
    "start_time": "2022-05-20T23:47:07.336Z"
   },
   {
    "duration": 10892,
    "start_time": "2022-05-20T23:47:07.398Z"
   },
   {
    "duration": 25,
    "start_time": "2022-05-20T23:47:18.294Z"
   },
   {
    "duration": 11,
    "start_time": "2022-05-20T23:47:18.320Z"
   },
   {
    "duration": 10,
    "start_time": "2022-05-20T23:47:18.332Z"
   },
   {
    "duration": 162,
    "start_time": "2022-05-20T23:47:18.344Z"
   },
   {
    "duration": 0,
    "start_time": "2022-05-20T23:47:18.508Z"
   },
   {
    "duration": 0,
    "start_time": "2022-05-20T23:47:18.509Z"
   },
   {
    "duration": 0,
    "start_time": "2022-05-20T23:47:18.510Z"
   },
   {
    "duration": 0,
    "start_time": "2022-05-20T23:47:18.511Z"
   },
   {
    "duration": 0,
    "start_time": "2022-05-20T23:47:18.513Z"
   },
   {
    "duration": 0,
    "start_time": "2022-05-20T23:47:18.513Z"
   },
   {
    "duration": 0,
    "start_time": "2022-05-20T23:47:18.515Z"
   },
   {
    "duration": 0,
    "start_time": "2022-05-20T23:47:18.516Z"
   },
   {
    "duration": 0,
    "start_time": "2022-05-20T23:47:18.517Z"
   },
   {
    "duration": 0,
    "start_time": "2022-05-20T23:47:18.517Z"
   },
   {
    "duration": 0,
    "start_time": "2022-05-20T23:47:18.518Z"
   },
   {
    "duration": 0,
    "start_time": "2022-05-20T23:47:18.519Z"
   },
   {
    "duration": 0,
    "start_time": "2022-05-20T23:47:18.520Z"
   },
   {
    "duration": 0,
    "start_time": "2022-05-20T23:47:18.521Z"
   },
   {
    "duration": 0,
    "start_time": "2022-05-20T23:47:18.522Z"
   },
   {
    "duration": 0,
    "start_time": "2022-05-20T23:47:18.523Z"
   },
   {
    "duration": 0,
    "start_time": "2022-05-20T23:47:18.524Z"
   },
   {
    "duration": 0,
    "start_time": "2022-05-20T23:47:18.525Z"
   },
   {
    "duration": 0,
    "start_time": "2022-05-20T23:47:18.526Z"
   },
   {
    "duration": 0,
    "start_time": "2022-05-20T23:47:18.527Z"
   },
   {
    "duration": 0,
    "start_time": "2022-05-20T23:47:18.528Z"
   },
   {
    "duration": 0,
    "start_time": "2022-05-20T23:47:18.529Z"
   },
   {
    "duration": 0,
    "start_time": "2022-05-20T23:47:18.531Z"
   },
   {
    "duration": 0,
    "start_time": "2022-05-20T23:47:18.532Z"
   },
   {
    "duration": 0,
    "start_time": "2022-05-20T23:47:18.532Z"
   },
   {
    "duration": 0,
    "start_time": "2022-05-20T23:47:18.533Z"
   },
   {
    "duration": 1,
    "start_time": "2022-05-20T23:47:18.534Z"
   },
   {
    "duration": 0,
    "start_time": "2022-05-20T23:47:18.535Z"
   },
   {
    "duration": 0,
    "start_time": "2022-05-20T23:47:18.536Z"
   },
   {
    "duration": 0,
    "start_time": "2022-05-20T23:47:18.537Z"
   },
   {
    "duration": 0,
    "start_time": "2022-05-20T23:47:18.538Z"
   },
   {
    "duration": 0,
    "start_time": "2022-05-20T23:47:18.539Z"
   },
   {
    "duration": 12,
    "start_time": "2022-05-20T23:48:15.784Z"
   },
   {
    "duration": 11,
    "start_time": "2022-05-20T23:48:21.883Z"
   },
   {
    "duration": 4,
    "start_time": "2022-05-20T23:48:28.354Z"
   },
   {
    "duration": 732,
    "start_time": "2022-05-20T23:48:29.084Z"
   },
   {
    "duration": 31,
    "start_time": "2022-05-20T23:48:30.684Z"
   },
   {
    "duration": 2,
    "start_time": "2022-05-20T23:48:31.551Z"
   },
   {
    "duration": 7,
    "start_time": "2022-05-20T23:48:32.265Z"
   },
   {
    "duration": 200,
    "start_time": "2022-05-20T23:48:32.913Z"
   },
   {
    "duration": 171,
    "start_time": "2022-05-20T23:48:33.556Z"
   },
   {
    "duration": 5,
    "start_time": "2022-05-20T23:48:34.264Z"
   },
   {
    "duration": 27,
    "start_time": "2022-05-20T23:48:35.563Z"
   },
   {
    "duration": 272,
    "start_time": "2022-05-20T23:48:36.256Z"
   },
   {
    "duration": 3,
    "start_time": "2022-05-20T23:48:36.915Z"
   },
   {
    "duration": 1944,
    "start_time": "2022-05-20T23:48:37.546Z"
   },
   {
    "duration": 5,
    "start_time": "2022-05-20T23:48:39.494Z"
   },
   {
    "duration": 15,
    "start_time": "2022-05-20T23:48:39.500Z"
   },
   {
    "duration": 11,
    "start_time": "2022-05-20T23:48:39.872Z"
   },
   {
    "duration": 5,
    "start_time": "2022-05-20T23:48:40.875Z"
   },
   {
    "duration": 125433,
    "start_time": "2022-05-20T23:48:41.653Z"
   },
   {
    "duration": 8,
    "start_time": "2022-05-20T23:50:47.088Z"
   },
   {
    "duration": 5,
    "start_time": "2022-05-20T23:50:47.098Z"
   },
   {
    "duration": 13,
    "start_time": "2022-05-20T23:50:47.105Z"
   },
   {
    "duration": 4,
    "start_time": "2022-05-20T23:50:56.396Z"
   },
   {
    "duration": 3,
    "start_time": "2022-05-20T23:50:58.106Z"
   },
   {
    "duration": 6,
    "start_time": "2022-05-20T23:51:18.875Z"
   },
   {
    "duration": 7,
    "start_time": "2022-05-20T23:51:20.883Z"
   },
   {
    "duration": 6,
    "start_time": "2022-05-20T23:51:34.173Z"
   },
   {
    "duration": 5,
    "start_time": "2022-05-20T23:51:40.906Z"
   },
   {
    "duration": 5,
    "start_time": "2022-05-20T23:51:44.493Z"
   },
   {
    "duration": 4,
    "start_time": "2022-05-20T23:51:55.233Z"
   },
   {
    "duration": 4,
    "start_time": "2022-05-20T23:51:57.235Z"
   },
   {
    "duration": 3,
    "start_time": "2022-05-20T23:52:06.048Z"
   },
   {
    "duration": 2,
    "start_time": "2022-05-20T23:52:08.365Z"
   },
   {
    "duration": 2,
    "start_time": "2022-05-20T23:52:09.035Z"
   },
   {
    "duration": 66,
    "start_time": "2022-05-20T23:52:09.685Z"
   },
   {
    "duration": 29,
    "start_time": "2022-05-20T23:52:10.305Z"
   },
   {
    "duration": 53010,
    "start_time": "2022-05-20T23:52:11.014Z"
   },
   {
    "duration": 3,
    "start_time": "2022-05-20T23:53:04.026Z"
   },
   {
    "duration": 17,
    "start_time": "2022-05-20T23:53:04.031Z"
   },
   {
    "duration": 24400,
    "start_time": "2022-05-20T23:53:04.050Z"
   },
   {
    "duration": 16477,
    "start_time": "2022-05-20T23:53:28.452Z"
   },
   {
    "duration": 3,
    "start_time": "2022-05-20T23:53:44.930Z"
   },
   {
    "duration": 10299,
    "start_time": "2022-05-20T23:53:44.935Z"
   },
   {
    "duration": 24,
    "start_time": "2022-05-20T23:53:55.236Z"
   },
   {
    "duration": 20,
    "start_time": "2022-05-20T23:53:55.262Z"
   },
   {
    "duration": 23,
    "start_time": "2022-05-20T23:53:55.284Z"
   },
   {
    "duration": 31,
    "start_time": "2022-05-20T23:53:55.308Z"
   },
   {
    "duration": 0,
    "start_time": "2022-05-20T23:53:55.341Z"
   },
   {
    "duration": 0,
    "start_time": "2022-05-20T23:53:55.342Z"
   },
   {
    "duration": 3,
    "start_time": "2022-05-20T23:54:26.834Z"
   },
   {
    "duration": 15,
    "start_time": "2022-05-20T23:54:30.815Z"
   },
   {
    "duration": 2,
    "start_time": "2022-05-20T23:56:23.285Z"
   },
   {
    "duration": 3,
    "start_time": "2022-05-20T23:56:24.085Z"
   },
   {
    "duration": 4,
    "start_time": "2022-05-20T23:56:25.784Z"
   },
   {
    "duration": 15,
    "start_time": "2022-05-20T23:56:27.554Z"
   },
   {
    "duration": 3,
    "start_time": "2022-05-20T23:56:38.133Z"
   },
   {
    "duration": 351,
    "start_time": "2022-05-20T23:56:39.933Z"
   },
   {
    "duration": 2,
    "start_time": "2022-05-20T23:56:56.326Z"
   },
   {
    "duration": 361,
    "start_time": "2022-05-20T23:56:58.723Z"
   },
   {
    "duration": 443,
    "start_time": "2022-05-20T23:57:00.533Z"
   },
   {
    "duration": 10,
    "start_time": "2022-05-20T23:57:03.484Z"
   },
   {
    "duration": 4,
    "start_time": "2022-05-20T23:57:06.623Z"
   },
   {
    "duration": 5,
    "start_time": "2022-05-20T23:57:15.214Z"
   },
   {
    "duration": 3,
    "start_time": "2022-05-20T23:57:18.134Z"
   },
   {
    "duration": 3,
    "start_time": "2022-05-20T23:57:19.724Z"
   },
   {
    "duration": 4,
    "start_time": "2022-05-20T23:57:20.434Z"
   },
   {
    "duration": 43771,
    "start_time": "2022-05-20T23:57:21.126Z"
   },
   {
    "duration": 95,
    "start_time": "2022-05-20T23:58:04.900Z"
   },
   {
    "duration": 4,
    "start_time": "2022-05-20T23:58:04.997Z"
   },
   {
    "duration": 6,
    "start_time": "2022-05-20T23:58:05.003Z"
   },
   {
    "duration": 6582,
    "start_time": "2022-05-20T23:58:05.010Z"
   },
   {
    "duration": 2,
    "start_time": "2022-05-20T23:58:11.595Z"
   },
   {
    "duration": 5,
    "start_time": "2022-05-20T23:58:11.599Z"
   },
   {
    "duration": 8,
    "start_time": "2022-05-20T23:58:11.605Z"
   },
   {
    "duration": 309777,
    "start_time": "2022-05-20T23:58:11.615Z"
   },
   {
    "duration": 2,
    "start_time": "2022-05-21T00:03:21.396Z"
   },
   {
    "duration": 10,
    "start_time": "2022-05-21T00:03:21.400Z"
   },
   {
    "duration": 7,
    "start_time": "2022-05-21T00:03:21.411Z"
   },
   {
    "duration": 141180,
    "start_time": "2022-05-21T00:03:21.420Z"
   },
   {
    "duration": 3,
    "start_time": "2022-05-21T00:05:42.602Z"
   },
   {
    "duration": 10,
    "start_time": "2022-05-21T00:06:05.199Z"
   },
   {
    "duration": 10,
    "start_time": "2022-05-21T00:06:08.423Z"
   },
   {
    "duration": 5,
    "start_time": "2022-05-21T00:08:14.078Z"
   },
   {
    "duration": 4,
    "start_time": "2022-05-21T00:08:33.561Z"
   },
   {
    "duration": 5,
    "start_time": "2022-05-21T00:08:42.949Z"
   },
   {
    "duration": 3,
    "start_time": "2022-05-21T00:08:50.624Z"
   },
   {
    "duration": 14,
    "start_time": "2022-05-21T00:09:26.002Z"
   },
   {
    "duration": 12,
    "start_time": "2022-05-21T00:09:48.959Z"
   },
   {
    "duration": 420,
    "start_time": "2022-05-21T00:10:01.446Z"
   },
   {
    "duration": 343213,
    "start_time": "2022-05-21T00:10:03.373Z"
   },
   {
    "duration": 22435,
    "start_time": "2022-05-21T00:15:46.588Z"
   },
   {
    "duration": 13,
    "start_time": "2022-05-21T00:16:09.024Z"
   },
   {
    "duration": 4,
    "start_time": "2022-05-21T00:16:09.039Z"
   },
   {
    "duration": 4,
    "start_time": "2022-05-21T00:16:36.991Z"
   },
   {
    "duration": 46,
    "start_time": "2022-05-21T00:16:42.412Z"
   },
   {
    "duration": 620203,
    "start_time": "2022-05-21T00:16:44.262Z"
   },
   {
    "duration": 103493,
    "start_time": "2022-05-21T00:27:04.467Z"
   },
   {
    "duration": 14,
    "start_time": "2022-05-21T00:28:47.962Z"
   },
   {
    "duration": 0,
    "start_time": "2022-05-21T00:28:47.978Z"
   },
   {
    "duration": 0,
    "start_time": "2022-05-21T00:28:47.981Z"
   },
   {
    "duration": 0,
    "start_time": "2022-05-21T00:28:47.982Z"
   },
   {
    "duration": 0,
    "start_time": "2022-05-21T00:28:47.983Z"
   },
   {
    "duration": 0,
    "start_time": "2022-05-21T00:28:47.984Z"
   },
   {
    "duration": 5893,
    "start_time": "2022-05-21T06:30:04.875Z"
   },
   {
    "duration": 2347,
    "start_time": "2022-05-21T06:30:10.770Z"
   },
   {
    "duration": 2489,
    "start_time": "2022-05-21T06:30:13.118Z"
   },
   {
    "duration": 37,
    "start_time": "2022-05-21T06:30:15.609Z"
   },
   {
    "duration": 3,
    "start_time": "2022-05-21T06:30:18.767Z"
   },
   {
    "duration": 12,
    "start_time": "2022-05-21T06:30:20.236Z"
   },
   {
    "duration": 247,
    "start_time": "2022-05-21T06:30:29.208Z"
   },
   {
    "duration": 195,
    "start_time": "2022-05-21T06:30:30.219Z"
   },
   {
    "duration": 18,
    "start_time": "2022-05-21T06:30:31.020Z"
   },
   {
    "duration": 4,
    "start_time": "2022-05-21T06:30:38.724Z"
   },
   {
    "duration": 2573,
    "start_time": "2022-05-21T06:30:40.638Z"
   },
   {
    "duration": 7,
    "start_time": "2022-05-21T06:30:58.068Z"
   },
   {
    "duration": 428,
    "start_time": "2022-05-21T06:31:18.087Z"
   },
   {
    "duration": 2,
    "start_time": "2022-05-21T06:31:20.965Z"
   },
   {
    "duration": 17,
    "start_time": "2022-05-21T06:31:22.975Z"
   },
   {
    "duration": 12,
    "start_time": "2022-05-21T06:33:19.166Z"
   },
   {
    "duration": 5,
    "start_time": "2022-05-21T06:33:26.814Z"
   },
   {
    "duration": 154402,
    "start_time": "2022-05-21T06:33:34.087Z"
   },
   {
    "duration": 7,
    "start_time": "2022-05-21T06:37:38.867Z"
   },
   {
    "duration": 7,
    "start_time": "2022-05-21T06:37:59.119Z"
   },
   {
    "duration": 9,
    "start_time": "2022-05-21T06:38:16.919Z"
   },
   {
    "duration": 4,
    "start_time": "2022-05-21T06:38:17.710Z"
   },
   {
    "duration": 2,
    "start_time": "2022-05-21T06:38:22.401Z"
   },
   {
    "duration": 3,
    "start_time": "2022-05-21T06:38:24.670Z"
   },
   {
    "duration": 279,
    "start_time": "2022-05-21T06:38:26.109Z"
   },
   {
    "duration": 29,
    "start_time": "2022-05-21T06:38:27.282Z"
   },
   {
    "duration": 5040,
    "start_time": "2022-05-21T06:45:35.302Z"
   },
   {
    "duration": 4,
    "start_time": "2022-05-21T06:45:46.311Z"
   },
   {
    "duration": 4,
    "start_time": "2022-05-21T06:45:47.844Z"
   },
   {
    "duration": 8820,
    "start_time": "2022-05-21T06:46:05.009Z"
   },
   {
    "duration": 1709,
    "start_time": "2022-05-21T06:46:13.832Z"
   },
   {
    "duration": 4,
    "start_time": "2022-05-21T06:46:15.543Z"
   },
   {
    "duration": 3253,
    "start_time": "2022-05-21T06:46:15.549Z"
   },
   {
    "duration": 11,
    "start_time": "2022-05-21T06:46:28.220Z"
   },
   {
    "duration": 21,
    "start_time": "2022-05-21T06:46:38.568Z"
   },
   {
    "duration": 4,
    "start_time": "2022-05-21T06:46:50.971Z"
   },
   {
    "duration": 6,
    "start_time": "2022-05-21T06:46:53.920Z"
   },
   {
    "duration": 637,
    "start_time": "2022-05-21T06:46:55.836Z"
   },
   {
    "duration": 4,
    "start_time": "2022-05-21T06:47:11.762Z"
   },
   {
    "duration": 432,
    "start_time": "2022-05-21T06:47:13.682Z"
   },
   {
    "duration": 3,
    "start_time": "2022-05-21T06:47:41.310Z"
   },
   {
    "duration": 407,
    "start_time": "2022-05-21T06:47:43.465Z"
   },
   {
    "duration": 466,
    "start_time": "2022-05-21T06:47:47.811Z"
   },
   {
    "duration": 4,
    "start_time": "2022-05-21T06:47:52.187Z"
   },
   {
    "duration": 4,
    "start_time": "2022-05-21T06:47:55.461Z"
   },
   {
    "duration": 3,
    "start_time": "2022-05-21T06:48:06.911Z"
   },
   {
    "duration": 420,
    "start_time": "2022-05-21T06:48:09.539Z"
   },
   {
    "duration": 427,
    "start_time": "2022-05-21T06:48:10.760Z"
   },
   {
    "duration": 4,
    "start_time": "2022-05-21T06:48:12.012Z"
   },
   {
    "duration": 4,
    "start_time": "2022-05-21T06:48:35.192Z"
   },
   {
    "duration": 419,
    "start_time": "2022-05-21T06:48:36.765Z"
   },
   {
    "duration": 455,
    "start_time": "2022-05-21T06:48:38.489Z"
   },
   {
    "duration": 4,
    "start_time": "2022-05-21T06:48:39.268Z"
   },
   {
    "duration": 15,
    "start_time": "2022-05-21T06:49:04.429Z"
   },
   {
    "duration": 5,
    "start_time": "2022-05-21T06:49:08.776Z"
   },
   {
    "duration": 4,
    "start_time": "2022-05-21T06:49:18.815Z"
   },
   {
    "duration": 3,
    "start_time": "2022-05-21T06:49:33.297Z"
   },
   {
    "duration": 7,
    "start_time": "2022-05-21T06:49:34.228Z"
   },
   {
    "duration": 433,
    "start_time": "2022-05-21T06:49:35.520Z"
   },
   {
    "duration": 438,
    "start_time": "2022-05-21T06:49:36.219Z"
   },
   {
    "duration": 4,
    "start_time": "2022-05-21T06:49:36.806Z"
   },
   {
    "duration": 4,
    "start_time": "2022-05-21T06:49:47.029Z"
   },
   {
    "duration": 429,
    "start_time": "2022-05-21T06:49:47.767Z"
   },
   {
    "duration": 446,
    "start_time": "2022-05-21T06:49:48.296Z"
   },
   {
    "duration": 4,
    "start_time": "2022-05-21T06:49:48.864Z"
   },
   {
    "duration": 4,
    "start_time": "2022-05-21T06:49:59.957Z"
   },
   {
    "duration": 423,
    "start_time": "2022-05-21T06:50:00.870Z"
   },
   {
    "duration": 573,
    "start_time": "2022-05-21T06:50:01.596Z"
   },
   {
    "duration": 4,
    "start_time": "2022-05-21T06:50:02.294Z"
   },
   {
    "duration": 4,
    "start_time": "2022-05-21T06:50:06.805Z"
   },
   {
    "duration": 481,
    "start_time": "2022-05-21T06:50:07.839Z"
   },
   {
    "duration": 515,
    "start_time": "2022-05-21T06:50:08.371Z"
   },
   {
    "duration": 10,
    "start_time": "2022-05-21T06:50:09.037Z"
   },
   {
    "duration": 12,
    "start_time": "2022-05-21T06:50:14.424Z"
   },
   {
    "duration": 432,
    "start_time": "2022-05-21T06:50:15.880Z"
   },
   {
    "duration": 505,
    "start_time": "2022-05-21T06:50:16.509Z"
   },
   {
    "duration": 4,
    "start_time": "2022-05-21T06:50:18.759Z"
   },
   {
    "duration": 3,
    "start_time": "2022-05-21T06:50:25.078Z"
   },
   {
    "duration": 435,
    "start_time": "2022-05-21T06:50:26.101Z"
   },
   {
    "duration": 475,
    "start_time": "2022-05-21T06:50:26.682Z"
   },
   {
    "duration": 15,
    "start_time": "2022-05-21T06:50:27.220Z"
   },
   {
    "duration": 3,
    "start_time": "2022-05-21T06:50:31.202Z"
   },
   {
    "duration": 479,
    "start_time": "2022-05-21T06:50:32.167Z"
   },
   {
    "duration": 604,
    "start_time": "2022-05-21T06:50:32.774Z"
   },
   {
    "duration": 3,
    "start_time": "2022-05-21T06:50:33.381Z"
   },
   {
    "duration": 4,
    "start_time": "2022-05-21T06:50:40.132Z"
   },
   {
    "duration": 404,
    "start_time": "2022-05-21T06:50:40.815Z"
   },
   {
    "duration": 429,
    "start_time": "2022-05-21T06:50:41.332Z"
   },
   {
    "duration": 5,
    "start_time": "2022-05-21T06:50:41.810Z"
   },
   {
    "duration": 5,
    "start_time": "2022-05-21T06:50:49.991Z"
   },
   {
    "duration": 388,
    "start_time": "2022-05-21T06:50:50.608Z"
   },
   {
    "duration": 436,
    "start_time": "2022-05-21T06:50:51.162Z"
   },
   {
    "duration": 4,
    "start_time": "2022-05-21T06:50:51.780Z"
   },
   {
    "duration": 3,
    "start_time": "2022-05-21T06:50:57.671Z"
   },
   {
    "duration": 510,
    "start_time": "2022-05-21T06:50:58.662Z"
   },
   {
    "duration": 493,
    "start_time": "2022-05-21T06:50:59.283Z"
   },
   {
    "duration": 5,
    "start_time": "2022-05-21T06:50:59.879Z"
   },
   {
    "duration": 3,
    "start_time": "2022-05-21T06:51:11.094Z"
   },
   {
    "duration": 455,
    "start_time": "2022-05-21T06:51:12.683Z"
   },
   {
    "duration": 452,
    "start_time": "2022-05-21T06:51:13.265Z"
   },
   {
    "duration": 4,
    "start_time": "2022-05-21T06:51:13.862Z"
   },
   {
    "duration": 3,
    "start_time": "2022-05-21T06:51:19.690Z"
   },
   {
    "duration": 5,
    "start_time": "2022-05-21T06:51:21.439Z"
   },
   {
    "duration": 8,
    "start_time": "2022-05-21T06:51:25.090Z"
   },
   {
    "duration": 149512,
    "start_time": "2022-05-21T06:51:27.531Z"
   },
   {
    "duration": 77,
    "start_time": "2022-05-21T06:53:57.050Z"
   },
   {
    "duration": 21,
    "start_time": "2022-05-21T06:53:57.132Z"
   },
   {
    "duration": 15,
    "start_time": "2022-05-21T06:53:57.156Z"
   },
   {
    "duration": 2743,
    "start_time": "2022-05-21T06:53:57.172Z"
   },
   {
    "duration": 4,
    "start_time": "2022-05-21T06:58:14.536Z"
   },
   {
    "duration": 5,
    "start_time": "2022-05-21T06:58:20.990Z"
   },
   {
    "duration": 71,
    "start_time": "2022-05-21T06:58:22.768Z"
   },
   {
    "duration": 4,
    "start_time": "2022-05-21T06:58:43.818Z"
   },
   {
    "duration": 5,
    "start_time": "2022-05-21T06:58:45.868Z"
   },
   {
    "duration": 134191,
    "start_time": "2022-05-21T06:58:46.736Z"
   },
   {
    "duration": 4,
    "start_time": "2022-05-21T07:01:12.487Z"
   },
   {
    "duration": 4,
    "start_time": "2022-05-21T07:01:14.103Z"
   },
   {
    "duration": 81428,
    "start_time": "2022-05-21T07:01:15.099Z"
   },
   {
    "duration": 3,
    "start_time": "2022-05-21T07:03:08.775Z"
   },
   {
    "duration": 5,
    "start_time": "2022-05-21T07:03:12.966Z"
   },
   {
    "duration": 4,
    "start_time": "2022-05-21T07:03:48.820Z"
   },
   {
    "duration": 6,
    "start_time": "2022-05-21T07:03:49.973Z"
   },
   {
    "duration": 4260,
    "start_time": "2022-05-21T07:03:50.868Z"
   },
   {
    "duration": 13879,
    "start_time": "2022-05-21T07:04:08.802Z"
   },
   {
    "duration": 6,
    "start_time": "2022-05-21T07:04:52.104Z"
   },
   {
    "duration": 6,
    "start_time": "2022-05-21T07:04:53.469Z"
   },
   {
    "duration": 25139,
    "start_time": "2022-05-21T07:04:56.278Z"
   },
   {
    "duration": 11,
    "start_time": "2022-05-21T07:05:21.425Z"
   },
   {
    "duration": 4,
    "start_time": "2022-05-21T07:05:31.487Z"
   },
   {
    "duration": 5,
    "start_time": "2022-05-21T07:06:15.279Z"
   },
   {
    "duration": 6,
    "start_time": "2022-05-21T07:06:16.504Z"
   },
   {
    "duration": 292915,
    "start_time": "2022-05-21T07:06:17.296Z"
   },
   {
    "duration": 3,
    "start_time": "2022-05-21T07:11:10.212Z"
   },
   {
    "duration": 3,
    "start_time": "2022-05-21T07:11:57.277Z"
   },
   {
    "duration": 4,
    "start_time": "2022-05-21T07:11:58.788Z"
   },
   {
    "duration": 5,
    "start_time": "2022-05-21T07:12:00.670Z"
   },
   {
    "duration": 135545,
    "start_time": "2022-05-21T07:12:01.695Z"
   },
   {
    "duration": 4,
    "start_time": "2022-05-21T07:14:26.861Z"
   },
   {
    "duration": 592,
    "start_time": "2022-05-21T07:14:28.888Z"
   },
   {
    "duration": 453047,
    "start_time": "2022-05-21T07:14:30.685Z"
   },
   {
    "duration": 30040,
    "start_time": "2022-05-21T07:22:03.735Z"
   },
   {
    "duration": 14,
    "start_time": "2022-05-21T07:22:33.777Z"
   },
   {
    "duration": 3,
    "start_time": "2022-05-21T07:22:33.793Z"
   },
   {
    "duration": 37,
    "start_time": "2022-05-21T07:22:33.798Z"
   },
   {
    "duration": 179153,
    "start_time": "2022-05-21T07:22:33.839Z"
   },
   {
    "duration": 4212,
    "start_time": "2022-05-21T07:25:32.993Z"
   },
   {
    "duration": 16,
    "start_time": "2022-05-21T07:25:37.207Z"
   },
   {
    "duration": 0,
    "start_time": "2022-05-21T07:25:37.232Z"
   },
   {
    "duration": 0,
    "start_time": "2022-05-21T07:25:37.233Z"
   },
   {
    "duration": 0,
    "start_time": "2022-05-21T07:25:37.236Z"
   },
   {
    "duration": 0,
    "start_time": "2022-05-21T07:25:37.242Z"
   },
   {
    "duration": 0,
    "start_time": "2022-05-21T07:25:37.243Z"
   },
   {
    "duration": 5,
    "start_time": "2022-05-21T07:25:50.767Z"
   },
   {
    "duration": 21,
    "start_time": "2022-05-21T07:25:57.089Z"
   },
   {
    "duration": 5,
    "start_time": "2022-05-21T07:26:07.967Z"
   },
   {
    "duration": 268034,
    "start_time": "2022-05-21T07:26:16.837Z"
   },
   {
    "duration": 32508,
    "start_time": "2022-05-21T07:30:44.872Z"
   },
   {
    "duration": 22,
    "start_time": "2022-05-21T07:31:17.383Z"
   },
   {
    "duration": 4,
    "start_time": "2022-05-21T07:31:17.407Z"
   },
   {
    "duration": 15757,
    "start_time": "2022-05-21T07:31:17.415Z"
   },
   {
    "duration": 516789,
    "start_time": "2022-05-21T07:31:35.609Z"
   },
   {
    "duration": 483,
    "start_time": "2022-05-21T07:40:13.477Z"
   },
   {
    "duration": 4,
    "start_time": "2022-05-21T07:40:14.091Z"
   },
   {
    "duration": 6,
    "start_time": "2022-05-21T07:40:15.583Z"
   },
   {
    "duration": 221,
    "start_time": "2022-05-21T07:40:34.099Z"
   },
   {
    "duration": 4,
    "start_time": "2022-05-21T07:41:00.282Z"
   },
   {
    "duration": 4,
    "start_time": "2022-05-21T07:41:01.173Z"
   },
   {
    "duration": 115677,
    "start_time": "2022-05-21T07:41:01.976Z"
   },
   {
    "duration": 4,
    "start_time": "2022-05-21T07:42:59.306Z"
   },
   {
    "duration": 5,
    "start_time": "2022-05-21T07:43:00.002Z"
   },
   {
    "duration": 339229,
    "start_time": "2022-05-21T07:43:00.776Z"
   },
   {
    "duration": 3,
    "start_time": "2022-05-21T07:49:06.992Z"
   },
   {
    "duration": 5,
    "start_time": "2022-05-21T07:49:09.595Z"
   },
   {
    "duration": 138958,
    "start_time": "2022-05-21T07:49:10.810Z"
   },
   {
    "duration": 5,
    "start_time": "2022-05-21T07:51:31.714Z"
   },
   {
    "duration": 4,
    "start_time": "2022-05-21T07:51:33.611Z"
   },
   {
    "duration": 70,
    "start_time": "2022-05-21T07:51:37.401Z"
   },
   {
    "duration": 4,
    "start_time": "2022-05-21T07:52:16.813Z"
   },
   {
    "duration": 5,
    "start_time": "2022-05-21T07:52:19.409Z"
   },
   {
    "duration": 49974,
    "start_time": "2022-05-21T07:52:20.702Z"
   },
   {
    "duration": 5464,
    "start_time": "2022-05-21T10:38:03.080Z"
   },
   {
    "duration": 2346,
    "start_time": "2022-05-21T10:38:08.549Z"
   },
   {
    "duration": 3398,
    "start_time": "2022-05-21T10:38:10.897Z"
   },
   {
    "duration": 32,
    "start_time": "2022-05-21T10:38:14.297Z"
   },
   {
    "duration": 6,
    "start_time": "2022-05-21T10:38:14.331Z"
   },
   {
    "duration": 27,
    "start_time": "2022-05-21T10:38:14.338Z"
   },
   {
    "duration": 234,
    "start_time": "2022-05-21T10:38:14.367Z"
   },
   {
    "duration": 216,
    "start_time": "2022-05-21T10:38:14.603Z"
   },
   {
    "duration": 6,
    "start_time": "2022-05-21T10:38:14.821Z"
   },
   {
    "duration": 5,
    "start_time": "2022-05-21T10:38:14.829Z"
   },
   {
    "duration": 2449,
    "start_time": "2022-05-21T10:38:14.835Z"
   },
   {
    "duration": 15,
    "start_time": "2022-05-21T10:38:17.287Z"
   },
   {
    "duration": 847,
    "start_time": "2022-05-21T10:38:17.304Z"
   },
   {
    "duration": 15,
    "start_time": "2022-05-21T10:38:37.688Z"
   },
   {
    "duration": 11,
    "start_time": "2022-05-21T10:38:43.403Z"
   },
   {
    "duration": 3,
    "start_time": "2022-05-21T10:38:44.292Z"
   },
   {
    "duration": 16,
    "start_time": "2022-05-21T10:38:44.921Z"
   },
   {
    "duration": 6,
    "start_time": "2022-05-21T10:38:45.570Z"
   },
   {
    "duration": 2624,
    "start_time": "2022-05-21T10:41:36.672Z"
   },
   {
    "duration": 2104,
    "start_time": "2022-05-21T10:41:39.299Z"
   },
   {
    "duration": 892,
    "start_time": "2022-05-21T10:41:41.406Z"
   },
   {
    "duration": 31,
    "start_time": "2022-05-21T10:41:42.300Z"
   },
   {
    "duration": 3,
    "start_time": "2022-05-21T10:41:42.334Z"
   },
   {
    "duration": 20,
    "start_time": "2022-05-21T10:41:42.339Z"
   },
   {
    "duration": 285,
    "start_time": "2022-05-21T10:41:42.361Z"
   },
   {
    "duration": 228,
    "start_time": "2022-05-21T10:41:42.648Z"
   },
   {
    "duration": 6,
    "start_time": "2022-05-21T10:41:42.878Z"
   },
   {
    "duration": 19,
    "start_time": "2022-05-21T10:41:42.886Z"
   },
   {
    "duration": 2533,
    "start_time": "2022-05-21T10:41:42.907Z"
   },
   {
    "duration": 7,
    "start_time": "2022-05-21T10:41:45.443Z"
   },
   {
    "duration": 275,
    "start_time": "2022-05-21T10:41:45.452Z"
   },
   {
    "duration": 3,
    "start_time": "2022-05-21T10:41:45.730Z"
   },
   {
    "duration": 15,
    "start_time": "2022-05-21T10:41:45.735Z"
   },
   {
    "duration": 5,
    "start_time": "2022-05-21T10:41:45.752Z"
   },
   {
    "duration": 156198,
    "start_time": "2022-05-21T10:41:45.758Z"
   },
   {
    "duration": 4,
    "start_time": "2022-05-21T10:44:21.958Z"
   },
   {
    "duration": 12,
    "start_time": "2022-05-21T10:44:21.964Z"
   },
   {
    "duration": 3,
    "start_time": "2022-05-21T10:44:21.978Z"
   },
   {
    "duration": 22,
    "start_time": "2022-05-21T10:44:21.983Z"
   },
   {
    "duration": 37,
    "start_time": "2022-05-21T10:44:22.007Z"
   },
   {
    "duration": 0,
    "start_time": "2022-05-21T10:44:22.046Z"
   },
   {
    "duration": 0,
    "start_time": "2022-05-21T10:44:22.048Z"
   },
   {
    "duration": 0,
    "start_time": "2022-05-21T10:44:22.049Z"
   },
   {
    "duration": 0,
    "start_time": "2022-05-21T10:44:22.050Z"
   },
   {
    "duration": 0,
    "start_time": "2022-05-21T10:44:22.051Z"
   },
   {
    "duration": 0,
    "start_time": "2022-05-21T10:44:22.053Z"
   },
   {
    "duration": 0,
    "start_time": "2022-05-21T10:44:22.054Z"
   },
   {
    "duration": 0,
    "start_time": "2022-05-21T10:44:22.055Z"
   },
   {
    "duration": 0,
    "start_time": "2022-05-21T10:44:22.057Z"
   },
   {
    "duration": 0,
    "start_time": "2022-05-21T10:44:22.059Z"
   },
   {
    "duration": 0,
    "start_time": "2022-05-21T10:44:22.060Z"
   },
   {
    "duration": 0,
    "start_time": "2022-05-21T10:44:22.062Z"
   },
   {
    "duration": 0,
    "start_time": "2022-05-21T10:44:22.063Z"
   },
   {
    "duration": 0,
    "start_time": "2022-05-21T10:44:22.065Z"
   },
   {
    "duration": 0,
    "start_time": "2022-05-21T10:44:22.066Z"
   },
   {
    "duration": 0,
    "start_time": "2022-05-21T10:44:22.068Z"
   },
   {
    "duration": 0,
    "start_time": "2022-05-21T10:44:22.069Z"
   },
   {
    "duration": 0,
    "start_time": "2022-05-21T10:44:22.071Z"
   },
   {
    "duration": 0,
    "start_time": "2022-05-21T10:44:22.073Z"
   },
   {
    "duration": 35,
    "start_time": "2022-05-21T10:47:48.189Z"
   },
   {
    "duration": 177,
    "start_time": "2022-05-21T10:47:49.528Z"
   },
   {
    "duration": 3,
    "start_time": "2022-05-21T10:47:54.478Z"
   },
   {
    "duration": 31,
    "start_time": "2022-05-21T10:47:55.067Z"
   },
   {
    "duration": 12,
    "start_time": "2022-05-21T10:47:55.639Z"
   },
   {
    "duration": 3,
    "start_time": "2022-05-21T10:48:04.002Z"
   },
   {
    "duration": 929,
    "start_time": "2022-05-21T10:48:05.666Z"
   },
   {
    "duration": 605,
    "start_time": "2022-05-21T10:48:06.597Z"
   },
   {
    "duration": 4,
    "start_time": "2022-05-21T10:48:07.204Z"
   },
   {
    "duration": 39,
    "start_time": "2022-05-21T10:48:07.388Z"
   },
   {
    "duration": 4,
    "start_time": "2022-05-21T10:48:13.388Z"
   },
   {
    "duration": 6,
    "start_time": "2022-05-21T10:48:18.017Z"
   },
   {
    "duration": 4,
    "start_time": "2022-05-21T10:48:18.861Z"
   },
   {
    "duration": 1207,
    "start_time": "2022-05-21T10:48:20.081Z"
   },
   {
    "duration": 16,
    "start_time": "2022-05-21T10:48:21.291Z"
   },
   {
    "duration": 4,
    "start_time": "2022-05-21T10:48:25.067Z"
   },
   {
    "duration": 5,
    "start_time": "2022-05-21T10:48:25.813Z"
   },
   {
    "duration": 8144,
    "start_time": "2022-05-21T10:48:28.165Z"
   },
   {
    "duration": 3,
    "start_time": "2022-05-21T10:48:36.312Z"
   },
   {
    "duration": 22,
    "start_time": "2022-05-21T10:48:36.317Z"
   },
   {
    "duration": 10,
    "start_time": "2022-05-21T10:48:36.341Z"
   },
   {
    "duration": 7,
    "start_time": "2022-05-21T10:48:36.353Z"
   },
   {
    "duration": 19,
    "start_time": "2022-05-21T10:48:36.362Z"
   },
   {
    "duration": 5,
    "start_time": "2022-05-21T10:48:36.484Z"
   },
   {
    "duration": 13,
    "start_time": "2022-05-21T10:48:53.691Z"
   },
   {
    "duration": 5,
    "start_time": "2022-05-21T10:48:54.282Z"
   },
   {
    "duration": 4,
    "start_time": "2022-05-21T10:48:54.997Z"
   },
   {
    "duration": 22,
    "start_time": "2022-05-21T10:48:56.022Z"
   },
   {
    "duration": 331,
    "start_time": "2022-05-21T10:49:29.555Z"
   },
   {
    "duration": 3,
    "start_time": "2022-05-21T10:49:42.805Z"
   },
   {
    "duration": 6,
    "start_time": "2022-05-21T10:49:43.898Z"
   },
   {
    "duration": 11296,
    "start_time": "2022-05-21T10:49:44.568Z"
   },
   {
    "duration": 2472,
    "start_time": "2022-05-21T10:50:23.298Z"
   },
   {
    "duration": 2055,
    "start_time": "2022-05-21T10:50:25.773Z"
   },
   {
    "duration": 955,
    "start_time": "2022-05-21T10:50:27.830Z"
   },
   {
    "duration": 35,
    "start_time": "2022-05-21T10:50:28.787Z"
   },
   {
    "duration": 3,
    "start_time": "2022-05-21T10:50:28.824Z"
   },
   {
    "duration": 13,
    "start_time": "2022-05-21T10:50:28.830Z"
   },
   {
    "duration": 321,
    "start_time": "2022-05-21T10:50:28.846Z"
   },
   {
    "duration": 263,
    "start_time": "2022-05-21T10:50:29.169Z"
   },
   {
    "duration": 8,
    "start_time": "2022-05-21T10:50:29.434Z"
   },
   {
    "duration": 4,
    "start_time": "2022-05-21T10:50:29.445Z"
   },
   {
    "duration": 2841,
    "start_time": "2022-05-21T10:50:29.451Z"
   },
   {
    "duration": 9,
    "start_time": "2022-05-21T10:50:32.295Z"
   },
   {
    "duration": 223,
    "start_time": "2022-05-21T10:50:32.306Z"
   },
   {
    "duration": 3,
    "start_time": "2022-05-21T10:50:32.531Z"
   },
   {
    "duration": 15,
    "start_time": "2022-05-21T10:50:32.536Z"
   },
   {
    "duration": 6,
    "start_time": "2022-05-21T10:50:32.553Z"
   },
   {
    "duration": 161261,
    "start_time": "2022-05-21T10:50:32.561Z"
   },
   {
    "duration": 6,
    "start_time": "2022-05-21T10:53:13.825Z"
   },
   {
    "duration": 20,
    "start_time": "2022-05-21T10:53:13.833Z"
   },
   {
    "duration": 5,
    "start_time": "2022-05-21T10:53:13.854Z"
   },
   {
    "duration": 8,
    "start_time": "2022-05-21T10:53:13.861Z"
   },
   {
    "duration": 7,
    "start_time": "2022-05-21T10:53:13.870Z"
   },
   {
    "duration": 1095,
    "start_time": "2022-05-21T10:53:13.879Z"
   },
   {
    "duration": 0,
    "start_time": "2022-05-21T10:53:14.977Z"
   },
   {
    "duration": 0,
    "start_time": "2022-05-21T10:53:14.979Z"
   },
   {
    "duration": 0,
    "start_time": "2022-05-21T10:53:14.981Z"
   },
   {
    "duration": 0,
    "start_time": "2022-05-21T10:53:14.982Z"
   },
   {
    "duration": 1,
    "start_time": "2022-05-21T10:53:14.984Z"
   },
   {
    "duration": 0,
    "start_time": "2022-05-21T10:53:14.986Z"
   },
   {
    "duration": 0,
    "start_time": "2022-05-21T10:53:14.987Z"
   },
   {
    "duration": 0,
    "start_time": "2022-05-21T10:53:15.002Z"
   },
   {
    "duration": 0,
    "start_time": "2022-05-21T10:53:15.004Z"
   },
   {
    "duration": 0,
    "start_time": "2022-05-21T10:53:15.005Z"
   },
   {
    "duration": 0,
    "start_time": "2022-05-21T10:53:15.007Z"
   },
   {
    "duration": 0,
    "start_time": "2022-05-21T10:53:15.008Z"
   },
   {
    "duration": 0,
    "start_time": "2022-05-21T10:53:15.010Z"
   },
   {
    "duration": 0,
    "start_time": "2022-05-21T10:53:15.012Z"
   },
   {
    "duration": 0,
    "start_time": "2022-05-21T10:53:15.014Z"
   },
   {
    "duration": 0,
    "start_time": "2022-05-21T10:53:15.016Z"
   },
   {
    "duration": 0,
    "start_time": "2022-05-21T10:53:15.018Z"
   },
   {
    "duration": 0,
    "start_time": "2022-05-21T10:53:15.019Z"
   },
   {
    "duration": 3,
    "start_time": "2022-05-21T10:57:06.089Z"
   },
   {
    "duration": 972,
    "start_time": "2022-05-21T10:57:07.780Z"
   },
   {
    "duration": 778,
    "start_time": "2022-05-21T10:57:10.366Z"
   },
   {
    "duration": 4,
    "start_time": "2022-05-21T10:57:19.072Z"
   },
   {
    "duration": 4,
    "start_time": "2022-05-21T10:57:28.856Z"
   },
   {
    "duration": 1017,
    "start_time": "2022-05-21T10:57:30.277Z"
   },
   {
    "duration": 840,
    "start_time": "2022-05-21T10:57:31.296Z"
   },
   {
    "duration": 4,
    "start_time": "2022-05-21T10:57:32.138Z"
   },
   {
    "duration": 3,
    "start_time": "2022-05-21T10:57:39.225Z"
   },
   {
    "duration": 4,
    "start_time": "2022-05-21T10:57:40.833Z"
   },
   {
    "duration": 963,
    "start_time": "2022-05-21T10:57:42.477Z"
   },
   {
    "duration": 811,
    "start_time": "2022-05-21T10:57:43.442Z"
   },
   {
    "duration": 4,
    "start_time": "2022-05-21T10:57:44.255Z"
   },
   {
    "duration": 4,
    "start_time": "2022-05-21T10:57:51.723Z"
   },
   {
    "duration": 1089,
    "start_time": "2022-05-21T10:57:52.391Z"
   },
   {
    "duration": 793,
    "start_time": "2022-05-21T10:57:53.482Z"
   },
   {
    "duration": 5,
    "start_time": "2022-05-21T10:57:54.277Z"
   },
   {
    "duration": 4,
    "start_time": "2022-05-21T10:58:04.075Z"
   },
   {
    "duration": 994,
    "start_time": "2022-05-21T10:58:04.872Z"
   },
   {
    "duration": 688,
    "start_time": "2022-05-21T10:58:05.868Z"
   },
   {
    "duration": 5,
    "start_time": "2022-05-21T10:58:07.489Z"
   },
   {
    "duration": 3,
    "start_time": "2022-05-21T10:58:19.233Z"
   },
   {
    "duration": 990,
    "start_time": "2022-05-21T10:58:20.334Z"
   },
   {
    "duration": 832,
    "start_time": "2022-05-21T10:58:21.327Z"
   },
   {
    "duration": 4,
    "start_time": "2022-05-21T10:58:22.226Z"
   },
   {
    "duration": 3,
    "start_time": "2022-05-21T10:58:27.831Z"
   },
   {
    "duration": 956,
    "start_time": "2022-05-21T10:58:28.922Z"
   },
   {
    "duration": 715,
    "start_time": "2022-05-21T10:58:29.879Z"
   },
   {
    "duration": 6,
    "start_time": "2022-05-21T10:58:30.596Z"
   },
   {
    "duration": 3,
    "start_time": "2022-05-21T10:58:39.470Z"
   },
   {
    "duration": 1132,
    "start_time": "2022-05-21T10:58:40.437Z"
   },
   {
    "duration": 773,
    "start_time": "2022-05-21T10:58:41.571Z"
   },
   {
    "duration": 5,
    "start_time": "2022-05-21T10:58:42.369Z"
   },
   {
    "duration": 5,
    "start_time": "2022-05-21T10:58:43.818Z"
   },
   {
    "duration": 3,
    "start_time": "2022-05-21T10:58:45.416Z"
   },
   {
    "duration": 989,
    "start_time": "2022-05-21T10:58:47.094Z"
   },
   {
    "duration": 734,
    "start_time": "2022-05-21T10:58:48.766Z"
   },
   {
    "duration": 4,
    "start_time": "2022-05-21T10:58:50.077Z"
   },
   {
    "duration": 3,
    "start_time": "2022-05-21T10:58:59.428Z"
   },
   {
    "duration": 1101,
    "start_time": "2022-05-21T10:59:00.772Z"
   },
   {
    "duration": 784,
    "start_time": "2022-05-21T10:59:01.875Z"
   },
   {
    "duration": 4,
    "start_time": "2022-05-21T10:59:02.661Z"
   },
   {
    "duration": 3,
    "start_time": "2022-05-21T10:59:09.865Z"
   },
   {
    "duration": 1935,
    "start_time": "2022-05-21T10:59:10.682Z"
   },
   {
    "duration": 1054,
    "start_time": "2022-05-21T10:59:12.620Z"
   },
   {
    "duration": 3,
    "start_time": "2022-05-21T10:59:13.676Z"
   },
   {
    "duration": 3,
    "start_time": "2022-05-21T10:59:49.528Z"
   },
   {
    "duration": 2015,
    "start_time": "2022-05-21T10:59:50.230Z"
   },
   {
    "duration": 1060,
    "start_time": "2022-05-21T10:59:52.247Z"
   },
   {
    "duration": 6,
    "start_time": "2022-05-21T10:59:53.309Z"
   },
   {
    "duration": 4,
    "start_time": "2022-05-21T10:59:58.698Z"
   },
   {
    "duration": 5,
    "start_time": "2022-05-21T11:00:00.439Z"
   },
   {
    "duration": 6,
    "start_time": "2022-05-21T11:00:01.394Z"
   },
   {
    "duration": 203480,
    "start_time": "2022-05-21T11:00:02.177Z"
   },
   {
    "duration": 3,
    "start_time": "2022-05-21T11:03:25.659Z"
   },
   {
    "duration": 15,
    "start_time": "2022-05-21T11:03:25.663Z"
   },
   {
    "duration": 6,
    "start_time": "2022-05-21T11:03:25.680Z"
   },
   {
    "duration": 68531,
    "start_time": "2022-05-21T11:03:25.688Z"
   },
   {
    "duration": 4,
    "start_time": "2022-05-21T11:04:34.221Z"
   },
   {
    "duration": 818,
    "start_time": "2022-05-21T11:04:34.226Z"
   },
   {
    "duration": 5,
    "start_time": "2022-05-21T11:04:35.046Z"
   },
   {
    "duration": 17,
    "start_time": "2022-05-21T11:04:35.053Z"
   },
   {
    "duration": 97407,
    "start_time": "2022-05-21T11:04:35.073Z"
   },
   {
    "duration": 13,
    "start_time": "2022-05-21T11:06:12.482Z"
   },
   {
    "duration": 0,
    "start_time": "2022-05-21T11:06:12.496Z"
   },
   {
    "duration": 0,
    "start_time": "2022-05-21T11:06:12.498Z"
   },
   {
    "duration": 6,
    "start_time": "2022-05-21T11:06:17.282Z"
   },
   {
    "duration": 828,
    "start_time": "2022-05-21T11:06:18.116Z"
   },
   {
    "duration": 30,
    "start_time": "2022-05-21T11:06:18.946Z"
   },
   {
    "duration": 3,
    "start_time": "2022-05-21T11:06:19.689Z"
   },
   {
    "duration": 7,
    "start_time": "2022-05-21T11:06:20.672Z"
   },
   {
    "duration": 235,
    "start_time": "2022-05-21T11:06:21.725Z"
   },
   {
    "duration": 226,
    "start_time": "2022-05-21T11:06:22.811Z"
   },
   {
    "duration": 6,
    "start_time": "2022-05-21T11:06:23.896Z"
   },
   {
    "duration": 3,
    "start_time": "2022-05-21T11:06:24.760Z"
   },
   {
    "duration": 2518,
    "start_time": "2022-05-21T11:06:25.669Z"
   },
   {
    "duration": 13,
    "start_time": "2022-05-21T11:06:28.189Z"
   },
   {
    "duration": 27,
    "start_time": "2022-05-21T11:06:28.204Z"
   },
   {
    "duration": 3,
    "start_time": "2022-05-21T11:06:28.297Z"
   },
   {
    "duration": 12,
    "start_time": "2022-05-21T11:06:29.526Z"
   },
   {
    "duration": 4,
    "start_time": "2022-05-21T11:06:30.235Z"
   },
   {
    "duration": 157702,
    "start_time": "2022-05-21T11:06:31.217Z"
   },
   {
    "duration": 5,
    "start_time": "2022-05-21T11:09:08.921Z"
   },
   {
    "duration": 12,
    "start_time": "2022-05-21T11:09:08.928Z"
   },
   {
    "duration": 10,
    "start_time": "2022-05-21T11:09:08.942Z"
   },
   {
    "duration": 8,
    "start_time": "2022-05-21T11:09:08.953Z"
   },
   {
    "duration": 5,
    "start_time": "2022-05-21T11:09:08.963Z"
   },
   {
    "duration": 2130,
    "start_time": "2022-05-21T11:09:08.969Z"
   },
   {
    "duration": 1575,
    "start_time": "2022-05-21T11:09:11.102Z"
   },
   {
    "duration": 7,
    "start_time": "2022-05-21T11:09:12.680Z"
   },
   {
    "duration": 3,
    "start_time": "2022-05-21T11:09:41.573Z"
   },
   {
    "duration": 2329,
    "start_time": "2022-05-21T11:09:43.171Z"
   },
   {
    "duration": 1540,
    "start_time": "2022-05-21T11:09:45.502Z"
   },
   {
    "duration": 4,
    "start_time": "2022-05-21T11:09:47.044Z"
   },
   {
    "duration": 3,
    "start_time": "2022-05-21T11:10:19.704Z"
   },
   {
    "duration": 2232,
    "start_time": "2022-05-21T11:10:22.373Z"
   },
   {
    "duration": 1453,
    "start_time": "2022-05-21T11:10:24.608Z"
   },
   {
    "duration": 3,
    "start_time": "2022-05-21T11:10:26.063Z"
   },
   {
    "duration": 3,
    "start_time": "2022-05-21T11:10:36.088Z"
   },
   {
    "duration": 1980,
    "start_time": "2022-05-21T11:10:36.812Z"
   },
   {
    "duration": 1129,
    "start_time": "2022-05-21T11:10:38.795Z"
   },
   {
    "duration": 4,
    "start_time": "2022-05-21T11:10:39.926Z"
   },
   {
    "duration": 3,
    "start_time": "2022-05-21T11:10:52.481Z"
   },
   {
    "duration": 3823,
    "start_time": "2022-05-21T11:10:53.500Z"
   },
   {
    "duration": 1733,
    "start_time": "2022-05-21T11:10:57.325Z"
   },
   {
    "duration": 4,
    "start_time": "2022-05-21T11:10:59.060Z"
   },
   {
    "duration": 3,
    "start_time": "2022-05-21T11:11:19.320Z"
   },
   {
    "duration": 1959,
    "start_time": "2022-05-21T11:11:20.419Z"
   },
   {
    "duration": 1065,
    "start_time": "2022-05-21T11:11:22.380Z"
   },
   {
    "duration": 4,
    "start_time": "2022-05-21T11:11:23.447Z"
   },
   {
    "duration": 104,
    "start_time": "2022-05-21T11:11:25.709Z"
   },
   {
    "duration": 22,
    "start_time": "2022-05-21T11:21:24.040Z"
   },
   {
    "duration": 14,
    "start_time": "2022-05-21T11:25:57.676Z"
   },
   {
    "duration": 17,
    "start_time": "2022-05-21T11:27:11.281Z"
   },
   {
    "duration": 24,
    "start_time": "2022-05-21T11:28:04.095Z"
   },
   {
    "duration": 23,
    "start_time": "2022-05-21T11:28:50.725Z"
   },
   {
    "duration": 18,
    "start_time": "2022-05-21T11:30:50.893Z"
   },
   {
    "duration": 22,
    "start_time": "2022-05-21T11:31:16.808Z"
   },
   {
    "duration": 3115,
    "start_time": "2022-05-21T11:32:23.132Z"
   },
   {
    "duration": 58,
    "start_time": "2022-05-21T11:33:16.413Z"
   },
   {
    "duration": 63,
    "start_time": "2022-05-21T11:33:30.674Z"
   },
   {
    "duration": 11,
    "start_time": "2022-05-21T11:34:08.095Z"
   },
   {
    "duration": 11,
    "start_time": "2022-05-21T11:34:19.580Z"
   },
   {
    "duration": 11,
    "start_time": "2022-05-21T11:34:38.292Z"
   },
   {
    "duration": 11864,
    "start_time": "2022-05-21T11:36:57.570Z"
   },
   {
    "duration": 12668,
    "start_time": "2022-05-21T11:37:26.014Z"
   },
   {
    "duration": 10302,
    "start_time": "2022-05-21T11:37:41.636Z"
   },
   {
    "duration": 21,
    "start_time": "2022-05-21T11:38:12.991Z"
   },
   {
    "duration": 13555,
    "start_time": "2022-05-21T11:39:48.296Z"
   },
   {
    "duration": 14,
    "start_time": "2022-05-21T11:41:01.569Z"
   },
   {
    "duration": 5843,
    "start_time": "2022-05-21T11:41:07.714Z"
   },
   {
    "duration": 2524,
    "start_time": "2022-05-21T11:41:23.514Z"
   },
   {
    "duration": 12,
    "start_time": "2022-05-21T11:42:33.161Z"
   },
   {
    "duration": 18,
    "start_time": "2022-05-21T11:42:43.319Z"
   },
   {
    "duration": 12,
    "start_time": "2022-05-21T11:46:38.079Z"
   },
   {
    "duration": 1527,
    "start_time": "2022-05-21T11:46:47.829Z"
   },
   {
    "duration": 44,
    "start_time": "2022-05-21T11:47:01.419Z"
   },
   {
    "duration": 41,
    "start_time": "2022-05-21T11:47:05.998Z"
   },
   {
    "duration": 36,
    "start_time": "2022-05-21T11:47:20.813Z"
   },
   {
    "duration": 12,
    "start_time": "2022-05-21T11:47:35.077Z"
   },
   {
    "duration": 8965,
    "start_time": "2022-05-21T11:47:43.999Z"
   },
   {
    "duration": 9710,
    "start_time": "2022-05-21T11:48:42.096Z"
   },
   {
    "duration": 14,
    "start_time": "2022-05-21T11:49:20.135Z"
   },
   {
    "duration": 6318,
    "start_time": "2022-05-21T11:50:42.817Z"
   },
   {
    "duration": 1897,
    "start_time": "2022-05-21T15:25:54.211Z"
   },
   {
    "duration": 3268,
    "start_time": "2022-05-21T15:26:01.710Z"
   },
   {
    "duration": 41,
    "start_time": "2022-05-21T15:26:04.980Z"
   },
   {
    "duration": 4,
    "start_time": "2022-05-21T15:26:05.366Z"
   },
   {
    "duration": 16,
    "start_time": "2022-05-21T15:26:06.304Z"
   },
   {
    "duration": 243,
    "start_time": "2022-05-21T15:26:07.395Z"
   },
   {
    "duration": 284,
    "start_time": "2022-05-21T15:26:08.199Z"
   },
   {
    "duration": 9,
    "start_time": "2022-05-21T15:26:09.098Z"
   },
   {
    "duration": 4,
    "start_time": "2022-05-21T15:26:10.670Z"
   },
   {
    "duration": 3378,
    "start_time": "2022-05-21T15:26:14.685Z"
   },
   {
    "duration": 30,
    "start_time": "2022-05-21T15:26:18.066Z"
   },
   {
    "duration": 852,
    "start_time": "2022-05-21T15:26:18.108Z"
   },
   {
    "duration": 3,
    "start_time": "2022-05-21T15:26:25.308Z"
   },
   {
    "duration": 28,
    "start_time": "2022-05-21T15:26:26.792Z"
   },
   {
    "duration": 7,
    "start_time": "2022-05-21T15:26:30.408Z"
   },
   {
    "duration": 156095,
    "start_time": "2022-05-21T15:26:33.414Z"
   },
   {
    "duration": 4,
    "start_time": "2022-05-21T15:29:09.511Z"
   },
   {
    "duration": 20,
    "start_time": "2022-05-21T15:29:09.516Z"
   },
   {
    "duration": 3,
    "start_time": "2022-05-21T15:29:09.538Z"
   },
   {
    "duration": 6,
    "start_time": "2022-05-21T15:31:47.807Z"
   },
   {
    "duration": 4,
    "start_time": "2022-05-21T15:32:09.165Z"
   },
   {
    "duration": 3,
    "start_time": "2022-05-21T15:32:54.795Z"
   },
   {
    "duration": 169,
    "start_time": "2022-05-21T15:33:45.217Z"
   },
   {
    "duration": 50,
    "start_time": "2022-05-21T15:34:16.112Z"
   },
   {
    "duration": 3,
    "start_time": "2022-05-21T15:34:22.333Z"
   },
   {
    "duration": 3,
    "start_time": "2022-05-21T15:34:24.508Z"
   },
   {
    "duration": 3,
    "start_time": "2022-05-21T15:34:25.280Z"
   },
   {
    "duration": 2077,
    "start_time": "2022-05-21T15:34:25.977Z"
   },
   {
    "duration": 1215,
    "start_time": "2022-05-21T15:34:28.057Z"
   },
   {
    "duration": 87,
    "start_time": "2022-05-21T15:34:29.274Z"
   },
   {
    "duration": 3,
    "start_time": "2022-05-21T15:34:30.461Z"
   },
   {
    "duration": 3,
    "start_time": "2022-05-21T15:34:31.070Z"
   },
   {
    "duration": 1965,
    "start_time": "2022-05-21T15:34:37.092Z"
   },
   {
    "duration": 31386,
    "start_time": "2022-05-21T15:36:27.365Z"
   },
   {
    "duration": 705,
    "start_time": "2022-05-21T15:38:26.177Z"
   },
   {
    "duration": 3,
    "start_time": "2022-05-21T15:38:27.234Z"
   },
   {
    "duration": 4,
    "start_time": "2022-05-21T15:38:34.936Z"
   },
   {
    "duration": 1728,
    "start_time": "2022-05-21T15:51:20.030Z"
   },
   {
    "duration": 833,
    "start_time": "2022-05-21T15:51:21.761Z"
   },
   {
    "duration": 34,
    "start_time": "2022-05-21T15:51:22.597Z"
   },
   {
    "duration": 3,
    "start_time": "2022-05-21T15:51:22.634Z"
   },
   {
    "duration": 15,
    "start_time": "2022-05-21T15:51:22.639Z"
   },
   {
    "duration": 302,
    "start_time": "2022-05-21T15:51:22.655Z"
   },
   {
    "duration": 216,
    "start_time": "2022-05-21T15:51:22.960Z"
   },
   {
    "duration": 10,
    "start_time": "2022-05-21T15:51:23.178Z"
   },
   {
    "duration": 10,
    "start_time": "2022-05-21T15:51:23.190Z"
   },
   {
    "duration": 2397,
    "start_time": "2022-05-21T15:51:23.202Z"
   },
   {
    "duration": 9,
    "start_time": "2022-05-21T15:51:25.602Z"
   },
   {
    "duration": 320,
    "start_time": "2022-05-21T15:51:25.614Z"
   },
   {
    "duration": 3,
    "start_time": "2022-05-21T15:51:25.936Z"
   },
   {
    "duration": 13,
    "start_time": "2022-05-21T15:51:25.943Z"
   },
   {
    "duration": 5,
    "start_time": "2022-05-21T15:51:25.958Z"
   },
   {
    "duration": 145977,
    "start_time": "2022-05-21T15:51:25.965Z"
   },
   {
    "duration": 4,
    "start_time": "2022-05-21T15:53:51.944Z"
   },
   {
    "duration": 21,
    "start_time": "2022-05-21T15:53:51.950Z"
   },
   {
    "duration": 24,
    "start_time": "2022-05-21T15:53:51.972Z"
   },
   {
    "duration": 13,
    "start_time": "2022-05-21T15:53:51.997Z"
   },
   {
    "duration": 18,
    "start_time": "2022-05-21T15:53:52.012Z"
   },
   {
    "duration": 1954,
    "start_time": "2022-05-21T15:53:52.031Z"
   },
   {
    "duration": 1149,
    "start_time": "2022-05-21T15:53:53.987Z"
   },
   {
    "duration": 93,
    "start_time": "2022-05-21T15:53:55.138Z"
   },
   {
    "duration": 6,
    "start_time": "2022-05-21T15:53:55.233Z"
   },
   {
    "duration": 5,
    "start_time": "2022-05-21T15:53:55.241Z"
   },
   {
    "duration": 194,
    "start_time": "2022-05-21T15:53:55.248Z"
   },
   {
    "duration": 10,
    "start_time": "2022-05-21T15:53:55.444Z"
   },
   {
    "duration": 0,
    "start_time": "2022-05-21T15:53:55.456Z"
   },
   {
    "duration": 0,
    "start_time": "2022-05-21T15:53:55.457Z"
   },
   {
    "duration": 0,
    "start_time": "2022-05-21T15:53:55.458Z"
   },
   {
    "duration": 0,
    "start_time": "2022-05-21T15:53:55.459Z"
   },
   {
    "duration": 5915,
    "start_time": "2022-05-21T15:55:46.209Z"
   },
   {
    "duration": 3,
    "start_time": "2022-05-21T15:55:53.830Z"
   },
   {
    "duration": 214,
    "start_time": "2022-05-21T15:55:56.808Z"
   },
   {
    "duration": 56789,
    "start_time": "2022-05-21T15:56:31.019Z"
   },
   {
    "duration": 1998,
    "start_time": "2022-05-21T15:57:27.811Z"
   },
   {
    "duration": 6,
    "start_time": "2022-05-21T15:57:29.811Z"
   },
   {
    "duration": 1779,
    "start_time": "2022-05-21T15:58:28.567Z"
   },
   {
    "duration": 826,
    "start_time": "2022-05-21T15:58:30.348Z"
   },
   {
    "duration": 36,
    "start_time": "2022-05-21T15:58:31.176Z"
   },
   {
    "duration": 3,
    "start_time": "2022-05-21T15:58:31.214Z"
   },
   {
    "duration": 24,
    "start_time": "2022-05-21T15:58:31.219Z"
   },
   {
    "duration": 245,
    "start_time": "2022-05-21T15:58:31.245Z"
   },
   {
    "duration": 211,
    "start_time": "2022-05-21T15:58:31.492Z"
   },
   {
    "duration": 6,
    "start_time": "2022-05-21T15:58:31.705Z"
   },
   {
    "duration": 8,
    "start_time": "2022-05-21T15:58:31.713Z"
   },
   {
    "duration": 2261,
    "start_time": "2022-05-21T15:58:31.724Z"
   },
   {
    "duration": 7,
    "start_time": "2022-05-21T15:58:33.987Z"
   },
   {
    "duration": 279,
    "start_time": "2022-05-21T15:58:33.996Z"
   },
   {
    "duration": 2,
    "start_time": "2022-05-21T15:58:34.278Z"
   },
   {
    "duration": 18,
    "start_time": "2022-05-21T15:58:34.282Z"
   },
   {
    "duration": 4,
    "start_time": "2022-05-21T15:58:34.302Z"
   },
   {
    "duration": 144456,
    "start_time": "2022-05-21T15:58:34.307Z"
   },
   {
    "duration": 6,
    "start_time": "2022-05-21T16:00:58.765Z"
   },
   {
    "duration": 21,
    "start_time": "2022-05-21T16:00:58.772Z"
   },
   {
    "duration": 3,
    "start_time": "2022-05-21T16:00:58.795Z"
   },
   {
    "duration": 6,
    "start_time": "2022-05-21T16:00:58.800Z"
   },
   {
    "duration": 5,
    "start_time": "2022-05-21T16:00:58.808Z"
   },
   {
    "duration": 443,
    "start_time": "2022-05-21T16:00:58.814Z"
   },
   {
    "duration": 512,
    "start_time": "2022-05-21T16:00:59.259Z"
   },
   {
    "duration": 11,
    "start_time": "2022-05-21T16:00:59.773Z"
   },
   {
    "duration": 6,
    "start_time": "2022-05-21T16:00:59.786Z"
   },
   {
    "duration": 5,
    "start_time": "2022-05-21T16:00:59.794Z"
   },
   {
    "duration": 9734,
    "start_time": "2022-05-21T16:00:59.801Z"
   },
   {
    "duration": 3,
    "start_time": "2022-05-21T16:01:09.539Z"
   },
   {
    "duration": 298,
    "start_time": "2022-05-21T16:01:09.544Z"
   },
   {
    "duration": 125943,
    "start_time": "2022-05-21T16:01:09.844Z"
   },
   {
    "duration": 3,
    "start_time": "2022-05-21T16:03:15.789Z"
   },
   {
    "duration": 3849,
    "start_time": "2022-05-21T16:03:15.794Z"
   },
   {
    "duration": 4,
    "start_time": "2022-05-21T16:03:19.645Z"
   },
   {
    "duration": 8,
    "start_time": "2022-05-21T16:05:00.182Z"
   },
   {
    "duration": 1608,
    "start_time": "2022-05-21T16:05:37.532Z"
   },
   {
    "duration": 835,
    "start_time": "2022-05-21T16:05:39.142Z"
   },
   {
    "duration": 34,
    "start_time": "2022-05-21T16:05:39.978Z"
   },
   {
    "duration": 4,
    "start_time": "2022-05-21T16:05:40.014Z"
   },
   {
    "duration": 14,
    "start_time": "2022-05-21T16:05:40.019Z"
   },
   {
    "duration": 258,
    "start_time": "2022-05-21T16:05:40.034Z"
   },
   {
    "duration": 193,
    "start_time": "2022-05-21T16:05:40.294Z"
   },
   {
    "duration": 6,
    "start_time": "2022-05-21T16:05:40.488Z"
   },
   {
    "duration": 5,
    "start_time": "2022-05-21T16:05:40.495Z"
   },
   {
    "duration": 2187,
    "start_time": "2022-05-21T16:05:40.502Z"
   },
   {
    "duration": 8,
    "start_time": "2022-05-21T16:05:42.692Z"
   },
   {
    "duration": 248,
    "start_time": "2022-05-21T16:05:42.702Z"
   },
   {
    "duration": 4,
    "start_time": "2022-05-21T16:05:42.951Z"
   },
   {
    "duration": 46,
    "start_time": "2022-05-21T16:05:42.956Z"
   },
   {
    "duration": 27,
    "start_time": "2022-05-21T16:05:43.004Z"
   },
   {
    "duration": 138404,
    "start_time": "2022-05-21T16:05:43.033Z"
   },
   {
    "duration": 5,
    "start_time": "2022-05-21T16:08:01.440Z"
   },
   {
    "duration": 12,
    "start_time": "2022-05-21T16:08:01.447Z"
   },
   {
    "duration": 6,
    "start_time": "2022-05-21T16:08:01.460Z"
   },
   {
    "duration": 17,
    "start_time": "2022-05-21T16:08:01.468Z"
   },
   {
    "duration": 6,
    "start_time": "2022-05-21T16:08:01.487Z"
   },
   {
    "duration": 415,
    "start_time": "2022-05-21T16:08:01.495Z"
   },
   {
    "duration": 477,
    "start_time": "2022-05-21T16:08:01.912Z"
   },
   {
    "duration": 6,
    "start_time": "2022-05-21T16:08:02.391Z"
   },
   {
    "duration": 7,
    "start_time": "2022-05-21T16:08:02.398Z"
   },
   {
    "duration": 7,
    "start_time": "2022-05-21T16:08:02.406Z"
   },
   {
    "duration": 8473,
    "start_time": "2022-05-21T16:08:02.414Z"
   },
   {
    "duration": 3,
    "start_time": "2022-05-21T16:08:10.891Z"
   },
   {
    "duration": 146,
    "start_time": "2022-05-21T16:08:10.896Z"
   },
   {
    "duration": 115158,
    "start_time": "2022-05-21T16:08:11.044Z"
   },
   {
    "duration": 3,
    "start_time": "2022-05-21T16:10:06.204Z"
   },
   {
    "duration": 3765,
    "start_time": "2022-05-21T16:10:06.208Z"
   },
   {
    "duration": 4,
    "start_time": "2022-05-21T16:10:09.975Z"
   },
   {
    "duration": 685,
    "start_time": "2022-05-21T16:11:56.749Z"
   },
   {
    "duration": 9,
    "start_time": "2022-05-21T16:12:02.025Z"
   },
   {
    "duration": 446,
    "start_time": "2022-05-21T16:12:09.853Z"
   },
   {
    "duration": 44,
    "start_time": "2022-05-21T16:14:25.523Z"
   },
   {
    "duration": 71,
    "start_time": "2022-05-21T16:15:23.799Z"
   },
   {
    "duration": 258,
    "start_time": "2022-05-21T16:15:33.701Z"
   },
   {
    "duration": 434224,
    "start_time": "2022-05-21T16:15:54.606Z"
   },
   {
    "duration": 4,
    "start_time": "2022-05-21T16:26:44.850Z"
   },
   {
    "duration": 49,
    "start_time": "2022-05-21T16:26:46.154Z"
   },
   {
    "duration": 49,
    "start_time": "2022-05-21T16:26:58.008Z"
   },
   {
    "duration": 151386,
    "start_time": "2022-05-21T16:27:23.092Z"
   },
   {
    "duration": 11,
    "start_time": "2022-05-21T16:29:54.480Z"
   },
   {
    "duration": 5,
    "start_time": "2022-05-21T16:30:09.449Z"
   },
   {
    "duration": 3,
    "start_time": "2022-05-21T16:31:46.225Z"
   },
   {
    "duration": 4,
    "start_time": "2022-05-21T16:31:53.608Z"
   },
   {
    "duration": 1606,
    "start_time": "2022-05-21T16:32:30.355Z"
   },
   {
    "duration": 807,
    "start_time": "2022-05-21T16:32:31.963Z"
   },
   {
    "duration": 35,
    "start_time": "2022-05-21T16:32:32.772Z"
   },
   {
    "duration": 3,
    "start_time": "2022-05-21T16:32:32.809Z"
   },
   {
    "duration": 12,
    "start_time": "2022-05-21T16:32:32.814Z"
   },
   {
    "duration": 253,
    "start_time": "2022-05-21T16:32:32.827Z"
   },
   {
    "duration": 199,
    "start_time": "2022-05-21T16:32:33.084Z"
   },
   {
    "duration": 6,
    "start_time": "2022-05-21T16:32:33.285Z"
   },
   {
    "duration": 7,
    "start_time": "2022-05-21T16:32:33.292Z"
   },
   {
    "duration": 2229,
    "start_time": "2022-05-21T16:32:33.301Z"
   },
   {
    "duration": 11,
    "start_time": "2022-05-21T16:32:35.533Z"
   },
   {
    "duration": 232,
    "start_time": "2022-05-21T16:32:35.546Z"
   },
   {
    "duration": 3,
    "start_time": "2022-05-21T16:32:35.780Z"
   },
   {
    "duration": 13,
    "start_time": "2022-05-21T16:32:35.786Z"
   },
   {
    "duration": 5,
    "start_time": "2022-05-21T16:32:35.800Z"
   },
   {
    "duration": 144113,
    "start_time": "2022-05-21T16:32:35.806Z"
   },
   {
    "duration": 5,
    "start_time": "2022-05-21T16:34:59.920Z"
   },
   {
    "duration": 30,
    "start_time": "2022-05-21T16:34:59.927Z"
   },
   {
    "duration": 19,
    "start_time": "2022-05-21T16:34:59.959Z"
   },
   {
    "duration": 39,
    "start_time": "2022-05-21T16:34:59.979Z"
   },
   {
    "duration": 21,
    "start_time": "2022-05-21T16:35:00.020Z"
   },
   {
    "duration": 432,
    "start_time": "2022-05-21T16:35:00.043Z"
   },
   {
    "duration": 478,
    "start_time": "2022-05-21T16:35:00.477Z"
   },
   {
    "duration": 5,
    "start_time": "2022-05-21T16:35:00.957Z"
   },
   {
    "duration": 20,
    "start_time": "2022-05-21T16:35:00.964Z"
   },
   {
    "duration": 22,
    "start_time": "2022-05-21T16:35:00.986Z"
   },
   {
    "duration": 9165,
    "start_time": "2022-05-21T16:35:01.010Z"
   },
   {
    "duration": 3,
    "start_time": "2022-05-21T16:35:10.184Z"
   },
   {
    "duration": 303,
    "start_time": "2022-05-21T16:35:10.189Z"
   },
   {
    "duration": 119880,
    "start_time": "2022-05-21T16:35:10.494Z"
   },
   {
    "duration": 3,
    "start_time": "2022-05-21T16:37:10.375Z"
   },
   {
    "duration": 3963,
    "start_time": "2022-05-21T16:37:10.384Z"
   },
   {
    "duration": 462275,
    "start_time": "2022-05-21T16:37:14.349Z"
   },
   {
    "duration": 3,
    "start_time": "2022-05-21T16:44:56.626Z"
   },
   {
    "duration": 166283,
    "start_time": "2022-05-21T16:44:56.633Z"
   },
   {
    "duration": 8,
    "start_time": "2022-05-21T16:47:42.918Z"
   },
   {
    "duration": 6,
    "start_time": "2022-05-21T16:47:42.928Z"
   },
   {
    "duration": 7,
    "start_time": "2022-05-21T16:47:42.936Z"
   },
   {
    "duration": 177,
    "start_time": "2022-05-21T16:49:40.204Z"
   },
   {
    "duration": 239,
    "start_time": "2022-05-21T16:49:48.021Z"
   },
   {
    "duration": 4,
    "start_time": "2022-05-21T16:49:52.855Z"
   },
   {
    "duration": 203,
    "start_time": "2022-05-21T16:49:55.667Z"
   },
   {
    "duration": 5,
    "start_time": "2022-05-21T16:51:14.778Z"
   },
   {
    "duration": 68,
    "start_time": "2022-05-21T16:52:48.049Z"
   },
   {
    "duration": 3,
    "start_time": "2022-05-21T16:54:36.316Z"
   },
   {
    "duration": 89065,
    "start_time": "2022-05-21T16:54:36.321Z"
   },
   {
    "duration": 3,
    "start_time": "2022-05-21T16:56:05.388Z"
   },
   {
    "duration": 27175,
    "start_time": "2022-05-21T16:56:05.393Z"
   },
   {
    "duration": 6,
    "start_time": "2022-05-21T16:57:22.659Z"
   },
   {
    "duration": 9,
    "start_time": "2022-05-21T17:00:58.049Z"
   },
   {
    "duration": 109,
    "start_time": "2022-05-21T17:00:59.058Z"
   },
   {
    "duration": 51,
    "start_time": "2022-05-21T17:00:59.854Z"
   },
   {
    "duration": 175,
    "start_time": "2022-05-21T17:01:14.351Z"
   },
   {
    "duration": 758,
    "start_time": "2022-05-21T17:01:17.449Z"
   },
   {
    "duration": 46,
    "start_time": "2022-05-21T17:01:41.786Z"
   },
   {
    "duration": 45,
    "start_time": "2022-05-21T17:03:52.279Z"
   },
   {
    "duration": 720,
    "start_time": "2022-05-21T17:04:06.093Z"
   },
   {
    "duration": 53,
    "start_time": "2022-05-21T17:06:26.522Z"
   },
   {
    "duration": 253482,
    "start_time": "2022-05-21T17:11:39.210Z"
   },
   {
    "duration": 3,
    "start_time": "2022-05-21T17:15:52.694Z"
   },
   {
    "duration": 83423,
    "start_time": "2022-05-21T17:15:52.699Z"
   },
   {
    "duration": 13,
    "start_time": "2022-05-21T17:17:16.125Z"
   },
   {
    "duration": 0,
    "start_time": "2022-05-21T17:17:16.143Z"
   },
   {
    "duration": 0,
    "start_time": "2022-05-21T17:17:16.145Z"
   },
   {
    "duration": 0,
    "start_time": "2022-05-21T17:17:16.146Z"
   },
   {
    "duration": 0,
    "start_time": "2022-05-21T17:17:16.148Z"
   },
   {
    "duration": 12,
    "start_time": "2022-05-21T17:17:22.670Z"
   },
   {
    "duration": 82276,
    "start_time": "2022-05-21T17:17:23.261Z"
   },
   {
    "duration": 3,
    "start_time": "2022-05-21T17:18:45.539Z"
   },
   {
    "duration": 26239,
    "start_time": "2022-05-21T17:18:45.544Z"
   },
   {
    "duration": 25467,
    "start_time": "2022-05-21T17:19:14.416Z"
   },
   {
    "duration": 6,
    "start_time": "2022-05-21T17:21:46.978Z"
   },
   {
    "duration": 6421,
    "start_time": "2022-05-21T17:23:20.013Z"
   },
   {
    "duration": 8594,
    "start_time": "2022-05-21T17:23:32.548Z"
   },
   {
    "duration": 83326,
    "start_time": "2022-05-21T17:25:42.013Z"
   },
   {
    "duration": 3,
    "start_time": "2022-05-21T17:27:46.512Z"
   },
   {
    "duration": 13939,
    "start_time": "2022-05-21T17:27:47.477Z"
   },
   {
    "duration": 13370,
    "start_time": "2022-05-21T17:29:28.599Z"
   },
   {
    "duration": 674,
    "start_time": "2022-05-21T17:29:46.506Z"
   },
   {
    "duration": 64,
    "start_time": "2022-05-21T17:30:01.328Z"
   },
   {
    "duration": 18,
    "start_time": "2022-05-21T17:32:26.159Z"
   },
   {
    "duration": 152012,
    "start_time": "2022-05-21T17:32:27.157Z"
   },
   {
    "duration": 59,
    "start_time": "2022-05-21T17:37:05.897Z"
   },
   {
    "duration": 12,
    "start_time": "2022-05-21T17:38:16.630Z"
   },
   {
    "duration": 4,
    "start_time": "2022-05-21T17:38:20.720Z"
   },
   {
    "duration": 62,
    "start_time": "2022-05-21T17:48:36.949Z"
   },
   {
    "duration": 37,
    "start_time": "2022-05-21T17:48:47.826Z"
   },
   {
    "duration": 37,
    "start_time": "2022-05-21T17:49:26.971Z"
   },
   {
    "duration": 51,
    "start_time": "2022-05-21T17:49:31.884Z"
   },
   {
    "duration": 272,
    "start_time": "2022-05-21T17:49:48.444Z"
   },
   {
    "duration": 2023,
    "start_time": "2022-05-21T20:29:57.687Z"
   },
   {
    "duration": 2440,
    "start_time": "2022-05-21T20:29:59.875Z"
   },
   {
    "duration": 38,
    "start_time": "2022-05-21T20:30:02.317Z"
   },
   {
    "duration": 10,
    "start_time": "2022-05-21T20:30:02.358Z"
   },
   {
    "duration": 19,
    "start_time": "2022-05-21T20:30:02.371Z"
   },
   {
    "duration": 276,
    "start_time": "2022-05-21T20:30:02.538Z"
   },
   {
    "duration": 203,
    "start_time": "2022-05-21T20:30:39.802Z"
   },
   {
    "duration": 313,
    "start_time": "2022-05-21T20:30:41.804Z"
   },
   {
    "duration": 9,
    "start_time": "2022-05-21T20:30:43.410Z"
   },
   {
    "duration": 4,
    "start_time": "2022-05-21T20:30:44.279Z"
   },
   {
    "duration": 2294,
    "start_time": "2022-05-21T20:30:45.330Z"
   },
   {
    "duration": 7,
    "start_time": "2022-05-21T20:30:47.626Z"
   },
   {
    "duration": 428,
    "start_time": "2022-05-21T20:30:47.737Z"
   },
   {
    "duration": 3,
    "start_time": "2022-05-21T20:30:49.294Z"
   },
   {
    "duration": 13,
    "start_time": "2022-05-21T20:30:49.965Z"
   },
   {
    "duration": 4,
    "start_time": "2022-05-21T20:30:51.467Z"
   },
   {
    "duration": 151517,
    "start_time": "2022-05-21T20:30:52.463Z"
   },
   {
    "duration": 4,
    "start_time": "2022-05-21T20:33:23.983Z"
   },
   {
    "duration": 16,
    "start_time": "2022-05-21T20:33:23.990Z"
   },
   {
    "duration": 6,
    "start_time": "2022-05-21T20:33:24.008Z"
   },
   {
    "duration": 5,
    "start_time": "2022-05-21T20:33:24.023Z"
   },
   {
    "duration": 7,
    "start_time": "2022-05-21T20:33:24.031Z"
   },
   {
    "duration": 465,
    "start_time": "2022-05-21T20:33:24.039Z"
   },
   {
    "duration": 552,
    "start_time": "2022-05-21T20:33:24.506Z"
   },
   {
    "duration": 6,
    "start_time": "2022-05-21T20:33:25.059Z"
   },
   {
    "duration": 9,
    "start_time": "2022-05-21T20:33:25.068Z"
   },
   {
    "duration": 6,
    "start_time": "2022-05-21T20:33:25.078Z"
   },
   {
    "duration": 8613,
    "start_time": "2022-05-21T20:33:25.085Z"
   },
   {
    "duration": 2,
    "start_time": "2022-05-21T20:33:33.700Z"
   },
   {
    "duration": 352,
    "start_time": "2022-05-21T20:33:33.704Z"
   },
   {
    "duration": 120288,
    "start_time": "2022-05-21T20:33:34.058Z"
   },
   {
    "duration": 3,
    "start_time": "2022-05-21T20:35:34.348Z"
   },
   {
    "duration": 3780,
    "start_time": "2022-05-21T20:35:34.353Z"
   },
   {
    "duration": 928255,
    "start_time": "2022-05-21T20:35:38.135Z"
   },
   {
    "duration": 3,
    "start_time": "2022-05-21T20:51:06.392Z"
   },
   {
    "duration": 159463,
    "start_time": "2022-05-21T20:51:06.396Z"
   },
   {
    "duration": 5,
    "start_time": "2022-05-21T20:53:45.861Z"
   },
   {
    "duration": 6,
    "start_time": "2022-05-21T20:53:45.868Z"
   },
   {
    "duration": 175201,
    "start_time": "2022-05-21T20:53:45.875Z"
   },
   {
    "duration": 4,
    "start_time": "2022-05-21T20:56:41.078Z"
   },
   {
    "duration": 2480,
    "start_time": "2022-05-21T20:56:41.085Z"
   },
   {
    "duration": 6,
    "start_time": "2022-05-21T20:56:43.567Z"
   },
   {
    "duration": 121,
    "start_time": "2022-05-21T20:56:43.575Z"
   },
   {
    "duration": 210,
    "start_time": "2022-05-21T20:56:43.698Z"
   },
   {
    "duration": 26,
    "start_time": "2022-05-21T20:56:43.909Z"
   },
   {
    "duration": 6,
    "start_time": "2022-05-21T20:57:18.017Z"
   },
   {
    "duration": 187,
    "start_time": "2022-05-21T20:58:24.006Z"
   },
   {
    "duration": 215,
    "start_time": "2022-05-21T20:58:36.483Z"
   },
   {
    "duration": 331,
    "start_time": "2022-05-21T20:59:56.626Z"
   },
   {
    "duration": 12,
    "start_time": "2022-05-21T20:59:58.304Z"
   },
   {
    "duration": 4,
    "start_time": "2022-05-21T21:00:21.419Z"
   },
   {
    "duration": 3,
    "start_time": "2022-05-21T21:00:23.444Z"
   },
   {
    "duration": 11,
    "start_time": "2022-05-21T21:00:26.450Z"
   },
   {
    "duration": 280,
    "start_time": "2022-05-21T21:04:00.625Z"
   },
   {
    "duration": 130,
    "start_time": "2022-05-21T21:04:17.551Z"
   },
   {
    "duration": 12,
    "start_time": "2022-05-21T21:04:26.289Z"
   },
   {
    "duration": 142,
    "start_time": "2022-05-21T21:04:31.549Z"
   },
   {
    "duration": 177,
    "start_time": "2022-05-21T21:04:35.112Z"
   },
   {
    "duration": 5,
    "start_time": "2022-05-21T21:06:11.374Z"
   },
   {
    "duration": 240,
    "start_time": "2022-05-21T21:08:53.964Z"
   },
   {
    "duration": 255,
    "start_time": "2022-05-21T21:09:29.631Z"
   },
   {
    "duration": 14,
    "start_time": "2022-05-21T21:10:29.432Z"
   },
   {
    "duration": 218,
    "start_time": "2022-05-21T21:10:48.430Z"
   },
   {
    "duration": 178,
    "start_time": "2022-05-21T21:11:05.126Z"
   },
   {
    "duration": 12,
    "start_time": "2022-05-21T21:13:36.988Z"
   },
   {
    "duration": 12,
    "start_time": "2022-05-21T21:14:48.062Z"
   },
   {
    "duration": 21,
    "start_time": "2022-05-21T21:14:52.068Z"
   },
   {
    "duration": 18,
    "start_time": "2022-05-21T21:16:07.622Z"
   },
   {
    "duration": 23,
    "start_time": "2022-05-21T21:16:14.670Z"
   },
   {
    "duration": 601,
    "start_time": "2022-05-21T21:16:18.767Z"
   },
   {
    "duration": 23,
    "start_time": "2022-05-21T21:17:51.984Z"
   },
   {
    "duration": 5,
    "start_time": "2022-05-21T21:18:03.176Z"
   },
   {
    "duration": 8,
    "start_time": "2022-05-21T21:18:06.785Z"
   },
   {
    "duration": 16,
    "start_time": "2022-05-21T21:18:37.794Z"
   },
   {
    "duration": 79,
    "start_time": "2022-05-21T21:18:44.398Z"
   },
   {
    "duration": 64,
    "start_time": "2022-05-21T21:18:49.404Z"
   },
   {
    "duration": 16,
    "start_time": "2022-05-21T21:18:54.194Z"
   },
   {
    "duration": 1774,
    "start_time": "2022-05-21T21:23:39.508Z"
   },
   {
    "duration": 908,
    "start_time": "2022-05-21T21:23:41.284Z"
   },
   {
    "duration": 42,
    "start_time": "2022-05-21T21:23:42.194Z"
   },
   {
    "duration": 21,
    "start_time": "2022-05-21T21:23:42.243Z"
   },
   {
    "duration": 13,
    "start_time": "2022-05-21T21:23:42.266Z"
   },
   {
    "duration": 327,
    "start_time": "2022-05-21T21:23:42.281Z"
   },
   {
    "duration": 297,
    "start_time": "2022-05-21T21:23:42.610Z"
   },
   {
    "duration": 7,
    "start_time": "2022-05-21T21:23:42.909Z"
   },
   {
    "duration": 54,
    "start_time": "2022-05-21T21:23:42.923Z"
   },
   {
    "duration": 2900,
    "start_time": "2022-05-21T21:23:42.982Z"
   },
   {
    "duration": 8,
    "start_time": "2022-05-21T21:23:45.884Z"
   },
   {
    "duration": 225,
    "start_time": "2022-05-21T21:23:45.893Z"
   },
   {
    "duration": 4,
    "start_time": "2022-05-21T21:23:46.120Z"
   },
   {
    "duration": 35,
    "start_time": "2022-05-21T21:23:46.137Z"
   },
   {
    "duration": 5,
    "start_time": "2022-05-21T21:23:46.173Z"
   },
   {
    "duration": 170001,
    "start_time": "2022-05-21T21:23:46.179Z"
   },
   {
    "duration": 4,
    "start_time": "2022-05-21T21:26:36.182Z"
   },
   {
    "duration": 11,
    "start_time": "2022-05-21T21:26:36.188Z"
   },
   {
    "duration": 3,
    "start_time": "2022-05-21T21:26:36.201Z"
   },
   {
    "duration": 6,
    "start_time": "2022-05-21T21:26:36.206Z"
   },
   {
    "duration": 18,
    "start_time": "2022-05-21T21:26:36.214Z"
   },
   {
    "duration": 502,
    "start_time": "2022-05-21T21:26:36.235Z"
   },
   {
    "duration": 604,
    "start_time": "2022-05-21T21:26:36.741Z"
   },
   {
    "duration": 9,
    "start_time": "2022-05-21T21:26:37.347Z"
   },
   {
    "duration": 3,
    "start_time": "2022-05-21T21:26:37.366Z"
   },
   {
    "duration": 6,
    "start_time": "2022-05-21T21:26:37.370Z"
   },
   {
    "duration": 10030,
    "start_time": "2022-05-21T21:26:37.377Z"
   },
   {
    "duration": 4,
    "start_time": "2022-05-21T21:26:47.412Z"
   },
   {
    "duration": 354,
    "start_time": "2022-05-21T21:26:47.427Z"
   },
   {
    "duration": 132091,
    "start_time": "2022-05-21T21:26:47.783Z"
   },
   {
    "duration": 2,
    "start_time": "2022-05-21T21:28:59.876Z"
   },
   {
    "duration": 3920,
    "start_time": "2022-05-21T21:28:59.880Z"
   },
   {
    "duration": 652812,
    "start_time": "2022-05-21T21:29:03.802Z"
   },
   {
    "duration": 3,
    "start_time": "2022-05-21T21:39:56.617Z"
   },
   {
    "duration": 169895,
    "start_time": "2022-05-21T21:39:56.624Z"
   },
   {
    "duration": 16,
    "start_time": "2022-05-21T21:42:46.521Z"
   },
   {
    "duration": 19,
    "start_time": "2022-05-21T21:42:46.542Z"
   },
   {
    "duration": 1773876,
    "start_time": "2022-05-21T21:42:46.562Z"
   },
   {
    "duration": 31,
    "start_time": "2022-05-21T22:12:20.439Z"
   },
   {
    "duration": 0,
    "start_time": "2022-05-21T22:12:20.471Z"
   },
   {
    "duration": 0,
    "start_time": "2022-05-21T22:12:20.472Z"
   },
   {
    "duration": 0,
    "start_time": "2022-05-21T22:12:20.473Z"
   },
   {
    "duration": 0,
    "start_time": "2022-05-21T22:12:20.474Z"
   },
   {
    "duration": 0,
    "start_time": "2022-05-21T22:12:20.474Z"
   },
   {
    "duration": 0,
    "start_time": "2022-05-21T22:12:20.476Z"
   },
   {
    "duration": 0,
    "start_time": "2022-05-21T22:12:20.478Z"
   },
   {
    "duration": 0,
    "start_time": "2022-05-21T22:12:20.479Z"
   },
   {
    "duration": 0,
    "start_time": "2022-05-21T22:12:20.481Z"
   },
   {
    "duration": 1804,
    "start_time": "2022-05-21T22:14:56.980Z"
   },
   {
    "duration": 1006,
    "start_time": "2022-05-21T22:14:58.786Z"
   },
   {
    "duration": 41,
    "start_time": "2022-05-21T22:14:59.793Z"
   },
   {
    "duration": 16,
    "start_time": "2022-05-21T22:14:59.836Z"
   },
   {
    "duration": 14,
    "start_time": "2022-05-21T22:14:59.853Z"
   },
   {
    "duration": 273,
    "start_time": "2022-05-21T22:14:59.869Z"
   },
   {
    "duration": 231,
    "start_time": "2022-05-21T22:15:00.153Z"
   },
   {
    "duration": 6,
    "start_time": "2022-05-21T22:15:00.386Z"
   },
   {
    "duration": 26,
    "start_time": "2022-05-21T22:15:00.393Z"
   },
   {
    "duration": 3153,
    "start_time": "2022-05-21T22:15:00.422Z"
   },
   {
    "duration": 17,
    "start_time": "2022-05-21T22:15:03.577Z"
   },
   {
    "duration": 225,
    "start_time": "2022-05-21T22:15:03.596Z"
   },
   {
    "duration": 5,
    "start_time": "2022-05-21T22:15:03.830Z"
   },
   {
    "duration": 53,
    "start_time": "2022-05-21T22:15:03.837Z"
   },
   {
    "duration": 4,
    "start_time": "2022-05-21T22:15:03.892Z"
   },
   {
    "duration": 184286,
    "start_time": "2022-05-21T22:15:03.898Z"
   },
   {
    "duration": 5,
    "start_time": "2022-05-21T22:18:08.186Z"
   },
   {
    "duration": 10,
    "start_time": "2022-05-21T22:18:08.194Z"
   },
   {
    "duration": 3,
    "start_time": "2022-05-21T22:18:08.206Z"
   },
   {
    "duration": 39,
    "start_time": "2022-05-21T22:18:08.229Z"
   },
   {
    "duration": 12,
    "start_time": "2022-05-21T22:18:08.270Z"
   },
   {
    "duration": 559,
    "start_time": "2022-05-21T22:18:08.284Z"
   },
   {
    "duration": 636,
    "start_time": "2022-05-21T22:18:08.845Z"
   },
   {
    "duration": 6,
    "start_time": "2022-05-21T22:18:09.483Z"
   },
   {
    "duration": 7,
    "start_time": "2022-05-21T22:18:09.490Z"
   },
   {
    "duration": 6,
    "start_time": "2022-05-21T22:18:09.498Z"
   },
   {
    "duration": 10160,
    "start_time": "2022-05-21T22:18:09.506Z"
   },
   {
    "duration": 13,
    "start_time": "2022-05-21T22:18:19.670Z"
   },
   {
    "duration": 295,
    "start_time": "2022-05-21T22:18:19.687Z"
   },
   {
    "duration": 133771,
    "start_time": "2022-05-21T22:18:19.984Z"
   },
   {
    "duration": 3,
    "start_time": "2022-05-21T22:20:33.757Z"
   },
   {
    "duration": 4147,
    "start_time": "2022-05-21T22:20:33.761Z"
   },
   {
    "duration": 632859,
    "start_time": "2022-05-21T22:20:37.910Z"
   },
   {
    "duration": 3,
    "start_time": "2022-05-21T22:31:10.770Z"
   },
   {
    "duration": 166645,
    "start_time": "2022-05-21T22:31:10.775Z"
   },
   {
    "duration": 7,
    "start_time": "2022-05-21T22:33:57.424Z"
   },
   {
    "duration": 11,
    "start_time": "2022-05-21T22:33:57.433Z"
   },
   {
    "duration": 91316,
    "start_time": "2022-05-21T22:33:57.449Z"
   },
   {
    "duration": 2,
    "start_time": "2022-05-21T22:35:28.767Z"
   },
   {
    "duration": 5726,
    "start_time": "2022-05-21T22:35:28.771Z"
   },
   {
    "duration": 7,
    "start_time": "2022-05-21T22:35:34.498Z"
   },
   {
    "duration": 128,
    "start_time": "2022-05-21T22:35:34.507Z"
   },
   {
    "duration": 217,
    "start_time": "2022-05-21T22:35:34.637Z"
   },
   {
    "duration": 38,
    "start_time": "2022-05-21T22:35:34.856Z"
   },
   {
    "duration": 363,
    "start_time": "2022-05-21T22:35:34.896Z"
   },
   {
    "duration": 4,
    "start_time": "2022-05-21T22:35:35.261Z"
   },
   {
    "duration": 9,
    "start_time": "2022-05-21T22:35:35.266Z"
   },
   {
    "duration": 10,
    "start_time": "2022-05-21T22:35:35.277Z"
   },
   {
    "duration": 2278,
    "start_time": "2022-05-22T13:14:21.525Z"
   },
   {
    "duration": 3137,
    "start_time": "2022-05-22T13:14:23.805Z"
   },
   {
    "duration": 41,
    "start_time": "2022-05-22T13:14:26.944Z"
   },
   {
    "duration": 17,
    "start_time": "2022-05-22T13:14:26.990Z"
   },
   {
    "duration": 15,
    "start_time": "2022-05-22T13:14:27.009Z"
   },
   {
    "duration": 283,
    "start_time": "2022-05-22T13:14:27.027Z"
   },
   {
    "duration": 310,
    "start_time": "2022-05-22T13:14:27.313Z"
   },
   {
    "duration": 7,
    "start_time": "2022-05-22T13:14:27.625Z"
   },
   {
    "duration": 6,
    "start_time": "2022-05-22T13:14:27.633Z"
   },
   {
    "duration": 3066,
    "start_time": "2022-05-22T13:14:27.641Z"
   },
   {
    "duration": 8,
    "start_time": "2022-05-22T13:14:30.709Z"
   },
   {
    "duration": 1112,
    "start_time": "2022-05-22T13:14:30.719Z"
   },
   {
    "duration": 4,
    "start_time": "2022-05-22T13:14:31.833Z"
   },
   {
    "duration": 20,
    "start_time": "2022-05-22T13:14:31.839Z"
   },
   {
    "duration": 15,
    "start_time": "2022-05-22T13:14:31.861Z"
   },
   {
    "duration": 178970,
    "start_time": "2022-05-22T13:14:31.881Z"
   },
   {
    "duration": 13,
    "start_time": "2022-05-22T13:17:30.853Z"
   },
   {
    "duration": 36,
    "start_time": "2022-05-22T13:17:30.868Z"
   },
   {
    "duration": 21,
    "start_time": "2022-05-22T13:17:30.905Z"
   },
   {
    "duration": 16,
    "start_time": "2022-05-22T13:17:30.927Z"
   },
   {
    "duration": 12,
    "start_time": "2022-05-22T13:17:30.945Z"
   },
   {
    "duration": 554,
    "start_time": "2022-05-22T13:17:30.958Z"
   },
   {
    "duration": 703,
    "start_time": "2022-05-22T13:17:31.513Z"
   },
   {
    "duration": 5,
    "start_time": "2022-05-22T13:17:32.218Z"
   },
   {
    "duration": 5,
    "start_time": "2022-05-22T13:17:32.225Z"
   },
   {
    "duration": 6,
    "start_time": "2022-05-22T13:17:32.232Z"
   },
   {
    "duration": 11127,
    "start_time": "2022-05-22T13:17:32.239Z"
   },
   {
    "duration": 3,
    "start_time": "2022-05-22T13:17:43.371Z"
   },
   {
    "duration": 433,
    "start_time": "2022-05-22T13:17:43.376Z"
   },
   {
    "duration": 148631,
    "start_time": "2022-05-22T13:17:43.811Z"
   },
   {
    "duration": 3,
    "start_time": "2022-05-22T13:20:12.444Z"
   },
   {
    "duration": 4063,
    "start_time": "2022-05-22T13:20:12.449Z"
   },
   {
    "duration": 181411,
    "start_time": "2022-05-22T13:28:18.111Z"
   },
   {
    "duration": 5,
    "start_time": "2022-05-22T13:31:19.523Z"
   },
   {
    "duration": 9,
    "start_time": "2022-05-22T13:31:19.529Z"
   },
   {
    "duration": 46777,
    "start_time": "2022-05-22T13:31:19.539Z"
   },
   {
    "duration": 3,
    "start_time": "2022-05-22T13:32:06.317Z"
   },
   {
    "duration": 2862,
    "start_time": "2022-05-22T13:32:06.322Z"
   },
   {
    "duration": 9,
    "start_time": "2022-05-22T13:32:09.187Z"
   },
   {
    "duration": 172,
    "start_time": "2022-05-22T13:32:09.198Z"
   },
   {
    "duration": 252,
    "start_time": "2022-05-22T13:32:09.372Z"
   },
   {
    "duration": 22,
    "start_time": "2022-05-22T13:32:09.625Z"
   },
   {
    "duration": 409,
    "start_time": "2022-05-22T13:32:09.648Z"
   },
   {
    "duration": 5,
    "start_time": "2022-05-22T13:32:10.059Z"
   },
   {
    "duration": 16,
    "start_time": "2022-05-22T13:32:10.066Z"
   },
   {
    "duration": 19,
    "start_time": "2022-05-22T13:32:10.085Z"
   },
   {
    "duration": 6,
    "start_time": "2022-05-22T13:40:36.743Z"
   },
   {
    "duration": 874,
    "start_time": "2022-05-22T13:40:38.475Z"
   },
   {
    "duration": 33,
    "start_time": "2022-05-22T13:40:39.541Z"
   },
   {
    "duration": 2,
    "start_time": "2022-05-22T13:40:40.488Z"
   },
   {
    "duration": 7,
    "start_time": "2022-05-22T13:40:41.324Z"
   },
   {
    "duration": 238,
    "start_time": "2022-05-22T13:40:42.218Z"
   },
   {
    "duration": 196,
    "start_time": "2022-05-22T13:40:43.143Z"
   },
   {
    "duration": 6,
    "start_time": "2022-05-22T13:40:44.408Z"
   },
   {
    "duration": 3,
    "start_time": "2022-05-22T13:40:45.350Z"
   },
   {
    "duration": 2415,
    "start_time": "2022-05-22T13:40:46.269Z"
   },
   {
    "duration": 7,
    "start_time": "2022-05-22T13:40:48.687Z"
   },
   {
    "duration": 11,
    "start_time": "2022-05-22T13:40:50.995Z"
   },
   {
    "duration": 3,
    "start_time": "2022-05-22T13:40:51.769Z"
   },
   {
    "duration": 12,
    "start_time": "2022-05-22T13:40:52.390Z"
   },
   {
    "duration": 5,
    "start_time": "2022-05-22T13:40:53.055Z"
   },
   {
    "duration": 151924,
    "start_time": "2022-05-22T13:40:53.980Z"
   },
   {
    "duration": 5,
    "start_time": "2022-05-22T13:43:25.906Z"
   },
   {
    "duration": 10,
    "start_time": "2022-05-22T13:43:25.912Z"
   },
   {
    "duration": 3,
    "start_time": "2022-05-22T13:43:25.924Z"
   },
   {
    "duration": 6,
    "start_time": "2022-05-22T13:43:25.928Z"
   },
   {
    "duration": 7,
    "start_time": "2022-05-22T13:43:25.935Z"
   },
   {
    "duration": 445,
    "start_time": "2022-05-22T13:43:25.943Z"
   },
   {
    "duration": 525,
    "start_time": "2022-05-22T13:43:26.390Z"
   },
   {
    "duration": 6,
    "start_time": "2022-05-22T13:43:26.916Z"
   },
   {
    "duration": 5,
    "start_time": "2022-05-22T13:43:26.924Z"
   },
   {
    "duration": 5,
    "start_time": "2022-05-22T13:43:26.930Z"
   },
   {
    "duration": 1572,
    "start_time": "2022-05-22T13:44:54.186Z"
   },
   {
    "duration": 846,
    "start_time": "2022-05-22T13:44:55.760Z"
   },
   {
    "duration": 30,
    "start_time": "2022-05-22T13:44:56.607Z"
   },
   {
    "duration": 3,
    "start_time": "2022-05-22T13:44:56.639Z"
   },
   {
    "duration": 30,
    "start_time": "2022-05-22T13:44:56.644Z"
   },
   {
    "duration": 241,
    "start_time": "2022-05-22T13:44:56.676Z"
   },
   {
    "duration": 209,
    "start_time": "2022-05-22T13:44:56.919Z"
   },
   {
    "duration": 7,
    "start_time": "2022-05-22T13:44:57.130Z"
   },
   {
    "duration": 5,
    "start_time": "2022-05-22T13:44:57.138Z"
   },
   {
    "duration": 2417,
    "start_time": "2022-05-22T13:44:57.145Z"
   },
   {
    "duration": 7,
    "start_time": "2022-05-22T13:44:59.565Z"
   },
   {
    "duration": 179,
    "start_time": "2022-05-22T13:44:59.573Z"
   },
   {
    "duration": 2,
    "start_time": "2022-05-22T13:44:59.754Z"
   },
   {
    "duration": 15,
    "start_time": "2022-05-22T13:44:59.758Z"
   },
   {
    "duration": 4,
    "start_time": "2022-05-22T13:44:59.775Z"
   },
   {
    "duration": 152835,
    "start_time": "2022-05-22T13:44:59.781Z"
   },
   {
    "duration": 4,
    "start_time": "2022-05-22T13:47:32.618Z"
   },
   {
    "duration": 9,
    "start_time": "2022-05-22T13:47:32.624Z"
   },
   {
    "duration": 3,
    "start_time": "2022-05-22T13:47:32.634Z"
   },
   {
    "duration": 25,
    "start_time": "2022-05-22T13:47:32.639Z"
   },
   {
    "duration": 3,
    "start_time": "2022-05-22T13:47:32.666Z"
   },
   {
    "duration": 423,
    "start_time": "2022-05-22T13:47:32.671Z"
   },
   {
    "duration": 541,
    "start_time": "2022-05-22T13:47:33.095Z"
   },
   {
    "duration": 10,
    "start_time": "2022-05-22T13:47:33.638Z"
   },
   {
    "duration": 5,
    "start_time": "2022-05-22T13:47:33.650Z"
   },
   {
    "duration": 8,
    "start_time": "2022-05-22T13:47:33.656Z"
   },
   {
    "duration": 121807,
    "start_time": "2022-05-22T13:47:33.666Z"
   },
   {
    "duration": 90,
    "start_time": "2022-05-22T13:49:35.477Z"
   },
   {
    "duration": 4300,
    "start_time": "2022-05-22T13:49:35.569Z"
   },
   {
    "duration": 199216,
    "start_time": "2022-05-22T13:49:39.871Z"
   },
   {
    "duration": 3,
    "start_time": "2022-05-22T13:52:59.089Z"
   },
   {
    "duration": 4064,
    "start_time": "2022-05-22T13:52:59.094Z"
   },
   {
    "duration": 462504,
    "start_time": "2022-05-22T13:53:03.166Z"
   },
   {
    "duration": 3,
    "start_time": "2022-05-22T14:00:45.672Z"
   },
   {
    "duration": 166623,
    "start_time": "2022-05-22T14:00:45.676Z"
   },
   {
    "duration": 6,
    "start_time": "2022-05-22T14:03:32.301Z"
   },
   {
    "duration": 10,
    "start_time": "2022-05-22T14:03:32.308Z"
   },
   {
    "duration": 45938,
    "start_time": "2022-05-22T14:03:32.320Z"
   },
   {
    "duration": 3,
    "start_time": "2022-05-22T14:04:18.266Z"
   },
   {
    "duration": 2577,
    "start_time": "2022-05-22T14:04:18.270Z"
   },
   {
    "duration": 15,
    "start_time": "2022-05-22T14:04:20.849Z"
   },
   {
    "duration": 129,
    "start_time": "2022-05-22T14:04:20.866Z"
   },
   {
    "duration": 227,
    "start_time": "2022-05-22T14:04:20.998Z"
   },
   {
    "duration": 23,
    "start_time": "2022-05-22T14:04:21.227Z"
   },
   {
    "duration": 355,
    "start_time": "2022-05-22T14:04:21.252Z"
   },
   {
    "duration": 4,
    "start_time": "2022-05-22T14:04:21.609Z"
   },
   {
    "duration": 5,
    "start_time": "2022-05-22T14:04:21.615Z"
   },
   {
    "duration": 11,
    "start_time": "2022-05-22T14:04:21.622Z"
   },
   {
    "duration": 1587,
    "start_time": "2022-05-22T14:09:13.612Z"
   },
   {
    "duration": 849,
    "start_time": "2022-05-22T14:09:15.202Z"
   },
   {
    "duration": 36,
    "start_time": "2022-05-22T14:09:16.052Z"
   },
   {
    "duration": 3,
    "start_time": "2022-05-22T14:09:16.091Z"
   },
   {
    "duration": 13,
    "start_time": "2022-05-22T14:09:16.095Z"
   },
   {
    "duration": 260,
    "start_time": "2022-05-22T14:09:16.110Z"
   },
   {
    "duration": 207,
    "start_time": "2022-05-22T14:09:16.372Z"
   },
   {
    "duration": 6,
    "start_time": "2022-05-22T14:09:16.581Z"
   },
   {
    "duration": 14,
    "start_time": "2022-05-22T14:09:16.589Z"
   },
   {
    "duration": 2419,
    "start_time": "2022-05-22T14:09:16.606Z"
   },
   {
    "duration": 8,
    "start_time": "2022-05-22T14:09:19.028Z"
   },
   {
    "duration": 204,
    "start_time": "2022-05-22T14:09:19.038Z"
   },
   {
    "duration": 3,
    "start_time": "2022-05-22T14:09:19.245Z"
   },
   {
    "duration": 23,
    "start_time": "2022-05-22T14:09:19.250Z"
   },
   {
    "duration": 10,
    "start_time": "2022-05-22T14:09:19.275Z"
   },
   {
    "duration": 154672,
    "start_time": "2022-05-22T14:09:19.288Z"
   },
   {
    "duration": 4,
    "start_time": "2022-05-22T14:11:53.964Z"
   },
   {
    "duration": 9,
    "start_time": "2022-05-22T14:11:53.970Z"
   },
   {
    "duration": 3,
    "start_time": "2022-05-22T14:11:53.981Z"
   },
   {
    "duration": 6,
    "start_time": "2022-05-22T14:11:53.986Z"
   },
   {
    "duration": 5,
    "start_time": "2022-05-22T14:11:53.994Z"
   },
   {
    "duration": 513,
    "start_time": "2022-05-22T14:11:54.000Z"
   },
   {
    "duration": 575,
    "start_time": "2022-05-22T14:11:54.516Z"
   },
   {
    "duration": 5,
    "start_time": "2022-05-22T14:11:55.093Z"
   },
   {
    "duration": 6,
    "start_time": "2022-05-22T14:11:55.100Z"
   },
   {
    "duration": 6,
    "start_time": "2022-05-22T14:11:55.108Z"
   },
   {
    "duration": 362952,
    "start_time": "2022-05-22T14:11:55.116Z"
   },
   {
    "duration": 3,
    "start_time": "2022-05-22T14:17:58.073Z"
   },
   {
    "duration": 2104,
    "start_time": "2022-05-22T14:17:58.165Z"
   },
   {
    "duration": 355581,
    "start_time": "2022-05-22T14:18:00.271Z"
   },
   {
    "duration": 3,
    "start_time": "2022-05-22T14:23:55.854Z"
   },
   {
    "duration": 4551,
    "start_time": "2022-05-22T14:23:55.865Z"
   },
   {
    "duration": 642832,
    "start_time": "2022-05-22T14:24:00.418Z"
   },
   {
    "duration": 3,
    "start_time": "2022-05-22T14:34:43.252Z"
   },
   {
    "duration": 167753,
    "start_time": "2022-05-22T14:34:43.256Z"
   },
   {
    "duration": 6,
    "start_time": "2022-05-22T14:37:31.011Z"
   },
   {
    "duration": 23,
    "start_time": "2022-05-22T14:37:31.018Z"
   },
   {
    "duration": 94811,
    "start_time": "2022-05-22T14:37:31.043Z"
   },
   {
    "duration": 9,
    "start_time": "2022-05-22T14:39:05.856Z"
   },
   {
    "duration": 2807,
    "start_time": "2022-05-22T14:39:05.869Z"
   },
   {
    "duration": 9,
    "start_time": "2022-05-22T14:39:08.678Z"
   },
   {
    "duration": 149,
    "start_time": "2022-05-22T14:39:08.688Z"
   },
   {
    "duration": 295,
    "start_time": "2022-05-22T14:39:08.839Z"
   },
   {
    "duration": 46,
    "start_time": "2022-05-22T14:39:09.136Z"
   },
   {
    "duration": 396,
    "start_time": "2022-05-22T14:39:09.185Z"
   },
   {
    "duration": 4,
    "start_time": "2022-05-22T14:39:09.583Z"
   },
   {
    "duration": 5,
    "start_time": "2022-05-22T14:39:09.589Z"
   },
   {
    "duration": 15,
    "start_time": "2022-05-22T14:39:09.596Z"
   },
   {
    "duration": 17567,
    "start_time": "2022-05-22T14:41:52.645Z"
   },
   {
    "duration": 5,
    "start_time": "2022-05-22T14:42:16.843Z"
   },
   {
    "duration": 810,
    "start_time": "2022-05-22T14:42:17.945Z"
   },
   {
    "duration": 31,
    "start_time": "2022-05-22T14:42:18.757Z"
   },
   {
    "duration": 3,
    "start_time": "2022-05-22T14:42:19.416Z"
   },
   {
    "duration": 7,
    "start_time": "2022-05-22T14:42:20.277Z"
   },
   {
    "duration": 228,
    "start_time": "2022-05-22T14:42:21.071Z"
   },
   {
    "duration": 209,
    "start_time": "2022-05-22T14:42:21.911Z"
   },
   {
    "duration": 9,
    "start_time": "2022-05-22T14:42:22.912Z"
   },
   {
    "duration": 3,
    "start_time": "2022-05-22T14:42:23.906Z"
   },
   {
    "duration": 2463,
    "start_time": "2022-05-22T14:42:26.641Z"
   },
   {
    "duration": 9,
    "start_time": "2022-05-22T14:42:33.786Z"
   },
   {
    "duration": 3,
    "start_time": "2022-05-22T14:43:01.715Z"
   },
   {
    "duration": 1574,
    "start_time": "2022-05-22T14:43:02.347Z"
   },
   {
    "duration": 7,
    "start_time": "2022-05-22T14:43:03.923Z"
   },
   {
    "duration": 8,
    "start_time": "2022-05-22T14:43:07.008Z"
   },
   {
    "duration": 3,
    "start_time": "2022-05-22T14:43:55.502Z"
   },
   {
    "duration": 1524,
    "start_time": "2022-05-22T14:43:56.641Z"
   },
   {
    "duration": 7,
    "start_time": "2022-05-22T14:43:58.167Z"
   },
   {
    "duration": 3,
    "start_time": "2022-05-22T14:44:17.117Z"
   },
   {
    "duration": 1640,
    "start_time": "2022-05-22T14:44:18.417Z"
   },
   {
    "duration": 10,
    "start_time": "2022-05-22T14:44:20.059Z"
   },
   {
    "duration": 3,
    "start_time": "2022-05-22T14:44:34.651Z"
   },
   {
    "duration": 1586,
    "start_time": "2022-05-22T14:44:35.652Z"
   },
   {
    "duration": 7,
    "start_time": "2022-05-22T14:44:37.241Z"
   },
   {
    "duration": 6,
    "start_time": "2022-05-22T14:44:41.398Z"
   },
   {
    "duration": 3,
    "start_time": "2022-05-22T14:44:42.560Z"
   },
   {
    "duration": 17,
    "start_time": "2022-05-22T14:44:48.617Z"
   },
   {
    "duration": 5,
    "start_time": "2022-05-22T14:44:49.668Z"
   },
   {
    "duration": 149391,
    "start_time": "2022-05-22T14:44:52.620Z"
   },
   {
    "duration": 10,
    "start_time": "2022-05-22T14:49:50.540Z"
   },
   {
    "duration": 7,
    "start_time": "2022-05-22T14:50:44.371Z"
   },
   {
    "duration": 6,
    "start_time": "2022-05-22T14:51:23.501Z"
   },
   {
    "duration": 5,
    "start_time": "2022-05-22T14:51:52.049Z"
   },
   {
    "duration": 9,
    "start_time": "2022-05-22T14:51:52.681Z"
   },
   {
    "duration": 3,
    "start_time": "2022-05-22T14:51:53.230Z"
   },
   {
    "duration": 3,
    "start_time": "2022-05-22T14:51:56.535Z"
   },
   {
    "duration": 3,
    "start_time": "2022-05-22T14:51:57.290Z"
   },
   {
    "duration": 510,
    "start_time": "2022-05-22T14:52:00.341Z"
   },
   {
    "duration": 589,
    "start_time": "2022-05-22T14:52:01.438Z"
   },
   {
    "duration": 5,
    "start_time": "2022-05-22T14:52:02.460Z"
   },
   {
    "duration": 3,
    "start_time": "2022-05-22T14:52:06.328Z"
   },
   {
    "duration": 3,
    "start_time": "2022-05-22T14:52:06.921Z"
   },
   {
    "duration": 323830,
    "start_time": "2022-05-22T14:52:08.430Z"
   },
   {
    "duration": 2,
    "start_time": "2022-05-22T14:57:32.265Z"
   },
   {
    "duration": 38012,
    "start_time": "2022-05-22T14:57:32.269Z"
   },
   {
    "duration": 364679,
    "start_time": "2022-05-22T14:58:10.283Z"
   },
   {
    "duration": 3,
    "start_time": "2022-05-22T15:04:14.964Z"
   },
   {
    "duration": 4833,
    "start_time": "2022-05-22T15:04:14.969Z"
   },
   {
    "duration": 1589,
    "start_time": "2022-05-22T15:07:50.896Z"
   },
   {
    "duration": 866,
    "start_time": "2022-05-22T15:07:52.487Z"
   },
   {
    "duration": 31,
    "start_time": "2022-05-22T15:07:53.357Z"
   },
   {
    "duration": 2,
    "start_time": "2022-05-22T15:07:53.390Z"
   },
   {
    "duration": 14,
    "start_time": "2022-05-22T15:07:53.394Z"
   },
   {
    "duration": 264,
    "start_time": "2022-05-22T15:07:53.409Z"
   },
   {
    "duration": 223,
    "start_time": "2022-05-22T15:07:53.675Z"
   },
   {
    "duration": 8,
    "start_time": "2022-05-22T15:07:53.900Z"
   },
   {
    "duration": 4,
    "start_time": "2022-05-22T15:07:53.911Z"
   },
   {
    "duration": 2409,
    "start_time": "2022-05-22T15:07:53.917Z"
   },
   {
    "duration": 7,
    "start_time": "2022-05-22T15:07:56.328Z"
   },
   {
    "duration": 233,
    "start_time": "2022-05-22T15:07:56.337Z"
   },
   {
    "duration": 3,
    "start_time": "2022-05-22T15:07:56.572Z"
   },
   {
    "duration": 16,
    "start_time": "2022-05-22T15:07:56.577Z"
   },
   {
    "duration": 3,
    "start_time": "2022-05-22T15:07:56.595Z"
   },
   {
    "duration": 12403,
    "start_time": "2022-05-22T15:07:56.600Z"
   },
   {
    "duration": 6,
    "start_time": "2022-05-22T15:08:09.005Z"
   },
   {
    "duration": 22,
    "start_time": "2022-05-22T15:08:09.012Z"
   },
   {
    "duration": 16,
    "start_time": "2022-05-22T15:08:09.036Z"
   },
   {
    "duration": 15,
    "start_time": "2022-05-22T15:08:09.055Z"
   },
   {
    "duration": 7,
    "start_time": "2022-05-22T15:08:09.073Z"
   },
   {
    "duration": 736,
    "start_time": "2022-05-22T15:08:09.082Z"
   },
   {
    "duration": 859,
    "start_time": "2022-05-22T15:08:09.820Z"
   },
   {
    "duration": 5,
    "start_time": "2022-05-22T15:08:10.681Z"
   },
   {
    "duration": 6,
    "start_time": "2022-05-22T15:08:10.688Z"
   },
   {
    "duration": 12,
    "start_time": "2022-05-22T15:08:10.696Z"
   },
   {
    "duration": 73555,
    "start_time": "2022-05-22T15:08:10.711Z"
   },
   {
    "duration": 97,
    "start_time": "2022-05-22T15:09:24.268Z"
   },
   {
    "duration": 2204,
    "start_time": "2022-05-22T15:09:24.367Z"
   },
   {
    "duration": 189674,
    "start_time": "2022-05-22T15:09:26.573Z"
   },
   {
    "duration": 4,
    "start_time": "2022-05-22T15:12:36.249Z"
   },
   {
    "duration": 3326,
    "start_time": "2022-05-22T15:12:36.266Z"
   },
   {
    "duration": 1834,
    "start_time": "2022-05-22T17:43:15.383Z"
   },
   {
    "duration": 940,
    "start_time": "2022-05-22T17:43:17.219Z"
   },
   {
    "duration": 44,
    "start_time": "2022-05-22T17:43:18.161Z"
   },
   {
    "duration": 3,
    "start_time": "2022-05-22T17:43:18.208Z"
   },
   {
    "duration": 29,
    "start_time": "2022-05-22T17:43:18.213Z"
   },
   {
    "duration": 271,
    "start_time": "2022-05-22T17:43:18.244Z"
   },
   {
    "duration": 263,
    "start_time": "2022-05-22T17:43:18.516Z"
   },
   {
    "duration": 7,
    "start_time": "2022-05-22T17:43:18.781Z"
   },
   {
    "duration": 8,
    "start_time": "2022-05-22T17:43:18.790Z"
   },
   {
    "duration": 2815,
    "start_time": "2022-05-22T17:43:18.801Z"
   },
   {
    "duration": 7,
    "start_time": "2022-05-22T17:43:21.620Z"
   },
   {
    "duration": 225,
    "start_time": "2022-05-22T17:43:21.629Z"
   },
   {
    "duration": 3,
    "start_time": "2022-05-22T17:43:21.856Z"
   },
   {
    "duration": 26,
    "start_time": "2022-05-22T17:43:21.861Z"
   },
   {
    "duration": 93407,
    "start_time": "2022-05-22T17:43:21.889Z"
   },
   {
    "duration": 12,
    "start_time": "2022-05-22T17:44:55.298Z"
   },
   {
    "duration": 53,
    "start_time": "2022-05-22T17:44:55.312Z"
   },
   {
    "duration": 7,
    "start_time": "2022-05-22T17:44:55.367Z"
   },
   {
    "duration": 6,
    "start_time": "2022-05-22T17:44:55.376Z"
   },
   {
    "duration": 13,
    "start_time": "2022-05-22T17:44:55.384Z"
   },
   {
    "duration": 5844,
    "start_time": "2022-05-22T17:44:55.399Z"
   },
   {
    "duration": 7361,
    "start_time": "2022-05-22T17:45:01.246Z"
   },
   {
    "duration": 24,
    "start_time": "2022-05-22T17:45:08.609Z"
   },
   {
    "duration": 10,
    "start_time": "2022-05-22T17:45:08.636Z"
   },
   {
    "duration": 6,
    "start_time": "2022-05-22T17:45:08.648Z"
   },
   {
    "duration": 699325,
    "start_time": "2022-05-22T17:45:08.664Z"
   },
   {
    "duration": 2,
    "start_time": "2022-05-22T17:56:47.991Z"
   },
   {
    "duration": 22407,
    "start_time": "2022-05-22T17:56:47.997Z"
   },
   {
    "duration": 1837,
    "start_time": "2022-05-22T18:05:08.653Z"
   },
   {
    "duration": 914,
    "start_time": "2022-05-22T18:05:10.492Z"
   },
   {
    "duration": 33,
    "start_time": "2022-05-22T18:05:11.408Z"
   },
   {
    "duration": 3,
    "start_time": "2022-05-22T18:05:11.443Z"
   },
   {
    "duration": 25,
    "start_time": "2022-05-22T18:05:11.448Z"
   },
   {
    "duration": 256,
    "start_time": "2022-05-22T18:05:11.479Z"
   },
   {
    "duration": 236,
    "start_time": "2022-05-22T18:05:11.736Z"
   },
   {
    "duration": 7,
    "start_time": "2022-05-22T18:05:11.976Z"
   },
   {
    "duration": 6,
    "start_time": "2022-05-22T18:05:11.985Z"
   },
   {
    "duration": 2747,
    "start_time": "2022-05-22T18:05:11.995Z"
   },
   {
    "duration": 8,
    "start_time": "2022-05-22T18:05:14.745Z"
   },
   {
    "duration": 241,
    "start_time": "2022-05-22T18:05:14.765Z"
   },
   {
    "duration": 3,
    "start_time": "2022-05-22T18:05:15.008Z"
   },
   {
    "duration": 36,
    "start_time": "2022-05-22T18:05:15.013Z"
   },
   {
    "duration": 4,
    "start_time": "2022-05-22T18:05:15.051Z"
   },
   {
    "duration": 19197,
    "start_time": "2022-05-22T18:05:15.057Z"
   },
   {
    "duration": 15,
    "start_time": "2022-05-22T18:05:34.256Z"
   },
   {
    "duration": 24,
    "start_time": "2022-05-22T18:05:34.277Z"
   },
   {
    "duration": 5,
    "start_time": "2022-05-22T18:05:34.302Z"
   },
   {
    "duration": 5,
    "start_time": "2022-05-22T18:05:34.308Z"
   },
   {
    "duration": 6,
    "start_time": "2022-05-22T18:05:34.315Z"
   },
   {
    "duration": 1123,
    "start_time": "2022-05-22T18:05:34.323Z"
   },
   {
    "duration": 1355,
    "start_time": "2022-05-22T18:05:35.448Z"
   },
   {
    "duration": 7,
    "start_time": "2022-05-22T18:05:36.805Z"
   },
   {
    "duration": 8,
    "start_time": "2022-05-22T18:05:36.813Z"
   },
   {
    "duration": 7,
    "start_time": "2022-05-22T18:05:36.823Z"
   },
   {
    "duration": 242159,
    "start_time": "2022-05-22T18:05:36.832Z"
   },
   {
    "duration": 6,
    "start_time": "2022-05-22T18:09:38.996Z"
   },
   {
    "duration": 386,
    "start_time": "2022-05-22T18:09:39.004Z"
   },
   {
    "duration": 347476,
    "start_time": "2022-05-22T18:09:39.392Z"
   },
   {
    "duration": 8,
    "start_time": "2022-05-22T18:15:26.876Z"
   },
   {
    "duration": 5661,
    "start_time": "2022-05-22T18:15:26.886Z"
   },
   {
    "duration": 1659,
    "start_time": "2022-05-22T18:58:55.345Z"
   },
   {
    "duration": 840,
    "start_time": "2022-05-22T18:58:57.006Z"
   },
   {
    "duration": 39,
    "start_time": "2022-05-22T18:58:57.848Z"
   },
   {
    "duration": 4,
    "start_time": "2022-05-22T18:58:57.889Z"
   },
   {
    "duration": 15,
    "start_time": "2022-05-22T18:58:57.895Z"
   },
   {
    "duration": 254,
    "start_time": "2022-05-22T18:58:57.911Z"
   },
   {
    "duration": 226,
    "start_time": "2022-05-22T18:58:58.167Z"
   },
   {
    "duration": 5,
    "start_time": "2022-05-22T18:58:58.395Z"
   },
   {
    "duration": 5,
    "start_time": "2022-05-22T18:58:58.402Z"
   },
   {
    "duration": 2527,
    "start_time": "2022-05-22T18:58:58.409Z"
   },
   {
    "duration": 8,
    "start_time": "2022-05-22T18:59:00.939Z"
   },
   {
    "duration": 250,
    "start_time": "2022-05-22T18:59:00.949Z"
   },
   {
    "duration": 3,
    "start_time": "2022-05-22T18:59:01.202Z"
   },
   {
    "duration": 33,
    "start_time": "2022-05-22T18:59:01.208Z"
   },
   {
    "duration": 19,
    "start_time": "2022-05-22T18:59:01.243Z"
   },
   {
    "duration": 12614,
    "start_time": "2022-05-22T18:59:01.264Z"
   },
   {
    "duration": 4,
    "start_time": "2022-05-22T18:59:13.880Z"
   },
   {
    "duration": 8,
    "start_time": "2022-05-22T18:59:13.886Z"
   },
   {
    "duration": 3,
    "start_time": "2022-05-22T18:59:13.896Z"
   },
   {
    "duration": 5,
    "start_time": "2022-05-22T18:59:13.901Z"
   },
   {
    "duration": 4,
    "start_time": "2022-05-22T18:59:13.908Z"
   },
   {
    "duration": 738,
    "start_time": "2022-05-22T18:59:13.913Z"
   },
   {
    "duration": 892,
    "start_time": "2022-05-22T18:59:14.653Z"
   },
   {
    "duration": 6,
    "start_time": "2022-05-22T18:59:15.547Z"
   },
   {
    "duration": 2,
    "start_time": "2022-05-22T18:59:15.565Z"
   },
   {
    "duration": 5,
    "start_time": "2022-05-22T18:59:15.569Z"
   },
   {
    "duration": 124377,
    "start_time": "2022-05-22T18:59:15.576Z"
   },
   {
    "duration": 2,
    "start_time": "2022-05-22T19:01:19.955Z"
   },
   {
    "duration": 184,
    "start_time": "2022-05-22T19:01:19.959Z"
   },
   {
    "duration": 189033,
    "start_time": "2022-05-22T19:01:20.145Z"
   },
   {
    "duration": 3,
    "start_time": "2022-05-22T19:04:29.180Z"
   },
   {
    "duration": 3033,
    "start_time": "2022-05-22T19:04:29.186Z"
   },
   {
    "duration": 1719,
    "start_time": "2022-05-22T19:09:00.699Z"
   },
   {
    "duration": 891,
    "start_time": "2022-05-22T19:09:02.420Z"
   },
   {
    "duration": 28,
    "start_time": "2022-05-22T19:09:03.313Z"
   },
   {
    "duration": 3,
    "start_time": "2022-05-22T19:09:03.343Z"
   },
   {
    "duration": 23,
    "start_time": "2022-05-22T19:09:03.348Z"
   },
   {
    "duration": 257,
    "start_time": "2022-05-22T19:09:03.373Z"
   },
   {
    "duration": 233,
    "start_time": "2022-05-22T19:09:03.632Z"
   },
   {
    "duration": 6,
    "start_time": "2022-05-22T19:09:03.867Z"
   },
   {
    "duration": 7,
    "start_time": "2022-05-22T19:09:03.874Z"
   },
   {
    "duration": 2477,
    "start_time": "2022-05-22T19:09:03.883Z"
   },
   {
    "duration": 7,
    "start_time": "2022-05-22T19:09:06.365Z"
   },
   {
    "duration": 238,
    "start_time": "2022-05-22T19:09:06.373Z"
   },
   {
    "duration": 2,
    "start_time": "2022-05-22T19:09:06.613Z"
   },
   {
    "duration": 15,
    "start_time": "2022-05-22T19:09:06.616Z"
   },
   {
    "duration": 3,
    "start_time": "2022-05-22T19:09:06.633Z"
   },
   {
    "duration": 12881,
    "start_time": "2022-05-22T19:09:06.639Z"
   },
   {
    "duration": 5,
    "start_time": "2022-05-22T19:09:19.522Z"
   },
   {
    "duration": 11,
    "start_time": "2022-05-22T19:09:19.529Z"
   },
   {
    "duration": 5,
    "start_time": "2022-05-22T19:09:19.541Z"
   },
   {
    "duration": 308,
    "start_time": "2022-05-22T19:09:19.548Z"
   },
   {
    "duration": 7,
    "start_time": "2022-05-22T19:09:19.858Z"
   },
   {
    "duration": 949,
    "start_time": "2022-05-22T19:09:19.867Z"
   },
   {
    "duration": 1147,
    "start_time": "2022-05-22T19:09:20.818Z"
   },
   {
    "duration": 38,
    "start_time": "2022-05-22T19:09:21.967Z"
   },
   {
    "duration": 7,
    "start_time": "2022-05-22T19:09:22.007Z"
   },
   {
    "duration": 10,
    "start_time": "2022-05-22T19:09:22.016Z"
   },
   {
    "duration": 6850,
    "start_time": "2022-05-22T19:09:22.027Z"
   },
   {
    "duration": 4,
    "start_time": "2022-05-22T19:09:28.882Z"
   },
   {
    "duration": 23656,
    "start_time": "2022-05-22T19:09:28.888Z"
   },
   {
    "duration": 341775,
    "start_time": "2022-05-22T19:09:52.545Z"
   },
   {
    "duration": 4,
    "start_time": "2022-05-22T19:15:34.322Z"
   },
   {
    "duration": 5334,
    "start_time": "2022-05-22T19:15:34.328Z"
   },
   {
    "duration": 207,
    "start_time": "2022-05-22T19:15:39.665Z"
   },
   {
    "duration": 11,
    "start_time": "2022-05-22T19:15:39.874Z"
   },
   {
    "duration": 0,
    "start_time": "2022-05-22T19:15:39.886Z"
   },
   {
    "duration": 0,
    "start_time": "2022-05-22T19:15:39.888Z"
   },
   {
    "duration": 0,
    "start_time": "2022-05-22T19:15:39.889Z"
   },
   {
    "duration": 0,
    "start_time": "2022-05-22T19:15:39.890Z"
   },
   {
    "duration": 0,
    "start_time": "2022-05-22T19:15:39.892Z"
   },
   {
    "duration": 0,
    "start_time": "2022-05-22T19:15:39.893Z"
   },
   {
    "duration": 0,
    "start_time": "2022-05-22T19:15:39.894Z"
   },
   {
    "duration": 0,
    "start_time": "2022-05-22T19:15:39.895Z"
   },
   {
    "duration": 0,
    "start_time": "2022-05-22T19:15:39.896Z"
   },
   {
    "duration": 0,
    "start_time": "2022-05-22T19:15:39.898Z"
   },
   {
    "duration": 0,
    "start_time": "2022-05-22T19:15:39.898Z"
   },
   {
    "duration": 0,
    "start_time": "2022-05-22T19:15:39.899Z"
   },
   {
    "duration": 0,
    "start_time": "2022-05-22T19:15:39.900Z"
   },
   {
    "duration": 0,
    "start_time": "2022-05-22T19:15:39.901Z"
   },
   {
    "duration": 631473,
    "start_time": "2022-05-22T19:17:54.047Z"
   },
   {
    "duration": 3,
    "start_time": "2022-05-22T19:28:25.522Z"
   },
   {
    "duration": 165678,
    "start_time": "2022-05-22T19:28:25.526Z"
   },
   {
    "duration": 5,
    "start_time": "2022-05-22T19:31:11.207Z"
   },
   {
    "duration": 12,
    "start_time": "2022-05-22T19:31:11.215Z"
   },
   {
    "duration": 98758,
    "start_time": "2022-05-22T19:31:11.230Z"
   },
   {
    "duration": 2,
    "start_time": "2022-05-22T19:32:49.990Z"
   },
   {
    "duration": 2831,
    "start_time": "2022-05-22T19:32:49.994Z"
   },
   {
    "duration": 9,
    "start_time": "2022-05-22T19:32:52.827Z"
   },
   {
    "duration": 190,
    "start_time": "2022-05-22T19:32:52.839Z"
   },
   {
    "duration": 438,
    "start_time": "2022-05-22T19:32:53.030Z"
   },
   {
    "duration": 22,
    "start_time": "2022-05-22T19:32:53.470Z"
   },
   {
    "duration": 622,
    "start_time": "2022-05-22T19:32:53.494Z"
   },
   {
    "duration": 3,
    "start_time": "2022-05-22T19:32:54.118Z"
   },
   {
    "duration": 9,
    "start_time": "2022-05-22T19:32:54.123Z"
   },
   {
    "duration": 15,
    "start_time": "2022-05-22T19:32:54.133Z"
   },
   {
    "duration": 1489,
    "start_time": "2022-05-22T19:34:18.807Z"
   },
   {
    "duration": 833,
    "start_time": "2022-05-22T19:34:20.299Z"
   },
   {
    "duration": 35,
    "start_time": "2022-05-22T19:34:21.134Z"
   },
   {
    "duration": 3,
    "start_time": "2022-05-22T19:34:21.171Z"
   },
   {
    "duration": 14,
    "start_time": "2022-05-22T19:34:21.176Z"
   },
   {
    "duration": 254,
    "start_time": "2022-05-22T19:34:21.192Z"
   },
   {
    "duration": 206,
    "start_time": "2022-05-22T19:34:21.448Z"
   },
   {
    "duration": 13,
    "start_time": "2022-05-22T19:34:21.656Z"
   },
   {
    "duration": 4,
    "start_time": "2022-05-22T19:34:21.671Z"
   },
   {
    "duration": 2454,
    "start_time": "2022-05-22T19:34:21.678Z"
   },
   {
    "duration": 7,
    "start_time": "2022-05-22T19:34:24.134Z"
   },
   {
    "duration": 159,
    "start_time": "2022-05-22T19:34:24.143Z"
   },
   {
    "duration": 2,
    "start_time": "2022-05-22T19:34:24.304Z"
   },
   {
    "duration": 5,
    "start_time": "2022-05-22T19:34:24.308Z"
   },
   {
    "duration": 85730,
    "start_time": "2022-05-22T19:34:24.315Z"
   },
   {
    "duration": 18,
    "start_time": "2022-05-22T19:35:50.048Z"
   },
   {
    "duration": 25,
    "start_time": "2022-05-22T19:35:50.068Z"
   },
   {
    "duration": 6,
    "start_time": "2022-05-22T19:35:50.095Z"
   },
   {
    "duration": 2258,
    "start_time": "2022-05-22T19:35:50.103Z"
   },
   {
    "duration": 7,
    "start_time": "2022-05-22T19:35:52.364Z"
   },
   {
    "duration": 155,
    "start_time": "2022-05-22T19:35:52.373Z"
   },
   {
    "duration": 0,
    "start_time": "2022-05-22T19:35:52.532Z"
   },
   {
    "duration": 0,
    "start_time": "2022-05-22T19:35:52.534Z"
   },
   {
    "duration": 0,
    "start_time": "2022-05-22T19:35:52.535Z"
   },
   {
    "duration": 0,
    "start_time": "2022-05-22T19:35:52.536Z"
   },
   {
    "duration": 0,
    "start_time": "2022-05-22T19:35:52.538Z"
   },
   {
    "duration": 0,
    "start_time": "2022-05-22T19:35:52.539Z"
   },
   {
    "duration": 0,
    "start_time": "2022-05-22T19:35:52.541Z"
   },
   {
    "duration": 0,
    "start_time": "2022-05-22T19:35:52.542Z"
   },
   {
    "duration": 0,
    "start_time": "2022-05-22T19:35:52.543Z"
   },
   {
    "duration": 0,
    "start_time": "2022-05-22T19:35:52.565Z"
   },
   {
    "duration": 0,
    "start_time": "2022-05-22T19:35:52.566Z"
   },
   {
    "duration": 0,
    "start_time": "2022-05-22T19:35:52.568Z"
   },
   {
    "duration": 0,
    "start_time": "2022-05-22T19:35:52.569Z"
   },
   {
    "duration": 0,
    "start_time": "2022-05-22T19:35:52.570Z"
   },
   {
    "duration": 0,
    "start_time": "2022-05-22T19:35:52.573Z"
   },
   {
    "duration": 0,
    "start_time": "2022-05-22T19:35:52.575Z"
   },
   {
    "duration": 0,
    "start_time": "2022-05-22T19:35:52.578Z"
   },
   {
    "duration": 0,
    "start_time": "2022-05-22T19:35:52.580Z"
   },
   {
    "duration": 1,
    "start_time": "2022-05-22T19:35:52.582Z"
   },
   {
    "duration": 0,
    "start_time": "2022-05-22T19:35:52.584Z"
   },
   {
    "duration": 0,
    "start_time": "2022-05-22T19:35:52.585Z"
   },
   {
    "duration": 0,
    "start_time": "2022-05-22T19:35:52.587Z"
   },
   {
    "duration": 0,
    "start_time": "2022-05-22T19:35:52.591Z"
   },
   {
    "duration": 0,
    "start_time": "2022-05-22T19:35:52.592Z"
   },
   {
    "duration": 1,
    "start_time": "2022-05-22T19:35:52.593Z"
   },
   {
    "duration": 0,
    "start_time": "2022-05-22T19:35:52.595Z"
   },
   {
    "duration": 1616,
    "start_time": "2022-05-22T19:42:12.848Z"
   },
   {
    "duration": 975,
    "start_time": "2022-05-22T19:42:14.467Z"
   },
   {
    "duration": 39,
    "start_time": "2022-05-22T19:42:15.444Z"
   },
   {
    "duration": 7,
    "start_time": "2022-05-22T19:42:15.486Z"
   },
   {
    "duration": 20,
    "start_time": "2022-05-22T19:42:15.496Z"
   },
   {
    "duration": 271,
    "start_time": "2022-05-22T19:42:15.518Z"
   },
   {
    "duration": 238,
    "start_time": "2022-05-22T19:42:15.791Z"
   },
   {
    "duration": 9,
    "start_time": "2022-05-22T19:42:16.031Z"
   },
   {
    "duration": 23,
    "start_time": "2022-05-22T19:42:16.042Z"
   },
   {
    "duration": 2584,
    "start_time": "2022-05-22T19:42:16.067Z"
   },
   {
    "duration": 13,
    "start_time": "2022-05-22T19:42:18.653Z"
   },
   {
    "duration": 162,
    "start_time": "2022-05-22T19:42:18.668Z"
   },
   {
    "duration": 3,
    "start_time": "2022-05-22T19:42:18.832Z"
   },
   {
    "duration": 7,
    "start_time": "2022-05-22T19:42:18.838Z"
   },
   {
    "duration": 90836,
    "start_time": "2022-05-22T19:42:18.848Z"
   },
   {
    "duration": 12,
    "start_time": "2022-05-22T19:43:49.687Z"
   },
   {
    "duration": 35,
    "start_time": "2022-05-22T19:43:49.701Z"
   },
   {
    "duration": 5,
    "start_time": "2022-05-22T19:43:49.739Z"
   },
   {
    "duration": 2225,
    "start_time": "2022-05-22T19:43:49.764Z"
   },
   {
    "duration": 9,
    "start_time": "2022-05-22T19:43:51.991Z"
   },
   {
    "duration": 151,
    "start_time": "2022-05-22T19:43:52.002Z"
   },
   {
    "duration": 0,
    "start_time": "2022-05-22T19:43:52.155Z"
   },
   {
    "duration": 0,
    "start_time": "2022-05-22T19:43:52.157Z"
   },
   {
    "duration": 0,
    "start_time": "2022-05-22T19:43:52.158Z"
   },
   {
    "duration": 0,
    "start_time": "2022-05-22T19:43:52.164Z"
   },
   {
    "duration": 0,
    "start_time": "2022-05-22T19:43:52.165Z"
   },
   {
    "duration": 0,
    "start_time": "2022-05-22T19:43:52.166Z"
   },
   {
    "duration": 0,
    "start_time": "2022-05-22T19:43:52.167Z"
   },
   {
    "duration": 0,
    "start_time": "2022-05-22T19:43:52.169Z"
   },
   {
    "duration": 0,
    "start_time": "2022-05-22T19:43:52.170Z"
   },
   {
    "duration": 0,
    "start_time": "2022-05-22T19:43:52.171Z"
   },
   {
    "duration": 0,
    "start_time": "2022-05-22T19:43:52.172Z"
   },
   {
    "duration": 0,
    "start_time": "2022-05-22T19:43:52.173Z"
   },
   {
    "duration": 0,
    "start_time": "2022-05-22T19:43:52.174Z"
   },
   {
    "duration": 0,
    "start_time": "2022-05-22T19:43:52.175Z"
   },
   {
    "duration": 0,
    "start_time": "2022-05-22T19:43:52.176Z"
   },
   {
    "duration": 0,
    "start_time": "2022-05-22T19:43:52.177Z"
   },
   {
    "duration": 0,
    "start_time": "2022-05-22T19:43:52.178Z"
   },
   {
    "duration": 0,
    "start_time": "2022-05-22T19:43:52.179Z"
   },
   {
    "duration": 0,
    "start_time": "2022-05-22T19:43:52.180Z"
   },
   {
    "duration": 0,
    "start_time": "2022-05-22T19:43:52.181Z"
   },
   {
    "duration": 0,
    "start_time": "2022-05-22T19:43:52.182Z"
   },
   {
    "duration": 3,
    "start_time": "2022-05-22T19:44:54.105Z"
   },
   {
    "duration": 7167,
    "start_time": "2022-05-22T19:44:56.821Z"
   },
   {
    "duration": 9591,
    "start_time": "2022-05-22T19:45:03.991Z"
   },
   {
    "duration": 54,
    "start_time": "2022-05-22T19:45:13.584Z"
   },
   {
    "duration": 10,
    "start_time": "2022-05-22T19:45:13.641Z"
   },
   {
    "duration": 13,
    "start_time": "2022-05-22T19:45:13.653Z"
   },
   {
    "duration": 1451,
    "start_time": "2022-05-22T19:55:55.419Z"
   },
   {
    "duration": 856,
    "start_time": "2022-05-22T19:55:56.872Z"
   },
   {
    "duration": 38,
    "start_time": "2022-05-22T19:55:57.730Z"
   },
   {
    "duration": 3,
    "start_time": "2022-05-22T19:55:57.770Z"
   },
   {
    "duration": 13,
    "start_time": "2022-05-22T19:55:57.774Z"
   },
   {
    "duration": 244,
    "start_time": "2022-05-22T19:55:57.789Z"
   },
   {
    "duration": 209,
    "start_time": "2022-05-22T19:55:58.034Z"
   },
   {
    "duration": 7,
    "start_time": "2022-05-22T19:55:58.244Z"
   },
   {
    "duration": 12,
    "start_time": "2022-05-22T19:55:58.252Z"
   },
   {
    "duration": 2465,
    "start_time": "2022-05-22T19:55:58.267Z"
   },
   {
    "duration": 8,
    "start_time": "2022-05-22T19:56:00.734Z"
   },
   {
    "duration": 203,
    "start_time": "2022-05-22T19:56:00.744Z"
   },
   {
    "duration": 3,
    "start_time": "2022-05-22T19:56:00.950Z"
   },
   {
    "duration": 27,
    "start_time": "2022-05-22T19:56:00.956Z"
   },
   {
    "duration": 86806,
    "start_time": "2022-05-22T19:56:00.986Z"
   },
   {
    "duration": 11,
    "start_time": "2022-05-22T19:57:27.795Z"
   },
   {
    "duration": 27,
    "start_time": "2022-05-22T19:57:27.808Z"
   },
   {
    "duration": 5,
    "start_time": "2022-05-22T19:57:27.837Z"
   },
   {
    "duration": 2301,
    "start_time": "2022-05-22T19:57:27.864Z"
   },
   {
    "duration": 13,
    "start_time": "2022-05-22T19:57:30.167Z"
   },
   {
    "duration": 6816,
    "start_time": "2022-05-22T19:57:30.182Z"
   },
   {
    "duration": 9220,
    "start_time": "2022-05-22T19:57:37.000Z"
   },
   {
    "duration": 204,
    "start_time": "2022-05-22T19:57:46.222Z"
   },
   {
    "duration": 15,
    "start_time": "2022-05-22T19:57:46.428Z"
   },
   {
    "duration": 5,
    "start_time": "2022-05-22T19:57:46.445Z"
   },
   {
    "duration": 1196129,
    "start_time": "2022-05-22T19:57:46.451Z"
   },
   {
    "duration": 3,
    "start_time": "2022-05-22T20:17:42.583Z"
   },
   {
    "duration": 17405,
    "start_time": "2022-05-22T20:17:42.589Z"
   },
   {
    "duration": 1301082,
    "start_time": "2022-05-22T20:17:59.996Z"
   },
   {
    "duration": 4,
    "start_time": "2022-05-22T20:39:41.080Z"
   },
   {
    "duration": 51247,
    "start_time": "2022-05-22T20:39:41.085Z"
   },
   {
    "duration": 72913,
    "start_time": "2022-05-22T20:40:32.334Z"
   },
   {
    "duration": 2,
    "start_time": "2022-05-22T20:41:45.249Z"
   },
   {
    "duration": 1301,
    "start_time": "2022-05-22T20:41:45.253Z"
   },
   {
    "duration": 27,
    "start_time": "2022-05-22T20:41:46.556Z"
   },
   {
    "duration": 762,
    "start_time": "2022-05-22T20:41:46.585Z"
   },
   {
    "duration": 30,
    "start_time": "2022-05-22T20:41:47.349Z"
   },
   {
    "duration": 863,
    "start_time": "2022-05-22T20:41:47.381Z"
   },
   {
    "duration": 0,
    "start_time": "2022-05-22T20:41:48.246Z"
   },
   {
    "duration": 0,
    "start_time": "2022-05-22T20:41:48.247Z"
   },
   {
    "duration": 0,
    "start_time": "2022-05-22T20:41:48.248Z"
   },
   {
    "duration": 742,
    "start_time": "2022-05-22T20:43:02.274Z"
   },
   {
    "duration": 4,
    "start_time": "2022-05-22T20:43:06.883Z"
   },
   {
    "duration": 3,
    "start_time": "2022-05-22T20:43:07.565Z"
   },
   {
    "duration": 10,
    "start_time": "2022-05-22T20:43:08.161Z"
   },
   {
    "duration": 5,
    "start_time": "2022-05-22T21:17:00.055Z"
   },
   {
    "duration": 845,
    "start_time": "2022-05-22T21:17:01.841Z"
   },
   {
    "duration": 33,
    "start_time": "2022-05-22T21:17:03.482Z"
   },
   {
    "duration": 31,
    "start_time": "2022-05-22T21:17:08.263Z"
   },
   {
    "duration": 2,
    "start_time": "2022-05-22T21:17:09.763Z"
   },
   {
    "duration": 8,
    "start_time": "2022-05-22T21:17:10.435Z"
   },
   {
    "duration": 217,
    "start_time": "2022-05-22T21:17:12.017Z"
   },
   {
    "duration": 202,
    "start_time": "2022-05-22T21:17:13.388Z"
   },
   {
    "duration": 8,
    "start_time": "2022-05-22T21:17:15.261Z"
   },
   {
    "duration": 14,
    "start_time": "2022-05-22T21:17:16.848Z"
   },
   {
    "duration": 3,
    "start_time": "2022-05-22T21:17:17.936Z"
   },
   {
    "duration": 445,
    "start_time": "2022-05-22T21:17:18.855Z"
   },
   {
    "duration": 7,
    "start_time": "2022-05-22T21:17:22.532Z"
   },
   {
    "duration": 139,
    "start_time": "2022-05-22T21:17:23.936Z"
   },
   {
    "duration": 3,
    "start_time": "2022-05-22T21:17:25.136Z"
   },
   {
    "duration": 4,
    "start_time": "2022-05-22T21:17:26.018Z"
   },
   {
    "duration": 12924,
    "start_time": "2022-05-22T21:17:27.217Z"
   },
   {
    "duration": 6,
    "start_time": "2022-05-22T21:17:42.378Z"
   },
   {
    "duration": 7,
    "start_time": "2022-05-22T21:17:43.132Z"
   },
   {
    "duration": 4,
    "start_time": "2022-05-22T21:17:43.785Z"
   },
   {
    "duration": 369,
    "start_time": "2022-05-22T21:17:46.097Z"
   },
   {
    "duration": 3,
    "start_time": "2022-05-22T21:17:47.865Z"
   },
   {
    "duration": 2667,
    "start_time": "2022-05-22T21:17:48.706Z"
   },
   {
    "duration": 2131,
    "start_time": "2022-05-22T21:17:51.375Z"
   },
   {
    "duration": 84,
    "start_time": "2022-05-22T21:17:53.508Z"
   },
   {
    "duration": 5,
    "start_time": "2022-05-22T21:17:53.595Z"
   },
   {
    "duration": 4,
    "start_time": "2022-05-22T21:17:54.116Z"
   },
   {
    "duration": 132710,
    "start_time": "2022-05-22T21:17:56.960Z"
   },
   {
    "duration": 2715,
    "start_time": "2022-05-22T21:22:29.151Z"
   },
   {
    "duration": 2623,
    "start_time": "2022-05-22T21:22:52.848Z"
   },
   {
    "duration": 2948,
    "start_time": "2022-05-22T21:24:04.817Z"
   },
   {
    "duration": 4,
    "start_time": "2022-05-22T21:24:10.701Z"
   },
   {
    "duration": 18,
    "start_time": "2022-05-22T21:24:24.837Z"
   },
   {
    "duration": 10,
    "start_time": "2022-05-22T21:32:41.253Z"
   },
   {
    "duration": 4,
    "start_time": "2022-05-22T21:32:43.728Z"
   },
   {
    "duration": 5,
    "start_time": "2022-05-22T21:33:01.943Z"
   },
   {
    "duration": 5,
    "start_time": "2022-05-22T21:33:09.939Z"
   },
   {
    "duration": 4,
    "start_time": "2022-05-22T21:33:14.027Z"
   },
   {
    "duration": 4,
    "start_time": "2022-05-22T21:33:28.109Z"
   },
   {
    "duration": 4,
    "start_time": "2022-05-22T21:33:52.845Z"
   },
   {
    "duration": 4,
    "start_time": "2022-05-22T21:34:14.084Z"
   },
   {
    "duration": 10,
    "start_time": "2022-05-22T21:34:18.809Z"
   },
   {
    "duration": 4,
    "start_time": "2022-05-22T21:34:20.846Z"
   },
   {
    "duration": 4,
    "start_time": "2022-05-22T21:34:35.402Z"
   },
   {
    "duration": 2601,
    "start_time": "2022-05-22T21:35:54.868Z"
   },
   {
    "duration": 5,
    "start_time": "2022-05-22T21:37:02.743Z"
   },
   {
    "duration": 4,
    "start_time": "2022-05-22T21:37:09.948Z"
   },
   {
    "duration": 3,
    "start_time": "2022-05-22T21:37:30.158Z"
   },
   {
    "duration": 19,
    "start_time": "2022-05-22T21:37:33.554Z"
   },
   {
    "duration": 4,
    "start_time": "2022-05-22T21:38:06.841Z"
   },
   {
    "duration": 4,
    "start_time": "2022-05-22T21:38:40.315Z"
   },
   {
    "duration": 1429,
    "start_time": "2022-05-22T21:39:07.217Z"
   },
   {
    "duration": 850,
    "start_time": "2022-05-22T21:39:08.647Z"
   },
   {
    "duration": 25,
    "start_time": "2022-05-22T21:39:09.499Z"
   },
   {
    "duration": 4,
    "start_time": "2022-05-22T21:39:09.526Z"
   },
   {
    "duration": 13,
    "start_time": "2022-05-22T21:39:09.531Z"
   },
   {
    "duration": 243,
    "start_time": "2022-05-22T21:39:09.546Z"
   },
   {
    "duration": 207,
    "start_time": "2022-05-22T21:39:09.792Z"
   },
   {
    "duration": 7,
    "start_time": "2022-05-22T21:39:10.001Z"
   },
   {
    "duration": 24,
    "start_time": "2022-05-22T21:39:10.010Z"
   },
   {
    "duration": 8,
    "start_time": "2022-05-22T21:39:10.037Z"
   },
   {
    "duration": 388,
    "start_time": "2022-05-22T21:39:10.047Z"
   },
   {
    "duration": 8,
    "start_time": "2022-05-22T21:39:10.437Z"
   },
   {
    "duration": 231,
    "start_time": "2022-05-22T21:39:10.447Z"
   },
   {
    "duration": 2,
    "start_time": "2022-05-22T21:39:10.680Z"
   },
   {
    "duration": 6,
    "start_time": "2022-05-22T21:39:10.684Z"
   },
   {
    "duration": 14491,
    "start_time": "2022-05-22T21:39:10.692Z"
   },
   {
    "duration": 4,
    "start_time": "2022-05-22T21:39:25.184Z"
   },
   {
    "duration": 11,
    "start_time": "2022-05-22T21:39:25.190Z"
   },
   {
    "duration": 3,
    "start_time": "2022-05-22T21:39:25.202Z"
   },
   {
    "duration": 374,
    "start_time": "2022-05-22T21:39:25.207Z"
   },
   {
    "duration": 6,
    "start_time": "2022-05-22T21:39:25.583Z"
   },
   {
    "duration": 2192,
    "start_time": "2022-05-22T21:39:25.590Z"
   },
   {
    "duration": 2084,
    "start_time": "2022-05-22T21:39:27.783Z"
   },
   {
    "duration": 79,
    "start_time": "2022-05-22T21:39:29.869Z"
   },
   {
    "duration": 5,
    "start_time": "2022-05-22T21:39:29.950Z"
   },
   {
    "duration": 3,
    "start_time": "2022-05-22T21:39:29.965Z"
   },
   {
    "duration": 125897,
    "start_time": "2022-05-22T21:39:29.969Z"
   },
   {
    "duration": 3799,
    "start_time": "2022-05-22T21:41:35.871Z"
   },
   {
    "duration": 94,
    "start_time": "2022-05-22T21:41:39.672Z"
   },
   {
    "duration": 6,
    "start_time": "2022-05-22T21:41:39.768Z"
   },
   {
    "duration": 161,
    "start_time": "2022-05-22T21:41:39.775Z"
   },
   {
    "duration": 0,
    "start_time": "2022-05-22T21:41:39.938Z"
   },
   {
    "duration": 0,
    "start_time": "2022-05-22T21:41:39.939Z"
   },
   {
    "duration": 4,
    "start_time": "2022-05-22T21:42:13.425Z"
   },
   {
    "duration": 11,
    "start_time": "2022-05-22T21:46:28.610Z"
   },
   {
    "duration": 3,
    "start_time": "2022-05-22T21:46:40.149Z"
   },
   {
    "duration": 10,
    "start_time": "2022-05-22T21:46:40.298Z"
   },
   {
    "duration": 125199,
    "start_time": "2022-05-22T21:46:57.370Z"
   },
   {
    "duration": 3296,
    "start_time": "2022-05-22T21:49:02.574Z"
   },
   {
    "duration": 4,
    "start_time": "2022-05-22T21:57:03.654Z"
   },
   {
    "duration": 190,
    "start_time": "2022-05-22T21:57:05.892Z"
   },
   {
    "duration": 3,
    "start_time": "2022-05-22T21:57:08.232Z"
   },
   {
    "duration": 35,
    "start_time": "2022-05-22T21:57:13.020Z"
   },
   {
    "duration": 59,
    "start_time": "2022-05-22T21:57:19.085Z"
   },
   {
    "duration": 18,
    "start_time": "2022-05-22T21:57:35.502Z"
   },
   {
    "duration": 227,
    "start_time": "2022-05-22T21:57:56.270Z"
   },
   {
    "duration": 421,
    "start_time": "2022-05-22T21:58:21.066Z"
   },
   {
    "duration": 300,
    "start_time": "2022-05-22T21:59:22.711Z"
   },
   {
    "duration": 261,
    "start_time": "2022-05-22T21:59:32.770Z"
   },
   {
    "duration": 256,
    "start_time": "2022-05-22T21:59:49.027Z"
   },
   {
    "duration": 48,
    "start_time": "2022-05-22T22:02:25.538Z"
   },
   {
    "duration": 4,
    "start_time": "2022-05-22T22:02:47.256Z"
   },
   {
    "duration": 179,
    "start_time": "2022-05-22T22:02:48.546Z"
   },
   {
    "duration": 31,
    "start_time": "2022-05-22T22:03:28.906Z"
   },
   {
    "duration": 5,
    "start_time": "2022-05-22T22:03:30.444Z"
   },
   {
    "duration": 183,
    "start_time": "2022-05-22T22:03:31.474Z"
   },
   {
    "duration": 270,
    "start_time": "2022-05-22T22:04:01.188Z"
   },
   {
    "duration": 7,
    "start_time": "2022-05-22T22:05:08.584Z"
   },
   {
    "duration": 4,
    "start_time": "2022-05-22T22:05:14.755Z"
   },
   {
    "duration": 278,
    "start_time": "2022-05-22T22:07:50.799Z"
   },
   {
    "duration": 257,
    "start_time": "2022-05-22T22:08:34.204Z"
   },
   {
    "duration": 393,
    "start_time": "2022-05-22T22:09:41.029Z"
   },
   {
    "duration": 219,
    "start_time": "2022-05-22T22:10:40.040Z"
   },
   {
    "duration": 384,
    "start_time": "2022-05-22T22:11:08.522Z"
   },
   {
    "duration": 368,
    "start_time": "2022-05-22T22:12:11.585Z"
   },
   {
    "duration": 404,
    "start_time": "2022-05-22T22:12:40.488Z"
   },
   {
    "duration": 417,
    "start_time": "2022-05-22T22:12:48.616Z"
   },
   {
    "duration": 378,
    "start_time": "2022-05-22T22:12:53.986Z"
   },
   {
    "duration": 204657,
    "start_time": "2022-05-22T22:14:33.250Z"
   },
   {
    "duration": 3,
    "start_time": "2022-05-22T22:17:57.909Z"
   },
   {
    "duration": 7963,
    "start_time": "2022-05-22T22:17:57.913Z"
   },
   {
    "duration": 8,
    "start_time": "2022-05-22T22:18:23.996Z"
   },
   {
    "duration": 12,
    "start_time": "2022-05-22T22:19:18.912Z"
   },
   {
    "duration": 8,
    "start_time": "2022-05-22T22:21:54.957Z"
   },
   {
    "duration": 23,
    "start_time": "2022-05-22T22:23:21.711Z"
   },
   {
    "duration": 24,
    "start_time": "2022-05-22T22:24:04.078Z"
   },
   {
    "duration": 40,
    "start_time": "2022-05-22T22:24:37.790Z"
   },
   {
    "duration": 1500,
    "start_time": "2022-05-22T22:24:58.739Z"
   },
   {
    "duration": 835,
    "start_time": "2022-05-22T22:25:00.241Z"
   },
   {
    "duration": 35,
    "start_time": "2022-05-22T22:25:01.079Z"
   },
   {
    "duration": 18,
    "start_time": "2022-05-22T22:25:01.117Z"
   },
   {
    "duration": 40,
    "start_time": "2022-05-22T22:25:01.137Z"
   },
   {
    "duration": 254,
    "start_time": "2022-05-22T22:25:01.179Z"
   },
   {
    "duration": 221,
    "start_time": "2022-05-22T22:25:01.436Z"
   },
   {
    "duration": 11,
    "start_time": "2022-05-22T22:25:01.659Z"
   },
   {
    "duration": 20,
    "start_time": "2022-05-22T22:25:01.672Z"
   },
   {
    "duration": 3,
    "start_time": "2022-05-22T22:25:01.695Z"
   },
   {
    "duration": 418,
    "start_time": "2022-05-22T22:25:01.700Z"
   },
   {
    "duration": 6,
    "start_time": "2022-05-22T22:25:02.120Z"
   },
   {
    "duration": 225,
    "start_time": "2022-05-22T22:25:02.128Z"
   },
   {
    "duration": 2,
    "start_time": "2022-05-22T22:25:02.355Z"
   },
   {
    "duration": 6,
    "start_time": "2022-05-22T22:25:02.359Z"
   },
   {
    "duration": 14646,
    "start_time": "2022-05-22T22:25:02.367Z"
   },
   {
    "duration": 4,
    "start_time": "2022-05-22T22:25:17.015Z"
   },
   {
    "duration": 15,
    "start_time": "2022-05-22T22:25:17.021Z"
   },
   {
    "duration": 6,
    "start_time": "2022-05-22T22:25:17.038Z"
   },
   {
    "duration": 371,
    "start_time": "2022-05-22T22:25:17.045Z"
   },
   {
    "duration": 28,
    "start_time": "2022-05-22T22:25:17.418Z"
   },
   {
    "duration": 2241,
    "start_time": "2022-05-22T22:25:17.449Z"
   },
   {
    "duration": 2025,
    "start_time": "2022-05-22T22:25:19.692Z"
   },
   {
    "duration": 83,
    "start_time": "2022-05-22T22:25:21.719Z"
   },
   {
    "duration": 10,
    "start_time": "2022-05-22T22:25:21.804Z"
   },
   {
    "duration": 5,
    "start_time": "2022-05-22T22:25:21.815Z"
   },
   {
    "duration": 137054,
    "start_time": "2022-05-22T22:25:21.821Z"
   },
   {
    "duration": 4,
    "start_time": "2022-05-22T22:27:38.969Z"
   },
   {
    "duration": 6399,
    "start_time": "2022-05-22T22:27:38.975Z"
   },
   {
    "duration": 150827,
    "start_time": "2022-05-22T22:27:45.376Z"
   },
   {
    "duration": 3,
    "start_time": "2022-05-22T22:30:16.204Z"
   },
   {
    "duration": 4438,
    "start_time": "2022-05-22T22:30:16.209Z"
   },
   {
    "duration": 8,
    "start_time": "2022-05-22T22:30:20.649Z"
   },
   {
    "duration": 6,
    "start_time": "2022-05-22T22:30:20.665Z"
   },
   {
    "duration": 156,
    "start_time": "2022-05-22T22:30:20.672Z"
   },
   {
    "duration": 3,
    "start_time": "2022-05-22T22:30:20.830Z"
   },
   {
    "duration": 50,
    "start_time": "2022-05-22T22:30:20.835Z"
   },
   {
    "duration": 0,
    "start_time": "2022-05-22T22:30:20.886Z"
   },
   {
    "duration": 8,
    "start_time": "2022-05-22T22:33:48.907Z"
   },
   {
    "duration": 7,
    "start_time": "2022-05-22T22:33:50.060Z"
   },
   {
    "duration": 4,
    "start_time": "2022-05-22T22:33:52.892Z"
   },
   {
    "duration": 144,
    "start_time": "2022-05-22T22:33:53.860Z"
   },
   {
    "duration": 4,
    "start_time": "2022-05-22T22:34:55.337Z"
   },
   {
    "duration": 8,
    "start_time": "2022-05-22T22:34:56.534Z"
   },
   {
    "duration": 5,
    "start_time": "2022-05-22T22:34:58.476Z"
   },
   {
    "duration": 222,
    "start_time": "2022-05-22T22:34:59.629Z"
   },
   {
    "duration": 4,
    "start_time": "2022-05-22T22:35:02.018Z"
   },
   {
    "duration": 39,
    "start_time": "2022-05-22T22:35:05.131Z"
   },
   {
    "duration": 3,
    "start_time": "2022-05-22T22:35:30.499Z"
   },
   {
    "duration": 5,
    "start_time": "2022-05-22T22:35:35.666Z"
   },
   {
    "duration": 4,
    "start_time": "2022-05-22T22:35:37.276Z"
   },
   {
    "duration": 234,
    "start_time": "2022-05-22T22:35:40.065Z"
   },
   {
    "duration": 2,
    "start_time": "2022-05-22T22:35:50.023Z"
   },
   {
    "duration": 4,
    "start_time": "2022-05-22T22:36:40.460Z"
   },
   {
    "duration": 4,
    "start_time": "2022-05-22T22:37:24.656Z"
   },
   {
    "duration": 215,
    "start_time": "2022-05-22T22:37:25.332Z"
   },
   {
    "duration": 3,
    "start_time": "2022-05-22T22:37:26.204Z"
   },
   {
    "duration": 4,
    "start_time": "2022-05-22T22:37:29.111Z"
   },
   {
    "duration": 26,
    "start_time": "2022-05-22T22:37:31.873Z"
   },
   {
    "duration": 4,
    "start_time": "2022-05-22T22:37:46.428Z"
   },
   {
    "duration": 442,
    "start_time": "2022-05-22T22:37:48.907Z"
   },
   {
    "duration": 1444,
    "start_time": "2022-05-22T22:38:43.689Z"
   },
   {
    "duration": 822,
    "start_time": "2022-05-22T22:38:45.135Z"
   },
   {
    "duration": 27,
    "start_time": "2022-05-22T22:38:45.959Z"
   },
   {
    "duration": 3,
    "start_time": "2022-05-22T22:38:45.988Z"
   },
   {
    "duration": 13,
    "start_time": "2022-05-22T22:38:45.992Z"
   },
   {
    "duration": 262,
    "start_time": "2022-05-22T22:38:46.006Z"
   },
   {
    "duration": 213,
    "start_time": "2022-05-22T22:38:46.270Z"
   },
   {
    "duration": 7,
    "start_time": "2022-05-22T22:38:46.485Z"
   },
   {
    "duration": 17,
    "start_time": "2022-05-22T22:38:46.493Z"
   },
   {
    "duration": 4,
    "start_time": "2022-05-22T22:38:46.512Z"
   },
   {
    "duration": 399,
    "start_time": "2022-05-22T22:38:46.517Z"
   },
   {
    "duration": 7,
    "start_time": "2022-05-22T22:38:46.918Z"
   },
   {
    "duration": 178,
    "start_time": "2022-05-22T22:38:46.927Z"
   },
   {
    "duration": 3,
    "start_time": "2022-05-22T22:38:47.107Z"
   },
   {
    "duration": 6,
    "start_time": "2022-05-22T22:38:47.111Z"
   },
   {
    "duration": 14032,
    "start_time": "2022-05-22T22:38:47.118Z"
   },
   {
    "duration": 12,
    "start_time": "2022-05-22T22:39:01.153Z"
   },
   {
    "duration": 24,
    "start_time": "2022-05-22T22:39:01.167Z"
   },
   {
    "duration": 26,
    "start_time": "2022-05-22T22:39:01.192Z"
   },
   {
    "duration": 397,
    "start_time": "2022-05-22T22:39:01.220Z"
   },
   {
    "duration": 10,
    "start_time": "2022-05-22T22:39:01.619Z"
   },
   {
    "duration": 2222,
    "start_time": "2022-05-22T22:39:01.630Z"
   },
   {
    "duration": 2004,
    "start_time": "2022-05-22T22:39:03.855Z"
   },
   {
    "duration": 81,
    "start_time": "2022-05-22T22:39:05.861Z"
   },
   {
    "duration": 7,
    "start_time": "2022-05-22T22:39:05.944Z"
   },
   {
    "duration": 8,
    "start_time": "2022-05-22T22:39:05.952Z"
   },
   {
    "duration": 128600,
    "start_time": "2022-05-22T22:39:05.965Z"
   },
   {
    "duration": 3,
    "start_time": "2022-05-22T22:41:14.570Z"
   },
   {
    "duration": 3692,
    "start_time": "2022-05-22T22:41:14.575Z"
   },
   {
    "duration": 143916,
    "start_time": "2022-05-22T22:41:18.269Z"
   },
   {
    "duration": 3,
    "start_time": "2022-05-22T22:43:42.187Z"
   },
   {
    "duration": 4314,
    "start_time": "2022-05-22T22:43:42.192Z"
   },
   {
    "duration": 5,
    "start_time": "2022-05-22T22:43:46.508Z"
   },
   {
    "duration": 9,
    "start_time": "2022-05-22T22:43:46.515Z"
   },
   {
    "duration": 7,
    "start_time": "2022-05-22T22:43:46.526Z"
   },
   {
    "duration": 173,
    "start_time": "2022-05-22T22:43:46.535Z"
   },
   {
    "duration": 0,
    "start_time": "2022-05-22T22:43:46.710Z"
   },
   {
    "duration": 0,
    "start_time": "2022-05-22T22:43:46.712Z"
   },
   {
    "duration": 0,
    "start_time": "2022-05-22T22:43:46.714Z"
   },
   {
    "duration": 0,
    "start_time": "2022-05-22T22:43:46.716Z"
   },
   {
    "duration": 1,
    "start_time": "2022-05-22T22:43:46.717Z"
   },
   {
    "duration": 24,
    "start_time": "2022-05-22T22:44:08.847Z"
   },
   {
    "duration": 5,
    "start_time": "2022-05-22T22:44:50.953Z"
   },
   {
    "duration": 19,
    "start_time": "2022-05-22T22:44:55.683Z"
   },
   {
    "duration": 5,
    "start_time": "2022-05-22T22:45:08.278Z"
   },
   {
    "duration": 9,
    "start_time": "2022-05-22T22:45:10.256Z"
   },
   {
    "duration": 5,
    "start_time": "2022-05-22T22:45:11.697Z"
   },
   {
    "duration": 19,
    "start_time": "2022-05-22T22:45:13.027Z"
   },
   {
    "duration": 4,
    "start_time": "2022-05-22T22:45:25.522Z"
   },
   {
    "duration": 9,
    "start_time": "2022-05-22T22:45:27.368Z"
   },
   {
    "duration": 5,
    "start_time": "2022-05-22T22:45:29.075Z"
   },
   {
    "duration": 136,
    "start_time": "2022-05-22T22:45:29.674Z"
   },
   {
    "duration": 3,
    "start_time": "2022-05-22T22:45:30.760Z"
   },
   {
    "duration": 4,
    "start_time": "2022-05-22T22:45:31.607Z"
   },
   {
    "duration": 269,
    "start_time": "2022-05-22T22:45:32.730Z"
   },
   {
    "duration": 4,
    "start_time": "2022-05-22T22:46:22.664Z"
   },
   {
    "duration": 8,
    "start_time": "2022-05-22T22:46:39.862Z"
   },
   {
    "duration": 397,
    "start_time": "2022-05-22T22:46:42.478Z"
   },
   {
    "duration": 9,
    "start_time": "2022-05-22T22:47:39.525Z"
   },
   {
    "duration": 444,
    "start_time": "2022-05-22T22:47:42.519Z"
   },
   {
    "duration": 124,
    "start_time": "2022-05-22T22:47:49.919Z"
   },
   {
    "duration": 179,
    "start_time": "2022-05-22T22:47:50.707Z"
   },
   {
    "duration": 12,
    "start_time": "2022-05-22T22:47:51.603Z"
   },
   {
    "duration": 173,
    "start_time": "2022-05-22T22:48:01.888Z"
   },
   {
    "duration": 3,
    "start_time": "2022-05-22T22:48:06.004Z"
   },
   {
    "duration": 51,
    "start_time": "2022-05-22T22:48:15.136Z"
   },
   {
    "duration": 11,
    "start_time": "2022-05-22T22:49:03.989Z"
   },
   {
    "duration": 167,
    "start_time": "2022-05-22T22:49:12.477Z"
   },
   {
    "duration": 3,
    "start_time": "2022-05-22T22:49:52.193Z"
   },
   {
    "duration": 4,
    "start_time": "2022-05-22T22:49:56.277Z"
   },
   {
    "duration": 522,
    "start_time": "2022-05-22T22:50:05.055Z"
   },
   {
    "duration": 1525,
    "start_time": "2022-05-22T22:53:27.856Z"
   },
   {
    "duration": 863,
    "start_time": "2022-05-22T22:53:29.383Z"
   },
   {
    "duration": 39,
    "start_time": "2022-05-22T22:53:30.248Z"
   },
   {
    "duration": 8,
    "start_time": "2022-05-22T22:53:30.290Z"
   },
   {
    "duration": 15,
    "start_time": "2022-05-22T22:53:30.300Z"
   },
   {
    "duration": 273,
    "start_time": "2022-05-22T22:53:30.317Z"
   },
   {
    "duration": 222,
    "start_time": "2022-05-22T22:53:30.592Z"
   },
   {
    "duration": 8,
    "start_time": "2022-05-22T22:53:30.816Z"
   },
   {
    "duration": 18,
    "start_time": "2022-05-22T22:53:30.826Z"
   },
   {
    "duration": 19,
    "start_time": "2022-05-22T22:53:30.847Z"
   },
   {
    "duration": 415,
    "start_time": "2022-05-22T22:53:30.868Z"
   },
   {
    "duration": 10,
    "start_time": "2022-05-22T22:53:31.285Z"
   },
   {
    "duration": 224,
    "start_time": "2022-05-22T22:53:31.297Z"
   },
   {
    "duration": 3,
    "start_time": "2022-05-22T22:53:31.523Z"
   },
   {
    "duration": 10,
    "start_time": "2022-05-22T22:53:31.527Z"
   },
   {
    "duration": 14992,
    "start_time": "2022-05-22T22:53:31.538Z"
   },
   {
    "duration": 4,
    "start_time": "2022-05-22T22:53:46.532Z"
   },
   {
    "duration": 10,
    "start_time": "2022-05-22T22:53:46.538Z"
   },
   {
    "duration": 16,
    "start_time": "2022-05-22T22:53:46.549Z"
   },
   {
    "duration": 376,
    "start_time": "2022-05-22T22:53:46.567Z"
   },
   {
    "duration": 5,
    "start_time": "2022-05-22T22:53:46.945Z"
   },
   {
    "duration": 2303,
    "start_time": "2022-05-22T22:53:46.952Z"
   },
   {
    "duration": 2120,
    "start_time": "2022-05-22T22:53:49.256Z"
   },
   {
    "duration": 88,
    "start_time": "2022-05-22T22:53:51.378Z"
   },
   {
    "duration": 5,
    "start_time": "2022-05-22T22:53:51.468Z"
   },
   {
    "duration": 7,
    "start_time": "2022-05-22T22:53:51.475Z"
   },
   {
    "duration": 302583,
    "start_time": "2022-05-22T22:53:51.483Z"
   },
   {
    "duration": 4,
    "start_time": "2022-05-22T22:58:54.072Z"
   },
   {
    "duration": 10805,
    "start_time": "2022-05-22T22:58:54.166Z"
   },
   {
    "duration": 161299,
    "start_time": "2022-05-22T22:59:04.974Z"
   },
   {
    "duration": 3,
    "start_time": "2022-05-22T23:01:46.275Z"
   },
   {
    "duration": 4420,
    "start_time": "2022-05-22T23:01:46.280Z"
   },
   {
    "duration": 6409,
    "start_time": "2022-05-22T23:01:50.701Z"
   },
   {
    "duration": 3,
    "start_time": "2022-05-22T23:01:57.113Z"
   },
   {
    "duration": 239,
    "start_time": "2022-05-22T23:01:57.118Z"
   },
   {
    "duration": 5,
    "start_time": "2022-05-22T23:01:57.365Z"
   },
   {
    "duration": 12,
    "start_time": "2022-05-22T23:01:57.372Z"
   },
   {
    "duration": 15,
    "start_time": "2022-05-22T23:01:57.386Z"
   },
   {
    "duration": 173,
    "start_time": "2022-05-22T23:01:57.403Z"
   },
   {
    "duration": 4,
    "start_time": "2022-05-22T23:01:57.578Z"
   },
   {
    "duration": 172,
    "start_time": "2022-05-22T23:01:57.584Z"
   },
   {
    "duration": 425,
    "start_time": "2022-05-22T23:01:57.758Z"
   },
   {
    "duration": 127,
    "start_time": "2022-05-22T23:01:58.185Z"
   },
   {
    "duration": 165,
    "start_time": "2022-05-22T23:01:58.314Z"
   },
   {
    "duration": 4,
    "start_time": "2022-05-22T23:01:58.481Z"
   },
   {
    "duration": 36,
    "start_time": "2022-05-22T23:01:58.487Z"
   },
   {
    "duration": 568,
    "start_time": "2022-05-22T23:01:58.525Z"
   },
   {
    "duration": 137,
    "start_time": "2022-05-22T23:01:59.095Z"
   },
   {
    "duration": 178,
    "start_time": "2022-05-22T23:01:59.234Z"
   },
   {
    "duration": 3,
    "start_time": "2022-05-22T23:01:59.414Z"
   },
   {
    "duration": 60,
    "start_time": "2022-05-22T23:01:59.419Z"
   },
   {
    "duration": 400,
    "start_time": "2022-05-22T23:01:59.481Z"
   },
   {
    "duration": 12,
    "start_time": "2022-05-22T23:01:59.883Z"
   },
   {
    "duration": 0,
    "start_time": "2022-05-22T23:01:59.897Z"
   },
   {
    "duration": 0,
    "start_time": "2022-05-22T23:01:59.899Z"
   },
   {
    "duration": 39,
    "start_time": "2022-05-22T23:04:48.172Z"
   },
   {
    "duration": 4,
    "start_time": "2022-05-22T23:05:17.948Z"
   },
   {
    "duration": 187,
    "start_time": "2022-05-22T23:05:18.861Z"
   },
   {
    "duration": 3,
    "start_time": "2022-05-22T23:05:19.597Z"
   },
   {
    "duration": 4,
    "start_time": "2022-05-22T23:05:20.330Z"
   },
   {
    "duration": 435,
    "start_time": "2022-05-22T23:05:21.946Z"
   },
   {
    "duration": 125,
    "start_time": "2022-05-22T23:05:29.940Z"
   },
   {
    "duration": 156,
    "start_time": "2022-05-22T23:05:35.340Z"
   },
   {
    "duration": 3,
    "start_time": "2022-05-22T23:05:38.166Z"
   },
   {
    "duration": 4,
    "start_time": "2022-05-22T23:05:49.854Z"
   },
   {
    "duration": 518,
    "start_time": "2022-05-22T23:05:52.158Z"
   },
   {
    "duration": 123,
    "start_time": "2022-05-22T23:06:07.958Z"
   },
   {
    "duration": 164,
    "start_time": "2022-05-22T23:06:09.410Z"
   },
   {
    "duration": 3,
    "start_time": "2022-05-22T23:06:10.349Z"
   },
   {
    "duration": 4,
    "start_time": "2022-05-22T23:06:11.133Z"
   },
   {
    "duration": 366,
    "start_time": "2022-05-22T23:06:12.298Z"
   },
   {
    "duration": 4,
    "start_time": "2022-05-22T23:06:20.852Z"
   },
   {
    "duration": 3,
    "start_time": "2022-05-22T23:06:21.737Z"
   },
   {
    "duration": 10,
    "start_time": "2022-05-22T23:06:22.758Z"
   },
   {
    "duration": 6,
    "start_time": "2022-05-22T23:07:01.772Z"
   },
   {
    "duration": 161,
    "start_time": "2022-05-22T23:07:02.438Z"
   },
   {
    "duration": 4,
    "start_time": "2022-05-22T23:07:03.010Z"
   },
   {
    "duration": 6,
    "start_time": "2022-05-22T23:07:03.602Z"
   },
   {
    "duration": 419,
    "start_time": "2022-05-22T23:07:04.372Z"
   },
   {
    "duration": 116,
    "start_time": "2022-05-22T23:07:21.535Z"
   },
   {
    "duration": 152,
    "start_time": "2022-05-22T23:07:22.130Z"
   },
   {
    "duration": 2,
    "start_time": "2022-05-22T23:07:22.652Z"
   },
   {
    "duration": 5,
    "start_time": "2022-05-22T23:07:23.197Z"
   },
   {
    "duration": 528,
    "start_time": "2022-05-22T23:07:23.744Z"
   },
   {
    "duration": 120,
    "start_time": "2022-05-22T23:07:31.695Z"
   },
   {
    "duration": 153,
    "start_time": "2022-05-22T23:07:32.319Z"
   },
   {
    "duration": 3,
    "start_time": "2022-05-22T23:07:32.870Z"
   },
   {
    "duration": 4,
    "start_time": "2022-05-22T23:07:33.450Z"
   },
   {
    "duration": 379,
    "start_time": "2022-05-22T23:07:34.090Z"
   },
   {
    "duration": 10,
    "start_time": "2022-05-22T23:08:47.586Z"
   },
   {
    "duration": 17,
    "start_time": "2022-05-22T23:12:56.785Z"
   },
   {
    "duration": 14,
    "start_time": "2022-05-22T23:13:10.842Z"
   },
   {
    "duration": 4,
    "start_time": "2022-05-22T23:13:15.484Z"
   },
   {
    "duration": 3,
    "start_time": "2022-05-22T23:13:16.768Z"
   },
   {
    "duration": 13,
    "start_time": "2022-05-22T23:13:17.471Z"
   },
   {
    "duration": 2021,
    "start_time": "2022-05-23T16:19:48.629Z"
   },
   {
    "duration": 3419,
    "start_time": "2022-05-23T16:19:50.652Z"
   },
   {
    "duration": 29,
    "start_time": "2022-05-23T16:19:54.072Z"
   },
   {
    "duration": 5,
    "start_time": "2022-05-23T16:19:54.103Z"
   },
   {
    "duration": 12,
    "start_time": "2022-05-23T16:19:54.111Z"
   },
   {
    "duration": 217,
    "start_time": "2022-05-23T16:19:54.124Z"
   },
   {
    "duration": 192,
    "start_time": "2022-05-23T16:19:54.343Z"
   },
   {
    "duration": 8,
    "start_time": "2022-05-23T16:19:54.536Z"
   },
   {
    "duration": 14,
    "start_time": "2022-05-23T16:19:54.546Z"
   },
   {
    "duration": 3,
    "start_time": "2022-05-23T16:19:54.563Z"
   },
   {
    "duration": 364,
    "start_time": "2022-05-23T16:19:54.567Z"
   },
   {
    "duration": 10,
    "start_time": "2022-05-23T16:19:54.933Z"
   },
   {
    "duration": 264,
    "start_time": "2022-05-23T16:19:54.944Z"
   },
   {
    "duration": 2,
    "start_time": "2022-05-23T16:19:55.210Z"
   },
   {
    "duration": 8,
    "start_time": "2022-05-23T16:19:55.214Z"
   },
   {
    "duration": 13358,
    "start_time": "2022-05-23T16:19:55.224Z"
   },
   {
    "duration": 4,
    "start_time": "2022-05-23T16:20:08.584Z"
   },
   {
    "duration": 11,
    "start_time": "2022-05-23T16:20:08.590Z"
   },
   {
    "duration": 6,
    "start_time": "2022-05-23T16:20:08.602Z"
   },
   {
    "duration": 317,
    "start_time": "2022-05-23T16:20:08.609Z"
   },
   {
    "duration": 4,
    "start_time": "2022-05-23T16:20:08.928Z"
   },
   {
    "duration": 2042,
    "start_time": "2022-05-23T16:20:08.934Z"
   },
   {
    "duration": 1865,
    "start_time": "2022-05-23T16:20:10.978Z"
   },
   {
    "duration": 60,
    "start_time": "2022-05-23T16:20:12.844Z"
   },
   {
    "duration": 9,
    "start_time": "2022-05-23T16:20:12.906Z"
   },
   {
    "duration": 8,
    "start_time": "2022-05-23T16:20:12.916Z"
   },
   {
    "duration": 128418,
    "start_time": "2022-05-23T16:20:12.925Z"
   },
   {
    "duration": 3,
    "start_time": "2022-05-23T16:22:21.349Z"
   },
   {
    "duration": 3503,
    "start_time": "2022-05-23T16:22:21.442Z"
   },
   {
    "duration": 148266,
    "start_time": "2022-05-23T16:22:24.947Z"
   },
   {
    "duration": 2,
    "start_time": "2022-05-23T16:24:53.215Z"
   },
   {
    "duration": 5261,
    "start_time": "2022-05-23T16:24:53.220Z"
   },
   {
    "duration": 168,
    "start_time": "2022-05-23T16:24:58.482Z"
   },
   {
    "duration": 10,
    "start_time": "2022-05-23T16:24:58.652Z"
   },
   {
    "duration": 0,
    "start_time": "2022-05-23T16:24:58.664Z"
   },
   {
    "duration": 0,
    "start_time": "2022-05-23T16:24:58.665Z"
   },
   {
    "duration": 0,
    "start_time": "2022-05-23T16:24:58.665Z"
   },
   {
    "duration": 0,
    "start_time": "2022-05-23T16:24:58.666Z"
   },
   {
    "duration": 0,
    "start_time": "2022-05-23T16:24:58.667Z"
   },
   {
    "duration": 0,
    "start_time": "2022-05-23T16:24:58.668Z"
   },
   {
    "duration": 0,
    "start_time": "2022-05-23T16:24:58.670Z"
   },
   {
    "duration": 0,
    "start_time": "2022-05-23T16:24:58.671Z"
   },
   {
    "duration": 0,
    "start_time": "2022-05-23T16:24:58.672Z"
   },
   {
    "duration": 0,
    "start_time": "2022-05-23T16:24:58.673Z"
   },
   {
    "duration": 0,
    "start_time": "2022-05-23T16:24:58.674Z"
   },
   {
    "duration": 0,
    "start_time": "2022-05-23T16:24:58.675Z"
   },
   {
    "duration": 0,
    "start_time": "2022-05-23T16:24:58.677Z"
   },
   {
    "duration": 0,
    "start_time": "2022-05-23T16:24:58.678Z"
   },
   {
    "duration": 0,
    "start_time": "2022-05-23T16:24:58.679Z"
   },
   {
    "duration": 0,
    "start_time": "2022-05-23T16:24:58.681Z"
   },
   {
    "duration": 0,
    "start_time": "2022-05-23T16:24:58.682Z"
   },
   {
    "duration": 0,
    "start_time": "2022-05-23T16:24:58.683Z"
   },
   {
    "duration": 0,
    "start_time": "2022-05-23T16:24:58.684Z"
   },
   {
    "duration": 0,
    "start_time": "2022-05-23T16:24:58.685Z"
   },
   {
    "duration": 0,
    "start_time": "2022-05-23T16:24:58.686Z"
   },
   {
    "duration": 0,
    "start_time": "2022-05-23T16:24:58.687Z"
   },
   {
    "duration": 0,
    "start_time": "2022-05-23T16:24:58.688Z"
   },
   {
    "duration": 0,
    "start_time": "2022-05-23T16:24:58.689Z"
   },
   {
    "duration": 0,
    "start_time": "2022-05-23T16:24:58.690Z"
   },
   {
    "duration": 5915,
    "start_time": "2022-05-23T16:28:49.141Z"
   },
   {
    "duration": 3,
    "start_time": "2022-05-23T16:28:55.058Z"
   },
   {
    "duration": 194,
    "start_time": "2022-05-23T16:28:55.062Z"
   },
   {
    "duration": 397404,
    "start_time": "2022-05-23T16:28:56.812Z"
   },
   {
    "duration": 0,
    "start_time": "2022-05-23T16:35:34.219Z"
   },
   {
    "duration": 0,
    "start_time": "2022-05-23T16:35:34.220Z"
   },
   {
    "duration": 0,
    "start_time": "2022-05-23T16:35:34.221Z"
   },
   {
    "duration": 0,
    "start_time": "2022-05-23T16:35:34.223Z"
   },
   {
    "duration": 0,
    "start_time": "2022-05-23T16:35:34.225Z"
   },
   {
    "duration": 0,
    "start_time": "2022-05-23T16:35:34.226Z"
   },
   {
    "duration": 0,
    "start_time": "2022-05-23T16:35:34.228Z"
   },
   {
    "duration": 0,
    "start_time": "2022-05-23T16:35:34.229Z"
   },
   {
    "duration": 0,
    "start_time": "2022-05-23T16:35:34.231Z"
   },
   {
    "duration": 0,
    "start_time": "2022-05-23T16:35:34.233Z"
   },
   {
    "duration": 0,
    "start_time": "2022-05-23T16:35:34.234Z"
   },
   {
    "duration": 0,
    "start_time": "2022-05-23T16:35:34.235Z"
   },
   {
    "duration": 0,
    "start_time": "2022-05-23T16:35:34.237Z"
   },
   {
    "duration": 0,
    "start_time": "2022-05-23T16:35:34.239Z"
   },
   {
    "duration": 0,
    "start_time": "2022-05-23T16:35:34.240Z"
   },
   {
    "duration": 0,
    "start_time": "2022-05-23T16:35:34.242Z"
   },
   {
    "duration": 0,
    "start_time": "2022-05-23T16:35:34.243Z"
   },
   {
    "duration": 0,
    "start_time": "2022-05-23T16:35:34.245Z"
   },
   {
    "duration": 0,
    "start_time": "2022-05-23T16:35:34.246Z"
   },
   {
    "duration": 0,
    "start_time": "2022-05-23T16:35:34.248Z"
   },
   {
    "duration": 0,
    "start_time": "2022-05-23T16:35:34.249Z"
   },
   {
    "duration": 0,
    "start_time": "2022-05-23T16:35:34.251Z"
   },
   {
    "duration": 0,
    "start_time": "2022-05-23T16:35:34.252Z"
   },
   {
    "duration": 143965,
    "start_time": "2022-05-23T16:35:49.166Z"
   },
   {
    "duration": 1620,
    "start_time": "2022-05-23T16:38:36.315Z"
   },
   {
    "duration": 815,
    "start_time": "2022-05-23T16:38:37.937Z"
   },
   {
    "duration": 29,
    "start_time": "2022-05-23T16:38:38.753Z"
   },
   {
    "duration": 4,
    "start_time": "2022-05-23T16:38:38.785Z"
   },
   {
    "duration": 15,
    "start_time": "2022-05-23T16:38:38.791Z"
   },
   {
    "duration": 252,
    "start_time": "2022-05-23T16:38:38.808Z"
   },
   {
    "duration": 220,
    "start_time": "2022-05-23T16:38:39.062Z"
   },
   {
    "duration": 8,
    "start_time": "2022-05-23T16:38:39.284Z"
   },
   {
    "duration": 16,
    "start_time": "2022-05-23T16:38:39.293Z"
   },
   {
    "duration": 3,
    "start_time": "2022-05-23T16:38:39.311Z"
   },
   {
    "duration": 412,
    "start_time": "2022-05-23T16:38:39.316Z"
   },
   {
    "duration": 12,
    "start_time": "2022-05-23T16:38:39.730Z"
   },
   {
    "duration": 225,
    "start_time": "2022-05-23T16:38:39.744Z"
   },
   {
    "duration": 2,
    "start_time": "2022-05-23T16:38:39.971Z"
   },
   {
    "duration": 11,
    "start_time": "2022-05-23T16:38:39.975Z"
   },
   {
    "duration": 14086,
    "start_time": "2022-05-23T16:38:39.987Z"
   },
   {
    "duration": 5,
    "start_time": "2022-05-23T16:38:54.075Z"
   },
   {
    "duration": 11,
    "start_time": "2022-05-23T16:38:54.082Z"
   },
   {
    "duration": 3,
    "start_time": "2022-05-23T16:38:54.095Z"
   },
   {
    "duration": 351,
    "start_time": "2022-05-23T16:38:54.100Z"
   },
   {
    "duration": 12,
    "start_time": "2022-05-23T16:38:54.453Z"
   },
   {
    "duration": 2259,
    "start_time": "2022-05-23T16:38:54.467Z"
   },
   {
    "duration": 2165,
    "start_time": "2022-05-23T16:38:56.729Z"
   },
   {
    "duration": 66,
    "start_time": "2022-05-23T16:38:58.895Z"
   },
   {
    "duration": 5,
    "start_time": "2022-05-23T16:38:58.963Z"
   },
   {
    "duration": 5,
    "start_time": "2022-05-23T16:38:58.970Z"
   },
   {
    "duration": 149372,
    "start_time": "2022-05-23T16:38:58.977Z"
   },
   {
    "duration": 8,
    "start_time": "2022-05-23T16:41:28.359Z"
   },
   {
    "duration": 2572,
    "start_time": "2022-05-23T16:41:28.372Z"
   },
   {
    "duration": 161195,
    "start_time": "2022-05-23T16:41:30.947Z"
   },
   {
    "duration": 3,
    "start_time": "2022-05-23T16:44:12.144Z"
   },
   {
    "duration": 4620,
    "start_time": "2022-05-23T16:44:12.149Z"
   },
   {
    "duration": 6556,
    "start_time": "2022-05-23T16:44:16.771Z"
   },
   {
    "duration": 4,
    "start_time": "2022-05-23T16:44:23.329Z"
   },
   {
    "duration": 144,
    "start_time": "2022-05-23T16:44:23.341Z"
   },
   {
    "duration": 642948,
    "start_time": "2022-05-23T16:44:23.487Z"
   },
   {
    "duration": 2,
    "start_time": "2022-05-23T16:55:06.437Z"
   },
   {
    "duration": 194,
    "start_time": "2022-05-23T16:55:06.441Z"
   },
   {
    "duration": 5,
    "start_time": "2022-05-23T16:55:06.637Z"
   },
   {
    "duration": 10,
    "start_time": "2022-05-23T16:55:06.644Z"
   },
   {
    "duration": 12,
    "start_time": "2022-05-23T16:55:06.656Z"
   },
   {
    "duration": 223,
    "start_time": "2022-05-23T16:55:06.670Z"
   },
   {
    "duration": 4,
    "start_time": "2022-05-23T16:55:06.895Z"
   },
   {
    "duration": 20,
    "start_time": "2022-05-23T16:55:06.901Z"
   },
   {
    "duration": 502,
    "start_time": "2022-05-23T16:55:06.923Z"
   },
   {
    "duration": 129,
    "start_time": "2022-05-23T16:55:07.427Z"
   },
   {
    "duration": 169,
    "start_time": "2022-05-23T16:55:07.558Z"
   },
   {
    "duration": 3,
    "start_time": "2022-05-23T16:55:07.729Z"
   },
   {
    "duration": 11,
    "start_time": "2022-05-23T16:55:07.734Z"
   },
   {
    "duration": 524,
    "start_time": "2022-05-23T16:55:07.747Z"
   },
   {
    "duration": 8,
    "start_time": "2022-05-23T16:55:08.273Z"
   },
   {
    "duration": 13,
    "start_time": "2022-05-23T16:55:08.282Z"
   },
   {
    "duration": 0,
    "start_time": "2022-05-23T16:55:08.296Z"
   },
   {
    "duration": 0,
    "start_time": "2022-05-23T16:55:08.297Z"
   },
   {
    "duration": 0,
    "start_time": "2022-05-23T16:55:08.298Z"
   },
   {
    "duration": 0,
    "start_time": "2022-05-23T16:55:08.299Z"
   },
   {
    "duration": 0,
    "start_time": "2022-05-23T16:55:08.300Z"
   },
   {
    "duration": 0,
    "start_time": "2022-05-23T16:55:08.301Z"
   },
   {
    "duration": 0,
    "start_time": "2022-05-23T16:55:08.302Z"
   },
   {
    "duration": 602920,
    "start_time": "2022-05-23T16:55:55.710Z"
   },
   {
    "duration": 13,
    "start_time": "2022-05-23T17:09:37.116Z"
   },
   {
    "duration": 45,
    "start_time": "2022-05-23T17:09:43.341Z"
   },
   {
    "duration": 291,
    "start_time": "2022-05-23T17:09:54.953Z"
   },
   {
    "duration": 3,
    "start_time": "2022-05-23T17:09:57.660Z"
   },
   {
    "duration": 14,
    "start_time": "2022-05-23T17:09:58.460Z"
   },
   {
    "duration": 8,
    "start_time": "2022-05-23T17:10:04.207Z"
   },
   {
    "duration": 106,
    "start_time": "2022-05-23T17:10:05.414Z"
   },
   {
    "duration": 3,
    "start_time": "2022-05-23T17:10:06.257Z"
   },
   {
    "duration": 6,
    "start_time": "2022-05-23T17:10:07.066Z"
   },
   {
    "duration": 443,
    "start_time": "2022-05-23T17:10:08.151Z"
   },
   {
    "duration": 4,
    "start_time": "2022-05-23T17:10:19.499Z"
   },
   {
    "duration": 4,
    "start_time": "2022-05-23T17:10:20.255Z"
   },
   {
    "duration": 12,
    "start_time": "2022-05-23T17:10:20.954Z"
   },
   {
    "duration": 5,
    "start_time": "2022-05-23T17:16:06.615Z"
   },
   {
    "duration": 154,
    "start_time": "2022-05-23T17:21:49.351Z"
   },
   {
    "duration": 41,
    "start_time": "2022-05-23T17:22:08.918Z"
   },
   {
    "duration": 52,
    "start_time": "2022-05-23T17:22:34.562Z"
   },
   {
    "duration": 66,
    "start_time": "2022-05-23T17:23:58.094Z"
   },
   {
    "duration": 193194,
    "start_time": "2022-05-23T17:24:39.963Z"
   },
   {
    "duration": 2,
    "start_time": "2022-05-23T17:27:53.159Z"
   },
   {
    "duration": 67,
    "start_time": "2022-05-23T17:27:53.163Z"
   },
   {
    "duration": 169454,
    "start_time": "2022-05-23T17:27:56.801Z"
   },
   {
    "duration": 190230,
    "start_time": "2022-05-23T17:30:49.690Z"
   },
   {
    "duration": 2,
    "start_time": "2022-05-23T17:37:46.284Z"
   },
   {
    "duration": 10,
    "start_time": "2022-05-23T17:37:47.085Z"
   },
   {
    "duration": 4140,
    "start_time": "2022-05-23T17:38:07.885Z"
   },
   {
    "duration": 73,
    "start_time": "2022-05-23T17:38:12.027Z"
   },
   {
    "duration": 3,
    "start_time": "2022-05-23T17:38:12.102Z"
   },
   {
    "duration": 8,
    "start_time": "2022-05-23T17:38:12.107Z"
   },
   {
    "duration": 4413,
    "start_time": "2022-05-23T17:38:12.116Z"
   },
   {
    "duration": 5,
    "start_time": "2022-05-23T17:38:48.048Z"
   },
   {
    "duration": 120283,
    "start_time": "2022-05-23T17:38:56.861Z"
   },
   {
    "duration": 4,
    "start_time": "2022-05-23T17:40:57.146Z"
   },
   {
    "duration": 156,
    "start_time": "2022-05-23T17:40:57.152Z"
   },
   {
    "duration": 11,
    "start_time": "2022-05-23T17:40:57.310Z"
   },
   {
    "duration": 0,
    "start_time": "2022-05-23T17:40:57.323Z"
   },
   {
    "duration": 0,
    "start_time": "2022-05-23T17:40:57.324Z"
   },
   {
    "duration": 0,
    "start_time": "2022-05-23T17:40:57.325Z"
   },
   {
    "duration": 4,
    "start_time": "2022-05-23T17:42:07.363Z"
   },
   {
    "duration": 2925,
    "start_time": "2022-05-23T17:42:44.711Z"
   },
   {
    "duration": 6,
    "start_time": "2022-05-23T17:42:58.711Z"
   },
   {
    "duration": 73,
    "start_time": "2022-05-23T17:42:59.453Z"
   },
   {
    "duration": 3,
    "start_time": "2022-05-23T17:42:59.977Z"
   },
   {
    "duration": 4,
    "start_time": "2022-05-23T17:43:00.472Z"
   },
   {
    "duration": 378,
    "start_time": "2022-05-23T17:43:01.155Z"
   },
   {
    "duration": 581183,
    "start_time": "2022-05-23T17:44:41.547Z"
   },
   {
    "duration": 3,
    "start_time": "2022-05-23T17:54:22.732Z"
   },
   {
    "duration": 48495,
    "start_time": "2022-05-23T17:54:22.741Z"
   },
   {
    "duration": 13,
    "start_time": "2022-05-23T17:55:11.240Z"
   },
   {
    "duration": 0,
    "start_time": "2022-05-23T17:55:11.255Z"
   },
   {
    "duration": 0,
    "start_time": "2022-05-23T17:55:11.256Z"
   },
   {
    "duration": 0,
    "start_time": "2022-05-23T17:55:11.257Z"
   },
   {
    "duration": 0,
    "start_time": "2022-05-23T17:55:11.259Z"
   },
   {
    "duration": 1554,
    "start_time": "2022-05-23T18:10:18.699Z"
   },
   {
    "duration": 825,
    "start_time": "2022-05-23T18:10:20.255Z"
   },
   {
    "duration": 36,
    "start_time": "2022-05-23T18:10:21.083Z"
   },
   {
    "duration": 3,
    "start_time": "2022-05-23T18:10:21.122Z"
   },
   {
    "duration": 27,
    "start_time": "2022-05-23T18:10:21.126Z"
   },
   {
    "duration": 242,
    "start_time": "2022-05-23T18:10:21.156Z"
   },
   {
    "duration": 203,
    "start_time": "2022-05-23T18:10:21.399Z"
   },
   {
    "duration": 8,
    "start_time": "2022-05-23T18:10:21.604Z"
   },
   {
    "duration": 14,
    "start_time": "2022-05-23T18:10:21.613Z"
   },
   {
    "duration": 3,
    "start_time": "2022-05-23T18:10:21.643Z"
   },
   {
    "duration": 378,
    "start_time": "2022-05-23T18:10:21.648Z"
   },
   {
    "duration": 14,
    "start_time": "2022-05-23T18:10:22.028Z"
   },
   {
    "duration": 209,
    "start_time": "2022-05-23T18:10:22.044Z"
   },
   {
    "duration": 3,
    "start_time": "2022-05-23T18:10:22.256Z"
   },
   {
    "duration": 13,
    "start_time": "2022-05-23T18:10:22.261Z"
   },
   {
    "duration": 13774,
    "start_time": "2022-05-23T18:10:22.277Z"
   },
   {
    "duration": 4,
    "start_time": "2022-05-23T18:10:36.053Z"
   },
   {
    "duration": 9,
    "start_time": "2022-05-23T18:10:36.058Z"
   },
   {
    "duration": 3,
    "start_time": "2022-05-23T18:10:36.068Z"
   },
   {
    "duration": 347,
    "start_time": "2022-05-23T18:10:36.073Z"
   },
   {
    "duration": 4,
    "start_time": "2022-05-23T18:10:36.422Z"
   },
   {
    "duration": 2183,
    "start_time": "2022-05-23T18:10:36.428Z"
   },
   {
    "duration": 2015,
    "start_time": "2022-05-23T18:10:38.612Z"
   },
   {
    "duration": 68,
    "start_time": "2022-05-23T18:10:40.629Z"
   },
   {
    "duration": 5,
    "start_time": "2022-05-23T18:10:40.699Z"
   },
   {
    "duration": 5,
    "start_time": "2022-05-23T18:10:40.705Z"
   },
   {
    "duration": 137432,
    "start_time": "2022-05-23T18:10:40.711Z"
   },
   {
    "duration": 3,
    "start_time": "2022-05-23T18:12:58.241Z"
   },
   {
    "duration": 4400,
    "start_time": "2022-05-23T18:12:58.246Z"
   },
   {
    "duration": 152763,
    "start_time": "2022-05-23T18:13:02.648Z"
   },
   {
    "duration": 3,
    "start_time": "2022-05-23T18:15:35.413Z"
   },
   {
    "duration": 4613,
    "start_time": "2022-05-23T18:15:35.418Z"
   },
   {
    "duration": 121221,
    "start_time": "2022-05-23T18:15:40.033Z"
   },
   {
    "duration": 2,
    "start_time": "2022-05-23T18:17:41.256Z"
   },
   {
    "duration": 3974,
    "start_time": "2022-05-23T18:17:41.259Z"
   },
   {
    "duration": 6557,
    "start_time": "2022-05-23T18:17:45.235Z"
   },
   {
    "duration": 3,
    "start_time": "2022-05-23T18:17:51.794Z"
   },
   {
    "duration": 204,
    "start_time": "2022-05-23T18:17:51.799Z"
   },
   {
    "duration": 259,
    "start_time": "2022-05-23T18:17:52.005Z"
   },
   {
    "duration": 130,
    "start_time": "2022-05-23T18:17:52.266Z"
   },
   {
    "duration": 0,
    "start_time": "2022-05-23T18:17:52.398Z"
   },
   {
    "duration": 0,
    "start_time": "2022-05-23T18:17:52.399Z"
   },
   {
    "duration": 0,
    "start_time": "2022-05-23T18:17:52.400Z"
   },
   {
    "duration": 0,
    "start_time": "2022-05-23T18:17:52.401Z"
   },
   {
    "duration": 0,
    "start_time": "2022-05-23T18:17:52.402Z"
   },
   {
    "duration": 0,
    "start_time": "2022-05-23T18:17:52.403Z"
   },
   {
    "duration": 0,
    "start_time": "2022-05-23T18:17:52.404Z"
   },
   {
    "duration": 0,
    "start_time": "2022-05-23T18:17:52.405Z"
   },
   {
    "duration": 0,
    "start_time": "2022-05-23T18:17:52.406Z"
   },
   {
    "duration": 0,
    "start_time": "2022-05-23T18:17:52.407Z"
   },
   {
    "duration": 0,
    "start_time": "2022-05-23T18:17:52.408Z"
   },
   {
    "duration": 0,
    "start_time": "2022-05-23T18:17:52.409Z"
   },
   {
    "duration": 0,
    "start_time": "2022-05-23T18:17:52.410Z"
   },
   {
    "duration": 0,
    "start_time": "2022-05-23T18:17:52.412Z"
   },
   {
    "duration": 0,
    "start_time": "2022-05-23T18:17:52.413Z"
   },
   {
    "duration": 0,
    "start_time": "2022-05-23T18:17:52.414Z"
   },
   {
    "duration": 0,
    "start_time": "2022-05-23T18:17:52.441Z"
   },
   {
    "duration": 0,
    "start_time": "2022-05-23T18:17:52.442Z"
   },
   {
    "duration": 0,
    "start_time": "2022-05-23T18:17:52.444Z"
   },
   {
    "duration": 0,
    "start_time": "2022-05-23T18:17:52.444Z"
   },
   {
    "duration": 0,
    "start_time": "2022-05-23T18:17:52.446Z"
   },
   {
    "duration": 0,
    "start_time": "2022-05-23T18:17:52.447Z"
   },
   {
    "duration": 0,
    "start_time": "2022-05-23T18:17:52.449Z"
   },
   {
    "duration": 0,
    "start_time": "2022-05-23T18:17:52.450Z"
   },
   {
    "duration": 0,
    "start_time": "2022-05-23T18:17:52.451Z"
   },
   {
    "duration": 0,
    "start_time": "2022-05-23T18:17:52.452Z"
   },
   {
    "duration": 0,
    "start_time": "2022-05-23T18:17:52.453Z"
   },
   {
    "duration": 0,
    "start_time": "2022-05-23T18:17:52.454Z"
   },
   {
    "duration": 0,
    "start_time": "2022-05-23T18:17:52.454Z"
   },
   {
    "duration": 0,
    "start_time": "2022-05-23T18:17:52.455Z"
   },
   {
    "duration": 0,
    "start_time": "2022-05-23T18:17:52.459Z"
   },
   {
    "duration": 0,
    "start_time": "2022-05-23T18:17:52.460Z"
   },
   {
    "duration": 0,
    "start_time": "2022-05-23T18:17:52.460Z"
   },
   {
    "duration": 0,
    "start_time": "2022-05-23T18:17:52.462Z"
   },
   {
    "duration": 0,
    "start_time": "2022-05-23T18:17:52.463Z"
   },
   {
    "duration": 0,
    "start_time": "2022-05-23T18:17:52.464Z"
   },
   {
    "duration": 0,
    "start_time": "2022-05-23T18:17:52.465Z"
   },
   {
    "duration": 0,
    "start_time": "2022-05-23T18:17:52.466Z"
   },
   {
    "duration": 0,
    "start_time": "2022-05-23T18:17:52.467Z"
   },
   {
    "duration": 0,
    "start_time": "2022-05-23T18:17:52.468Z"
   },
   {
    "duration": 0,
    "start_time": "2022-05-23T18:17:52.469Z"
   },
   {
    "duration": 0,
    "start_time": "2022-05-23T18:17:52.470Z"
   },
   {
    "duration": 0,
    "start_time": "2022-05-23T18:17:52.471Z"
   },
   {
    "duration": 3,
    "start_time": "2022-05-23T18:20:01.082Z"
   },
   {
    "duration": 16,
    "start_time": "2022-05-23T18:20:01.973Z"
   },
   {
    "duration": 1560,
    "start_time": "2022-05-23T18:22:00.156Z"
   },
   {
    "duration": 834,
    "start_time": "2022-05-23T18:22:01.719Z"
   },
   {
    "duration": 37,
    "start_time": "2022-05-23T18:22:02.554Z"
   },
   {
    "duration": 3,
    "start_time": "2022-05-23T18:22:02.593Z"
   },
   {
    "duration": 16,
    "start_time": "2022-05-23T18:22:02.599Z"
   },
   {
    "duration": 249,
    "start_time": "2022-05-23T18:22:02.617Z"
   },
   {
    "duration": 210,
    "start_time": "2022-05-23T18:22:02.868Z"
   },
   {
    "duration": 7,
    "start_time": "2022-05-23T18:22:03.079Z"
   },
   {
    "duration": 25,
    "start_time": "2022-05-23T18:22:03.088Z"
   },
   {
    "duration": 4,
    "start_time": "2022-05-23T18:22:03.114Z"
   },
   {
    "duration": 386,
    "start_time": "2022-05-23T18:22:03.120Z"
   },
   {
    "duration": 7,
    "start_time": "2022-05-23T18:22:03.508Z"
   },
   {
    "duration": 235,
    "start_time": "2022-05-23T18:22:03.517Z"
   },
   {
    "duration": 3,
    "start_time": "2022-05-23T18:22:03.755Z"
   },
   {
    "duration": 6,
    "start_time": "2022-05-23T18:22:03.760Z"
   },
   {
    "duration": 13812,
    "start_time": "2022-05-23T18:22:03.767Z"
   },
   {
    "duration": 5,
    "start_time": "2022-05-23T18:22:17.581Z"
   },
   {
    "duration": 12,
    "start_time": "2022-05-23T18:22:17.587Z"
   },
   {
    "duration": 12,
    "start_time": "2022-05-23T18:22:17.601Z"
   },
   {
    "duration": 352,
    "start_time": "2022-05-23T18:22:17.614Z"
   },
   {
    "duration": 8,
    "start_time": "2022-05-23T18:22:17.968Z"
   },
   {
    "duration": 2168,
    "start_time": "2022-05-23T18:22:17.978Z"
   },
   {
    "duration": 2000,
    "start_time": "2022-05-23T18:22:20.149Z"
   },
   {
    "duration": 67,
    "start_time": "2022-05-23T18:22:22.151Z"
   },
   {
    "duration": 11,
    "start_time": "2022-05-23T18:22:22.220Z"
   },
   {
    "duration": 11,
    "start_time": "2022-05-23T18:22:22.233Z"
   },
   {
    "duration": 1558,
    "start_time": "2022-05-23T18:23:53.912Z"
   },
   {
    "duration": 837,
    "start_time": "2022-05-23T18:23:55.471Z"
   },
   {
    "duration": 40,
    "start_time": "2022-05-23T18:23:56.310Z"
   },
   {
    "duration": 3,
    "start_time": "2022-05-23T18:23:56.353Z"
   },
   {
    "duration": 12,
    "start_time": "2022-05-23T18:23:56.359Z"
   },
   {
    "duration": 265,
    "start_time": "2022-05-23T18:23:56.373Z"
   },
   {
    "duration": 246,
    "start_time": "2022-05-23T18:23:56.641Z"
   },
   {
    "duration": 9,
    "start_time": "2022-05-23T18:23:56.889Z"
   },
   {
    "duration": 26,
    "start_time": "2022-05-23T18:23:56.901Z"
   },
   {
    "duration": 11,
    "start_time": "2022-05-23T18:23:56.931Z"
   },
   {
    "duration": 440,
    "start_time": "2022-05-23T18:23:56.944Z"
   },
   {
    "duration": 9,
    "start_time": "2022-05-23T18:23:57.386Z"
   },
   {
    "duration": 263,
    "start_time": "2022-05-23T18:23:57.397Z"
   },
   {
    "duration": 3,
    "start_time": "2022-05-23T18:23:57.661Z"
   },
   {
    "duration": 7,
    "start_time": "2022-05-23T18:23:57.666Z"
   },
   {
    "duration": 13983,
    "start_time": "2022-05-23T18:23:57.676Z"
   },
   {
    "duration": 6,
    "start_time": "2022-05-23T18:24:11.660Z"
   },
   {
    "duration": 21,
    "start_time": "2022-05-23T18:24:11.668Z"
   },
   {
    "duration": 4,
    "start_time": "2022-05-23T18:24:11.691Z"
   },
   {
    "duration": 345,
    "start_time": "2022-05-23T18:24:11.697Z"
   },
   {
    "duration": 4,
    "start_time": "2022-05-23T18:24:12.044Z"
   },
   {
    "duration": 2205,
    "start_time": "2022-05-23T18:24:12.050Z"
   },
   {
    "duration": 2155,
    "start_time": "2022-05-23T18:24:14.257Z"
   },
   {
    "duration": 67,
    "start_time": "2022-05-23T18:24:16.414Z"
   },
   {
    "duration": 10,
    "start_time": "2022-05-23T18:24:16.483Z"
   },
   {
    "duration": 9,
    "start_time": "2022-05-23T18:24:16.495Z"
   },
   {
    "duration": 141537,
    "start_time": "2022-05-23T18:24:16.506Z"
   },
   {
    "duration": 92,
    "start_time": "2022-05-23T18:26:38.050Z"
   },
   {
    "duration": 6102,
    "start_time": "2022-05-23T18:26:38.144Z"
   },
   {
    "duration": 146829,
    "start_time": "2022-05-23T18:26:44.248Z"
   },
   {
    "duration": 3,
    "start_time": "2022-05-23T18:29:11.079Z"
   },
   {
    "duration": 4146,
    "start_time": "2022-05-23T18:29:11.083Z"
   },
   {
    "duration": 113893,
    "start_time": "2022-05-23T18:29:15.231Z"
   },
   {
    "duration": 3,
    "start_time": "2022-05-23T18:31:09.125Z"
   },
   {
    "duration": 4100,
    "start_time": "2022-05-23T18:31:09.130Z"
   },
   {
    "duration": 6252,
    "start_time": "2022-05-23T18:31:13.232Z"
   },
   {
    "duration": 2,
    "start_time": "2022-05-23T18:31:19.486Z"
   },
   {
    "duration": 163,
    "start_time": "2022-05-23T18:31:19.490Z"
   },
   {
    "duration": 31,
    "start_time": "2022-05-23T18:31:19.655Z"
   },
   {
    "duration": 0,
    "start_time": "2022-05-23T18:31:19.687Z"
   },
   {
    "duration": 0,
    "start_time": "2022-05-23T18:31:19.688Z"
   },
   {
    "duration": 0,
    "start_time": "2022-05-23T18:31:19.689Z"
   },
   {
    "duration": 0,
    "start_time": "2022-05-23T18:31:19.690Z"
   },
   {
    "duration": 0,
    "start_time": "2022-05-23T18:31:19.691Z"
   },
   {
    "duration": 0,
    "start_time": "2022-05-23T18:31:19.692Z"
   },
   {
    "duration": 0,
    "start_time": "2022-05-23T18:31:19.693Z"
   },
   {
    "duration": 0,
    "start_time": "2022-05-23T18:31:19.694Z"
   },
   {
    "duration": 0,
    "start_time": "2022-05-23T18:31:19.694Z"
   },
   {
    "duration": 0,
    "start_time": "2022-05-23T18:31:19.695Z"
   },
   {
    "duration": 0,
    "start_time": "2022-05-23T18:31:19.696Z"
   },
   {
    "duration": 0,
    "start_time": "2022-05-23T18:31:19.697Z"
   },
   {
    "duration": 0,
    "start_time": "2022-05-23T18:31:19.698Z"
   },
   {
    "duration": 0,
    "start_time": "2022-05-23T18:31:19.699Z"
   },
   {
    "duration": 0,
    "start_time": "2022-05-23T18:31:19.700Z"
   },
   {
    "duration": 0,
    "start_time": "2022-05-23T18:31:19.701Z"
   },
   {
    "duration": 0,
    "start_time": "2022-05-23T18:31:19.702Z"
   },
   {
    "duration": 0,
    "start_time": "2022-05-23T18:31:19.703Z"
   },
   {
    "duration": 0,
    "start_time": "2022-05-23T18:31:19.704Z"
   },
   {
    "duration": 0,
    "start_time": "2022-05-23T18:31:19.705Z"
   },
   {
    "duration": 0,
    "start_time": "2022-05-23T18:31:19.706Z"
   },
   {
    "duration": 0,
    "start_time": "2022-05-23T18:31:19.707Z"
   },
   {
    "duration": 0,
    "start_time": "2022-05-23T18:31:19.708Z"
   },
   {
    "duration": 0,
    "start_time": "2022-05-23T18:31:19.709Z"
   },
   {
    "duration": 0,
    "start_time": "2022-05-23T18:31:19.710Z"
   },
   {
    "duration": 0,
    "start_time": "2022-05-23T18:31:19.711Z"
   },
   {
    "duration": 0,
    "start_time": "2022-05-23T18:31:19.712Z"
   },
   {
    "duration": 0,
    "start_time": "2022-05-23T18:31:19.713Z"
   },
   {
    "duration": 0,
    "start_time": "2022-05-23T18:31:19.742Z"
   },
   {
    "duration": 0,
    "start_time": "2022-05-23T18:31:19.743Z"
   },
   {
    "duration": 0,
    "start_time": "2022-05-23T18:31:19.744Z"
   },
   {
    "duration": 0,
    "start_time": "2022-05-23T18:31:19.745Z"
   },
   {
    "duration": 0,
    "start_time": "2022-05-23T18:31:19.746Z"
   },
   {
    "duration": 0,
    "start_time": "2022-05-23T18:31:19.747Z"
   },
   {
    "duration": 0,
    "start_time": "2022-05-23T18:31:19.748Z"
   },
   {
    "duration": 0,
    "start_time": "2022-05-23T18:31:19.749Z"
   },
   {
    "duration": 0,
    "start_time": "2022-05-23T18:31:19.750Z"
   },
   {
    "duration": 0,
    "start_time": "2022-05-23T18:31:19.751Z"
   },
   {
    "duration": 0,
    "start_time": "2022-05-23T18:31:19.752Z"
   },
   {
    "duration": 0,
    "start_time": "2022-05-23T18:31:19.753Z"
   },
   {
    "duration": 0,
    "start_time": "2022-05-23T18:31:19.754Z"
   },
   {
    "duration": 0,
    "start_time": "2022-05-23T18:31:19.755Z"
   },
   {
    "duration": 0,
    "start_time": "2022-05-23T18:31:19.756Z"
   },
   {
    "duration": 0,
    "start_time": "2022-05-23T18:31:19.757Z"
   },
   {
    "duration": 254,
    "start_time": "2022-05-23T18:33:21.510Z"
   },
   {
    "duration": 3,
    "start_time": "2022-05-23T18:33:23.665Z"
   },
   {
    "duration": 13,
    "start_time": "2022-05-23T18:33:24.297Z"
   },
   {
    "duration": 52,
    "start_time": "2022-05-23T18:33:41.349Z"
   },
   {
    "duration": 189821,
    "start_time": "2022-05-23T18:33:50.602Z"
   },
   {
    "duration": 3,
    "start_time": "2022-05-23T18:37:00.425Z"
   },
   {
    "duration": 26,
    "start_time": "2022-05-23T18:37:00.430Z"
   },
   {
    "duration": 735670,
    "start_time": "2022-05-23T18:37:00.458Z"
   },
   {
    "duration": 3,
    "start_time": "2022-05-23T18:49:16.130Z"
   },
   {
    "duration": 295753,
    "start_time": "2022-05-23T18:49:16.141Z"
   },
   {
    "duration": 5,
    "start_time": "2022-05-23T18:54:11.896Z"
   },
   {
    "duration": 9,
    "start_time": "2022-05-23T18:54:11.903Z"
   },
   {
    "duration": 8,
    "start_time": "2022-05-23T18:54:11.914Z"
   },
   {
    "duration": 184,
    "start_time": "2022-05-23T18:54:11.940Z"
   },
   {
    "duration": 3,
    "start_time": "2022-05-23T18:54:12.126Z"
   },
   {
    "duration": 12,
    "start_time": "2022-05-23T18:54:12.130Z"
   },
   {
    "duration": 420,
    "start_time": "2022-05-23T18:54:12.144Z"
   },
   {
    "duration": 117,
    "start_time": "2022-05-23T18:54:12.566Z"
   },
   {
    "duration": 149,
    "start_time": "2022-05-23T18:54:12.685Z"
   },
   {
    "duration": 6,
    "start_time": "2022-05-23T18:54:12.836Z"
   },
   {
    "duration": 7,
    "start_time": "2022-05-23T18:54:12.844Z"
   },
   {
    "duration": 495,
    "start_time": "2022-05-23T18:54:12.852Z"
   },
   {
    "duration": 5,
    "start_time": "2022-05-23T18:54:13.349Z"
   },
   {
    "duration": 93,
    "start_time": "2022-05-23T18:54:13.356Z"
   },
   {
    "duration": 2,
    "start_time": "2022-05-23T18:54:13.451Z"
   },
   {
    "duration": 8,
    "start_time": "2022-05-23T18:54:13.455Z"
   },
   {
    "duration": 390,
    "start_time": "2022-05-23T18:54:13.465Z"
   },
   {
    "duration": 9,
    "start_time": "2022-05-23T18:54:13.858Z"
   },
   {
    "duration": 11289,
    "start_time": "2022-05-23T18:54:13.869Z"
   },
   {
    "duration": 103,
    "start_time": "2022-05-23T18:54:25.161Z"
   },
   {
    "duration": 4,
    "start_time": "2022-05-23T18:54:25.265Z"
   },
   {
    "duration": 9,
    "start_time": "2022-05-23T18:54:25.272Z"
   },
   {
    "duration": 11447,
    "start_time": "2022-05-23T18:54:25.283Z"
   },
   {
    "duration": 5,
    "start_time": "2022-05-23T18:54:36.741Z"
   },
   {
    "duration": 186,
    "start_time": "2022-05-23T18:54:36.748Z"
   },
   {
    "duration": 4,
    "start_time": "2022-05-23T18:54:36.937Z"
   },
   {
    "duration": 5,
    "start_time": "2022-05-23T18:54:36.944Z"
   },
   {
    "duration": 419,
    "start_time": "2022-05-23T18:54:36.952Z"
   },
   {
    "duration": 4031,
    "start_time": "2022-05-23T18:54:37.373Z"
   },
   {
    "duration": 81,
    "start_time": "2022-05-23T18:54:41.406Z"
   },
   {
    "duration": 3,
    "start_time": "2022-05-23T18:54:41.488Z"
   },
   {
    "duration": 16,
    "start_time": "2022-05-23T18:54:41.492Z"
   },
   {
    "duration": 4463,
    "start_time": "2022-05-23T18:54:41.509Z"
   },
   {
    "duration": 3,
    "start_time": "2022-05-23T18:54:45.974Z"
   },
   {
    "duration": 7,
    "start_time": "2022-05-23T18:54:45.979Z"
   },
   {
    "duration": 11,
    "start_time": "2022-05-23T18:54:45.987Z"
   },
   {
    "duration": 147,
    "start_time": "2022-05-23T18:57:16.226Z"
   },
   {
    "duration": 6,
    "start_time": "2022-05-23T18:57:19.965Z"
   },
   {
    "duration": 170,
    "start_time": "2022-05-23T18:57:20.560Z"
   },
   {
    "duration": 3,
    "start_time": "2022-05-23T18:57:21.084Z"
   },
   {
    "duration": 4,
    "start_time": "2022-05-23T18:57:21.659Z"
   },
   {
    "duration": 18,
    "start_time": "2022-05-23T18:57:22.277Z"
   },
   {
    "duration": 8,
    "start_time": "2022-05-23T18:57:26.165Z"
   },
   {
    "duration": 382,
    "start_time": "2022-05-23T18:57:29.277Z"
   },
   {
    "duration": 11,
    "start_time": "2022-05-23T18:58:19.967Z"
   },
   {
    "duration": 425,
    "start_time": "2022-05-23T18:58:22.259Z"
   },
   {
    "duration": 497,
    "start_time": "2022-05-23T18:58:59.857Z"
   },
   {
    "duration": 4532,
    "start_time": "2022-05-23T19:00:19.113Z"
   },
   {
    "duration": 8,
    "start_time": "2022-05-23T19:01:02.812Z"
   },
   {
    "duration": 347,
    "start_time": "2022-05-23T19:01:07.578Z"
   },
   {
    "duration": 462,
    "start_time": "2022-05-23T19:01:12.071Z"
   },
   {
    "duration": 389,
    "start_time": "2022-05-23T19:01:18.523Z"
   },
   {
    "duration": 10809,
    "start_time": "2022-05-23T19:01:24.812Z"
   },
   {
    "duration": 390,
    "start_time": "2022-05-23T19:01:41.911Z"
   },
   {
    "duration": 4924,
    "start_time": "2022-05-23T19:01:46.863Z"
   },
   {
    "duration": 119537,
    "start_time": "2022-05-23T19:02:32.963Z"
   },
   {
    "duration": 3,
    "start_time": "2022-05-23T19:04:32.502Z"
   },
   {
    "duration": 15,
    "start_time": "2022-05-23T19:04:32.507Z"
   },
   {
    "duration": 4,
    "start_time": "2022-05-23T19:04:32.525Z"
   },
   {
    "duration": 6,
    "start_time": "2022-05-23T19:07:04.783Z"
   },
   {
    "duration": 6,
    "start_time": "2022-05-23T19:09:39.022Z"
   },
   {
    "duration": 1508,
    "start_time": "2022-05-23T19:10:00.562Z"
   },
   {
    "duration": 7,
    "start_time": "2022-05-23T19:10:35.094Z"
   },
   {
    "duration": 5,
    "start_time": "2022-05-23T19:10:46.417Z"
   },
   {
    "duration": 5,
    "start_time": "2022-05-23T19:10:50.007Z"
   },
   {
    "duration": 5,
    "start_time": "2022-05-23T19:10:59.962Z"
   },
   {
    "duration": 4,
    "start_time": "2022-05-23T19:11:04.383Z"
   },
   {
    "duration": 625,
    "start_time": "2022-05-23T19:11:27.311Z"
   },
   {
    "duration": 615,
    "start_time": "2022-05-23T19:11:59.719Z"
   },
   {
    "duration": 6,
    "start_time": "2022-05-23T19:12:08.365Z"
   },
   {
    "duration": 389,
    "start_time": "2022-05-23T19:12:21.601Z"
   },
   {
    "duration": 487,
    "start_time": "2022-05-23T19:12:29.063Z"
   },
   {
    "duration": 599,
    "start_time": "2022-05-23T19:13:02.467Z"
   },
   {
    "duration": 584,
    "start_time": "2022-05-23T19:13:14.180Z"
   },
   {
    "duration": 304,
    "start_time": "2022-05-23T19:13:23.881Z"
   },
   {
    "duration": 255,
    "start_time": "2022-05-23T19:14:25.064Z"
   },
   {
    "duration": 341,
    "start_time": "2022-05-23T19:15:02.616Z"
   },
   {
    "duration": 115,
    "start_time": "2022-05-23T19:21:33.987Z"
   },
   {
    "duration": 152,
    "start_time": "2022-05-23T19:21:34.481Z"
   },
   {
    "duration": 3,
    "start_time": "2022-05-23T19:21:34.969Z"
   },
   {
    "duration": 5,
    "start_time": "2022-05-23T19:21:35.562Z"
   },
   {
    "duration": 531,
    "start_time": "2022-05-23T19:21:36.194Z"
   },
   {
    "duration": 4,
    "start_time": "2022-05-23T19:22:34.513Z"
   },
   {
    "duration": 125,
    "start_time": "2022-05-23T19:23:08.096Z"
   },
   {
    "duration": 150,
    "start_time": "2022-05-23T19:23:08.578Z"
   },
   {
    "duration": 3,
    "start_time": "2022-05-23T19:23:09.063Z"
   },
   {
    "duration": 4,
    "start_time": "2022-05-23T19:23:09.566Z"
   },
   {
    "duration": 534,
    "start_time": "2022-05-23T19:23:10.180Z"
   },
   {
    "duration": 9,
    "start_time": "2022-05-23T19:29:56.698Z"
   },
   {
    "duration": 357,
    "start_time": "2022-05-23T19:29:59.287Z"
   },
   {
    "duration": 348,
    "start_time": "2022-05-23T19:30:22.175Z"
   },
   {
    "duration": 671,
    "start_time": "2022-05-23T19:30:30.875Z"
   },
   {
    "duration": 365,
    "start_time": "2022-05-23T19:30:46.281Z"
   },
   {
    "duration": 516,
    "start_time": "2022-05-23T19:30:50.764Z"
   },
   {
    "duration": 438,
    "start_time": "2022-05-23T19:30:53.921Z"
   },
   {
    "duration": 11663,
    "start_time": "2022-05-23T19:30:59.357Z"
   },
   {
    "duration": 4803,
    "start_time": "2022-05-23T19:31:11.022Z"
   },
   {
    "duration": 469,
    "start_time": "2022-05-23T19:34:51.853Z"
   },
   {
    "duration": 15,
    "start_time": "2022-05-23T19:35:25.099Z"
   },
   {
    "duration": 3,
    "start_time": "2022-05-23T19:35:53.297Z"
   },
   {
    "duration": 5,
    "start_time": "2022-05-23T19:35:55.276Z"
   },
   {
    "duration": 20,
    "start_time": "2022-05-23T19:37:02.777Z"
   },
   {
    "duration": 3,
    "start_time": "2022-05-23T19:37:17.215Z"
   },
   {
    "duration": 15,
    "start_time": "2022-05-23T19:37:18.515Z"
   },
   {
    "duration": 14,
    "start_time": "2022-05-23T19:38:20.271Z"
   },
   {
    "duration": 15,
    "start_time": "2022-05-23T19:38:30.684Z"
   },
   {
    "duration": 15,
    "start_time": "2022-05-23T19:38:39.472Z"
   },
   {
    "duration": 22,
    "start_time": "2022-05-23T19:38:45.100Z"
   },
   {
    "duration": 6,
    "start_time": "2022-05-23T19:39:37.164Z"
   },
   {
    "duration": 11,
    "start_time": "2022-05-23T19:40:05.309Z"
   },
   {
    "duration": 16,
    "start_time": "2022-05-23T19:40:55.114Z"
   },
   {
    "duration": 6,
    "start_time": "2022-05-23T19:41:27.697Z"
   },
   {
    "duration": 14,
    "start_time": "2022-05-23T19:43:07.412Z"
   },
   {
    "duration": 14,
    "start_time": "2022-05-23T19:43:14.020Z"
   },
   {
    "duration": 12,
    "start_time": "2022-05-23T19:47:00.823Z"
   },
   {
    "duration": 10,
    "start_time": "2022-05-23T19:47:14.276Z"
   },
   {
    "duration": 167,
    "start_time": "2022-05-23T19:47:17.876Z"
   },
   {
    "duration": 147,
    "start_time": "2022-05-23T19:47:38.804Z"
   },
   {
    "duration": 0,
    "start_time": "2022-05-23T19:48:47.226Z"
   },
   {
    "duration": 10579,
    "start_time": "2022-05-23T19:48:48.783Z"
   },
   {
    "duration": 10933,
    "start_time": "2022-05-23T19:49:15.724Z"
   },
   {
    "duration": 155,
    "start_time": "2022-05-23T19:49:35.919Z"
   },
   {
    "duration": 149,
    "start_time": "2022-05-23T19:49:48.296Z"
   },
   {
    "duration": 157,
    "start_time": "2022-05-23T19:49:55.174Z"
   },
   {
    "duration": 10657,
    "start_time": "2022-05-23T19:50:06.457Z"
   },
   {
    "duration": 7,
    "start_time": "2022-05-23T19:51:03.073Z"
   },
   {
    "duration": 6,
    "start_time": "2022-05-23T19:51:10.714Z"
   },
   {
    "duration": 5,
    "start_time": "2022-05-23T19:51:21.228Z"
   },
   {
    "duration": 4,
    "start_time": "2022-05-23T19:51:29.778Z"
   },
   {
    "duration": 5,
    "start_time": "2022-05-23T19:51:44.469Z"
   },
   {
    "duration": 153,
    "start_time": "2022-05-23T19:52:01.235Z"
   },
   {
    "duration": 157,
    "start_time": "2022-05-23T19:52:18.515Z"
   },
   {
    "duration": 149,
    "start_time": "2022-05-23T19:52:25.598Z"
   },
   {
    "duration": 164,
    "start_time": "2022-05-23T19:52:43.473Z"
   },
   {
    "duration": 231,
    "start_time": "2022-05-23T19:56:20.115Z"
   },
   {
    "duration": 270,
    "start_time": "2022-05-23T19:56:40.653Z"
   },
   {
    "duration": 271,
    "start_time": "2022-05-23T19:56:45.952Z"
   },
   {
    "duration": 266,
    "start_time": "2022-05-23T19:57:00.671Z"
   },
   {
    "duration": 51,
    "start_time": "2022-05-23T19:57:15.671Z"
   },
   {
    "duration": 11,
    "start_time": "2022-05-23T19:57:19.450Z"
   },
   {
    "duration": 1487,
    "start_time": "2022-05-23T19:59:40.378Z"
   },
   {
    "duration": 800,
    "start_time": "2022-05-23T19:59:41.867Z"
   },
   {
    "duration": 35,
    "start_time": "2022-05-23T19:59:42.669Z"
   },
   {
    "duration": 2,
    "start_time": "2022-05-23T19:59:42.706Z"
   },
   {
    "duration": 16,
    "start_time": "2022-05-23T19:59:42.710Z"
   },
   {
    "duration": 233,
    "start_time": "2022-05-23T19:59:42.728Z"
   },
   {
    "duration": 205,
    "start_time": "2022-05-23T19:59:42.962Z"
   },
   {
    "duration": 7,
    "start_time": "2022-05-23T19:59:43.169Z"
   },
   {
    "duration": 12,
    "start_time": "2022-05-23T19:59:43.177Z"
   },
   {
    "duration": 9,
    "start_time": "2022-05-23T19:59:43.192Z"
   },
   {
    "duration": 2250,
    "start_time": "2022-05-23T19:59:43.202Z"
   },
   {
    "duration": 7,
    "start_time": "2022-05-23T19:59:45.454Z"
   },
   {
    "duration": 250,
    "start_time": "2022-05-23T19:59:45.462Z"
   },
   {
    "duration": 2,
    "start_time": "2022-05-23T19:59:45.714Z"
   },
   {
    "duration": 8,
    "start_time": "2022-05-23T19:59:45.717Z"
   },
   {
    "duration": 81021,
    "start_time": "2022-05-23T19:59:45.727Z"
   },
   {
    "duration": 10,
    "start_time": "2022-05-23T20:01:06.751Z"
   },
   {
    "duration": 28,
    "start_time": "2022-05-23T20:01:06.763Z"
   },
   {
    "duration": 6,
    "start_time": "2022-05-23T20:01:06.793Z"
   },
   {
    "duration": 2123,
    "start_time": "2022-05-23T20:01:06.800Z"
   },
   {
    "duration": 4,
    "start_time": "2022-05-23T20:01:08.925Z"
   },
   {
    "duration": 2526,
    "start_time": "2022-05-23T20:01:47.565Z"
   },
   {
    "duration": 3236,
    "start_time": "2022-05-23T20:01:50.093Z"
   },
   {
    "duration": 35,
    "start_time": "2022-05-23T20:01:53.330Z"
   },
   {
    "duration": 3,
    "start_time": "2022-05-23T20:01:53.367Z"
   },
   {
    "duration": 14,
    "start_time": "2022-05-23T20:01:53.372Z"
   },
   {
    "duration": 250,
    "start_time": "2022-05-23T20:01:53.388Z"
   },
   {
    "duration": 208,
    "start_time": "2022-05-23T20:01:53.641Z"
   },
   {
    "duration": 7,
    "start_time": "2022-05-23T20:01:53.851Z"
   },
   {
    "duration": 4,
    "start_time": "2022-05-23T20:01:53.860Z"
   },
   {
    "duration": 5,
    "start_time": "2022-05-23T20:01:53.866Z"
   },
   {
    "duration": 2298,
    "start_time": "2022-05-23T20:01:53.872Z"
   },
   {
    "duration": 9,
    "start_time": "2022-05-23T20:01:56.173Z"
   },
   {
    "duration": 309,
    "start_time": "2022-05-23T20:01:56.185Z"
   },
   {
    "duration": 3,
    "start_time": "2022-05-23T20:01:56.497Z"
   },
   {
    "duration": 8,
    "start_time": "2022-05-23T20:01:56.501Z"
   },
   {
    "duration": 82524,
    "start_time": "2022-05-23T20:01:56.511Z"
   },
   {
    "duration": 14,
    "start_time": "2022-05-23T20:03:19.042Z"
   },
   {
    "duration": 29,
    "start_time": "2022-05-23T20:03:19.057Z"
   },
   {
    "duration": 6,
    "start_time": "2022-05-23T20:03:19.088Z"
   },
   {
    "duration": 2077,
    "start_time": "2022-05-23T20:03:19.095Z"
   },
   {
    "duration": 7,
    "start_time": "2022-05-23T20:03:21.174Z"
   },
   {
    "duration": 2000,
    "start_time": "2022-05-23T20:04:18.268Z"
   },
   {
    "duration": 3247,
    "start_time": "2022-05-23T20:04:20.270Z"
   },
   {
    "duration": 35,
    "start_time": "2022-05-23T20:04:23.518Z"
   },
   {
    "duration": 2,
    "start_time": "2022-05-23T20:04:23.555Z"
   },
   {
    "duration": 15,
    "start_time": "2022-05-23T20:04:23.558Z"
   },
   {
    "duration": 245,
    "start_time": "2022-05-23T20:04:23.575Z"
   },
   {
    "duration": 198,
    "start_time": "2022-05-23T20:04:23.822Z"
   },
   {
    "duration": 8,
    "start_time": "2022-05-23T20:04:24.022Z"
   },
   {
    "duration": 5,
    "start_time": "2022-05-23T20:04:24.040Z"
   },
   {
    "duration": 8,
    "start_time": "2022-05-23T20:04:24.047Z"
   },
   {
    "duration": 2316,
    "start_time": "2022-05-23T20:04:24.056Z"
   },
   {
    "duration": 8,
    "start_time": "2022-05-23T20:04:26.374Z"
   },
   {
    "duration": 334,
    "start_time": "2022-05-23T20:04:26.383Z"
   },
   {
    "duration": 2,
    "start_time": "2022-05-23T20:04:26.719Z"
   },
   {
    "duration": 11,
    "start_time": "2022-05-23T20:04:26.723Z"
   },
   {
    "duration": 80752,
    "start_time": "2022-05-23T20:04:26.736Z"
   },
   {
    "duration": 10,
    "start_time": "2022-05-23T20:05:47.491Z"
   },
   {
    "duration": 38,
    "start_time": "2022-05-23T20:05:47.503Z"
   },
   {
    "duration": 7,
    "start_time": "2022-05-23T20:05:47.543Z"
   },
   {
    "duration": 2013,
    "start_time": "2022-05-23T20:05:47.552Z"
   },
   {
    "duration": 10,
    "start_time": "2022-05-23T20:05:49.567Z"
   },
   {
    "duration": 2011,
    "start_time": "2022-05-23T20:08:13.197Z"
   },
   {
    "duration": 3254,
    "start_time": "2022-05-23T20:08:15.210Z"
   },
   {
    "duration": 34,
    "start_time": "2022-05-23T20:08:18.466Z"
   },
   {
    "duration": 5,
    "start_time": "2022-05-23T20:08:18.502Z"
   },
   {
    "duration": 14,
    "start_time": "2022-05-23T20:08:18.509Z"
   },
   {
    "duration": 264,
    "start_time": "2022-05-23T20:08:18.525Z"
   },
   {
    "duration": 212,
    "start_time": "2022-05-23T20:08:18.790Z"
   },
   {
    "duration": 8,
    "start_time": "2022-05-23T20:08:19.004Z"
   },
   {
    "duration": 3,
    "start_time": "2022-05-23T20:08:19.014Z"
   },
   {
    "duration": 21,
    "start_time": "2022-05-23T20:08:19.020Z"
   },
   {
    "duration": 2366,
    "start_time": "2022-05-23T20:08:19.043Z"
   },
   {
    "duration": 7,
    "start_time": "2022-05-23T20:08:21.411Z"
   },
   {
    "duration": 345,
    "start_time": "2022-05-23T20:08:21.420Z"
   },
   {
    "duration": 2,
    "start_time": "2022-05-23T20:08:21.767Z"
   },
   {
    "duration": 5,
    "start_time": "2022-05-23T20:08:21.771Z"
   },
   {
    "duration": 1415,
    "start_time": "2022-05-23T20:09:41.565Z"
   },
   {
    "duration": 809,
    "start_time": "2022-05-23T20:09:42.982Z"
   },
   {
    "duration": 31,
    "start_time": "2022-05-23T20:09:43.793Z"
   },
   {
    "duration": 15,
    "start_time": "2022-05-23T20:09:43.826Z"
   },
   {
    "duration": 11,
    "start_time": "2022-05-23T20:09:43.843Z"
   },
   {
    "duration": 232,
    "start_time": "2022-05-23T20:09:43.855Z"
   },
   {
    "duration": 198,
    "start_time": "2022-05-23T20:09:44.089Z"
   },
   {
    "duration": 7,
    "start_time": "2022-05-23T20:09:44.289Z"
   },
   {
    "duration": 14,
    "start_time": "2022-05-23T20:09:44.297Z"
   },
   {
    "duration": 12,
    "start_time": "2022-05-23T20:09:44.313Z"
   },
   {
    "duration": 2244,
    "start_time": "2022-05-23T20:09:44.327Z"
   },
   {
    "duration": 6,
    "start_time": "2022-05-23T20:09:46.573Z"
   },
   {
    "duration": 262,
    "start_time": "2022-05-23T20:09:46.581Z"
   },
   {
    "duration": 3,
    "start_time": "2022-05-23T20:09:46.845Z"
   },
   {
    "duration": 12,
    "start_time": "2022-05-23T20:09:46.849Z"
   },
   {
    "duration": 82216,
    "start_time": "2022-05-23T20:09:46.863Z"
   },
   {
    "duration": 11,
    "start_time": "2022-05-23T20:11:09.081Z"
   },
   {
    "duration": 36,
    "start_time": "2022-05-23T20:11:09.094Z"
   },
   {
    "duration": 10,
    "start_time": "2022-05-23T20:11:09.132Z"
   },
   {
    "duration": 2020,
    "start_time": "2022-05-23T20:11:09.144Z"
   },
   {
    "duration": 11,
    "start_time": "2022-05-23T20:11:11.165Z"
   },
   {
    "duration": 12,
    "start_time": "2022-05-23T20:11:11.177Z"
   },
   {
    "duration": 2077,
    "start_time": "2022-05-23T20:12:19.468Z"
   },
   {
    "duration": 3269,
    "start_time": "2022-05-23T20:12:21.548Z"
   },
   {
    "duration": 32,
    "start_time": "2022-05-23T20:12:24.818Z"
   },
   {
    "duration": 2,
    "start_time": "2022-05-23T20:12:24.853Z"
   },
   {
    "duration": 12,
    "start_time": "2022-05-23T20:12:24.857Z"
   },
   {
    "duration": 238,
    "start_time": "2022-05-23T20:12:24.871Z"
   },
   {
    "duration": 204,
    "start_time": "2022-05-23T20:12:25.111Z"
   },
   {
    "duration": 7,
    "start_time": "2022-05-23T20:12:25.317Z"
   },
   {
    "duration": 27,
    "start_time": "2022-05-23T20:12:25.325Z"
   },
   {
    "duration": 3,
    "start_time": "2022-05-23T20:12:25.355Z"
   },
   {
    "duration": 459,
    "start_time": "2022-05-23T20:12:25.360Z"
   },
   {
    "duration": 7,
    "start_time": "2022-05-23T20:12:25.820Z"
   },
   {
    "duration": 265,
    "start_time": "2022-05-23T20:12:25.829Z"
   },
   {
    "duration": 3,
    "start_time": "2022-05-23T20:12:26.096Z"
   },
   {
    "duration": 8,
    "start_time": "2022-05-23T20:12:26.100Z"
   },
   {
    "duration": 16014,
    "start_time": "2022-05-23T20:12:26.110Z"
   },
   {
    "duration": 4,
    "start_time": "2022-05-23T20:12:42.126Z"
   },
   {
    "duration": 17,
    "start_time": "2022-05-23T20:12:42.132Z"
   },
   {
    "duration": 3,
    "start_time": "2022-05-23T20:12:42.151Z"
   },
   {
    "duration": 390,
    "start_time": "2022-05-23T20:12:42.155Z"
   },
   {
    "duration": 10,
    "start_time": "2022-05-23T20:12:42.547Z"
   },
   {
    "duration": 6,
    "start_time": "2022-05-23T20:12:42.558Z"
   },
   {
    "duration": 2451,
    "start_time": "2022-05-23T20:12:42.565Z"
   },
   {
    "duration": 2455,
    "start_time": "2022-05-23T20:12:45.018Z"
   },
   {
    "duration": 76,
    "start_time": "2022-05-23T20:12:47.475Z"
   },
   {
    "duration": 7,
    "start_time": "2022-05-23T20:12:47.553Z"
   },
   {
    "duration": 13,
    "start_time": "2022-05-23T20:12:47.562Z"
   },
   {
    "duration": 1514,
    "start_time": "2022-05-23T20:16:07.207Z"
   },
   {
    "duration": 864,
    "start_time": "2022-05-23T20:16:08.723Z"
   },
   {
    "duration": 32,
    "start_time": "2022-05-23T20:16:09.588Z"
   },
   {
    "duration": 12,
    "start_time": "2022-05-23T20:16:09.622Z"
   },
   {
    "duration": 13,
    "start_time": "2022-05-23T20:16:09.636Z"
   },
   {
    "duration": 254,
    "start_time": "2022-05-23T20:16:09.651Z"
   },
   {
    "duration": 226,
    "start_time": "2022-05-23T20:16:09.907Z"
   },
   {
    "duration": 12,
    "start_time": "2022-05-23T20:16:10.134Z"
   },
   {
    "duration": 15,
    "start_time": "2022-05-23T20:16:10.148Z"
   },
   {
    "duration": 3,
    "start_time": "2022-05-23T20:16:10.166Z"
   },
   {
    "duration": 455,
    "start_time": "2022-05-23T20:16:10.171Z"
   },
   {
    "duration": 8,
    "start_time": "2022-05-23T20:16:10.627Z"
   },
   {
    "duration": 214,
    "start_time": "2022-05-23T20:16:10.642Z"
   },
   {
    "duration": 3,
    "start_time": "2022-05-23T20:16:10.857Z"
   },
   {
    "duration": 6,
    "start_time": "2022-05-23T20:16:10.862Z"
   },
   {
    "duration": 17607,
    "start_time": "2022-05-23T20:16:10.869Z"
   },
   {
    "duration": 5,
    "start_time": "2022-05-23T20:16:28.478Z"
   },
   {
    "duration": 9,
    "start_time": "2022-05-23T20:16:28.485Z"
   },
   {
    "duration": 3,
    "start_time": "2022-05-23T20:16:28.496Z"
   },
   {
    "duration": 398,
    "start_time": "2022-05-23T20:16:28.500Z"
   },
   {
    "duration": 6,
    "start_time": "2022-05-23T20:16:28.900Z"
   },
   {
    "duration": 6,
    "start_time": "2022-05-23T20:16:28.907Z"
   },
   {
    "duration": 2567,
    "start_time": "2022-05-23T20:16:28.914Z"
   },
   {
    "duration": 2372,
    "start_time": "2022-05-23T20:16:31.482Z"
   },
   {
    "duration": 72,
    "start_time": "2022-05-23T20:16:33.856Z"
   },
   {
    "duration": 12,
    "start_time": "2022-05-23T20:16:33.930Z"
   },
   {
    "duration": 4,
    "start_time": "2022-05-23T20:16:33.944Z"
   },
   {
    "duration": 200090,
    "start_time": "2022-05-23T20:16:33.952Z"
   },
   {
    "duration": 4,
    "start_time": "2022-05-23T20:19:54.044Z"
   },
   {
    "duration": 4292,
    "start_time": "2022-05-23T20:19:54.051Z"
   },
   {
    "duration": 142672,
    "start_time": "2022-05-23T20:19:58.345Z"
   },
   {
    "duration": 3,
    "start_time": "2022-05-23T20:22:21.018Z"
   },
   {
    "duration": 3902,
    "start_time": "2022-05-23T20:22:21.023Z"
   },
   {
    "duration": 7063,
    "start_time": "2022-05-23T20:22:24.927Z"
   },
   {
    "duration": 4,
    "start_time": "2022-05-23T20:22:31.992Z"
   },
   {
    "duration": 282,
    "start_time": "2022-05-23T20:22:31.998Z"
   },
   {
    "duration": 305,
    "start_time": "2022-05-23T20:22:32.282Z"
   },
   {
    "duration": 3,
    "start_time": "2022-05-23T20:22:32.588Z"
   },
   {
    "duration": 18,
    "start_time": "2022-05-23T20:22:32.592Z"
   },
   {
    "duration": 274856,
    "start_time": "2022-05-23T20:22:32.612Z"
   },
   {
    "duration": 3,
    "start_time": "2022-05-23T20:27:07.470Z"
   },
   {
    "duration": 14,
    "start_time": "2022-05-23T20:27:07.475Z"
   },
   {
    "duration": 4,
    "start_time": "2022-05-23T20:27:07.490Z"
   },
   {
    "duration": 6,
    "start_time": "2022-05-23T20:27:07.496Z"
   },
   {
    "duration": 9,
    "start_time": "2022-05-23T20:27:07.504Z"
   },
   {
    "duration": 29,
    "start_time": "2022-05-23T20:27:07.515Z"
   },
   {
    "duration": 191,
    "start_time": "2022-05-23T20:27:07.546Z"
   },
   {
    "duration": 4,
    "start_time": "2022-05-23T20:27:07.741Z"
   },
   {
    "duration": 10,
    "start_time": "2022-05-23T20:27:07.747Z"
   },
   {
    "duration": 413,
    "start_time": "2022-05-23T20:27:07.759Z"
   },
   {
    "duration": 9,
    "start_time": "2022-05-23T20:27:08.174Z"
   },
   {
    "duration": 119,
    "start_time": "2022-05-23T20:27:08.184Z"
   },
   {
    "duration": 2,
    "start_time": "2022-05-23T20:27:08.305Z"
   },
   {
    "duration": 7,
    "start_time": "2022-05-23T20:27:08.309Z"
   },
   {
    "duration": 144,
    "start_time": "2022-05-23T20:27:08.317Z"
   },
   {
    "duration": 0,
    "start_time": "2022-05-23T20:27:08.462Z"
   },
   {
    "duration": 0,
    "start_time": "2022-05-23T20:27:08.464Z"
   },
   {
    "duration": 0,
    "start_time": "2022-05-23T20:27:08.466Z"
   },
   {
    "duration": 0,
    "start_time": "2022-05-23T20:27:08.467Z"
   },
   {
    "duration": 0,
    "start_time": "2022-05-23T20:27:08.468Z"
   },
   {
    "duration": 0,
    "start_time": "2022-05-23T20:27:08.469Z"
   },
   {
    "duration": 0,
    "start_time": "2022-05-23T20:27:08.470Z"
   },
   {
    "duration": 0,
    "start_time": "2022-05-23T20:27:08.471Z"
   },
   {
    "duration": 0,
    "start_time": "2022-05-23T20:27:08.472Z"
   },
   {
    "duration": 0,
    "start_time": "2022-05-23T20:27:08.473Z"
   },
   {
    "duration": 0,
    "start_time": "2022-05-23T20:27:08.475Z"
   },
   {
    "duration": 0,
    "start_time": "2022-05-23T20:27:08.475Z"
   },
   {
    "duration": 0,
    "start_time": "2022-05-23T20:27:08.476Z"
   },
   {
    "duration": 0,
    "start_time": "2022-05-23T20:27:08.477Z"
   },
   {
    "duration": 372,
    "start_time": "2022-05-23T20:30:15.387Z"
   },
   {
    "duration": 8,
    "start_time": "2022-05-23T20:30:31.479Z"
   },
   {
    "duration": 7,
    "start_time": "2022-05-23T20:30:33.762Z"
   },
   {
    "duration": 157,
    "start_time": "2022-05-23T20:30:34.487Z"
   },
   {
    "duration": 2,
    "start_time": "2022-05-23T20:30:35.133Z"
   },
   {
    "duration": 4,
    "start_time": "2022-05-23T20:30:35.678Z"
   },
   {
    "duration": 378,
    "start_time": "2022-05-23T20:30:36.384Z"
   },
   {
    "duration": 5746,
    "start_time": "2022-05-23T20:31:06.190Z"
   },
   {
    "duration": 89,
    "start_time": "2022-05-23T20:31:11.938Z"
   },
   {
    "duration": 3,
    "start_time": "2022-05-23T20:31:12.028Z"
   },
   {
    "duration": 4,
    "start_time": "2022-05-23T20:31:12.040Z"
   },
   {
    "duration": 6319,
    "start_time": "2022-05-23T20:31:12.046Z"
   },
   {
    "duration": 3,
    "start_time": "2022-05-23T20:31:31.819Z"
   },
   {
    "duration": 4,
    "start_time": "2022-05-23T20:31:33.544Z"
   },
   {
    "duration": 10,
    "start_time": "2022-05-23T20:31:34.265Z"
   },
   {
    "duration": 2194,
    "start_time": "2022-05-23T20:41:17.873Z"
   },
   {
    "duration": 940,
    "start_time": "2022-05-23T20:41:20.069Z"
   },
   {
    "duration": 40,
    "start_time": "2022-05-23T20:41:21.011Z"
   },
   {
    "duration": 4,
    "start_time": "2022-05-23T20:41:21.054Z"
   },
   {
    "duration": 23,
    "start_time": "2022-05-23T20:41:21.060Z"
   },
   {
    "duration": 358,
    "start_time": "2022-05-23T20:41:21.087Z"
   },
   {
    "duration": 218,
    "start_time": "2022-05-23T20:41:21.447Z"
   },
   {
    "duration": 8,
    "start_time": "2022-05-23T20:41:21.667Z"
   },
   {
    "duration": 22,
    "start_time": "2022-05-23T20:41:21.676Z"
   },
   {
    "duration": 3,
    "start_time": "2022-05-23T20:41:21.702Z"
   },
   {
    "duration": 766,
    "start_time": "2022-05-23T20:41:21.707Z"
   },
   {
    "duration": 7,
    "start_time": "2022-05-23T20:41:22.474Z"
   },
   {
    "duration": 255,
    "start_time": "2022-05-23T20:41:22.483Z"
   },
   {
    "duration": 12,
    "start_time": "2022-05-23T20:41:22.740Z"
   },
   {
    "duration": 16,
    "start_time": "2022-05-23T20:41:22.755Z"
   },
   {
    "duration": 29620,
    "start_time": "2022-05-23T20:41:22.773Z"
   },
   {
    "duration": 8,
    "start_time": "2022-05-23T20:41:52.396Z"
   },
   {
    "duration": 21,
    "start_time": "2022-05-23T20:41:52.407Z"
   },
   {
    "duration": 5,
    "start_time": "2022-05-23T20:41:52.440Z"
   },
   {
    "duration": 744,
    "start_time": "2022-05-23T20:41:52.447Z"
   },
   {
    "duration": 8,
    "start_time": "2022-05-23T20:41:53.193Z"
   },
   {
    "duration": 8,
    "start_time": "2022-05-23T20:41:53.202Z"
   },
   {
    "duration": 5291,
    "start_time": "2022-05-23T20:41:53.212Z"
   },
   {
    "duration": 4792,
    "start_time": "2022-05-23T20:41:58.504Z"
   },
   {
    "duration": 131,
    "start_time": "2022-05-23T20:42:03.298Z"
   },
   {
    "duration": 25,
    "start_time": "2022-05-23T20:42:03.431Z"
   },
   {
    "duration": 17,
    "start_time": "2022-05-23T20:42:03.459Z"
   },
   {
    "duration": 529061,
    "start_time": "2022-05-23T20:42:03.482Z"
   },
   {
    "duration": 6,
    "start_time": "2022-05-23T20:50:52.545Z"
   },
   {
    "duration": 16789,
    "start_time": "2022-05-23T20:50:52.554Z"
   },
   {
    "duration": 416457,
    "start_time": "2022-05-23T20:51:09.345Z"
   },
   {
    "duration": 4,
    "start_time": "2022-05-23T20:58:05.804Z"
   },
   {
    "duration": 11317,
    "start_time": "2022-05-23T20:58:05.810Z"
   },
   {
    "duration": 18370,
    "start_time": "2022-05-23T20:58:17.129Z"
   },
   {
    "duration": 4,
    "start_time": "2022-05-23T20:58:35.502Z"
   },
   {
    "duration": 675,
    "start_time": "2022-05-23T20:58:35.509Z"
   },
   {
    "duration": 603,
    "start_time": "2022-05-23T20:58:36.186Z"
   },
   {
    "duration": 3,
    "start_time": "2022-05-23T20:58:36.791Z"
   },
   {
    "duration": 29,
    "start_time": "2022-05-23T20:58:36.795Z"
   },
   {
    "duration": 287,
    "start_time": "2022-05-23T20:58:36.844Z"
   },
   {
    "duration": 29,
    "start_time": "2022-05-23T20:58:37.133Z"
   },
   {
    "duration": 0,
    "start_time": "2022-05-23T20:58:37.164Z"
   },
   {
    "duration": 0,
    "start_time": "2022-05-23T20:58:37.166Z"
   },
   {
    "duration": 0,
    "start_time": "2022-05-23T20:58:37.168Z"
   },
   {
    "duration": 0,
    "start_time": "2022-05-23T20:58:37.170Z"
   },
   {
    "duration": 0,
    "start_time": "2022-05-23T20:58:37.172Z"
   },
   {
    "duration": 0,
    "start_time": "2022-05-23T20:58:37.173Z"
   },
   {
    "duration": 0,
    "start_time": "2022-05-23T20:58:37.175Z"
   },
   {
    "duration": 0,
    "start_time": "2022-05-23T20:58:37.176Z"
   },
   {
    "duration": 0,
    "start_time": "2022-05-23T20:58:37.179Z"
   },
   {
    "duration": 0,
    "start_time": "2022-05-23T20:58:37.180Z"
   },
   {
    "duration": 0,
    "start_time": "2022-05-23T20:58:37.183Z"
   },
   {
    "duration": 0,
    "start_time": "2022-05-23T20:58:37.184Z"
   },
   {
    "duration": 0,
    "start_time": "2022-05-23T20:58:37.186Z"
   },
   {
    "duration": 0,
    "start_time": "2022-05-23T20:58:37.187Z"
   },
   {
    "duration": 0,
    "start_time": "2022-05-23T20:58:37.189Z"
   },
   {
    "duration": 0,
    "start_time": "2022-05-23T20:58:37.190Z"
   },
   {
    "duration": 0,
    "start_time": "2022-05-23T20:58:37.192Z"
   },
   {
    "duration": 0,
    "start_time": "2022-05-23T20:58:37.194Z"
   },
   {
    "duration": 0,
    "start_time": "2022-05-23T20:58:37.195Z"
   },
   {
    "duration": 0,
    "start_time": "2022-05-23T20:58:37.196Z"
   },
   {
    "duration": 0,
    "start_time": "2022-05-23T20:58:37.198Z"
   },
   {
    "duration": 0,
    "start_time": "2022-05-23T20:58:37.199Z"
   },
   {
    "duration": 0,
    "start_time": "2022-05-23T20:58:37.200Z"
   },
   {
    "duration": 0,
    "start_time": "2022-05-23T20:58:37.202Z"
   },
   {
    "duration": 0,
    "start_time": "2022-05-23T20:58:37.242Z"
   },
   {
    "duration": 0,
    "start_time": "2022-05-23T20:58:37.244Z"
   },
   {
    "duration": 0,
    "start_time": "2022-05-23T20:58:37.245Z"
   },
   {
    "duration": 0,
    "start_time": "2022-05-23T20:58:37.251Z"
   },
   {
    "duration": 1875187,
    "start_time": "2022-05-23T21:00:45.372Z"
   },
   {
    "duration": 4,
    "start_time": "2022-05-23T21:32:00.560Z"
   },
   {
    "duration": 28,
    "start_time": "2022-05-23T21:32:00.565Z"
   },
   {
    "duration": 5,
    "start_time": "2022-05-23T21:32:00.594Z"
   },
   {
    "duration": 12,
    "start_time": "2022-05-23T21:32:00.601Z"
   },
   {
    "duration": 16,
    "start_time": "2022-05-23T21:32:00.615Z"
   },
   {
    "duration": 15,
    "start_time": "2022-05-23T21:32:00.633Z"
   },
   {
    "duration": 256,
    "start_time": "2022-05-23T21:32:00.654Z"
   },
   {
    "duration": 4,
    "start_time": "2022-05-23T21:32:00.912Z"
   },
   {
    "duration": 6,
    "start_time": "2022-05-23T21:32:00.919Z"
   },
   {
    "duration": 423,
    "start_time": "2022-05-23T21:32:00.926Z"
   },
   {
    "duration": 13,
    "start_time": "2022-05-23T21:32:01.350Z"
   },
   {
    "duration": 221,
    "start_time": "2022-05-23T21:32:01.365Z"
   },
   {
    "duration": 3,
    "start_time": "2022-05-23T21:32:01.588Z"
   },
   {
    "duration": 16,
    "start_time": "2022-05-23T21:32:01.592Z"
   },
   {
    "duration": 443,
    "start_time": "2022-05-23T21:32:01.609Z"
   },
   {
    "duration": 10,
    "start_time": "2022-05-23T21:32:02.054Z"
   },
   {
    "duration": 11,
    "start_time": "2022-05-23T21:32:02.066Z"
   },
   {
    "duration": 222,
    "start_time": "2022-05-23T21:32:02.078Z"
   },
   {
    "duration": 2,
    "start_time": "2022-05-23T21:32:02.302Z"
   },
   {
    "duration": 8,
    "start_time": "2022-05-23T21:32:02.306Z"
   },
   {
    "duration": 417,
    "start_time": "2022-05-23T21:32:02.315Z"
   },
   {
    "duration": 149330,
    "start_time": "2022-05-23T21:32:02.734Z"
   },
   {
    "duration": 98,
    "start_time": "2022-05-23T21:34:32.066Z"
   },
   {
    "duration": 3,
    "start_time": "2022-05-23T21:34:32.166Z"
   },
   {
    "duration": 11,
    "start_time": "2022-05-23T21:34:32.170Z"
   },
   {
    "duration": 150500,
    "start_time": "2022-05-23T21:34:32.183Z"
   },
   {
    "duration": 3,
    "start_time": "2022-05-23T21:37:02.686Z"
   },
   {
    "duration": 16,
    "start_time": "2022-05-23T21:37:02.690Z"
   },
   {
    "duration": 22,
    "start_time": "2022-05-23T21:37:02.708Z"
   },
   {
    "duration": 52,
    "start_time": "2022-05-24T17:57:30.406Z"
   }
  ],
  "kernelspec": {
   "display_name": "Python 3 (ipykernel)",
   "language": "python",
   "name": "python3"
  },
  "language_info": {
   "codemirror_mode": {
    "name": "ipython",
    "version": 3
   },
   "file_extension": ".py",
   "mimetype": "text/x-python",
   "name": "python",
   "nbconvert_exporter": "python",
   "pygments_lexer": "ipython3",
   "version": "3.9.5"
  },
  "toc": {
   "base_numbering": 1,
   "nav_menu": {},
   "number_sections": true,
   "sideBar": true,
   "skip_h1_title": true,
   "title_cell": "Содержание",
   "title_sidebar": "Contents",
   "toc_cell": true,
   "toc_position": {
    "height": "calc(100% - 180px)",
    "left": "10px",
    "top": "150px",
    "width": "302.391px"
   },
   "toc_section_display": true,
   "toc_window_display": false
  }
 },
 "nbformat": 4,
 "nbformat_minor": 2
}
