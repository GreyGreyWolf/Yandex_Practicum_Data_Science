{
 "cells": [
  {
   "cell_type": "markdown",
   "metadata": {},
   "source": [
    "# Определение стоимости автомобилей"
   ]
  },
  {
   "cell_type": "markdown",
   "metadata": {},
   "source": [
    "Сервис по продаже автомобилей с пробегом «Не бит, не крашен» разрабатывает приложение для привлечения новых клиентов. В нём можно быстро узнать рыночную стоимость своего автомобиля. В вашем распоряжении исторические данные: технические характеристики, комплектации и цены автомобилей. Вам нужно построить модель для определения стоимости. \n",
    "\n",
    "Заказчику важны:\n",
    "\n",
    "- качество предсказания;\n",
    "- скорость предсказания;\n",
    "- время обучения."
   ]
  },
  {
   "cell_type": "markdown",
   "metadata": {},
   "source": [
    "## Описание данных"
   ]
  },
  {
   "cell_type": "markdown",
   "metadata": {},
   "source": [
    "**Признаки**\n",
    "\n",
    "- DateCrawled — дата скачивания анкеты из базы\n",
    "\n",
    "- VehicleType — тип автомобильного кузова\n",
    "\n",
    "- RegistrationYear — год регистрации автомобиля\n",
    "\n",
    "- Gearbox — тип коробки передач\n",
    "\n",
    "- Power — мощность (л. с.)\n",
    "\n",
    "- Model — модель автомобиля\n",
    "\n",
    "- Kilometer — пробег (км)\n",
    "\n",
    "- RegistrationMonth — месяц регистрации автомобиля\n",
    "\n",
    "- FuelType — тип топлива\n",
    "\n",
    "- Brand — марка автомобиля\n",
    "\n",
    "- NotRepaired — была машина в ремонте или нет\n",
    "\n",
    "- DateCreated — дата создания анкеты\n",
    "\n",
    "- NumberOfPictures — количество фотографий автомобиля\n",
    "\n",
    "- PostalCode — почтовый индекс владельца анкеты (пользователя)\n",
    "\n",
    "- LastSeen — дата последней активности пользователя\n",
    "\n",
    "\n",
    "**Целевой признак**\n",
    "\n",
    " - Price — цена (евро)"
   ]
  },
  {
   "cell_type": "markdown",
   "metadata": {},
   "source": [
    "## Подготовка данных"
   ]
  },
  {
   "cell_type": "markdown",
   "metadata": {},
   "source": [
    "**Подгрузим библиотеки**"
   ]
  },
  {
   "cell_type": "code",
   "execution_count": 2,
   "metadata": {},
   "outputs": [],
   "source": [
    "import pandas as pd\n",
    "import numpy as np\n",
    "import seaborn as sns\n",
    "import time\n",
    "import matplotlib.pyplot as plt\n",
    "from numpy.random import RandomState\n",
    "from sklearn.model_selection import train_test_split, cross_val_score, RandomizedSearchCV\n",
    "from sklearn.metrics import mean_squared_error, make_scorer\n",
    "from sklearn.tree import DecisionTreeRegressor\n",
    "from sklearn.ensemble import RandomForestRegressor\n",
    "from sklearn.linear_model import LinearRegression\n",
    "from catboost import Pool, CatBoostRegressor\n",
    "import lightgbm as lgb\n",
    "from sklearn.preprocessing import StandardScaler, LabelEncoder, OrdinalEncoder"
   ]
  },
  {
   "cell_type": "markdown",
   "metadata": {},
   "source": [
    "**Загрузим датасет**"
   ]
  },
  {
   "cell_type": "code",
   "execution_count": 3,
   "metadata": {},
   "outputs": [],
   "source": [
    "data = pd.read_csv('/datasets/autos.csv')"
   ]
  },
  {
   "cell_type": "markdown",
   "metadata": {},
   "source": [
    "**Посмотрим общую информацию о наборе данных**"
   ]
  },
  {
   "cell_type": "code",
   "execution_count": 4,
   "metadata": {
    "scrolled": true
   },
   "outputs": [
    {
     "name": "stdout",
     "output_type": "stream",
     "text": [
      "<class 'pandas.core.frame.DataFrame'>\n",
      "RangeIndex: 354369 entries, 0 to 354368\n",
      "Data columns (total 16 columns):\n",
      " #   Column             Non-Null Count   Dtype \n",
      "---  ------             --------------   ----- \n",
      " 0   DateCrawled        354369 non-null  object\n",
      " 1   Price              354369 non-null  int64 \n",
      " 2   VehicleType        316879 non-null  object\n",
      " 3   RegistrationYear   354369 non-null  int64 \n",
      " 4   Gearbox            334536 non-null  object\n",
      " 5   Power              354369 non-null  int64 \n",
      " 6   Model              334664 non-null  object\n",
      " 7   Kilometer          354369 non-null  int64 \n",
      " 8   RegistrationMonth  354369 non-null  int64 \n",
      " 9   FuelType           321474 non-null  object\n",
      " 10  Brand              354369 non-null  object\n",
      " 11  NotRepaired        283215 non-null  object\n",
      " 12  DateCreated        354369 non-null  object\n",
      " 13  NumberOfPictures   354369 non-null  int64 \n",
      " 14  PostalCode         354369 non-null  int64 \n",
      " 15  LastSeen           354369 non-null  object\n",
      "dtypes: int64(7), object(9)\n",
      "memory usage: 43.3+ MB\n"
     ]
    }
   ],
   "source": [
    "data.info()"
   ]
  },
  {
   "cell_type": "markdown",
   "metadata": {},
   "source": [
    "**Итог:**\n",
    "\n",
    " - **В данных есть пропуски**\n",
    " \n",
    " \n",
    " - **Тип данных клонок с датой необходимо изменить с object на  datetime**\n",
    " \n",
    " \n",
    " - **Названия колонок не соответствую стандарту snake_case**"
   ]
  },
  {
   "cell_type": "markdown",
   "metadata": {},
   "source": [
    "**Посмотрим на содержимое датасета**"
   ]
  },
  {
   "cell_type": "code",
   "execution_count": 5,
   "metadata": {
    "scrolled": false
   },
   "outputs": [
    {
     "data": {
      "text/html": [
       "<div>\n",
       "<style scoped>\n",
       "    .dataframe tbody tr th:only-of-type {\n",
       "        vertical-align: middle;\n",
       "    }\n",
       "\n",
       "    .dataframe tbody tr th {\n",
       "        vertical-align: top;\n",
       "    }\n",
       "\n",
       "    .dataframe thead th {\n",
       "        text-align: right;\n",
       "    }\n",
       "</style>\n",
       "<table border=\"1\" class=\"dataframe\">\n",
       "  <thead>\n",
       "    <tr style=\"text-align: right;\">\n",
       "      <th></th>\n",
       "      <th>DateCrawled</th>\n",
       "      <th>Price</th>\n",
       "      <th>VehicleType</th>\n",
       "      <th>RegistrationYear</th>\n",
       "      <th>Gearbox</th>\n",
       "      <th>Power</th>\n",
       "      <th>Model</th>\n",
       "      <th>Kilometer</th>\n",
       "      <th>RegistrationMonth</th>\n",
       "      <th>FuelType</th>\n",
       "      <th>Brand</th>\n",
       "      <th>NotRepaired</th>\n",
       "      <th>DateCreated</th>\n",
       "      <th>NumberOfPictures</th>\n",
       "      <th>PostalCode</th>\n",
       "      <th>LastSeen</th>\n",
       "    </tr>\n",
       "  </thead>\n",
       "  <tbody>\n",
       "    <tr>\n",
       "      <th>0</th>\n",
       "      <td>2016-03-24 11:52:17</td>\n",
       "      <td>480</td>\n",
       "      <td>NaN</td>\n",
       "      <td>1993</td>\n",
       "      <td>manual</td>\n",
       "      <td>0</td>\n",
       "      <td>golf</td>\n",
       "      <td>150000</td>\n",
       "      <td>0</td>\n",
       "      <td>petrol</td>\n",
       "      <td>volkswagen</td>\n",
       "      <td>NaN</td>\n",
       "      <td>2016-03-24 00:00:00</td>\n",
       "      <td>0</td>\n",
       "      <td>70435</td>\n",
       "      <td>2016-04-07 03:16:57</td>\n",
       "    </tr>\n",
       "    <tr>\n",
       "      <th>1</th>\n",
       "      <td>2016-03-24 10:58:45</td>\n",
       "      <td>18300</td>\n",
       "      <td>coupe</td>\n",
       "      <td>2011</td>\n",
       "      <td>manual</td>\n",
       "      <td>190</td>\n",
       "      <td>NaN</td>\n",
       "      <td>125000</td>\n",
       "      <td>5</td>\n",
       "      <td>gasoline</td>\n",
       "      <td>audi</td>\n",
       "      <td>yes</td>\n",
       "      <td>2016-03-24 00:00:00</td>\n",
       "      <td>0</td>\n",
       "      <td>66954</td>\n",
       "      <td>2016-04-07 01:46:50</td>\n",
       "    </tr>\n",
       "    <tr>\n",
       "      <th>2</th>\n",
       "      <td>2016-03-14 12:52:21</td>\n",
       "      <td>9800</td>\n",
       "      <td>suv</td>\n",
       "      <td>2004</td>\n",
       "      <td>auto</td>\n",
       "      <td>163</td>\n",
       "      <td>grand</td>\n",
       "      <td>125000</td>\n",
       "      <td>8</td>\n",
       "      <td>gasoline</td>\n",
       "      <td>jeep</td>\n",
       "      <td>NaN</td>\n",
       "      <td>2016-03-14 00:00:00</td>\n",
       "      <td>0</td>\n",
       "      <td>90480</td>\n",
       "      <td>2016-04-05 12:47:46</td>\n",
       "    </tr>\n",
       "    <tr>\n",
       "      <th>3</th>\n",
       "      <td>2016-03-17 16:54:04</td>\n",
       "      <td>1500</td>\n",
       "      <td>small</td>\n",
       "      <td>2001</td>\n",
       "      <td>manual</td>\n",
       "      <td>75</td>\n",
       "      <td>golf</td>\n",
       "      <td>150000</td>\n",
       "      <td>6</td>\n",
       "      <td>petrol</td>\n",
       "      <td>volkswagen</td>\n",
       "      <td>no</td>\n",
       "      <td>2016-03-17 00:00:00</td>\n",
       "      <td>0</td>\n",
       "      <td>91074</td>\n",
       "      <td>2016-03-17 17:40:17</td>\n",
       "    </tr>\n",
       "    <tr>\n",
       "      <th>4</th>\n",
       "      <td>2016-03-31 17:25:20</td>\n",
       "      <td>3600</td>\n",
       "      <td>small</td>\n",
       "      <td>2008</td>\n",
       "      <td>manual</td>\n",
       "      <td>69</td>\n",
       "      <td>fabia</td>\n",
       "      <td>90000</td>\n",
       "      <td>7</td>\n",
       "      <td>gasoline</td>\n",
       "      <td>skoda</td>\n",
       "      <td>no</td>\n",
       "      <td>2016-03-31 00:00:00</td>\n",
       "      <td>0</td>\n",
       "      <td>60437</td>\n",
       "      <td>2016-04-06 10:17:21</td>\n",
       "    </tr>\n",
       "  </tbody>\n",
       "</table>\n",
       "</div>"
      ],
      "text/plain": [
       "           DateCrawled  Price VehicleType  RegistrationYear Gearbox  Power  \\\n",
       "0  2016-03-24 11:52:17    480         NaN              1993  manual      0   \n",
       "1  2016-03-24 10:58:45  18300       coupe              2011  manual    190   \n",
       "2  2016-03-14 12:52:21   9800         suv              2004    auto    163   \n",
       "3  2016-03-17 16:54:04   1500       small              2001  manual     75   \n",
       "4  2016-03-31 17:25:20   3600       small              2008  manual     69   \n",
       "\n",
       "   Model  Kilometer  RegistrationMonth  FuelType       Brand NotRepaired  \\\n",
       "0   golf     150000                  0    petrol  volkswagen         NaN   \n",
       "1    NaN     125000                  5  gasoline        audi         yes   \n",
       "2  grand     125000                  8  gasoline        jeep         NaN   \n",
       "3   golf     150000                  6    petrol  volkswagen          no   \n",
       "4  fabia      90000                  7  gasoline       skoda          no   \n",
       "\n",
       "           DateCreated  NumberOfPictures  PostalCode             LastSeen  \n",
       "0  2016-03-24 00:00:00                 0       70435  2016-04-07 03:16:57  \n",
       "1  2016-03-24 00:00:00                 0       66954  2016-04-07 01:46:50  \n",
       "2  2016-03-14 00:00:00                 0       90480  2016-04-05 12:47:46  \n",
       "3  2016-03-17 00:00:00                 0       91074  2016-03-17 17:40:17  \n",
       "4  2016-03-31 00:00:00                 0       60437  2016-04-06 10:17:21  "
      ]
     },
     "execution_count": 5,
     "metadata": {},
     "output_type": "execute_result"
    }
   ],
   "source": [
    "data.head()"
   ]
  },
  {
   "cell_type": "markdown",
   "metadata": {},
   "source": [
    "**Переведу регистр названия колонок в нижний для удобства**"
   ]
  },
  {
   "cell_type": "code",
   "execution_count": 6,
   "metadata": {},
   "outputs": [],
   "source": [
    "data.columns = data.columns.str.lower()"
   ]
  },
  {
   "cell_type": "markdown",
   "metadata": {},
   "source": [
    "**Теперь изменю тип данных колонок с датой на datetime**"
   ]
  },
  {
   "cell_type": "code",
   "execution_count": 7,
   "metadata": {},
   "outputs": [],
   "source": [
    "data['datecrawled'] = pd.to_datetime(data['datecrawled'], format='%Y-%m-%d %H:%M:%S')\n",
    "data['datecreated'] = pd.to_datetime(data['datecreated'], format='%Y-%m-%d %H:%M:%S')\n",
    "data['lastseen'] = pd.to_datetime(data['lastseen'], format='%Y-%m-%d %H:%M:%S')"
   ]
  },
  {
   "cell_type": "markdown",
   "metadata": {},
   "source": [
    "**Скорректируем названия колонок по стандарту snake_case**"
   ]
  },
  {
   "cell_type": "code",
   "execution_count": 8,
   "metadata": {},
   "outputs": [],
   "source": [
    "data = data.rename(columns={'datecrawled': 'date_crawled',\n",
    "                            'vehicletype': 'vehicle_type',\n",
    "                            'registrationyear': 'registration_year',\n",
    "                            'registrationmonth': 'registration_month',\n",
    "                            'fueltype': 'fuel_type',\n",
    "                            'notrepaired': 'not_repaired',\n",
    "                            'datecreated': 'date_created',\n",
    "                            'numberofpictures': 'number_of_pictures',\n",
    "                            'postalcode': 'postal_code',\n",
    "                            'lastseen': 'last_seen'})"
   ]
  },
  {
   "cell_type": "markdown",
   "metadata": {},
   "source": [
    "**Посмотрим количество явных дубликатов, и удалим их, если они есть.**"
   ]
  },
  {
   "cell_type": "code",
   "execution_count": 9,
   "metadata": {},
   "outputs": [
    {
     "name": "stdout",
     "output_type": "stream",
     "text": [
      "Количество явных дубликтов - 4\n",
      "Количество явных дубликтов после удаления - 0\n"
     ]
    }
   ],
   "source": [
    "print('Количество явных дубликтов -',data.duplicated().sum())\n",
    "data = data.drop_duplicates().reset_index(drop=True)\n",
    "print('Количество явных дубликтов после удаления -',data.duplicated().sum())"
   ]
  },
  {
   "cell_type": "markdown",
   "metadata": {},
   "source": [
    "**Посмотрим на значения в колонке registration_year**"
   ]
  },
  {
   "cell_type": "code",
   "execution_count": 10,
   "metadata": {},
   "outputs": [
    {
     "name": "stdout",
     "output_type": "stream",
     "text": [
      "[1000 1001 1039 1111 1200 1234 1253 1255 1300 1400 1500 1600 1602 1688\n",
      " 1800 1910 1915 1919 1920 1923 1925 1927 1928 1929 1930 1931 1932 1933\n",
      " 1934 1935 1936 1937 1938 1940 1941 1942 1943 1944 1945 1946 1947 1948\n",
      " 1949 1950 1951 1952 1953 1954 1955 1956 1957 1958 1959 1960 1961 1962\n",
      " 1963 1964 1965 1966 1967 1968 1969 1970 1971 1972 1973 1974 1975 1976\n",
      " 1977 1978 1979 1980 1981 1982 1983 1984 1985 1986 1987 1988 1989 1990\n",
      " 1991 1992 1993 1994 1995 1996 1997 1998 1999 2000 2001 2002 2003 2004\n",
      " 2005 2006 2007 2008 2009 2010 2011 2012 2013 2014 2015 2016 2017 2018\n",
      " 2019 2066 2200 2222 2290 2500 2800 2900 3000 3200 3500 3700 3800 4000\n",
      " 4100 4500 4800 5000 5300 5555 5600 5900 5911 6000 6500 7000 7100 7500\n",
      " 7800 8000 8200 8455 8500 8888 9000 9229 9450 9996 9999]\n"
     ]
    }
   ],
   "source": [
    "print(np.sort(data['registration_year'].unique()))"
   ]
  },
  {
   "cell_type": "markdown",
   "metadata": {},
   "source": [
    "**Посмотрим на диаграмму размаха для значений \"Год регистрации\"**"
   ]
  },
  {
   "cell_type": "code",
   "execution_count": 11,
   "metadata": {
    "scrolled": true
   },
   "outputs": [
    {
     "data": {
      "image/png": "[encoded data removed]",
      "text/plain": [
       "<Figure size 1080x360 with 1 Axes>"
      ]
     },
     "metadata": {
      "needs_background": "light"
     },
     "output_type": "display_data"
    }
   ],
   "source": [
    "plt.figure(figsize=[15, 5])\n",
    "plt.suptitle('ДИАГРАММА РАЗМАХА ДЛЯ ГОДА РЕГИСТРАЦИИ.', fontsize=15)\n",
    "sns.set_style('darkgrid')\n",
    "sns.boxplot(data=data['registration_year'], orient='h');"
   ]
  },
  {
   "cell_type": "markdown",
   "metadata": {},
   "source": [
    "**В значениях присутствуют аномальные даты. Что бы определить актуальный период посмотрим на дату скачивания анкеты.**"
   ]
  },
  {
   "cell_type": "code",
   "execution_count": 20,
   "metadata": {},
   "outputs": [
    {
     "data": {
      "text/plain": [
       "[2016]"
      ]
     },
     "execution_count": 20,
     "metadata": {},
     "output_type": "execute_result"
    }
   ],
   "source": [
    "list(data['date_crawled'].dt.year.unique())"
   ]
  },
  {
   "cell_type": "code",
   "execution_count": 21,
   "metadata": {},
   "outputs": [
    {
     "name": "stdout",
     "output_type": "stream",
     "text": [
      "Количество аномальных значений в дате регистрации автомобиля - 30333\n"
     ]
    }
   ],
   "source": [
    "print('Количество аномальных значений в дате регистрации автомобиля -', len(data[(data['registration_year'] <= 1985) | (data['registration_year'] >= 2016)]))"
   ]
  },
  {
   "cell_type": "code",
   "execution_count": 22,
   "metadata": {},
   "outputs": [
    {
     "name": "stdout",
     "output_type": "stream",
     "text": [
      "Соотношение аномальных значений к размер датасета составляет - 8.56\n"
     ]
    }
   ],
   "source": [
    "print('Соотношение аномальных значений к размер датасета составляет - %.2f' % (len(data[(data['registration_year'] <= 1985) | (data['registration_year'] >= 2016)])/ data.shape[0] * 100))"
   ]
  },
  {
   "cell_type": "markdown",
   "metadata": {},
   "source": [
    "**Так как процент удаляемых значений не велик, избавимся от них.**"
   ]
  },
  {
   "cell_type": "code",
   "execution_count": 24,
   "metadata": {},
   "outputs": [],
   "source": [
    "data = (data[(data['registration_year'] >= 1985) & (data['registration_year'] <= 2016)])"
   ]
  },
  {
   "cell_type": "code",
   "execution_count": 25,
   "metadata": {},
   "outputs": [
    {
     "data": {
      "text/plain": [
       "array([1985, 1986, 1987, 1988, 1989, 1990, 1991, 1992, 1993, 1994, 1995,\n",
       "       1996, 1997, 1998, 1999, 2000, 2001, 2002, 2003, 2004, 2005, 2006,\n",
       "       2007, 2008, 2009, 2010, 2011, 2012, 2013, 2014, 2015, 2016])"
      ]
     },
     "execution_count": 25,
     "metadata": {},
     "output_type": "execute_result"
    }
   ],
   "source": [
    "np.sort(data['registration_year'].unique())"
   ]
  },
  {
   "cell_type": "markdown",
   "metadata": {},
   "source": [
    "**Посмотрим на значения в колонке power**"
   ]
  },
  {
   "cell_type": "code",
   "execution_count": 26,
   "metadata": {
    "scrolled": true
   },
   "outputs": [
    {
     "name": "stdout",
     "output_type": "stream",
     "text": [
      "[    0     1     2     3     4     5     6     7     8     9    10    11\n",
      "    12    13    14    15    16    17    18    19    20    21    22    23\n",
      "    24    25    26    27    28    29    30    31    32    33    34    35\n",
      "    36    37    38    39    40    41    42    43    44    45    46    47\n",
      "    48    49    50    51    52    53    54    55    56    57    58    59\n",
      "    60    61    62    63    64    65    66    67    68    69    70    71\n",
      "    72    73    74    75    76    77    78    79    80    81    82    83\n",
      "    84    85    86    87    88    89    90    91    92    93    94    95\n",
      "    96    97    98    99   100   101   102   103   104   105   106   107\n",
      "   108   109   110   111   112   113   114   115   116   117   118   119\n",
      "   120   121   122   123   124   125   126   127   128   129   130   131\n",
      "   132   133   134   135   136   137   138   139   140   141   142   143\n",
      "   144   145   146   147   148   149   150   151   152   153   154   155\n",
      "   156   157   158   159   160   161   162   163   164   165   166   167\n",
      "   168   169   170   171   172   173   174   175   176   177   178   179\n",
      "   180   181   182   183   184   185   186   187   188   189   190   191\n",
      "   192   193   194   195   196   197   198   199   200   201   202   203\n",
      "   204   205   206   207   208   209   210   211   212   213   214   215\n",
      "   216   217   218   219   220   221   222   223   224   225   226   227\n",
      "   228   229   230   231   232   233   234   235   236   237   238   239\n",
      "   240   241   242   243   244   245   246   247   248   249   250   251\n",
      "   252   253   254   255   256   257   258   259   260   261   262   264\n",
      "   265   266   267   268   269   270   271   272   273   274   275   276\n",
      "   277   278   279   280   281   282   283   284   285   286   287   288\n",
      "   289   290   292   293   294   295   296   297   298   299   300   301\n",
      "   303   304   305   306   307   308   309   310   311   313   314   315\n",
      "   316   317   318   320   321   322   323   324   325   326   327   328\n",
      "   329   330   331   332   333   334   335   336   337   338   339   340\n",
      "   341   343   344   345   346   347   348   349   350   351   352   353\n",
      "   354   355   356   357   358   360   361   362   363   364   365   367\n",
      "   368   370   371   374   375   376   377   379   380   381   382   385\n",
      "   386   387   388   390   392   394   396   398   399   400   401   405\n",
      "   408   409   411   416   420   421   426   428   430   431   435   440\n",
      "   442   445   449   450   454   457   459   460   475   476   485   487\n",
      "   489   490   500   504   505   507   508   510   514   515   517   519\n",
      "   520   521   525   530   540   541   544   550   551   553   560   572\n",
      "   574   579   580   584   585   599   600   601   602   603   604   606\n",
      "   610   612   620   640   645   650   651   671   682   685   696   700\n",
      "   702   703   732   743   750   751   754   771   776   800   805   850\n",
      "   851   871   900   902   903   907   909   923   950   952   953   960\n",
      "   998   999  1000  1001  1002  1003  1004  1005  1011  1012  1016  1017\n",
      "  1021  1024  1054  1055  1056  1062  1079  1082  1090  1100  1102  1103\n",
      "  1105  1111  1115  1120  1149  1151  1158  1160  1162  1164  1199  1200\n",
      "  1202  1221  1223  1230  1239  1240  1241  1250  1256  1275  1288  1299\n",
      "  1300  1312  1317  1339  1360  1362  1363  1367  1390  1398  1399  1400\n",
      "  1401  1403  1405  1416  1432  1433  1436  1500  1501  1502  1503  1506\n",
      "  1521  1548  1595  1596  1597  1598  1600  1625  1631  1653  1659  1689\n",
      "  1700  1701  1703  1704  1707  1753  1771  1779  1780  1781  1783  1793\n",
      "  1796  1799  1800  1801  1870  1895  1896  1900  1910  1920  1922  1933\n",
      "  1937  1968  1988  1992  1993  1995  1998  1999  2000  2004  2005  2007\n",
      "  2009  2016  2017  2018  2172  2200  2331  2340  2389  2402  2461  2598\n",
      "  2729  2789  2792  2799  3199  3454  3500  3750  4400  4507  4700  5000\n",
      "  5411  5420  5575  5809  5815  5867  6006  6010  6011  6012  6018  6045\n",
      "  6062  6226  6512  6920  7508  7511  7512  7515  7518  7529  7544  8011\n",
      "  8259  8404  8500  9007  9012  9013  9710 10000 10110 10218 10311 10317\n",
      " 10520 10522 10710 10910 10912 11011 11025 11111 11509 11530 11635 12012\n",
      " 12510 12512 12684 13616 13636 14009 15001 15016 15017 15020 15033 16311\n",
      " 16312 17011 17019 17410 17700 17932 19208 19211 19312 20000]\n"
     ]
    }
   ],
   "source": [
    "print(np.sort(data['power'].unique()))"
   ]
  },
  {
   "cell_type": "markdown",
   "metadata": {},
   "source": [
    "**В колонке присутствуют аномальные значения (0 и значения > 400). От значениий больше 400 избавимся ( для легковой машины значения больше аномальны), а значения равные 0, заменим медианным значением мощности по брендам.**"
   ]
  },
  {
   "cell_type": "code",
   "execution_count": 27,
   "metadata": {},
   "outputs": [
    {
     "name": "stdout",
     "output_type": "stream",
     "text": [
      "Количество аномальных значений в колонке \"Мощность мотора\" - 730\n"
     ]
    }
   ],
   "source": [
    "print('Количество аномальных значений в колонке \"Мощность мотора\" -', len(data[(data['power'] >= 400)]))"
   ]
  },
  {
   "cell_type": "code",
   "execution_count": 28,
   "metadata": {},
   "outputs": [],
   "source": [
    "data = data[data['power'] <= 400]"
   ]
  },
  {
   "cell_type": "code",
   "execution_count": 29,
   "metadata": {},
   "outputs": [],
   "source": [
    "dict_with_medians_power = data.groupby('brand')['power'].median().to_dict()"
   ]
  },
  {
   "cell_type": "code",
   "execution_count": 30,
   "metadata": {},
   "outputs": [],
   "source": [
    "def replacing_zeros(row):\n",
    "    power = row['power']\n",
    "    brand = row['brand']\n",
    "    if power == 0:\n",
    "        power = int(dict_with_medians_power[brand])\n",
    "    return power\n",
    "\n",
    "\n",
    "data.loc[(data['power'] == 0) , 'power'] = data.apply(replacing_zeros, axis=1)       "
   ]
  },
  {
   "cell_type": "markdown",
   "metadata": {},
   "source": [
    "**Посмотрим на значения в колонке registration_month**"
   ]
  },
  {
   "cell_type": "code",
   "execution_count": 31,
   "metadata": {},
   "outputs": [
    {
     "data": {
      "text/plain": [
       "array([ 0,  5,  8,  6,  7, 10, 12, 11,  2,  3,  1,  4,  9])"
      ]
     },
     "execution_count": 31,
     "metadata": {},
     "output_type": "execute_result"
    }
   ],
   "source": [
    "data['registration_month'].unique()"
   ]
  },
  {
   "cell_type": "code",
   "execution_count": 24,
   "metadata": {},
   "outputs": [
    {
     "data": {
      "image/png": "[encoded data removed]",
      "text/plain": [
       "<Figure size 720x504 with 1 Axes>"
      ]
     },
     "metadata": {},
     "output_type": "display_data"
    }
   ],
   "source": [
    "plt.figure(figsize=[10, 7])\n",
    "plt.suptitle('ГИСТОГРАММА ДЛЯ МЕСЯЦА РЕГИСТРАЦИИ.', fontsize=15)\n",
    "sns.set_style('darkgrid')\n",
    "sns.histplot(data=data['registration_month'], color='b', kde=False);"
   ]
  },
  {
   "cell_type": "markdown",
   "metadata": {},
   "source": [
    "**В данных значение 0 может означать первый месяц,если использовался диапазон от 0-11, либо могли использовать диапазон от 1-12, тогда 0 - обозначает может значить, что месяц регистрации не известен( возможно так же, что данные были утеряна при выгрузке). Предлагаю оставить как есть.**"
   ]
  },
  {
   "cell_type": "markdown",
   "metadata": {},
   "source": [
    "**Посмотрим зна значения в колонке price**"
   ]
  },
  {
   "cell_type": "code",
   "execution_count": 32,
   "metadata": {
    "scrolled": false
   },
   "outputs": [
    {
     "name": "stdout",
     "output_type": "stream",
     "text": [
      "[    0     1     2 ... 19998 19999 20000]\n"
     ]
    }
   ],
   "source": [
    "print(np.sort(data['price'].unique()))"
   ]
  },
  {
   "cell_type": "markdown",
   "metadata": {},
   "source": [
    "**Обнаружена цены с нулевым значением**"
   ]
  },
  {
   "cell_type": "code",
   "execution_count": 33,
   "metadata": {},
   "outputs": [
    {
     "name": "stdout",
     "output_type": "stream",
     "text": [
      "Количество строк , для которых цена равна 0 - 9530\n",
      "Соотношение кол-ва сток с нулевой ценой к общему размеру -  2.855807207541968\n"
     ]
    }
   ],
   "source": [
    "print('Количество строк , для которых цена равна 0 -', len(data[data['price'] == 0]))\n",
    "print('Соотношение кол-ва сток с нулевой ценой к общему размеру - ', (len(data[data['price'] == 0]) / data.shape[0]) * 100)"
   ]
  },
  {
   "cell_type": "markdown",
   "metadata": {},
   "source": [
    "**Кол-во строк с пропусками не велико по отношению ко всему размеру датасета, поэтому избавимся от таких строк.**"
   ]
  },
  {
   "cell_type": "code",
   "execution_count": 34,
   "metadata": {},
   "outputs": [],
   "source": [
    "data = data.query('price != 0')"
   ]
  },
  {
   "cell_type": "markdown",
   "metadata": {},
   "source": [
    "**Посмотрим на значения в колонке fuel_type**"
   ]
  },
  {
   "cell_type": "code",
   "execution_count": 35,
   "metadata": {},
   "outputs": [
    {
     "data": {
      "text/plain": [
       "array(['petrol', 'gasoline', nan, 'lpg', 'other', 'hybrid', 'cng',\n",
       "       'electric'], dtype=object)"
      ]
     },
     "execution_count": 35,
     "metadata": {},
     "output_type": "execute_result"
    }
   ],
   "source": [
    "data['fuel_type'].unique()"
   ]
  },
  {
   "cell_type": "code",
   "execution_count": 36,
   "metadata": {
    "scrolled": false
   },
   "outputs": [
    {
     "name": "stdout",
     "output_type": "stream",
     "text": [
      "Количество строк с NAN в типе двигателя - 23234\n"
     ]
    }
   ],
   "source": [
    "print('Количество строк с NAN в типе двигателя -', len(data[data['fuel_type'].isna()]))"
   ]
  },
  {
   "cell_type": "markdown",
   "metadata": {},
   "source": [
    "**И petrol и gasoline подразумевают бензин, поэтому заменим gasoline на petrol. Пропуски заменим  часто повторяющимся значением основанным на группировке по бренду.**"
   ]
  },
  {
   "cell_type": "code",
   "execution_count": 37,
   "metadata": {},
   "outputs": [],
   "source": [
    "data['fuel_type'] = data['fuel_type'].replace('gasoline', 'petrol')"
   ]
  },
  {
   "cell_type": "code",
   "execution_count": 38,
   "metadata": {},
   "outputs": [],
   "source": [
    "data['fuel_type'] = data.groupby(['brand'])['fuel_type'].transform(lambda x: x.fillna((x.mode()[0] if not x.mode().empty else 'other')))"
   ]
  },
  {
   "cell_type": "code",
   "execution_count": 39,
   "metadata": {},
   "outputs": [
    {
     "data": {
      "text/plain": [
       "array(['petrol', 'lpg', 'other', 'hybrid', 'cng', 'electric'],\n",
       "      dtype=object)"
      ]
     },
     "execution_count": 39,
     "metadata": {},
     "output_type": "execute_result"
    }
   ],
   "source": [
    "data['fuel_type'].unique()"
   ]
  },
  {
   "cell_type": "code",
   "execution_count": 40,
   "metadata": {},
   "outputs": [
    {
     "name": "stdout",
     "output_type": "stream",
     "text": [
      "Кол-во строк со значением fuel_type равное other - 128\n"
     ]
    }
   ],
   "source": [
    "print('Кол-во строк со значением fuel_type равное other -', len(data[data['fuel_type'] == 'other']))"
   ]
  },
  {
   "cell_type": "markdown",
   "metadata": {},
   "source": [
    "**Количество строк не велико.Предлагаю убрать такие строки из датасета**"
   ]
  },
  {
   "cell_type": "code",
   "execution_count": 41,
   "metadata": {},
   "outputs": [],
   "source": [
    "data = data[data['fuel_type'] != 'other']"
   ]
  },
  {
   "cell_type": "markdown",
   "metadata": {},
   "source": [
    "**Посмотрим на колонку brand**"
   ]
  },
  {
   "cell_type": "code",
   "execution_count": 42,
   "metadata": {
    "scrolled": false
   },
   "outputs": [
    {
     "data": {
      "text/plain": [
       "array(['volkswagen', 'audi', 'jeep', 'skoda', 'bmw', 'peugeot', 'ford',\n",
       "       'mazda', 'nissan', 'renault', 'mercedes_benz', 'seat', 'honda',\n",
       "       'fiat', 'opel', 'mini', 'smart', 'hyundai', 'sonstige_autos',\n",
       "       'alfa_romeo', 'subaru', 'volvo', 'mitsubishi', 'kia', 'lancia',\n",
       "       'citroen', 'toyota', 'chevrolet', 'dacia', 'suzuki', 'daihatsu',\n",
       "       'trabant', 'chrysler', 'jaguar', 'daewoo', 'porsche', 'rover',\n",
       "       'saab', 'land_rover', 'lada'], dtype=object)"
      ]
     },
     "execution_count": 42,
     "metadata": {},
     "output_type": "execute_result"
    }
   ],
   "source": [
    "data['brand'].unique()"
   ]
  },
  {
   "cell_type": "markdown",
   "metadata": {},
   "source": [
    "**Посмотрим на колонку model**"
   ]
  },
  {
   "cell_type": "code",
   "execution_count": 43,
   "metadata": {
    "scrolled": true
   },
   "outputs": [
    {
     "data": {
      "text/plain": [
       "array(['golf', nan, 'grand', 'fabia', '3er', '2_reihe', 'c_max',\n",
       "       '3_reihe', 'passat', 'navara', 'polo', 'twingo', 'a_klasse',\n",
       "       'scirocco', '5er', 'arosa', 'other', 'civic', 'punto', 'e_klasse',\n",
       "       'clio', 'kadett', 'kangoo', 'one', 'fortwo', '1er', 'b_klasse',\n",
       "       'signum', 'astra', 'a8', 'jetta', 'fiesta', 'c_klasse', 'micra',\n",
       "       'vito', 'sprinter', '156', 'escort', 'forester', 'xc_reihe',\n",
       "       'scenic', 'a4', 'ka', 'a1', 'insignia', 'transporter', 'combo',\n",
       "       'focus', 'tt', 'corsa', 'a6', 'jazz', 'omega', 'slk', '7er', '80',\n",
       "       '147', '100', 'z_reihe', 'sorento', 'v40', 'ibiza', 'mustang',\n",
       "       'eos', 'touran', 'getz', 'a3', 'almera', 'megane', 'lupo', 'r19',\n",
       "       'caddy', 'mondeo', 'cordoba', 'colt', 'impreza', 'vectra',\n",
       "       'berlingo', 'tiguan', 'sharan', '6_reihe', 'c4', 'panda', 'up',\n",
       "       'i_reihe', 'ceed', '5_reihe', 'yeti', 'octavia', 'zafira', 'mii',\n",
       "       'rx_reihe', 'modus', 'fox', 'matiz', 'beetle', 'rio', 'touareg',\n",
       "       'logan', 'spider', 'cuore', 's_max', 'a2', 'galaxy', 'c3', 'viano',\n",
       "       's_klasse', '1_reihe', 'avensis', 'roomster', 'santa', 'cooper',\n",
       "       'leon', '4_reihe', 'a5', 'sportage', 'laguna', 'ptcruiser', 'clk',\n",
       "       'primera', 'espace', 'x_reihe', 'exeo', '159', 'transit', 'juke',\n",
       "       'qashqai', 'carisma', 'accord', 'corolla', 'lanos', 'phaeton',\n",
       "       'verso', 'swift', 'rav', 'picanto', 'boxster', 'kalos', 'superb',\n",
       "       'stilo', 'alhambra', 'mx_reihe', 'roadster', 'ypsilon', 'cayenne',\n",
       "       'galant', 'justy', '90', 'sirion', 'crossfire', 'agila', 'duster',\n",
       "       'v50', 'meriva', 'c_reihe', 'v_klasse', 'm_klasse', 'yaris', 'c5',\n",
       "       'aygo', 'seicento', 'cc', 'carnival', 'fusion', '911', 'bora',\n",
       "       'forfour', 'cl', 'tigra', '300c', '500', 'cr_reihe', 'spark',\n",
       "       'v70', 'kuga', 'x_type', 'ducato', 's_type', 'x_trail', 'toledo',\n",
       "       'altea', 'voyager', 'calibra', 'bravo', 'antara', 'tucson', 'c1',\n",
       "       'citigo', 'jimny', 'wrangler', 'lybra', 'q7', 'lancer', 'captiva',\n",
       "       'sl', 'discovery', 'freelander', 'sandero', 'note', '900',\n",
       "       'cherokee', 'clubman', 'samara', 'defender', 'cx_reihe', 'legacy',\n",
       "       'pajero', 'auris', 'c2', 'niva', 's60', 'm_reihe', 'nubira',\n",
       "       'vivaro', 'g_klasse', 'lodgy', '850', 'range_rover', '601', 'q3',\n",
       "       'glk', 'charade', 'croma', 'outlander', 'kaefer', 'doblo', 'musa',\n",
       "       'move', '9000', 'v60', '145', '6er', 'b_max', '200',\n",
       "       'range_rover_sport', 'aveo', 'terios', 'rangerover', 'q5',\n",
       "       'range_rover_evoque', 'materia', 'delta', 'gl', 'kalina',\n",
       "       'elefantino', 'i3', 'amarok', 'kappa'], dtype=object)"
      ]
     },
     "execution_count": 43,
     "metadata": {},
     "output_type": "execute_result"
    }
   ],
   "source": [
    "data['model'].unique()"
   ]
  },
  {
   "cell_type": "markdown",
   "metadata": {},
   "source": [
    "**В колонке присутствуют пропуски. Заменим их часто повторяющимся значением основанным на группировке по брендку и году регистрации**"
   ]
  },
  {
   "cell_type": "code",
   "execution_count": 44,
   "metadata": {},
   "outputs": [],
   "source": [
    "data['model'] = data.groupby(['brand', 'registration_year'])['model'].transform(lambda x: x.fillna((x.mode()[0] if not x.mode().empty else 'other')))"
   ]
  },
  {
   "cell_type": "markdown",
   "metadata": {},
   "source": [
    "**Рассмотрим колонку not_repaired**"
   ]
  },
  {
   "cell_type": "code",
   "execution_count": 45,
   "metadata": {
    "scrolled": true
   },
   "outputs": [
    {
     "data": {
      "text/plain": [
       "array([nan, 'yes', 'no'], dtype=object)"
      ]
     },
     "execution_count": 45,
     "metadata": {},
     "output_type": "execute_result"
    }
   ],
   "source": [
    "data['not_repaired'].unique()"
   ]
  },
  {
   "cell_type": "markdown",
   "metadata": {},
   "source": [
    "**Отсутствие значения может обозначать то, что машина в ремонте не была. Посмотрим на распределение значений.**"
   ]
  },
  {
   "cell_type": "code",
   "execution_count": 46,
   "metadata": {},
   "outputs": [],
   "source": [
    "data['not_repaired'] = data['not_repaired'].fillna('other')"
   ]
  },
  {
   "cell_type": "code",
   "execution_count": 47,
   "metadata": {},
   "outputs": [
    {
     "data": {
      "image/png": "[encoded data removed]",
      "text/plain": [
       "<Figure size 720x504 with 1 Axes>"
      ]
     },
     "metadata": {},
     "output_type": "display_data"
    }
   ],
   "source": [
    "plt.figure(figsize=[10, 7])\n",
    "plt.suptitle('ГИСТОГРАММЫ ДЛЯ ЦИФРОВЫХ ПРИЗНАКОВ.', fontsize=15)\n",
    "sns.set_style('darkgrid')\n",
    "sns.histplot(data['not_repaired'], color='b', kde=False);"
   ]
  },
  {
   "cell_type": "markdown",
   "metadata": {},
   "source": [
    "**Заполним отсутствующние значения - No**"
   ]
  },
  {
   "cell_type": "code",
   "execution_count": 48,
   "metadata": {},
   "outputs": [],
   "source": [
    "data['not_repaired'] = data['not_repaired'].replace('other','no')"
   ]
  },
  {
   "cell_type": "markdown",
   "metadata": {},
   "source": [
    "**Рассмотрим колонку \"Тип машины\"**"
   ]
  },
  {
   "cell_type": "code",
   "execution_count": 49,
   "metadata": {
    "scrolled": true
   },
   "outputs": [
    {
     "data": {
      "text/plain": [
       "array([nan, 'coupe', 'suv', 'small', 'sedan', 'convertible', 'bus',\n",
       "       'wagon', 'other'], dtype=object)"
      ]
     },
     "execution_count": 49,
     "metadata": {},
     "output_type": "execute_result"
    }
   ],
   "source": [
    "data['vehicle_type'].unique()"
   ]
  },
  {
   "cell_type": "markdown",
   "metadata": {},
   "source": [
    "**В колонке есть пропуски, заменим их часто повторяющимся значением основанным на группировке по брендку и модели.**"
   ]
  },
  {
   "cell_type": "code",
   "execution_count": 50,
   "metadata": {},
   "outputs": [],
   "source": [
    "data['vehicle_type'] = data.groupby(['brand', 'model'])['vehicle_type'].transform(lambda x: x.fillna((x.mode()[0] if not x.mode().empty else 'other')))"
   ]
  },
  {
   "cell_type": "code",
   "execution_count": 51,
   "metadata": {
    "scrolled": false
   },
   "outputs": [
    {
     "name": "stdout",
     "output_type": "stream",
     "text": [
      "Количество строк с типо машины - other - 2851\n"
     ]
    }
   ],
   "source": [
    "print('Количество строк с типо машины - other -', len(data[data['vehicle_type'] == 'other']))"
   ]
  },
  {
   "cell_type": "markdown",
   "metadata": {},
   "source": [
    "**Так как таких строк не много, удалим их**"
   ]
  },
  {
   "cell_type": "code",
   "execution_count": 52,
   "metadata": {},
   "outputs": [],
   "source": [
    "data = data[data['vehicle_type'] != 'other']"
   ]
  },
  {
   "cell_type": "markdown",
   "metadata": {},
   "source": [
    "**Рассмотрим колонку gearbox**"
   ]
  },
  {
   "cell_type": "code",
   "execution_count": 53,
   "metadata": {
    "scrolled": true
   },
   "outputs": [
    {
     "data": {
      "text/plain": [
       "array(['manual', 'auto', nan], dtype=object)"
      ]
     },
     "execution_count": 53,
     "metadata": {},
     "output_type": "execute_result"
    }
   ],
   "source": [
    "data['gearbox'].unique()"
   ]
  },
  {
   "cell_type": "markdown",
   "metadata": {},
   "source": [
    "**Пропуски заменим часто повторяющимся значением основанным на группировке по бренду и модели. Если оставшихся неопределенных значений будет не много, удалим их**"
   ]
  },
  {
   "cell_type": "code",
   "execution_count": 54,
   "metadata": {},
   "outputs": [],
   "source": [
    "data['gearbox'] = data.groupby(['brand', 'model'])['gearbox'].transform(lambda x: x.fillna((x.mode()[0] if not x.mode().empty else 'other')))"
   ]
  },
  {
   "cell_type": "code",
   "execution_count": 55,
   "metadata": {
    "scrolled": true
   },
   "outputs": [
    {
     "name": "stdout",
     "output_type": "stream",
     "text": [
      "Количество строк с типом коробки other - 0\n"
     ]
    }
   ],
   "source": [
    "print('Количество строк с типом коробки other -', len(data[data['gearbox'] == 'other']))"
   ]
  },
  {
   "cell_type": "markdown",
   "metadata": {},
   "source": [
    "**Рассмотрим распределение значений в колонках с цифровыми значениями.**"
   ]
  },
  {
   "cell_type": "code",
   "execution_count": 56,
   "metadata": {},
   "outputs": [
    {
     "data": {
      "image/png": "[encoded data removed]",
      "text/plain": [
       "<Figure size 1080x1440 with 14 Axes>"
      ]
     },
     "metadata": {},
     "output_type": "display_data"
    }
   ],
   "source": [
    "position = 0\n",
    "num_region = None\n",
    "plt.figure(figsize=[15, 20])\n",
    "plt.subplots_adjust(top=0.94, wspace=0.3, hspace=0.95)\n",
    "plt.suptitle('ЯЩИК С УСАМИ ДЛЯ ЦИФРОВЫХ ПРИЗНАКОВ.', fontsize=15)\n",
    "\n",
    "number = len(data.loc[:, data.dtypes == np.int64].dtypes.index)\n",
    "columns_witn_int = data.loc[:, data.dtypes == np.int64].dtypes.index\n",
    "for column_name in columns_witn_int:\n",
    "    position += 1\n",
    "    plt.subplot(number, 2, position)\n",
    "    plt.title(f'BOXPLOT ДЛЯ {column_name.upper()}', fontsize=10)\n",
    "    sns.set_style('darkgrid')\n",
    "    sns.boxplot(data=data[column_name], orient='h')\n",
    "    plt.axvline(np.mean(data[column_name]), \n",
    "               color='r', \n",
    "               linestyle='-',\n",
    "               label='СРЕДНЕЕ')\n",
    "    plt.legend(title=f'СРЕДНЕЕ = {np.mean(data[column_name]):.2f}, МЕДИАНА = {np.median(data[column_name]):.2f}', \n",
    "               loc='center', \n",
    "               edgecolor = 'r',\n",
    "               facecolor = 'oldlace',\n",
    "               bbox_to_anchor=(0.5, -0.40))\n",
    "    position += 1\n",
    "    plt.subplot(number, 2, position)\n",
    "    sns.set_style('darkgrid')\n",
    "    plt.title(f'Гистограмма ДЛЯ {column_name.upper()}', fontsize=10)\n",
    "    sns.histplot(data=data[column_name], color='b', kde=False)\n",
    "plt.show();"
   ]
  },
  {
   "cell_type": "markdown",
   "metadata": {},
   "source": [
    "**В данных присутствуют аномалии и разброс.**"
   ]
  },
  {
   "cell_type": "code",
   "execution_count": 57,
   "metadata": {},
   "outputs": [
    {
     "name": "stdout",
     "output_type": "stream",
     "text": [
      "Количество обнаруженных явных дубликатов - 1\n",
      "Количество явных дубликтов после удаления - 0\n"
     ]
    }
   ],
   "source": [
    "if (data.duplicated().sum()) > 0:\n",
    "    print('Количество обнаруженных явных дубликатов -', data.duplicated().sum())\n",
    "    data = data.drop_duplicates().reset_index(drop=True)\n",
    "    print('Количество явных дубликтов после удаления -',data.duplicated().sum())\n",
    "    "
   ]
  },
  {
   "cell_type": "code",
   "execution_count": 58,
   "metadata": {},
   "outputs": [
    {
     "name": "stdout",
     "output_type": "stream",
     "text": [
      "<class 'pandas.core.frame.DataFrame'>\n",
      "RangeIndex: 321196 entries, 0 to 321195\n",
      "Data columns (total 16 columns):\n",
      " #   Column              Non-Null Count   Dtype         \n",
      "---  ------              --------------   -----         \n",
      " 0   date_crawled        321196 non-null  datetime64[ns]\n",
      " 1   price               321196 non-null  int64         \n",
      " 2   vehicle_type        321196 non-null  object        \n",
      " 3   registration_year   321196 non-null  int64         \n",
      " 4   gearbox             321196 non-null  object        \n",
      " 5   power               321196 non-null  int64         \n",
      " 6   model               321196 non-null  object        \n",
      " 7   kilometer           321196 non-null  int64         \n",
      " 8   registration_month  321196 non-null  int64         \n",
      " 9   fuel_type           321196 non-null  object        \n",
      " 10  brand               321196 non-null  object        \n",
      " 11  not_repaired        321196 non-null  object        \n",
      " 12  date_created        321196 non-null  datetime64[ns]\n",
      " 13  number_of_pictures  321196 non-null  int64         \n",
      " 14  postal_code         321196 non-null  int64         \n",
      " 15  last_seen           321196 non-null  datetime64[ns]\n",
      "dtypes: datetime64[ns](3), int64(7), object(6)\n",
      "memory usage: 39.2+ MB\n"
     ]
    }
   ],
   "source": [
    "data.info()"
   ]
  },
  {
   "cell_type": "markdown",
   "metadata": {},
   "source": [
    "### Вывод"
   ]
  },
  {
   "cell_type": "markdown",
   "metadata": {},
   "source": [
    "**В данных:**\n",
    "\n",
    "- **Регистр названиий колонок не соответствовал snake_case**\n",
    "\n",
    "- **Присутствовали пропуски**\n",
    "\n",
    "- **Обнаружены аномальные значения**"
   ]
  },
  {
   "cell_type": "markdown",
   "metadata": {},
   "source": [
    "## Обучение моделей"
   ]
  },
  {
   "cell_type": "markdown",
   "metadata": {},
   "source": [
    "**Посмотрим на корреляцию значений.**"
   ]
  },
  {
   "cell_type": "markdown",
   "metadata": {},
   "source": [
    "**Избавимся от колонок, содержимое которых может негативно повлиять на дальнейшее обучение моделей.**"
   ]
  },
  {
   "cell_type": "code",
   "execution_count": 59,
   "metadata": {
    "scrolled": true
   },
   "outputs": [
    {
     "data": {
      "text/html": [
       "<div>\n",
       "<style scoped>\n",
       "    .dataframe tbody tr th:only-of-type {\n",
       "        vertical-align: middle;\n",
       "    }\n",
       "\n",
       "    .dataframe tbody tr th {\n",
       "        vertical-align: top;\n",
       "    }\n",
       "\n",
       "    .dataframe thead th {\n",
       "        text-align: right;\n",
       "    }\n",
       "</style>\n",
       "<table border=\"1\" class=\"dataframe\">\n",
       "  <thead>\n",
       "    <tr style=\"text-align: right;\">\n",
       "      <th></th>\n",
       "      <th>price</th>\n",
       "      <th>registration_year</th>\n",
       "      <th>power</th>\n",
       "      <th>kilometer</th>\n",
       "      <th>registration_month</th>\n",
       "      <th>number_of_pictures</th>\n",
       "      <th>postal_code</th>\n",
       "    </tr>\n",
       "  </thead>\n",
       "  <tbody>\n",
       "    <tr>\n",
       "      <th>price</th>\n",
       "      <td>1.000000</td>\n",
       "      <td>0.566843</td>\n",
       "      <td>0.512123</td>\n",
       "      <td>-0.362372</td>\n",
       "      <td>0.095248</td>\n",
       "      <td>NaN</td>\n",
       "      <td>0.071039</td>\n",
       "    </tr>\n",
       "    <tr>\n",
       "      <th>registration_year</th>\n",
       "      <td>0.566843</td>\n",
       "      <td>1.000000</td>\n",
       "      <td>0.130927</td>\n",
       "      <td>-0.349040</td>\n",
       "      <td>0.051100</td>\n",
       "      <td>NaN</td>\n",
       "      <td>0.035308</td>\n",
       "    </tr>\n",
       "    <tr>\n",
       "      <th>power</th>\n",
       "      <td>0.512123</td>\n",
       "      <td>0.130927</td>\n",
       "      <td>1.000000</td>\n",
       "      <td>0.099179</td>\n",
       "      <td>0.055423</td>\n",
       "      <td>NaN</td>\n",
       "      <td>0.060425</td>\n",
       "    </tr>\n",
       "    <tr>\n",
       "      <th>kilometer</th>\n",
       "      <td>-0.362372</td>\n",
       "      <td>-0.349040</td>\n",
       "      <td>0.099179</td>\n",
       "      <td>1.000000</td>\n",
       "      <td>-0.005394</td>\n",
       "      <td>NaN</td>\n",
       "      <td>-0.010531</td>\n",
       "    </tr>\n",
       "    <tr>\n",
       "      <th>registration_month</th>\n",
       "      <td>0.095248</td>\n",
       "      <td>0.051100</td>\n",
       "      <td>0.055423</td>\n",
       "      <td>-0.005394</td>\n",
       "      <td>1.000000</td>\n",
       "      <td>NaN</td>\n",
       "      <td>0.008297</td>\n",
       "    </tr>\n",
       "    <tr>\n",
       "      <th>number_of_pictures</th>\n",
       "      <td>NaN</td>\n",
       "      <td>NaN</td>\n",
       "      <td>NaN</td>\n",
       "      <td>NaN</td>\n",
       "      <td>NaN</td>\n",
       "      <td>NaN</td>\n",
       "      <td>NaN</td>\n",
       "    </tr>\n",
       "    <tr>\n",
       "      <th>postal_code</th>\n",
       "      <td>0.071039</td>\n",
       "      <td>0.035308</td>\n",
       "      <td>0.060425</td>\n",
       "      <td>-0.010531</td>\n",
       "      <td>0.008297</td>\n",
       "      <td>NaN</td>\n",
       "      <td>1.000000</td>\n",
       "    </tr>\n",
       "  </tbody>\n",
       "</table>\n",
       "</div>"
      ],
      "text/plain": [
       "                       price  registration_year     power  kilometer  \\\n",
       "price               1.000000           0.566843  0.512123  -0.362372   \n",
       "registration_year   0.566843           1.000000  0.130927  -0.349040   \n",
       "power               0.512123           0.130927  1.000000   0.099179   \n",
       "kilometer          -0.362372          -0.349040  0.099179   1.000000   \n",
       "registration_month  0.095248           0.051100  0.055423  -0.005394   \n",
       "number_of_pictures       NaN                NaN       NaN        NaN   \n",
       "postal_code         0.071039           0.035308  0.060425  -0.010531   \n",
       "\n",
       "                    registration_month  number_of_pictures  postal_code  \n",
       "price                         0.095248                 NaN     0.071039  \n",
       "registration_year             0.051100                 NaN     0.035308  \n",
       "power                         0.055423                 NaN     0.060425  \n",
       "kilometer                    -0.005394                 NaN    -0.010531  \n",
       "registration_month            1.000000                 NaN     0.008297  \n",
       "number_of_pictures                 NaN                 NaN          NaN  \n",
       "postal_code                   0.008297                 NaN     1.000000  "
      ]
     },
     "execution_count": 59,
     "metadata": {},
     "output_type": "execute_result"
    }
   ],
   "source": [
    "data.corr()"
   ]
  },
  {
   "cell_type": "markdown",
   "metadata": {},
   "source": [
    "**Для postal_code корреляция слабая. У месяца регистрации значение близкое к 0.1, считаю нужным оставить.**"
   ]
  },
  {
   "cell_type": "code",
   "execution_count": 60,
   "metadata": {},
   "outputs": [],
   "source": [
    "data = data.drop(['date_crawled', 'date_created', 'number_of_pictures', 'postal_code', 'last_seen', 'registration_month'], axis=1)"
   ]
  },
  {
   "cell_type": "code",
   "execution_count": 61,
   "metadata": {},
   "outputs": [],
   "source": [
    "data = data.astype({\"vehicle_type\":'category', \n",
    "                    \"gearbox\":'category', \n",
    "                    \"model\":'category', \n",
    "                    \"fuel_type\":'category', \n",
    "                    \"brand\":'category', \n",
    "                    \"not_repaired\":'category'})"
   ]
  },
  {
   "cell_type": "code",
   "execution_count": 62,
   "metadata": {},
   "outputs": [],
   "source": [
    "dct_with_params = {}"
   ]
  },
  {
   "cell_type": "markdown",
   "metadata": {},
   "source": [
    "**Далее подберу лучшие параметры и обучу по ним модель.**"
   ]
  },
  {
   "cell_type": "markdown",
   "metadata": {},
   "source": [
    "### Модель DecisionTreeRegressor"
   ]
  },
  {
   "cell_type": "code",
   "execution_count": 63,
   "metadata": {},
   "outputs": [],
   "source": [
    "state = RandomState(12345)"
   ]
  },
  {
   "cell_type": "code",
   "execution_count": 64,
   "metadata": {},
   "outputs": [],
   "source": [
    "features = data.drop('price', axis=1)\n",
    "target = data['price']"
   ]
  },
  {
   "cell_type": "code",
   "execution_count": 65,
   "metadata": {},
   "outputs": [],
   "source": [
    "ft_train_le, ft_test_le, tr_train_le, tr_test_le = train_test_split(features, target, test_size=0.25, random_state=12345)"
   ]
  },
  {
   "cell_type": "code",
   "execution_count": 66,
   "metadata": {
    "scrolled": true
   },
   "outputs": [
    {
     "name": "stderr",
     "output_type": "stream",
     "text": [
      "/tmp/ipykernel_36/2174029615.py:4: SettingWithCopyWarning: \n",
      "A value is trying to be set on a copy of a slice from a DataFrame.\n",
      "Try using .loc[row_indexer,col_indexer] = value instead\n",
      "\n",
      "See the caveats in the documentation: https://pandas.pydata.org/pandas-docs/stable/user_guide/indexing.html#returning-a-view-versus-a-copy\n",
      "  ft_train_le[column] = label_encode.fit_transform(ft_train_le[column].astype('str'))\n",
      "/tmp/ipykernel_36/2174029615.py:5: SettingWithCopyWarning: \n",
      "A value is trying to be set on a copy of a slice from a DataFrame.\n",
      "Try using .loc[row_indexer,col_indexer] = value instead\n",
      "\n",
      "See the caveats in the documentation: https://pandas.pydata.org/pandas-docs/stable/user_guide/indexing.html#returning-a-view-versus-a-copy\n",
      "  ft_test_le[column] = label_encode.fit_transform(ft_test_le[column].astype('str'))\n"
     ]
    }
   ],
   "source": [
    "text_columns = ['vehicle_type', 'gearbox', 'model', 'fuel_type', 'brand', 'not_repaired']\n",
    "label_encode = LabelEncoder()\n",
    "for column in text_columns:\n",
    "    ft_train_le[column] = label_encode.fit_transform(ft_train_le[column].astype('str'))\n",
    "    ft_test_le[column] = label_encode.fit_transform(ft_test_le[column].astype('str'))"
   ]
  },
  {
   "cell_type": "code",
   "execution_count": 67,
   "metadata": {},
   "outputs": [],
   "source": [
    "del label_encode"
   ]
  },
  {
   "cell_type": "code",
   "execution_count": 68,
   "metadata": {},
   "outputs": [],
   "source": [
    "del data"
   ]
  },
  {
   "cell_type": "code",
   "execution_count": null,
   "metadata": {},
   "outputs": [],
   "source": [
    "# %%time\n",
    "# best_rmse_for_dt = None\n",
    "# for n in range(1, 20, 1):\n",
    "#     model_dt = DecisionTreeRegressor(max_depth=n, random_state=state)\n",
    "#     dt_score = cross_val_score(model_dt, \n",
    "#                                features_train,\n",
    "#                                target_train,\n",
    "#                                scoring=rmse_score,\n",
    "#                                cv=5)\n",
    "#     dt_score_final = dt_score.mean()*(-1)\n",
    "# #     print(dt_score_final, n)\n",
    "#     if best_rmse_for_dt is None:\n",
    "#         best_rmse_for_dt = dt_score_final\n",
    "#         dct_with_params['DT'] = {'max_depth': n}\n",
    "#     if dt_score_final < best_rmse_for_dt:\n",
    "#         best_rmse_for_dt = dt_score_final\n",
    "#         dct_with_params['DT'] = {'max_depth': n, 'RMSE': best_rmse_for_dt}"
   ]
  },
  {
   "cell_type": "code",
   "execution_count": 70,
   "metadata": {
    "scrolled": true
   },
   "outputs": [
    {
     "name": "stdout",
     "output_type": "stream",
     "text": [
      "CPU times: user 8.5 s, sys: 11.8 ms, total: 8.51 s\n",
      "Wall time: 8.53 s\n"
     ]
    }
   ],
   "source": [
    "%%time\n",
    "start_time = time.time()\n",
    "decision_tree = DecisionTreeRegressor()\n",
    "distributions = dict(max_depth=np.arange(1,10,1), splitter=['best', 'random'])\n",
    "dtr = RandomizedSearchCV(decision_tree, distributions, scoring='neg_mean_squared_error',  random_state=state)\n",
    "dtr.fit(ft_train_le, tr_train_le)\n",
    "end_time = time.time()\n",
    "sh_time = (end_time - start_time) / 60\n",
    "score_rmse = (-dtr.best_score_) ** 0.5\n",
    "dct_with_params['DT'] = dtr.best_params_\n",
    "dct_with_params['DT'].update(train_rmse=score_rmse,search_time=sh_time)"
   ]
  },
  {
   "cell_type": "code",
   "execution_count": 71,
   "metadata": {},
   "outputs": [],
   "source": [
    "del dtr"
   ]
  },
  {
   "cell_type": "code",
   "execution_count": 72,
   "metadata": {},
   "outputs": [],
   "source": [
    "del decision_tree"
   ]
  },
  {
   "cell_type": "code",
   "execution_count": 73,
   "metadata": {},
   "outputs": [
    {
     "name": "stdout",
     "output_type": "stream",
     "text": [
      "CPU times: user 535 ms, sys: 18 µs, total: 535 ms\n",
      "Wall time: 540 ms\n"
     ]
    }
   ],
   "source": [
    "%%time\n",
    "test_model_dt = DecisionTreeRegressor(max_depth=dct_with_params['DT']['max_depth'], random_state=state)\n",
    "start_time = time.time()\n",
    "test_model_dt.fit(ft_train_le, tr_train_le)\n",
    "end_time = time.time()\n",
    "tr_time = (end_time - start_time) / 60"
   ]
  },
  {
   "cell_type": "code",
   "execution_count": 74,
   "metadata": {},
   "outputs": [],
   "source": [
    "dct_with_params['DT'].update(train_time=tr_time)"
   ]
  },
  {
   "cell_type": "markdown",
   "metadata": {},
   "source": [
    "### Модель RandomForestRegressor"
   ]
  },
  {
   "cell_type": "code",
   "execution_count": null,
   "metadata": {},
   "outputs": [],
   "source": [
    "# %%time\n",
    "# best_rmse_for_rf = None\n",
    "# for n in [10,50]:\n",
    "#     for d in range(2,10,2):\n",
    "#         model_rf = RandomForestRegressor(n_estimators=n, max_depth=d, random_state=state)\n",
    "#         rf_score = cross_val_score(model_rf, \n",
    "#                                    features_train,\n",
    "#                                    target_train,\n",
    "#                                    scoring=rmse_score,\n",
    "#                                    cv=5)\n",
    "#         rf_score_final = rf_score.mean()*(-1)\n",
    "#         print(rf_score_final, n, d)\n",
    "#         if best_rmse_for_rf is None:\n",
    "#             best_rmse_for_rf = rf_score_final\n",
    "#             dct_with_params['RF'] = {'n_estimators':n ,'max_depth': d}\n",
    "#         if rf_score_final < best_rmse_for_rf:\n",
    "#             best_rmse_for_rf = rf_score_final\n",
    "#             dct_with_params['RF'] = {'n_estimators':n ,'max_depth': d, 'RMSE': best_rmse_for_rf}"
   ]
  },
  {
   "cell_type": "code",
   "execution_count": 75,
   "metadata": {},
   "outputs": [
    {
     "name": "stdout",
     "output_type": "stream",
     "text": [
      "CPU times: user 1min 53s, sys: 659 ms, total: 1min 53s\n",
      "Wall time: 1min 54s\n"
     ]
    }
   ],
   "source": [
    "%%time\n",
    "start_time = time.time()\n",
    "random_forest = RandomForestRegressor()\n",
    "distributions = dict(max_depth=[10,50], n_estimators=np.arange(2,10,2), n_jobs=[1,-1])\n",
    "rfr = RandomizedSearchCV(random_forest, distributions, scoring='neg_mean_squared_error',  random_state=state)\n",
    "rfr.fit(ft_train_le, tr_train_le)\n",
    "end_time = time.time()\n",
    "sh_time = (end_time - start_time) / 60\n",
    "score_rmse = (-rfr.best_score_) ** 0.5\n",
    "dct_with_params['RF'] = rfr.best_params_\n",
    "dct_with_params['RF'].update(train_rmse=score_rmse,search_time=sh_time)"
   ]
  },
  {
   "cell_type": "code",
   "execution_count": 76,
   "metadata": {},
   "outputs": [
    {
     "name": "stdout",
     "output_type": "stream",
     "text": [
      "CPU times: user 5.68 s, sys: 72 ms, total: 5.76 s\n",
      "Wall time: 5.77 s\n"
     ]
    }
   ],
   "source": [
    "%%time\n",
    "test_model_rf = RandomForestRegressor(n_estimators=dct_with_params['RF']['n_estimators'],\n",
    "                                      max_depth=dct_with_params['RF']['max_depth'],\n",
    "                                      random_state=state)\n",
    "start_time = time.time()\n",
    "test_model_rf.fit(ft_train_le, tr_train_le)\n",
    "end_time = time.time()\n",
    "tr_time = (end_time - start_time) / 60"
   ]
  },
  {
   "cell_type": "code",
   "execution_count": 77,
   "metadata": {},
   "outputs": [],
   "source": [
    "del rfr"
   ]
  },
  {
   "cell_type": "code",
   "execution_count": 78,
   "metadata": {},
   "outputs": [],
   "source": [
    "del random_forest"
   ]
  },
  {
   "cell_type": "code",
   "execution_count": 79,
   "metadata": {},
   "outputs": [],
   "source": [
    "del ft_train_le"
   ]
  },
  {
   "cell_type": "code",
   "execution_count": 80,
   "metadata": {},
   "outputs": [],
   "source": [
    "del tr_train_le"
   ]
  },
  {
   "cell_type": "code",
   "execution_count": 81,
   "metadata": {},
   "outputs": [],
   "source": [
    "dct_with_params['RF'].update(train_time=tr_time)"
   ]
  },
  {
   "cell_type": "markdown",
   "metadata": {},
   "source": [
    "### CatBoostRegressor "
   ]
  },
  {
   "cell_type": "code",
   "execution_count": 82,
   "metadata": {},
   "outputs": [],
   "source": [
    "ft_train_original, ft_test_original, tr_train_original, tr_test_original = train_test_split(features, target, test_size=0.25, random_state=12345)"
   ]
  },
  {
   "cell_type": "code",
   "execution_count": 83,
   "metadata": {},
   "outputs": [],
   "source": [
    "del features"
   ]
  },
  {
   "cell_type": "code",
   "execution_count": 84,
   "metadata": {},
   "outputs": [],
   "source": [
    "del target"
   ]
  },
  {
   "cell_type": "code",
   "execution_count": 85,
   "metadata": {},
   "outputs": [
    {
     "name": "stdout",
     "output_type": "stream",
     "text": [
      "\n",
      "bestTest = 1694.70537\n",
      "bestIteration = 999\n",
      "\n",
      "\n",
      "bestTest = 1579.364346\n",
      "bestIteration = 999\n",
      "\n",
      "Training on fold [0/2]\n",
      "\n",
      "bestTest = 1590.416923\n",
      "bestIteration = 999\n",
      "\n",
      "Training on fold [1/2]\n",
      "\n",
      "bestTest = 1598.372366\n",
      "bestIteration = 999\n",
      "\n",
      "CPU times: user 26min 47s, sys: 12.5 s, total: 26min 59s\n",
      "Wall time: 27min 13s\n"
     ]
    }
   ],
   "source": [
    "%%time\n",
    "start_time = time.time()\n",
    "train_pool = Pool(ft_train_original, tr_train_original, cat_features=text_columns)\n",
    "cat = CatBoostRegressor(loss_function=\"RMSE\", verbose=False)\n",
    "\n",
    "params = {\"depth\": [5,10]}\n",
    "\n",
    "grid_search_results = cat.grid_search(params, train_pool, cv=2, verbose=False,  plot=False)\n",
    "end_time = time.time()\n",
    "sh_time = (end_time - start_time) / 60"
   ]
  },
  {
   "cell_type": "code",
   "execution_count": 86,
   "metadata": {},
   "outputs": [],
   "source": [
    "dct_with_params['CBR'] = grid_search_results['params']\n",
    "dct_with_params['CBR'].update(search_time=sh_time)"
   ]
  },
  {
   "cell_type": "code",
   "execution_count": 87,
   "metadata": {},
   "outputs": [
    {
     "name": "stdout",
     "output_type": "stream",
     "text": [
      "CPU times: user 6min 52s, sys: 1.24 s, total: 6min 53s\n",
      "Wall time: 7min\n"
     ]
    }
   ],
   "source": [
    "%%time\n",
    "test_cat = CatBoostRegressor(depth=dct_with_params['CBR']['depth'], \n",
    "                              loss_function='RMSE',verbose=False)\n",
    "start_time = time.time()                              \n",
    "test_cat.fit(train_pool)\n",
    "end_time = time.time()\n",
    "tr_time = (end_time - start_time) / 60"
   ]
  },
  {
   "cell_type": "code",
   "execution_count": 88,
   "metadata": {},
   "outputs": [],
   "source": [
    "del train_pool"
   ]
  },
  {
   "cell_type": "code",
   "execution_count": 89,
   "metadata": {},
   "outputs": [],
   "source": [
    "dct_with_params['CBR'].update(train_time=tr_time)\n",
    "dct_with_params['CBR'].update(train_rmse=test_cat.get_best_score()['learn']['RMSE'])"
   ]
  },
  {
   "cell_type": "markdown",
   "metadata": {},
   "source": [
    "### Модель LightGBM"
   ]
  },
  {
   "cell_type": "code",
   "execution_count": 103,
   "metadata": {
    "scrolled": false
   },
   "outputs": [
    {
     "name": "stdout",
     "output_type": "stream",
     "text": [
      "CPU times: user 1min 15s, sys: 355 ms, total: 1min 15s\n",
      "Wall time: 1min 17s\n"
     ]
    }
   ],
   "source": [
    "%%time\n",
    "lgb_model = lgb.LGBMRegressor()\n",
    "lgb_train = lgb.Dataset(ft_train_original,\n",
    "                        tr_train_original,\n",
    "                        categorical_feature=['vehicle_type', 'gearbox', 'model', 'fuel_type', 'brand', 'not_repaired'],\n",
    "                        free_raw_data=False)\n",
    "lgb_test = lgb.Dataset(ft_test_original,\n",
    "                       tr_test_original,\n",
    "                       categorical_feature=['vehicle_type', 'gearbox', 'model', 'fuel_type', 'brand', 'not_repaired'],\n",
    "                       free_raw_data=False)\n",
    "start_time = time.time()\n",
    "\n",
    "distributions = {'max_depth': [5,10,15,20], 'learning_rate': [0.1, 0.2], 'n_jobs': [1,-1]}\n",
    "lgb_search = RandomizedSearchCV(lgb_model, distributions, scoring='neg_mean_squared_error',  random_state=state)\n",
    "lgb_search.fit(ft_train_original, tr_train_original)\n",
    "\n",
    "score_rmse = (-lgb_search.best_score_) ** 0.5\n",
    "end_time = time.time()\n",
    "sh_time = (end_time - start_time) / 60"
   ]
  },
  {
   "cell_type": "code",
   "execution_count": 104,
   "metadata": {
    "scrolled": true
   },
   "outputs": [],
   "source": [
    "dct_with_params['LGB'] = lgb_search.best_params_\n",
    "dct_with_params['LGB'].update(search_time=sh_time, train_rmse=score_rmse)"
   ]
  },
  {
   "cell_type": "code",
   "execution_count": 107,
   "metadata": {},
   "outputs": [
    {
     "name": "stdout",
     "output_type": "stream",
     "text": [
      "[LightGBM] [Warning] Accuracy may be bad since you didn't explicitly set num_leaves OR 2^max_depth > num_leaves. (num_leaves=31).\n",
      "[LightGBM] [Warning] Accuracy may be bad since you didn't explicitly set num_leaves OR 2^max_depth > num_leaves. (num_leaves=31).\n",
      "[LightGBM] [Warning] Accuracy may be bad since you didn't explicitly set num_leaves OR 2^max_depth > num_leaves. (num_leaves=31).\n",
      "[LightGBM] [Warning] Accuracy may be bad since you didn't explicitly set num_leaves OR 2^max_depth > num_leaves. (num_leaves=31).\n",
      "[LightGBM] [Warning] Accuracy may be bad since you didn't explicitly set num_leaves OR 2^max_depth > num_leaves. (num_leaves=31).\n",
      "[LightGBM] [Warning] Auto-choosing row-wise multi-threading, the overhead of testing was 0.011432 seconds.\n",
      "You can set `force_row_wise=true` to remove the overhead.\n",
      "And if memory is not enough, you can set `force_col_wise=true`.\n",
      "[LightGBM] [Info] Total Bins 557\n",
      "[LightGBM] [Info] Number of data points in the train set: 240897, number of used features: 9\n",
      "[LightGBM] [Info] Start training from score 4585.499309\n",
      "[1]\tvalid_0's rmse: 3868.69\n",
      "[2]\tvalid_0's rmse: 3359.23\n",
      "[3]\tvalid_0's rmse: 2972.11\n",
      "[4]\tvalid_0's rmse: 2683.63\n",
      "[5]\tvalid_0's rmse: 2458.26\n",
      "[6]\tvalid_0's rmse: 2283.68\n",
      "[7]\tvalid_0's rmse: 2154.82\n",
      "[8]\tvalid_0's rmse: 2056.55\n",
      "[9]\tvalid_0's rmse: 1980.48\n",
      "[10]\tvalid_0's rmse: 1917.58\n",
      "[11]\tvalid_0's rmse: 1868.49\n",
      "[12]\tvalid_0's rmse: 1831.25\n",
      "[13]\tvalid_0's rmse: 1800.07\n",
      "[14]\tvalid_0's rmse: 1779.15\n",
      "[15]\tvalid_0's rmse: 1761.5\n",
      "[16]\tvalid_0's rmse: 1748.57\n",
      "[17]\tvalid_0's rmse: 1735.21\n",
      "[18]\tvalid_0's rmse: 1726.62\n",
      "[19]\tvalid_0's rmse: 1718.67\n",
      "[20]\tvalid_0's rmse: 1708.83\n",
      "[21]\tvalid_0's rmse: 1701.26\n",
      "[22]\tvalid_0's rmse: 1694.64\n",
      "[23]\tvalid_0's rmse: 1690.58\n",
      "[24]\tvalid_0's rmse: 1685.71\n",
      "[25]\tvalid_0's rmse: 1681.12\n",
      "[26]\tvalid_0's rmse: 1676.55\n",
      "[27]\tvalid_0's rmse: 1672.74\n",
      "[28]\tvalid_0's rmse: 1669.4\n",
      "[29]\tvalid_0's rmse: 1667.17\n",
      "[30]\tvalid_0's rmse: 1664.55\n",
      "[31]\tvalid_0's rmse: 1662.26\n",
      "[32]\tvalid_0's rmse: 1659.63\n",
      "[33]\tvalid_0's rmse: 1656.75\n",
      "[34]\tvalid_0's rmse: 1654.16\n",
      "[35]\tvalid_0's rmse: 1651.92\n",
      "[36]\tvalid_0's rmse: 1650.84\n",
      "[37]\tvalid_0's rmse: 1648.04\n",
      "[38]\tvalid_0's rmse: 1645.21\n",
      "[39]\tvalid_0's rmse: 1642.65\n",
      "[40]\tvalid_0's rmse: 1640.97\n",
      "[41]\tvalid_0's rmse: 1639.67\n",
      "[42]\tvalid_0's rmse: 1638.91\n",
      "[43]\tvalid_0's rmse: 1637.6\n",
      "[44]\tvalid_0's rmse: 1635.53\n",
      "[45]\tvalid_0's rmse: 1633.62\n",
      "[46]\tvalid_0's rmse: 1632.43\n",
      "[47]\tvalid_0's rmse: 1630.93\n",
      "[48]\tvalid_0's rmse: 1629.92\n",
      "[49]\tvalid_0's rmse: 1629.14\n",
      "[50]\tvalid_0's rmse: 1628.12\n",
      "[51]\tvalid_0's rmse: 1626.1\n",
      "[52]\tvalid_0's rmse: 1624.6\n",
      "[53]\tvalid_0's rmse: 1624.18\n",
      "[54]\tvalid_0's rmse: 1622.67\n",
      "[55]\tvalid_0's rmse: 1622.41\n",
      "[56]\tvalid_0's rmse: 1620.77\n",
      "[57]\tvalid_0's rmse: 1619.94\n",
      "[58]\tvalid_0's rmse: 1619\n",
      "[59]\tvalid_0's rmse: 1617.59\n",
      "[60]\tvalid_0's rmse: 1617.27\n",
      "[61]\tvalid_0's rmse: 1616.91\n",
      "[62]\tvalid_0's rmse: 1616.58\n",
      "[63]\tvalid_0's rmse: 1616\n",
      "[64]\tvalid_0's rmse: 1615.62\n",
      "[65]\tvalid_0's rmse: 1613.85\n",
      "[66]\tvalid_0's rmse: 1613.19\n",
      "[67]\tvalid_0's rmse: 1612.81\n",
      "[68]\tvalid_0's rmse: 1611.49\n",
      "[69]\tvalid_0's rmse: 1610.88\n",
      "[70]\tvalid_0's rmse: 1610.53\n",
      "[71]\tvalid_0's rmse: 1610.13\n",
      "[72]\tvalid_0's rmse: 1609.7\n",
      "[73]\tvalid_0's rmse: 1608.6\n",
      "[74]\tvalid_0's rmse: 1608.16\n",
      "[75]\tvalid_0's rmse: 1607.83\n",
      "[76]\tvalid_0's rmse: 1607.58\n",
      "[77]\tvalid_0's rmse: 1607.33\n",
      "[78]\tvalid_0's rmse: 1606.43\n",
      "[79]\tvalid_0's rmse: 1605.92\n",
      "[80]\tvalid_0's rmse: 1605.76\n",
      "[81]\tvalid_0's rmse: 1605.28\n",
      "[82]\tvalid_0's rmse: 1604.91\n",
      "[83]\tvalid_0's rmse: 1604.34\n",
      "[84]\tvalid_0's rmse: 1603.91\n",
      "[85]\tvalid_0's rmse: 1603.6\n",
      "[86]\tvalid_0's rmse: 1603.35\n",
      "[87]\tvalid_0's rmse: 1603.05\n",
      "[88]\tvalid_0's rmse: 1602.21\n",
      "[89]\tvalid_0's rmse: 1601.85\n",
      "[90]\tvalid_0's rmse: 1601.18\n",
      "[91]\tvalid_0's rmse: 1600.46\n",
      "[92]\tvalid_0's rmse: 1599.75\n",
      "[93]\tvalid_0's rmse: 1598.91\n",
      "[94]\tvalid_0's rmse: 1598.74\n",
      "[95]\tvalid_0's rmse: 1598.22\n",
      "[96]\tvalid_0's rmse: 1597.55\n",
      "[97]\tvalid_0's rmse: 1597.46\n",
      "[98]\tvalid_0's rmse: 1596.72\n",
      "[99]\tvalid_0's rmse: 1596.47\n",
      "[100]\tvalid_0's rmse: 1596.31\n",
      "[101]\tvalid_0's rmse: 1596.21\n",
      "[102]\tvalid_0's rmse: 1596.15\n",
      "[103]\tvalid_0's rmse: 1595.71\n",
      "[104]\tvalid_0's rmse: 1595.36\n",
      "[105]\tvalid_0's rmse: 1594.44\n",
      "[106]\tvalid_0's rmse: 1594.2\n",
      "[107]\tvalid_0's rmse: 1593.67\n",
      "[108]\tvalid_0's rmse: 1593.29\n",
      "[109]\tvalid_0's rmse: 1592.91\n",
      "[110]\tvalid_0's rmse: 1592.32\n",
      "[111]\tvalid_0's rmse: 1591.49\n",
      "[112]\tvalid_0's rmse: 1591.29\n",
      "[113]\tvalid_0's rmse: 1591.09\n",
      "[114]\tvalid_0's rmse: 1590.38\n",
      "[115]\tvalid_0's rmse: 1589.68\n",
      "[116]\tvalid_0's rmse: 1589.51\n",
      "[117]\tvalid_0's rmse: 1589.47\n",
      "[118]\tvalid_0's rmse: 1589.06\n",
      "[119]\tvalid_0's rmse: 1589.1\n",
      "[120]\tvalid_0's rmse: 1588.99\n",
      "[121]\tvalid_0's rmse: 1588.89\n",
      "[122]\tvalid_0's rmse: 1588.6\n",
      "[123]\tvalid_0's rmse: 1588.42\n",
      "[124]\tvalid_0's rmse: 1588.38\n",
      "[125]\tvalid_0's rmse: 1588.33\n",
      "[126]\tvalid_0's rmse: 1587.71\n",
      "[127]\tvalid_0's rmse: 1587.99\n",
      "[128]\tvalid_0's rmse: 1587.79\n",
      "[129]\tvalid_0's rmse: 1587.32\n",
      "[130]\tvalid_0's rmse: 1586.91\n",
      "[131]\tvalid_0's rmse: 1586.29\n",
      "[132]\tvalid_0's rmse: 1586.03\n",
      "[133]\tvalid_0's rmse: 1585.72\n",
      "[134]\tvalid_0's rmse: 1585.5\n",
      "[135]\tvalid_0's rmse: 1585.12\n",
      "[136]\tvalid_0's rmse: 1584.49\n",
      "[137]\tvalid_0's rmse: 1584.11\n",
      "[138]\tvalid_0's rmse: 1583.88\n",
      "[139]\tvalid_0's rmse: 1583.71\n",
      "[140]\tvalid_0's rmse: 1583.3\n",
      "[141]\tvalid_0's rmse: 1582.81\n",
      "[142]\tvalid_0's rmse: 1582.57\n",
      "[143]\tvalid_0's rmse: 1582.46\n",
      "[144]\tvalid_0's rmse: 1582.31\n",
      "[145]\tvalid_0's rmse: 1582.03\n",
      "[146]\tvalid_0's rmse: 1582.07\n",
      "[147]\tvalid_0's rmse: 1581.86\n",
      "[148]\tvalid_0's rmse: 1581.73\n",
      "[149]\tvalid_0's rmse: 1581.62\n",
      "[150]\tvalid_0's rmse: 1581.35\n",
      "[151]\tvalid_0's rmse: 1581.17\n",
      "[152]\tvalid_0's rmse: 1580.87\n",
      "[153]\tvalid_0's rmse: 1580.73\n",
      "[154]\tvalid_0's rmse: 1580.49\n",
      "[155]\tvalid_0's rmse: 1580.07\n",
      "[156]\tvalid_0's rmse: 1579.78\n",
      "[157]\tvalid_0's rmse: 1579.46\n",
      "[158]\tvalid_0's rmse: 1579.19\n",
      "[159]\tvalid_0's rmse: 1579.1\n",
      "[160]\tvalid_0's rmse: 1578.57\n",
      "[161]\tvalid_0's rmse: 1578.39\n",
      "[162]\tvalid_0's rmse: 1577.59\n",
      "[163]\tvalid_0's rmse: 1577.49\n",
      "[164]\tvalid_0's rmse: 1577.66\n",
      "[165]\tvalid_0's rmse: 1577.54\n",
      "[166]\tvalid_0's rmse: 1577.5\n",
      "[167]\tvalid_0's rmse: 1577.16\n",
      "[168]\tvalid_0's rmse: 1577\n",
      "[169]\tvalid_0's rmse: 1576.78\n",
      "[170]\tvalid_0's rmse: 1576.59\n",
      "[171]\tvalid_0's rmse: 1576.4\n",
      "[172]\tvalid_0's rmse: 1576.46\n",
      "[173]\tvalid_0's rmse: 1576.4\n",
      "[174]\tvalid_0's rmse: 1576.14\n",
      "[175]\tvalid_0's rmse: 1576.07\n",
      "[176]\tvalid_0's rmse: 1575.4\n",
      "[177]\tvalid_0's rmse: 1575.19\n",
      "[178]\tvalid_0's rmse: 1574.96\n",
      "[179]\tvalid_0's rmse: 1574.93\n",
      "[180]\tvalid_0's rmse: 1574.44\n",
      "[181]\tvalid_0's rmse: 1574.25\n",
      "[182]\tvalid_0's rmse: 1574.05\n",
      "[183]\tvalid_0's rmse: 1573.43\n",
      "[184]\tvalid_0's rmse: 1573.33\n",
      "[185]\tvalid_0's rmse: 1573.24\n",
      "[186]\tvalid_0's rmse: 1573.17\n",
      "[187]\tvalid_0's rmse: 1572.87\n",
      "[188]\tvalid_0's rmse: 1572.44\n",
      "[189]\tvalid_0's rmse: 1572.29\n",
      "[190]\tvalid_0's rmse: 1571.88\n",
      "[191]\tvalid_0's rmse: 1571.61\n",
      "[192]\tvalid_0's rmse: 1571.34\n",
      "[193]\tvalid_0's rmse: 1571.26\n",
      "[194]\tvalid_0's rmse: 1571.08\n",
      "[195]\tvalid_0's rmse: 1570.93\n",
      "[196]\tvalid_0's rmse: 1570.9\n",
      "[197]\tvalid_0's rmse: 1570.68\n",
      "[198]\tvalid_0's rmse: 1570.58\n",
      "[199]\tvalid_0's rmse: 1570.32\n",
      "[200]\tvalid_0's rmse: 1570.23\n",
      "[201]\tvalid_0's rmse: 1570.32\n",
      "[202]\tvalid_0's rmse: 1570.33\n",
      "[203]\tvalid_0's rmse: 1570.33\n",
      "[204]\tvalid_0's rmse: 1570.24\n",
      "[205]\tvalid_0's rmse: 1570.17\n",
      "[206]\tvalid_0's rmse: 1570.12\n",
      "[207]\tvalid_0's rmse: 1569.55\n",
      "[208]\tvalid_0's rmse: 1569.52\n",
      "[209]\tvalid_0's rmse: 1569.5\n",
      "[210]\tvalid_0's rmse: 1569.22\n",
      "[211]\tvalid_0's rmse: 1569.07\n",
      "[212]\tvalid_0's rmse: 1569\n",
      "[213]\tvalid_0's rmse: 1569.02\n",
      "[214]\tvalid_0's rmse: 1568.99\n",
      "[215]\tvalid_0's rmse: 1568.95\n",
      "[216]\tvalid_0's rmse: 1568.78\n",
      "[217]\tvalid_0's rmse: 1568.77\n",
      "[218]\tvalid_0's rmse: 1568.44\n",
      "[219]\tvalid_0's rmse: 1568.38\n",
      "[220]\tvalid_0's rmse: 1568.34\n",
      "[221]\tvalid_0's rmse: 1568.2\n",
      "[222]\tvalid_0's rmse: 1568.1\n",
      "[223]\tvalid_0's rmse: 1567.88\n",
      "[224]\tvalid_0's rmse: 1567.8\n",
      "[225]\tvalid_0's rmse: 1567.41\n",
      "[226]\tvalid_0's rmse: 1566.99\n",
      "[227]\tvalid_0's rmse: 1566.72\n",
      "[228]\tvalid_0's rmse: 1566.72\n",
      "[229]\tvalid_0's rmse: 1566.67\n",
      "[230]\tvalid_0's rmse: 1566.59\n",
      "[231]\tvalid_0's rmse: 1566.37\n",
      "[232]\tvalid_0's rmse: 1566.06\n",
      "[233]\tvalid_0's rmse: 1566.07\n",
      "[234]\tvalid_0's rmse: 1565.87\n",
      "[235]\tvalid_0's rmse: 1565.61\n",
      "[236]\tvalid_0's rmse: 1565.4\n",
      "[237]\tvalid_0's rmse: 1565.45\n",
      "[238]\tvalid_0's rmse: 1565.32\n",
      "[239]\tvalid_0's rmse: 1565.25\n",
      "[240]\tvalid_0's rmse: 1564.98\n",
      "[241]\tvalid_0's rmse: 1564.83\n",
      "[242]\tvalid_0's rmse: 1564.54\n",
      "[243]\tvalid_0's rmse: 1564.45\n",
      "[244]\tvalid_0's rmse: 1564.33\n",
      "[245]\tvalid_0's rmse: 1563.95\n",
      "[246]\tvalid_0's rmse: 1563.79\n",
      "[247]\tvalid_0's rmse: 1563.76\n",
      "[248]\tvalid_0's rmse: 1563.71\n",
      "[249]\tvalid_0's rmse: 1563.34\n",
      "[250]\tvalid_0's rmse: 1563.3\n",
      "[251]\tvalid_0's rmse: 1563.05\n",
      "[252]\tvalid_0's rmse: 1562.65\n",
      "[253]\tvalid_0's rmse: 1562.63\n",
      "[254]\tvalid_0's rmse: 1562.35\n",
      "[255]\tvalid_0's rmse: 1562.16\n",
      "[256]\tvalid_0's rmse: 1562.16\n",
      "[257]\tvalid_0's rmse: 1562.04\n",
      "[258]\tvalid_0's rmse: 1561.6\n",
      "[259]\tvalid_0's rmse: 1561.43\n",
      "[260]\tvalid_0's rmse: 1561.17\n",
      "[261]\tvalid_0's rmse: 1560.82\n",
      "[262]\tvalid_0's rmse: 1560.27\n",
      "[263]\tvalid_0's rmse: 1559.99\n",
      "[264]\tvalid_0's rmse: 1559.91\n",
      "[265]\tvalid_0's rmse: 1559.5\n",
      "[266]\tvalid_0's rmse: 1559.44\n",
      "[267]\tvalid_0's rmse: 1559.11\n",
      "[268]\tvalid_0's rmse: 1558.76\n",
      "[269]\tvalid_0's rmse: 1558.52\n",
      "[270]\tvalid_0's rmse: 1558.4\n",
      "[271]\tvalid_0's rmse: 1558.42\n",
      "[272]\tvalid_0's rmse: 1558.4\n",
      "[273]\tvalid_0's rmse: 1558.21\n",
      "[274]\tvalid_0's rmse: 1558.22\n",
      "[275]\tvalid_0's rmse: 1558.27\n",
      "[276]\tvalid_0's rmse: 1558.25\n",
      "[277]\tvalid_0's rmse: 1558.02\n",
      "[278]\tvalid_0's rmse: 1557.94\n",
      "[279]\tvalid_0's rmse: 1557.89\n",
      "[280]\tvalid_0's rmse: 1557.75\n",
      "[281]\tvalid_0's rmse: 1557.73\n",
      "[282]\tvalid_0's rmse: 1557.54\n",
      "[283]\tvalid_0's rmse: 1557.52\n",
      "[284]\tvalid_0's rmse: 1557.51\n",
      "[285]\tvalid_0's rmse: 1557.46\n",
      "[286]\tvalid_0's rmse: 1557.39\n",
      "[287]\tvalid_0's rmse: 1557.3\n",
      "[288]\tvalid_0's rmse: 1557.21\n",
      "[289]\tvalid_0's rmse: 1557\n",
      "[290]\tvalid_0's rmse: 1556.78\n",
      "[291]\tvalid_0's rmse: 1556.78\n",
      "[292]\tvalid_0's rmse: 1556.66\n",
      "[293]\tvalid_0's rmse: 1556.67\n",
      "[294]\tvalid_0's rmse: 1556.56\n",
      "[295]\tvalid_0's rmse: 1556.44\n",
      "[296]\tvalid_0's rmse: 1556.38\n",
      "[297]\tvalid_0's rmse: 1556.32\n",
      "[298]\tvalid_0's rmse: 1556.28\n",
      "[299]\tvalid_0's rmse: 1556.22\n",
      "[300]\tvalid_0's rmse: 1556.21\n",
      "[301]\tvalid_0's rmse: 1556.08\n",
      "[302]\tvalid_0's rmse: 1555.48\n",
      "[303]\tvalid_0's rmse: 1555.1\n",
      "[304]\tvalid_0's rmse: 1554.83\n",
      "[305]\tvalid_0's rmse: 1554.72\n",
      "[306]\tvalid_0's rmse: 1554.73\n",
      "[307]\tvalid_0's rmse: 1554.51\n",
      "[308]\tvalid_0's rmse: 1554.5\n",
      "[309]\tvalid_0's rmse: 1554.43\n",
      "[310]\tvalid_0's rmse: 1554.42\n",
      "[311]\tvalid_0's rmse: 1554.45\n",
      "[312]\tvalid_0's rmse: 1554.41\n",
      "[313]\tvalid_0's rmse: 1554.49\n",
      "[314]\tvalid_0's rmse: 1554.49\n",
      "[315]\tvalid_0's rmse: 1554.12\n",
      "[316]\tvalid_0's rmse: 1554.14\n",
      "[317]\tvalid_0's rmse: 1553.96\n",
      "[318]\tvalid_0's rmse: 1553.89\n",
      "[319]\tvalid_0's rmse: 1553.82\n",
      "[320]\tvalid_0's rmse: 1553.77\n",
      "[321]\tvalid_0's rmse: 1553.59\n",
      "[322]\tvalid_0's rmse: 1553.55\n",
      "[323]\tvalid_0's rmse: 1553.47\n",
      "[324]\tvalid_0's rmse: 1553.43\n",
      "[325]\tvalid_0's rmse: 1553.37\n",
      "[326]\tvalid_0's rmse: 1553.18\n",
      "[327]\tvalid_0's rmse: 1553.12\n",
      "[328]\tvalid_0's rmse: 1553.03\n",
      "[329]\tvalid_0's rmse: 1553.09\n",
      "[330]\tvalid_0's rmse: 1552.77\n",
      "[331]\tvalid_0's rmse: 1552.68\n",
      "[332]\tvalid_0's rmse: 1552.65\n",
      "[333]\tvalid_0's rmse: 1552.61\n",
      "[334]\tvalid_0's rmse: 1552.6\n",
      "[335]\tvalid_0's rmse: 1552.62\n",
      "[336]\tvalid_0's rmse: 1552.38\n",
      "[337]\tvalid_0's rmse: 1552.18\n",
      "[338]\tvalid_0's rmse: 1552.25\n",
      "[339]\tvalid_0's rmse: 1552.22\n",
      "[340]\tvalid_0's rmse: 1552.13\n",
      "[341]\tvalid_0's rmse: 1552.02\n",
      "[342]\tvalid_0's rmse: 1551.82\n",
      "[343]\tvalid_0's rmse: 1551.79\n",
      "[344]\tvalid_0's rmse: 1551.6\n",
      "[345]\tvalid_0's rmse: 1551.42\n",
      "[346]\tvalid_0's rmse: 1551.33\n",
      "[347]\tvalid_0's rmse: 1551.1\n",
      "[348]\tvalid_0's rmse: 1551.07\n",
      "[349]\tvalid_0's rmse: 1551.03\n",
      "[350]\tvalid_0's rmse: 1550.51\n",
      "[351]\tvalid_0's rmse: 1550.24\n",
      "[352]\tvalid_0's rmse: 1550.12\n",
      "[353]\tvalid_0's rmse: 1550.06\n",
      "[354]\tvalid_0's rmse: 1549.96\n",
      "[355]\tvalid_0's rmse: 1550.01\n",
      "[356]\tvalid_0's rmse: 1549.92\n",
      "[357]\tvalid_0's rmse: 1549.72\n",
      "[358]\tvalid_0's rmse: 1549.73\n",
      "[359]\tvalid_0's rmse: 1549.21\n",
      "[360]\tvalid_0's rmse: 1549.23\n",
      "[361]\tvalid_0's rmse: 1548.86\n",
      "[362]\tvalid_0's rmse: 1548.83\n",
      "[363]\tvalid_0's rmse: 1548.72\n",
      "[364]\tvalid_0's rmse: 1548.66\n",
      "[365]\tvalid_0's rmse: 1548.7\n",
      "[366]\tvalid_0's rmse: 1548.66\n",
      "[367]\tvalid_0's rmse: 1548.44\n",
      "[368]\tvalid_0's rmse: 1548.32\n",
      "[369]\tvalid_0's rmse: 1548.04\n",
      "[370]\tvalid_0's rmse: 1547.97\n",
      "[371]\tvalid_0's rmse: 1547.88\n",
      "[372]\tvalid_0's rmse: 1547.78\n",
      "[373]\tvalid_0's rmse: 1547.75\n",
      "[374]\tvalid_0's rmse: 1547.44\n",
      "[375]\tvalid_0's rmse: 1547.44\n",
      "[376]\tvalid_0's rmse: 1547.41\n",
      "[377]\tvalid_0's rmse: 1547.37\n",
      "[378]\tvalid_0's rmse: 1546.98\n",
      "[379]\tvalid_0's rmse: 1546.76\n",
      "[380]\tvalid_0's rmse: 1546.84\n",
      "[381]\tvalid_0's rmse: 1546.78\n",
      "[382]\tvalid_0's rmse: 1546.59\n",
      "[383]\tvalid_0's rmse: 1546.59\n",
      "[384]\tvalid_0's rmse: 1546.56\n",
      "[385]\tvalid_0's rmse: 1546.5\n",
      "[386]\tvalid_0's rmse: 1546.48\n",
      "[387]\tvalid_0's rmse: 1546.37\n",
      "[388]\tvalid_0's rmse: 1546.4\n",
      "[389]\tvalid_0's rmse: 1546.35\n",
      "[390]\tvalid_0's rmse: 1546.42\n",
      "[391]\tvalid_0's rmse: 1546.52\n",
      "[392]\tvalid_0's rmse: 1546.57\n",
      "[393]\tvalid_0's rmse: 1546.49\n",
      "[394]\tvalid_0's rmse: 1546.41\n",
      "[395]\tvalid_0's rmse: 1546.38\n",
      "[396]\tvalid_0's rmse: 1546.25\n",
      "[397]\tvalid_0's rmse: 1546.18\n",
      "[398]\tvalid_0's rmse: 1546.15\n",
      "[399]\tvalid_0's rmse: 1546.1\n",
      "[400]\tvalid_0's rmse: 1546.05\n",
      "[401]\tvalid_0's rmse: 1545.87\n",
      "[402]\tvalid_0's rmse: 1545.66\n",
      "[403]\tvalid_0's rmse: 1545.52\n",
      "[404]\tvalid_0's rmse: 1545.34\n",
      "[405]\tvalid_0's rmse: 1545.28\n",
      "[406]\tvalid_0's rmse: 1545.14\n",
      "[407]\tvalid_0's rmse: 1544.99\n",
      "[408]\tvalid_0's rmse: 1544.99\n",
      "[409]\tvalid_0's rmse: 1544.89\n",
      "[410]\tvalid_0's rmse: 1544.89\n",
      "[411]\tvalid_0's rmse: 1544.72\n",
      "[412]\tvalid_0's rmse: 1544.71\n",
      "[413]\tvalid_0's rmse: 1544.66\n",
      "[414]\tvalid_0's rmse: 1544.62\n",
      "[415]\tvalid_0's rmse: 1544.57\n",
      "[416]\tvalid_0's rmse: 1544.61\n",
      "[417]\tvalid_0's rmse: 1544.63\n",
      "[418]\tvalid_0's rmse: 1544.46\n",
      "[419]\tvalid_0's rmse: 1544.44\n",
      "[420]\tvalid_0's rmse: 1544.45\n",
      "[421]\tvalid_0's rmse: 1544.43\n",
      "[422]\tvalid_0's rmse: 1544.33\n",
      "[423]\tvalid_0's rmse: 1544.29\n",
      "[424]\tvalid_0's rmse: 1544.27\n",
      "[425]\tvalid_0's rmse: 1544.24\n",
      "[426]\tvalid_0's rmse: 1544.23\n",
      "[427]\tvalid_0's rmse: 1544.12\n",
      "[428]\tvalid_0's rmse: 1543.88\n",
      "[429]\tvalid_0's rmse: 1543.84\n",
      "[430]\tvalid_0's rmse: 1543.77\n",
      "[431]\tvalid_0's rmse: 1543.88\n",
      "[432]\tvalid_0's rmse: 1543.81\n",
      "[433]\tvalid_0's rmse: 1543.79\n",
      "[434]\tvalid_0's rmse: 1543.63\n",
      "[435]\tvalid_0's rmse: 1543.62\n",
      "[436]\tvalid_0's rmse: 1543.52\n",
      "[437]\tvalid_0's rmse: 1543.49\n",
      "[438]\tvalid_0's rmse: 1543.45\n",
      "[439]\tvalid_0's rmse: 1543.49\n",
      "[440]\tvalid_0's rmse: 1543.52\n",
      "[441]\tvalid_0's rmse: 1543.57\n",
      "[442]\tvalid_0's rmse: 1543.51\n",
      "[443]\tvalid_0's rmse: 1543.45\n",
      "[444]\tvalid_0's rmse: 1543.35\n",
      "[445]\tvalid_0's rmse: 1543.29\n",
      "[446]\tvalid_0's rmse: 1543.18\n",
      "[447]\tvalid_0's rmse: 1543.06\n",
      "[448]\tvalid_0's rmse: 1543.01\n",
      "[449]\tvalid_0's rmse: 1543.05\n",
      "[450]\tvalid_0's rmse: 1543.02\n",
      "[451]\tvalid_0's rmse: 1543.07\n",
      "[452]\tvalid_0's rmse: 1543.03\n",
      "[453]\tvalid_0's rmse: 1542.85\n",
      "[454]\tvalid_0's rmse: 1542.77\n",
      "[455]\tvalid_0's rmse: 1542.8\n",
      "[456]\tvalid_0's rmse: 1542.85\n",
      "[457]\tvalid_0's rmse: 1542.68\n",
      "[458]\tvalid_0's rmse: 1542.68\n",
      "[459]\tvalid_0's rmse: 1542.63\n",
      "[460]\tvalid_0's rmse: 1542.58\n",
      "[461]\tvalid_0's rmse: 1542.59\n",
      "[462]\tvalid_0's rmse: 1542.57\n",
      "[463]\tvalid_0's rmse: 1542.53\n",
      "[464]\tvalid_0's rmse: 1542.52\n",
      "[465]\tvalid_0's rmse: 1542.52\n",
      "[466]\tvalid_0's rmse: 1542.55\n",
      "[467]\tvalid_0's rmse: 1542.41\n",
      "[468]\tvalid_0's rmse: 1542.33\n",
      "[469]\tvalid_0's rmse: 1542.28\n",
      "[470]\tvalid_0's rmse: 1542.29\n",
      "[471]\tvalid_0's rmse: 1542.35\n",
      "[472]\tvalid_0's rmse: 1542.31\n",
      "[473]\tvalid_0's rmse: 1542.25\n",
      "[474]\tvalid_0's rmse: 1542.16\n",
      "[475]\tvalid_0's rmse: 1542.13\n",
      "[476]\tvalid_0's rmse: 1542.13\n",
      "[477]\tvalid_0's rmse: 1541.85\n",
      "[478]\tvalid_0's rmse: 1541.79\n",
      "[479]\tvalid_0's rmse: 1541.62\n",
      "[480]\tvalid_0's rmse: 1541.5\n",
      "[481]\tvalid_0's rmse: 1541.34\n",
      "[482]\tvalid_0's rmse: 1541.31\n",
      "[483]\tvalid_0's rmse: 1541.4\n",
      "[484]\tvalid_0's rmse: 1541.43\n",
      "[485]\tvalid_0's rmse: 1541.36\n",
      "[486]\tvalid_0's rmse: 1541.36\n",
      "[487]\tvalid_0's rmse: 1541.29\n",
      "[488]\tvalid_0's rmse: 1541.23\n",
      "[489]\tvalid_0's rmse: 1541.18\n",
      "[490]\tvalid_0's rmse: 1541.28\n",
      "[491]\tvalid_0's rmse: 1541.44\n",
      "[492]\tvalid_0's rmse: 1541.38\n",
      "[493]\tvalid_0's rmse: 1541.37\n",
      "[494]\tvalid_0's rmse: 1541.42\n",
      "[495]\tvalid_0's rmse: 1541.24\n",
      "[496]\tvalid_0's rmse: 1541.32\n",
      "[497]\tvalid_0's rmse: 1541.29\n",
      "[498]\tvalid_0's rmse: 1541.15\n",
      "[499]\tvalid_0's rmse: 1541.11\n",
      "[500]\tvalid_0's rmse: 1541.03\n",
      "[501]\tvalid_0's rmse: 1540.99\n",
      "[502]\tvalid_0's rmse: 1540.95\n",
      "[503]\tvalid_0's rmse: 1540.9\n",
      "[504]\tvalid_0's rmse: 1540.86\n",
      "[505]\tvalid_0's rmse: 1540.99\n",
      "[506]\tvalid_0's rmse: 1540.95\n",
      "[507]\tvalid_0's rmse: 1540.84\n",
      "[508]\tvalid_0's rmse: 1540.81\n",
      "[509]\tvalid_0's rmse: 1540.83\n",
      "[510]\tvalid_0's rmse: 1540.77\n",
      "[511]\tvalid_0's rmse: 1540.79\n",
      "[512]\tvalid_0's rmse: 1540.79\n",
      "[513]\tvalid_0's rmse: 1540.79\n",
      "[514]\tvalid_0's rmse: 1540.75\n",
      "[515]\tvalid_0's rmse: 1540.61\n",
      "[516]\tvalid_0's rmse: 1540.56\n",
      "[517]\tvalid_0's rmse: 1540.61\n",
      "[518]\tvalid_0's rmse: 1540.54\n",
      "[519]\tvalid_0's rmse: 1540.55\n",
      "[520]\tvalid_0's rmse: 1540.39\n",
      "[521]\tvalid_0's rmse: 1540.29\n",
      "[522]\tvalid_0's rmse: 1540.25\n",
      "[523]\tvalid_0's rmse: 1540.31\n",
      "[524]\tvalid_0's rmse: 1540.23\n",
      "[525]\tvalid_0's rmse: 1540.23\n",
      "[526]\tvalid_0's rmse: 1540.06\n",
      "[527]\tvalid_0's rmse: 1539.99\n",
      "[528]\tvalid_0's rmse: 1539.95\n",
      "[529]\tvalid_0's rmse: 1539.9\n",
      "[530]\tvalid_0's rmse: 1539.57\n",
      "[531]\tvalid_0's rmse: 1539.39\n",
      "[532]\tvalid_0's rmse: 1539.16\n",
      "[533]\tvalid_0's rmse: 1539.12\n",
      "[534]\tvalid_0's rmse: 1539.1\n",
      "[535]\tvalid_0's rmse: 1538.96\n",
      "[536]\tvalid_0's rmse: 1538.85\n",
      "[537]\tvalid_0's rmse: 1538.84\n",
      "[538]\tvalid_0's rmse: 1538.95\n",
      "[539]\tvalid_0's rmse: 1539.01\n",
      "[540]\tvalid_0's rmse: 1538.86\n",
      "[541]\tvalid_0's rmse: 1538.84\n",
      "[542]\tvalid_0's rmse: 1538.83\n",
      "[543]\tvalid_0's rmse: 1538.85\n",
      "[544]\tvalid_0's rmse: 1538.71\n",
      "[545]\tvalid_0's rmse: 1538.55\n",
      "[546]\tvalid_0's rmse: 1538.56\n",
      "[547]\tvalid_0's rmse: 1538.24\n",
      "[548]\tvalid_0's rmse: 1538.23\n",
      "[549]\tvalid_0's rmse: 1538.31\n",
      "[550]\tvalid_0's rmse: 1538.41\n",
      "[551]\tvalid_0's rmse: 1538.41\n",
      "[552]\tvalid_0's rmse: 1538.42\n",
      "[553]\tvalid_0's rmse: 1538.26\n",
      "[554]\tvalid_0's rmse: 1538.29\n",
      "[555]\tvalid_0's rmse: 1538.25\n",
      "[556]\tvalid_0's rmse: 1538.18\n",
      "[557]\tvalid_0's rmse: 1538.18\n",
      "[558]\tvalid_0's rmse: 1538.13\n",
      "[559]\tvalid_0's rmse: 1538.09\n",
      "[560]\tvalid_0's rmse: 1537.97\n",
      "[561]\tvalid_0's rmse: 1537.96\n",
      "[562]\tvalid_0's rmse: 1537.91\n",
      "[563]\tvalid_0's rmse: 1537.84\n",
      "[564]\tvalid_0's rmse: 1537.62\n",
      "[565]\tvalid_0's rmse: 1537.66\n",
      "[566]\tvalid_0's rmse: 1537.61\n",
      "[567]\tvalid_0's rmse: 1537.53\n",
      "[568]\tvalid_0's rmse: 1537.55\n",
      "[569]\tvalid_0's rmse: 1537.49\n",
      "[570]\tvalid_0's rmse: 1537.48\n",
      "[571]\tvalid_0's rmse: 1537.47\n",
      "[572]\tvalid_0's rmse: 1537.49\n",
      "[573]\tvalid_0's rmse: 1537.49\n",
      "[574]\tvalid_0's rmse: 1537.38\n",
      "[575]\tvalid_0's rmse: 1537.28\n",
      "[576]\tvalid_0's rmse: 1537.23\n",
      "[577]\tvalid_0's rmse: 1537.22\n",
      "[578]\tvalid_0's rmse: 1537.24\n",
      "[579]\tvalid_0's rmse: 1537.1\n",
      "[580]\tvalid_0's rmse: 1537.1\n",
      "[581]\tvalid_0's rmse: 1537.08\n",
      "[582]\tvalid_0's rmse: 1537.1\n",
      "[583]\tvalid_0's rmse: 1537.12\n",
      "[584]\tvalid_0's rmse: 1537.13\n",
      "[585]\tvalid_0's rmse: 1537.11\n",
      "[586]\tvalid_0's rmse: 1536.98\n",
      "[587]\tvalid_0's rmse: 1537\n",
      "[588]\tvalid_0's rmse: 1536.98\n",
      "[589]\tvalid_0's rmse: 1537.02\n",
      "[590]\tvalid_0's rmse: 1537.04\n",
      "[591]\tvalid_0's rmse: 1536.96\n",
      "[592]\tvalid_0's rmse: 1536.93\n",
      "[593]\tvalid_0's rmse: 1536.87\n",
      "[594]\tvalid_0's rmse: 1536.83\n",
      "[595]\tvalid_0's rmse: 1536.81\n",
      "[596]\tvalid_0's rmse: 1536.81\n",
      "[597]\tvalid_0's rmse: 1536.79\n",
      "[598]\tvalid_0's rmse: 1536.72\n",
      "[599]\tvalid_0's rmse: 1536.72\n",
      "[600]\tvalid_0's rmse: 1536.73\n",
      "[601]\tvalid_0's rmse: 1536.7\n",
      "[602]\tvalid_0's rmse: 1536.86\n",
      "[603]\tvalid_0's rmse: 1536.78\n",
      "[604]\tvalid_0's rmse: 1536.76\n",
      "[605]\tvalid_0's rmse: 1536.74\n",
      "[606]\tvalid_0's rmse: 1536.7\n",
      "[607]\tvalid_0's rmse: 1536.7\n",
      "[608]\tvalid_0's rmse: 1536.83\n",
      "[609]\tvalid_0's rmse: 1536.76\n",
      "[610]\tvalid_0's rmse: 1536.75\n",
      "[611]\tvalid_0's rmse: 1536.72\n",
      "[612]\tvalid_0's rmse: 1536.77\n",
      "[613]\tvalid_0's rmse: 1536.72\n",
      "[614]\tvalid_0's rmse: 1536.69\n",
      "[615]\tvalid_0's rmse: 1536.64\n",
      "[616]\tvalid_0's rmse: 1536.73\n",
      "[617]\tvalid_0's rmse: 1536.62\n",
      "[618]\tvalid_0's rmse: 1536.51\n",
      "[619]\tvalid_0's rmse: 1536.55\n",
      "[620]\tvalid_0's rmse: 1536.55\n",
      "[621]\tvalid_0's rmse: 1536.22\n",
      "[622]\tvalid_0's rmse: 1536.17\n",
      "[623]\tvalid_0's rmse: 1536.18\n",
      "[624]\tvalid_0's rmse: 1535.98\n",
      "[625]\tvalid_0's rmse: 1535.96\n",
      "[626]\tvalid_0's rmse: 1535.93\n",
      "[627]\tvalid_0's rmse: 1535.9\n",
      "[628]\tvalid_0's rmse: 1535.84\n",
      "[629]\tvalid_0's rmse: 1535.84\n",
      "[630]\tvalid_0's rmse: 1535.81\n",
      "[631]\tvalid_0's rmse: 1535.81\n",
      "[632]\tvalid_0's rmse: 1535.76\n",
      "[633]\tvalid_0's rmse: 1535.76\n",
      "[634]\tvalid_0's rmse: 1535.75\n",
      "[635]\tvalid_0's rmse: 1535.67\n",
      "[636]\tvalid_0's rmse: 1535.65\n",
      "[637]\tvalid_0's rmse: 1535.65\n",
      "[638]\tvalid_0's rmse: 1535.63\n",
      "[639]\tvalid_0's rmse: 1535.64\n",
      "[640]\tvalid_0's rmse: 1535.7\n",
      "[641]\tvalid_0's rmse: 1535.6\n",
      "[642]\tvalid_0's rmse: 1535.58\n",
      "[643]\tvalid_0's rmse: 1535.44\n",
      "[644]\tvalid_0's rmse: 1535.47\n",
      "[645]\tvalid_0's rmse: 1535.45\n",
      "[646]\tvalid_0's rmse: 1535.48\n",
      "[647]\tvalid_0's rmse: 1535.42\n",
      "[648]\tvalid_0's rmse: 1535.31\n",
      "[649]\tvalid_0's rmse: 1535.31\n",
      "[650]\tvalid_0's rmse: 1535.27\n",
      "[651]\tvalid_0's rmse: 1535.23\n",
      "[652]\tvalid_0's rmse: 1535.26\n",
      "[653]\tvalid_0's rmse: 1535.32\n",
      "[654]\tvalid_0's rmse: 1535.26\n",
      "[655]\tvalid_0's rmse: 1535.3\n",
      "[656]\tvalid_0's rmse: 1535.3\n",
      "[657]\tvalid_0's rmse: 1535.28\n",
      "[658]\tvalid_0's rmse: 1535.25\n",
      "[659]\tvalid_0's rmse: 1535.28\n",
      "[660]\tvalid_0's rmse: 1535.27\n",
      "[661]\tvalid_0's rmse: 1535.17\n",
      "[662]\tvalid_0's rmse: 1535.1\n",
      "[663]\tvalid_0's rmse: 1534.99\n",
      "[664]\tvalid_0's rmse: 1534.74\n",
      "[665]\tvalid_0's rmse: 1534.67\n",
      "[666]\tvalid_0's rmse: 1534.61\n",
      "[667]\tvalid_0's rmse: 1534.64\n",
      "[668]\tvalid_0's rmse: 1534.59\n",
      "[669]\tvalid_0's rmse: 1534.58\n",
      "[670]\tvalid_0's rmse: 1534.55\n",
      "[671]\tvalid_0's rmse: 1534.6\n",
      "[672]\tvalid_0's rmse: 1534.65\n",
      "[673]\tvalid_0's rmse: 1534.65\n",
      "[674]\tvalid_0's rmse: 1534.69\n",
      "[675]\tvalid_0's rmse: 1534.56\n",
      "[676]\tvalid_0's rmse: 1534.51\n",
      "[677]\tvalid_0's rmse: 1534.43\n",
      "[678]\tvalid_0's rmse: 1534.44\n",
      "[679]\tvalid_0's rmse: 1534.45\n",
      "[680]\tvalid_0's rmse: 1534.46\n",
      "[681]\tvalid_0's rmse: 1534.43\n",
      "[682]\tvalid_0's rmse: 1534.46\n",
      "[683]\tvalid_0's rmse: 1534.41\n",
      "[684]\tvalid_0's rmse: 1534.44\n",
      "[685]\tvalid_0's rmse: 1534.42\n",
      "[686]\tvalid_0's rmse: 1534.37\n",
      "[687]\tvalid_0's rmse: 1534.52\n",
      "[688]\tvalid_0's rmse: 1534.33\n",
      "[689]\tvalid_0's rmse: 1534.39\n",
      "[690]\tvalid_0's rmse: 1534.29\n",
      "[691]\tvalid_0's rmse: 1534.23\n",
      "[692]\tvalid_0's rmse: 1534.19\n",
      "[693]\tvalid_0's rmse: 1534.24\n",
      "[694]\tvalid_0's rmse: 1534.16\n",
      "[695]\tvalid_0's rmse: 1534.17\n",
      "[696]\tvalid_0's rmse: 1534.08\n",
      "[697]\tvalid_0's rmse: 1534.03\n",
      "[698]\tvalid_0's rmse: 1533.99\n",
      "[699]\tvalid_0's rmse: 1533.96\n",
      "[700]\tvalid_0's rmse: 1533.96\n",
      "[701]\tvalid_0's rmse: 1533.91\n",
      "[702]\tvalid_0's rmse: 1533.93\n",
      "[703]\tvalid_0's rmse: 1533.88\n",
      "[704]\tvalid_0's rmse: 1533.85\n",
      "[705]\tvalid_0's rmse: 1534.01\n",
      "[706]\tvalid_0's rmse: 1533.94\n",
      "[707]\tvalid_0's rmse: 1533.9\n",
      "[708]\tvalid_0's rmse: 1533.88\n",
      "[709]\tvalid_0's rmse: 1533.83\n",
      "[710]\tvalid_0's rmse: 1533.82\n",
      "[711]\tvalid_0's rmse: 1533.84\n",
      "[712]\tvalid_0's rmse: 1533.78\n",
      "[713]\tvalid_0's rmse: 1533.75\n",
      "[714]\tvalid_0's rmse: 1533.73\n",
      "[715]\tvalid_0's rmse: 1533.71\n",
      "[716]\tvalid_0's rmse: 1533.73\n",
      "[717]\tvalid_0's rmse: 1533.75\n",
      "[718]\tvalid_0's rmse: 1533.69\n",
      "[719]\tvalid_0's rmse: 1533.62\n",
      "[720]\tvalid_0's rmse: 1533.58\n",
      "[721]\tvalid_0's rmse: 1533.59\n",
      "[722]\tvalid_0's rmse: 1533.57\n",
      "[723]\tvalid_0's rmse: 1533.56\n",
      "[724]\tvalid_0's rmse: 1533.55\n",
      "[725]\tvalid_0's rmse: 1533.48\n",
      "[726]\tvalid_0's rmse: 1533.38\n",
      "[727]\tvalid_0's rmse: 1533.37\n",
      "[728]\tvalid_0's rmse: 1533.41\n",
      "[729]\tvalid_0's rmse: 1533.41\n",
      "[730]\tvalid_0's rmse: 1533.41\n",
      "[731]\tvalid_0's rmse: 1533.52\n",
      "[732]\tvalid_0's rmse: 1533.51\n",
      "[733]\tvalid_0's rmse: 1533.52\n",
      "[734]\tvalid_0's rmse: 1533.58\n",
      "[735]\tvalid_0's rmse: 1533.58\n",
      "[736]\tvalid_0's rmse: 1533.59\n",
      "[737]\tvalid_0's rmse: 1533.59\n",
      "[738]\tvalid_0's rmse: 1533.58\n",
      "[739]\tvalid_0's rmse: 1533.61\n",
      "[740]\tvalid_0's rmse: 1533.65\n",
      "[741]\tvalid_0's rmse: 1533.7\n",
      "[742]\tvalid_0's rmse: 1533.7\n",
      "[743]\tvalid_0's rmse: 1533.63\n",
      "[744]\tvalid_0's rmse: 1533.62\n",
      "[745]\tvalid_0's rmse: 1533.6\n",
      "[746]\tvalid_0's rmse: 1533.53\n",
      "[747]\tvalid_0's rmse: 1533.51\n",
      "[748]\tvalid_0's rmse: 1533.57\n",
      "[749]\tvalid_0's rmse: 1533.52\n",
      "[750]\tvalid_0's rmse: 1533.47\n",
      "[751]\tvalid_0's rmse: 1533.4\n",
      "[752]\tvalid_0's rmse: 1533.39\n",
      "[753]\tvalid_0's rmse: 1533.37\n",
      "[754]\tvalid_0's rmse: 1533.41\n",
      "[755]\tvalid_0's rmse: 1533.4\n",
      "[756]\tvalid_0's rmse: 1533.4\n",
      "[757]\tvalid_0's rmse: 1533.4\n",
      "[758]\tvalid_0's rmse: 1533.32\n",
      "[759]\tvalid_0's rmse: 1533.33\n",
      "[760]\tvalid_0's rmse: 1533.32\n",
      "[761]\tvalid_0's rmse: 1533.29\n",
      "[762]\tvalid_0's rmse: 1533.28\n",
      "[763]\tvalid_0's rmse: 1533.33\n",
      "[764]\tvalid_0's rmse: 1533.34\n",
      "[765]\tvalid_0's rmse: 1533.24\n",
      "[766]\tvalid_0's rmse: 1533.27\n",
      "[767]\tvalid_0's rmse: 1533.23\n",
      "[768]\tvalid_0's rmse: 1533.21\n",
      "[769]\tvalid_0's rmse: 1533.17\n",
      "[770]\tvalid_0's rmse: 1533.19\n",
      "[771]\tvalid_0's rmse: 1533.18\n",
      "[772]\tvalid_0's rmse: 1533.06\n",
      "[773]\tvalid_0's rmse: 1533.01\n",
      "[774]\tvalid_0's rmse: 1533.03\n",
      "[775]\tvalid_0's rmse: 1532.99\n",
      "[776]\tvalid_0's rmse: 1533\n",
      "[777]\tvalid_0's rmse: 1532.97\n",
      "[778]\tvalid_0's rmse: 1533.03\n",
      "[779]\tvalid_0's rmse: 1533.05\n",
      "[780]\tvalid_0's rmse: 1533.03\n",
      "[781]\tvalid_0's rmse: 1532.89\n",
      "[782]\tvalid_0's rmse: 1532.96\n",
      "[783]\tvalid_0's rmse: 1532.99\n",
      "[784]\tvalid_0's rmse: 1532.96\n",
      "[785]\tvalid_0's rmse: 1532.94\n",
      "[786]\tvalid_0's rmse: 1532.97\n",
      "[787]\tvalid_0's rmse: 1532.96\n",
      "[788]\tvalid_0's rmse: 1532.96\n",
      "[789]\tvalid_0's rmse: 1532.92\n",
      "[790]\tvalid_0's rmse: 1532.92\n",
      "[791]\tvalid_0's rmse: 1532.92\n",
      "[792]\tvalid_0's rmse: 1532.96\n",
      "[793]\tvalid_0's rmse: 1532.92\n",
      "[794]\tvalid_0's rmse: 1532.85\n",
      "[795]\tvalid_0's rmse: 1532.79\n",
      "[796]\tvalid_0's rmse: 1532.67\n",
      "[797]\tvalid_0's rmse: 1532.71\n",
      "[798]\tvalid_0's rmse: 1532.71\n",
      "[799]\tvalid_0's rmse: 1532.74\n",
      "[800]\tvalid_0's rmse: 1532.71\n",
      "[801]\tvalid_0's rmse: 1532.68\n",
      "[802]\tvalid_0's rmse: 1532.72\n",
      "[803]\tvalid_0's rmse: 1532.66\n",
      "[804]\tvalid_0's rmse: 1532.69\n",
      "[805]\tvalid_0's rmse: 1532.65\n",
      "[806]\tvalid_0's rmse: 1532.53\n",
      "[807]\tvalid_0's rmse: 1532.46\n",
      "[808]\tvalid_0's rmse: 1532.41\n",
      "[809]\tvalid_0's rmse: 1532.41\n",
      "[810]\tvalid_0's rmse: 1532.11\n",
      "[811]\tvalid_0's rmse: 1532.12\n",
      "[812]\tvalid_0's rmse: 1532.06\n",
      "[813]\tvalid_0's rmse: 1531.92\n",
      "[814]\tvalid_0's rmse: 1531.92\n",
      "[815]\tvalid_0's rmse: 1531.95\n",
      "[816]\tvalid_0's rmse: 1531.92\n",
      "[817]\tvalid_0's rmse: 1531.8\n",
      "[818]\tvalid_0's rmse: 1531.77\n",
      "[819]\tvalid_0's rmse: 1531.73\n",
      "[820]\tvalid_0's rmse: 1531.7\n",
      "[821]\tvalid_0's rmse: 1531.65\n",
      "[822]\tvalid_0's rmse: 1531.7\n",
      "[823]\tvalid_0's rmse: 1531.69\n",
      "[824]\tvalid_0's rmse: 1531.68\n",
      "[825]\tvalid_0's rmse: 1531.74\n",
      "[826]\tvalid_0's rmse: 1531.69\n",
      "[827]\tvalid_0's rmse: 1531.63\n",
      "[828]\tvalid_0's rmse: 1531.54\n",
      "[829]\tvalid_0's rmse: 1531.6\n",
      "[830]\tvalid_0's rmse: 1531.62\n",
      "[831]\tvalid_0's rmse: 1531.65\n",
      "[832]\tvalid_0's rmse: 1531.59\n",
      "[833]\tvalid_0's rmse: 1531.56\n",
      "[834]\tvalid_0's rmse: 1531.55\n",
      "[835]\tvalid_0's rmse: 1531.53\n",
      "[836]\tvalid_0's rmse: 1531.46\n",
      "[837]\tvalid_0's rmse: 1531.44\n",
      "[838]\tvalid_0's rmse: 1531.39\n",
      "[839]\tvalid_0's rmse: 1531.37\n",
      "[840]\tvalid_0's rmse: 1531.39\n",
      "[841]\tvalid_0's rmse: 1531.33\n",
      "[842]\tvalid_0's rmse: 1531.35\n",
      "[843]\tvalid_0's rmse: 1531.32\n",
      "[844]\tvalid_0's rmse: 1531.33\n",
      "[845]\tvalid_0's rmse: 1531.35\n",
      "[846]\tvalid_0's rmse: 1531.34\n",
      "[847]\tvalid_0's rmse: 1531.37\n",
      "[848]\tvalid_0's rmse: 1531.36\n",
      "[849]\tvalid_0's rmse: 1531.31\n",
      "[850]\tvalid_0's rmse: 1531.27\n",
      "[851]\tvalid_0's rmse: 1531.27\n",
      "[852]\tvalid_0's rmse: 1531.29\n",
      "[853]\tvalid_0's rmse: 1531.28\n",
      "[854]\tvalid_0's rmse: 1531.28\n",
      "[855]\tvalid_0's rmse: 1531.28\n",
      "[856]\tvalid_0's rmse: 1531.1\n",
      "[857]\tvalid_0's rmse: 1531.07\n",
      "[858]\tvalid_0's rmse: 1531.08\n",
      "[859]\tvalid_0's rmse: 1531.08\n",
      "[860]\tvalid_0's rmse: 1530.96\n",
      "[861]\tvalid_0's rmse: 1530.88\n",
      "[862]\tvalid_0's rmse: 1530.87\n",
      "[863]\tvalid_0's rmse: 1530.7\n",
      "[864]\tvalid_0's rmse: 1530.56\n",
      "[865]\tvalid_0's rmse: 1530.46\n",
      "[866]\tvalid_0's rmse: 1530.49\n",
      "[867]\tvalid_0's rmse: 1530.4\n",
      "[868]\tvalid_0's rmse: 1530.29\n",
      "[869]\tvalid_0's rmse: 1530.3\n",
      "[870]\tvalid_0's rmse: 1530.14\n",
      "[871]\tvalid_0's rmse: 1530.16\n",
      "[872]\tvalid_0's rmse: 1530.04\n",
      "[873]\tvalid_0's rmse: 1530.01\n",
      "[874]\tvalid_0's rmse: 1530.03\n",
      "[875]\tvalid_0's rmse: 1530.07\n",
      "[876]\tvalid_0's rmse: 1530.03\n",
      "[877]\tvalid_0's rmse: 1530.07\n",
      "[878]\tvalid_0's rmse: 1530.02\n",
      "[879]\tvalid_0's rmse: 1530.02\n",
      "[880]\tvalid_0's rmse: 1529.95\n",
      "[881]\tvalid_0's rmse: 1529.97\n",
      "[882]\tvalid_0's rmse: 1529.92\n",
      "[883]\tvalid_0's rmse: 1529.92\n",
      "[884]\tvalid_0's rmse: 1529.92\n",
      "[885]\tvalid_0's rmse: 1529.89\n",
      "[886]\tvalid_0's rmse: 1529.88\n",
      "[887]\tvalid_0's rmse: 1529.77\n",
      "[888]\tvalid_0's rmse: 1529.74\n",
      "[889]\tvalid_0's rmse: 1529.74\n",
      "[890]\tvalid_0's rmse: 1529.8\n",
      "[891]\tvalid_0's rmse: 1529.77\n",
      "[892]\tvalid_0's rmse: 1529.76\n",
      "[893]\tvalid_0's rmse: 1529.79\n",
      "[894]\tvalid_0's rmse: 1529.74\n",
      "[895]\tvalid_0's rmse: 1529.7\n",
      "[896]\tvalid_0's rmse: 1529.71\n",
      "[897]\tvalid_0's rmse: 1529.73\n",
      "[898]\tvalid_0's rmse: 1529.75\n",
      "[899]\tvalid_0's rmse: 1529.7\n",
      "[900]\tvalid_0's rmse: 1529.64\n",
      "[901]\tvalid_0's rmse: 1529.53\n",
      "[902]\tvalid_0's rmse: 1529.48\n",
      "[903]\tvalid_0's rmse: 1529.41\n",
      "[904]\tvalid_0's rmse: 1529.4\n",
      "[905]\tvalid_0's rmse: 1529.31\n",
      "[906]\tvalid_0's rmse: 1529.24\n",
      "[907]\tvalid_0's rmse: 1529.24\n",
      "[908]\tvalid_0's rmse: 1529.22\n",
      "[909]\tvalid_0's rmse: 1529.21\n",
      "[910]\tvalid_0's rmse: 1529.22\n",
      "[911]\tvalid_0's rmse: 1529.12\n",
      "[912]\tvalid_0's rmse: 1529.07\n",
      "[913]\tvalid_0's rmse: 1529.07\n",
      "[914]\tvalid_0's rmse: 1528.88\n",
      "[915]\tvalid_0's rmse: 1528.9\n",
      "[916]\tvalid_0's rmse: 1528.81\n",
      "[917]\tvalid_0's rmse: 1528.72\n",
      "[918]\tvalid_0's rmse: 1528.71\n",
      "[919]\tvalid_0's rmse: 1528.61\n",
      "[920]\tvalid_0's rmse: 1528.57\n",
      "[921]\tvalid_0's rmse: 1528.42\n",
      "[922]\tvalid_0's rmse: 1528.43\n",
      "[923]\tvalid_0's rmse: 1528.43\n",
      "[924]\tvalid_0's rmse: 1528.41\n",
      "[925]\tvalid_0's rmse: 1528.26\n",
      "[926]\tvalid_0's rmse: 1528.32\n",
      "[927]\tvalid_0's rmse: 1528.31\n",
      "[928]\tvalid_0's rmse: 1528.32\n",
      "[929]\tvalid_0's rmse: 1528.27\n",
      "[930]\tvalid_0's rmse: 1528.28\n",
      "[931]\tvalid_0's rmse: 1528.21\n",
      "[932]\tvalid_0's rmse: 1528.26\n",
      "[933]\tvalid_0's rmse: 1528.24\n",
      "[934]\tvalid_0's rmse: 1528.26\n",
      "[935]\tvalid_0's rmse: 1528.3\n",
      "[936]\tvalid_0's rmse: 1528.28\n",
      "[937]\tvalid_0's rmse: 1528.26\n",
      "[938]\tvalid_0's rmse: 1528.26\n",
      "[939]\tvalid_0's rmse: 1528.27\n",
      "[940]\tvalid_0's rmse: 1528.27\n",
      "[941]\tvalid_0's rmse: 1528.27\n",
      "[942]\tvalid_0's rmse: 1528.26\n",
      "[943]\tvalid_0's rmse: 1528.26\n",
      "[944]\tvalid_0's rmse: 1528.13\n",
      "[945]\tvalid_0's rmse: 1528.11\n",
      "[946]\tvalid_0's rmse: 1528.14\n",
      "[947]\tvalid_0's rmse: 1528.12\n",
      "[948]\tvalid_0's rmse: 1528.05\n",
      "[949]\tvalid_0's rmse: 1528\n",
      "[950]\tvalid_0's rmse: 1527.98\n",
      "[951]\tvalid_0's rmse: 1527.96\n",
      "[952]\tvalid_0's rmse: 1527.92\n",
      "[953]\tvalid_0's rmse: 1527.97\n",
      "[954]\tvalid_0's rmse: 1527.98\n",
      "[955]\tvalid_0's rmse: 1527.98\n",
      "[956]\tvalid_0's rmse: 1528.01\n",
      "[957]\tvalid_0's rmse: 1528.03\n",
      "[958]\tvalid_0's rmse: 1528.08\n",
      "[959]\tvalid_0's rmse: 1528.06\n",
      "[960]\tvalid_0's rmse: 1528.08\n",
      "[961]\tvalid_0's rmse: 1528.09\n",
      "[962]\tvalid_0's rmse: 1528.06\n",
      "[963]\tvalid_0's rmse: 1528.09\n",
      "[964]\tvalid_0's rmse: 1528.13\n",
      "[965]\tvalid_0's rmse: 1528.13\n",
      "[966]\tvalid_0's rmse: 1528.14\n",
      "[967]\tvalid_0's rmse: 1528.13\n",
      "[968]\tvalid_0's rmse: 1528.06\n",
      "[969]\tvalid_0's rmse: 1528.03\n",
      "[970]\tvalid_0's rmse: 1528.05\n",
      "[971]\tvalid_0's rmse: 1528.06\n",
      "[972]\tvalid_0's rmse: 1528.06\n",
      "[973]\tvalid_0's rmse: 1528.07\n",
      "[974]\tvalid_0's rmse: 1528.11\n",
      "[975]\tvalid_0's rmse: 1528.04\n",
      "[976]\tvalid_0's rmse: 1528.01\n",
      "[977]\tvalid_0's rmse: 1528.06\n",
      "[978]\tvalid_0's rmse: 1528.08\n",
      "[979]\tvalid_0's rmse: 1528.12\n",
      "[980]\tvalid_0's rmse: 1528.11\n",
      "[981]\tvalid_0's rmse: 1528.17\n",
      "[982]\tvalid_0's rmse: 1528.16\n",
      "[983]\tvalid_0's rmse: 1528.09\n",
      "[984]\tvalid_0's rmse: 1528.03\n",
      "[985]\tvalid_0's rmse: 1528.02\n",
      "[986]\tvalid_0's rmse: 1528.02\n",
      "[987]\tvalid_0's rmse: 1527.99\n",
      "[988]\tvalid_0's rmse: 1527.79\n",
      "[989]\tvalid_0's rmse: 1527.79\n",
      "[990]\tvalid_0's rmse: 1527.79\n",
      "[991]\tvalid_0's rmse: 1527.79\n",
      "[992]\tvalid_0's rmse: 1527.77\n",
      "[993]\tvalid_0's rmse: 1527.76\n",
      "[994]\tvalid_0's rmse: 1527.69\n",
      "[995]\tvalid_0's rmse: 1527.69\n",
      "[996]\tvalid_0's rmse: 1527.67\n",
      "[997]\tvalid_0's rmse: 1527.65\n",
      "[998]\tvalid_0's rmse: 1527.67\n",
      "[999]\tvalid_0's rmse: 1527.63\n",
      "[1000]\tvalid_0's rmse: 1527.63\n",
      "CPU times: user 8.63 s, sys: 155 ms, total: 8.78 s\n",
      "Wall time: 8.87 s\n"
     ]
    }
   ],
   "source": [
    "%%time\n",
    "param = {'metric': 'rmse', 'max_depth':dct_with_params['LGB']['max_depth'], \"random_state\": 12345, \"learning_rate\":dct_with_params['LGB']['learning_rate'], 'n_jobs': dct_with_params['LGB']['n_jobs']}\n",
    "star_time = time.time()\n",
    "test_model_lgb = lgb.train(param,  \n",
    "                           lgb_train,\n",
    "                           valid_sets=[lgb_test],\n",
    "                           categorical_feature=['vehicle_type', 'gearbox', 'model', 'fuel_type', 'brand', 'not_repaired'],\n",
    "                           num_boost_round=1000)\n",
    "end_time = time.time()\n",
    "tr_time = (end_time - start_time) / 60"
   ]
  },
  {
   "cell_type": "code",
   "execution_count": 108,
   "metadata": {},
   "outputs": [],
   "source": [
    "del ft_train_original"
   ]
  },
  {
   "cell_type": "code",
   "execution_count": 109,
   "metadata": {},
   "outputs": [],
   "source": [
    "del tr_train_original"
   ]
  },
  {
   "cell_type": "code",
   "execution_count": 110,
   "metadata": {},
   "outputs": [],
   "source": [
    "dct_with_params['LGB'].update(train_time=tr_time)"
   ]
  },
  {
   "cell_type": "markdown",
   "metadata": {},
   "source": [
    "### Вывод"
   ]
  },
  {
   "cell_type": "code",
   "execution_count": 111,
   "metadata": {},
   "outputs": [],
   "source": [
    "model = []\n",
    "train_time = []\n",
    "search_time = []\n",
    "train_rmse = []"
   ]
  },
  {
   "cell_type": "code",
   "execution_count": 112,
   "metadata": {},
   "outputs": [],
   "source": [
    "for k in dct_with_params.keys():\n",
    "    model.append(k)\n",
    "    search_time.append(dct_with_params[k]['search_time'])\n",
    "    train_time.append(dct_with_params[k]['train_time'])\n",
    "    train_rmse.append(dct_with_params[k]['train_rmse'])\n"
   ]
  },
  {
   "cell_type": "code",
   "execution_count": 113,
   "metadata": {},
   "outputs": [
    {
     "data": {
      "text/html": [
       "<div>\n",
       "<style scoped>\n",
       "    .dataframe tbody tr th:only-of-type {\n",
       "        vertical-align: middle;\n",
       "    }\n",
       "\n",
       "    .dataframe tbody tr th {\n",
       "        vertical-align: top;\n",
       "    }\n",
       "\n",
       "    .dataframe thead th {\n",
       "        text-align: right;\n",
       "    }\n",
       "</style>\n",
       "<table border=\"1\" class=\"dataframe\">\n",
       "  <thead>\n",
       "    <tr style=\"text-align: right;\">\n",
       "      <th></th>\n",
       "      <th>Model</th>\n",
       "      <th>Train RMSE</th>\n",
       "      <th>Search Time (min)</th>\n",
       "      <th>Train Time (min)</th>\n",
       "    </tr>\n",
       "  </thead>\n",
       "  <tbody>\n",
       "    <tr>\n",
       "      <th>0</th>\n",
       "      <td>DT</td>\n",
       "      <td>2051.218323</td>\n",
       "      <td>0.142094</td>\n",
       "      <td>0.009005</td>\n",
       "    </tr>\n",
       "    <tr>\n",
       "      <th>1</th>\n",
       "      <td>RF</td>\n",
       "      <td>1652.243192</td>\n",
       "      <td>1.912049</td>\n",
       "      <td>0.096083</td>\n",
       "    </tr>\n",
       "    <tr>\n",
       "      <th>2</th>\n",
       "      <td>CBR</td>\n",
       "      <td>1360.442109</td>\n",
       "      <td>27.231136</td>\n",
       "      <td>7.005172</td>\n",
       "    </tr>\n",
       "    <tr>\n",
       "      <th>3</th>\n",
       "      <td>LGB</td>\n",
       "      <td>1592.048679</td>\n",
       "      <td>1.288735</td>\n",
       "      <td>3.447391</td>\n",
       "    </tr>\n",
       "  </tbody>\n",
       "</table>\n",
       "</div>"
      ],
      "text/plain": [
       "  Model   Train RMSE  Search Time (min)  Train Time (min)\n",
       "0    DT  2051.218323           0.142094          0.009005\n",
       "1    RF  1652.243192           1.912049          0.096083\n",
       "2   CBR  1360.442109          27.231136          7.005172\n",
       "3   LGB  1592.048679           1.288735          3.447391"
      ]
     },
     "metadata": {},
     "output_type": "display_data"
    }
   ],
   "source": [
    "results = {\n",
    "    'Model' : model,\n",
    "    'Train RMSE' :pd.Series(train_rmse),\n",
    "    'Search Time (min)': pd.Series(search_time),\n",
    "    'Train Time (min)': pd.Series(train_time),\n",
    "\n",
    "    }\n",
    "display(pd.DataFrame(results))"
   ]
  },
  {
   "cell_type": "markdown",
   "metadata": {},
   "source": [
    "**Быстрее всех обучается модель \"Дерево Решений\", дольше всех \"CatBoostRegressor\". Лучший результат метрики при обучении у CatBoostRegressor.**"
   ]
  },
  {
   "cell_type": "markdown",
   "metadata": {},
   "source": [
    "## Анализ моделей"
   ]
  },
  {
   "cell_type": "markdown",
   "metadata": {},
   "source": [
    "### Протестируем модели"
   ]
  },
  {
   "cell_type": "code",
   "execution_count": 114,
   "metadata": {},
   "outputs": [
    {
     "name": "stdout",
     "output_type": "stream",
     "text": [
      "CPU times: user 14.4 ms, sys: 15 µs, total: 14.5 ms\n",
      "Wall time: 13.4 ms\n"
     ]
    }
   ],
   "source": [
    "%%time\n",
    "start = time.time()\n",
    "dt_rmse = mean_squared_error(tr_test_le,test_model_dt.predict(ft_test_le),squared=False)\n",
    "end = time.time()\n",
    "test_time = (end - start) / 60"
   ]
  },
  {
   "cell_type": "code",
   "execution_count": 115,
   "metadata": {},
   "outputs": [],
   "source": [
    "dct_with_params['DT'].update(test_rmse=dt_rmse,test_time=test_time)"
   ]
  },
  {
   "cell_type": "code",
   "execution_count": 116,
   "metadata": {},
   "outputs": [
    {
     "name": "stdout",
     "output_type": "stream",
     "text": [
      "CPU times: user 270 ms, sys: 0 ns, total: 270 ms\n",
      "Wall time: 269 ms\n"
     ]
    }
   ],
   "source": [
    "%%time\n",
    "start = time.time()\n",
    "rf_rmse = mean_squared_error(tr_test_le,test_model_rf.predict(ft_test_le),squared=False)\n",
    "end = time.time()\n",
    "test_time = (end - start) / 60"
   ]
  },
  {
   "cell_type": "code",
   "execution_count": 117,
   "metadata": {},
   "outputs": [],
   "source": [
    "dct_with_params['RF'].update(test_rmse=rf_rmse, test_time=test_time)"
   ]
  },
  {
   "cell_type": "code",
   "execution_count": 118,
   "metadata": {},
   "outputs": [
    {
     "name": "stdout",
     "output_type": "stream",
     "text": [
      "CPU times: user 1.78 s, sys: 0 ns, total: 1.78 s\n",
      "Wall time: 1.78 s\n"
     ]
    }
   ],
   "source": [
    "%%time\n",
    "start = time.time()\n",
    "cbr_rmse = mean_squared_error(tr_test_original,test_cat.predict(ft_test_original),squared=False)\n",
    "end = time.time()\n",
    "test_time = (end - start) / 60"
   ]
  },
  {
   "cell_type": "code",
   "execution_count": 119,
   "metadata": {},
   "outputs": [],
   "source": [
    "dct_with_params['CBR'].update(test_rmse=cbr_rmse, test_time=test_time)"
   ]
  },
  {
   "cell_type": "code",
   "execution_count": 120,
   "metadata": {},
   "outputs": [
    {
     "name": "stdout",
     "output_type": "stream",
     "text": [
      "CPU times: user 6.25 s, sys: 0 ns, total: 6.25 s\n",
      "Wall time: 6.26 s\n"
     ]
    }
   ],
   "source": [
    "%%time\n",
    "start = time.time()\n",
    "lgb_rmse = mean_squared_error(tr_test_original,test_model_lgb.predict(ft_test_original),squared=False)\n",
    "end = time.time()\n",
    "test_time = (end - start) / 60"
   ]
  },
  {
   "cell_type": "code",
   "execution_count": 121,
   "metadata": {
    "scrolled": true
   },
   "outputs": [],
   "source": [
    "dct_with_params['LGB'].update(test_rmse=lgb_rmse, test_time=test_time)"
   ]
  },
  {
   "cell_type": "code",
   "execution_count": 122,
   "metadata": {},
   "outputs": [],
   "source": [
    "test_time = []\n",
    "rmse_test = []\n",
    "for k in dct_with_params.keys():\n",
    "    rmse_test.append(dct_with_params[k]['test_rmse'])\n",
    "    test_time.append(dct_with_params[k]['test_time'])"
   ]
  },
  {
   "cell_type": "code",
   "execution_count": 123,
   "metadata": {},
   "outputs": [
    {
     "data": {
      "text/html": [
       "<div>\n",
       "<style scoped>\n",
       "    .dataframe tbody tr th:only-of-type {\n",
       "        vertical-align: middle;\n",
       "    }\n",
       "\n",
       "    .dataframe tbody tr th {\n",
       "        vertical-align: top;\n",
       "    }\n",
       "\n",
       "    .dataframe thead th {\n",
       "        text-align: right;\n",
       "    }\n",
       "</style>\n",
       "<table border=\"1\" class=\"dataframe\">\n",
       "  <thead>\n",
       "    <tr style=\"text-align: right;\">\n",
       "      <th></th>\n",
       "      <th>Model</th>\n",
       "      <th>Train RMSE</th>\n",
       "      <th>Test RMSE</th>\n",
       "      <th>Search Time (min)</th>\n",
       "      <th>Train Time (min)</th>\n",
       "      <th>Test Time (min)</th>\n",
       "    </tr>\n",
       "  </thead>\n",
       "  <tbody>\n",
       "    <tr>\n",
       "      <th>0</th>\n",
       "      <td>DT</td>\n",
       "      <td>2051.218323</td>\n",
       "      <td>2051.099571</td>\n",
       "      <td>0.142094</td>\n",
       "      <td>0.009005</td>\n",
       "      <td>0.000223</td>\n",
       "    </tr>\n",
       "    <tr>\n",
       "      <th>1</th>\n",
       "      <td>RF</td>\n",
       "      <td>1652.243192</td>\n",
       "      <td>1638.224845</td>\n",
       "      <td>1.912049</td>\n",
       "      <td>0.096083</td>\n",
       "      <td>0.004483</td>\n",
       "    </tr>\n",
       "    <tr>\n",
       "      <th>2</th>\n",
       "      <td>CBR</td>\n",
       "      <td>1360.442109</td>\n",
       "      <td>1535.049282</td>\n",
       "      <td>27.231136</td>\n",
       "      <td>7.005172</td>\n",
       "      <td>0.029711</td>\n",
       "    </tr>\n",
       "    <tr>\n",
       "      <th>3</th>\n",
       "      <td>LGB</td>\n",
       "      <td>1592.048679</td>\n",
       "      <td>1527.629823</td>\n",
       "      <td>1.288735</td>\n",
       "      <td>3.447391</td>\n",
       "      <td>0.104339</td>\n",
       "    </tr>\n",
       "  </tbody>\n",
       "</table>\n",
       "</div>"
      ],
      "text/plain": [
       "  Model   Train RMSE    Test RMSE  Search Time (min)  Train Time (min)  \\\n",
       "0    DT  2051.218323  2051.099571           0.142094          0.009005   \n",
       "1    RF  1652.243192  1638.224845           1.912049          0.096083   \n",
       "2   CBR  1360.442109  1535.049282          27.231136          7.005172   \n",
       "3   LGB  1592.048679  1527.629823           1.288735          3.447391   \n",
       "\n",
       "   Test Time (min)  \n",
       "0         0.000223  \n",
       "1         0.004483  \n",
       "2         0.029711  \n",
       "3         0.104339  "
      ]
     },
     "metadata": {},
     "output_type": "display_data"
    }
   ],
   "source": [
    "results = {\n",
    "    'Model' : model,\n",
    "    'Train RMSE' :pd.Series(train_rmse),\n",
    "    'Test RMSE' :pd.Series(rmse_test),\n",
    "    'Search Time (min)': pd.Series(search_time),\n",
    "    'Train Time (min)': pd.Series(train_time),\n",
    "    'Test Time (min)': pd.Series(test_time)\n",
    "    }\n",
    "display(pd.DataFrame(results))"
   ]
  },
  {
   "cell_type": "markdown",
   "metadata": {},
   "source": [
    "### Вывод"
   ]
  },
  {
   "cell_type": "markdown",
   "metadata": {},
   "source": [
    "**Быстрее всех работает модель дерево решений, дольше - LightGBM и CatBoostRegressor . Лучший результат у LightGBM и CatBoostRegressor.**"
   ]
  },
  {
   "cell_type": "markdown",
   "metadata": {},
   "source": [
    "## Вывод"
   ]
  },
  {
   "cell_type": "markdown",
   "metadata": {},
   "source": [
    "**Дольше всех обучались и подбирались параметры у  моделей LightGBM и CatBoostRegressor.**\n",
    "\n",
    "**Быстрее всего работает модель \"Дерево решений\",  лучший результат не смотря на время работы у модели \"LightGBM\".**\n",
    "\n",
    "**Не смотря на длительное по сравнению с другими моделями время работы у модели \"CatBoostRegressor\", она превосходит остальные по качеству предсказания, хоть и не. значительно уступает по качеству LightGBM, но превосходит ее по времени работы.**\n",
    "\n",
    "**Считаю, что она является наиболее предпочтительной моделью. В дополнение: у отличная документация, удобство исползования и гибкая система настройки параметров.**"
   ]
  }
 ],
 "metadata": {
  "ExecuteTimeLog": [
   {
    "duration": 1924,
    "start_time": "2022-04-26T17:34:19.290Z"
   },
   {
    "duration": 990,
    "start_time": "2022-04-26T17:34:50.471Z"
   },
   {
    "duration": 184,
    "start_time": "2022-04-26T17:35:00.818Z"
   },
   {
    "duration": 138,
    "start_time": "2022-04-26T17:35:34.754Z"
   },
   {
    "duration": 11,
    "start_time": "2022-04-26T17:35:37.463Z"
   },
   {
    "duration": 6,
    "start_time": "2022-04-26T17:37:39.809Z"
   },
   {
    "duration": 5,
    "start_time": "2022-04-26T17:38:05.477Z"
   },
   {
    "duration": 160,
    "start_time": "2022-04-26T17:39:43.081Z"
   },
   {
    "duration": 10,
    "start_time": "2022-04-26T17:39:49.392Z"
   },
   {
    "duration": 5,
    "start_time": "2022-04-26T17:39:57.017Z"
   },
   {
    "duration": 147,
    "start_time": "2022-04-26T17:40:26.069Z"
   },
   {
    "duration": 6,
    "start_time": "2022-04-26T17:40:26.931Z"
   },
   {
    "duration": 144,
    "start_time": "2022-04-26T17:40:33.766Z"
   },
   {
    "duration": 5,
    "start_time": "2022-04-26T17:40:34.492Z"
   },
   {
    "duration": 39,
    "start_time": "2022-04-26T17:42:21.907Z"
   },
   {
    "duration": 6,
    "start_time": "2022-04-26T17:42:22.278Z"
   },
   {
    "duration": 6,
    "start_time": "2022-04-26T17:42:27.174Z"
   },
   {
    "duration": 18,
    "start_time": "2022-04-26T17:42:41.895Z"
   },
   {
    "duration": 2025,
    "start_time": "2022-04-26T17:42:58.999Z"
   },
   {
    "duration": 1541,
    "start_time": "2022-04-26T17:43:01.026Z"
   },
   {
    "duration": 5,
    "start_time": "2022-04-26T17:43:02.569Z"
   },
   {
    "duration": 35,
    "start_time": "2022-04-26T17:43:02.577Z"
   },
   {
    "duration": 7,
    "start_time": "2022-04-26T17:43:02.614Z"
   },
   {
    "duration": 40,
    "start_time": "2022-04-26T17:43:02.623Z"
   },
   {
    "duration": 23,
    "start_time": "2022-04-26T17:43:02.666Z"
   },
   {
    "duration": 67,
    "start_time": "2022-04-26T17:44:01.732Z"
   },
   {
    "duration": 5,
    "start_time": "2022-04-26T17:44:02.468Z"
   },
   {
    "duration": 575,
    "start_time": "2022-04-26T17:45:39.014Z"
   },
   {
    "duration": 5,
    "start_time": "2022-04-26T17:45:50.870Z"
   },
   {
    "duration": 134,
    "start_time": "2022-04-26T17:46:03.561Z"
   },
   {
    "duration": 478,
    "start_time": "2022-04-26T17:46:12.982Z"
   },
   {
    "duration": 173,
    "start_time": "2022-04-26T17:46:58.602Z"
   },
   {
    "duration": 152,
    "start_time": "2022-04-26T17:47:05.277Z"
   },
   {
    "duration": 11,
    "start_time": "2022-04-26T17:47:12.655Z"
   },
   {
    "duration": 1837,
    "start_time": "2022-04-26T17:47:28.023Z"
   },
   {
    "duration": 994,
    "start_time": "2022-04-26T17:47:29.863Z"
   },
   {
    "duration": 11,
    "start_time": "2022-04-26T17:47:30.860Z"
   },
   {
    "duration": 8,
    "start_time": "2022-04-26T17:47:30.875Z"
   },
   {
    "duration": 12,
    "start_time": "2022-04-26T17:47:30.885Z"
   },
   {
    "duration": 12,
    "start_time": "2022-04-26T17:47:41.232Z"
   },
   {
    "duration": 15,
    "start_time": "2022-04-26T17:47:55.459Z"
   },
   {
    "duration": 556,
    "start_time": "2022-04-26T17:48:44.144Z"
   },
   {
    "duration": 511,
    "start_time": "2022-04-26T17:49:13.984Z"
   },
   {
    "duration": 462,
    "start_time": "2022-04-26T17:49:37.849Z"
   },
   {
    "duration": 7,
    "start_time": "2022-04-26T17:49:51.036Z"
   },
   {
    "duration": 25,
    "start_time": "2022-04-26T17:50:35.271Z"
   },
   {
    "duration": 24,
    "start_time": "2022-04-26T17:51:14.378Z"
   },
   {
    "duration": 160,
    "start_time": "2022-04-26T17:52:52.614Z"
   },
   {
    "duration": 14,
    "start_time": "2022-04-26T17:52:58.292Z"
   },
   {
    "duration": 149,
    "start_time": "2022-04-26T17:53:03.689Z"
   },
   {
    "duration": 16,
    "start_time": "2022-04-26T17:53:10.421Z"
   },
   {
    "duration": 145,
    "start_time": "2022-04-26T17:56:57.998Z"
   },
   {
    "duration": 3,
    "start_time": "2022-04-26T17:57:06.884Z"
   },
   {
    "duration": 6,
    "start_time": "2022-04-26T17:57:08.469Z"
   },
   {
    "duration": 6,
    "start_time": "2022-04-26T18:13:01.315Z"
   },
   {
    "duration": 10,
    "start_time": "2022-04-26T18:15:18.911Z"
   },
   {
    "duration": 73,
    "start_time": "2022-04-26T18:15:30.547Z"
   },
   {
    "duration": 14,
    "start_time": "2022-04-26T18:15:35.799Z"
   },
   {
    "duration": 122,
    "start_time": "2022-04-26T18:15:38.781Z"
   },
   {
    "duration": 27,
    "start_time": "2022-04-26T18:16:21.291Z"
   },
   {
    "duration": 131,
    "start_time": "2022-04-26T18:16:29.602Z"
   },
   {
    "duration": 27,
    "start_time": "2022-04-26T18:16:36.523Z"
   },
   {
    "duration": 125,
    "start_time": "2022-04-26T18:16:37.523Z"
   },
   {
    "duration": 16,
    "start_time": "2022-04-26T18:16:50.482Z"
   },
   {
    "duration": 275,
    "start_time": "2022-04-26T18:19:34.405Z"
   },
   {
    "duration": 116,
    "start_time": "2022-04-26T18:19:35.799Z"
   },
   {
    "duration": 148,
    "start_time": "2022-04-26T18:20:12.129Z"
   },
   {
    "duration": 97,
    "start_time": "2022-04-26T18:20:12.847Z"
   },
   {
    "duration": 1703,
    "start_time": "2022-04-26T18:20:21.306Z"
   },
   {
    "duration": 850,
    "start_time": "2022-04-26T18:20:23.011Z"
   },
   {
    "duration": 136,
    "start_time": "2022-04-26T18:20:23.863Z"
   },
   {
    "duration": 18,
    "start_time": "2022-04-26T18:20:24.001Z"
   },
   {
    "duration": 3,
    "start_time": "2022-04-26T18:20:24.021Z"
   },
   {
    "duration": 1727,
    "start_time": "2022-04-26T18:20:24.034Z"
   },
   {
    "duration": 0,
    "start_time": "2022-04-26T18:20:25.763Z"
   },
   {
    "duration": 0,
    "start_time": "2022-04-26T18:20:25.765Z"
   },
   {
    "duration": 50,
    "start_time": "2022-04-26T18:23:59.942Z"
   },
   {
    "duration": 101,
    "start_time": "2022-04-26T18:24:00.743Z"
   },
   {
    "duration": 133,
    "start_time": "2022-04-26T18:24:47.349Z"
   },
   {
    "duration": 99,
    "start_time": "2022-04-26T18:24:48.968Z"
   },
   {
    "duration": 1543,
    "start_time": "2022-04-26T18:24:56.869Z"
   },
   {
    "duration": 903,
    "start_time": "2022-04-26T18:24:58.415Z"
   },
   {
    "duration": 142,
    "start_time": "2022-04-26T18:24:59.320Z"
   },
   {
    "duration": 20,
    "start_time": "2022-04-26T18:24:59.465Z"
   },
   {
    "duration": 3,
    "start_time": "2022-04-26T18:24:59.488Z"
   },
   {
    "duration": 376,
    "start_time": "2022-04-26T18:24:59.493Z"
   },
   {
    "duration": 132,
    "start_time": "2022-04-26T18:24:59.871Z"
   },
   {
    "duration": 35,
    "start_time": "2022-04-26T18:25:00.006Z"
   },
   {
    "duration": 16,
    "start_time": "2022-04-26T18:25:57.163Z"
   },
   {
    "duration": 1557,
    "start_time": "2022-04-26T18:26:05.170Z"
   },
   {
    "duration": 906,
    "start_time": "2022-04-26T18:26:06.729Z"
   },
   {
    "duration": 144,
    "start_time": "2022-04-26T18:26:07.637Z"
   },
   {
    "duration": 22,
    "start_time": "2022-04-26T18:26:07.784Z"
   },
   {
    "duration": 38,
    "start_time": "2022-04-26T18:26:07.808Z"
   },
   {
    "duration": 6,
    "start_time": "2022-04-26T18:26:07.848Z"
   },
   {
    "duration": 341,
    "start_time": "2022-04-26T18:26:07.856Z"
   },
   {
    "duration": 103,
    "start_time": "2022-04-26T18:26:08.199Z"
   },
   {
    "duration": 34,
    "start_time": "2022-04-26T18:26:08.304Z"
   },
   {
    "duration": 71,
    "start_time": "2022-04-26T18:27:47.970Z"
   },
   {
    "duration": 99,
    "start_time": "2022-04-26T18:27:48.953Z"
   },
   {
    "duration": 15,
    "start_time": "2022-04-26T18:28:14.101Z"
   },
   {
    "duration": 1561,
    "start_time": "2022-04-26T18:28:51.268Z"
   },
   {
    "duration": 904,
    "start_time": "2022-04-26T18:28:52.831Z"
   },
   {
    "duration": 132,
    "start_time": "2022-04-26T18:28:53.737Z"
   },
   {
    "duration": 20,
    "start_time": "2022-04-26T18:28:53.872Z"
   },
   {
    "duration": 14,
    "start_time": "2022-04-26T18:28:53.893Z"
   },
   {
    "duration": 4,
    "start_time": "2022-04-26T18:28:53.933Z"
   },
   {
    "duration": 334,
    "start_time": "2022-04-26T18:28:53.939Z"
   },
   {
    "duration": 106,
    "start_time": "2022-04-26T18:28:54.275Z"
   },
   {
    "duration": 16,
    "start_time": "2022-04-26T18:28:54.383Z"
   },
   {
    "duration": 69,
    "start_time": "2022-04-26T18:31:16.856Z"
   },
   {
    "duration": 113,
    "start_time": "2022-04-26T18:31:17.406Z"
   },
   {
    "duration": 21,
    "start_time": "2022-04-26T18:31:22.545Z"
   },
   {
    "duration": 1745,
    "start_time": "2022-04-26T18:32:17.164Z"
   },
   {
    "duration": 1041,
    "start_time": "2022-04-26T18:32:18.911Z"
   },
   {
    "duration": 199,
    "start_time": "2022-04-26T18:32:19.955Z"
   },
   {
    "duration": 20,
    "start_time": "2022-04-26T18:32:20.158Z"
   },
   {
    "duration": 14,
    "start_time": "2022-04-26T18:32:20.180Z"
   },
   {
    "duration": 42,
    "start_time": "2022-04-26T18:32:20.196Z"
   },
   {
    "duration": 369,
    "start_time": "2022-04-26T18:32:20.241Z"
   },
   {
    "duration": 106,
    "start_time": "2022-04-26T18:32:20.611Z"
   },
   {
    "duration": 43,
    "start_time": "2022-04-26T18:32:20.719Z"
   },
   {
    "duration": 151,
    "start_time": "2022-04-26T18:34:10.172Z"
   },
   {
    "duration": 100,
    "start_time": "2022-04-26T18:34:10.909Z"
   },
   {
    "duration": 16,
    "start_time": "2022-04-26T18:34:13.906Z"
   },
   {
    "duration": 1544,
    "start_time": "2022-04-26T18:34:19.874Z"
   },
   {
    "duration": 915,
    "start_time": "2022-04-26T18:34:21.420Z"
   },
   {
    "duration": 141,
    "start_time": "2022-04-26T18:34:22.337Z"
   },
   {
    "duration": 19,
    "start_time": "2022-04-26T18:34:22.481Z"
   },
   {
    "duration": 34,
    "start_time": "2022-04-26T18:34:22.502Z"
   },
   {
    "duration": 5,
    "start_time": "2022-04-26T18:34:22.538Z"
   },
   {
    "duration": 2939,
    "start_time": "2022-04-26T18:34:22.545Z"
   },
   {
    "duration": 0,
    "start_time": "2022-04-26T18:34:25.486Z"
   },
   {
    "duration": 0,
    "start_time": "2022-04-26T18:34:25.488Z"
   },
   {
    "duration": 1289,
    "start_time": "2022-04-26T18:37:08.151Z"
   },
   {
    "duration": 122,
    "start_time": "2022-04-26T18:37:42.813Z"
   },
   {
    "duration": 108,
    "start_time": "2022-04-26T18:37:43.704Z"
   },
   {
    "duration": 16,
    "start_time": "2022-04-26T18:37:45.547Z"
   },
   {
    "duration": 44,
    "start_time": "2022-04-26T18:38:03.774Z"
   },
   {
    "duration": 111,
    "start_time": "2022-04-26T18:38:04.910Z"
   },
   {
    "duration": 122,
    "start_time": "2022-04-26T18:38:10.867Z"
   },
   {
    "duration": 99,
    "start_time": "2022-04-26T18:38:11.405Z"
   },
   {
    "duration": 16,
    "start_time": "2022-04-26T18:38:12.170Z"
   },
   {
    "duration": 40,
    "start_time": "2022-04-26T18:39:30.893Z"
   },
   {
    "duration": 112,
    "start_time": "2022-04-26T18:39:33.169Z"
   },
   {
    "duration": 15,
    "start_time": "2022-04-26T18:39:33.879Z"
   },
   {
    "duration": 69,
    "start_time": "2022-04-26T18:39:41.997Z"
   },
   {
    "duration": 103,
    "start_time": "2022-04-26T18:39:42.482Z"
   },
   {
    "duration": 15,
    "start_time": "2022-04-26T18:39:43.357Z"
   },
   {
    "duration": 1616,
    "start_time": "2022-04-26T18:39:52.916Z"
   },
   {
    "duration": 923,
    "start_time": "2022-04-26T18:39:54.535Z"
   },
   {
    "duration": 146,
    "start_time": "2022-04-26T18:39:55.459Z"
   },
   {
    "duration": 36,
    "start_time": "2022-04-26T18:39:55.608Z"
   },
   {
    "duration": 19,
    "start_time": "2022-04-26T18:39:55.645Z"
   },
   {
    "duration": 6,
    "start_time": "2022-04-26T18:39:55.666Z"
   },
   {
    "duration": 357,
    "start_time": "2022-04-26T18:39:55.673Z"
   },
   {
    "duration": 118,
    "start_time": "2022-04-26T18:39:56.034Z"
   },
   {
    "duration": 15,
    "start_time": "2022-04-26T18:39:56.154Z"
   },
   {
    "duration": 43,
    "start_time": "2022-04-26T18:44:36.176Z"
   },
   {
    "duration": 110,
    "start_time": "2022-04-26T18:44:36.774Z"
   },
   {
    "duration": 17,
    "start_time": "2022-04-26T18:44:37.296Z"
   },
   {
    "duration": 1531,
    "start_time": "2022-04-26T18:44:47.192Z"
   },
   {
    "duration": 897,
    "start_time": "2022-04-26T18:44:48.726Z"
   },
   {
    "duration": 168,
    "start_time": "2022-04-26T18:44:49.625Z"
   },
   {
    "duration": 18,
    "start_time": "2022-04-26T18:44:49.795Z"
   },
   {
    "duration": 35,
    "start_time": "2022-04-26T18:44:49.815Z"
   },
   {
    "duration": 5,
    "start_time": "2022-04-26T18:44:49.852Z"
   },
   {
    "duration": 319,
    "start_time": "2022-04-26T18:44:49.859Z"
   },
   {
    "duration": 110,
    "start_time": "2022-04-26T18:44:50.180Z"
   },
   {
    "duration": 15,
    "start_time": "2022-04-26T18:44:50.292Z"
   },
   {
    "duration": 45,
    "start_time": "2022-04-26T18:45:19.620Z"
   },
   {
    "duration": 108,
    "start_time": "2022-04-26T18:45:20.074Z"
   },
   {
    "duration": 16,
    "start_time": "2022-04-26T18:45:20.597Z"
   },
   {
    "duration": 1600,
    "start_time": "2022-04-26T18:45:44.327Z"
   },
   {
    "duration": 906,
    "start_time": "2022-04-26T18:45:45.929Z"
   },
   {
    "duration": 153,
    "start_time": "2022-04-26T18:45:46.837Z"
   },
   {
    "duration": 19,
    "start_time": "2022-04-26T18:45:46.992Z"
   },
   {
    "duration": 17,
    "start_time": "2022-04-26T18:45:47.037Z"
   },
   {
    "duration": 19,
    "start_time": "2022-04-26T18:45:47.055Z"
   },
   {
    "duration": 445,
    "start_time": "2022-04-26T18:45:47.075Z"
   },
   {
    "duration": 0,
    "start_time": "2022-04-26T18:45:47.522Z"
   },
   {
    "duration": 0,
    "start_time": "2022-04-26T18:45:47.523Z"
   },
   {
    "duration": 1179,
    "start_time": "2022-04-26T18:46:05.105Z"
   },
   {
    "duration": 111,
    "start_time": "2022-04-26T18:46:06.320Z"
   },
   {
    "duration": 24,
    "start_time": "2022-04-26T18:46:06.626Z"
   },
   {
    "duration": 1554,
    "start_time": "2022-04-26T18:46:16.472Z"
   },
   {
    "duration": 871,
    "start_time": "2022-04-26T18:46:18.028Z"
   },
   {
    "duration": 163,
    "start_time": "2022-04-26T18:46:18.901Z"
   },
   {
    "duration": 18,
    "start_time": "2022-04-26T18:46:19.066Z"
   },
   {
    "duration": 13,
    "start_time": "2022-04-26T18:46:19.086Z"
   },
   {
    "duration": 6,
    "start_time": "2022-04-26T18:46:19.101Z"
   },
   {
    "duration": 1608,
    "start_time": "2022-04-26T18:46:19.109Z"
   },
   {
    "duration": 0,
    "start_time": "2022-04-26T18:46:20.719Z"
   },
   {
    "duration": 0,
    "start_time": "2022-04-26T18:46:20.721Z"
   },
   {
    "duration": 54,
    "start_time": "2022-04-26T18:48:28.623Z"
   },
   {
    "duration": 1590,
    "start_time": "2022-04-26T18:48:37.850Z"
   },
   {
    "duration": 921,
    "start_time": "2022-04-26T18:48:39.442Z"
   },
   {
    "duration": 149,
    "start_time": "2022-04-26T18:48:40.365Z"
   },
   {
    "duration": 36,
    "start_time": "2022-04-26T18:48:40.515Z"
   },
   {
    "duration": 16,
    "start_time": "2022-04-26T18:48:40.553Z"
   },
   {
    "duration": 7,
    "start_time": "2022-04-26T18:48:40.571Z"
   },
   {
    "duration": 433,
    "start_time": "2022-04-26T18:48:40.579Z"
   },
   {
    "duration": 0,
    "start_time": "2022-04-26T18:48:41.014Z"
   },
   {
    "duration": 0,
    "start_time": "2022-04-26T18:48:41.015Z"
   },
   {
    "duration": 61,
    "start_time": "2022-04-26T18:51:13.012Z"
   },
   {
    "duration": 104,
    "start_time": "2022-04-26T18:51:16.054Z"
   },
   {
    "duration": 15,
    "start_time": "2022-04-26T18:51:17.009Z"
   },
   {
    "duration": 144,
    "start_time": "2022-04-26T18:56:02.786Z"
   },
   {
    "duration": 15,
    "start_time": "2022-04-26T18:56:03.417Z"
   },
   {
    "duration": 1659,
    "start_time": "2022-04-26T19:01:13.514Z"
   },
   {
    "duration": 923,
    "start_time": "2022-04-26T19:01:15.175Z"
   },
   {
    "duration": 153,
    "start_time": "2022-04-26T19:01:16.100Z"
   },
   {
    "duration": 18,
    "start_time": "2022-04-26T19:01:16.255Z"
   },
   {
    "duration": 14,
    "start_time": "2022-04-26T19:01:16.275Z"
   },
   {
    "duration": 7,
    "start_time": "2022-04-26T19:01:16.291Z"
   },
   {
    "duration": 470,
    "start_time": "2022-04-26T19:01:16.300Z"
   },
   {
    "duration": 0,
    "start_time": "2022-04-26T19:01:16.771Z"
   },
   {
    "duration": 62,
    "start_time": "2022-04-26T19:02:28.886Z"
   },
   {
    "duration": 16,
    "start_time": "2022-04-26T19:02:29.768Z"
   },
   {
    "duration": 135,
    "start_time": "2022-04-26T19:02:48.059Z"
   },
   {
    "duration": 153,
    "start_time": "2022-04-26T19:02:54.230Z"
   },
   {
    "duration": 125,
    "start_time": "2022-04-26T19:02:58.353Z"
   },
   {
    "duration": 16,
    "start_time": "2022-04-26T19:02:58.860Z"
   },
   {
    "duration": 50,
    "start_time": "2022-04-26T19:03:41.065Z"
   },
   {
    "duration": 16,
    "start_time": "2022-04-26T19:03:41.593Z"
   },
   {
    "duration": 1752,
    "start_time": "2022-04-26T19:03:48.151Z"
   },
   {
    "duration": 922,
    "start_time": "2022-04-26T19:03:49.905Z"
   },
   {
    "duration": 148,
    "start_time": "2022-04-26T19:03:50.829Z"
   },
   {
    "duration": 19,
    "start_time": "2022-04-26T19:03:50.980Z"
   },
   {
    "duration": 35,
    "start_time": "2022-04-26T19:03:51.001Z"
   },
   {
    "duration": 22,
    "start_time": "2022-04-26T19:03:51.037Z"
   },
   {
    "duration": 312,
    "start_time": "2022-04-26T19:03:51.061Z"
   },
   {
    "duration": 16,
    "start_time": "2022-04-26T19:03:51.375Z"
   },
   {
    "duration": 51,
    "start_time": "2022-04-26T19:08:56.875Z"
   },
   {
    "duration": 15,
    "start_time": "2022-04-26T19:08:57.422Z"
   },
   {
    "duration": 1588,
    "start_time": "2022-04-26T19:09:06.519Z"
   },
   {
    "duration": 864,
    "start_time": "2022-04-26T19:09:08.109Z"
   },
   {
    "duration": 137,
    "start_time": "2022-04-26T19:09:08.975Z"
   },
   {
    "duration": 28,
    "start_time": "2022-04-26T19:09:09.114Z"
   },
   {
    "duration": 3,
    "start_time": "2022-04-26T19:09:09.145Z"
   },
   {
    "duration": 935,
    "start_time": "2022-04-26T19:09:09.150Z"
   },
   {
    "duration": 0,
    "start_time": "2022-04-26T19:09:10.087Z"
   },
   {
    "duration": 51,
    "start_time": "2022-04-26T19:09:28.523Z"
   },
   {
    "duration": 16,
    "start_time": "2022-04-26T19:09:30.488Z"
   },
   {
    "duration": 120,
    "start_time": "2022-04-26T19:10:26.154Z"
   },
   {
    "duration": 16,
    "start_time": "2022-04-26T19:10:26.650Z"
   },
   {
    "duration": 50,
    "start_time": "2022-04-26T19:10:43.385Z"
   },
   {
    "duration": 15,
    "start_time": "2022-04-26T19:10:43.808Z"
   },
   {
    "duration": 121,
    "start_time": "2022-04-26T19:10:48.080Z"
   },
   {
    "duration": 16,
    "start_time": "2022-04-26T19:10:48.474Z"
   },
   {
    "duration": 51,
    "start_time": "2022-04-26T19:10:51.814Z"
   },
   {
    "duration": 16,
    "start_time": "2022-04-26T19:10:52.198Z"
   },
   {
    "duration": 51,
    "start_time": "2022-04-26T19:10:55.306Z"
   },
   {
    "duration": 16,
    "start_time": "2022-04-26T19:10:55.795Z"
   },
   {
    "duration": 1636,
    "start_time": "2022-04-26T19:11:01.808Z"
   },
   {
    "duration": 915,
    "start_time": "2022-04-26T19:11:03.446Z"
   },
   {
    "duration": 152,
    "start_time": "2022-04-26T19:11:04.363Z"
   },
   {
    "duration": 29,
    "start_time": "2022-04-26T19:11:04.517Z"
   },
   {
    "duration": 5,
    "start_time": "2022-04-26T19:11:04.549Z"
   },
   {
    "duration": 325,
    "start_time": "2022-04-26T19:11:04.556Z"
   },
   {
    "duration": 17,
    "start_time": "2022-04-26T19:11:04.883Z"
   },
   {
    "duration": 53,
    "start_time": "2022-04-26T19:11:16.326Z"
   },
   {
    "duration": 16,
    "start_time": "2022-04-26T19:11:16.767Z"
   },
   {
    "duration": 1638,
    "start_time": "2022-04-26T19:11:23.110Z"
   },
   {
    "duration": 896,
    "start_time": "2022-04-26T19:11:24.750Z"
   },
   {
    "duration": 138,
    "start_time": "2022-04-26T19:11:25.648Z"
   },
   {
    "duration": 19,
    "start_time": "2022-04-26T19:11:25.789Z"
   },
   {
    "duration": 24,
    "start_time": "2022-04-26T19:11:25.810Z"
   },
   {
    "duration": 312,
    "start_time": "2022-04-26T19:11:25.835Z"
   },
   {
    "duration": 15,
    "start_time": "2022-04-26T19:11:26.149Z"
   },
   {
    "duration": 54,
    "start_time": "2022-04-26T19:18:35.472Z"
   },
   {
    "duration": 17,
    "start_time": "2022-04-26T19:18:36.332Z"
   },
   {
    "duration": 1644,
    "start_time": "2022-04-26T19:18:46.125Z"
   },
   {
    "duration": 941,
    "start_time": "2022-04-26T19:18:47.773Z"
   },
   {
    "duration": 170,
    "start_time": "2022-04-26T19:18:48.716Z"
   },
   {
    "duration": 19,
    "start_time": "2022-04-26T19:18:48.888Z"
   },
   {
    "duration": 24,
    "start_time": "2022-04-26T19:18:48.910Z"
   },
   {
    "duration": 333,
    "start_time": "2022-04-26T19:18:48.936Z"
   },
   {
    "duration": 18,
    "start_time": "2022-04-26T19:18:49.271Z"
   },
   {
    "duration": 230,
    "start_time": "2022-04-26T19:19:18.462Z"
   },
   {
    "duration": 38,
    "start_time": "2022-04-26T19:19:19.620Z"
   },
   {
    "duration": 122,
    "start_time": "2022-04-26T19:19:33.019Z"
   },
   {
    "duration": 16,
    "start_time": "2022-04-26T19:19:33.702Z"
   },
   {
    "duration": 128,
    "start_time": "2022-04-26T19:20:50.665Z"
   },
   {
    "duration": 52,
    "start_time": "2022-04-26T19:20:54.833Z"
   },
   {
    "duration": 16,
    "start_time": "2022-04-26T19:20:55.711Z"
   },
   {
    "duration": 1621,
    "start_time": "2022-04-26T19:21:02.188Z"
   },
   {
    "duration": 986,
    "start_time": "2022-04-26T19:21:03.811Z"
   },
   {
    "duration": 158,
    "start_time": "2022-04-26T19:21:04.799Z"
   },
   {
    "duration": 20,
    "start_time": "2022-04-26T19:21:04.959Z"
   },
   {
    "duration": 6,
    "start_time": "2022-04-26T19:21:04.982Z"
   },
   {
    "duration": 2656,
    "start_time": "2022-04-26T19:21:04.990Z"
   },
   {
    "duration": 0,
    "start_time": "2022-04-26T19:21:07.648Z"
   },
   {
    "duration": 1182,
    "start_time": "2022-04-26T19:21:30.401Z"
   },
   {
    "duration": 0,
    "start_time": "2022-04-26T19:21:31.585Z"
   },
   {
    "duration": 2304,
    "start_time": "2022-04-26T19:22:38.870Z"
   },
   {
    "duration": 0,
    "start_time": "2022-04-26T19:22:41.176Z"
   },
   {
    "duration": 1177,
    "start_time": "2022-04-26T19:24:14.928Z"
   },
   {
    "duration": 0,
    "start_time": "2022-04-26T19:24:16.107Z"
   },
   {
    "duration": 1128,
    "start_time": "2022-04-26T19:24:25.546Z"
   },
   {
    "duration": 127,
    "start_time": "2022-04-26T19:24:34.508Z"
   },
   {
    "duration": 16,
    "start_time": "2022-04-26T19:24:36.872Z"
   },
   {
    "duration": 1609,
    "start_time": "2022-04-26T19:24:49.824Z"
   },
   {
    "duration": 916,
    "start_time": "2022-04-26T19:24:51.435Z"
   },
   {
    "duration": 147,
    "start_time": "2022-04-26T19:24:52.352Z"
   },
   {
    "duration": 37,
    "start_time": "2022-04-26T19:24:52.502Z"
   },
   {
    "duration": 4,
    "start_time": "2022-04-26T19:24:52.542Z"
   },
   {
    "duration": 333,
    "start_time": "2022-04-26T19:24:52.547Z"
   },
   {
    "duration": 16,
    "start_time": "2022-04-26T19:24:52.882Z"
   },
   {
    "duration": 61,
    "start_time": "2022-04-26T19:32:19.459Z"
   },
   {
    "duration": 6,
    "start_time": "2022-04-26T19:38:05.666Z"
   },
   {
    "duration": 131,
    "start_time": "2022-04-26T19:41:44.111Z"
   },
   {
    "duration": 155,
    "start_time": "2022-04-26T19:44:25.129Z"
   },
   {
    "duration": 1576,
    "start_time": "2022-04-26T19:45:12.040Z"
   },
   {
    "duration": 903,
    "start_time": "2022-04-26T19:45:13.618Z"
   },
   {
    "duration": 141,
    "start_time": "2022-04-26T19:45:14.523Z"
   },
   {
    "duration": 20,
    "start_time": "2022-04-26T19:45:14.666Z"
   },
   {
    "duration": 4,
    "start_time": "2022-04-26T19:45:14.688Z"
   },
   {
    "duration": 347,
    "start_time": "2022-04-26T19:45:14.695Z"
   },
   {
    "duration": 159,
    "start_time": "2022-04-26T19:45:15.044Z"
   },
   {
    "duration": 137,
    "start_time": "2022-04-26T19:47:55.252Z"
   },
   {
    "duration": 133,
    "start_time": "2022-04-26T19:48:44.237Z"
   },
   {
    "duration": 47,
    "start_time": "2022-04-26T19:48:47.114Z"
   },
   {
    "duration": 26,
    "start_time": "2022-04-26T19:48:53.837Z"
   },
   {
    "duration": 5,
    "start_time": "2022-04-26T19:49:13.010Z"
   },
   {
    "duration": 11,
    "start_time": "2022-04-26T19:49:52.241Z"
   },
   {
    "duration": 302,
    "start_time": "2022-04-26T19:49:56.082Z"
   },
   {
    "duration": 272,
    "start_time": "2022-04-26T19:50:25.131Z"
   },
   {
    "duration": 343,
    "start_time": "2022-04-26T19:51:10.437Z"
   },
   {
    "duration": 10,
    "start_time": "2022-04-26T19:51:50.673Z"
   },
   {
    "duration": 90,
    "start_time": "2022-04-26T19:51:55.556Z"
   },
   {
    "duration": 52,
    "start_time": "2022-04-26T19:56:08.854Z"
   },
   {
    "duration": 15,
    "start_time": "2022-04-26T19:59:43.695Z"
   },
   {
    "duration": 4,
    "start_time": "2022-04-26T19:59:50.290Z"
   },
   {
    "duration": 4,
    "start_time": "2022-04-26T20:00:34.198Z"
   },
   {
    "duration": 141,
    "start_time": "2022-04-26T20:01:41.663Z"
   },
   {
    "duration": 5,
    "start_time": "2022-04-26T20:01:47.085Z"
   },
   {
    "duration": 55,
    "start_time": "2022-04-26T20:01:56.005Z"
   },
   {
    "duration": 39,
    "start_time": "2022-04-26T20:02:52.550Z"
   },
   {
    "duration": 77,
    "start_time": "2022-04-26T20:03:04.792Z"
   },
   {
    "duration": 5,
    "start_time": "2022-04-26T20:04:57.494Z"
   },
   {
    "duration": 77,
    "start_time": "2022-04-26T20:05:03.177Z"
   },
   {
    "duration": 75,
    "start_time": "2022-04-26T20:05:24.899Z"
   },
   {
    "duration": 86,
    "start_time": "2022-04-26T20:05:29.428Z"
   },
   {
    "duration": 98,
    "start_time": "2022-04-26T20:05:56.815Z"
   },
   {
    "duration": 97,
    "start_time": "2022-04-26T20:06:07.111Z"
   },
   {
    "duration": 72,
    "start_time": "2022-04-26T20:06:21.047Z"
   },
   {
    "duration": 5,
    "start_time": "2022-04-26T20:06:35.596Z"
   },
   {
    "duration": 44,
    "start_time": "2022-04-26T20:08:38.342Z"
   },
   {
    "duration": 79,
    "start_time": "2022-04-26T20:16:05.481Z"
   },
   {
    "duration": 6,
    "start_time": "2022-04-26T20:16:19.696Z"
   },
   {
    "duration": 58,
    "start_time": "2022-04-26T20:16:24.724Z"
   },
   {
    "duration": 11,
    "start_time": "2022-04-26T20:17:49.318Z"
   },
   {
    "duration": 34,
    "start_time": "2022-04-26T20:19:32.280Z"
   },
   {
    "duration": 317,
    "start_time": "2022-04-26T20:22:22.701Z"
   },
   {
    "duration": 15,
    "start_time": "2022-04-26T20:23:37.103Z"
   },
   {
    "duration": 164,
    "start_time": "2022-04-26T20:23:48.377Z"
   },
   {
    "duration": 91,
    "start_time": "2022-04-26T20:24:26.782Z"
   },
   {
    "duration": 161,
    "start_time": "2022-04-26T20:24:55.305Z"
   },
   {
    "duration": 159,
    "start_time": "2022-04-26T20:25:19.446Z"
   },
   {
    "duration": 2507,
    "start_time": "2022-04-26T20:34:54.162Z"
   },
   {
    "duration": 12,
    "start_time": "2022-04-26T20:35:16.555Z"
   },
   {
    "duration": 10,
    "start_time": "2022-04-26T20:35:22.721Z"
   },
   {
    "duration": 5,
    "start_time": "2022-04-26T20:35:27.373Z"
   },
   {
    "duration": 61,
    "start_time": "2022-04-26T20:35:42.084Z"
   },
   {
    "duration": 10,
    "start_time": "2022-04-26T20:36:15.855Z"
   },
   {
    "duration": 17,
    "start_time": "2022-04-26T20:36:23.357Z"
   },
   {
    "duration": 132,
    "start_time": "2022-04-26T20:36:31.852Z"
   },
   {
    "duration": 19,
    "start_time": "2022-04-26T20:36:34.431Z"
   },
   {
    "duration": 57,
    "start_time": "2022-04-26T20:39:17.997Z"
   },
   {
    "duration": 46,
    "start_time": "2022-04-26T20:40:13.869Z"
   },
   {
    "duration": 29,
    "start_time": "2022-04-26T20:40:37.264Z"
   },
   {
    "duration": 26,
    "start_time": "2022-04-26T20:41:35.569Z"
   },
   {
    "duration": 31,
    "start_time": "2022-04-26T20:42:08.607Z"
   },
   {
    "duration": 48,
    "start_time": "2022-04-26T20:43:27.262Z"
   },
   {
    "duration": 47,
    "start_time": "2022-04-26T20:45:28.657Z"
   },
   {
    "duration": 23,
    "start_time": "2022-04-26T20:47:06.073Z"
   },
   {
    "duration": 10,
    "start_time": "2022-04-26T20:47:59.158Z"
   },
   {
    "duration": 9,
    "start_time": "2022-04-26T20:48:42.058Z"
   },
   {
    "duration": 24,
    "start_time": "2022-04-26T20:48:49.689Z"
   },
   {
    "duration": 64,
    "start_time": "2022-04-26T20:53:53.696Z"
   },
   {
    "duration": 47,
    "start_time": "2022-04-26T20:54:14.552Z"
   },
   {
    "duration": 615,
    "start_time": "2022-04-26T20:55:06.115Z"
   },
   {
    "duration": 4,
    "start_time": "2022-04-26T20:55:17.065Z"
   },
   {
    "duration": 57,
    "start_time": "2022-04-26T20:55:39.025Z"
   },
   {
    "duration": 55,
    "start_time": "2022-04-26T20:55:57.895Z"
   },
   {
    "duration": 22,
    "start_time": "2022-04-26T20:57:12.749Z"
   },
   {
    "duration": 6060,
    "start_time": "2022-04-26T21:07:24.051Z"
   },
   {
    "duration": 30,
    "start_time": "2022-04-26T21:08:12.633Z"
   },
   {
    "duration": 21,
    "start_time": "2022-04-26T21:09:17.051Z"
   },
   {
    "duration": 1636,
    "start_time": "2022-04-26T21:09:28.565Z"
   },
   {
    "duration": 969,
    "start_time": "2022-04-26T21:09:30.203Z"
   },
   {
    "duration": 178,
    "start_time": "2022-04-26T21:09:31.174Z"
   },
   {
    "duration": 24,
    "start_time": "2022-04-26T21:09:31.356Z"
   },
   {
    "duration": 4,
    "start_time": "2022-04-26T21:09:31.382Z"
   },
   {
    "duration": 365,
    "start_time": "2022-04-26T21:09:31.389Z"
   },
   {
    "duration": 49,
    "start_time": "2022-04-26T21:09:31.756Z"
   },
   {
    "duration": 364,
    "start_time": "2022-04-26T21:09:31.807Z"
   },
   {
    "duration": 440,
    "start_time": "2022-04-26T21:09:32.173Z"
   },
   {
    "duration": 301,
    "start_time": "2022-04-26T21:09:32.616Z"
   },
   {
    "duration": 154,
    "start_time": "2022-04-26T21:09:32.919Z"
   },
   {
    "duration": 19,
    "start_time": "2022-04-26T21:10:16.332Z"
   },
   {
    "duration": 28,
    "start_time": "2022-04-26T21:16:06.311Z"
   },
   {
    "duration": 22,
    "start_time": "2022-04-26T21:16:52.305Z"
   },
   {
    "duration": 3719,
    "start_time": "2022-04-26T21:20:23.754Z"
   },
   {
    "duration": 3715,
    "start_time": "2022-04-26T21:21:09.931Z"
   },
   {
    "duration": 151,
    "start_time": "2022-04-26T21:22:00.320Z"
   },
   {
    "duration": 3676,
    "start_time": "2022-04-26T21:22:04.522Z"
   },
   {
    "duration": 0,
    "start_time": "2022-04-26T21:25:08.899Z"
   },
   {
    "duration": 1798,
    "start_time": "2022-04-26T21:27:16.434Z"
   },
   {
    "duration": 1051,
    "start_time": "2022-04-26T21:27:18.235Z"
   },
   {
    "duration": 202,
    "start_time": "2022-04-26T21:27:19.288Z"
   },
   {
    "duration": 24,
    "start_time": "2022-04-26T21:27:19.492Z"
   },
   {
    "duration": 19,
    "start_time": "2022-04-26T21:27:19.519Z"
   },
   {
    "duration": 429,
    "start_time": "2022-04-26T21:27:19.540Z"
   },
   {
    "duration": 46,
    "start_time": "2022-04-26T21:27:19.972Z"
   },
   {
    "duration": 401,
    "start_time": "2022-04-26T21:27:20.020Z"
   },
   {
    "duration": 486,
    "start_time": "2022-04-26T21:27:20.423Z"
   },
   {
    "duration": 350,
    "start_time": "2022-04-26T21:27:20.911Z"
   },
   {
    "duration": 21,
    "start_time": "2022-04-26T21:27:21.263Z"
   },
   {
    "duration": 14,
    "start_time": "2022-04-26T21:27:21.286Z"
   },
   {
    "duration": 140,
    "start_time": "2022-04-26T21:27:31.256Z"
   },
   {
    "duration": 14,
    "start_time": "2022-04-26T21:27:36.175Z"
   },
   {
    "duration": 20,
    "start_time": "2022-04-26T21:28:08.239Z"
   },
   {
    "duration": 16,
    "start_time": "2022-04-26T21:28:54.683Z"
   },
   {
    "duration": 10,
    "start_time": "2022-04-26T21:29:30.570Z"
   },
   {
    "duration": 10,
    "start_time": "2022-04-26T21:29:35.480Z"
   },
   {
    "duration": 14,
    "start_time": "2022-04-26T21:32:40.167Z"
   },
   {
    "duration": 5,
    "start_time": "2022-04-26T21:33:59.487Z"
   },
   {
    "duration": 5,
    "start_time": "2022-04-26T21:34:06.882Z"
   },
   {
    "duration": 151,
    "start_time": "2022-04-26T21:34:09.918Z"
   },
   {
    "duration": 3039,
    "start_time": "2022-04-26T21:34:33.684Z"
   },
   {
    "duration": 2799,
    "start_time": "2022-04-26T21:34:51.661Z"
   },
   {
    "duration": 148,
    "start_time": "2022-04-26T21:35:04.951Z"
   },
   {
    "duration": 145,
    "start_time": "2022-04-26T21:35:22.560Z"
   },
   {
    "duration": 135,
    "start_time": "2022-04-26T21:35:29.952Z"
   },
   {
    "duration": 138,
    "start_time": "2022-04-26T21:35:33.378Z"
   },
   {
    "duration": 149,
    "start_time": "2022-04-26T21:35:40.757Z"
   },
   {
    "duration": 139,
    "start_time": "2022-04-26T21:35:58.615Z"
   },
   {
    "duration": 5,
    "start_time": "2022-04-26T21:36:11.177Z"
   },
   {
    "duration": 71,
    "start_time": "2022-04-26T21:36:16.403Z"
   },
   {
    "duration": 138,
    "start_time": "2022-04-26T21:36:24.050Z"
   },
   {
    "duration": 159,
    "start_time": "2022-04-26T21:36:33.688Z"
   },
   {
    "duration": 161,
    "start_time": "2022-04-26T21:39:00.464Z"
   },
   {
    "duration": 22,
    "start_time": "2022-04-26T21:39:08.657Z"
   },
   {
    "duration": 130,
    "start_time": "2022-04-26T21:39:21.404Z"
   },
   {
    "duration": 139,
    "start_time": "2022-04-26T21:39:28.762Z"
   },
   {
    "duration": 4,
    "start_time": "2022-04-26T21:49:56.991Z"
   },
   {
    "duration": 28,
    "start_time": "2022-04-26T21:52:29.532Z"
   },
   {
    "duration": 28,
    "start_time": "2022-04-26T21:52:48.734Z"
   },
   {
    "duration": 23,
    "start_time": "2022-04-26T21:53:11.400Z"
   },
   {
    "duration": 19,
    "start_time": "2022-04-26T21:53:27.772Z"
   },
   {
    "duration": 18,
    "start_time": "2022-04-26T21:53:33.758Z"
   },
   {
    "duration": 22,
    "start_time": "2022-04-26T21:53:54.361Z"
   },
   {
    "duration": 1616,
    "start_time": "2022-04-26T21:54:10.968Z"
   },
   {
    "duration": 918,
    "start_time": "2022-04-26T21:54:12.586Z"
   },
   {
    "duration": 160,
    "start_time": "2022-04-26T21:54:13.506Z"
   },
   {
    "duration": 19,
    "start_time": "2022-04-26T21:54:13.668Z"
   },
   {
    "duration": 3,
    "start_time": "2022-04-26T21:54:13.689Z"
   },
   {
    "duration": 333,
    "start_time": "2022-04-26T21:54:13.694Z"
   },
   {
    "duration": 48,
    "start_time": "2022-04-26T21:54:14.029Z"
   },
   {
    "duration": 342,
    "start_time": "2022-04-26T21:54:14.079Z"
   },
   {
    "duration": 403,
    "start_time": "2022-04-26T21:54:14.423Z"
   },
   {
    "duration": 292,
    "start_time": "2022-04-26T21:54:14.828Z"
   },
   {
    "duration": 29,
    "start_time": "2022-04-26T21:54:15.122Z"
   },
   {
    "duration": 4,
    "start_time": "2022-04-26T21:54:15.153Z"
   },
   {
    "duration": 38,
    "start_time": "2022-04-26T21:54:15.159Z"
   },
   {
    "duration": 37,
    "start_time": "2022-04-26T21:54:15.199Z"
   },
   {
    "duration": 150,
    "start_time": "2022-04-26T21:54:15.240Z"
   },
   {
    "duration": 16,
    "start_time": "2022-04-26T21:54:15.392Z"
   },
   {
    "duration": 19,
    "start_time": "2022-04-26T21:55:59.112Z"
   },
   {
    "duration": 19,
    "start_time": "2022-04-26T21:56:03.512Z"
   },
   {
    "duration": 42,
    "start_time": "2022-04-26T21:57:18.954Z"
   },
   {
    "duration": 23,
    "start_time": "2022-04-26T21:57:24.948Z"
   },
   {
    "duration": 15,
    "start_time": "2022-04-26T21:57:33.153Z"
   },
   {
    "duration": 5,
    "start_time": "2022-04-26T21:58:05.598Z"
   },
   {
    "duration": 59,
    "start_time": "2022-04-26T21:58:05.932Z"
   },
   {
    "duration": 22,
    "start_time": "2022-04-26T21:58:06.750Z"
   },
   {
    "duration": 4,
    "start_time": "2022-04-26T21:58:41.617Z"
   },
   {
    "duration": 37,
    "start_time": "2022-04-26T21:58:41.992Z"
   },
   {
    "duration": 17,
    "start_time": "2022-04-26T21:58:42.453Z"
   },
   {
    "duration": 1651,
    "start_time": "2022-04-26T21:58:47.900Z"
   },
   {
    "duration": 1019,
    "start_time": "2022-04-26T21:58:49.555Z"
   },
   {
    "duration": 164,
    "start_time": "2022-04-26T21:58:50.577Z"
   },
   {
    "duration": 32,
    "start_time": "2022-04-26T21:58:50.743Z"
   },
   {
    "duration": 21,
    "start_time": "2022-04-26T21:58:50.777Z"
   },
   {
    "duration": 353,
    "start_time": "2022-04-26T21:58:50.799Z"
   },
   {
    "duration": 50,
    "start_time": "2022-04-26T21:58:51.154Z"
   },
   {
    "duration": 371,
    "start_time": "2022-04-26T21:58:51.206Z"
   },
   {
    "duration": 436,
    "start_time": "2022-04-26T21:58:51.579Z"
   },
   {
    "duration": 320,
    "start_time": "2022-04-26T21:58:52.017Z"
   },
   {
    "duration": 18,
    "start_time": "2022-04-26T21:58:52.339Z"
   },
   {
    "duration": 31,
    "start_time": "2022-04-26T21:58:52.359Z"
   },
   {
    "duration": 61797,
    "start_time": "2022-04-26T21:58:52.393Z"
   },
   {
    "duration": 0,
    "start_time": "2022-04-26T21:59:54.193Z"
   },
   {
    "duration": 0,
    "start_time": "2022-04-26T21:59:54.194Z"
   },
   {
    "duration": 0,
    "start_time": "2022-04-26T21:59:54.196Z"
   },
   {
    "duration": 30,
    "start_time": "2022-04-26T21:59:55.899Z"
   },
   {
    "duration": 31,
    "start_time": "2022-04-26T22:00:03.452Z"
   },
   {
    "duration": 42,
    "start_time": "2022-04-26T22:00:11.625Z"
   },
   {
    "duration": 1669,
    "start_time": "2022-04-26T22:00:32.507Z"
   },
   {
    "duration": 981,
    "start_time": "2022-04-26T22:00:34.178Z"
   },
   {
    "duration": 165,
    "start_time": "2022-04-26T22:00:35.161Z"
   },
   {
    "duration": 24,
    "start_time": "2022-04-26T22:00:35.328Z"
   },
   {
    "duration": 11,
    "start_time": "2022-04-26T22:00:35.355Z"
   },
   {
    "duration": 337,
    "start_time": "2022-04-26T22:00:35.368Z"
   },
   {
    "duration": 59,
    "start_time": "2022-04-26T22:00:35.707Z"
   },
   {
    "duration": 360,
    "start_time": "2022-04-26T22:00:35.768Z"
   },
   {
    "duration": 430,
    "start_time": "2022-04-26T22:00:36.130Z"
   },
   {
    "duration": 304,
    "start_time": "2022-04-26T22:00:36.562Z"
   },
   {
    "duration": 15,
    "start_time": "2022-04-26T22:00:36.868Z"
   },
   {
    "duration": 7,
    "start_time": "2022-04-26T22:00:36.885Z"
   },
   {
    "duration": 629,
    "start_time": "2022-04-26T22:00:36.893Z"
   },
   {
    "duration": 0,
    "start_time": "2022-04-26T22:00:37.524Z"
   },
   {
    "duration": 4,
    "start_time": "2022-04-26T22:01:10.917Z"
   },
   {
    "duration": 1677,
    "start_time": "2022-04-26T22:02:29.663Z"
   },
   {
    "duration": 934,
    "start_time": "2022-04-26T22:02:31.342Z"
   },
   {
    "duration": 161,
    "start_time": "2022-04-26T22:02:32.278Z"
   },
   {
    "duration": 22,
    "start_time": "2022-04-26T22:02:32.442Z"
   },
   {
    "duration": 3,
    "start_time": "2022-04-26T22:02:32.466Z"
   },
   {
    "duration": 326,
    "start_time": "2022-04-26T22:02:32.471Z"
   },
   {
    "duration": 54,
    "start_time": "2022-04-26T22:02:32.799Z"
   },
   {
    "duration": 345,
    "start_time": "2022-04-26T22:02:32.855Z"
   },
   {
    "duration": 450,
    "start_time": "2022-04-26T22:02:33.202Z"
   },
   {
    "duration": 312,
    "start_time": "2022-04-26T22:02:33.655Z"
   },
   {
    "duration": 16,
    "start_time": "2022-04-26T22:02:33.969Z"
   },
   {
    "duration": 51,
    "start_time": "2022-04-26T22:02:33.987Z"
   },
   {
    "duration": 22,
    "start_time": "2022-04-26T22:05:19.372Z"
   },
   {
    "duration": 4,
    "start_time": "2022-04-26T22:14:21.568Z"
   },
   {
    "duration": 1485,
    "start_time": "2022-04-26T22:15:50.056Z"
   },
   {
    "duration": 5,
    "start_time": "2022-04-26T22:16:04.393Z"
   },
   {
    "duration": 98415,
    "start_time": "2022-04-26T22:16:04.894Z"
   },
   {
    "duration": 1611,
    "start_time": "2022-04-26T22:19:39.818Z"
   },
   {
    "duration": 956,
    "start_time": "2022-04-26T22:19:41.431Z"
   },
   {
    "duration": 156,
    "start_time": "2022-04-26T22:19:42.389Z"
   },
   {
    "duration": 20,
    "start_time": "2022-04-26T22:19:42.547Z"
   },
   {
    "duration": 3,
    "start_time": "2022-04-26T22:19:42.569Z"
   },
   {
    "duration": 341,
    "start_time": "2022-04-26T22:19:42.574Z"
   },
   {
    "duration": 54,
    "start_time": "2022-04-26T22:19:42.917Z"
   },
   {
    "duration": 361,
    "start_time": "2022-04-26T22:19:42.973Z"
   },
   {
    "duration": 431,
    "start_time": "2022-04-26T22:19:43.336Z"
   },
   {
    "duration": 298,
    "start_time": "2022-04-26T22:19:43.768Z"
   },
   {
    "duration": 15,
    "start_time": "2022-04-26T22:19:44.068Z"
   },
   {
    "duration": 27,
    "start_time": "2022-04-26T22:19:44.085Z"
   },
   {
    "duration": 23,
    "start_time": "2022-04-26T22:19:44.114Z"
   },
   {
    "duration": 58038,
    "start_time": "2022-04-26T22:19:44.141Z"
   },
   {
    "duration": 53,
    "start_time": "2022-04-26T22:21:00.271Z"
   },
   {
    "duration": 30,
    "start_time": "2022-04-26T22:21:16.243Z"
   },
   {
    "duration": 29,
    "start_time": "2022-04-26T22:21:36.779Z"
   },
   {
    "duration": 2329,
    "start_time": "2022-04-26T22:22:05.293Z"
   },
   {
    "duration": 3,
    "start_time": "2022-04-26T22:25:15.804Z"
   },
   {
    "duration": 2344,
    "start_time": "2022-04-26T22:25:16.322Z"
   },
   {
    "duration": 1644,
    "start_time": "2022-04-26T22:26:56.370Z"
   },
   {
    "duration": 961,
    "start_time": "2022-04-26T22:26:58.016Z"
   },
   {
    "duration": 161,
    "start_time": "2022-04-26T22:26:58.979Z"
   },
   {
    "duration": 22,
    "start_time": "2022-04-26T22:26:59.142Z"
   },
   {
    "duration": 6,
    "start_time": "2022-04-26T22:26:59.167Z"
   },
   {
    "duration": 352,
    "start_time": "2022-04-26T22:26:59.174Z"
   },
   {
    "duration": 54,
    "start_time": "2022-04-26T22:26:59.528Z"
   },
   {
    "duration": 379,
    "start_time": "2022-04-26T22:26:59.584Z"
   },
   {
    "duration": 447,
    "start_time": "2022-04-26T22:26:59.965Z"
   },
   {
    "duration": 294,
    "start_time": "2022-04-26T22:27:00.413Z"
   },
   {
    "duration": 27,
    "start_time": "2022-04-26T22:27:00.709Z"
   },
   {
    "duration": 33,
    "start_time": "2022-04-26T22:27:00.739Z"
   },
   {
    "duration": 13,
    "start_time": "2022-04-26T22:27:00.774Z"
   },
   {
    "duration": 13613,
    "start_time": "2022-04-26T22:27:00.790Z"
   },
   {
    "duration": 8,
    "start_time": "2022-04-26T22:28:13.000Z"
   },
   {
    "duration": 12,
    "start_time": "2022-04-26T22:28:36.176Z"
   },
   {
    "duration": 36,
    "start_time": "2022-04-26T22:29:13.795Z"
   },
   {
    "duration": 13,
    "start_time": "2022-04-26T22:30:03.823Z"
   },
   {
    "duration": 9,
    "start_time": "2022-04-26T22:30:47.225Z"
   },
   {
    "duration": 8,
    "start_time": "2022-04-26T22:31:08.592Z"
   },
   {
    "duration": 16,
    "start_time": "2022-04-26T22:31:19.550Z"
   },
   {
    "duration": 123,
    "start_time": "2022-04-26T22:32:06.630Z"
   },
   {
    "duration": 27,
    "start_time": "2022-04-26T22:33:51.003Z"
   },
   {
    "duration": 9,
    "start_time": "2022-04-26T22:34:05.099Z"
   },
   {
    "duration": 28,
    "start_time": "2022-04-26T22:35:02.150Z"
   },
   {
    "duration": 9,
    "start_time": "2022-04-26T22:35:07.050Z"
   },
   {
    "duration": 9,
    "start_time": "2022-04-26T22:35:13.703Z"
   },
   {
    "duration": 8,
    "start_time": "2022-04-26T22:35:31.485Z"
   },
   {
    "duration": 11,
    "start_time": "2022-04-26T22:35:41.330Z"
   },
   {
    "duration": 51,
    "start_time": "2022-04-26T22:37:23.202Z"
   },
   {
    "duration": 27,
    "start_time": "2022-04-26T22:38:15.587Z"
   },
   {
    "duration": 33,
    "start_time": "2022-04-26T22:38:34.424Z"
   },
   {
    "duration": 29,
    "start_time": "2022-04-26T22:38:48.652Z"
   },
   {
    "duration": 4,
    "start_time": "2022-04-26T22:40:08.387Z"
   },
   {
    "duration": 306,
    "start_time": "2022-04-26T22:41:17.664Z"
   },
   {
    "duration": 5,
    "start_time": "2022-04-26T22:41:26.794Z"
   },
   {
    "duration": 705,
    "start_time": "2022-04-26T22:41:27.266Z"
   },
   {
    "duration": 3,
    "start_time": "2022-04-26T22:42:30.948Z"
   },
   {
    "duration": 2245,
    "start_time": "2022-04-26T22:42:31.439Z"
   },
   {
    "duration": 2135,
    "start_time": "2022-04-27T07:09:18.386Z"
   },
   {
    "duration": 1141,
    "start_time": "2022-04-27T07:09:20.523Z"
   },
   {
    "duration": 233,
    "start_time": "2022-04-27T07:09:21.666Z"
   },
   {
    "duration": 25,
    "start_time": "2022-04-27T07:09:21.902Z"
   },
   {
    "duration": 4,
    "start_time": "2022-04-27T07:09:21.949Z"
   },
   {
    "duration": 442,
    "start_time": "2022-04-27T07:09:21.955Z"
   },
   {
    "duration": 58,
    "start_time": "2022-04-27T07:09:22.399Z"
   },
   {
    "duration": 462,
    "start_time": "2022-04-27T07:09:22.459Z"
   },
   {
    "duration": 535,
    "start_time": "2022-04-27T07:09:22.923Z"
   },
   {
    "duration": 417,
    "start_time": "2022-04-27T07:09:23.460Z"
   },
   {
    "duration": 17,
    "start_time": "2022-04-27T07:09:23.879Z"
   },
   {
    "duration": 49,
    "start_time": "2022-04-27T07:09:23.898Z"
   },
   {
    "duration": 6,
    "start_time": "2022-04-27T07:09:23.950Z"
   },
   {
    "duration": 2941,
    "start_time": "2022-04-27T07:09:23.960Z"
   },
   {
    "duration": 9846,
    "start_time": "2022-04-27T07:13:16.958Z"
   },
   {
    "duration": 10,
    "start_time": "2022-04-27T07:18:23.317Z"
   },
   {
    "duration": 5,
    "start_time": "2022-04-27T07:18:30.616Z"
   },
   {
    "duration": 4,
    "start_time": "2022-04-27T07:19:55.139Z"
   },
   {
    "duration": 4,
    "start_time": "2022-04-27T07:20:03.212Z"
   },
   {
    "duration": 83,
    "start_time": "2022-04-27T07:20:11.547Z"
   },
   {
    "duration": 76,
    "start_time": "2022-04-27T07:20:19.144Z"
   },
   {
    "duration": 92,
    "start_time": "2022-04-27T07:26:31.005Z"
   },
   {
    "duration": 77,
    "start_time": "2022-04-27T07:28:33.961Z"
   },
   {
    "duration": 3,
    "start_time": "2022-04-27T07:28:56.383Z"
   },
   {
    "duration": 87,
    "start_time": "2022-04-27T07:29:25.419Z"
   },
   {
    "duration": 87,
    "start_time": "2022-04-27T07:29:49.703Z"
   },
   {
    "duration": 4,
    "start_time": "2022-04-27T07:30:11.510Z"
   },
   {
    "duration": 378,
    "start_time": "2022-04-27T07:32:54.962Z"
   },
   {
    "duration": 339,
    "start_time": "2022-04-27T07:33:08.297Z"
   },
   {
    "duration": 363,
    "start_time": "2022-04-27T07:33:20.697Z"
   },
   {
    "duration": 203,
    "start_time": "2022-04-27T07:33:37.735Z"
   },
   {
    "duration": 336,
    "start_time": "2022-04-27T07:33:45.793Z"
   },
   {
    "duration": 334,
    "start_time": "2022-04-27T07:34:14.167Z"
   },
   {
    "duration": 329,
    "start_time": "2022-04-27T07:34:29.364Z"
   },
   {
    "duration": 320,
    "start_time": "2022-04-27T07:34:36.966Z"
   },
   {
    "duration": 15,
    "start_time": "2022-04-27T07:35:02.642Z"
   },
   {
    "duration": 95,
    "start_time": "2022-04-27T07:35:13.104Z"
   },
   {
    "duration": 88,
    "start_time": "2022-04-27T07:35:24.193Z"
   },
   {
    "duration": 142,
    "start_time": "2022-04-27T07:36:38.006Z"
   },
   {
    "duration": 132,
    "start_time": "2022-04-27T07:36:42.955Z"
   },
   {
    "duration": 72,
    "start_time": "2022-04-27T07:37:06.847Z"
   },
   {
    "duration": 76,
    "start_time": "2022-04-27T07:37:14.311Z"
   },
   {
    "duration": 84,
    "start_time": "2022-04-27T07:37:21.934Z"
   },
   {
    "duration": 79,
    "start_time": "2022-04-27T07:37:29.704Z"
   },
   {
    "duration": 77,
    "start_time": "2022-04-27T07:37:34.006Z"
   },
   {
    "duration": 186,
    "start_time": "2022-04-27T07:38:44.256Z"
   },
   {
    "duration": 143,
    "start_time": "2022-04-27T07:39:02.075Z"
   },
   {
    "duration": 159,
    "start_time": "2022-04-27T07:39:05.444Z"
   },
   {
    "duration": 323,
    "start_time": "2022-04-27T07:39:52.926Z"
   },
   {
    "duration": 90,
    "start_time": "2022-04-27T07:40:46.348Z"
   },
   {
    "duration": 79,
    "start_time": "2022-04-27T07:40:54.177Z"
   },
   {
    "duration": 86,
    "start_time": "2022-04-27T07:42:56.625Z"
   },
   {
    "duration": 100,
    "start_time": "2022-04-27T07:43:16.480Z"
   },
   {
    "duration": 651,
    "start_time": "2022-04-27T07:43:31.560Z"
   },
   {
    "duration": 228,
    "start_time": "2022-04-27T07:44:21.145Z"
   },
   {
    "duration": 514,
    "start_time": "2022-04-27T07:44:25.436Z"
   },
   {
    "duration": 304,
    "start_time": "2022-04-27T07:44:38.396Z"
   },
   {
    "duration": 313,
    "start_time": "2022-04-27T07:45:02.717Z"
   },
   {
    "duration": 305,
    "start_time": "2022-04-27T07:45:15.482Z"
   },
   {
    "duration": 83,
    "start_time": "2022-04-27T07:46:17.996Z"
   },
   {
    "duration": 88,
    "start_time": "2022-04-27T07:46:20.575Z"
   },
   {
    "duration": 84,
    "start_time": "2022-04-27T07:46:23.861Z"
   },
   {
    "duration": 79,
    "start_time": "2022-04-27T07:48:38.662Z"
   },
   {
    "duration": 117,
    "start_time": "2022-04-27T07:49:48.498Z"
   },
   {
    "duration": 90,
    "start_time": "2022-04-27T07:49:55.400Z"
   },
   {
    "duration": 83,
    "start_time": "2022-04-27T07:50:03.964Z"
   },
   {
    "duration": 92,
    "start_time": "2022-04-27T07:50:14.785Z"
   },
   {
    "duration": 79,
    "start_time": "2022-04-27T07:50:22.849Z"
   },
   {
    "duration": 303,
    "start_time": "2022-04-27T07:51:14.409Z"
   },
   {
    "duration": 318,
    "start_time": "2022-04-27T07:51:25.944Z"
   },
   {
    "duration": 80,
    "start_time": "2022-04-27T07:51:45.724Z"
   },
   {
    "duration": 309,
    "start_time": "2022-04-27T07:52:09.856Z"
   },
   {
    "duration": 320,
    "start_time": "2022-04-27T07:52:21.864Z"
   },
   {
    "duration": 307,
    "start_time": "2022-04-27T07:52:36.669Z"
   },
   {
    "duration": 519,
    "start_time": "2022-04-27T07:53:45.712Z"
   },
   {
    "duration": 415,
    "start_time": "2022-04-27T07:54:18.464Z"
   },
   {
    "duration": 330,
    "start_time": "2022-04-27T07:55:29.269Z"
   },
   {
    "duration": 497,
    "start_time": "2022-04-27T07:55:40.627Z"
   },
   {
    "duration": 343,
    "start_time": "2022-04-27T07:57:06.678Z"
   },
   {
    "duration": 5,
    "start_time": "2022-04-27T08:00:03.219Z"
   },
   {
    "duration": 4,
    "start_time": "2022-04-27T08:00:17.340Z"
   },
   {
    "duration": 3,
    "start_time": "2022-04-27T08:00:20.649Z"
   },
   {
    "duration": 5,
    "start_time": "2022-04-27T08:00:29.774Z"
   },
   {
    "duration": 5,
    "start_time": "2022-04-27T08:01:41.987Z"
   },
   {
    "duration": 4,
    "start_time": "2022-04-27T08:01:55.981Z"
   },
   {
    "duration": 4,
    "start_time": "2022-04-27T08:02:22.488Z"
   },
   {
    "duration": 1657,
    "start_time": "2022-04-27T08:03:31.320Z"
   },
   {
    "duration": 807,
    "start_time": "2022-04-27T08:03:32.978Z"
   },
   {
    "duration": 136,
    "start_time": "2022-04-27T08:03:33.787Z"
   },
   {
    "duration": 35,
    "start_time": "2022-04-27T08:03:33.925Z"
   },
   {
    "duration": 9,
    "start_time": "2022-04-27T08:03:33.963Z"
   },
   {
    "duration": 274,
    "start_time": "2022-04-27T08:03:33.973Z"
   },
   {
    "duration": 41,
    "start_time": "2022-04-27T08:03:34.249Z"
   },
   {
    "duration": 285,
    "start_time": "2022-04-27T08:03:34.292Z"
   },
   {
    "duration": 336,
    "start_time": "2022-04-27T08:03:34.578Z"
   },
   {
    "duration": 245,
    "start_time": "2022-04-27T08:03:34.916Z"
   },
   {
    "duration": 64138,
    "start_time": "2022-04-27T08:03:35.162Z"
   },
   {
    "duration": 0,
    "start_time": "2022-04-27T08:04:39.302Z"
   },
   {
    "duration": 0,
    "start_time": "2022-04-27T08:04:39.303Z"
   },
   {
    "duration": 82,
    "start_time": "2022-04-27T08:08:19.240Z"
   },
   {
    "duration": 5,
    "start_time": "2022-04-27T08:08:33.592Z"
   },
   {
    "duration": 11,
    "start_time": "2022-04-27T08:08:40.378Z"
   },
   {
    "duration": 6,
    "start_time": "2022-04-27T08:08:44.401Z"
   },
   {
    "duration": 27,
    "start_time": "2022-04-27T08:10:04.643Z"
   },
   {
    "duration": 26,
    "start_time": "2022-04-27T08:11:25.094Z"
   },
   {
    "duration": 157,
    "start_time": "2022-04-27T08:11:50.079Z"
   },
   {
    "duration": 148,
    "start_time": "2022-04-27T08:11:57.343Z"
   },
   {
    "duration": 14,
    "start_time": "2022-04-27T08:12:10.850Z"
   },
   {
    "duration": 14,
    "start_time": "2022-04-27T08:12:33.008Z"
   },
   {
    "duration": 12,
    "start_time": "2022-04-27T08:14:07.176Z"
   },
   {
    "duration": 11,
    "start_time": "2022-04-27T08:14:10.318Z"
   },
   {
    "duration": 18,
    "start_time": "2022-04-27T08:14:14.897Z"
   },
   {
    "duration": 19,
    "start_time": "2022-04-27T08:14:34.564Z"
   },
   {
    "duration": 10,
    "start_time": "2022-04-27T08:14:44.363Z"
   },
   {
    "duration": 12,
    "start_time": "2022-04-27T08:14:55.198Z"
   },
   {
    "duration": 1401,
    "start_time": "2022-04-27T08:16:37.504Z"
   },
   {
    "duration": 886,
    "start_time": "2022-04-27T08:16:38.907Z"
   },
   {
    "duration": 232,
    "start_time": "2022-04-27T08:16:39.795Z"
   },
   {
    "duration": 35,
    "start_time": "2022-04-27T08:16:40.029Z"
   },
   {
    "duration": 4,
    "start_time": "2022-04-27T08:16:40.067Z"
   },
   {
    "duration": 408,
    "start_time": "2022-04-27T08:16:40.073Z"
   },
   {
    "duration": 50,
    "start_time": "2022-04-27T08:16:40.483Z"
   },
   {
    "duration": 485,
    "start_time": "2022-04-27T08:16:40.535Z"
   },
   {
    "duration": 357,
    "start_time": "2022-04-27T08:16:41.021Z"
   },
   {
    "duration": 259,
    "start_time": "2022-04-27T08:16:41.382Z"
   },
   {
    "duration": 30041,
    "start_time": "2022-04-27T08:16:41.643Z"
   },
   {
    "duration": 0,
    "start_time": "2022-04-27T08:17:11.686Z"
   },
   {
    "duration": 0,
    "start_time": "2022-04-27T08:17:11.687Z"
   },
   {
    "duration": 1379,
    "start_time": "2022-04-27T08:18:58.693Z"
   },
   {
    "duration": 756,
    "start_time": "2022-04-27T08:19:00.074Z"
   },
   {
    "duration": 238,
    "start_time": "2022-04-27T08:19:00.832Z"
   },
   {
    "duration": 25,
    "start_time": "2022-04-27T08:19:01.072Z"
   },
   {
    "duration": 8,
    "start_time": "2022-04-27T08:19:01.100Z"
   },
   {
    "duration": 428,
    "start_time": "2022-04-27T08:19:01.110Z"
   },
   {
    "duration": 55,
    "start_time": "2022-04-27T08:19:01.540Z"
   },
   {
    "duration": 296,
    "start_time": "2022-04-27T08:19:01.597Z"
   },
   {
    "duration": 437,
    "start_time": "2022-04-27T08:19:01.895Z"
   },
   {
    "duration": 251,
    "start_time": "2022-04-27T08:19:02.333Z"
   },
   {
    "duration": 75904,
    "start_time": "2022-04-27T08:19:02.586Z"
   },
   {
    "duration": 369,
    "start_time": "2022-04-27T08:20:18.493Z"
   },
   {
    "duration": 35,
    "start_time": "2022-04-27T08:20:18.865Z"
   },
   {
    "duration": 7672,
    "start_time": "2022-04-27T08:24:10.089Z"
   },
   {
    "duration": 896,
    "start_time": "2022-04-27T08:27:20.139Z"
   },
   {
    "duration": 1843,
    "start_time": "2022-04-27T08:29:10.849Z"
   },
   {
    "duration": 824,
    "start_time": "2022-04-27T08:29:12.695Z"
   },
   {
    "duration": 145,
    "start_time": "2022-04-27T08:29:13.520Z"
   },
   {
    "duration": 16,
    "start_time": "2022-04-27T08:29:13.667Z"
   },
   {
    "duration": 3,
    "start_time": "2022-04-27T08:29:13.686Z"
   },
   {
    "duration": 294,
    "start_time": "2022-04-27T08:29:13.691Z"
   },
   {
    "duration": 44,
    "start_time": "2022-04-27T08:29:13.986Z"
   },
   {
    "duration": 358,
    "start_time": "2022-04-27T08:29:14.031Z"
   },
   {
    "duration": 576,
    "start_time": "2022-04-27T08:29:14.391Z"
   },
   {
    "duration": 423,
    "start_time": "2022-04-27T08:29:14.969Z"
   },
   {
    "duration": 82925,
    "start_time": "2022-04-27T08:29:15.395Z"
   },
   {
    "duration": 372,
    "start_time": "2022-04-27T08:30:38.322Z"
   },
   {
    "duration": 21,
    "start_time": "2022-04-27T08:30:38.696Z"
   },
   {
    "duration": 1450,
    "start_time": "2022-04-27T09:22:35.151Z"
   },
   {
    "duration": 756,
    "start_time": "2022-04-27T09:22:36.603Z"
   },
   {
    "duration": 121,
    "start_time": "2022-04-27T09:22:37.361Z"
   },
   {
    "duration": 16,
    "start_time": "2022-04-27T09:22:37.485Z"
   },
   {
    "duration": 3,
    "start_time": "2022-04-27T09:22:37.502Z"
   },
   {
    "duration": 277,
    "start_time": "2022-04-27T09:22:37.506Z"
   },
   {
    "duration": 42,
    "start_time": "2022-04-27T09:22:37.784Z"
   },
   {
    "duration": 285,
    "start_time": "2022-04-27T09:22:37.827Z"
   },
   {
    "duration": 336,
    "start_time": "2022-04-27T09:22:38.113Z"
   },
   {
    "duration": 250,
    "start_time": "2022-04-27T09:22:38.451Z"
   },
   {
    "duration": 61942,
    "start_time": "2022-04-27T09:22:38.702Z"
   },
   {
    "duration": 327,
    "start_time": "2022-04-27T09:23:40.647Z"
   },
   {
    "duration": 20,
    "start_time": "2022-04-27T09:23:40.976Z"
   },
   {
    "duration": 8,
    "start_time": "2022-04-27T09:26:09.220Z"
   },
   {
    "duration": 6,
    "start_time": "2022-04-27T09:27:43.080Z"
   },
   {
    "duration": 7,
    "start_time": "2022-04-27T09:28:06.930Z"
   },
   {
    "duration": 67969,
    "start_time": "2022-04-27T09:28:45.987Z"
   },
   {
    "duration": 5,
    "start_time": "2022-04-27T09:30:47.408Z"
   },
   {
    "duration": 7,
    "start_time": "2022-04-27T09:30:53.326Z"
   },
   {
    "duration": 79143,
    "start_time": "2022-04-27T09:31:45.661Z"
   },
   {
    "duration": 69023,
    "start_time": "2022-04-27T09:34:15.971Z"
   },
   {
    "duration": 69305,
    "start_time": "2022-04-27T09:36:20.956Z"
   },
   {
    "duration": 11,
    "start_time": "2022-04-27T09:38:51.704Z"
   },
   {
    "duration": 1400,
    "start_time": "2022-04-27T09:41:17.434Z"
   },
   {
    "duration": 769,
    "start_time": "2022-04-27T09:41:18.836Z"
   },
   {
    "duration": 126,
    "start_time": "2022-04-27T09:41:19.607Z"
   },
   {
    "duration": 26,
    "start_time": "2022-04-27T09:41:19.735Z"
   },
   {
    "duration": 3,
    "start_time": "2022-04-27T09:41:19.763Z"
   },
   {
    "duration": 266,
    "start_time": "2022-04-27T09:41:19.768Z"
   },
   {
    "duration": 50,
    "start_time": "2022-04-27T09:41:20.035Z"
   },
   {
    "duration": 273,
    "start_time": "2022-04-27T09:41:20.087Z"
   },
   {
    "duration": 329,
    "start_time": "2022-04-27T09:41:20.361Z"
   },
   {
    "duration": 237,
    "start_time": "2022-04-27T09:41:20.692Z"
   },
   {
    "duration": 275,
    "start_time": "2022-04-27T09:41:20.931Z"
   },
   {
    "duration": 0,
    "start_time": "2022-04-27T09:41:21.208Z"
   },
   {
    "duration": 0,
    "start_time": "2022-04-27T09:41:21.210Z"
   },
   {
    "duration": 60218,
    "start_time": "2022-04-27T09:41:42.966Z"
   },
   {
    "duration": 68939,
    "start_time": "2022-04-27T09:43:16.525Z"
   },
   {
    "duration": 82,
    "start_time": "2022-04-27T09:44:47.165Z"
   },
   {
    "duration": 69865,
    "start_time": "2022-04-27T09:44:50.532Z"
   },
   {
    "duration": 1867,
    "start_time": "2022-04-27T09:46:37.400Z"
   },
   {
    "duration": 1701,
    "start_time": "2022-04-27T09:46:56.568Z"
   },
   {
    "duration": 67184,
    "start_time": "2022-04-27T09:47:17.069Z"
   },
   {
    "duration": 1225,
    "start_time": "2022-04-27T09:49:21.288Z"
   },
   {
    "duration": 51165,
    "start_time": "2022-04-27T09:49:32.686Z"
   },
   {
    "duration": 47564,
    "start_time": "2022-04-27T09:51:29.818Z"
   },
   {
    "duration": 2994,
    "start_time": "2022-04-27T09:52:28.889Z"
   },
   {
    "duration": 166,
    "start_time": "2022-04-27T09:52:56.271Z"
   },
   {
    "duration": 37,
    "start_time": "2022-04-27T09:55:35.824Z"
   },
   {
    "duration": 9,
    "start_time": "2022-04-27T09:55:46.357Z"
   },
   {
    "duration": 7,
    "start_time": "2022-04-27T09:56:01.733Z"
   },
   {
    "duration": 6,
    "start_time": "2022-04-27T09:56:42.984Z"
   },
   {
    "duration": 6,
    "start_time": "2022-04-27T09:59:20.061Z"
   },
   {
    "duration": 13,
    "start_time": "2022-04-27T09:59:35.647Z"
   },
   {
    "duration": 6,
    "start_time": "2022-04-27T09:59:46.981Z"
   },
   {
    "duration": 16,
    "start_time": "2022-04-27T09:59:58.677Z"
   },
   {
    "duration": 57,
    "start_time": "2022-04-27T10:05:49.989Z"
   },
   {
    "duration": 56,
    "start_time": "2022-04-27T10:06:19.235Z"
   },
   {
    "duration": 7,
    "start_time": "2022-04-27T10:06:31.873Z"
   },
   {
    "duration": 85,
    "start_time": "2022-04-27T10:07:57.794Z"
   },
   {
    "duration": 6,
    "start_time": "2022-04-27T10:08:04.265Z"
   },
   {
    "duration": 4,
    "start_time": "2022-04-27T10:09:47.933Z"
   },
   {
    "duration": 5,
    "start_time": "2022-04-27T10:10:19.321Z"
   },
   {
    "duration": 5,
    "start_time": "2022-04-27T10:10:56.742Z"
   },
   {
    "duration": 5,
    "start_time": "2022-04-27T10:11:37.236Z"
   },
   {
    "duration": 4,
    "start_time": "2022-04-27T10:12:23.357Z"
   },
   {
    "duration": 5,
    "start_time": "2022-04-27T10:12:34.027Z"
   },
   {
    "duration": 5,
    "start_time": "2022-04-27T10:12:38.458Z"
   },
   {
    "duration": 7,
    "start_time": "2022-04-27T10:12:42.278Z"
   },
   {
    "duration": 56,
    "start_time": "2022-04-27T10:13:41.280Z"
   },
   {
    "duration": 22,
    "start_time": "2022-04-27T10:13:53.338Z"
   },
   {
    "duration": 1427,
    "start_time": "2022-04-27T10:20:52.114Z"
   },
   {
    "duration": 48,
    "start_time": "2022-04-27T10:21:11.623Z"
   },
   {
    "duration": 46,
    "start_time": "2022-04-27T10:21:25.326Z"
   },
   {
    "duration": 12,
    "start_time": "2022-04-27T10:21:50.637Z"
   },
   {
    "duration": 11,
    "start_time": "2022-04-27T10:21:57.673Z"
   },
   {
    "duration": 5,
    "start_time": "2022-04-27T10:22:48.435Z"
   },
   {
    "duration": 5,
    "start_time": "2022-04-27T10:22:56.825Z"
   },
   {
    "duration": 6,
    "start_time": "2022-04-27T10:23:56.641Z"
   },
   {
    "duration": 8,
    "start_time": "2022-04-27T10:24:11.859Z"
   },
   {
    "duration": 55,
    "start_time": "2022-04-27T10:25:17.782Z"
   },
   {
    "duration": 7,
    "start_time": "2022-04-27T10:25:25.673Z"
   },
   {
    "duration": 1800,
    "start_time": "2022-04-27T10:25:34.340Z"
   },
   {
    "duration": 1253,
    "start_time": "2022-04-27T10:25:36.142Z"
   },
   {
    "duration": 236,
    "start_time": "2022-04-27T10:25:37.397Z"
   },
   {
    "duration": 26,
    "start_time": "2022-04-27T10:25:37.647Z"
   },
   {
    "duration": 4,
    "start_time": "2022-04-27T10:25:37.675Z"
   },
   {
    "duration": 415,
    "start_time": "2022-04-27T10:25:37.680Z"
   },
   {
    "duration": 55,
    "start_time": "2022-04-27T10:25:38.097Z"
   },
   {
    "duration": 1358,
    "start_time": "2022-04-27T10:25:38.154Z"
   },
   {
    "duration": 7,
    "start_time": "2022-04-27T10:25:39.514Z"
   },
   {
    "duration": 24,
    "start_time": "2022-04-27T10:25:39.524Z"
   },
   {
    "duration": 41,
    "start_time": "2022-04-27T10:25:39.549Z"
   },
   {
    "duration": 5,
    "start_time": "2022-04-27T10:25:39.592Z"
   },
   {
    "duration": 7,
    "start_time": "2022-04-27T10:25:39.599Z"
   },
   {
    "duration": 552,
    "start_time": "2022-04-27T10:25:39.608Z"
   },
   {
    "duration": 34,
    "start_time": "2022-04-27T10:25:40.162Z"
   },
   {
    "duration": 15774,
    "start_time": "2022-04-27T10:25:40.198Z"
   },
   {
    "duration": 7,
    "start_time": "2022-04-27T10:26:48.445Z"
   },
   {
    "duration": 4,
    "start_time": "2022-04-27T10:27:28.527Z"
   },
   {
    "duration": 11,
    "start_time": "2022-04-27T10:27:31.523Z"
   },
   {
    "duration": 15,
    "start_time": "2022-04-27T10:27:40.160Z"
   },
   {
    "duration": 1498,
    "start_time": "2022-04-27T10:27:55.131Z"
   },
   {
    "duration": 1236,
    "start_time": "2022-04-27T10:27:56.632Z"
   },
   {
    "duration": 229,
    "start_time": "2022-04-27T10:27:57.872Z"
   },
   {
    "duration": 16,
    "start_time": "2022-04-27T10:27:58.103Z"
   },
   {
    "duration": 3,
    "start_time": "2022-04-27T10:27:58.121Z"
   },
   {
    "duration": 403,
    "start_time": "2022-04-27T10:27:58.147Z"
   },
   {
    "duration": 45,
    "start_time": "2022-04-27T10:27:58.553Z"
   },
   {
    "duration": 921,
    "start_time": "2022-04-27T10:27:58.600Z"
   },
   {
    "duration": 6,
    "start_time": "2022-04-27T10:27:59.523Z"
   },
   {
    "duration": 26,
    "start_time": "2022-04-27T10:27:59.531Z"
   },
   {
    "duration": 5,
    "start_time": "2022-04-27T10:27:59.559Z"
   },
   {
    "duration": 32,
    "start_time": "2022-04-27T10:27:59.566Z"
   },
   {
    "duration": 11,
    "start_time": "2022-04-27T10:28:16.632Z"
   },
   {
    "duration": 6,
    "start_time": "2022-04-27T10:28:35.726Z"
   },
   {
    "duration": 5,
    "start_time": "2022-04-27T10:28:40.498Z"
   },
   {
    "duration": 1474,
    "start_time": "2022-04-27T10:28:51.354Z"
   },
   {
    "duration": 831,
    "start_time": "2022-04-27T10:28:52.830Z"
   },
   {
    "duration": 141,
    "start_time": "2022-04-27T10:28:53.663Z"
   },
   {
    "duration": 18,
    "start_time": "2022-04-27T10:28:53.806Z"
   },
   {
    "duration": 3,
    "start_time": "2022-04-27T10:28:53.826Z"
   },
   {
    "duration": 278,
    "start_time": "2022-04-27T10:28:53.847Z"
   },
   {
    "duration": 54,
    "start_time": "2022-04-27T10:28:54.127Z"
   },
   {
    "duration": 938,
    "start_time": "2022-04-27T10:28:54.183Z"
   },
   {
    "duration": 6,
    "start_time": "2022-04-27T10:28:55.122Z"
   },
   {
    "duration": 45,
    "start_time": "2022-04-27T10:28:55.130Z"
   },
   {
    "duration": 6,
    "start_time": "2022-04-27T10:28:55.177Z"
   },
   {
    "duration": 14,
    "start_time": "2022-04-27T10:29:14.451Z"
   },
   {
    "duration": 1501,
    "start_time": "2022-04-27T10:29:19.646Z"
   },
   {
    "duration": 812,
    "start_time": "2022-04-27T10:29:21.150Z"
   },
   {
    "duration": 137,
    "start_time": "2022-04-27T10:29:21.964Z"
   },
   {
    "duration": 17,
    "start_time": "2022-04-27T10:29:22.103Z"
   },
   {
    "duration": 3,
    "start_time": "2022-04-27T10:29:22.122Z"
   },
   {
    "duration": 301,
    "start_time": "2022-04-27T10:29:22.127Z"
   },
   {
    "duration": 50,
    "start_time": "2022-04-27T10:29:22.430Z"
   },
   {
    "duration": 933,
    "start_time": "2022-04-27T10:29:22.482Z"
   },
   {
    "duration": 5,
    "start_time": "2022-04-27T10:29:23.417Z"
   },
   {
    "duration": 31,
    "start_time": "2022-04-27T10:29:23.424Z"
   },
   {
    "duration": 8,
    "start_time": "2022-04-27T10:29:23.457Z"
   },
   {
    "duration": 5,
    "start_time": "2022-04-27T10:30:35.220Z"
   },
   {
    "duration": 10,
    "start_time": "2022-04-27T10:30:45.665Z"
   },
   {
    "duration": 32,
    "start_time": "2022-04-27T10:31:36.486Z"
   },
   {
    "duration": 4,
    "start_time": "2022-04-27T10:31:41.097Z"
   },
   {
    "duration": 8,
    "start_time": "2022-04-27T10:32:16.691Z"
   },
   {
    "duration": 15175,
    "start_time": "2022-04-27T10:38:21.674Z"
   },
   {
    "duration": 7,
    "start_time": "2022-04-27T10:40:13.981Z"
   },
   {
    "duration": 38,
    "start_time": "2022-04-27T10:40:15.461Z"
   },
   {
    "duration": 28,
    "start_time": "2022-04-27T10:40:21.276Z"
   },
   {
    "duration": 23,
    "start_time": "2022-04-27T10:41:04.269Z"
   },
   {
    "duration": 6,
    "start_time": "2022-04-27T10:41:12.714Z"
   },
   {
    "duration": 7,
    "start_time": "2022-04-27T10:42:53.149Z"
   },
   {
    "duration": 6,
    "start_time": "2022-04-27T10:46:12.448Z"
   },
   {
    "duration": 29,
    "start_time": "2022-04-27T10:46:54.029Z"
   },
   {
    "duration": 4,
    "start_time": "2022-04-27T10:47:02.899Z"
   },
   {
    "duration": 1322,
    "start_time": "2022-04-27T10:47:25.702Z"
   },
   {
    "duration": 794,
    "start_time": "2022-04-27T10:47:27.027Z"
   },
   {
    "duration": 144,
    "start_time": "2022-04-27T10:47:27.823Z"
   },
   {
    "duration": 17,
    "start_time": "2022-04-27T10:47:27.970Z"
   },
   {
    "duration": 3,
    "start_time": "2022-04-27T10:47:27.988Z"
   },
   {
    "duration": 294,
    "start_time": "2022-04-27T10:47:27.993Z"
   },
   {
    "duration": 39,
    "start_time": "2022-04-27T10:47:28.289Z"
   },
   {
    "duration": 940,
    "start_time": "2022-04-27T10:47:28.330Z"
   },
   {
    "duration": 5,
    "start_time": "2022-04-27T10:47:29.273Z"
   },
   {
    "duration": 8,
    "start_time": "2022-04-27T10:47:29.281Z"
   },
   {
    "duration": 29,
    "start_time": "2022-04-27T10:47:29.291Z"
   },
   {
    "duration": 33,
    "start_time": "2022-04-27T10:47:29.322Z"
   },
   {
    "duration": 10,
    "start_time": "2022-04-27T10:47:29.357Z"
   },
   {
    "duration": 35,
    "start_time": "2022-04-27T10:47:29.369Z"
   },
   {
    "duration": 4006,
    "start_time": "2022-04-27T10:47:29.406Z"
   },
   {
    "duration": 6124,
    "start_time": "2022-04-27T10:48:12.748Z"
   },
   {
    "duration": 510,
    "start_time": "2022-04-27T10:48:45.767Z"
   },
   {
    "duration": 21,
    "start_time": "2022-04-27T10:48:53.222Z"
   },
   {
    "duration": 26,
    "start_time": "2022-04-27T11:00:26.880Z"
   },
   {
    "duration": 43,
    "start_time": "2022-04-27T11:00:38.836Z"
   },
   {
    "duration": 75,
    "start_time": "2022-04-27T11:05:08.960Z"
   },
   {
    "duration": 1528,
    "start_time": "2022-04-27T11:13:50.226Z"
   },
   {
    "duration": 778,
    "start_time": "2022-04-27T11:13:51.756Z"
   },
   {
    "duration": 137,
    "start_time": "2022-04-27T11:13:52.536Z"
   },
   {
    "duration": 18,
    "start_time": "2022-04-27T11:13:52.675Z"
   },
   {
    "duration": 3,
    "start_time": "2022-04-27T11:13:52.694Z"
   },
   {
    "duration": 310,
    "start_time": "2022-04-27T11:13:52.698Z"
   },
   {
    "duration": 53,
    "start_time": "2022-04-27T11:13:53.010Z"
   },
   {
    "duration": 911,
    "start_time": "2022-04-27T11:13:53.065Z"
   },
   {
    "duration": 5,
    "start_time": "2022-04-27T11:13:53.978Z"
   },
   {
    "duration": 8,
    "start_time": "2022-04-27T11:13:53.985Z"
   },
   {
    "duration": 53,
    "start_time": "2022-04-27T11:13:53.994Z"
   },
   {
    "duration": 9,
    "start_time": "2022-04-27T11:13:54.050Z"
   },
   {
    "duration": 5,
    "start_time": "2022-04-27T11:13:54.062Z"
   },
   {
    "duration": 45,
    "start_time": "2022-04-27T11:13:54.069Z"
   },
   {
    "duration": 5981,
    "start_time": "2022-04-27T11:13:54.116Z"
   },
   {
    "duration": 352,
    "start_time": "2022-04-27T11:14:00.098Z"
   },
   {
    "duration": 30,
    "start_time": "2022-04-27T11:14:00.453Z"
   },
   {
    "duration": 222,
    "start_time": "2022-04-27T11:14:00.484Z"
   },
   {
    "duration": 0,
    "start_time": "2022-04-27T11:14:00.707Z"
   },
   {
    "duration": 4,
    "start_time": "2022-04-27T11:19:38.454Z"
   },
   {
    "duration": 2589,
    "start_time": "2022-04-27T11:21:02.664Z"
   },
   {
    "duration": 1434,
    "start_time": "2022-04-27T11:22:19.482Z"
   },
   {
    "duration": 50,
    "start_time": "2022-04-27T11:22:26.387Z"
   },
   {
    "duration": 1389,
    "start_time": "2022-04-27T11:22:47.657Z"
   },
   {
    "duration": 28,
    "start_time": "2022-04-27T11:22:55.432Z"
   },
   {
    "duration": 25,
    "start_time": "2022-04-27T11:23:03.530Z"
   },
   {
    "duration": 3,
    "start_time": "2022-04-27T11:23:28.843Z"
   },
   {
    "duration": 1320,
    "start_time": "2022-04-27T11:26:21.202Z"
   },
   {
    "duration": 957,
    "start_time": "2022-04-27T11:26:22.524Z"
   },
   {
    "duration": 121,
    "start_time": "2022-04-27T11:26:23.483Z"
   },
   {
    "duration": 16,
    "start_time": "2022-04-27T11:26:23.606Z"
   },
   {
    "duration": 3,
    "start_time": "2022-04-27T11:26:23.624Z"
   },
   {
    "duration": 271,
    "start_time": "2022-04-27T11:26:23.628Z"
   },
   {
    "duration": 48,
    "start_time": "2022-04-27T11:26:23.901Z"
   },
   {
    "duration": 851,
    "start_time": "2022-04-27T11:26:23.951Z"
   },
   {
    "duration": 5,
    "start_time": "2022-04-27T11:26:24.805Z"
   },
   {
    "duration": 8,
    "start_time": "2022-04-27T11:26:24.812Z"
   },
   {
    "duration": 37,
    "start_time": "2022-04-27T11:26:24.821Z"
   },
   {
    "duration": 6,
    "start_time": "2022-04-27T11:26:24.860Z"
   },
   {
    "duration": 9,
    "start_time": "2022-04-27T11:26:24.868Z"
   },
   {
    "duration": 35,
    "start_time": "2022-04-27T11:26:24.879Z"
   },
   {
    "duration": 6068,
    "start_time": "2022-04-27T11:26:24.916Z"
   },
   {
    "duration": 314,
    "start_time": "2022-04-27T11:26:30.986Z"
   },
   {
    "duration": 21,
    "start_time": "2022-04-27T11:26:31.301Z"
   },
   {
    "duration": 6,
    "start_time": "2022-04-27T11:26:31.323Z"
   },
   {
    "duration": 51,
    "start_time": "2022-04-27T11:26:31.331Z"
   },
   {
    "duration": 25,
    "start_time": "2022-04-27T11:27:51.252Z"
   },
   {
    "duration": 28,
    "start_time": "2022-04-27T11:27:58.750Z"
   },
   {
    "duration": 23,
    "start_time": "2022-04-27T11:28:12.990Z"
   },
   {
    "duration": 133,
    "start_time": "2022-04-27T11:28:27.281Z"
   },
   {
    "duration": 27,
    "start_time": "2022-04-27T11:28:45.275Z"
   },
   {
    "duration": 28,
    "start_time": "2022-04-27T11:29:50.881Z"
   },
   {
    "duration": 1481,
    "start_time": "2022-04-27T11:31:02.942Z"
   },
   {
    "duration": 29,
    "start_time": "2022-04-27T11:31:09.131Z"
   },
   {
    "duration": 35,
    "start_time": "2022-04-27T11:32:02.149Z"
   },
   {
    "duration": 36,
    "start_time": "2022-04-27T11:32:06.627Z"
   },
   {
    "duration": 29,
    "start_time": "2022-04-27T11:32:21.764Z"
   },
   {
    "duration": 53,
    "start_time": "2022-04-27T11:32:42.852Z"
   },
   {
    "duration": 28,
    "start_time": "2022-04-27T11:32:49.555Z"
   },
   {
    "duration": 52,
    "start_time": "2022-04-27T11:32:54.426Z"
   },
   {
    "duration": 25,
    "start_time": "2022-04-27T11:34:00.595Z"
   },
   {
    "duration": 25,
    "start_time": "2022-04-27T11:34:28.220Z"
   },
   {
    "duration": 28,
    "start_time": "2022-04-27T11:34:43.280Z"
   },
   {
    "duration": 30,
    "start_time": "2022-04-27T11:34:48.386Z"
   },
   {
    "duration": 30,
    "start_time": "2022-04-27T11:34:55.978Z"
   },
   {
    "duration": 33,
    "start_time": "2022-04-27T11:35:30.296Z"
   },
   {
    "duration": 29,
    "start_time": "2022-04-27T11:35:51.912Z"
   },
   {
    "duration": 39,
    "start_time": "2022-04-27T11:54:54.162Z"
   },
   {
    "duration": 103,
    "start_time": "2022-04-27T12:10:32.984Z"
   },
   {
    "duration": 134,
    "start_time": "2022-04-27T12:21:08.054Z"
   },
   {
    "duration": 145,
    "start_time": "2022-04-27T12:21:27.443Z"
   },
   {
    "duration": 201,
    "start_time": "2022-04-27T12:21:32.432Z"
   },
   {
    "duration": 157,
    "start_time": "2022-04-27T12:21:41.375Z"
   },
   {
    "duration": 25,
    "start_time": "2022-04-27T12:25:22.304Z"
   },
   {
    "duration": 39,
    "start_time": "2022-04-27T12:33:23.167Z"
   },
   {
    "duration": 10,
    "start_time": "2022-04-27T12:43:33.791Z"
   },
   {
    "duration": 13,
    "start_time": "2022-04-27T12:43:45.707Z"
   },
   {
    "duration": 1317,
    "start_time": "2022-04-27T12:43:53.904Z"
   },
   {
    "duration": 14,
    "start_time": "2022-04-27T12:44:07.072Z"
   },
   {
    "duration": 1119,
    "start_time": "2022-04-27T12:44:24.017Z"
   },
   {
    "duration": 1122,
    "start_time": "2022-04-27T12:47:30.389Z"
   },
   {
    "duration": 1566,
    "start_time": "2022-04-27T12:47:38.411Z"
   },
   {
    "duration": 1875,
    "start_time": "2022-04-27T12:48:23.889Z"
   },
   {
    "duration": 13,
    "start_time": "2022-04-27T12:48:39.902Z"
   },
   {
    "duration": 95,
    "start_time": "2022-04-27T12:48:54.091Z"
   },
   {
    "duration": 2374,
    "start_time": "2022-04-27T12:51:07.040Z"
   },
   {
    "duration": 5,
    "start_time": "2022-04-27T12:58:14.671Z"
   },
   {
    "duration": 10,
    "start_time": "2022-04-27T12:58:26.546Z"
   },
   {
    "duration": 47,
    "start_time": "2022-04-27T12:58:31.927Z"
   },
   {
    "duration": 4,
    "start_time": "2022-04-27T13:15:11.233Z"
   },
   {
    "duration": 15,
    "start_time": "2022-04-27T13:16:07.899Z"
   },
   {
    "duration": 10,
    "start_time": "2022-04-27T13:16:14.385Z"
   },
   {
    "duration": 25,
    "start_time": "2022-04-27T13:16:23.110Z"
   },
   {
    "duration": 73,
    "start_time": "2022-04-27T13:17:59.124Z"
   },
   {
    "duration": 4,
    "start_time": "2022-04-27T13:18:16.920Z"
   },
   {
    "duration": 6,
    "start_time": "2022-04-27T13:18:27.649Z"
   },
   {
    "duration": 4,
    "start_time": "2022-04-27T13:18:45.218Z"
   },
   {
    "duration": 93,
    "start_time": "2022-04-27T13:19:02.681Z"
   },
   {
    "duration": 4,
    "start_time": "2022-04-27T13:19:05.330Z"
   },
   {
    "duration": 9,
    "start_time": "2022-04-27T13:32:21.465Z"
   },
   {
    "duration": 867,
    "start_time": "2022-04-27T13:32:33.649Z"
   },
   {
    "duration": 14,
    "start_time": "2022-04-27T13:32:39.028Z"
   },
   {
    "duration": 10,
    "start_time": "2022-04-27T13:33:00.432Z"
   },
   {
    "duration": 4,
    "start_time": "2022-04-27T13:33:02.361Z"
   },
   {
    "duration": 3,
    "start_time": "2022-04-27T13:38:18.306Z"
   },
   {
    "duration": 3,
    "start_time": "2022-04-27T13:38:26.292Z"
   },
   {
    "duration": 54,
    "start_time": "2022-04-27T13:40:49.090Z"
   },
   {
    "duration": 24,
    "start_time": "2022-04-27T13:41:41.068Z"
   },
   {
    "duration": 25,
    "start_time": "2022-04-27T13:41:44.045Z"
   },
   {
    "duration": 1556,
    "start_time": "2022-04-27T13:42:58.351Z"
   },
   {
    "duration": 914,
    "start_time": "2022-04-27T13:42:59.909Z"
   },
   {
    "duration": 145,
    "start_time": "2022-04-27T13:43:00.824Z"
   },
   {
    "duration": 17,
    "start_time": "2022-04-27T13:43:00.971Z"
   },
   {
    "duration": 3,
    "start_time": "2022-04-27T13:43:00.990Z"
   },
   {
    "duration": 304,
    "start_time": "2022-04-27T13:43:00.995Z"
   },
   {
    "duration": 54,
    "start_time": "2022-04-27T13:43:01.300Z"
   },
   {
    "duration": 1074,
    "start_time": "2022-04-27T13:43:01.356Z"
   },
   {
    "duration": 19,
    "start_time": "2022-04-27T13:43:02.432Z"
   },
   {
    "duration": 9,
    "start_time": "2022-04-27T13:43:02.453Z"
   },
   {
    "duration": 34,
    "start_time": "2022-04-27T13:43:02.464Z"
   },
   {
    "duration": 8,
    "start_time": "2022-04-27T13:43:02.499Z"
   },
   {
    "duration": 5,
    "start_time": "2022-04-27T13:43:02.509Z"
   },
   {
    "duration": 67,
    "start_time": "2022-04-27T13:43:02.517Z"
   },
   {
    "duration": 6510,
    "start_time": "2022-04-27T13:43:02.586Z"
   },
   {
    "duration": 341,
    "start_time": "2022-04-27T13:43:09.099Z"
   },
   {
    "duration": 33,
    "start_time": "2022-04-27T13:43:09.442Z"
   },
   {
    "duration": 124,
    "start_time": "2022-04-27T13:43:09.477Z"
   },
   {
    "duration": 0,
    "start_time": "2022-04-27T13:43:09.603Z"
   },
   {
    "duration": 0,
    "start_time": "2022-04-27T13:43:09.605Z"
   },
   {
    "duration": 0,
    "start_time": "2022-04-27T13:43:09.606Z"
   },
   {
    "duration": 0,
    "start_time": "2022-04-27T13:43:09.607Z"
   },
   {
    "duration": 0,
    "start_time": "2022-04-27T13:43:09.608Z"
   },
   {
    "duration": 0,
    "start_time": "2022-04-27T13:43:09.609Z"
   },
   {
    "duration": 0,
    "start_time": "2022-04-27T13:43:09.610Z"
   },
   {
    "duration": 0,
    "start_time": "2022-04-27T13:43:09.611Z"
   },
   {
    "duration": 19,
    "start_time": "2022-04-27T13:43:23.585Z"
   },
   {
    "duration": 2204,
    "start_time": "2022-04-27T13:43:23.922Z"
   },
   {
    "duration": 85,
    "start_time": "2022-04-27T13:43:28.376Z"
   },
   {
    "duration": 18,
    "start_time": "2022-04-27T13:43:31.718Z"
   },
   {
    "duration": 768,
    "start_time": "2022-04-27T13:43:32.058Z"
   },
   {
    "duration": 213,
    "start_time": "2022-04-27T13:43:32.828Z"
   },
   {
    "duration": 330,
    "start_time": "2022-04-27T13:43:33.043Z"
   },
   {
    "duration": 16,
    "start_time": "2022-04-27T13:43:33.957Z"
   },
   {
    "duration": 32,
    "start_time": "2022-04-27T13:44:51.088Z"
   },
   {
    "duration": 45,
    "start_time": "2022-04-27T17:22:26.284Z"
   },
   {
    "duration": 2320,
    "start_time": "2022-04-27T17:22:32.336Z"
   },
   {
    "duration": 1142,
    "start_time": "2022-04-27T17:22:34.658Z"
   },
   {
    "duration": 204,
    "start_time": "2022-04-27T17:22:35.803Z"
   },
   {
    "duration": 35,
    "start_time": "2022-04-27T17:22:36.010Z"
   },
   {
    "duration": 3,
    "start_time": "2022-04-27T17:22:36.047Z"
   },
   {
    "duration": 428,
    "start_time": "2022-04-27T17:22:36.052Z"
   },
   {
    "duration": 54,
    "start_time": "2022-04-27T17:22:36.482Z"
   },
   {
    "duration": 1364,
    "start_time": "2022-04-27T17:22:36.539Z"
   },
   {
    "duration": 18,
    "start_time": "2022-04-27T17:22:37.905Z"
   },
   {
    "duration": 12,
    "start_time": "2022-04-27T17:22:37.926Z"
   },
   {
    "duration": 32,
    "start_time": "2022-04-27T17:22:37.940Z"
   },
   {
    "duration": 8,
    "start_time": "2022-04-27T17:22:37.974Z"
   },
   {
    "duration": 6,
    "start_time": "2022-04-27T17:22:37.983Z"
   },
   {
    "duration": 42,
    "start_time": "2022-04-27T17:22:37.990Z"
   },
   {
    "duration": 39,
    "start_time": "2022-04-27T17:22:38.034Z"
   },
   {
    "duration": 5873,
    "start_time": "2022-04-27T17:22:38.075Z"
   },
   {
    "duration": 304,
    "start_time": "2022-04-27T17:22:43.950Z"
   },
   {
    "duration": 21,
    "start_time": "2022-04-27T17:22:44.256Z"
   },
   {
    "duration": 3186,
    "start_time": "2022-04-27T17:22:44.279Z"
   },
   {
    "duration": 140,
    "start_time": "2022-04-27T17:22:47.467Z"
   },
   {
    "duration": 33,
    "start_time": "2022-04-27T17:22:47.609Z"
   },
   {
    "duration": 953,
    "start_time": "2022-04-27T17:22:47.644Z"
   },
   {
    "duration": 197,
    "start_time": "2022-04-27T17:22:48.599Z"
   },
   {
    "duration": 340,
    "start_time": "2022-04-27T17:22:48.798Z"
   },
   {
    "duration": 31,
    "start_time": "2022-04-27T17:22:49.140Z"
   },
   {
    "duration": 5,
    "start_time": "2022-04-27T17:23:54.430Z"
   },
   {
    "duration": 7,
    "start_time": "2022-04-27T17:23:58.449Z"
   },
   {
    "duration": 102,
    "start_time": "2022-04-27T18:05:20.368Z"
   },
   {
    "duration": 4,
    "start_time": "2022-04-27T18:05:26.811Z"
   },
   {
    "duration": 4,
    "start_time": "2022-04-27T18:07:48.733Z"
   },
   {
    "duration": 2,
    "start_time": "2022-04-27T18:08:55.532Z"
   },
   {
    "duration": 2,
    "start_time": "2022-04-27T18:08:59.813Z"
   },
   {
    "duration": 2,
    "start_time": "2022-04-27T18:09:32.027Z"
   },
   {
    "duration": 5,
    "start_time": "2022-04-27T18:10:33.921Z"
   },
   {
    "duration": 114,
    "start_time": "2022-04-27T18:35:27.940Z"
   },
   {
    "duration": 32,
    "start_time": "2022-04-27T18:35:29.277Z"
   },
   {
    "duration": 33,
    "start_time": "2022-04-27T18:35:35.836Z"
   },
   {
    "duration": 3,
    "start_time": "2022-04-27T18:35:37.015Z"
   },
   {
    "duration": 2,
    "start_time": "2022-04-27T18:35:37.278Z"
   },
   {
    "duration": 2,
    "start_time": "2022-04-27T18:35:37.832Z"
   },
   {
    "duration": 36,
    "start_time": "2022-04-27T18:48:32.916Z"
   },
   {
    "duration": 11,
    "start_time": "2022-04-27T18:49:09.699Z"
   },
   {
    "duration": 1357,
    "start_time": "2022-04-27T18:49:24.870Z"
   },
   {
    "duration": 748,
    "start_time": "2022-04-27T18:49:26.229Z"
   },
   {
    "duration": 115,
    "start_time": "2022-04-27T18:49:26.979Z"
   },
   {
    "duration": 28,
    "start_time": "2022-04-27T18:49:27.096Z"
   },
   {
    "duration": 3,
    "start_time": "2022-04-27T18:49:27.126Z"
   },
   {
    "duration": 271,
    "start_time": "2022-04-27T18:49:27.131Z"
   },
   {
    "duration": 44,
    "start_time": "2022-04-27T18:49:27.404Z"
   },
   {
    "duration": 829,
    "start_time": "2022-04-27T18:49:27.449Z"
   },
   {
    "duration": 5,
    "start_time": "2022-04-27T18:49:28.280Z"
   },
   {
    "duration": 10,
    "start_time": "2022-04-27T18:49:28.286Z"
   },
   {
    "duration": 51,
    "start_time": "2022-04-27T18:49:28.298Z"
   },
   {
    "duration": 7,
    "start_time": "2022-04-27T18:49:28.351Z"
   },
   {
    "duration": 6,
    "start_time": "2022-04-27T18:49:28.359Z"
   },
   {
    "duration": 60,
    "start_time": "2022-04-27T18:49:28.368Z"
   },
   {
    "duration": 5699,
    "start_time": "2022-04-27T18:49:28.429Z"
   },
   {
    "duration": 318,
    "start_time": "2022-04-27T18:49:34.130Z"
   },
   {
    "duration": 19,
    "start_time": "2022-04-27T18:49:34.450Z"
   },
   {
    "duration": 2183,
    "start_time": "2022-04-27T18:49:34.470Z"
   },
   {
    "duration": 78,
    "start_time": "2022-04-27T18:49:36.655Z"
   },
   {
    "duration": 21,
    "start_time": "2022-04-27T18:49:36.735Z"
   },
   {
    "duration": 778,
    "start_time": "2022-04-27T18:49:36.757Z"
   },
   {
    "duration": 201,
    "start_time": "2022-04-27T18:49:37.536Z"
   },
   {
    "duration": 323,
    "start_time": "2022-04-27T18:49:37.739Z"
   },
   {
    "duration": 32,
    "start_time": "2022-04-27T18:49:38.064Z"
   },
   {
    "duration": 3,
    "start_time": "2022-04-27T18:49:38.098Z"
   },
   {
    "duration": 20,
    "start_time": "2022-04-27T18:49:38.103Z"
   },
   {
    "duration": 6,
    "start_time": "2022-04-27T18:49:38.125Z"
   },
   {
    "duration": 1598,
    "start_time": "2022-04-27T18:50:01.412Z"
   },
   {
    "duration": 760,
    "start_time": "2022-04-27T18:50:03.012Z"
   },
   {
    "duration": 112,
    "start_time": "2022-04-27T18:50:03.774Z"
   },
   {
    "duration": 18,
    "start_time": "2022-04-27T18:50:03.888Z"
   },
   {
    "duration": 3,
    "start_time": "2022-04-27T18:50:03.923Z"
   },
   {
    "duration": 280,
    "start_time": "2022-04-27T18:50:03.928Z"
   },
   {
    "duration": 45,
    "start_time": "2022-04-27T18:50:04.209Z"
   },
   {
    "duration": 887,
    "start_time": "2022-04-27T18:50:04.256Z"
   },
   {
    "duration": 6,
    "start_time": "2022-04-27T18:50:05.145Z"
   },
   {
    "duration": 10,
    "start_time": "2022-04-27T18:50:05.154Z"
   },
   {
    "duration": 33,
    "start_time": "2022-04-27T18:50:05.165Z"
   },
   {
    "duration": 28,
    "start_time": "2022-04-27T18:50:05.200Z"
   },
   {
    "duration": 5,
    "start_time": "2022-04-27T18:50:05.230Z"
   },
   {
    "duration": 40,
    "start_time": "2022-04-27T18:50:05.237Z"
   },
   {
    "duration": 5677,
    "start_time": "2022-04-27T18:50:05.279Z"
   },
   {
    "duration": 302,
    "start_time": "2022-04-27T18:50:10.958Z"
   },
   {
    "duration": 20,
    "start_time": "2022-04-27T18:50:11.262Z"
   },
   {
    "duration": 2211,
    "start_time": "2022-04-27T18:50:11.284Z"
   },
   {
    "duration": 76,
    "start_time": "2022-04-27T18:50:13.497Z"
   },
   {
    "duration": 23,
    "start_time": "2022-04-27T18:50:13.575Z"
   },
   {
    "duration": 782,
    "start_time": "2022-04-27T18:50:13.600Z"
   },
   {
    "duration": 203,
    "start_time": "2022-04-27T18:50:14.384Z"
   },
   {
    "duration": 329,
    "start_time": "2022-04-27T18:50:14.589Z"
   },
   {
    "duration": 37,
    "start_time": "2022-04-27T18:50:14.920Z"
   },
   {
    "duration": 3,
    "start_time": "2022-04-27T18:50:14.958Z"
   },
   {
    "duration": 28,
    "start_time": "2022-04-27T18:50:14.963Z"
   },
   {
    "duration": 30,
    "start_time": "2022-04-27T18:50:14.993Z"
   },
   {
    "duration": 107,
    "start_time": "2022-04-27T19:51:45.857Z"
   },
   {
    "duration": 115,
    "start_time": "2022-04-27T19:52:02.189Z"
   },
   {
    "duration": 1512,
    "start_time": "2022-04-27T19:54:17.751Z"
   },
   {
    "duration": 826,
    "start_time": "2022-04-27T19:54:19.266Z"
   },
   {
    "duration": 130,
    "start_time": "2022-04-27T19:54:20.094Z"
   },
   {
    "duration": 28,
    "start_time": "2022-04-27T19:54:20.226Z"
   },
   {
    "duration": 5,
    "start_time": "2022-04-27T19:54:20.256Z"
   },
   {
    "duration": 289,
    "start_time": "2022-04-27T19:54:20.263Z"
   },
   {
    "duration": 46,
    "start_time": "2022-04-27T19:54:20.554Z"
   },
   {
    "duration": 952,
    "start_time": "2022-04-27T19:54:20.602Z"
   },
   {
    "duration": 6,
    "start_time": "2022-04-27T19:54:21.556Z"
   },
   {
    "duration": 11,
    "start_time": "2022-04-27T19:54:21.565Z"
   },
   {
    "duration": 65,
    "start_time": "2022-04-27T19:54:21.578Z"
   },
   {
    "duration": 8,
    "start_time": "2022-04-27T19:54:21.645Z"
   },
   {
    "duration": 6,
    "start_time": "2022-04-27T19:54:21.655Z"
   },
   {
    "duration": 79,
    "start_time": "2022-04-27T19:54:21.663Z"
   },
   {
    "duration": 8712,
    "start_time": "2022-04-27T19:54:21.744Z"
   },
   {
    "duration": 330,
    "start_time": "2022-04-27T19:54:30.458Z"
   },
   {
    "duration": 21,
    "start_time": "2022-04-27T19:54:30.790Z"
   },
   {
    "duration": 2516,
    "start_time": "2022-04-27T19:54:30.828Z"
   },
   {
    "duration": 24,
    "start_time": "2022-04-27T19:54:33.350Z"
   },
   {
    "duration": 1051,
    "start_time": "2022-04-27T19:54:33.376Z"
   },
   {
    "duration": 241,
    "start_time": "2022-04-27T19:54:34.429Z"
   },
   {
    "duration": 339,
    "start_time": "2022-04-27T19:54:34.673Z"
   },
   {
    "duration": 36,
    "start_time": "2022-04-27T19:54:35.013Z"
   },
   {
    "duration": 3,
    "start_time": "2022-04-27T19:54:35.051Z"
   },
   {
    "duration": 15,
    "start_time": "2022-04-27T19:54:35.056Z"
   },
   {
    "duration": 5,
    "start_time": "2022-04-27T19:54:35.073Z"
   },
   {
    "duration": 1240,
    "start_time": "2022-04-27T19:54:35.080Z"
   },
   {
    "duration": 5,
    "start_time": "2022-04-27T19:54:36.324Z"
   },
   {
    "duration": 1069,
    "start_time": "2022-04-27T19:54:59.663Z"
   },
   {
    "duration": 1662,
    "start_time": "2022-04-27T19:55:09.390Z"
   },
   {
    "duration": 4,
    "start_time": "2022-04-27T19:55:18.986Z"
   },
   {
    "duration": 1800,
    "start_time": "2022-04-27T19:55:46.856Z"
   },
   {
    "duration": 58,
    "start_time": "2022-04-27T19:56:39.243Z"
   },
   {
    "duration": 1863,
    "start_time": "2022-04-27T19:57:01.694Z"
   },
   {
    "duration": 4,
    "start_time": "2022-04-27T19:57:07.856Z"
   },
   {
    "duration": 6,
    "start_time": "2022-04-27T19:58:00.234Z"
   },
   {
    "duration": 4,
    "start_time": "2022-04-27T19:58:00.507Z"
   },
   {
    "duration": 1895,
    "start_time": "2022-04-27T19:58:01.545Z"
   },
   {
    "duration": 4,
    "start_time": "2022-04-27T19:58:07.899Z"
   },
   {
    "duration": 1829,
    "start_time": "2022-04-27T19:59:59.237Z"
   },
   {
    "duration": 4,
    "start_time": "2022-04-27T20:00:02.489Z"
   },
   {
    "duration": 1784,
    "start_time": "2022-04-27T20:00:33.574Z"
   },
   {
    "duration": 8789,
    "start_time": "2022-04-27T20:04:40.571Z"
   },
   {
    "duration": 8723,
    "start_time": "2022-04-27T20:04:56.509Z"
   },
   {
    "duration": 5,
    "start_time": "2022-04-27T20:05:11.458Z"
   },
   {
    "duration": 40920,
    "start_time": "2022-04-27T20:05:23.820Z"
   },
   {
    "duration": 4,
    "start_time": "2022-04-27T20:06:07.398Z"
   },
   {
    "duration": 26342,
    "start_time": "2022-04-27T20:06:26.185Z"
   },
   {
    "duration": 4,
    "start_time": "2022-04-27T20:06:57.123Z"
   },
   {
    "duration": 232724,
    "start_time": "2022-04-27T20:10:35.345Z"
   },
   {
    "duration": 23,
    "start_time": "2022-04-27T20:15:51.036Z"
   },
   {
    "duration": 5,
    "start_time": "2022-04-27T20:16:01.011Z"
   },
   {
    "duration": 4,
    "start_time": "2022-04-27T20:19:27.362Z"
   },
   {
    "duration": 226781,
    "start_time": "2022-04-27T20:19:40.192Z"
   },
   {
    "duration": 4,
    "start_time": "2022-04-27T20:27:33.665Z"
   },
   {
    "duration": 2,
    "start_time": "2022-04-27T20:28:46.296Z"
   },
   {
    "duration": 5,
    "start_time": "2022-04-27T20:31:46.852Z"
   },
   {
    "duration": 2655,
    "start_time": "2022-04-27T20:32:05.028Z"
   },
   {
    "duration": 4,
    "start_time": "2022-04-27T20:34:07.061Z"
   },
   {
    "duration": 6,
    "start_time": "2022-04-27T20:34:13.757Z"
   },
   {
    "duration": 2385,
    "start_time": "2022-04-27T20:36:50.295Z"
   },
   {
    "duration": 2028,
    "start_time": "2022-04-27T20:37:10.754Z"
   },
   {
    "duration": 1984,
    "start_time": "2022-04-27T20:37:19.396Z"
   },
   {
    "duration": 1651,
    "start_time": "2022-04-27T20:45:04.295Z"
   },
   {
    "duration": 814,
    "start_time": "2022-04-27T20:45:05.954Z"
   },
   {
    "duration": 129,
    "start_time": "2022-04-27T20:45:06.772Z"
   },
   {
    "duration": 29,
    "start_time": "2022-04-27T20:45:06.903Z"
   },
   {
    "duration": 5,
    "start_time": "2022-04-27T20:45:06.934Z"
   },
   {
    "duration": 300,
    "start_time": "2022-04-27T20:45:06.941Z"
   },
   {
    "duration": 47,
    "start_time": "2022-04-27T20:45:07.244Z"
   },
   {
    "duration": 975,
    "start_time": "2022-04-27T20:45:07.293Z"
   },
   {
    "duration": 5,
    "start_time": "2022-04-27T20:45:08.269Z"
   },
   {
    "duration": 10,
    "start_time": "2022-04-27T20:45:08.276Z"
   },
   {
    "duration": 49,
    "start_time": "2022-04-27T20:45:08.287Z"
   },
   {
    "duration": 13,
    "start_time": "2022-04-27T20:45:08.338Z"
   },
   {
    "duration": 16,
    "start_time": "2022-04-27T20:45:08.353Z"
   },
   {
    "duration": 44,
    "start_time": "2022-04-27T20:45:08.371Z"
   },
   {
    "duration": 6434,
    "start_time": "2022-04-27T20:45:08.417Z"
   },
   {
    "duration": 324,
    "start_time": "2022-04-27T20:45:14.861Z"
   },
   {
    "duration": 22,
    "start_time": "2022-04-27T20:45:15.186Z"
   },
   {
    "duration": 2304,
    "start_time": "2022-04-27T20:45:15.209Z"
   },
   {
    "duration": 30,
    "start_time": "2022-04-27T20:45:17.515Z"
   },
   {
    "duration": 753,
    "start_time": "2022-04-27T20:45:17.547Z"
   },
   {
    "duration": 194,
    "start_time": "2022-04-27T20:45:18.301Z"
   },
   {
    "duration": 338,
    "start_time": "2022-04-27T20:45:18.496Z"
   },
   {
    "duration": 31,
    "start_time": "2022-04-27T20:45:18.838Z"
   },
   {
    "duration": 3,
    "start_time": "2022-04-27T20:45:18.871Z"
   },
   {
    "duration": 5,
    "start_time": "2022-04-27T20:45:18.875Z"
   },
   {
    "duration": 5,
    "start_time": "2022-04-27T20:45:18.882Z"
   },
   {
    "duration": 1765,
    "start_time": "2022-04-27T20:45:18.889Z"
   },
   {
    "duration": 3,
    "start_time": "2022-04-27T20:45:20.658Z"
   },
   {
    "duration": 21798,
    "start_time": "2022-04-27T20:45:20.663Z"
   },
   {
    "duration": 232456,
    "start_time": "2022-04-27T20:45:42.465Z"
   },
   {
    "duration": 3,
    "start_time": "2022-04-27T20:49:34.925Z"
   },
   {
    "duration": 229,
    "start_time": "2022-04-27T20:49:34.929Z"
   },
   {
    "duration": 57,
    "start_time": "2022-04-27T20:50:38.345Z"
   },
   {
    "duration": 142,
    "start_time": "2022-04-27T20:54:28.558Z"
   },
   {
    "duration": 4,
    "start_time": "2022-04-27T20:54:30.321Z"
   },
   {
    "duration": 4535,
    "start_time": "2022-04-27T20:54:44.055Z"
   },
   {
    "duration": 14,
    "start_time": "2022-04-27T20:56:37.865Z"
   },
   {
    "duration": 2510,
    "start_time": "2022-04-27T20:57:06.062Z"
   },
   {
    "duration": 3,
    "start_time": "2022-04-27T20:59:12.552Z"
   },
   {
    "duration": 2499,
    "start_time": "2022-04-27T20:59:13.408Z"
   },
   {
    "duration": 412,
    "start_time": "2022-04-27T21:04:04.507Z"
   },
   {
    "duration": 2324,
    "start_time": "2022-04-27T21:20:31.264Z"
   },
   {
    "duration": 18,
    "start_time": "2022-04-27T21:26:08.892Z"
   },
   {
    "duration": 2120,
    "start_time": "2022-04-27T21:27:42.593Z"
   },
   {
    "duration": 120,
    "start_time": "2022-04-27T21:29:08.200Z"
   },
   {
    "duration": 3,
    "start_time": "2022-04-27T21:29:09.271Z"
   },
   {
    "duration": 2191,
    "start_time": "2022-04-27T21:29:10.027Z"
   },
   {
    "duration": 2045,
    "start_time": "2022-04-27T21:29:35.910Z"
   },
   {
    "duration": 1265,
    "start_time": "2022-04-27T21:30:30.456Z"
   },
   {
    "duration": 928,
    "start_time": "2022-04-27T21:39:45.490Z"
   },
   {
    "duration": 74,
    "start_time": "2022-04-27T21:41:40.295Z"
   },
   {
    "duration": 72,
    "start_time": "2022-04-27T21:42:16.274Z"
   },
   {
    "duration": 52,
    "start_time": "2022-04-27T21:43:01.285Z"
   },
   {
    "duration": 58,
    "start_time": "2022-04-27T21:43:22.519Z"
   },
   {
    "duration": 60159,
    "start_time": "2022-04-27T21:43:53.958Z"
   },
   {
    "duration": 61401,
    "start_time": "2022-04-27T21:45:14.759Z"
   },
   {
    "duration": 180462,
    "start_time": "2022-04-27T21:47:39.288Z"
   },
   {
    "duration": 11,
    "start_time": "2022-04-27T21:51:24.013Z"
   },
   {
    "duration": 9,
    "start_time": "2022-04-27T21:51:27.381Z"
   },
   {
    "duration": 11,
    "start_time": "2022-04-27T21:51:35.370Z"
   },
   {
    "duration": 3,
    "start_time": "2022-04-27T21:54:41.996Z"
   },
   {
    "duration": 126,
    "start_time": "2022-04-27T21:57:15.587Z"
   },
   {
    "duration": 116,
    "start_time": "2022-04-27T21:57:32.321Z"
   },
   {
    "duration": 101,
    "start_time": "2022-04-27T22:16:25.413Z"
   },
   {
    "duration": 5016,
    "start_time": "2022-04-27T22:19:35.088Z"
   },
   {
    "duration": 10619,
    "start_time": "2022-04-27T22:19:48.170Z"
   },
   {
    "duration": 557498,
    "start_time": "2022-04-27T22:20:05.464Z"
   },
   {
    "duration": 399472,
    "start_time": "2022-04-27T22:29:35.259Z"
   },
   {
    "duration": 9,
    "start_time": "2022-04-27T22:36:14.733Z"
   },
   {
    "duration": 2456,
    "start_time": "2022-04-28T18:10:40.335Z"
   },
   {
    "duration": 8432,
    "start_time": "2022-04-28T18:10:42.794Z"
   },
   {
    "duration": 207,
    "start_time": "2022-04-28T18:10:51.229Z"
   },
   {
    "duration": 24,
    "start_time": "2022-04-28T18:10:51.440Z"
   },
   {
    "duration": 5,
    "start_time": "2022-04-28T18:10:51.466Z"
   },
   {
    "duration": 464,
    "start_time": "2022-04-28T18:10:51.473Z"
   },
   {
    "duration": 58,
    "start_time": "2022-04-28T18:10:51.940Z"
   },
   {
    "duration": 1660,
    "start_time": "2022-04-28T18:10:52.001Z"
   },
   {
    "duration": 7,
    "start_time": "2022-04-28T18:10:53.664Z"
   },
   {
    "duration": 18,
    "start_time": "2022-04-28T18:10:53.675Z"
   },
   {
    "duration": 91,
    "start_time": "2022-04-28T18:10:53.695Z"
   },
   {
    "duration": 11,
    "start_time": "2022-04-28T18:10:53.788Z"
   },
   {
    "duration": 37,
    "start_time": "2022-04-28T18:10:53.802Z"
   },
   {
    "duration": 101,
    "start_time": "2022-04-28T18:10:53.842Z"
   },
   {
    "duration": 9733,
    "start_time": "2022-04-28T18:10:53.945Z"
   },
   {
    "duration": 542,
    "start_time": "2022-04-28T18:11:03.680Z"
   },
   {
    "duration": 35,
    "start_time": "2022-04-28T18:11:04.228Z"
   },
   {
    "duration": 3936,
    "start_time": "2022-04-28T18:11:04.266Z"
   },
   {
    "duration": 42,
    "start_time": "2022-04-28T18:11:08.205Z"
   },
   {
    "duration": 1616,
    "start_time": "2022-04-28T18:11:08.250Z"
   },
   {
    "duration": 240,
    "start_time": "2022-04-28T18:11:09.869Z"
   },
   {
    "duration": 544,
    "start_time": "2022-04-28T18:11:10.112Z"
   },
   {
    "duration": 46,
    "start_time": "2022-04-28T18:11:10.658Z"
   },
   {
    "duration": 4,
    "start_time": "2022-04-28T18:11:10.725Z"
   },
   {
    "duration": 28,
    "start_time": "2022-04-28T18:11:10.732Z"
   },
   {
    "duration": 32,
    "start_time": "2022-04-28T18:11:10.763Z"
   },
   {
    "duration": 1947,
    "start_time": "2022-04-28T18:11:10.797Z"
   },
   {
    "duration": 76,
    "start_time": "2022-04-28T18:11:12.750Z"
   },
   {
    "duration": 27685,
    "start_time": "2022-04-28T18:11:12.829Z"
   },
   {
    "duration": 288574,
    "start_time": "2022-04-28T18:11:40.516Z"
   },
   {
    "duration": 537802,
    "start_time": "2022-04-28T18:16:29.093Z"
   },
   {
    "duration": 13,
    "start_time": "2022-04-28T18:25:26.897Z"
   },
   {
    "duration": 421680,
    "start_time": "2022-04-28T18:25:41.395Z"
   },
   {
    "duration": 363179,
    "start_time": "2022-04-28T18:33:12.376Z"
   },
   {
    "duration": 463152,
    "start_time": "2022-04-28T18:39:28.918Z"
   },
   {
    "duration": 4,
    "start_time": "2022-04-28T18:48:52.085Z"
   },
   {
    "duration": 6,
    "start_time": "2022-04-28T18:49:00.180Z"
   },
   {
    "duration": 14,
    "start_time": "2022-04-28T18:49:11.076Z"
   },
   {
    "duration": 32,
    "start_time": "2022-04-28T18:49:24.083Z"
   },
   {
    "duration": 13,
    "start_time": "2022-04-28T18:50:05.808Z"
   },
   {
    "duration": 124,
    "start_time": "2022-04-28T18:50:33.732Z"
   },
   {
    "duration": 194155,
    "start_time": "2022-04-28T18:50:43.400Z"
   },
   {
    "duration": 5,
    "start_time": "2022-04-28T19:36:03.501Z"
   },
   {
    "duration": 5,
    "start_time": "2022-04-28T19:36:19.169Z"
   },
   {
    "duration": 5,
    "start_time": "2022-04-28T19:36:30.863Z"
   },
   {
    "duration": 31,
    "start_time": "2022-04-28T19:38:31.040Z"
   },
   {
    "duration": 6,
    "start_time": "2022-04-28T19:39:19.794Z"
   },
   {
    "duration": 5,
    "start_time": "2022-04-28T19:39:34.578Z"
   },
   {
    "duration": 443,
    "start_time": "2022-04-28T19:40:21.236Z"
   },
   {
    "duration": 38,
    "start_time": "2022-04-28T19:40:45.917Z"
   },
   {
    "duration": 390,
    "start_time": "2022-04-28T19:40:54.202Z"
   },
   {
    "duration": 5,
    "start_time": "2022-04-28T19:41:25.377Z"
   },
   {
    "duration": 5,
    "start_time": "2022-04-28T19:42:10.207Z"
   },
   {
    "duration": 175,
    "start_time": "2022-04-28T19:42:24.075Z"
   },
   {
    "duration": 6,
    "start_time": "2022-04-28T19:42:26.800Z"
   },
   {
    "duration": 470,
    "start_time": "2022-04-28T19:43:26.625Z"
   },
   {
    "duration": 15546,
    "start_time": "2022-04-28T19:43:29.488Z"
   },
   {
    "duration": 8,
    "start_time": "2022-04-28T19:44:49.858Z"
   },
   {
    "duration": 104692,
    "start_time": "2022-04-28T19:45:45.193Z"
   },
   {
    "duration": 16957,
    "start_time": "2022-04-28T19:49:09.497Z"
   },
   {
    "duration": 174953,
    "start_time": "2022-04-28T19:49:27.922Z"
   },
   {
    "duration": 257833,
    "start_time": "2022-04-28T19:52:28.016Z"
   },
   {
    "duration": 3,
    "start_time": "2022-04-28T19:58:31.096Z"
   },
   {
    "duration": 157,
    "start_time": "2022-04-28T19:58:31.893Z"
   },
   {
    "duration": 67,
    "start_time": "2022-04-28T19:59:47.361Z"
   },
   {
    "duration": 18,
    "start_time": "2022-04-28T19:59:48.977Z"
   },
   {
    "duration": 479,
    "start_time": "2022-04-28T19:59:51.261Z"
   },
   {
    "duration": 762,
    "start_time": "2022-04-28T20:00:07.207Z"
   },
   {
    "duration": 10627,
    "start_time": "2022-04-28T20:00:08.986Z"
   },
   {
    "duration": 6,
    "start_time": "2022-04-28T20:00:30.715Z"
   },
   {
    "duration": 13,
    "start_time": "2022-04-28T20:01:39.049Z"
   },
   {
    "duration": 12,
    "start_time": "2022-04-28T20:02:38.758Z"
   },
   {
    "duration": 13,
    "start_time": "2022-04-28T20:02:41.620Z"
   },
   {
    "duration": 11,
    "start_time": "2022-04-28T20:02:46.059Z"
   },
   {
    "duration": 4,
    "start_time": "2022-04-28T20:06:54.619Z"
   },
   {
    "duration": 6,
    "start_time": "2022-04-28T20:07:00.289Z"
   },
   {
    "duration": 6,
    "start_time": "2022-04-28T20:07:05.208Z"
   },
   {
    "duration": 6,
    "start_time": "2022-04-28T20:07:23.479Z"
   },
   {
    "duration": 6,
    "start_time": "2022-04-28T20:07:50.350Z"
   },
   {
    "duration": 14,
    "start_time": "2022-04-28T20:07:59.518Z"
   },
   {
    "duration": 2192,
    "start_time": "2022-04-28T20:21:33.191Z"
   },
   {
    "duration": 1216,
    "start_time": "2022-04-28T20:21:35.386Z"
   },
   {
    "duration": 206,
    "start_time": "2022-04-28T20:21:36.604Z"
   },
   {
    "duration": 33,
    "start_time": "2022-04-28T20:21:36.815Z"
   },
   {
    "duration": 5,
    "start_time": "2022-04-28T20:21:36.851Z"
   },
   {
    "duration": 464,
    "start_time": "2022-04-28T20:21:36.859Z"
   },
   {
    "duration": 69,
    "start_time": "2022-04-28T20:21:37.326Z"
   },
   {
    "duration": 1648,
    "start_time": "2022-04-28T20:21:37.398Z"
   },
   {
    "duration": 10,
    "start_time": "2022-04-28T20:21:39.049Z"
   },
   {
    "duration": 13,
    "start_time": "2022-04-28T20:21:39.064Z"
   },
   {
    "duration": 98,
    "start_time": "2022-04-28T20:21:39.080Z"
   },
   {
    "duration": 12,
    "start_time": "2022-04-28T20:21:39.181Z"
   },
   {
    "duration": 29,
    "start_time": "2022-04-28T20:21:39.196Z"
   },
   {
    "duration": 68,
    "start_time": "2022-04-28T20:21:39.230Z"
   },
   {
    "duration": 10216,
    "start_time": "2022-04-28T20:21:39.301Z"
   },
   {
    "duration": 570,
    "start_time": "2022-04-28T20:21:49.520Z"
   },
   {
    "duration": 47,
    "start_time": "2022-04-28T20:21:50.093Z"
   },
   {
    "duration": 4045,
    "start_time": "2022-04-28T20:21:50.143Z"
   },
   {
    "duration": 51,
    "start_time": "2022-04-28T20:21:54.190Z"
   },
   {
    "duration": 1600,
    "start_time": "2022-04-28T20:21:54.244Z"
   },
   {
    "duration": 229,
    "start_time": "2022-04-28T20:21:55.846Z"
   },
   {
    "duration": 533,
    "start_time": "2022-04-28T20:21:56.077Z"
   },
   {
    "duration": 51,
    "start_time": "2022-04-28T20:21:56.612Z"
   },
   {
    "duration": 132,
    "start_time": "2022-04-28T20:21:56.666Z"
   },
   {
    "duration": 0,
    "start_time": "2022-04-28T20:21:56.802Z"
   },
   {
    "duration": 0,
    "start_time": "2022-04-28T20:21:56.804Z"
   },
   {
    "duration": 0,
    "start_time": "2022-04-28T20:21:56.805Z"
   },
   {
    "duration": 0,
    "start_time": "2022-04-28T20:21:56.807Z"
   },
   {
    "duration": 0,
    "start_time": "2022-04-28T20:21:56.808Z"
   },
   {
    "duration": 0,
    "start_time": "2022-04-28T20:21:56.809Z"
   },
   {
    "duration": 0,
    "start_time": "2022-04-28T20:21:56.811Z"
   },
   {
    "duration": 0,
    "start_time": "2022-04-28T20:21:56.812Z"
   },
   {
    "duration": 0,
    "start_time": "2022-04-28T20:21:56.813Z"
   },
   {
    "duration": 0,
    "start_time": "2022-04-28T20:21:56.814Z"
   },
   {
    "duration": 0,
    "start_time": "2022-04-28T20:21:56.815Z"
   },
   {
    "duration": 0,
    "start_time": "2022-04-28T20:21:56.816Z"
   },
   {
    "duration": 0,
    "start_time": "2022-04-28T20:21:56.818Z"
   },
   {
    "duration": 0,
    "start_time": "2022-04-28T20:21:56.819Z"
   },
   {
    "duration": 0,
    "start_time": "2022-04-28T20:21:56.820Z"
   },
   {
    "duration": 0,
    "start_time": "2022-04-28T20:21:56.821Z"
   },
   {
    "duration": 0,
    "start_time": "2022-04-28T20:21:56.823Z"
   },
   {
    "duration": 0,
    "start_time": "2022-04-28T20:21:56.824Z"
   },
   {
    "duration": 0,
    "start_time": "2022-04-28T20:21:56.825Z"
   },
   {
    "duration": 0,
    "start_time": "2022-04-28T20:21:56.828Z"
   },
   {
    "duration": 0,
    "start_time": "2022-04-28T20:21:56.830Z"
   },
   {
    "duration": 2168,
    "start_time": "2022-04-28T20:27:00.977Z"
   },
   {
    "duration": 1207,
    "start_time": "2022-04-28T20:27:03.147Z"
   },
   {
    "duration": 210,
    "start_time": "2022-04-28T20:27:04.357Z"
   },
   {
    "duration": 26,
    "start_time": "2022-04-28T20:27:04.570Z"
   },
   {
    "duration": 27,
    "start_time": "2022-04-28T20:27:04.598Z"
   },
   {
    "duration": 428,
    "start_time": "2022-04-28T20:27:04.628Z"
   },
   {
    "duration": 74,
    "start_time": "2022-04-28T20:27:05.058Z"
   },
   {
    "duration": 1768,
    "start_time": "2022-04-28T20:27:05.135Z"
   },
   {
    "duration": 8,
    "start_time": "2022-04-28T20:27:06.905Z"
   },
   {
    "duration": 18,
    "start_time": "2022-04-28T20:27:06.928Z"
   },
   {
    "duration": 84,
    "start_time": "2022-04-28T20:27:06.949Z"
   },
   {
    "duration": 11,
    "start_time": "2022-04-28T20:27:07.036Z"
   },
   {
    "duration": 7,
    "start_time": "2022-04-28T20:27:07.050Z"
   },
   {
    "duration": 104,
    "start_time": "2022-04-28T20:27:07.059Z"
   },
   {
    "duration": 9979,
    "start_time": "2022-04-28T20:27:07.166Z"
   },
   {
    "duration": 547,
    "start_time": "2022-04-28T20:27:17.147Z"
   },
   {
    "duration": 39,
    "start_time": "2022-04-28T20:27:17.696Z"
   },
   {
    "duration": 3937,
    "start_time": "2022-04-28T20:27:17.738Z"
   },
   {
    "duration": 54,
    "start_time": "2022-04-28T20:27:21.677Z"
   },
   {
    "duration": 1602,
    "start_time": "2022-04-28T20:27:21.734Z"
   },
   {
    "duration": 238,
    "start_time": "2022-04-28T20:27:23.339Z"
   },
   {
    "duration": 518,
    "start_time": "2022-04-28T20:27:23.579Z"
   },
   {
    "duration": 56,
    "start_time": "2022-04-28T20:27:24.100Z"
   },
   {
    "duration": 4,
    "start_time": "2022-04-28T20:27:24.158Z"
   },
   {
    "duration": 12,
    "start_time": "2022-04-28T20:27:24.164Z"
   },
   {
    "duration": 9,
    "start_time": "2022-04-28T20:27:24.179Z"
   },
   {
    "duration": 1864,
    "start_time": "2022-04-28T20:27:24.190Z"
   },
   {
    "duration": 119,
    "start_time": "2022-04-28T20:27:26.130Z"
   },
   {
    "duration": 5,
    "start_time": "2022-04-28T20:27:26.251Z"
   },
   {
    "duration": 28839,
    "start_time": "2022-04-28T20:27:26.258Z"
   },
   {
    "duration": 412,
    "start_time": "2022-04-28T20:27:55.099Z"
   },
   {
    "duration": 282780,
    "start_time": "2022-04-28T20:27:55.514Z"
   },
   {
    "duration": 16064,
    "start_time": "2022-04-28T20:32:38.297Z"
   },
   {
    "duration": 2127,
    "start_time": "2022-04-28T20:38:38.753Z"
   },
   {
    "duration": 1291,
    "start_time": "2022-04-28T20:38:40.884Z"
   },
   {
    "duration": 186,
    "start_time": "2022-04-28T20:38:42.177Z"
   },
   {
    "duration": 25,
    "start_time": "2022-04-28T20:38:42.366Z"
   },
   {
    "duration": 4,
    "start_time": "2022-04-28T20:38:42.393Z"
   },
   {
    "duration": 439,
    "start_time": "2022-04-28T20:38:42.400Z"
   },
   {
    "duration": 57,
    "start_time": "2022-04-28T20:38:42.841Z"
   },
   {
    "duration": 1546,
    "start_time": "2022-04-28T20:38:42.900Z"
   },
   {
    "duration": 7,
    "start_time": "2022-04-28T20:38:44.448Z"
   },
   {
    "duration": 13,
    "start_time": "2022-04-28T20:38:44.459Z"
   },
   {
    "duration": 89,
    "start_time": "2022-04-28T20:38:44.474Z"
   },
   {
    "duration": 9,
    "start_time": "2022-04-28T20:38:44.565Z"
   },
   {
    "duration": 7,
    "start_time": "2022-04-28T20:38:44.576Z"
   },
   {
    "duration": 91,
    "start_time": "2022-04-28T20:38:44.585Z"
   },
   {
    "duration": 9702,
    "start_time": "2022-04-28T20:38:44.679Z"
   },
   {
    "duration": 565,
    "start_time": "2022-04-28T20:38:54.383Z"
   },
   {
    "duration": 32,
    "start_time": "2022-04-28T20:38:54.951Z"
   },
   {
    "duration": 3978,
    "start_time": "2022-04-28T20:38:54.985Z"
   },
   {
    "duration": 36,
    "start_time": "2022-04-28T20:38:58.965Z"
   },
   {
    "duration": 1586,
    "start_time": "2022-04-28T20:38:59.003Z"
   },
   {
    "duration": 245,
    "start_time": "2022-04-28T20:39:00.591Z"
   },
   {
    "duration": 625,
    "start_time": "2022-04-28T20:39:00.839Z"
   },
   {
    "duration": 325,
    "start_time": "2022-04-28T20:39:01.466Z"
   },
   {
    "duration": 4,
    "start_time": "2022-04-28T20:39:01.793Z"
   },
   {
    "duration": 10,
    "start_time": "2022-04-28T20:39:01.799Z"
   },
   {
    "duration": 25,
    "start_time": "2022-04-28T20:39:01.825Z"
   },
   {
    "duration": 399789,
    "start_time": "2022-04-28T20:39:01.852Z"
   },
   {
    "duration": 143,
    "start_time": "2022-04-28T20:45:41.648Z"
   },
   {
    "duration": 4,
    "start_time": "2022-04-28T20:45:41.793Z"
   },
   {
    "duration": 21541,
    "start_time": "2022-04-28T20:45:41.801Z"
   },
   {
    "duration": 1747,
    "start_time": "2022-04-28T20:46:03.345Z"
   },
   {
    "duration": 2086,
    "start_time": "2022-04-28T20:46:36.446Z"
   },
   {
    "duration": 1161,
    "start_time": "2022-04-28T20:46:38.535Z"
   },
   {
    "duration": 187,
    "start_time": "2022-04-28T20:46:39.698Z"
   },
   {
    "duration": 49,
    "start_time": "2022-04-28T20:46:39.888Z"
   },
   {
    "duration": 5,
    "start_time": "2022-04-28T20:46:39.940Z"
   },
   {
    "duration": 431,
    "start_time": "2022-04-28T20:46:39.948Z"
   },
   {
    "duration": 75,
    "start_time": "2022-04-28T20:46:40.381Z"
   },
   {
    "duration": 1640,
    "start_time": "2022-04-28T20:46:40.458Z"
   },
   {
    "duration": 27,
    "start_time": "2022-04-28T20:46:42.101Z"
   },
   {
    "duration": 14,
    "start_time": "2022-04-28T20:46:42.133Z"
   },
   {
    "duration": 83,
    "start_time": "2022-04-28T20:46:42.149Z"
   },
   {
    "duration": 12,
    "start_time": "2022-04-28T20:46:42.235Z"
   },
   {
    "duration": 7,
    "start_time": "2022-04-28T20:46:42.249Z"
   },
   {
    "duration": 102,
    "start_time": "2022-04-28T20:46:42.258Z"
   },
   {
    "duration": 10010,
    "start_time": "2022-04-28T20:46:42.363Z"
   },
   {
    "duration": 551,
    "start_time": "2022-04-28T20:46:52.376Z"
   },
   {
    "duration": 36,
    "start_time": "2022-04-28T20:46:52.929Z"
   },
   {
    "duration": 3943,
    "start_time": "2022-04-28T20:46:52.968Z"
   },
   {
    "duration": 38,
    "start_time": "2022-04-28T20:46:56.914Z"
   },
   {
    "duration": 1613,
    "start_time": "2022-04-28T20:46:56.955Z"
   },
   {
    "duration": 237,
    "start_time": "2022-04-28T20:46:58.571Z"
   },
   {
    "duration": 525,
    "start_time": "2022-04-28T20:46:58.811Z"
   },
   {
    "duration": 329,
    "start_time": "2022-04-28T20:46:59.338Z"
   },
   {
    "duration": 4,
    "start_time": "2022-04-28T20:46:59.669Z"
   },
   {
    "duration": 6,
    "start_time": "2022-04-28T20:46:59.675Z"
   },
   {
    "duration": 6,
    "start_time": "2022-04-28T20:46:59.684Z"
   },
   {
    "duration": 2172,
    "start_time": "2022-04-28T20:50:42.302Z"
   },
   {
    "duration": 1188,
    "start_time": "2022-04-28T20:50:44.477Z"
   },
   {
    "duration": 201,
    "start_time": "2022-04-28T20:50:45.667Z"
   },
   {
    "duration": 25,
    "start_time": "2022-04-28T20:50:45.871Z"
   },
   {
    "duration": 5,
    "start_time": "2022-04-28T20:50:45.898Z"
   },
   {
    "duration": 528,
    "start_time": "2022-04-28T20:50:45.931Z"
   },
   {
    "duration": 74,
    "start_time": "2022-04-28T20:50:46.461Z"
   },
   {
    "duration": 1635,
    "start_time": "2022-04-28T20:50:46.538Z"
   },
   {
    "duration": 8,
    "start_time": "2022-04-28T20:50:48.175Z"
   },
   {
    "duration": 14,
    "start_time": "2022-04-28T20:50:48.187Z"
   },
   {
    "duration": 67,
    "start_time": "2022-04-28T20:50:48.226Z"
   },
   {
    "duration": 30,
    "start_time": "2022-04-28T20:50:48.296Z"
   },
   {
    "duration": 8,
    "start_time": "2022-04-28T20:50:48.329Z"
   },
   {
    "duration": 84,
    "start_time": "2022-04-28T20:50:48.340Z"
   },
   {
    "duration": 9882,
    "start_time": "2022-04-28T20:50:48.427Z"
   },
   {
    "duration": 561,
    "start_time": "2022-04-28T20:50:58.312Z"
   },
   {
    "duration": 49,
    "start_time": "2022-04-28T20:50:58.876Z"
   },
   {
    "duration": 3969,
    "start_time": "2022-04-28T20:50:58.928Z"
   },
   {
    "duration": 43,
    "start_time": "2022-04-28T20:51:02.900Z"
   },
   {
    "duration": 1609,
    "start_time": "2022-04-28T20:51:02.946Z"
   },
   {
    "duration": 231,
    "start_time": "2022-04-28T20:51:04.557Z"
   },
   {
    "duration": 529,
    "start_time": "2022-04-28T20:51:04.790Z"
   },
   {
    "duration": 361,
    "start_time": "2022-04-28T20:51:05.321Z"
   },
   {
    "duration": 4,
    "start_time": "2022-04-28T20:51:05.684Z"
   },
   {
    "duration": 13,
    "start_time": "2022-04-28T20:51:05.690Z"
   },
   {
    "duration": 7,
    "start_time": "2022-04-28T20:51:05.705Z"
   },
   {
    "duration": 2807,
    "start_time": "2022-04-28T20:51:49.167Z"
   },
   {
    "duration": 1262,
    "start_time": "2022-04-28T20:51:51.977Z"
   },
   {
    "duration": 199,
    "start_time": "2022-04-28T20:51:53.241Z"
   },
   {
    "duration": 27,
    "start_time": "2022-04-28T20:51:53.443Z"
   },
   {
    "duration": 4,
    "start_time": "2022-04-28T20:51:53.472Z"
   },
   {
    "duration": 457,
    "start_time": "2022-04-28T20:51:53.479Z"
   },
   {
    "duration": 59,
    "start_time": "2022-04-28T20:51:53.939Z"
   },
   {
    "duration": 1620,
    "start_time": "2022-04-28T20:51:54.000Z"
   },
   {
    "duration": 11,
    "start_time": "2022-04-28T20:51:55.625Z"
   },
   {
    "duration": 13,
    "start_time": "2022-04-28T20:51:55.642Z"
   },
   {
    "duration": 91,
    "start_time": "2022-04-28T20:51:55.657Z"
   },
   {
    "duration": 9,
    "start_time": "2022-04-28T20:51:55.750Z"
   },
   {
    "duration": 7,
    "start_time": "2022-04-28T20:51:55.761Z"
   },
   {
    "duration": 94,
    "start_time": "2022-04-28T20:51:55.770Z"
   },
   {
    "duration": 9635,
    "start_time": "2022-04-28T20:51:55.866Z"
   },
   {
    "duration": 552,
    "start_time": "2022-04-28T20:52:05.505Z"
   },
   {
    "duration": 31,
    "start_time": "2022-04-28T20:52:06.059Z"
   },
   {
    "duration": 4225,
    "start_time": "2022-04-28T20:52:06.093Z"
   },
   {
    "duration": 42,
    "start_time": "2022-04-28T20:52:10.320Z"
   },
   {
    "duration": 1616,
    "start_time": "2022-04-28T20:52:10.364Z"
   },
   {
    "duration": 238,
    "start_time": "2022-04-28T20:52:11.982Z"
   },
   {
    "duration": 530,
    "start_time": "2022-04-28T20:52:12.225Z"
   },
   {
    "duration": 329,
    "start_time": "2022-04-28T20:52:12.758Z"
   },
   {
    "duration": 4,
    "start_time": "2022-04-28T20:52:13.089Z"
   },
   {
    "duration": 9,
    "start_time": "2022-04-28T20:52:13.095Z"
   },
   {
    "duration": 33,
    "start_time": "2022-04-28T20:52:13.106Z"
   },
   {
    "duration": 2160,
    "start_time": "2022-04-28T20:56:23.505Z"
   },
   {
    "duration": 1225,
    "start_time": "2022-04-28T20:56:25.668Z"
   },
   {
    "duration": 186,
    "start_time": "2022-04-28T20:56:26.896Z"
   },
   {
    "duration": 42,
    "start_time": "2022-04-28T20:56:27.086Z"
   },
   {
    "duration": 5,
    "start_time": "2022-04-28T20:56:27.130Z"
   },
   {
    "duration": 427,
    "start_time": "2022-04-28T20:56:27.138Z"
   },
   {
    "duration": 74,
    "start_time": "2022-04-28T20:56:27.568Z"
   },
   {
    "duration": 1744,
    "start_time": "2022-04-28T20:56:27.644Z"
   },
   {
    "duration": 7,
    "start_time": "2022-04-28T20:56:29.391Z"
   },
   {
    "duration": 38,
    "start_time": "2022-04-28T20:56:29.402Z"
   },
   {
    "duration": 62,
    "start_time": "2022-04-28T20:56:29.443Z"
   },
   {
    "duration": 10,
    "start_time": "2022-04-28T20:56:29.507Z"
   },
   {
    "duration": 12,
    "start_time": "2022-04-28T20:56:29.519Z"
   },
   {
    "duration": 85,
    "start_time": "2022-04-28T20:56:29.533Z"
   },
   {
    "duration": 9929,
    "start_time": "2022-04-28T20:56:29.620Z"
   },
   {
    "duration": 547,
    "start_time": "2022-04-28T20:56:39.552Z"
   },
   {
    "duration": 42,
    "start_time": "2022-04-28T20:56:40.101Z"
   },
   {
    "duration": 4029,
    "start_time": "2022-04-28T20:56:40.146Z"
   },
   {
    "duration": 55,
    "start_time": "2022-04-28T20:56:44.177Z"
   },
   {
    "duration": 1553,
    "start_time": "2022-04-28T20:56:44.235Z"
   },
   {
    "duration": 230,
    "start_time": "2022-04-28T20:56:45.790Z"
   },
   {
    "duration": 514,
    "start_time": "2022-04-28T20:56:46.027Z"
   },
   {
    "duration": 4,
    "start_time": "2022-04-28T20:56:46.543Z"
   },
   {
    "duration": 10,
    "start_time": "2022-04-28T20:56:46.549Z"
   },
   {
    "duration": 7,
    "start_time": "2022-04-28T20:56:46.561Z"
   },
   {
    "duration": 2115,
    "start_time": "2022-04-28T21:01:36.139Z"
   },
   {
    "duration": 1136,
    "start_time": "2022-04-28T21:01:38.257Z"
   },
   {
    "duration": 186,
    "start_time": "2022-04-28T21:01:39.395Z"
   },
   {
    "duration": 56,
    "start_time": "2022-04-28T21:01:39.583Z"
   },
   {
    "duration": 4,
    "start_time": "2022-04-28T21:01:39.643Z"
   },
   {
    "duration": 411,
    "start_time": "2022-04-28T21:01:39.649Z"
   },
   {
    "duration": 65,
    "start_time": "2022-04-28T21:01:40.062Z"
   },
   {
    "duration": 1573,
    "start_time": "2022-04-28T21:01:40.130Z"
   },
   {
    "duration": 7,
    "start_time": "2022-04-28T21:01:41.705Z"
   },
   {
    "duration": 30,
    "start_time": "2022-04-28T21:01:41.714Z"
   },
   {
    "duration": 64,
    "start_time": "2022-04-28T21:01:41.746Z"
   },
   {
    "duration": 14,
    "start_time": "2022-04-28T21:01:41.829Z"
   },
   {
    "duration": 6,
    "start_time": "2022-04-28T21:01:41.845Z"
   },
   {
    "duration": 99,
    "start_time": "2022-04-28T21:01:41.856Z"
   },
   {
    "duration": 9624,
    "start_time": "2022-04-28T21:01:41.957Z"
   },
   {
    "duration": 556,
    "start_time": "2022-04-28T21:01:51.584Z"
   },
   {
    "duration": 31,
    "start_time": "2022-04-28T21:01:52.143Z"
   },
   {
    "duration": 4128,
    "start_time": "2022-04-28T21:01:52.177Z"
   },
   {
    "duration": 45,
    "start_time": "2022-04-28T21:01:56.307Z"
   },
   {
    "duration": 1781,
    "start_time": "2022-04-28T21:01:56.355Z"
   },
   {
    "duration": 231,
    "start_time": "2022-04-28T21:01:58.139Z"
   },
   {
    "duration": 517,
    "start_time": "2022-04-28T21:01:58.373Z"
   },
   {
    "duration": 4,
    "start_time": "2022-04-28T21:01:58.893Z"
   },
   {
    "duration": 333,
    "start_time": "2022-04-28T21:01:58.899Z"
   },
   {
    "duration": 5,
    "start_time": "2022-04-28T21:01:59.235Z"
   },
   {
    "duration": 11,
    "start_time": "2022-04-28T21:01:59.242Z"
   },
   {
    "duration": 5,
    "start_time": "2022-04-28T21:01:59.255Z"
   },
   {
    "duration": 2288,
    "start_time": "2022-04-28T21:02:52.228Z"
   },
   {
    "duration": 1143,
    "start_time": "2022-04-28T21:02:54.519Z"
   },
   {
    "duration": 190,
    "start_time": "2022-04-28T21:02:55.664Z"
   },
   {
    "duration": 26,
    "start_time": "2022-04-28T21:02:55.857Z"
   },
   {
    "duration": 10,
    "start_time": "2022-04-28T21:02:55.885Z"
   },
   {
    "duration": 434,
    "start_time": "2022-04-28T21:02:55.897Z"
   },
   {
    "duration": 63,
    "start_time": "2022-04-28T21:02:56.334Z"
   },
   {
    "duration": 1602,
    "start_time": "2022-04-28T21:02:56.399Z"
   },
   {
    "duration": 7,
    "start_time": "2022-04-28T21:02:58.003Z"
   },
   {
    "duration": 13,
    "start_time": "2022-04-28T21:02:58.026Z"
   },
   {
    "duration": 62,
    "start_time": "2022-04-28T21:02:58.042Z"
   },
   {
    "duration": 10,
    "start_time": "2022-04-28T21:02:58.125Z"
   },
   {
    "duration": 6,
    "start_time": "2022-04-28T21:02:58.138Z"
   },
   {
    "duration": 101,
    "start_time": "2022-04-28T21:02:58.146Z"
   },
   {
    "duration": 10248,
    "start_time": "2022-04-28T21:02:58.249Z"
   },
   {
    "duration": 540,
    "start_time": "2022-04-28T21:03:08.500Z"
   },
   {
    "duration": 31,
    "start_time": "2022-04-28T21:03:09.042Z"
   },
   {
    "duration": 4424,
    "start_time": "2022-04-28T21:03:09.076Z"
   },
   {
    "duration": 46,
    "start_time": "2022-04-28T21:03:13.502Z"
   },
   {
    "duration": 1649,
    "start_time": "2022-04-28T21:03:13.550Z"
   },
   {
    "duration": 237,
    "start_time": "2022-04-28T21:03:15.201Z"
   },
   {
    "duration": 521,
    "start_time": "2022-04-28T21:03:15.440Z"
   },
   {
    "duration": 4,
    "start_time": "2022-04-28T21:03:15.963Z"
   },
   {
    "duration": 13,
    "start_time": "2022-04-28T21:03:15.969Z"
   },
   {
    "duration": 12,
    "start_time": "2022-04-28T21:03:15.985Z"
   },
   {
    "duration": 330,
    "start_time": "2022-04-28T21:03:16.000Z"
   },
   {
    "duration": 5,
    "start_time": "2022-04-28T21:03:16.332Z"
   },
   {
    "duration": 4,
    "start_time": "2022-04-28T21:03:16.345Z"
   },
   {
    "duration": 8,
    "start_time": "2022-04-28T21:03:16.352Z"
   },
   {
    "duration": 2107,
    "start_time": "2022-04-28T21:06:13.027Z"
   },
   {
    "duration": 1156,
    "start_time": "2022-04-28T21:06:15.136Z"
   },
   {
    "duration": 196,
    "start_time": "2022-04-28T21:06:16.294Z"
   },
   {
    "duration": 34,
    "start_time": "2022-04-28T21:06:16.493Z"
   },
   {
    "duration": 4,
    "start_time": "2022-04-28T21:06:16.529Z"
   },
   {
    "duration": 418,
    "start_time": "2022-04-28T21:06:16.536Z"
   },
   {
    "duration": 73,
    "start_time": "2022-04-28T21:06:16.957Z"
   },
   {
    "duration": 1571,
    "start_time": "2022-04-28T21:06:17.033Z"
   },
   {
    "duration": 19,
    "start_time": "2022-04-28T21:06:18.606Z"
   },
   {
    "duration": 14,
    "start_time": "2022-04-28T21:06:18.629Z"
   },
   {
    "duration": 80,
    "start_time": "2022-04-28T21:06:18.645Z"
   },
   {
    "duration": 10,
    "start_time": "2022-04-28T21:06:18.727Z"
   },
   {
    "duration": 7,
    "start_time": "2022-04-28T21:06:18.739Z"
   },
   {
    "duration": 104,
    "start_time": "2022-04-28T21:06:18.748Z"
   },
   {
    "duration": 9630,
    "start_time": "2022-04-28T21:06:18.855Z"
   },
   {
    "duration": 545,
    "start_time": "2022-04-28T21:06:28.487Z"
   },
   {
    "duration": 31,
    "start_time": "2022-04-28T21:06:29.035Z"
   },
   {
    "duration": 4258,
    "start_time": "2022-04-28T21:06:29.069Z"
   },
   {
    "duration": 42,
    "start_time": "2022-04-28T21:06:33.329Z"
   },
   {
    "duration": 1614,
    "start_time": "2022-04-28T21:06:33.373Z"
   },
   {
    "duration": 238,
    "start_time": "2022-04-28T21:06:34.989Z"
   },
   {
    "duration": 511,
    "start_time": "2022-04-28T21:06:35.230Z"
   },
   {
    "duration": 3,
    "start_time": "2022-04-28T21:06:35.744Z"
   },
   {
    "duration": 18,
    "start_time": "2022-04-28T21:06:35.749Z"
   },
   {
    "duration": 15,
    "start_time": "2022-04-28T21:06:35.769Z"
   },
   {
    "duration": 327,
    "start_time": "2022-04-28T21:06:35.786Z"
   },
   {
    "duration": 10,
    "start_time": "2022-04-28T21:06:36.115Z"
   },
   {
    "duration": 8,
    "start_time": "2022-04-28T21:06:36.131Z"
   },
   {
    "duration": 9,
    "start_time": "2022-04-28T21:06:36.141Z"
   },
   {
    "duration": 2142,
    "start_time": "2022-04-28T21:08:24.988Z"
   },
   {
    "duration": 1175,
    "start_time": "2022-04-28T21:08:27.133Z"
   },
   {
    "duration": 178,
    "start_time": "2022-04-28T21:08:28.310Z"
   },
   {
    "duration": 48,
    "start_time": "2022-04-28T21:08:28.492Z"
   },
   {
    "duration": 5,
    "start_time": "2022-04-28T21:08:28.542Z"
   },
   {
    "duration": 426,
    "start_time": "2022-04-28T21:08:28.549Z"
   },
   {
    "duration": 68,
    "start_time": "2022-04-28T21:08:28.977Z"
   },
   {
    "duration": 1758,
    "start_time": "2022-04-28T21:08:29.048Z"
   },
   {
    "duration": 16,
    "start_time": "2022-04-28T21:08:30.808Z"
   },
   {
    "duration": 26,
    "start_time": "2022-04-28T21:08:30.831Z"
   },
   {
    "duration": 76,
    "start_time": "2022-04-28T21:08:30.859Z"
   },
   {
    "duration": 12,
    "start_time": "2022-04-28T21:08:30.937Z"
   },
   {
    "duration": 8,
    "start_time": "2022-04-28T21:08:30.951Z"
   },
   {
    "duration": 101,
    "start_time": "2022-04-28T21:08:30.961Z"
   },
   {
    "duration": 9937,
    "start_time": "2022-04-28T21:08:31.064Z"
   },
   {
    "duration": 523,
    "start_time": "2022-04-28T21:08:41.004Z"
   },
   {
    "duration": 30,
    "start_time": "2022-04-28T21:08:41.529Z"
   },
   {
    "duration": 3907,
    "start_time": "2022-04-28T21:08:41.561Z"
   },
   {
    "duration": 53,
    "start_time": "2022-04-28T21:08:45.471Z"
   },
   {
    "duration": 1563,
    "start_time": "2022-04-28T21:08:45.527Z"
   },
   {
    "duration": 239,
    "start_time": "2022-04-28T21:08:47.093Z"
   },
   {
    "duration": 608,
    "start_time": "2022-04-28T21:08:47.334Z"
   },
   {
    "duration": 5,
    "start_time": "2022-04-28T21:08:47.944Z"
   },
   {
    "duration": 8,
    "start_time": "2022-04-28T21:08:47.952Z"
   },
   {
    "duration": 15,
    "start_time": "2022-04-28T21:08:47.962Z"
   },
   {
    "duration": 15,
    "start_time": "2022-04-28T21:08:47.979Z"
   },
   {
    "duration": 321,
    "start_time": "2022-04-28T21:08:47.996Z"
   },
   {
    "duration": 4,
    "start_time": "2022-04-28T21:08:48.323Z"
   },
   {
    "duration": 7,
    "start_time": "2022-04-28T21:08:48.329Z"
   },
   {
    "duration": 7,
    "start_time": "2022-04-28T21:08:48.337Z"
   },
   {
    "duration": 2808,
    "start_time": "2022-04-28T21:10:19.004Z"
   },
   {
    "duration": 1625,
    "start_time": "2022-04-28T21:10:21.814Z"
   },
   {
    "duration": 185,
    "start_time": "2022-04-28T21:10:23.442Z"
   },
   {
    "duration": 27,
    "start_time": "2022-04-28T21:10:23.630Z"
   },
   {
    "duration": 4,
    "start_time": "2022-04-28T21:10:23.659Z"
   },
   {
    "duration": 424,
    "start_time": "2022-04-28T21:10:23.666Z"
   },
   {
    "duration": 71,
    "start_time": "2022-04-28T21:10:24.092Z"
   },
   {
    "duration": 1574,
    "start_time": "2022-04-28T21:10:24.165Z"
   },
   {
    "duration": 7,
    "start_time": "2022-04-28T21:10:25.741Z"
   },
   {
    "duration": 15,
    "start_time": "2022-04-28T21:10:25.752Z"
   },
   {
    "duration": 90,
    "start_time": "2022-04-28T21:10:25.769Z"
   },
   {
    "duration": 9,
    "start_time": "2022-04-28T21:10:25.862Z"
   },
   {
    "duration": 13,
    "start_time": "2022-04-28T21:10:25.873Z"
   },
   {
    "duration": 88,
    "start_time": "2022-04-28T21:10:25.888Z"
   },
   {
    "duration": 9384,
    "start_time": "2022-04-28T21:10:25.978Z"
   },
   {
    "duration": 559,
    "start_time": "2022-04-28T21:10:35.365Z"
   },
   {
    "duration": 31,
    "start_time": "2022-04-28T21:10:35.926Z"
   },
   {
    "duration": 3914,
    "start_time": "2022-04-28T21:10:35.959Z"
   },
   {
    "duration": 49,
    "start_time": "2022-04-28T21:10:39.875Z"
   },
   {
    "duration": 1611,
    "start_time": "2022-04-28T21:10:39.927Z"
   },
   {
    "duration": 232,
    "start_time": "2022-04-28T21:10:41.540Z"
   },
   {
    "duration": 507,
    "start_time": "2022-04-28T21:10:41.774Z"
   },
   {
    "duration": 4,
    "start_time": "2022-04-28T21:10:42.283Z"
   },
   {
    "duration": 9,
    "start_time": "2022-04-28T21:10:42.289Z"
   },
   {
    "duration": 28,
    "start_time": "2022-04-28T21:10:42.300Z"
   },
   {
    "duration": 8,
    "start_time": "2022-04-28T21:10:42.330Z"
   },
   {
    "duration": 47,
    "start_time": "2022-04-28T21:10:42.340Z"
   },
   {
    "duration": 4,
    "start_time": "2022-04-28T21:10:42.392Z"
   },
   {
    "duration": 26,
    "start_time": "2022-04-28T21:10:42.398Z"
   },
   {
    "duration": 6,
    "start_time": "2022-04-28T21:10:42.426Z"
   },
   {
    "duration": 1819,
    "start_time": "2022-04-28T21:10:42.434Z"
   },
   {
    "duration": 126,
    "start_time": "2022-04-28T21:10:44.326Z"
   },
   {
    "duration": 4,
    "start_time": "2022-04-28T21:10:44.454Z"
   },
   {
    "duration": 2113,
    "start_time": "2022-04-28T21:11:02.921Z"
   },
   {
    "duration": 1189,
    "start_time": "2022-04-28T21:11:05.037Z"
   },
   {
    "duration": 189,
    "start_time": "2022-04-28T21:11:06.228Z"
   },
   {
    "duration": 27,
    "start_time": "2022-04-28T21:11:06.424Z"
   },
   {
    "duration": 4,
    "start_time": "2022-04-28T21:11:06.453Z"
   },
   {
    "duration": 433,
    "start_time": "2022-04-28T21:11:06.459Z"
   },
   {
    "duration": 68,
    "start_time": "2022-04-28T21:11:06.895Z"
   },
   {
    "duration": 1740,
    "start_time": "2022-04-28T21:11:06.965Z"
   },
   {
    "duration": 17,
    "start_time": "2022-04-28T21:11:08.707Z"
   },
   {
    "duration": 13,
    "start_time": "2022-04-28T21:11:08.729Z"
   },
   {
    "duration": 84,
    "start_time": "2022-04-28T21:11:08.744Z"
   },
   {
    "duration": 10,
    "start_time": "2022-04-28T21:11:08.830Z"
   },
   {
    "duration": 7,
    "start_time": "2022-04-28T21:11:08.842Z"
   },
   {
    "duration": 100,
    "start_time": "2022-04-28T21:11:08.851Z"
   },
   {
    "duration": 9584,
    "start_time": "2022-04-28T21:11:08.953Z"
   },
   {
    "duration": 543,
    "start_time": "2022-04-28T21:11:18.540Z"
   },
   {
    "duration": 38,
    "start_time": "2022-04-28T21:11:19.086Z"
   },
   {
    "duration": 3962,
    "start_time": "2022-04-28T21:11:19.127Z"
   },
   {
    "duration": 53,
    "start_time": "2022-04-28T21:11:23.091Z"
   },
   {
    "duration": 1633,
    "start_time": "2022-04-28T21:11:23.146Z"
   },
   {
    "duration": 321,
    "start_time": "2022-04-28T21:11:24.782Z"
   },
   {
    "duration": 483,
    "start_time": "2022-04-28T21:11:25.106Z"
   },
   {
    "duration": 4,
    "start_time": "2022-04-28T21:11:25.592Z"
   },
   {
    "duration": 7,
    "start_time": "2022-04-28T21:11:25.599Z"
   },
   {
    "duration": 12,
    "start_time": "2022-04-28T21:11:25.624Z"
   },
   {
    "duration": 6,
    "start_time": "2022-04-28T21:11:25.639Z"
   },
   {
    "duration": 321,
    "start_time": "2022-04-28T21:11:25.647Z"
   },
   {
    "duration": 4,
    "start_time": "2022-04-28T21:11:25.975Z"
   },
   {
    "duration": 7,
    "start_time": "2022-04-28T21:11:25.982Z"
   },
   {
    "duration": 7,
    "start_time": "2022-04-28T21:11:25.992Z"
   },
   {
    "duration": 345925,
    "start_time": "2022-04-28T21:11:26.001Z"
   },
   {
    "duration": 324,
    "start_time": "2022-04-28T21:17:11.930Z"
   },
   {
    "duration": 4,
    "start_time": "2022-04-28T21:17:12.256Z"
   },
   {
    "duration": 177907,
    "start_time": "2022-04-28T21:17:12.262Z"
   },
   {
    "duration": 2165,
    "start_time": "2022-04-28T21:20:17.326Z"
   },
   {
    "duration": 1261,
    "start_time": "2022-04-28T21:20:19.494Z"
   },
   {
    "duration": 193,
    "start_time": "2022-04-28T21:20:20.757Z"
   },
   {
    "duration": 26,
    "start_time": "2022-04-28T21:20:20.954Z"
   },
   {
    "duration": 5,
    "start_time": "2022-04-28T21:20:20.983Z"
   },
   {
    "duration": 439,
    "start_time": "2022-04-28T21:20:20.991Z"
   },
   {
    "duration": 58,
    "start_time": "2022-04-28T21:20:21.432Z"
   },
   {
    "duration": 1560,
    "start_time": "2022-04-28T21:20:21.492Z"
   },
   {
    "duration": 7,
    "start_time": "2022-04-28T21:20:23.055Z"
   },
   {
    "duration": 17,
    "start_time": "2022-04-28T21:20:23.066Z"
   },
   {
    "duration": 97,
    "start_time": "2022-04-28T21:20:23.086Z"
   },
   {
    "duration": 10,
    "start_time": "2022-04-28T21:20:23.185Z"
   },
   {
    "duration": 7,
    "start_time": "2022-04-28T21:20:23.198Z"
   },
   {
    "duration": 91,
    "start_time": "2022-04-28T21:20:23.208Z"
   },
   {
    "duration": 9567,
    "start_time": "2022-04-28T21:20:23.302Z"
   },
   {
    "duration": 540,
    "start_time": "2022-04-28T21:20:32.872Z"
   },
   {
    "duration": 37,
    "start_time": "2022-04-28T21:20:33.414Z"
   },
   {
    "duration": 3959,
    "start_time": "2022-04-28T21:20:33.453Z"
   },
   {
    "duration": 51,
    "start_time": "2022-04-28T21:20:37.414Z"
   },
   {
    "duration": 1588,
    "start_time": "2022-04-28T21:20:37.467Z"
   },
   {
    "duration": 234,
    "start_time": "2022-04-28T21:20:39.058Z"
   },
   {
    "duration": 507,
    "start_time": "2022-04-28T21:20:39.294Z"
   },
   {
    "duration": 4,
    "start_time": "2022-04-28T21:20:39.803Z"
   },
   {
    "duration": 15,
    "start_time": "2022-04-28T21:20:39.809Z"
   },
   {
    "duration": 12,
    "start_time": "2022-04-28T21:20:39.826Z"
   },
   {
    "duration": 13,
    "start_time": "2022-04-28T21:20:39.841Z"
   },
   {
    "duration": 293,
    "start_time": "2022-04-28T21:20:39.856Z"
   },
   {
    "duration": 4,
    "start_time": "2022-04-28T21:20:40.154Z"
   },
   {
    "duration": 9,
    "start_time": "2022-04-28T21:20:40.161Z"
   },
   {
    "duration": 8,
    "start_time": "2022-04-28T21:20:40.172Z"
   },
   {
    "duration": 2107,
    "start_time": "2022-04-28T21:22:56.053Z"
   },
   {
    "duration": 1157,
    "start_time": "2022-04-28T21:22:58.163Z"
   },
   {
    "duration": 192,
    "start_time": "2022-04-28T21:22:59.325Z"
   },
   {
    "duration": 26,
    "start_time": "2022-04-28T21:22:59.525Z"
   },
   {
    "duration": 4,
    "start_time": "2022-04-28T21:22:59.553Z"
   },
   {
    "duration": 436,
    "start_time": "2022-04-28T21:22:59.559Z"
   },
   {
    "duration": 67,
    "start_time": "2022-04-28T21:22:59.997Z"
   },
   {
    "duration": 1682,
    "start_time": "2022-04-28T21:23:00.066Z"
   },
   {
    "duration": 8,
    "start_time": "2022-04-28T21:23:01.750Z"
   },
   {
    "duration": 21,
    "start_time": "2022-04-28T21:23:01.762Z"
   },
   {
    "duration": 81,
    "start_time": "2022-04-28T21:23:01.785Z"
   },
   {
    "duration": 10,
    "start_time": "2022-04-28T21:23:01.868Z"
   },
   {
    "duration": 17,
    "start_time": "2022-04-28T21:23:01.880Z"
   },
   {
    "duration": 83,
    "start_time": "2022-04-28T21:23:01.899Z"
   },
   {
    "duration": 9444,
    "start_time": "2022-04-28T21:23:01.985Z"
   },
   {
    "duration": 540,
    "start_time": "2022-04-28T21:23:11.432Z"
   },
   {
    "duration": 31,
    "start_time": "2022-04-28T21:23:11.974Z"
   },
   {
    "duration": 3909,
    "start_time": "2022-04-28T21:23:12.007Z"
   },
   {
    "duration": 35,
    "start_time": "2022-04-28T21:23:15.918Z"
   },
   {
    "duration": 1535,
    "start_time": "2022-04-28T21:23:15.955Z"
   },
   {
    "duration": 233,
    "start_time": "2022-04-28T21:23:17.492Z"
   },
   {
    "duration": 504,
    "start_time": "2022-04-28T21:23:17.727Z"
   },
   {
    "duration": 4,
    "start_time": "2022-04-28T21:23:18.233Z"
   },
   {
    "duration": 7,
    "start_time": "2022-04-28T21:23:18.240Z"
   },
   {
    "duration": 15,
    "start_time": "2022-04-28T21:23:18.250Z"
   },
   {
    "duration": 9,
    "start_time": "2022-04-28T21:23:18.268Z"
   },
   {
    "duration": 324,
    "start_time": "2022-04-28T21:23:18.279Z"
   },
   {
    "duration": 4,
    "start_time": "2022-04-28T21:23:18.609Z"
   },
   {
    "duration": 12,
    "start_time": "2022-04-28T21:23:18.615Z"
   },
   {
    "duration": 8,
    "start_time": "2022-04-28T21:23:18.629Z"
   },
   {
    "duration": 343888,
    "start_time": "2022-04-28T21:23:18.639Z"
   },
   {
    "duration": 326,
    "start_time": "2022-04-28T21:29:02.531Z"
   },
   {
    "duration": 4,
    "start_time": "2022-04-28T21:29:02.860Z"
   },
   {
    "duration": 2074,
    "start_time": "2022-04-28T21:31:11.157Z"
   },
   {
    "duration": 1162,
    "start_time": "2022-04-28T21:31:13.234Z"
   },
   {
    "duration": 188,
    "start_time": "2022-04-28T21:31:14.398Z"
   },
   {
    "duration": 38,
    "start_time": "2022-04-28T21:31:14.589Z"
   },
   {
    "duration": 4,
    "start_time": "2022-04-28T21:31:14.629Z"
   },
   {
    "duration": 440,
    "start_time": "2022-04-28T21:31:14.635Z"
   },
   {
    "duration": 63,
    "start_time": "2022-04-28T21:31:15.077Z"
   },
   {
    "duration": 1600,
    "start_time": "2022-04-28T21:31:15.142Z"
   },
   {
    "duration": 8,
    "start_time": "2022-04-28T21:31:16.744Z"
   },
   {
    "duration": 13,
    "start_time": "2022-04-28T21:31:16.756Z"
   },
   {
    "duration": 95,
    "start_time": "2022-04-28T21:31:16.771Z"
   },
   {
    "duration": 10,
    "start_time": "2022-04-28T21:31:16.868Z"
   },
   {
    "duration": 7,
    "start_time": "2022-04-28T21:31:16.880Z"
   },
   {
    "duration": 97,
    "start_time": "2022-04-28T21:31:16.889Z"
   },
   {
    "duration": 9957,
    "start_time": "2022-04-28T21:31:16.988Z"
   },
   {
    "duration": 521,
    "start_time": "2022-04-28T21:31:26.948Z"
   },
   {
    "duration": 30,
    "start_time": "2022-04-28T21:31:27.471Z"
   },
   {
    "duration": 3841,
    "start_time": "2022-04-28T21:31:27.503Z"
   },
   {
    "duration": 36,
    "start_time": "2022-04-28T21:31:31.347Z"
   },
   {
    "duration": 1617,
    "start_time": "2022-04-28T21:31:31.385Z"
   },
   {
    "duration": 237,
    "start_time": "2022-04-28T21:31:33.005Z"
   },
   {
    "duration": 524,
    "start_time": "2022-04-28T21:31:33.244Z"
   },
   {
    "duration": 3,
    "start_time": "2022-04-28T21:31:33.771Z"
   },
   {
    "duration": 9,
    "start_time": "2022-04-28T21:31:33.777Z"
   },
   {
    "duration": 20,
    "start_time": "2022-04-28T21:31:33.788Z"
   },
   {
    "duration": 15,
    "start_time": "2022-04-28T21:31:33.811Z"
   },
   {
    "duration": 431,
    "start_time": "2022-04-28T21:31:33.829Z"
   },
   {
    "duration": 4,
    "start_time": "2022-04-28T21:31:34.265Z"
   },
   {
    "duration": 7,
    "start_time": "2022-04-28T21:31:34.272Z"
   },
   {
    "duration": 6,
    "start_time": "2022-04-28T21:31:34.282Z"
   },
   {
    "duration": 2354,
    "start_time": "2022-04-29T09:54:47.403Z"
   },
   {
    "duration": 1075,
    "start_time": "2022-04-29T09:55:06.812Z"
   },
   {
    "duration": 182,
    "start_time": "2022-04-29T09:55:28.219Z"
   },
   {
    "duration": 2910,
    "start_time": "2022-04-29T10:04:48.844Z"
   },
   {
    "duration": 2825,
    "start_time": "2022-04-29T10:05:25.213Z"
   },
   {
    "duration": 4,
    "start_time": "2022-04-29T10:05:44.252Z"
   },
   {
    "duration": 418,
    "start_time": "2022-04-29T10:05:45.403Z"
   },
   {
    "duration": 55,
    "start_time": "2022-04-29T10:05:47.091Z"
   },
   {
    "duration": 1020,
    "start_time": "2022-04-29T10:05:49.639Z"
   },
   {
    "duration": 15,
    "start_time": "2022-04-29T10:05:54.721Z"
   },
   {
    "duration": 42,
    "start_time": "2022-04-29T10:05:55.607Z"
   },
   {
    "duration": 7,
    "start_time": "2022-04-29T10:05:56.797Z"
   },
   {
    "duration": 6,
    "start_time": "2022-04-29T10:06:06.912Z"
   },
   {
    "duration": 6,
    "start_time": "2022-04-29T10:12:53.085Z"
   },
   {
    "duration": 7,
    "start_time": "2022-04-29T10:12:54.342Z"
   },
   {
    "duration": 46,
    "start_time": "2022-04-29T10:12:55.828Z"
   },
   {
    "duration": 70,
    "start_time": "2022-04-29T10:13:42.680Z"
   },
   {
    "duration": 70,
    "start_time": "2022-04-29T10:16:19.598Z"
   },
   {
    "duration": 54,
    "start_time": "2022-04-29T10:16:33.261Z"
   },
   {
    "duration": 81,
    "start_time": "2022-04-29T10:18:08.802Z"
   },
   {
    "duration": 36,
    "start_time": "2022-04-29T10:18:50.454Z"
   },
   {
    "duration": 38,
    "start_time": "2022-04-29T10:19:27.995Z"
   },
   {
    "duration": 12,
    "start_time": "2022-04-29T10:19:34.771Z"
   },
   {
    "duration": 27,
    "start_time": "2022-04-29T10:34:11.182Z"
   },
   {
    "duration": 59,
    "start_time": "2022-04-29T10:34:38.227Z"
   },
   {
    "duration": 20,
    "start_time": "2022-04-29T10:36:20.535Z"
   },
   {
    "duration": 16,
    "start_time": "2022-04-29T10:36:34.687Z"
   },
   {
    "duration": 19,
    "start_time": "2022-04-29T10:37:25.480Z"
   },
   {
    "duration": 38,
    "start_time": "2022-04-29T10:44:38.269Z"
   },
   {
    "duration": 33,
    "start_time": "2022-04-29T10:44:52.843Z"
   },
   {
    "duration": 35,
    "start_time": "2022-04-29T10:46:23.037Z"
   },
   {
    "duration": 148,
    "start_time": "2022-04-29T10:48:37.425Z"
   },
   {
    "duration": 74,
    "start_time": "2022-04-29T10:48:47.241Z"
   },
   {
    "duration": 55,
    "start_time": "2022-04-29T10:49:35.025Z"
   },
   {
    "duration": 966,
    "start_time": "2022-04-29T10:50:07.969Z"
   },
   {
    "duration": 1218,
    "start_time": "2022-04-29T10:50:20.539Z"
   },
   {
    "duration": 999,
    "start_time": "2022-04-29T10:50:56.961Z"
   },
   {
    "duration": 87,
    "start_time": "2022-04-29T10:51:19.029Z"
   },
   {
    "duration": 1932,
    "start_time": "2022-04-29T10:51:56.524Z"
   },
   {
    "duration": 15,
    "start_time": "2022-04-29T10:52:12.353Z"
   },
   {
    "duration": 6,
    "start_time": "2022-04-29T11:11:25.106Z"
   },
   {
    "duration": 11,
    "start_time": "2022-04-29T11:11:26.148Z"
   },
   {
    "duration": 12,
    "start_time": "2022-04-29T11:17:31.440Z"
   },
   {
    "duration": 13,
    "start_time": "2022-04-29T11:17:32.622Z"
   },
   {
    "duration": 12,
    "start_time": "2022-04-29T11:17:49.018Z"
   },
   {
    "duration": 4,
    "start_time": "2022-04-29T11:21:25.014Z"
   },
   {
    "duration": 841,
    "start_time": "2022-04-29T11:21:25.871Z"
   },
   {
    "duration": 138,
    "start_time": "2022-04-29T11:21:26.734Z"
   },
   {
    "duration": 17,
    "start_time": "2022-04-29T11:21:28.220Z"
   },
   {
    "duration": 4,
    "start_time": "2022-04-29T11:21:29.259Z"
   },
   {
    "duration": 291,
    "start_time": "2022-04-29T11:21:30.188Z"
   },
   {
    "duration": 21,
    "start_time": "2022-04-29T11:21:31.126Z"
   },
   {
    "duration": 900,
    "start_time": "2022-04-29T11:21:32.479Z"
   },
   {
    "duration": 6,
    "start_time": "2022-04-29T11:21:34.347Z"
   },
   {
    "duration": 9,
    "start_time": "2022-04-29T11:21:36.128Z"
   },
   {
    "duration": 31,
    "start_time": "2022-04-29T11:21:36.877Z"
   },
   {
    "duration": 6,
    "start_time": "2022-04-29T11:21:37.778Z"
   },
   {
    "duration": 7,
    "start_time": "2022-04-29T11:21:39.044Z"
   },
   {
    "duration": 6,
    "start_time": "2022-04-29T11:21:41.016Z"
   },
   {
    "duration": 35,
    "start_time": "2022-04-29T11:21:41.667Z"
   },
   {
    "duration": 80,
    "start_time": "2022-04-29T11:21:42.279Z"
   },
   {
    "duration": 10,
    "start_time": "2022-04-29T11:21:43.269Z"
   },
   {
    "duration": 1633,
    "start_time": "2022-04-29T11:24:27.060Z"
   },
   {
    "duration": 821,
    "start_time": "2022-04-29T11:24:28.695Z"
   },
   {
    "duration": 150,
    "start_time": "2022-04-29T11:24:29.518Z"
   },
   {
    "duration": 17,
    "start_time": "2022-04-29T11:24:29.670Z"
   },
   {
    "duration": 13,
    "start_time": "2022-04-29T11:24:29.689Z"
   },
   {
    "duration": 312,
    "start_time": "2022-04-29T11:24:29.704Z"
   },
   {
    "duration": 39,
    "start_time": "2022-04-29T11:24:30.018Z"
   },
   {
    "duration": 954,
    "start_time": "2022-04-29T11:24:30.059Z"
   },
   {
    "duration": 12,
    "start_time": "2022-04-29T11:24:31.015Z"
   },
   {
    "duration": 23,
    "start_time": "2022-04-29T11:24:31.032Z"
   },
   {
    "duration": 45,
    "start_time": "2022-04-29T11:24:31.058Z"
   },
   {
    "duration": 8,
    "start_time": "2022-04-29T11:24:31.104Z"
   },
   {
    "duration": 27,
    "start_time": "2022-04-29T11:24:31.113Z"
   },
   {
    "duration": 23,
    "start_time": "2022-04-29T11:24:31.143Z"
   },
   {
    "duration": 51,
    "start_time": "2022-04-29T11:24:31.168Z"
   },
   {
    "duration": 18,
    "start_time": "2022-04-29T11:24:31.220Z"
   },
   {
    "duration": 90,
    "start_time": "2022-04-29T11:24:31.240Z"
   },
   {
    "duration": 14,
    "start_time": "2022-04-29T11:24:31.332Z"
   },
   {
    "duration": 2149,
    "start_time": "2022-04-29T11:24:31.347Z"
   },
   {
    "duration": 143,
    "start_time": "2022-04-29T11:27:41.225Z"
   },
   {
    "duration": 14,
    "start_time": "2022-04-29T11:27:42.029Z"
   },
   {
    "duration": 13,
    "start_time": "2022-04-29T11:29:37.638Z"
   },
   {
    "duration": 11,
    "start_time": "2022-04-29T11:29:38.393Z"
   },
   {
    "duration": 1646,
    "start_time": "2022-04-29T11:29:44.779Z"
   },
   {
    "duration": 878,
    "start_time": "2022-04-29T11:29:46.427Z"
   },
   {
    "duration": 153,
    "start_time": "2022-04-29T11:29:47.307Z"
   },
   {
    "duration": 17,
    "start_time": "2022-04-29T11:29:47.462Z"
   },
   {
    "duration": 4,
    "start_time": "2022-04-29T11:29:47.480Z"
   },
   {
    "duration": 311,
    "start_time": "2022-04-29T11:29:47.485Z"
   },
   {
    "duration": 52,
    "start_time": "2022-04-29T11:29:47.798Z"
   },
   {
    "duration": 954,
    "start_time": "2022-04-29T11:29:47.852Z"
   },
   {
    "duration": 5,
    "start_time": "2022-04-29T11:29:48.808Z"
   },
   {
    "duration": 13,
    "start_time": "2022-04-29T11:29:48.821Z"
   },
   {
    "duration": 34,
    "start_time": "2022-04-29T11:29:48.835Z"
   },
   {
    "duration": 6,
    "start_time": "2022-04-29T11:29:48.872Z"
   },
   {
    "duration": 8,
    "start_time": "2022-04-29T11:29:48.880Z"
   },
   {
    "duration": 37,
    "start_time": "2022-04-29T11:29:48.890Z"
   },
   {
    "duration": 38,
    "start_time": "2022-04-29T11:29:48.931Z"
   },
   {
    "duration": 7,
    "start_time": "2022-04-29T11:29:48.971Z"
   },
   {
    "duration": 100,
    "start_time": "2022-04-29T11:29:48.980Z"
   },
   {
    "duration": 7,
    "start_time": "2022-04-29T11:29:49.082Z"
   },
   {
    "duration": 2982,
    "start_time": "2022-04-29T11:29:49.091Z"
   },
   {
    "duration": 76,
    "start_time": "2022-04-29T11:32:22.950Z"
   },
   {
    "duration": 8,
    "start_time": "2022-04-29T11:32:23.767Z"
   },
   {
    "duration": 8,
    "start_time": "2022-04-29T11:33:08.511Z"
   },
   {
    "duration": 86,
    "start_time": "2022-04-29T11:33:09.076Z"
   },
   {
    "duration": 11,
    "start_time": "2022-04-29T11:33:22.175Z"
   },
   {
    "duration": 128,
    "start_time": "2022-04-29T11:36:22.165Z"
   },
   {
    "duration": 11,
    "start_time": "2022-04-29T11:36:27.800Z"
   },
   {
    "duration": 20,
    "start_time": "2022-04-29T11:36:43.568Z"
   },
   {
    "duration": 1740,
    "start_time": "2022-04-29T11:36:50.466Z"
   },
   {
    "duration": 1134,
    "start_time": "2022-04-29T11:36:52.209Z"
   },
   {
    "duration": 139,
    "start_time": "2022-04-29T11:36:53.345Z"
   },
   {
    "duration": 15,
    "start_time": "2022-04-29T11:36:53.487Z"
   },
   {
    "duration": 3,
    "start_time": "2022-04-29T11:36:53.504Z"
   },
   {
    "duration": 307,
    "start_time": "2022-04-29T11:36:53.509Z"
   },
   {
    "duration": 43,
    "start_time": "2022-04-29T11:36:53.818Z"
   },
   {
    "duration": 919,
    "start_time": "2022-04-29T11:36:53.863Z"
   },
   {
    "duration": 5,
    "start_time": "2022-04-29T11:36:54.784Z"
   },
   {
    "duration": 9,
    "start_time": "2022-04-29T11:36:54.791Z"
   },
   {
    "duration": 45,
    "start_time": "2022-04-29T11:36:54.802Z"
   },
   {
    "duration": 5,
    "start_time": "2022-04-29T11:36:54.849Z"
   },
   {
    "duration": 6,
    "start_time": "2022-04-29T11:36:54.856Z"
   },
   {
    "duration": 5,
    "start_time": "2022-04-29T11:36:54.863Z"
   },
   {
    "duration": 58,
    "start_time": "2022-04-29T11:36:54.869Z"
   },
   {
    "duration": 10,
    "start_time": "2022-04-29T11:36:54.928Z"
   },
   {
    "duration": 16,
    "start_time": "2022-04-29T11:36:54.940Z"
   },
   {
    "duration": 11,
    "start_time": "2022-04-29T11:36:54.958Z"
   },
   {
    "duration": 2067,
    "start_time": "2022-04-29T11:36:54.971Z"
   },
   {
    "duration": 28,
    "start_time": "2022-04-29T11:40:56.058Z"
   },
   {
    "duration": 11,
    "start_time": "2022-04-29T11:40:56.774Z"
   },
   {
    "duration": 1704,
    "start_time": "2022-04-29T11:41:03.385Z"
   },
   {
    "duration": 1203,
    "start_time": "2022-04-29T11:41:05.091Z"
   },
   {
    "duration": 251,
    "start_time": "2022-04-29T11:41:06.296Z"
   },
   {
    "duration": 17,
    "start_time": "2022-04-29T11:41:06.549Z"
   },
   {
    "duration": 3,
    "start_time": "2022-04-29T11:41:06.568Z"
   },
   {
    "duration": 319,
    "start_time": "2022-04-29T11:41:06.572Z"
   },
   {
    "duration": 48,
    "start_time": "2022-04-29T11:41:06.893Z"
   },
   {
    "duration": 995,
    "start_time": "2022-04-29T11:41:06.943Z"
   },
   {
    "duration": 6,
    "start_time": "2022-04-29T11:41:07.940Z"
   },
   {
    "duration": 11,
    "start_time": "2022-04-29T11:41:07.949Z"
   },
   {
    "duration": 32,
    "start_time": "2022-04-29T11:41:07.961Z"
   },
   {
    "duration": 28,
    "start_time": "2022-04-29T11:41:07.995Z"
   },
   {
    "duration": 10,
    "start_time": "2022-04-29T11:41:08.024Z"
   },
   {
    "duration": 7,
    "start_time": "2022-04-29T11:41:08.038Z"
   },
   {
    "duration": 38,
    "start_time": "2022-04-29T11:41:08.049Z"
   },
   {
    "duration": 39,
    "start_time": "2022-04-29T11:41:08.089Z"
   },
   {
    "duration": 36,
    "start_time": "2022-04-29T11:41:08.131Z"
   },
   {
    "duration": 12,
    "start_time": "2022-04-29T11:41:08.169Z"
   },
   {
    "duration": 47,
    "start_time": "2022-04-29T11:47:00.813Z"
   },
   {
    "duration": 55,
    "start_time": "2022-04-29T11:47:11.803Z"
   },
   {
    "duration": 835,
    "start_time": "2022-04-29T11:52:56.493Z"
   },
   {
    "duration": 778,
    "start_time": "2022-04-29T11:53:58.305Z"
   },
   {
    "duration": 7490,
    "start_time": "2022-04-29T11:57:37.104Z"
   },
   {
    "duration": 20,
    "start_time": "2022-04-29T11:57:59.945Z"
   },
   {
    "duration": 12,
    "start_time": "2022-04-29T11:59:35.900Z"
   },
   {
    "duration": 1837,
    "start_time": "2022-04-29T11:59:48.158Z"
   },
   {
    "duration": 816,
    "start_time": "2022-04-29T11:59:49.997Z"
   },
   {
    "duration": 143,
    "start_time": "2022-04-29T11:59:50.815Z"
   },
   {
    "duration": 21,
    "start_time": "2022-04-29T11:59:50.961Z"
   },
   {
    "duration": 4,
    "start_time": "2022-04-29T11:59:50.983Z"
   },
   {
    "duration": 331,
    "start_time": "2022-04-29T11:59:50.989Z"
   },
   {
    "duration": 42,
    "start_time": "2022-04-29T11:59:51.323Z"
   },
   {
    "duration": 979,
    "start_time": "2022-04-29T11:59:51.367Z"
   },
   {
    "duration": 8,
    "start_time": "2022-04-29T11:59:52.348Z"
   },
   {
    "duration": 29,
    "start_time": "2022-04-29T11:59:52.359Z"
   },
   {
    "duration": 40,
    "start_time": "2022-04-29T11:59:52.389Z"
   },
   {
    "duration": 7,
    "start_time": "2022-04-29T11:59:52.431Z"
   },
   {
    "duration": 21,
    "start_time": "2022-04-29T11:59:52.440Z"
   },
   {
    "duration": 32,
    "start_time": "2022-04-29T11:59:52.463Z"
   },
   {
    "duration": 53,
    "start_time": "2022-04-29T11:59:52.497Z"
   },
   {
    "duration": 6,
    "start_time": "2022-04-29T11:59:52.552Z"
   },
   {
    "duration": 6947,
    "start_time": "2022-04-29T11:59:52.559Z"
   },
   {
    "duration": 0,
    "start_time": "2022-04-29T11:59:59.508Z"
   },
   {
    "duration": 0,
    "start_time": "2022-04-29T11:59:59.509Z"
   },
   {
    "duration": 6,
    "start_time": "2022-04-29T12:00:17.517Z"
   },
   {
    "duration": 5,
    "start_time": "2022-04-29T12:00:28.123Z"
   },
   {
    "duration": 9,
    "start_time": "2022-04-29T12:00:37.021Z"
   },
   {
    "duration": 3115,
    "start_time": "2022-04-29T12:01:52.674Z"
   },
   {
    "duration": 38,
    "start_time": "2022-04-29T12:02:29.168Z"
   },
   {
    "duration": 3,
    "start_time": "2022-04-29T12:02:45.126Z"
   },
   {
    "duration": 35,
    "start_time": "2022-04-29T12:04:18.103Z"
   },
   {
    "duration": 4,
    "start_time": "2022-04-29T12:04:18.580Z"
   },
   {
    "duration": 5794,
    "start_time": "2022-04-29T12:04:20.680Z"
   },
   {
    "duration": 12,
    "start_time": "2022-04-29T12:04:38.588Z"
   },
   {
    "duration": 4,
    "start_time": "2022-04-29T12:05:22.981Z"
   },
   {
    "duration": 6,
    "start_time": "2022-04-29T12:07:05.528Z"
   },
   {
    "duration": 11,
    "start_time": "2022-04-29T12:07:06.133Z"
   },
   {
    "duration": 1731,
    "start_time": "2022-04-29T12:07:14.644Z"
   },
   {
    "duration": 780,
    "start_time": "2022-04-29T12:07:16.378Z"
   },
   {
    "duration": 145,
    "start_time": "2022-04-29T12:07:17.160Z"
   },
   {
    "duration": 24,
    "start_time": "2022-04-29T12:07:17.307Z"
   },
   {
    "duration": 3,
    "start_time": "2022-04-29T12:07:17.334Z"
   },
   {
    "duration": 416,
    "start_time": "2022-04-29T12:07:17.339Z"
   },
   {
    "duration": 45,
    "start_time": "2022-04-29T12:07:17.757Z"
   },
   {
    "duration": 1411,
    "start_time": "2022-04-29T12:07:17.804Z"
   },
   {
    "duration": 13,
    "start_time": "2022-04-29T12:07:19.216Z"
   },
   {
    "duration": 11,
    "start_time": "2022-04-29T12:07:19.231Z"
   },
   {
    "duration": 38,
    "start_time": "2022-04-29T12:07:19.244Z"
   },
   {
    "duration": 9,
    "start_time": "2022-04-29T12:07:19.285Z"
   },
   {
    "duration": 9,
    "start_time": "2022-04-29T12:07:19.323Z"
   },
   {
    "duration": 5,
    "start_time": "2022-04-29T12:07:19.335Z"
   },
   {
    "duration": 47,
    "start_time": "2022-04-29T12:07:19.343Z"
   },
   {
    "duration": 71,
    "start_time": "2022-04-29T12:07:19.392Z"
   },
   {
    "duration": 3,
    "start_time": "2022-04-29T12:07:19.465Z"
   },
   {
    "duration": 13,
    "start_time": "2022-04-29T12:07:19.470Z"
   },
   {
    "duration": 10,
    "start_time": "2022-04-29T12:07:19.485Z"
   },
   {
    "duration": 9490,
    "start_time": "2022-04-29T12:08:05.128Z"
   },
   {
    "duration": 10,
    "start_time": "2022-04-29T12:08:14.623Z"
   },
   {
    "duration": 1519,
    "start_time": "2022-04-29T12:08:34.435Z"
   },
   {
    "duration": 758,
    "start_time": "2022-04-29T12:08:35.956Z"
   },
   {
    "duration": 132,
    "start_time": "2022-04-29T12:08:36.715Z"
   },
   {
    "duration": 15,
    "start_time": "2022-04-29T12:08:36.849Z"
   },
   {
    "duration": 3,
    "start_time": "2022-04-29T12:08:36.866Z"
   },
   {
    "duration": 260,
    "start_time": "2022-04-29T12:08:36.870Z"
   },
   {
    "duration": 37,
    "start_time": "2022-04-29T12:08:37.131Z"
   },
   {
    "duration": 827,
    "start_time": "2022-04-29T12:08:37.169Z"
   },
   {
    "duration": 7,
    "start_time": "2022-04-29T12:08:37.998Z"
   },
   {
    "duration": 21,
    "start_time": "2022-04-29T12:08:38.009Z"
   },
   {
    "duration": 35,
    "start_time": "2022-04-29T12:08:38.032Z"
   },
   {
    "duration": 8,
    "start_time": "2022-04-29T12:08:38.069Z"
   },
   {
    "duration": 9,
    "start_time": "2022-04-29T12:08:38.079Z"
   },
   {
    "duration": 5,
    "start_time": "2022-04-29T12:08:38.089Z"
   },
   {
    "duration": 44,
    "start_time": "2022-04-29T12:08:38.123Z"
   },
   {
    "duration": 36,
    "start_time": "2022-04-29T12:08:38.169Z"
   },
   {
    "duration": 16,
    "start_time": "2022-04-29T12:08:38.207Z"
   },
   {
    "duration": 6223,
    "start_time": "2022-04-29T12:08:38.225Z"
   },
   {
    "duration": 6,
    "start_time": "2022-04-29T12:08:44.450Z"
   },
   {
    "duration": 1652,
    "start_time": "2022-04-29T12:09:31.621Z"
   },
   {
    "duration": 1075,
    "start_time": "2022-04-29T12:09:33.275Z"
   },
   {
    "duration": 231,
    "start_time": "2022-04-29T12:09:34.352Z"
   },
   {
    "duration": 17,
    "start_time": "2022-04-29T12:09:34.585Z"
   },
   {
    "duration": 19,
    "start_time": "2022-04-29T12:09:34.603Z"
   },
   {
    "duration": 263,
    "start_time": "2022-04-29T12:09:34.624Z"
   },
   {
    "duration": 45,
    "start_time": "2022-04-29T12:09:34.889Z"
   },
   {
    "duration": 869,
    "start_time": "2022-04-29T12:09:34.936Z"
   },
   {
    "duration": 16,
    "start_time": "2022-04-29T12:09:35.807Z"
   },
   {
    "duration": 11,
    "start_time": "2022-04-29T12:09:35.826Z"
   },
   {
    "duration": 30,
    "start_time": "2022-04-29T12:09:35.838Z"
   },
   {
    "duration": 7,
    "start_time": "2022-04-29T12:09:35.870Z"
   },
   {
    "duration": 7,
    "start_time": "2022-04-29T12:09:35.879Z"
   },
   {
    "duration": 37,
    "start_time": "2022-04-29T12:09:35.888Z"
   },
   {
    "duration": 37,
    "start_time": "2022-04-29T12:09:35.926Z"
   },
   {
    "duration": 34,
    "start_time": "2022-04-29T12:09:35.965Z"
   },
   {
    "duration": 22,
    "start_time": "2022-04-29T12:09:36.001Z"
   },
   {
    "duration": 6049,
    "start_time": "2022-04-29T12:09:36.025Z"
   },
   {
    "duration": 12,
    "start_time": "2022-04-29T12:09:42.076Z"
   },
   {
    "duration": 1528,
    "start_time": "2022-04-29T12:11:05.801Z"
   },
   {
    "duration": 775,
    "start_time": "2022-04-29T12:11:07.331Z"
   },
   {
    "duration": 133,
    "start_time": "2022-04-29T12:11:08.108Z"
   },
   {
    "duration": 16,
    "start_time": "2022-04-29T12:11:08.243Z"
   },
   {
    "duration": 3,
    "start_time": "2022-04-29T12:11:08.262Z"
   },
   {
    "duration": 277,
    "start_time": "2022-04-29T12:11:08.267Z"
   },
   {
    "duration": 39,
    "start_time": "2022-04-29T12:11:08.546Z"
   },
   {
    "duration": 852,
    "start_time": "2022-04-29T12:11:08.586Z"
   },
   {
    "duration": 5,
    "start_time": "2022-04-29T12:11:09.440Z"
   },
   {
    "duration": 17,
    "start_time": "2022-04-29T12:11:09.447Z"
   },
   {
    "duration": 48,
    "start_time": "2022-04-29T12:11:09.466Z"
   },
   {
    "duration": 8,
    "start_time": "2022-04-29T12:11:09.515Z"
   },
   {
    "duration": 15,
    "start_time": "2022-04-29T12:11:09.525Z"
   },
   {
    "duration": 10,
    "start_time": "2022-04-29T12:11:09.543Z"
   },
   {
    "duration": 53,
    "start_time": "2022-04-29T12:11:09.555Z"
   },
   {
    "duration": 34,
    "start_time": "2022-04-29T12:11:09.610Z"
   },
   {
    "duration": 3,
    "start_time": "2022-04-29T12:11:09.646Z"
   },
   {
    "duration": 11833,
    "start_time": "2022-04-29T12:11:09.651Z"
   },
   {
    "duration": 11,
    "start_time": "2022-04-29T12:11:21.486Z"
   },
   {
    "duration": 5596,
    "start_time": "2022-04-29T12:11:34.440Z"
   },
   {
    "duration": 1798,
    "start_time": "2022-04-29T12:12:24.532Z"
   },
   {
    "duration": 820,
    "start_time": "2022-04-29T12:12:26.332Z"
   },
   {
    "duration": 133,
    "start_time": "2022-04-29T12:12:27.154Z"
   },
   {
    "duration": 17,
    "start_time": "2022-04-29T12:12:27.289Z"
   },
   {
    "duration": 15,
    "start_time": "2022-04-29T12:12:27.307Z"
   },
   {
    "duration": 268,
    "start_time": "2022-04-29T12:12:27.324Z"
   },
   {
    "duration": 46,
    "start_time": "2022-04-29T12:12:27.594Z"
   },
   {
    "duration": 895,
    "start_time": "2022-04-29T12:12:27.642Z"
   },
   {
    "duration": 5,
    "start_time": "2022-04-29T12:12:28.539Z"
   },
   {
    "duration": 10,
    "start_time": "2022-04-29T12:12:28.547Z"
   },
   {
    "duration": 30,
    "start_time": "2022-04-29T12:12:28.558Z"
   },
   {
    "duration": 6,
    "start_time": "2022-04-29T12:12:28.590Z"
   },
   {
    "duration": 8,
    "start_time": "2022-04-29T12:12:28.623Z"
   },
   {
    "duration": 6,
    "start_time": "2022-04-29T12:12:28.632Z"
   },
   {
    "duration": 37,
    "start_time": "2022-04-29T12:12:28.639Z"
   },
   {
    "duration": 59,
    "start_time": "2022-04-29T12:12:28.678Z"
   },
   {
    "duration": 4,
    "start_time": "2022-04-29T12:12:28.739Z"
   },
   {
    "duration": 12315,
    "start_time": "2022-04-29T12:12:28.745Z"
   },
   {
    "duration": 12,
    "start_time": "2022-04-29T12:12:41.061Z"
   },
   {
    "duration": 6446,
    "start_time": "2022-04-29T12:20:20.557Z"
   },
   {
    "duration": 1766,
    "start_time": "2022-04-29T12:20:39.982Z"
   },
   {
    "duration": 859,
    "start_time": "2022-04-29T12:20:41.750Z"
   },
   {
    "duration": 141,
    "start_time": "2022-04-29T12:20:42.611Z"
   },
   {
    "duration": 17,
    "start_time": "2022-04-29T12:20:42.754Z"
   },
   {
    "duration": 3,
    "start_time": "2022-04-29T12:20:42.773Z"
   },
   {
    "duration": 290,
    "start_time": "2022-04-29T12:20:42.778Z"
   },
   {
    "duration": 41,
    "start_time": "2022-04-29T12:20:43.069Z"
   },
   {
    "duration": 913,
    "start_time": "2022-04-29T12:20:43.111Z"
   },
   {
    "duration": 5,
    "start_time": "2022-04-29T12:20:44.025Z"
   },
   {
    "duration": 10,
    "start_time": "2022-04-29T12:20:44.032Z"
   },
   {
    "duration": 31,
    "start_time": "2022-04-29T12:20:44.043Z"
   },
   {
    "duration": 6,
    "start_time": "2022-04-29T12:20:44.076Z"
   },
   {
    "duration": 39,
    "start_time": "2022-04-29T12:20:44.084Z"
   },
   {
    "duration": 5,
    "start_time": "2022-04-29T12:20:44.125Z"
   },
   {
    "duration": 37,
    "start_time": "2022-04-29T12:20:44.131Z"
   },
   {
    "duration": 55,
    "start_time": "2022-04-29T12:20:44.170Z"
   },
   {
    "duration": 3,
    "start_time": "2022-04-29T12:20:44.227Z"
   },
   {
    "duration": 12176,
    "start_time": "2022-04-29T12:20:44.232Z"
   },
   {
    "duration": 13,
    "start_time": "2022-04-29T12:20:56.410Z"
   },
   {
    "duration": 109,
    "start_time": "2022-04-29T12:21:35.264Z"
   },
   {
    "duration": 4,
    "start_time": "2022-04-29T12:21:42.776Z"
   },
   {
    "duration": 1630,
    "start_time": "2022-04-29T12:21:48.627Z"
   },
   {
    "duration": 848,
    "start_time": "2022-04-29T12:21:50.259Z"
   },
   {
    "duration": 146,
    "start_time": "2022-04-29T12:21:51.108Z"
   },
   {
    "duration": 23,
    "start_time": "2022-04-29T12:21:51.257Z"
   },
   {
    "duration": 4,
    "start_time": "2022-04-29T12:21:51.282Z"
   },
   {
    "duration": 441,
    "start_time": "2022-04-29T12:21:51.288Z"
   },
   {
    "duration": 52,
    "start_time": "2022-04-29T12:21:51.731Z"
   },
   {
    "duration": 1503,
    "start_time": "2022-04-29T12:21:51.786Z"
   },
   {
    "duration": 8,
    "start_time": "2022-04-29T12:21:53.291Z"
   },
   {
    "duration": 26,
    "start_time": "2022-04-29T12:21:53.302Z"
   },
   {
    "duration": 59,
    "start_time": "2022-04-29T12:21:53.331Z"
   },
   {
    "duration": 9,
    "start_time": "2022-04-29T12:21:53.393Z"
   },
   {
    "duration": 18,
    "start_time": "2022-04-29T12:21:53.404Z"
   },
   {
    "duration": 6,
    "start_time": "2022-04-29T12:21:53.425Z"
   },
   {
    "duration": 48,
    "start_time": "2022-04-29T12:21:53.433Z"
   },
   {
    "duration": 66,
    "start_time": "2022-04-29T12:21:53.483Z"
   },
   {
    "duration": 16,
    "start_time": "2022-04-29T12:21:53.551Z"
   },
   {
    "duration": 12714,
    "start_time": "2022-04-29T12:21:53.569Z"
   },
   {
    "duration": 7,
    "start_time": "2022-04-29T12:22:06.285Z"
   },
   {
    "duration": 14,
    "start_time": "2022-04-29T12:22:53.676Z"
   },
   {
    "duration": 1639,
    "start_time": "2022-04-29T12:23:13.800Z"
   },
   {
    "duration": 808,
    "start_time": "2022-04-29T12:23:15.441Z"
   },
   {
    "duration": 130,
    "start_time": "2022-04-29T12:23:16.251Z"
   },
   {
    "duration": 16,
    "start_time": "2022-04-29T12:23:16.383Z"
   },
   {
    "duration": 23,
    "start_time": "2022-04-29T12:23:16.401Z"
   },
   {
    "duration": 273,
    "start_time": "2022-04-29T12:23:16.425Z"
   },
   {
    "duration": 51,
    "start_time": "2022-04-29T12:23:16.699Z"
   },
   {
    "duration": 890,
    "start_time": "2022-04-29T12:23:16.752Z"
   },
   {
    "duration": 6,
    "start_time": "2022-04-29T12:23:17.643Z"
   },
   {
    "duration": 11,
    "start_time": "2022-04-29T12:23:17.651Z"
   },
   {
    "duration": 34,
    "start_time": "2022-04-29T12:23:17.663Z"
   },
   {
    "duration": 7,
    "start_time": "2022-04-29T12:23:17.722Z"
   },
   {
    "duration": 7,
    "start_time": "2022-04-29T12:23:17.731Z"
   },
   {
    "duration": 5,
    "start_time": "2022-04-29T12:23:17.741Z"
   },
   {
    "duration": 40,
    "start_time": "2022-04-29T12:23:17.748Z"
   },
   {
    "duration": 65,
    "start_time": "2022-04-29T12:23:17.789Z"
   },
   {
    "duration": 6278,
    "start_time": "2022-04-29T12:23:17.856Z"
   },
   {
    "duration": 9,
    "start_time": "2022-04-29T12:24:58.168Z"
   },
   {
    "duration": 6,
    "start_time": "2022-04-29T12:26:30.241Z"
   },
   {
    "duration": 6,
    "start_time": "2022-04-29T12:26:37.642Z"
   },
   {
    "duration": 7,
    "start_time": "2022-04-29T12:27:16.396Z"
   },
   {
    "duration": 6,
    "start_time": "2022-04-29T12:27:25.620Z"
   },
   {
    "duration": 5,
    "start_time": "2022-04-29T12:27:41.504Z"
   },
   {
    "duration": 110,
    "start_time": "2022-04-29T12:28:38.549Z"
   },
   {
    "duration": 7,
    "start_time": "2022-04-29T12:28:41.726Z"
   },
   {
    "duration": 7,
    "start_time": "2022-04-29T12:29:01.641Z"
   },
   {
    "duration": 7,
    "start_time": "2022-04-29T12:30:17.576Z"
   },
   {
    "duration": 13,
    "start_time": "2022-04-29T12:30:32.173Z"
   },
   {
    "duration": 6,
    "start_time": "2022-04-29T12:30:35.551Z"
   },
   {
    "duration": 6,
    "start_time": "2022-04-29T12:31:25.229Z"
   },
   {
    "duration": 6,
    "start_time": "2022-04-29T12:31:44.087Z"
   },
   {
    "duration": 11,
    "start_time": "2022-04-29T12:32:58.511Z"
   },
   {
    "duration": 10,
    "start_time": "2022-04-29T12:34:32.928Z"
   },
   {
    "duration": 21,
    "start_time": "2022-04-29T12:35:40.690Z"
   },
   {
    "duration": 17,
    "start_time": "2022-04-29T12:35:50.338Z"
   },
   {
    "duration": 30,
    "start_time": "2022-04-29T12:38:26.129Z"
   },
   {
    "duration": 5626,
    "start_time": "2022-04-29T12:39:01.765Z"
   },
   {
    "duration": 5,
    "start_time": "2022-04-29T12:41:56.027Z"
   },
   {
    "duration": 1687,
    "start_time": "2022-04-29T12:42:09.388Z"
   },
   {
    "duration": 832,
    "start_time": "2022-04-29T12:42:11.077Z"
   },
   {
    "duration": 136,
    "start_time": "2022-04-29T12:42:11.911Z"
   },
   {
    "duration": 17,
    "start_time": "2022-04-29T12:42:12.049Z"
   },
   {
    "duration": 15,
    "start_time": "2022-04-29T12:42:12.069Z"
   },
   {
    "duration": 321,
    "start_time": "2022-04-29T12:42:12.086Z"
   },
   {
    "duration": 55,
    "start_time": "2022-04-29T12:42:12.409Z"
   },
   {
    "duration": 935,
    "start_time": "2022-04-29T12:42:12.466Z"
   },
   {
    "duration": 5,
    "start_time": "2022-04-29T12:42:13.403Z"
   },
   {
    "duration": 30,
    "start_time": "2022-04-29T12:42:13.410Z"
   },
   {
    "duration": 45,
    "start_time": "2022-04-29T12:42:13.442Z"
   },
   {
    "duration": 6,
    "start_time": "2022-04-29T12:42:13.489Z"
   },
   {
    "duration": 31,
    "start_time": "2022-04-29T12:42:13.497Z"
   },
   {
    "duration": 14,
    "start_time": "2022-04-29T12:42:13.532Z"
   },
   {
    "duration": 52,
    "start_time": "2022-04-29T12:42:13.547Z"
   },
   {
    "duration": 38,
    "start_time": "2022-04-29T12:42:13.601Z"
   },
   {
    "duration": 6287,
    "start_time": "2022-04-29T12:42:13.641Z"
   },
   {
    "duration": 6,
    "start_time": "2022-04-29T12:42:19.930Z"
   },
   {
    "duration": 6,
    "start_time": "2022-04-29T12:42:19.938Z"
   },
   {
    "duration": 6,
    "start_time": "2022-04-29T12:42:19.946Z"
   },
   {
    "duration": 16,
    "start_time": "2022-04-29T12:42:19.954Z"
   },
   {
    "duration": 65,
    "start_time": "2022-04-29T12:42:19.972Z"
   },
   {
    "duration": 5856,
    "start_time": "2022-04-29T12:42:20.039Z"
   },
   {
    "duration": 1638,
    "start_time": "2022-04-29T12:43:04.273Z"
   },
   {
    "duration": 862,
    "start_time": "2022-04-29T12:43:05.913Z"
   },
   {
    "duration": 145,
    "start_time": "2022-04-29T12:43:06.777Z"
   },
   {
    "duration": 19,
    "start_time": "2022-04-29T12:43:06.925Z"
   },
   {
    "duration": 3,
    "start_time": "2022-04-29T12:43:06.947Z"
   },
   {
    "duration": 433,
    "start_time": "2022-04-29T12:43:06.952Z"
   },
   {
    "duration": 58,
    "start_time": "2022-04-29T12:43:07.388Z"
   },
   {
    "duration": 1236,
    "start_time": "2022-04-29T12:43:07.449Z"
   },
   {
    "duration": 6,
    "start_time": "2022-04-29T12:43:08.687Z"
   },
   {
    "duration": 29,
    "start_time": "2022-04-29T12:43:08.695Z"
   },
   {
    "duration": 32,
    "start_time": "2022-04-29T12:43:08.727Z"
   },
   {
    "duration": 7,
    "start_time": "2022-04-29T12:43:08.762Z"
   },
   {
    "duration": 7,
    "start_time": "2022-04-29T12:43:08.771Z"
   },
   {
    "duration": 5,
    "start_time": "2022-04-29T12:43:08.780Z"
   },
   {
    "duration": 35,
    "start_time": "2022-04-29T12:43:08.822Z"
   },
   {
    "duration": 34,
    "start_time": "2022-04-29T12:43:08.859Z"
   },
   {
    "duration": 6824,
    "start_time": "2022-04-29T12:43:08.895Z"
   },
   {
    "duration": 6,
    "start_time": "2022-04-29T12:43:15.723Z"
   },
   {
    "duration": 7,
    "start_time": "2022-04-29T12:43:15.731Z"
   },
   {
    "duration": 6,
    "start_time": "2022-04-29T12:43:15.740Z"
   },
   {
    "duration": 15,
    "start_time": "2022-04-29T12:43:15.748Z"
   },
   {
    "duration": 70,
    "start_time": "2022-04-29T12:43:15.765Z"
   },
   {
    "duration": 5055,
    "start_time": "2022-04-29T12:43:15.836Z"
   },
   {
    "duration": 6,
    "start_time": "2022-04-29T12:43:56.520Z"
   },
   {
    "duration": 1560,
    "start_time": "2022-04-29T12:44:02.867Z"
   },
   {
    "duration": 781,
    "start_time": "2022-04-29T12:44:04.429Z"
   },
   {
    "duration": 139,
    "start_time": "2022-04-29T12:44:05.212Z"
   },
   {
    "duration": 17,
    "start_time": "2022-04-29T12:44:05.353Z"
   },
   {
    "duration": 4,
    "start_time": "2022-04-29T12:44:05.372Z"
   },
   {
    "duration": 318,
    "start_time": "2022-04-29T12:44:05.377Z"
   },
   {
    "duration": 49,
    "start_time": "2022-04-29T12:44:05.697Z"
   },
   {
    "duration": 844,
    "start_time": "2022-04-29T12:44:05.748Z"
   },
   {
    "duration": 6,
    "start_time": "2022-04-29T12:44:06.593Z"
   },
   {
    "duration": 22,
    "start_time": "2022-04-29T12:44:06.601Z"
   },
   {
    "duration": 30,
    "start_time": "2022-04-29T12:44:06.625Z"
   },
   {
    "duration": 7,
    "start_time": "2022-04-29T12:44:06.656Z"
   },
   {
    "duration": 8,
    "start_time": "2022-04-29T12:44:06.664Z"
   },
   {
    "duration": 4,
    "start_time": "2022-04-29T12:44:06.674Z"
   },
   {
    "duration": 67,
    "start_time": "2022-04-29T12:44:06.680Z"
   },
   {
    "duration": 34,
    "start_time": "2022-04-29T12:44:06.748Z"
   },
   {
    "duration": 6533,
    "start_time": "2022-04-29T12:44:06.783Z"
   },
   {
    "duration": 8,
    "start_time": "2022-04-29T12:44:13.317Z"
   },
   {
    "duration": 24,
    "start_time": "2022-04-29T12:44:13.327Z"
   },
   {
    "duration": 19,
    "start_time": "2022-04-29T12:44:13.353Z"
   },
   {
    "duration": 27,
    "start_time": "2022-04-29T12:44:13.374Z"
   },
   {
    "duration": 39,
    "start_time": "2022-04-29T12:44:13.403Z"
   },
   {
    "duration": 5631,
    "start_time": "2022-04-29T12:44:13.444Z"
   },
   {
    "duration": 1575,
    "start_time": "2022-04-29T12:44:39.175Z"
   },
   {
    "duration": 807,
    "start_time": "2022-04-29T12:44:40.751Z"
   },
   {
    "duration": 133,
    "start_time": "2022-04-29T12:44:41.559Z"
   },
   {
    "duration": 29,
    "start_time": "2022-04-29T12:44:41.694Z"
   },
   {
    "duration": 4,
    "start_time": "2022-04-29T12:44:41.724Z"
   },
   {
    "duration": 273,
    "start_time": "2022-04-29T12:44:41.729Z"
   },
   {
    "duration": 48,
    "start_time": "2022-04-29T12:44:42.004Z"
   },
   {
    "duration": 879,
    "start_time": "2022-04-29T12:44:42.054Z"
   },
   {
    "duration": 5,
    "start_time": "2022-04-29T12:44:42.935Z"
   },
   {
    "duration": 10,
    "start_time": "2022-04-29T12:44:42.942Z"
   },
   {
    "duration": 29,
    "start_time": "2022-04-29T12:44:42.954Z"
   },
   {
    "duration": 6,
    "start_time": "2022-04-29T12:44:42.985Z"
   },
   {
    "duration": 31,
    "start_time": "2022-04-29T12:44:42.993Z"
   },
   {
    "duration": 13,
    "start_time": "2022-04-29T12:44:43.026Z"
   },
   {
    "duration": 34,
    "start_time": "2022-04-29T12:44:43.041Z"
   },
   {
    "duration": 55,
    "start_time": "2022-04-29T12:44:43.077Z"
   },
   {
    "duration": 5989,
    "start_time": "2022-04-29T12:44:43.133Z"
   },
   {
    "duration": 6,
    "start_time": "2022-04-29T12:44:49.124Z"
   },
   {
    "duration": 7,
    "start_time": "2022-04-29T12:44:49.131Z"
   },
   {
    "duration": 5,
    "start_time": "2022-04-29T12:44:49.140Z"
   },
   {
    "duration": 14,
    "start_time": "2022-04-29T12:44:49.147Z"
   },
   {
    "duration": 31,
    "start_time": "2022-04-29T12:44:49.163Z"
   },
   {
    "duration": 4843,
    "start_time": "2022-04-29T12:44:49.223Z"
   },
   {
    "duration": 1776,
    "start_time": "2022-04-29T12:47:05.684Z"
   },
   {
    "duration": 864,
    "start_time": "2022-04-29T12:47:07.462Z"
   },
   {
    "duration": 150,
    "start_time": "2022-04-29T12:47:08.328Z"
   },
   {
    "duration": 17,
    "start_time": "2022-04-29T12:47:08.480Z"
   },
   {
    "duration": 5,
    "start_time": "2022-04-29T12:47:08.498Z"
   },
   {
    "duration": 309,
    "start_time": "2022-04-29T12:47:08.504Z"
   },
   {
    "duration": 44,
    "start_time": "2022-04-29T12:47:08.815Z"
   },
   {
    "duration": 907,
    "start_time": "2022-04-29T12:47:08.861Z"
   },
   {
    "duration": 5,
    "start_time": "2022-04-29T12:47:09.770Z"
   },
   {
    "duration": 10,
    "start_time": "2022-04-29T12:47:09.778Z"
   },
   {
    "duration": 51,
    "start_time": "2022-04-29T12:47:09.790Z"
   },
   {
    "duration": 6,
    "start_time": "2022-04-29T12:47:09.843Z"
   },
   {
    "duration": 7,
    "start_time": "2022-04-29T12:47:09.851Z"
   },
   {
    "duration": 5,
    "start_time": "2022-04-29T12:47:09.860Z"
   },
   {
    "duration": 63,
    "start_time": "2022-04-29T12:47:09.867Z"
   },
   {
    "duration": 35,
    "start_time": "2022-04-29T12:47:09.932Z"
   },
   {
    "duration": 6480,
    "start_time": "2022-04-29T12:47:09.969Z"
   },
   {
    "duration": 6,
    "start_time": "2022-04-29T12:47:16.451Z"
   },
   {
    "duration": 6,
    "start_time": "2022-04-29T12:47:16.458Z"
   },
   {
    "duration": 6,
    "start_time": "2022-04-29T12:47:16.466Z"
   },
   {
    "duration": 16,
    "start_time": "2022-04-29T12:47:16.474Z"
   },
   {
    "duration": 58,
    "start_time": "2022-04-29T12:47:16.492Z"
   },
   {
    "duration": 5516,
    "start_time": "2022-04-29T12:47:16.552Z"
   },
   {
    "duration": 1961,
    "start_time": "2022-04-29T12:47:24.342Z"
   },
   {
    "duration": 837,
    "start_time": "2022-04-29T12:47:26.306Z"
   },
   {
    "duration": 142,
    "start_time": "2022-04-29T12:47:27.144Z"
   },
   {
    "duration": 18,
    "start_time": "2022-04-29T12:47:27.288Z"
   },
   {
    "duration": 16,
    "start_time": "2022-04-29T12:47:27.308Z"
   },
   {
    "duration": 264,
    "start_time": "2022-04-29T12:47:27.326Z"
   },
   {
    "duration": 47,
    "start_time": "2022-04-29T12:47:27.592Z"
   },
   {
    "duration": 896,
    "start_time": "2022-04-29T12:47:27.641Z"
   },
   {
    "duration": 6,
    "start_time": "2022-04-29T12:47:28.538Z"
   },
   {
    "duration": 14,
    "start_time": "2022-04-29T12:47:28.546Z"
   },
   {
    "duration": 32,
    "start_time": "2022-04-29T12:47:28.562Z"
   },
   {
    "duration": 7,
    "start_time": "2022-04-29T12:47:28.595Z"
   },
   {
    "duration": 7,
    "start_time": "2022-04-29T12:47:28.623Z"
   },
   {
    "duration": 6,
    "start_time": "2022-04-29T12:47:28.633Z"
   },
   {
    "duration": 34,
    "start_time": "2022-04-29T12:47:28.640Z"
   },
   {
    "duration": 59,
    "start_time": "2022-04-29T12:47:28.677Z"
   },
   {
    "duration": 6461,
    "start_time": "2022-04-29T12:47:28.739Z"
   },
   {
    "duration": 6,
    "start_time": "2022-04-29T12:47:35.202Z"
   },
   {
    "duration": 6,
    "start_time": "2022-04-29T12:47:35.222Z"
   },
   {
    "duration": 6,
    "start_time": "2022-04-29T12:47:35.230Z"
   },
   {
    "duration": 17,
    "start_time": "2022-04-29T12:47:35.237Z"
   },
   {
    "duration": 29,
    "start_time": "2022-04-29T12:47:35.255Z"
   },
   {
    "duration": 5217,
    "start_time": "2022-04-29T12:47:35.286Z"
   },
   {
    "duration": 22,
    "start_time": "2022-04-29T12:54:17.920Z"
   },
   {
    "duration": 47,
    "start_time": "2022-04-29T12:58:55.118Z"
   },
   {
    "duration": 35,
    "start_time": "2022-04-29T12:59:04.637Z"
   },
   {
    "duration": 142,
    "start_time": "2022-04-29T12:59:10.011Z"
   },
   {
    "duration": 30,
    "start_time": "2022-04-29T12:59:19.990Z"
   },
   {
    "duration": 30,
    "start_time": "2022-04-29T13:00:54.622Z"
   },
   {
    "duration": 23,
    "start_time": "2022-04-29T13:00:59.056Z"
   },
   {
    "duration": 118,
    "start_time": "2022-04-29T13:02:20.071Z"
   },
   {
    "duration": 18,
    "start_time": "2022-04-29T13:02:26.276Z"
   },
   {
    "duration": 19,
    "start_time": "2022-04-29T13:02:32.651Z"
   },
   {
    "duration": 23,
    "start_time": "2022-04-29T13:05:41.258Z"
   },
   {
    "duration": 26,
    "start_time": "2022-04-29T13:05:53.435Z"
   },
   {
    "duration": 10,
    "start_time": "2022-04-29T13:08:04.255Z"
   },
   {
    "duration": 13,
    "start_time": "2022-04-29T13:08:18.901Z"
   },
   {
    "duration": 29,
    "start_time": "2022-04-29T13:08:25.016Z"
   },
   {
    "duration": 21,
    "start_time": "2022-04-29T13:08:27.039Z"
   },
   {
    "duration": 21,
    "start_time": "2022-04-29T13:13:15.045Z"
   },
   {
    "duration": 36,
    "start_time": "2022-04-29T13:14:54.268Z"
   },
   {
    "duration": 22,
    "start_time": "2022-04-29T13:15:33.282Z"
   },
   {
    "duration": 23,
    "start_time": "2022-04-29T13:22:12.274Z"
   },
   {
    "duration": 20,
    "start_time": "2022-04-29T13:25:54.672Z"
   },
   {
    "duration": 1755,
    "start_time": "2022-04-29T13:26:01.898Z"
   },
   {
    "duration": 869,
    "start_time": "2022-04-29T13:26:03.655Z"
   },
   {
    "duration": 157,
    "start_time": "2022-04-29T13:26:04.526Z"
   },
   {
    "duration": 17,
    "start_time": "2022-04-29T13:26:04.685Z"
   },
   {
    "duration": 3,
    "start_time": "2022-04-29T13:26:04.704Z"
   },
   {
    "duration": 310,
    "start_time": "2022-04-29T13:26:04.722Z"
   },
   {
    "duration": 43,
    "start_time": "2022-04-29T13:26:05.034Z"
   },
   {
    "duration": 984,
    "start_time": "2022-04-29T13:26:05.079Z"
   },
   {
    "duration": 5,
    "start_time": "2022-04-29T13:26:06.065Z"
   },
   {
    "duration": 11,
    "start_time": "2022-04-29T13:26:06.073Z"
   },
   {
    "duration": 63,
    "start_time": "2022-04-29T13:26:06.086Z"
   },
   {
    "duration": 6,
    "start_time": "2022-04-29T13:26:06.150Z"
   },
   {
    "duration": 9,
    "start_time": "2022-04-29T13:26:06.158Z"
   },
   {
    "duration": 6,
    "start_time": "2022-04-29T13:26:06.168Z"
   },
   {
    "duration": 70,
    "start_time": "2022-04-29T13:26:06.176Z"
   },
   {
    "duration": 35,
    "start_time": "2022-04-29T13:26:06.247Z"
   },
   {
    "duration": 7227,
    "start_time": "2022-04-29T13:26:06.285Z"
   },
   {
    "duration": 10,
    "start_time": "2022-04-29T13:26:13.514Z"
   },
   {
    "duration": 8,
    "start_time": "2022-04-29T13:26:13.526Z"
   },
   {
    "duration": 9,
    "start_time": "2022-04-29T13:26:13.537Z"
   },
   {
    "duration": 22,
    "start_time": "2022-04-29T13:26:13.549Z"
   },
   {
    "duration": 80,
    "start_time": "2022-04-29T13:26:13.573Z"
   },
   {
    "duration": 39,
    "start_time": "2022-04-29T13:26:13.655Z"
   },
   {
    "duration": 39,
    "start_time": "2022-04-29T13:26:13.696Z"
   },
   {
    "duration": 25,
    "start_time": "2022-04-29T13:26:13.738Z"
   },
   {
    "duration": 35,
    "start_time": "2022-04-29T13:26:13.765Z"
   },
   {
    "duration": 30,
    "start_time": "2022-04-29T13:26:13.828Z"
   },
   {
    "duration": 25,
    "start_time": "2022-04-29T13:26:13.861Z"
   },
   {
    "duration": 61,
    "start_time": "2022-04-29T13:26:13.888Z"
   },
   {
    "duration": 36,
    "start_time": "2022-04-29T13:26:13.952Z"
   },
   {
    "duration": 49,
    "start_time": "2022-04-29T13:26:13.990Z"
   },
   {
    "duration": 6161,
    "start_time": "2022-04-29T13:26:14.042Z"
   },
   {
    "duration": 325,
    "start_time": "2022-04-29T13:29:38.376Z"
   },
   {
    "duration": 7,
    "start_time": "2022-04-29T13:31:29.690Z"
   },
   {
    "duration": 38,
    "start_time": "2022-04-29T13:31:34.272Z"
   },
   {
    "duration": 7,
    "start_time": "2022-04-29T13:31:49.073Z"
   },
   {
    "duration": 20,
    "start_time": "2022-04-29T13:31:54.778Z"
   },
   {
    "duration": 2012,
    "start_time": "2022-04-29T13:32:39.603Z"
   },
   {
    "duration": 16,
    "start_time": "2022-04-29T13:36:13.289Z"
   },
   {
    "duration": 137,
    "start_time": "2022-04-29T13:37:12.365Z"
   },
   {
    "duration": 1872,
    "start_time": "2022-04-29T13:37:32.354Z"
   },
   {
    "duration": 894,
    "start_time": "2022-04-29T13:37:34.230Z"
   },
   {
    "duration": 264,
    "start_time": "2022-04-29T13:37:35.127Z"
   },
   {
    "duration": 18,
    "start_time": "2022-04-29T13:37:35.393Z"
   },
   {
    "duration": 14,
    "start_time": "2022-04-29T13:37:35.413Z"
   },
   {
    "duration": 444,
    "start_time": "2022-04-29T13:37:35.430Z"
   },
   {
    "duration": 56,
    "start_time": "2022-04-29T13:37:35.877Z"
   },
   {
    "duration": 961,
    "start_time": "2022-04-29T13:37:35.936Z"
   },
   {
    "duration": 5,
    "start_time": "2022-04-29T13:37:36.899Z"
   },
   {
    "duration": 25,
    "start_time": "2022-04-29T13:37:36.907Z"
   },
   {
    "duration": 31,
    "start_time": "2022-04-29T13:37:36.934Z"
   },
   {
    "duration": 7,
    "start_time": "2022-04-29T13:37:36.967Z"
   },
   {
    "duration": 6,
    "start_time": "2022-04-29T13:37:36.976Z"
   },
   {
    "duration": 7,
    "start_time": "2022-04-29T13:37:36.984Z"
   },
   {
    "duration": 68,
    "start_time": "2022-04-29T13:37:36.992Z"
   },
   {
    "duration": 33,
    "start_time": "2022-04-29T13:37:37.062Z"
   },
   {
    "duration": 8883,
    "start_time": "2022-04-29T13:37:37.097Z"
   },
   {
    "duration": 9,
    "start_time": "2022-04-29T13:37:45.982Z"
   },
   {
    "duration": 8,
    "start_time": "2022-04-29T13:37:45.993Z"
   },
   {
    "duration": 25,
    "start_time": "2022-04-29T13:37:46.003Z"
   },
   {
    "duration": 19,
    "start_time": "2022-04-29T13:37:46.031Z"
   },
   {
    "duration": 30,
    "start_time": "2022-04-29T13:37:46.052Z"
   },
   {
    "duration": 48,
    "start_time": "2022-04-29T13:37:46.084Z"
   },
   {
    "duration": 29,
    "start_time": "2022-04-29T13:37:46.135Z"
   },
   {
    "duration": 16,
    "start_time": "2022-04-29T13:37:46.166Z"
   },
   {
    "duration": 56,
    "start_time": "2022-04-29T13:37:46.184Z"
   },
   {
    "duration": 19,
    "start_time": "2022-04-29T13:37:46.243Z"
   },
   {
    "duration": 23,
    "start_time": "2022-04-29T13:37:46.265Z"
   },
   {
    "duration": 56,
    "start_time": "2022-04-29T13:37:46.290Z"
   },
   {
    "duration": 22,
    "start_time": "2022-04-29T13:37:46.348Z"
   },
   {
    "duration": 20,
    "start_time": "2022-04-29T13:37:46.372Z"
   },
   {
    "duration": 6165,
    "start_time": "2022-04-29T13:37:46.394Z"
   },
   {
    "duration": 394,
    "start_time": "2022-04-29T13:37:52.562Z"
   },
   {
    "duration": 20,
    "start_time": "2022-04-29T13:37:52.958Z"
   },
   {
    "duration": 20,
    "start_time": "2022-04-29T13:37:52.980Z"
   },
   {
    "duration": 2834,
    "start_time": "2022-04-29T13:37:53.001Z"
   },
   {
    "duration": 23,
    "start_time": "2022-04-29T13:37:55.836Z"
   },
   {
    "duration": 1081,
    "start_time": "2022-04-29T13:38:18.921Z"
   },
   {
    "duration": 188,
    "start_time": "2022-04-29T13:38:23.002Z"
   },
   {
    "duration": 318,
    "start_time": "2022-04-29T13:38:25.098Z"
   },
   {
    "duration": 3,
    "start_time": "2022-04-29T13:38:29.053Z"
   },
   {
    "duration": 3,
    "start_time": "2022-04-29T13:38:30.140Z"
   },
   {
    "duration": 7,
    "start_time": "2022-04-29T13:38:30.988Z"
   },
   {
    "duration": 4,
    "start_time": "2022-04-29T13:38:31.896Z"
   },
   {
    "duration": 222,
    "start_time": "2022-04-29T13:38:34.949Z"
   },
   {
    "duration": 3,
    "start_time": "2022-04-29T13:38:37.170Z"
   },
   {
    "duration": 4,
    "start_time": "2022-04-29T13:38:38.108Z"
   },
   {
    "duration": 3,
    "start_time": "2022-04-29T13:38:39.097Z"
   },
   {
    "duration": 3,
    "start_time": "2022-04-29T13:38:44.217Z"
   },
   {
    "duration": 196,
    "start_time": "2022-04-29T15:28:55.938Z"
   },
   {
    "duration": 2296,
    "start_time": "2022-04-29T15:31:50.826Z"
   },
   {
    "duration": 1062,
    "start_time": "2022-04-29T15:31:53.125Z"
   },
   {
    "duration": 182,
    "start_time": "2022-04-29T15:31:54.189Z"
   },
   {
    "duration": 36,
    "start_time": "2022-04-29T15:31:54.375Z"
   },
   {
    "duration": 5,
    "start_time": "2022-04-29T15:31:54.414Z"
   },
   {
    "duration": 409,
    "start_time": "2022-04-29T15:31:54.423Z"
   },
   {
    "duration": 69,
    "start_time": "2022-04-29T15:31:54.834Z"
   },
   {
    "duration": 1350,
    "start_time": "2022-04-29T15:31:54.905Z"
   },
   {
    "duration": 9,
    "start_time": "2022-04-29T15:31:56.258Z"
   },
   {
    "duration": 12,
    "start_time": "2022-04-29T15:31:56.294Z"
   },
   {
    "duration": 57,
    "start_time": "2022-04-29T15:31:56.309Z"
   },
   {
    "duration": 28,
    "start_time": "2022-04-29T15:31:56.369Z"
   },
   {
    "duration": 11,
    "start_time": "2022-04-29T15:31:56.400Z"
   },
   {
    "duration": 9,
    "start_time": "2022-04-29T15:31:56.414Z"
   },
   {
    "duration": 116,
    "start_time": "2022-04-29T15:31:56.426Z"
   },
   {
    "duration": 63,
    "start_time": "2022-04-29T15:31:56.545Z"
   },
   {
    "duration": 9911,
    "start_time": "2022-04-29T15:31:56.610Z"
   },
   {
    "duration": 11,
    "start_time": "2022-04-29T15:32:06.523Z"
   },
   {
    "duration": 12,
    "start_time": "2022-04-29T15:32:06.536Z"
   },
   {
    "duration": 16,
    "start_time": "2022-04-29T15:32:06.550Z"
   },
   {
    "duration": 47,
    "start_time": "2022-04-29T15:32:06.568Z"
   },
   {
    "duration": 84,
    "start_time": "2022-04-29T15:32:06.617Z"
   },
   {
    "duration": 29,
    "start_time": "2022-04-29T15:32:06.704Z"
   },
   {
    "duration": 36,
    "start_time": "2022-04-29T15:32:06.736Z"
   },
   {
    "duration": 38,
    "start_time": "2022-04-29T15:32:06.775Z"
   },
   {
    "duration": 33,
    "start_time": "2022-04-29T15:32:06.816Z"
   },
   {
    "duration": 52,
    "start_time": "2022-04-29T15:32:06.852Z"
   },
   {
    "duration": 38,
    "start_time": "2022-04-29T15:32:06.910Z"
   },
   {
    "duration": 46,
    "start_time": "2022-04-29T15:32:06.950Z"
   },
   {
    "duration": 42,
    "start_time": "2022-04-29T15:32:06.998Z"
   },
   {
    "duration": 32,
    "start_time": "2022-04-29T15:32:07.042Z"
   },
   {
    "duration": 7697,
    "start_time": "2022-04-29T15:32:07.076Z"
   },
   {
    "duration": 446,
    "start_time": "2022-04-29T15:32:14.776Z"
   },
   {
    "duration": 28,
    "start_time": "2022-04-29T15:32:15.224Z"
   },
   {
    "duration": 50,
    "start_time": "2022-04-29T15:32:15.255Z"
   },
   {
    "duration": 2646,
    "start_time": "2022-04-29T15:32:15.308Z"
   },
   {
    "duration": 46,
    "start_time": "2022-04-29T15:32:17.957Z"
   },
   {
    "duration": 1362,
    "start_time": "2022-04-29T15:32:18.006Z"
   },
   {
    "duration": 224,
    "start_time": "2022-04-29T15:32:19.370Z"
   },
   {
    "duration": 462,
    "start_time": "2022-04-29T15:32:19.596Z"
   },
   {
    "duration": 4,
    "start_time": "2022-04-29T15:32:20.061Z"
   },
   {
    "duration": 7,
    "start_time": "2022-04-29T15:32:20.068Z"
   },
   {
    "duration": 24,
    "start_time": "2022-04-29T15:32:20.077Z"
   },
   {
    "duration": 9,
    "start_time": "2022-04-29T15:32:20.103Z"
   },
   {
    "duration": 282,
    "start_time": "2022-04-29T15:32:20.114Z"
   },
   {
    "duration": 4,
    "start_time": "2022-04-29T15:32:20.398Z"
   },
   {
    "duration": 6,
    "start_time": "2022-04-29T15:32:20.404Z"
   },
   {
    "duration": 6,
    "start_time": "2022-04-29T15:32:20.412Z"
   },
   {
    "duration": 304774,
    "start_time": "2022-04-29T15:32:20.420Z"
   },
   {
    "duration": 382,
    "start_time": "2022-04-29T15:37:25.198Z"
   },
   {
    "duration": 4,
    "start_time": "2022-04-29T15:37:25.582Z"
   },
   {
    "duration": 171036,
    "start_time": "2022-04-29T15:37:25.589Z"
   },
   {
    "duration": 6265,
    "start_time": "2022-04-29T15:40:16.628Z"
   },
   {
    "duration": 19329,
    "start_time": "2022-04-29T15:40:22.895Z"
   },
   {
    "duration": 250,
    "start_time": "2022-04-29T15:40:42.226Z"
   },
   {
    "duration": 13,
    "start_time": "2022-04-29T15:40:42.478Z"
   },
   {
    "duration": 0,
    "start_time": "2022-04-29T15:40:42.493Z"
   },
   {
    "duration": 0,
    "start_time": "2022-04-29T15:40:42.495Z"
   },
   {
    "duration": 0,
    "start_time": "2022-04-29T15:40:42.496Z"
   },
   {
    "duration": 0,
    "start_time": "2022-04-29T15:40:42.497Z"
   },
   {
    "duration": 0,
    "start_time": "2022-04-29T15:40:42.499Z"
   },
   {
    "duration": 0,
    "start_time": "2022-04-29T15:40:42.501Z"
   },
   {
    "duration": 0,
    "start_time": "2022-04-29T15:40:42.506Z"
   },
   {
    "duration": 6,
    "start_time": "2022-04-29T15:41:00.686Z"
   },
   {
    "duration": 267096,
    "start_time": "2022-04-29T15:43:41.451Z"
   },
   {
    "duration": 2136,
    "start_time": "2022-04-29T15:52:02.977Z"
   },
   {
    "duration": 1196,
    "start_time": "2022-04-29T15:52:05.115Z"
   },
   {
    "duration": 179,
    "start_time": "2022-04-29T15:52:06.314Z"
   },
   {
    "duration": 23,
    "start_time": "2022-04-29T15:52:06.496Z"
   },
   {
    "duration": 4,
    "start_time": "2022-04-29T15:52:06.521Z"
   },
   {
    "duration": 496,
    "start_time": "2022-04-29T15:52:06.527Z"
   },
   {
    "duration": 58,
    "start_time": "2022-04-29T15:52:07.025Z"
   },
   {
    "duration": 1588,
    "start_time": "2022-04-29T15:52:07.086Z"
   },
   {
    "duration": 21,
    "start_time": "2022-04-29T15:52:08.677Z"
   },
   {
    "duration": 15,
    "start_time": "2022-04-29T15:52:08.703Z"
   },
   {
    "duration": 76,
    "start_time": "2022-04-29T15:52:08.720Z"
   },
   {
    "duration": 8,
    "start_time": "2022-04-29T15:52:08.798Z"
   },
   {
    "duration": 10,
    "start_time": "2022-04-29T15:52:08.808Z"
   },
   {
    "duration": 7,
    "start_time": "2022-04-29T15:52:08.820Z"
   },
   {
    "duration": 106,
    "start_time": "2022-04-29T15:52:08.829Z"
   },
   {
    "duration": 59,
    "start_time": "2022-04-29T15:52:08.937Z"
   },
   {
    "duration": 9452,
    "start_time": "2022-04-29T15:52:08.998Z"
   },
   {
    "duration": 7,
    "start_time": "2022-04-29T15:52:18.452Z"
   },
   {
    "duration": 13,
    "start_time": "2022-04-29T15:52:18.461Z"
   },
   {
    "duration": 8,
    "start_time": "2022-04-29T15:52:18.493Z"
   },
   {
    "duration": 24,
    "start_time": "2022-04-29T15:52:18.504Z"
   },
   {
    "duration": 87,
    "start_time": "2022-04-29T15:52:18.530Z"
   },
   {
    "duration": 27,
    "start_time": "2022-04-29T15:52:18.619Z"
   },
   {
    "duration": 48,
    "start_time": "2022-04-29T15:52:18.649Z"
   },
   {
    "duration": 23,
    "start_time": "2022-04-29T15:52:18.699Z"
   },
   {
    "duration": 25,
    "start_time": "2022-04-29T15:52:18.724Z"
   },
   {
    "duration": 57,
    "start_time": "2022-04-29T15:52:18.751Z"
   },
   {
    "duration": 33,
    "start_time": "2022-04-29T15:52:18.814Z"
   },
   {
    "duration": 49,
    "start_time": "2022-04-29T15:52:18.850Z"
   },
   {
    "duration": 28,
    "start_time": "2022-04-29T15:52:18.902Z"
   },
   {
    "duration": 31,
    "start_time": "2022-04-29T15:52:18.932Z"
   },
   {
    "duration": 7404,
    "start_time": "2022-04-29T15:52:18.966Z"
   },
   {
    "duration": 427,
    "start_time": "2022-04-29T15:52:26.372Z"
   },
   {
    "duration": 26,
    "start_time": "2022-04-29T15:52:26.801Z"
   },
   {
    "duration": 26,
    "start_time": "2022-04-29T15:52:26.829Z"
   },
   {
    "duration": 2792,
    "start_time": "2022-04-29T15:52:26.857Z"
   },
   {
    "duration": 45,
    "start_time": "2022-04-29T15:52:29.651Z"
   },
   {
    "duration": 1627,
    "start_time": "2022-04-29T15:52:29.699Z"
   },
   {
    "duration": 227,
    "start_time": "2022-04-29T15:52:31.329Z"
   },
   {
    "duration": 455,
    "start_time": "2022-04-29T15:52:31.558Z"
   },
   {
    "duration": 3,
    "start_time": "2022-04-29T15:52:32.016Z"
   },
   {
    "duration": 7,
    "start_time": "2022-04-29T15:52:32.022Z"
   },
   {
    "duration": 17,
    "start_time": "2022-04-29T15:52:32.031Z"
   },
   {
    "duration": 7,
    "start_time": "2022-04-29T15:52:32.051Z"
   },
   {
    "duration": 296,
    "start_time": "2022-04-29T15:52:32.060Z"
   },
   {
    "duration": 4,
    "start_time": "2022-04-29T15:52:32.359Z"
   },
   {
    "duration": 9,
    "start_time": "2022-04-29T15:52:32.365Z"
   },
   {
    "duration": 17,
    "start_time": "2022-04-29T15:52:32.376Z"
   },
   {
    "duration": 299001,
    "start_time": "2022-04-29T15:52:32.395Z"
   },
   {
    "duration": 45002,
    "start_time": "2022-04-29T15:57:31.400Z"
   },
   {
    "duration": 4,
    "start_time": "2022-04-29T15:58:16.404Z"
   },
   {
    "duration": 453408,
    "start_time": "2022-04-29T15:58:16.410Z"
   },
   {
    "duration": 8292,
    "start_time": "2022-04-29T16:05:49.820Z"
   },
   {
    "duration": 1493491,
    "start_time": "2022-04-29T16:05:58.114Z"
   },
   {
    "duration": 32996,
    "start_time": "2022-04-29T16:30:51.607Z"
   },
   {
    "duration": 15,
    "start_time": "2022-04-29T16:31:24.606Z"
   },
   {
    "duration": 0,
    "start_time": "2022-04-29T16:31:24.623Z"
   },
   {
    "duration": 0,
    "start_time": "2022-04-29T16:31:24.625Z"
   },
   {
    "duration": 0,
    "start_time": "2022-04-29T16:31:24.627Z"
   },
   {
    "duration": 0,
    "start_time": "2022-04-29T16:31:24.628Z"
   },
   {
    "duration": 0,
    "start_time": "2022-04-29T16:31:24.630Z"
   },
   {
    "duration": 1875798,
    "start_time": "2022-04-29T16:31:40.399Z"
   },
   {
    "duration": 2046,
    "start_time": "2022-04-29T17:03:50.075Z"
   },
   {
    "duration": 1016,
    "start_time": "2022-04-29T17:03:52.123Z"
   },
   {
    "duration": 178,
    "start_time": "2022-04-29T17:03:53.142Z"
   },
   {
    "duration": 26,
    "start_time": "2022-04-29T17:03:53.323Z"
   },
   {
    "duration": 4,
    "start_time": "2022-04-29T17:03:53.351Z"
   },
   {
    "duration": 405,
    "start_time": "2022-04-29T17:03:53.358Z"
   },
   {
    "duration": 65,
    "start_time": "2022-04-29T17:03:53.765Z"
   },
   {
    "duration": 1342,
    "start_time": "2022-04-29T17:03:53.833Z"
   },
   {
    "duration": 16,
    "start_time": "2022-04-29T17:03:55.178Z"
   },
   {
    "duration": 13,
    "start_time": "2022-04-29T17:03:55.198Z"
   },
   {
    "duration": 78,
    "start_time": "2022-04-29T17:03:55.214Z"
   },
   {
    "duration": 9,
    "start_time": "2022-04-29T17:03:55.295Z"
   },
   {
    "duration": 13,
    "start_time": "2022-04-29T17:03:55.307Z"
   },
   {
    "duration": 8,
    "start_time": "2022-04-29T17:03:55.322Z"
   },
   {
    "duration": 97,
    "start_time": "2022-04-29T17:03:55.333Z"
   },
   {
    "duration": 61,
    "start_time": "2022-04-29T17:03:55.432Z"
   },
   {
    "duration": 9828,
    "start_time": "2022-04-29T17:03:55.495Z"
   },
   {
    "duration": 9,
    "start_time": "2022-04-29T17:04:05.326Z"
   },
   {
    "duration": 8,
    "start_time": "2022-04-29T17:04:05.338Z"
   },
   {
    "duration": 11,
    "start_time": "2022-04-29T17:04:05.348Z"
   },
   {
    "duration": 27,
    "start_time": "2022-04-29T17:04:05.394Z"
   },
   {
    "duration": 95,
    "start_time": "2022-04-29T17:04:05.424Z"
   },
   {
    "duration": 31,
    "start_time": "2022-04-29T17:04:05.521Z"
   },
   {
    "duration": 55,
    "start_time": "2022-04-29T17:04:05.555Z"
   },
   {
    "duration": 24,
    "start_time": "2022-04-29T17:04:05.613Z"
   },
   {
    "duration": 54,
    "start_time": "2022-04-29T17:04:05.640Z"
   },
   {
    "duration": 37,
    "start_time": "2022-04-29T17:04:05.696Z"
   },
   {
    "duration": 61,
    "start_time": "2022-04-29T17:04:05.740Z"
   },
   {
    "duration": 31,
    "start_time": "2022-04-29T17:04:05.803Z"
   },
   {
    "duration": 35,
    "start_time": "2022-04-29T17:04:05.836Z"
   },
   {
    "duration": 28,
    "start_time": "2022-04-29T17:04:05.894Z"
   },
   {
    "duration": 7488,
    "start_time": "2022-04-29T17:04:05.925Z"
   },
   {
    "duration": 427,
    "start_time": "2022-04-29T17:04:13.416Z"
   },
   {
    "duration": 27,
    "start_time": "2022-04-29T17:04:13.846Z"
   },
   {
    "duration": 26,
    "start_time": "2022-04-29T17:04:13.893Z"
   },
   {
    "duration": 2531,
    "start_time": "2022-04-29T17:04:13.921Z"
   },
   {
    "duration": 45,
    "start_time": "2022-04-29T17:04:16.455Z"
   },
   {
    "duration": 1217,
    "start_time": "2022-04-29T17:04:16.502Z"
   },
   {
    "duration": 212,
    "start_time": "2022-04-29T17:04:17.722Z"
   },
   {
    "duration": 445,
    "start_time": "2022-04-29T17:04:17.936Z"
   },
   {
    "duration": 3,
    "start_time": "2022-04-29T17:04:18.383Z"
   },
   {
    "duration": 8,
    "start_time": "2022-04-29T17:04:18.388Z"
   },
   {
    "duration": 13,
    "start_time": "2022-04-29T17:04:18.398Z"
   },
   {
    "duration": 7,
    "start_time": "2022-04-29T17:04:18.413Z"
   },
   {
    "duration": 293,
    "start_time": "2022-04-29T17:04:18.422Z"
   },
   {
    "duration": 5,
    "start_time": "2022-04-29T17:04:18.717Z"
   },
   {
    "duration": 5,
    "start_time": "2022-04-29T17:04:18.725Z"
   },
   {
    "duration": 7,
    "start_time": "2022-04-29T17:04:18.733Z"
   },
   {
    "duration": 310053,
    "start_time": "2022-04-29T17:04:18.742Z"
   },
   {
    "duration": 46451,
    "start_time": "2022-04-29T17:09:28.799Z"
   },
   {
    "duration": 4,
    "start_time": "2022-04-29T17:10:15.253Z"
   },
   {
    "duration": 456987,
    "start_time": "2022-04-29T17:10:15.259Z"
   },
   {
    "duration": 7999,
    "start_time": "2022-04-29T17:17:52.248Z"
   },
   {
    "duration": 1963112,
    "start_time": "2022-04-29T17:18:00.249Z"
   },
   {
    "duration": 166483,
    "start_time": "2022-04-29T17:50:43.363Z"
   },
   {
    "duration": 721027,
    "start_time": "2022-04-29T17:53:29.848Z"
   },
   {
    "duration": 4,
    "start_time": "2022-04-29T18:05:30.877Z"
   },
   {
    "duration": 40,
    "start_time": "2022-04-29T18:05:30.883Z"
   },
   {
    "duration": 169203,
    "start_time": "2022-04-29T18:05:30.925Z"
   },
   {
    "duration": 385,
    "start_time": "2022-04-29T18:08:20.130Z"
   },
   {
    "duration": 189,
    "start_time": "2022-04-29T18:11:21.127Z"
   },
   {
    "duration": 191,
    "start_time": "2022-04-29T18:12:07.765Z"
   },
   {
    "duration": 183,
    "start_time": "2022-04-29T18:12:59.767Z"
   },
   {
    "duration": 200,
    "start_time": "2022-04-29T18:13:20.821Z"
   },
   {
    "duration": 107,
    "start_time": "2022-04-29T18:14:24.243Z"
   },
   {
    "duration": 71474,
    "start_time": "2022-04-29T18:14:41.843Z"
   },
   {
    "duration": 4,
    "start_time": "2022-04-29T18:23:20.289Z"
   },
   {
    "duration": 199,
    "start_time": "2022-04-29T18:23:20.996Z"
   },
   {
    "duration": 179,
    "start_time": "2022-04-29T18:23:22.002Z"
   },
   {
    "duration": 467,
    "start_time": "2022-04-29T18:23:22.762Z"
   },
   {
    "duration": 530,
    "start_time": "2022-04-29T18:23:23.752Z"
   },
   {
    "duration": 10260,
    "start_time": "2022-04-29T18:23:25.489Z"
   },
   {
    "duration": 6,
    "start_time": "2022-04-29T18:23:44.944Z"
   },
   {
    "duration": 235,
    "start_time": "2022-04-29T18:32:17.498Z"
   },
   {
    "duration": 134497,
    "start_time": "2022-04-30T19:15:42.865Z"
   },
   {
    "duration": 698,
    "start_time": "2022-04-30T19:17:57.364Z"
   },
   {
    "duration": 106,
    "start_time": "2022-04-30T19:17:58.064Z"
   },
   {
    "duration": 61,
    "start_time": "2022-04-30T19:17:58.172Z"
   },
   {
    "duration": 4,
    "start_time": "2022-04-30T19:17:58.234Z"
   },
   {
    "duration": 340,
    "start_time": "2022-04-30T19:17:58.239Z"
   },
   {
    "duration": 51,
    "start_time": "2022-04-30T19:17:58.581Z"
   },
   {
    "duration": 820,
    "start_time": "2022-04-30T19:17:58.633Z"
   },
   {
    "duration": 5,
    "start_time": "2022-04-30T19:17:59.455Z"
   },
   {
    "duration": 62,
    "start_time": "2022-04-30T19:17:59.463Z"
   },
   {
    "duration": 36,
    "start_time": "2022-04-30T19:17:59.527Z"
   },
   {
    "duration": 5,
    "start_time": "2022-04-30T19:17:59.565Z"
   },
   {
    "duration": 12,
    "start_time": "2022-04-30T19:17:59.572Z"
   },
   {
    "duration": 40,
    "start_time": "2022-04-30T19:17:59.585Z"
   },
   {
    "duration": 40,
    "start_time": "2022-04-30T19:17:59.627Z"
   },
   {
    "duration": 55,
    "start_time": "2022-04-30T19:17:59.669Z"
   },
   {
    "duration": 6498,
    "start_time": "2022-04-30T19:17:59.725Z"
   },
   {
    "duration": 6,
    "start_time": "2022-04-30T19:18:06.225Z"
   },
   {
    "duration": 7,
    "start_time": "2022-04-30T19:18:06.232Z"
   },
   {
    "duration": 7,
    "start_time": "2022-04-30T19:18:06.240Z"
   },
   {
    "duration": 16,
    "start_time": "2022-04-30T19:18:06.248Z"
   },
   {
    "duration": 71,
    "start_time": "2022-04-30T19:18:06.266Z"
   },
   {
    "duration": 32,
    "start_time": "2022-04-30T19:18:06.339Z"
   },
   {
    "duration": 24,
    "start_time": "2022-04-30T19:18:06.373Z"
   },
   {
    "duration": 32,
    "start_time": "2022-04-30T19:18:06.399Z"
   },
   {
    "duration": 21,
    "start_time": "2022-04-30T19:18:06.432Z"
   },
   {
    "duration": 21,
    "start_time": "2022-04-30T19:18:06.455Z"
   },
   {
    "duration": 45,
    "start_time": "2022-04-30T19:18:06.479Z"
   },
   {
    "duration": 21,
    "start_time": "2022-04-30T19:18:06.526Z"
   },
   {
    "duration": 23,
    "start_time": "2022-04-30T19:18:06.549Z"
   },
   {
    "duration": 20,
    "start_time": "2022-04-30T19:18:06.574Z"
   },
   {
    "duration": 4964,
    "start_time": "2022-04-30T19:18:06.596Z"
   },
   {
    "duration": 271,
    "start_time": "2022-04-30T19:18:11.561Z"
   },
   {
    "duration": 18,
    "start_time": "2022-04-30T19:18:11.833Z"
   },
   {
    "duration": 22,
    "start_time": "2022-04-30T19:18:11.852Z"
   },
   {
    "duration": 1470,
    "start_time": "2022-04-30T19:18:11.876Z"
   },
   {
    "duration": 22,
    "start_time": "2022-04-30T19:20:57.885Z"
   },
   {
    "duration": 74,
    "start_time": "2022-04-30T19:21:15.680Z"
   },
   {
    "duration": 70,
    "start_time": "2022-04-30T19:24:42.535Z"
   },
   {
    "duration": 15,
    "start_time": "2022-04-30T19:24:53.445Z"
   },
   {
    "duration": 65,
    "start_time": "2022-04-30T19:24:57.395Z"
   },
   {
    "duration": 4,
    "start_time": "2022-04-30T19:35:09.733Z"
   },
   {
    "duration": 710,
    "start_time": "2022-04-30T19:35:09.739Z"
   },
   {
    "duration": 112,
    "start_time": "2022-04-30T19:35:10.451Z"
   },
   {
    "duration": 13,
    "start_time": "2022-04-30T19:35:10.565Z"
   },
   {
    "duration": 5,
    "start_time": "2022-04-30T19:35:10.581Z"
   },
   {
    "duration": 210,
    "start_time": "2022-04-30T19:35:10.588Z"
   },
   {
    "duration": 27,
    "start_time": "2022-04-30T19:35:10.800Z"
   },
   {
    "duration": 715,
    "start_time": "2022-04-30T19:35:10.829Z"
   },
   {
    "duration": 5,
    "start_time": "2022-04-30T19:35:11.546Z"
   },
   {
    "duration": 10,
    "start_time": "2022-04-30T19:35:11.552Z"
   },
   {
    "duration": 29,
    "start_time": "2022-04-30T19:35:11.565Z"
   },
   {
    "duration": 28,
    "start_time": "2022-04-30T19:35:11.596Z"
   },
   {
    "duration": 6,
    "start_time": "2022-04-30T19:35:11.625Z"
   },
   {
    "duration": 9,
    "start_time": "2022-04-30T19:35:11.633Z"
   },
   {
    "duration": 28,
    "start_time": "2022-04-30T19:35:11.643Z"
   },
   {
    "duration": 31,
    "start_time": "2022-04-30T19:35:11.672Z"
   },
   {
    "duration": 6140,
    "start_time": "2022-04-30T19:35:11.724Z"
   },
   {
    "duration": 5,
    "start_time": "2022-04-30T19:35:17.865Z"
   },
   {
    "duration": 105,
    "start_time": "2022-04-30T19:35:17.872Z"
   },
   {
    "duration": 5,
    "start_time": "2022-04-30T19:35:17.979Z"
   },
   {
    "duration": 16,
    "start_time": "2022-04-30T19:35:17.986Z"
   },
   {
    "duration": 29,
    "start_time": "2022-04-30T19:35:18.004Z"
   },
   {
    "duration": 19,
    "start_time": "2022-04-30T19:35:18.034Z"
   },
   {
    "duration": 21,
    "start_time": "2022-04-30T19:35:18.055Z"
   },
   {
    "duration": 19,
    "start_time": "2022-04-30T19:35:18.078Z"
   },
   {
    "duration": 35,
    "start_time": "2022-04-30T19:35:18.098Z"
   },
   {
    "duration": 19,
    "start_time": "2022-04-30T19:35:18.135Z"
   },
   {
    "duration": 26,
    "start_time": "2022-04-30T19:35:18.156Z"
   },
   {
    "duration": 41,
    "start_time": "2022-04-30T19:35:18.184Z"
   },
   {
    "duration": 17,
    "start_time": "2022-04-30T19:35:18.226Z"
   },
   {
    "duration": 20,
    "start_time": "2022-04-30T19:35:18.245Z"
   },
   {
    "duration": 4588,
    "start_time": "2022-04-30T19:35:18.266Z"
   },
   {
    "duration": 268,
    "start_time": "2022-04-30T19:35:22.856Z"
   },
   {
    "duration": 18,
    "start_time": "2022-04-30T19:35:23.126Z"
   },
   {
    "duration": 19,
    "start_time": "2022-04-30T19:35:23.145Z"
   },
   {
    "duration": 1443,
    "start_time": "2022-04-30T19:35:23.165Z"
   },
   {
    "duration": 17,
    "start_time": "2022-04-30T19:35:24.610Z"
   },
   {
    "duration": 676,
    "start_time": "2022-04-30T19:35:24.629Z"
   },
   {
    "duration": 196,
    "start_time": "2022-04-30T19:35:25.306Z"
   },
   {
    "duration": 306,
    "start_time": "2022-04-30T19:35:25.503Z"
   },
   {
    "duration": 3,
    "start_time": "2022-04-30T19:35:25.811Z"
   },
   {
    "duration": 12,
    "start_time": "2022-04-30T19:35:25.815Z"
   },
   {
    "duration": 11,
    "start_time": "2022-04-30T19:35:25.829Z"
   },
   {
    "duration": 12,
    "start_time": "2022-04-30T19:35:25.841Z"
   },
   {
    "duration": 175,
    "start_time": "2022-04-30T19:35:25.854Z"
   },
   {
    "duration": 3,
    "start_time": "2022-04-30T19:35:26.031Z"
   },
   {
    "duration": 5,
    "start_time": "2022-04-30T19:35:26.035Z"
   },
   {
    "duration": 5,
    "start_time": "2022-04-30T19:35:26.041Z"
   },
   {
    "duration": 278180,
    "start_time": "2022-04-30T19:35:32.848Z"
   },
   {
    "duration": 47412,
    "start_time": "2022-04-30T19:40:11.031Z"
   },
   {
    "duration": 3,
    "start_time": "2022-04-30T19:48:19.201Z"
   },
   {
    "duration": 4,
    "start_time": "2022-04-30T19:48:46.671Z"
   },
   {
    "duration": 113,
    "start_time": "2022-04-30T20:04:16.951Z"
   },
   {
    "duration": 2514,
    "start_time": "2022-05-01T08:56:30.855Z"
   },
   {
    "duration": 1159,
    "start_time": "2022-05-01T08:56:36.259Z"
   },
   {
    "duration": 212,
    "start_time": "2022-05-01T08:56:39.966Z"
   },
   {
    "duration": 38,
    "start_time": "2022-05-01T08:56:43.777Z"
   },
   {
    "duration": 11,
    "start_time": "2022-05-01T08:56:46.424Z"
   },
   {
    "duration": 579,
    "start_time": "2022-05-01T08:56:47.952Z"
   },
   {
    "duration": 66,
    "start_time": "2022-05-01T08:56:49.975Z"
   },
   {
    "duration": 1744,
    "start_time": "2022-05-01T08:56:51.433Z"
   },
   {
    "duration": 11,
    "start_time": "2022-05-01T08:56:54.563Z"
   },
   {
    "duration": 15,
    "start_time": "2022-05-01T08:56:58.969Z"
   },
   {
    "duration": 77,
    "start_time": "2022-05-01T08:57:02.276Z"
   },
   {
    "duration": 9,
    "start_time": "2022-05-01T08:57:08.451Z"
   },
   {
    "duration": 15,
    "start_time": "2022-05-01T08:57:27.424Z"
   },
   {
    "duration": 10,
    "start_time": "2022-05-01T08:57:34.588Z"
   },
   {
    "duration": 75,
    "start_time": "2022-05-01T08:57:38.292Z"
   },
   {
    "duration": 70,
    "start_time": "2022-05-01T08:57:40.636Z"
   },
   {
    "duration": 12273,
    "start_time": "2022-05-01T08:57:43.625Z"
   },
   {
    "duration": 13,
    "start_time": "2022-05-01T08:57:55.900Z"
   },
   {
    "duration": 1539,
    "start_time": "2022-05-01T09:00:01.992Z"
   },
   {
    "duration": 1329,
    "start_time": "2022-05-01T09:00:17.150Z"
   },
   {
    "duration": 1834,
    "start_time": "2022-05-01T09:00:24.179Z"
   },
   {
    "duration": 801,
    "start_time": "2022-05-01T09:00:40.915Z"
   },
   {
    "duration": 1735,
    "start_time": "2022-05-01T16:20:19.556Z"
   },
   {
    "duration": 880,
    "start_time": "2022-05-01T16:20:21.294Z"
   },
   {
    "duration": 154,
    "start_time": "2022-05-01T16:20:22.176Z"
   },
   {
    "duration": 18,
    "start_time": "2022-05-01T16:20:22.333Z"
   },
   {
    "duration": 4,
    "start_time": "2022-05-01T16:20:22.353Z"
   },
   {
    "duration": 328,
    "start_time": "2022-05-01T16:20:22.359Z"
   },
   {
    "duration": 58,
    "start_time": "2022-05-01T16:20:22.689Z"
   },
   {
    "duration": 983,
    "start_time": "2022-05-01T16:20:22.749Z"
   },
   {
    "duration": 6,
    "start_time": "2022-05-01T16:20:23.734Z"
   },
   {
    "duration": 8,
    "start_time": "2022-05-01T16:20:23.743Z"
   },
   {
    "duration": 58,
    "start_time": "2022-05-01T16:20:23.753Z"
   },
   {
    "duration": 6,
    "start_time": "2022-05-01T16:20:23.813Z"
   },
   {
    "duration": 6,
    "start_time": "2022-05-01T16:20:23.821Z"
   },
   {
    "duration": 6,
    "start_time": "2022-05-01T16:20:23.829Z"
   },
   {
    "duration": 70,
    "start_time": "2022-05-01T16:20:23.837Z"
   },
   {
    "duration": 36,
    "start_time": "2022-05-01T16:20:23.909Z"
   },
   {
    "duration": 6621,
    "start_time": "2022-05-01T16:20:23.946Z"
   },
   {
    "duration": 8,
    "start_time": "2022-05-01T16:20:30.569Z"
   },
   {
    "duration": 433,
    "start_time": "2022-05-01T16:20:30.579Z"
   },
   {
    "duration": 3,
    "start_time": "2022-05-01T16:20:31.014Z"
   },
   {
    "duration": 9,
    "start_time": "2022-05-01T16:20:31.019Z"
   },
   {
    "duration": 20,
    "start_time": "2022-05-01T16:20:31.030Z"
   },
   {
    "duration": 32,
    "start_time": "2022-05-01T16:20:31.052Z"
   },
   {
    "duration": 41,
    "start_time": "2022-05-01T16:20:31.086Z"
   },
   {
    "duration": 26,
    "start_time": "2022-05-01T16:20:31.130Z"
   },
   {
    "duration": 18,
    "start_time": "2022-05-01T16:20:31.158Z"
   },
   {
    "duration": 43,
    "start_time": "2022-05-01T16:20:31.178Z"
   },
   {
    "duration": 22,
    "start_time": "2022-05-01T16:20:31.225Z"
   },
   {
    "duration": 27,
    "start_time": "2022-05-01T16:20:31.249Z"
   },
   {
    "duration": 50,
    "start_time": "2022-05-01T16:20:31.278Z"
   },
   {
    "duration": 22,
    "start_time": "2022-05-01T16:20:31.331Z"
   },
   {
    "duration": 398,
    "start_time": "2022-05-01T16:24:01.099Z"
   },
   {
    "duration": 23,
    "start_time": "2022-05-01T16:24:20.251Z"
   },
   {
    "duration": 395,
    "start_time": "2022-05-01T16:24:41.551Z"
   },
   {
    "duration": 412,
    "start_time": "2022-05-01T16:24:48.671Z"
   },
   {
    "duration": 1469,
    "start_time": "2022-05-01T16:24:58.125Z"
   },
   {
    "duration": 843,
    "start_time": "2022-05-01T16:24:59.597Z"
   },
   {
    "duration": 149,
    "start_time": "2022-05-01T16:25:00.442Z"
   },
   {
    "duration": 22,
    "start_time": "2022-05-01T16:25:00.594Z"
   },
   {
    "duration": 4,
    "start_time": "2022-05-01T16:25:00.618Z"
   },
   {
    "duration": 306,
    "start_time": "2022-05-01T16:25:00.624Z"
   },
   {
    "duration": 44,
    "start_time": "2022-05-01T16:25:00.932Z"
   },
   {
    "duration": 976,
    "start_time": "2022-05-01T16:25:00.978Z"
   },
   {
    "duration": 5,
    "start_time": "2022-05-01T16:25:01.956Z"
   },
   {
    "duration": 10,
    "start_time": "2022-05-01T16:25:01.964Z"
   },
   {
    "duration": 56,
    "start_time": "2022-05-01T16:25:01.976Z"
   },
   {
    "duration": 7,
    "start_time": "2022-05-01T16:25:02.033Z"
   },
   {
    "duration": 15,
    "start_time": "2022-05-01T16:25:02.042Z"
   },
   {
    "duration": 8,
    "start_time": "2022-05-01T16:25:02.059Z"
   },
   {
    "duration": 59,
    "start_time": "2022-05-01T16:25:02.068Z"
   },
   {
    "duration": 36,
    "start_time": "2022-05-01T16:25:02.129Z"
   },
   {
    "duration": 6674,
    "start_time": "2022-05-01T16:25:02.167Z"
   },
   {
    "duration": 6,
    "start_time": "2022-05-01T16:25:08.843Z"
   },
   {
    "duration": 425,
    "start_time": "2022-05-01T16:25:08.851Z"
   },
   {
    "duration": 3,
    "start_time": "2022-05-01T16:25:09.278Z"
   },
   {
    "duration": 5,
    "start_time": "2022-05-01T16:25:09.283Z"
   },
   {
    "duration": 28,
    "start_time": "2022-05-01T16:25:09.289Z"
   },
   {
    "duration": 30,
    "start_time": "2022-05-01T16:25:09.319Z"
   },
   {
    "duration": 22,
    "start_time": "2022-05-01T16:25:09.351Z"
   },
   {
    "duration": 51,
    "start_time": "2022-05-01T16:25:09.375Z"
   },
   {
    "duration": 17,
    "start_time": "2022-05-01T16:25:09.428Z"
   },
   {
    "duration": 22,
    "start_time": "2022-05-01T16:25:09.447Z"
   },
   {
    "duration": 42,
    "start_time": "2022-05-01T16:25:09.473Z"
   },
   {
    "duration": 25,
    "start_time": "2022-05-01T16:25:09.517Z"
   },
   {
    "duration": 24,
    "start_time": "2022-05-01T16:25:09.543Z"
   },
   {
    "duration": 43,
    "start_time": "2022-05-01T16:25:09.569Z"
   },
   {
    "duration": 518,
    "start_time": "2022-05-01T16:25:09.614Z"
   },
   {
    "duration": 0,
    "start_time": "2022-05-01T16:25:10.135Z"
   },
   {
    "duration": 1516,
    "start_time": "2022-05-01T17:01:11.284Z"
   },
   {
    "duration": 868,
    "start_time": "2022-05-01T17:01:12.802Z"
   },
   {
    "duration": 146,
    "start_time": "2022-05-01T17:01:13.672Z"
   },
   {
    "duration": 17,
    "start_time": "2022-05-01T17:01:13.820Z"
   },
   {
    "duration": 4,
    "start_time": "2022-05-01T17:01:13.838Z"
   },
   {
    "duration": 305,
    "start_time": "2022-05-01T17:01:13.843Z"
   },
   {
    "duration": 57,
    "start_time": "2022-05-01T17:01:14.150Z"
   },
   {
    "duration": 939,
    "start_time": "2022-05-01T17:01:14.209Z"
   },
   {
    "duration": 6,
    "start_time": "2022-05-01T17:01:15.149Z"
   },
   {
    "duration": 9,
    "start_time": "2022-05-01T17:01:15.157Z"
   },
   {
    "duration": 57,
    "start_time": "2022-05-01T17:01:15.168Z"
   },
   {
    "duration": 7,
    "start_time": "2022-05-01T17:01:15.227Z"
   },
   {
    "duration": 8,
    "start_time": "2022-05-01T17:01:15.235Z"
   },
   {
    "duration": 7,
    "start_time": "2022-05-01T17:01:15.244Z"
   },
   {
    "duration": 69,
    "start_time": "2022-05-01T17:01:15.252Z"
   },
   {
    "duration": 36,
    "start_time": "2022-05-01T17:01:15.323Z"
   },
   {
    "duration": 6600,
    "start_time": "2022-05-01T17:01:15.361Z"
   },
   {
    "duration": 6,
    "start_time": "2022-05-01T17:01:21.962Z"
   },
   {
    "duration": 434,
    "start_time": "2022-05-01T17:01:21.970Z"
   },
   {
    "duration": 3,
    "start_time": "2022-05-01T17:01:22.406Z"
   },
   {
    "duration": 6,
    "start_time": "2022-05-01T17:01:22.410Z"
   },
   {
    "duration": 18,
    "start_time": "2022-05-01T17:01:22.417Z"
   },
   {
    "duration": 30,
    "start_time": "2022-05-01T17:01:22.436Z"
   },
   {
    "duration": 48,
    "start_time": "2022-05-01T17:01:22.468Z"
   },
   {
    "duration": 27,
    "start_time": "2022-05-01T17:01:22.517Z"
   },
   {
    "duration": 17,
    "start_time": "2022-05-01T17:01:22.545Z"
   },
   {
    "duration": 43,
    "start_time": "2022-05-01T17:01:22.564Z"
   },
   {
    "duration": 21,
    "start_time": "2022-05-01T17:01:22.611Z"
   },
   {
    "duration": 25,
    "start_time": "2022-05-01T17:01:22.634Z"
   },
   {
    "duration": 49,
    "start_time": "2022-05-01T17:01:22.660Z"
   },
   {
    "duration": 23,
    "start_time": "2022-05-01T17:01:22.711Z"
   },
   {
    "duration": 501,
    "start_time": "2022-05-01T17:01:22.736Z"
   },
   {
    "duration": 0,
    "start_time": "2022-05-01T17:01:23.239Z"
   },
   {
    "duration": 25,
    "start_time": "2022-05-01T17:02:03.709Z"
   },
   {
    "duration": 384,
    "start_time": "2022-05-01T17:02:22.240Z"
   },
   {
    "duration": 1603,
    "start_time": "2022-05-01T17:07:13.687Z"
   },
   {
    "duration": 5,
    "start_time": "2022-05-01T17:07:16.273Z"
   },
   {
    "duration": 876,
    "start_time": "2022-05-01T17:07:18.732Z"
   },
   {
    "duration": 144,
    "start_time": "2022-05-01T17:07:21.271Z"
   },
   {
    "duration": 18,
    "start_time": "2022-05-01T17:07:23.574Z"
   },
   {
    "duration": 3,
    "start_time": "2022-05-01T17:07:26.029Z"
   },
   {
    "duration": 271,
    "start_time": "2022-05-01T17:07:27.930Z"
   },
   {
    "duration": 45,
    "start_time": "2022-05-01T17:07:29.847Z"
   },
   {
    "duration": 884,
    "start_time": "2022-05-01T17:07:31.717Z"
   },
   {
    "duration": 6,
    "start_time": "2022-05-01T17:07:34.223Z"
   },
   {
    "duration": 9,
    "start_time": "2022-05-01T17:07:37.884Z"
   },
   {
    "duration": 33,
    "start_time": "2022-05-01T17:07:39.533Z"
   },
   {
    "duration": 7,
    "start_time": "2022-05-01T17:07:42.191Z"
   },
   {
    "duration": 7,
    "start_time": "2022-05-01T17:07:44.293Z"
   },
   {
    "duration": 5,
    "start_time": "2022-05-01T17:07:47.646Z"
   },
   {
    "duration": 39,
    "start_time": "2022-05-01T17:07:49.079Z"
   },
   {
    "duration": 36,
    "start_time": "2022-05-01T17:07:50.189Z"
   },
   {
    "duration": 6429,
    "start_time": "2022-05-01T17:07:51.570Z"
   },
   {
    "duration": 6,
    "start_time": "2022-05-01T17:08:01.954Z"
   },
   {
    "duration": 429,
    "start_time": "2022-05-01T17:08:04.132Z"
   },
   {
    "duration": 17,
    "start_time": "2022-05-01T17:08:19.456Z"
   },
   {
    "duration": 30,
    "start_time": "2022-05-01T17:08:21.501Z"
   },
   {
    "duration": 23,
    "start_time": "2022-05-01T17:08:22.841Z"
   },
   {
    "duration": 25,
    "start_time": "2022-05-01T17:08:25.604Z"
   },
   {
    "duration": 16,
    "start_time": "2022-05-01T17:08:30.649Z"
   },
   {
    "duration": 20,
    "start_time": "2022-05-01T17:08:31.837Z"
   },
   {
    "duration": 21,
    "start_time": "2022-05-01T17:08:32.972Z"
   },
   {
    "duration": 25,
    "start_time": "2022-05-01T17:08:35.039Z"
   },
   {
    "duration": 24,
    "start_time": "2022-05-01T17:08:36.993Z"
   },
   {
    "duration": 21,
    "start_time": "2022-05-01T17:08:39.555Z"
   },
   {
    "duration": 544,
    "start_time": "2022-05-01T17:08:49.223Z"
   },
   {
    "duration": 22,
    "start_time": "2022-05-01T17:12:47.257Z"
   },
   {
    "duration": 22,
    "start_time": "2022-05-01T17:12:52.011Z"
   },
   {
    "duration": 22,
    "start_time": "2022-05-01T17:12:53.055Z"
   },
   {
    "duration": 374,
    "start_time": "2022-05-01T17:12:54.086Z"
   },
   {
    "duration": 21,
    "start_time": "2022-05-01T17:13:42.717Z"
   },
   {
    "duration": 22,
    "start_time": "2022-05-01T17:13:45.389Z"
   },
   {
    "duration": 1686,
    "start_time": "2022-05-01T17:14:14.115Z"
   },
   {
    "duration": 838,
    "start_time": "2022-05-01T17:14:15.803Z"
   },
   {
    "duration": 136,
    "start_time": "2022-05-01T17:14:16.643Z"
   },
   {
    "duration": 35,
    "start_time": "2022-05-01T17:14:16.783Z"
   },
   {
    "duration": 4,
    "start_time": "2022-05-01T17:14:16.820Z"
   },
   {
    "duration": 301,
    "start_time": "2022-05-01T17:14:16.826Z"
   },
   {
    "duration": 46,
    "start_time": "2022-05-01T17:14:17.129Z"
   },
   {
    "duration": 958,
    "start_time": "2022-05-01T17:14:17.177Z"
   },
   {
    "duration": 5,
    "start_time": "2022-05-01T17:14:18.137Z"
   },
   {
    "duration": 8,
    "start_time": "2022-05-01T17:14:18.145Z"
   },
   {
    "duration": 52,
    "start_time": "2022-05-01T17:14:18.155Z"
   },
   {
    "duration": 7,
    "start_time": "2022-05-01T17:14:18.209Z"
   },
   {
    "duration": 8,
    "start_time": "2022-05-01T17:14:18.218Z"
   },
   {
    "duration": 8,
    "start_time": "2022-05-01T17:14:18.228Z"
   },
   {
    "duration": 69,
    "start_time": "2022-05-01T17:14:18.239Z"
   },
   {
    "duration": 39,
    "start_time": "2022-05-01T17:14:18.309Z"
   },
   {
    "duration": 6644,
    "start_time": "2022-05-01T17:14:18.350Z"
   },
   {
    "duration": 11,
    "start_time": "2022-05-01T17:14:24.996Z"
   },
   {
    "duration": 448,
    "start_time": "2022-05-01T17:14:25.009Z"
   },
   {
    "duration": 3,
    "start_time": "2022-05-01T17:14:25.459Z"
   },
   {
    "duration": 6,
    "start_time": "2022-05-01T17:14:25.464Z"
   },
   {
    "duration": 17,
    "start_time": "2022-05-01T17:14:25.471Z"
   },
   {
    "duration": 43,
    "start_time": "2022-05-01T17:14:25.490Z"
   },
   {
    "duration": 21,
    "start_time": "2022-05-01T17:14:25.535Z"
   },
   {
    "duration": 24,
    "start_time": "2022-05-01T17:14:25.558Z"
   },
   {
    "duration": 33,
    "start_time": "2022-05-01T17:14:25.584Z"
   },
   {
    "duration": 22,
    "start_time": "2022-05-01T17:14:25.618Z"
   },
   {
    "duration": 21,
    "start_time": "2022-05-01T17:14:25.643Z"
   },
   {
    "duration": 49,
    "start_time": "2022-05-01T17:14:25.665Z"
   },
   {
    "duration": 24,
    "start_time": "2022-05-01T17:14:25.716Z"
   },
   {
    "duration": 24,
    "start_time": "2022-05-01T17:14:25.742Z"
   },
   {
    "duration": 501,
    "start_time": "2022-05-01T17:14:25.767Z"
   },
   {
    "duration": 431,
    "start_time": "2022-05-01T17:15:23.091Z"
   },
   {
    "duration": 226,
    "start_time": "2022-05-01T17:16:10.403Z"
   },
   {
    "duration": 1605,
    "start_time": "2022-05-01T17:16:24.503Z"
   },
   {
    "duration": 813,
    "start_time": "2022-05-01T17:16:26.110Z"
   },
   {
    "duration": 152,
    "start_time": "2022-05-01T17:16:26.925Z"
   },
   {
    "duration": 36,
    "start_time": "2022-05-01T17:16:27.079Z"
   },
   {
    "duration": 4,
    "start_time": "2022-05-01T17:16:27.117Z"
   },
   {
    "duration": 299,
    "start_time": "2022-05-01T17:16:27.123Z"
   },
   {
    "duration": 45,
    "start_time": "2022-05-01T17:16:27.423Z"
   },
   {
    "duration": 930,
    "start_time": "2022-05-01T17:16:27.469Z"
   },
   {
    "duration": 6,
    "start_time": "2022-05-01T17:16:28.401Z"
   },
   {
    "duration": 11,
    "start_time": "2022-05-01T17:16:28.411Z"
   },
   {
    "duration": 30,
    "start_time": "2022-05-01T17:16:28.424Z"
   },
   {
    "duration": 7,
    "start_time": "2022-05-01T17:16:28.456Z"
   },
   {
    "duration": 45,
    "start_time": "2022-05-01T17:16:28.464Z"
   },
   {
    "duration": 6,
    "start_time": "2022-05-01T17:16:28.511Z"
   },
   {
    "duration": 47,
    "start_time": "2022-05-01T17:16:28.520Z"
   },
   {
    "duration": 62,
    "start_time": "2022-05-01T17:16:28.569Z"
   },
   {
    "duration": 6673,
    "start_time": "2022-05-01T17:16:28.633Z"
   },
   {
    "duration": 6,
    "start_time": "2022-05-01T17:16:35.308Z"
   },
   {
    "duration": 451,
    "start_time": "2022-05-01T17:16:35.316Z"
   },
   {
    "duration": 3,
    "start_time": "2022-05-01T17:16:35.768Z"
   },
   {
    "duration": 4,
    "start_time": "2022-05-01T17:16:35.773Z"
   },
   {
    "duration": 34,
    "start_time": "2022-05-01T17:16:35.779Z"
   },
   {
    "duration": 28,
    "start_time": "2022-05-01T17:16:35.815Z"
   },
   {
    "duration": 21,
    "start_time": "2022-05-01T17:16:35.845Z"
   },
   {
    "duration": 45,
    "start_time": "2022-05-01T17:16:35.868Z"
   },
   {
    "duration": 16,
    "start_time": "2022-05-01T17:16:35.914Z"
   },
   {
    "duration": 21,
    "start_time": "2022-05-01T17:16:35.931Z"
   },
   {
    "duration": 21,
    "start_time": "2022-05-01T17:16:35.955Z"
   },
   {
    "duration": 54,
    "start_time": "2022-05-01T17:16:35.977Z"
   },
   {
    "duration": 22,
    "start_time": "2022-05-01T17:16:36.033Z"
   },
   {
    "duration": 23,
    "start_time": "2022-05-01T17:16:36.057Z"
   },
   {
    "duration": 237,
    "start_time": "2022-05-01T17:16:36.082Z"
   },
   {
    "duration": 515,
    "start_time": "2022-05-01T17:16:36.321Z"
   },
   {
    "duration": 24,
    "start_time": "2022-05-01T17:18:08.025Z"
   },
   {
    "duration": 224,
    "start_time": "2022-05-01T17:18:09.117Z"
   },
   {
    "duration": 415,
    "start_time": "2022-05-01T17:18:24.930Z"
   },
   {
    "duration": 15,
    "start_time": "2022-05-01T17:23:26.271Z"
   },
   {
    "duration": 20,
    "start_time": "2022-05-01T17:23:41.259Z"
   },
   {
    "duration": 209,
    "start_time": "2022-05-01T17:24:53.292Z"
   },
   {
    "duration": 1552,
    "start_time": "2022-05-01T17:25:02.361Z"
   },
   {
    "duration": 873,
    "start_time": "2022-05-01T17:25:03.915Z"
   },
   {
    "duration": 142,
    "start_time": "2022-05-01T17:25:04.789Z"
   },
   {
    "duration": 18,
    "start_time": "2022-05-01T17:25:04.933Z"
   },
   {
    "duration": 4,
    "start_time": "2022-05-01T17:25:04.953Z"
   },
   {
    "duration": 317,
    "start_time": "2022-05-01T17:25:04.959Z"
   },
   {
    "duration": 51,
    "start_time": "2022-05-01T17:25:05.277Z"
   },
   {
    "duration": 978,
    "start_time": "2022-05-01T17:25:05.330Z"
   },
   {
    "duration": 7,
    "start_time": "2022-05-01T17:25:06.310Z"
   },
   {
    "duration": 10,
    "start_time": "2022-05-01T17:25:06.321Z"
   },
   {
    "duration": 32,
    "start_time": "2022-05-01T17:25:06.333Z"
   },
   {
    "duration": 40,
    "start_time": "2022-05-01T17:25:06.367Z"
   },
   {
    "duration": 11,
    "start_time": "2022-05-01T17:25:06.409Z"
   },
   {
    "duration": 6,
    "start_time": "2022-05-01T17:25:06.422Z"
   },
   {
    "duration": 77,
    "start_time": "2022-05-01T17:25:06.430Z"
   },
   {
    "duration": 57,
    "start_time": "2022-05-01T17:25:06.509Z"
   },
   {
    "duration": 6938,
    "start_time": "2022-05-01T17:25:06.569Z"
   },
   {
    "duration": 6,
    "start_time": "2022-05-01T17:25:13.509Z"
   },
   {
    "duration": 444,
    "start_time": "2022-05-01T17:25:13.517Z"
   },
   {
    "duration": 2,
    "start_time": "2022-05-01T17:25:13.963Z"
   },
   {
    "duration": 10,
    "start_time": "2022-05-01T17:25:13.967Z"
   },
   {
    "duration": 29,
    "start_time": "2022-05-01T17:25:13.979Z"
   },
   {
    "duration": 34,
    "start_time": "2022-05-01T17:25:14.010Z"
   },
   {
    "duration": 25,
    "start_time": "2022-05-01T17:25:14.045Z"
   },
   {
    "duration": 50,
    "start_time": "2022-05-01T17:25:14.072Z"
   },
   {
    "duration": 17,
    "start_time": "2022-05-01T17:25:14.124Z"
   },
   {
    "duration": 22,
    "start_time": "2022-05-01T17:25:14.143Z"
   },
   {
    "duration": 48,
    "start_time": "2022-05-01T17:25:14.169Z"
   },
   {
    "duration": 25,
    "start_time": "2022-05-01T17:25:14.218Z"
   },
   {
    "duration": 25,
    "start_time": "2022-05-01T17:25:14.245Z"
   },
   {
    "duration": 52,
    "start_time": "2022-05-01T17:25:14.272Z"
   },
   {
    "duration": 24,
    "start_time": "2022-05-01T17:25:14.326Z"
   },
   {
    "duration": 240,
    "start_time": "2022-05-01T17:25:14.352Z"
   },
   {
    "duration": 440,
    "start_time": "2022-05-01T17:25:14.594Z"
   },
   {
    "duration": 15,
    "start_time": "2022-05-01T17:25:15.036Z"
   },
   {
    "duration": 1913,
    "start_time": "2022-05-01T17:25:36.077Z"
   },
   {
    "duration": 1495,
    "start_time": "2022-05-01T17:25:50.896Z"
   },
   {
    "duration": 836,
    "start_time": "2022-05-01T17:25:52.393Z"
   },
   {
    "duration": 135,
    "start_time": "2022-05-01T17:25:53.231Z"
   },
   {
    "duration": 18,
    "start_time": "2022-05-01T17:25:53.368Z"
   },
   {
    "duration": 4,
    "start_time": "2022-05-01T17:25:53.408Z"
   },
   {
    "duration": 342,
    "start_time": "2022-05-01T17:25:53.414Z"
   },
   {
    "duration": 41,
    "start_time": "2022-05-01T17:25:53.758Z"
   },
   {
    "duration": 924,
    "start_time": "2022-05-01T17:25:53.808Z"
   },
   {
    "duration": 5,
    "start_time": "2022-05-01T17:25:54.734Z"
   },
   {
    "duration": 8,
    "start_time": "2022-05-01T17:25:54.742Z"
   },
   {
    "duration": 30,
    "start_time": "2022-05-01T17:25:54.751Z"
   },
   {
    "duration": 7,
    "start_time": "2022-05-01T17:25:54.808Z"
   },
   {
    "duration": 10,
    "start_time": "2022-05-01T17:25:54.817Z"
   },
   {
    "duration": 7,
    "start_time": "2022-05-01T17:25:54.829Z"
   },
   {
    "duration": 81,
    "start_time": "2022-05-01T17:25:54.839Z"
   },
   {
    "duration": 42,
    "start_time": "2022-05-01T17:25:54.922Z"
   },
   {
    "duration": 6551,
    "start_time": "2022-05-01T17:25:54.965Z"
   },
   {
    "duration": 6,
    "start_time": "2022-05-01T17:26:01.518Z"
   },
   {
    "duration": 433,
    "start_time": "2022-05-01T17:26:01.525Z"
   },
   {
    "duration": 2,
    "start_time": "2022-05-01T17:26:01.960Z"
   },
   {
    "duration": 5,
    "start_time": "2022-05-01T17:26:01.965Z"
   },
   {
    "duration": 36,
    "start_time": "2022-05-01T17:26:01.971Z"
   },
   {
    "duration": 29,
    "start_time": "2022-05-01T17:26:02.009Z"
   },
   {
    "duration": 21,
    "start_time": "2022-05-01T17:26:02.040Z"
   },
   {
    "duration": 50,
    "start_time": "2022-05-01T17:26:02.063Z"
   },
   {
    "duration": 17,
    "start_time": "2022-05-01T17:26:02.114Z"
   },
   {
    "duration": 22,
    "start_time": "2022-05-01T17:26:02.132Z"
   },
   {
    "duration": 21,
    "start_time": "2022-05-01T17:26:02.157Z"
   },
   {
    "duration": 25,
    "start_time": "2022-05-01T17:26:02.206Z"
   },
   {
    "duration": 23,
    "start_time": "2022-05-01T17:26:02.232Z"
   },
   {
    "duration": 23,
    "start_time": "2022-05-01T17:26:02.257Z"
   },
   {
    "duration": 22,
    "start_time": "2022-05-01T17:26:02.308Z"
   },
   {
    "duration": 1514,
    "start_time": "2022-05-01T17:26:02.331Z"
   },
   {
    "duration": 16,
    "start_time": "2022-05-01T17:26:03.848Z"
   },
   {
    "duration": 1905,
    "start_time": "2022-05-01T17:26:42.928Z"
   },
   {
    "duration": 401,
    "start_time": "2022-05-01T17:26:55.309Z"
   },
   {
    "duration": 1542,
    "start_time": "2022-05-01T17:27:03.791Z"
   },
   {
    "duration": 862,
    "start_time": "2022-05-01T17:27:05.335Z"
   },
   {
    "duration": 151,
    "start_time": "2022-05-01T17:27:06.199Z"
   },
   {
    "duration": 18,
    "start_time": "2022-05-01T17:27:06.353Z"
   },
   {
    "duration": 3,
    "start_time": "2022-05-01T17:27:06.373Z"
   },
   {
    "duration": 324,
    "start_time": "2022-05-01T17:27:06.378Z"
   },
   {
    "duration": 49,
    "start_time": "2022-05-01T17:27:06.704Z"
   },
   {
    "duration": 966,
    "start_time": "2022-05-01T17:27:06.755Z"
   },
   {
    "duration": 5,
    "start_time": "2022-05-01T17:27:07.723Z"
   },
   {
    "duration": 9,
    "start_time": "2022-05-01T17:27:07.731Z"
   },
   {
    "duration": 32,
    "start_time": "2022-05-01T17:27:07.741Z"
   },
   {
    "duration": 36,
    "start_time": "2022-05-01T17:27:07.775Z"
   },
   {
    "duration": 8,
    "start_time": "2022-05-01T17:27:07.812Z"
   },
   {
    "duration": 7,
    "start_time": "2022-05-01T17:27:07.821Z"
   },
   {
    "duration": 39,
    "start_time": "2022-05-01T17:27:07.830Z"
   },
   {
    "duration": 69,
    "start_time": "2022-05-01T17:27:07.871Z"
   },
   {
    "duration": 6571,
    "start_time": "2022-05-01T17:27:07.942Z"
   },
   {
    "duration": 6,
    "start_time": "2022-05-01T17:27:14.515Z"
   },
   {
    "duration": 439,
    "start_time": "2022-05-01T17:27:14.523Z"
   },
   {
    "duration": 3,
    "start_time": "2022-05-01T17:27:14.964Z"
   },
   {
    "duration": 4,
    "start_time": "2022-05-01T17:27:14.969Z"
   },
   {
    "duration": 40,
    "start_time": "2022-05-01T17:27:14.974Z"
   },
   {
    "duration": 37,
    "start_time": "2022-05-01T17:27:15.016Z"
   },
   {
    "duration": 23,
    "start_time": "2022-05-01T17:27:15.055Z"
   },
   {
    "duration": 45,
    "start_time": "2022-05-01T17:27:15.080Z"
   },
   {
    "duration": 17,
    "start_time": "2022-05-01T17:27:15.127Z"
   },
   {
    "duration": 21,
    "start_time": "2022-05-01T17:27:15.146Z"
   },
   {
    "duration": 48,
    "start_time": "2022-05-01T17:27:15.171Z"
   },
   {
    "duration": 27,
    "start_time": "2022-05-01T17:27:15.221Z"
   },
   {
    "duration": 24,
    "start_time": "2022-05-01T17:27:15.249Z"
   },
   {
    "duration": 49,
    "start_time": "2022-05-01T17:27:15.275Z"
   },
   {
    "duration": 31,
    "start_time": "2022-05-01T17:27:15.327Z"
   },
   {
    "duration": 471,
    "start_time": "2022-05-01T17:27:15.359Z"
   },
   {
    "duration": 17,
    "start_time": "2022-05-01T17:27:15.832Z"
   },
   {
    "duration": 5534,
    "start_time": "2022-05-01T17:27:25.862Z"
   },
   {
    "duration": 175,
    "start_time": "2022-05-01T17:34:17.801Z"
   },
   {
    "duration": 168,
    "start_time": "2022-05-01T17:34:24.292Z"
   },
   {
    "duration": 155,
    "start_time": "2022-05-01T17:34:30.106Z"
   },
   {
    "duration": 173,
    "start_time": "2022-05-01T17:34:41.989Z"
   },
   {
    "duration": 177,
    "start_time": "2022-05-01T17:37:16.292Z"
   },
   {
    "duration": 5,
    "start_time": "2022-05-01T17:38:55.950Z"
   },
   {
    "duration": 6,
    "start_time": "2022-05-01T17:44:46.818Z"
   },
   {
    "duration": 1149,
    "start_time": "2022-05-01T17:44:48.496Z"
   },
   {
    "duration": 276,
    "start_time": "2022-05-01T17:44:50.671Z"
   },
   {
    "duration": 22,
    "start_time": "2022-05-01T17:44:54.189Z"
   },
   {
    "duration": 5,
    "start_time": "2022-05-01T17:44:57.046Z"
   },
   {
    "duration": 367,
    "start_time": "2022-05-01T17:44:58.322Z"
   },
   {
    "duration": 22,
    "start_time": "2022-05-01T17:45:00.060Z"
   },
   {
    "duration": 892,
    "start_time": "2022-05-01T17:45:01.552Z"
   },
   {
    "duration": 8,
    "start_time": "2022-05-01T17:45:04.548Z"
   },
   {
    "duration": 204,
    "start_time": "2022-05-01T17:45:06.112Z"
   },
   {
    "duration": 1579,
    "start_time": "2022-05-01T17:45:20.821Z"
   },
   {
    "duration": 909,
    "start_time": "2022-05-01T17:45:22.403Z"
   },
   {
    "duration": 144,
    "start_time": "2022-05-01T17:45:23.314Z"
   },
   {
    "duration": 18,
    "start_time": "2022-05-01T17:45:23.460Z"
   },
   {
    "duration": 4,
    "start_time": "2022-05-01T17:45:23.480Z"
   },
   {
    "duration": 322,
    "start_time": "2022-05-01T17:45:23.508Z"
   },
   {
    "duration": 46,
    "start_time": "2022-05-01T17:45:23.834Z"
   },
   {
    "duration": 986,
    "start_time": "2022-05-01T17:45:23.882Z"
   },
   {
    "duration": 6,
    "start_time": "2022-05-01T17:45:24.870Z"
   },
   {
    "duration": 213,
    "start_time": "2022-05-01T17:45:24.880Z"
   },
   {
    "duration": 4,
    "start_time": "2022-05-01T17:45:25.094Z"
   },
   {
    "duration": 129,
    "start_time": "2022-05-01T17:45:25.108Z"
   },
   {
    "duration": 0,
    "start_time": "2022-05-01T17:45:25.240Z"
   },
   {
    "duration": 0,
    "start_time": "2022-05-01T17:45:25.242Z"
   },
   {
    "duration": 0,
    "start_time": "2022-05-01T17:45:25.243Z"
   },
   {
    "duration": 1,
    "start_time": "2022-05-01T17:45:25.244Z"
   },
   {
    "duration": 0,
    "start_time": "2022-05-01T17:45:25.246Z"
   },
   {
    "duration": 0,
    "start_time": "2022-05-01T17:45:25.247Z"
   },
   {
    "duration": 0,
    "start_time": "2022-05-01T17:45:25.248Z"
   },
   {
    "duration": 0,
    "start_time": "2022-05-01T17:45:25.250Z"
   },
   {
    "duration": 0,
    "start_time": "2022-05-01T17:45:25.251Z"
   },
   {
    "duration": 0,
    "start_time": "2022-05-01T17:45:25.253Z"
   },
   {
    "duration": 0,
    "start_time": "2022-05-01T17:45:25.254Z"
   },
   {
    "duration": 0,
    "start_time": "2022-05-01T17:45:25.255Z"
   },
   {
    "duration": 0,
    "start_time": "2022-05-01T17:45:25.256Z"
   },
   {
    "duration": 0,
    "start_time": "2022-05-01T17:45:25.258Z"
   },
   {
    "duration": 0,
    "start_time": "2022-05-01T17:45:25.260Z"
   },
   {
    "duration": 0,
    "start_time": "2022-05-01T17:45:25.261Z"
   },
   {
    "duration": 0,
    "start_time": "2022-05-01T17:45:25.262Z"
   },
   {
    "duration": 0,
    "start_time": "2022-05-01T17:45:25.264Z"
   },
   {
    "duration": 0,
    "start_time": "2022-05-01T17:45:25.265Z"
   },
   {
    "duration": 0,
    "start_time": "2022-05-01T17:45:25.266Z"
   },
   {
    "duration": 0,
    "start_time": "2022-05-01T17:45:25.308Z"
   },
   {
    "duration": 0,
    "start_time": "2022-05-01T17:45:25.309Z"
   },
   {
    "duration": 0,
    "start_time": "2022-05-01T17:45:25.310Z"
   },
   {
    "duration": 0,
    "start_time": "2022-05-01T17:45:25.312Z"
   },
   {
    "duration": 0,
    "start_time": "2022-05-01T17:45:25.313Z"
   },
   {
    "duration": 0,
    "start_time": "2022-05-01T17:45:25.315Z"
   },
   {
    "duration": 0,
    "start_time": "2022-05-01T17:45:25.316Z"
   },
   {
    "duration": 15,
    "start_time": "2022-05-01T17:45:43.265Z"
   },
   {
    "duration": 4,
    "start_time": "2022-05-01T17:45:46.293Z"
   },
   {
    "duration": 14,
    "start_time": "2022-05-01T17:46:00.141Z"
   },
   {
    "duration": 42,
    "start_time": "2022-05-01T17:47:24.868Z"
   },
   {
    "duration": 13,
    "start_time": "2022-05-01T17:47:33.141Z"
   },
   {
    "duration": 23,
    "start_time": "2022-05-01T17:47:45.660Z"
   },
   {
    "duration": 22,
    "start_time": "2022-05-01T17:48:08.586Z"
   },
   {
    "duration": 23,
    "start_time": "2022-05-01T17:48:27.587Z"
   },
   {
    "duration": 12,
    "start_time": "2022-05-01T17:48:30.966Z"
   },
   {
    "duration": 13,
    "start_time": "2022-05-01T17:48:36.185Z"
   },
   {
    "duration": 17,
    "start_time": "2022-05-01T17:49:50.171Z"
   },
   {
    "duration": 10,
    "start_time": "2022-05-01T17:50:58.497Z"
   },
   {
    "duration": 252,
    "start_time": "2022-05-01T17:51:13.729Z"
   },
   {
    "duration": 169,
    "start_time": "2022-05-01T17:51:17.371Z"
   },
   {
    "duration": 1732,
    "start_time": "2022-05-01T17:52:15.676Z"
   },
   {
    "duration": 1061,
    "start_time": "2022-05-01T17:52:17.411Z"
   },
   {
    "duration": 164,
    "start_time": "2022-05-01T17:52:18.478Z"
   },
   {
    "duration": 25,
    "start_time": "2022-05-01T17:52:18.644Z"
   },
   {
    "duration": 4,
    "start_time": "2022-05-01T17:52:18.671Z"
   },
   {
    "duration": 430,
    "start_time": "2022-05-01T17:52:18.677Z"
   },
   {
    "duration": 50,
    "start_time": "2022-05-01T17:52:19.109Z"
   },
   {
    "duration": 1202,
    "start_time": "2022-05-01T17:52:19.162Z"
   },
   {
    "duration": 7,
    "start_time": "2022-05-01T17:52:20.367Z"
   },
   {
    "duration": 235,
    "start_time": "2022-05-01T17:52:20.376Z"
   },
   {
    "duration": 1622,
    "start_time": "2022-05-01T17:53:03.187Z"
   },
   {
    "duration": 918,
    "start_time": "2022-05-01T17:53:04.811Z"
   },
   {
    "duration": 146,
    "start_time": "2022-05-01T17:53:05.731Z"
   },
   {
    "duration": 35,
    "start_time": "2022-05-01T17:53:05.879Z"
   },
   {
    "duration": 4,
    "start_time": "2022-05-01T17:53:05.915Z"
   },
   {
    "duration": 312,
    "start_time": "2022-05-01T17:53:05.921Z"
   },
   {
    "duration": 49,
    "start_time": "2022-05-01T17:53:06.235Z"
   },
   {
    "duration": 1018,
    "start_time": "2022-05-01T17:53:06.286Z"
   },
   {
    "duration": 6,
    "start_time": "2022-05-01T17:53:07.307Z"
   },
   {
    "duration": 192,
    "start_time": "2022-05-01T17:53:07.315Z"
   },
   {
    "duration": 1550,
    "start_time": "2022-05-01T17:54:24.610Z"
   },
   {
    "duration": 873,
    "start_time": "2022-05-01T17:54:26.162Z"
   },
   {
    "duration": 137,
    "start_time": "2022-05-01T17:54:27.037Z"
   },
   {
    "duration": 35,
    "start_time": "2022-05-01T17:54:27.177Z"
   },
   {
    "duration": 4,
    "start_time": "2022-05-01T17:54:27.214Z"
   },
   {
    "duration": 337,
    "start_time": "2022-05-01T17:54:27.220Z"
   },
   {
    "duration": 57,
    "start_time": "2022-05-01T17:54:27.559Z"
   },
   {
    "duration": 981,
    "start_time": "2022-05-01T17:54:27.619Z"
   },
   {
    "duration": 6,
    "start_time": "2022-05-01T17:54:28.602Z"
   },
   {
    "duration": 212,
    "start_time": "2022-05-01T17:54:28.611Z"
   },
   {
    "duration": 1587,
    "start_time": "2022-05-01T17:55:37.790Z"
   },
   {
    "duration": 867,
    "start_time": "2022-05-01T17:55:39.379Z"
   },
   {
    "duration": 155,
    "start_time": "2022-05-01T17:55:40.248Z"
   },
   {
    "duration": 17,
    "start_time": "2022-05-01T17:55:40.408Z"
   },
   {
    "duration": 3,
    "start_time": "2022-05-01T17:55:40.427Z"
   },
   {
    "duration": 318,
    "start_time": "2022-05-01T17:55:40.432Z"
   },
   {
    "duration": 48,
    "start_time": "2022-05-01T17:55:40.752Z"
   },
   {
    "duration": 959,
    "start_time": "2022-05-01T17:55:40.807Z"
   },
   {
    "duration": 5,
    "start_time": "2022-05-01T17:55:41.768Z"
   },
   {
    "duration": 188,
    "start_time": "2022-05-01T17:55:41.776Z"
   },
   {
    "duration": 75524,
    "start_time": "2022-05-01T17:55:41.966Z"
   },
   {
    "duration": 5,
    "start_time": "2022-05-01T17:56:57.513Z"
   },
   {
    "duration": 19,
    "start_time": "2022-05-01T17:56:57.520Z"
   },
   {
    "duration": 4,
    "start_time": "2022-05-01T17:56:57.541Z"
   },
   {
    "duration": 15,
    "start_time": "2022-05-01T17:56:57.547Z"
   },
   {
    "duration": 10,
    "start_time": "2022-05-01T17:56:57.564Z"
   },
   {
    "duration": 41,
    "start_time": "2022-05-01T17:58:07.058Z"
   },
   {
    "duration": 7,
    "start_time": "2022-05-01T17:58:15.710Z"
   },
   {
    "duration": 7,
    "start_time": "2022-05-01T17:58:21.532Z"
   },
   {
    "duration": 7,
    "start_time": "2022-05-01T17:58:43.574Z"
   },
   {
    "duration": 28,
    "start_time": "2022-05-01T17:58:44.684Z"
   },
   {
    "duration": 36,
    "start_time": "2022-05-01T17:58:46.017Z"
   },
   {
    "duration": 12816,
    "start_time": "2022-05-01T17:58:47.019Z"
   },
   {
    "duration": 7,
    "start_time": "2022-05-01T17:58:59.837Z"
   },
   {
    "duration": 430,
    "start_time": "2022-05-01T17:58:59.846Z"
   },
   {
    "duration": 17,
    "start_time": "2022-05-01T17:59:09.253Z"
   },
   {
    "duration": 41,
    "start_time": "2022-05-01T17:59:15.083Z"
   },
   {
    "duration": 23,
    "start_time": "2022-05-01T17:59:18.228Z"
   },
   {
    "duration": 25,
    "start_time": "2022-05-01T17:59:19.883Z"
   },
   {
    "duration": 18,
    "start_time": "2022-05-01T17:59:22.622Z"
   },
   {
    "duration": 21,
    "start_time": "2022-05-01T17:59:23.500Z"
   },
   {
    "duration": 21,
    "start_time": "2022-05-01T17:59:24.423Z"
   },
   {
    "duration": 24,
    "start_time": "2022-05-01T17:59:26.821Z"
   },
   {
    "duration": 23,
    "start_time": "2022-05-01T17:59:29.566Z"
   },
   {
    "duration": 21,
    "start_time": "2022-05-01T17:59:32.788Z"
   },
   {
    "duration": 22,
    "start_time": "2022-05-01T17:59:39.670Z"
   },
   {
    "duration": 20,
    "start_time": "2022-05-01T17:59:46.309Z"
   },
   {
    "duration": 418,
    "start_time": "2022-05-01T17:59:48.453Z"
   },
   {
    "duration": 425,
    "start_time": "2022-05-01T18:00:02.152Z"
   },
   {
    "duration": 15,
    "start_time": "2022-05-01T18:00:16.474Z"
   },
   {
    "duration": 5224,
    "start_time": "2022-05-01T18:00:22.528Z"
   },
   {
    "duration": 328,
    "start_time": "2022-05-01T18:03:44.144Z"
   },
   {
    "duration": 22,
    "start_time": "2022-05-01T18:03:49.295Z"
   },
   {
    "duration": 22,
    "start_time": "2022-05-01T18:03:52.271Z"
   },
   {
    "duration": 1412,
    "start_time": "2022-05-01T18:03:57.140Z"
   },
   {
    "duration": 121,
    "start_time": "2022-05-01T18:04:51.733Z"
   },
   {
    "duration": 236,
    "start_time": "2022-05-01T18:05:46.281Z"
   },
   {
    "duration": 943,
    "start_time": "2022-05-01T18:07:40.826Z"
   },
   {
    "duration": 91,
    "start_time": "2022-05-01T18:08:00.319Z"
   },
   {
    "duration": 73,
    "start_time": "2022-05-01T18:12:08.656Z"
   },
   {
    "duration": 1514,
    "start_time": "2022-05-01T18:14:45.189Z"
   },
   {
    "duration": 858,
    "start_time": "2022-05-01T18:14:46.705Z"
   },
   {
    "duration": 151,
    "start_time": "2022-05-01T18:14:47.564Z"
   },
   {
    "duration": 17,
    "start_time": "2022-05-01T18:14:47.717Z"
   },
   {
    "duration": 4,
    "start_time": "2022-05-01T18:14:47.736Z"
   },
   {
    "duration": 331,
    "start_time": "2022-05-01T18:14:47.741Z"
   },
   {
    "duration": 51,
    "start_time": "2022-05-01T18:14:48.074Z"
   },
   {
    "duration": 941,
    "start_time": "2022-05-01T18:14:48.127Z"
   },
   {
    "duration": 6,
    "start_time": "2022-05-01T18:14:49.070Z"
   },
   {
    "duration": 182,
    "start_time": "2022-05-01T18:14:49.079Z"
   },
   {
    "duration": 3,
    "start_time": "2022-05-01T18:14:49.262Z"
   },
   {
    "duration": 16,
    "start_time": "2022-05-01T18:14:49.267Z"
   },
   {
    "duration": 4,
    "start_time": "2022-05-01T18:14:49.285Z"
   },
   {
    "duration": 27,
    "start_time": "2022-05-01T18:14:49.291Z"
   },
   {
    "duration": 10,
    "start_time": "2022-05-01T18:14:49.320Z"
   },
   {
    "duration": 33,
    "start_time": "2022-05-01T18:14:49.331Z"
   },
   {
    "duration": 7,
    "start_time": "2022-05-01T18:14:49.365Z"
   },
   {
    "duration": 8,
    "start_time": "2022-05-01T18:14:49.406Z"
   },
   {
    "duration": 6,
    "start_time": "2022-05-01T18:14:49.416Z"
   },
   {
    "duration": 42,
    "start_time": "2022-05-01T18:14:49.423Z"
   },
   {
    "duration": 61,
    "start_time": "2022-05-01T18:14:49.467Z"
   },
   {
    "duration": 6567,
    "start_time": "2022-05-01T18:14:49.529Z"
   },
   {
    "duration": 6,
    "start_time": "2022-05-01T18:14:56.097Z"
   },
   {
    "duration": 402,
    "start_time": "2022-05-01T18:14:56.107Z"
   },
   {
    "duration": 17,
    "start_time": "2022-05-01T18:14:56.511Z"
   },
   {
    "duration": 30,
    "start_time": "2022-05-01T18:14:56.530Z"
   },
   {
    "duration": 47,
    "start_time": "2022-05-01T18:14:56.562Z"
   },
   {
    "duration": 24,
    "start_time": "2022-05-01T18:14:56.613Z"
   },
   {
    "duration": 17,
    "start_time": "2022-05-01T18:14:56.638Z"
   },
   {
    "duration": 21,
    "start_time": "2022-05-01T18:14:56.656Z"
   },
   {
    "duration": 45,
    "start_time": "2022-05-01T18:14:56.679Z"
   },
   {
    "duration": 24,
    "start_time": "2022-05-01T18:14:56.725Z"
   },
   {
    "duration": 23,
    "start_time": "2022-05-01T18:14:56.751Z"
   },
   {
    "duration": 62,
    "start_time": "2022-05-01T18:14:56.776Z"
   },
   {
    "duration": 38,
    "start_time": "2022-05-01T18:14:56.840Z"
   },
   {
    "duration": 430,
    "start_time": "2022-05-01T18:14:56.880Z"
   },
   {
    "duration": 15,
    "start_time": "2022-05-01T18:14:57.312Z"
   },
   {
    "duration": 5276,
    "start_time": "2022-05-01T18:14:57.328Z"
   },
   {
    "duration": 327,
    "start_time": "2022-05-01T18:15:02.605Z"
   },
   {
    "duration": 23,
    "start_time": "2022-05-01T18:15:02.934Z"
   },
   {
    "duration": 30,
    "start_time": "2022-05-01T18:15:02.958Z"
   },
   {
    "duration": 1467,
    "start_time": "2022-05-01T18:15:02.990Z"
   },
   {
    "duration": 1098,
    "start_time": "2022-05-01T18:15:04.459Z"
   },
   {
    "duration": 101,
    "start_time": "2022-05-01T18:15:05.559Z"
   },
   {
    "duration": 78,
    "start_time": "2022-05-01T18:15:05.662Z"
   },
   {
    "duration": 69,
    "start_time": "2022-05-01T18:17:16.197Z"
   },
   {
    "duration": 70,
    "start_time": "2022-05-01T18:18:19.388Z"
   },
   {
    "duration": 48489,
    "start_time": "2022-05-01T18:20:14.429Z"
   },
   {
    "duration": 4217,
    "start_time": "2022-05-01T18:24:14.432Z"
   },
   {
    "duration": 32,
    "start_time": "2022-05-01T18:24:39.365Z"
   },
   {
    "duration": 13,
    "start_time": "2022-05-01T18:26:23.095Z"
   },
   {
    "duration": 1526,
    "start_time": "2022-05-01T18:26:44.259Z"
   },
   {
    "duration": 864,
    "start_time": "2022-05-01T18:26:45.787Z"
   },
   {
    "duration": 151,
    "start_time": "2022-05-01T18:26:46.653Z"
   },
   {
    "duration": 18,
    "start_time": "2022-05-01T18:26:46.808Z"
   },
   {
    "duration": 4,
    "start_time": "2022-05-01T18:26:46.828Z"
   },
   {
    "duration": 321,
    "start_time": "2022-05-01T18:26:46.834Z"
   },
   {
    "duration": 57,
    "start_time": "2022-05-01T18:26:47.156Z"
   },
   {
    "duration": 976,
    "start_time": "2022-05-01T18:26:47.215Z"
   },
   {
    "duration": 14,
    "start_time": "2022-05-01T18:26:48.193Z"
   },
   {
    "duration": 181,
    "start_time": "2022-05-01T18:26:48.211Z"
   },
   {
    "duration": 4,
    "start_time": "2022-05-01T18:26:48.394Z"
   },
   {
    "duration": 22,
    "start_time": "2022-05-01T18:26:48.408Z"
   },
   {
    "duration": 12,
    "start_time": "2022-05-01T18:26:48.432Z"
   },
   {
    "duration": 15,
    "start_time": "2022-05-01T18:26:48.446Z"
   },
   {
    "duration": 11,
    "start_time": "2022-05-01T18:26:48.462Z"
   },
   {
    "duration": 57,
    "start_time": "2022-05-01T18:26:48.474Z"
   },
   {
    "duration": 8,
    "start_time": "2022-05-01T18:26:48.533Z"
   },
   {
    "duration": 8,
    "start_time": "2022-05-01T18:26:48.543Z"
   },
   {
    "duration": 7,
    "start_time": "2022-05-01T18:26:48.553Z"
   },
   {
    "duration": 71,
    "start_time": "2022-05-01T18:26:48.562Z"
   },
   {
    "duration": 38,
    "start_time": "2022-05-01T18:26:48.635Z"
   },
   {
    "duration": 6733,
    "start_time": "2022-05-01T18:26:48.675Z"
   },
   {
    "duration": 6,
    "start_time": "2022-05-01T18:26:55.410Z"
   },
   {
    "duration": 430,
    "start_time": "2022-05-01T18:26:55.417Z"
   },
   {
    "duration": 16,
    "start_time": "2022-05-01T18:26:55.849Z"
   },
   {
    "duration": 42,
    "start_time": "2022-05-01T18:26:55.866Z"
   },
   {
    "duration": 23,
    "start_time": "2022-05-01T18:26:55.909Z"
   },
   {
    "duration": 25,
    "start_time": "2022-05-01T18:26:55.935Z"
   },
   {
    "duration": 18,
    "start_time": "2022-05-01T18:26:55.961Z"
   },
   {
    "duration": 45,
    "start_time": "2022-05-01T18:26:55.981Z"
   },
   {
    "duration": 20,
    "start_time": "2022-05-01T18:26:56.027Z"
   },
   {
    "duration": 23,
    "start_time": "2022-05-01T18:26:56.049Z"
   },
   {
    "duration": 43,
    "start_time": "2022-05-01T18:26:56.074Z"
   },
   {
    "duration": 21,
    "start_time": "2022-05-01T18:26:56.119Z"
   },
   {
    "duration": 22,
    "start_time": "2022-05-01T18:26:56.142Z"
   },
   {
    "duration": 437,
    "start_time": "2022-05-01T18:26:56.166Z"
   },
   {
    "duration": 16,
    "start_time": "2022-05-01T18:26:56.605Z"
   },
   {
    "duration": 5276,
    "start_time": "2022-05-01T18:26:56.623Z"
   },
   {
    "duration": 328,
    "start_time": "2022-05-01T18:27:01.901Z"
   },
   {
    "duration": 22,
    "start_time": "2022-05-01T18:27:02.231Z"
   },
   {
    "duration": 23,
    "start_time": "2022-05-01T18:27:02.255Z"
   },
   {
    "duration": 1497,
    "start_time": "2022-05-01T18:27:02.280Z"
   },
   {
    "duration": 1116,
    "start_time": "2022-05-01T18:27:03.779Z"
   },
   {
    "duration": 109,
    "start_time": "2022-05-01T18:27:04.898Z"
   },
   {
    "duration": 146,
    "start_time": "2022-05-01T18:27:05.009Z"
   },
   {
    "duration": 9,
    "start_time": "2022-05-01T18:27:37.119Z"
   },
   {
    "duration": 68,
    "start_time": "2022-05-01T18:27:44.910Z"
   },
   {
    "duration": 19,
    "start_time": "2022-05-01T18:30:52.540Z"
   },
   {
    "duration": 778,
    "start_time": "2022-05-01T18:31:05.600Z"
   },
   {
    "duration": 199,
    "start_time": "2022-05-01T18:31:08.740Z"
   },
   {
    "duration": 325,
    "start_time": "2022-05-01T18:31:14.448Z"
   },
   {
    "duration": 3,
    "start_time": "2022-05-01T18:31:19.926Z"
   },
   {
    "duration": 3,
    "start_time": "2022-05-01T18:31:24.117Z"
   },
   {
    "duration": 3,
    "start_time": "2022-05-01T18:31:30.899Z"
   },
   {
    "duration": 21,
    "start_time": "2022-05-01T18:31:36.650Z"
   },
   {
    "duration": 10,
    "start_time": "2022-05-01T18:31:47.098Z"
   },
   {
    "duration": 703,
    "start_time": "2022-05-01T18:31:50.967Z"
   },
   {
    "duration": 200,
    "start_time": "2022-05-01T18:31:52.172Z"
   },
   {
    "duration": 308,
    "start_time": "2022-05-01T18:31:53.860Z"
   },
   {
    "duration": 2,
    "start_time": "2022-05-01T18:31:55.047Z"
   },
   {
    "duration": 3,
    "start_time": "2022-05-01T18:31:55.438Z"
   },
   {
    "duration": 3,
    "start_time": "2022-05-01T18:31:55.976Z"
   },
   {
    "duration": 13,
    "start_time": "2022-05-01T18:31:59.049Z"
   },
   {
    "duration": 163,
    "start_time": "2022-05-01T18:32:24.859Z"
   },
   {
    "duration": 3,
    "start_time": "2022-05-01T18:32:28.154Z"
   },
   {
    "duration": 3,
    "start_time": "2022-05-01T18:32:31.058Z"
   },
   {
    "duration": 2,
    "start_time": "2022-05-01T18:32:32.583Z"
   },
   {
    "duration": 84,
    "start_time": "2022-05-01T18:34:32.938Z"
   },
   {
    "duration": 4,
    "start_time": "2022-05-01T18:52:05.812Z"
   },
   {
    "duration": 2,
    "start_time": "2022-05-01T18:56:40.736Z"
   },
   {
    "duration": 11,
    "start_time": "2022-05-01T19:03:30.465Z"
   },
   {
    "duration": 13,
    "start_time": "2022-05-01T19:03:53.626Z"
   },
   {
    "duration": 392475,
    "start_time": "2022-05-01T19:04:02.298Z"
   },
   {
    "duration": 11,
    "start_time": "2022-05-01T19:15:35.557Z"
   },
   {
    "duration": 1561,
    "start_time": "2022-05-01T19:15:45.528Z"
   },
   {
    "duration": 869,
    "start_time": "2022-05-01T19:15:47.091Z"
   },
   {
    "duration": 135,
    "start_time": "2022-05-01T19:15:47.962Z"
   },
   {
    "duration": 18,
    "start_time": "2022-05-01T19:15:48.108Z"
   },
   {
    "duration": 4,
    "start_time": "2022-05-01T19:15:48.127Z"
   },
   {
    "duration": 305,
    "start_time": "2022-05-01T19:15:48.132Z"
   },
   {
    "duration": 45,
    "start_time": "2022-05-01T19:15:48.438Z"
   },
   {
    "duration": 926,
    "start_time": "2022-05-01T19:15:48.484Z"
   },
   {
    "duration": 6,
    "start_time": "2022-05-01T19:15:49.411Z"
   },
   {
    "duration": 181,
    "start_time": "2022-05-01T19:15:49.420Z"
   },
   {
    "duration": 3,
    "start_time": "2022-05-01T19:15:49.607Z"
   },
   {
    "duration": 15,
    "start_time": "2022-05-01T19:15:49.612Z"
   },
   {
    "duration": 4,
    "start_time": "2022-05-01T19:15:49.628Z"
   },
   {
    "duration": 12,
    "start_time": "2022-05-01T19:15:49.633Z"
   },
   {
    "duration": 9,
    "start_time": "2022-05-01T19:15:49.647Z"
   },
   {
    "duration": 61,
    "start_time": "2022-05-01T19:15:49.658Z"
   },
   {
    "duration": 6,
    "start_time": "2022-05-01T19:15:49.721Z"
   },
   {
    "duration": 8,
    "start_time": "2022-05-01T19:15:49.729Z"
   },
   {
    "duration": 6,
    "start_time": "2022-05-01T19:15:49.739Z"
   },
   {
    "duration": 101,
    "start_time": "2022-05-01T19:15:49.746Z"
   },
   {
    "duration": 71,
    "start_time": "2022-05-01T19:15:49.859Z"
   },
   {
    "duration": 6378,
    "start_time": "2022-05-01T19:15:49.932Z"
   },
   {
    "duration": 6,
    "start_time": "2022-05-01T19:15:56.313Z"
   },
   {
    "duration": 429,
    "start_time": "2022-05-01T19:15:56.321Z"
   },
   {
    "duration": 17,
    "start_time": "2022-05-01T19:15:56.752Z"
   },
   {
    "duration": 48,
    "start_time": "2022-05-01T19:15:56.771Z"
   },
   {
    "duration": 24,
    "start_time": "2022-05-01T19:15:56.821Z"
   },
   {
    "duration": 25,
    "start_time": "2022-05-01T19:15:56.849Z"
   },
   {
    "duration": 38,
    "start_time": "2022-05-01T19:15:56.875Z"
   },
   {
    "duration": 23,
    "start_time": "2022-05-01T19:15:56.915Z"
   },
   {
    "duration": 25,
    "start_time": "2022-05-01T19:15:56.940Z"
   },
   {
    "duration": 51,
    "start_time": "2022-05-01T19:15:56.967Z"
   },
   {
    "duration": 23,
    "start_time": "2022-05-01T19:15:57.020Z"
   },
   {
    "duration": 20,
    "start_time": "2022-05-01T19:15:57.045Z"
   },
   {
    "duration": 47,
    "start_time": "2022-05-01T19:15:57.067Z"
   },
   {
    "duration": 416,
    "start_time": "2022-05-01T19:15:57.116Z"
   },
   {
    "duration": 15,
    "start_time": "2022-05-01T19:15:57.534Z"
   },
   {
    "duration": 5185,
    "start_time": "2022-05-01T19:15:57.551Z"
   },
   {
    "duration": 333,
    "start_time": "2022-05-01T19:16:02.738Z"
   },
   {
    "duration": 22,
    "start_time": "2022-05-01T19:16:03.074Z"
   },
   {
    "duration": 30,
    "start_time": "2022-05-01T19:16:03.098Z"
   },
   {
    "duration": 1471,
    "start_time": "2022-05-01T19:16:03.131Z"
   },
   {
    "duration": 1094,
    "start_time": "2022-05-01T19:16:04.605Z"
   },
   {
    "duration": 105,
    "start_time": "2022-05-01T19:16:05.707Z"
   },
   {
    "duration": 70,
    "start_time": "2022-05-01T19:16:05.814Z"
   },
   {
    "duration": 35,
    "start_time": "2022-05-01T19:16:05.886Z"
   },
   {
    "duration": 969,
    "start_time": "2022-05-01T19:16:05.923Z"
   },
   {
    "duration": 208,
    "start_time": "2022-05-01T19:16:06.894Z"
   },
   {
    "duration": 331,
    "start_time": "2022-05-01T19:16:07.103Z"
   },
   {
    "duration": 3,
    "start_time": "2022-05-01T19:16:07.436Z"
   },
   {
    "duration": 5,
    "start_time": "2022-05-01T19:16:07.441Z"
   },
   {
    "duration": 4,
    "start_time": "2022-05-01T19:16:07.448Z"
   },
   {
    "duration": 178,
    "start_time": "2022-05-01T19:16:07.454Z"
   },
   {
    "duration": 3,
    "start_time": "2022-05-01T19:16:07.634Z"
   },
   {
    "duration": 5,
    "start_time": "2022-05-01T19:16:07.639Z"
   },
   {
    "duration": 4,
    "start_time": "2022-05-01T19:16:07.646Z"
   },
   {
    "duration": 6,
    "start_time": "2022-05-01T19:16:07.652Z"
   },
   {
    "duration": 377473,
    "start_time": "2022-05-01T19:16:07.659Z"
   },
   {
    "duration": 5,
    "start_time": "2022-05-01T19:22:50.371Z"
   },
   {
    "duration": 6,
    "start_time": "2022-05-01T19:23:02.427Z"
   },
   {
    "duration": 4,
    "start_time": "2022-05-01T19:23:06.902Z"
   },
   {
    "duration": 147628,
    "start_time": "2022-05-01T19:23:26.199Z"
   },
   {
    "duration": 4,
    "start_time": "2022-05-01T19:27:21.951Z"
   },
   {
    "duration": 7,
    "start_time": "2022-05-01T19:28:34.315Z"
   },
   {
    "duration": 4,
    "start_time": "2022-05-01T19:30:17.538Z"
   },
   {
    "duration": 1538,
    "start_time": "2022-05-01T19:31:58.034Z"
   },
   {
    "duration": 890,
    "start_time": "2022-05-01T19:31:59.574Z"
   },
   {
    "duration": 146,
    "start_time": "2022-05-01T19:32:00.466Z"
   },
   {
    "duration": 18,
    "start_time": "2022-05-01T19:32:00.615Z"
   },
   {
    "duration": 5,
    "start_time": "2022-05-01T19:32:00.635Z"
   },
   {
    "duration": 305,
    "start_time": "2022-05-01T19:32:00.641Z"
   },
   {
    "duration": 47,
    "start_time": "2022-05-01T19:32:00.947Z"
   },
   {
    "duration": 960,
    "start_time": "2022-05-01T19:32:00.996Z"
   },
   {
    "duration": 7,
    "start_time": "2022-05-01T19:32:01.958Z"
   },
   {
    "duration": 193,
    "start_time": "2022-05-01T19:32:01.969Z"
   },
   {
    "duration": 3,
    "start_time": "2022-05-01T19:32:02.164Z"
   },
   {
    "duration": 25,
    "start_time": "2022-05-01T19:32:02.169Z"
   },
   {
    "duration": 4,
    "start_time": "2022-05-01T19:32:02.196Z"
   },
   {
    "duration": 12,
    "start_time": "2022-05-01T19:32:02.208Z"
   },
   {
    "duration": 10,
    "start_time": "2022-05-01T19:32:02.222Z"
   },
   {
    "duration": 54,
    "start_time": "2022-05-01T19:32:02.233Z"
   },
   {
    "duration": 19,
    "start_time": "2022-05-01T19:32:02.289Z"
   },
   {
    "duration": 10,
    "start_time": "2022-05-01T19:32:02.310Z"
   },
   {
    "duration": 6,
    "start_time": "2022-05-01T19:32:02.322Z"
   },
   {
    "duration": 41,
    "start_time": "2022-05-01T19:32:02.330Z"
   },
   {
    "duration": 61,
    "start_time": "2022-05-01T19:32:02.373Z"
   },
   {
    "duration": 6526,
    "start_time": "2022-05-01T19:32:02.436Z"
   },
   {
    "duration": 6,
    "start_time": "2022-05-01T19:32:08.964Z"
   },
   {
    "duration": 433,
    "start_time": "2022-05-01T19:32:08.971Z"
   },
   {
    "duration": 18,
    "start_time": "2022-05-01T19:32:09.407Z"
   },
   {
    "duration": 30,
    "start_time": "2022-05-01T19:32:09.427Z"
   },
   {
    "duration": 48,
    "start_time": "2022-05-01T19:32:09.459Z"
   },
   {
    "duration": 28,
    "start_time": "2022-05-01T19:32:09.513Z"
   },
   {
    "duration": 23,
    "start_time": "2022-05-01T19:32:09.544Z"
   },
   {
    "duration": 46,
    "start_time": "2022-05-01T19:32:09.569Z"
   },
   {
    "duration": 23,
    "start_time": "2022-05-01T19:32:09.616Z"
   },
   {
    "duration": 38,
    "start_time": "2022-05-01T19:32:09.641Z"
   },
   {
    "duration": 24,
    "start_time": "2022-05-01T19:32:09.706Z"
   },
   {
    "duration": 27,
    "start_time": "2022-05-01T19:32:09.733Z"
   },
   {
    "duration": 26,
    "start_time": "2022-05-01T19:32:09.762Z"
   },
   {
    "duration": 452,
    "start_time": "2022-05-01T19:32:09.790Z"
   },
   {
    "duration": 17,
    "start_time": "2022-05-01T19:32:10.244Z"
   },
   {
    "duration": 5401,
    "start_time": "2022-05-01T19:32:10.263Z"
   },
   {
    "duration": 343,
    "start_time": "2022-05-01T19:32:15.666Z"
   },
   {
    "duration": 22,
    "start_time": "2022-05-01T19:32:16.011Z"
   },
   {
    "duration": 21,
    "start_time": "2022-05-01T19:32:16.036Z"
   },
   {
    "duration": 1537,
    "start_time": "2022-05-01T19:32:16.059Z"
   },
   {
    "duration": 1232,
    "start_time": "2022-05-01T19:32:17.598Z"
   },
   {
    "duration": 100,
    "start_time": "2022-05-01T19:32:18.832Z"
   },
   {
    "duration": 78,
    "start_time": "2022-05-01T19:32:18.934Z"
   },
   {
    "duration": 22,
    "start_time": "2022-05-01T19:32:19.013Z"
   },
   {
    "duration": 889,
    "start_time": "2022-05-01T19:32:19.037Z"
   },
   {
    "duration": 207,
    "start_time": "2022-05-01T19:32:19.928Z"
   },
   {
    "duration": 324,
    "start_time": "2022-05-01T19:32:20.136Z"
   },
   {
    "duration": 3,
    "start_time": "2022-05-01T19:32:20.461Z"
   },
   {
    "duration": 5,
    "start_time": "2022-05-01T19:32:20.466Z"
   },
   {
    "duration": 4,
    "start_time": "2022-05-01T19:32:20.473Z"
   },
   {
    "duration": 178,
    "start_time": "2022-05-01T19:32:20.479Z"
   },
   {
    "duration": 3,
    "start_time": "2022-05-01T19:32:20.659Z"
   },
   {
    "duration": 9,
    "start_time": "2022-05-01T19:32:20.663Z"
   },
   {
    "duration": 4,
    "start_time": "2022-05-01T19:32:20.674Z"
   },
   {
    "duration": 6,
    "start_time": "2022-05-01T19:32:20.680Z"
   },
   {
    "duration": 65,
    "start_time": "2022-05-01T19:32:20.688Z"
   },
   {
    "duration": 0,
    "start_time": "2022-05-01T19:32:20.755Z"
   },
   {
    "duration": 46,
    "start_time": "2022-05-01T19:34:04.293Z"
   },
   {
    "duration": 245,
    "start_time": "2022-05-01T19:34:13.531Z"
   },
   {
    "duration": 99,
    "start_time": "2022-05-01T19:35:54.795Z"
   },
   {
    "duration": 47922,
    "start_time": "2022-05-01T19:37:56.547Z"
   },
   {
    "duration": 268490,
    "start_time": "2022-05-01T19:38:47.263Z"
   },
   {
    "duration": 3,
    "start_time": "2022-05-01T19:46:59.009Z"
   },
   {
    "duration": 277618,
    "start_time": "2022-05-01T19:47:09.491Z"
   },
   {
    "duration": 5,
    "start_time": "2022-05-01T19:52:57.347Z"
   },
   {
    "duration": 5,
    "start_time": "2022-05-01T19:53:18.555Z"
   },
   {
    "duration": 5,
    "start_time": "2022-05-01T19:54:03.074Z"
   },
   {
    "duration": 5,
    "start_time": "2022-05-01T19:54:09.801Z"
   },
   {
    "duration": 24,
    "start_time": "2022-05-01T19:54:24.952Z"
   },
   {
    "duration": 1629,
    "start_time": "2022-05-01T19:54:33.306Z"
   },
   {
    "duration": 944,
    "start_time": "2022-05-01T19:54:34.937Z"
   },
   {
    "duration": 169,
    "start_time": "2022-05-01T19:54:35.883Z"
   },
   {
    "duration": 16,
    "start_time": "2022-05-01T19:54:36.054Z"
   },
   {
    "duration": 3,
    "start_time": "2022-05-01T19:54:36.072Z"
   },
   {
    "duration": 344,
    "start_time": "2022-05-01T19:54:36.076Z"
   },
   {
    "duration": 49,
    "start_time": "2022-05-01T19:54:36.423Z"
   },
   {
    "duration": 1038,
    "start_time": "2022-05-01T19:54:36.473Z"
   },
   {
    "duration": 11,
    "start_time": "2022-05-01T19:54:37.515Z"
   },
   {
    "duration": 208,
    "start_time": "2022-05-01T19:54:37.530Z"
   },
   {
    "duration": 5,
    "start_time": "2022-05-01T19:54:37.740Z"
   },
   {
    "duration": 37,
    "start_time": "2022-05-01T19:54:37.747Z"
   },
   {
    "duration": 8,
    "start_time": "2022-05-01T19:54:37.787Z"
   },
   {
    "duration": 29,
    "start_time": "2022-05-01T19:54:37.797Z"
   },
   {
    "duration": 12,
    "start_time": "2022-05-01T19:54:37.828Z"
   },
   {
    "duration": 36,
    "start_time": "2022-05-01T19:54:37.842Z"
   },
   {
    "duration": 30,
    "start_time": "2022-05-01T19:54:37.880Z"
   },
   {
    "duration": 15,
    "start_time": "2022-05-01T19:54:37.912Z"
   },
   {
    "duration": 7,
    "start_time": "2022-05-01T19:54:37.928Z"
   },
   {
    "duration": 71,
    "start_time": "2022-05-01T19:54:37.937Z"
   },
   {
    "duration": 41,
    "start_time": "2022-05-01T19:54:38.012Z"
   },
   {
    "duration": 7197,
    "start_time": "2022-05-01T19:54:38.055Z"
   },
   {
    "duration": 7,
    "start_time": "2022-05-01T19:54:45.253Z"
   },
   {
    "duration": 444,
    "start_time": "2022-05-01T19:54:45.261Z"
   },
   {
    "duration": 25,
    "start_time": "2022-05-01T19:54:45.708Z"
   },
   {
    "duration": 30,
    "start_time": "2022-05-01T19:54:45.735Z"
   },
   {
    "duration": 52,
    "start_time": "2022-05-01T19:54:45.767Z"
   },
   {
    "duration": 24,
    "start_time": "2022-05-01T19:54:45.826Z"
   },
   {
    "duration": 17,
    "start_time": "2022-05-01T19:54:45.852Z"
   },
   {
    "duration": 47,
    "start_time": "2022-05-01T19:54:45.871Z"
   },
   {
    "duration": 23,
    "start_time": "2022-05-01T19:54:45.922Z"
   },
   {
    "duration": 24,
    "start_time": "2022-05-01T19:54:45.946Z"
   },
   {
    "duration": 60,
    "start_time": "2022-05-01T19:54:45.972Z"
   },
   {
    "duration": 20,
    "start_time": "2022-05-01T19:54:46.034Z"
   },
   {
    "duration": 21,
    "start_time": "2022-05-01T19:54:46.055Z"
   },
   {
    "duration": 476,
    "start_time": "2022-05-01T19:54:46.077Z"
   },
   {
    "duration": 15,
    "start_time": "2022-05-01T19:54:46.555Z"
   },
   {
    "duration": 5590,
    "start_time": "2022-05-01T19:54:46.572Z"
   },
   {
    "duration": 377,
    "start_time": "2022-05-01T19:54:52.176Z"
   },
   {
    "duration": 21,
    "start_time": "2022-05-01T19:54:52.555Z"
   },
   {
    "duration": 34,
    "start_time": "2022-05-01T19:54:52.578Z"
   },
   {
    "duration": 1757,
    "start_time": "2022-05-01T19:54:52.615Z"
   },
   {
    "duration": 1198,
    "start_time": "2022-05-01T19:54:54.374Z"
   },
   {
    "duration": 106,
    "start_time": "2022-05-01T19:54:55.574Z"
   },
   {
    "duration": 81,
    "start_time": "2022-05-01T19:54:55.682Z"
   },
   {
    "duration": 24,
    "start_time": "2022-05-01T19:54:55.765Z"
   },
   {
    "duration": 783,
    "start_time": "2022-05-01T19:54:55.791Z"
   },
   {
    "duration": 216,
    "start_time": "2022-05-01T19:54:56.576Z"
   },
   {
    "duration": 358,
    "start_time": "2022-05-01T19:54:56.794Z"
   },
   {
    "duration": 3,
    "start_time": "2022-05-01T19:54:57.153Z"
   },
   {
    "duration": 5,
    "start_time": "2022-05-01T19:54:57.158Z"
   },
   {
    "duration": 4,
    "start_time": "2022-05-01T19:54:57.164Z"
   },
   {
    "duration": 191,
    "start_time": "2022-05-01T19:54:57.170Z"
   },
   {
    "duration": 3,
    "start_time": "2022-05-01T19:54:57.363Z"
   },
   {
    "duration": 6,
    "start_time": "2022-05-01T19:54:57.367Z"
   },
   {
    "duration": 4,
    "start_time": "2022-05-01T19:54:57.375Z"
   },
   {
    "duration": 4,
    "start_time": "2022-05-01T19:54:57.381Z"
   },
   {
    "duration": 269023,
    "start_time": "2022-05-01T19:54:57.387Z"
   },
   {
    "duration": 4,
    "start_time": "2022-05-01T19:59:26.412Z"
   },
   {
    "duration": 6,
    "start_time": "2022-05-01T19:59:26.418Z"
   },
   {
    "duration": 4,
    "start_time": "2022-05-01T20:00:08.072Z"
   },
   {
    "duration": 129,
    "start_time": "2022-05-01T20:01:17.126Z"
   },
   {
    "duration": 4,
    "start_time": "2022-05-01T20:02:54.490Z"
   },
   {
    "duration": 5,
    "start_time": "2022-05-01T20:04:07.050Z"
   },
   {
    "duration": 5,
    "start_time": "2022-05-01T20:04:11.444Z"
   },
   {
    "duration": 9,
    "start_time": "2022-05-01T20:05:28.851Z"
   },
   {
    "duration": 4,
    "start_time": "2022-05-01T20:05:33.131Z"
   },
   {
    "duration": 1483,
    "start_time": "2022-05-01T20:17:42.794Z"
   },
   {
    "duration": 847,
    "start_time": "2022-05-01T20:17:44.279Z"
   },
   {
    "duration": 143,
    "start_time": "2022-05-01T20:17:45.127Z"
   },
   {
    "duration": 16,
    "start_time": "2022-05-01T20:17:45.272Z"
   },
   {
    "duration": 18,
    "start_time": "2022-05-01T20:17:45.290Z"
   },
   {
    "duration": 291,
    "start_time": "2022-05-01T20:17:45.309Z"
   },
   {
    "duration": 46,
    "start_time": "2022-05-01T20:17:45.602Z"
   },
   {
    "duration": 959,
    "start_time": "2022-05-01T20:17:45.649Z"
   },
   {
    "duration": 6,
    "start_time": "2022-05-01T20:17:46.609Z"
   },
   {
    "duration": 182,
    "start_time": "2022-05-01T20:17:46.618Z"
   },
   {
    "duration": 7,
    "start_time": "2022-05-01T20:17:46.801Z"
   },
   {
    "duration": 16,
    "start_time": "2022-05-01T20:17:46.810Z"
   },
   {
    "duration": 3,
    "start_time": "2022-05-01T20:17:46.828Z"
   },
   {
    "duration": 12,
    "start_time": "2022-05-01T20:17:46.833Z"
   },
   {
    "duration": 10,
    "start_time": "2022-05-01T20:17:46.847Z"
   },
   {
    "duration": 67,
    "start_time": "2022-05-01T20:17:46.859Z"
   },
   {
    "duration": 7,
    "start_time": "2022-05-01T20:17:46.928Z"
   },
   {
    "duration": 9,
    "start_time": "2022-05-01T20:17:46.936Z"
   },
   {
    "duration": 6,
    "start_time": "2022-05-01T20:17:46.946Z"
   },
   {
    "duration": 70,
    "start_time": "2022-05-01T20:17:46.954Z"
   },
   {
    "duration": 33,
    "start_time": "2022-05-01T20:17:47.026Z"
   },
   {
    "duration": 6539,
    "start_time": "2022-05-01T20:17:47.061Z"
   },
   {
    "duration": 6,
    "start_time": "2022-05-01T20:17:53.602Z"
   },
   {
    "duration": 421,
    "start_time": "2022-05-01T20:17:53.610Z"
   },
   {
    "duration": 16,
    "start_time": "2022-05-01T20:17:54.033Z"
   },
   {
    "duration": 29,
    "start_time": "2022-05-01T20:17:54.051Z"
   },
   {
    "duration": 39,
    "start_time": "2022-05-01T20:17:54.082Z"
   },
   {
    "duration": 25,
    "start_time": "2022-05-01T20:17:54.126Z"
   },
   {
    "duration": 17,
    "start_time": "2022-05-01T20:17:54.153Z"
   },
   {
    "duration": 45,
    "start_time": "2022-05-01T20:17:54.172Z"
   },
   {
    "duration": 20,
    "start_time": "2022-05-01T20:17:54.219Z"
   },
   {
    "duration": 23,
    "start_time": "2022-05-01T20:17:54.241Z"
   },
   {
    "duration": 44,
    "start_time": "2022-05-01T20:17:54.266Z"
   },
   {
    "duration": 20,
    "start_time": "2022-05-01T20:17:54.312Z"
   },
   {
    "duration": 21,
    "start_time": "2022-05-01T20:17:54.334Z"
   },
   {
    "duration": 423,
    "start_time": "2022-05-01T20:17:54.357Z"
   },
   {
    "duration": 14,
    "start_time": "2022-05-01T20:17:54.782Z"
   },
   {
    "duration": 5105,
    "start_time": "2022-05-01T20:17:54.807Z"
   },
   {
    "duration": 333,
    "start_time": "2022-05-01T20:17:59.913Z"
   },
   {
    "duration": 20,
    "start_time": "2022-05-01T20:18:00.248Z"
   },
   {
    "duration": 23,
    "start_time": "2022-05-01T20:18:00.270Z"
   },
   {
    "duration": 1517,
    "start_time": "2022-05-01T20:18:00.308Z"
   },
   {
    "duration": 1087,
    "start_time": "2022-05-01T20:18:01.827Z"
   },
   {
    "duration": 100,
    "start_time": "2022-05-01T20:18:02.916Z"
   },
   {
    "duration": 67,
    "start_time": "2022-05-01T20:18:03.018Z"
   },
   {
    "duration": 36,
    "start_time": "2022-05-01T20:18:03.087Z"
   },
   {
    "duration": 773,
    "start_time": "2022-05-01T20:18:03.124Z"
   },
   {
    "duration": 208,
    "start_time": "2022-05-01T20:18:03.899Z"
   },
   {
    "duration": 325,
    "start_time": "2022-05-01T20:18:04.109Z"
   },
   {
    "duration": 4,
    "start_time": "2022-05-01T20:18:04.436Z"
   },
   {
    "duration": 4,
    "start_time": "2022-05-01T20:18:04.442Z"
   },
   {
    "duration": 4,
    "start_time": "2022-05-01T20:18:04.448Z"
   },
   {
    "duration": 177,
    "start_time": "2022-05-01T20:18:04.454Z"
   },
   {
    "duration": 3,
    "start_time": "2022-05-01T20:18:04.633Z"
   },
   {
    "duration": 6,
    "start_time": "2022-05-01T20:18:04.638Z"
   },
   {
    "duration": 5,
    "start_time": "2022-05-01T20:18:04.646Z"
   },
   {
    "duration": 4,
    "start_time": "2022-05-01T20:18:04.653Z"
   },
   {
    "duration": 53,
    "start_time": "2022-05-01T20:18:04.659Z"
   },
   {
    "duration": 0,
    "start_time": "2022-05-01T20:18:04.714Z"
   },
   {
    "duration": 0,
    "start_time": "2022-05-01T20:18:04.716Z"
   },
   {
    "duration": 0,
    "start_time": "2022-05-01T20:18:04.717Z"
   },
   {
    "duration": 0,
    "start_time": "2022-05-01T20:18:04.719Z"
   },
   {
    "duration": 0,
    "start_time": "2022-05-01T20:18:04.720Z"
   },
   {
    "duration": 0,
    "start_time": "2022-05-01T20:18:04.722Z"
   },
   {
    "duration": 0,
    "start_time": "2022-05-01T20:18:04.724Z"
   },
   {
    "duration": 0,
    "start_time": "2022-05-01T20:18:04.725Z"
   },
   {
    "duration": 0,
    "start_time": "2022-05-01T20:18:04.726Z"
   },
   {
    "duration": 0,
    "start_time": "2022-05-01T20:18:04.728Z"
   },
   {
    "duration": 46,
    "start_time": "2022-05-01T20:18:33.517Z"
   },
   {
    "duration": 361679,
    "start_time": "2022-05-01T20:22:13.509Z"
   },
   {
    "duration": 5,
    "start_time": "2022-05-01T20:31:12.315Z"
   },
   {
    "duration": 46640,
    "start_time": "2022-05-01T20:31:24.929Z"
   },
   {
    "duration": 3,
    "start_time": "2022-05-01T20:33:11.008Z"
   },
   {
    "duration": 4,
    "start_time": "2022-05-01T20:33:13.282Z"
   },
   {
    "duration": 1507,
    "start_time": "2022-05-01T20:35:49.586Z"
   },
   {
    "duration": 834,
    "start_time": "2022-05-01T20:35:51.095Z"
   },
   {
    "duration": 137,
    "start_time": "2022-05-01T20:35:51.930Z"
   },
   {
    "duration": 18,
    "start_time": "2022-05-01T20:35:52.069Z"
   },
   {
    "duration": 21,
    "start_time": "2022-05-01T20:35:52.088Z"
   },
   {
    "duration": 290,
    "start_time": "2022-05-01T20:35:52.110Z"
   },
   {
    "duration": 46,
    "start_time": "2022-05-01T20:35:52.402Z"
   },
   {
    "duration": 934,
    "start_time": "2022-05-01T20:35:52.450Z"
   },
   {
    "duration": 5,
    "start_time": "2022-05-01T20:35:53.386Z"
   },
   {
    "duration": 187,
    "start_time": "2022-05-01T20:35:53.394Z"
   },
   {
    "duration": 4,
    "start_time": "2022-05-01T20:35:53.583Z"
   },
   {
    "duration": 29,
    "start_time": "2022-05-01T20:35:53.588Z"
   },
   {
    "duration": 4,
    "start_time": "2022-05-01T20:35:53.619Z"
   },
   {
    "duration": 13,
    "start_time": "2022-05-01T20:35:53.624Z"
   },
   {
    "duration": 9,
    "start_time": "2022-05-01T20:35:53.639Z"
   },
   {
    "duration": 60,
    "start_time": "2022-05-01T20:35:53.649Z"
   },
   {
    "duration": 6,
    "start_time": "2022-05-01T20:35:53.711Z"
   },
   {
    "duration": 6,
    "start_time": "2022-05-01T20:35:53.719Z"
   },
   {
    "duration": 6,
    "start_time": "2022-05-01T20:35:53.727Z"
   },
   {
    "duration": 39,
    "start_time": "2022-05-01T20:35:53.734Z"
   },
   {
    "duration": 63,
    "start_time": "2022-05-01T20:35:53.775Z"
   },
   {
    "duration": 6586,
    "start_time": "2022-05-01T20:35:53.839Z"
   },
   {
    "duration": 7,
    "start_time": "2022-05-01T20:36:00.427Z"
   },
   {
    "duration": 432,
    "start_time": "2022-05-01T20:36:00.436Z"
   },
   {
    "duration": 7,
    "start_time": "2022-05-01T20:36:00.870Z"
   },
   {
    "duration": 25,
    "start_time": "2022-05-01T20:36:00.879Z"
   },
   {
    "duration": 17,
    "start_time": "2022-05-01T20:36:00.906Z"
   },
   {
    "duration": 36,
    "start_time": "2022-05-01T20:36:00.928Z"
   },
   {
    "duration": 43,
    "start_time": "2022-05-01T20:36:00.966Z"
   },
   {
    "duration": 28,
    "start_time": "2022-05-01T20:36:01.011Z"
   },
   {
    "duration": 17,
    "start_time": "2022-05-01T20:36:01.041Z"
   },
   {
    "duration": 22,
    "start_time": "2022-05-01T20:36:01.060Z"
   },
   {
    "duration": 44,
    "start_time": "2022-05-01T20:36:01.084Z"
   },
   {
    "duration": 24,
    "start_time": "2022-05-01T20:36:01.130Z"
   },
   {
    "duration": 23,
    "start_time": "2022-05-01T20:36:01.155Z"
   },
   {
    "duration": 21,
    "start_time": "2022-05-01T20:36:01.208Z"
   },
   {
    "duration": 23,
    "start_time": "2022-05-01T20:36:01.231Z"
   },
   {
    "duration": 469,
    "start_time": "2022-05-01T20:36:01.255Z"
   },
   {
    "duration": 15,
    "start_time": "2022-05-01T20:36:01.726Z"
   },
   {
    "duration": 5217,
    "start_time": "2022-05-01T20:36:01.743Z"
   },
   {
    "duration": 322,
    "start_time": "2022-05-01T20:36:06.961Z"
   },
   {
    "duration": 26,
    "start_time": "2022-05-01T20:36:07.284Z"
   },
   {
    "duration": 22,
    "start_time": "2022-05-01T20:36:07.312Z"
   },
   {
    "duration": 1469,
    "start_time": "2022-05-01T20:36:07.336Z"
   },
   {
    "duration": 1120,
    "start_time": "2022-05-01T20:36:08.807Z"
   },
   {
    "duration": 101,
    "start_time": "2022-05-01T20:36:09.929Z"
   },
   {
    "duration": 79,
    "start_time": "2022-05-01T20:36:10.031Z"
   },
   {
    "duration": 23,
    "start_time": "2022-05-01T20:36:10.111Z"
   },
   {
    "duration": 908,
    "start_time": "2022-05-01T20:36:10.136Z"
   },
   {
    "duration": 207,
    "start_time": "2022-05-01T20:36:11.046Z"
   },
   {
    "duration": 324,
    "start_time": "2022-05-01T20:36:11.255Z"
   },
   {
    "duration": 3,
    "start_time": "2022-05-01T20:36:11.580Z"
   },
   {
    "duration": 10,
    "start_time": "2022-05-01T20:36:11.585Z"
   },
   {
    "duration": 13,
    "start_time": "2022-05-01T20:36:11.596Z"
   },
   {
    "duration": 171,
    "start_time": "2022-05-01T20:36:11.611Z"
   },
   {
    "duration": 2,
    "start_time": "2022-05-01T20:36:11.784Z"
   },
   {
    "duration": 5,
    "start_time": "2022-05-01T20:36:11.787Z"
   },
   {
    "duration": 4,
    "start_time": "2022-05-01T20:36:11.807Z"
   },
   {
    "duration": 9,
    "start_time": "2022-05-01T20:36:11.812Z"
   },
   {
    "duration": 1949,
    "start_time": "2022-05-01T20:39:50.961Z"
   },
   {
    "duration": 849,
    "start_time": "2022-05-01T20:39:52.912Z"
   },
   {
    "duration": 138,
    "start_time": "2022-05-01T20:39:53.763Z"
   },
   {
    "duration": 17,
    "start_time": "2022-05-01T20:39:53.908Z"
   },
   {
    "duration": 3,
    "start_time": "2022-05-01T20:39:53.927Z"
   },
   {
    "duration": 305,
    "start_time": "2022-05-01T20:39:53.932Z"
   },
   {
    "duration": 48,
    "start_time": "2022-05-01T20:39:54.238Z"
   },
   {
    "duration": 960,
    "start_time": "2022-05-01T20:39:54.288Z"
   },
   {
    "duration": 5,
    "start_time": "2022-05-01T20:39:55.250Z"
   },
   {
    "duration": 177,
    "start_time": "2022-05-01T20:39:55.258Z"
   },
   {
    "duration": 4,
    "start_time": "2022-05-01T20:39:55.437Z"
   },
   {
    "duration": 17,
    "start_time": "2022-05-01T20:39:55.442Z"
   },
   {
    "duration": 4,
    "start_time": "2022-05-01T20:39:55.460Z"
   },
   {
    "duration": 12,
    "start_time": "2022-05-01T20:39:55.466Z"
   },
   {
    "duration": 34,
    "start_time": "2022-05-01T20:39:55.480Z"
   },
   {
    "duration": 34,
    "start_time": "2022-05-01T20:39:55.516Z"
   },
   {
    "duration": 6,
    "start_time": "2022-05-01T20:39:55.552Z"
   },
   {
    "duration": 7,
    "start_time": "2022-05-01T20:39:55.560Z"
   },
   {
    "duration": 6,
    "start_time": "2022-05-01T20:39:55.568Z"
   },
   {
    "duration": 42,
    "start_time": "2022-05-01T20:39:55.608Z"
   },
   {
    "duration": 33,
    "start_time": "2022-05-01T20:39:55.652Z"
   },
   {
    "duration": 6439,
    "start_time": "2022-05-01T20:39:55.687Z"
   },
   {
    "duration": 6,
    "start_time": "2022-05-01T20:40:02.128Z"
   },
   {
    "duration": 422,
    "start_time": "2022-05-01T20:40:02.135Z"
   },
   {
    "duration": 7,
    "start_time": "2022-05-01T20:40:02.559Z"
   },
   {
    "duration": 6,
    "start_time": "2022-05-01T20:40:02.568Z"
   },
   {
    "duration": 7,
    "start_time": "2022-05-01T20:40:02.575Z"
   },
   {
    "duration": 18,
    "start_time": "2022-05-01T20:40:02.606Z"
   },
   {
    "duration": 30,
    "start_time": "2022-05-01T20:40:02.626Z"
   },
   {
    "duration": 22,
    "start_time": "2022-05-01T20:40:02.658Z"
   },
   {
    "duration": 47,
    "start_time": "2022-05-01T20:40:02.681Z"
   },
   {
    "duration": 17,
    "start_time": "2022-05-01T20:40:02.730Z"
   },
   {
    "duration": 21,
    "start_time": "2022-05-01T20:40:02.749Z"
   },
   {
    "duration": 50,
    "start_time": "2022-05-01T20:40:02.772Z"
   },
   {
    "duration": 24,
    "start_time": "2022-05-01T20:40:02.823Z"
   },
   {
    "duration": 22,
    "start_time": "2022-05-01T20:40:02.849Z"
   },
   {
    "duration": 47,
    "start_time": "2022-05-01T20:40:02.873Z"
   },
   {
    "duration": 22,
    "start_time": "2022-05-01T20:40:02.922Z"
   },
   {
    "duration": 440,
    "start_time": "2022-05-01T20:40:02.946Z"
   },
   {
    "duration": 24,
    "start_time": "2022-05-01T20:40:03.388Z"
   },
   {
    "duration": 5146,
    "start_time": "2022-05-01T20:40:03.414Z"
   },
   {
    "duration": 343,
    "start_time": "2022-05-01T20:40:08.562Z"
   },
   {
    "duration": 23,
    "start_time": "2022-05-01T20:40:08.907Z"
   },
   {
    "duration": 21,
    "start_time": "2022-05-01T20:40:08.932Z"
   },
   {
    "duration": 1486,
    "start_time": "2022-05-01T20:40:08.956Z"
   },
   {
    "duration": 1104,
    "start_time": "2022-05-01T20:40:10.444Z"
   },
   {
    "duration": 100,
    "start_time": "2022-05-01T20:40:11.551Z"
   },
   {
    "duration": 82,
    "start_time": "2022-05-01T20:40:11.654Z"
   },
   {
    "duration": 23,
    "start_time": "2022-05-01T20:40:11.738Z"
   },
   {
    "duration": 904,
    "start_time": "2022-05-01T20:40:11.763Z"
   },
   {
    "duration": 206,
    "start_time": "2022-05-01T20:40:12.669Z"
   },
   {
    "duration": 326,
    "start_time": "2022-05-01T20:40:12.877Z"
   },
   {
    "duration": 2,
    "start_time": "2022-05-01T20:40:13.205Z"
   },
   {
    "duration": 5,
    "start_time": "2022-05-01T20:40:13.209Z"
   },
   {
    "duration": 5,
    "start_time": "2022-05-01T20:40:13.217Z"
   },
   {
    "duration": 178,
    "start_time": "2022-05-01T20:40:13.223Z"
   },
   {
    "duration": 4,
    "start_time": "2022-05-01T20:40:13.403Z"
   },
   {
    "duration": 6,
    "start_time": "2022-05-01T20:40:13.409Z"
   },
   {
    "duration": 4,
    "start_time": "2022-05-01T20:40:13.417Z"
   },
   {
    "duration": 4,
    "start_time": "2022-05-01T20:40:13.423Z"
   },
   {
    "duration": 338686,
    "start_time": "2022-05-01T20:40:13.429Z"
   },
   {
    "duration": 30200,
    "start_time": "2022-05-01T20:45:52.117Z"
   },
   {
    "duration": 3,
    "start_time": "2022-05-01T20:46:22.319Z"
   },
   {
    "duration": 7,
    "start_time": "2022-05-01T20:46:22.325Z"
   },
   {
    "duration": 4,
    "start_time": "2022-05-01T20:46:22.334Z"
   },
   {
    "duration": 78,
    "start_time": "2022-05-01T20:46:22.339Z"
   },
   {
    "duration": 117,
    "start_time": "2022-05-01T20:46:22.419Z"
   },
   {
    "duration": 3,
    "start_time": "2022-05-01T20:46:22.538Z"
   },
   {
    "duration": 154,
    "start_time": "2022-05-01T20:46:22.542Z"
   },
   {
    "duration": 0,
    "start_time": "2022-05-01T20:46:22.698Z"
   },
   {
    "duration": 0,
    "start_time": "2022-05-01T20:46:22.708Z"
   },
   {
    "duration": 1554,
    "start_time": "2022-05-01T20:48:12.119Z"
   },
   {
    "duration": 901,
    "start_time": "2022-05-01T20:48:13.675Z"
   },
   {
    "duration": 154,
    "start_time": "2022-05-01T20:48:14.578Z"
   },
   {
    "duration": 18,
    "start_time": "2022-05-01T20:48:14.735Z"
   },
   {
    "duration": 3,
    "start_time": "2022-05-01T20:48:14.755Z"
   },
   {
    "duration": 326,
    "start_time": "2022-05-01T20:48:14.760Z"
   },
   {
    "duration": 55,
    "start_time": "2022-05-01T20:48:15.088Z"
   },
   {
    "duration": 1029,
    "start_time": "2022-05-01T20:48:15.145Z"
   },
   {
    "duration": 6,
    "start_time": "2022-05-01T20:48:16.176Z"
   },
   {
    "duration": 195,
    "start_time": "2022-05-01T20:48:16.185Z"
   },
   {
    "duration": 4,
    "start_time": "2022-05-01T20:48:16.381Z"
   },
   {
    "duration": 25,
    "start_time": "2022-05-01T20:48:16.387Z"
   },
   {
    "duration": 4,
    "start_time": "2022-05-01T20:48:16.413Z"
   },
   {
    "duration": 14,
    "start_time": "2022-05-01T20:48:16.419Z"
   },
   {
    "duration": 11,
    "start_time": "2022-05-01T20:48:16.434Z"
   },
   {
    "duration": 68,
    "start_time": "2022-05-01T20:48:16.446Z"
   },
   {
    "duration": 7,
    "start_time": "2022-05-01T20:48:16.516Z"
   },
   {
    "duration": 10,
    "start_time": "2022-05-01T20:48:16.524Z"
   },
   {
    "duration": 7,
    "start_time": "2022-05-01T20:48:16.536Z"
   },
   {
    "duration": 85,
    "start_time": "2022-05-01T20:48:16.544Z"
   },
   {
    "duration": 38,
    "start_time": "2022-05-01T20:48:16.631Z"
   },
   {
    "duration": 6835,
    "start_time": "2022-05-01T20:48:16.671Z"
   },
   {
    "duration": 6,
    "start_time": "2022-05-01T20:48:23.507Z"
   },
   {
    "duration": 419,
    "start_time": "2022-05-01T20:48:23.515Z"
   },
   {
    "duration": 3,
    "start_time": "2022-05-01T20:48:23.935Z"
   },
   {
    "duration": 8,
    "start_time": "2022-05-01T20:48:23.940Z"
   },
   {
    "duration": 23,
    "start_time": "2022-05-01T20:48:23.949Z"
   },
   {
    "duration": 42,
    "start_time": "2022-05-01T20:48:23.975Z"
   },
   {
    "duration": 24,
    "start_time": "2022-05-01T20:48:24.018Z"
   },
   {
    "duration": 15,
    "start_time": "2022-05-01T20:48:24.043Z"
   },
   {
    "duration": 2,
    "start_time": "2022-05-01T20:48:24.060Z"
   },
   {
    "duration": 5,
    "start_time": "2022-05-01T20:48:24.063Z"
   },
   {
    "duration": 4,
    "start_time": "2022-05-01T20:48:24.070Z"
   },
   {
    "duration": 15,
    "start_time": "2022-05-01T20:49:19.742Z"
   },
   {
    "duration": 14,
    "start_time": "2022-05-01T20:49:33.261Z"
   },
   {
    "duration": 14,
    "start_time": "2022-05-01T20:49:42.560Z"
   },
   {
    "duration": 13,
    "start_time": "2022-05-01T20:49:51.358Z"
   },
   {
    "duration": 6,
    "start_time": "2022-05-01T20:50:24.094Z"
   },
   {
    "duration": 15,
    "start_time": "2022-05-01T20:50:26.866Z"
   },
   {
    "duration": 38,
    "start_time": "2022-05-01T20:50:32.965Z"
   },
   {
    "duration": 21,
    "start_time": "2022-05-01T20:50:36.753Z"
   },
   {
    "duration": 24,
    "start_time": "2022-05-01T20:50:40.064Z"
   },
   {
    "duration": 16,
    "start_time": "2022-05-01T20:50:42.538Z"
   },
   {
    "duration": 19,
    "start_time": "2022-05-01T20:50:44.285Z"
   },
   {
    "duration": 20,
    "start_time": "2022-05-01T20:50:46.109Z"
   },
   {
    "duration": 22,
    "start_time": "2022-05-01T20:50:48.838Z"
   },
   {
    "duration": 21,
    "start_time": "2022-05-01T20:50:51.896Z"
   },
   {
    "duration": 19,
    "start_time": "2022-05-01T20:50:54.814Z"
   },
   {
    "duration": 33,
    "start_time": "2022-05-01T20:51:03.080Z"
   },
   {
    "duration": 405,
    "start_time": "2022-05-01T20:51:07.357Z"
   },
   {
    "duration": 1473,
    "start_time": "2022-05-01T20:51:41.810Z"
   },
   {
    "duration": 878,
    "start_time": "2022-05-01T20:51:43.285Z"
   },
   {
    "duration": 152,
    "start_time": "2022-05-01T20:51:44.165Z"
   },
   {
    "duration": 17,
    "start_time": "2022-05-01T20:51:44.319Z"
   },
   {
    "duration": 3,
    "start_time": "2022-05-01T20:51:44.338Z"
   },
   {
    "duration": 306,
    "start_time": "2022-05-01T20:51:44.342Z"
   },
   {
    "duration": 62,
    "start_time": "2022-05-01T20:51:44.649Z"
   },
   {
    "duration": 953,
    "start_time": "2022-05-01T20:51:44.713Z"
   },
   {
    "duration": 7,
    "start_time": "2022-05-01T20:51:45.668Z"
   },
   {
    "duration": 200,
    "start_time": "2022-05-01T20:51:45.679Z"
   },
   {
    "duration": 4,
    "start_time": "2022-05-01T20:51:45.881Z"
   },
   {
    "duration": 24,
    "start_time": "2022-05-01T20:51:45.886Z"
   },
   {
    "duration": 4,
    "start_time": "2022-05-01T20:51:45.912Z"
   },
   {
    "duration": 13,
    "start_time": "2022-05-01T20:51:45.918Z"
   },
   {
    "duration": 9,
    "start_time": "2022-05-01T20:51:45.933Z"
   },
   {
    "duration": 32,
    "start_time": "2022-05-01T20:51:45.944Z"
   },
   {
    "duration": 7,
    "start_time": "2022-05-01T20:51:46.007Z"
   },
   {
    "duration": 7,
    "start_time": "2022-05-01T20:51:46.016Z"
   },
   {
    "duration": 6,
    "start_time": "2022-05-01T20:51:46.025Z"
   },
   {
    "duration": 40,
    "start_time": "2022-05-01T20:51:46.033Z"
   },
   {
    "duration": 65,
    "start_time": "2022-05-01T20:51:46.075Z"
   },
   {
    "duration": 6846,
    "start_time": "2022-05-01T20:51:46.142Z"
   },
   {
    "duration": 6,
    "start_time": "2022-05-01T20:51:52.990Z"
   },
   {
    "duration": 539,
    "start_time": "2022-05-01T20:51:52.997Z"
   },
   {
    "duration": 3,
    "start_time": "2022-05-01T20:51:53.538Z"
   },
   {
    "duration": 11,
    "start_time": "2022-05-01T20:51:53.543Z"
   },
   {
    "duration": 7,
    "start_time": "2022-05-01T20:51:53.555Z"
   },
   {
    "duration": 16,
    "start_time": "2022-05-01T20:51:53.565Z"
   },
   {
    "duration": 36,
    "start_time": "2022-05-01T20:51:53.608Z"
   },
   {
    "duration": 22,
    "start_time": "2022-05-01T20:51:53.646Z"
   },
   {
    "duration": 54,
    "start_time": "2022-05-01T20:51:53.670Z"
   },
   {
    "duration": 18,
    "start_time": "2022-05-01T20:51:53.725Z"
   },
   {
    "duration": 21,
    "start_time": "2022-05-01T20:51:53.744Z"
   },
   {
    "duration": 42,
    "start_time": "2022-05-01T20:51:53.766Z"
   },
   {
    "duration": 32,
    "start_time": "2022-05-01T20:51:53.811Z"
   },
   {
    "duration": 24,
    "start_time": "2022-05-01T20:51:53.845Z"
   },
   {
    "duration": 54,
    "start_time": "2022-05-01T20:51:53.871Z"
   },
   {
    "duration": 24,
    "start_time": "2022-05-01T20:51:53.927Z"
   },
   {
    "duration": 436,
    "start_time": "2022-05-01T20:51:53.953Z"
   },
   {
    "duration": 21,
    "start_time": "2022-05-01T20:51:54.391Z"
   },
   {
    "duration": 5054,
    "start_time": "2022-05-01T20:51:54.414Z"
   },
   {
    "duration": 321,
    "start_time": "2022-05-01T20:51:59.469Z"
   },
   {
    "duration": 27,
    "start_time": "2022-05-01T20:51:59.792Z"
   },
   {
    "duration": 21,
    "start_time": "2022-05-01T20:51:59.821Z"
   },
   {
    "duration": 1453,
    "start_time": "2022-05-01T20:51:59.843Z"
   },
   {
    "duration": 1079,
    "start_time": "2022-05-01T20:52:01.298Z"
   },
   {
    "duration": 95,
    "start_time": "2022-05-01T20:52:02.378Z"
   },
   {
    "duration": 70,
    "start_time": "2022-05-01T20:52:02.475Z"
   },
   {
    "duration": 23,
    "start_time": "2022-05-01T20:52:02.546Z"
   },
   {
    "duration": 3,
    "start_time": "2022-05-01T20:52:02.571Z"
   },
   {
    "duration": 5,
    "start_time": "2022-05-01T20:52:02.575Z"
   },
   {
    "duration": 26,
    "start_time": "2022-05-01T20:52:02.582Z"
   },
   {
    "duration": 1533,
    "start_time": "2022-05-01T20:53:02.822Z"
   },
   {
    "duration": 861,
    "start_time": "2022-05-01T20:53:04.357Z"
   },
   {
    "duration": 150,
    "start_time": "2022-05-01T20:53:05.220Z"
   },
   {
    "duration": 18,
    "start_time": "2022-05-01T20:53:05.373Z"
   },
   {
    "duration": 4,
    "start_time": "2022-05-01T20:53:05.407Z"
   },
   {
    "duration": 309,
    "start_time": "2022-05-01T20:53:05.414Z"
   },
   {
    "duration": 49,
    "start_time": "2022-05-01T20:53:05.725Z"
   },
   {
    "duration": 974,
    "start_time": "2022-05-01T20:53:05.776Z"
   },
   {
    "duration": 8,
    "start_time": "2022-05-01T20:53:06.752Z"
   },
   {
    "duration": 198,
    "start_time": "2022-05-01T20:53:06.764Z"
   },
   {
    "duration": 4,
    "start_time": "2022-05-01T20:53:06.964Z"
   },
   {
    "duration": 16,
    "start_time": "2022-05-01T20:53:06.970Z"
   },
   {
    "duration": 4,
    "start_time": "2022-05-01T20:53:06.988Z"
   },
   {
    "duration": 15,
    "start_time": "2022-05-01T20:53:07.009Z"
   },
   {
    "duration": 11,
    "start_time": "2022-05-01T20:53:07.026Z"
   },
   {
    "duration": 35,
    "start_time": "2022-05-01T20:53:07.039Z"
   },
   {
    "duration": 8,
    "start_time": "2022-05-01T20:53:07.108Z"
   },
   {
    "duration": 8,
    "start_time": "2022-05-01T20:53:07.118Z"
   },
   {
    "duration": 6,
    "start_time": "2022-05-01T20:53:07.128Z"
   },
   {
    "duration": 78,
    "start_time": "2022-05-01T20:53:07.136Z"
   },
   {
    "duration": 35,
    "start_time": "2022-05-01T20:53:07.216Z"
   },
   {
    "duration": 6637,
    "start_time": "2022-05-01T20:53:07.253Z"
   },
   {
    "duration": 5,
    "start_time": "2022-05-01T20:53:13.892Z"
   },
   {
    "duration": 429,
    "start_time": "2022-05-01T20:53:13.899Z"
   },
   {
    "duration": 3,
    "start_time": "2022-05-01T20:53:14.329Z"
   },
   {
    "duration": 11,
    "start_time": "2022-05-01T20:53:14.333Z"
   },
   {
    "duration": 8,
    "start_time": "2022-05-01T20:53:14.345Z"
   },
   {
    "duration": 49,
    "start_time": "2022-05-01T20:53:14.359Z"
   },
   {
    "duration": 33,
    "start_time": "2022-05-01T20:53:14.410Z"
   },
   {
    "duration": 24,
    "start_time": "2022-05-01T20:53:14.445Z"
   },
   {
    "duration": 49,
    "start_time": "2022-05-01T20:53:14.470Z"
   },
   {
    "duration": 18,
    "start_time": "2022-05-01T20:53:14.520Z"
   },
   {
    "duration": 21,
    "start_time": "2022-05-01T20:53:14.540Z"
   },
   {
    "duration": 45,
    "start_time": "2022-05-01T20:53:14.563Z"
   },
   {
    "duration": 25,
    "start_time": "2022-05-01T20:53:14.610Z"
   },
   {
    "duration": 24,
    "start_time": "2022-05-01T20:53:14.637Z"
   },
   {
    "duration": 48,
    "start_time": "2022-05-01T20:53:14.663Z"
   },
   {
    "duration": 24,
    "start_time": "2022-05-01T20:53:14.713Z"
   },
   {
    "duration": 441,
    "start_time": "2022-05-01T20:53:14.739Z"
   },
   {
    "duration": 25,
    "start_time": "2022-05-01T20:53:15.183Z"
   },
   {
    "duration": 5306,
    "start_time": "2022-05-01T20:53:15.210Z"
   },
   {
    "duration": 335,
    "start_time": "2022-05-01T20:53:20.518Z"
   },
   {
    "duration": 22,
    "start_time": "2022-05-01T20:53:20.855Z"
   },
   {
    "duration": 38,
    "start_time": "2022-05-01T20:53:20.879Z"
   },
   {
    "duration": 1538,
    "start_time": "2022-05-01T20:53:20.919Z"
   },
   {
    "duration": 1159,
    "start_time": "2022-05-01T20:53:22.458Z"
   },
   {
    "duration": 97,
    "start_time": "2022-05-01T20:53:23.618Z"
   },
   {
    "duration": 73,
    "start_time": "2022-05-01T20:53:23.717Z"
   },
   {
    "duration": 15,
    "start_time": "2022-05-01T20:53:23.792Z"
   },
   {
    "duration": 3,
    "start_time": "2022-05-01T20:53:23.809Z"
   },
   {
    "duration": 6,
    "start_time": "2022-05-01T20:53:23.814Z"
   },
   {
    "duration": 26,
    "start_time": "2022-05-01T20:54:53.274Z"
   },
   {
    "duration": 60,
    "start_time": "2022-05-01T20:54:59.572Z"
   },
   {
    "duration": 1509,
    "start_time": "2022-05-01T20:58:19.966Z"
   },
   {
    "duration": 869,
    "start_time": "2022-05-01T20:58:21.477Z"
   },
   {
    "duration": 152,
    "start_time": "2022-05-01T20:58:22.348Z"
   },
   {
    "duration": 17,
    "start_time": "2022-05-01T20:58:22.503Z"
   },
   {
    "duration": 3,
    "start_time": "2022-05-01T20:58:22.522Z"
   },
   {
    "duration": 321,
    "start_time": "2022-05-01T20:58:22.527Z"
   },
   {
    "duration": 57,
    "start_time": "2022-05-01T20:58:22.850Z"
   },
   {
    "duration": 972,
    "start_time": "2022-05-01T20:58:22.909Z"
   },
   {
    "duration": 5,
    "start_time": "2022-05-01T20:58:23.883Z"
   },
   {
    "duration": 180,
    "start_time": "2022-05-01T20:58:23.892Z"
   },
   {
    "duration": 4,
    "start_time": "2022-05-01T20:58:24.075Z"
   },
   {
    "duration": 28,
    "start_time": "2022-05-01T20:58:24.081Z"
   },
   {
    "duration": 4,
    "start_time": "2022-05-01T20:58:24.111Z"
   },
   {
    "duration": 13,
    "start_time": "2022-05-01T20:58:24.117Z"
   },
   {
    "duration": 10,
    "start_time": "2022-05-01T20:58:24.132Z"
   },
   {
    "duration": 66,
    "start_time": "2022-05-01T20:58:24.144Z"
   },
   {
    "duration": 7,
    "start_time": "2022-05-01T20:58:24.212Z"
   },
   {
    "duration": 8,
    "start_time": "2022-05-01T20:58:24.220Z"
   },
   {
    "duration": 6,
    "start_time": "2022-05-01T20:58:24.229Z"
   },
   {
    "duration": 41,
    "start_time": "2022-05-01T20:58:24.237Z"
   },
   {
    "duration": 60,
    "start_time": "2022-05-01T20:58:24.280Z"
   },
   {
    "duration": 6374,
    "start_time": "2022-05-01T20:58:24.342Z"
   },
   {
    "duration": 6,
    "start_time": "2022-05-01T20:58:30.718Z"
   },
   {
    "duration": 411,
    "start_time": "2022-05-01T20:58:30.725Z"
   },
   {
    "duration": 2,
    "start_time": "2022-05-01T20:58:31.138Z"
   },
   {
    "duration": 9,
    "start_time": "2022-05-01T20:58:31.141Z"
   },
   {
    "duration": 6,
    "start_time": "2022-05-01T20:58:31.152Z"
   },
   {
    "duration": 16,
    "start_time": "2022-05-01T20:58:31.162Z"
   },
   {
    "duration": 54,
    "start_time": "2022-05-01T20:58:31.179Z"
   },
   {
    "duration": 21,
    "start_time": "2022-05-01T20:58:31.235Z"
   },
   {
    "duration": 29,
    "start_time": "2022-05-01T20:58:31.257Z"
   },
   {
    "duration": 29,
    "start_time": "2022-05-01T20:58:31.288Z"
   },
   {
    "duration": 20,
    "start_time": "2022-05-01T20:58:31.319Z"
   },
   {
    "duration": 19,
    "start_time": "2022-05-01T20:58:31.341Z"
   },
   {
    "duration": 46,
    "start_time": "2022-05-01T20:58:31.362Z"
   },
   {
    "duration": 23,
    "start_time": "2022-05-01T20:58:31.410Z"
   },
   {
    "duration": 23,
    "start_time": "2022-05-01T20:58:31.434Z"
   },
   {
    "duration": 22,
    "start_time": "2022-05-01T20:58:31.459Z"
   },
   {
    "duration": 429,
    "start_time": "2022-05-01T20:58:31.483Z"
   },
   {
    "duration": 14,
    "start_time": "2022-05-01T20:58:31.913Z"
   },
   {
    "duration": 5047,
    "start_time": "2022-05-01T20:58:31.929Z"
   },
   {
    "duration": 315,
    "start_time": "2022-05-01T20:58:36.977Z"
   },
   {
    "duration": 21,
    "start_time": "2022-05-01T20:58:37.293Z"
   },
   {
    "duration": 39,
    "start_time": "2022-05-01T20:58:37.316Z"
   },
   {
    "duration": 1394,
    "start_time": "2022-05-01T20:58:37.356Z"
   },
   {
    "duration": 1051,
    "start_time": "2022-05-01T20:58:38.752Z"
   },
   {
    "duration": 89,
    "start_time": "2022-05-01T20:58:39.807Z"
   },
   {
    "duration": 69,
    "start_time": "2022-05-01T20:58:39.898Z"
   },
   {
    "duration": 39,
    "start_time": "2022-05-01T20:58:39.969Z"
   },
   {
    "duration": 684,
    "start_time": "2022-05-01T20:58:40.010Z"
   },
   {
    "duration": 201,
    "start_time": "2022-05-01T20:58:40.695Z"
   },
   {
    "duration": 319,
    "start_time": "2022-05-01T20:58:40.898Z"
   },
   {
    "duration": 3,
    "start_time": "2022-05-01T20:58:41.218Z"
   },
   {
    "duration": 5,
    "start_time": "2022-05-01T20:58:41.223Z"
   },
   {
    "duration": 5,
    "start_time": "2022-05-01T20:58:41.229Z"
   },
   {
    "duration": 215,
    "start_time": "2022-05-01T20:58:41.235Z"
   },
   {
    "duration": 3,
    "start_time": "2022-05-01T20:58:41.452Z"
   },
   {
    "duration": 12,
    "start_time": "2022-05-01T20:58:41.456Z"
   },
   {
    "duration": 5,
    "start_time": "2022-05-01T20:58:41.470Z"
   },
   {
    "duration": 328580,
    "start_time": "2022-05-01T20:58:41.476Z"
   },
   {
    "duration": 106,
    "start_time": "2022-05-01T21:04:10.058Z"
   },
   {
    "duration": 10,
    "start_time": "2022-05-01T21:04:10.166Z"
   },
   {
    "duration": 0,
    "start_time": "2022-05-01T21:04:10.177Z"
   },
   {
    "duration": 3,
    "start_time": "2022-05-01T21:04:50.796Z"
   },
   {
    "duration": 324036,
    "start_time": "2022-05-01T21:05:00.798Z"
   },
   {
    "duration": 46753,
    "start_time": "2022-05-01T21:10:24.836Z"
   },
   {
    "duration": 3,
    "start_time": "2022-05-01T21:11:11.591Z"
   },
   {
    "duration": 14,
    "start_time": "2022-05-01T21:11:11.596Z"
   },
   {
    "duration": 3,
    "start_time": "2022-05-01T21:12:24.823Z"
   },
   {
    "duration": 15,
    "start_time": "2022-05-01T21:12:26.364Z"
   },
   {
    "duration": 65,
    "start_time": "2022-05-01T21:12:27.314Z"
   },
   {
    "duration": 33,
    "start_time": "2022-05-01T21:12:50.856Z"
   },
   {
    "duration": 5078,
    "start_time": "2022-05-01T21:16:26.200Z"
   },
   {
    "duration": 5007,
    "start_time": "2022-05-01T21:19:34.863Z"
   },
   {
    "duration": 1554,
    "start_time": "2022-05-01T21:21:47.532Z"
   },
   {
    "duration": 1064,
    "start_time": "2022-05-01T21:21:59.282Z"
   },
   {
    "duration": 4,
    "start_time": "2022-05-01T21:28:24.869Z"
   },
   {
    "duration": 3,
    "start_time": "2022-05-01T21:29:24.647Z"
   },
   {
    "duration": 10,
    "start_time": "2022-05-01T21:33:26.246Z"
   },
   {
    "duration": 16,
    "start_time": "2022-05-01T21:34:59.659Z"
   },
   {
    "duration": 11,
    "start_time": "2022-05-01T21:38:05.348Z"
   },
   {
    "duration": 11,
    "start_time": "2022-05-01T21:38:24.945Z"
   },
   {
    "duration": 11,
    "start_time": "2022-05-01T21:38:34.746Z"
   },
   {
    "duration": 76,
    "start_time": "2022-05-01T21:38:46.026Z"
   },
   {
    "duration": 30,
    "start_time": "2022-05-01T21:38:47.889Z"
   },
   {
    "duration": 30,
    "start_time": "2022-05-01T21:38:52.604Z"
   },
   {
    "duration": 81,
    "start_time": "2022-05-01T21:38:56.693Z"
   },
   {
    "duration": 49,
    "start_time": "2022-05-01T21:40:51.769Z"
   },
   {
    "duration": 3,
    "start_time": "2022-05-01T22:04:47.705Z"
   },
   {
    "duration": 3,
    "start_time": "2022-05-01T22:04:49.211Z"
   },
   {
    "duration": 24,
    "start_time": "2022-05-01T22:04:51.210Z"
   },
   {
    "duration": 69,
    "start_time": "2022-05-01T22:04:53.336Z"
   },
   {
    "duration": 49,
    "start_time": "2022-05-01T22:04:55.153Z"
   },
   {
    "duration": 418,
    "start_time": "2022-05-01T22:05:31.534Z"
   },
   {
    "duration": 1555,
    "start_time": "2022-05-01T22:10:14.425Z"
   },
   {
    "duration": 875,
    "start_time": "2022-05-01T22:10:15.982Z"
   },
   {
    "duration": 150,
    "start_time": "2022-05-01T22:10:16.859Z"
   },
   {
    "duration": 20,
    "start_time": "2022-05-01T22:10:17.011Z"
   },
   {
    "duration": 4,
    "start_time": "2022-05-01T22:10:17.032Z"
   },
   {
    "duration": 357,
    "start_time": "2022-05-01T22:10:17.037Z"
   },
   {
    "duration": 49,
    "start_time": "2022-05-01T22:10:17.396Z"
   },
   {
    "duration": 1145,
    "start_time": "2022-05-01T22:10:17.447Z"
   },
   {
    "duration": 15,
    "start_time": "2022-05-01T22:10:18.594Z"
   },
   {
    "duration": 227,
    "start_time": "2022-05-01T22:10:18.611Z"
   },
   {
    "duration": 4,
    "start_time": "2022-05-01T22:10:18.839Z"
   },
   {
    "duration": 15,
    "start_time": "2022-05-01T22:10:18.845Z"
   },
   {
    "duration": 4,
    "start_time": "2022-05-01T22:10:18.862Z"
   },
   {
    "duration": 12,
    "start_time": "2022-05-01T22:10:18.868Z"
   },
   {
    "duration": 11,
    "start_time": "2022-05-01T22:10:18.907Z"
   },
   {
    "duration": 35,
    "start_time": "2022-05-01T22:10:18.919Z"
   },
   {
    "duration": 6,
    "start_time": "2022-05-01T22:10:18.956Z"
   },
   {
    "duration": 7,
    "start_time": "2022-05-01T22:10:18.964Z"
   },
   {
    "duration": 40,
    "start_time": "2022-05-01T22:10:18.973Z"
   },
   {
    "duration": 41,
    "start_time": "2022-05-01T22:10:19.015Z"
   },
   {
    "duration": 52,
    "start_time": "2022-05-01T22:10:19.058Z"
   },
   {
    "duration": 6325,
    "start_time": "2022-05-01T22:10:19.112Z"
   },
   {
    "duration": 6,
    "start_time": "2022-05-01T22:10:25.439Z"
   },
   {
    "duration": 404,
    "start_time": "2022-05-01T22:10:25.446Z"
   },
   {
    "duration": 2,
    "start_time": "2022-05-01T22:10:25.852Z"
   },
   {
    "duration": 9,
    "start_time": "2022-05-01T22:10:25.856Z"
   },
   {
    "duration": 6,
    "start_time": "2022-05-01T22:10:25.866Z"
   },
   {
    "duration": 38,
    "start_time": "2022-05-01T22:10:25.876Z"
   },
   {
    "duration": 29,
    "start_time": "2022-05-01T22:10:25.916Z"
   },
   {
    "duration": 20,
    "start_time": "2022-05-01T22:10:25.946Z"
   },
   {
    "duration": 39,
    "start_time": "2022-05-01T22:10:25.968Z"
   },
   {
    "duration": 16,
    "start_time": "2022-05-01T22:10:26.009Z"
   },
   {
    "duration": 20,
    "start_time": "2022-05-01T22:10:26.026Z"
   },
   {
    "duration": 30,
    "start_time": "2022-05-01T22:10:26.047Z"
   },
   {
    "duration": 38,
    "start_time": "2022-05-01T22:10:26.079Z"
   },
   {
    "duration": 22,
    "start_time": "2022-05-01T22:10:26.119Z"
   },
   {
    "duration": 37,
    "start_time": "2022-05-01T22:10:26.143Z"
   },
   {
    "duration": 33,
    "start_time": "2022-05-01T22:10:26.181Z"
   },
   {
    "duration": 401,
    "start_time": "2022-05-01T22:10:26.215Z"
   },
   {
    "duration": 14,
    "start_time": "2022-05-01T22:10:26.618Z"
   },
   {
    "duration": 5113,
    "start_time": "2022-05-01T22:10:26.634Z"
   },
   {
    "duration": 316,
    "start_time": "2022-05-01T22:10:31.749Z"
   },
   {
    "duration": 22,
    "start_time": "2022-05-01T22:10:32.067Z"
   },
   {
    "duration": 32,
    "start_time": "2022-05-01T22:10:32.090Z"
   },
   {
    "duration": 1376,
    "start_time": "2022-05-01T22:10:32.124Z"
   },
   {
    "duration": 1021,
    "start_time": "2022-05-01T22:10:33.501Z"
   },
   {
    "duration": 93,
    "start_time": "2022-05-01T22:10:34.523Z"
   },
   {
    "duration": 65,
    "start_time": "2022-05-01T22:10:34.618Z"
   },
   {
    "duration": 36,
    "start_time": "2022-05-01T22:10:34.685Z"
   },
   {
    "duration": 718,
    "start_time": "2022-05-01T22:10:34.723Z"
   },
   {
    "duration": 204,
    "start_time": "2022-05-01T22:10:35.443Z"
   },
   {
    "duration": 305,
    "start_time": "2022-05-01T22:10:35.649Z"
   },
   {
    "duration": 3,
    "start_time": "2022-05-01T22:10:35.955Z"
   },
   {
    "duration": 6,
    "start_time": "2022-05-01T22:10:35.959Z"
   },
   {
    "duration": 5,
    "start_time": "2022-05-01T22:10:35.966Z"
   },
   {
    "duration": 218,
    "start_time": "2022-05-01T22:10:35.972Z"
   },
   {
    "duration": 2,
    "start_time": "2022-05-01T22:10:36.192Z"
   },
   {
    "duration": 13,
    "start_time": "2022-05-01T22:10:36.195Z"
   },
   {
    "duration": 4,
    "start_time": "2022-05-01T22:10:36.209Z"
   },
   {
    "duration": 4,
    "start_time": "2022-05-01T22:10:36.215Z"
   },
   {
    "duration": 4,
    "start_time": "2022-05-01T22:10:36.221Z"
   },
   {
    "duration": 17,
    "start_time": "2022-05-01T22:10:36.227Z"
   },
   {
    "duration": 91,
    "start_time": "2022-05-01T22:10:36.246Z"
   },
   {
    "duration": 451,
    "start_time": "2022-05-01T22:10:36.339Z"
   },
   {
    "duration": 26,
    "start_time": "2022-05-01T22:10:36.792Z"
   },
   {
    "duration": 121,
    "start_time": "2022-05-01T22:10:36.820Z"
   },
   {
    "duration": 0,
    "start_time": "2022-05-01T22:10:36.943Z"
   },
   {
    "duration": 0,
    "start_time": "2022-05-01T22:10:36.944Z"
   },
   {
    "duration": 1496,
    "start_time": "2022-05-01T22:12:23.586Z"
   },
   {
    "duration": 3152,
    "start_time": "2022-05-01T22:14:51.745Z"
   },
   {
    "duration": 170,
    "start_time": "2022-05-01T22:15:02.337Z"
   },
   {
    "duration": 563,
    "start_time": "2022-05-01T22:15:30.810Z"
   },
   {
    "duration": 2,
    "start_time": "2022-05-01T22:15:44.480Z"
   },
   {
    "duration": 3,
    "start_time": "2022-05-01T22:15:49.023Z"
   },
   {
    "duration": 12029,
    "start_time": "2022-05-01T22:16:14.077Z"
   },
   {
    "duration": 154,
    "start_time": "2022-05-01T22:17:06.205Z"
   },
   {
    "duration": 3,
    "start_time": "2022-05-01T22:17:08.140Z"
   },
   {
    "duration": 4,
    "start_time": "2022-05-01T22:17:11.707Z"
   },
   {
    "duration": 31,
    "start_time": "2022-05-01T22:20:38.641Z"
   },
   {
    "duration": 10243,
    "start_time": "2022-05-01T22:21:03.436Z"
   },
   {
    "duration": 97093,
    "start_time": "2022-05-01T22:21:15.392Z"
   },
   {
    "duration": 107,
    "start_time": "2022-05-01T22:25:18.860Z"
   },
   {
    "duration": 4,
    "start_time": "2022-05-01T22:25:35.267Z"
   },
   {
    "duration": 89444,
    "start_time": "2022-05-01T22:28:06.931Z"
   },
   {
    "duration": 98012,
    "start_time": "2022-05-01T22:30:14.305Z"
   },
   {
    "duration": 4,
    "start_time": "2022-05-01T22:31:56.824Z"
   },
   {
    "duration": 96,
    "start_time": "2022-05-01T22:32:40.221Z"
   },
   {
    "duration": 6023,
    "start_time": "2022-05-01T22:32:59.841Z"
   },
   {
    "duration": 3,
    "start_time": "2022-05-01T22:33:09.524Z"
   },
   {
    "duration": 5,
    "start_time": "2022-05-01T22:33:18.971Z"
   },
   {
    "duration": 1482,
    "start_time": "2022-05-01T22:34:00.665Z"
   },
   {
    "duration": 868,
    "start_time": "2022-05-01T22:34:02.149Z"
   },
   {
    "duration": 138,
    "start_time": "2022-05-01T22:34:03.018Z"
   },
   {
    "duration": 17,
    "start_time": "2022-05-01T22:34:03.158Z"
   },
   {
    "duration": 4,
    "start_time": "2022-05-01T22:34:03.177Z"
   },
   {
    "duration": 307,
    "start_time": "2022-05-01T22:34:03.182Z"
   },
   {
    "duration": 50,
    "start_time": "2022-05-01T22:34:03.490Z"
   },
   {
    "duration": 970,
    "start_time": "2022-05-01T22:34:03.542Z"
   },
   {
    "duration": 6,
    "start_time": "2022-05-01T22:34:04.514Z"
   },
   {
    "duration": 188,
    "start_time": "2022-05-01T22:34:04.522Z"
   },
   {
    "duration": 3,
    "start_time": "2022-05-01T22:34:04.712Z"
   },
   {
    "duration": 17,
    "start_time": "2022-05-01T22:34:04.717Z"
   },
   {
    "duration": 3,
    "start_time": "2022-05-01T22:34:04.736Z"
   },
   {
    "duration": 13,
    "start_time": "2022-05-01T22:34:04.741Z"
   },
   {
    "duration": 10,
    "start_time": "2022-05-01T22:34:04.756Z"
   },
   {
    "duration": 68,
    "start_time": "2022-05-01T22:34:04.768Z"
   },
   {
    "duration": 6,
    "start_time": "2022-05-01T22:34:04.838Z"
   },
   {
    "duration": 6,
    "start_time": "2022-05-01T22:34:04.846Z"
   },
   {
    "duration": 6,
    "start_time": "2022-05-01T22:34:04.854Z"
   },
   {
    "duration": 69,
    "start_time": "2022-05-01T22:34:04.861Z"
   },
   {
    "duration": 36,
    "start_time": "2022-05-01T22:34:04.931Z"
   },
   {
    "duration": 6550,
    "start_time": "2022-05-01T22:34:04.969Z"
   },
   {
    "duration": 6,
    "start_time": "2022-05-01T22:34:11.521Z"
   },
   {
    "duration": 416,
    "start_time": "2022-05-01T22:34:11.528Z"
   },
   {
    "duration": 2,
    "start_time": "2022-05-01T22:34:11.946Z"
   },
   {
    "duration": 8,
    "start_time": "2022-05-01T22:34:11.950Z"
   },
   {
    "duration": 6,
    "start_time": "2022-05-01T22:34:11.960Z"
   },
   {
    "duration": 43,
    "start_time": "2022-05-01T22:34:11.970Z"
   },
   {
    "duration": 30,
    "start_time": "2022-05-01T22:34:12.015Z"
   },
   {
    "duration": 22,
    "start_time": "2022-05-01T22:34:12.047Z"
   },
   {
    "duration": 53,
    "start_time": "2022-05-01T22:34:12.071Z"
   },
   {
    "duration": 17,
    "start_time": "2022-05-01T22:34:12.126Z"
   },
   {
    "duration": 22,
    "start_time": "2022-05-01T22:34:12.144Z"
   },
   {
    "duration": 41,
    "start_time": "2022-05-01T22:34:12.168Z"
   },
   {
    "duration": 25,
    "start_time": "2022-05-01T22:34:12.210Z"
   },
   {
    "duration": 23,
    "start_time": "2022-05-01T22:34:12.236Z"
   },
   {
    "duration": 49,
    "start_time": "2022-05-01T22:34:12.261Z"
   },
   {
    "duration": 23,
    "start_time": "2022-05-01T22:34:12.312Z"
   },
   {
    "duration": 434,
    "start_time": "2022-05-01T22:34:12.337Z"
   },
   {
    "duration": 17,
    "start_time": "2022-05-01T22:34:12.774Z"
   },
   {
    "duration": 5388,
    "start_time": "2022-05-01T22:34:12.792Z"
   },
   {
    "duration": 329,
    "start_time": "2022-05-01T22:34:18.182Z"
   },
   {
    "duration": 22,
    "start_time": "2022-05-01T22:34:18.512Z"
   },
   {
    "duration": 22,
    "start_time": "2022-05-01T22:34:18.535Z"
   },
   {
    "duration": 1457,
    "start_time": "2022-05-01T22:34:18.559Z"
   },
   {
    "duration": 1119,
    "start_time": "2022-05-01T22:34:20.018Z"
   },
   {
    "duration": 98,
    "start_time": "2022-05-01T22:34:21.139Z"
   },
   {
    "duration": 73,
    "start_time": "2022-05-01T22:34:21.238Z"
   },
   {
    "duration": 23,
    "start_time": "2022-05-01T22:34:21.313Z"
   },
   {
    "duration": 810,
    "start_time": "2022-05-01T22:34:21.338Z"
   },
   {
    "duration": 212,
    "start_time": "2022-05-01T22:34:22.150Z"
   },
   {
    "duration": 318,
    "start_time": "2022-05-01T22:34:22.364Z"
   },
   {
    "duration": 3,
    "start_time": "2022-05-01T22:34:22.684Z"
   },
   {
    "duration": 6,
    "start_time": "2022-05-01T22:34:22.689Z"
   },
   {
    "duration": 11,
    "start_time": "2022-05-01T22:34:22.696Z"
   },
   {
    "duration": 220,
    "start_time": "2022-05-01T22:34:22.709Z"
   },
   {
    "duration": 2,
    "start_time": "2022-05-01T22:34:22.931Z"
   },
   {
    "duration": 6,
    "start_time": "2022-05-01T22:34:22.935Z"
   },
   {
    "duration": 4,
    "start_time": "2022-05-01T22:34:22.943Z"
   },
   {
    "duration": 5,
    "start_time": "2022-05-01T22:34:22.949Z"
   },
   {
    "duration": 319369,
    "start_time": "2022-05-01T22:34:22.955Z"
   },
   {
    "duration": 46384,
    "start_time": "2022-05-01T22:39:42.326Z"
   },
   {
    "duration": 3,
    "start_time": "2022-05-01T22:40:28.712Z"
   },
   {
    "duration": 4,
    "start_time": "2022-05-01T22:40:28.717Z"
   },
   {
    "duration": 17,
    "start_time": "2022-05-01T22:40:28.722Z"
   },
   {
    "duration": 87,
    "start_time": "2022-05-01T22:40:28.740Z"
   },
   {
    "duration": 444,
    "start_time": "2022-05-01T22:40:28.829Z"
   },
   {
    "duration": 3,
    "start_time": "2022-05-01T22:40:29.275Z"
   },
   {
    "duration": 11007,
    "start_time": "2022-05-01T22:40:29.280Z"
   },
   {
    "duration": 157,
    "start_time": "2022-05-01T22:40:40.289Z"
   },
   {
    "duration": 3,
    "start_time": "2022-05-01T22:40:40.448Z"
   },
   {
    "duration": 6,
    "start_time": "2022-05-01T22:40:40.453Z"
   },
   {
    "duration": 3,
    "start_time": "2022-05-01T22:40:40.461Z"
   },
   {
    "duration": 94740,
    "start_time": "2022-05-01T22:40:40.466Z"
   },
   {
    "duration": 6499,
    "start_time": "2022-05-01T22:42:15.207Z"
   },
   {
    "duration": 3,
    "start_time": "2022-05-01T22:42:21.708Z"
   },
   {
    "duration": 4,
    "start_time": "2022-05-01T22:42:44.398Z"
   },
   {
    "duration": 5,
    "start_time": "2022-05-01T22:44:27.731Z"
   },
   {
    "duration": 13628,
    "start_time": "2022-05-01T22:46:05.998Z"
   },
   {
    "duration": 91,
    "start_time": "2022-05-01T22:46:33.254Z"
   },
   {
    "duration": 1370679,
    "start_time": "2022-05-01T22:46:45.480Z"
   },
   {
    "duration": 11,
    "start_time": "2022-05-01T23:09:36.161Z"
   },
   {
    "duration": 0,
    "start_time": "2022-05-01T23:09:36.173Z"
   },
   {
    "duration": 0,
    "start_time": "2022-05-01T23:09:36.175Z"
   },
   {
    "duration": 0,
    "start_time": "2022-05-01T23:09:36.176Z"
   },
   {
    "duration": 19,
    "start_time": "2022-05-01T23:09:54.111Z"
   },
   {
    "duration": 120,
    "start_time": "2022-05-01T23:11:37.632Z"
   },
   {
    "duration": 137,
    "start_time": "2022-05-01T23:11:58.974Z"
   },
   {
    "duration": 4213,
    "start_time": "2022-05-01T23:12:02.872Z"
   },
   {
    "duration": 1737,
    "start_time": "2022-05-02T09:36:21.180Z"
   },
   {
    "duration": 827,
    "start_time": "2022-05-02T09:36:22.919Z"
   },
   {
    "duration": 138,
    "start_time": "2022-05-02T09:36:23.747Z"
   },
   {
    "duration": 17,
    "start_time": "2022-05-02T09:36:23.887Z"
   },
   {
    "duration": 3,
    "start_time": "2022-05-02T09:36:23.906Z"
   },
   {
    "duration": 294,
    "start_time": "2022-05-02T09:36:23.911Z"
   },
   {
    "duration": 46,
    "start_time": "2022-05-02T09:36:24.206Z"
   },
   {
    "duration": 941,
    "start_time": "2022-05-02T09:36:24.254Z"
   },
   {
    "duration": 5,
    "start_time": "2022-05-02T09:36:25.197Z"
   },
   {
    "duration": 176,
    "start_time": "2022-05-02T09:36:25.205Z"
   },
   {
    "duration": 3,
    "start_time": "2022-05-02T09:36:25.383Z"
   },
   {
    "duration": 18,
    "start_time": "2022-05-02T09:36:25.388Z"
   },
   {
    "duration": 4,
    "start_time": "2022-05-02T09:36:25.407Z"
   },
   {
    "duration": 14,
    "start_time": "2022-05-02T09:36:25.412Z"
   },
   {
    "duration": 10,
    "start_time": "2022-05-02T09:36:25.428Z"
   },
   {
    "duration": 62,
    "start_time": "2022-05-02T09:36:25.439Z"
   },
   {
    "duration": 7,
    "start_time": "2022-05-02T09:36:25.503Z"
   },
   {
    "duration": 7,
    "start_time": "2022-05-02T09:36:25.512Z"
   },
   {
    "duration": 12,
    "start_time": "2022-05-02T09:36:25.521Z"
   },
   {
    "duration": 59,
    "start_time": "2022-05-02T09:36:25.535Z"
   },
   {
    "duration": 35,
    "start_time": "2022-05-02T09:36:25.596Z"
   },
   {
    "duration": 6053,
    "start_time": "2022-05-02T09:36:25.633Z"
   },
   {
    "duration": 6,
    "start_time": "2022-05-02T09:36:31.688Z"
   },
   {
    "duration": 396,
    "start_time": "2022-05-02T09:36:31.696Z"
   },
   {
    "duration": 3,
    "start_time": "2022-05-02T09:36:32.094Z"
   },
   {
    "duration": 16,
    "start_time": "2022-05-02T09:36:32.099Z"
   },
   {
    "duration": 15,
    "start_time": "2022-05-02T09:36:32.117Z"
   },
   {
    "duration": 21,
    "start_time": "2022-05-02T09:36:32.137Z"
   },
   {
    "duration": 34,
    "start_time": "2022-05-02T09:36:32.172Z"
   },
   {
    "duration": 22,
    "start_time": "2022-05-02T09:36:32.208Z"
   },
   {
    "duration": 47,
    "start_time": "2022-05-02T09:36:32.233Z"
   },
   {
    "duration": 18,
    "start_time": "2022-05-02T09:36:32.282Z"
   },
   {
    "duration": 37,
    "start_time": "2022-05-02T09:36:32.302Z"
   },
   {
    "duration": 21,
    "start_time": "2022-05-02T09:36:32.341Z"
   },
   {
    "duration": 24,
    "start_time": "2022-05-02T09:36:32.372Z"
   },
   {
    "duration": 22,
    "start_time": "2022-05-02T09:36:32.397Z"
   },
   {
    "duration": 21,
    "start_time": "2022-05-02T09:36:32.421Z"
   },
   {
    "duration": 44,
    "start_time": "2022-05-02T09:36:32.444Z"
   },
   {
    "duration": 383,
    "start_time": "2022-05-02T09:36:32.490Z"
   },
   {
    "duration": 14,
    "start_time": "2022-05-02T09:36:32.875Z"
   },
   {
    "duration": 4970,
    "start_time": "2022-05-02T09:36:32.891Z"
   },
   {
    "duration": 298,
    "start_time": "2022-05-02T09:36:37.864Z"
   },
   {
    "duration": 21,
    "start_time": "2022-05-02T09:36:38.164Z"
   },
   {
    "duration": 21,
    "start_time": "2022-05-02T09:36:38.187Z"
   },
   {
    "duration": 1301,
    "start_time": "2022-05-02T09:36:38.210Z"
   },
   {
    "duration": 1006,
    "start_time": "2022-05-02T09:36:39.513Z"
   },
   {
    "duration": 85,
    "start_time": "2022-05-02T09:36:40.520Z"
   },
   {
    "duration": 77,
    "start_time": "2022-05-02T09:36:40.607Z"
   },
   {
    "duration": 23,
    "start_time": "2022-05-02T09:36:40.686Z"
   },
   {
    "duration": 793,
    "start_time": "2022-05-02T09:36:40.711Z"
   },
   {
    "duration": 216,
    "start_time": "2022-05-02T09:36:41.506Z"
   },
   {
    "duration": 322,
    "start_time": "2022-05-02T09:36:41.724Z"
   },
   {
    "duration": 3,
    "start_time": "2022-05-02T09:36:42.047Z"
   },
   {
    "duration": 6,
    "start_time": "2022-05-02T09:36:42.052Z"
   },
   {
    "duration": 14,
    "start_time": "2022-05-02T09:36:42.059Z"
   },
   {
    "duration": 213,
    "start_time": "2022-05-02T09:36:42.076Z"
   },
   {
    "duration": 3,
    "start_time": "2022-05-02T09:36:42.291Z"
   },
   {
    "duration": 11,
    "start_time": "2022-05-02T09:36:42.295Z"
   },
   {
    "duration": 6,
    "start_time": "2022-05-02T09:36:42.307Z"
   },
   {
    "duration": 8,
    "start_time": "2022-05-02T09:36:42.315Z"
   },
   {
    "duration": 265673,
    "start_time": "2022-05-02T09:36:42.325Z"
   },
   {
    "duration": 96,
    "start_time": "2022-05-02T09:41:08.000Z"
   },
   {
    "duration": 10,
    "start_time": "2022-05-02T09:41:08.098Z"
   },
   {
    "duration": 0,
    "start_time": "2022-05-02T09:41:08.110Z"
   },
   {
    "duration": 0,
    "start_time": "2022-05-02T09:41:08.111Z"
   },
   {
    "duration": 0,
    "start_time": "2022-05-02T09:41:08.112Z"
   },
   {
    "duration": 0,
    "start_time": "2022-05-02T09:41:08.113Z"
   },
   {
    "duration": 0,
    "start_time": "2022-05-02T09:41:08.114Z"
   },
   {
    "duration": 0,
    "start_time": "2022-05-02T09:41:08.115Z"
   },
   {
    "duration": 0,
    "start_time": "2022-05-02T09:41:08.116Z"
   },
   {
    "duration": 0,
    "start_time": "2022-05-02T09:41:08.117Z"
   },
   {
    "duration": 0,
    "start_time": "2022-05-02T09:41:08.118Z"
   },
   {
    "duration": 0,
    "start_time": "2022-05-02T09:41:08.119Z"
   },
   {
    "duration": 0,
    "start_time": "2022-05-02T09:41:08.120Z"
   },
   {
    "duration": 0,
    "start_time": "2022-05-02T09:41:08.122Z"
   },
   {
    "duration": 0,
    "start_time": "2022-05-02T09:41:08.123Z"
   },
   {
    "duration": 0,
    "start_time": "2022-05-02T09:41:08.124Z"
   },
   {
    "duration": 0,
    "start_time": "2022-05-02T09:41:08.125Z"
   },
   {
    "duration": 0,
    "start_time": "2022-05-02T09:41:08.126Z"
   },
   {
    "duration": 0,
    "start_time": "2022-05-02T09:41:08.127Z"
   },
   {
    "duration": 0,
    "start_time": "2022-05-02T09:41:08.128Z"
   },
   {
    "duration": 0,
    "start_time": "2022-05-02T09:41:08.129Z"
   },
   {
    "duration": 0,
    "start_time": "2022-05-02T09:41:08.130Z"
   },
   {
    "duration": 0,
    "start_time": "2022-05-02T09:41:08.131Z"
   },
   {
    "duration": 1443,
    "start_time": "2022-05-02T09:46:10.395Z"
   },
   {
    "duration": 774,
    "start_time": "2022-05-02T09:46:11.840Z"
   },
   {
    "duration": 129,
    "start_time": "2022-05-02T09:46:12.616Z"
   },
   {
    "duration": 27,
    "start_time": "2022-05-02T09:46:12.748Z"
   },
   {
    "duration": 3,
    "start_time": "2022-05-02T09:46:12.777Z"
   },
   {
    "duration": 274,
    "start_time": "2022-05-02T09:46:12.782Z"
   },
   {
    "duration": 49,
    "start_time": "2022-05-02T09:46:13.058Z"
   },
   {
    "duration": 909,
    "start_time": "2022-05-02T09:46:13.109Z"
   },
   {
    "duration": 7,
    "start_time": "2022-05-02T09:46:14.020Z"
   },
   {
    "duration": 178,
    "start_time": "2022-05-02T09:46:14.031Z"
   },
   {
    "duration": 4,
    "start_time": "2022-05-02T09:46:14.211Z"
   },
   {
    "duration": 18,
    "start_time": "2022-05-02T09:46:14.216Z"
   },
   {
    "duration": 3,
    "start_time": "2022-05-02T09:46:14.236Z"
   },
   {
    "duration": 14,
    "start_time": "2022-05-02T09:46:14.241Z"
   },
   {
    "duration": 10,
    "start_time": "2022-05-02T09:46:14.273Z"
   },
   {
    "duration": 32,
    "start_time": "2022-05-02T09:46:14.286Z"
   },
   {
    "duration": 7,
    "start_time": "2022-05-02T09:46:14.320Z"
   },
   {
    "duration": 7,
    "start_time": "2022-05-02T09:46:14.329Z"
   },
   {
    "duration": 39,
    "start_time": "2022-05-02T09:46:14.337Z"
   },
   {
    "duration": 40,
    "start_time": "2022-05-02T09:46:14.378Z"
   },
   {
    "duration": 33,
    "start_time": "2022-05-02T09:46:14.420Z"
   },
   {
    "duration": 5871,
    "start_time": "2022-05-02T09:46:14.456Z"
   },
   {
    "duration": 6,
    "start_time": "2022-05-02T09:46:20.329Z"
   },
   {
    "duration": 378,
    "start_time": "2022-05-02T09:46:20.337Z"
   },
   {
    "duration": 3,
    "start_time": "2022-05-02T09:46:20.718Z"
   },
   {
    "duration": 11,
    "start_time": "2022-05-02T09:46:20.723Z"
   },
   {
    "duration": 7,
    "start_time": "2022-05-02T09:46:20.736Z"
   },
   {
    "duration": 38,
    "start_time": "2022-05-02T09:46:20.747Z"
   },
   {
    "duration": 36,
    "start_time": "2022-05-02T09:46:20.787Z"
   },
   {
    "duration": 21,
    "start_time": "2022-05-02T09:46:20.824Z"
   },
   {
    "duration": 41,
    "start_time": "2022-05-02T09:46:20.847Z"
   },
   {
    "duration": 16,
    "start_time": "2022-05-02T09:46:20.890Z"
   },
   {
    "duration": 18,
    "start_time": "2022-05-02T09:46:20.908Z"
   },
   {
    "duration": 20,
    "start_time": "2022-05-02T09:46:20.927Z"
   },
   {
    "duration": 23,
    "start_time": "2022-05-02T09:46:20.973Z"
   },
   {
    "duration": 21,
    "start_time": "2022-05-02T09:46:20.998Z"
   },
   {
    "duration": 22,
    "start_time": "2022-05-02T09:46:21.021Z"
   },
   {
    "duration": 45,
    "start_time": "2022-05-02T09:46:21.045Z"
   },
   {
    "duration": 379,
    "start_time": "2022-05-02T09:46:21.092Z"
   },
   {
    "duration": 14,
    "start_time": "2022-05-02T09:46:21.473Z"
   },
   {
    "duration": 4849,
    "start_time": "2022-05-02T09:46:21.489Z"
   },
   {
    "duration": 307,
    "start_time": "2022-05-02T09:46:26.340Z"
   },
   {
    "duration": 25,
    "start_time": "2022-05-02T09:46:26.649Z"
   },
   {
    "duration": 22,
    "start_time": "2022-05-02T09:46:26.676Z"
   },
   {
    "duration": 1332,
    "start_time": "2022-05-02T09:46:26.700Z"
   },
   {
    "duration": 1012,
    "start_time": "2022-05-02T09:46:28.034Z"
   },
   {
    "duration": 91,
    "start_time": "2022-05-02T09:46:29.048Z"
   },
   {
    "duration": 74,
    "start_time": "2022-05-02T09:46:29.141Z"
   },
   {
    "duration": 23,
    "start_time": "2022-05-02T09:46:29.217Z"
   },
   {
    "duration": 918,
    "start_time": "2022-05-02T09:46:29.242Z"
   },
   {
    "duration": 220,
    "start_time": "2022-05-02T09:46:30.162Z"
   },
   {
    "duration": 333,
    "start_time": "2022-05-02T09:46:30.384Z"
   },
   {
    "duration": 3,
    "start_time": "2022-05-02T09:46:30.719Z"
   },
   {
    "duration": 24,
    "start_time": "2022-05-02T09:46:30.723Z"
   },
   {
    "duration": 17,
    "start_time": "2022-05-02T09:46:30.749Z"
   },
   {
    "duration": 211,
    "start_time": "2022-05-02T09:46:30.768Z"
   },
   {
    "duration": 2,
    "start_time": "2022-05-02T09:46:30.981Z"
   },
   {
    "duration": 19,
    "start_time": "2022-05-02T09:46:30.985Z"
   },
   {
    "duration": 7,
    "start_time": "2022-05-02T09:46:31.006Z"
   },
   {
    "duration": 12,
    "start_time": "2022-05-02T09:46:31.015Z"
   },
   {
    "duration": 363612,
    "start_time": "2022-05-02T09:46:31.029Z"
   },
   {
    "duration": 46111,
    "start_time": "2022-05-02T09:52:34.642Z"
   },
   {
    "duration": 3,
    "start_time": "2022-05-02T09:53:20.755Z"
   },
   {
    "duration": 20,
    "start_time": "2022-05-02T09:53:20.760Z"
   },
   {
    "duration": 24,
    "start_time": "2022-05-02T09:53:20.782Z"
   },
   {
    "duration": 82,
    "start_time": "2022-05-02T09:53:20.808Z"
   },
   {
    "duration": 435,
    "start_time": "2022-05-02T09:53:20.892Z"
   },
   {
    "duration": 3,
    "start_time": "2022-05-02T09:53:21.329Z"
   },
   {
    "duration": 10893,
    "start_time": "2022-05-02T09:53:21.334Z"
   },
   {
    "duration": 156,
    "start_time": "2022-05-02T09:53:32.229Z"
   },
   {
    "duration": 3,
    "start_time": "2022-05-02T09:53:32.388Z"
   },
   {
    "duration": 7,
    "start_time": "2022-05-02T09:53:32.393Z"
   },
   {
    "duration": 90602,
    "start_time": "2022-05-02T09:53:32.402Z"
   },
   {
    "duration": 5766,
    "start_time": "2022-05-02T09:55:03.006Z"
   },
   {
    "duration": 2,
    "start_time": "2022-05-02T09:55:08.774Z"
   },
   {
    "duration": 2305924,
    "start_time": "2022-05-02T09:55:08.778Z"
   },
   {
    "duration": 3,
    "start_time": "2022-05-02T10:33:34.704Z"
   },
   {
    "duration": 1475,
    "start_time": "2022-05-02T10:41:48.580Z"
   },
   {
    "duration": 810,
    "start_time": "2022-05-02T10:41:50.056Z"
   },
   {
    "duration": 141,
    "start_time": "2022-05-02T10:41:50.868Z"
   },
   {
    "duration": 19,
    "start_time": "2022-05-02T10:41:51.012Z"
   },
   {
    "duration": 4,
    "start_time": "2022-05-02T10:41:51.032Z"
   },
   {
    "duration": 302,
    "start_time": "2022-05-02T10:41:51.038Z"
   },
   {
    "duration": 54,
    "start_time": "2022-05-02T10:41:51.342Z"
   },
   {
    "duration": 952,
    "start_time": "2022-05-02T10:41:51.398Z"
   },
   {
    "duration": 6,
    "start_time": "2022-05-02T10:41:52.352Z"
   },
   {
    "duration": 171,
    "start_time": "2022-05-02T10:41:52.374Z"
   },
   {
    "duration": 4,
    "start_time": "2022-05-02T10:41:52.546Z"
   },
   {
    "duration": 28,
    "start_time": "2022-05-02T10:41:52.552Z"
   },
   {
    "duration": 4,
    "start_time": "2022-05-02T10:41:52.582Z"
   },
   {
    "duration": 14,
    "start_time": "2022-05-02T10:41:52.588Z"
   },
   {
    "duration": 10,
    "start_time": "2022-05-02T10:41:52.604Z"
   },
   {
    "duration": 58,
    "start_time": "2022-05-02T10:41:52.616Z"
   },
   {
    "duration": 7,
    "start_time": "2022-05-02T10:41:52.676Z"
   },
   {
    "duration": 7,
    "start_time": "2022-05-02T10:41:52.684Z"
   },
   {
    "duration": 7,
    "start_time": "2022-05-02T10:41:52.693Z"
   },
   {
    "duration": 52,
    "start_time": "2022-05-02T10:41:52.702Z"
   },
   {
    "duration": 34,
    "start_time": "2022-05-02T10:41:52.773Z"
   },
   {
    "duration": 6515,
    "start_time": "2022-05-02T10:41:52.809Z"
   },
   {
    "duration": 6,
    "start_time": "2022-05-02T10:41:59.326Z"
   },
   {
    "duration": 397,
    "start_time": "2022-05-02T10:41:59.333Z"
   },
   {
    "duration": 3,
    "start_time": "2022-05-02T10:41:59.731Z"
   },
   {
    "duration": 10,
    "start_time": "2022-05-02T10:41:59.735Z"
   },
   {
    "duration": 7,
    "start_time": "2022-05-02T10:41:59.747Z"
   },
   {
    "duration": 18,
    "start_time": "2022-05-02T10:41:59.774Z"
   },
   {
    "duration": 30,
    "start_time": "2022-05-02T10:41:59.793Z"
   },
   {
    "duration": 22,
    "start_time": "2022-05-02T10:41:59.825Z"
   },
   {
    "duration": 23,
    "start_time": "2022-05-02T10:41:59.873Z"
   },
   {
    "duration": 17,
    "start_time": "2022-05-02T10:41:59.897Z"
   },
   {
    "duration": 19,
    "start_time": "2022-05-02T10:41:59.916Z"
   },
   {
    "duration": 46,
    "start_time": "2022-05-02T10:41:59.937Z"
   },
   {
    "duration": 26,
    "start_time": "2022-05-02T10:41:59.985Z"
   },
   {
    "duration": 26,
    "start_time": "2022-05-02T10:42:00.013Z"
   },
   {
    "duration": 47,
    "start_time": "2022-05-02T10:42:00.042Z"
   },
   {
    "duration": 30,
    "start_time": "2022-05-02T10:42:00.091Z"
   },
   {
    "duration": 403,
    "start_time": "2022-05-02T10:42:00.123Z"
   },
   {
    "duration": 15,
    "start_time": "2022-05-02T10:42:00.529Z"
   },
   {
    "duration": 4952,
    "start_time": "2022-05-02T10:42:00.546Z"
   },
   {
    "duration": 305,
    "start_time": "2022-05-02T10:42:05.500Z"
   },
   {
    "duration": 22,
    "start_time": "2022-05-02T10:42:05.807Z"
   },
   {
    "duration": 22,
    "start_time": "2022-05-02T10:42:05.831Z"
   },
   {
    "duration": 1393,
    "start_time": "2022-05-02T10:42:05.855Z"
   },
   {
    "duration": 1050,
    "start_time": "2022-05-02T10:42:07.250Z"
   },
   {
    "duration": 88,
    "start_time": "2022-05-02T10:42:08.301Z"
   },
   {
    "duration": 66,
    "start_time": "2022-05-02T10:42:08.391Z"
   },
   {
    "duration": 32,
    "start_time": "2022-05-02T10:42:08.458Z"
   },
   {
    "duration": 876,
    "start_time": "2022-05-02T10:42:08.492Z"
   },
   {
    "duration": 217,
    "start_time": "2022-05-02T10:42:09.370Z"
   },
   {
    "duration": 340,
    "start_time": "2022-05-02T10:42:09.589Z"
   },
   {
    "duration": 3,
    "start_time": "2022-05-02T10:42:09.931Z"
   },
   {
    "duration": 6,
    "start_time": "2022-05-02T10:42:09.936Z"
   },
   {
    "duration": 8,
    "start_time": "2022-05-02T10:42:09.944Z"
   },
   {
    "duration": 230,
    "start_time": "2022-05-02T10:42:09.954Z"
   },
   {
    "duration": 3,
    "start_time": "2022-05-02T10:42:10.186Z"
   },
   {
    "duration": 9,
    "start_time": "2022-05-02T10:42:10.190Z"
   },
   {
    "duration": 5,
    "start_time": "2022-05-02T10:42:10.201Z"
   },
   {
    "duration": 4,
    "start_time": "2022-05-02T10:42:10.208Z"
   },
   {
    "duration": 364064,
    "start_time": "2022-05-02T10:42:10.213Z"
   },
   {
    "duration": 45609,
    "start_time": "2022-05-02T10:48:14.279Z"
   },
   {
    "duration": 3,
    "start_time": "2022-05-02T10:48:59.889Z"
   },
   {
    "duration": 5,
    "start_time": "2022-05-02T10:48:59.894Z"
   },
   {
    "duration": 18,
    "start_time": "2022-05-02T10:48:59.900Z"
   },
   {
    "duration": 5,
    "start_time": "2022-05-02T10:48:59.920Z"
   },
   {
    "duration": 96,
    "start_time": "2022-05-02T10:48:59.927Z"
   },
   {
    "duration": 114,
    "start_time": "2022-05-02T10:49:00.025Z"
   },
   {
    "duration": 0,
    "start_time": "2022-05-02T10:49:00.141Z"
   },
   {
    "duration": 0,
    "start_time": "2022-05-02T10:49:00.142Z"
   },
   {
    "duration": 0,
    "start_time": "2022-05-02T10:49:00.143Z"
   },
   {
    "duration": 0,
    "start_time": "2022-05-02T10:49:00.143Z"
   },
   {
    "duration": 0,
    "start_time": "2022-05-02T10:49:00.144Z"
   },
   {
    "duration": 0,
    "start_time": "2022-05-02T10:49:00.145Z"
   },
   {
    "duration": 0,
    "start_time": "2022-05-02T10:49:00.146Z"
   },
   {
    "duration": 0,
    "start_time": "2022-05-02T10:49:00.147Z"
   },
   {
    "duration": 0,
    "start_time": "2022-05-02T10:49:00.148Z"
   },
   {
    "duration": 0,
    "start_time": "2022-05-02T10:49:00.149Z"
   },
   {
    "duration": 0,
    "start_time": "2022-05-02T10:49:00.150Z"
   },
   {
    "duration": 0,
    "start_time": "2022-05-02T10:49:00.150Z"
   },
   {
    "duration": 0,
    "start_time": "2022-05-02T10:49:00.152Z"
   },
   {
    "duration": 0,
    "start_time": "2022-05-02T10:49:00.152Z"
   },
   {
    "duration": 0,
    "start_time": "2022-05-02T10:49:00.174Z"
   },
   {
    "duration": 0,
    "start_time": "2022-05-02T10:49:00.175Z"
   },
   {
    "duration": 0,
    "start_time": "2022-05-02T10:49:00.177Z"
   },
   {
    "duration": 0,
    "start_time": "2022-05-02T10:49:00.178Z"
   },
   {
    "duration": 0,
    "start_time": "2022-05-02T10:49:00.179Z"
   },
   {
    "duration": 4,
    "start_time": "2022-05-02T10:50:50.564Z"
   },
   {
    "duration": 1496,
    "start_time": "2022-05-02T10:52:51.918Z"
   },
   {
    "duration": 830,
    "start_time": "2022-05-02T10:52:53.416Z"
   },
   {
    "duration": 157,
    "start_time": "2022-05-02T10:52:54.247Z"
   },
   {
    "duration": 15,
    "start_time": "2022-05-02T10:52:54.406Z"
   },
   {
    "duration": 3,
    "start_time": "2022-05-02T10:52:54.422Z"
   },
   {
    "duration": 284,
    "start_time": "2022-05-02T10:52:54.427Z"
   },
   {
    "duration": 63,
    "start_time": "2022-05-02T10:52:54.713Z"
   },
   {
    "duration": 1099,
    "start_time": "2022-05-02T10:52:54.777Z"
   },
   {
    "duration": 5,
    "start_time": "2022-05-02T10:52:55.878Z"
   },
   {
    "duration": 181,
    "start_time": "2022-05-02T10:52:55.885Z"
   },
   {
    "duration": 6,
    "start_time": "2022-05-02T10:52:56.067Z"
   },
   {
    "duration": 15,
    "start_time": "2022-05-02T10:52:56.074Z"
   },
   {
    "duration": 4,
    "start_time": "2022-05-02T10:52:56.090Z"
   },
   {
    "duration": 15,
    "start_time": "2022-05-02T10:52:56.095Z"
   },
   {
    "duration": 9,
    "start_time": "2022-05-02T10:52:56.112Z"
   },
   {
    "duration": 69,
    "start_time": "2022-05-02T10:52:56.123Z"
   },
   {
    "duration": 7,
    "start_time": "2022-05-02T10:52:56.193Z"
   },
   {
    "duration": 10,
    "start_time": "2022-05-02T10:52:56.201Z"
   },
   {
    "duration": 6,
    "start_time": "2022-05-02T10:52:56.213Z"
   },
   {
    "duration": 65,
    "start_time": "2022-05-02T10:52:56.220Z"
   },
   {
    "duration": 32,
    "start_time": "2022-05-02T10:52:56.287Z"
   },
   {
    "duration": 6122,
    "start_time": "2022-05-02T10:52:56.320Z"
   },
   {
    "duration": 6,
    "start_time": "2022-05-02T10:53:02.444Z"
   },
   {
    "duration": 388,
    "start_time": "2022-05-02T10:53:02.451Z"
   },
   {
    "duration": 3,
    "start_time": "2022-05-02T10:53:02.841Z"
   },
   {
    "duration": 13,
    "start_time": "2022-05-02T10:53:02.845Z"
   },
   {
    "duration": 17,
    "start_time": "2022-05-02T10:53:02.860Z"
   },
   {
    "duration": 19,
    "start_time": "2022-05-02T10:53:02.882Z"
   },
   {
    "duration": 33,
    "start_time": "2022-05-02T10:53:02.903Z"
   },
   {
    "duration": 46,
    "start_time": "2022-05-02T10:53:02.938Z"
   },
   {
    "duration": 26,
    "start_time": "2022-05-02T10:53:02.986Z"
   },
   {
    "duration": 17,
    "start_time": "2022-05-02T10:53:03.014Z"
   },
   {
    "duration": 45,
    "start_time": "2022-05-02T10:53:03.033Z"
   },
   {
    "duration": 20,
    "start_time": "2022-05-02T10:53:03.080Z"
   },
   {
    "duration": 22,
    "start_time": "2022-05-02T10:53:03.102Z"
   },
   {
    "duration": 47,
    "start_time": "2022-05-02T10:53:03.126Z"
   },
   {
    "duration": 20,
    "start_time": "2022-05-02T10:53:03.175Z"
   },
   {
    "duration": 22,
    "start_time": "2022-05-02T10:53:03.197Z"
   },
   {
    "duration": 390,
    "start_time": "2022-05-02T10:53:03.221Z"
   },
   {
    "duration": 16,
    "start_time": "2022-05-02T10:53:03.613Z"
   },
   {
    "duration": 4768,
    "start_time": "2022-05-02T10:53:03.630Z"
   },
   {
    "duration": 295,
    "start_time": "2022-05-02T10:53:08.399Z"
   },
   {
    "duration": 20,
    "start_time": "2022-05-02T10:53:08.696Z"
   },
   {
    "duration": 22,
    "start_time": "2022-05-02T10:53:08.717Z"
   },
   {
    "duration": 1321,
    "start_time": "2022-05-02T10:53:08.741Z"
   },
   {
    "duration": 1080,
    "start_time": "2022-05-02T10:53:10.064Z"
   },
   {
    "duration": 92,
    "start_time": "2022-05-02T10:53:11.146Z"
   },
   {
    "duration": 74,
    "start_time": "2022-05-02T10:53:11.240Z"
   },
   {
    "duration": 25,
    "start_time": "2022-05-02T10:53:11.315Z"
   },
   {
    "duration": 775,
    "start_time": "2022-05-02T10:53:11.342Z"
   },
   {
    "duration": 214,
    "start_time": "2022-05-02T10:53:12.118Z"
   },
   {
    "duration": 331,
    "start_time": "2022-05-02T10:53:12.333Z"
   },
   {
    "duration": 3,
    "start_time": "2022-05-02T10:53:12.666Z"
   },
   {
    "duration": 7,
    "start_time": "2022-05-02T10:53:12.673Z"
   },
   {
    "duration": 6,
    "start_time": "2022-05-02T10:53:12.682Z"
   },
   {
    "duration": 217,
    "start_time": "2022-05-02T10:53:12.690Z"
   },
   {
    "duration": 3,
    "start_time": "2022-05-02T10:53:12.909Z"
   },
   {
    "duration": 10,
    "start_time": "2022-05-02T10:53:12.914Z"
   },
   {
    "duration": 9,
    "start_time": "2022-05-02T10:53:12.926Z"
   },
   {
    "duration": 10,
    "start_time": "2022-05-02T10:53:12.937Z"
   },
   {
    "duration": 352609,
    "start_time": "2022-05-02T10:53:12.949Z"
   },
   {
    "duration": 46549,
    "start_time": "2022-05-02T10:59:05.560Z"
   },
   {
    "duration": 3,
    "start_time": "2022-05-02T10:59:52.111Z"
   },
   {
    "duration": 6,
    "start_time": "2022-05-02T10:59:52.115Z"
   },
   {
    "duration": 21,
    "start_time": "2022-05-02T10:59:52.123Z"
   },
   {
    "duration": 6,
    "start_time": "2022-05-02T10:59:52.146Z"
   },
   {
    "duration": 91,
    "start_time": "2022-05-02T10:59:52.153Z"
   },
   {
    "duration": 121,
    "start_time": "2022-05-02T10:59:52.246Z"
   },
   {
    "duration": 0,
    "start_time": "2022-05-02T10:59:52.374Z"
   },
   {
    "duration": 0,
    "start_time": "2022-05-02T10:59:52.376Z"
   },
   {
    "duration": 0,
    "start_time": "2022-05-02T10:59:52.377Z"
   },
   {
    "duration": 0,
    "start_time": "2022-05-02T10:59:52.378Z"
   },
   {
    "duration": 0,
    "start_time": "2022-05-02T10:59:52.379Z"
   },
   {
    "duration": 0,
    "start_time": "2022-05-02T10:59:52.381Z"
   },
   {
    "duration": 0,
    "start_time": "2022-05-02T10:59:52.382Z"
   },
   {
    "duration": 0,
    "start_time": "2022-05-02T10:59:52.383Z"
   },
   {
    "duration": 0,
    "start_time": "2022-05-02T10:59:52.384Z"
   },
   {
    "duration": 0,
    "start_time": "2022-05-02T10:59:52.386Z"
   },
   {
    "duration": 0,
    "start_time": "2022-05-02T10:59:52.388Z"
   },
   {
    "duration": 0,
    "start_time": "2022-05-02T10:59:52.389Z"
   },
   {
    "duration": 0,
    "start_time": "2022-05-02T10:59:52.391Z"
   },
   {
    "duration": 0,
    "start_time": "2022-05-02T10:59:52.392Z"
   },
   {
    "duration": 0,
    "start_time": "2022-05-02T10:59:52.393Z"
   },
   {
    "duration": 0,
    "start_time": "2022-05-02T10:59:52.395Z"
   },
   {
    "duration": 0,
    "start_time": "2022-05-02T10:59:52.396Z"
   },
   {
    "duration": 0,
    "start_time": "2022-05-02T10:59:52.397Z"
   },
   {
    "duration": 0,
    "start_time": "2022-05-02T10:59:52.399Z"
   },
   {
    "duration": 0,
    "start_time": "2022-05-02T10:59:52.400Z"
   },
   {
    "duration": 1567,
    "start_time": "2022-05-02T11:16:43.502Z"
   },
   {
    "duration": 865,
    "start_time": "2022-05-02T11:16:45.071Z"
   },
   {
    "duration": 151,
    "start_time": "2022-05-02T11:16:45.938Z"
   },
   {
    "duration": 18,
    "start_time": "2022-05-02T11:16:46.091Z"
   },
   {
    "duration": 3,
    "start_time": "2022-05-02T11:16:46.111Z"
   },
   {
    "duration": 320,
    "start_time": "2022-05-02T11:16:46.117Z"
   },
   {
    "duration": 58,
    "start_time": "2022-05-02T11:16:46.439Z"
   },
   {
    "duration": 960,
    "start_time": "2022-05-02T11:16:46.498Z"
   },
   {
    "duration": 15,
    "start_time": "2022-05-02T11:16:47.460Z"
   },
   {
    "duration": 167,
    "start_time": "2022-05-02T11:16:47.479Z"
   },
   {
    "duration": 4,
    "start_time": "2022-05-02T11:16:47.648Z"
   },
   {
    "duration": 29,
    "start_time": "2022-05-02T11:16:47.654Z"
   },
   {
    "duration": 3,
    "start_time": "2022-05-02T11:16:47.685Z"
   },
   {
    "duration": 15,
    "start_time": "2022-05-02T11:16:47.690Z"
   },
   {
    "duration": 10,
    "start_time": "2022-05-02T11:16:47.706Z"
   },
   {
    "duration": 58,
    "start_time": "2022-05-02T11:16:47.717Z"
   },
   {
    "duration": 6,
    "start_time": "2022-05-02T11:16:47.777Z"
   },
   {
    "duration": 7,
    "start_time": "2022-05-02T11:16:47.785Z"
   },
   {
    "duration": 6,
    "start_time": "2022-05-02T11:16:47.793Z"
   },
   {
    "duration": 72,
    "start_time": "2022-05-02T11:16:47.801Z"
   },
   {
    "duration": 38,
    "start_time": "2022-05-02T11:16:47.875Z"
   },
   {
    "duration": 6012,
    "start_time": "2022-05-02T11:16:47.915Z"
   },
   {
    "duration": 5,
    "start_time": "2022-05-02T11:16:53.929Z"
   },
   {
    "duration": 379,
    "start_time": "2022-05-02T11:16:53.936Z"
   },
   {
    "duration": 3,
    "start_time": "2022-05-02T11:16:54.316Z"
   },
   {
    "duration": 10,
    "start_time": "2022-05-02T11:16:54.320Z"
   },
   {
    "duration": 6,
    "start_time": "2022-05-02T11:16:54.332Z"
   },
   {
    "duration": 44,
    "start_time": "2022-05-02T11:16:54.342Z"
   },
   {
    "duration": 31,
    "start_time": "2022-05-02T11:16:54.388Z"
   },
   {
    "duration": 20,
    "start_time": "2022-05-02T11:16:54.421Z"
   },
   {
    "duration": 42,
    "start_time": "2022-05-02T11:16:54.443Z"
   },
   {
    "duration": 18,
    "start_time": "2022-05-02T11:16:54.487Z"
   },
   {
    "duration": 27,
    "start_time": "2022-05-02T11:16:54.506Z"
   },
   {
    "duration": 21,
    "start_time": "2022-05-02T11:16:54.535Z"
   },
   {
    "duration": 23,
    "start_time": "2022-05-02T11:16:54.574Z"
   },
   {
    "duration": 22,
    "start_time": "2022-05-02T11:16:54.599Z"
   },
   {
    "duration": 21,
    "start_time": "2022-05-02T11:16:54.622Z"
   },
   {
    "duration": 43,
    "start_time": "2022-05-02T11:16:54.645Z"
   },
   {
    "duration": 401,
    "start_time": "2022-05-02T11:16:54.690Z"
   },
   {
    "duration": 14,
    "start_time": "2022-05-02T11:16:55.093Z"
   },
   {
    "duration": 4828,
    "start_time": "2022-05-02T11:16:55.110Z"
   },
   {
    "duration": 309,
    "start_time": "2022-05-02T11:16:59.939Z"
   },
   {
    "duration": 25,
    "start_time": "2022-05-02T11:17:00.250Z"
   },
   {
    "duration": 22,
    "start_time": "2022-05-02T11:17:00.277Z"
   },
   {
    "duration": 1395,
    "start_time": "2022-05-02T11:17:00.300Z"
   },
   {
    "duration": 1130,
    "start_time": "2022-05-02T11:17:01.697Z"
   },
   {
    "duration": 98,
    "start_time": "2022-05-02T11:17:02.829Z"
   },
   {
    "duration": 74,
    "start_time": "2022-05-02T11:17:02.929Z"
   },
   {
    "duration": 24,
    "start_time": "2022-05-02T11:17:03.005Z"
   },
   {
    "duration": 840,
    "start_time": "2022-05-02T11:17:03.030Z"
   },
   {
    "duration": 224,
    "start_time": "2022-05-02T11:17:03.872Z"
   },
   {
    "duration": 343,
    "start_time": "2022-05-02T11:17:04.099Z"
   },
   {
    "duration": 3,
    "start_time": "2022-05-02T11:17:04.444Z"
   },
   {
    "duration": 6,
    "start_time": "2022-05-02T11:17:04.449Z"
   },
   {
    "duration": 18,
    "start_time": "2022-05-02T11:17:04.457Z"
   },
   {
    "duration": 212,
    "start_time": "2022-05-02T11:17:04.476Z"
   },
   {
    "duration": 3,
    "start_time": "2022-05-02T11:17:04.690Z"
   },
   {
    "duration": 9,
    "start_time": "2022-05-02T11:17:04.695Z"
   },
   {
    "duration": 6,
    "start_time": "2022-05-02T11:17:04.706Z"
   },
   {
    "duration": 7,
    "start_time": "2022-05-02T11:17:04.713Z"
   },
   {
    "duration": 357319,
    "start_time": "2022-05-02T11:17:04.722Z"
   },
   {
    "duration": 46855,
    "start_time": "2022-05-02T11:23:02.043Z"
   },
   {
    "duration": 3,
    "start_time": "2022-05-02T11:23:48.900Z"
   },
   {
    "duration": 6,
    "start_time": "2022-05-02T11:23:48.905Z"
   },
   {
    "duration": 19,
    "start_time": "2022-05-02T11:23:48.913Z"
   },
   {
    "duration": 100,
    "start_time": "2022-05-02T11:23:48.934Z"
   },
   {
    "duration": 447,
    "start_time": "2022-05-02T11:23:49.036Z"
   },
   {
    "duration": 6,
    "start_time": "2022-05-02T11:23:49.484Z"
   },
   {
    "duration": 6,
    "start_time": "2022-05-02T11:23:49.492Z"
   },
   {
    "duration": 10919,
    "start_time": "2022-05-02T11:23:49.499Z"
   },
   {
    "duration": 163,
    "start_time": "2022-05-02T11:24:00.420Z"
   },
   {
    "duration": 3,
    "start_time": "2022-05-02T11:24:00.585Z"
   },
   {
    "duration": 12,
    "start_time": "2022-05-02T11:24:00.590Z"
   },
   {
    "duration": 94265,
    "start_time": "2022-05-02T11:24:00.604Z"
   },
   {
    "duration": 5606,
    "start_time": "2022-05-02T11:25:34.873Z"
   },
   {
    "duration": 3,
    "start_time": "2022-05-02T11:25:40.481Z"
   },
   {
    "duration": 88,
    "start_time": "2022-05-02T11:25:40.486Z"
   },
   {
    "duration": 2109006,
    "start_time": "2022-05-02T11:25:40.575Z"
   },
   {
    "duration": 3,
    "start_time": "2022-05-02T12:00:49.582Z"
   },
   {
    "duration": 492840,
    "start_time": "2022-05-02T12:00:49.587Z"
   },
   {
    "duration": 3,
    "start_time": "2022-05-02T12:09:02.429Z"
   },
   {
    "duration": 9,
    "start_time": "2022-05-02T12:09:02.438Z"
   },
   {
    "duration": 210,
    "start_time": "2022-05-02T12:09:02.449Z"
   },
   {
    "duration": 13,
    "start_time": "2022-05-02T12:09:02.660Z"
   },
   {
    "duration": 0,
    "start_time": "2022-05-02T12:09:02.674Z"
   },
   {
    "duration": 0,
    "start_time": "2022-05-02T12:09:02.676Z"
   },
   {
    "duration": 0,
    "start_time": "2022-05-02T12:09:02.678Z"
   },
   {
    "duration": 13,
    "start_time": "2022-05-02T12:12:22.527Z"
   },
   {
    "duration": 11,
    "start_time": "2022-05-02T12:12:32.740Z"
   },
   {
    "duration": 12,
    "start_time": "2022-05-02T12:14:01.237Z"
   },
   {
    "duration": 10,
    "start_time": "2022-05-02T12:14:05.558Z"
   },
   {
    "duration": 11,
    "start_time": "2022-05-02T12:14:20.165Z"
   },
   {
    "duration": 10,
    "start_time": "2022-05-02T12:15:46.293Z"
   },
   {
    "duration": 5,
    "start_time": "2022-05-02T12:16:09.780Z"
   },
   {
    "duration": 4,
    "start_time": "2022-05-02T12:17:44.746Z"
   },
   {
    "duration": 4,
    "start_time": "2022-05-02T12:18:11.581Z"
   },
   {
    "duration": 4,
    "start_time": "2022-05-02T12:18:17.843Z"
   },
   {
    "duration": 403,
    "start_time": "2022-05-02T12:21:05.864Z"
   },
   {
    "duration": 4,
    "start_time": "2022-05-02T12:22:43.866Z"
   },
   {
    "duration": 1410,
    "start_time": "2022-05-02T12:24:59.412Z"
   },
   {
    "duration": 194,
    "start_time": "2022-05-02T12:32:08.970Z"
   },
   {
    "duration": 199,
    "start_time": "2022-05-02T12:33:48.679Z"
   },
   {
    "duration": 114,
    "start_time": "2022-05-02T12:34:10.046Z"
   },
   {
    "duration": 187,
    "start_time": "2022-05-02T12:34:36.769Z"
   },
   {
    "duration": 128,
    "start_time": "2022-05-02T12:35:03.130Z"
   },
   {
    "duration": 112,
    "start_time": "2022-05-02T12:35:10.980Z"
   },
   {
    "duration": 163,
    "start_time": "2022-05-02T12:37:58.574Z"
   },
   {
    "duration": 110,
    "start_time": "2022-05-02T12:42:05.650Z"
   },
   {
    "duration": 114,
    "start_time": "2022-05-02T12:45:04.690Z"
   },
   {
    "duration": 93,
    "start_time": "2022-05-02T12:45:23.480Z"
   },
   {
    "duration": 95,
    "start_time": "2022-05-02T12:45:42.310Z"
   },
   {
    "duration": 176,
    "start_time": "2022-05-02T12:45:58.232Z"
   },
   {
    "duration": 199,
    "start_time": "2022-05-02T12:46:24.307Z"
   },
   {
    "duration": 177,
    "start_time": "2022-05-02T12:47:40.793Z"
   },
   {
    "duration": 46,
    "start_time": "2022-05-02T12:53:08.955Z"
   },
   {
    "duration": 185,
    "start_time": "2022-05-02T12:53:19.862Z"
   },
   {
    "duration": 169,
    "start_time": "2022-05-02T12:53:45.782Z"
   },
   {
    "duration": 1838,
    "start_time": "2022-05-02T12:53:50.479Z"
   },
   {
    "duration": 1410,
    "start_time": "2022-05-02T12:54:32.246Z"
   },
   {
    "duration": 1503,
    "start_time": "2022-05-02T12:55:56.162Z"
   },
   {
    "duration": 159,
    "start_time": "2022-05-02T12:57:08.511Z"
   },
   {
    "duration": 93,
    "start_time": "2022-05-02T12:57:20.122Z"
   },
   {
    "duration": 175,
    "start_time": "2022-05-02T12:57:39.751Z"
   },
   {
    "duration": 4,
    "start_time": "2022-05-02T12:58:03.317Z"
   },
   {
    "duration": 159,
    "start_time": "2022-05-02T12:58:59.414Z"
   },
   {
    "duration": 1448,
    "start_time": "2022-05-02T12:59:09.605Z"
   },
   {
    "duration": 535,
    "start_time": "2022-05-02T12:59:46.932Z"
   },
   {
    "duration": 52,
    "start_time": "2022-05-02T13:00:31.656Z"
   },
   {
    "duration": 44,
    "start_time": "2022-05-02T13:00:50.986Z"
   },
   {
    "duration": 49,
    "start_time": "2022-05-02T13:01:10.992Z"
   },
   {
    "duration": 41,
    "start_time": "2022-05-02T13:01:24.264Z"
   },
   {
    "duration": 1391,
    "start_time": "2022-05-02T13:01:57.681Z"
   },
   {
    "duration": 4,
    "start_time": "2022-05-02T13:02:47.264Z"
   },
   {
    "duration": 1534,
    "start_time": "2022-05-02T13:03:01.156Z"
   },
   {
    "duration": 100,
    "start_time": "2022-05-02T13:03:15.537Z"
   },
   {
    "duration": 92,
    "start_time": "2022-05-02T13:03:57.339Z"
   },
   {
    "duration": 1410,
    "start_time": "2022-05-02T13:04:19.370Z"
   },
   {
    "duration": 1810,
    "start_time": "2022-05-02T13:04:51.159Z"
   },
   {
    "duration": 1368,
    "start_time": "2022-05-02T13:05:19.414Z"
   },
   {
    "duration": 1587,
    "start_time": "2022-05-02T13:05:34.966Z"
   },
   {
    "duration": 1642,
    "start_time": "2022-05-02T13:05:55.739Z"
   },
   {
    "duration": 1472,
    "start_time": "2022-05-02T13:07:30.246Z"
   },
   {
    "duration": 1376,
    "start_time": "2022-05-02T13:07:46.390Z"
   },
   {
    "duration": 1482,
    "start_time": "2022-05-02T13:11:01.273Z"
   },
   {
    "duration": 3246,
    "start_time": "2022-05-02T13:11:58.756Z"
   },
   {
    "duration": 5,
    "start_time": "2022-05-02T13:12:35.610Z"
   },
   {
    "duration": 5,
    "start_time": "2022-05-02T13:12:51.962Z"
   },
   {
    "duration": 392,
    "start_time": "2022-05-02T13:12:55.168Z"
   },
   {
    "duration": 360,
    "start_time": "2022-05-02T13:14:06.034Z"
   },
   {
    "duration": 394,
    "start_time": "2022-05-02T13:14:30.497Z"
   },
   {
    "duration": 114,
    "start_time": "2022-05-02T13:18:04.830Z"
   },
   {
    "duration": 1504,
    "start_time": "2022-05-02T13:18:31.346Z"
   },
   {
    "duration": 2389,
    "start_time": "2022-05-02T13:23:13.514Z"
   },
   {
    "duration": 72,
    "start_time": "2022-05-02T13:23:59.457Z"
   },
   {
    "duration": 11,
    "start_time": "2022-05-02T13:24:59.205Z"
   },
   {
    "duration": 16,
    "start_time": "2022-05-02T13:25:04.147Z"
   },
   {
    "duration": 31,
    "start_time": "2022-05-02T13:25:36.787Z"
   },
   {
    "duration": 20,
    "start_time": "2022-05-02T13:25:55.713Z"
   },
   {
    "duration": 3,
    "start_time": "2022-05-02T13:26:12.336Z"
   },
   {
    "duration": 19,
    "start_time": "2022-05-02T13:26:23.958Z"
   },
   {
    "duration": 1587,
    "start_time": "2022-05-02T13:29:42.893Z"
   },
   {
    "duration": 1039,
    "start_time": "2022-05-02T13:29:44.482Z"
   },
   {
    "duration": 172,
    "start_time": "2022-05-02T13:29:45.523Z"
   },
   {
    "duration": 17,
    "start_time": "2022-05-02T13:29:45.697Z"
   },
   {
    "duration": 4,
    "start_time": "2022-05-02T13:29:45.715Z"
   },
   {
    "duration": 469,
    "start_time": "2022-05-02T13:29:45.772Z"
   },
   {
    "duration": 48,
    "start_time": "2022-05-02T13:29:46.243Z"
   },
   {
    "duration": 950,
    "start_time": "2022-05-02T13:29:46.293Z"
   },
   {
    "duration": 5,
    "start_time": "2022-05-02T13:29:47.244Z"
   },
   {
    "duration": 165,
    "start_time": "2022-05-02T13:29:47.252Z"
   },
   {
    "duration": 3,
    "start_time": "2022-05-02T13:29:47.419Z"
   },
   {
    "duration": 19,
    "start_time": "2022-05-02T13:29:47.424Z"
   },
   {
    "duration": 4,
    "start_time": "2022-05-02T13:29:47.445Z"
   },
   {
    "duration": 31,
    "start_time": "2022-05-02T13:29:47.451Z"
   },
   {
    "duration": 12,
    "start_time": "2022-05-02T13:29:47.484Z"
   },
   {
    "duration": 36,
    "start_time": "2022-05-02T13:29:47.498Z"
   },
   {
    "duration": 8,
    "start_time": "2022-05-02T13:29:47.536Z"
   },
   {
    "duration": 35,
    "start_time": "2022-05-02T13:29:47.545Z"
   },
   {
    "duration": 6,
    "start_time": "2022-05-02T13:29:47.582Z"
   },
   {
    "duration": 48,
    "start_time": "2022-05-02T13:29:47.590Z"
   },
   {
    "duration": 54,
    "start_time": "2022-05-02T13:29:47.640Z"
   },
   {
    "duration": 6705,
    "start_time": "2022-05-02T13:29:47.695Z"
   },
   {
    "duration": 5,
    "start_time": "2022-05-02T13:29:54.402Z"
   },
   {
    "duration": 417,
    "start_time": "2022-05-02T13:29:54.409Z"
   },
   {
    "duration": 2,
    "start_time": "2022-05-02T13:29:54.829Z"
   },
   {
    "duration": 40,
    "start_time": "2022-05-02T13:29:54.833Z"
   },
   {
    "duration": 6,
    "start_time": "2022-05-02T13:29:54.875Z"
   },
   {
    "duration": 23,
    "start_time": "2022-05-02T13:29:54.885Z"
   },
   {
    "duration": 32,
    "start_time": "2022-05-02T13:29:54.910Z"
   },
   {
    "duration": 46,
    "start_time": "2022-05-02T13:29:54.944Z"
   },
   {
    "duration": 34,
    "start_time": "2022-05-02T13:29:54.992Z"
   },
   {
    "duration": 34,
    "start_time": "2022-05-02T13:29:55.028Z"
   },
   {
    "duration": 19,
    "start_time": "2022-05-02T13:29:55.064Z"
   },
   {
    "duration": 20,
    "start_time": "2022-05-02T13:29:55.085Z"
   },
   {
    "duration": 25,
    "start_time": "2022-05-02T13:29:55.107Z"
   },
   {
    "duration": 21,
    "start_time": "2022-05-02T13:29:55.134Z"
   },
   {
    "duration": 22,
    "start_time": "2022-05-02T13:29:55.157Z"
   },
   {
    "duration": 23,
    "start_time": "2022-05-02T13:29:55.181Z"
   },
   {
    "duration": 496,
    "start_time": "2022-05-02T13:29:55.206Z"
   },
   {
    "duration": 14,
    "start_time": "2022-05-02T13:29:55.703Z"
   },
   {
    "duration": 5987,
    "start_time": "2022-05-02T13:29:55.719Z"
   },
   {
    "duration": 314,
    "start_time": "2022-05-02T13:30:01.709Z"
   },
   {
    "duration": 22,
    "start_time": "2022-05-02T13:30:02.025Z"
   },
   {
    "duration": 46,
    "start_time": "2022-05-02T13:30:02.050Z"
   },
   {
    "duration": 1390,
    "start_time": "2022-05-02T13:30:02.098Z"
   },
   {
    "duration": 1095,
    "start_time": "2022-05-02T13:30:03.489Z"
   },
   {
    "duration": 96,
    "start_time": "2022-05-02T13:30:04.586Z"
   },
   {
    "duration": 70,
    "start_time": "2022-05-02T13:30:04.684Z"
   },
   {
    "duration": 40,
    "start_time": "2022-05-02T13:30:04.757Z"
   },
   {
    "duration": 1135,
    "start_time": "2022-05-02T13:30:04.799Z"
   },
   {
    "duration": 226,
    "start_time": "2022-05-02T13:30:05.936Z"
   },
   {
    "duration": 349,
    "start_time": "2022-05-02T13:30:06.164Z"
   },
   {
    "duration": 3,
    "start_time": "2022-05-02T13:30:06.515Z"
   },
   {
    "duration": 21,
    "start_time": "2022-05-02T13:30:06.519Z"
   },
   {
    "duration": 23,
    "start_time": "2022-05-02T13:30:06.542Z"
   },
   {
    "duration": 234,
    "start_time": "2022-05-02T13:30:06.567Z"
   },
   {
    "duration": 2,
    "start_time": "2022-05-02T13:30:06.803Z"
   },
   {
    "duration": 25,
    "start_time": "2022-05-02T13:30:06.806Z"
   },
   {
    "duration": 18,
    "start_time": "2022-05-02T13:30:06.833Z"
   },
   {
    "duration": 9,
    "start_time": "2022-05-02T13:30:06.853Z"
   },
   {
    "duration": 343258,
    "start_time": "2022-05-02T13:30:06.864Z"
   },
   {
    "duration": 46738,
    "start_time": "2022-05-02T13:35:50.123Z"
   },
   {
    "duration": 2,
    "start_time": "2022-05-02T13:36:36.863Z"
   },
   {
    "duration": 7,
    "start_time": "2022-05-02T13:36:36.867Z"
   },
   {
    "duration": 19,
    "start_time": "2022-05-02T13:36:36.876Z"
   },
   {
    "duration": 97,
    "start_time": "2022-05-02T13:36:36.897Z"
   },
   {
    "duration": 439,
    "start_time": "2022-05-02T13:36:36.996Z"
   },
   {
    "duration": 6,
    "start_time": "2022-05-02T13:36:37.437Z"
   },
   {
    "duration": 10,
    "start_time": "2022-05-02T13:36:37.446Z"
   },
   {
    "duration": 11094,
    "start_time": "2022-05-02T13:36:37.458Z"
   },
   {
    "duration": 159,
    "start_time": "2022-05-02T13:36:48.556Z"
   },
   {
    "duration": 3,
    "start_time": "2022-05-02T13:36:48.717Z"
   },
   {
    "duration": 6,
    "start_time": "2022-05-02T13:36:48.721Z"
   },
   {
    "duration": 93369,
    "start_time": "2022-05-02T13:36:48.729Z"
   },
   {
    "duration": 5624,
    "start_time": "2022-05-02T13:38:22.100Z"
   },
   {
    "duration": 3,
    "start_time": "2022-05-02T13:38:27.726Z"
   },
   {
    "duration": 93,
    "start_time": "2022-05-02T13:38:27.730Z"
   },
   {
    "duration": 1505,
    "start_time": "2022-05-02T13:44:27.243Z"
   },
   {
    "duration": 842,
    "start_time": "2022-05-02T13:44:28.750Z"
   },
   {
    "duration": 141,
    "start_time": "2022-05-02T13:44:29.594Z"
   },
   {
    "duration": 16,
    "start_time": "2022-05-02T13:44:29.738Z"
   },
   {
    "duration": 19,
    "start_time": "2022-05-02T13:44:29.756Z"
   },
   {
    "duration": 291,
    "start_time": "2022-05-02T13:44:29.777Z"
   },
   {
    "duration": 50,
    "start_time": "2022-05-02T13:44:30.072Z"
   },
   {
    "duration": 970,
    "start_time": "2022-05-02T13:44:30.124Z"
   },
   {
    "duration": 7,
    "start_time": "2022-05-02T13:44:31.096Z"
   },
   {
    "duration": 175,
    "start_time": "2022-05-02T13:44:31.107Z"
   },
   {
    "duration": 3,
    "start_time": "2022-05-02T13:44:31.284Z"
   },
   {
    "duration": 22,
    "start_time": "2022-05-02T13:44:31.289Z"
   },
   {
    "duration": 4,
    "start_time": "2022-05-02T13:44:31.312Z"
   },
   {
    "duration": 21,
    "start_time": "2022-05-02T13:44:31.318Z"
   },
   {
    "duration": 14,
    "start_time": "2022-05-02T13:44:31.340Z"
   },
   {
    "duration": 53,
    "start_time": "2022-05-02T13:44:31.356Z"
   },
   {
    "duration": 7,
    "start_time": "2022-05-02T13:44:31.411Z"
   },
   {
    "duration": 26,
    "start_time": "2022-05-02T13:44:31.419Z"
   },
   {
    "duration": 6,
    "start_time": "2022-05-02T13:44:31.447Z"
   },
   {
    "duration": 58,
    "start_time": "2022-05-02T13:44:31.454Z"
   },
   {
    "duration": 35,
    "start_time": "2022-05-02T13:44:31.514Z"
   },
   {
    "duration": 6747,
    "start_time": "2022-05-02T13:44:31.550Z"
   },
   {
    "duration": 6,
    "start_time": "2022-05-02T13:44:38.299Z"
   },
   {
    "duration": 375,
    "start_time": "2022-05-02T13:44:38.306Z"
   },
   {
    "duration": 2,
    "start_time": "2022-05-02T13:44:38.683Z"
   },
   {
    "duration": 15,
    "start_time": "2022-05-02T13:44:38.686Z"
   },
   {
    "duration": 6,
    "start_time": "2022-05-02T13:44:38.703Z"
   },
   {
    "duration": 20,
    "start_time": "2022-05-02T13:44:38.713Z"
   },
   {
    "duration": 52,
    "start_time": "2022-05-02T13:44:38.735Z"
   },
   {
    "duration": 20,
    "start_time": "2022-05-02T13:44:38.789Z"
   },
   {
    "duration": 24,
    "start_time": "2022-05-02T13:44:38.811Z"
   },
   {
    "duration": 15,
    "start_time": "2022-05-02T13:44:38.837Z"
   },
   {
    "duration": 35,
    "start_time": "2022-05-02T13:44:38.854Z"
   },
   {
    "duration": 20,
    "start_time": "2022-05-02T13:44:38.891Z"
   },
   {
    "duration": 22,
    "start_time": "2022-05-02T13:44:38.913Z"
   },
   {
    "duration": 46,
    "start_time": "2022-05-02T13:44:38.937Z"
   },
   {
    "duration": 20,
    "start_time": "2022-05-02T13:44:38.984Z"
   },
   {
    "duration": 25,
    "start_time": "2022-05-02T13:44:39.005Z"
   },
   {
    "duration": 382,
    "start_time": "2022-05-02T13:44:39.033Z"
   },
   {
    "duration": 14,
    "start_time": "2022-05-02T13:44:39.417Z"
   },
   {
    "duration": 4829,
    "start_time": "2022-05-02T13:44:39.433Z"
   },
   {
    "duration": 292,
    "start_time": "2022-05-02T13:44:44.263Z"
   },
   {
    "duration": 23,
    "start_time": "2022-05-02T13:44:44.557Z"
   },
   {
    "duration": 19,
    "start_time": "2022-05-02T13:44:44.582Z"
   },
   {
    "duration": 1409,
    "start_time": "2022-05-02T13:44:44.603Z"
   },
   {
    "duration": 1074,
    "start_time": "2022-05-02T13:44:46.014Z"
   },
   {
    "duration": 95,
    "start_time": "2022-05-02T13:44:47.090Z"
   },
   {
    "duration": 66,
    "start_time": "2022-05-02T13:44:47.186Z"
   },
   {
    "duration": 35,
    "start_time": "2022-05-02T13:44:47.254Z"
   },
   {
    "duration": 826,
    "start_time": "2022-05-02T13:44:47.291Z"
   },
   {
    "duration": 215,
    "start_time": "2022-05-02T13:44:48.119Z"
   },
   {
    "duration": 324,
    "start_time": "2022-05-02T13:44:48.336Z"
   },
   {
    "duration": 11,
    "start_time": "2022-05-02T13:44:48.662Z"
   },
   {
    "duration": 5,
    "start_time": "2022-05-02T13:44:48.675Z"
   },
   {
    "duration": 6,
    "start_time": "2022-05-02T13:44:48.681Z"
   },
   {
    "duration": 212,
    "start_time": "2022-05-02T13:44:48.689Z"
   },
   {
    "duration": 2,
    "start_time": "2022-05-02T13:44:48.903Z"
   },
   {
    "duration": 4,
    "start_time": "2022-05-02T13:44:48.907Z"
   },
   {
    "duration": 4,
    "start_time": "2022-05-02T13:44:48.913Z"
   },
   {
    "duration": 4,
    "start_time": "2022-05-02T13:44:48.919Z"
   },
   {
    "duration": 311153,
    "start_time": "2022-05-02T13:44:48.925Z"
   },
   {
    "duration": 30493,
    "start_time": "2022-05-02T13:50:00.080Z"
   },
   {
    "duration": 3,
    "start_time": "2022-05-02T13:50:30.576Z"
   },
   {
    "duration": 12,
    "start_time": "2022-05-02T13:50:30.581Z"
   },
   {
    "duration": 84,
    "start_time": "2022-05-02T13:50:30.595Z"
   },
   {
    "duration": 126,
    "start_time": "2022-05-02T13:50:30.681Z"
   },
   {
    "duration": 465,
    "start_time": "2022-05-02T13:50:30.809Z"
   },
   {
    "duration": 6,
    "start_time": "2022-05-02T13:50:31.275Z"
   },
   {
    "duration": 7,
    "start_time": "2022-05-02T13:50:31.282Z"
   },
   {
    "duration": 10785,
    "start_time": "2022-05-02T13:50:31.291Z"
   },
   {
    "duration": 153,
    "start_time": "2022-05-02T13:50:42.078Z"
   },
   {
    "duration": 3,
    "start_time": "2022-05-02T13:50:42.232Z"
   },
   {
    "duration": 9,
    "start_time": "2022-05-02T13:50:42.236Z"
   },
   {
    "duration": 93097,
    "start_time": "2022-05-02T13:50:42.247Z"
   },
   {
    "duration": 5689,
    "start_time": "2022-05-02T13:52:15.346Z"
   },
   {
    "duration": 3,
    "start_time": "2022-05-02T13:52:21.037Z"
   },
   {
    "duration": 89,
    "start_time": "2022-05-02T13:52:21.042Z"
   },
   {
    "duration": 122,
    "start_time": "2022-05-02T14:01:46.928Z"
   },
   {
    "duration": 1553,
    "start_time": "2022-05-02T14:02:15.795Z"
   },
   {
    "duration": 851,
    "start_time": "2022-05-02T14:02:17.350Z"
   },
   {
    "duration": 139,
    "start_time": "2022-05-02T14:02:18.203Z"
   },
   {
    "duration": 16,
    "start_time": "2022-05-02T14:02:18.345Z"
   },
   {
    "duration": 4,
    "start_time": "2022-05-02T14:02:18.372Z"
   },
   {
    "duration": 285,
    "start_time": "2022-05-02T14:02:18.378Z"
   },
   {
    "duration": 50,
    "start_time": "2022-05-02T14:02:18.664Z"
   },
   {
    "duration": 952,
    "start_time": "2022-05-02T14:02:18.716Z"
   },
   {
    "duration": 6,
    "start_time": "2022-05-02T14:02:19.669Z"
   },
   {
    "duration": 180,
    "start_time": "2022-05-02T14:02:19.677Z"
   },
   {
    "duration": 4,
    "start_time": "2022-05-02T14:02:19.859Z"
   },
   {
    "duration": 18,
    "start_time": "2022-05-02T14:02:19.864Z"
   },
   {
    "duration": 4,
    "start_time": "2022-05-02T14:02:19.883Z"
   },
   {
    "duration": 17,
    "start_time": "2022-05-02T14:02:19.888Z"
   },
   {
    "duration": 11,
    "start_time": "2022-05-02T14:02:19.907Z"
   },
   {
    "duration": 63,
    "start_time": "2022-05-02T14:02:19.919Z"
   },
   {
    "duration": 7,
    "start_time": "2022-05-02T14:02:19.984Z"
   },
   {
    "duration": 15,
    "start_time": "2022-05-02T14:02:19.994Z"
   },
   {
    "duration": 14,
    "start_time": "2022-05-02T14:02:20.012Z"
   },
   {
    "duration": 61,
    "start_time": "2022-05-02T14:02:20.029Z"
   },
   {
    "duration": 37,
    "start_time": "2022-05-02T14:02:20.092Z"
   },
   {
    "duration": 6454,
    "start_time": "2022-05-02T14:02:20.131Z"
   },
   {
    "duration": 6,
    "start_time": "2022-05-02T14:02:26.587Z"
   },
   {
    "duration": 387,
    "start_time": "2022-05-02T14:02:26.595Z"
   },
   {
    "duration": 3,
    "start_time": "2022-05-02T14:02:26.984Z"
   },
   {
    "duration": 17,
    "start_time": "2022-05-02T14:02:26.988Z"
   },
   {
    "duration": 14,
    "start_time": "2022-05-02T14:02:27.006Z"
   },
   {
    "duration": 18,
    "start_time": "2022-05-02T14:02:27.026Z"
   },
   {
    "duration": 53,
    "start_time": "2022-05-02T14:02:27.046Z"
   },
   {
    "duration": 21,
    "start_time": "2022-05-02T14:02:27.102Z"
   },
   {
    "duration": 31,
    "start_time": "2022-05-02T14:02:27.124Z"
   },
   {
    "duration": 17,
    "start_time": "2022-05-02T14:02:27.173Z"
   },
   {
    "duration": 21,
    "start_time": "2022-05-02T14:02:27.191Z"
   },
   {
    "duration": 40,
    "start_time": "2022-05-02T14:02:27.213Z"
   },
   {
    "duration": 27,
    "start_time": "2022-05-02T14:02:27.255Z"
   },
   {
    "duration": 22,
    "start_time": "2022-05-02T14:02:27.284Z"
   },
   {
    "duration": 27,
    "start_time": "2022-05-02T14:02:27.308Z"
   },
   {
    "duration": 36,
    "start_time": "2022-05-02T14:02:27.337Z"
   },
   {
    "duration": 394,
    "start_time": "2022-05-02T14:02:27.375Z"
   },
   {
    "duration": 14,
    "start_time": "2022-05-02T14:02:27.772Z"
   },
   {
    "duration": 4970,
    "start_time": "2022-05-02T14:02:27.788Z"
   },
   {
    "duration": 307,
    "start_time": "2022-05-02T14:02:32.760Z"
   },
   {
    "duration": 22,
    "start_time": "2022-05-02T14:02:33.069Z"
   },
   {
    "duration": 21,
    "start_time": "2022-05-02T14:02:33.093Z"
   },
   {
    "duration": 1488,
    "start_time": "2022-05-02T14:02:33.115Z"
   },
   {
    "duration": 1188,
    "start_time": "2022-05-02T14:02:34.605Z"
   },
   {
    "duration": 120,
    "start_time": "2022-05-02T14:02:35.796Z"
   },
   {
    "duration": 104,
    "start_time": "2022-05-02T14:02:35.919Z"
   },
   {
    "duration": 26,
    "start_time": "2022-05-02T14:02:36.025Z"
   },
   {
    "duration": 1161,
    "start_time": "2022-05-02T14:02:36.053Z"
   },
   {
    "duration": 224,
    "start_time": "2022-05-02T14:02:37.216Z"
   },
   {
    "duration": 348,
    "start_time": "2022-05-02T14:02:37.442Z"
   },
   {
    "duration": 4,
    "start_time": "2022-05-02T14:02:37.791Z"
   },
   {
    "duration": 10,
    "start_time": "2022-05-02T14:02:37.796Z"
   },
   {
    "duration": 10,
    "start_time": "2022-05-02T14:02:37.808Z"
   },
   {
    "duration": 240,
    "start_time": "2022-05-02T14:02:37.820Z"
   },
   {
    "duration": 3,
    "start_time": "2022-05-02T14:02:38.062Z"
   },
   {
    "duration": 4,
    "start_time": "2022-05-02T14:02:38.074Z"
   },
   {
    "duration": 10,
    "start_time": "2022-05-02T14:02:38.079Z"
   },
   {
    "duration": 11,
    "start_time": "2022-05-02T14:02:38.091Z"
   },
   {
    "duration": 311371,
    "start_time": "2022-05-02T14:02:38.103Z"
   },
   {
    "duration": 27198,
    "start_time": "2022-05-02T14:07:49.476Z"
   },
   {
    "duration": 3,
    "start_time": "2022-05-02T14:08:16.676Z"
   },
   {
    "duration": 8,
    "start_time": "2022-05-02T14:08:16.681Z"
   },
   {
    "duration": 20,
    "start_time": "2022-05-02T14:08:16.690Z"
   },
   {
    "duration": 123,
    "start_time": "2022-05-02T14:08:16.711Z"
   },
   {
    "duration": 419,
    "start_time": "2022-05-02T14:08:16.836Z"
   },
   {
    "duration": 7,
    "start_time": "2022-05-02T14:08:17.256Z"
   },
   {
    "duration": 8,
    "start_time": "2022-05-02T14:08:17.272Z"
   },
   {
    "duration": 10987,
    "start_time": "2022-05-02T14:08:17.282Z"
   },
   {
    "duration": 150,
    "start_time": "2022-05-02T14:08:28.272Z"
   },
   {
    "duration": 3,
    "start_time": "2022-05-02T14:08:28.424Z"
   },
   {
    "duration": 5,
    "start_time": "2022-05-02T14:08:28.428Z"
   },
   {
    "duration": 94324,
    "start_time": "2022-05-02T14:08:28.435Z"
   },
   {
    "duration": 5824,
    "start_time": "2022-05-02T14:10:02.761Z"
   },
   {
    "duration": 3,
    "start_time": "2022-05-02T14:10:08.586Z"
   },
   {
    "duration": 99,
    "start_time": "2022-05-02T14:10:08.591Z"
   },
   {
    "duration": 1587,
    "start_time": "2022-05-02T14:19:22.978Z"
   },
   {
    "duration": 873,
    "start_time": "2022-05-02T14:19:24.567Z"
   },
   {
    "duration": 138,
    "start_time": "2022-05-02T14:19:25.442Z"
   },
   {
    "duration": 17,
    "start_time": "2022-05-02T14:19:25.582Z"
   },
   {
    "duration": 4,
    "start_time": "2022-05-02T14:19:25.601Z"
   },
   {
    "duration": 290,
    "start_time": "2022-05-02T14:19:25.606Z"
   },
   {
    "duration": 45,
    "start_time": "2022-05-02T14:19:25.897Z"
   },
   {
    "duration": 962,
    "start_time": "2022-05-02T14:19:25.943Z"
   },
   {
    "duration": 7,
    "start_time": "2022-05-02T14:19:26.907Z"
   },
   {
    "duration": 181,
    "start_time": "2022-05-02T14:19:26.917Z"
   },
   {
    "duration": 5,
    "start_time": "2022-05-02T14:19:27.100Z"
   },
   {
    "duration": 18,
    "start_time": "2022-05-02T14:19:27.107Z"
   },
   {
    "duration": 3,
    "start_time": "2022-05-02T14:19:27.127Z"
   },
   {
    "duration": 15,
    "start_time": "2022-05-02T14:19:27.132Z"
   },
   {
    "duration": 33,
    "start_time": "2022-05-02T14:19:27.149Z"
   },
   {
    "duration": 37,
    "start_time": "2022-05-02T14:19:27.184Z"
   },
   {
    "duration": 6,
    "start_time": "2022-05-02T14:19:27.223Z"
   },
   {
    "duration": 9,
    "start_time": "2022-05-02T14:19:27.231Z"
   },
   {
    "duration": 6,
    "start_time": "2022-05-02T14:19:27.274Z"
   },
   {
    "duration": 40,
    "start_time": "2022-05-02T14:19:27.281Z"
   },
   {
    "duration": 51,
    "start_time": "2022-05-02T14:19:27.323Z"
   },
   {
    "duration": 6173,
    "start_time": "2022-05-02T14:19:27.376Z"
   },
   {
    "duration": 6,
    "start_time": "2022-05-02T14:19:33.551Z"
   },
   {
    "duration": 392,
    "start_time": "2022-05-02T14:19:33.559Z"
   },
   {
    "duration": 2,
    "start_time": "2022-05-02T14:19:33.953Z"
   },
   {
    "duration": 19,
    "start_time": "2022-05-02T14:19:33.957Z"
   },
   {
    "duration": 6,
    "start_time": "2022-05-02T14:19:33.978Z"
   },
   {
    "duration": 18,
    "start_time": "2022-05-02T14:19:33.988Z"
   },
   {
    "duration": 31,
    "start_time": "2022-05-02T14:19:34.008Z"
   },
   {
    "duration": 46,
    "start_time": "2022-05-02T14:19:34.041Z"
   },
   {
    "duration": 30,
    "start_time": "2022-05-02T14:19:34.088Z"
   },
   {
    "duration": 16,
    "start_time": "2022-05-02T14:19:34.119Z"
   },
   {
    "duration": 36,
    "start_time": "2022-05-02T14:19:34.137Z"
   },
   {
    "duration": 20,
    "start_time": "2022-05-02T14:19:34.175Z"
   },
   {
    "duration": 22,
    "start_time": "2022-05-02T14:19:34.197Z"
   },
   {
    "duration": 21,
    "start_time": "2022-05-02T14:19:34.220Z"
   },
   {
    "duration": 43,
    "start_time": "2022-05-02T14:19:34.243Z"
   },
   {
    "duration": 28,
    "start_time": "2022-05-02T14:19:34.292Z"
   },
   {
    "duration": 397,
    "start_time": "2022-05-02T14:19:34.322Z"
   },
   {
    "duration": 13,
    "start_time": "2022-05-02T14:19:34.721Z"
   },
   {
    "duration": 4919,
    "start_time": "2022-05-02T14:19:34.735Z"
   },
   {
    "duration": 295,
    "start_time": "2022-05-02T14:19:39.655Z"
   },
   {
    "duration": 26,
    "start_time": "2022-05-02T14:19:39.952Z"
   },
   {
    "duration": 24,
    "start_time": "2022-05-02T14:19:39.980Z"
   },
   {
    "duration": 1389,
    "start_time": "2022-05-02T14:19:40.006Z"
   },
   {
    "duration": 1105,
    "start_time": "2022-05-02T14:19:41.397Z"
   },
   {
    "duration": 93,
    "start_time": "2022-05-02T14:19:42.504Z"
   },
   {
    "duration": 83,
    "start_time": "2022-05-02T14:19:42.598Z"
   },
   {
    "duration": 25,
    "start_time": "2022-05-02T14:19:42.683Z"
   },
   {
    "duration": 927,
    "start_time": "2022-05-02T14:19:42.710Z"
   },
   {
    "duration": 221,
    "start_time": "2022-05-02T14:19:43.640Z"
   },
   {
    "duration": 350,
    "start_time": "2022-05-02T14:19:43.863Z"
   },
   {
    "duration": 3,
    "start_time": "2022-05-02T14:19:44.215Z"
   },
   {
    "duration": 7,
    "start_time": "2022-05-02T14:19:44.220Z"
   },
   {
    "duration": 8,
    "start_time": "2022-05-02T14:19:44.229Z"
   },
   {
    "duration": 363,
    "start_time": "2022-05-02T14:19:44.239Z"
   },
   {
    "duration": 3,
    "start_time": "2022-05-02T14:19:44.604Z"
   },
   {
    "duration": 14,
    "start_time": "2022-05-02T14:19:44.609Z"
   },
   {
    "duration": 48,
    "start_time": "2022-05-02T14:19:44.625Z"
   },
   {
    "duration": 8,
    "start_time": "2022-05-02T14:19:44.675Z"
   },
   {
    "duration": 306176,
    "start_time": "2022-05-02T14:19:44.685Z"
   },
   {
    "duration": 261,
    "start_time": "2022-05-02T14:24:50.863Z"
   },
   {
    "duration": 11,
    "start_time": "2022-05-02T14:24:51.126Z"
   },
   {
    "duration": 0,
    "start_time": "2022-05-02T14:24:51.139Z"
   },
   {
    "duration": 0,
    "start_time": "2022-05-02T14:24:51.140Z"
   },
   {
    "duration": 0,
    "start_time": "2022-05-02T14:24:51.141Z"
   },
   {
    "duration": 0,
    "start_time": "2022-05-02T14:24:51.142Z"
   },
   {
    "duration": 0,
    "start_time": "2022-05-02T14:24:51.144Z"
   },
   {
    "duration": 0,
    "start_time": "2022-05-02T14:24:51.145Z"
   },
   {
    "duration": 0,
    "start_time": "2022-05-02T14:24:51.146Z"
   },
   {
    "duration": 0,
    "start_time": "2022-05-02T14:24:51.147Z"
   },
   {
    "duration": 0,
    "start_time": "2022-05-02T14:24:51.148Z"
   },
   {
    "duration": 0,
    "start_time": "2022-05-02T14:24:51.150Z"
   },
   {
    "duration": 0,
    "start_time": "2022-05-02T14:24:51.151Z"
   },
   {
    "duration": 0,
    "start_time": "2022-05-02T14:24:51.152Z"
   },
   {
    "duration": 0,
    "start_time": "2022-05-02T14:24:51.153Z"
   },
   {
    "duration": 0,
    "start_time": "2022-05-02T14:24:51.154Z"
   },
   {
    "duration": 0,
    "start_time": "2022-05-02T14:24:51.155Z"
   },
   {
    "duration": 0,
    "start_time": "2022-05-02T14:24:51.156Z"
   },
   {
    "duration": 0,
    "start_time": "2022-05-02T14:24:51.157Z"
   },
   {
    "duration": 0,
    "start_time": "2022-05-02T14:24:51.158Z"
   },
   {
    "duration": 0,
    "start_time": "2022-05-02T14:24:51.159Z"
   },
   {
    "duration": 6,
    "start_time": "2022-05-02T14:28:04.557Z"
   },
   {
    "duration": 769,
    "start_time": "2022-05-02T14:28:07.136Z"
   },
   {
    "duration": 136,
    "start_time": "2022-05-02T14:28:09.938Z"
   },
   {
    "duration": 13,
    "start_time": "2022-05-02T14:28:12.800Z"
   },
   {
    "duration": 4,
    "start_time": "2022-05-02T14:28:17.013Z"
   },
   {
    "duration": 204,
    "start_time": "2022-05-02T14:28:20.220Z"
   },
   {
    "duration": 19,
    "start_time": "2022-05-02T14:28:24.340Z"
   },
   {
    "duration": 844,
    "start_time": "2022-05-02T14:28:27.990Z"
   },
   {
    "duration": 6,
    "start_time": "2022-05-02T14:28:33.875Z"
   },
   {
    "duration": 153,
    "start_time": "2022-05-02T14:28:38.557Z"
   },
   {
    "duration": 5,
    "start_time": "2022-05-02T14:28:45.831Z"
   },
   {
    "duration": 14,
    "start_time": "2022-05-02T14:28:55.927Z"
   },
   {
    "duration": 3,
    "start_time": "2022-05-02T14:28:57.074Z"
   },
   {
    "duration": 11,
    "start_time": "2022-05-02T14:28:59.711Z"
   },
   {
    "duration": 12,
    "start_time": "2022-05-02T14:29:02.851Z"
   },
   {
    "duration": 29,
    "start_time": "2022-05-02T14:29:07.807Z"
   },
   {
    "duration": 7,
    "start_time": "2022-05-02T14:29:11.578Z"
   },
   {
    "duration": 8,
    "start_time": "2022-05-02T14:29:15.507Z"
   },
   {
    "duration": 6,
    "start_time": "2022-05-02T14:29:20.021Z"
   },
   {
    "duration": 31,
    "start_time": "2022-05-02T14:29:22.705Z"
   },
   {
    "duration": 36,
    "start_time": "2022-05-02T14:29:24.741Z"
   },
   {
    "duration": 6249,
    "start_time": "2022-05-02T14:29:29.734Z"
   },
   {
    "duration": 7,
    "start_time": "2022-05-02T14:29:37.302Z"
   },
   {
    "duration": 421,
    "start_time": "2022-05-02T14:29:40.932Z"
   },
   {
    "duration": 6,
    "start_time": "2022-05-02T14:29:50.361Z"
   },
   {
    "duration": 7,
    "start_time": "2022-05-02T14:29:53.723Z"
   },
   {
    "duration": 6,
    "start_time": "2022-05-02T14:29:58.845Z"
   },
   {
    "duration": 18,
    "start_time": "2022-05-02T14:30:03.749Z"
   },
   {
    "duration": 31,
    "start_time": "2022-05-02T14:30:12.343Z"
   },
   {
    "duration": 22,
    "start_time": "2022-05-02T14:30:15.355Z"
   },
   {
    "duration": 24,
    "start_time": "2022-05-02T14:30:19.522Z"
   },
   {
    "duration": 15,
    "start_time": "2022-05-02T14:33:14.229Z"
   },
   {
    "duration": 653,
    "start_time": "2022-05-02T14:33:47.499Z"
   },
   {
    "duration": 1046,
    "start_time": "2022-05-02T14:35:01.712Z"
   },
   {
    "duration": 134,
    "start_time": "2022-05-02T14:36:37.221Z"
   },
   {
    "duration": 22,
    "start_time": "2022-05-02T14:36:44.989Z"
   },
   {
    "duration": 20,
    "start_time": "2022-05-02T14:37:10.588Z"
   },
   {
    "duration": 20,
    "start_time": "2022-05-02T14:38:31.750Z"
   },
   {
    "duration": 38,
    "start_time": "2022-05-02T14:39:27.228Z"
   },
   {
    "duration": 21,
    "start_time": "2022-05-02T14:39:56.530Z"
   },
   {
    "duration": 22,
    "start_time": "2022-05-02T14:40:41.377Z"
   },
   {
    "duration": 735,
    "start_time": "2022-05-02T14:42:09.457Z"
   },
   {
    "duration": 29,
    "start_time": "2022-05-02T14:42:45.053Z"
   },
   {
    "duration": 187,
    "start_time": "2022-05-02T14:43:05.741Z"
   },
   {
    "duration": 27,
    "start_time": "2022-05-02T14:43:07.806Z"
   },
   {
    "duration": 123,
    "start_time": "2022-05-02T14:43:13.827Z"
   },
   {
    "duration": 30,
    "start_time": "2022-05-02T14:43:16.058Z"
   },
   {
    "duration": 700,
    "start_time": "2022-05-02T14:43:19.884Z"
   },
   {
    "duration": 19,
    "start_time": "2022-05-02T14:43:32.287Z"
   },
   {
    "duration": 21,
    "start_time": "2022-05-02T14:43:37.191Z"
   },
   {
    "duration": 383,
    "start_time": "2022-05-02T14:43:41.741Z"
   },
   {
    "duration": 15,
    "start_time": "2022-05-02T14:43:49.034Z"
   },
   {
    "duration": 22,
    "start_time": "2022-05-02T14:45:16.639Z"
   },
   {
    "duration": 306,
    "start_time": "2022-05-02T14:45:32.300Z"
   },
   {
    "duration": 24,
    "start_time": "2022-05-02T14:45:53.803Z"
   },
   {
    "duration": 23,
    "start_time": "2022-05-02T14:47:39.525Z"
   },
   {
    "duration": 46,
    "start_time": "2022-05-02T14:48:24.849Z"
   },
   {
    "duration": 19,
    "start_time": "2022-05-02T14:49:13.569Z"
   },
   {
    "duration": 319,
    "start_time": "2022-05-02T14:50:43.402Z"
   },
   {
    "duration": 19,
    "start_time": "2022-05-02T14:51:44.299Z"
   },
   {
    "duration": 22,
    "start_time": "2022-05-02T14:51:59.983Z"
   },
   {
    "duration": 5129,
    "start_time": "2022-05-02T14:52:09.728Z"
   },
   {
    "duration": 332,
    "start_time": "2022-05-02T14:52:30.070Z"
   },
   {
    "duration": 20,
    "start_time": "2022-05-02T14:52:55.960Z"
   },
   {
    "duration": 21,
    "start_time": "2022-05-02T14:53:09.114Z"
   },
   {
    "duration": 1032,
    "start_time": "2022-05-02T14:53:17.194Z"
   },
   {
    "duration": 80,
    "start_time": "2022-05-02T14:53:46.473Z"
   },
   {
    "duration": 62,
    "start_time": "2022-05-02T14:53:54.489Z"
   },
   {
    "duration": 22,
    "start_time": "2022-05-02T14:54:02.887Z"
   },
   {
    "duration": 820,
    "start_time": "2022-05-02T14:54:05.901Z"
   },
   {
    "duration": 207,
    "start_time": "2022-05-02T14:54:22.164Z"
   },
   {
    "duration": 307,
    "start_time": "2022-05-02T14:54:24.776Z"
   },
   {
    "duration": 3,
    "start_time": "2022-05-02T14:54:30.430Z"
   },
   {
    "duration": 3,
    "start_time": "2022-05-02T14:54:31.596Z"
   },
   {
    "duration": 3,
    "start_time": "2022-05-02T14:54:32.465Z"
   },
   {
    "duration": 198,
    "start_time": "2022-05-02T14:54:35.431Z"
   },
   {
    "duration": 3,
    "start_time": "2022-05-02T14:54:42.779Z"
   },
   {
    "duration": 300539,
    "start_time": "2022-05-02T14:55:22.243Z"
   },
   {
    "duration": 24589,
    "start_time": "2022-05-02T15:00:22.785Z"
   },
   {
    "duration": 4,
    "start_time": "2022-05-02T15:00:47.376Z"
   },
   {
    "duration": 5,
    "start_time": "2022-05-02T15:00:47.382Z"
   },
   {
    "duration": 7,
    "start_time": "2022-05-02T15:00:47.389Z"
   },
   {
    "duration": 11,
    "start_time": "2022-05-02T15:01:02.849Z"
   },
   {
    "duration": 3,
    "start_time": "2022-05-02T15:01:09.728Z"
   },
   {
    "duration": 3,
    "start_time": "2022-05-02T15:01:10.795Z"
   },
   {
    "duration": 14,
    "start_time": "2022-05-02T15:01:12.544Z"
   },
   {
    "duration": 3,
    "start_time": "2022-05-02T15:01:16.179Z"
   },
   {
    "duration": 17,
    "start_time": "2022-05-02T15:01:17.691Z"
   },
   {
    "duration": 73,
    "start_time": "2022-05-02T15:01:20.053Z"
   },
   {
    "duration": 407,
    "start_time": "2022-05-02T15:01:21.339Z"
   },
   {
    "duration": 5,
    "start_time": "2022-05-02T15:01:48.213Z"
   },
   {
    "duration": 10988,
    "start_time": "2022-05-02T15:01:51.760Z"
   },
   {
    "duration": 520,
    "start_time": "2022-05-02T15:02:02.751Z"
   },
   {
    "duration": 3,
    "start_time": "2022-05-02T15:02:03.273Z"
   },
   {
    "duration": 89669,
    "start_time": "2022-05-02T15:02:04.676Z"
   },
   {
    "duration": 5460,
    "start_time": "2022-05-02T15:03:34.348Z"
   },
   {
    "duration": 3,
    "start_time": "2022-05-02T15:03:39.809Z"
   },
   {
    "duration": 6,
    "start_time": "2022-05-02T15:03:39.814Z"
   },
   {
    "duration": 8,
    "start_time": "2022-05-02T15:03:39.821Z"
   },
   {
    "duration": 87,
    "start_time": "2022-05-02T15:03:39.831Z"
   },
   {
    "duration": 6,
    "start_time": "2022-05-02T15:03:39.920Z"
   },
   {
    "duration": 8,
    "start_time": "2022-05-02T15:03:39.928Z"
   },
   {
    "duration": 1420589,
    "start_time": "2022-05-02T15:03:39.938Z"
   },
   {
    "duration": 3,
    "start_time": "2022-05-02T15:27:20.529Z"
   },
   {
    "duration": 3,
    "start_time": "2022-05-02T15:31:17.204Z"
   },
   {
    "duration": 2571,
    "start_time": "2022-05-02T15:41:25.004Z"
   },
   {
    "duration": 1172,
    "start_time": "2022-05-02T15:41:27.579Z"
   },
   {
    "duration": 194,
    "start_time": "2022-05-02T15:41:28.753Z"
   },
   {
    "duration": 26,
    "start_time": "2022-05-02T15:41:28.951Z"
   },
   {
    "duration": 5,
    "start_time": "2022-05-02T15:41:28.979Z"
   },
   {
    "duration": 440,
    "start_time": "2022-05-02T15:41:28.986Z"
   },
   {
    "duration": 63,
    "start_time": "2022-05-02T15:41:29.428Z"
   },
   {
    "duration": 1695,
    "start_time": "2022-05-02T15:41:29.494Z"
   },
   {
    "duration": 8,
    "start_time": "2022-05-02T15:41:31.191Z"
   },
   {
    "duration": 326,
    "start_time": "2022-05-02T15:41:31.224Z"
   },
   {
    "duration": 6,
    "start_time": "2022-05-02T15:41:31.552Z"
   },
   {
    "duration": 27,
    "start_time": "2022-05-02T15:41:31.560Z"
   },
   {
    "duration": 5,
    "start_time": "2022-05-02T15:41:31.589Z"
   },
   {
    "duration": 39,
    "start_time": "2022-05-02T15:41:31.596Z"
   },
   {
    "duration": 15,
    "start_time": "2022-05-02T15:41:31.637Z"
   },
   {
    "duration": 99,
    "start_time": "2022-05-02T15:41:31.658Z"
   },
   {
    "duration": 8,
    "start_time": "2022-05-02T15:41:31.760Z"
   },
   {
    "duration": 16,
    "start_time": "2022-05-02T15:41:31.771Z"
   },
   {
    "duration": 8,
    "start_time": "2022-05-02T15:41:31.790Z"
   },
   {
    "duration": 74,
    "start_time": "2022-05-02T15:41:31.825Z"
   },
   {
    "duration": 69,
    "start_time": "2022-05-02T15:41:31.902Z"
   },
   {
    "duration": 10962,
    "start_time": "2022-05-02T15:41:31.974Z"
   },
   {
    "duration": 10,
    "start_time": "2022-05-02T15:41:42.938Z"
   },
   {
    "duration": 761,
    "start_time": "2022-05-02T15:41:42.951Z"
   },
   {
    "duration": 15,
    "start_time": "2022-05-02T15:41:43.715Z"
   },
   {
    "duration": 10,
    "start_time": "2022-05-02T15:41:43.732Z"
   },
   {
    "duration": 11,
    "start_time": "2022-05-02T15:41:43.745Z"
   },
   {
    "duration": 73,
    "start_time": "2022-05-02T15:41:43.764Z"
   },
   {
    "duration": 58,
    "start_time": "2022-05-02T15:41:43.840Z"
   },
   {
    "duration": 61,
    "start_time": "2022-05-02T15:41:43.900Z"
   },
   {
    "duration": 62,
    "start_time": "2022-05-02T15:41:43.964Z"
   },
   {
    "duration": 31,
    "start_time": "2022-05-02T15:41:44.029Z"
   },
   {
    "duration": 234,
    "start_time": "2022-05-02T15:41:44.062Z"
   },
   {
    "duration": 43,
    "start_time": "2022-05-02T15:41:44.299Z"
   },
   {
    "duration": 36,
    "start_time": "2022-05-02T15:41:44.344Z"
   },
   {
    "duration": 91,
    "start_time": "2022-05-02T15:41:44.382Z"
   },
   {
    "duration": 51,
    "start_time": "2022-05-02T15:41:44.475Z"
   },
   {
    "duration": 30,
    "start_time": "2022-05-02T15:41:44.528Z"
   },
   {
    "duration": 1401,
    "start_time": "2022-05-02T15:41:44.560Z"
   },
   {
    "duration": 62,
    "start_time": "2022-05-02T15:41:45.964Z"
   },
   {
    "duration": 29,
    "start_time": "2022-05-02T15:41:46.028Z"
   },
   {
    "duration": 646,
    "start_time": "2022-05-02T15:41:46.059Z"
   },
   {
    "duration": 27,
    "start_time": "2022-05-02T15:41:46.708Z"
   },
   {
    "duration": 28,
    "start_time": "2022-05-02T15:41:46.737Z"
   },
   {
    "duration": 545,
    "start_time": "2022-05-02T15:41:46.768Z"
   },
   {
    "duration": 35,
    "start_time": "2022-05-02T15:41:47.315Z"
   },
   {
    "duration": 126,
    "start_time": "2022-05-02T15:41:47.353Z"
   },
   {
    "duration": 27,
    "start_time": "2022-05-02T15:41:47.481Z"
   },
   {
    "duration": 544,
    "start_time": "2022-05-02T15:41:47.510Z"
   },
   {
    "duration": 28,
    "start_time": "2022-05-02T15:41:48.057Z"
   },
   {
    "duration": 2744,
    "start_time": "2022-05-02T15:41:53.080Z"
   },
   {
    "duration": 1244,
    "start_time": "2022-05-02T15:41:55.829Z"
   },
   {
    "duration": 190,
    "start_time": "2022-05-02T15:41:57.075Z"
   },
   {
    "duration": 26,
    "start_time": "2022-05-02T15:41:57.269Z"
   },
   {
    "duration": 31,
    "start_time": "2022-05-02T15:41:57.298Z"
   },
   {
    "duration": 428,
    "start_time": "2022-05-02T15:41:57.332Z"
   },
   {
    "duration": 96,
    "start_time": "2022-05-02T15:41:57.763Z"
   },
   {
    "duration": 3559,
    "start_time": "2022-05-02T15:41:57.861Z"
   },
   {
    "duration": 12,
    "start_time": "2022-05-02T15:42:01.422Z"
   },
   {
    "duration": 315,
    "start_time": "2022-05-02T15:42:01.440Z"
   },
   {
    "duration": 5,
    "start_time": "2022-05-02T15:42:01.757Z"
   },
   {
    "duration": 30,
    "start_time": "2022-05-02T15:42:01.764Z"
   },
   {
    "duration": 14,
    "start_time": "2022-05-02T15:42:01.796Z"
   },
   {
    "duration": 35,
    "start_time": "2022-05-02T15:42:01.812Z"
   },
   {
    "duration": 15,
    "start_time": "2022-05-02T15:42:01.851Z"
   },
   {
    "duration": 83,
    "start_time": "2022-05-02T15:42:01.868Z"
   },
   {
    "duration": 8,
    "start_time": "2022-05-02T15:42:01.954Z"
   },
   {
    "duration": 27,
    "start_time": "2022-05-02T15:42:01.964Z"
   },
   {
    "duration": 23,
    "start_time": "2022-05-02T15:42:01.993Z"
   },
   {
    "duration": 88,
    "start_time": "2022-05-02T15:42:02.018Z"
   },
   {
    "duration": 60,
    "start_time": "2022-05-02T15:42:02.108Z"
   },
   {
    "duration": 12657,
    "start_time": "2022-05-02T15:42:02.170Z"
   },
   {
    "duration": 12,
    "start_time": "2022-05-02T15:42:14.830Z"
   },
   {
    "duration": 716,
    "start_time": "2022-05-02T15:42:14.845Z"
   },
   {
    "duration": 8,
    "start_time": "2022-05-02T15:42:15.564Z"
   },
   {
    "duration": 9,
    "start_time": "2022-05-02T15:42:15.574Z"
   },
   {
    "duration": 8,
    "start_time": "2022-05-02T15:42:15.585Z"
   },
   {
    "duration": 26,
    "start_time": "2022-05-02T15:42:15.631Z"
   },
   {
    "duration": 80,
    "start_time": "2022-05-02T15:42:15.660Z"
   },
   {
    "duration": 29,
    "start_time": "2022-05-02T15:42:15.743Z"
   },
   {
    "duration": 54,
    "start_time": "2022-05-02T15:42:15.774Z"
   },
   {
    "duration": 26,
    "start_time": "2022-05-02T15:42:15.834Z"
   },
   {
    "duration": 269,
    "start_time": "2022-05-02T15:42:15.862Z"
   },
   {
    "duration": 37,
    "start_time": "2022-05-02T15:42:16.134Z"
   },
   {
    "duration": 52,
    "start_time": "2022-05-02T15:42:16.173Z"
   },
   {
    "duration": 96,
    "start_time": "2022-05-02T15:42:16.229Z"
   },
   {
    "duration": 42,
    "start_time": "2022-05-02T15:42:16.328Z"
   },
   {
    "duration": 30,
    "start_time": "2022-05-02T15:42:16.372Z"
   },
   {
    "duration": 1484,
    "start_time": "2022-05-02T15:42:16.404Z"
   },
   {
    "duration": 38,
    "start_time": "2022-05-02T15:42:17.890Z"
   },
   {
    "duration": 35,
    "start_time": "2022-05-02T15:42:17.932Z"
   },
   {
    "duration": 700,
    "start_time": "2022-05-02T15:42:17.970Z"
   },
   {
    "duration": 22,
    "start_time": "2022-05-02T15:42:18.673Z"
   },
   {
    "duration": 52,
    "start_time": "2022-05-02T15:42:18.697Z"
   },
   {
    "duration": 557,
    "start_time": "2022-05-02T15:42:18.751Z"
   },
   {
    "duration": 51,
    "start_time": "2022-05-02T15:42:19.311Z"
   },
   {
    "duration": 111,
    "start_time": "2022-05-02T15:42:19.364Z"
   },
   {
    "duration": 27,
    "start_time": "2022-05-02T15:42:19.477Z"
   },
   {
    "duration": 549,
    "start_time": "2022-05-02T15:42:19.506Z"
   },
   {
    "duration": 27,
    "start_time": "2022-05-02T15:42:20.057Z"
   },
   {
    "duration": 2321,
    "start_time": "2022-05-02T15:42:30.593Z"
   },
   {
    "duration": 2117,
    "start_time": "2022-05-02T15:42:32.916Z"
   },
   {
    "duration": 416,
    "start_time": "2022-05-02T15:42:35.036Z"
   },
   {
    "duration": 72,
    "start_time": "2022-05-02T15:42:35.455Z"
   },
   {
    "duration": 19,
    "start_time": "2022-05-02T15:42:35.531Z"
   },
   {
    "duration": 906,
    "start_time": "2022-05-02T15:42:35.552Z"
   },
   {
    "duration": 167,
    "start_time": "2022-05-02T15:42:36.461Z"
   },
   {
    "duration": 2079,
    "start_time": "2022-05-02T15:42:36.632Z"
   },
   {
    "duration": 21,
    "start_time": "2022-05-02T15:42:38.713Z"
   },
   {
    "duration": 306,
    "start_time": "2022-05-02T15:42:38.739Z"
   },
   {
    "duration": 5,
    "start_time": "2022-05-02T15:42:39.049Z"
   },
   {
    "duration": 27,
    "start_time": "2022-05-02T15:42:39.056Z"
   },
   {
    "duration": 5,
    "start_time": "2022-05-02T15:42:39.086Z"
   },
   {
    "duration": 48,
    "start_time": "2022-05-02T15:42:39.093Z"
   },
   {
    "duration": 17,
    "start_time": "2022-05-02T15:42:39.144Z"
   },
   {
    "duration": 94,
    "start_time": "2022-05-02T15:42:39.163Z"
   },
   {
    "duration": 15,
    "start_time": "2022-05-02T15:42:39.260Z"
   },
   {
    "duration": 26,
    "start_time": "2022-05-02T15:42:39.277Z"
   },
   {
    "duration": 23,
    "start_time": "2022-05-02T15:42:39.306Z"
   },
   {
    "duration": 85,
    "start_time": "2022-05-02T15:42:39.332Z"
   },
   {
    "duration": 62,
    "start_time": "2022-05-02T15:42:39.420Z"
   },
   {
    "duration": 10741,
    "start_time": "2022-05-02T15:42:39.484Z"
   },
   {
    "duration": 13,
    "start_time": "2022-05-02T15:42:50.229Z"
   },
   {
    "duration": 707,
    "start_time": "2022-05-02T15:42:50.244Z"
   },
   {
    "duration": 8,
    "start_time": "2022-05-02T15:42:50.953Z"
   },
   {
    "duration": 11,
    "start_time": "2022-05-02T15:42:50.963Z"
   },
   {
    "duration": 16,
    "start_time": "2022-05-02T15:42:50.976Z"
   },
   {
    "duration": 51,
    "start_time": "2022-05-02T15:42:50.999Z"
   },
   {
    "duration": 75,
    "start_time": "2022-05-02T15:42:51.053Z"
   },
   {
    "duration": 31,
    "start_time": "2022-05-02T15:42:51.132Z"
   },
   {
    "duration": 34,
    "start_time": "2022-05-02T15:42:51.165Z"
   },
   {
    "duration": 46,
    "start_time": "2022-05-02T15:42:51.202Z"
   },
   {
    "duration": 248,
    "start_time": "2022-05-02T15:42:51.251Z"
   },
   {
    "duration": 41,
    "start_time": "2022-05-02T15:42:51.501Z"
   },
   {
    "duration": 29,
    "start_time": "2022-05-02T15:42:51.545Z"
   },
   {
    "duration": 105,
    "start_time": "2022-05-02T15:42:51.576Z"
   },
   {
    "duration": 48,
    "start_time": "2022-05-02T15:42:51.683Z"
   },
   {
    "duration": 32,
    "start_time": "2022-05-02T15:42:51.733Z"
   },
   {
    "duration": 1528,
    "start_time": "2022-05-02T15:42:51.767Z"
   },
   {
    "duration": 43,
    "start_time": "2022-05-02T15:42:53.297Z"
   },
   {
    "duration": 32,
    "start_time": "2022-05-02T15:42:53.343Z"
   },
   {
    "duration": 1052,
    "start_time": "2022-05-02T15:42:53.377Z"
   },
   {
    "duration": 24,
    "start_time": "2022-05-02T15:42:54.432Z"
   },
   {
    "duration": 28,
    "start_time": "2022-05-02T15:42:54.459Z"
   },
   {
    "duration": 582,
    "start_time": "2022-05-02T15:42:54.489Z"
   },
   {
    "duration": 34,
    "start_time": "2022-05-02T15:42:55.074Z"
   },
   {
    "duration": 99,
    "start_time": "2022-05-02T15:42:55.126Z"
   },
   {
    "duration": 35,
    "start_time": "2022-05-02T15:42:55.228Z"
   },
   {
    "duration": 559,
    "start_time": "2022-05-02T15:42:55.265Z"
   },
   {
    "duration": 32,
    "start_time": "2022-05-02T15:42:55.828Z"
   },
   {
    "duration": 7643,
    "start_time": "2022-05-02T15:42:55.862Z"
   },
   {
    "duration": 2216,
    "start_time": "2022-05-02T15:43:03.508Z"
   },
   {
    "duration": 117,
    "start_time": "2022-05-02T15:43:05.727Z"
   },
   {
    "duration": 139,
    "start_time": "2022-05-02T15:43:05.847Z"
   },
   {
    "duration": 56,
    "start_time": "2022-05-02T15:43:05.988Z"
   },
   {
    "duration": 1527,
    "start_time": "2022-05-02T15:43:06.047Z"
   },
   {
    "duration": 207,
    "start_time": "2022-05-02T15:43:07.577Z"
   },
   {
    "duration": 438,
    "start_time": "2022-05-02T15:43:07.786Z"
   },
   {
    "duration": 4,
    "start_time": "2022-05-02T15:43:08.226Z"
   },
   {
    "duration": 6,
    "start_time": "2022-05-02T15:43:08.232Z"
   },
   {
    "duration": 9,
    "start_time": "2022-05-02T15:43:08.240Z"
   },
   {
    "duration": 297,
    "start_time": "2022-05-02T15:43:08.251Z"
   },
   {
    "duration": 4,
    "start_time": "2022-05-02T15:43:08.550Z"
   },
   {
    "duration": 8,
    "start_time": "2022-05-02T15:43:08.556Z"
   },
   {
    "duration": 10,
    "start_time": "2022-05-02T15:43:08.566Z"
   },
   {
    "duration": 9,
    "start_time": "2022-05-02T15:43:08.578Z"
   },
   {
    "duration": 46,
    "start_time": "2022-05-02T15:43:08.589Z"
   },
   {
    "duration": 153,
    "start_time": "2022-05-02T15:43:08.637Z"
   },
   {
    "duration": 679,
    "start_time": "2022-05-02T15:43:08.793Z"
   },
   {
    "duration": 11,
    "start_time": "2022-05-02T15:43:09.474Z"
   },
   {
    "duration": 14790,
    "start_time": "2022-05-02T15:43:09.487Z"
   },
   {
    "duration": 982,
    "start_time": "2022-05-02T15:43:24.280Z"
   },
   {
    "duration": 60,
    "start_time": "2022-05-02T15:43:25.264Z"
   },
   {
    "duration": 120422,
    "start_time": "2022-05-02T15:43:25.327Z"
   },
   {
    "duration": 7343,
    "start_time": "2022-05-02T15:45:25.751Z"
   },
   {
    "duration": 4,
    "start_time": "2022-05-02T15:45:33.097Z"
   },
   {
    "duration": 20,
    "start_time": "2022-05-02T15:45:33.104Z"
   },
   {
    "duration": 13,
    "start_time": "2022-05-02T15:45:33.127Z"
   },
   {
    "duration": 22,
    "start_time": "2022-05-02T15:45:33.143Z"
   },
   {
    "duration": 12,
    "start_time": "2022-05-02T15:45:33.168Z"
   },
   {
    "duration": 190,
    "start_time": "2022-05-02T15:45:33.184Z"
   },
   {
    "duration": 0,
    "start_time": "2022-05-02T15:45:33.377Z"
   },
   {
    "duration": 137,
    "start_time": "2022-05-02T15:46:58.086Z"
   },
   {
    "duration": 2915,
    "start_time": "2022-05-02T15:47:16.430Z"
   },
   {
    "duration": 2237,
    "start_time": "2022-05-02T15:47:19.348Z"
   },
   {
    "duration": 315,
    "start_time": "2022-05-02T15:47:21.589Z"
   },
   {
    "duration": 42,
    "start_time": "2022-05-02T15:47:21.907Z"
   },
   {
    "duration": 20,
    "start_time": "2022-05-02T15:47:21.951Z"
   },
   {
    "duration": 650,
    "start_time": "2022-05-02T15:47:21.974Z"
   },
   {
    "duration": 60,
    "start_time": "2022-05-02T15:47:22.626Z"
   },
   {
    "duration": 1741,
    "start_time": "2022-05-02T15:47:22.689Z"
   },
   {
    "duration": 8,
    "start_time": "2022-05-02T15:47:24.432Z"
   },
   {
    "duration": 303,
    "start_time": "2022-05-02T15:47:24.444Z"
   },
   {
    "duration": 5,
    "start_time": "2022-05-02T15:47:24.749Z"
   },
   {
    "duration": 33,
    "start_time": "2022-05-02T15:47:24.756Z"
   },
   {
    "duration": 5,
    "start_time": "2022-05-02T15:47:24.791Z"
   },
   {
    "duration": 41,
    "start_time": "2022-05-02T15:47:24.798Z"
   },
   {
    "duration": 17,
    "start_time": "2022-05-02T15:47:24.842Z"
   },
   {
    "duration": 94,
    "start_time": "2022-05-02T15:47:24.862Z"
   },
   {
    "duration": 12,
    "start_time": "2022-05-02T15:47:24.959Z"
   },
   {
    "duration": 15,
    "start_time": "2022-05-02T15:47:24.974Z"
   },
   {
    "duration": 35,
    "start_time": "2022-05-02T15:47:24.992Z"
   },
   {
    "duration": 99,
    "start_time": "2022-05-02T15:47:25.030Z"
   },
   {
    "duration": 92,
    "start_time": "2022-05-02T15:47:25.132Z"
   },
   {
    "duration": 10952,
    "start_time": "2022-05-02T15:47:25.228Z"
   },
   {
    "duration": 9,
    "start_time": "2022-05-02T15:47:36.182Z"
   },
   {
    "duration": 661,
    "start_time": "2022-05-02T15:47:36.193Z"
   },
   {
    "duration": 7,
    "start_time": "2022-05-02T15:47:36.857Z"
   },
   {
    "duration": 16,
    "start_time": "2022-05-02T15:47:36.866Z"
   },
   {
    "duration": 24,
    "start_time": "2022-05-02T15:47:36.884Z"
   },
   {
    "duration": 26,
    "start_time": "2022-05-02T15:47:36.927Z"
   },
   {
    "duration": 72,
    "start_time": "2022-05-02T15:47:36.955Z"
   },
   {
    "duration": 28,
    "start_time": "2022-05-02T15:47:37.030Z"
   },
   {
    "duration": 66,
    "start_time": "2022-05-02T15:47:37.061Z"
   },
   {
    "duration": 23,
    "start_time": "2022-05-02T15:47:37.130Z"
   },
   {
    "duration": 238,
    "start_time": "2022-05-02T15:47:37.156Z"
   },
   {
    "duration": 35,
    "start_time": "2022-05-02T15:47:37.396Z"
   },
   {
    "duration": 30,
    "start_time": "2022-05-02T15:47:37.433Z"
   },
   {
    "duration": 102,
    "start_time": "2022-05-02T15:47:37.466Z"
   },
   {
    "duration": 36,
    "start_time": "2022-05-02T15:47:37.570Z"
   },
   {
    "duration": 44,
    "start_time": "2022-05-02T15:47:37.609Z"
   },
   {
    "duration": 1427,
    "start_time": "2022-05-02T15:47:37.656Z"
   },
   {
    "duration": 39,
    "start_time": "2022-05-02T15:47:39.086Z"
   },
   {
    "duration": 31,
    "start_time": "2022-05-02T15:47:39.127Z"
   },
   {
    "duration": 655,
    "start_time": "2022-05-02T15:47:39.160Z"
   },
   {
    "duration": 23,
    "start_time": "2022-05-02T15:47:39.825Z"
   },
   {
    "duration": 30,
    "start_time": "2022-05-02T15:47:39.850Z"
   },
   {
    "duration": 538,
    "start_time": "2022-05-02T15:47:39.883Z"
   },
   {
    "duration": 34,
    "start_time": "2022-05-02T15:47:40.425Z"
   },
   {
    "duration": 97,
    "start_time": "2022-05-02T15:47:40.461Z"
   },
   {
    "duration": 29,
    "start_time": "2022-05-02T15:47:40.560Z"
   },
   {
    "duration": 554,
    "start_time": "2022-05-02T15:47:40.591Z"
   },
   {
    "duration": 30,
    "start_time": "2022-05-02T15:47:41.148Z"
   },
   {
    "duration": 7676,
    "start_time": "2022-05-02T15:47:41.181Z"
   },
   {
    "duration": 2068,
    "start_time": "2022-05-02T15:47:48.861Z"
   },
   {
    "duration": 122,
    "start_time": "2022-05-02T15:47:50.932Z"
   },
   {
    "duration": 89,
    "start_time": "2022-05-02T15:47:51.057Z"
   },
   {
    "duration": 35,
    "start_time": "2022-05-02T15:47:51.148Z"
   },
   {
    "duration": 1475,
    "start_time": "2022-05-02T15:47:51.186Z"
   },
   {
    "duration": 219,
    "start_time": "2022-05-02T15:47:52.663Z"
   },
   {
    "duration": 567,
    "start_time": "2022-05-02T15:47:52.884Z"
   },
   {
    "duration": 4,
    "start_time": "2022-05-02T15:47:53.453Z"
   },
   {
    "duration": 8,
    "start_time": "2022-05-02T15:47:53.459Z"
   },
   {
    "duration": 7,
    "start_time": "2022-05-02T15:47:53.469Z"
   },
   {
    "duration": 332,
    "start_time": "2022-05-02T15:47:53.478Z"
   },
   {
    "duration": 12,
    "start_time": "2022-05-02T15:47:53.812Z"
   },
   {
    "duration": 6,
    "start_time": "2022-05-02T15:47:53.828Z"
   },
   {
    "duration": 8,
    "start_time": "2022-05-02T15:47:53.836Z"
   },
   {
    "duration": 191,
    "start_time": "2022-05-02T15:47:53.846Z"
   },
   {
    "duration": 0,
    "start_time": "2022-05-02T15:47:54.040Z"
   },
   {
    "duration": 0,
    "start_time": "2022-05-02T15:47:54.041Z"
   },
   {
    "duration": 1,
    "start_time": "2022-05-02T15:47:54.042Z"
   },
   {
    "duration": 0,
    "start_time": "2022-05-02T15:47:54.044Z"
   },
   {
    "duration": 0,
    "start_time": "2022-05-02T15:47:54.045Z"
   },
   {
    "duration": 0,
    "start_time": "2022-05-02T15:47:54.047Z"
   },
   {
    "duration": 0,
    "start_time": "2022-05-02T15:47:54.048Z"
   },
   {
    "duration": 0,
    "start_time": "2022-05-02T15:47:54.049Z"
   },
   {
    "duration": 0,
    "start_time": "2022-05-02T15:47:54.051Z"
   },
   {
    "duration": 0,
    "start_time": "2022-05-02T15:47:54.052Z"
   },
   {
    "duration": 0,
    "start_time": "2022-05-02T15:47:54.053Z"
   },
   {
    "duration": 0,
    "start_time": "2022-05-02T15:47:54.055Z"
   },
   {
    "duration": 0,
    "start_time": "2022-05-02T15:47:54.056Z"
   },
   {
    "duration": 0,
    "start_time": "2022-05-02T15:47:54.057Z"
   },
   {
    "duration": 0,
    "start_time": "2022-05-02T15:47:54.058Z"
   },
   {
    "duration": 0,
    "start_time": "2022-05-02T15:47:54.060Z"
   },
   {
    "duration": 0,
    "start_time": "2022-05-02T15:47:54.061Z"
   },
   {
    "duration": 0,
    "start_time": "2022-05-02T15:47:54.062Z"
   },
   {
    "duration": 0,
    "start_time": "2022-05-02T15:47:54.063Z"
   },
   {
    "duration": 0,
    "start_time": "2022-05-02T15:47:54.065Z"
   },
   {
    "duration": 0,
    "start_time": "2022-05-02T15:47:54.066Z"
   },
   {
    "duration": 0,
    "start_time": "2022-05-02T15:47:54.067Z"
   },
   {
    "duration": 0,
    "start_time": "2022-05-02T15:47:54.068Z"
   },
   {
    "duration": 2121,
    "start_time": "2022-05-02T15:48:46.078Z"
   },
   {
    "duration": 1124,
    "start_time": "2022-05-02T15:48:48.201Z"
   },
   {
    "duration": 174,
    "start_time": "2022-05-02T15:48:49.328Z"
   },
   {
    "duration": 37,
    "start_time": "2022-05-02T15:48:49.505Z"
   },
   {
    "duration": 6,
    "start_time": "2022-05-02T15:48:49.546Z"
   },
   {
    "duration": 496,
    "start_time": "2022-05-02T15:48:49.555Z"
   },
   {
    "duration": 108,
    "start_time": "2022-05-02T15:48:50.054Z"
   },
   {
    "duration": 4140,
    "start_time": "2022-05-02T15:48:50.165Z"
   },
   {
    "duration": 20,
    "start_time": "2022-05-02T15:48:54.308Z"
   },
   {
    "duration": 288,
    "start_time": "2022-05-02T15:48:54.332Z"
   },
   {
    "duration": 5,
    "start_time": "2022-05-02T15:48:54.623Z"
   },
   {
    "duration": 22,
    "start_time": "2022-05-02T15:48:54.631Z"
   },
   {
    "duration": 7,
    "start_time": "2022-05-02T15:48:54.655Z"
   },
   {
    "duration": 18,
    "start_time": "2022-05-02T15:48:54.665Z"
   },
   {
    "duration": 51,
    "start_time": "2022-05-02T15:48:54.685Z"
   },
   {
    "duration": 63,
    "start_time": "2022-05-02T15:48:54.738Z"
   },
   {
    "duration": 25,
    "start_time": "2022-05-02T15:48:54.804Z"
   },
   {
    "duration": 10,
    "start_time": "2022-05-02T15:48:54.831Z"
   },
   {
    "duration": 8,
    "start_time": "2022-05-02T15:48:54.844Z"
   },
   {
    "duration": 107,
    "start_time": "2022-05-02T15:48:54.854Z"
   },
   {
    "duration": 67,
    "start_time": "2022-05-02T15:48:54.963Z"
   },
   {
    "duration": 11169,
    "start_time": "2022-05-02T15:48:55.032Z"
   },
   {
    "duration": 22,
    "start_time": "2022-05-02T15:49:06.204Z"
   },
   {
    "duration": 660,
    "start_time": "2022-05-02T15:49:06.228Z"
   },
   {
    "duration": 7,
    "start_time": "2022-05-02T15:49:06.891Z"
   },
   {
    "duration": 25,
    "start_time": "2022-05-02T15:49:06.900Z"
   },
   {
    "duration": 9,
    "start_time": "2022-05-02T15:49:06.927Z"
   },
   {
    "duration": 23,
    "start_time": "2022-05-02T15:49:06.943Z"
   },
   {
    "duration": 86,
    "start_time": "2022-05-02T15:49:06.968Z"
   },
   {
    "duration": 29,
    "start_time": "2022-05-02T15:49:07.057Z"
   },
   {
    "duration": 58,
    "start_time": "2022-05-02T15:49:07.088Z"
   },
   {
    "duration": 30,
    "start_time": "2022-05-02T15:49:07.149Z"
   },
   {
    "duration": 332,
    "start_time": "2022-05-02T15:49:07.182Z"
   },
   {
    "duration": 46,
    "start_time": "2022-05-02T15:49:07.517Z"
   },
   {
    "duration": 43,
    "start_time": "2022-05-02T15:49:07.566Z"
   },
   {
    "duration": 83,
    "start_time": "2022-05-02T15:49:07.626Z"
   },
   {
    "duration": 34,
    "start_time": "2022-05-02T15:49:07.725Z"
   },
   {
    "duration": 29,
    "start_time": "2022-05-02T15:49:07.761Z"
   },
   {
    "duration": 1377,
    "start_time": "2022-05-02T15:49:07.792Z"
   },
   {
    "duration": 52,
    "start_time": "2022-05-02T15:49:09.173Z"
   },
   {
    "duration": 45,
    "start_time": "2022-05-02T15:49:09.227Z"
   },
   {
    "duration": 710,
    "start_time": "2022-05-02T15:49:09.274Z"
   },
   {
    "duration": 21,
    "start_time": "2022-05-02T15:49:09.986Z"
   },
   {
    "duration": 37,
    "start_time": "2022-05-02T15:49:10.009Z"
   },
   {
    "duration": 715,
    "start_time": "2022-05-02T15:49:10.048Z"
   },
   {
    "duration": 86,
    "start_time": "2022-05-02T15:49:10.766Z"
   },
   {
    "duration": 184,
    "start_time": "2022-05-02T15:49:10.854Z"
   },
   {
    "duration": 28,
    "start_time": "2022-05-02T15:49:11.040Z"
   },
   {
    "duration": 615,
    "start_time": "2022-05-02T15:49:11.070Z"
   },
   {
    "duration": 48,
    "start_time": "2022-05-02T15:49:11.688Z"
   },
   {
    "duration": 8243,
    "start_time": "2022-05-02T15:49:11.738Z"
   },
   {
    "duration": 1968,
    "start_time": "2022-05-02T15:49:19.984Z"
   },
   {
    "duration": 120,
    "start_time": "2022-05-02T15:49:21.954Z"
   },
   {
    "duration": 129,
    "start_time": "2022-05-02T15:49:22.076Z"
   },
   {
    "duration": 44,
    "start_time": "2022-05-02T15:49:22.208Z"
   },
   {
    "duration": 1564,
    "start_time": "2022-05-02T15:49:22.255Z"
   },
   {
    "duration": 208,
    "start_time": "2022-05-02T15:49:23.823Z"
   },
   {
    "duration": 450,
    "start_time": "2022-05-02T15:49:24.033Z"
   },
   {
    "duration": 4,
    "start_time": "2022-05-02T15:49:24.485Z"
   },
   {
    "duration": 7,
    "start_time": "2022-05-02T15:49:24.491Z"
   },
   {
    "duration": 24,
    "start_time": "2022-05-02T15:49:24.500Z"
   },
   {
    "duration": 459,
    "start_time": "2022-05-02T15:49:24.527Z"
   },
   {
    "duration": 5,
    "start_time": "2022-05-02T15:49:24.988Z"
   },
   {
    "duration": 22,
    "start_time": "2022-05-02T15:49:24.996Z"
   },
   {
    "duration": 11,
    "start_time": "2022-05-02T15:49:25.020Z"
   },
   {
    "duration": 12,
    "start_time": "2022-05-02T15:49:25.034Z"
   },
   {
    "duration": 38,
    "start_time": "2022-05-02T15:49:25.049Z"
   },
   {
    "duration": 158,
    "start_time": "2022-05-02T15:49:25.089Z"
   },
   {
    "duration": 695,
    "start_time": "2022-05-02T15:49:25.249Z"
   },
   {
    "duration": 4,
    "start_time": "2022-05-02T15:49:25.947Z"
   },
   {
    "duration": 14,
    "start_time": "2022-05-02T15:49:25.953Z"
   },
   {
    "duration": 14459,
    "start_time": "2022-05-02T15:49:25.970Z"
   },
   {
    "duration": 4,
    "start_time": "2022-05-02T15:49:40.431Z"
   },
   {
    "duration": 12,
    "start_time": "2022-05-02T15:49:40.438Z"
   },
   {
    "duration": 658,
    "start_time": "2022-05-02T15:49:40.454Z"
   },
   {
    "duration": 4,
    "start_time": "2022-05-02T15:49:41.115Z"
   },
   {
    "duration": 123611,
    "start_time": "2022-05-02T15:49:41.126Z"
   },
   {
    "duration": 8068,
    "start_time": "2022-05-02T15:51:44.740Z"
   },
   {
    "duration": 16,
    "start_time": "2022-05-02T15:51:52.810Z"
   },
   {
    "duration": 6,
    "start_time": "2022-05-02T15:51:52.828Z"
   },
   {
    "duration": 6,
    "start_time": "2022-05-02T15:51:52.837Z"
   },
   {
    "duration": 173,
    "start_time": "2022-05-02T15:51:52.851Z"
   },
   {
    "duration": 11,
    "start_time": "2022-05-02T15:51:53.027Z"
   },
   {
    "duration": 9,
    "start_time": "2022-05-02T15:51:53.041Z"
   },
   {
    "duration": 2350,
    "start_time": "2022-05-02T15:51:53.053Z"
   },
   {
    "duration": 3,
    "start_time": "2022-05-02T15:51:55.406Z"
   },
   {
    "duration": 33,
    "start_time": "2022-05-02T15:51:55.411Z"
   },
   {
    "duration": 148,
    "start_time": "2022-05-02T15:54:02.654Z"
   },
   {
    "duration": 2033,
    "start_time": "2022-05-02T15:54:42.357Z"
   },
   {
    "duration": 1143,
    "start_time": "2022-05-02T15:54:44.393Z"
   },
   {
    "duration": 176,
    "start_time": "2022-05-02T15:54:45.538Z"
   },
   {
    "duration": 29,
    "start_time": "2022-05-02T15:54:45.723Z"
   },
   {
    "duration": 7,
    "start_time": "2022-05-02T15:54:45.757Z"
   },
   {
    "duration": 408,
    "start_time": "2022-05-02T15:54:45.767Z"
   },
   {
    "duration": 68,
    "start_time": "2022-05-02T15:54:46.178Z"
   },
   {
    "duration": 1542,
    "start_time": "2022-05-02T15:54:46.249Z"
   },
   {
    "duration": 10,
    "start_time": "2022-05-02T15:54:47.793Z"
   },
   {
    "duration": 291,
    "start_time": "2022-05-02T15:54:47.805Z"
   },
   {
    "duration": 6,
    "start_time": "2022-05-02T15:54:48.098Z"
   },
   {
    "duration": 29,
    "start_time": "2022-05-02T15:54:48.107Z"
   },
   {
    "duration": 5,
    "start_time": "2022-05-02T15:54:48.138Z"
   },
   {
    "duration": 17,
    "start_time": "2022-05-02T15:54:48.150Z"
   },
   {
    "duration": 62,
    "start_time": "2022-05-02T15:54:48.170Z"
   },
   {
    "duration": 57,
    "start_time": "2022-05-02T15:54:48.235Z"
   },
   {
    "duration": 33,
    "start_time": "2022-05-02T15:54:48.294Z"
   },
   {
    "duration": 9,
    "start_time": "2022-05-02T15:54:48.330Z"
   },
   {
    "duration": 8,
    "start_time": "2022-05-02T15:54:48.341Z"
   },
   {
    "duration": 95,
    "start_time": "2022-05-02T15:54:48.351Z"
   },
   {
    "duration": 51,
    "start_time": "2022-05-02T15:54:48.449Z"
   },
   {
    "duration": 11643,
    "start_time": "2022-05-02T15:54:48.502Z"
   },
   {
    "duration": 11,
    "start_time": "2022-05-02T15:55:00.148Z"
   },
   {
    "duration": 1023,
    "start_time": "2022-05-02T15:55:00.162Z"
   },
   {
    "duration": 8,
    "start_time": "2022-05-02T15:55:01.187Z"
   },
   {
    "duration": 29,
    "start_time": "2022-05-02T15:55:01.197Z"
   },
   {
    "duration": 32,
    "start_time": "2022-05-02T15:55:01.228Z"
   },
   {
    "duration": 52,
    "start_time": "2022-05-02T15:55:01.262Z"
   },
   {
    "duration": 91,
    "start_time": "2022-05-02T15:55:01.317Z"
   },
   {
    "duration": 85,
    "start_time": "2022-05-02T15:55:01.411Z"
   },
   {
    "duration": 57,
    "start_time": "2022-05-02T15:55:01.498Z"
   },
   {
    "duration": 94,
    "start_time": "2022-05-02T15:55:01.558Z"
   },
   {
    "duration": 352,
    "start_time": "2022-05-02T15:55:01.655Z"
   },
   {
    "duration": 48,
    "start_time": "2022-05-02T15:55:02.010Z"
   },
   {
    "duration": 39,
    "start_time": "2022-05-02T15:55:02.062Z"
   },
   {
    "duration": 96,
    "start_time": "2022-05-02T15:55:02.104Z"
   },
   {
    "duration": 39,
    "start_time": "2022-05-02T15:55:02.203Z"
   },
   {
    "duration": 43,
    "start_time": "2022-05-02T15:55:02.244Z"
   },
   {
    "duration": 1403,
    "start_time": "2022-05-02T15:55:02.289Z"
   },
   {
    "duration": 38,
    "start_time": "2022-05-02T15:55:03.695Z"
   },
   {
    "duration": 41,
    "start_time": "2022-05-02T15:55:03.742Z"
   },
   {
    "duration": 636,
    "start_time": "2022-05-02T15:55:03.785Z"
   },
   {
    "duration": 21,
    "start_time": "2022-05-02T15:55:04.425Z"
   },
   {
    "duration": 28,
    "start_time": "2022-05-02T15:55:04.449Z"
   },
   {
    "duration": 552,
    "start_time": "2022-05-02T15:55:04.480Z"
   },
   {
    "duration": 35,
    "start_time": "2022-05-02T15:55:05.034Z"
   },
   {
    "duration": 142,
    "start_time": "2022-05-02T15:55:05.071Z"
   },
   {
    "duration": 27,
    "start_time": "2022-05-02T15:55:05.215Z"
   },
   {
    "duration": 624,
    "start_time": "2022-05-02T15:55:05.244Z"
   },
   {
    "duration": 30,
    "start_time": "2022-05-02T15:55:05.871Z"
   },
   {
    "duration": 8846,
    "start_time": "2022-05-02T15:55:05.904Z"
   },
   {
    "duration": 2141,
    "start_time": "2022-05-02T15:55:14.753Z"
   },
   {
    "duration": 111,
    "start_time": "2022-05-02T15:55:16.896Z"
   },
   {
    "duration": 92,
    "start_time": "2022-05-02T15:55:17.009Z"
   },
   {
    "duration": 49,
    "start_time": "2022-05-02T15:55:17.103Z"
   },
   {
    "duration": 1438,
    "start_time": "2022-05-02T15:55:17.154Z"
   },
   {
    "duration": 208,
    "start_time": "2022-05-02T15:55:18.594Z"
   },
   {
    "duration": 455,
    "start_time": "2022-05-02T15:55:18.804Z"
   },
   {
    "duration": 3,
    "start_time": "2022-05-02T15:55:19.262Z"
   },
   {
    "duration": 22,
    "start_time": "2022-05-02T15:55:19.267Z"
   },
   {
    "duration": 16,
    "start_time": "2022-05-02T15:55:19.291Z"
   },
   {
    "duration": 305,
    "start_time": "2022-05-02T15:55:19.309Z"
   },
   {
    "duration": 9,
    "start_time": "2022-05-02T15:55:19.616Z"
   },
   {
    "duration": 8,
    "start_time": "2022-05-02T15:55:19.627Z"
   },
   {
    "duration": 5,
    "start_time": "2022-05-02T15:55:19.637Z"
   },
   {
    "duration": 7,
    "start_time": "2022-05-02T15:55:19.644Z"
   },
   {
    "duration": 28,
    "start_time": "2022-05-02T15:55:19.653Z"
   },
   {
    "duration": 169,
    "start_time": "2022-05-02T15:55:19.683Z"
   },
   {
    "duration": 664,
    "start_time": "2022-05-02T15:55:19.854Z"
   },
   {
    "duration": 4,
    "start_time": "2022-05-02T15:55:20.520Z"
   },
   {
    "duration": 17,
    "start_time": "2022-05-02T15:55:20.527Z"
   },
   {
    "duration": 14502,
    "start_time": "2022-05-02T15:55:20.547Z"
   },
   {
    "duration": 3,
    "start_time": "2022-05-02T15:55:35.051Z"
   },
   {
    "duration": 11,
    "start_time": "2022-05-02T15:55:35.057Z"
   },
   {
    "duration": 654,
    "start_time": "2022-05-02T15:55:35.070Z"
   },
   {
    "duration": 4,
    "start_time": "2022-05-02T15:55:35.728Z"
   },
   {
    "duration": 122584,
    "start_time": "2022-05-02T15:55:35.735Z"
   },
   {
    "duration": 7263,
    "start_time": "2022-05-02T15:57:38.324Z"
   },
   {
    "duration": 4,
    "start_time": "2022-05-02T15:57:45.589Z"
   },
   {
    "duration": 14,
    "start_time": "2022-05-02T15:57:45.595Z"
   },
   {
    "duration": 17,
    "start_time": "2022-05-02T15:57:45.611Z"
   },
   {
    "duration": 184,
    "start_time": "2022-05-02T15:57:45.630Z"
   },
   {
    "duration": 15,
    "start_time": "2022-05-02T15:57:45.817Z"
   },
   {
    "duration": 6,
    "start_time": "2022-05-02T15:57:45.835Z"
   },
   {
    "duration": 2624,
    "start_time": "2022-05-02T15:57:45.843Z"
   },
   {
    "duration": 2481,
    "start_time": "2022-05-02T15:58:12.390Z"
   },
   {
    "duration": 651,
    "start_time": "2022-05-02T15:58:36.250Z"
   },
   {
    "duration": 171,
    "start_time": "2022-05-02T16:02:37.541Z"
   },
   {
    "duration": 157,
    "start_time": "2022-05-02T16:03:56.620Z"
   },
   {
    "duration": 5,
    "start_time": "2022-05-02T16:06:25.252Z"
   },
   {
    "duration": 7,
    "start_time": "2022-05-02T16:07:45.621Z"
   },
   {
    "duration": 25,
    "start_time": "2022-05-02T16:12:02.330Z"
   },
   {
    "duration": 12,
    "start_time": "2022-05-02T16:12:07.696Z"
   },
   {
    "duration": 1408,
    "start_time": "2022-05-02T16:12:12.607Z"
   },
   {
    "duration": 163584,
    "start_time": "2022-05-02T16:12:19.704Z"
   },
   {
    "duration": 6,
    "start_time": "2022-05-02T16:16:30.905Z"
   },
   {
    "duration": 12,
    "start_time": "2022-05-02T16:17:11.612Z"
   },
   {
    "duration": 14,
    "start_time": "2022-05-02T16:17:50.936Z"
   },
   {
    "duration": 12,
    "start_time": "2022-05-02T16:17:55.585Z"
   },
   {
    "duration": 12,
    "start_time": "2022-05-02T16:17:58.979Z"
   },
   {
    "duration": 14,
    "start_time": "2022-05-02T16:20:23.522Z"
   },
   {
    "duration": 78641,
    "start_time": "2022-05-02T16:20:52.431Z"
   },
   {
    "duration": 759,
    "start_time": "2022-05-02T16:22:13.306Z"
   },
   {
    "duration": 209,
    "start_time": "2022-05-02T16:23:03.680Z"
   },
   {
    "duration": 193,
    "start_time": "2022-05-02T16:23:21.549Z"
   },
   {
    "duration": 222791,
    "start_time": "2022-05-02T16:23:25.878Z"
   },
   {
    "duration": 555159,
    "start_time": "2022-05-02T16:28:21.288Z"
   },
   {
    "duration": 4,
    "start_time": "2022-05-02T16:37:48.571Z"
   },
   {
    "duration": 355807,
    "start_time": "2022-05-02T16:37:52.339Z"
   },
   {
    "duration": 3,
    "start_time": "2022-05-02T16:44:07.864Z"
   },
   {
    "duration": 6,
    "start_time": "2022-05-02T16:44:10.514Z"
   },
   {
    "duration": 12,
    "start_time": "2022-05-02T16:51:12.261Z"
   },
   {
    "duration": 6,
    "start_time": "2022-05-02T16:51:15.411Z"
   },
   {
    "duration": 15,
    "start_time": "2022-05-02T16:54:30.982Z"
   },
   {
    "duration": 4,
    "start_time": "2022-05-02T16:54:35.203Z"
   },
   {
    "duration": 14,
    "start_time": "2022-05-02T16:54:36.863Z"
   },
   {
    "duration": 15,
    "start_time": "2022-05-02T16:54:58.346Z"
   },
   {
    "duration": 2114,
    "start_time": "2022-05-02T16:58:13.802Z"
   },
   {
    "duration": 1147,
    "start_time": "2022-05-02T16:58:15.919Z"
   },
   {
    "duration": 191,
    "start_time": "2022-05-02T16:58:17.068Z"
   },
   {
    "duration": 25,
    "start_time": "2022-05-02T16:58:17.263Z"
   },
   {
    "duration": 5,
    "start_time": "2022-05-02T16:58:17.290Z"
   },
   {
    "duration": 427,
    "start_time": "2022-05-02T16:58:17.297Z"
   },
   {
    "duration": 58,
    "start_time": "2022-05-02T16:58:17.727Z"
   },
   {
    "duration": 1653,
    "start_time": "2022-05-02T16:58:17.788Z"
   },
   {
    "duration": 7,
    "start_time": "2022-05-02T16:58:19.443Z"
   },
   {
    "duration": 293,
    "start_time": "2022-05-02T16:58:19.454Z"
   },
   {
    "duration": 5,
    "start_time": "2022-05-02T16:58:19.749Z"
   },
   {
    "duration": 24,
    "start_time": "2022-05-02T16:58:19.756Z"
   },
   {
    "duration": 5,
    "start_time": "2022-05-02T16:58:19.782Z"
   },
   {
    "duration": 41,
    "start_time": "2022-05-02T16:58:19.789Z"
   },
   {
    "duration": 13,
    "start_time": "2022-05-02T16:58:19.833Z"
   },
   {
    "duration": 79,
    "start_time": "2022-05-02T16:58:19.848Z"
   },
   {
    "duration": 8,
    "start_time": "2022-05-02T16:58:19.929Z"
   },
   {
    "duration": 9,
    "start_time": "2022-05-02T16:58:19.939Z"
   },
   {
    "duration": 8,
    "start_time": "2022-05-02T16:58:19.950Z"
   },
   {
    "duration": 108,
    "start_time": "2022-05-02T16:58:19.960Z"
   },
   {
    "duration": 62,
    "start_time": "2022-05-02T16:58:20.071Z"
   },
   {
    "duration": 10403,
    "start_time": "2022-05-02T16:58:20.136Z"
   },
   {
    "duration": 8,
    "start_time": "2022-05-02T16:58:30.541Z"
   },
   {
    "duration": 676,
    "start_time": "2022-05-02T16:58:30.551Z"
   },
   {
    "duration": 7,
    "start_time": "2022-05-02T16:58:31.229Z"
   },
   {
    "duration": 23,
    "start_time": "2022-05-02T16:58:31.239Z"
   },
   {
    "duration": 26,
    "start_time": "2022-05-02T16:58:31.265Z"
   },
   {
    "duration": 63,
    "start_time": "2022-05-02T16:58:31.298Z"
   },
   {
    "duration": 68,
    "start_time": "2022-05-02T16:58:31.363Z"
   },
   {
    "duration": 31,
    "start_time": "2022-05-02T16:58:31.433Z"
   },
   {
    "duration": 57,
    "start_time": "2022-05-02T16:58:31.467Z"
   },
   {
    "duration": 22,
    "start_time": "2022-05-02T16:58:31.527Z"
   },
   {
    "duration": 231,
    "start_time": "2022-05-02T16:58:31.552Z"
   },
   {
    "duration": 40,
    "start_time": "2022-05-02T16:58:31.786Z"
   },
   {
    "duration": 29,
    "start_time": "2022-05-02T16:58:31.828Z"
   },
   {
    "duration": 98,
    "start_time": "2022-05-02T16:58:31.859Z"
   },
   {
    "duration": 37,
    "start_time": "2022-05-02T16:58:31.960Z"
   },
   {
    "duration": 48,
    "start_time": "2022-05-02T16:58:31.999Z"
   },
   {
    "duration": 1380,
    "start_time": "2022-05-02T16:58:32.049Z"
   },
   {
    "duration": 30,
    "start_time": "2022-05-02T16:58:33.431Z"
   },
   {
    "duration": 32,
    "start_time": "2022-05-02T16:58:33.463Z"
   },
   {
    "duration": 668,
    "start_time": "2022-05-02T16:58:33.498Z"
   },
   {
    "duration": 21,
    "start_time": "2022-05-02T16:58:34.168Z"
   },
   {
    "duration": 49,
    "start_time": "2022-05-02T16:58:34.192Z"
   },
   {
    "duration": 635,
    "start_time": "2022-05-02T16:58:34.244Z"
   },
   {
    "duration": 46,
    "start_time": "2022-05-02T16:58:34.882Z"
   },
   {
    "duration": 84,
    "start_time": "2022-05-02T16:58:34.931Z"
   },
   {
    "duration": 31,
    "start_time": "2022-05-02T16:58:35.017Z"
   },
   {
    "duration": 540,
    "start_time": "2022-05-02T16:58:35.051Z"
   },
   {
    "duration": 34,
    "start_time": "2022-05-02T16:58:35.593Z"
   },
   {
    "duration": 7488,
    "start_time": "2022-05-02T16:58:35.629Z"
   },
   {
    "duration": 2109,
    "start_time": "2022-05-02T16:58:43.120Z"
   },
   {
    "duration": 124,
    "start_time": "2022-05-02T16:58:45.232Z"
   },
   {
    "duration": 96,
    "start_time": "2022-05-02T16:58:45.358Z"
   },
   {
    "duration": 39,
    "start_time": "2022-05-02T16:58:45.457Z"
   },
   {
    "duration": 1463,
    "start_time": "2022-05-02T16:58:45.498Z"
   },
   {
    "duration": 215,
    "start_time": "2022-05-02T16:58:46.963Z"
   },
   {
    "duration": 457,
    "start_time": "2022-05-02T16:58:47.180Z"
   },
   {
    "duration": 3,
    "start_time": "2022-05-02T16:58:47.640Z"
   },
   {
    "duration": 7,
    "start_time": "2022-05-02T16:58:47.645Z"
   },
   {
    "duration": 8,
    "start_time": "2022-05-02T16:58:47.655Z"
   },
   {
    "duration": 417,
    "start_time": "2022-05-02T16:58:47.665Z"
   },
   {
    "duration": 4,
    "start_time": "2022-05-02T16:58:48.084Z"
   },
   {
    "duration": 9,
    "start_time": "2022-05-02T16:58:48.090Z"
   },
   {
    "duration": 23,
    "start_time": "2022-05-02T16:58:48.101Z"
   },
   {
    "duration": 4,
    "start_time": "2022-05-02T16:58:48.127Z"
   },
   {
    "duration": 32,
    "start_time": "2022-05-02T16:58:48.133Z"
   },
   {
    "duration": 175,
    "start_time": "2022-05-02T16:58:48.167Z"
   },
   {
    "duration": 780,
    "start_time": "2022-05-02T16:58:48.344Z"
   },
   {
    "duration": 4,
    "start_time": "2022-05-02T16:58:49.126Z"
   },
   {
    "duration": 14,
    "start_time": "2022-05-02T16:58:49.133Z"
   },
   {
    "duration": 14140,
    "start_time": "2022-05-02T16:58:49.149Z"
   },
   {
    "duration": 4,
    "start_time": "2022-05-02T16:59:03.293Z"
   },
   {
    "duration": 24,
    "start_time": "2022-05-02T16:59:03.300Z"
   },
   {
    "duration": 634,
    "start_time": "2022-05-02T16:59:03.327Z"
   },
   {
    "duration": 5,
    "start_time": "2022-05-02T16:59:03.964Z"
   },
   {
    "duration": 126754,
    "start_time": "2022-05-02T16:59:03.972Z"
   },
   {
    "duration": 8210,
    "start_time": "2022-05-02T17:01:10.730Z"
   },
   {
    "duration": 4,
    "start_time": "2022-05-02T17:01:18.942Z"
   },
   {
    "duration": 11,
    "start_time": "2022-05-02T17:01:18.948Z"
   },
   {
    "duration": 8,
    "start_time": "2022-05-02T17:01:18.961Z"
   },
   {
    "duration": 185,
    "start_time": "2022-05-02T17:01:18.978Z"
   },
   {
    "duration": 11,
    "start_time": "2022-05-02T17:01:19.166Z"
   },
   {
    "duration": 9,
    "start_time": "2022-05-02T17:01:19.179Z"
   },
   {
    "duration": 1425,
    "start_time": "2022-05-02T17:01:19.190Z"
   },
   {
    "duration": 89916,
    "start_time": "2022-05-02T17:01:20.617Z"
   },
   {
    "duration": 4,
    "start_time": "2022-05-02T17:02:50.536Z"
   },
   {
    "duration": 114610,
    "start_time": "2022-05-02T17:02:50.625Z"
   },
   {
    "duration": 4,
    "start_time": "2022-05-02T17:04:45.237Z"
   },
   {
    "duration": 15,
    "start_time": "2022-05-02T17:04:45.243Z"
   },
   {
    "duration": 14,
    "start_time": "2022-05-02T17:04:45.260Z"
   },
   {
    "duration": 49,
    "start_time": "2022-05-02T17:04:45.276Z"
   },
   {
    "duration": 17,
    "start_time": "2022-05-02T17:04:45.327Z"
   },
   {
    "duration": 22,
    "start_time": "2022-05-02T17:05:52.620Z"
   },
   {
    "duration": 4,
    "start_time": "2022-05-02T17:05:55.237Z"
   },
   {
    "duration": 410,
    "start_time": "2022-05-02T17:05:56.214Z"
   },
   {
    "duration": 5,
    "start_time": "2022-05-02T17:05:57.844Z"
   },
   {
    "duration": 179,
    "start_time": "2022-05-02T17:06:02.639Z"
   },
   {
    "duration": 11026,
    "start_time": "2022-05-02T17:06:13.853Z"
   },
   {
    "duration": 4,
    "start_time": "2022-05-02T17:06:24.882Z"
   },
   {
    "duration": 38,
    "start_time": "2022-05-02T17:06:24.888Z"
   },
   {
    "duration": 20,
    "start_time": "2022-05-02T17:06:24.929Z"
   },
   {
    "duration": 2099,
    "start_time": "2022-05-02T17:07:56.984Z"
   },
   {
    "duration": 1093,
    "start_time": "2022-05-02T17:07:59.085Z"
   },
   {
    "duration": 188,
    "start_time": "2022-05-02T17:08:00.180Z"
   },
   {
    "duration": 26,
    "start_time": "2022-05-02T17:08:00.371Z"
   },
   {
    "duration": 13,
    "start_time": "2022-05-02T17:08:00.400Z"
   },
   {
    "duration": 409,
    "start_time": "2022-05-02T17:08:00.425Z"
   },
   {
    "duration": 60,
    "start_time": "2022-05-02T17:08:00.837Z"
   },
   {
    "duration": 1637,
    "start_time": "2022-05-02T17:08:00.899Z"
   },
   {
    "duration": 8,
    "start_time": "2022-05-02T17:08:02.538Z"
   },
   {
    "duration": 296,
    "start_time": "2022-05-02T17:08:02.549Z"
   },
   {
    "duration": 5,
    "start_time": "2022-05-02T17:08:02.847Z"
   },
   {
    "duration": 21,
    "start_time": "2022-05-02T17:08:02.854Z"
   },
   {
    "duration": 5,
    "start_time": "2022-05-02T17:08:02.877Z"
   },
   {
    "duration": 45,
    "start_time": "2022-05-02T17:08:02.884Z"
   },
   {
    "duration": 13,
    "start_time": "2022-05-02T17:08:02.931Z"
   },
   {
    "duration": 83,
    "start_time": "2022-05-02T17:08:02.947Z"
   },
   {
    "duration": 9,
    "start_time": "2022-05-02T17:08:03.032Z"
   },
   {
    "duration": 9,
    "start_time": "2022-05-02T17:08:03.043Z"
   },
   {
    "duration": 11,
    "start_time": "2022-05-02T17:08:03.055Z"
   },
   {
    "duration": 97,
    "start_time": "2022-05-02T17:08:03.069Z"
   },
   {
    "duration": 69,
    "start_time": "2022-05-02T17:08:03.168Z"
   },
   {
    "duration": 11717,
    "start_time": "2022-05-02T17:08:03.239Z"
   },
   {
    "duration": 10,
    "start_time": "2022-05-02T17:08:14.959Z"
   },
   {
    "duration": 679,
    "start_time": "2022-05-02T17:08:14.972Z"
   },
   {
    "duration": 8,
    "start_time": "2022-05-02T17:08:15.653Z"
   },
   {
    "duration": 11,
    "start_time": "2022-05-02T17:08:15.663Z"
   },
   {
    "duration": 8,
    "start_time": "2022-05-02T17:08:15.676Z"
   },
   {
    "duration": 56,
    "start_time": "2022-05-02T17:08:15.691Z"
   },
   {
    "duration": 77,
    "start_time": "2022-05-02T17:08:15.749Z"
   },
   {
    "duration": 30,
    "start_time": "2022-05-02T17:08:15.828Z"
   },
   {
    "duration": 33,
    "start_time": "2022-05-02T17:08:15.860Z"
   },
   {
    "duration": 44,
    "start_time": "2022-05-02T17:08:15.895Z"
   },
   {
    "duration": 234,
    "start_time": "2022-05-02T17:08:15.941Z"
   },
   {
    "duration": 30,
    "start_time": "2022-05-02T17:08:16.178Z"
   },
   {
    "duration": 41,
    "start_time": "2022-05-02T17:08:16.211Z"
   },
   {
    "duration": 91,
    "start_time": "2022-05-02T17:08:16.254Z"
   },
   {
    "duration": 35,
    "start_time": "2022-05-02T17:08:16.347Z"
   },
   {
    "duration": 44,
    "start_time": "2022-05-02T17:08:16.384Z"
   },
   {
    "duration": 1449,
    "start_time": "2022-05-02T17:08:16.431Z"
   },
   {
    "duration": 28,
    "start_time": "2022-05-02T17:08:17.882Z"
   },
   {
    "duration": 36,
    "start_time": "2022-05-02T17:08:17.925Z"
   },
   {
    "duration": 649,
    "start_time": "2022-05-02T17:08:17.963Z"
   },
   {
    "duration": 25,
    "start_time": "2022-05-02T17:08:18.614Z"
   },
   {
    "duration": 27,
    "start_time": "2022-05-02T17:08:18.642Z"
   },
   {
    "duration": 543,
    "start_time": "2022-05-02T17:08:18.672Z"
   },
   {
    "duration": 35,
    "start_time": "2022-05-02T17:08:19.218Z"
   },
   {
    "duration": 99,
    "start_time": "2022-05-02T17:08:19.255Z"
   },
   {
    "duration": 27,
    "start_time": "2022-05-02T17:08:19.356Z"
   },
   {
    "duration": 532,
    "start_time": "2022-05-02T17:08:19.385Z"
   },
   {
    "duration": 30,
    "start_time": "2022-05-02T17:08:19.919Z"
   },
   {
    "duration": 7762,
    "start_time": "2022-05-02T17:08:19.951Z"
   },
   {
    "duration": 2160,
    "start_time": "2022-05-02T17:08:27.716Z"
   },
   {
    "duration": 123,
    "start_time": "2022-05-02T17:08:29.879Z"
   },
   {
    "duration": 92,
    "start_time": "2022-05-02T17:08:30.004Z"
   },
   {
    "duration": 50,
    "start_time": "2022-05-02T17:08:30.098Z"
   },
   {
    "duration": 1630,
    "start_time": "2022-05-02T17:08:30.150Z"
   },
   {
    "duration": 214,
    "start_time": "2022-05-02T17:08:31.782Z"
   },
   {
    "duration": 478,
    "start_time": "2022-05-02T17:08:31.999Z"
   },
   {
    "duration": 4,
    "start_time": "2022-05-02T17:08:32.479Z"
   },
   {
    "duration": 9,
    "start_time": "2022-05-02T17:08:32.486Z"
   },
   {
    "duration": 22,
    "start_time": "2022-05-02T17:08:32.497Z"
   },
   {
    "duration": 306,
    "start_time": "2022-05-02T17:08:32.525Z"
   },
   {
    "duration": 4,
    "start_time": "2022-05-02T17:08:32.833Z"
   },
   {
    "duration": 356593,
    "start_time": "2022-05-02T17:08:32.839Z"
   },
   {
    "duration": 27695,
    "start_time": "2022-05-02T17:14:29.435Z"
   },
   {
    "duration": 5,
    "start_time": "2022-05-02T17:14:57.132Z"
   },
   {
    "duration": 5,
    "start_time": "2022-05-02T17:14:57.140Z"
   },
   {
    "duration": 6,
    "start_time": "2022-05-02T17:14:57.148Z"
   },
   {
    "duration": 68,
    "start_time": "2022-05-02T17:14:57.157Z"
   },
   {
    "duration": 6,
    "start_time": "2022-05-02T17:14:57.228Z"
   },
   {
    "duration": 6,
    "start_time": "2022-05-02T17:14:57.236Z"
   },
   {
    "duration": 30,
    "start_time": "2022-05-02T17:14:57.244Z"
   },
   {
    "duration": 188,
    "start_time": "2022-05-02T17:14:57.277Z"
   },
   {
    "duration": 716,
    "start_time": "2022-05-02T17:14:57.468Z"
   },
   {
    "duration": 4,
    "start_time": "2022-05-02T17:14:58.186Z"
   },
   {
    "duration": 19,
    "start_time": "2022-05-02T17:14:58.192Z"
   },
   {
    "duration": 14737,
    "start_time": "2022-05-02T17:14:58.213Z"
   },
   {
    "duration": 4,
    "start_time": "2022-05-02T17:15:12.952Z"
   },
   {
    "duration": 8,
    "start_time": "2022-05-02T17:15:12.958Z"
   },
   {
    "duration": 733,
    "start_time": "2022-05-02T17:15:12.968Z"
   },
   {
    "duration": 4,
    "start_time": "2022-05-02T17:15:13.704Z"
   },
   {
    "duration": 120586,
    "start_time": "2022-05-02T17:15:13.726Z"
   },
   {
    "duration": 7280,
    "start_time": "2022-05-02T17:17:14.314Z"
   },
   {
    "duration": 4,
    "start_time": "2022-05-02T17:17:21.596Z"
   },
   {
    "duration": 31,
    "start_time": "2022-05-02T17:17:21.602Z"
   },
   {
    "duration": 25,
    "start_time": "2022-05-02T17:17:21.635Z"
   },
   {
    "duration": 175,
    "start_time": "2022-05-02T17:17:21.662Z"
   },
   {
    "duration": 10,
    "start_time": "2022-05-02T17:17:21.839Z"
   },
   {
    "duration": 31,
    "start_time": "2022-05-02T17:17:21.852Z"
   },
   {
    "duration": 2739,
    "start_time": "2022-05-02T17:39:05.713Z"
   },
   {
    "duration": 1119,
    "start_time": "2022-05-02T17:39:08.455Z"
   },
   {
    "duration": 187,
    "start_time": "2022-05-02T17:39:09.577Z"
   },
   {
    "duration": 24,
    "start_time": "2022-05-02T17:39:09.767Z"
   },
   {
    "duration": 4,
    "start_time": "2022-05-02T17:39:09.794Z"
   },
   {
    "duration": 411,
    "start_time": "2022-05-02T17:39:09.800Z"
   },
   {
    "duration": 65,
    "start_time": "2022-05-02T17:39:10.214Z"
   },
   {
    "duration": 1623,
    "start_time": "2022-05-02T17:39:10.281Z"
   },
   {
    "duration": 19,
    "start_time": "2022-05-02T17:39:11.906Z"
   },
   {
    "duration": 304,
    "start_time": "2022-05-02T17:39:11.929Z"
   },
   {
    "duration": 4,
    "start_time": "2022-05-02T17:39:12.236Z"
   },
   {
    "duration": 21,
    "start_time": "2022-05-02T17:39:12.244Z"
   },
   {
    "duration": 5,
    "start_time": "2022-05-02T17:39:12.268Z"
   },
   {
    "duration": 19,
    "start_time": "2022-05-02T17:39:12.275Z"
   },
   {
    "duration": 13,
    "start_time": "2022-05-02T17:39:12.325Z"
   },
   {
    "duration": 58,
    "start_time": "2022-05-02T17:39:12.340Z"
   },
   {
    "duration": 32,
    "start_time": "2022-05-02T17:39:12.401Z"
   },
   {
    "duration": 12,
    "start_time": "2022-05-02T17:39:12.435Z"
   },
   {
    "duration": 18,
    "start_time": "2022-05-02T17:39:12.450Z"
   },
   {
    "duration": 93,
    "start_time": "2022-05-02T17:39:12.472Z"
   },
   {
    "duration": 65,
    "start_time": "2022-05-02T17:39:12.568Z"
   },
   {
    "duration": 10379,
    "start_time": "2022-05-02T17:39:12.635Z"
   },
   {
    "duration": 12,
    "start_time": "2022-05-02T17:39:23.016Z"
   },
   {
    "duration": 674,
    "start_time": "2022-05-02T17:39:23.030Z"
   },
   {
    "duration": 7,
    "start_time": "2022-05-02T17:39:23.706Z"
   },
   {
    "duration": 8,
    "start_time": "2022-05-02T17:39:23.724Z"
   },
   {
    "duration": 12,
    "start_time": "2022-05-02T17:39:23.734Z"
   },
   {
    "duration": 38,
    "start_time": "2022-05-02T17:39:23.753Z"
   },
   {
    "duration": 82,
    "start_time": "2022-05-02T17:39:23.793Z"
   },
   {
    "duration": 29,
    "start_time": "2022-05-02T17:39:23.877Z"
   },
   {
    "duration": 46,
    "start_time": "2022-05-02T17:39:23.908Z"
   },
   {
    "duration": 23,
    "start_time": "2022-05-02T17:39:23.956Z"
   },
   {
    "duration": 246,
    "start_time": "2022-05-02T17:39:23.982Z"
   },
   {
    "duration": 32,
    "start_time": "2022-05-02T17:39:24.230Z"
   },
   {
    "duration": 30,
    "start_time": "2022-05-02T17:39:24.264Z"
   },
   {
    "duration": 101,
    "start_time": "2022-05-02T17:39:24.296Z"
   },
   {
    "duration": 49,
    "start_time": "2022-05-02T17:39:24.399Z"
   },
   {
    "duration": 31,
    "start_time": "2022-05-02T17:39:24.450Z"
   },
   {
    "duration": 1392,
    "start_time": "2022-05-02T17:39:24.483Z"
   },
   {
    "duration": 29,
    "start_time": "2022-05-02T17:39:25.878Z"
   },
   {
    "duration": 43,
    "start_time": "2022-05-02T17:39:25.909Z"
   },
   {
    "duration": 655,
    "start_time": "2022-05-02T17:39:25.954Z"
   },
   {
    "duration": 29,
    "start_time": "2022-05-02T17:39:26.611Z"
   },
   {
    "duration": 29,
    "start_time": "2022-05-02T17:39:26.642Z"
   },
   {
    "duration": 559,
    "start_time": "2022-05-02T17:39:26.673Z"
   },
   {
    "duration": 35,
    "start_time": "2022-05-02T17:39:27.234Z"
   },
   {
    "duration": 91,
    "start_time": "2022-05-02T17:39:27.271Z"
   },
   {
    "duration": 28,
    "start_time": "2022-05-02T17:39:27.365Z"
   },
   {
    "duration": 540,
    "start_time": "2022-05-02T17:39:27.395Z"
   },
   {
    "duration": 29,
    "start_time": "2022-05-02T17:39:27.937Z"
   },
   {
    "duration": 7661,
    "start_time": "2022-05-02T17:39:27.968Z"
   },
   {
    "duration": 2071,
    "start_time": "2022-05-02T17:39:35.632Z"
   },
   {
    "duration": 126,
    "start_time": "2022-05-02T17:39:37.705Z"
   },
   {
    "duration": 93,
    "start_time": "2022-05-02T17:39:37.833Z"
   },
   {
    "duration": 37,
    "start_time": "2022-05-02T17:39:37.928Z"
   },
   {
    "duration": 1545,
    "start_time": "2022-05-02T17:39:37.968Z"
   },
   {
    "duration": 223,
    "start_time": "2022-05-02T17:39:39.515Z"
   },
   {
    "duration": 477,
    "start_time": "2022-05-02T17:39:39.740Z"
   },
   {
    "duration": 6,
    "start_time": "2022-05-02T17:39:40.219Z"
   },
   {
    "duration": 8,
    "start_time": "2022-05-02T17:39:40.227Z"
   },
   {
    "duration": 8,
    "start_time": "2022-05-02T17:39:40.237Z"
   },
   {
    "duration": 319,
    "start_time": "2022-05-02T17:39:40.247Z"
   },
   {
    "duration": 4,
    "start_time": "2022-05-02T17:39:40.568Z"
   },
   {
    "duration": 411162,
    "start_time": "2022-05-02T17:39:40.574Z"
   },
   {
    "duration": 47587,
    "start_time": "2022-05-02T17:46:31.740Z"
   },
   {
    "duration": 7,
    "start_time": "2022-05-02T17:47:19.329Z"
   },
   {
    "duration": 24,
    "start_time": "2022-05-02T17:47:19.341Z"
   },
   {
    "duration": 17,
    "start_time": "2022-05-02T17:47:19.368Z"
   },
   {
    "duration": 38,
    "start_time": "2022-05-02T17:47:19.387Z"
   },
   {
    "duration": 33,
    "start_time": "2022-05-02T17:47:19.427Z"
   },
   {
    "duration": 15,
    "start_time": "2022-05-02T17:47:19.462Z"
   },
   {
    "duration": 31,
    "start_time": "2022-05-02T17:47:19.479Z"
   },
   {
    "duration": 156,
    "start_time": "2022-05-02T17:47:19.512Z"
   },
   {
    "duration": 714,
    "start_time": "2022-05-02T17:47:19.671Z"
   },
   {
    "duration": 4,
    "start_time": "2022-05-02T17:47:20.387Z"
   },
   {
    "duration": 15,
    "start_time": "2022-05-02T17:47:20.394Z"
   },
   {
    "duration": 14964,
    "start_time": "2022-05-02T17:47:20.412Z"
   },
   {
    "duration": 5,
    "start_time": "2022-05-02T17:47:35.378Z"
   },
   {
    "duration": 9,
    "start_time": "2022-05-02T17:47:35.385Z"
   },
   {
    "duration": 667,
    "start_time": "2022-05-02T17:47:35.396Z"
   },
   {
    "duration": 5,
    "start_time": "2022-05-02T17:47:36.066Z"
   },
   {
    "duration": 131781,
    "start_time": "2022-05-02T17:47:36.083Z"
   },
   {
    "duration": 8548,
    "start_time": "2022-05-02T17:49:47.866Z"
   },
   {
    "duration": 8,
    "start_time": "2022-05-02T17:49:56.416Z"
   },
   {
    "duration": 4,
    "start_time": "2022-05-02T17:49:56.426Z"
   },
   {
    "duration": 9,
    "start_time": "2022-05-02T17:49:56.433Z"
   },
   {
    "duration": 179,
    "start_time": "2022-05-02T17:49:56.445Z"
   },
   {
    "duration": 12,
    "start_time": "2022-05-02T17:49:56.628Z"
   },
   {
    "duration": 10,
    "start_time": "2022-05-02T17:49:56.642Z"
   },
   {
    "duration": 3131,
    "start_time": "2022-05-02T20:50:57.501Z"
   },
   {
    "duration": 1672,
    "start_time": "2022-05-02T20:51:06.167Z"
   },
   {
    "duration": 177,
    "start_time": "2022-05-02T20:51:09.120Z"
   },
   {
    "duration": 26,
    "start_time": "2022-05-02T20:51:11.792Z"
   },
   {
    "duration": 5,
    "start_time": "2022-05-02T20:51:15.987Z"
   },
   {
    "duration": 403,
    "start_time": "2022-05-02T20:51:17.889Z"
   },
   {
    "duration": 80,
    "start_time": "2022-05-02T20:51:38.588Z"
   },
   {
    "duration": 75,
    "start_time": "2022-05-02T20:51:42.908Z"
   },
   {
    "duration": 1607,
    "start_time": "2022-05-02T20:51:45.702Z"
   },
   {
    "duration": 8,
    "start_time": "2022-05-02T20:51:49.401Z"
   },
   {
    "duration": 360,
    "start_time": "2022-05-02T20:51:51.478Z"
   },
   {
    "duration": 4,
    "start_time": "2022-05-02T20:51:54.834Z"
   },
   {
    "duration": 17,
    "start_time": "2022-05-02T20:51:56.429Z"
   },
   {
    "duration": 5,
    "start_time": "2022-05-02T20:51:57.468Z"
   },
   {
    "duration": 18,
    "start_time": "2022-05-02T20:51:58.887Z"
   },
   {
    "duration": 15,
    "start_time": "2022-05-02T20:52:00.440Z"
   },
   {
    "duration": 58,
    "start_time": "2022-05-02T20:52:02.358Z"
   },
   {
    "duration": 9,
    "start_time": "2022-05-02T20:52:04.624Z"
   },
   {
    "duration": 9,
    "start_time": "2022-05-02T20:52:07.951Z"
   },
   {
    "duration": 9,
    "start_time": "2022-05-02T20:52:10.666Z"
   },
   {
    "duration": 68,
    "start_time": "2022-05-02T20:52:12.426Z"
   },
   {
    "duration": 53,
    "start_time": "2022-05-02T20:52:13.493Z"
   },
   {
    "duration": 10446,
    "start_time": "2022-05-02T20:52:14.524Z"
   },
   {
    "duration": 10,
    "start_time": "2022-05-02T20:52:24.973Z"
   },
   {
    "duration": 659,
    "start_time": "2022-05-02T20:52:26.678Z"
   },
   {
    "duration": 8,
    "start_time": "2022-05-02T20:52:40.329Z"
   },
   {
    "duration": 8,
    "start_time": "2022-05-02T20:52:41.484Z"
   },
   {
    "duration": 14,
    "start_time": "2022-05-02T20:52:43.639Z"
   },
   {
    "duration": 25,
    "start_time": "2022-05-02T20:52:45.488Z"
   },
   {
    "duration": 58,
    "start_time": "2022-05-02T20:52:47.532Z"
   },
   {
    "duration": 29,
    "start_time": "2022-05-02T20:52:48.738Z"
   },
   {
    "duration": 32,
    "start_time": "2022-05-02T20:52:50.209Z"
   },
   {
    "duration": 23,
    "start_time": "2022-05-02T20:52:52.818Z"
   },
   {
    "duration": 213,
    "start_time": "2022-05-02T20:52:53.800Z"
   },
   {
    "duration": 33,
    "start_time": "2022-05-02T20:52:55.011Z"
   },
   {
    "duration": 31,
    "start_time": "2022-05-02T20:52:57.922Z"
   },
   {
    "duration": 74,
    "start_time": "2022-05-02T20:52:59.888Z"
   },
   {
    "duration": 35,
    "start_time": "2022-05-02T20:53:01.194Z"
   },
   {
    "duration": 31,
    "start_time": "2022-05-02T20:53:03.390Z"
   },
   {
    "duration": 1990,
    "start_time": "2022-05-02T20:53:06.304Z"
   },
   {
    "duration": 47,
    "start_time": "2022-05-02T20:53:08.384Z"
   },
   {
    "duration": 29,
    "start_time": "2022-05-02T20:53:10.041Z"
   },
   {
    "duration": 26,
    "start_time": "2022-05-02T20:53:13.725Z"
   },
   {
    "duration": 37,
    "start_time": "2022-05-02T20:53:20.655Z"
   },
   {
    "duration": 1395,
    "start_time": "2022-05-02T20:53:23.022Z"
   },
   {
    "duration": 31,
    "start_time": "2022-05-02T20:53:24.424Z"
   },
   {
    "duration": 25,
    "start_time": "2022-05-02T20:53:25.687Z"
   },
   {
    "duration": 636,
    "start_time": "2022-05-02T20:53:26.700Z"
   },
   {
    "duration": 21,
    "start_time": "2022-05-02T20:53:30.154Z"
   },
   {
    "duration": 28,
    "start_time": "2022-05-02T20:53:31.533Z"
   },
   {
    "duration": 528,
    "start_time": "2022-05-02T20:53:33.140Z"
   },
   {
    "duration": 45,
    "start_time": "2022-05-02T20:53:34.880Z"
   },
   {
    "duration": 83,
    "start_time": "2022-05-02T20:53:38.390Z"
   },
   {
    "duration": 28,
    "start_time": "2022-05-02T20:53:39.631Z"
   },
   {
    "duration": 526,
    "start_time": "2022-05-02T20:53:42.443Z"
   },
   {
    "duration": 33,
    "start_time": "2022-05-02T20:53:45.074Z"
   },
   {
    "duration": 8241,
    "start_time": "2022-05-02T20:53:47.668Z"
   },
   {
    "duration": 1992,
    "start_time": "2022-05-02T20:53:55.912Z"
   },
   {
    "duration": 121,
    "start_time": "2022-05-02T20:53:57.907Z"
   },
   {
    "duration": 80,
    "start_time": "2022-05-02T20:54:10.856Z"
   },
   {
    "duration": 39,
    "start_time": "2022-05-02T20:54:13.795Z"
   },
   {
    "duration": 204,
    "start_time": "2022-05-02T20:54:15.891Z"
   },
   {
    "duration": 34,
    "start_time": "2022-05-02T20:54:22.172Z"
   },
   {
    "duration": 1253,
    "start_time": "2022-05-02T20:54:28.746Z"
   },
   {
    "duration": 4,
    "start_time": "2022-05-02T20:54:41.680Z"
   },
   {
    "duration": 4,
    "start_time": "2022-05-02T20:54:47.352Z"
   },
   {
    "duration": 8,
    "start_time": "2022-05-02T20:54:48.380Z"
   },
   {
    "duration": 52,
    "start_time": "2022-05-02T20:54:50.085Z"
   },
   {
    "duration": 1318,
    "start_time": "2022-05-02T20:54:53.877Z"
   },
   {
    "duration": 3,
    "start_time": "2022-05-02T20:54:56.625Z"
   },
   {
    "duration": 4,
    "start_time": "2022-05-02T20:55:01.610Z"
   },
   {
    "duration": 15638,
    "start_time": "2022-05-02T20:55:04.899Z"
   },
   {
    "duration": 4,
    "start_time": "2022-05-02T20:55:20.540Z"
   },
   {
    "duration": 13,
    "start_time": "2022-05-02T20:55:20.547Z"
   },
   {
    "duration": 159,
    "start_time": "2022-05-02T20:55:20.563Z"
   },
   {
    "duration": 15,
    "start_time": "2022-05-02T20:55:20.724Z"
   },
   {
    "duration": 0,
    "start_time": "2022-05-02T20:55:20.741Z"
   },
   {
    "duration": 1,
    "start_time": "2022-05-02T20:55:20.742Z"
   },
   {
    "duration": 3,
    "start_time": "2022-05-02T20:55:34.897Z"
   },
   {
    "duration": 20908,
    "start_time": "2022-05-02T20:55:41.023Z"
   },
   {
    "duration": 4,
    "start_time": "2022-05-02T20:56:01.935Z"
   },
   {
    "duration": 14,
    "start_time": "2022-05-02T20:56:01.942Z"
   },
   {
    "duration": 675,
    "start_time": "2022-05-02T20:56:01.961Z"
   },
   {
    "duration": 4,
    "start_time": "2022-05-02T20:56:02.639Z"
   },
   {
    "duration": 141980,
    "start_time": "2022-05-02T20:56:02.646Z"
   },
   {
    "duration": 7357,
    "start_time": "2022-05-02T20:58:24.628Z"
   },
   {
    "duration": 4,
    "start_time": "2022-05-02T20:58:31.987Z"
   },
   {
    "duration": 10,
    "start_time": "2022-05-02T20:58:31.993Z"
   },
   {
    "duration": 3,
    "start_time": "2022-05-02T20:58:32.025Z"
   },
   {
    "duration": 10,
    "start_time": "2022-05-02T20:58:32.031Z"
   },
   {
    "duration": 12,
    "start_time": "2022-05-02T20:58:32.044Z"
   },
   {
    "duration": 66,
    "start_time": "2022-05-02T20:58:32.058Z"
   },
   {
    "duration": 4,
    "start_time": "2022-05-02T20:58:32.127Z"
   },
   {
    "duration": 42,
    "start_time": "2022-05-02T20:58:32.133Z"
   },
   {
    "duration": 3510243,
    "start_time": "2022-05-02T20:58:32.177Z"
   },
   {
    "duration": 5,
    "start_time": "2022-05-02T21:57:02.423Z"
   },
   {
    "duration": 1129879,
    "start_time": "2022-05-02T21:57:02.430Z"
   },
   {
    "duration": 12,
    "start_time": "2022-05-02T22:15:52.312Z"
   },
   {
    "duration": 4,
    "start_time": "2022-05-02T22:15:52.327Z"
   },
   {
    "duration": 13,
    "start_time": "2022-05-02T22:23:04.903Z"
   },
   {
    "duration": 13,
    "start_time": "2022-05-02T22:23:25.247Z"
   },
   {
    "duration": 12,
    "start_time": "2022-05-02T22:30:37.445Z"
   },
   {
    "duration": 150,
    "start_time": "2022-05-02T22:34:23.833Z"
   },
   {
    "duration": 6,
    "start_time": "2022-05-02T22:34:45.233Z"
   },
   {
    "duration": 764181,
    "start_time": "2022-05-02T22:35:28.344Z"
   },
   {
    "duration": 5,
    "start_time": "2022-05-02T22:48:12.529Z"
   },
   {
    "duration": 57605,
    "start_time": "2022-05-02T22:48:12.536Z"
   },
   {
    "duration": 4,
    "start_time": "2022-05-02T22:49:10.144Z"
   },
   {
    "duration": 3,
    "start_time": "2022-05-02T22:49:10.225Z"
   },
   {
    "duration": 9,
    "start_time": "2022-05-02T22:49:10.230Z"
   },
   {
    "duration": 4,
    "start_time": "2022-05-02T22:49:18.175Z"
   },
   {
    "duration": 14,
    "start_time": "2022-05-02T22:49:19.680Z"
   },
   {
    "duration": 7,
    "start_time": "2022-05-02T22:49:52.117Z"
   },
   {
    "duration": 13,
    "start_time": "2022-05-02T22:50:40.406Z"
   },
   {
    "duration": 6,
    "start_time": "2022-05-02T22:51:10.091Z"
   },
   {
    "duration": 4,
    "start_time": "2022-05-02T22:51:51.077Z"
   },
   {
    "duration": 7,
    "start_time": "2022-05-02T22:52:01.992Z"
   },
   {
    "duration": 6,
    "start_time": "2022-05-02T22:52:05.789Z"
   },
   {
    "duration": 5,
    "start_time": "2022-05-02T22:53:28.017Z"
   },
   {
    "duration": 17,
    "start_time": "2022-05-02T22:53:30.531Z"
   },
   {
    "duration": 2336,
    "start_time": "2022-05-03T05:52:27.347Z"
   },
   {
    "duration": 1065,
    "start_time": "2022-05-03T05:52:29.685Z"
   },
   {
    "duration": 185,
    "start_time": "2022-05-03T05:52:30.752Z"
   },
   {
    "duration": 24,
    "start_time": "2022-05-03T05:52:30.939Z"
   },
   {
    "duration": 5,
    "start_time": "2022-05-03T05:52:30.965Z"
   },
   {
    "duration": 435,
    "start_time": "2022-05-03T05:52:30.972Z"
   },
   {
    "duration": 54,
    "start_time": "2022-05-03T05:52:31.409Z"
   },
   {
    "duration": 1346,
    "start_time": "2022-05-03T05:52:31.465Z"
   },
   {
    "duration": 7,
    "start_time": "2022-05-03T05:52:32.814Z"
   },
   {
    "duration": 278,
    "start_time": "2022-05-03T05:52:32.825Z"
   },
   {
    "duration": 5,
    "start_time": "2022-05-03T05:52:33.105Z"
   },
   {
    "duration": 25,
    "start_time": "2022-05-03T05:52:33.112Z"
   },
   {
    "duration": 4,
    "start_time": "2022-05-03T05:52:33.140Z"
   },
   {
    "duration": 15,
    "start_time": "2022-05-03T05:52:33.147Z"
   },
   {
    "duration": 13,
    "start_time": "2022-05-03T05:52:33.192Z"
   },
   {
    "duration": 54,
    "start_time": "2022-05-03T05:52:33.207Z"
   },
   {
    "duration": 33,
    "start_time": "2022-05-03T05:52:33.264Z"
   },
   {
    "duration": 9,
    "start_time": "2022-05-03T05:52:33.299Z"
   },
   {
    "duration": 10,
    "start_time": "2022-05-03T05:52:33.310Z"
   },
   {
    "duration": 98,
    "start_time": "2022-05-03T05:52:33.322Z"
   },
   {
    "duration": 50,
    "start_time": "2022-05-03T05:52:33.422Z"
   },
   {
    "duration": 9473,
    "start_time": "2022-05-03T05:52:33.474Z"
   },
   {
    "duration": 7,
    "start_time": "2022-05-03T05:52:42.949Z"
   },
   {
    "duration": 605,
    "start_time": "2022-05-03T05:52:42.958Z"
   },
   {
    "duration": 7,
    "start_time": "2022-05-03T05:52:43.565Z"
   },
   {
    "duration": 21,
    "start_time": "2022-05-03T05:52:43.574Z"
   },
   {
    "duration": 8,
    "start_time": "2022-05-03T05:52:43.598Z"
   },
   {
    "duration": 24,
    "start_time": "2022-05-03T05:52:43.613Z"
   },
   {
    "duration": 89,
    "start_time": "2022-05-03T05:52:43.639Z"
   },
   {
    "duration": 27,
    "start_time": "2022-05-03T05:52:43.730Z"
   },
   {
    "duration": 48,
    "start_time": "2022-05-03T05:52:43.760Z"
   },
   {
    "duration": 21,
    "start_time": "2022-05-03T05:52:43.810Z"
   },
   {
    "duration": 203,
    "start_time": "2022-05-03T05:52:43.834Z"
   },
   {
    "duration": 30,
    "start_time": "2022-05-03T05:52:44.040Z"
   },
   {
    "duration": 43,
    "start_time": "2022-05-03T05:52:44.072Z"
   },
   {
    "duration": 85,
    "start_time": "2022-05-03T05:52:44.117Z"
   },
   {
    "duration": 34,
    "start_time": "2022-05-03T05:52:44.204Z"
   },
   {
    "duration": 28,
    "start_time": "2022-05-03T05:52:44.240Z"
   },
   {
    "duration": 1240,
    "start_time": "2022-05-03T05:52:44.292Z"
   },
   {
    "duration": 25,
    "start_time": "2022-05-03T05:52:45.534Z"
   },
   {
    "duration": 45,
    "start_time": "2022-05-03T05:52:45.562Z"
   },
   {
    "duration": 589,
    "start_time": "2022-05-03T05:52:45.609Z"
   },
   {
    "duration": 19,
    "start_time": "2022-05-03T05:52:46.201Z"
   },
   {
    "duration": 27,
    "start_time": "2022-05-03T05:52:46.224Z"
   },
   {
    "duration": 497,
    "start_time": "2022-05-03T05:52:46.253Z"
   },
   {
    "duration": 40,
    "start_time": "2022-05-03T05:52:46.752Z"
   },
   {
    "duration": 79,
    "start_time": "2022-05-03T05:52:46.795Z"
   },
   {
    "duration": 38,
    "start_time": "2022-05-03T05:52:46.876Z"
   },
   {
    "duration": 479,
    "start_time": "2022-05-03T05:52:46.917Z"
   },
   {
    "duration": 26,
    "start_time": "2022-05-03T05:52:47.399Z"
   },
   {
    "duration": 6939,
    "start_time": "2022-05-03T05:52:47.427Z"
   },
   {
    "duration": 1842,
    "start_time": "2022-05-03T05:52:54.369Z"
   },
   {
    "duration": 123,
    "start_time": "2022-05-03T05:52:56.214Z"
   },
   {
    "duration": 91,
    "start_time": "2022-05-03T05:52:56.340Z"
   },
   {
    "duration": 38,
    "start_time": "2022-05-03T05:52:56.434Z"
   },
   {
    "duration": 239,
    "start_time": "2022-05-03T05:52:56.474Z"
   },
   {
    "duration": 3,
    "start_time": "2022-05-03T05:52:56.716Z"
   },
   {
    "duration": 7,
    "start_time": "2022-05-03T05:52:56.722Z"
   },
   {
    "duration": 11,
    "start_time": "2022-05-03T05:52:56.732Z"
   },
   {
    "duration": 75,
    "start_time": "2022-05-03T05:52:56.746Z"
   },
   {
    "duration": 934,
    "start_time": "2022-05-03T05:52:56.824Z"
   },
   {
    "duration": 4,
    "start_time": "2022-05-03T05:52:57.761Z"
   },
   {
    "duration": 7,
    "start_time": "2022-05-03T05:52:57.767Z"
   },
   {
    "duration": 13144,
    "start_time": "2022-05-03T05:52:57.792Z"
   },
   {
    "duration": 4,
    "start_time": "2022-05-03T05:53:10.938Z"
   },
   {
    "duration": 9,
    "start_time": "2022-05-03T05:53:10.943Z"
   },
   {
    "duration": 544,
    "start_time": "2022-05-03T05:53:10.954Z"
   },
   {
    "duration": 3,
    "start_time": "2022-05-03T05:53:11.501Z"
   },
   {
    "duration": 110663,
    "start_time": "2022-05-03T05:53:11.506Z"
   },
   {
    "duration": 6783,
    "start_time": "2022-05-03T05:55:02.171Z"
   },
   {
    "duration": 4,
    "start_time": "2022-05-03T05:55:08.956Z"
   },
   {
    "duration": 6,
    "start_time": "2022-05-03T05:55:08.962Z"
   },
   {
    "duration": 23,
    "start_time": "2022-05-03T05:55:08.970Z"
   },
   {
    "duration": 6,
    "start_time": "2022-05-03T05:55:08.995Z"
   },
   {
    "duration": 7,
    "start_time": "2022-05-03T05:55:09.003Z"
   },
   {
    "duration": 47,
    "start_time": "2022-05-03T05:55:09.012Z"
   },
   {
    "duration": 4,
    "start_time": "2022-05-03T05:55:09.061Z"
   },
   {
    "duration": 28,
    "start_time": "2022-05-03T05:55:09.067Z"
   },
   {
    "duration": 3244083,
    "start_time": "2022-05-03T05:55:09.097Z"
   },
   {
    "duration": 4,
    "start_time": "2022-05-03T06:49:13.182Z"
   },
   {
    "duration": 1032430,
    "start_time": "2022-05-03T06:49:13.193Z"
   },
   {
    "duration": 4,
    "start_time": "2022-05-03T07:06:25.632Z"
   },
   {
    "duration": 3323351,
    "start_time": "2022-05-03T07:06:25.651Z"
   },
   {
    "duration": 4,
    "start_time": "2022-05-03T08:01:49.005Z"
   },
   {
    "duration": 976450,
    "start_time": "2022-05-03T08:01:49.012Z"
   },
   {
    "duration": 4,
    "start_time": "2022-05-03T08:18:05.465Z"
   },
   {
    "duration": 8,
    "start_time": "2022-05-03T08:18:05.471Z"
   },
   {
    "duration": 6,
    "start_time": "2022-05-03T08:18:05.481Z"
   },
   {
    "duration": 8,
    "start_time": "2022-05-03T08:18:05.489Z"
   },
   {
    "duration": 6,
    "start_time": "2022-05-03T08:18:05.500Z"
   },
   {
    "duration": 17,
    "start_time": "2022-05-03T08:18:05.509Z"
   },
   {
    "duration": 22,
    "start_time": "2022-05-03T08:18:05.529Z"
   },
   {
    "duration": 3,
    "start_time": "2022-05-03T08:18:05.554Z"
   },
   {
    "duration": 489,
    "start_time": "2022-05-03T08:18:05.560Z"
   },
   {
    "duration": 15,
    "start_time": "2022-05-03T08:18:06.052Z"
   },
   {
    "duration": 0,
    "start_time": "2022-05-03T08:18:06.070Z"
   },
   {
    "duration": 0,
    "start_time": "2022-05-03T08:18:06.072Z"
   },
   {
    "duration": 0,
    "start_time": "2022-05-03T08:18:06.073Z"
   },
   {
    "duration": 0,
    "start_time": "2022-05-03T08:18:06.075Z"
   },
   {
    "duration": 0,
    "start_time": "2022-05-03T08:18:06.077Z"
   },
   {
    "duration": 0,
    "start_time": "2022-05-03T08:18:06.078Z"
   },
   {
    "duration": 0,
    "start_time": "2022-05-03T08:18:06.106Z"
   },
   {
    "duration": 190,
    "start_time": "2022-05-03T08:18:14.668Z"
   },
   {
    "duration": 2708,
    "start_time": "2022-05-03T08:18:26.529Z"
   },
   {
    "duration": 1652,
    "start_time": "2022-05-03T08:18:29.241Z"
   },
   {
    "duration": 245,
    "start_time": "2022-05-03T08:18:30.895Z"
   },
   {
    "duration": 53,
    "start_time": "2022-05-03T08:18:31.145Z"
   },
   {
    "duration": 4,
    "start_time": "2022-05-03T08:18:31.201Z"
   },
   {
    "duration": 403,
    "start_time": "2022-05-03T08:18:31.208Z"
   },
   {
    "duration": 60,
    "start_time": "2022-05-03T08:18:31.613Z"
   },
   {
    "duration": 1402,
    "start_time": "2022-05-03T08:18:31.675Z"
   },
   {
    "duration": 18,
    "start_time": "2022-05-03T08:18:33.079Z"
   },
   {
    "duration": 306,
    "start_time": "2022-05-03T08:18:33.102Z"
   },
   {
    "duration": 6,
    "start_time": "2022-05-03T08:18:33.411Z"
   },
   {
    "duration": 21,
    "start_time": "2022-05-03T08:18:33.419Z"
   },
   {
    "duration": 4,
    "start_time": "2022-05-03T08:18:33.442Z"
   },
   {
    "duration": 47,
    "start_time": "2022-05-03T08:18:33.449Z"
   },
   {
    "duration": 13,
    "start_time": "2022-05-03T08:18:33.499Z"
   },
   {
    "duration": 87,
    "start_time": "2022-05-03T08:18:33.514Z"
   },
   {
    "duration": 12,
    "start_time": "2022-05-03T08:18:33.603Z"
   },
   {
    "duration": 15,
    "start_time": "2022-05-03T08:18:33.618Z"
   },
   {
    "duration": 9,
    "start_time": "2022-05-03T08:18:33.635Z"
   },
   {
    "duration": 108,
    "start_time": "2022-05-03T08:18:33.647Z"
   },
   {
    "duration": 64,
    "start_time": "2022-05-03T08:18:33.757Z"
   },
   {
    "duration": 9820,
    "start_time": "2022-05-03T08:18:33.823Z"
   },
   {
    "duration": 7,
    "start_time": "2022-05-03T08:18:43.646Z"
   },
   {
    "duration": 628,
    "start_time": "2022-05-03T08:18:43.655Z"
   },
   {
    "duration": 7,
    "start_time": "2022-05-03T08:18:44.293Z"
   },
   {
    "duration": 10,
    "start_time": "2022-05-03T08:18:44.303Z"
   },
   {
    "duration": 7,
    "start_time": "2022-05-03T08:18:44.315Z"
   },
   {
    "duration": 23,
    "start_time": "2022-05-03T08:18:44.329Z"
   },
   {
    "duration": 90,
    "start_time": "2022-05-03T08:18:44.354Z"
   },
   {
    "duration": 48,
    "start_time": "2022-05-03T08:18:44.446Z"
   },
   {
    "duration": 32,
    "start_time": "2022-05-03T08:18:44.496Z"
   },
   {
    "duration": 22,
    "start_time": "2022-05-03T08:18:44.530Z"
   },
   {
    "duration": 239,
    "start_time": "2022-05-03T08:18:44.554Z"
   },
   {
    "duration": 31,
    "start_time": "2022-05-03T08:18:44.795Z"
   },
   {
    "duration": 27,
    "start_time": "2022-05-03T08:18:44.828Z"
   },
   {
    "duration": 96,
    "start_time": "2022-05-03T08:18:44.857Z"
   },
   {
    "duration": 49,
    "start_time": "2022-05-03T08:18:44.955Z"
   },
   {
    "duration": 30,
    "start_time": "2022-05-03T08:18:45.007Z"
   },
   {
    "duration": 1888,
    "start_time": "2022-05-03T08:18:45.041Z"
   },
   {
    "duration": 29,
    "start_time": "2022-05-03T08:18:46.931Z"
   },
   {
    "duration": 41,
    "start_time": "2022-05-03T08:18:46.962Z"
   },
   {
    "duration": 625,
    "start_time": "2022-05-03T08:18:47.005Z"
   },
   {
    "duration": 20,
    "start_time": "2022-05-03T08:18:47.633Z"
   },
   {
    "duration": 48,
    "start_time": "2022-05-03T08:18:47.656Z"
   },
   {
    "duration": 496,
    "start_time": "2022-05-03T08:18:47.707Z"
   },
   {
    "duration": 33,
    "start_time": "2022-05-03T08:18:48.205Z"
   },
   {
    "duration": 97,
    "start_time": "2022-05-03T08:18:48.241Z"
   },
   {
    "duration": 56,
    "start_time": "2022-05-03T08:18:48.341Z"
   },
   {
    "duration": 519,
    "start_time": "2022-05-03T08:18:48.399Z"
   },
   {
    "duration": 28,
    "start_time": "2022-05-03T08:18:48.920Z"
   },
   {
    "duration": 7263,
    "start_time": "2022-05-03T08:18:48.951Z"
   },
   {
    "duration": 1781,
    "start_time": "2022-05-03T08:18:56.216Z"
   },
   {
    "duration": 115,
    "start_time": "2022-05-03T08:18:58.000Z"
   },
   {
    "duration": 89,
    "start_time": "2022-05-03T08:18:58.117Z"
   },
   {
    "duration": 35,
    "start_time": "2022-05-03T08:18:58.209Z"
   },
   {
    "duration": 232,
    "start_time": "2022-05-03T08:18:58.246Z"
   },
   {
    "duration": 5,
    "start_time": "2022-05-03T08:18:58.480Z"
   },
   {
    "duration": 9,
    "start_time": "2022-05-03T08:18:58.487Z"
   },
   {
    "duration": 14,
    "start_time": "2022-05-03T08:18:58.498Z"
   },
   {
    "duration": 50,
    "start_time": "2022-05-03T08:18:58.518Z"
   },
   {
    "duration": 959,
    "start_time": "2022-05-03T08:18:58.570Z"
   },
   {
    "duration": 4,
    "start_time": "2022-05-03T08:18:59.531Z"
   },
   {
    "duration": 6,
    "start_time": "2022-05-03T08:18:59.537Z"
   },
   {
    "duration": 14000,
    "start_time": "2022-05-03T08:18:59.545Z"
   },
   {
    "duration": 4,
    "start_time": "2022-05-03T08:19:13.547Z"
   },
   {
    "duration": 7,
    "start_time": "2022-05-03T08:19:13.553Z"
   },
   {
    "duration": 577,
    "start_time": "2022-05-03T08:19:13.562Z"
   },
   {
    "duration": 4,
    "start_time": "2022-05-03T08:19:14.142Z"
   },
   {
    "duration": 129965,
    "start_time": "2022-05-03T08:19:14.149Z"
   },
   {
    "duration": 7360,
    "start_time": "2022-05-03T08:21:24.117Z"
   },
   {
    "duration": 13,
    "start_time": "2022-05-03T08:21:31.480Z"
   },
   {
    "duration": 10,
    "start_time": "2022-05-03T08:21:31.496Z"
   },
   {
    "duration": 18,
    "start_time": "2022-05-03T08:21:31.509Z"
   },
   {
    "duration": 7,
    "start_time": "2022-05-03T08:21:31.529Z"
   },
   {
    "duration": 9,
    "start_time": "2022-05-03T08:21:31.538Z"
   },
   {
    "duration": 62,
    "start_time": "2022-05-03T08:21:31.549Z"
   },
   {
    "duration": 4,
    "start_time": "2022-05-03T08:21:31.614Z"
   },
   {
    "duration": 12,
    "start_time": "2022-05-03T08:21:31.620Z"
   },
   {
    "duration": 3527035,
    "start_time": "2022-05-03T08:21:31.634Z"
   },
   {
    "duration": 4,
    "start_time": "2022-05-03T09:20:18.671Z"
   },
   {
    "duration": 1088866,
    "start_time": "2022-05-03T09:20:18.678Z"
   },
   {
    "duration": 5,
    "start_time": "2022-05-03T09:38:27.556Z"
   },
   {
    "duration": 11,
    "start_time": "2022-05-03T09:38:27.563Z"
   },
   {
    "duration": 1075821,
    "start_time": "2022-05-03T09:38:27.576Z"
   },
   {
    "duration": 67696,
    "start_time": "2022-05-03T09:56:23.405Z"
   },
   {
    "duration": 4,
    "start_time": "2022-05-03T09:57:31.103Z"
   },
   {
    "duration": 7,
    "start_time": "2022-05-03T09:57:31.110Z"
   },
   {
    "duration": 7,
    "start_time": "2022-05-03T09:57:31.120Z"
   },
   {
    "duration": 10,
    "start_time": "2022-05-03T09:57:31.129Z"
   },
   {
    "duration": 10,
    "start_time": "2022-05-03T09:57:31.141Z"
   },
   {
    "duration": 53,
    "start_time": "2022-05-03T09:57:31.153Z"
   },
   {
    "duration": 29,
    "start_time": "2022-05-03T09:57:31.209Z"
   },
   {
    "duration": 4,
    "start_time": "2022-05-03T09:57:31.240Z"
   },
   {
    "duration": 397,
    "start_time": "2022-05-03T09:57:31.247Z"
   },
   {
    "duration": 4,
    "start_time": "2022-05-03T09:57:31.647Z"
   },
   {
    "duration": 1351,
    "start_time": "2022-05-03T09:57:31.655Z"
   },
   {
    "duration": 5,
    "start_time": "2022-05-03T09:57:33.009Z"
   },
   {
    "duration": 11189,
    "start_time": "2022-05-03T09:57:33.017Z"
   },
   {
    "duration": 4,
    "start_time": "2022-05-03T09:57:44.208Z"
   },
   {
    "duration": 7,
    "start_time": "2022-05-03T09:57:44.214Z"
   },
   {
    "duration": 17,
    "start_time": "2022-05-03T09:57:44.223Z"
   },
   {
    "duration": 4,
    "start_time": "2022-05-03T09:57:44.299Z"
   },
   {
    "duration": 7,
    "start_time": "2022-05-03T10:00:05.504Z"
   },
   {
    "duration": 46,
    "start_time": "2022-05-03T21:21:51.920Z"
   },
   {
    "duration": 1711,
    "start_time": "2022-05-03T21:21:57.612Z"
   },
   {
    "duration": 813,
    "start_time": "2022-05-03T21:22:00.846Z"
   },
   {
    "duration": 135,
    "start_time": "2022-05-03T21:22:02.243Z"
   },
   {
    "duration": 17,
    "start_time": "2022-05-03T21:22:03.777Z"
   },
   {
    "duration": 4,
    "start_time": "2022-05-03T21:22:05.178Z"
   },
   {
    "duration": 273,
    "start_time": "2022-05-03T21:22:07.004Z"
   },
   {
    "duration": 43,
    "start_time": "2022-05-03T21:22:17.359Z"
   },
   {
    "duration": 939,
    "start_time": "2022-05-03T21:22:21.327Z"
   },
   {
    "duration": 6,
    "start_time": "2022-05-03T21:22:25.425Z"
   },
   {
    "duration": 166,
    "start_time": "2022-05-03T21:22:40.239Z"
   },
   {
    "duration": 19,
    "start_time": "2022-05-03T21:22:42.775Z"
   },
   {
    "duration": 98,
    "start_time": "2022-05-03T21:23:03.125Z"
   },
   {
    "duration": 13,
    "start_time": "2022-05-03T21:23:08.669Z"
   },
   {
    "duration": 12,
    "start_time": "2022-05-03T21:23:10.980Z"
   },
   {
    "duration": 6,
    "start_time": "2022-05-03T21:23:17.551Z"
   },
   {
    "duration": 32,
    "start_time": "2022-05-03T21:23:51.926Z"
   },
   {
    "duration": 11,
    "start_time": "2022-05-03T21:24:06.284Z"
   },
   {
    "duration": 82,
    "start_time": "2022-05-03T21:24:09.276Z"
   },
   {
    "duration": 34,
    "start_time": "2022-05-03T21:24:19.320Z"
   },
   {
    "duration": 23,
    "start_time": "2022-05-03T21:25:12.056Z"
   },
   {
    "duration": 16,
    "start_time": "2022-05-03T21:25:33.419Z"
   },
   {
    "duration": 12,
    "start_time": "2022-05-03T21:25:41.826Z"
   },
   {
    "duration": 29,
    "start_time": "2022-05-03T21:25:54.645Z"
   },
   {
    "duration": 8,
    "start_time": "2022-05-03T21:25:59.066Z"
   },
   {
    "duration": 8,
    "start_time": "2022-05-03T21:26:03.072Z"
   },
   {
    "duration": 5,
    "start_time": "2022-05-03T21:26:05.917Z"
   },
   {
    "duration": 29,
    "start_time": "2022-05-03T21:26:08.271Z"
   },
   {
    "duration": 34,
    "start_time": "2022-05-03T21:26:09.379Z"
   },
   {
    "duration": 9119,
    "start_time": "2022-05-03T21:26:11.235Z"
   },
   {
    "duration": 9,
    "start_time": "2022-05-03T21:26:20.357Z"
   },
   {
    "duration": 7,
    "start_time": "2022-05-03T21:27:43.846Z"
   },
   {
    "duration": 17,
    "start_time": "2022-05-03T21:27:45.098Z"
   },
   {
    "duration": 37,
    "start_time": "2022-05-03T21:27:48.076Z"
   },
   {
    "duration": 20,
    "start_time": "2022-05-03T21:27:49.493Z"
   },
   {
    "duration": 23,
    "start_time": "2022-05-03T21:27:52.609Z"
   },
   {
    "duration": 18,
    "start_time": "2022-05-03T21:27:53.978Z"
   },
   {
    "duration": 158,
    "start_time": "2022-05-03T21:27:54.988Z"
   },
   {
    "duration": 19,
    "start_time": "2022-05-03T21:27:55.964Z"
   },
   {
    "duration": 19,
    "start_time": "2022-05-03T21:27:57.833Z"
   },
   {
    "duration": 48,
    "start_time": "2022-05-03T21:27:59.605Z"
   },
   {
    "duration": 23,
    "start_time": "2022-05-03T21:28:00.940Z"
   },
   {
    "duration": 23,
    "start_time": "2022-05-03T21:28:02.710Z"
   },
   {
    "duration": 1304,
    "start_time": "2022-05-03T21:28:05.620Z"
   },
   {
    "duration": 36,
    "start_time": "2022-05-03T21:28:06.927Z"
   },
   {
    "duration": 21,
    "start_time": "2022-05-03T21:28:08.066Z"
   },
   {
    "duration": 377,
    "start_time": "2022-05-03T21:28:09.652Z"
   },
   {
    "duration": 15,
    "start_time": "2022-05-03T21:28:12.774Z"
   },
   {
    "duration": 21,
    "start_time": "2022-05-03T21:28:14.275Z"
   },
   {
    "duration": 330,
    "start_time": "2022-05-03T21:28:16.010Z"
   },
   {
    "duration": 26,
    "start_time": "2022-05-03T21:28:17.191Z"
   },
   {
    "duration": 47,
    "start_time": "2022-05-03T21:28:18.665Z"
   },
   {
    "duration": 21,
    "start_time": "2022-05-03T21:28:20.274Z"
   },
   {
    "duration": 319,
    "start_time": "2022-05-03T21:28:22.070Z"
   },
   {
    "duration": 19,
    "start_time": "2022-05-03T21:28:23.043Z"
   },
   {
    "duration": 5082,
    "start_time": "2022-05-03T21:28:26.373Z"
   },
   {
    "duration": 949,
    "start_time": "2022-05-03T21:28:42.206Z"
   },
   {
    "duration": 86,
    "start_time": "2022-05-03T21:28:44.428Z"
   },
   {
    "duration": 69,
    "start_time": "2022-05-03T21:30:45.493Z"
   },
   {
    "duration": 23,
    "start_time": "2022-05-03T21:31:17.936Z"
   },
   {
    "duration": 129,
    "start_time": "2022-05-03T21:31:25.504Z"
   },
   {
    "duration": 3,
    "start_time": "2022-05-03T21:31:27.592Z"
   },
   {
    "duration": 4,
    "start_time": "2022-05-03T21:31:57.160Z"
   },
   {
    "duration": 6,
    "start_time": "2022-05-03T21:31:58.487Z"
   },
   {
    "duration": 41,
    "start_time": "2022-05-03T21:31:59.601Z"
   },
   {
    "duration": 912,
    "start_time": "2022-05-03T21:32:00.526Z"
   },
   {
    "duration": 3,
    "start_time": "2022-05-03T21:32:58.970Z"
   },
   {
    "duration": 3,
    "start_time": "2022-05-03T21:32:59.747Z"
   },
   {
    "duration": 135,
    "start_time": "2022-05-03T21:35:07.005Z"
   },
   {
    "duration": 8531,
    "start_time": "2022-05-03T21:35:11.748Z"
   },
   {
    "duration": 3,
    "start_time": "2022-05-03T21:36:27.340Z"
   },
   {
    "duration": 3,
    "start_time": "2022-05-03T21:36:27.997Z"
   },
   {
    "duration": 546,
    "start_time": "2022-05-03T21:36:35.777Z"
   },
   {
    "duration": 3,
    "start_time": "2022-05-03T21:36:36.325Z"
   },
   {
    "duration": 114728,
    "start_time": "2022-05-03T21:38:31.712Z"
   },
   {
    "duration": 5770,
    "start_time": "2022-05-03T21:40:26.442Z"
   },
   {
    "duration": 4,
    "start_time": "2022-05-03T21:40:32.214Z"
   },
   {
    "duration": 12,
    "start_time": "2022-05-03T21:40:32.220Z"
   },
   {
    "duration": 27,
    "start_time": "2022-05-03T21:40:32.234Z"
   },
   {
    "duration": 30,
    "start_time": "2022-05-03T21:40:32.263Z"
   },
   {
    "duration": 27,
    "start_time": "2022-05-03T21:40:32.296Z"
   },
   {
    "duration": 39,
    "start_time": "2022-05-03T21:42:20.211Z"
   },
   {
    "duration": 3,
    "start_time": "2022-05-03T21:42:21.139Z"
   },
   {
    "duration": 3,
    "start_time": "2022-05-03T21:42:21.839Z"
   },
   {
    "duration": 1633873,
    "start_time": "2022-05-03T21:42:23.930Z"
   },
   {
    "duration": 3,
    "start_time": "2022-05-03T22:09:37.805Z"
   },
   {
    "duration": 420348,
    "start_time": "2022-05-03T22:09:37.810Z"
   },
   {
    "duration": 6,
    "start_time": "2022-05-03T22:16:38.161Z"
   },
   {
    "duration": 10,
    "start_time": "2022-05-03T22:16:38.169Z"
   },
   {
    "duration": 22767,
    "start_time": "2022-05-03T22:16:49.724Z"
   },
   {
    "duration": 3971,
    "start_time": "2022-05-03T22:17:13.928Z"
   },
   {
    "duration": 92472,
    "start_time": "2022-05-03T22:40:31.460Z"
   },
   {
    "duration": 10,
    "start_time": "2022-05-03T22:42:03.933Z"
   },
   {
    "duration": 62,
    "start_time": "2022-05-03T22:42:24.989Z"
   },
   {
    "duration": 120,
    "start_time": "2022-05-03T22:42:36.784Z"
   },
   {
    "duration": 14199,
    "start_time": "2022-05-03T22:42:41.790Z"
   },
   {
    "duration": 60778,
    "start_time": "2022-05-03T22:42:57.417Z"
   },
   {
    "duration": 4599,
    "start_time": "2022-05-03T22:45:07.369Z"
   },
   {
    "duration": 34747,
    "start_time": "2022-05-03T22:45:14.112Z"
   },
   {
    "duration": 9,
    "start_time": "2022-05-03T22:45:48.861Z"
   },
   {
    "duration": 77329,
    "start_time": "2022-05-03T22:45:54.678Z"
   },
   {
    "duration": 3,
    "start_time": "2022-05-03T22:47:17.085Z"
   },
   {
    "duration": 119,
    "start_time": "2022-05-03T22:47:23.745Z"
   },
   {
    "duration": 10363,
    "start_time": "2022-05-03T22:47:31.163Z"
   },
   {
    "duration": 8877,
    "start_time": "2022-05-03T22:49:12.650Z"
   },
   {
    "duration": 3,
    "start_time": "2022-05-03T22:49:25.516Z"
   },
   {
    "duration": 3,
    "start_time": "2022-05-03T22:49:26.531Z"
   },
   {
    "duration": 3,
    "start_time": "2022-05-03T22:49:27.397Z"
   },
   {
    "duration": 3,
    "start_time": "2022-05-03T22:49:30.915Z"
   },
   {
    "duration": 4,
    "start_time": "2022-05-03T22:49:31.606Z"
   },
   {
    "duration": 12,
    "start_time": "2022-05-03T22:49:32.393Z"
   },
   {
    "duration": 18,
    "start_time": "2022-05-03T22:50:13.273Z"
   },
   {
    "duration": 3,
    "start_time": "2022-05-03T22:50:14.370Z"
   },
   {
    "duration": 274,
    "start_time": "2022-05-03T22:50:15.219Z"
   },
   {
    "duration": 3,
    "start_time": "2022-05-03T22:50:16.411Z"
   },
   {
    "duration": 1788,
    "start_time": "2022-05-03T22:50:17.196Z"
   },
   {
    "duration": 3,
    "start_time": "2022-05-03T22:50:18.986Z"
   },
   {
    "duration": 6265,
    "start_time": "2022-05-03T22:50:22.517Z"
   },
   {
    "duration": 3,
    "start_time": "2022-05-03T22:50:28.785Z"
   },
   {
    "duration": 7,
    "start_time": "2022-05-03T22:50:28.790Z"
   },
   {
    "duration": 22,
    "start_time": "2022-05-03T22:50:28.799Z"
   }
  ],
  "kernelspec": {
   "display_name": "Python 3 (ipykernel)",
   "language": "python",
   "name": "python3"
  },
  "language_info": {
   "codemirror_mode": {
    "name": "ipython",
    "version": 3
   },
   "file_extension": ".py",
   "mimetype": "text/x-python",
   "name": "python",
   "nbconvert_exporter": "python",
   "pygments_lexer": "ipython3",
   "version": "3.9.5"
  },
  "toc": {
   "base_numbering": 1,
   "nav_menu": {},
   "number_sections": true,
   "sideBar": true,
   "skip_h1_title": true,
   "title_cell": "Table of Contents",
   "title_sidebar": "Contents",
   "toc_cell": false,
   "toc_position": {
    "height": "calc(100% - 180px)",
    "left": "10px",
    "top": "150px",
    "width": "260.797px"
   },
   "toc_section_display": true,
   "toc_window_display": true
  }
 },
 "nbformat": 4,
 "nbformat_minor": 2
}
