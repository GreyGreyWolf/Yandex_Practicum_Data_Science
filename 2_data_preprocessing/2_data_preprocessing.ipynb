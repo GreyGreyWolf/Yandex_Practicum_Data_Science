{
 "cells": [
  {
   "cell_type": "markdown",
   "metadata": {},
   "source": [
    "# Исследование надёжности заёмщиков\n",
    "\n",
    "Заказчик — кредитный отдел банка. Нужно разобраться, влияет ли семейное положение и количество детей клиента на факт погашения кредита в срок. Входные данные от банка — статистика о платёжеспособности клиентов.\n",
    "\n",
    "Результаты исследования будут учтены при построении модели **кредитного скоринга** — специальной системы, которая оценивает способность потенциального заёмщика вернуть кредит банку."
   ]
  },
  {
   "cell_type": "markdown",
   "metadata": {},
   "source": [
    "## Шаг 1. Откройте файл с данными и изучите общую информацию"
   ]
  },
  {
   "cell_type": "code",
   "execution_count": 1,
   "metadata": {},
   "outputs": [
    {
     "name": "stdout",
     "output_type": "stream",
     "text": [
      "<class 'pandas.core.frame.DataFrame'>\n",
      "RangeIndex: 21525 entries, 0 to 21524\n",
      "Data columns (total 12 columns):\n",
      "children            21525 non-null int64\n",
      "days_employed       19351 non-null float64\n",
      "dob_years           21525 non-null int64\n",
      "education           21525 non-null object\n",
      "education_id        21525 non-null int64\n",
      "family_status       21525 non-null object\n",
      "family_status_id    21525 non-null int64\n",
      "gender              21525 non-null object\n",
      "income_type         21525 non-null object\n",
      "debt                21525 non-null int64\n",
      "total_income        19351 non-null float64\n",
      "purpose             21525 non-null object\n",
      "dtypes: float64(2), int64(5), object(5)\n",
      "memory usage: 2.0+ MB\n"
     ]
    }
   ],
   "source": [
    "import pandas as pd\n",
    "data = pd.read_csv('/datasets/data.csv')\n",
    "data.info()"
   ]
  },
  {
   "cell_type": "markdown",
   "metadata": {},
   "source": [
    "**Вывод**"
   ]
  },
  {
   "cell_type": "markdown",
   "metadata": {},
   "source": [
    "**Проблемы обнаруженные при выводе результата метода info():**\n",
    "\n",
    "1. В колонке \"Трудовой стаж\"(days_employed) значения указаны в формате вещественного типа. <u>**Необходимо перевести тип данных в целочисленный**</u>, так как в зачет в трудового стажа идут только полностью отработанные дни.\n",
    "    \n",
    "    \n",
    "2. Количество записей (19351) в колонках \"Трудовой стаж\" (days_employed)  и \"Ежемесячный доход\"(total_income) не соответствует общему количеству записей (21525), а значит <u>**в колонках есть пропуски**.</u>\n",
    "    \n",
    "    Возможная причина появления пропусков кроется в значениях колонки \"Тип занятости\". Отсутствие трудового статуса и ежемесячного дохода может быть у неработающих людей, например : студенты или просто никогда не работавшие люди. И это гипотеза, а соответствует ли она действительности я проверю в процессе обработки пропусков.\n"
   ]
  },
  {
   "cell_type": "markdown",
   "metadata": {},
   "source": [
    "## Шаг 2. Предобработка данных"
   ]
  },
  {
   "cell_type": "markdown",
   "metadata": {},
   "source": [
    "### Обработка пропусков"
   ]
  },
  {
   "cell_type": "code",
   "execution_count": 2,
   "metadata": {
    "scrolled": true
   },
   "outputs": [
    {
     "name": "stdout",
     "output_type": "stream",
     "text": [
      "Количество пропусков в колонке \"Трудовой стаж\" равно количеству пропусков в колонке \"Ежемесячный доход\" - 2174\n"
     ]
    }
   ],
   "source": [
    "number_of_passes_in_days_employed = data['days_employed'].isna().sum()\n",
    "number_of_passes_in_total_income = data['total_income'].isna().sum()\n",
    "if number_of_passes_in_days_employed == number_of_passes_in_total_income:\n",
    "    print(f'Количество пропусков в колонке \"Трудовой стаж\" равно количеству пропусков в колонке \"Ежемесячный доход\" - {number_of_passes_in_total_income}')\n",
    "else:\n",
    "    print(f\"Количество пропусков в колонках не совпадает,\\nКоличество пропусков в колонке Трудовой стаж до обработки - {number_of_passes_in_days_employed},\\nКоличество пропусков в колонке Ежемесячный доход до обработки - {number_of_passes_in_total_income}\\n\")\n",
    "\n"
   ]
  },
  {
   "cell_type": "code",
   "execution_count": 3,
   "metadata": {},
   "outputs": [
    {
     "data": {
      "text/html": [
       "<div>\n",
       "<style scoped>\n",
       "    .dataframe tbody tr th:only-of-type {\n",
       "        vertical-align: middle;\n",
       "    }\n",
       "\n",
       "    .dataframe tbody tr th {\n",
       "        vertical-align: top;\n",
       "    }\n",
       "\n",
       "    .dataframe thead th {\n",
       "        text-align: right;\n",
       "    }\n",
       "</style>\n",
       "<table border=\"1\" class=\"dataframe\">\n",
       "  <thead>\n",
       "    <tr style=\"text-align: right;\">\n",
       "      <th></th>\n",
       "      <th>children</th>\n",
       "      <th>days_employed</th>\n",
       "      <th>dob_years</th>\n",
       "      <th>education</th>\n",
       "      <th>education_id</th>\n",
       "      <th>family_status</th>\n",
       "      <th>family_status_id</th>\n",
       "      <th>gender</th>\n",
       "      <th>income_type</th>\n",
       "      <th>debt</th>\n",
       "      <th>total_income</th>\n",
       "      <th>purpose</th>\n",
       "    </tr>\n",
       "  </thead>\n",
       "  <tbody>\n",
       "    <tr>\n",
       "      <td>12</td>\n",
       "      <td>0</td>\n",
       "      <td>NaN</td>\n",
       "      <td>65</td>\n",
       "      <td>среднее</td>\n",
       "      <td>1</td>\n",
       "      <td>гражданский брак</td>\n",
       "      <td>1</td>\n",
       "      <td>M</td>\n",
       "      <td>пенсионер</td>\n",
       "      <td>0</td>\n",
       "      <td>NaN</td>\n",
       "      <td>сыграть свадьбу</td>\n",
       "    </tr>\n",
       "    <tr>\n",
       "      <td>26</td>\n",
       "      <td>0</td>\n",
       "      <td>NaN</td>\n",
       "      <td>41</td>\n",
       "      <td>среднее</td>\n",
       "      <td>1</td>\n",
       "      <td>женат / замужем</td>\n",
       "      <td>0</td>\n",
       "      <td>M</td>\n",
       "      <td>госслужащий</td>\n",
       "      <td>0</td>\n",
       "      <td>NaN</td>\n",
       "      <td>образование</td>\n",
       "    </tr>\n",
       "    <tr>\n",
       "      <td>29</td>\n",
       "      <td>0</td>\n",
       "      <td>NaN</td>\n",
       "      <td>63</td>\n",
       "      <td>среднее</td>\n",
       "      <td>1</td>\n",
       "      <td>Не женат / не замужем</td>\n",
       "      <td>4</td>\n",
       "      <td>F</td>\n",
       "      <td>пенсионер</td>\n",
       "      <td>0</td>\n",
       "      <td>NaN</td>\n",
       "      <td>строительство жилой недвижимости</td>\n",
       "    </tr>\n",
       "    <tr>\n",
       "      <td>41</td>\n",
       "      <td>0</td>\n",
       "      <td>NaN</td>\n",
       "      <td>50</td>\n",
       "      <td>среднее</td>\n",
       "      <td>1</td>\n",
       "      <td>женат / замужем</td>\n",
       "      <td>0</td>\n",
       "      <td>F</td>\n",
       "      <td>госслужащий</td>\n",
       "      <td>0</td>\n",
       "      <td>NaN</td>\n",
       "      <td>сделка с подержанным автомобилем</td>\n",
       "    </tr>\n",
       "    <tr>\n",
       "      <td>55</td>\n",
       "      <td>0</td>\n",
       "      <td>NaN</td>\n",
       "      <td>54</td>\n",
       "      <td>среднее</td>\n",
       "      <td>1</td>\n",
       "      <td>гражданский брак</td>\n",
       "      <td>1</td>\n",
       "      <td>F</td>\n",
       "      <td>пенсионер</td>\n",
       "      <td>1</td>\n",
       "      <td>NaN</td>\n",
       "      <td>сыграть свадьбу</td>\n",
       "    </tr>\n",
       "    <tr>\n",
       "      <td>65</td>\n",
       "      <td>0</td>\n",
       "      <td>NaN</td>\n",
       "      <td>21</td>\n",
       "      <td>среднее</td>\n",
       "      <td>1</td>\n",
       "      <td>Не женат / не замужем</td>\n",
       "      <td>4</td>\n",
       "      <td>M</td>\n",
       "      <td>компаньон</td>\n",
       "      <td>0</td>\n",
       "      <td>NaN</td>\n",
       "      <td>операции с коммерческой недвижимостью</td>\n",
       "    </tr>\n",
       "    <tr>\n",
       "      <td>67</td>\n",
       "      <td>0</td>\n",
       "      <td>NaN</td>\n",
       "      <td>52</td>\n",
       "      <td>высшее</td>\n",
       "      <td>0</td>\n",
       "      <td>женат / замужем</td>\n",
       "      <td>0</td>\n",
       "      <td>F</td>\n",
       "      <td>пенсионер</td>\n",
       "      <td>0</td>\n",
       "      <td>NaN</td>\n",
       "      <td>покупка жилья для семьи</td>\n",
       "    </tr>\n",
       "    <tr>\n",
       "      <td>72</td>\n",
       "      <td>1</td>\n",
       "      <td>NaN</td>\n",
       "      <td>32</td>\n",
       "      <td>высшее</td>\n",
       "      <td>0</td>\n",
       "      <td>женат / замужем</td>\n",
       "      <td>0</td>\n",
       "      <td>M</td>\n",
       "      <td>госслужащий</td>\n",
       "      <td>0</td>\n",
       "      <td>NaN</td>\n",
       "      <td>операции с коммерческой недвижимостью</td>\n",
       "    </tr>\n",
       "    <tr>\n",
       "      <td>82</td>\n",
       "      <td>2</td>\n",
       "      <td>NaN</td>\n",
       "      <td>50</td>\n",
       "      <td>высшее</td>\n",
       "      <td>0</td>\n",
       "      <td>женат / замужем</td>\n",
       "      <td>0</td>\n",
       "      <td>F</td>\n",
       "      <td>сотрудник</td>\n",
       "      <td>0</td>\n",
       "      <td>NaN</td>\n",
       "      <td>жилье</td>\n",
       "    </tr>\n",
       "    <tr>\n",
       "      <td>83</td>\n",
       "      <td>0</td>\n",
       "      <td>NaN</td>\n",
       "      <td>52</td>\n",
       "      <td>среднее</td>\n",
       "      <td>1</td>\n",
       "      <td>женат / замужем</td>\n",
       "      <td>0</td>\n",
       "      <td>M</td>\n",
       "      <td>сотрудник</td>\n",
       "      <td>0</td>\n",
       "      <td>NaN</td>\n",
       "      <td>жилье</td>\n",
       "    </tr>\n",
       "    <tr>\n",
       "      <td>90</td>\n",
       "      <td>2</td>\n",
       "      <td>NaN</td>\n",
       "      <td>35</td>\n",
       "      <td>высшее</td>\n",
       "      <td>0</td>\n",
       "      <td>женат / замужем</td>\n",
       "      <td>0</td>\n",
       "      <td>F</td>\n",
       "      <td>сотрудник</td>\n",
       "      <td>0</td>\n",
       "      <td>NaN</td>\n",
       "      <td>операции с жильем</td>\n",
       "    </tr>\n",
       "    <tr>\n",
       "      <td>94</td>\n",
       "      <td>1</td>\n",
       "      <td>NaN</td>\n",
       "      <td>34</td>\n",
       "      <td>высшее</td>\n",
       "      <td>0</td>\n",
       "      <td>гражданский брак</td>\n",
       "      <td>1</td>\n",
       "      <td>F</td>\n",
       "      <td>компаньон</td>\n",
       "      <td>0</td>\n",
       "      <td>NaN</td>\n",
       "      <td>на проведение свадьбы</td>\n",
       "    </tr>\n",
       "    <tr>\n",
       "      <td>96</td>\n",
       "      <td>0</td>\n",
       "      <td>NaN</td>\n",
       "      <td>44</td>\n",
       "      <td>СРЕДНЕЕ</td>\n",
       "      <td>1</td>\n",
       "      <td>женат / замужем</td>\n",
       "      <td>0</td>\n",
       "      <td>F</td>\n",
       "      <td>сотрудник</td>\n",
       "      <td>0</td>\n",
       "      <td>NaN</td>\n",
       "      <td>покупка жилой недвижимости</td>\n",
       "    </tr>\n",
       "    <tr>\n",
       "      <td>97</td>\n",
       "      <td>0</td>\n",
       "      <td>NaN</td>\n",
       "      <td>47</td>\n",
       "      <td>высшее</td>\n",
       "      <td>0</td>\n",
       "      <td>женат / замужем</td>\n",
       "      <td>0</td>\n",
       "      <td>F</td>\n",
       "      <td>сотрудник</td>\n",
       "      <td>0</td>\n",
       "      <td>NaN</td>\n",
       "      <td>профильное образование</td>\n",
       "    </tr>\n",
       "    <tr>\n",
       "      <td>120</td>\n",
       "      <td>0</td>\n",
       "      <td>NaN</td>\n",
       "      <td>46</td>\n",
       "      <td>среднее</td>\n",
       "      <td>1</td>\n",
       "      <td>женат / замужем</td>\n",
       "      <td>0</td>\n",
       "      <td>F</td>\n",
       "      <td>сотрудник</td>\n",
       "      <td>0</td>\n",
       "      <td>NaN</td>\n",
       "      <td>высшее образование</td>\n",
       "    </tr>\n",
       "  </tbody>\n",
       "</table>\n",
       "</div>"
      ],
      "text/plain": [
       "     children  days_employed  dob_years education  education_id  \\\n",
       "12          0            NaN         65   среднее             1   \n",
       "26          0            NaN         41   среднее             1   \n",
       "29          0            NaN         63   среднее             1   \n",
       "41          0            NaN         50   среднее             1   \n",
       "55          0            NaN         54   среднее             1   \n",
       "65          0            NaN         21   среднее             1   \n",
       "67          0            NaN         52    высшее             0   \n",
       "72          1            NaN         32    высшее             0   \n",
       "82          2            NaN         50    высшее             0   \n",
       "83          0            NaN         52   среднее             1   \n",
       "90          2            NaN         35    высшее             0   \n",
       "94          1            NaN         34    высшее             0   \n",
       "96          0            NaN         44   СРЕДНЕЕ             1   \n",
       "97          0            NaN         47    высшее             0   \n",
       "120         0            NaN         46   среднее             1   \n",
       "\n",
       "             family_status  family_status_id gender  income_type  debt  \\\n",
       "12        гражданский брак                 1      M    пенсионер     0   \n",
       "26         женат / замужем                 0      M  госслужащий     0   \n",
       "29   Не женат / не замужем                 4      F    пенсионер     0   \n",
       "41         женат / замужем                 0      F  госслужащий     0   \n",
       "55        гражданский брак                 1      F    пенсионер     1   \n",
       "65   Не женат / не замужем                 4      M    компаньон     0   \n",
       "67         женат / замужем                 0      F    пенсионер     0   \n",
       "72         женат / замужем                 0      M  госслужащий     0   \n",
       "82         женат / замужем                 0      F    сотрудник     0   \n",
       "83         женат / замужем                 0      M    сотрудник     0   \n",
       "90         женат / замужем                 0      F    сотрудник     0   \n",
       "94        гражданский брак                 1      F    компаньон     0   \n",
       "96         женат / замужем                 0      F    сотрудник     0   \n",
       "97         женат / замужем                 0      F    сотрудник     0   \n",
       "120        женат / замужем                 0      F    сотрудник     0   \n",
       "\n",
       "     total_income                                purpose  \n",
       "12            NaN                        сыграть свадьбу  \n",
       "26            NaN                            образование  \n",
       "29            NaN       строительство жилой недвижимости  \n",
       "41            NaN       сделка с подержанным автомобилем  \n",
       "55            NaN                        сыграть свадьбу  \n",
       "65            NaN  операции с коммерческой недвижимостью  \n",
       "67            NaN                покупка жилья для семьи  \n",
       "72            NaN  операции с коммерческой недвижимостью  \n",
       "82            NaN                                  жилье  \n",
       "83            NaN                                  жилье  \n",
       "90            NaN                      операции с жильем  \n",
       "94            NaN                  на проведение свадьбы  \n",
       "96            NaN             покупка жилой недвижимости  \n",
       "97            NaN                 профильное образование  \n",
       "120           NaN                     высшее образование  "
      ]
     },
     "execution_count": 3,
     "metadata": {},
     "output_type": "execute_result"
    }
   ],
   "source": [
    "people_with_nan = data[data['days_employed'].isna()]\n",
    "people_with_nan.head(15)"
   ]
  },
  {
   "cell_type": "markdown",
   "metadata": {},
   "source": [
    "Для начала сгруппирую людей без стажа и дохода в отдельный датафрейм. В срезе данных присутствую разные параметры. Значит зависимости отсутствия стажа и дохода от других параметров нет. Моя гипотеза не подтвердилась. Скорей всего пропуски допущены по технологическим причинам. Прежде чем обрабатывать пропуски, проверю значение в колонках в общем датафрейме на предмет ошибок значений."
   ]
  },
  {
   "cell_type": "code",
   "execution_count": 4,
   "metadata": {},
   "outputs": [
    {
     "data": {
      "text/html": [
       "<div>\n",
       "<style scoped>\n",
       "    .dataframe tbody tr th:only-of-type {\n",
       "        vertical-align: middle;\n",
       "    }\n",
       "\n",
       "    .dataframe tbody tr th {\n",
       "        vertical-align: top;\n",
       "    }\n",
       "\n",
       "    .dataframe thead th {\n",
       "        text-align: right;\n",
       "    }\n",
       "</style>\n",
       "<table border=\"1\" class=\"dataframe\">\n",
       "  <thead>\n",
       "    <tr style=\"text-align: right;\">\n",
       "      <th></th>\n",
       "      <th>children</th>\n",
       "      <th>days_employed</th>\n",
       "      <th>dob_years</th>\n",
       "      <th>education</th>\n",
       "      <th>education_id</th>\n",
       "      <th>family_status</th>\n",
       "      <th>family_status_id</th>\n",
       "      <th>gender</th>\n",
       "      <th>income_type</th>\n",
       "      <th>debt</th>\n",
       "      <th>total_income</th>\n",
       "      <th>purpose</th>\n",
       "    </tr>\n",
       "  </thead>\n",
       "  <tbody>\n",
       "    <tr>\n",
       "      <td>0</td>\n",
       "      <td>1</td>\n",
       "      <td>-8437.673028</td>\n",
       "      <td>42</td>\n",
       "      <td>высшее</td>\n",
       "      <td>0</td>\n",
       "      <td>женат / замужем</td>\n",
       "      <td>0</td>\n",
       "      <td>F</td>\n",
       "      <td>сотрудник</td>\n",
       "      <td>0</td>\n",
       "      <td>253875.639453</td>\n",
       "      <td>покупка жилья</td>\n",
       "    </tr>\n",
       "    <tr>\n",
       "      <td>1</td>\n",
       "      <td>1</td>\n",
       "      <td>-4024.803754</td>\n",
       "      <td>36</td>\n",
       "      <td>среднее</td>\n",
       "      <td>1</td>\n",
       "      <td>женат / замужем</td>\n",
       "      <td>0</td>\n",
       "      <td>F</td>\n",
       "      <td>сотрудник</td>\n",
       "      <td>0</td>\n",
       "      <td>112080.014102</td>\n",
       "      <td>приобретение автомобиля</td>\n",
       "    </tr>\n",
       "    <tr>\n",
       "      <td>2</td>\n",
       "      <td>0</td>\n",
       "      <td>-5623.422610</td>\n",
       "      <td>33</td>\n",
       "      <td>Среднее</td>\n",
       "      <td>1</td>\n",
       "      <td>женат / замужем</td>\n",
       "      <td>0</td>\n",
       "      <td>M</td>\n",
       "      <td>сотрудник</td>\n",
       "      <td>0</td>\n",
       "      <td>145885.952297</td>\n",
       "      <td>покупка жилья</td>\n",
       "    </tr>\n",
       "    <tr>\n",
       "      <td>3</td>\n",
       "      <td>3</td>\n",
       "      <td>-4124.747207</td>\n",
       "      <td>32</td>\n",
       "      <td>среднее</td>\n",
       "      <td>1</td>\n",
       "      <td>женат / замужем</td>\n",
       "      <td>0</td>\n",
       "      <td>M</td>\n",
       "      <td>сотрудник</td>\n",
       "      <td>0</td>\n",
       "      <td>267628.550329</td>\n",
       "      <td>дополнительное образование</td>\n",
       "    </tr>\n",
       "    <tr>\n",
       "      <td>4</td>\n",
       "      <td>0</td>\n",
       "      <td>340266.072047</td>\n",
       "      <td>53</td>\n",
       "      <td>среднее</td>\n",
       "      <td>1</td>\n",
       "      <td>гражданский брак</td>\n",
       "      <td>1</td>\n",
       "      <td>F</td>\n",
       "      <td>пенсионер</td>\n",
       "      <td>0</td>\n",
       "      <td>158616.077870</td>\n",
       "      <td>сыграть свадьбу</td>\n",
       "    </tr>\n",
       "  </tbody>\n",
       "</table>\n",
       "</div>"
      ],
      "text/plain": [
       "   children  days_employed  dob_years education  education_id  \\\n",
       "0         1   -8437.673028         42    высшее             0   \n",
       "1         1   -4024.803754         36   среднее             1   \n",
       "2         0   -5623.422610         33   Среднее             1   \n",
       "3         3   -4124.747207         32   среднее             1   \n",
       "4         0  340266.072047         53   среднее             1   \n",
       "\n",
       "      family_status  family_status_id gender income_type  debt   total_income  \\\n",
       "0   женат / замужем                 0      F   сотрудник     0  253875.639453   \n",
       "1   женат / замужем                 0      F   сотрудник     0  112080.014102   \n",
       "2   женат / замужем                 0      M   сотрудник     0  145885.952297   \n",
       "3   женат / замужем                 0      M   сотрудник     0  267628.550329   \n",
       "4  гражданский брак                 1      F   пенсионер     0  158616.077870   \n",
       "\n",
       "                      purpose  \n",
       "0               покупка жилья  \n",
       "1     приобретение автомобиля  \n",
       "2               покупка жилья  \n",
       "3  дополнительное образование  \n",
       "4             сыграть свадьбу  "
      ]
     },
     "execution_count": 4,
     "metadata": {},
     "output_type": "execute_result"
    }
   ],
   "source": [
    "data.head()"
   ]
  },
  {
   "cell_type": "markdown",
   "metadata": {},
   "source": [
    "В колонках кроме пропусков присутствуют отрицательные значения. Понятие отрицательного стажа не существует, вероятно, что данные были перенесены в таблицу со знаком минус ошибочно. Возможно подобная ошибка есть и в других количественных значениях. Избавимся от отрицательного знака во всеx числовых значениях, и приведем все текстовые записи к единому регистру."
   ]
  },
  {
   "cell_type": "code",
   "execution_count": 5,
   "metadata": {},
   "outputs": [
    {
     "data": {
      "text/html": [
       "<div>\n",
       "<style scoped>\n",
       "    .dataframe tbody tr th:only-of-type {\n",
       "        vertical-align: middle;\n",
       "    }\n",
       "\n",
       "    .dataframe tbody tr th {\n",
       "        vertical-align: top;\n",
       "    }\n",
       "\n",
       "    .dataframe thead th {\n",
       "        text-align: right;\n",
       "    }\n",
       "</style>\n",
       "<table border=\"1\" class=\"dataframe\">\n",
       "  <thead>\n",
       "    <tr style=\"text-align: right;\">\n",
       "      <th></th>\n",
       "      <th>children</th>\n",
       "      <th>days_employed</th>\n",
       "      <th>dob_years</th>\n",
       "      <th>education</th>\n",
       "      <th>education_id</th>\n",
       "      <th>family_status</th>\n",
       "      <th>family_status_id</th>\n",
       "      <th>gender</th>\n",
       "      <th>income_type</th>\n",
       "      <th>debt</th>\n",
       "      <th>total_income</th>\n",
       "      <th>purpose</th>\n",
       "    </tr>\n",
       "  </thead>\n",
       "  <tbody>\n",
       "    <tr>\n",
       "      <td>0</td>\n",
       "      <td>1</td>\n",
       "      <td>8437.673028</td>\n",
       "      <td>42</td>\n",
       "      <td>высшее</td>\n",
       "      <td>0</td>\n",
       "      <td>женат / замужем</td>\n",
       "      <td>0</td>\n",
       "      <td>f</td>\n",
       "      <td>сотрудник</td>\n",
       "      <td>0</td>\n",
       "      <td>253875.639453</td>\n",
       "      <td>покупка жилья</td>\n",
       "    </tr>\n",
       "    <tr>\n",
       "      <td>1</td>\n",
       "      <td>1</td>\n",
       "      <td>4024.803754</td>\n",
       "      <td>36</td>\n",
       "      <td>среднее</td>\n",
       "      <td>1</td>\n",
       "      <td>женат / замужем</td>\n",
       "      <td>0</td>\n",
       "      <td>f</td>\n",
       "      <td>сотрудник</td>\n",
       "      <td>0</td>\n",
       "      <td>112080.014102</td>\n",
       "      <td>приобретение автомобиля</td>\n",
       "    </tr>\n",
       "    <tr>\n",
       "      <td>2</td>\n",
       "      <td>0</td>\n",
       "      <td>5623.422610</td>\n",
       "      <td>33</td>\n",
       "      <td>среднее</td>\n",
       "      <td>1</td>\n",
       "      <td>женат / замужем</td>\n",
       "      <td>0</td>\n",
       "      <td>m</td>\n",
       "      <td>сотрудник</td>\n",
       "      <td>0</td>\n",
       "      <td>145885.952297</td>\n",
       "      <td>покупка жилья</td>\n",
       "    </tr>\n",
       "    <tr>\n",
       "      <td>3</td>\n",
       "      <td>3</td>\n",
       "      <td>4124.747207</td>\n",
       "      <td>32</td>\n",
       "      <td>среднее</td>\n",
       "      <td>1</td>\n",
       "      <td>женат / замужем</td>\n",
       "      <td>0</td>\n",
       "      <td>m</td>\n",
       "      <td>сотрудник</td>\n",
       "      <td>0</td>\n",
       "      <td>267628.550329</td>\n",
       "      <td>дополнительное образование</td>\n",
       "    </tr>\n",
       "    <tr>\n",
       "      <td>4</td>\n",
       "      <td>0</td>\n",
       "      <td>340266.072047</td>\n",
       "      <td>53</td>\n",
       "      <td>среднее</td>\n",
       "      <td>1</td>\n",
       "      <td>гражданский брак</td>\n",
       "      <td>1</td>\n",
       "      <td>f</td>\n",
       "      <td>пенсионер</td>\n",
       "      <td>0</td>\n",
       "      <td>158616.077870</td>\n",
       "      <td>сыграть свадьбу</td>\n",
       "    </tr>\n",
       "  </tbody>\n",
       "</table>\n",
       "</div>"
      ],
      "text/plain": [
       "   children  days_employed  dob_years education  education_id  \\\n",
       "0         1    8437.673028         42    высшее             0   \n",
       "1         1    4024.803754         36   среднее             1   \n",
       "2         0    5623.422610         33   среднее             1   \n",
       "3         3    4124.747207         32   среднее             1   \n",
       "4         0  340266.072047         53   среднее             1   \n",
       "\n",
       "      family_status  family_status_id gender income_type  debt   total_income  \\\n",
       "0   женат / замужем                 0      f   сотрудник     0  253875.639453   \n",
       "1   женат / замужем                 0      f   сотрудник     0  112080.014102   \n",
       "2   женат / замужем                 0      m   сотрудник     0  145885.952297   \n",
       "3   женат / замужем                 0      m   сотрудник     0  267628.550329   \n",
       "4  гражданский брак                 1      f   пенсионер     0  158616.077870   \n",
       "\n",
       "                      purpose  \n",
       "0               покупка жилья  \n",
       "1     приобретение автомобиля  \n",
       "2               покупка жилья  \n",
       "3  дополнительное образование  \n",
       "4             сыграть свадьбу  "
      ]
     },
     "execution_count": 5,
     "metadata": {},
     "output_type": "execute_result"
    }
   ],
   "source": [
    "for column in data.columns:\n",
    "    if data[column].dtypes == object:\n",
    "        data[column] = data[column].str.lower()\n",
    "    if (data[column].dtypes == 'int64') or (data[column].dtypes == 'float64'):\n",
    "        data[column] = abs(data[column])\n",
    "data.head()\n"
   ]
  },
  {
   "cell_type": "markdown",
   "metadata": {},
   "source": [
    "При просмотре трудового стажа обнаружены записи, чьи значения превышают возраст человеческой жизни.\n",
    "Возможно при заполнение была допущена ошибка в постановке разряда.\n",
    "По статистике максимальный трудовой стаж составляет 20 лет или 7300 дней.\n",
    "Это 4 разряда.\n",
    "Найдем все записи, значение которых больше этого показателя, и переведем в допустимый разряд."
   ]
  },
  {
   "cell_type": "code",
   "execution_count": 6,
   "metadata": {},
   "outputs": [
    {
     "data": {
      "text/html": [
       "<div>\n",
       "<style scoped>\n",
       "    .dataframe tbody tr th:only-of-type {\n",
       "        vertical-align: middle;\n",
       "    }\n",
       "\n",
       "    .dataframe tbody tr th {\n",
       "        vertical-align: top;\n",
       "    }\n",
       "\n",
       "    .dataframe thead th {\n",
       "        text-align: right;\n",
       "    }\n",
       "</style>\n",
       "<table border=\"1\" class=\"dataframe\">\n",
       "  <thead>\n",
       "    <tr style=\"text-align: right;\">\n",
       "      <th></th>\n",
       "      <th>children</th>\n",
       "      <th>days_employed</th>\n",
       "      <th>dob_years</th>\n",
       "      <th>education</th>\n",
       "      <th>education_id</th>\n",
       "      <th>family_status</th>\n",
       "      <th>family_status_id</th>\n",
       "      <th>gender</th>\n",
       "      <th>income_type</th>\n",
       "      <th>debt</th>\n",
       "      <th>total_income</th>\n",
       "      <th>purpose</th>\n",
       "    </tr>\n",
       "  </thead>\n",
       "  <tbody>\n",
       "    <tr>\n",
       "      <td>0</td>\n",
       "      <td>1</td>\n",
       "      <td>8437.673028</td>\n",
       "      <td>42</td>\n",
       "      <td>высшее</td>\n",
       "      <td>0</td>\n",
       "      <td>женат / замужем</td>\n",
       "      <td>0</td>\n",
       "      <td>f</td>\n",
       "      <td>сотрудник</td>\n",
       "      <td>0</td>\n",
       "      <td>253875.639453</td>\n",
       "      <td>покупка жилья</td>\n",
       "    </tr>\n",
       "    <tr>\n",
       "      <td>1</td>\n",
       "      <td>1</td>\n",
       "      <td>4024.803754</td>\n",
       "      <td>36</td>\n",
       "      <td>среднее</td>\n",
       "      <td>1</td>\n",
       "      <td>женат / замужем</td>\n",
       "      <td>0</td>\n",
       "      <td>f</td>\n",
       "      <td>сотрудник</td>\n",
       "      <td>0</td>\n",
       "      <td>112080.014102</td>\n",
       "      <td>приобретение автомобиля</td>\n",
       "    </tr>\n",
       "    <tr>\n",
       "      <td>2</td>\n",
       "      <td>0</td>\n",
       "      <td>5623.422610</td>\n",
       "      <td>33</td>\n",
       "      <td>среднее</td>\n",
       "      <td>1</td>\n",
       "      <td>женат / замужем</td>\n",
       "      <td>0</td>\n",
       "      <td>m</td>\n",
       "      <td>сотрудник</td>\n",
       "      <td>0</td>\n",
       "      <td>145885.952297</td>\n",
       "      <td>покупка жилья</td>\n",
       "    </tr>\n",
       "    <tr>\n",
       "      <td>3</td>\n",
       "      <td>3</td>\n",
       "      <td>4124.747207</td>\n",
       "      <td>32</td>\n",
       "      <td>среднее</td>\n",
       "      <td>1</td>\n",
       "      <td>женат / замужем</td>\n",
       "      <td>0</td>\n",
       "      <td>m</td>\n",
       "      <td>сотрудник</td>\n",
       "      <td>0</td>\n",
       "      <td>267628.550329</td>\n",
       "      <td>дополнительное образование</td>\n",
       "    </tr>\n",
       "    <tr>\n",
       "      <td>4</td>\n",
       "      <td>0</td>\n",
       "      <td>3402.660720</td>\n",
       "      <td>53</td>\n",
       "      <td>среднее</td>\n",
       "      <td>1</td>\n",
       "      <td>гражданский брак</td>\n",
       "      <td>1</td>\n",
       "      <td>f</td>\n",
       "      <td>пенсионер</td>\n",
       "      <td>0</td>\n",
       "      <td>158616.077870</td>\n",
       "      <td>сыграть свадьбу</td>\n",
       "    </tr>\n",
       "  </tbody>\n",
       "</table>\n",
       "</div>"
      ],
      "text/plain": [
       "   children  days_employed  dob_years education  education_id  \\\n",
       "0         1    8437.673028         42    высшее             0   \n",
       "1         1    4024.803754         36   среднее             1   \n",
       "2         0    5623.422610         33   среднее             1   \n",
       "3         3    4124.747207         32   среднее             1   \n",
       "4         0    3402.660720         53   среднее             1   \n",
       "\n",
       "      family_status  family_status_id gender income_type  debt   total_income  \\\n",
       "0   женат / замужем                 0      f   сотрудник     0  253875.639453   \n",
       "1   женат / замужем                 0      f   сотрудник     0  112080.014102   \n",
       "2   женат / замужем                 0      m   сотрудник     0  145885.952297   \n",
       "3   женат / замужем                 0      m   сотрудник     0  267628.550329   \n",
       "4  гражданский брак                 1      f   пенсионер     0  158616.077870   \n",
       "\n",
       "                      purpose  \n",
       "0               покупка жилья  \n",
       "1     приобретение автомобиля  \n",
       "2               покупка жилья  \n",
       "3  дополнительное образование  \n",
       "4             сыграть свадьбу  "
      ]
     },
     "execution_count": 6,
     "metadata": {},
     "output_type": "execute_result"
    }
   ],
   "source": [
    "df_with_days_employed = data[data['days_employed'] > 20000]\n",
    "for val in df_with_days_employed['days_employed']:\n",
    "    if len(set(str(val))) > 4:\n",
    "        new_val = val / 100\n",
    "        data['days_employed'] = data['days_employed'].replace(val, new_val)\n",
    "data.head()"
   ]
  },
  {
   "cell_type": "markdown",
   "metadata": {},
   "source": [
    "Проверим колонку с возрастом."
   ]
  },
  {
   "cell_type": "code",
   "execution_count": 7,
   "metadata": {},
   "outputs": [
    {
     "data": {
      "text/plain": [
       "0    101\n",
       "Name: dob_years, dtype: int64"
      ]
     },
     "execution_count": 7,
     "metadata": {},
     "output_type": "execute_result"
    }
   ],
   "source": [
    "age_with_error = data[(data['dob_years'] <= 0) | (data['dob_years'] > 80)]\n",
    "age_with_error['dob_years'].value_counts()"
   ]
  },
  {
   "cell_type": "markdown",
   "metadata": {},
   "source": [
    "В колонку присутствуют нулевые значения,  всего их 101  запись.\n",
    "Учитывая большую вариативность параметров, не вижу возможным корректно заполнить данный пропуск.\n",
    "Исходя из отношения количества нулевых записей к общему, удаление таких данных не повлияет на дальнейшие расчеты."
   ]
  },
  {
   "cell_type": "code",
   "execution_count": 8,
   "metadata": {},
   "outputs": [],
   "source": [
    "data = data[data.dob_years != 0]"
   ]
  },
  {
   "cell_type": "markdown",
   "metadata": {},
   "source": [
    "Заполним пропуски в колонках со стажем и доходом медианным значением.\n",
    "Пропуски поделим по группам, основанным на типе занятости.\n",
    "Каждой группе по типу занятости будет соответствовать свое медианное значение."
   ]
  },
  {
   "cell_type": "code",
   "execution_count": 9,
   "metadata": {},
   "outputs": [
    {
     "data": {
      "text/html": [
       "<div>\n",
       "<style scoped>\n",
       "    .dataframe tbody tr th:only-of-type {\n",
       "        vertical-align: middle;\n",
       "    }\n",
       "\n",
       "    .dataframe tbody tr th {\n",
       "        vertical-align: top;\n",
       "    }\n",
       "\n",
       "    .dataframe thead th {\n",
       "        text-align: right;\n",
       "    }\n",
       "</style>\n",
       "<table border=\"1\" class=\"dataframe\">\n",
       "  <thead>\n",
       "    <tr style=\"text-align: right;\">\n",
       "      <th></th>\n",
       "      <th>children</th>\n",
       "      <th>days_employed</th>\n",
       "      <th>dob_years</th>\n",
       "      <th>education_id</th>\n",
       "      <th>family_status_id</th>\n",
       "      <th>debt</th>\n",
       "      <th>total_income</th>\n",
       "      <th>income_type_id</th>\n",
       "    </tr>\n",
       "  </thead>\n",
       "  <tbody>\n",
       "    <tr>\n",
       "      <td>children</td>\n",
       "      <td>1.000000</td>\n",
       "      <td>-0.068430</td>\n",
       "      <td>-0.179248</td>\n",
       "      <td>-0.013002</td>\n",
       "      <td>-0.091234</td>\n",
       "      <td>0.018239</td>\n",
       "      <td>0.017571</td>\n",
       "      <td>0.123174</td>\n",
       "    </tr>\n",
       "    <tr>\n",
       "      <td>days_employed</td>\n",
       "      <td>-0.068430</td>\n",
       "      <td>1.000000</td>\n",
       "      <td>0.382115</td>\n",
       "      <td>0.004821</td>\n",
       "      <td>-0.066990</td>\n",
       "      <td>-0.075188</td>\n",
       "      <td>-0.006106</td>\n",
       "      <td>-0.256665</td>\n",
       "    </tr>\n",
       "    <tr>\n",
       "      <td>dob_years</td>\n",
       "      <td>-0.179248</td>\n",
       "      <td>0.382115</td>\n",
       "      <td>1.000000</td>\n",
       "      <td>0.065190</td>\n",
       "      <td>-0.069103</td>\n",
       "      <td>-0.071919</td>\n",
       "      <td>-0.055998</td>\n",
       "      <td>-0.562510</td>\n",
       "    </tr>\n",
       "    <tr>\n",
       "      <td>education_id</td>\n",
       "      <td>-0.013002</td>\n",
       "      <td>0.004821</td>\n",
       "      <td>0.065190</td>\n",
       "      <td>1.000000</td>\n",
       "      <td>0.009357</td>\n",
       "      <td>0.052633</td>\n",
       "      <td>-0.179046</td>\n",
       "      <td>-0.090409</td>\n",
       "    </tr>\n",
       "    <tr>\n",
       "      <td>family_status_id</td>\n",
       "      <td>-0.091234</td>\n",
       "      <td>-0.066990</td>\n",
       "      <td>-0.069103</td>\n",
       "      <td>0.009357</td>\n",
       "      <td>1.000000</td>\n",
       "      <td>0.020950</td>\n",
       "      <td>-0.008970</td>\n",
       "      <td>0.008447</td>\n",
       "    </tr>\n",
       "    <tr>\n",
       "      <td>debt</td>\n",
       "      <td>0.018239</td>\n",
       "      <td>-0.075188</td>\n",
       "      <td>-0.071919</td>\n",
       "      <td>0.052633</td>\n",
       "      <td>0.020950</td>\n",
       "      <td>1.000000</td>\n",
       "      <td>-0.012421</td>\n",
       "      <td>0.035592</td>\n",
       "    </tr>\n",
       "    <tr>\n",
       "      <td>total_income</td>\n",
       "      <td>0.017571</td>\n",
       "      <td>-0.006106</td>\n",
       "      <td>-0.055998</td>\n",
       "      <td>-0.179046</td>\n",
       "      <td>-0.008970</td>\n",
       "      <td>-0.012421</td>\n",
       "      <td>1.000000</td>\n",
       "      <td>0.177075</td>\n",
       "    </tr>\n",
       "    <tr>\n",
       "      <td>income_type_id</td>\n",
       "      <td>0.123174</td>\n",
       "      <td>-0.256665</td>\n",
       "      <td>-0.562510</td>\n",
       "      <td>-0.090409</td>\n",
       "      <td>0.008447</td>\n",
       "      <td>0.035592</td>\n",
       "      <td>0.177075</td>\n",
       "      <td>1.000000</td>\n",
       "    </tr>\n",
       "  </tbody>\n",
       "</table>\n",
       "</div>"
      ],
      "text/plain": [
       "                  children  days_employed  dob_years  education_id  \\\n",
       "children          1.000000      -0.068430  -0.179248     -0.013002   \n",
       "days_employed    -0.068430       1.000000   0.382115      0.004821   \n",
       "dob_years        -0.179248       0.382115   1.000000      0.065190   \n",
       "education_id     -0.013002       0.004821   0.065190      1.000000   \n",
       "family_status_id -0.091234      -0.066990  -0.069103      0.009357   \n",
       "debt              0.018239      -0.075188  -0.071919      0.052633   \n",
       "total_income      0.017571      -0.006106  -0.055998     -0.179046   \n",
       "income_type_id    0.123174      -0.256665  -0.562510     -0.090409   \n",
       "\n",
       "                  family_status_id      debt  total_income  income_type_id  \n",
       "children                 -0.091234  0.018239      0.017571        0.123174  \n",
       "days_employed            -0.066990 -0.075188     -0.006106       -0.256665  \n",
       "dob_years                -0.069103 -0.071919     -0.055998       -0.562510  \n",
       "education_id              0.009357  0.052633     -0.179046       -0.090409  \n",
       "family_status_id          1.000000  0.020950     -0.008970        0.008447  \n",
       "debt                      0.020950  1.000000     -0.012421        0.035592  \n",
       "total_income             -0.008970 -0.012421      1.000000        0.177075  \n",
       "income_type_id            0.008447  0.035592      0.177075        1.000000  "
      ]
     },
     "execution_count": 9,
     "metadata": {},
     "output_type": "execute_result"
    }
   ],
   "source": [
    "data['income_type_id'] = data['income_type'].map(\n",
    "    {'студент': 0, 'безработный': 1, 'пенсионер': 2,\n",
    "                    'в декрете':3, 'госслужащий': 4, 'сотрудник':5, 'компаньон':6, 'предприниматель':7} )\n",
    "data.corr()"
   ]
  },
  {
   "cell_type": "code",
   "execution_count": 10,
   "metadata": {},
   "outputs": [
    {
     "name": "stdout",
     "output_type": "stream",
     "text": [
      "Количество пропусков в колонке \"Трудовой стаж\" после обработки -  0 \n",
      "\n",
      "Количество пропусков в колонке \"Ежемесячный доход\" после обработки -  0 \n",
      "\n"
     ]
    }
   ],
   "source": [
    "income_type = data[data['days_employed'].isna()]['income_type'].unique()\n",
    "for val in income_type:\n",
    "    median_for_total_income = data[data['income_type'] == val]['total_income'].median()\n",
    "    median_for_days_employed = data[data['income_type'] == val]['days_employed'].median()\n",
    "    data.loc[((data.income_type == val) & data.total_income.isna()), 'total_income'] = median_for_total_income\n",
    "    data.loc[((data.income_type == val) & data.days_employed.isna()), 'days_employed'] = median_for_days_employed\n",
    "    \n",
    "print('Количество пропусков в колонке \"Трудовой стаж\" после обработки - ', (data['days_employed'].isna().sum()), '\\n')\n",
    "print('Количество пропусков в колонке \"Ежемесячный доход\" после обработки - ', (data['total_income'].isna().sum()), '\\n')"
   ]
  },
  {
   "cell_type": "markdown",
   "metadata": {},
   "source": [
    "**Вывод**"
   ]
  },
  {
   "cell_type": "markdown",
   "metadata": {},
   "source": [
    "**Обработка пропусков в колонках \"Трудовой стаж\" и \"Ежемесячный доход\".**\n",
    "\n",
    "Пропуски в колонках могли быть связаны с технологической ошибкой.\n",
    "Для заполнения пропусков в количественных переменных было выбранно медианное значение. Ее велична расчитана для каждого типа занятости отдельно. Среднее значение не использовалось, потому что могло бы некорректно охарактеризовать данные, если некоторые значения сильно выдавались бы среди большинства."
   ]
  },
  {
   "cell_type": "markdown",
   "metadata": {},
   "source": [
    "### Замена типа данных"
   ]
  },
  {
   "cell_type": "code",
   "execution_count": 11,
   "metadata": {},
   "outputs": [
    {
     "data": {
      "text/plain": [
       "0    8437\n",
       "1    4024\n",
       "2    5623\n",
       "3    4124\n",
       "4    3402\n",
       "Name: days_employed, dtype: int64"
      ]
     },
     "execution_count": 11,
     "metadata": {},
     "output_type": "execute_result"
    }
   ],
   "source": [
    "data['days_employed'] = data['days_employed'].astype('int')\n",
    "data['days_employed'].head()"
   ]
  },
  {
   "cell_type": "markdown",
   "metadata": {},
   "source": [
    "**Вывод**"
   ]
  },
  {
   "cell_type": "markdown",
   "metadata": {},
   "source": [
    "**Замена типа данных в колонке \"Трудовой стаж\".**\n",
    "\n",
    "Вещественный тип данных был заменен на целочисленный, так как в зачет трудового стажа идут полностью отработанные года, месяца и дни. В нашем случае дни, поэтому все числа после запятой не будут иметь значения для расчета скоринга."
   ]
  },
  {
   "cell_type": "markdown",
   "metadata": {},
   "source": [
    "### Обработка дубликатов"
   ]
  },
  {
   "cell_type": "code",
   "execution_count": 12,
   "metadata": {},
   "outputs": [
    {
     "name": "stdout",
     "output_type": "stream",
     "text": [
      "Количетсво записей дубликатов -  71\n"
     ]
    }
   ],
   "source": [
    "print('Количетсво записей дубликатов - ',data.duplicated().sum())"
   ]
  },
  {
   "cell_type": "code",
   "execution_count": 13,
   "metadata": {},
   "outputs": [
    {
     "data": {
      "text/plain": [
       "(21353, 13)"
      ]
     },
     "execution_count": 13,
     "metadata": {},
     "output_type": "execute_result"
    }
   ],
   "source": [
    "data = data.drop_duplicates().reset_index(drop=True)\n",
    "data.shape"
   ]
  },
  {
   "cell_type": "markdown",
   "metadata": {},
   "source": [
    "**Вывод**"
   ]
  },
  {
   "cell_type": "markdown",
   "metadata": {},
   "source": [
    "**Обработка дубликатов.**\n",
    "\n",
    "Всего в дата фрейме была обнаружена 71 дублированная запись.\n",
    "Дублирующие записи могли появится в результате ошибки ввода( например, при копировании из разных таблиц содержащих одинаковые записи, либо схожие параметры у некоторых людей).\n",
    "Для обнаружения явных дубликатов использовался метод duplicated() + метод sum() для подсчета их количества.\n",
    "Для удаления дубликатов я использовал метод drop_duplicated() и метод resete_index с параметром drop=True.\n",
    "Такая связка позволит перезаписать датафрейм с обычным порядком индексов и без создания отдельной колонки со старыми индексами."
   ]
  },
  {
   "cell_type": "markdown",
   "metadata": {},
   "source": [
    "### Лемматизация"
   ]
  },
  {
   "cell_type": "markdown",
   "metadata": {},
   "source": [
    "Для начала посмотрим на значения в клонке \"Цель\"."
   ]
  },
  {
   "cell_type": "code",
   "execution_count": 14,
   "metadata": {},
   "outputs": [
    {
     "name": "stdout",
     "output_type": "stream",
     "text": [
      "['покупка жилья' 'приобретение автомобиля' 'дополнительное образование'\n",
      " 'сыграть свадьбу' 'операции с жильем' 'образование'\n",
      " 'на проведение свадьбы' 'покупка жилья для семьи' 'покупка недвижимости'\n",
      " 'покупка коммерческой недвижимости' 'покупка жилой недвижимости'\n",
      " 'строительство собственной недвижимости' 'недвижимость'\n",
      " 'строительство недвижимости' 'на покупку подержанного автомобиля'\n",
      " 'на покупку своего автомобиля' 'операции с коммерческой недвижимостью'\n",
      " 'строительство жилой недвижимости' 'жилье'\n",
      " 'операции со своей недвижимостью' 'автомобили' 'заняться образованием'\n",
      " 'сделка с подержанным автомобилем' 'получение образования' 'автомобиль'\n",
      " 'свадьба' 'получение дополнительного образования' 'покупка своего жилья'\n",
      " 'операции с недвижимостью' 'получение высшего образования'\n",
      " 'свой автомобиль' 'сделка с автомобилем' 'профильное образование'\n",
      " 'высшее образование' 'покупка жилья для сдачи' 'на покупку автомобиля'\n",
      " 'ремонт жилью' 'заняться высшим образованием']\n",
      "\n",
      "Всего уникальных значений -  38\n"
     ]
    }
   ],
   "source": [
    "unique_purposes = data['purpose'].unique()\n",
    "print(unique_purposes)\n",
    "print('\\nВсего уникальных значений - ',len(unique_purposes))"
   ]
  },
  {
   "cell_type": "markdown",
   "metadata": {},
   "source": [
    "Получено 38 уникальных значений.\n",
    "На первый взгляд это немного, но при поверхностном осмотре видно, что некоторые цели повторяются.То есть одна цель выражена разными словосочетаниями-синонимами.\n",
    "Посчитаем часто упоминающиеся цели, для этого лемматизирум каждое значение ( приведем к словарной форме), соеденим в общий список и с помощью метода Counter() посмотрим сколько раз повторяется каждое слово."
   ]
  },
  {
   "cell_type": "code",
   "execution_count": 15,
   "metadata": {},
   "outputs": [
    {
     "name": "stdout",
     "output_type": "stream",
     "text": [
      "Counter({' ': 59, 'покупка': 10, 'недвижимость': 10, 'автомобиль': 9, 'образование': 9, 'жилье': 7, 'с': 5, 'операция': 4, 'на': 4, 'свой': 4, 'свадьба': 3, 'строительство': 3, 'получение': 3, 'высокий': 3, 'дополнительный': 2, 'для': 2, 'коммерческий': 2, 'жилой': 2, 'заниматься': 2, 'сделка': 2, 'приобретение': 1, 'сыграть': 1, 'проведение': 1, 'семья': 1, 'собственный': 1, 'подержать': 1, 'со': 1, 'подержанный': 1, 'профильный': 1, 'сдача': 1, 'ремонт': 1})\n"
     ]
    }
   ],
   "source": [
    "from pymystem3 import Mystem\n",
    "from collections import Counter\n",
    "\n",
    "\n",
    "list_with_all_purposes = []\n",
    "m = Mystem()\n",
    "for purpose in unique_purposes:\n",
    "    lemmas = m.lemmatize(purpose)\n",
    "    lemmas.pop(-1)\n",
    "    list_with_all_purposes.extend(lemmas)\n",
    "print(Counter(list_with_all_purposes))\n"
   ]
  },
  {
   "cell_type": "markdown",
   "metadata": {},
   "source": [
    "В наборе присутствует слово и частота его повторения. Некоторыми способами можно удалить из списка с целями все глаголы , местоимения, в общем все кроме существительных( их я взял за основу как цель получения кредита). Но изящных и быстрых способов для такого процесса я не нашел. В связи с тем, что учебный массив небольшого размера, и действия по удалению \"лишнего\" займут много итераций, я в ручном режиме проанализировал и взял основные существительные-цели для составления функции. Она будет обрабатывать цель из колонки и вовзвращать отформатированное основное значение для новой колонки."
   ]
  },
  {
   "cell_type": "code",
   "execution_count": 16,
   "metadata": {
    "scrolled": true
   },
   "outputs": [
    {
     "data": {
      "text/html": [
       "<div>\n",
       "<style scoped>\n",
       "    .dataframe tbody tr th:only-of-type {\n",
       "        vertical-align: middle;\n",
       "    }\n",
       "\n",
       "    .dataframe tbody tr th {\n",
       "        vertical-align: top;\n",
       "    }\n",
       "\n",
       "    .dataframe thead th {\n",
       "        text-align: right;\n",
       "    }\n",
       "</style>\n",
       "<table border=\"1\" class=\"dataframe\">\n",
       "  <thead>\n",
       "    <tr style=\"text-align: right;\">\n",
       "      <th></th>\n",
       "      <th>children</th>\n",
       "      <th>days_employed</th>\n",
       "      <th>dob_years</th>\n",
       "      <th>education</th>\n",
       "      <th>education_id</th>\n",
       "      <th>family_status</th>\n",
       "      <th>family_status_id</th>\n",
       "      <th>gender</th>\n",
       "      <th>income_type</th>\n",
       "      <th>debt</th>\n",
       "      <th>total_income</th>\n",
       "      <th>purpose</th>\n",
       "      <th>income_type_id</th>\n",
       "      <th>target</th>\n",
       "    </tr>\n",
       "  </thead>\n",
       "  <tbody>\n",
       "    <tr>\n",
       "      <td>0</td>\n",
       "      <td>1</td>\n",
       "      <td>8437</td>\n",
       "      <td>42</td>\n",
       "      <td>высшее</td>\n",
       "      <td>0</td>\n",
       "      <td>женат / замужем</td>\n",
       "      <td>0</td>\n",
       "      <td>f</td>\n",
       "      <td>сотрудник</td>\n",
       "      <td>0</td>\n",
       "      <td>253875.639453</td>\n",
       "      <td>покупка жилья</td>\n",
       "      <td>5</td>\n",
       "      <td>недвижимость</td>\n",
       "    </tr>\n",
       "    <tr>\n",
       "      <td>1</td>\n",
       "      <td>1</td>\n",
       "      <td>4024</td>\n",
       "      <td>36</td>\n",
       "      <td>среднее</td>\n",
       "      <td>1</td>\n",
       "      <td>женат / замужем</td>\n",
       "      <td>0</td>\n",
       "      <td>f</td>\n",
       "      <td>сотрудник</td>\n",
       "      <td>0</td>\n",
       "      <td>112080.014102</td>\n",
       "      <td>приобретение автомобиля</td>\n",
       "      <td>5</td>\n",
       "      <td>автотранспорт</td>\n",
       "    </tr>\n",
       "    <tr>\n",
       "      <td>2</td>\n",
       "      <td>0</td>\n",
       "      <td>5623</td>\n",
       "      <td>33</td>\n",
       "      <td>среднее</td>\n",
       "      <td>1</td>\n",
       "      <td>женат / замужем</td>\n",
       "      <td>0</td>\n",
       "      <td>m</td>\n",
       "      <td>сотрудник</td>\n",
       "      <td>0</td>\n",
       "      <td>145885.952297</td>\n",
       "      <td>покупка жилья</td>\n",
       "      <td>5</td>\n",
       "      <td>недвижимость</td>\n",
       "    </tr>\n",
       "    <tr>\n",
       "      <td>3</td>\n",
       "      <td>3</td>\n",
       "      <td>4124</td>\n",
       "      <td>32</td>\n",
       "      <td>среднее</td>\n",
       "      <td>1</td>\n",
       "      <td>женат / замужем</td>\n",
       "      <td>0</td>\n",
       "      <td>m</td>\n",
       "      <td>сотрудник</td>\n",
       "      <td>0</td>\n",
       "      <td>267628.550329</td>\n",
       "      <td>дополнительное образование</td>\n",
       "      <td>5</td>\n",
       "      <td>образование</td>\n",
       "    </tr>\n",
       "    <tr>\n",
       "      <td>4</td>\n",
       "      <td>0</td>\n",
       "      <td>3402</td>\n",
       "      <td>53</td>\n",
       "      <td>среднее</td>\n",
       "      <td>1</td>\n",
       "      <td>гражданский брак</td>\n",
       "      <td>1</td>\n",
       "      <td>f</td>\n",
       "      <td>пенсионер</td>\n",
       "      <td>0</td>\n",
       "      <td>158616.077870</td>\n",
       "      <td>сыграть свадьбу</td>\n",
       "      <td>2</td>\n",
       "      <td>свадьба</td>\n",
       "    </tr>\n",
       "    <tr>\n",
       "      <td>5</td>\n",
       "      <td>0</td>\n",
       "      <td>926</td>\n",
       "      <td>27</td>\n",
       "      <td>высшее</td>\n",
       "      <td>0</td>\n",
       "      <td>гражданский брак</td>\n",
       "      <td>1</td>\n",
       "      <td>m</td>\n",
       "      <td>компаньон</td>\n",
       "      <td>0</td>\n",
       "      <td>255763.565419</td>\n",
       "      <td>покупка жилья</td>\n",
       "      <td>6</td>\n",
       "      <td>недвижимость</td>\n",
       "    </tr>\n",
       "    <tr>\n",
       "      <td>6</td>\n",
       "      <td>0</td>\n",
       "      <td>2879</td>\n",
       "      <td>43</td>\n",
       "      <td>высшее</td>\n",
       "      <td>0</td>\n",
       "      <td>женат / замужем</td>\n",
       "      <td>0</td>\n",
       "      <td>f</td>\n",
       "      <td>компаньон</td>\n",
       "      <td>0</td>\n",
       "      <td>240525.971920</td>\n",
       "      <td>операции с жильем</td>\n",
       "      <td>6</td>\n",
       "      <td>недвижимость</td>\n",
       "    </tr>\n",
       "    <tr>\n",
       "      <td>7</td>\n",
       "      <td>0</td>\n",
       "      <td>152</td>\n",
       "      <td>50</td>\n",
       "      <td>среднее</td>\n",
       "      <td>1</td>\n",
       "      <td>женат / замужем</td>\n",
       "      <td>0</td>\n",
       "      <td>m</td>\n",
       "      <td>сотрудник</td>\n",
       "      <td>0</td>\n",
       "      <td>135823.934197</td>\n",
       "      <td>образование</td>\n",
       "      <td>5</td>\n",
       "      <td>образование</td>\n",
       "    </tr>\n",
       "    <tr>\n",
       "      <td>8</td>\n",
       "      <td>2</td>\n",
       "      <td>6929</td>\n",
       "      <td>35</td>\n",
       "      <td>высшее</td>\n",
       "      <td>0</td>\n",
       "      <td>гражданский брак</td>\n",
       "      <td>1</td>\n",
       "      <td>f</td>\n",
       "      <td>сотрудник</td>\n",
       "      <td>0</td>\n",
       "      <td>95856.832424</td>\n",
       "      <td>на проведение свадьбы</td>\n",
       "      <td>5</td>\n",
       "      <td>свадьба</td>\n",
       "    </tr>\n",
       "    <tr>\n",
       "      <td>9</td>\n",
       "      <td>0</td>\n",
       "      <td>2188</td>\n",
       "      <td>41</td>\n",
       "      <td>среднее</td>\n",
       "      <td>1</td>\n",
       "      <td>женат / замужем</td>\n",
       "      <td>0</td>\n",
       "      <td>m</td>\n",
       "      <td>сотрудник</td>\n",
       "      <td>0</td>\n",
       "      <td>144425.938277</td>\n",
       "      <td>покупка жилья для семьи</td>\n",
       "      <td>5</td>\n",
       "      <td>недвижимость</td>\n",
       "    </tr>\n",
       "    <tr>\n",
       "      <td>10</td>\n",
       "      <td>2</td>\n",
       "      <td>4171</td>\n",
       "      <td>36</td>\n",
       "      <td>высшее</td>\n",
       "      <td>0</td>\n",
       "      <td>женат / замужем</td>\n",
       "      <td>0</td>\n",
       "      <td>m</td>\n",
       "      <td>компаньон</td>\n",
       "      <td>0</td>\n",
       "      <td>113943.491460</td>\n",
       "      <td>покупка недвижимости</td>\n",
       "      <td>6</td>\n",
       "      <td>недвижимость</td>\n",
       "    </tr>\n",
       "    <tr>\n",
       "      <td>11</td>\n",
       "      <td>0</td>\n",
       "      <td>792</td>\n",
       "      <td>40</td>\n",
       "      <td>среднее</td>\n",
       "      <td>1</td>\n",
       "      <td>женат / замужем</td>\n",
       "      <td>0</td>\n",
       "      <td>f</td>\n",
       "      <td>сотрудник</td>\n",
       "      <td>0</td>\n",
       "      <td>77069.234271</td>\n",
       "      <td>покупка коммерческой недвижимости</td>\n",
       "      <td>5</td>\n",
       "      <td>недвижимость</td>\n",
       "    </tr>\n",
       "    <tr>\n",
       "      <td>12</td>\n",
       "      <td>0</td>\n",
       "      <td>3651</td>\n",
       "      <td>65</td>\n",
       "      <td>среднее</td>\n",
       "      <td>1</td>\n",
       "      <td>гражданский брак</td>\n",
       "      <td>1</td>\n",
       "      <td>m</td>\n",
       "      <td>пенсионер</td>\n",
       "      <td>0</td>\n",
       "      <td>118557.179415</td>\n",
       "      <td>сыграть свадьбу</td>\n",
       "      <td>2</td>\n",
       "      <td>свадьба</td>\n",
       "    </tr>\n",
       "    <tr>\n",
       "      <td>13</td>\n",
       "      <td>0</td>\n",
       "      <td>1846</td>\n",
       "      <td>54</td>\n",
       "      <td>неоконченное высшее</td>\n",
       "      <td>2</td>\n",
       "      <td>женат / замужем</td>\n",
       "      <td>0</td>\n",
       "      <td>f</td>\n",
       "      <td>сотрудник</td>\n",
       "      <td>0</td>\n",
       "      <td>130458.228857</td>\n",
       "      <td>приобретение автомобиля</td>\n",
       "      <td>5</td>\n",
       "      <td>автотранспорт</td>\n",
       "    </tr>\n",
       "    <tr>\n",
       "      <td>14</td>\n",
       "      <td>0</td>\n",
       "      <td>1844</td>\n",
       "      <td>56</td>\n",
       "      <td>высшее</td>\n",
       "      <td>0</td>\n",
       "      <td>гражданский брак</td>\n",
       "      <td>1</td>\n",
       "      <td>f</td>\n",
       "      <td>компаньон</td>\n",
       "      <td>1</td>\n",
       "      <td>165127.911772</td>\n",
       "      <td>покупка жилой недвижимости</td>\n",
       "      <td>6</td>\n",
       "      <td>недвижимость</td>\n",
       "    </tr>\n",
       "    <tr>\n",
       "      <td>15</td>\n",
       "      <td>1</td>\n",
       "      <td>972</td>\n",
       "      <td>26</td>\n",
       "      <td>среднее</td>\n",
       "      <td>1</td>\n",
       "      <td>женат / замужем</td>\n",
       "      <td>0</td>\n",
       "      <td>f</td>\n",
       "      <td>сотрудник</td>\n",
       "      <td>0</td>\n",
       "      <td>116820.904450</td>\n",
       "      <td>строительство собственной недвижимости</td>\n",
       "      <td>5</td>\n",
       "      <td>строительство</td>\n",
       "    </tr>\n",
       "    <tr>\n",
       "      <td>16</td>\n",
       "      <td>0</td>\n",
       "      <td>1719</td>\n",
       "      <td>35</td>\n",
       "      <td>среднее</td>\n",
       "      <td>1</td>\n",
       "      <td>женат / замужем</td>\n",
       "      <td>0</td>\n",
       "      <td>f</td>\n",
       "      <td>сотрудник</td>\n",
       "      <td>0</td>\n",
       "      <td>289202.704229</td>\n",
       "      <td>недвижимость</td>\n",
       "      <td>5</td>\n",
       "      <td>недвижимость</td>\n",
       "    </tr>\n",
       "    <tr>\n",
       "      <td>17</td>\n",
       "      <td>0</td>\n",
       "      <td>2369</td>\n",
       "      <td>33</td>\n",
       "      <td>высшее</td>\n",
       "      <td>0</td>\n",
       "      <td>гражданский брак</td>\n",
       "      <td>1</td>\n",
       "      <td>m</td>\n",
       "      <td>сотрудник</td>\n",
       "      <td>0</td>\n",
       "      <td>90410.586745</td>\n",
       "      <td>строительство недвижимости</td>\n",
       "      <td>5</td>\n",
       "      <td>строительство</td>\n",
       "    </tr>\n",
       "    <tr>\n",
       "      <td>18</td>\n",
       "      <td>0</td>\n",
       "      <td>4002</td>\n",
       "      <td>53</td>\n",
       "      <td>среднее</td>\n",
       "      <td>1</td>\n",
       "      <td>вдовец / вдова</td>\n",
       "      <td>2</td>\n",
       "      <td>f</td>\n",
       "      <td>пенсионер</td>\n",
       "      <td>0</td>\n",
       "      <td>56823.777243</td>\n",
       "      <td>на покупку подержанного автомобиля</td>\n",
       "      <td>2</td>\n",
       "      <td>автотранспорт</td>\n",
       "    </tr>\n",
       "    <tr>\n",
       "      <td>19</td>\n",
       "      <td>0</td>\n",
       "      <td>10038</td>\n",
       "      <td>48</td>\n",
       "      <td>среднее</td>\n",
       "      <td>1</td>\n",
       "      <td>в разводе</td>\n",
       "      <td>3</td>\n",
       "      <td>f</td>\n",
       "      <td>сотрудник</td>\n",
       "      <td>0</td>\n",
       "      <td>242831.107982</td>\n",
       "      <td>на покупку своего автомобиля</td>\n",
       "      <td>5</td>\n",
       "      <td>автотранспорт</td>\n",
       "    </tr>\n",
       "  </tbody>\n",
       "</table>\n",
       "</div>"
      ],
      "text/plain": [
       "    children  days_employed  dob_years            education  education_id  \\\n",
       "0          1           8437         42               высшее             0   \n",
       "1          1           4024         36              среднее             1   \n",
       "2          0           5623         33              среднее             1   \n",
       "3          3           4124         32              среднее             1   \n",
       "4          0           3402         53              среднее             1   \n",
       "5          0            926         27               высшее             0   \n",
       "6          0           2879         43               высшее             0   \n",
       "7          0            152         50              среднее             1   \n",
       "8          2           6929         35               высшее             0   \n",
       "9          0           2188         41              среднее             1   \n",
       "10         2           4171         36               высшее             0   \n",
       "11         0            792         40              среднее             1   \n",
       "12         0           3651         65              среднее             1   \n",
       "13         0           1846         54  неоконченное высшее             2   \n",
       "14         0           1844         56               высшее             0   \n",
       "15         1            972         26              среднее             1   \n",
       "16         0           1719         35              среднее             1   \n",
       "17         0           2369         33               высшее             0   \n",
       "18         0           4002         53              среднее             1   \n",
       "19         0          10038         48              среднее             1   \n",
       "\n",
       "       family_status  family_status_id gender income_type  debt  \\\n",
       "0    женат / замужем                 0      f   сотрудник     0   \n",
       "1    женат / замужем                 0      f   сотрудник     0   \n",
       "2    женат / замужем                 0      m   сотрудник     0   \n",
       "3    женат / замужем                 0      m   сотрудник     0   \n",
       "4   гражданский брак                 1      f   пенсионер     0   \n",
       "5   гражданский брак                 1      m   компаньон     0   \n",
       "6    женат / замужем                 0      f   компаньон     0   \n",
       "7    женат / замужем                 0      m   сотрудник     0   \n",
       "8   гражданский брак                 1      f   сотрудник     0   \n",
       "9    женат / замужем                 0      m   сотрудник     0   \n",
       "10   женат / замужем                 0      m   компаньон     0   \n",
       "11   женат / замужем                 0      f   сотрудник     0   \n",
       "12  гражданский брак                 1      m   пенсионер     0   \n",
       "13   женат / замужем                 0      f   сотрудник     0   \n",
       "14  гражданский брак                 1      f   компаньон     1   \n",
       "15   женат / замужем                 0      f   сотрудник     0   \n",
       "16   женат / замужем                 0      f   сотрудник     0   \n",
       "17  гражданский брак                 1      m   сотрудник     0   \n",
       "18    вдовец / вдова                 2      f   пенсионер     0   \n",
       "19         в разводе                 3      f   сотрудник     0   \n",
       "\n",
       "     total_income                                 purpose  income_type_id  \\\n",
       "0   253875.639453                           покупка жилья               5   \n",
       "1   112080.014102                 приобретение автомобиля               5   \n",
       "2   145885.952297                           покупка жилья               5   \n",
       "3   267628.550329              дополнительное образование               5   \n",
       "4   158616.077870                         сыграть свадьбу               2   \n",
       "5   255763.565419                           покупка жилья               6   \n",
       "6   240525.971920                       операции с жильем               6   \n",
       "7   135823.934197                             образование               5   \n",
       "8    95856.832424                   на проведение свадьбы               5   \n",
       "9   144425.938277                 покупка жилья для семьи               5   \n",
       "10  113943.491460                    покупка недвижимости               6   \n",
       "11   77069.234271       покупка коммерческой недвижимости               5   \n",
       "12  118557.179415                         сыграть свадьбу               2   \n",
       "13  130458.228857                 приобретение автомобиля               5   \n",
       "14  165127.911772              покупка жилой недвижимости               6   \n",
       "15  116820.904450  строительство собственной недвижимости               5   \n",
       "16  289202.704229                            недвижимость               5   \n",
       "17   90410.586745              строительство недвижимости               5   \n",
       "18   56823.777243      на покупку подержанного автомобиля               2   \n",
       "19  242831.107982            на покупку своего автомобиля               5   \n",
       "\n",
       "           target  \n",
       "0    недвижимость  \n",
       "1   автотранспорт  \n",
       "2    недвижимость  \n",
       "3     образование  \n",
       "4         свадьба  \n",
       "5    недвижимость  \n",
       "6    недвижимость  \n",
       "7     образование  \n",
       "8         свадьба  \n",
       "9    недвижимость  \n",
       "10   недвижимость  \n",
       "11   недвижимость  \n",
       "12        свадьба  \n",
       "13  автотранспорт  \n",
       "14   недвижимость  \n",
       "15  строительство  \n",
       "16   недвижимость  \n",
       "17  строительство  \n",
       "18  автотранспорт  \n",
       "19  автотранспорт  "
      ]
     },
     "execution_count": 16,
     "metadata": {},
     "output_type": "execute_result"
    }
   ],
   "source": [
    "def formatting_the_purpose(val):\n",
    "    lemmas = m.lemmatize(val)\n",
    "    if ('строительство' in lemmas):\n",
    "        return 'строительство'\n",
    "    if ('недвижимость' in lemmas) or ('жилье' in lemmas):\n",
    "        return 'недвижимость'\n",
    "    if 'автомобиль' in lemmas:\n",
    "        return 'автотранспорт'\n",
    "    if 'свадьба' in lemmas:\n",
    "        return 'свадьба'\n",
    "    if 'ремонт' in lemmas:\n",
    "        return 'ремонт'\n",
    "    if 'образование' in lemmas:\n",
    "        return 'образование'\n",
    "    return 'цель не определена'\n",
    "\n",
    "\n",
    "data['target'] = data['purpose'].apply(formatting_the_purpose)\n",
    "data.head(20)"
   ]
  },
  {
   "cell_type": "markdown",
   "metadata": {},
   "source": [
    "**Вывод**"
   ]
  },
  {
   "cell_type": "markdown",
   "metadata": {},
   "source": [
    "**Лемматизация.**\n",
    "\n",
    "Для лемматизация использовал библиотеку pymystem3, она возвращает список лемматизированных слов для каждого значения колонки, так же библиотека работает и с несуществующими словами.\n",
    "Предварительно получил список всех уникальных значений колонки, а затем лемматизировал эти значения, соеденил в общий список и посмотрел частоту повторения для исключения синонимов-дубликтов. С помощью функции в цикле лемматизировал каждое значение в колонке purpose и получил новое значение, которое добавил в дополнительную колонку методом aplly()."
   ]
  },
  {
   "cell_type": "markdown",
   "metadata": {},
   "source": [
    "### Категоризация данных"
   ]
  },
  {
   "cell_type": "markdown",
   "metadata": {},
   "source": [
    "Категоризировать  будущих заемщиков буду на основе их трудового стажа, работы, уровня дохода, возраста, семейного положения, наличия детей, образования, а так же возникали ли ранее проблемы с возвратом кредита.\n",
    "Отдадим предпочтение клиентам состоящим в браке, но с минимальным количеством детей (в статьях на банковскую тематику пишут, что наличие детей снижает платежеспособность).\n",
    "Так же перспективными заемщиками будут считаться люди с высшим и более образованием.\n",
    "Сначала определим допустимый уровень дохода и трудовой стаж. Для их определения буду использовать метод median()."
   ]
  },
  {
   "cell_type": "code",
   "execution_count": 17,
   "metadata": {},
   "outputs": [
    {
     "name": "stdout",
     "output_type": "stream",
     "text": [
      "Медианный доход -  142594.39684740017\n",
      "Медианный трудовой стаж -  1998.0\n"
     ]
    }
   ],
   "source": [
    "median_income = data['total_income'].median()\n",
    "median_employed = data['days_employed'].median()\n",
    "print('Медианный доход - ', median_income)\n",
    "print('Медианный трудовой стаж - ', median_employed)"
   ]
  },
  {
   "cell_type": "markdown",
   "metadata": {},
   "source": [
    "Теперь напишем функцию, которая будет принимать параметры, анализировать их и выдавать статус платежеспособности клинета."
   ]
  },
  {
   "cell_type": "code",
   "execution_count": 18,
   "metadata": {},
   "outputs": [],
   "source": [
    "def get_status(row):\n",
    "    cnt = 0\n",
    "    if ((row['days_employed'] >= median_employed) and\n",
    "       (row['income_type'] in ['сотрудник', 'компаньон', 'госслужащий', 'предприниматель'])):\n",
    "        cnt += 2\n",
    "    if (21 <= row['dob_years'] <= 65) and (row['education'] in ['высшее', 'ученая степень' ]):\n",
    "        cnt += 2\n",
    "    if row['total_income'] >= median_income:\n",
    "        cnt += 1\n",
    "    if (row['family_status'] in ['женат/замужем', 'гражданский брак', 'не женат / не замужем']) and (row['children'] <= 1):\n",
    "        cnt += 2\n",
    "    if row['debt'] == 0:\n",
    "        cnt += 1\n",
    "    if row['income_type'] in ['студент', 'безработный', 'пенсионер']:\n",
    "        cnt -= 1\n",
    "    if row['debt'] == 1:\n",
    "        cnt -= 2\n",
    "    procent = (cnt / 8) * 100\n",
    "    if procent >= 50:\n",
    "        return 'платежеспособен'\n",
    "    elif procent <= 50:\n",
    "        return 'неплатежеспособен'\n",
    "\n",
    "    "
   ]
  },
  {
   "cell_type": "markdown",
   "metadata": {},
   "source": [
    "Применим функцию к строкам датафрейма с помощью метода apply() с параметром axis=1, что бы входными значениями для функции стали строки."
   ]
  },
  {
   "cell_type": "code",
   "execution_count": 19,
   "metadata": {
    "scrolled": true
   },
   "outputs": [
    {
     "data": {
      "text/html": [
       "<div>\n",
       "<style scoped>\n",
       "    .dataframe tbody tr th:only-of-type {\n",
       "        vertical-align: middle;\n",
       "    }\n",
       "\n",
       "    .dataframe tbody tr th {\n",
       "        vertical-align: top;\n",
       "    }\n",
       "\n",
       "    .dataframe thead th {\n",
       "        text-align: right;\n",
       "    }\n",
       "</style>\n",
       "<table border=\"1\" class=\"dataframe\">\n",
       "  <thead>\n",
       "    <tr style=\"text-align: right;\">\n",
       "      <th></th>\n",
       "      <th>children</th>\n",
       "      <th>days_employed</th>\n",
       "      <th>dob_years</th>\n",
       "      <th>education</th>\n",
       "      <th>education_id</th>\n",
       "      <th>family_status</th>\n",
       "      <th>family_status_id</th>\n",
       "      <th>gender</th>\n",
       "      <th>income_type</th>\n",
       "      <th>debt</th>\n",
       "      <th>total_income</th>\n",
       "      <th>purpose</th>\n",
       "      <th>income_type_id</th>\n",
       "      <th>target</th>\n",
       "      <th>solvency_status</th>\n",
       "    </tr>\n",
       "  </thead>\n",
       "  <tbody>\n",
       "    <tr>\n",
       "      <td>0</td>\n",
       "      <td>1</td>\n",
       "      <td>8437</td>\n",
       "      <td>42</td>\n",
       "      <td>высшее</td>\n",
       "      <td>0</td>\n",
       "      <td>женат / замужем</td>\n",
       "      <td>0</td>\n",
       "      <td>f</td>\n",
       "      <td>сотрудник</td>\n",
       "      <td>0</td>\n",
       "      <td>253875.639453</td>\n",
       "      <td>покупка жилья</td>\n",
       "      <td>5</td>\n",
       "      <td>недвижимость</td>\n",
       "      <td>платежеспособен</td>\n",
       "    </tr>\n",
       "    <tr>\n",
       "      <td>1</td>\n",
       "      <td>1</td>\n",
       "      <td>4024</td>\n",
       "      <td>36</td>\n",
       "      <td>среднее</td>\n",
       "      <td>1</td>\n",
       "      <td>женат / замужем</td>\n",
       "      <td>0</td>\n",
       "      <td>f</td>\n",
       "      <td>сотрудник</td>\n",
       "      <td>0</td>\n",
       "      <td>112080.014102</td>\n",
       "      <td>приобретение автомобиля</td>\n",
       "      <td>5</td>\n",
       "      <td>автотранспорт</td>\n",
       "      <td>неплатежеспособен</td>\n",
       "    </tr>\n",
       "    <tr>\n",
       "      <td>2</td>\n",
       "      <td>0</td>\n",
       "      <td>5623</td>\n",
       "      <td>33</td>\n",
       "      <td>среднее</td>\n",
       "      <td>1</td>\n",
       "      <td>женат / замужем</td>\n",
       "      <td>0</td>\n",
       "      <td>m</td>\n",
       "      <td>сотрудник</td>\n",
       "      <td>0</td>\n",
       "      <td>145885.952297</td>\n",
       "      <td>покупка жилья</td>\n",
       "      <td>5</td>\n",
       "      <td>недвижимость</td>\n",
       "      <td>платежеспособен</td>\n",
       "    </tr>\n",
       "    <tr>\n",
       "      <td>3</td>\n",
       "      <td>3</td>\n",
       "      <td>4124</td>\n",
       "      <td>32</td>\n",
       "      <td>среднее</td>\n",
       "      <td>1</td>\n",
       "      <td>женат / замужем</td>\n",
       "      <td>0</td>\n",
       "      <td>m</td>\n",
       "      <td>сотрудник</td>\n",
       "      <td>0</td>\n",
       "      <td>267628.550329</td>\n",
       "      <td>дополнительное образование</td>\n",
       "      <td>5</td>\n",
       "      <td>образование</td>\n",
       "      <td>платежеспособен</td>\n",
       "    </tr>\n",
       "    <tr>\n",
       "      <td>4</td>\n",
       "      <td>0</td>\n",
       "      <td>3402</td>\n",
       "      <td>53</td>\n",
       "      <td>среднее</td>\n",
       "      <td>1</td>\n",
       "      <td>гражданский брак</td>\n",
       "      <td>1</td>\n",
       "      <td>f</td>\n",
       "      <td>пенсионер</td>\n",
       "      <td>0</td>\n",
       "      <td>158616.077870</td>\n",
       "      <td>сыграть свадьбу</td>\n",
       "      <td>2</td>\n",
       "      <td>свадьба</td>\n",
       "      <td>неплатежеспособен</td>\n",
       "    </tr>\n",
       "    <tr>\n",
       "      <td>5</td>\n",
       "      <td>0</td>\n",
       "      <td>926</td>\n",
       "      <td>27</td>\n",
       "      <td>высшее</td>\n",
       "      <td>0</td>\n",
       "      <td>гражданский брак</td>\n",
       "      <td>1</td>\n",
       "      <td>m</td>\n",
       "      <td>компаньон</td>\n",
       "      <td>0</td>\n",
       "      <td>255763.565419</td>\n",
       "      <td>покупка жилья</td>\n",
       "      <td>6</td>\n",
       "      <td>недвижимость</td>\n",
       "      <td>платежеспособен</td>\n",
       "    </tr>\n",
       "    <tr>\n",
       "      <td>6</td>\n",
       "      <td>0</td>\n",
       "      <td>2879</td>\n",
       "      <td>43</td>\n",
       "      <td>высшее</td>\n",
       "      <td>0</td>\n",
       "      <td>женат / замужем</td>\n",
       "      <td>0</td>\n",
       "      <td>f</td>\n",
       "      <td>компаньон</td>\n",
       "      <td>0</td>\n",
       "      <td>240525.971920</td>\n",
       "      <td>операции с жильем</td>\n",
       "      <td>6</td>\n",
       "      <td>недвижимость</td>\n",
       "      <td>платежеспособен</td>\n",
       "    </tr>\n",
       "    <tr>\n",
       "      <td>7</td>\n",
       "      <td>0</td>\n",
       "      <td>152</td>\n",
       "      <td>50</td>\n",
       "      <td>среднее</td>\n",
       "      <td>1</td>\n",
       "      <td>женат / замужем</td>\n",
       "      <td>0</td>\n",
       "      <td>m</td>\n",
       "      <td>сотрудник</td>\n",
       "      <td>0</td>\n",
       "      <td>135823.934197</td>\n",
       "      <td>образование</td>\n",
       "      <td>5</td>\n",
       "      <td>образование</td>\n",
       "      <td>неплатежеспособен</td>\n",
       "    </tr>\n",
       "    <tr>\n",
       "      <td>8</td>\n",
       "      <td>2</td>\n",
       "      <td>6929</td>\n",
       "      <td>35</td>\n",
       "      <td>высшее</td>\n",
       "      <td>0</td>\n",
       "      <td>гражданский брак</td>\n",
       "      <td>1</td>\n",
       "      <td>f</td>\n",
       "      <td>сотрудник</td>\n",
       "      <td>0</td>\n",
       "      <td>95856.832424</td>\n",
       "      <td>на проведение свадьбы</td>\n",
       "      <td>5</td>\n",
       "      <td>свадьба</td>\n",
       "      <td>платежеспособен</td>\n",
       "    </tr>\n",
       "    <tr>\n",
       "      <td>9</td>\n",
       "      <td>0</td>\n",
       "      <td>2188</td>\n",
       "      <td>41</td>\n",
       "      <td>среднее</td>\n",
       "      <td>1</td>\n",
       "      <td>женат / замужем</td>\n",
       "      <td>0</td>\n",
       "      <td>m</td>\n",
       "      <td>сотрудник</td>\n",
       "      <td>0</td>\n",
       "      <td>144425.938277</td>\n",
       "      <td>покупка жилья для семьи</td>\n",
       "      <td>5</td>\n",
       "      <td>недвижимость</td>\n",
       "      <td>платежеспособен</td>\n",
       "    </tr>\n",
       "    <tr>\n",
       "      <td>10</td>\n",
       "      <td>2</td>\n",
       "      <td>4171</td>\n",
       "      <td>36</td>\n",
       "      <td>высшее</td>\n",
       "      <td>0</td>\n",
       "      <td>женат / замужем</td>\n",
       "      <td>0</td>\n",
       "      <td>m</td>\n",
       "      <td>компаньон</td>\n",
       "      <td>0</td>\n",
       "      <td>113943.491460</td>\n",
       "      <td>покупка недвижимости</td>\n",
       "      <td>6</td>\n",
       "      <td>недвижимость</td>\n",
       "      <td>платежеспособен</td>\n",
       "    </tr>\n",
       "    <tr>\n",
       "      <td>11</td>\n",
       "      <td>0</td>\n",
       "      <td>792</td>\n",
       "      <td>40</td>\n",
       "      <td>среднее</td>\n",
       "      <td>1</td>\n",
       "      <td>женат / замужем</td>\n",
       "      <td>0</td>\n",
       "      <td>f</td>\n",
       "      <td>сотрудник</td>\n",
       "      <td>0</td>\n",
       "      <td>77069.234271</td>\n",
       "      <td>покупка коммерческой недвижимости</td>\n",
       "      <td>5</td>\n",
       "      <td>недвижимость</td>\n",
       "      <td>неплатежеспособен</td>\n",
       "    </tr>\n",
       "    <tr>\n",
       "      <td>12</td>\n",
       "      <td>0</td>\n",
       "      <td>3651</td>\n",
       "      <td>65</td>\n",
       "      <td>среднее</td>\n",
       "      <td>1</td>\n",
       "      <td>гражданский брак</td>\n",
       "      <td>1</td>\n",
       "      <td>m</td>\n",
       "      <td>пенсионер</td>\n",
       "      <td>0</td>\n",
       "      <td>118557.179415</td>\n",
       "      <td>сыграть свадьбу</td>\n",
       "      <td>2</td>\n",
       "      <td>свадьба</td>\n",
       "      <td>неплатежеспособен</td>\n",
       "    </tr>\n",
       "    <tr>\n",
       "      <td>13</td>\n",
       "      <td>0</td>\n",
       "      <td>1846</td>\n",
       "      <td>54</td>\n",
       "      <td>неоконченное высшее</td>\n",
       "      <td>2</td>\n",
       "      <td>женат / замужем</td>\n",
       "      <td>0</td>\n",
       "      <td>f</td>\n",
       "      <td>сотрудник</td>\n",
       "      <td>0</td>\n",
       "      <td>130458.228857</td>\n",
       "      <td>приобретение автомобиля</td>\n",
       "      <td>5</td>\n",
       "      <td>автотранспорт</td>\n",
       "      <td>неплатежеспособен</td>\n",
       "    </tr>\n",
       "    <tr>\n",
       "      <td>14</td>\n",
       "      <td>0</td>\n",
       "      <td>1844</td>\n",
       "      <td>56</td>\n",
       "      <td>высшее</td>\n",
       "      <td>0</td>\n",
       "      <td>гражданский брак</td>\n",
       "      <td>1</td>\n",
       "      <td>f</td>\n",
       "      <td>компаньон</td>\n",
       "      <td>1</td>\n",
       "      <td>165127.911772</td>\n",
       "      <td>покупка жилой недвижимости</td>\n",
       "      <td>6</td>\n",
       "      <td>недвижимость</td>\n",
       "      <td>неплатежеспособен</td>\n",
       "    </tr>\n",
       "    <tr>\n",
       "      <td>15</td>\n",
       "      <td>1</td>\n",
       "      <td>972</td>\n",
       "      <td>26</td>\n",
       "      <td>среднее</td>\n",
       "      <td>1</td>\n",
       "      <td>женат / замужем</td>\n",
       "      <td>0</td>\n",
       "      <td>f</td>\n",
       "      <td>сотрудник</td>\n",
       "      <td>0</td>\n",
       "      <td>116820.904450</td>\n",
       "      <td>строительство собственной недвижимости</td>\n",
       "      <td>5</td>\n",
       "      <td>строительство</td>\n",
       "      <td>неплатежеспособен</td>\n",
       "    </tr>\n",
       "    <tr>\n",
       "      <td>16</td>\n",
       "      <td>0</td>\n",
       "      <td>1719</td>\n",
       "      <td>35</td>\n",
       "      <td>среднее</td>\n",
       "      <td>1</td>\n",
       "      <td>женат / замужем</td>\n",
       "      <td>0</td>\n",
       "      <td>f</td>\n",
       "      <td>сотрудник</td>\n",
       "      <td>0</td>\n",
       "      <td>289202.704229</td>\n",
       "      <td>недвижимость</td>\n",
       "      <td>5</td>\n",
       "      <td>недвижимость</td>\n",
       "      <td>неплатежеспособен</td>\n",
       "    </tr>\n",
       "    <tr>\n",
       "      <td>17</td>\n",
       "      <td>0</td>\n",
       "      <td>2369</td>\n",
       "      <td>33</td>\n",
       "      <td>высшее</td>\n",
       "      <td>0</td>\n",
       "      <td>гражданский брак</td>\n",
       "      <td>1</td>\n",
       "      <td>m</td>\n",
       "      <td>сотрудник</td>\n",
       "      <td>0</td>\n",
       "      <td>90410.586745</td>\n",
       "      <td>строительство недвижимости</td>\n",
       "      <td>5</td>\n",
       "      <td>строительство</td>\n",
       "      <td>платежеспособен</td>\n",
       "    </tr>\n",
       "    <tr>\n",
       "      <td>18</td>\n",
       "      <td>0</td>\n",
       "      <td>4002</td>\n",
       "      <td>53</td>\n",
       "      <td>среднее</td>\n",
       "      <td>1</td>\n",
       "      <td>вдовец / вдова</td>\n",
       "      <td>2</td>\n",
       "      <td>f</td>\n",
       "      <td>пенсионер</td>\n",
       "      <td>0</td>\n",
       "      <td>56823.777243</td>\n",
       "      <td>на покупку подержанного автомобиля</td>\n",
       "      <td>2</td>\n",
       "      <td>автотранспорт</td>\n",
       "      <td>неплатежеспособен</td>\n",
       "    </tr>\n",
       "    <tr>\n",
       "      <td>19</td>\n",
       "      <td>0</td>\n",
       "      <td>10038</td>\n",
       "      <td>48</td>\n",
       "      <td>среднее</td>\n",
       "      <td>1</td>\n",
       "      <td>в разводе</td>\n",
       "      <td>3</td>\n",
       "      <td>f</td>\n",
       "      <td>сотрудник</td>\n",
       "      <td>0</td>\n",
       "      <td>242831.107982</td>\n",
       "      <td>на покупку своего автомобиля</td>\n",
       "      <td>5</td>\n",
       "      <td>автотранспорт</td>\n",
       "      <td>платежеспособен</td>\n",
       "    </tr>\n",
       "  </tbody>\n",
       "</table>\n",
       "</div>"
      ],
      "text/plain": [
       "    children  days_employed  dob_years            education  education_id  \\\n",
       "0          1           8437         42               высшее             0   \n",
       "1          1           4024         36              среднее             1   \n",
       "2          0           5623         33              среднее             1   \n",
       "3          3           4124         32              среднее             1   \n",
       "4          0           3402         53              среднее             1   \n",
       "5          0            926         27               высшее             0   \n",
       "6          0           2879         43               высшее             0   \n",
       "7          0            152         50              среднее             1   \n",
       "8          2           6929         35               высшее             0   \n",
       "9          0           2188         41              среднее             1   \n",
       "10         2           4171         36               высшее             0   \n",
       "11         0            792         40              среднее             1   \n",
       "12         0           3651         65              среднее             1   \n",
       "13         0           1846         54  неоконченное высшее             2   \n",
       "14         0           1844         56               высшее             0   \n",
       "15         1            972         26              среднее             1   \n",
       "16         0           1719         35              среднее             1   \n",
       "17         0           2369         33               высшее             0   \n",
       "18         0           4002         53              среднее             1   \n",
       "19         0          10038         48              среднее             1   \n",
       "\n",
       "       family_status  family_status_id gender income_type  debt  \\\n",
       "0    женат / замужем                 0      f   сотрудник     0   \n",
       "1    женат / замужем                 0      f   сотрудник     0   \n",
       "2    женат / замужем                 0      m   сотрудник     0   \n",
       "3    женат / замужем                 0      m   сотрудник     0   \n",
       "4   гражданский брак                 1      f   пенсионер     0   \n",
       "5   гражданский брак                 1      m   компаньон     0   \n",
       "6    женат / замужем                 0      f   компаньон     0   \n",
       "7    женат / замужем                 0      m   сотрудник     0   \n",
       "8   гражданский брак                 1      f   сотрудник     0   \n",
       "9    женат / замужем                 0      m   сотрудник     0   \n",
       "10   женат / замужем                 0      m   компаньон     0   \n",
       "11   женат / замужем                 0      f   сотрудник     0   \n",
       "12  гражданский брак                 1      m   пенсионер     0   \n",
       "13   женат / замужем                 0      f   сотрудник     0   \n",
       "14  гражданский брак                 1      f   компаньон     1   \n",
       "15   женат / замужем                 0      f   сотрудник     0   \n",
       "16   женат / замужем                 0      f   сотрудник     0   \n",
       "17  гражданский брак                 1      m   сотрудник     0   \n",
       "18    вдовец / вдова                 2      f   пенсионер     0   \n",
       "19         в разводе                 3      f   сотрудник     0   \n",
       "\n",
       "     total_income                                 purpose  income_type_id  \\\n",
       "0   253875.639453                           покупка жилья               5   \n",
       "1   112080.014102                 приобретение автомобиля               5   \n",
       "2   145885.952297                           покупка жилья               5   \n",
       "3   267628.550329              дополнительное образование               5   \n",
       "4   158616.077870                         сыграть свадьбу               2   \n",
       "5   255763.565419                           покупка жилья               6   \n",
       "6   240525.971920                       операции с жильем               6   \n",
       "7   135823.934197                             образование               5   \n",
       "8    95856.832424                   на проведение свадьбы               5   \n",
       "9   144425.938277                 покупка жилья для семьи               5   \n",
       "10  113943.491460                    покупка недвижимости               6   \n",
       "11   77069.234271       покупка коммерческой недвижимости               5   \n",
       "12  118557.179415                         сыграть свадьбу               2   \n",
       "13  130458.228857                 приобретение автомобиля               5   \n",
       "14  165127.911772              покупка жилой недвижимости               6   \n",
       "15  116820.904450  строительство собственной недвижимости               5   \n",
       "16  289202.704229                            недвижимость               5   \n",
       "17   90410.586745              строительство недвижимости               5   \n",
       "18   56823.777243      на покупку подержанного автомобиля               2   \n",
       "19  242831.107982            на покупку своего автомобиля               5   \n",
       "\n",
       "           target    solvency_status  \n",
       "0    недвижимость    платежеспособен  \n",
       "1   автотранспорт  неплатежеспособен  \n",
       "2    недвижимость    платежеспособен  \n",
       "3     образование    платежеспособен  \n",
       "4         свадьба  неплатежеспособен  \n",
       "5    недвижимость    платежеспособен  \n",
       "6    недвижимость    платежеспособен  \n",
       "7     образование  неплатежеспособен  \n",
       "8         свадьба    платежеспособен  \n",
       "9    недвижимость    платежеспособен  \n",
       "10   недвижимость    платежеспособен  \n",
       "11   недвижимость  неплатежеспособен  \n",
       "12        свадьба  неплатежеспособен  \n",
       "13  автотранспорт  неплатежеспособен  \n",
       "14   недвижимость  неплатежеспособен  \n",
       "15  строительство  неплатежеспособен  \n",
       "16   недвижимость  неплатежеспособен  \n",
       "17  строительство    платежеспособен  \n",
       "18  автотранспорт  неплатежеспособен  \n",
       "19  автотранспорт    платежеспособен  "
      ]
     },
     "execution_count": 19,
     "metadata": {},
     "output_type": "execute_result"
    }
   ],
   "source": [
    "data['solvency_status'] = data.apply(get_status, axis=1)\n",
    "data.head(20)"
   ]
  },
  {
   "cell_type": "markdown",
   "metadata": {},
   "source": [
    "**Вывод**"
   ]
  },
  {
   "cell_type": "markdown",
   "metadata": {},
   "source": [
    "**Категоризация.**\n",
    "\n",
    "Проанализировав информацию из нескольких источников в интерете, я выбрал основные параметры и принцип категорирования.\n",
    "На мой взгляд необходимо определить является ли клиент платежеспособным.\n",
    "Для определения среднего уровня дохода и стажа использовал метод median().\n",
    "Далее написал функцию , которая анализирует входные параметры и выдает итоговый статус платежеспособности.\n",
    "И пременил метод apply с параметром axis=1 ( для перехода по всем строкам) ко всему датафрейму.\n",
    "Итоговый вывод - колока с категориями платежеспособности клинетов на основе предаставленных данных."
   ]
  },
  {
   "cell_type": "markdown",
   "metadata": {},
   "source": [
    "## Шаг 3. Ответьте на вопросы"
   ]
  },
  {
   "cell_type": "markdown",
   "metadata": {},
   "source": [
    "- Есть ли зависимость между наличием детей и возвратом кредита в срок?"
   ]
  },
  {
   "cell_type": "code",
   "execution_count": 20,
   "metadata": {},
   "outputs": [
    {
     "data": {
      "text/html": [
       "<div>\n",
       "<style scoped>\n",
       "    .dataframe tbody tr th:only-of-type {\n",
       "        vertical-align: middle;\n",
       "    }\n",
       "\n",
       "    .dataframe tbody tr th {\n",
       "        vertical-align: top;\n",
       "    }\n",
       "\n",
       "    .dataframe thead th {\n",
       "        text-align: right;\n",
       "    }\n",
       "</style>\n",
       "<table border=\"1\" class=\"dataframe\">\n",
       "  <thead>\n",
       "    <tr style=\"text-align: right;\">\n",
       "      <th></th>\n",
       "      <th>debt</th>\n",
       "    </tr>\n",
       "    <tr>\n",
       "      <th>children</th>\n",
       "      <th></th>\n",
       "    </tr>\n",
       "  </thead>\n",
       "  <tbody>\n",
       "    <tr>\n",
       "      <td>5</td>\n",
       "      <td>0.000000</td>\n",
       "    </tr>\n",
       "    <tr>\n",
       "      <td>0</td>\n",
       "      <td>0.075453</td>\n",
       "    </tr>\n",
       "    <tr>\n",
       "      <td>3</td>\n",
       "      <td>0.082317</td>\n",
       "    </tr>\n",
       "    <tr>\n",
       "      <td>1</td>\n",
       "      <td>0.091341</td>\n",
       "    </tr>\n",
       "    <tr>\n",
       "      <td>2</td>\n",
       "      <td>0.095145</td>\n",
       "    </tr>\n",
       "    <tr>\n",
       "      <td>4</td>\n",
       "      <td>0.097561</td>\n",
       "    </tr>\n",
       "    <tr>\n",
       "      <td>20</td>\n",
       "      <td>0.106667</td>\n",
       "    </tr>\n",
       "  </tbody>\n",
       "</table>\n",
       "</div>"
      ],
      "text/plain": [
       "              debt\n",
       "children          \n",
       "5         0.000000\n",
       "0         0.075453\n",
       "3         0.082317\n",
       "1         0.091341\n",
       "2         0.095145\n",
       "4         0.097561\n",
       "20        0.106667"
      ]
     },
     "execution_count": 20,
     "metadata": {},
     "output_type": "execute_result"
    }
   ],
   "source": [
    "data.pivot_table(index=['children'], values='debt', aggfunc='mean').sort_values(by='debt', ascending=True).head(10)"
   ]
  },
  {
   "cell_type": "code",
   "execution_count": 21,
   "metadata": {},
   "outputs": [
    {
     "name": "stdout",
     "output_type": "stream",
     "text": [
      "(9, 15)\n"
     ]
    }
   ],
   "source": [
    "df_with_5_children = data[data['children'] == 5]\n",
    "print(df_with_5_children.shape)"
   ]
  },
  {
   "cell_type": "markdown",
   "metadata": {},
   "source": [
    "**Вывод**"
   ]
  },
  {
   "cell_type": "markdown",
   "metadata": {},
   "source": [
    "**Есть ли зависимость между наличием детей и возвратом кредита в срок?**\n",
    "    \n",
    "Группу клиентов с 5 детьми не будем брать в расчет, так как от нее всего 9 заявок c одиниковым значением в колонке \"debt\". Для анализа такое количетсво не подойдет. \n",
    "Минимальный процент задолженности по кредиту у группы без детей, макисмальный процент ( 10% шанс возникновения задержки платежа) у группы, где на каждого клиента по 20 детей.\n",
    "Значения для всех групп находятся в одном диапозоне, считаю, что зависимости нет."
   ]
  },
  {
   "cell_type": "code",
   "execution_count": 22,
   "metadata": {},
   "outputs": [
    {
     "data": {
      "text/plain": [
       "array([ 1,  0,  3,  2,  4, 20,  5])"
      ]
     },
     "execution_count": 22,
     "metadata": {},
     "output_type": "execute_result"
    }
   ],
   "source": [
    "data['children'].unique()"
   ]
  },
  {
   "cell_type": "code",
   "execution_count": 23,
   "metadata": {},
   "outputs": [
    {
     "data": {
      "text/plain": [
       "children            75\n",
       "days_employed       75\n",
       "dob_years           75\n",
       "education           75\n",
       "education_id        75\n",
       "family_status       75\n",
       "family_status_id    75\n",
       "gender              75\n",
       "income_type         75\n",
       "debt                75\n",
       "total_income        75\n",
       "purpose             75\n",
       "income_type_id      75\n",
       "target              75\n",
       "solvency_status     75\n",
       "dtype: int64"
      ]
     },
     "execution_count": 23,
     "metadata": {},
     "output_type": "execute_result"
    }
   ],
   "source": [
    "data[data['children'] == 20].count()"
   ]
  },
  {
   "cell_type": "markdown",
   "metadata": {},
   "source": [
    "В колонке \"Количетсво детей\" не сколько уникальных значений. В том числе, присутствует значение 20, которое слишком сильно \"оторвано\" от предыдущего значения. Возможно ноль дописан случайно. Приведем значение к корректному виду."
   ]
  },
  {
   "cell_type": "code",
   "execution_count": 29,
   "metadata": {},
   "outputs": [
    {
     "data": {
      "text/plain": [
       "children            0\n",
       "days_employed       0\n",
       "dob_years           0\n",
       "education           0\n",
       "education_id        0\n",
       "family_status       0\n",
       "family_status_id    0\n",
       "gender              0\n",
       "income_type         0\n",
       "debt                0\n",
       "total_income        0\n",
       "purpose             0\n",
       "income_type_id      0\n",
       "target              0\n",
       "solvency_status     0\n",
       "level_income        0\n",
       "dtype: int64"
      ]
     },
     "execution_count": 29,
     "metadata": {},
     "output_type": "execute_result"
    }
   ],
   "source": [
    "data['children'] = data['children'].replace(20,2)\n",
    "data[data['children'] == 20].count()"
   ]
  },
  {
   "cell_type": "code",
   "execution_count": 31,
   "metadata": {},
   "outputs": [
    {
     "data": {
      "text/plain": [
       "children            9\n",
       "days_employed       9\n",
       "dob_years           9\n",
       "education           9\n",
       "education_id        9\n",
       "family_status       9\n",
       "family_status_id    9\n",
       "gender              9\n",
       "income_type         9\n",
       "debt                9\n",
       "total_income        9\n",
       "purpose             9\n",
       "income_type_id      9\n",
       "target              9\n",
       "solvency_status     9\n",
       "level_income        9\n",
       "dtype: int64"
      ]
     },
     "execution_count": 31,
     "metadata": {},
     "output_type": "execute_result"
    }
   ],
   "source": [
    "data[data['children'] == 5].count()"
   ]
  },
  {
   "cell_type": "markdown",
   "metadata": {},
   "source": [
    "Клиентов у которых по 5 детей всего девять, считаю, что их можно исключить из выборки"
   ]
  },
  {
   "cell_type": "code",
   "execution_count": 33,
   "metadata": {},
   "outputs": [],
   "source": [
    "data = data[data.children != 5]"
   ]
  },
  {
   "cell_type": "code",
   "execution_count": 34,
   "metadata": {},
   "outputs": [
    {
     "data": {
      "text/html": [
       "<div>\n",
       "<style scoped>\n",
       "    .dataframe tbody tr th:only-of-type {\n",
       "        vertical-align: middle;\n",
       "    }\n",
       "\n",
       "    .dataframe tbody tr th {\n",
       "        vertical-align: top;\n",
       "    }\n",
       "\n",
       "    .dataframe thead th {\n",
       "        text-align: right;\n",
       "    }\n",
       "</style>\n",
       "<table border=\"1\" class=\"dataframe\">\n",
       "  <thead>\n",
       "    <tr style=\"text-align: right;\">\n",
       "      <th></th>\n",
       "      <th>debt</th>\n",
       "    </tr>\n",
       "    <tr>\n",
       "      <th>children</th>\n",
       "      <th></th>\n",
       "    </tr>\n",
       "  </thead>\n",
       "  <tbody>\n",
       "    <tr>\n",
       "      <td>0</td>\n",
       "      <td>0.075453</td>\n",
       "    </tr>\n",
       "    <tr>\n",
       "      <td>3</td>\n",
       "      <td>0.082317</td>\n",
       "    </tr>\n",
       "    <tr>\n",
       "      <td>1</td>\n",
       "      <td>0.091341</td>\n",
       "    </tr>\n",
       "    <tr>\n",
       "      <td>2</td>\n",
       "      <td>0.095553</td>\n",
       "    </tr>\n",
       "    <tr>\n",
       "      <td>4</td>\n",
       "      <td>0.097561</td>\n",
       "    </tr>\n",
       "  </tbody>\n",
       "</table>\n",
       "</div>"
      ],
      "text/plain": [
       "              debt\n",
       "children          \n",
       "0         0.075453\n",
       "3         0.082317\n",
       "1         0.091341\n",
       "2         0.095553\n",
       "4         0.097561"
      ]
     },
     "execution_count": 34,
     "metadata": {},
     "output_type": "execute_result"
    }
   ],
   "source": [
    "data.pivot_table(index=['children'], values='debt', aggfunc='mean').sort_values(by='debt', ascending=True).head(10)"
   ]
  },
  {
   "cell_type": "markdown",
   "metadata": {},
   "source": [
    "Минимальный процент задолженности по кредиту у группы без детей, макисмальный процент ( 10% шанс возникновения задержки платежа) у группы, где на каждого клиента по 4 детей.\n",
    "Более высокой платежеспособностью обладают клиенты без детей."
   ]
  },
  {
   "cell_type": "markdown",
   "metadata": {},
   "source": [
    "- Есть ли зависимость между семейным положением и возвратом кредита в срок?"
   ]
  },
  {
   "cell_type": "code",
   "execution_count": 25,
   "metadata": {},
   "outputs": [
    {
     "data": {
      "text/html": [
       "<div>\n",
       "<style scoped>\n",
       "    .dataframe tbody tr th:only-of-type {\n",
       "        vertical-align: middle;\n",
       "    }\n",
       "\n",
       "    .dataframe tbody tr th {\n",
       "        vertical-align: top;\n",
       "    }\n",
       "\n",
       "    .dataframe thead th {\n",
       "        text-align: right;\n",
       "    }\n",
       "</style>\n",
       "<table border=\"1\" class=\"dataframe\">\n",
       "  <thead>\n",
       "    <tr style=\"text-align: right;\">\n",
       "      <th></th>\n",
       "      <th>debt</th>\n",
       "    </tr>\n",
       "    <tr>\n",
       "      <th>family_status</th>\n",
       "      <th></th>\n",
       "    </tr>\n",
       "  </thead>\n",
       "  <tbody>\n",
       "    <tr>\n",
       "      <td>вдовец / вдова</td>\n",
       "      <td>0.064990</td>\n",
       "    </tr>\n",
       "    <tr>\n",
       "      <td>в разводе</td>\n",
       "      <td>0.071730</td>\n",
       "    </tr>\n",
       "    <tr>\n",
       "      <td>женат / замужем</td>\n",
       "      <td>0.075427</td>\n",
       "    </tr>\n",
       "    <tr>\n",
       "      <td>гражданский брак</td>\n",
       "      <td>0.093462</td>\n",
       "    </tr>\n",
       "    <tr>\n",
       "      <td>не женат / не замужем</td>\n",
       "      <td>0.097709</td>\n",
       "    </tr>\n",
       "  </tbody>\n",
       "</table>\n",
       "</div>"
      ],
      "text/plain": [
       "                           debt\n",
       "family_status                  \n",
       "вдовец / вдова         0.064990\n",
       "в разводе              0.071730\n",
       "женат / замужем        0.075427\n",
       "гражданский брак       0.093462\n",
       "не женат / не замужем  0.097709"
      ]
     },
     "execution_count": 25,
     "metadata": {},
     "output_type": "execute_result"
    }
   ],
   "source": [
    "data.pivot_table(index=['family_status'], values='debt', aggfunc='mean').sort_values(by='debt', ascending=True).head()"
   ]
  },
  {
   "cell_type": "markdown",
   "metadata": {},
   "source": [
    "**Вывод**"
   ]
  },
  {
   "cell_type": "markdown",
   "metadata": {},
   "source": [
    "**Есть ли зависимость между семейным положением и возвратом кредита в срок?**\n",
    "    \n",
    "При большом количестве потенциальных кредиторов это будет ощутимая разница. Тогда минимальных процент не возврата у группы \"вдова/вдовец\", а макисмальный у группы \"не женат / не замужем."
   ]
  },
  {
   "cell_type": "markdown",
   "metadata": {},
   "source": []
  },
  {
   "cell_type": "markdown",
   "metadata": {},
   "source": [
    "- Есть ли зависимость между уровнем дохода и возвратом кредита в срок?"
   ]
  },
  {
   "cell_type": "markdown",
   "metadata": {},
   "source": [
    "Для начала определи минимальный и максимальный доход, затем возьмем медианное значение и шаг в стороны по 50000 для определения диапазона со среденим доходом.После напишем функцияю для метода apply(), которая будет принимать на вход значение из стоблца \"total_income\" и возвращать в новую колонку level_income значение доходности клиента."
   ]
  },
  {
   "cell_type": "code",
   "execution_count": 26,
   "metadata": {},
   "outputs": [
    {
     "data": {
      "text/html": [
       "<div>\n",
       "<style scoped>\n",
       "    .dataframe tbody tr th:only-of-type {\n",
       "        vertical-align: middle;\n",
       "    }\n",
       "\n",
       "    .dataframe tbody tr th {\n",
       "        vertical-align: top;\n",
       "    }\n",
       "\n",
       "    .dataframe thead th {\n",
       "        text-align: right;\n",
       "    }\n",
       "</style>\n",
       "<table border=\"1\" class=\"dataframe\">\n",
       "  <thead>\n",
       "    <tr style=\"text-align: right;\">\n",
       "      <th></th>\n",
       "      <th>children</th>\n",
       "      <th>days_employed</th>\n",
       "      <th>dob_years</th>\n",
       "      <th>education</th>\n",
       "      <th>education_id</th>\n",
       "      <th>family_status</th>\n",
       "      <th>family_status_id</th>\n",
       "      <th>gender</th>\n",
       "      <th>income_type</th>\n",
       "      <th>debt</th>\n",
       "      <th>total_income</th>\n",
       "      <th>purpose</th>\n",
       "      <th>income_type_id</th>\n",
       "      <th>target</th>\n",
       "      <th>solvency_status</th>\n",
       "      <th>level_income</th>\n",
       "    </tr>\n",
       "  </thead>\n",
       "  <tbody>\n",
       "    <tr>\n",
       "      <td>0</td>\n",
       "      <td>1</td>\n",
       "      <td>8437</td>\n",
       "      <td>42</td>\n",
       "      <td>высшее</td>\n",
       "      <td>0</td>\n",
       "      <td>женат / замужем</td>\n",
       "      <td>0</td>\n",
       "      <td>f</td>\n",
       "      <td>сотрудник</td>\n",
       "      <td>0</td>\n",
       "      <td>253875.639453</td>\n",
       "      <td>покупка жилья</td>\n",
       "      <td>5</td>\n",
       "      <td>недвижимость</td>\n",
       "      <td>платежеспособен</td>\n",
       "      <td>высокий доход</td>\n",
       "    </tr>\n",
       "    <tr>\n",
       "      <td>1</td>\n",
       "      <td>1</td>\n",
       "      <td>4024</td>\n",
       "      <td>36</td>\n",
       "      <td>среднее</td>\n",
       "      <td>1</td>\n",
       "      <td>женат / замужем</td>\n",
       "      <td>0</td>\n",
       "      <td>f</td>\n",
       "      <td>сотрудник</td>\n",
       "      <td>0</td>\n",
       "      <td>112080.014102</td>\n",
       "      <td>приобретение автомобиля</td>\n",
       "      <td>5</td>\n",
       "      <td>автотранспорт</td>\n",
       "      <td>неплатежеспособен</td>\n",
       "      <td>средний доход</td>\n",
       "    </tr>\n",
       "    <tr>\n",
       "      <td>2</td>\n",
       "      <td>0</td>\n",
       "      <td>5623</td>\n",
       "      <td>33</td>\n",
       "      <td>среднее</td>\n",
       "      <td>1</td>\n",
       "      <td>женат / замужем</td>\n",
       "      <td>0</td>\n",
       "      <td>m</td>\n",
       "      <td>сотрудник</td>\n",
       "      <td>0</td>\n",
       "      <td>145885.952297</td>\n",
       "      <td>покупка жилья</td>\n",
       "      <td>5</td>\n",
       "      <td>недвижимость</td>\n",
       "      <td>платежеспособен</td>\n",
       "      <td>средний доход</td>\n",
       "    </tr>\n",
       "    <tr>\n",
       "      <td>3</td>\n",
       "      <td>3</td>\n",
       "      <td>4124</td>\n",
       "      <td>32</td>\n",
       "      <td>среднее</td>\n",
       "      <td>1</td>\n",
       "      <td>женат / замужем</td>\n",
       "      <td>0</td>\n",
       "      <td>m</td>\n",
       "      <td>сотрудник</td>\n",
       "      <td>0</td>\n",
       "      <td>267628.550329</td>\n",
       "      <td>дополнительное образование</td>\n",
       "      <td>5</td>\n",
       "      <td>образование</td>\n",
       "      <td>платежеспособен</td>\n",
       "      <td>высокий доход</td>\n",
       "    </tr>\n",
       "    <tr>\n",
       "      <td>4</td>\n",
       "      <td>0</td>\n",
       "      <td>3402</td>\n",
       "      <td>53</td>\n",
       "      <td>среднее</td>\n",
       "      <td>1</td>\n",
       "      <td>гражданский брак</td>\n",
       "      <td>1</td>\n",
       "      <td>f</td>\n",
       "      <td>пенсионер</td>\n",
       "      <td>0</td>\n",
       "      <td>158616.077870</td>\n",
       "      <td>сыграть свадьбу</td>\n",
       "      <td>2</td>\n",
       "      <td>свадьба</td>\n",
       "      <td>неплатежеспособен</td>\n",
       "      <td>средний доход</td>\n",
       "    </tr>\n",
       "  </tbody>\n",
       "</table>\n",
       "</div>"
      ],
      "text/plain": [
       "   children  days_employed  dob_years education  education_id  \\\n",
       "0         1           8437         42    высшее             0   \n",
       "1         1           4024         36   среднее             1   \n",
       "2         0           5623         33   среднее             1   \n",
       "3         3           4124         32   среднее             1   \n",
       "4         0           3402         53   среднее             1   \n",
       "\n",
       "      family_status  family_status_id gender income_type  debt   total_income  \\\n",
       "0   женат / замужем                 0      f   сотрудник     0  253875.639453   \n",
       "1   женат / замужем                 0      f   сотрудник     0  112080.014102   \n",
       "2   женат / замужем                 0      m   сотрудник     0  145885.952297   \n",
       "3   женат / замужем                 0      m   сотрудник     0  267628.550329   \n",
       "4  гражданский брак                 1      f   пенсионер     0  158616.077870   \n",
       "\n",
       "                      purpose  income_type_id         target  \\\n",
       "0               покупка жилья               5   недвижимость   \n",
       "1     приобретение автомобиля               5  автотранспорт   \n",
       "2               покупка жилья               5   недвижимость   \n",
       "3  дополнительное образование               5    образование   \n",
       "4             сыграть свадьбу               2        свадьба   \n",
       "\n",
       "     solvency_status   level_income  \n",
       "0    платежеспособен  высокий доход  \n",
       "1  неплатежеспособен  средний доход  \n",
       "2    платежеспособен  средний доход  \n",
       "3    платежеспособен  высокий доход  \n",
       "4  неплатежеспособен  средний доход  "
      ]
     },
     "execution_count": 26,
     "metadata": {},
     "output_type": "execute_result"
    }
   ],
   "source": [
    "min_income = data['total_income'].min()\n",
    "low_bound = median_income - 50000\n",
    "high_bound = median_income + 50000\n",
    "max_income = data['total_income'].max()\n",
    "\n",
    "def get_income_level(income):\n",
    "    if min_income < income < low_bound:\n",
    "        return 'низкий доход'\n",
    "    elif low_bound < income < high_bound:\n",
    "        return 'средний доход'\n",
    "    elif high_bound < income < max_income:\n",
    "        return 'высокий доход'\n",
    "\n",
    "data['level_income'] = data['total_income'].apply(get_income_level)\n",
    "data.head()"
   ]
  },
  {
   "cell_type": "code",
   "execution_count": 27,
   "metadata": {},
   "outputs": [
    {
     "data": {
      "text/html": [
       "<div>\n",
       "<style scoped>\n",
       "    .dataframe tbody tr th:only-of-type {\n",
       "        vertical-align: middle;\n",
       "    }\n",
       "\n",
       "    .dataframe tbody tr th {\n",
       "        vertical-align: top;\n",
       "    }\n",
       "\n",
       "    .dataframe thead th {\n",
       "        text-align: right;\n",
       "    }\n",
       "</style>\n",
       "<table border=\"1\" class=\"dataframe\">\n",
       "  <thead>\n",
       "    <tr style=\"text-align: right;\">\n",
       "      <th></th>\n",
       "      <th>debt</th>\n",
       "    </tr>\n",
       "    <tr>\n",
       "      <th>level_income</th>\n",
       "      <th></th>\n",
       "    </tr>\n",
       "  </thead>\n",
       "  <tbody>\n",
       "    <tr>\n",
       "      <td>высокий доход</td>\n",
       "      <td>0.071880</td>\n",
       "    </tr>\n",
       "    <tr>\n",
       "      <td>низкий доход</td>\n",
       "      <td>0.079678</td>\n",
       "    </tr>\n",
       "    <tr>\n",
       "      <td>средний доход</td>\n",
       "      <td>0.085735</td>\n",
       "    </tr>\n",
       "  </tbody>\n",
       "</table>\n",
       "</div>"
      ],
      "text/plain": [
       "                   debt\n",
       "level_income           \n",
       "высокий доход  0.071880\n",
       "низкий доход   0.079678\n",
       "средний доход  0.085735"
      ]
     },
     "execution_count": 27,
     "metadata": {},
     "output_type": "execute_result"
    }
   ],
   "source": [
    "data.pivot_table(index=['level_income'], values='debt', aggfunc='mean').sort_values(by='debt', ascending=True).head()"
   ]
  },
  {
   "cell_type": "markdown",
   "metadata": {},
   "source": [
    "**Вывод**"
   ]
  },
  {
   "cell_type": "markdown",
   "metadata": {},
   "source": [
    "**Есть ли зависимость между уровнем дохода и возвратом кредита в срок?**\n",
    "    \n",
    "У клиентов с низким уровнем дохода процент шанса задержки платежа выше чем у остальных групп, минимальный у клиентов с высоким доходом."
   ]
  },
  {
   "cell_type": "markdown",
   "metadata": {},
   "source": [
    "- Как разные цели кредита влияют на его возврат в срок?"
   ]
  },
  {
   "cell_type": "code",
   "execution_count": 28,
   "metadata": {},
   "outputs": [
    {
     "data": {
      "text/html": [
       "<div>\n",
       "<style scoped>\n",
       "    .dataframe tbody tr th:only-of-type {\n",
       "        vertical-align: middle;\n",
       "    }\n",
       "\n",
       "    .dataframe tbody tr th {\n",
       "        vertical-align: top;\n",
       "    }\n",
       "\n",
       "    .dataframe thead th {\n",
       "        text-align: right;\n",
       "    }\n",
       "</style>\n",
       "<table border=\"1\" class=\"dataframe\">\n",
       "  <thead>\n",
       "    <tr style=\"text-align: right;\">\n",
       "      <th></th>\n",
       "      <th>debt</th>\n",
       "    </tr>\n",
       "    <tr>\n",
       "      <th>target</th>\n",
       "      <th></th>\n",
       "    </tr>\n",
       "  </thead>\n",
       "  <tbody>\n",
       "    <tr>\n",
       "      <td>недвижимость</td>\n",
       "      <td>0.071421</td>\n",
       "    </tr>\n",
       "    <tr>\n",
       "      <td>строительство</td>\n",
       "      <td>0.076882</td>\n",
       "    </tr>\n",
       "    <tr>\n",
       "      <td>свадьба</td>\n",
       "      <td>0.079654</td>\n",
       "    </tr>\n",
       "    <tr>\n",
       "      <td>образование</td>\n",
       "      <td>0.092616</td>\n",
       "    </tr>\n",
       "    <tr>\n",
       "      <td>автотранспорт</td>\n",
       "      <td>0.093371</td>\n",
       "    </tr>\n",
       "  </tbody>\n",
       "</table>\n",
       "</div>"
      ],
      "text/plain": [
       "                   debt\n",
       "target                 \n",
       "недвижимость   0.071421\n",
       "строительство  0.076882\n",
       "свадьба        0.079654\n",
       "образование    0.092616\n",
       "автотранспорт  0.093371"
      ]
     },
     "execution_count": 28,
     "metadata": {},
     "output_type": "execute_result"
    }
   ],
   "source": [
    "data.pivot_table(index=['target'], values='debt', aggfunc='mean').sort_values(by='debt', ascending=True).head()"
   ]
  },
  {
   "cell_type": "markdown",
   "metadata": {},
   "source": [
    "**Вывод**"
   ]
  },
  {
   "cell_type": "markdown",
   "metadata": {},
   "source": [
    "**Как разные цели кредита влияют на его возврат в срок?**\n",
    "    \n",
    "Минимальный процент невозврата у клиентов, которые берут кредит на недвижимость, а максимальный у \"автотранспорт\"."
   ]
  },
  {
   "cell_type": "markdown",
   "metadata": {},
   "source": [
    "## Шаг 4. Общий вывод"
   ]
  },
  {
   "cell_type": "markdown",
   "metadata": {},
   "source": [
    "**Общий вывод**\n",
    "    \n",
    "Исходя из полученный результатов, я сделал вывод, что предпочтительнее выбирать будущих клиентов из числа потенциальных кредиторов:\n",
    "    \n",
    " - с высоким доходом;\n",
    "    \n",
    "    \n",
    " - без детей или с детьми , но не больше 1 (наличие > 1 ребенка снижает платежеспособность);\n",
    "    \n",
    "    \n",
    " - состоящие в браке или разведенные, так же вдовы / вдовцы;\n",
    "    \n",
    "    \n",
    " - с целями имеющими долгосрочные обязательства, например, кредит на покупку недвижимости или строительства;"
   ]
  }
 ],
 "metadata": {
  "ExecuteTimeLog": [
   {
    "duration": 986,
    "start_time": "2021-12-12T13:58:52.702Z"
   },
   {
    "duration": 85,
    "start_time": "2021-12-12T14:03:46.801Z"
   },
   {
    "duration": 76,
    "start_time": "2021-12-12T14:04:11.439Z"
   },
   {
    "duration": 80,
    "start_time": "2021-12-12T14:04:27.562Z"
   },
   {
    "duration": 76,
    "start_time": "2021-12-12T14:19:16.433Z"
   },
   {
    "duration": 79,
    "start_time": "2021-12-12T14:19:53.873Z"
   },
   {
    "duration": 79,
    "start_time": "2021-12-12T14:20:17.514Z"
   },
   {
    "duration": 78,
    "start_time": "2021-12-12T14:20:27.362Z"
   },
   {
    "duration": 77,
    "start_time": "2021-12-12T14:21:20.874Z"
   },
   {
    "duration": 76,
    "start_time": "2021-12-12T14:24:29.790Z"
   },
   {
    "duration": 81,
    "start_time": "2021-12-12T14:24:53.246Z"
   },
   {
    "duration": 715,
    "start_time": "2021-12-12T14:26:22.584Z"
   },
   {
    "duration": 69,
    "start_time": "2021-12-12T14:27:24.618Z"
   },
   {
    "duration": 74,
    "start_time": "2021-12-12T14:27:27.455Z"
   },
   {
    "duration": 79,
    "start_time": "2021-12-12T14:38:43.545Z"
   },
   {
    "duration": 100,
    "start_time": "2021-12-12T14:39:01.851Z"
   },
   {
    "duration": 71,
    "start_time": "2021-12-12T14:39:26.679Z"
   },
   {
    "duration": 77,
    "start_time": "2021-12-12T14:40:00.210Z"
   },
   {
    "duration": 74,
    "start_time": "2021-12-12T14:40:09.396Z"
   },
   {
    "duration": 73,
    "start_time": "2021-12-12T14:40:58.210Z"
   },
   {
    "duration": 77,
    "start_time": "2021-12-12T14:41:39.668Z"
   },
   {
    "duration": 77,
    "start_time": "2021-12-12T14:41:51.165Z"
   },
   {
    "duration": 99,
    "start_time": "2021-12-12T14:43:16.280Z"
   },
   {
    "duration": 840,
    "start_time": "2021-12-12T15:28:58.158Z"
   },
   {
    "duration": 116,
    "start_time": "2021-12-12T16:15:53.950Z"
   },
   {
    "duration": 101,
    "start_time": "2021-12-12T16:16:08.535Z"
   },
   {
    "duration": 72,
    "start_time": "2021-12-12T16:16:40.481Z"
   },
   {
    "duration": 74,
    "start_time": "2021-12-12T16:21:55.602Z"
   },
   {
    "duration": 71,
    "start_time": "2021-12-12T16:22:46.978Z"
   },
   {
    "duration": 411,
    "start_time": "2021-12-12T16:41:18.442Z"
   },
   {
    "duration": 75,
    "start_time": "2021-12-12T16:41:21.903Z"
   },
   {
    "duration": 74,
    "start_time": "2021-12-12T16:41:33.855Z"
   },
   {
    "duration": 94,
    "start_time": "2021-12-12T16:41:40.750Z"
   },
   {
    "duration": 88,
    "start_time": "2021-12-12T16:43:24.833Z"
   },
   {
    "duration": 89,
    "start_time": "2021-12-12T16:43:37.779Z"
   },
   {
    "duration": 72,
    "start_time": "2021-12-12T16:50:12.846Z"
   },
   {
    "duration": 325,
    "start_time": "2021-12-13T16:18:17.415Z"
   },
   {
    "duration": 782,
    "start_time": "2021-12-13T16:18:23.830Z"
   },
   {
    "duration": 6,
    "start_time": "2021-12-13T16:18:31.691Z"
   },
   {
    "duration": 6,
    "start_time": "2021-12-13T16:18:38.072Z"
   },
   {
    "duration": 6,
    "start_time": "2021-12-13T16:18:44.244Z"
   },
   {
    "duration": 76,
    "start_time": "2021-12-13T16:18:55.202Z"
   },
   {
    "duration": 7,
    "start_time": "2021-12-13T16:19:44.204Z"
   },
   {
    "duration": 6,
    "start_time": "2021-12-13T16:19:56.874Z"
   },
   {
    "duration": 5,
    "start_time": "2021-12-13T16:20:03.363Z"
   },
   {
    "duration": 6,
    "start_time": "2021-12-13T16:20:11.396Z"
   },
   {
    "duration": 68,
    "start_time": "2021-12-13T16:21:09.984Z"
   },
   {
    "duration": 326,
    "start_time": "2021-12-13T16:26:11.678Z"
   },
   {
    "duration": 8,
    "start_time": "2021-12-13T16:26:29.617Z"
   },
   {
    "duration": 11,
    "start_time": "2021-12-13T16:27:41.407Z"
   },
   {
    "duration": 13,
    "start_time": "2021-12-13T16:28:50.179Z"
   },
   {
    "duration": 10,
    "start_time": "2021-12-13T16:28:53.278Z"
   },
   {
    "duration": 12,
    "start_time": "2021-12-13T16:32:19.008Z"
   },
   {
    "duration": 14,
    "start_time": "2021-12-13T16:32:24.929Z"
   },
   {
    "duration": 10,
    "start_time": "2021-12-13T16:32:34.951Z"
   },
   {
    "duration": 95,
    "start_time": "2021-12-13T16:33:32.134Z"
   },
   {
    "duration": 94,
    "start_time": "2021-12-13T16:34:01.189Z"
   },
   {
    "duration": 137,
    "start_time": "2021-12-13T16:34:05.381Z"
   },
   {
    "duration": 13,
    "start_time": "2021-12-13T16:34:21.672Z"
   },
   {
    "duration": 20,
    "start_time": "2021-12-13T16:34:34.182Z"
   },
   {
    "duration": 14,
    "start_time": "2021-12-13T16:34:52.974Z"
   },
   {
    "duration": 14,
    "start_time": "2021-12-13T16:35:29.693Z"
   },
   {
    "duration": 66,
    "start_time": "2021-12-13T16:35:52.756Z"
   },
   {
    "duration": 16,
    "start_time": "2021-12-13T16:35:55.508Z"
   },
   {
    "duration": 15,
    "start_time": "2021-12-13T16:40:22.313Z"
   },
   {
    "duration": 67,
    "start_time": "2021-12-13T16:40:27.585Z"
   },
   {
    "duration": 14,
    "start_time": "2021-12-13T16:40:31.372Z"
   },
   {
    "duration": 5,
    "start_time": "2021-12-13T16:43:42.567Z"
   },
   {
    "duration": 9,
    "start_time": "2021-12-13T16:43:59.010Z"
   },
   {
    "duration": 905,
    "start_time": "2021-12-13T16:44:11.352Z"
   },
   {
    "duration": 68,
    "start_time": "2021-12-13T16:46:06.379Z"
   },
   {
    "duration": 67,
    "start_time": "2021-12-13T16:50:00.067Z"
   },
   {
    "duration": 17,
    "start_time": "2021-12-13T16:50:17.290Z"
   },
   {
    "duration": 17,
    "start_time": "2021-12-13T16:50:29.343Z"
   },
   {
    "duration": 18,
    "start_time": "2021-12-13T16:50:41.690Z"
   },
   {
    "duration": 20,
    "start_time": "2021-12-13T16:51:03.136Z"
   },
   {
    "duration": 15,
    "start_time": "2021-12-13T17:00:21.579Z"
   },
   {
    "duration": 77,
    "start_time": "2021-12-13T17:02:27.178Z"
   },
   {
    "duration": 73,
    "start_time": "2021-12-13T17:02:38.071Z"
   },
   {
    "duration": 284,
    "start_time": "2021-12-13T17:07:08.931Z"
   },
   {
    "duration": 8,
    "start_time": "2021-12-13T17:07:15.328Z"
   },
   {
    "duration": 71,
    "start_time": "2021-12-13T17:07:23.558Z"
   },
   {
    "duration": 7,
    "start_time": "2021-12-13T17:07:30.915Z"
   },
   {
    "duration": 339,
    "start_time": "2021-12-13T17:07:40.922Z"
   },
   {
    "duration": 9,
    "start_time": "2021-12-13T17:07:50.038Z"
   },
   {
    "duration": 8,
    "start_time": "2021-12-13T17:07:54.529Z"
   },
   {
    "duration": 277,
    "start_time": "2021-12-13T17:09:20.255Z"
   },
   {
    "duration": 6,
    "start_time": "2021-12-13T17:09:26.872Z"
   },
   {
    "duration": 6,
    "start_time": "2021-12-13T17:11:33.436Z"
   },
   {
    "duration": -48,
    "start_time": "2021-12-13T17:12:08.694Z"
   },
   {
    "duration": 1541,
    "start_time": "2021-12-13T17:12:11.274Z"
   },
   {
    "duration": 4081,
    "start_time": "2021-12-13T17:12:15.236Z"
   },
   {
    "duration": 285,
    "start_time": "2021-12-13T17:17:05.130Z"
   },
   {
    "duration": 6,
    "start_time": "2021-12-13T17:17:13.225Z"
   },
   {
    "duration": 6,
    "start_time": "2021-12-13T17:19:43.333Z"
   },
   {
    "duration": 9,
    "start_time": "2021-12-13T17:20:09.030Z"
   },
   {
    "duration": 6,
    "start_time": "2021-12-13T17:20:15.258Z"
   },
   {
    "duration": 69,
    "start_time": "2021-12-13T17:20:19.161Z"
   },
   {
    "duration": 6,
    "start_time": "2021-12-13T17:20:21.520Z"
   },
   {
    "duration": 70,
    "start_time": "2021-12-13T17:21:27.561Z"
   },
   {
    "duration": 6,
    "start_time": "2021-12-13T17:21:43.520Z"
   },
   {
    "duration": 112,
    "start_time": "2021-12-13T17:21:48.979Z"
   },
   {
    "duration": 150,
    "start_time": "2021-12-13T17:22:09.482Z"
   },
   {
    "duration": 72,
    "start_time": "2021-12-13T17:22:54.861Z"
   },
   {
    "duration": 268,
    "start_time": "2021-12-13T17:23:18.189Z"
   },
   {
    "duration": 7,
    "start_time": "2021-12-13T17:23:21.405Z"
   },
   {
    "duration": 66,
    "start_time": "2021-12-13T17:24:02.776Z"
   },
   {
    "duration": 8,
    "start_time": "2021-12-13T17:25:13.943Z"
   },
   {
    "duration": 6,
    "start_time": "2021-12-13T17:25:42.260Z"
   },
   {
    "duration": 1099,
    "start_time": "2021-12-13T17:28:17.712Z"
   },
   {
    "duration": 10,
    "start_time": "2021-12-13T17:28:18.814Z"
   },
   {
    "duration": 24,
    "start_time": "2021-12-13T17:28:18.827Z"
   },
   {
    "duration": 28,
    "start_time": "2021-12-13T17:28:18.854Z"
   },
   {
    "duration": 10,
    "start_time": "2021-12-13T17:28:37.254Z"
   },
   {
    "duration": 16,
    "start_time": "2021-12-13T17:28:51.467Z"
   },
   {
    "duration": 18,
    "start_time": "2021-12-13T17:28:59.606Z"
   },
   {
    "duration": 12,
    "start_time": "2021-12-13T17:29:10.189Z"
   },
   {
    "duration": 13,
    "start_time": "2021-12-13T17:29:13.516Z"
   },
   {
    "duration": 364,
    "start_time": "2021-12-13T17:29:21.850Z"
   },
   {
    "duration": 2137,
    "start_time": "2021-12-13T17:29:28.253Z"
   },
   {
    "duration": 13,
    "start_time": "2021-12-13T17:29:36.358Z"
   },
   {
    "duration": 282,
    "start_time": "2021-12-13T17:31:28.411Z"
   },
   {
    "duration": 13,
    "start_time": "2021-12-13T17:31:36.660Z"
   },
   {
    "duration": 13,
    "start_time": "2021-12-13T17:31:45.942Z"
   },
   {
    "duration": 12,
    "start_time": "2021-12-13T17:32:20.066Z"
   },
   {
    "duration": 267,
    "start_time": "2021-12-13T17:33:35.375Z"
   },
   {
    "duration": 272,
    "start_time": "2021-12-13T17:33:40.030Z"
   },
   {
    "duration": 303,
    "start_time": "2021-12-13T17:33:43.205Z"
   },
   {
    "duration": 268,
    "start_time": "2021-12-13T17:33:51.037Z"
   },
   {
    "duration": 12,
    "start_time": "2021-12-13T17:33:57.316Z"
   },
   {
    "duration": 92,
    "start_time": "2021-12-13T17:34:19.980Z"
   },
   {
    "duration": 35,
    "start_time": "2021-12-13T17:34:41.380Z"
   },
   {
    "duration": 275,
    "start_time": "2021-12-13T17:35:41.752Z"
   },
   {
    "duration": 270,
    "start_time": "2021-12-13T17:35:45.850Z"
   },
   {
    "duration": 33,
    "start_time": "2021-12-13T17:36:10.309Z"
   },
   {
    "duration": 11,
    "start_time": "2021-12-13T17:36:34.434Z"
   },
   {
    "duration": 70,
    "start_time": "2021-12-13T17:42:56.507Z"
   },
   {
    "duration": 33,
    "start_time": "2021-12-13T17:43:08.729Z"
   },
   {
    "duration": 35,
    "start_time": "2021-12-13T17:46:30.798Z"
   },
   {
    "duration": 35,
    "start_time": "2021-12-13T17:46:47.705Z"
   },
   {
    "duration": 293,
    "start_time": "2021-12-13T17:49:10.961Z"
   },
   {
    "duration": 326,
    "start_time": "2021-12-13T17:49:30.618Z"
   },
   {
    "duration": 21,
    "start_time": "2021-12-13T17:50:03.550Z"
   },
   {
    "duration": 13,
    "start_time": "2021-12-13T17:50:25.274Z"
   },
   {
    "duration": 28,
    "start_time": "2021-12-13T17:51:12.308Z"
   },
   {
    "duration": 14,
    "start_time": "2021-12-13T17:51:28.776Z"
   },
   {
    "duration": 12,
    "start_time": "2021-12-13T17:52:36.247Z"
   },
   {
    "duration": 15,
    "start_time": "2021-12-13T17:53:01.582Z"
   },
   {
    "duration": 13,
    "start_time": "2021-12-13T17:56:38.350Z"
   },
   {
    "duration": 74,
    "start_time": "2021-12-13T17:56:43.922Z"
   },
   {
    "duration": 15,
    "start_time": "2021-12-13T17:56:45.830Z"
   },
   {
    "duration": 284,
    "start_time": "2021-12-13T17:57:19.720Z"
   },
   {
    "duration": 52,
    "start_time": "2021-12-13T17:58:12.107Z"
   },
   {
    "duration": 13,
    "start_time": "2021-12-13T17:58:21.609Z"
   },
   {
    "duration": 12,
    "start_time": "2021-12-13T17:58:41.016Z"
   },
   {
    "duration": 7,
    "start_time": "2021-12-13T18:17:25.998Z"
   },
   {
    "duration": 513,
    "start_time": "2021-12-13T18:21:24.321Z"
   },
   {
    "duration": 96,
    "start_time": "2021-12-13T18:27:22.023Z"
   },
   {
    "duration": 8,
    "start_time": "2021-12-13T19:08:28.965Z"
   },
   {
    "duration": 4,
    "start_time": "2021-12-13T19:08:42.089Z"
   },
   {
    "duration": 98,
    "start_time": "2021-12-13T19:08:48.679Z"
   },
   {
    "duration": 7,
    "start_time": "2021-12-13T19:08:55.019Z"
   },
   {
    "duration": 9,
    "start_time": "2021-12-13T19:09:29.758Z"
   },
   {
    "duration": 7,
    "start_time": "2021-12-13T19:09:42.248Z"
   },
   {
    "duration": 7,
    "start_time": "2021-12-13T19:10:04.776Z"
   },
   {
    "duration": 9,
    "start_time": "2021-12-13T19:10:25.328Z"
   },
   {
    "duration": 467,
    "start_time": "2021-12-13T19:12:33.200Z"
   },
   {
    "duration": 305,
    "start_time": "2021-12-13T19:12:45.948Z"
   },
   {
    "duration": 429,
    "start_time": "2021-12-13T19:13:51.346Z"
   },
   {
    "duration": 7,
    "start_time": "2021-12-13T19:14:04.102Z"
   },
   {
    "duration": 831,
    "start_time": "2021-12-13T19:14:09.034Z"
   },
   {
    "duration": 18,
    "start_time": "2021-12-13T19:14:34.044Z"
   },
   {
    "duration": 27,
    "start_time": "2021-12-13T19:15:33.961Z"
   },
   {
    "duration": 23,
    "start_time": "2021-12-13T19:15:40.296Z"
   },
   {
    "duration": 24,
    "start_time": "2021-12-13T19:15:54.940Z"
   },
   {
    "duration": 25,
    "start_time": "2021-12-13T19:16:02.834Z"
   },
   {
    "duration": 9,
    "start_time": "2021-12-13T19:21:27.500Z"
   },
   {
    "duration": 10,
    "start_time": "2021-12-13T19:21:47.617Z"
   },
   {
    "duration": 73,
    "start_time": "2021-12-13T19:25:39.691Z"
   },
   {
    "duration": 70,
    "start_time": "2021-12-13T19:27:24.626Z"
   },
   {
    "duration": 7,
    "start_time": "2021-12-13T19:27:35.702Z"
   },
   {
    "duration": 7,
    "start_time": "2021-12-13T19:28:51.052Z"
   },
   {
    "duration": 46,
    "start_time": "2021-12-13T19:29:48.045Z"
   },
   {
    "duration": 22,
    "start_time": "2021-12-13T19:31:06.813Z"
   },
   {
    "duration": 59,
    "start_time": "2021-12-13T19:31:24.698Z"
   },
   {
    "duration": 269,
    "start_time": "2021-12-13T19:33:57.754Z"
   },
   {
    "duration": 22,
    "start_time": "2021-12-13T19:36:04.964Z"
   },
   {
    "duration": 23,
    "start_time": "2021-12-13T19:37:06.621Z"
   },
   {
    "duration": 23,
    "start_time": "2021-12-13T19:37:55.645Z"
   },
   {
    "duration": 14,
    "start_time": "2021-12-13T19:41:11.268Z"
   },
   {
    "duration": 15,
    "start_time": "2021-12-13T19:41:40.990Z"
   },
   {
    "duration": 10,
    "start_time": "2021-12-13T19:42:05.573Z"
   },
   {
    "duration": 285,
    "start_time": "2021-12-13T19:42:10.094Z"
   },
   {
    "duration": 280,
    "start_time": "2021-12-13T19:42:12.915Z"
   },
   {
    "duration": 282,
    "start_time": "2021-12-13T19:42:26.770Z"
   },
   {
    "duration": 111,
    "start_time": "2021-12-13T19:42:45.744Z"
   },
   {
    "duration": 8,
    "start_time": "2021-12-13T19:43:54.786Z"
   },
   {
    "duration": 9,
    "start_time": "2021-12-13T19:44:00.016Z"
   },
   {
    "duration": 7,
    "start_time": "2021-12-13T19:44:36.730Z"
   },
   {
    "duration": 8,
    "start_time": "2021-12-13T19:44:39.605Z"
   },
   {
    "duration": 266,
    "start_time": "2021-12-13T19:44:46.190Z"
   },
   {
    "duration": 7,
    "start_time": "2021-12-13T19:45:29.035Z"
   },
   {
    "duration": 14,
    "start_time": "2021-12-13T19:46:05.931Z"
   },
   {
    "duration": 24,
    "start_time": "2021-12-13T19:46:12.871Z"
   },
   {
    "duration": 25,
    "start_time": "2021-12-13T19:47:47.290Z"
   },
   {
    "duration": 71,
    "start_time": "2021-12-13T19:50:32.394Z"
   },
   {
    "duration": 76,
    "start_time": "2021-12-13T19:50:36.400Z"
   },
   {
    "duration": 71,
    "start_time": "2021-12-13T19:51:41.641Z"
   },
   {
    "duration": 22,
    "start_time": "2021-12-13T19:52:42.416Z"
   },
   {
    "duration": 267,
    "start_time": "2021-12-13T19:57:02.369Z"
   },
   {
    "duration": 291,
    "start_time": "2021-12-13T19:59:03.902Z"
   },
   {
    "duration": 860,
    "start_time": "2021-12-13T19:59:57.708Z"
   },
   {
    "duration": 6,
    "start_time": "2021-12-13T19:59:58.571Z"
   },
   {
    "duration": 359,
    "start_time": "2021-12-13T19:59:58.580Z"
   },
   {
    "duration": 936,
    "start_time": "2021-12-13T19:59:58.941Z"
   },
   {
    "duration": -1151,
    "start_time": "2021-12-13T20:00:01.030Z"
   },
   {
    "duration": -1167,
    "start_time": "2021-12-13T20:00:01.048Z"
   },
   {
    "duration": 28,
    "start_time": "2021-12-13T20:01:08.865Z"
   },
   {
    "duration": 21,
    "start_time": "2021-12-13T20:01:16.136Z"
   },
   {
    "duration": 17,
    "start_time": "2021-12-13T20:01:18.926Z"
   },
   {
    "duration": 14,
    "start_time": "2021-12-13T20:01:40.130Z"
   },
   {
    "duration": 18,
    "start_time": "2021-12-13T20:05:03.735Z"
   },
   {
    "duration": 6,
    "start_time": "2021-12-13T20:09:43.943Z"
   },
   {
    "duration": 20,
    "start_time": "2021-12-13T20:09:51.745Z"
   },
   {
    "duration": 7,
    "start_time": "2021-12-13T20:13:13.796Z"
   },
   {
    "duration": 312,
    "start_time": "2021-12-13T20:13:19.970Z"
   },
   {
    "duration": 7,
    "start_time": "2021-12-13T20:13:53.780Z"
   },
   {
    "duration": 26,
    "start_time": "2021-12-13T20:14:33.450Z"
   },
   {
    "duration": 19,
    "start_time": "2021-12-13T20:16:42.656Z"
   },
   {
    "duration": 20,
    "start_time": "2021-12-13T20:16:53.553Z"
   },
   {
    "duration": 274,
    "start_time": "2021-12-13T20:16:57.929Z"
   },
   {
    "duration": 351,
    "start_time": "2021-12-13T20:18:19.314Z"
   },
   {
    "duration": 289,
    "start_time": "2021-12-13T20:18:55.246Z"
   },
   {
    "duration": 355,
    "start_time": "2021-12-13T20:20:04.976Z"
   },
   {
    "duration": 315,
    "start_time": "2021-12-13T20:20:07.420Z"
   },
   {
    "duration": 20,
    "start_time": "2021-12-13T20:20:44.418Z"
   },
   {
    "duration": 6,
    "start_time": "2021-12-13T20:21:23.972Z"
   },
   {
    "duration": 333,
    "start_time": "2021-12-13T20:21:37.373Z"
   },
   {
    "duration": 19,
    "start_time": "2021-12-13T20:22:32.155Z"
   },
   {
    "duration": 81,
    "start_time": "2021-12-13T20:23:05.452Z"
   },
   {
    "duration": 303,
    "start_time": "2021-12-13T20:35:17.834Z"
   },
   {
    "duration": 7,
    "start_time": "2021-12-13T20:37:19.957Z"
   },
   {
    "duration": 356,
    "start_time": "2021-12-13T20:38:01.755Z"
   },
   {
    "duration": 342,
    "start_time": "2021-12-13T20:38:19.409Z"
   },
   {
    "duration": 281,
    "start_time": "2021-12-13T20:38:48.834Z"
   },
   {
    "duration": 14,
    "start_time": "2021-12-13T20:39:48.191Z"
   },
   {
    "duration": 300,
    "start_time": "2021-12-13T20:40:34.168Z"
   },
   {
    "duration": 14,
    "start_time": "2021-12-13T20:40:39.562Z"
   },
   {
    "duration": 11,
    "start_time": "2021-12-13T20:40:57.828Z"
   },
   {
    "duration": 87,
    "start_time": "2021-12-13T20:41:04.462Z"
   },
   {
    "duration": 11,
    "start_time": "2021-12-13T20:41:10.840Z"
   },
   {
    "duration": 13,
    "start_time": "2021-12-13T20:42:01.977Z"
   },
   {
    "duration": 12,
    "start_time": "2021-12-13T20:42:11.275Z"
   },
   {
    "duration": 42,
    "start_time": "2021-12-13T20:45:27.049Z"
   },
   {
    "duration": 10,
    "start_time": "2021-12-13T20:45:45.897Z"
   },
   {
    "duration": 13,
    "start_time": "2021-12-13T20:46:18.551Z"
   },
   {
    "duration": 92,
    "start_time": "2021-12-13T20:46:44.407Z"
   },
   {
    "duration": 12,
    "start_time": "2021-12-13T20:46:50.167Z"
   },
   {
    "duration": 11,
    "start_time": "2021-12-13T20:47:01.667Z"
   },
   {
    "duration": 92,
    "start_time": "2021-12-13T20:48:54.289Z"
   },
   {
    "duration": 88,
    "start_time": "2021-12-13T20:49:07.194Z"
   },
   {
    "duration": 12,
    "start_time": "2021-12-13T20:53:45.610Z"
   },
   {
    "duration": 40,
    "start_time": "2021-12-13T20:55:09.476Z"
   },
   {
    "duration": 332,
    "start_time": "2021-12-13T20:57:24.228Z"
   },
   {
    "duration": 12,
    "start_time": "2021-12-13T20:57:38.222Z"
   },
   {
    "duration": 25,
    "start_time": "2021-12-13T20:57:45.353Z"
   },
   {
    "duration": 21,
    "start_time": "2021-12-13T20:57:47.797Z"
   },
   {
    "duration": 10,
    "start_time": "2021-12-13T20:58:00.873Z"
   },
   {
    "duration": 8,
    "start_time": "2021-12-13T21:08:02.137Z"
   },
   {
    "duration": 11,
    "start_time": "2021-12-13T21:08:40.833Z"
   },
   {
    "duration": 40,
    "start_time": "2021-12-13T21:11:15.508Z"
   },
   {
    "duration": 89,
    "start_time": "2021-12-13T21:16:15.195Z"
   },
   {
    "duration": 12,
    "start_time": "2021-12-13T21:16:22.063Z"
   },
   {
    "duration": 9,
    "start_time": "2021-12-13T21:18:28.257Z"
   },
   {
    "duration": 6,
    "start_time": "2021-12-13T21:20:55.112Z"
   },
   {
    "duration": 6,
    "start_time": "2021-12-13T21:21:20.435Z"
   },
   {
    "duration": 6,
    "start_time": "2021-12-13T21:21:37.247Z"
   },
   {
    "duration": 6,
    "start_time": "2021-12-13T21:23:04.053Z"
   },
   {
    "duration": 42,
    "start_time": "2021-12-13T21:29:22.568Z"
   },
   {
    "duration": 36,
    "start_time": "2021-12-13T21:33:07.395Z"
   },
   {
    "duration": 12,
    "start_time": "2021-12-13T21:33:54.164Z"
   },
   {
    "duration": 3988,
    "start_time": "2021-12-13T21:37:07.542Z"
   },
   {
    "duration": 3782,
    "start_time": "2021-12-13T21:38:03.006Z"
   },
   {
    "duration": 34,
    "start_time": "2021-12-13T21:39:51.287Z"
   },
   {
    "duration": 590,
    "start_time": "2021-12-13T21:40:39.983Z"
   },
   {
    "duration": 273,
    "start_time": "2021-12-13T21:47:38.413Z"
   },
   {
    "duration": 296,
    "start_time": "2021-12-13T21:47:51.015Z"
   },
   {
    "duration": 8,
    "start_time": "2021-12-13T21:54:02.842Z"
   },
   {
    "duration": -23,
    "start_time": "2021-12-13T22:01:16.178Z"
   },
   {
    "duration": 757,
    "start_time": "2021-12-13T22:01:31.847Z"
   },
   {
    "duration": 6,
    "start_time": "2021-12-13T22:01:32.607Z"
   },
   {
    "duration": 48,
    "start_time": "2021-12-13T22:01:32.623Z"
   },
   {
    "duration": 15,
    "start_time": "2021-12-13T22:01:32.674Z"
   },
   {
    "duration": 96,
    "start_time": "2021-12-13T22:01:32.692Z"
   },
   {
    "duration": 361,
    "start_time": "2021-12-13T22:01:32.790Z"
   },
   {
    "duration": -30,
    "start_time": "2021-12-13T22:01:33.185Z"
   },
   {
    "duration": -44,
    "start_time": "2021-12-13T22:01:33.201Z"
   },
   {
    "duration": -47,
    "start_time": "2021-12-13T22:01:33.206Z"
   },
   {
    "duration": -48,
    "start_time": "2021-12-13T22:01:33.209Z"
   },
   {
    "duration": -49,
    "start_time": "2021-12-13T22:01:33.212Z"
   },
   {
    "duration": 1818,
    "start_time": "2021-12-13T22:02:57.513Z"
   },
   {
    "duration": 7,
    "start_time": "2021-12-13T22:03:05.657Z"
   },
   {
    "duration": 19,
    "start_time": "2021-12-13T22:03:59.940Z"
   },
   {
    "duration": 259,
    "start_time": "2021-12-13T22:04:06.418Z"
   },
   {
    "duration": 5,
    "start_time": "2021-12-13T22:04:14.370Z"
   },
   {
    "duration": 362,
    "start_time": "2021-12-13T22:06:31.287Z"
   },
   {
    "duration": 35,
    "start_time": "2021-12-13T22:06:41.736Z"
   },
   {
    "duration": 36,
    "start_time": "2021-12-13T22:07:15.471Z"
   },
   {
    "duration": 10,
    "start_time": "2021-12-13T22:08:01.205Z"
   },
   {
    "duration": 265,
    "start_time": "2021-12-13T22:08:22.452Z"
   },
   {
    "duration": 12,
    "start_time": "2021-12-13T22:08:32.223Z"
   },
   {
    "duration": 283,
    "start_time": "2021-12-13T22:08:39.979Z"
   },
   {
    "duration": 33,
    "start_time": "2021-12-13T22:09:07.022Z"
   },
   {
    "duration": 34,
    "start_time": "2021-12-13T22:09:31.426Z"
   },
   {
    "duration": 35,
    "start_time": "2021-12-13T22:09:41.205Z"
   },
   {
    "duration": 34,
    "start_time": "2021-12-13T22:10:08.129Z"
   },
   {
    "duration": 161,
    "start_time": "2021-12-13T22:12:44.127Z"
   },
   {
    "duration": 727,
    "start_time": "2021-12-13T22:13:28.267Z"
   },
   {
    "duration": 7,
    "start_time": "2021-12-13T22:13:28.997Z"
   },
   {
    "duration": 40,
    "start_time": "2021-12-13T22:13:29.007Z"
   },
   {
    "duration": 16,
    "start_time": "2021-12-13T22:13:29.050Z"
   },
   {
    "duration": 96,
    "start_time": "2021-12-13T22:13:29.069Z"
   },
   {
    "duration": 9,
    "start_time": "2021-12-13T22:13:29.168Z"
   },
   {
    "duration": 102,
    "start_time": "2021-12-13T22:13:29.180Z"
   },
   {
    "duration": 60,
    "start_time": "2021-12-13T22:13:29.226Z"
   },
   {
    "duration": 58,
    "start_time": "2021-12-13T22:13:29.230Z"
   },
   {
    "duration": 58,
    "start_time": "2021-12-13T22:13:29.232Z"
   },
   {
    "duration": 48,
    "start_time": "2021-12-13T22:13:29.244Z"
   },
   {
    "duration": 429,
    "start_time": "2021-12-13T22:13:51.624Z"
   },
   {
    "duration": 770,
    "start_time": "2021-12-13T22:14:15.052Z"
   },
   {
    "duration": 424,
    "start_time": "2021-12-13T22:16:06.280Z"
   },
   {
    "duration": 18,
    "start_time": "2021-12-13T22:16:12.535Z"
   },
   {
    "duration": 15,
    "start_time": "2021-12-13T22:16:39.645Z"
   },
   {
    "duration": 14,
    "start_time": "2021-12-13T22:16:48.856Z"
   },
   {
    "duration": 15,
    "start_time": "2021-12-13T22:19:39.292Z"
   },
   {
    "duration": 580,
    "start_time": "2021-12-13T22:20:04.606Z"
   },
   {
    "duration": 90,
    "start_time": "2021-12-13T22:20:47.821Z"
   },
   {
    "duration": 122,
    "start_time": "2021-12-13T22:21:15.539Z"
   },
   {
    "duration": 9,
    "start_time": "2021-12-13T22:21:21.687Z"
   },
   {
    "duration": 338,
    "start_time": "2021-12-13T22:21:31.663Z"
   },
   {
    "duration": 81,
    "start_time": "2021-12-13T22:22:18.518Z"
   },
   {
    "duration": 655,
    "start_time": "2021-12-13T22:22:27.979Z"
   },
   {
    "duration": 266,
    "start_time": "2021-12-13T22:23:29.640Z"
   },
   {
    "duration": 100,
    "start_time": "2021-12-13T22:23:51.538Z"
   },
   {
    "duration": 115,
    "start_time": "2021-12-13T22:24:07.053Z"
   },
   {
    "duration": 93,
    "start_time": "2021-12-13T22:24:16.547Z"
   },
   {
    "duration": 107,
    "start_time": "2021-12-13T22:24:24.025Z"
   },
   {
    "duration": 284,
    "start_time": "2021-12-13T22:24:34.749Z"
   },
   {
    "duration": 333,
    "start_time": "2021-12-13T22:25:27.321Z"
   },
   {
    "duration": 388,
    "start_time": "2021-12-13T22:25:35.788Z"
   },
   {
    "duration": 299,
    "start_time": "2021-12-13T22:25:45.575Z"
   },
   {
    "duration": 286,
    "start_time": "2021-12-13T22:26:24.238Z"
   },
   {
    "duration": 272,
    "start_time": "2021-12-13T22:26:33.070Z"
   },
   {
    "duration": 557,
    "start_time": "2021-12-13T22:26:41.220Z"
   },
   {
    "duration": 633,
    "start_time": "2021-12-13T22:27:19.811Z"
   },
   {
    "duration": 2004,
    "start_time": "2021-12-13T22:28:53.135Z"
   },
   {
    "duration": 22,
    "start_time": "2021-12-13T22:29:26.752Z"
   },
   {
    "duration": 20,
    "start_time": "2021-12-13T22:29:30.963Z"
   },
   {
    "duration": 21,
    "start_time": "2021-12-13T22:29:35.116Z"
   },
   {
    "duration": 749,
    "start_time": "2021-12-13T22:29:45.562Z"
   },
   {
    "duration": 8,
    "start_time": "2021-12-13T22:29:46.314Z"
   },
   {
    "duration": 39,
    "start_time": "2021-12-13T22:29:46.325Z"
   },
   {
    "duration": 15,
    "start_time": "2021-12-13T22:29:46.367Z"
   },
   {
    "duration": 100,
    "start_time": "2021-12-13T22:29:46.384Z"
   },
   {
    "duration": 2098,
    "start_time": "2021-12-13T22:29:46.487Z"
   },
   {
    "duration": 93,
    "start_time": "2021-12-13T22:29:48.588Z"
   },
   {
    "duration": -22,
    "start_time": "2021-12-13T22:29:48.706Z"
   },
   {
    "duration": -23,
    "start_time": "2021-12-13T22:29:48.709Z"
   },
   {
    "duration": -22,
    "start_time": "2021-12-13T22:29:48.711Z"
   },
   {
    "duration": -22,
    "start_time": "2021-12-13T22:29:48.713Z"
   },
   {
    "duration": 2160,
    "start_time": "2021-12-13T22:30:16.611Z"
   },
   {
    "duration": 807,
    "start_time": "2021-12-13T22:30:29.705Z"
   },
   {
    "duration": 6,
    "start_time": "2021-12-13T22:30:30.516Z"
   },
   {
    "duration": 41,
    "start_time": "2021-12-13T22:30:30.525Z"
   },
   {
    "duration": 18,
    "start_time": "2021-12-13T22:30:30.568Z"
   },
   {
    "duration": 110,
    "start_time": "2021-12-13T22:30:30.589Z"
   },
   {
    "duration": 2202,
    "start_time": "2021-12-13T22:30:30.701Z"
   },
   {
    "duration": 154,
    "start_time": "2021-12-13T22:30:32.905Z"
   },
   {
    "duration": 45,
    "start_time": "2021-12-13T22:30:33.017Z"
   },
   {
    "duration": 17,
    "start_time": "2021-12-13T22:30:33.047Z"
   },
   {
    "duration": 4,
    "start_time": "2021-12-13T22:30:33.061Z"
   },
   {
    "duration": 1,
    "start_time": "2021-12-13T22:30:33.066Z"
   },
   {
    "duration": 9,
    "start_time": "2021-12-13T22:32:50.680Z"
   },
   {
    "duration": 14,
    "start_time": "2021-12-13T22:33:16.127Z"
   },
   {
    "duration": 13,
    "start_time": "2021-12-13T22:40:21.728Z"
   },
   {
    "duration": 785,
    "start_time": "2021-12-13T22:40:42.832Z"
   },
   {
    "duration": 8,
    "start_time": "2021-12-13T22:40:43.620Z"
   },
   {
    "duration": 49,
    "start_time": "2021-12-13T22:40:43.632Z"
   },
   {
    "duration": 17,
    "start_time": "2021-12-13T22:40:43.685Z"
   },
   {
    "duration": 95,
    "start_time": "2021-12-13T22:40:43.705Z"
   },
   {
    "duration": 2098,
    "start_time": "2021-12-13T22:40:43.803Z"
   },
   {
    "duration": 11,
    "start_time": "2021-12-13T22:40:45.903Z"
   },
   {
    "duration": 14,
    "start_time": "2021-12-13T22:40:45.916Z"
   },
   {
    "duration": 25,
    "start_time": "2021-12-13T22:40:45.932Z"
   },
   {
    "duration": 29,
    "start_time": "2021-12-13T22:40:45.960Z"
   },
   {
    "duration": 610,
    "start_time": "2021-12-13T22:50:31.183Z"
   },
   {
    "duration": 19,
    "start_time": "2021-12-13T22:50:43.395Z"
   },
   {
    "duration": 10,
    "start_time": "2021-12-13T22:50:51.758Z"
   },
   {
    "duration": 88,
    "start_time": "2021-12-13T22:52:28.411Z"
   },
   {
    "duration": 281,
    "start_time": "2021-12-13T22:52:40.091Z"
   },
   {
    "duration": 10,
    "start_time": "2021-12-13T22:53:13.543Z"
   },
   {
    "duration": 10,
    "start_time": "2021-12-13T22:53:28.653Z"
   },
   {
    "duration": 797,
    "start_time": "2021-12-13T22:53:35.707Z"
   },
   {
    "duration": 6,
    "start_time": "2021-12-13T22:53:36.507Z"
   },
   {
    "duration": 48,
    "start_time": "2021-12-13T22:53:36.516Z"
   },
   {
    "duration": 16,
    "start_time": "2021-12-13T22:53:36.567Z"
   },
   {
    "duration": 95,
    "start_time": "2021-12-13T22:53:36.585Z"
   },
   {
    "duration": 2099,
    "start_time": "2021-12-13T22:53:36.683Z"
   },
   {
    "duration": 11,
    "start_time": "2021-12-13T22:53:38.785Z"
   },
   {
    "duration": 29,
    "start_time": "2021-12-13T22:53:38.799Z"
   },
   {
    "duration": 12,
    "start_time": "2021-12-13T22:53:38.831Z"
   },
   {
    "duration": 811,
    "start_time": "2021-12-13T22:53:38.845Z"
   },
   {
    "duration": 11,
    "start_time": "2021-12-13T22:53:57.543Z"
   },
   {
    "duration": 12,
    "start_time": "2021-12-13T22:54:16.764Z"
   },
   {
    "duration": 11,
    "start_time": "2021-12-13T22:55:22.453Z"
   },
   {
    "duration": 10,
    "start_time": "2021-12-13T22:55:57.051Z"
   },
   {
    "duration": 9,
    "start_time": "2021-12-13T22:56:18.897Z"
   },
   {
    "duration": 25,
    "start_time": "2021-12-13T22:59:24.987Z"
   },
   {
    "duration": 35,
    "start_time": "2021-12-13T23:01:03.037Z"
   },
   {
    "duration": 21,
    "start_time": "2021-12-13T23:02:10.194Z"
   },
   {
    "duration": 38,
    "start_time": "2021-12-13T23:02:17.653Z"
   },
   {
    "duration": 10,
    "start_time": "2021-12-13T23:03:01.827Z"
   },
   {
    "duration": 14,
    "start_time": "2021-12-13T23:04:12.852Z"
   },
   {
    "duration": 15,
    "start_time": "2021-12-13T23:04:27.918Z"
   },
   {
    "duration": 34,
    "start_time": "2021-12-13T23:04:56.716Z"
   },
   {
    "duration": 264,
    "start_time": "2021-12-13T23:05:16.701Z"
   },
   {
    "duration": 35,
    "start_time": "2021-12-13T23:06:13.565Z"
   },
   {
    "duration": 81,
    "start_time": "2021-12-13T23:11:59.838Z"
   },
   {
    "duration": 123,
    "start_time": "2021-12-13T23:13:21.905Z"
   },
   {
    "duration": 10,
    "start_time": "2021-12-13T23:22:34.962Z"
   },
   {
    "duration": 12,
    "start_time": "2021-12-13T23:22:58.509Z"
   },
   {
    "duration": 17,
    "start_time": "2021-12-13T23:23:46.528Z"
   },
   {
    "duration": 296,
    "start_time": "2021-12-13T23:25:12.150Z"
   },
   {
    "duration": 116,
    "start_time": "2021-12-13T23:27:29.589Z"
   },
   {
    "duration": 91,
    "start_time": "2021-12-13T23:27:34.728Z"
   },
   {
    "duration": 696,
    "start_time": "2021-12-14T11:01:46.341Z"
   },
   {
    "duration": 6,
    "start_time": "2021-12-14T11:01:47.039Z"
   },
   {
    "duration": 27,
    "start_time": "2021-12-14T11:01:47.049Z"
   },
   {
    "duration": 12,
    "start_time": "2021-12-14T11:01:47.078Z"
   },
   {
    "duration": 85,
    "start_time": "2021-12-14T11:01:47.091Z"
   },
   {
    "duration": 1449,
    "start_time": "2021-12-14T11:01:47.178Z"
   },
   {
    "duration": 18,
    "start_time": "2021-12-14T11:01:48.629Z"
   },
   {
    "duration": 21,
    "start_time": "2021-12-14T11:01:48.653Z"
   },
   {
    "duration": 9,
    "start_time": "2021-12-14T11:01:48.675Z"
   },
   {
    "duration": 499,
    "start_time": "2021-12-14T11:01:48.685Z"
   },
   {
    "duration": 358,
    "start_time": "2021-12-14T11:05:16.196Z"
   },
   {
    "duration": 301,
    "start_time": "2021-12-14T11:05:59.162Z"
   },
   {
    "duration": 292,
    "start_time": "2021-12-14T11:06:23.114Z"
   },
   {
    "duration": 286,
    "start_time": "2021-12-14T11:06:36.912Z"
   },
   {
    "duration": 292,
    "start_time": "2021-12-14T11:06:41.281Z"
   },
   {
    "duration": 8,
    "start_time": "2021-12-14T11:09:10.160Z"
   },
   {
    "duration": 23,
    "start_time": "2021-12-14T11:16:19.942Z"
   },
   {
    "duration": 27,
    "start_time": "2021-12-14T11:16:51.594Z"
   },
   {
    "duration": 24,
    "start_time": "2021-12-14T11:17:08.261Z"
   },
   {
    "duration": 50,
    "start_time": "2021-12-14T11:17:25.230Z"
   },
   {
    "duration": 53,
    "start_time": "2021-12-14T11:17:30.740Z"
   },
   {
    "duration": 26,
    "start_time": "2021-12-14T11:18:12.565Z"
   },
   {
    "duration": 306,
    "start_time": "2021-12-14T11:19:35.782Z"
   },
   {
    "duration": 334,
    "start_time": "2021-12-14T11:19:41.045Z"
   },
   {
    "duration": 11,
    "start_time": "2021-12-14T11:28:27.618Z"
   },
   {
    "duration": 826,
    "start_time": "2021-12-14T11:33:26.056Z"
   },
   {
    "duration": 584,
    "start_time": "2021-12-14T11:34:00.926Z"
   },
   {
    "duration": 498,
    "start_time": "2021-12-14T11:34:38.474Z"
   },
   {
    "duration": 452,
    "start_time": "2021-12-14T11:34:59.061Z"
   },
   {
    "duration": 549,
    "start_time": "2021-12-14T11:35:16.529Z"
   },
   {
    "duration": 450,
    "start_time": "2021-12-14T11:36:22.574Z"
   },
   {
    "duration": 503,
    "start_time": "2021-12-14T11:39:14.275Z"
   },
   {
    "duration": 85,
    "start_time": "2021-12-14T11:39:24.043Z"
   },
   {
    "duration": 2692,
    "start_time": "2021-12-14T11:39:46.165Z"
   },
   {
    "duration": 6,
    "start_time": "2021-12-14T11:39:48.859Z"
   },
   {
    "duration": 28,
    "start_time": "2021-12-14T11:39:48.867Z"
   },
   {
    "duration": 14,
    "start_time": "2021-12-14T11:39:48.898Z"
   },
   {
    "duration": 88,
    "start_time": "2021-12-14T11:39:48.913Z"
   },
   {
    "duration": 1546,
    "start_time": "2021-12-14T11:39:49.002Z"
   },
   {
    "duration": 16,
    "start_time": "2021-12-14T11:39:50.551Z"
   },
   {
    "duration": 6,
    "start_time": "2021-12-14T11:39:50.570Z"
   },
   {
    "duration": 105,
    "start_time": "2021-12-14T11:39:50.578Z"
   },
   {
    "duration": 2793,
    "start_time": "2021-12-14T11:39:50.685Z"
   },
   {
    "duration": 106,
    "start_time": "2021-12-14T11:41:54.691Z"
   },
   {
    "duration": 719,
    "start_time": "2021-12-14T11:42:17.053Z"
   },
   {
    "duration": 6,
    "start_time": "2021-12-14T11:42:17.774Z"
   },
   {
    "duration": 36,
    "start_time": "2021-12-14T11:42:17.783Z"
   },
   {
    "duration": 24,
    "start_time": "2021-12-14T11:42:17.821Z"
   },
   {
    "duration": 63,
    "start_time": "2021-12-14T11:42:17.847Z"
   },
   {
    "duration": 1385,
    "start_time": "2021-12-14T11:42:17.912Z"
   },
   {
    "duration": 8,
    "start_time": "2021-12-14T11:42:19.298Z"
   },
   {
    "duration": 23,
    "start_time": "2021-12-14T11:42:19.308Z"
   },
   {
    "duration": 120,
    "start_time": "2021-12-14T11:42:19.333Z"
   },
   {
    "duration": 7,
    "start_time": "2021-12-14T11:42:19.456Z"
   },
   {
    "duration": 9,
    "start_time": "2021-12-14T11:43:00.520Z"
   },
   {
    "duration": 9,
    "start_time": "2021-12-14T11:43:03.567Z"
   },
   {
    "duration": 678,
    "start_time": "2021-12-14T11:43:13.854Z"
   },
   {
    "duration": 6,
    "start_time": "2021-12-14T11:43:14.534Z"
   },
   {
    "duration": 24,
    "start_time": "2021-12-14T11:43:14.542Z"
   },
   {
    "duration": 12,
    "start_time": "2021-12-14T11:43:14.568Z"
   },
   {
    "duration": 72,
    "start_time": "2021-12-14T11:43:14.582Z"
   },
   {
    "duration": 1365,
    "start_time": "2021-12-14T11:43:14.655Z"
   },
   {
    "duration": 8,
    "start_time": "2021-12-14T11:43:16.022Z"
   },
   {
    "duration": 17,
    "start_time": "2021-12-14T11:43:16.032Z"
   },
   {
    "duration": 60,
    "start_time": "2021-12-14T11:43:16.051Z"
   },
   {
    "duration": 332,
    "start_time": "2021-12-14T11:43:16.113Z"
   },
   {
    "duration": 50,
    "start_time": "2021-12-14T11:47:03.515Z"
   },
   {
    "duration": 52,
    "start_time": "2021-12-14T11:48:13.159Z"
   },
   {
    "duration": 118,
    "start_time": "2021-12-14T11:48:39.257Z"
   },
   {
    "duration": 8,
    "start_time": "2021-12-14T11:49:05.261Z"
   },
   {
    "duration": 286,
    "start_time": "2021-12-14T11:49:22.389Z"
   },
   {
    "duration": 7,
    "start_time": "2021-12-14T11:49:27.957Z"
   },
   {
    "duration": 8,
    "start_time": "2021-12-14T11:49:31.473Z"
   },
   {
    "duration": 8,
    "start_time": "2021-12-14T11:49:35.093Z"
   },
   {
    "duration": 689,
    "start_time": "2021-12-14T11:49:45.041Z"
   },
   {
    "duration": 5,
    "start_time": "2021-12-14T11:49:45.732Z"
   },
   {
    "duration": 47,
    "start_time": "2021-12-14T11:49:45.738Z"
   },
   {
    "duration": 12,
    "start_time": "2021-12-14T11:49:45.787Z"
   },
   {
    "duration": 72,
    "start_time": "2021-12-14T11:49:45.801Z"
   },
   {
    "duration": 1328,
    "start_time": "2021-12-14T11:49:45.874Z"
   },
   {
    "duration": 10,
    "start_time": "2021-12-14T11:49:47.203Z"
   },
   {
    "duration": 7,
    "start_time": "2021-12-14T11:49:47.215Z"
   },
   {
    "duration": 152,
    "start_time": "2021-12-14T11:49:47.224Z"
   },
   {
    "duration": 6,
    "start_time": "2021-12-14T11:49:47.378Z"
   },
   {
    "duration": 643,
    "start_time": "2021-12-14T11:50:18.584Z"
   },
   {
    "duration": 6,
    "start_time": "2021-12-14T11:50:19.229Z"
   },
   {
    "duration": 42,
    "start_time": "2021-12-14T11:50:19.237Z"
   },
   {
    "duration": 13,
    "start_time": "2021-12-14T11:50:19.281Z"
   },
   {
    "duration": 60,
    "start_time": "2021-12-14T11:50:19.296Z"
   },
   {
    "duration": 1356,
    "start_time": "2021-12-14T11:50:19.358Z"
   },
   {
    "duration": 9,
    "start_time": "2021-12-14T11:50:20.716Z"
   },
   {
    "duration": 65,
    "start_time": "2021-12-14T11:50:20.727Z"
   },
   {
    "duration": 68,
    "start_time": "2021-12-14T11:50:20.794Z"
   },
   {
    "duration": 471,
    "start_time": "2021-12-14T11:50:20.864Z"
   },
   {
    "duration": 45,
    "start_time": "2021-12-14T11:51:14.453Z"
   },
   {
    "duration": 302,
    "start_time": "2021-12-14T18:57:27.781Z"
   },
   {
    "duration": 264,
    "start_time": "2021-12-14T18:57:34.082Z"
   },
   {
    "duration": 1233,
    "start_time": "2021-12-14T18:57:40.353Z"
   },
   {
    "duration": 8,
    "start_time": "2021-12-14T18:57:41.589Z"
   },
   {
    "duration": 51,
    "start_time": "2021-12-14T18:57:41.600Z"
   },
   {
    "duration": 42,
    "start_time": "2021-12-14T18:57:41.654Z"
   },
   {
    "duration": 173,
    "start_time": "2021-12-14T18:57:41.701Z"
   },
   {
    "duration": 1507,
    "start_time": "2021-12-14T18:57:41.880Z"
   },
   {
    "duration": 8,
    "start_time": "2021-12-14T18:57:43.388Z"
   },
   {
    "duration": 8,
    "start_time": "2021-12-14T18:57:43.398Z"
   },
   {
    "duration": 69,
    "start_time": "2021-12-14T18:57:43.408Z"
   },
   {
    "duration": 342,
    "start_time": "2021-12-14T18:57:43.478Z"
   },
   {
    "duration": 52,
    "start_time": "2021-12-14T19:14:04.175Z"
   },
   {
    "duration": 14,
    "start_time": "2021-12-14T19:14:32.240Z"
   },
   {
    "duration": 52,
    "start_time": "2021-12-14T19:15:45.427Z"
   },
   {
    "duration": 52,
    "start_time": "2021-12-14T19:15:48.906Z"
   },
   {
    "duration": 14,
    "start_time": "2021-12-14T19:15:52.949Z"
   },
   {
    "duration": 670,
    "start_time": "2021-12-14T19:16:14.009Z"
   },
   {
    "duration": 5,
    "start_time": "2021-12-14T19:16:14.681Z"
   },
   {
    "duration": 24,
    "start_time": "2021-12-14T19:16:14.689Z"
   },
   {
    "duration": 11,
    "start_time": "2021-12-14T19:16:14.715Z"
   },
   {
    "duration": 71,
    "start_time": "2021-12-14T19:16:14.727Z"
   },
   {
    "duration": 1272,
    "start_time": "2021-12-14T19:16:14.800Z"
   },
   {
    "duration": 7,
    "start_time": "2021-12-14T19:16:16.074Z"
   },
   {
    "duration": 16,
    "start_time": "2021-12-14T19:16:16.084Z"
   },
   {
    "duration": 70,
    "start_time": "2021-12-14T19:16:16.102Z"
   },
   {
    "duration": 13,
    "start_time": "2021-12-14T19:16:16.174Z"
   },
   {
    "duration": 365,
    "start_time": "2021-12-14T19:16:16.189Z"
   },
   {
    "duration": 13,
    "start_time": "2021-12-14T19:17:27.881Z"
   },
   {
    "duration": 765,
    "start_time": "2021-12-14T19:17:41.353Z"
   },
   {
    "duration": 23,
    "start_time": "2021-12-14T19:17:42.120Z"
   },
   {
    "duration": 16,
    "start_time": "2021-12-14T19:17:42.146Z"
   },
   {
    "duration": 32,
    "start_time": "2021-12-14T19:17:42.165Z"
   },
   {
    "duration": 23,
    "start_time": "2021-12-14T19:17:42.200Z"
   },
   {
    "duration": 68,
    "start_time": "2021-12-14T19:17:42.225Z"
   },
   {
    "duration": 1295,
    "start_time": "2021-12-14T19:17:42.295Z"
   },
   {
    "duration": 9,
    "start_time": "2021-12-14T19:17:43.593Z"
   },
   {
    "duration": 7,
    "start_time": "2021-12-14T19:17:43.604Z"
   },
   {
    "duration": 81,
    "start_time": "2021-12-14T19:17:43.612Z"
   },
   {
    "duration": 14,
    "start_time": "2021-12-14T19:17:43.695Z"
   },
   {
    "duration": 319,
    "start_time": "2021-12-14T19:17:43.711Z"
   },
   {
    "duration": 69,
    "start_time": "2021-12-14T19:20:15.856Z"
   },
   {
    "duration": 15,
    "start_time": "2021-12-14T19:20:22.656Z"
   },
   {
    "duration": 70,
    "start_time": "2021-12-14T19:20:57.219Z"
   },
   {
    "duration": 14,
    "start_time": "2021-12-14T19:20:59.587Z"
   },
   {
    "duration": 669,
    "start_time": "2021-12-14T19:21:20.489Z"
   },
   {
    "duration": 5,
    "start_time": "2021-12-14T19:21:21.160Z"
   },
   {
    "duration": 29,
    "start_time": "2021-12-14T19:21:21.167Z"
   },
   {
    "duration": 11,
    "start_time": "2021-12-14T19:21:21.198Z"
   },
   {
    "duration": 67,
    "start_time": "2021-12-14T19:21:21.210Z"
   },
   {
    "duration": 1308,
    "start_time": "2021-12-14T19:21:21.279Z"
   },
   {
    "duration": 8,
    "start_time": "2021-12-14T19:21:22.588Z"
   },
   {
    "duration": 13,
    "start_time": "2021-12-14T19:21:22.599Z"
   },
   {
    "duration": 87,
    "start_time": "2021-12-14T19:21:22.614Z"
   },
   {
    "duration": 14,
    "start_time": "2021-12-14T19:21:22.703Z"
   },
   {
    "duration": 6,
    "start_time": "2021-12-14T19:21:22.719Z"
   },
   {
    "duration": 20,
    "start_time": "2021-12-14T19:21:37.619Z"
   },
   {
    "duration": 31,
    "start_time": "2021-12-14T20:00:34.314Z"
   },
   {
    "duration": 18,
    "start_time": "2021-12-14T20:00:40.610Z"
   },
   {
    "duration": 318,
    "start_time": "2021-12-14T20:01:23.617Z"
   },
   {
    "duration": 19,
    "start_time": "2021-12-14T20:02:42.769Z"
   },
   {
    "duration": 268,
    "start_time": "2021-12-14T20:02:55.640Z"
   },
   {
    "duration": 33,
    "start_time": "2021-12-14T20:03:14.252Z"
   },
   {
    "duration": 19,
    "start_time": "2021-12-14T20:03:30.309Z"
   },
   {
    "duration": 19,
    "start_time": "2021-12-14T20:03:42.803Z"
   },
   {
    "duration": 30,
    "start_time": "2021-12-14T20:03:49.618Z"
   },
   {
    "duration": 264,
    "start_time": "2021-12-14T20:05:12.891Z"
   },
   {
    "duration": 29,
    "start_time": "2021-12-14T20:06:37.743Z"
   },
   {
    "duration": 278,
    "start_time": "2021-12-14T20:11:49.898Z"
   },
   {
    "duration": 15,
    "start_time": "2021-12-14T20:12:29.007Z"
   },
   {
    "duration": 293,
    "start_time": "2021-12-14T20:12:38.569Z"
   },
   {
    "duration": 16,
    "start_time": "2021-12-14T20:13:05.808Z"
   },
   {
    "duration": 30,
    "start_time": "2021-12-14T20:13:29.461Z"
   },
   {
    "duration": 17,
    "start_time": "2021-12-14T20:13:35.332Z"
   },
   {
    "duration": 18,
    "start_time": "2021-12-14T20:13:40.942Z"
   },
   {
    "duration": 266,
    "start_time": "2021-12-14T20:14:01.497Z"
   },
   {
    "duration": 335,
    "start_time": "2021-12-14T20:14:05.104Z"
   },
   {
    "duration": 88,
    "start_time": "2021-12-14T20:14:17.859Z"
   },
   {
    "duration": 86,
    "start_time": "2021-12-14T20:14:22.950Z"
   },
   {
    "duration": 29,
    "start_time": "2021-12-14T20:14:26.046Z"
   },
   {
    "duration": 27,
    "start_time": "2021-12-14T20:15:13.273Z"
   },
   {
    "duration": 251,
    "start_time": "2021-12-14T20:15:25.918Z"
   },
   {
    "duration": 245,
    "start_time": "2021-12-14T20:15:43.556Z"
   },
   {
    "duration": 15,
    "start_time": "2021-12-14T20:16:17.712Z"
   },
   {
    "duration": 28,
    "start_time": "2021-12-14T20:16:35.524Z"
   },
   {
    "duration": 309,
    "start_time": "2021-12-14T20:16:46.750Z"
   },
   {
    "duration": 24,
    "start_time": "2021-12-14T20:16:51.168Z"
   },
   {
    "duration": 23,
    "start_time": "2021-12-14T20:30:42.495Z"
   },
   {
    "duration": 641,
    "start_time": "2021-12-14T20:30:57.070Z"
   },
   {
    "duration": 6,
    "start_time": "2021-12-14T20:30:57.713Z"
   },
   {
    "duration": 37,
    "start_time": "2021-12-14T20:30:57.721Z"
   },
   {
    "duration": 12,
    "start_time": "2021-12-14T20:30:57.760Z"
   },
   {
    "duration": 79,
    "start_time": "2021-12-14T20:30:57.773Z"
   },
   {
    "duration": 1397,
    "start_time": "2021-12-14T20:30:57.854Z"
   },
   {
    "duration": 8,
    "start_time": "2021-12-14T20:30:59.253Z"
   },
   {
    "duration": 15,
    "start_time": "2021-12-14T20:30:59.263Z"
   },
   {
    "duration": 82,
    "start_time": "2021-12-14T20:30:59.280Z"
   },
   {
    "duration": 6,
    "start_time": "2021-12-14T20:30:59.363Z"
   },
   {
    "duration": 26,
    "start_time": "2021-12-14T20:30:59.371Z"
   },
   {
    "duration": 46,
    "start_time": "2021-12-14T20:30:59.399Z"
   },
   {
    "duration": 8083,
    "start_time": "2021-12-14T20:30:59.447Z"
   },
   {
    "duration": 6,
    "start_time": "2021-12-14T20:31:22.297Z"
   },
   {
    "duration": 8,
    "start_time": "2021-12-14T20:31:38.144Z"
   },
   {
    "duration": 93,
    "start_time": "2021-12-14T20:35:40.161Z"
   },
   {
    "duration": 9,
    "start_time": "2021-12-14T20:35:45.655Z"
   },
   {
    "duration": 6,
    "start_time": "2021-12-14T20:35:55.840Z"
   },
   {
    "duration": 298,
    "start_time": "2021-12-14T20:37:14.341Z"
   },
   {
    "duration": 9,
    "start_time": "2021-12-14T20:37:17.459Z"
   },
   {
    "duration": 709,
    "start_time": "2021-12-14T20:37:55.787Z"
   },
   {
    "duration": 659,
    "start_time": "2021-12-14T20:38:06.726Z"
   },
   {
    "duration": 282,
    "start_time": "2021-12-14T20:38:41.682Z"
   },
   {
    "duration": 659,
    "start_time": "2021-12-14T20:39:11.105Z"
   },
   {
    "duration": 761,
    "start_time": "2021-12-14T20:39:59.299Z"
   },
   {
    "duration": 707,
    "start_time": "2021-12-14T20:40:30.323Z"
   },
   {
    "duration": 892,
    "start_time": "2021-12-15T13:27:50.218Z"
   },
   {
    "duration": 5,
    "start_time": "2021-12-15T13:27:51.112Z"
   },
   {
    "duration": 23,
    "start_time": "2021-12-15T13:27:51.119Z"
   },
   {
    "duration": 12,
    "start_time": "2021-12-15T13:27:51.144Z"
   },
   {
    "duration": 84,
    "start_time": "2021-12-15T13:27:51.158Z"
   },
   {
    "duration": 1369,
    "start_time": "2021-12-15T13:27:51.244Z"
   },
   {
    "duration": 9,
    "start_time": "2021-12-15T13:27:52.615Z"
   },
   {
    "duration": 7,
    "start_time": "2021-12-15T13:27:52.627Z"
   },
   {
    "duration": 134,
    "start_time": "2021-12-15T13:27:52.636Z"
   },
   {
    "duration": 6,
    "start_time": "2021-12-15T13:27:52.772Z"
   },
   {
    "duration": 49,
    "start_time": "2021-12-15T13:27:52.780Z"
   },
   {
    "duration": 25,
    "start_time": "2021-12-15T13:27:52.831Z"
   },
   {
    "duration": 696,
    "start_time": "2021-12-15T13:27:52.858Z"
   },
   {
    "duration": 776,
    "start_time": "2021-12-15T13:29:00.398Z"
   },
   {
    "duration": 8,
    "start_time": "2021-12-15T13:29:01.176Z"
   },
   {
    "duration": 42,
    "start_time": "2021-12-15T13:29:01.186Z"
   },
   {
    "duration": 19,
    "start_time": "2021-12-15T13:29:01.231Z"
   },
   {
    "duration": 101,
    "start_time": "2021-12-15T13:29:01.252Z"
   },
   {
    "duration": 2064,
    "start_time": "2021-12-15T13:29:01.355Z"
   },
   {
    "duration": 9,
    "start_time": "2021-12-15T13:29:03.421Z"
   },
   {
    "duration": 7,
    "start_time": "2021-12-15T13:29:03.432Z"
   },
   {
    "duration": 105,
    "start_time": "2021-12-15T13:29:03.441Z"
   },
   {
    "duration": 6,
    "start_time": "2021-12-15T13:29:03.548Z"
   },
   {
    "duration": 40,
    "start_time": "2021-12-15T13:29:03.556Z"
   },
   {
    "duration": 36,
    "start_time": "2021-12-15T13:29:03.599Z"
   },
   {
    "duration": 1005,
    "start_time": "2021-12-15T13:29:03.638Z"
   },
   {
    "duration": 340,
    "start_time": "2021-12-15T17:30:47.470Z"
   },
   {
    "duration": 369,
    "start_time": "2021-12-15T17:31:08.881Z"
   },
   {
    "duration": 775,
    "start_time": "2021-12-15T17:31:15.856Z"
   },
   {
    "duration": 9,
    "start_time": "2021-12-15T17:31:16.634Z"
   },
   {
    "duration": 44,
    "start_time": "2021-12-15T17:31:16.646Z"
   },
   {
    "duration": 43,
    "start_time": "2021-12-15T17:31:16.694Z"
   },
   {
    "duration": 109,
    "start_time": "2021-12-15T17:31:16.741Z"
   },
   {
    "duration": 2251,
    "start_time": "2021-12-15T17:31:16.854Z"
   },
   {
    "duration": 29,
    "start_time": "2021-12-15T17:31:19.108Z"
   },
   {
    "duration": 9,
    "start_time": "2021-12-15T17:31:19.141Z"
   },
   {
    "duration": 117,
    "start_time": "2021-12-15T17:31:19.152Z"
   },
   {
    "duration": 9,
    "start_time": "2021-12-15T17:31:19.272Z"
   },
   {
    "duration": 60,
    "start_time": "2021-12-15T17:31:19.284Z"
   },
   {
    "duration": 29,
    "start_time": "2021-12-15T17:31:19.347Z"
   },
   {
    "duration": 7,
    "start_time": "2021-12-15T17:31:19.378Z"
   },
   {
    "duration": 10,
    "start_time": "2021-12-15T17:32:13.205Z"
   },
   {
    "duration": 581,
    "start_time": "2021-12-15T17:33:06.452Z"
   },
   {
    "duration": 8,
    "start_time": "2021-12-15T17:33:13.815Z"
   },
   {
    "duration": 11,
    "start_time": "2021-12-15T17:33:19.416Z"
   },
   {
    "duration": 306,
    "start_time": "2021-12-15T17:47:08.909Z"
   },
   {
    "duration": 7,
    "start_time": "2021-12-15T17:47:21.343Z"
   },
   {
    "duration": 5,
    "start_time": "2021-12-15T17:47:29.066Z"
   },
   {
    "duration": 991,
    "start_time": "2021-12-15T17:48:06.453Z"
   },
   {
    "duration": 10,
    "start_time": "2021-12-15T17:48:07.451Z"
   },
   {
    "duration": 73,
    "start_time": "2021-12-15T17:48:07.465Z"
   },
   {
    "duration": 20,
    "start_time": "2021-12-15T17:48:07.541Z"
   },
   {
    "duration": 113,
    "start_time": "2021-12-15T17:48:07.565Z"
   },
   {
    "duration": 2509,
    "start_time": "2021-12-15T17:48:07.680Z"
   },
   {
    "duration": 12,
    "start_time": "2021-12-15T17:48:10.192Z"
   },
   {
    "duration": 33,
    "start_time": "2021-12-15T17:48:10.206Z"
   },
   {
    "duration": 125,
    "start_time": "2021-12-15T17:48:10.243Z"
   },
   {
    "duration": 10,
    "start_time": "2021-12-15T17:48:10.371Z"
   },
   {
    "duration": 69,
    "start_time": "2021-12-15T17:48:10.384Z"
   },
   {
    "duration": 32,
    "start_time": "2021-12-15T17:48:10.455Z"
   },
   {
    "duration": 8,
    "start_time": "2021-12-15T17:48:10.490Z"
   },
   {
    "duration": 12,
    "start_time": "2021-12-15T17:48:10.527Z"
   },
   {
    "duration": 1106,
    "start_time": "2021-12-15T17:48:10.542Z"
   },
   {
    "duration": 20,
    "start_time": "2021-12-15T17:48:44.037Z"
   },
   {
    "duration": 5,
    "start_time": "2021-12-15T17:48:58.932Z"
   },
   {
    "duration": 4,
    "start_time": "2021-12-15T17:50:20.596Z"
   },
   {
    "duration": 4,
    "start_time": "2021-12-15T17:50:33.386Z"
   },
   {
    "duration": 4,
    "start_time": "2021-12-15T17:51:07.071Z"
   },
   {
    "duration": 6,
    "start_time": "2021-12-15T17:51:36.361Z"
   },
   {
    "duration": 5,
    "start_time": "2021-12-15T17:51:51.396Z"
   },
   {
    "duration": 5,
    "start_time": "2021-12-15T17:52:38.262Z"
   },
   {
    "duration": 5,
    "start_time": "2021-12-15T17:52:42.311Z"
   },
   {
    "duration": 6,
    "start_time": "2021-12-15T17:52:46.843Z"
   },
   {
    "duration": 111,
    "start_time": "2021-12-15T17:52:55.207Z"
   },
   {
    "duration": 124,
    "start_time": "2021-12-15T17:53:19.409Z"
   },
   {
    "duration": 11,
    "start_time": "2021-12-15T17:53:32.024Z"
   },
   {
    "duration": 6,
    "start_time": "2021-12-15T17:53:33.949Z"
   },
   {
    "duration": 5,
    "start_time": "2021-12-15T17:53:55.190Z"
   },
   {
    "duration": 1028,
    "start_time": "2021-12-15T17:55:37.761Z"
   },
   {
    "duration": 1017,
    "start_time": "2021-12-15T17:55:50.718Z"
   },
   {
    "duration": 1015,
    "start_time": "2021-12-15T17:56:13.917Z"
   },
   {
    "duration": 998,
    "start_time": "2021-12-15T17:56:55.294Z"
   },
   {
    "duration": 1146,
    "start_time": "2021-12-15T17:57:24.344Z"
   },
   {
    "duration": 1046,
    "start_time": "2021-12-15T17:59:15.341Z"
   },
   {
    "duration": 1023,
    "start_time": "2021-12-15T17:59:30.069Z"
   },
   {
    "duration": 1037,
    "start_time": "2021-12-15T17:59:47.786Z"
   },
   {
    "duration": 1129,
    "start_time": "2021-12-15T18:00:11.550Z"
   },
   {
    "duration": 1491,
    "start_time": "2021-12-15T18:03:47.845Z"
   },
   {
    "duration": 1391,
    "start_time": "2021-12-15T18:03:58.751Z"
   },
   {
    "duration": 1293,
    "start_time": "2021-12-15T18:04:06.742Z"
   },
   {
    "duration": 1369,
    "start_time": "2021-12-15T18:04:20.104Z"
   },
   {
    "duration": 1464,
    "start_time": "2021-12-15T18:06:56.854Z"
   },
   {
    "duration": 1075,
    "start_time": "2021-12-15T18:07:13.609Z"
   },
   {
    "duration": 1017,
    "start_time": "2021-12-15T18:07:43.377Z"
   },
   {
    "duration": 1011,
    "start_time": "2021-12-15T18:09:08.056Z"
   },
   {
    "duration": 102,
    "start_time": "2021-12-15T18:11:24.330Z"
   },
   {
    "duration": 1048,
    "start_time": "2021-12-15T18:11:31.246Z"
   },
   {
    "duration": 1029,
    "start_time": "2021-12-15T18:11:47.147Z"
   },
   {
    "duration": 1239,
    "start_time": "2021-12-15T18:11:52.307Z"
   },
   {
    "duration": 1143,
    "start_time": "2021-12-15T18:12:17.649Z"
   },
   {
    "duration": 989,
    "start_time": "2021-12-15T18:12:27.973Z"
   },
   {
    "duration": 972,
    "start_time": "2021-12-15T18:12:47.981Z"
   },
   {
    "duration": 1384,
    "start_time": "2021-12-15T18:12:59.854Z"
   },
   {
    "duration": 1002,
    "start_time": "2021-12-15T18:13:25.391Z"
   },
   {
    "duration": 988,
    "start_time": "2021-12-15T18:13:35.264Z"
   },
   {
    "duration": 1061,
    "start_time": "2021-12-15T18:13:41.122Z"
   },
   {
    "duration": 1139,
    "start_time": "2021-12-15T18:13:48.790Z"
   },
   {
    "duration": 1072,
    "start_time": "2021-12-15T18:13:58.998Z"
   },
   {
    "duration": 1014,
    "start_time": "2021-12-15T18:14:23.046Z"
   },
   {
    "duration": 1025,
    "start_time": "2021-12-15T18:14:41.489Z"
   },
   {
    "duration": 1001,
    "start_time": "2021-12-15T18:14:50.241Z"
   },
   {
    "duration": 1002,
    "start_time": "2021-12-15T18:15:09.103Z"
   },
   {
    "duration": 995,
    "start_time": "2021-12-15T18:17:20.129Z"
   },
   {
    "duration": 1031,
    "start_time": "2021-12-15T18:17:47.741Z"
   },
   {
    "duration": 1873,
    "start_time": "2021-12-15T18:18:03.556Z"
   },
   {
    "duration": 895,
    "start_time": "2021-12-15T18:18:22.895Z"
   },
   {
    "duration": 7,
    "start_time": "2021-12-15T18:18:23.793Z"
   },
   {
    "duration": 52,
    "start_time": "2021-12-15T18:18:23.803Z"
   },
   {
    "duration": 41,
    "start_time": "2021-12-15T18:18:23.858Z"
   },
   {
    "duration": 109,
    "start_time": "2021-12-15T18:18:23.902Z"
   },
   {
    "duration": 2268,
    "start_time": "2021-12-15T18:18:24.014Z"
   },
   {
    "duration": 11,
    "start_time": "2021-12-15T18:18:26.285Z"
   },
   {
    "duration": 33,
    "start_time": "2021-12-15T18:18:26.300Z"
   },
   {
    "duration": 128,
    "start_time": "2021-12-15T18:18:26.336Z"
   },
   {
    "duration": 8,
    "start_time": "2021-12-15T18:18:26.467Z"
   },
   {
    "duration": 31,
    "start_time": "2021-12-15T18:18:26.478Z"
   },
   {
    "duration": 41,
    "start_time": "2021-12-15T18:18:26.524Z"
   },
   {
    "duration": 7,
    "start_time": "2021-12-15T18:18:26.568Z"
   },
   {
    "duration": 1684,
    "start_time": "2021-12-15T18:18:26.578Z"
   },
   {
    "duration": 5,
    "start_time": "2021-12-15T18:18:28.264Z"
   },
   {
    "duration": 1029,
    "start_time": "2021-12-15T18:18:45.982Z"
   },
   {
    "duration": 986,
    "start_time": "2021-12-15T18:19:06.896Z"
   },
   {
    "duration": 1036,
    "start_time": "2021-12-15T18:19:13.011Z"
   },
   {
    "duration": 1082,
    "start_time": "2021-12-15T18:19:18.916Z"
   },
   {
    "duration": 1084,
    "start_time": "2021-12-15T18:19:46.115Z"
   },
   {
    "duration": 1010,
    "start_time": "2021-12-15T18:20:42.964Z"
   },
   {
    "duration": 1011,
    "start_time": "2021-12-15T18:22:06.057Z"
   },
   {
    "duration": 955,
    "start_time": "2021-12-15T18:28:51.582Z"
   },
   {
    "duration": 984,
    "start_time": "2021-12-15T18:30:55.306Z"
   },
   {
    "duration": 964,
    "start_time": "2021-12-15T18:31:06.221Z"
   },
   {
    "duration": 979,
    "start_time": "2021-12-15T18:31:20.747Z"
   },
   {
    "duration": 32,
    "start_time": "2021-12-15T18:34:52.248Z"
   },
   {
    "duration": 408,
    "start_time": "2021-12-15T18:35:59.687Z"
   },
   {
    "duration": 273,
    "start_time": "2021-12-15T18:36:26.354Z"
   },
   {
    "duration": 5,
    "start_time": "2021-12-15T18:36:47.454Z"
   },
   {
    "duration": 5,
    "start_time": "2021-12-15T18:37:28.895Z"
   },
   {
    "duration": 6,
    "start_time": "2021-12-15T18:37:56.711Z"
   },
   {
    "duration": 6,
    "start_time": "2021-12-15T18:38:10.493Z"
   },
   {
    "duration": 7,
    "start_time": "2021-12-15T18:38:31.337Z"
   },
   {
    "duration": 904,
    "start_time": "2021-12-15T18:39:10.320Z"
   },
   {
    "duration": 1131,
    "start_time": "2021-12-15T18:39:24.601Z"
   },
   {
    "duration": 1107,
    "start_time": "2021-12-15T18:39:37.471Z"
   },
   {
    "duration": 951,
    "start_time": "2021-12-15T18:39:49.054Z"
   },
   {
    "duration": 984,
    "start_time": "2021-12-15T18:41:53.757Z"
   },
   {
    "duration": 5056,
    "start_time": "2021-12-15T18:42:07.418Z"
   },
   {
    "duration": 5007,
    "start_time": "2021-12-15T18:49:09.637Z"
   },
   {
    "duration": 1075,
    "start_time": "2021-12-15T18:51:17.287Z"
   },
   {
    "duration": 31,
    "start_time": "2021-12-15T19:05:40.284Z"
   },
   {
    "duration": 33,
    "start_time": "2021-12-15T19:05:49.434Z"
   },
   {
    "duration": 33,
    "start_time": "2021-12-15T19:06:24.540Z"
   },
   {
    "duration": 99,
    "start_time": "2021-12-15T19:06:43.464Z"
   },
   {
    "duration": 1213,
    "start_time": "2021-12-15T19:06:47.814Z"
   },
   {
    "duration": 1054,
    "start_time": "2021-12-15T19:07:45.635Z"
   },
   {
    "duration": 1358,
    "start_time": "2021-12-15T19:08:00.044Z"
   },
   {
    "duration": 31,
    "start_time": "2021-12-15T19:09:12.235Z"
   },
   {
    "duration": 39,
    "start_time": "2021-12-15T19:10:13.917Z"
   },
   {
    "duration": 34,
    "start_time": "2021-12-15T19:10:24.361Z"
   },
   {
    "duration": 37,
    "start_time": "2021-12-15T19:10:34.033Z"
   },
   {
    "duration": 3745,
    "start_time": "2021-12-15T19:12:41.267Z"
   },
   {
    "duration": 4052,
    "start_time": "2021-12-15T19:12:59.332Z"
   },
   {
    "duration": 3715,
    "start_time": "2021-12-15T19:13:23.597Z"
   },
   {
    "duration": 4634,
    "start_time": "2021-12-15T19:15:13.517Z"
   },
   {
    "duration": 4000,
    "start_time": "2021-12-15T19:16:10.265Z"
   },
   {
    "duration": 3859,
    "start_time": "2021-12-15T19:17:22.853Z"
   },
   {
    "duration": 3828,
    "start_time": "2021-12-15T19:22:03.167Z"
   },
   {
    "duration": 4166,
    "start_time": "2021-12-15T19:22:34.327Z"
   },
   {
    "duration": 7,
    "start_time": "2021-12-15T19:36:58.714Z"
   },
   {
    "duration": 6,
    "start_time": "2021-12-15T19:37:10.590Z"
   },
   {
    "duration": 8,
    "start_time": "2021-12-15T19:37:20.200Z"
   },
   {
    "duration": 6,
    "start_time": "2021-12-15T19:37:44.459Z"
   },
   {
    "duration": 311,
    "start_time": "2021-12-15T19:46:39.284Z"
   },
   {
    "duration": 5,
    "start_time": "2021-12-15T19:46:48.567Z"
   },
   {
    "duration": 5,
    "start_time": "2021-12-15T19:47:15.592Z"
   },
   {
    "duration": 293,
    "start_time": "2021-12-15T19:48:09.323Z"
   },
   {
    "duration": 914,
    "start_time": "2021-12-15T19:48:28.495Z"
   },
   {
    "duration": 8,
    "start_time": "2021-12-15T19:48:29.412Z"
   },
   {
    "duration": 45,
    "start_time": "2021-12-15T19:48:29.425Z"
   },
   {
    "duration": 17,
    "start_time": "2021-12-15T19:48:29.473Z"
   },
   {
    "duration": 489,
    "start_time": "2021-12-15T19:48:29.493Z"
   },
   {
    "duration": 107,
    "start_time": "2021-12-15T19:48:29.878Z"
   },
   {
    "duration": 81,
    "start_time": "2021-12-15T19:48:29.906Z"
   },
   {
    "duration": 80,
    "start_time": "2021-12-15T19:48:29.908Z"
   },
   {
    "duration": 80,
    "start_time": "2021-12-15T19:48:29.910Z"
   },
   {
    "duration": 66,
    "start_time": "2021-12-15T19:48:29.925Z"
   },
   {
    "duration": 49,
    "start_time": "2021-12-15T19:48:29.944Z"
   },
   {
    "duration": 37,
    "start_time": "2021-12-15T19:48:29.957Z"
   },
   {
    "duration": 38,
    "start_time": "2021-12-15T19:48:29.958Z"
   },
   {
    "duration": 37,
    "start_time": "2021-12-15T19:48:29.961Z"
   },
   {
    "duration": 36,
    "start_time": "2021-12-15T19:48:29.963Z"
   },
   {
    "duration": 768,
    "start_time": "2021-12-15T19:49:41.416Z"
   },
   {
    "duration": 6,
    "start_time": "2021-12-15T19:49:42.187Z"
   },
   {
    "duration": 44,
    "start_time": "2021-12-15T19:49:42.196Z"
   },
   {
    "duration": 16,
    "start_time": "2021-12-15T19:49:42.242Z"
   },
   {
    "duration": 376,
    "start_time": "2021-12-15T19:49:42.260Z"
   },
   {
    "duration": 12,
    "start_time": "2021-12-15T19:49:42.627Z"
   },
   {
    "duration": -2,
    "start_time": "2021-12-15T19:49:42.643Z"
   },
   {
    "duration": -18,
    "start_time": "2021-12-15T19:49:42.660Z"
   },
   {
    "duration": -25,
    "start_time": "2021-12-15T19:49:42.669Z"
   },
   {
    "duration": -27,
    "start_time": "2021-12-15T19:49:42.672Z"
   },
   {
    "duration": -36,
    "start_time": "2021-12-15T19:49:42.683Z"
   },
   {
    "duration": -72,
    "start_time": "2021-12-15T19:49:42.720Z"
   },
   {
    "duration": -92,
    "start_time": "2021-12-15T19:49:42.741Z"
   },
   {
    "duration": -95,
    "start_time": "2021-12-15T19:49:42.746Z"
   },
   {
    "duration": -114,
    "start_time": "2021-12-15T19:49:42.766Z"
   },
   {
    "duration": 89,
    "start_time": "2021-12-15T19:51:44.639Z"
   },
   {
    "duration": 350,
    "start_time": "2021-12-15T19:51:49.824Z"
   },
   {
    "duration": 5,
    "start_time": "2021-12-15T19:52:06.833Z"
   },
   {
    "duration": 324,
    "start_time": "2021-12-15T19:53:52.239Z"
   },
   {
    "duration": 81,
    "start_time": "2021-12-15T19:54:00.634Z"
   },
   {
    "duration": 829,
    "start_time": "2021-12-15T19:54:13.993Z"
   },
   {
    "duration": 6,
    "start_time": "2021-12-15T19:54:14.825Z"
   },
   {
    "duration": 35,
    "start_time": "2021-12-15T19:54:14.835Z"
   },
   {
    "duration": 17,
    "start_time": "2021-12-15T19:54:14.872Z"
   },
   {
    "duration": 84,
    "start_time": "2021-12-15T19:54:14.923Z"
   },
   {
    "duration": 2121,
    "start_time": "2021-12-15T19:54:15.010Z"
   },
   {
    "duration": 12,
    "start_time": "2021-12-15T19:54:17.133Z"
   },
   {
    "duration": 10,
    "start_time": "2021-12-15T19:54:17.151Z"
   },
   {
    "duration": 123,
    "start_time": "2021-12-15T19:54:17.164Z"
   },
   {
    "duration": 8,
    "start_time": "2021-12-15T19:54:17.289Z"
   },
   {
    "duration": 56,
    "start_time": "2021-12-15T19:54:17.300Z"
   },
   {
    "duration": 31,
    "start_time": "2021-12-15T19:54:17.358Z"
   },
   {
    "duration": 34,
    "start_time": "2021-12-15T19:54:17.391Z"
   },
   {
    "duration": 925,
    "start_time": "2021-12-15T19:54:17.428Z"
   },
   {
    "duration": 4029,
    "start_time": "2021-12-15T19:54:18.356Z"
   },
   {
    "duration": 7,
    "start_time": "2021-12-15T19:54:59.269Z"
   },
   {
    "duration": 6,
    "start_time": "2021-12-15T20:30:55.537Z"
   },
   {
    "duration": 6,
    "start_time": "2021-12-15T20:31:06.450Z"
   },
   {
    "duration": 5,
    "start_time": "2021-12-15T20:31:11.951Z"
   },
   {
    "duration": 6,
    "start_time": "2021-12-15T20:31:33.261Z"
   },
   {
    "duration": 6,
    "start_time": "2021-12-15T20:31:38.602Z"
   },
   {
    "duration": 6,
    "start_time": "2021-12-15T20:31:42.390Z"
   },
   {
    "duration": 8,
    "start_time": "2021-12-15T20:42:09.042Z"
   },
   {
    "duration": 12,
    "start_time": "2021-12-15T20:47:01.612Z"
   },
   {
    "duration": 9,
    "start_time": "2021-12-15T20:47:06.448Z"
   },
   {
    "duration": 109,
    "start_time": "2021-12-15T21:10:43.081Z"
   },
   {
    "duration": 8,
    "start_time": "2021-12-15T21:10:54.849Z"
   },
   {
    "duration": -37,
    "start_time": "2021-12-15T21:12:39.249Z"
   },
   {
    "duration": 805,
    "start_time": "2021-12-15T21:12:58.687Z"
   },
   {
    "duration": 8,
    "start_time": "2021-12-15T21:12:59.495Z"
   },
   {
    "duration": 60,
    "start_time": "2021-12-15T21:12:59.507Z"
   },
   {
    "duration": 18,
    "start_time": "2021-12-15T21:12:59.569Z"
   },
   {
    "duration": 113,
    "start_time": "2021-12-15T21:12:59.589Z"
   },
   {
    "duration": 2312,
    "start_time": "2021-12-15T21:12:59.705Z"
   },
   {
    "duration": 14,
    "start_time": "2021-12-15T21:13:02.023Z"
   },
   {
    "duration": 22,
    "start_time": "2021-12-15T21:13:02.042Z"
   },
   {
    "duration": 119,
    "start_time": "2021-12-15T21:13:02.067Z"
   },
   {
    "duration": 7,
    "start_time": "2021-12-15T21:13:02.189Z"
   },
   {
    "duration": 58,
    "start_time": "2021-12-15T21:13:02.199Z"
   },
   {
    "duration": 31,
    "start_time": "2021-12-15T21:13:02.259Z"
   },
   {
    "duration": 31,
    "start_time": "2021-12-15T21:13:02.292Z"
   },
   {
    "duration": 964,
    "start_time": "2021-12-15T21:13:02.327Z"
   },
   {
    "duration": 4052,
    "start_time": "2021-12-15T21:13:03.294Z"
   },
   {
    "duration": 7,
    "start_time": "2021-12-15T21:13:07.348Z"
   },
   {
    "duration": 48,
    "start_time": "2021-12-15T21:13:07.357Z"
   },
   {
    "duration": 24,
    "start_time": "2021-12-15T21:13:07.408Z"
   },
   {
    "duration": 9042,
    "start_time": "2021-12-15T21:13:07.436Z"
   },
   {
    "duration": 9,
    "start_time": "2021-12-15T21:13:40.717Z"
   },
   {
    "duration": 2078,
    "start_time": "2021-12-15T21:13:44.000Z"
   },
   {
    "duration": 8,
    "start_time": "2021-12-15T21:15:37.492Z"
   },
   {
    "duration": 8,
    "start_time": "2021-12-15T21:15:42.334Z"
   },
   {
    "duration": 2392,
    "start_time": "2021-12-15T21:15:44.688Z"
   },
   {
    "duration": 2391,
    "start_time": "2021-12-15T21:16:01.312Z"
   },
   {
    "duration": 7,
    "start_time": "2021-12-15T21:18:27.704Z"
   },
   {
    "duration": 2134,
    "start_time": "2021-12-15T21:18:31.070Z"
   },
   {
    "duration": 8,
    "start_time": "2021-12-15T21:20:05.387Z"
   },
   {
    "duration": 2079,
    "start_time": "2021-12-15T21:20:08.534Z"
   },
   {
    "duration": 101,
    "start_time": "2021-12-15T21:21:43.081Z"
   },
   {
    "duration": 7,
    "start_time": "2021-12-15T21:22:01.194Z"
   },
   {
    "duration": 2179,
    "start_time": "2021-12-15T21:22:04.811Z"
   },
   {
    "duration": 2129,
    "start_time": "2021-12-15T21:22:33.508Z"
   },
   {
    "duration": 9,
    "start_time": "2021-12-15T21:24:11.840Z"
   },
   {
    "duration": 7,
    "start_time": "2021-12-15T21:24:40.282Z"
   },
   {
    "duration": 2158,
    "start_time": "2021-12-15T21:24:44.661Z"
   },
   {
    "duration": 2181,
    "start_time": "2021-12-15T21:25:38.282Z"
   },
   {
    "duration": 8,
    "start_time": "2021-12-15T21:25:40.465Z"
   },
   {
    "duration": 2101,
    "start_time": "2021-12-15T21:25:41.551Z"
   },
   {
    "duration": 805,
    "start_time": "2021-12-15T21:30:21.450Z"
   },
   {
    "duration": 6,
    "start_time": "2021-12-15T21:30:22.258Z"
   },
   {
    "duration": 44,
    "start_time": "2021-12-15T21:30:22.267Z"
   },
   {
    "duration": 33,
    "start_time": "2021-12-15T21:30:22.313Z"
   },
   {
    "duration": 102,
    "start_time": "2021-12-15T21:30:22.349Z"
   },
   {
    "duration": 2366,
    "start_time": "2021-12-15T21:30:22.453Z"
   },
   {
    "duration": 15,
    "start_time": "2021-12-15T21:30:24.821Z"
   },
   {
    "duration": 48,
    "start_time": "2021-12-15T21:30:24.841Z"
   },
   {
    "duration": 118,
    "start_time": "2021-12-15T21:30:24.892Z"
   },
   {
    "duration": 10,
    "start_time": "2021-12-15T21:30:25.024Z"
   },
   {
    "duration": 53,
    "start_time": "2021-12-15T21:30:25.038Z"
   },
   {
    "duration": 52,
    "start_time": "2021-12-15T21:30:25.094Z"
   },
   {
    "duration": 8,
    "start_time": "2021-12-15T21:30:25.148Z"
   },
   {
    "duration": 996,
    "start_time": "2021-12-15T21:30:25.158Z"
   },
   {
    "duration": 3957,
    "start_time": "2021-12-15T21:30:26.157Z"
   },
   {
    "duration": 11,
    "start_time": "2021-12-15T21:30:30.125Z"
   },
   {
    "duration": 20,
    "start_time": "2021-12-15T21:30:30.139Z"
   },
   {
    "duration": 8,
    "start_time": "2021-12-15T21:30:30.161Z"
   },
   {
    "duration": 2139,
    "start_time": "2021-12-15T21:30:30.171Z"
   },
   {
    "duration": 8,
    "start_time": "2021-12-15T21:31:52.981Z"
   },
   {
    "duration": 8,
    "start_time": "2021-12-15T21:32:15.422Z"
   },
   {
    "duration": 374,
    "start_time": "2021-12-15T21:32:31.940Z"
   },
   {
    "duration": 12,
    "start_time": "2021-12-15T21:32:43.029Z"
   },
   {
    "duration": 7,
    "start_time": "2021-12-15T21:33:03.355Z"
   },
   {
    "duration": 8,
    "start_time": "2021-12-15T21:34:14.897Z"
   },
   {
    "duration": 2162,
    "start_time": "2021-12-15T21:34:17.355Z"
   },
   {
    "duration": 7,
    "start_time": "2021-12-15T21:35:57.963Z"
   },
   {
    "duration": 2240,
    "start_time": "2021-12-15T21:36:00.958Z"
   },
   {
    "duration": 824,
    "start_time": "2021-12-15T21:37:03.990Z"
   },
   {
    "duration": 8,
    "start_time": "2021-12-15T21:37:04.816Z"
   },
   {
    "duration": 48,
    "start_time": "2021-12-15T21:37:04.828Z"
   },
   {
    "duration": 19,
    "start_time": "2021-12-15T21:37:04.879Z"
   },
   {
    "duration": 109,
    "start_time": "2021-12-15T21:37:04.901Z"
   },
   {
    "duration": 2186,
    "start_time": "2021-12-15T21:37:05.012Z"
   },
   {
    "duration": 26,
    "start_time": "2021-12-15T21:37:07.201Z"
   },
   {
    "duration": 14,
    "start_time": "2021-12-15T21:37:07.231Z"
   },
   {
    "duration": 118,
    "start_time": "2021-12-15T21:37:07.248Z"
   },
   {
    "duration": 7,
    "start_time": "2021-12-15T21:37:07.369Z"
   },
   {
    "duration": 54,
    "start_time": "2021-12-15T21:37:07.378Z"
   },
   {
    "duration": 31,
    "start_time": "2021-12-15T21:37:07.436Z"
   },
   {
    "duration": 8,
    "start_time": "2021-12-15T21:37:07.470Z"
   },
   {
    "duration": 994,
    "start_time": "2021-12-15T21:37:07.480Z"
   },
   {
    "duration": 4282,
    "start_time": "2021-12-15T21:37:08.477Z"
   },
   {
    "duration": 8,
    "start_time": "2021-12-15T21:37:12.762Z"
   },
   {
    "duration": 27,
    "start_time": "2021-12-15T21:37:12.772Z"
   },
   {
    "duration": 2249,
    "start_time": "2021-12-15T21:37:12.801Z"
   },
   {
    "duration": 779,
    "start_time": "2021-12-15T21:57:05.587Z"
   },
   {
    "duration": 6,
    "start_time": "2021-12-15T21:57:06.369Z"
   },
   {
    "duration": 57,
    "start_time": "2021-12-15T21:57:06.379Z"
   },
   {
    "duration": 22,
    "start_time": "2021-12-15T21:57:06.440Z"
   },
   {
    "duration": 109,
    "start_time": "2021-12-15T21:57:06.464Z"
   },
   {
    "duration": 2263,
    "start_time": "2021-12-15T21:57:06.576Z"
   },
   {
    "duration": 10,
    "start_time": "2021-12-15T21:57:08.843Z"
   },
   {
    "duration": 14,
    "start_time": "2021-12-15T21:57:08.857Z"
   },
   {
    "duration": 124,
    "start_time": "2021-12-15T21:57:08.874Z"
   },
   {
    "duration": 23,
    "start_time": "2021-12-15T21:57:09.000Z"
   },
   {
    "duration": 41,
    "start_time": "2021-12-15T21:57:09.027Z"
   },
   {
    "duration": 56,
    "start_time": "2021-12-15T21:57:09.070Z"
   },
   {
    "duration": 10,
    "start_time": "2021-12-15T21:57:09.130Z"
   },
   {
    "duration": 939,
    "start_time": "2021-12-15T21:57:09.142Z"
   },
   {
    "duration": 3909,
    "start_time": "2021-12-15T21:57:10.084Z"
   },
   {
    "duration": 8,
    "start_time": "2021-12-15T21:57:13.996Z"
   },
   {
    "duration": 22,
    "start_time": "2021-12-15T21:57:14.006Z"
   },
   {
    "duration": 2547,
    "start_time": "2021-12-15T21:57:14.031Z"
   },
   {
    "duration": 8,
    "start_time": "2021-12-15T21:59:30.980Z"
   },
   {
    "duration": 825,
    "start_time": "2021-12-15T22:01:11.735Z"
   },
   {
    "duration": 7,
    "start_time": "2021-12-15T22:01:12.563Z"
   },
   {
    "duration": 78,
    "start_time": "2021-12-15T22:01:12.573Z"
   },
   {
    "duration": 17,
    "start_time": "2021-12-15T22:01:12.654Z"
   },
   {
    "duration": 112,
    "start_time": "2021-12-15T22:01:12.673Z"
   },
   {
    "duration": 328,
    "start_time": "2021-12-16T11:40:10.604Z"
   },
   {
    "duration": 839,
    "start_time": "2021-12-16T11:40:18.694Z"
   },
   {
    "duration": 7,
    "start_time": "2021-12-16T11:40:19.536Z"
   },
   {
    "duration": 38,
    "start_time": "2021-12-16T11:40:19.568Z"
   },
   {
    "duration": 24,
    "start_time": "2021-12-16T11:40:19.610Z"
   },
   {
    "duration": 127,
    "start_time": "2021-12-16T11:40:19.638Z"
   },
   {
    "duration": 2458,
    "start_time": "2021-12-16T11:40:19.768Z"
   },
   {
    "duration": 11,
    "start_time": "2021-12-16T11:40:22.229Z"
   },
   {
    "duration": 36,
    "start_time": "2021-12-16T11:40:22.243Z"
   },
   {
    "duration": 124,
    "start_time": "2021-12-16T11:40:22.284Z"
   },
   {
    "duration": 9,
    "start_time": "2021-12-16T11:40:22.410Z"
   },
   {
    "duration": 41,
    "start_time": "2021-12-16T11:40:22.422Z"
   },
   {
    "duration": 37,
    "start_time": "2021-12-16T11:40:22.467Z"
   },
   {
    "duration": 8,
    "start_time": "2021-12-16T11:40:22.507Z"
   },
   {
    "duration": 1031,
    "start_time": "2021-12-16T11:40:22.518Z"
   },
   {
    "duration": 3987,
    "start_time": "2021-12-16T11:40:23.552Z"
   },
   {
    "duration": 8,
    "start_time": "2021-12-16T11:40:27.541Z"
   },
   {
    "duration": 17,
    "start_time": "2021-12-16T11:40:27.568Z"
   },
   {
    "duration": 2341,
    "start_time": "2021-12-16T11:40:27.590Z"
   },
   {
    "duration": 408,
    "start_time": "2021-12-16T11:40:29.934Z"
   },
   {
    "duration": 277,
    "start_time": "2021-12-16T11:41:02.142Z"
   },
   {
    "duration": 7,
    "start_time": "2021-12-16T11:41:23.443Z"
   },
   {
    "duration": 8,
    "start_time": "2021-12-16T11:41:46.356Z"
   },
   {
    "duration": 6,
    "start_time": "2021-12-16T11:41:51.883Z"
   },
   {
    "duration": 300,
    "start_time": "2021-12-16T11:42:33.519Z"
   },
   {
    "duration": 276,
    "start_time": "2021-12-16T11:43:11.743Z"
   },
   {
    "duration": 26,
    "start_time": "2021-12-16T11:48:11.720Z"
   },
   {
    "duration": 312,
    "start_time": "2021-12-16T11:49:27.186Z"
   },
   {
    "duration": 23,
    "start_time": "2021-12-16T11:49:37.912Z"
   },
   {
    "duration": 28,
    "start_time": "2021-12-16T11:56:09.354Z"
   },
   {
    "duration": 241,
    "start_time": "2021-12-16T11:58:27.748Z"
   },
   {
    "duration": 261,
    "start_time": "2021-12-16T11:58:37.893Z"
   },
   {
    "duration": 2058,
    "start_time": "2021-12-16T12:00:12.805Z"
   },
   {
    "duration": 295,
    "start_time": "2021-12-16T12:00:28.833Z"
   },
   {
    "duration": 277,
    "start_time": "2021-12-16T12:00:43.904Z"
   },
   {
    "duration": 23,
    "start_time": "2021-12-16T12:01:31.899Z"
   },
   {
    "duration": 31,
    "start_time": "2021-12-16T12:01:49.758Z"
   },
   {
    "duration": 22,
    "start_time": "2021-12-16T12:02:04.045Z"
   },
   {
    "duration": 26,
    "start_time": "2021-12-16T12:04:23.052Z"
   },
   {
    "duration": 6,
    "start_time": "2021-12-16T12:09:09.259Z"
   },
   {
    "duration": 10,
    "start_time": "2021-12-16T12:09:13.900Z"
   },
   {
    "duration": 10,
    "start_time": "2021-12-16T12:09:23.354Z"
   },
   {
    "duration": 12,
    "start_time": "2021-12-16T12:10:28.227Z"
   },
   {
    "duration": 837,
    "start_time": "2021-12-16T12:17:11.191Z"
   },
   {
    "duration": 7,
    "start_time": "2021-12-16T12:17:12.030Z"
   },
   {
    "duration": 61,
    "start_time": "2021-12-16T12:17:12.040Z"
   },
   {
    "duration": 20,
    "start_time": "2021-12-16T12:17:12.104Z"
   },
   {
    "duration": 114,
    "start_time": "2021-12-16T12:17:12.126Z"
   },
   {
    "duration": 2376,
    "start_time": "2021-12-16T12:17:12.243Z"
   },
   {
    "duration": 11,
    "start_time": "2021-12-16T12:17:14.622Z"
   },
   {
    "duration": 35,
    "start_time": "2021-12-16T12:17:14.635Z"
   },
   {
    "duration": 118,
    "start_time": "2021-12-16T12:17:14.678Z"
   },
   {
    "duration": 7,
    "start_time": "2021-12-16T12:17:14.799Z"
   },
   {
    "duration": 67,
    "start_time": "2021-12-16T12:17:14.808Z"
   },
   {
    "duration": 43,
    "start_time": "2021-12-16T12:17:14.878Z"
   },
   {
    "duration": 9,
    "start_time": "2021-12-16T12:17:14.924Z"
   },
   {
    "duration": 1067,
    "start_time": "2021-12-16T12:17:14.935Z"
   },
   {
    "duration": 4568,
    "start_time": "2021-12-16T12:17:16.004Z"
   },
   {
    "duration": 9,
    "start_time": "2021-12-16T12:17:20.575Z"
   },
   {
    "duration": 8,
    "start_time": "2021-12-16T12:17:20.587Z"
   },
   {
    "duration": 2268,
    "start_time": "2021-12-16T12:17:20.597Z"
   },
   {
    "duration": 35,
    "start_time": "2021-12-16T12:17:22.870Z"
   },
   {
    "duration": 11,
    "start_time": "2021-12-16T12:17:22.908Z"
   },
   {
    "duration": 23,
    "start_time": "2021-12-16T12:19:46.756Z"
   },
   {
    "duration": 368,
    "start_time": "2021-12-16T12:20:03.850Z"
   },
   {
    "duration": 12,
    "start_time": "2021-12-16T12:20:22.195Z"
   },
   {
    "duration": 14,
    "start_time": "2021-12-16T12:20:56.276Z"
   },
   {
    "duration": 13,
    "start_time": "2021-12-16T12:21:07.590Z"
   },
   {
    "duration": 21,
    "start_time": "2021-12-16T12:21:39.095Z"
   },
   {
    "duration": 12,
    "start_time": "2021-12-16T12:21:45.490Z"
   },
   {
    "duration": 281,
    "start_time": "2021-12-16T12:30:55.336Z"
   },
   {
    "duration": 23,
    "start_time": "2021-12-16T12:31:10.037Z"
   },
   {
    "duration": 285,
    "start_time": "2021-12-16T12:31:25.738Z"
   },
   {
    "duration": 16,
    "start_time": "2021-12-16T12:31:26.141Z"
   },
   {
    "duration": 20,
    "start_time": "2021-12-16T12:32:00.512Z"
   },
   {
    "duration": 282,
    "start_time": "2021-12-16T12:32:55.722Z"
   },
   {
    "duration": 21,
    "start_time": "2021-12-16T12:33:20.262Z"
   },
   {
    "duration": 10,
    "start_time": "2021-12-16T12:33:28.811Z"
   },
   {
    "duration": 8,
    "start_time": "2021-12-16T12:34:26.056Z"
   },
   {
    "duration": 1009,
    "start_time": "2021-12-16T12:34:39.672Z"
   },
   {
    "duration": 7,
    "start_time": "2021-12-16T12:34:40.685Z"
   },
   {
    "duration": 74,
    "start_time": "2021-12-16T12:34:40.695Z"
   },
   {
    "duration": 20,
    "start_time": "2021-12-16T12:34:40.778Z"
   },
   {
    "duration": 113,
    "start_time": "2021-12-16T12:34:40.801Z"
   },
   {
    "duration": 2260,
    "start_time": "2021-12-16T12:34:40.917Z"
   },
   {
    "duration": 13,
    "start_time": "2021-12-16T12:34:43.179Z"
   },
   {
    "duration": 30,
    "start_time": "2021-12-16T12:34:43.196Z"
   },
   {
    "duration": 108,
    "start_time": "2021-12-16T12:34:43.229Z"
   },
   {
    "duration": 7,
    "start_time": "2021-12-16T12:34:43.340Z"
   },
   {
    "duration": 61,
    "start_time": "2021-12-16T12:34:43.349Z"
   },
   {
    "duration": 33,
    "start_time": "2021-12-16T12:34:43.412Z"
   },
   {
    "duration": 28,
    "start_time": "2021-12-16T12:34:43.447Z"
   },
   {
    "duration": 1021,
    "start_time": "2021-12-16T12:34:43.479Z"
   },
   {
    "duration": 3894,
    "start_time": "2021-12-16T12:34:44.502Z"
   },
   {
    "duration": 10,
    "start_time": "2021-12-16T12:34:48.399Z"
   },
   {
    "duration": 35,
    "start_time": "2021-12-16T12:34:48.412Z"
   },
   {
    "duration": 2270,
    "start_time": "2021-12-16T12:34:48.450Z"
   },
   {
    "duration": 50,
    "start_time": "2021-12-16T12:34:50.723Z"
   },
   {
    "duration": 18,
    "start_time": "2021-12-16T12:34:50.778Z"
   },
   {
    "duration": 32,
    "start_time": "2021-12-16T12:34:50.799Z"
   },
   {
    "duration": 12,
    "start_time": "2021-12-16T12:39:36.482Z"
   },
   {
    "duration": 10,
    "start_time": "2021-12-16T12:39:48.447Z"
   },
   {
    "duration": 510,
    "start_time": "2021-12-16T12:39:53.317Z"
   },
   {
    "duration": 12,
    "start_time": "2021-12-16T12:39:57.567Z"
   },
   {
    "duration": 9,
    "start_time": "2021-12-16T12:40:01.526Z"
   },
   {
    "duration": 18,
    "start_time": "2021-12-16T12:40:21.172Z"
   },
   {
    "duration": 14,
    "start_time": "2021-12-16T12:40:28.315Z"
   },
   {
    "duration": 321,
    "start_time": "2021-12-16T12:44:32.284Z"
   },
   {
    "duration": 18,
    "start_time": "2021-12-16T12:44:51.283Z"
   },
   {
    "duration": 23,
    "start_time": "2021-12-16T12:45:31.023Z"
   },
   {
    "duration": 29,
    "start_time": "2021-12-16T12:45:57.367Z"
   },
   {
    "duration": 16,
    "start_time": "2021-12-16T12:46:57.012Z"
   },
   {
    "duration": 279,
    "start_time": "2021-12-16T12:47:17.296Z"
   },
   {
    "duration": 19,
    "start_time": "2021-12-16T12:47:23.230Z"
   },
   {
    "duration": 27,
    "start_time": "2021-12-16T12:47:34.290Z"
   },
   {
    "duration": 25,
    "start_time": "2021-12-16T12:47:58.410Z"
   },
   {
    "duration": 17,
    "start_time": "2021-12-16T12:49:41.890Z"
   },
   {
    "duration": 20,
    "start_time": "2021-12-16T12:50:12.532Z"
   },
   {
    "duration": 19,
    "start_time": "2021-12-16T12:54:43.180Z"
   },
   {
    "duration": 23,
    "start_time": "2021-12-16T12:55:56.212Z"
   },
   {
    "duration": 24,
    "start_time": "2021-12-16T12:57:54.672Z"
   },
   {
    "duration": 23,
    "start_time": "2021-12-16T12:58:00.119Z"
   },
   {
    "duration": 26,
    "start_time": "2021-12-16T12:58:05.371Z"
   },
   {
    "duration": 22,
    "start_time": "2021-12-16T12:58:07.510Z"
   },
   {
    "duration": 32,
    "start_time": "2021-12-16T13:02:23.555Z"
   },
   {
    "duration": 280,
    "start_time": "2021-12-16T13:05:21.419Z"
   },
   {
    "duration": 22,
    "start_time": "2021-12-16T13:05:25.894Z"
   },
   {
    "duration": 28,
    "start_time": "2021-12-16T13:05:37.453Z"
   },
   {
    "duration": 26,
    "start_time": "2021-12-16T13:06:27.476Z"
   },
   {
    "duration": 26,
    "start_time": "2021-12-16T13:06:49.253Z"
   },
   {
    "duration": 25,
    "start_time": "2021-12-16T13:08:41.080Z"
   },
   {
    "duration": 22,
    "start_time": "2021-12-16T13:09:07.424Z"
   },
   {
    "duration": 22,
    "start_time": "2021-12-16T13:09:40.421Z"
   },
   {
    "duration": 21,
    "start_time": "2021-12-16T13:09:54.610Z"
   },
   {
    "duration": 23,
    "start_time": "2021-12-16T13:10:01.938Z"
   },
   {
    "duration": 20,
    "start_time": "2021-12-16T13:17:26.715Z"
   },
   {
    "duration": 6,
    "start_time": "2021-12-16T13:18:04.747Z"
   },
   {
    "duration": 24,
    "start_time": "2021-12-16T13:18:21.299Z"
   },
   {
    "duration": 23,
    "start_time": "2021-12-16T13:18:28.460Z"
   },
   {
    "duration": 25,
    "start_time": "2021-12-16T13:27:17.366Z"
   },
   {
    "duration": 11,
    "start_time": "2021-12-16T13:27:27.184Z"
   },
   {
    "duration": 12,
    "start_time": "2021-12-16T13:27:51.216Z"
   },
   {
    "duration": 251,
    "start_time": "2021-12-16T13:27:57.663Z"
   },
   {
    "duration": 23,
    "start_time": "2021-12-16T13:28:03.917Z"
   },
   {
    "duration": 24,
    "start_time": "2021-12-16T13:28:24.244Z"
   },
   {
    "duration": 25,
    "start_time": "2021-12-16T13:28:47.523Z"
   },
   {
    "duration": 10,
    "start_time": "2021-12-16T13:28:55.283Z"
   },
   {
    "duration": 11,
    "start_time": "2021-12-16T13:29:11.718Z"
   },
   {
    "duration": 9,
    "start_time": "2021-12-16T13:29:26.116Z"
   },
   {
    "duration": 8,
    "start_time": "2021-12-16T13:29:39.796Z"
   },
   {
    "duration": 11,
    "start_time": "2021-12-16T13:29:46.691Z"
   },
   {
    "duration": 9,
    "start_time": "2021-12-16T13:29:59.724Z"
   },
   {
    "duration": 23,
    "start_time": "2021-12-16T13:30:18.405Z"
   },
   {
    "duration": 26,
    "start_time": "2021-12-16T13:30:25.636Z"
   },
   {
    "duration": 859,
    "start_time": "2021-12-16T13:30:57.055Z"
   },
   {
    "duration": 9,
    "start_time": "2021-12-16T13:30:57.917Z"
   },
   {
    "duration": 69,
    "start_time": "2021-12-16T13:30:57.929Z"
   },
   {
    "duration": 20,
    "start_time": "2021-12-16T13:30:58.001Z"
   },
   {
    "duration": 119,
    "start_time": "2021-12-16T13:30:58.024Z"
   },
   {
    "duration": 2346,
    "start_time": "2021-12-16T13:30:58.146Z"
   },
   {
    "duration": 10,
    "start_time": "2021-12-16T13:31:00.497Z"
   },
   {
    "duration": 24,
    "start_time": "2021-12-16T13:31:00.510Z"
   },
   {
    "duration": 121,
    "start_time": "2021-12-16T13:31:00.536Z"
   },
   {
    "duration": 9,
    "start_time": "2021-12-16T13:31:00.667Z"
   },
   {
    "duration": 69,
    "start_time": "2021-12-16T13:31:00.678Z"
   },
   {
    "duration": 34,
    "start_time": "2021-12-16T13:31:00.749Z"
   },
   {
    "duration": 18,
    "start_time": "2021-12-16T13:31:00.786Z"
   },
   {
    "duration": 1007,
    "start_time": "2021-12-16T13:31:00.807Z"
   },
   {
    "duration": 3885,
    "start_time": "2021-12-16T13:31:01.818Z"
   },
   {
    "duration": 8,
    "start_time": "2021-12-16T13:31:05.705Z"
   },
   {
    "duration": 8,
    "start_time": "2021-12-16T13:31:05.715Z"
   },
   {
    "duration": 2420,
    "start_time": "2021-12-16T13:31:05.726Z"
   },
   {
    "duration": 39,
    "start_time": "2021-12-16T13:31:08.149Z"
   },
   {
    "duration": 24,
    "start_time": "2021-12-16T13:31:08.190Z"
   },
   {
    "duration": 53,
    "start_time": "2021-12-16T13:31:08.216Z"
   },
   {
    "duration": 34,
    "start_time": "2021-12-16T13:31:08.273Z"
   },
   {
    "duration": 24,
    "start_time": "2021-12-16T13:31:08.310Z"
   },
   {
    "duration": 23,
    "start_time": "2021-12-16T13:32:24.935Z"
   },
   {
    "duration": 10,
    "start_time": "2021-12-16T13:32:52.151Z"
   },
   {
    "duration": 390,
    "start_time": "2021-12-16T16:42:39.631Z"
   },
   {
    "duration": 709,
    "start_time": "2021-12-16T16:42:47.381Z"
   },
   {
    "duration": 4,
    "start_time": "2021-12-16T16:42:48.092Z"
   },
   {
    "duration": 23,
    "start_time": "2021-12-16T16:42:48.098Z"
   },
   {
    "duration": 10,
    "start_time": "2021-12-16T16:42:48.123Z"
   },
   {
    "duration": 73,
    "start_time": "2021-12-16T16:42:48.134Z"
   },
   {
    "duration": 1307,
    "start_time": "2021-12-16T16:42:48.208Z"
   },
   {
    "duration": 7,
    "start_time": "2021-12-16T16:42:49.517Z"
   },
   {
    "duration": 6,
    "start_time": "2021-12-16T16:42:49.527Z"
   },
   {
    "duration": 86,
    "start_time": "2021-12-16T16:42:49.535Z"
   },
   {
    "duration": 6,
    "start_time": "2021-12-16T16:42:49.622Z"
   },
   {
    "duration": 26,
    "start_time": "2021-12-16T16:42:49.630Z"
   },
   {
    "duration": 24,
    "start_time": "2021-12-16T16:42:49.658Z"
   },
   {
    "duration": 27,
    "start_time": "2021-12-16T16:42:49.684Z"
   },
   {
    "duration": 786,
    "start_time": "2021-12-16T16:42:49.712Z"
   },
   {
    "duration": 3212,
    "start_time": "2021-12-16T16:42:50.500Z"
   },
   {
    "duration": 6,
    "start_time": "2021-12-16T16:42:53.714Z"
   },
   {
    "duration": 5,
    "start_time": "2021-12-16T16:42:53.722Z"
   },
   {
    "duration": 1271,
    "start_time": "2021-12-16T16:42:53.729Z"
   },
   {
    "duration": 23,
    "start_time": "2021-12-16T16:42:55.002Z"
   },
   {
    "duration": 7,
    "start_time": "2021-12-16T16:42:55.027Z"
   },
   {
    "duration": 21,
    "start_time": "2021-12-16T16:42:55.036Z"
   },
   {
    "duration": 593,
    "start_time": "2021-12-16T16:42:55.058Z"
   },
   {
    "duration": -35,
    "start_time": "2021-12-16T16:42:55.688Z"
   },
   {
    "duration": 8,
    "start_time": "2021-12-16T16:43:09.569Z"
   },
   {
    "duration": 7,
    "start_time": "2021-12-16T16:43:37.219Z"
   },
   {
    "duration": 436,
    "start_time": "2021-12-16T16:43:46.522Z"
   },
   {
    "duration": 111,
    "start_time": "2021-12-16T16:43:49.527Z"
   },
   {
    "duration": 5,
    "start_time": "2021-12-16T16:43:52.083Z"
   },
   {
    "duration": 12,
    "start_time": "2021-12-16T16:46:25.724Z"
   },
   {
    "duration": 5,
    "start_time": "2021-12-16T16:46:39.898Z"
   },
   {
    "duration": 5,
    "start_time": "2021-12-16T16:47:19.606Z"
   },
   {
    "duration": 394,
    "start_time": "2021-12-16T16:52:06.141Z"
   },
   {
    "duration": 705,
    "start_time": "2021-12-16T16:52:34.131Z"
   },
   {
    "duration": 5,
    "start_time": "2021-12-16T16:52:34.838Z"
   },
   {
    "duration": 22,
    "start_time": "2021-12-16T16:52:34.845Z"
   },
   {
    "duration": 11,
    "start_time": "2021-12-16T16:52:34.869Z"
   },
   {
    "duration": 86,
    "start_time": "2021-12-16T16:52:34.881Z"
   },
   {
    "duration": 1476,
    "start_time": "2021-12-16T16:52:34.968Z"
   },
   {
    "duration": 9,
    "start_time": "2021-12-16T16:52:36.446Z"
   },
   {
    "duration": 8,
    "start_time": "2021-12-16T16:52:36.457Z"
   },
   {
    "duration": 155,
    "start_time": "2021-12-16T16:52:36.468Z"
   },
   {
    "duration": 9,
    "start_time": "2021-12-16T16:52:36.626Z"
   },
   {
    "duration": 40,
    "start_time": "2021-12-16T16:52:36.638Z"
   },
   {
    "duration": 61,
    "start_time": "2021-12-16T16:52:36.680Z"
   },
   {
    "duration": 8,
    "start_time": "2021-12-16T16:52:36.744Z"
   },
   {
    "duration": 784,
    "start_time": "2021-12-16T16:52:36.755Z"
   },
   {
    "duration": 3322,
    "start_time": "2021-12-16T16:52:37.541Z"
   },
   {
    "duration": 6,
    "start_time": "2021-12-16T16:52:40.865Z"
   },
   {
    "duration": 5,
    "start_time": "2021-12-16T16:52:40.873Z"
   },
   {
    "duration": 1337,
    "start_time": "2021-12-16T16:52:40.879Z"
   },
   {
    "duration": 24,
    "start_time": "2021-12-16T16:52:42.218Z"
   },
   {
    "duration": 4,
    "start_time": "2021-12-16T16:52:42.244Z"
   },
   {
    "duration": 17,
    "start_time": "2021-12-16T16:52:42.250Z"
   },
   {
    "duration": 433,
    "start_time": "2021-12-16T16:52:42.269Z"
   },
   {
    "duration": -105,
    "start_time": "2021-12-16T16:52:42.809Z"
   },
   {
    "duration": 404,
    "start_time": "2021-12-16T16:53:30.101Z"
   },
   {
    "duration": 5,
    "start_time": "2021-12-16T16:54:09.582Z"
   },
   {
    "duration": 5,
    "start_time": "2021-12-16T16:54:14.151Z"
   },
   {
    "duration": 5,
    "start_time": "2021-12-16T16:54:19.946Z"
   },
   {
    "duration": 5,
    "start_time": "2021-12-16T16:57:27.605Z"
   },
   {
    "duration": 6,
    "start_time": "2021-12-16T16:58:18.851Z"
   },
   {
    "duration": 7,
    "start_time": "2021-12-16T16:59:59.821Z"
   },
   {
    "duration": 8,
    "start_time": "2021-12-16T17:03:30.951Z"
   },
   {
    "duration": 392,
    "start_time": "2021-12-16T17:18:56.916Z"
   },
   {
    "duration": 344,
    "start_time": "2021-12-16T17:19:46.999Z"
   },
   {
    "duration": 26,
    "start_time": "2021-12-16T17:19:57.552Z"
   },
   {
    "duration": 6,
    "start_time": "2021-12-16T17:22:44.100Z"
   },
   {
    "duration": 5,
    "start_time": "2021-12-16T17:22:53.559Z"
   },
   {
    "duration": 7,
    "start_time": "2021-12-16T17:23:04.941Z"
   },
   {
    "duration": 7,
    "start_time": "2021-12-16T17:23:40.348Z"
   },
   {
    "duration": 133,
    "start_time": "2021-12-16T17:24:05.606Z"
   },
   {
    "duration": 6,
    "start_time": "2021-12-16T17:24:08.383Z"
   },
   {
    "duration": 25,
    "start_time": "2021-12-16T17:25:58.014Z"
   },
   {
    "duration": 28,
    "start_time": "2021-12-16T17:50:22.377Z"
   },
   {
    "duration": 22,
    "start_time": "2021-12-16T17:58:29.294Z"
   },
   {
    "duration": 661,
    "start_time": "2021-12-16T18:11:45.452Z"
   },
   {
    "duration": 5,
    "start_time": "2021-12-16T18:11:46.114Z"
   },
   {
    "duration": 29,
    "start_time": "2021-12-16T18:11:46.121Z"
   },
   {
    "duration": 11,
    "start_time": "2021-12-16T18:11:46.152Z"
   },
   {
    "duration": 79,
    "start_time": "2021-12-16T18:11:46.165Z"
   },
   {
    "duration": 1328,
    "start_time": "2021-12-16T18:11:46.245Z"
   },
   {
    "duration": 8,
    "start_time": "2021-12-16T18:11:47.575Z"
   },
   {
    "duration": 22,
    "start_time": "2021-12-16T18:11:47.585Z"
   },
   {
    "duration": 72,
    "start_time": "2021-12-16T18:11:47.610Z"
   },
   {
    "duration": 5,
    "start_time": "2021-12-16T18:11:47.684Z"
   },
   {
    "duration": 41,
    "start_time": "2021-12-16T18:11:47.690Z"
   },
   {
    "duration": 24,
    "start_time": "2021-12-16T18:11:47.733Z"
   },
   {
    "duration": 6,
    "start_time": "2021-12-16T18:11:47.759Z"
   },
   {
    "duration": 702,
    "start_time": "2021-12-16T18:11:47.766Z"
   },
   {
    "duration": 2885,
    "start_time": "2021-12-16T18:11:48.471Z"
   },
   {
    "duration": 5,
    "start_time": "2021-12-16T18:11:51.358Z"
   },
   {
    "duration": 30,
    "start_time": "2021-12-16T18:11:51.365Z"
   },
   {
    "duration": 1290,
    "start_time": "2021-12-16T18:11:51.397Z"
   },
   {
    "duration": 30,
    "start_time": "2021-12-16T18:11:52.689Z"
   },
   {
    "duration": 6,
    "start_time": "2021-12-16T18:11:52.721Z"
   },
   {
    "duration": 17,
    "start_time": "2021-12-16T18:11:52.729Z"
   },
   {
    "duration": 28,
    "start_time": "2021-12-16T18:11:52.748Z"
   },
   {
    "duration": 21,
    "start_time": "2021-12-16T18:11:52.808Z"
   },
   {
    "duration": 16,
    "start_time": "2021-12-16T18:11:52.830Z"
   },
   {
    "duration": 609,
    "start_time": "2021-12-17T07:40:40.489Z"
   },
   {
    "duration": 5,
    "start_time": "2021-12-17T07:40:41.100Z"
   },
   {
    "duration": 21,
    "start_time": "2021-12-17T07:40:41.106Z"
   },
   {
    "duration": 10,
    "start_time": "2021-12-17T07:40:41.128Z"
   },
   {
    "duration": 70,
    "start_time": "2021-12-17T07:40:41.140Z"
   },
   {
    "duration": 1218,
    "start_time": "2021-12-17T07:40:41.212Z"
   },
   {
    "duration": 8,
    "start_time": "2021-12-17T07:40:42.432Z"
   },
   {
    "duration": 6,
    "start_time": "2021-12-17T07:40:42.443Z"
   },
   {
    "duration": 86,
    "start_time": "2021-12-17T07:40:42.451Z"
   },
   {
    "duration": 5,
    "start_time": "2021-12-17T07:40:42.539Z"
   },
   {
    "duration": 24,
    "start_time": "2021-12-17T07:40:42.545Z"
   },
   {
    "duration": 33,
    "start_time": "2021-12-17T07:40:42.571Z"
   },
   {
    "duration": 6,
    "start_time": "2021-12-17T07:40:42.605Z"
   },
   {
    "duration": 634,
    "start_time": "2021-12-17T07:40:42.612Z"
   },
   {
    "duration": 2590,
    "start_time": "2021-12-17T07:40:43.249Z"
   },
   {
    "duration": 6,
    "start_time": "2021-12-17T07:40:45.841Z"
   },
   {
    "duration": 5,
    "start_time": "2021-12-17T07:40:45.849Z"
   },
   {
    "duration": 1211,
    "start_time": "2021-12-17T07:40:45.856Z"
   },
   {
    "duration": 28,
    "start_time": "2021-12-17T07:40:47.069Z"
   },
   {
    "duration": 5,
    "start_time": "2021-12-17T07:40:47.098Z"
   },
   {
    "duration": 26,
    "start_time": "2021-12-17T07:40:47.104Z"
   },
   {
    "duration": 24,
    "start_time": "2021-12-17T07:40:47.132Z"
   },
   {
    "duration": 31,
    "start_time": "2021-12-17T07:40:47.158Z"
   },
   {
    "duration": 12,
    "start_time": "2021-12-17T07:40:47.191Z"
   },
   {
    "duration": 8,
    "start_time": "2021-12-17T08:34:23.396Z"
   },
   {
    "duration": 6,
    "start_time": "2021-12-17T08:42:05.268Z"
   },
   {
    "duration": 20,
    "start_time": "2021-12-17T08:42:10.809Z"
   },
   {
    "duration": 678,
    "start_time": "2021-12-17T08:43:25.393Z"
   },
   {
    "duration": 5,
    "start_time": "2021-12-17T08:43:26.073Z"
   },
   {
    "duration": 40,
    "start_time": "2021-12-17T08:43:26.080Z"
   },
   {
    "duration": 10,
    "start_time": "2021-12-17T08:43:26.122Z"
   },
   {
    "duration": 60,
    "start_time": "2021-12-17T08:43:26.134Z"
   },
   {
    "duration": 1194,
    "start_time": "2021-12-17T08:43:26.196Z"
   },
   {
    "duration": 7,
    "start_time": "2021-12-17T08:43:27.392Z"
   },
   {
    "duration": 7,
    "start_time": "2021-12-17T08:43:27.401Z"
   },
   {
    "duration": 20,
    "start_time": "2021-12-17T08:43:27.410Z"
   },
   {
    "duration": 98,
    "start_time": "2021-12-17T08:43:27.431Z"
   },
   {
    "duration": 5,
    "start_time": "2021-12-17T08:43:27.531Z"
   },
   {
    "duration": 24,
    "start_time": "2021-12-17T08:43:27.537Z"
   },
   {
    "duration": 41,
    "start_time": "2021-12-17T08:43:27.562Z"
   },
   {
    "duration": 6,
    "start_time": "2021-12-17T08:43:27.604Z"
   },
   {
    "duration": 655,
    "start_time": "2021-12-17T08:43:27.611Z"
   },
   {
    "duration": 3121,
    "start_time": "2021-12-17T08:43:28.268Z"
   },
   {
    "duration": 7,
    "start_time": "2021-12-17T08:43:31.391Z"
   },
   {
    "duration": 11,
    "start_time": "2021-12-17T08:43:31.400Z"
   },
   {
    "duration": 1303,
    "start_time": "2021-12-17T08:43:31.413Z"
   },
   {
    "duration": 18,
    "start_time": "2021-12-17T08:43:32.717Z"
   },
   {
    "duration": 4,
    "start_time": "2021-12-17T08:43:32.737Z"
   },
   {
    "duration": 15,
    "start_time": "2021-12-17T08:43:32.743Z"
   },
   {
    "duration": 50,
    "start_time": "2021-12-17T08:43:32.761Z"
   },
   {
    "duration": 18,
    "start_time": "2021-12-17T08:43:32.813Z"
   },
   {
    "duration": 14,
    "start_time": "2021-12-17T08:43:32.832Z"
   },
   {
    "duration": 22,
    "start_time": "2021-12-17T08:46:15.298Z"
   },
   {
    "duration": 21,
    "start_time": "2021-12-17T08:57:33.957Z"
   },
   {
    "duration": 26,
    "start_time": "2021-12-17T08:57:53.808Z"
   },
   {
    "duration": 5,
    "start_time": "2021-12-17T08:58:07.498Z"
   },
   {
    "duration": 438,
    "start_time": "2021-12-17T11:11:32.797Z"
   },
   {
    "duration": 868,
    "start_time": "2021-12-17T11:11:51.307Z"
   },
   {
    "duration": 7,
    "start_time": "2021-12-17T11:11:52.177Z"
   },
   {
    "duration": 39,
    "start_time": "2021-12-17T11:11:52.187Z"
   },
   {
    "duration": 43,
    "start_time": "2021-12-17T11:11:52.229Z"
   },
   {
    "duration": 99,
    "start_time": "2021-12-17T11:11:52.274Z"
   },
   {
    "duration": 2133,
    "start_time": "2021-12-17T11:11:52.375Z"
   },
   {
    "duration": 12,
    "start_time": "2021-12-17T11:11:54.510Z"
   },
   {
    "duration": 35,
    "start_time": "2021-12-17T11:11:54.526Z"
   },
   {
    "duration": 30,
    "start_time": "2021-12-17T11:11:54.564Z"
   },
   {
    "duration": 118,
    "start_time": "2021-12-17T11:11:54.596Z"
   },
   {
    "duration": 7,
    "start_time": "2021-12-17T11:11:54.717Z"
   },
   {
    "duration": 56,
    "start_time": "2021-12-17T11:11:54.727Z"
   },
   {
    "duration": 29,
    "start_time": "2021-12-17T11:11:54.785Z"
   },
   {
    "duration": 8,
    "start_time": "2021-12-17T11:11:54.816Z"
   },
   {
    "duration": 945,
    "start_time": "2021-12-17T11:11:54.826Z"
   },
   {
    "duration": 4044,
    "start_time": "2021-12-17T11:11:55.774Z"
   },
   {
    "duration": 8,
    "start_time": "2021-12-17T11:11:59.820Z"
   },
   {
    "duration": 8,
    "start_time": "2021-12-17T11:11:59.830Z"
   },
   {
    "duration": 2206,
    "start_time": "2021-12-17T11:11:59.860Z"
   },
   {
    "duration": 28,
    "start_time": "2021-12-17T11:12:02.068Z"
   },
   {
    "duration": 6,
    "start_time": "2021-12-17T11:12:02.099Z"
   },
   {
    "duration": 7,
    "start_time": "2021-12-17T11:12:02.108Z"
   },
   {
    "duration": 27,
    "start_time": "2021-12-17T11:12:02.160Z"
   },
   {
    "duration": 94,
    "start_time": "2021-12-17T11:12:02.190Z"
   },
   {
    "duration": 30,
    "start_time": "2021-12-17T11:12:02.286Z"
   },
   {
    "duration": 45,
    "start_time": "2021-12-17T11:12:02.319Z"
   },
   {
    "duration": 10,
    "start_time": "2021-12-17T11:16:58.390Z"
   },
   {
    "duration": 1121,
    "start_time": "2021-12-17T11:17:21.644Z"
   },
   {
    "duration": 9,
    "start_time": "2021-12-17T11:17:22.769Z"
   },
   {
    "duration": 38,
    "start_time": "2021-12-17T11:17:22.781Z"
   },
   {
    "duration": 40,
    "start_time": "2021-12-17T11:17:22.822Z"
   },
   {
    "duration": 102,
    "start_time": "2021-12-17T11:17:22.864Z"
   },
   {
    "duration": 2181,
    "start_time": "2021-12-17T11:17:22.968Z"
   },
   {
    "duration": 16,
    "start_time": "2021-12-17T11:17:25.151Z"
   },
   {
    "duration": 9,
    "start_time": "2021-12-17T11:17:25.173Z"
   },
   {
    "duration": 33,
    "start_time": "2021-12-17T11:17:25.185Z"
   },
   {
    "duration": 139,
    "start_time": "2021-12-17T11:17:25.221Z"
   },
   {
    "duration": 9,
    "start_time": "2021-12-17T11:17:25.363Z"
   },
   {
    "duration": 35,
    "start_time": "2021-12-17T11:17:25.375Z"
   },
   {
    "duration": 64,
    "start_time": "2021-12-17T11:17:25.413Z"
   },
   {
    "duration": 9,
    "start_time": "2021-12-17T11:17:25.480Z"
   },
   {
    "duration": 1057,
    "start_time": "2021-12-17T11:17:25.492Z"
   },
   {
    "duration": 4264,
    "start_time": "2021-12-17T11:17:26.553Z"
   },
   {
    "duration": 7,
    "start_time": "2021-12-17T11:17:30.820Z"
   },
   {
    "duration": 29,
    "start_time": "2021-12-17T11:17:30.830Z"
   },
   {
    "duration": 2117,
    "start_time": "2021-12-17T11:17:30.861Z"
   },
   {
    "duration": 26,
    "start_time": "2021-12-17T11:17:32.981Z"
   },
   {
    "duration": 6,
    "start_time": "2021-12-17T11:17:33.009Z"
   },
   {
    "duration": 41,
    "start_time": "2021-12-17T11:17:33.018Z"
   },
   {
    "duration": 9,
    "start_time": "2021-12-17T11:17:33.065Z"
   },
   {
    "duration": 29,
    "start_time": "2021-12-17T11:17:33.077Z"
   },
   {
    "duration": 101,
    "start_time": "2021-12-17T11:17:33.109Z"
   },
   {
    "duration": 48,
    "start_time": "2021-12-17T11:17:33.213Z"
   },
   {
    "duration": 30,
    "start_time": "2021-12-17T11:17:33.264Z"
   },
   {
    "duration": 12,
    "start_time": "2021-12-17T11:21:54.815Z"
   },
   {
    "duration": 21,
    "start_time": "2021-12-17T11:22:15.296Z"
   },
   {
    "duration": 921,
    "start_time": "2021-12-17T11:22:31.097Z"
   },
   {
    "duration": 7,
    "start_time": "2021-12-17T11:22:32.021Z"
   },
   {
    "duration": 53,
    "start_time": "2021-12-17T11:22:32.031Z"
   },
   {
    "duration": 19,
    "start_time": "2021-12-17T11:22:32.086Z"
   },
   {
    "duration": 109,
    "start_time": "2021-12-17T11:22:32.108Z"
   },
   {
    "duration": 2204,
    "start_time": "2021-12-17T11:22:32.220Z"
   },
   {
    "duration": 11,
    "start_time": "2021-12-17T11:22:34.426Z"
   },
   {
    "duration": 8,
    "start_time": "2021-12-17T11:22:34.460Z"
   },
   {
    "duration": 31,
    "start_time": "2021-12-17T11:22:34.472Z"
   },
   {
    "duration": 120,
    "start_time": "2021-12-17T11:22:34.506Z"
   },
   {
    "duration": 8,
    "start_time": "2021-12-17T11:22:34.628Z"
   },
   {
    "duration": 54,
    "start_time": "2021-12-17T11:22:34.638Z"
   },
   {
    "duration": 32,
    "start_time": "2021-12-17T11:22:34.695Z"
   },
   {
    "duration": 37,
    "start_time": "2021-12-17T11:22:34.730Z"
   },
   {
    "duration": 980,
    "start_time": "2021-12-17T11:22:34.770Z"
   },
   {
    "duration": 4376,
    "start_time": "2021-12-17T11:22:35.760Z"
   },
   {
    "duration": 22,
    "start_time": "2021-12-17T11:22:40.139Z"
   },
   {
    "duration": 8,
    "start_time": "2021-12-17T11:22:40.163Z"
   },
   {
    "duration": 2128,
    "start_time": "2021-12-17T11:22:40.174Z"
   },
   {
    "duration": 26,
    "start_time": "2021-12-17T11:22:42.305Z"
   },
   {
    "duration": 26,
    "start_time": "2021-12-17T11:22:42.333Z"
   },
   {
    "duration": 7,
    "start_time": "2021-12-17T11:22:42.361Z"
   },
   {
    "duration": 10,
    "start_time": "2021-12-17T11:22:42.372Z"
   },
   {
    "duration": 20,
    "start_time": "2021-12-17T11:22:42.384Z"
   },
   {
    "duration": 62,
    "start_time": "2021-12-17T11:22:42.406Z"
   },
   {
    "duration": 43,
    "start_time": "2021-12-17T11:22:42.470Z"
   },
   {
    "duration": 55,
    "start_time": "2021-12-17T11:22:42.516Z"
   },
   {
    "duration": 21,
    "start_time": "2021-12-17T11:22:42.573Z"
   },
   {
    "duration": 10,
    "start_time": "2021-12-17T11:23:08.695Z"
   },
   {
    "duration": 20,
    "start_time": "2021-12-17T11:23:41.558Z"
   },
   {
    "duration": 13,
    "start_time": "2021-12-17T11:31:40.426Z"
   },
   {
    "duration": 22,
    "start_time": "2021-12-17T11:34:30.610Z"
   },
   {
    "duration": 10,
    "start_time": "2021-12-17T11:34:33.159Z"
   },
   {
    "duration": 24,
    "start_time": "2021-12-17T11:34:35.045Z"
   }
  ],
  "kernelspec": {
   "display_name": "Python 3 (ipykernel)",
   "language": "python",
   "name": "python3"
  },
  "language_info": {
   "codemirror_mode": {
    "name": "ipython",
    "version": 3
   },
   "file_extension": ".py",
   "mimetype": "text/x-python",
   "name": "python",
   "nbconvert_exporter": "python",
   "pygments_lexer": "ipython3",
   "version": "3.9.7"
  },
  "toc": {
   "base_numbering": 1,
   "nav_menu": {},
   "number_sections": true,
   "sideBar": true,
   "skip_h1_title": true,
   "title_cell": "Table of Contents",
   "title_sidebar": "Contents",
   "toc_cell": false,
   "toc_position": {},
   "toc_section_display": true,
   "toc_window_display": false
  }
 },
 "nbformat": 4,
 "nbformat_minor": 2
}
