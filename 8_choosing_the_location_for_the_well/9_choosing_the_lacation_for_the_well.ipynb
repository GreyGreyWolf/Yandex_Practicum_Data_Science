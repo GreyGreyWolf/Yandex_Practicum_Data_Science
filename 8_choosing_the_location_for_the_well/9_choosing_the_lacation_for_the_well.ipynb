{
 "cells": [
  {
   "cell_type": "markdown",
   "metadata": {},
   "source": [
    "# Выбор локации для скважины"
   ]
  },
  {
   "cell_type": "markdown",
   "metadata": {},
   "source": [
    "Допустим, вы работаете в добывающей компании «ГлавРосГосНефть». Нужно решить, где бурить новую скважину.\n",
    "\n",
    "Вам предоставлены пробы нефти в трёх регионах: в каждом 10 000 месторождений, где измерили качество нефти и объём её запасов. Постройте модель машинного обучения, которая поможет определить регион, где добыча принесёт наибольшую прибыль. Проанализируйте возможную прибыль и риски техникой *Bootstrap.*\n",
    "\n",
    "Шаги для выбора локации:\n",
    "\n",
    "- В избранном регионе ищут месторождения, для каждого определяют значения признаков;\n",
    "- Строят модель и оценивают объём запасов;\n",
    "- Выбирают месторождения с самым высокими оценками значений. Количество месторождений зависит от бюджета компании и стоимости разработки одной скважины;\n",
    "- Прибыль равна суммарной прибыли отобранных месторождений."
   ]
  },
  {
   "cell_type": "markdown",
   "metadata": {},
   "source": [
    "# Описание данных"
   ]
  },
  {
   "cell_type": "markdown",
   "metadata": {},
   "source": [
    "Данные геологоразведки трёх регионов находятся в файлах:\n",
    "* \t\t/datasets/geo_data_0.csv. Скачать датасет\n",
    "* \t\t/datasets/geo_data_1.csv. Скачать датасет\n",
    "* \t\t/datasets/geo_data_2.csv. Скачать датасет\n",
    "* \t\tid — уникальный идентификатор скважины;\n",
    "* \t\tf0, f1, f2 — три признака точек (неважно, что они означают, но сами признаки значимы);\n",
    "* \t\tproduct — объём запасов в скважине (тыс. баррелей)."
   ]
  },
  {
   "cell_type": "markdown",
   "metadata": {},
   "source": [
    "## Загрузка и подготовка данных"
   ]
  },
  {
   "cell_type": "markdown",
   "metadata": {},
   "source": [
    "**Загрузим библиотеки**"
   ]
  },
  {
   "cell_type": "code",
   "execution_count": 1,
   "metadata": {},
   "outputs": [],
   "source": [
    "import pandas as pd\n",
    "import matplotlib.pyplot as plt\n",
    "import seaborn as sns\n",
    "import numpy as np\n",
    "from numpy.random import RandomState\n",
    "from sklearn.linear_model import LinearRegression\n",
    "from sklearn.metrics import mean_squared_error, mean_absolute_error\n",
    "from sklearn.model_selection import train_test_split"
   ]
  },
  {
   "cell_type": "markdown",
   "metadata": {},
   "source": [
    "**Загрузим датасеты для регионов и посмотрим на их содержимое**"
   ]
  },
  {
   "cell_type": "code",
   "execution_count": 2,
   "metadata": {},
   "outputs": [],
   "source": [
    "data_region0 = pd.read_csv('/datasets/geo_data_0.csv')\n",
    "data_region1 = pd.read_csv('/datasets/geo_data_1.csv')\n",
    "data_region2 = pd.read_csv('/datasets/geo_data_2.csv')"
   ]
  },
  {
   "cell_type": "code",
   "execution_count": 3,
   "metadata": {},
   "outputs": [
    {
     "data": {
      "text/html": [
       "<div>\n",
       "<style scoped>\n",
       "    .dataframe tbody tr th:only-of-type {\n",
       "        vertical-align: middle;\n",
       "    }\n",
       "\n",
       "    .dataframe tbody tr th {\n",
       "        vertical-align: top;\n",
       "    }\n",
       "\n",
       "    .dataframe thead th {\n",
       "        text-align: right;\n",
       "    }\n",
       "</style>\n",
       "<table border=\"1\" class=\"dataframe\">\n",
       "  <thead>\n",
       "    <tr style=\"text-align: right;\">\n",
       "      <th></th>\n",
       "      <th>id</th>\n",
       "      <th>f0</th>\n",
       "      <th>f1</th>\n",
       "      <th>f2</th>\n",
       "      <th>product</th>\n",
       "    </tr>\n",
       "  </thead>\n",
       "  <tbody>\n",
       "    <tr>\n",
       "      <th>0</th>\n",
       "      <td>txEyH</td>\n",
       "      <td>0.705745</td>\n",
       "      <td>-0.497823</td>\n",
       "      <td>1.221170</td>\n",
       "      <td>105.280062</td>\n",
       "    </tr>\n",
       "    <tr>\n",
       "      <th>1</th>\n",
       "      <td>2acmU</td>\n",
       "      <td>1.334711</td>\n",
       "      <td>-0.340164</td>\n",
       "      <td>4.365080</td>\n",
       "      <td>73.037750</td>\n",
       "    </tr>\n",
       "    <tr>\n",
       "      <th>2</th>\n",
       "      <td>409Wp</td>\n",
       "      <td>1.022732</td>\n",
       "      <td>0.151990</td>\n",
       "      <td>1.419926</td>\n",
       "      <td>85.265647</td>\n",
       "    </tr>\n",
       "    <tr>\n",
       "      <th>3</th>\n",
       "      <td>iJLyR</td>\n",
       "      <td>-0.032172</td>\n",
       "      <td>0.139033</td>\n",
       "      <td>2.978566</td>\n",
       "      <td>168.620776</td>\n",
       "    </tr>\n",
       "    <tr>\n",
       "      <th>4</th>\n",
       "      <td>Xdl7t</td>\n",
       "      <td>1.988431</td>\n",
       "      <td>0.155413</td>\n",
       "      <td>4.751769</td>\n",
       "      <td>154.036647</td>\n",
       "    </tr>\n",
       "  </tbody>\n",
       "</table>\n",
       "</div>"
      ],
      "text/plain": [
       "      id        f0        f1        f2     product\n",
       "0  txEyH  0.705745 -0.497823  1.221170  105.280062\n",
       "1  2acmU  1.334711 -0.340164  4.365080   73.037750\n",
       "2  409Wp  1.022732  0.151990  1.419926   85.265647\n",
       "3  iJLyR -0.032172  0.139033  2.978566  168.620776\n",
       "4  Xdl7t  1.988431  0.155413  4.751769  154.036647"
      ]
     },
     "execution_count": 3,
     "metadata": {},
     "output_type": "execute_result"
    }
   ],
   "source": [
    "data_region0.head()"
   ]
  },
  {
   "cell_type": "code",
   "execution_count": 4,
   "metadata": {},
   "outputs": [
    {
     "name": "stdout",
     "output_type": "stream",
     "text": [
      "<class 'pandas.core.frame.DataFrame'>\n",
      "RangeIndex: 100000 entries, 0 to 99999\n",
      "Data columns (total 5 columns):\n",
      " #   Column   Non-Null Count   Dtype  \n",
      "---  ------   --------------   -----  \n",
      " 0   id       100000 non-null  object \n",
      " 1   f0       100000 non-null  float64\n",
      " 2   f1       100000 non-null  float64\n",
      " 3   f2       100000 non-null  float64\n",
      " 4   product  100000 non-null  float64\n",
      "dtypes: float64(4), object(1)\n",
      "memory usage: 3.8+ MB\n"
     ]
    }
   ],
   "source": [
    "data_region0.info()"
   ]
  },
  {
   "cell_type": "code",
   "execution_count": 5,
   "metadata": {
    "scrolled": true
   },
   "outputs": [
    {
     "data": {
      "text/html": [
       "<div>\n",
       "<style scoped>\n",
       "    .dataframe tbody tr th:only-of-type {\n",
       "        vertical-align: middle;\n",
       "    }\n",
       "\n",
       "    .dataframe tbody tr th {\n",
       "        vertical-align: top;\n",
       "    }\n",
       "\n",
       "    .dataframe thead th {\n",
       "        text-align: right;\n",
       "    }\n",
       "</style>\n",
       "<table border=\"1\" class=\"dataframe\">\n",
       "  <thead>\n",
       "    <tr style=\"text-align: right;\">\n",
       "      <th></th>\n",
       "      <th>id</th>\n",
       "      <th>f0</th>\n",
       "      <th>f1</th>\n",
       "      <th>f2</th>\n",
       "      <th>product</th>\n",
       "    </tr>\n",
       "  </thead>\n",
       "  <tbody>\n",
       "    <tr>\n",
       "      <th>0</th>\n",
       "      <td>kBEdx</td>\n",
       "      <td>-15.001348</td>\n",
       "      <td>-8.276000</td>\n",
       "      <td>-0.005876</td>\n",
       "      <td>3.179103</td>\n",
       "    </tr>\n",
       "    <tr>\n",
       "      <th>1</th>\n",
       "      <td>62mP7</td>\n",
       "      <td>14.272088</td>\n",
       "      <td>-3.475083</td>\n",
       "      <td>0.999183</td>\n",
       "      <td>26.953261</td>\n",
       "    </tr>\n",
       "    <tr>\n",
       "      <th>2</th>\n",
       "      <td>vyE1P</td>\n",
       "      <td>6.263187</td>\n",
       "      <td>-5.948386</td>\n",
       "      <td>5.001160</td>\n",
       "      <td>134.766305</td>\n",
       "    </tr>\n",
       "    <tr>\n",
       "      <th>3</th>\n",
       "      <td>KcrkZ</td>\n",
       "      <td>-13.081196</td>\n",
       "      <td>-11.506057</td>\n",
       "      <td>4.999415</td>\n",
       "      <td>137.945408</td>\n",
       "    </tr>\n",
       "    <tr>\n",
       "      <th>4</th>\n",
       "      <td>AHL4O</td>\n",
       "      <td>12.702195</td>\n",
       "      <td>-8.147433</td>\n",
       "      <td>5.004363</td>\n",
       "      <td>134.766305</td>\n",
       "    </tr>\n",
       "  </tbody>\n",
       "</table>\n",
       "</div>"
      ],
      "text/plain": [
       "      id         f0         f1        f2     product\n",
       "0  kBEdx -15.001348  -8.276000 -0.005876    3.179103\n",
       "1  62mP7  14.272088  -3.475083  0.999183   26.953261\n",
       "2  vyE1P   6.263187  -5.948386  5.001160  134.766305\n",
       "3  KcrkZ -13.081196 -11.506057  4.999415  137.945408\n",
       "4  AHL4O  12.702195  -8.147433  5.004363  134.766305"
      ]
     },
     "execution_count": 5,
     "metadata": {},
     "output_type": "execute_result"
    }
   ],
   "source": [
    "data_region1.head()"
   ]
  },
  {
   "cell_type": "code",
   "execution_count": 6,
   "metadata": {},
   "outputs": [
    {
     "name": "stdout",
     "output_type": "stream",
     "text": [
      "<class 'pandas.core.frame.DataFrame'>\n",
      "RangeIndex: 100000 entries, 0 to 99999\n",
      "Data columns (total 5 columns):\n",
      " #   Column   Non-Null Count   Dtype  \n",
      "---  ------   --------------   -----  \n",
      " 0   id       100000 non-null  object \n",
      " 1   f0       100000 non-null  float64\n",
      " 2   f1       100000 non-null  float64\n",
      " 3   f2       100000 non-null  float64\n",
      " 4   product  100000 non-null  float64\n",
      "dtypes: float64(4), object(1)\n",
      "memory usage: 3.8+ MB\n"
     ]
    }
   ],
   "source": [
    "data_region1.info()"
   ]
  },
  {
   "cell_type": "code",
   "execution_count": 7,
   "metadata": {
    "scrolled": true
   },
   "outputs": [
    {
     "data": {
      "text/html": [
       "<div>\n",
       "<style scoped>\n",
       "    .dataframe tbody tr th:only-of-type {\n",
       "        vertical-align: middle;\n",
       "    }\n",
       "\n",
       "    .dataframe tbody tr th {\n",
       "        vertical-align: top;\n",
       "    }\n",
       "\n",
       "    .dataframe thead th {\n",
       "        text-align: right;\n",
       "    }\n",
       "</style>\n",
       "<table border=\"1\" class=\"dataframe\">\n",
       "  <thead>\n",
       "    <tr style=\"text-align: right;\">\n",
       "      <th></th>\n",
       "      <th>id</th>\n",
       "      <th>f0</th>\n",
       "      <th>f1</th>\n",
       "      <th>f2</th>\n",
       "      <th>product</th>\n",
       "    </tr>\n",
       "  </thead>\n",
       "  <tbody>\n",
       "    <tr>\n",
       "      <th>0</th>\n",
       "      <td>fwXo0</td>\n",
       "      <td>-1.146987</td>\n",
       "      <td>0.963328</td>\n",
       "      <td>-0.828965</td>\n",
       "      <td>27.758673</td>\n",
       "    </tr>\n",
       "    <tr>\n",
       "      <th>1</th>\n",
       "      <td>WJtFt</td>\n",
       "      <td>0.262778</td>\n",
       "      <td>0.269839</td>\n",
       "      <td>-2.530187</td>\n",
       "      <td>56.069697</td>\n",
       "    </tr>\n",
       "    <tr>\n",
       "      <th>2</th>\n",
       "      <td>ovLUW</td>\n",
       "      <td>0.194587</td>\n",
       "      <td>0.289035</td>\n",
       "      <td>-5.586433</td>\n",
       "      <td>62.871910</td>\n",
       "    </tr>\n",
       "    <tr>\n",
       "      <th>3</th>\n",
       "      <td>q6cA6</td>\n",
       "      <td>2.236060</td>\n",
       "      <td>-0.553760</td>\n",
       "      <td>0.930038</td>\n",
       "      <td>114.572842</td>\n",
       "    </tr>\n",
       "    <tr>\n",
       "      <th>4</th>\n",
       "      <td>WPMUX</td>\n",
       "      <td>-0.515993</td>\n",
       "      <td>1.716266</td>\n",
       "      <td>5.899011</td>\n",
       "      <td>149.600746</td>\n",
       "    </tr>\n",
       "  </tbody>\n",
       "</table>\n",
       "</div>"
      ],
      "text/plain": [
       "      id        f0        f1        f2     product\n",
       "0  fwXo0 -1.146987  0.963328 -0.828965   27.758673\n",
       "1  WJtFt  0.262778  0.269839 -2.530187   56.069697\n",
       "2  ovLUW  0.194587  0.289035 -5.586433   62.871910\n",
       "3  q6cA6  2.236060 -0.553760  0.930038  114.572842\n",
       "4  WPMUX -0.515993  1.716266  5.899011  149.600746"
      ]
     },
     "execution_count": 7,
     "metadata": {},
     "output_type": "execute_result"
    }
   ],
   "source": [
    "data_region2.head()"
   ]
  },
  {
   "cell_type": "code",
   "execution_count": 8,
   "metadata": {},
   "outputs": [
    {
     "name": "stdout",
     "output_type": "stream",
     "text": [
      "<class 'pandas.core.frame.DataFrame'>\n",
      "RangeIndex: 100000 entries, 0 to 99999\n",
      "Data columns (total 5 columns):\n",
      " #   Column   Non-Null Count   Dtype  \n",
      "---  ------   --------------   -----  \n",
      " 0   id       100000 non-null  object \n",
      " 1   f0       100000 non-null  float64\n",
      " 2   f1       100000 non-null  float64\n",
      " 3   f2       100000 non-null  float64\n",
      " 4   product  100000 non-null  float64\n",
      "dtypes: float64(4), object(1)\n",
      "memory usage: 3.8+ MB\n"
     ]
    }
   ],
   "source": [
    "data_region2.info()"
   ]
  },
  {
   "cell_type": "markdown",
   "metadata": {},
   "source": [
    "**Данные впорядке:**\n",
    "\n",
    " - **Отсутствуют пропуски**\n",
    " - **Все названия колонок в одинаковом регистре**\n",
    " - **Тип данных соответствует содержимому**"
   ]
  },
  {
   "cell_type": "code",
   "execution_count": 9,
   "metadata": {},
   "outputs": [
    {
     "name": "stdout",
     "output_type": "stream",
     "text": [
      "Количество явных дубликатов в датасете для региона 0 -  0\n",
      "Количество явных дубликатов в датасете для региона 1 -  0\n",
      "Количество явных дубликатов в датасете для региона 2 -  0\n"
     ]
    }
   ],
   "source": [
    "print('Количество явных дубликатов в датасете для региона 0 - ', data_region0.duplicated().sum())\n",
    "print('Количество явных дубликатов в датасете для региона 1 - ', data_region1.duplicated().sum())\n",
    "print('Количество явных дубликатов в датасете для региона 2 - ', data_region2.duplicated().sum())"
   ]
  },
  {
   "cell_type": "markdown",
   "metadata": {},
   "source": [
    "**Проверим, есть в датасетах неявные дубликаты**"
   ]
  },
  {
   "cell_type": "code",
   "execution_count": 10,
   "metadata": {},
   "outputs": [
    {
     "name": "stdout",
     "output_type": "stream",
     "text": [
      "Всего id в data_region0 - 100000 из них уникальных id -  99990\n",
      "Всего id в data_region1 - 100000 из них уникальных id -  99996\n",
      "Всего id в data_region2 - 100000 из них уникальных id -  99996\n"
     ]
    }
   ],
   "source": [
    "print('Всего id в data_region0 -', len(data_region0['id']),'из них уникальных id - ', data_region0['id'].nunique())\n",
    "print('Всего id в data_region1 -', len(data_region1['id']),'из них уникальных id - ', data_region1['id'].nunique())\n",
    "print('Всего id в data_region2 -', len(data_region2['id']),'из них уникальных id - ', data_region2['id'].nunique())"
   ]
  },
  {
   "cell_type": "markdown",
   "metadata": {},
   "source": [
    "**Похоже, что не которые id вышек повторяются. Возможно, для некоторых вышек проводился повторный анализ. Количество дубликатов по отношению к общему количеству id невелико, а установить между двумя одинаковыми id единственное верное не представляется возможным, так как значение признаков не разглашается. Поэтому, удалим id и их дубликаты.**"
   ]
  },
  {
   "cell_type": "code",
   "execution_count": 11,
   "metadata": {},
   "outputs": [],
   "source": [
    "duplicated_id_region0 = data_region0[data_region0['id'].duplicated()]['id']\n",
    "duplicated_id_region1 = data_region1[data_region1['id'].duplicated()]['id']\n",
    "duplicated_id_region2 = data_region2[data_region0['id'].duplicated()]['id']\n",
    "data_region0 = data_region0.query('id not in @duplicated_id_region0')\n",
    "data_region1 = data_region1.query('id not in @duplicated_id_region1')\n",
    "data_region2 = data_region2.query('id not in @duplicated_id_region2')"
   ]
  },
  {
   "cell_type": "code",
   "execution_count": 12,
   "metadata": {
    "scrolled": false
   },
   "outputs": [
    {
     "name": "stdout",
     "output_type": "stream",
     "text": [
      "Размер data_region0 после удаления дубликатов -  (99980, 5)\n",
      "Размер data_region1 после удаления дубликатов -  (99992, 5)\n",
      "Размер data_region2 после удаления дубликатов -  (99990, 5)\n"
     ]
    }
   ],
   "source": [
    "print('Размер data_region0 после удаления дубликатов - ', data_region0.shape)\n",
    "print('Размер data_region1 после удаления дубликатов - ', data_region1.shape)\n",
    "print('Размер data_region2 после удаления дубликатов - ', data_region2.shape)"
   ]
  },
  {
   "cell_type": "markdown",
   "metadata": {},
   "source": [
    "**Признак id является не информативным для дальнейшего обучения модели, поэтому удалим содержащую его колонку.**"
   ]
  },
  {
   "cell_type": "code",
   "execution_count": 13,
   "metadata": {},
   "outputs": [],
   "source": [
    "data_region0 = data_region0.drop('id', axis=1)\n",
    "data_region1 = data_region1.drop('id', axis=1)\n",
    "data_region2 = data_region2.drop('id', axis=1)"
   ]
  },
  {
   "cell_type": "code",
   "execution_count": 14,
   "metadata": {},
   "outputs": [
    {
     "name": "stdout",
     "output_type": "stream",
     "text": [
      "Размер data_region0 после удаления колонки с id -  (99980, 4)\n",
      "Размер data_region1 после удаления колонки с id -  (99992, 4)\n",
      "Размер data_region2 после удаления колонки с id -  (99990, 4)\n"
     ]
    }
   ],
   "source": [
    "print('Размер data_region0 после удаления колонки с id - ', data_region0.shape)\n",
    "print('Размер data_region1 после удаления колонки с id - ', data_region1.shape)\n",
    "print('Размер data_region2 после удаления колонки с id - ', data_region2.shape)"
   ]
  },
  {
   "cell_type": "markdown",
   "metadata": {},
   "source": [
    "**Посмотрим на распределение цифровых значений для всех датасетов.**"
   ]
  },
  {
   "cell_type": "code",
   "execution_count": 15,
   "metadata": {
    "scrolled": false
   },
   "outputs": [
    {
     "data": {
      "image/png": "[encoded data removed]",
      "text/plain": [
       "<Figure size 1080x1440 with 12 Axes>"
      ]
     },
     "metadata": {
      "needs_background": "light"
     },
     "output_type": "display_data"
    }
   ],
   "source": [
    "position = 0\n",
    "num_region = None\n",
    "plt.figure(figsize=[15, 20])\n",
    "plt.subplots_adjust(top=0.94, wspace=0.2, hspace=0.5)\n",
    "plt.suptitle('ЯЩИК С УСАМИ ДЛЯ ЦИФРОВЫХ ПРИЗНАКОВ.', fontsize=15)\n",
    "for df in [data_region0, data_region1, data_region2]:\n",
    "    for column_name in df.columns:\n",
    "        position += 1\n",
    "        plt.subplot(3, 4, position)\n",
    "        sns.set_style('darkgrid')\n",
    "        if 1 <= position <= 4:\n",
    "            num_region = 0\n",
    "        elif 4 <= position <= 8:\n",
    "            num_region = 1\n",
    "        elif 8 <= position <= 12:\n",
    "            num_region = 2\n",
    "        plt.title(f'BOXPLOT ДЛЯ {column_name.upper()} РЕГИОНА {str(num_region).upper()}', fontsize=10)\n",
    "        sns.set_style('darkgrid')\n",
    "        sns.boxplot(data=df[column_name], orient='h')\n",
    "        plt.axvline(np.mean(df[column_name]),\n",
    "                    color='r',\n",
    "                    linestyle='-',\n",
    "                    label='СРЕДНЕЕ')\n",
    "        plt.legend(title=f'СРЕДНЕЕ = {np.mean(df[column_name]):.2f}, МЕДИАНА = {np.median(df[column_name]):.2f}', \n",
    "                   loc='center', \n",
    "                   edgecolor = 'r',\n",
    "                   facecolor = 'oldlace',\n",
    "                   bbox_to_anchor=(0.5, -0.15))\n",
    "plt.show();"
   ]
  },
  {
   "cell_type": "markdown",
   "metadata": {},
   "source": [
    "**Исходя из графиков можно сделать следующие выводы:**\n",
    "\n",
    " 1. **Признак F2 Региона0, F0 Региона1, F2, F0  Региона 2 имеют небольшую скошенность влево( отрицательная скошенность), так как медиана незначительно больше среднего.**\n",
    " \n",
    " \n",
    " 2. **Значительную разницу между средним и медианной имеют признаки F2, PRODUCT для Региона1, там медиана меньше среднего, а значит распределение имеет пооложительную скошенность. Так же легкую положительную скошенность имеют признаки product Региона 0, F1 Региона 1, F2, F1 Регинона 2.**\n",
    " \n",
    " \n",
    " 3. **Для остальных значений медиана равна среднему, т.е. данные характеризуются нормальным распределением.**\n",
    " \n",
    " \n",
    " 4. **В значениях признака F2 Региона 0, F1 Региона 1, F0, F1, F2 Региона 2 присутствуют выбросы.**\n"
   ]
  },
  {
   "cell_type": "markdown",
   "metadata": {},
   "source": [
    "**Выбросы в значениях признаков могут негативно повлиять на качество модели. Оценим их количество.**\n",
    "\n",
    "**Усы ящика простираются от первого и третьего квартиля на расстояние 1.5 межквартильного размаха( третий квартиль минус первый квартиль). В размах усов попадают нормальные значения, а за границами находятся выбросы.**"
   ]
  },
  {
   "cell_type": "code",
   "execution_count": 16,
   "metadata": {},
   "outputs": [],
   "source": [
    "def get_borders(sign):\n",
    "    q1 = sign.quantile(q=0.25)\n",
    "    q3 = sign.quantile(q=0.75)\n",
    "    iqr = q3 - q1\n",
    "    min_boundary = q1 - (1.5*iqr)\n",
    "    max_boundary = q3 + (1.5*iqr)\n",
    "    return min_boundary, max_boundary"
   ]
  },
  {
   "cell_type": "code",
   "execution_count": 17,
   "metadata": {},
   "outputs": [],
   "source": [
    "min_boundary_reg0_f2, max_boundary_reg0_f2 = get_borders(data_region0['f2'])\n",
    "min_boundary_reg1_f1, max_boundary_reg1_f1 = get_borders(data_region1['f1'])\n",
    "min_boundary_reg2_f0, max_boundary_reg2_f0 = get_borders(data_region2['f0'])\n",
    "min_boundary_reg2_f1, max_boundary_reg2_f1 = get_borders(data_region2['f1'])\n",
    "min_boundary_reg2_f2, max_boundary_reg2_f2 = get_borders(data_region2['f2'])"
   ]
  },
  {
   "cell_type": "code",
   "execution_count": 18,
   "metadata": {},
   "outputs": [],
   "source": [
    "quantity_to_delete_in_reg0 = len(data_region0['f2']) - len(data_region0[(min_boundary_reg0_f2 <= data_region0['f2']) & (data_region0['f2'] <= max_boundary_reg0_f2)])\n",
    "quantity_to_delete_in_reg1 = len(data_region1['f1']) - len(data_region1[(min_boundary_reg1_f1 <= data_region1['f1'])& (data_region1['f1'] <= max_boundary_reg1_f1)])\n",
    "quantity_to_delete_in_reg2_f0 = len(data_region2['f0']) - len(data_region2[(min_boundary_reg2_f0 <= data_region2['f0'])& (data_region2['f0'] <= max_boundary_reg2_f0)])\n",
    "quantity_to_delete_in_reg2_f1 = len(data_region2['f1']) - len(data_region2[(min_boundary_reg2_f1 <= data_region2['f1'])& (data_region2['f1'] <= max_boundary_reg2_f1)])\n",
    "quantity_to_delete_in_reg2_f2 = len(data_region2['f2']) - len(data_region2[(min_boundary_reg2_f2 <= data_region2['f2'])& (data_region2['f2'] <= max_boundary_reg2_f2)])\n",
    "quantity_to_delete_in_reg2 = quantity_to_delete_in_reg2_f0 + quantity_to_delete_in_reg2_f1 + quantity_to_delete_in_reg2_f2"
   ]
  },
  {
   "cell_type": "code",
   "execution_count": 19,
   "metadata": {},
   "outputs": [
    {
     "name": "stdout",
     "output_type": "stream",
     "text": [
      "\n",
      "Количество строк на удаление в data_region0 - 507 или 0.51 %\n",
      "\n",
      "Количество строк на удаление в data_region1 - 636 или 0.64 %\n",
      "\n",
      "Количество строк на удаление в data_region2 - 1999 или 2.00 %\n"
     ]
    }
   ],
   "source": [
    "print(f'\\nКоличество строк на удаление в data_region0 - {quantity_to_delete_in_reg0} или %.2f' % ((quantity_to_delete_in_reg0/len(data_region0['f2']))*100), '%')\n",
    "print(f'\\nКоличество строк на удаление в data_region1 - {quantity_to_delete_in_reg1} или %.2f' % ((quantity_to_delete_in_reg1/len(data_region1['f1']))*100), '%')\n",
    "print(f'\\nКоличество строк на удаление в data_region2 - {quantity_to_delete_in_reg2} или %.2f' % ((quantity_to_delete_in_reg2/data_region1.shape[0])*100), '%')"
   ]
  },
  {
   "cell_type": "markdown",
   "metadata": {},
   "source": [
    "**Общее количество строк содежащих аномальные значения не велико по отношению к датасету, поэтому удалим их.**"
   ]
  },
  {
   "cell_type": "code",
   "execution_count": 20,
   "metadata": {},
   "outputs": [],
   "source": [
    "data_region0 = data_region0[(min_boundary_reg0_f2 <= data_region0['f2'])& (data_region0['f2'] <= max_boundary_reg0_f2)]\n",
    "data_region1 = data_region1[(min_boundary_reg1_f1 <= data_region1['f1'])& (data_region1['f1'] <= max_boundary_reg1_f1)]\n",
    "data_region2 = data_region2[(min_boundary_reg2_f0 <= data_region2['f0'])& (data_region2['f0'] <= max_boundary_reg2_f0)]\n",
    "data_region2 = data_region2[(min_boundary_reg2_f1 <= data_region2['f1'])& (data_region2['f1'] <= max_boundary_reg2_f1)]\n",
    "data_region2 = data_region2[(min_boundary_reg2_f2 <= data_region2['f2'])& (data_region2['f2'] <= max_boundary_reg2_f2)]"
   ]
  },
  {
   "cell_type": "code",
   "execution_count": 21,
   "metadata": {
    "scrolled": true
   },
   "outputs": [
    {
     "name": "stdout",
     "output_type": "stream",
     "text": [
      "\n",
      "Количество строк в data_region0 - 99473\n",
      "\n",
      "Количество строк в data_region1 - 99356\n",
      "\n",
      "Количество строк в data_region2 - 97996\n"
     ]
    }
   ],
   "source": [
    "print('\\nКоличество строк в data_region0 -', data_region0.shape[0])\n",
    "print('\\nКоличество строк в data_region1 -', data_region1.shape[0])\n",
    "print('\\nКоличество строк в data_region2 -', data_region2.shape[0])"
   ]
  },
  {
   "cell_type": "markdown",
   "metadata": {},
   "source": [
    "### Вывод"
   ]
  },
  {
   "cell_type": "markdown",
   "metadata": {},
   "source": [
    " 1. **В данных отсутствуют пропуски, формат данных соответствует типу, регистр названий корректен.**\n",
    " \n",
    " \n",
    " 2. **В данных были обнаружены неянвные дубликаты. Их количество не значительно мало по отношению к общему объему каждого датасета. Было принято решение их удалить.**\n",
    " \n",
    " \n",
    " 3. **Колонка id была признана не информативной и удалена.**\n",
    " \n",
    " \n",
    " 4. **В некоторых признаках были обнаружены выбросы. Для улучшения дальнейшего качества обучения модели было решено удалить аномальные значения.**\n",
    " \n",
    " "
   ]
  },
  {
   "cell_type": "markdown",
   "metadata": {},
   "source": [
    "## Обучение и проверка модели"
   ]
  },
  {
   "cell_type": "markdown",
   "metadata": {},
   "source": [
    "**Напишем функцию, которая будет разбивать выборку да тренировочную и валидационную для каждого датасета в соотношение 75:25.**"
   ]
  },
  {
   "cell_type": "code",
   "execution_count": 22,
   "metadata": {},
   "outputs": [],
   "source": [
    "def get_selections(df):\n",
    "    dict_with_selections = {}\n",
    "    features = df.drop('product', axis=1)\n",
    "    features = features.reset_index(drop=True)\n",
    "    target = df['product'].reset_index(drop=True)\n",
    "\n",
    "    features_train, features_valid, target_train, target_valid = train_test_split(features,\n",
    "                                                                                 target,\n",
    "                                                                                 test_size=0.25,\n",
    "                                                                                 random_state=12345)\n",
    "    dict_with_selections['train'] = [features_train, target_train]\n",
    "    dict_with_selections['valid'] = [features_valid, target_valid]\n",
    "    return dict_with_selections"
   ]
  },
  {
   "cell_type": "code",
   "execution_count": 23,
   "metadata": {},
   "outputs": [],
   "source": [
    "selections_for_reg0 = get_selections(data_region0)\n",
    "selections_for_reg1 = get_selections(data_region1)\n",
    "selections_for_reg2 = get_selections(data_region2)"
   ]
  },
  {
   "cell_type": "code",
   "execution_count": 24,
   "metadata": {},
   "outputs": [
    {
     "name": "stdout",
     "output_type": "stream",
     "text": [
      "\n",
      "РАЗМЕР ВЫБОРКИ ДЛЯ РЕГИОНА0:\n",
      "\n",
      " ТРЕНИРОВОЧНАЯ: FEATURES - 74604, TARGET - 74604\n",
      "\n",
      " ВАЛИДАЦИОННАЯ: FEATURES - 24869, TARGET - 24869\n",
      "====================================================================================================\n",
      "\n",
      "РАЗМЕР ВЫБОРКИ ДЛЯ РЕГИОНА1:\n",
      "\n",
      " ТРЕНИРОВОЧНАЯ: FEATURES - 74517, TARGET - 74517\n",
      "\n",
      " ВАЛИДАЦИОННАЯ: FEATURES - 24839, TARGET - 24839\n",
      "====================================================================================================\n",
      "\n",
      "РАЗМЕР ВЫБОРКИ ДЛЯ РЕГИОНА2:\n",
      "\n",
      " ТРЕНИРОВОЧНАЯ: FEATURES - 73497, TARGET - 73497\n",
      "\n",
      " ВАЛИДАЦИОННАЯ: FEATURES - 24499, TARGET - 24499\n",
      "====================================================================================================\n"
     ]
    }
   ],
   "source": [
    "cnt = 0\n",
    "for selection in [selections_for_reg0, selections_for_reg1, selections_for_reg2]:\n",
    "    print(f'\\nРАЗМЕР ВЫБОРКИ ДЛЯ РЕГИОНА{str(cnt).upper()}:')\n",
    "    print(f'\\n ТРЕНИРОВОЧНАЯ: FEATURES - {len(selection[\"train\"][0])}, TARGET - {len(selection[\"train\"][1])}')\n",
    "    print(f'\\n ВАЛИДАЦИОННАЯ: FEATURES - {len(selection[\"valid\"][0])}, TARGET - {len(selection[\"valid\"][1])}')\n",
    "    print('='* 100)\n",
    "    cnt += 1\n",
    "    "
   ]
  },
  {
   "cell_type": "markdown",
   "metadata": {},
   "source": [
    "**Посмотрим на показатели корреляции признаков.**"
   ]
  },
  {
   "cell_type": "code",
   "execution_count": 25,
   "metadata": {},
   "outputs": [
    {
     "name": "stdout",
     "output_type": "stream",
     "text": [
      "КОРРЕЛЯЦИЯ ДЛЯ РЕГИОНА0\n"
     ]
    },
    {
     "data": {
      "text/html": [
       "<div>\n",
       "<style scoped>\n",
       "    .dataframe tbody tr th:only-of-type {\n",
       "        vertical-align: middle;\n",
       "    }\n",
       "\n",
       "    .dataframe tbody tr th {\n",
       "        vertical-align: top;\n",
       "    }\n",
       "\n",
       "    .dataframe thead th {\n",
       "        text-align: right;\n",
       "    }\n",
       "</style>\n",
       "<table border=\"1\" class=\"dataframe\">\n",
       "  <thead>\n",
       "    <tr style=\"text-align: right;\">\n",
       "      <th></th>\n",
       "      <th>f0</th>\n",
       "      <th>f1</th>\n",
       "      <th>f2</th>\n",
       "      <th>product</th>\n",
       "    </tr>\n",
       "  </thead>\n",
       "  <tbody>\n",
       "    <tr>\n",
       "      <th>f0</th>\n",
       "      <td>1.000000</td>\n",
       "      <td>-0.440718</td>\n",
       "      <td>-0.003382</td>\n",
       "      <td>0.143568</td>\n",
       "    </tr>\n",
       "    <tr>\n",
       "      <th>f1</th>\n",
       "      <td>-0.440718</td>\n",
       "      <td>1.000000</td>\n",
       "      <td>0.001161</td>\n",
       "      <td>-0.192732</td>\n",
       "    </tr>\n",
       "    <tr>\n",
       "      <th>f2</th>\n",
       "      <td>-0.003382</td>\n",
       "      <td>0.001161</td>\n",
       "      <td>1.000000</td>\n",
       "      <td>0.480093</td>\n",
       "    </tr>\n",
       "    <tr>\n",
       "      <th>product</th>\n",
       "      <td>0.143568</td>\n",
       "      <td>-0.192732</td>\n",
       "      <td>0.480093</td>\n",
       "      <td>1.000000</td>\n",
       "    </tr>\n",
       "  </tbody>\n",
       "</table>\n",
       "</div>"
      ],
      "text/plain": [
       "               f0        f1        f2   product\n",
       "f0       1.000000 -0.440718 -0.003382  0.143568\n",
       "f1      -0.440718  1.000000  0.001161 -0.192732\n",
       "f2      -0.003382  0.001161  1.000000  0.480093\n",
       "product  0.143568 -0.192732  0.480093  1.000000"
      ]
     },
     "metadata": {},
     "output_type": "display_data"
    },
    {
     "name": "stdout",
     "output_type": "stream",
     "text": [
      "====================================================================================================\n",
      "КОРРЕЛЯЦИЯ ДЛЯ РЕГИОНА1\n"
     ]
    },
    {
     "data": {
      "text/html": [
       "<div>\n",
       "<style scoped>\n",
       "    .dataframe tbody tr th:only-of-type {\n",
       "        vertical-align: middle;\n",
       "    }\n",
       "\n",
       "    .dataframe tbody tr th {\n",
       "        vertical-align: top;\n",
       "    }\n",
       "\n",
       "    .dataframe thead th {\n",
       "        text-align: right;\n",
       "    }\n",
       "</style>\n",
       "<table border=\"1\" class=\"dataframe\">\n",
       "  <thead>\n",
       "    <tr style=\"text-align: right;\">\n",
       "      <th></th>\n",
       "      <th>f0</th>\n",
       "      <th>f1</th>\n",
       "      <th>f2</th>\n",
       "      <th>product</th>\n",
       "    </tr>\n",
       "  </thead>\n",
       "  <tbody>\n",
       "    <tr>\n",
       "      <th>f0</th>\n",
       "      <td>1.000000</td>\n",
       "      <td>0.178852</td>\n",
       "      <td>-0.001714</td>\n",
       "      <td>-0.030433</td>\n",
       "    </tr>\n",
       "    <tr>\n",
       "      <th>f1</th>\n",
       "      <td>0.178852</td>\n",
       "      <td>1.000000</td>\n",
       "      <td>-0.002769</td>\n",
       "      <td>-0.010187</td>\n",
       "    </tr>\n",
       "    <tr>\n",
       "      <th>f2</th>\n",
       "      <td>-0.001714</td>\n",
       "      <td>-0.002769</td>\n",
       "      <td>1.000000</td>\n",
       "      <td>0.999397</td>\n",
       "    </tr>\n",
       "    <tr>\n",
       "      <th>product</th>\n",
       "      <td>-0.030433</td>\n",
       "      <td>-0.010187</td>\n",
       "      <td>0.999397</td>\n",
       "      <td>1.000000</td>\n",
       "    </tr>\n",
       "  </tbody>\n",
       "</table>\n",
       "</div>"
      ],
      "text/plain": [
       "               f0        f1        f2   product\n",
       "f0       1.000000  0.178852 -0.001714 -0.030433\n",
       "f1       0.178852  1.000000 -0.002769 -0.010187\n",
       "f2      -0.001714 -0.002769  1.000000  0.999397\n",
       "product -0.030433 -0.010187  0.999397  1.000000"
      ]
     },
     "metadata": {},
     "output_type": "display_data"
    },
    {
     "name": "stdout",
     "output_type": "stream",
     "text": [
      "====================================================================================================\n",
      "КОРРЕЛЯЦИЯ ДЛЯ РЕГИОНА2\n"
     ]
    },
    {
     "data": {
      "text/html": [
       "<div>\n",
       "<style scoped>\n",
       "    .dataframe tbody tr th:only-of-type {\n",
       "        vertical-align: middle;\n",
       "    }\n",
       "\n",
       "    .dataframe tbody tr th {\n",
       "        vertical-align: top;\n",
       "    }\n",
       "\n",
       "    .dataframe thead th {\n",
       "        text-align: right;\n",
       "    }\n",
       "</style>\n",
       "<table border=\"1\" class=\"dataframe\">\n",
       "  <thead>\n",
       "    <tr style=\"text-align: right;\">\n",
       "      <th></th>\n",
       "      <th>f0</th>\n",
       "      <th>f1</th>\n",
       "      <th>f2</th>\n",
       "      <th>product</th>\n",
       "    </tr>\n",
       "  </thead>\n",
       "  <tbody>\n",
       "    <tr>\n",
       "      <th>f0</th>\n",
       "      <td>1.000000</td>\n",
       "      <td>0.000635</td>\n",
       "      <td>0.000512</td>\n",
       "      <td>-0.002908</td>\n",
       "    </tr>\n",
       "    <tr>\n",
       "      <th>f1</th>\n",
       "      <td>0.000635</td>\n",
       "      <td>1.000000</td>\n",
       "      <td>0.000739</td>\n",
       "      <td>-0.000917</td>\n",
       "    </tr>\n",
       "    <tr>\n",
       "      <th>f2</th>\n",
       "      <td>0.000512</td>\n",
       "      <td>0.000739</td>\n",
       "      <td>1.000000</td>\n",
       "      <td>0.441201</td>\n",
       "    </tr>\n",
       "    <tr>\n",
       "      <th>product</th>\n",
       "      <td>-0.002908</td>\n",
       "      <td>-0.000917</td>\n",
       "      <td>0.441201</td>\n",
       "      <td>1.000000</td>\n",
       "    </tr>\n",
       "  </tbody>\n",
       "</table>\n",
       "</div>"
      ],
      "text/plain": [
       "               f0        f1        f2   product\n",
       "f0       1.000000  0.000635  0.000512 -0.002908\n",
       "f1       0.000635  1.000000  0.000739 -0.000917\n",
       "f2       0.000512  0.000739  1.000000  0.441201\n",
       "product -0.002908 -0.000917  0.441201  1.000000"
      ]
     },
     "metadata": {},
     "output_type": "display_data"
    },
    {
     "name": "stdout",
     "output_type": "stream",
     "text": [
      "====================================================================================================\n"
     ]
    }
   ],
   "source": [
    "cnt = 0\n",
    "for df in [data_region0, data_region1, data_region2]:\n",
    "    print(f'КОРРЕЛЯЦИЯ ДЛЯ РЕГИОНА{str(cnt).upper()}')\n",
    "    display(df.corr())\n",
    "    print('='*100)\n",
    "    cnt += 1"
   ]
  },
  {
   "cell_type": "markdown",
   "metadata": {},
   "source": [
    "**Наиболее высокий показатель положительной корреляции в Регионе 1 для признака F2 и PRODUCT.**"
   ]
  },
  {
   "cell_type": "code",
   "execution_count": 26,
   "metadata": {},
   "outputs": [
    {
     "name": "stdout",
     "output_type": "stream",
     "text": [
      "\n",
      "Количество уникальных значений в признаке PRODUCT РЕГИОНА 1 -  12\n",
      "\n",
      "Количество уникальных значений в признаке F2 РЕГИОНА 1 -  99356\n"
     ]
    }
   ],
   "source": [
    "print('\\nКоличество уникальных значений в признаке PRODUCT РЕГИОНА 1 - ', data_region1['product'].nunique())\n",
    "print('\\nКоличество уникальных значений в признаке F2 РЕГИОНА 1 - ', data_region1['f2'].nunique())"
   ]
  },
  {
   "cell_type": "code",
   "execution_count": 27,
   "metadata": {},
   "outputs": [
    {
     "data": {
      "text/plain": [
       "53.906522     8423\n",
       "26.953261     8414\n",
       "84.038886     8379\n",
       "57.085625     8340\n",
       "3.179103      8288\n",
       "30.132364     8266\n",
       "80.859783     8262\n",
       "110.992147    8251\n",
       "134.766305    8243\n",
       "0.000000      8173\n",
       "137.945408    8169\n",
       "107.813044    8148\n",
       "Name: product, dtype: int64"
      ]
     },
     "execution_count": 27,
     "metadata": {},
     "output_type": "execute_result"
    }
   ],
   "source": [
    "data_region1['product'].value_counts()"
   ]
  },
  {
   "cell_type": "code",
   "execution_count": 28,
   "metadata": {},
   "outputs": [
    {
     "data": {
      "image/png": "[encoded data removed]",
      "text/plain": [
       "<Figure size 1080x504 with 1 Axes>"
      ]
     },
     "metadata": {},
     "output_type": "display_data"
    }
   ],
   "source": [
    "sns.set_style('darkgrid')\n",
    "plt.figure(figsize=[15, 7])\n",
    "plt.title('РАСПРЕДЕЛЕНИЕ ПРИЗНАКА \"PRODUCT\" ДЛЯ РЕГИОНОВ', fontsize=20)\n",
    "sns.histplot(data_region0['product'], label='REGION 0', color='g', kde=False)\n",
    "sns.histplot(data_region1['product'], label='REGION 1', color='r', kde=False)\n",
    "sns.histplot(data_region2['product'], label='REGION 2', color='b', kde=False)\n",
    "plt.axvline(np.mean(data_region0['product']),color='g', linestyle='--', label='СРЕДНЕЕ REGION 0')\n",
    "plt.axvline(np.mean(data_region1['product']),color='r', linestyle='-', label='СРЕДНЕЕ REGION 1')\n",
    "plt.axvline(np.mean(data_region2['product']),color='b', linestyle='--', label='СРЕДНЕЕ REGION 2')\n",
    "plt.legend();"
   ]
  },
  {
   "cell_type": "markdown",
   "metadata": {},
   "source": [
    "**Сильная корреляция в Регионе 1 обусловлена небольшим количеством уникальных значений в целевом признаке. Это обьясняет высокое качество модели. Преимущественно целевой признак имеет показатели выше 50. В данном регионе (Регион 1) преобладают скважины со стабильно высоким запасом нефти.**"
   ]
  },
  {
   "cell_type": "markdown",
   "metadata": {},
   "source": [
    "**Для каждого региона обучим модели и сделаем прогнозы.**"
   ]
  },
  {
   "cell_type": "code",
   "execution_count": 29,
   "metadata": {},
   "outputs": [],
   "source": [
    "model_for_reg0 = LinearRegression().fit(selections_for_reg0['train'][0], selections_for_reg0['train'][1])\n",
    "model_for_reg1 = LinearRegression().fit(selections_for_reg1['train'][0], selections_for_reg1['train'][1])\n",
    "model_for_reg2 = LinearRegression().fit(selections_for_reg2['train'][0], selections_for_reg2['train'][1])"
   ]
  },
  {
   "cell_type": "code",
   "execution_count": 30,
   "metadata": {},
   "outputs": [],
   "source": [
    "dict_with_result = {}"
   ]
  },
  {
   "cell_type": "code",
   "execution_count": 31,
   "metadata": {},
   "outputs": [],
   "source": [
    "predict_for_reg0 = model_for_reg0.predict(selections_for_reg0['valid'][0])\n",
    "predict_for_reg1 = model_for_reg1.predict(selections_for_reg1['valid'][0])\n",
    "predict_for_reg2 = model_for_reg2.predict(selections_for_reg2['valid'][0])"
   ]
  },
  {
   "cell_type": "code",
   "execution_count": 32,
   "metadata": {},
   "outputs": [],
   "source": [
    "rmse_for_reg0 = (mean_squared_error(selections_for_reg0['valid'][1], predict_for_reg0))**0.5\n",
    "rmse_for_reg1 = (mean_squared_error(selections_for_reg1['valid'][1], predict_for_reg1))**0.5\n",
    "rmse_for_reg2 = (mean_squared_error(selections_for_reg2['valid'][1], predict_for_reg2))**0.5"
   ]
  },
  {
   "cell_type": "code",
   "execution_count": 33,
   "metadata": {},
   "outputs": [],
   "source": [
    "mae_for_reg0 = mean_absolute_error(selections_for_reg0['valid'][1], predict_for_reg0)\n",
    "mae_for_reg1 = mean_absolute_error(selections_for_reg1['valid'][1], predict_for_reg1)\n",
    "mae_for_reg2 = mean_absolute_error(selections_for_reg2['valid'][1], predict_for_reg2)"
   ]
  },
  {
   "cell_type": "code",
   "execution_count": 34,
   "metadata": {},
   "outputs": [],
   "source": [
    "mean_stock_of_oil_for_reg0 = predict_for_reg0.mean()\n",
    "mean_stock_of_oil_for_reg1 = predict_for_reg1.mean()\n",
    "mean_stock_of_oil_for_reg2 = predict_for_reg2.mean()"
   ]
  },
  {
   "cell_type": "code",
   "execution_count": 35,
   "metadata": {},
   "outputs": [],
   "source": [
    "dict_with_result['reg0'] = [predict_for_reg0, rmse_for_reg0, mae_for_reg0, mean_stock_of_oil_for_reg0]\n",
    "dict_with_result['reg1'] = [predict_for_reg1, rmse_for_reg1, mae_for_reg1, mean_stock_of_oil_for_reg1]\n",
    "dict_with_result['reg2'] = [predict_for_reg2, rmse_for_reg2, mae_for_reg2, mean_stock_of_oil_for_reg2]"
   ]
  },
  {
   "cell_type": "code",
   "execution_count": 36,
   "metadata": {},
   "outputs": [
    {
     "name": "stdout",
     "output_type": "stream",
     "text": [
      "\n",
      "ДЛЯ REG0: RMSE - 37.723754923964115| MAE - 31.080609685047104 | СРЕДНИЙ ЗАПАС СЫРЬЯ - 92.59\n",
      "====================================================================================================\n",
      "\n",
      "ДЛЯ REG1: RMSE - 0.8896526017607834| MAE - 0.7162229924277624 | СРЕДНИЙ ЗАПАС СЫРЬЯ - 68.80\n",
      "====================================================================================================\n",
      "\n",
      "ДЛЯ REG2: RMSE - 40.344223192010524| MAE - 32.97569345099897 | СРЕДНИЙ ЗАПАС СЫРЬЯ - 94.61\n",
      "====================================================================================================\n"
     ]
    }
   ],
   "source": [
    "for key in dict_with_result.keys():\n",
    "    print(f'\\nДЛЯ {key.upper()}: RMSE - {dict_with_result[key][1]}| MAE - {dict_with_result[key][2]} | СРЕДНИЙ ЗАПАС СЫРЬЯ - {dict_with_result[key][3]:.2f}')\n",
    "    print('='*100)"
   ]
  },
  {
   "cell_type": "markdown",
   "metadata": {},
   "source": [
    "**RMSE показывает как сильно предсказание отличается от правильного ответа. MAE показывает значение, на которое происходит отклонение. Чем меньше RMSE и МАЕ (или ближе к нулю), те лучше модель делает предсказания. В отличие от RMSE , МАЕ менее чувствительна к выбросам.**\n",
    "\n",
    "**Наилучший показатель у модели для Региона 1. Хотя сердний запас сырья меньше, чем для остальных регионов. Для других регионов показатель RMSE намного больше нуля, а значит модели могут быть переоценнены.**"
   ]
  },
  {
   "cell_type": "markdown",
   "metadata": {},
   "source": [
    "### Вывод"
   ]
  },
  {
   "cell_type": "markdown",
   "metadata": {},
   "source": [
    "**Самая лучшее качество у модели для Региона 1, а не высокий средний запас нефти по сравнению с другими регионами обусловлен большим количество скважен с нулевым запасом.**"
   ]
  },
  {
   "cell_type": "markdown",
   "metadata": {},
   "source": [
    "## Подготовка к расчёту прибыли"
   ]
  },
  {
   "cell_type": "markdown",
   "metadata": {},
   "source": [
    "**Запишем константные значения, которые будем использовать для дальнеших вычислений.**"
   ]
  },
  {
   "cell_type": "code",
   "execution_count": 37,
   "metadata": {},
   "outputs": [],
   "source": [
    "number_of_target_points = 500\n",
    "number_of_best_points = 200\n",
    "budget = 10*(10**9)\n",
    "revenue_per_unit_of_product = 450000\n",
    "treshold_for_risk = 2.5"
   ]
  },
  {
   "cell_type": "markdown",
   "metadata": {},
   "source": [
    "**Рассчитаем достаточный объём сырья для безубыточной разработки новой скважины.**"
   ]
  },
  {
   "cell_type": "code",
   "execution_count": 38,
   "metadata": {},
   "outputs": [],
   "source": [
    "minimum_volume_of_product = budget/(revenue_per_unit_of_product*number_of_best_points)"
   ]
  },
  {
   "cell_type": "code",
   "execution_count": 39,
   "metadata": {
    "scrolled": false
   },
   "outputs": [
    {
     "name": "stdout",
     "output_type": "stream",
     "text": [
      "\n",
      "Достаточный объём сырья для безубыточной разработки новой скважины - 111.11\n"
     ]
    }
   ],
   "source": [
    "print(f'\\nДостаточный объём сырья для безубыточной разработки новой скважины - {minimum_volume_of_product:.2f}')"
   ]
  },
  {
   "cell_type": "markdown",
   "metadata": {},
   "source": [
    "**Сравним полученный объём сырья со средним запасом в каждом регионе.**"
   ]
  },
  {
   "cell_type": "code",
   "execution_count": 40,
   "metadata": {},
   "outputs": [
    {
     "name": "stdout",
     "output_type": "stream",
     "text": [
      "\n",
      "СРЕДНИЙ ЗАПАС (92.59) В РЕГИОНЕ REG0 МЕНЬШЕ НЕОБХОДИМОГО МИНИМУМА ОБЪЕМА СЫРЬЯ (111.11)\n",
      "====================================================================================================\n",
      "\n",
      "СРЕДНИЙ ЗАПАС (68.80) В РЕГИОНЕ REG1 МЕНЬШЕ НЕОБХОДИМОГО МИНИМУМА ОБЪЕМА СЫРЬЯ (111.11)\n",
      "====================================================================================================\n",
      "\n",
      "СРЕДНИЙ ЗАПАС (94.61) В РЕГИОНЕ REG2 МЕНЬШЕ НЕОБХОДИМОГО МИНИМУМА ОБЪЕМА СЫРЬЯ (111.11)\n",
      "====================================================================================================\n"
     ]
    }
   ],
   "source": [
    "for key in dict_with_result.keys():\n",
    "    if dict_with_result[key][3] > minimum_volume_of_product:\n",
    "        print(f'\\nСРЕДНИЙ ЗАПАС ({dict_with_result[key][3]:.2f}) В РЕГИОНЕ {key.upper()} БОЛЬШЕ НЕОБХОДИМОГО МИНИМУМА ОБЪЕМА СЫРЬЯ ({minimum_volume_of_product:.2f})')\n",
    "        print('='*100)\n",
    "    elif dict_with_result[key][3] < minimum_volume_of_product:\n",
    "        print(f'\\nСРЕДНИЙ ЗАПАС ({dict_with_result[key][3]:.2f}) В РЕГИОНЕ {key.upper()} МЕНЬШЕ НЕОБХОДИМОГО МИНИМУМА ОБЪЕМА СЫРЬЯ ({minimum_volume_of_product:.2f})')\n",
    "        print('='*100)"
   ]
  },
  {
   "cell_type": "markdown",
   "metadata": {},
   "source": [
    "### Вывод"
   ]
  },
  {
   "cell_type": "markdown",
   "metadata": {},
   "source": [
    "**Регион 2 имеет самый высокий средний показатель запаса нефти по сравнению допустимым минимальным объемом сырья и с другими регионами. Но, считаю что Регион 1 наиболее предпочтительнее, так как модель прогноза имеет лучшие показатели и преимущественно в регионе преобладают скважины с высоким запасом.**"
   ]
  },
  {
   "cell_type": "markdown",
   "metadata": {},
   "source": [
    "## Расчёт прибыли и рисков "
   ]
  },
  {
   "cell_type": "markdown",
   "metadata": {},
   "source": [
    "**Напишем функцию для расчета прибыли по выбранным скважинам и предсказаниям модели:**\n",
    "\n",
    " 1. **Выберем скважины с максимальными значениями предсказаний (финальное кол-во точке равное 200)**\n",
    " \n",
    " \n",
    " 2. **Просуммируем целевое значение объёма сырья, соответствующее этим предсказаниям ( из показаний целевого признака валидационной выборки).**\n",
    " \n",
    " \n",
    " 3. **Рассчитаем прибыль для полученного объёма сырья.**"
   ]
  },
  {
   "cell_type": "code",
   "execution_count": 41,
   "metadata": {},
   "outputs": [],
   "source": [
    "def profit_calculation(target, predictions, number_points):\n",
    "    points_with_max_value_of_predicitions = pd.Series(predictions).sort_values(ascending=False)[:number_points]\n",
    "    sum_of_targets = target.reset_index(drop=True)[points_with_max_value_of_predicitions.index].sum()\n",
    "    profit = revenue_per_unit_of_product*sum_of_targets - budget\n",
    "    return profit"
   ]
  },
  {
   "cell_type": "code",
   "execution_count": 42,
   "metadata": {},
   "outputs": [],
   "source": [
    "estimated_profit_for_reg0 = profit_calculation(selections_for_reg0['valid'][1],\n",
    "                                               predict_for_reg0,\n",
    "                                               number_of_best_points)\n",
    "estimated_profit_for_reg1 = profit_calculation(selections_for_reg1['valid'][1],\n",
    "                                               predict_for_reg1,\n",
    "                                               number_of_best_points)\n",
    "estimated_profit_for_reg2 = profit_calculation(selections_for_reg2['valid'][1],\n",
    "                                               predict_for_reg2,\n",
    "                                               number_of_best_points)"
   ]
  },
  {
   "cell_type": "code",
   "execution_count": 43,
   "metadata": {
    "scrolled": true
   },
   "outputs": [
    {
     "name": "stdout",
     "output_type": "stream",
     "text": [
      "\n",
      "ПРЕДПОЛОГАЕМАЯ ПРИБЫЛЬ В РЕГИОНЕ REG0 - 3267957892.71 млрд.\n",
      "\n",
      "ПРЕДПОЛОГАЕМАЯ ПРИБЫЛЬ В РЕГИОНЕ REG1 - 2415086696.68 млрд.\n",
      "\n",
      "ПРЕДПОЛОГАЕМАЯ ПРИБЫЛЬ В РЕГИОНЕ REG2 - 2172084103.89 млрд.\n"
     ]
    }
   ],
   "source": [
    "cnt = 0\n",
    "val = None\n",
    "digit_number = None\n",
    "for key in dict_with_result.keys():\n",
    "    if cnt == 0:\n",
    "        val = estimated_profit_for_reg0\n",
    "    elif cnt == 1:\n",
    "        val = estimated_profit_for_reg1\n",
    "    elif cnt == 2:\n",
    "        val = estimated_profit_for_reg2\n",
    "    if len(str(round(val, 0))) >= 12:\n",
    "        digit_number = 'млрд.'\n",
    "    print(f'\\nПРЕДПОЛОГАЕМАЯ ПРИБЫЛЬ В РЕГИОНЕ {key.upper()} - {val:.2f} {digit_number}')\n",
    "    cnt+=1"
   ]
  },
  {
   "cell_type": "markdown",
   "metadata": {},
   "source": [
    "### Вывод"
   ]
  },
  {
   "cell_type": "markdown",
   "metadata": {},
   "source": [
    "**Наибольшую предпологаемую валовую прибыль имеет Регон 0. Значение может быть не корректно, так как модель имеет высокий показатель RMSE.**"
   ]
  },
  {
   "cell_type": "markdown",
   "metadata": {},
   "source": [
    "## Риски и прибыль для каждого региона:"
   ]
  },
  {
   "cell_type": "code",
   "execution_count": 44,
   "metadata": {},
   "outputs": [],
   "source": [
    "dct_for_risk_interval_and_mean_profit = {}\n",
    "state = RandomState(12345)"
   ]
  },
  {
   "cell_type": "markdown",
   "metadata": {},
   "source": [
    "**Посчитаем риски и прибыль для каждого региона:**\n",
    "\n",
    " 1. **Применим технику Bootstrap с 1000 выборок, чтобы найти распределение прибыли.**\n",
    " \n",
    " \n",
    " 2. **Найдем среднюю прибыль, 95%-й доверительный интервал и риск убытков.(Убыток — это отрицательная прибыль)**"
   ]
  },
  {
   "cell_type": "code",
   "execution_count": 45,
   "metadata": {},
   "outputs": [],
   "source": [
    "def get_value_of_risk_and_confidence_interval_and_profit(target, predictions):\n",
    "    values = []\n",
    "    for i in range(1000):\n",
    "        subsample_for_target = pd.Series(target).reset_index(drop=True).sample(n = number_of_target_points, replace=True, random_state=state)\n",
    "        subsample_for_predict = predictions[subsample_for_target.index]\n",
    "        profit = profit_calculation(subsample_for_target, subsample_for_predict, number_of_best_points)\n",
    "        values.append(profit)\n",
    "    values = pd.Series(values)\n",
    "    confidence_interval = [values.quantile(0.025), values.quantile(0.975)]\n",
    "    mean_profit = values.mean()\n",
    "    risk = (((values < 0).sum())/ len(values)) * 100\n",
    "    return mean_profit, risk, confidence_interval"
   ]
  },
  {
   "cell_type": "code",
   "execution_count": 46,
   "metadata": {},
   "outputs": [],
   "source": [
    "dct_for_risk_interval_and_mean_profit['region0'] = get_value_of_risk_and_confidence_interval_and_profit(selections_for_reg0['valid'][1], predict_for_reg0)\n",
    "dct_for_risk_interval_and_mean_profit['region1'] = get_value_of_risk_and_confidence_interval_and_profit(selections_for_reg1['valid'][1], predict_for_reg1)\n",
    "dct_for_risk_interval_and_mean_profit['region2'] = get_value_of_risk_and_confidence_interval_and_profit(selections_for_reg2['valid'][1], predict_for_reg2)"
   ]
  },
  {
   "cell_type": "code",
   "execution_count": 47,
   "metadata": {
    "scrolled": false
   },
   "outputs": [
    {
     "name": "stdout",
     "output_type": "stream",
     "text": [
      "\n",
      "ДЛЯ РЕГИОНА REGION0:\n",
      "\n",
      "СРЕДНЯЯ ПРИБЫЛЬ = 378298088 | ВЕРОЯТНОСТЬ РИСКА = 7.1%\n",
      "\n",
      "ДОВЕРИТЕЛЬНЫЙ ИНТЕРВАЛ: от -106768256 до 852188553\n",
      "====================================================================================================\n",
      "\n",
      "ДЛЯ РЕГИОНА REGION1:\n",
      "\n",
      "СРЕДНЯЯ ПРИБЫЛЬ = 440575074 | ВЕРОЯТНОСТЬ РИСКА = 1.5%\n",
      "\n",
      "ДОВЕРИТЕЛЬНЫЙ ИНТЕРВАЛ: от 54467744 до 809780533\n",
      "====================================================================================================\n",
      "\n",
      "ДЛЯ РЕГИОНА REGION2:\n",
      "\n",
      "СРЕДНЯЯ ПРИБЫЛЬ = 302896138 | ВЕРОЯТНОСТЬ РИСКА = 12.6%\n",
      "\n",
      "ДОВЕРИТЕЛЬНЫЙ ИНТЕРВАЛ: от -240266463 до 833640873\n",
      "====================================================================================================\n"
     ]
    }
   ],
   "source": [
    "for key in dct_for_risk_interval_and_mean_profit.keys():\n",
    "    print(f'\\nДЛЯ РЕГИОНА {key.upper()}:')\n",
    "    print(f'\\nСРЕДНЯЯ ПРИБЫЛЬ = {dct_for_risk_interval_and_mean_profit[key][0]:.0f} | ВЕРОЯТНОСТЬ РИСКА = {dct_for_risk_interval_and_mean_profit[key][1]}%')\n",
    "    print(f'\\nДОВЕРИТЕЛЬНЫЙ ИНТЕРВАЛ: от {dct_for_risk_interval_and_mean_profit[key][2][0]:.0f} до {dct_for_risk_interval_and_mean_profit[key][2][1]:.0f}')\n",
    "    print('='*100)"
   ]
  },
  {
   "cell_type": "markdown",
   "metadata": {},
   "source": [
    "**Выберем регион, где риск убытков меньше обозначенного порога (2.5%) по условию задачи.**"
   ]
  },
  {
   "cell_type": "code",
   "execution_count": 48,
   "metadata": {
    "scrolled": true
   },
   "outputs": [
    {
     "name": "stdout",
     "output_type": "stream",
     "text": [
      "\n",
      "ПОДХОДЯЩИЙ ДЛЯ РАЗРАБОТКИ РЕГИОН - REGION1\n",
      "\n",
      "СРЕДНЯЯ ПРИБЫЛЬ = 440575074 | ВЕРОЯТНОСТЬ РИСКА = 1.5%\n"
     ]
    }
   ],
   "source": [
    "list_for_name_region = []\n",
    "list_for_value_region = []\n",
    "for key in dct_for_risk_interval_and_mean_profit.keys():\n",
    "    if dct_for_risk_interval_and_mean_profit[key][1] < treshold_for_risk:\n",
    "        list_for_name_region.append(key)\n",
    "for name in list_for_name_region:\n",
    "    list_for_value_region.append(dct_for_risk_interval_and_mean_profit[key][0])\n",
    "max_mean = max(list_for_value_region)\n",
    "index = list_for_value_region.index(max_mean)\n",
    "winner = list_for_name_region[index]\n",
    "print(f'\\nПОДХОДЯЩИЙ ДЛЯ РАЗРАБОТКИ РЕГИОН - {winner.upper()}')\n",
    "print(f'\\nСРЕДНЯЯ ПРИБЫЛЬ = {dct_for_risk_interval_and_mean_profit[winner][0]:.0f} | ВЕРОЯТНОСТЬ РИСКА = {dct_for_risk_interval_and_mean_profit[winner][1]}%')"
   ]
  },
  {
   "cell_type": "markdown",
   "metadata": {},
   "source": [
    "### Вывод"
   ]
  },
  {
   "cell_type": "markdown",
   "metadata": {},
   "source": [
    "**Выбранный регион имеет самое высокое значение прибыли и минимальную вероятность риска.**"
   ]
  },
  {
   "cell_type": "markdown",
   "metadata": {},
   "source": [
    "# Вывод"
   ]
  },
  {
   "cell_type": "markdown",
   "metadata": {},
   "source": [
    "**Был выбран Регион 1, так как он имеет самое большое значение прибыли и минимальную вероятность риска. Кроме того, у модели для предсказания для данного региона показатель RMSE и MAE минимален, а исходя из графиков в регионе преимущественно преобладают скважины с высоким запасом нефти. Преиод эксплуатации таких скважин будет выше, чем у скважин в других регионах, и операционные затраты на разварачивание/обратную сборку оборудования и время доставки к месту разработки будут меньше.**"
   ]
  }
 ],
 "metadata": {
  "ExecuteTimeLog": [
   {
    "duration": 887,
    "start_time": "2022-03-16T17:23:33.302Z"
   },
   {
    "duration": 282,
    "start_time": "2022-03-16T17:23:41.644Z"
   },
   {
    "duration": 655,
    "start_time": "2022-03-16T17:23:53.613Z"
   },
   {
    "duration": 327,
    "start_time": "2022-03-16T17:25:14.995Z"
   },
   {
    "duration": 12,
    "start_time": "2022-03-16T17:25:47.261Z"
   },
   {
    "duration": 10,
    "start_time": "2022-03-16T17:26:34.386Z"
   },
   {
    "duration": 8,
    "start_time": "2022-03-16T17:26:53.928Z"
   },
   {
    "duration": 10,
    "start_time": "2022-03-16T17:27:32.520Z"
   },
   {
    "duration": 7,
    "start_time": "2022-03-16T17:27:50.602Z"
   },
   {
    "duration": 10,
    "start_time": "2022-03-16T17:28:03.132Z"
   },
   {
    "duration": 294,
    "start_time": "2022-03-16T17:31:02.699Z"
   },
   {
    "duration": 336,
    "start_time": "2022-03-16T17:31:20.900Z"
   },
   {
    "duration": 93,
    "start_time": "2022-03-16T17:31:25.765Z"
   },
   {
    "duration": 36,
    "start_time": "2022-03-16T17:31:28.747Z"
   },
   {
    "duration": 101,
    "start_time": "2022-03-16T17:31:45.745Z"
   },
   {
    "duration": 48,
    "start_time": "2022-03-16T17:32:44.855Z"
   },
   {
    "duration": 14,
    "start_time": "2022-03-16T17:33:20.837Z"
   },
   {
    "duration": 1373,
    "start_time": "2022-03-16T19:04:47.505Z"
   },
   {
    "duration": 470,
    "start_time": "2022-03-16T19:04:48.880Z"
   },
   {
    "duration": 15,
    "start_time": "2022-03-16T19:04:49.353Z"
   },
   {
    "duration": 13,
    "start_time": "2022-03-16T19:04:49.370Z"
   },
   {
    "duration": 21,
    "start_time": "2022-03-16T19:04:49.385Z"
   },
   {
    "duration": 13,
    "start_time": "2022-03-16T19:04:49.408Z"
   },
   {
    "duration": 7,
    "start_time": "2022-03-16T19:04:49.422Z"
   },
   {
    "duration": 10,
    "start_time": "2022-03-16T19:04:49.432Z"
   },
   {
    "duration": 118,
    "start_time": "2022-03-16T19:04:49.444Z"
   },
   {
    "duration": 11,
    "start_time": "2022-03-16T19:04:49.564Z"
   },
   {
    "duration": 11,
    "start_time": "2022-03-16T19:05:02.300Z"
   },
   {
    "duration": 10,
    "start_time": "2022-03-16T19:05:38.222Z"
   },
   {
    "duration": 6845,
    "start_time": "2022-03-16T19:10:47.857Z"
   },
   {
    "duration": 75,
    "start_time": "2022-03-16T19:11:05.998Z"
   },
   {
    "duration": 46,
    "start_time": "2022-03-16T19:11:18.887Z"
   },
   {
    "duration": 59,
    "start_time": "2022-03-16T19:12:32.657Z"
   },
   {
    "duration": 4,
    "start_time": "2022-03-16T19:14:12.604Z"
   },
   {
    "duration": 1032,
    "start_time": "2022-03-16T19:15:11.907Z"
   },
   {
    "duration": 1331,
    "start_time": "2022-03-16T19:15:57.711Z"
   },
   {
    "duration": 4,
    "start_time": "2022-03-16T19:16:29.400Z"
   },
   {
    "duration": 1290,
    "start_time": "2022-03-16T19:16:29.997Z"
   },
   {
    "duration": 3,
    "start_time": "2022-03-16T19:17:41.197Z"
   },
   {
    "duration": 1481,
    "start_time": "2022-03-16T19:17:41.825Z"
   },
   {
    "duration": 6,
    "start_time": "2022-03-16T19:18:08.407Z"
   },
   {
    "duration": 6761,
    "start_time": "2022-03-16T19:18:14.810Z"
   },
   {
    "duration": 3043,
    "start_time": "2022-03-16T19:18:43.075Z"
   },
   {
    "duration": 3,
    "start_time": "2022-03-16T19:18:56.220Z"
   },
   {
    "duration": 1139,
    "start_time": "2022-03-16T19:18:56.687Z"
   },
   {
    "duration": 3,
    "start_time": "2022-03-16T19:19:29.868Z"
   },
   {
    "duration": 1037,
    "start_time": "2022-03-16T19:19:30.628Z"
   },
   {
    "duration": 1073,
    "start_time": "2022-03-16T19:19:41.156Z"
   },
   {
    "duration": 13556,
    "start_time": "2022-03-16T19:19:54.084Z"
   },
   {
    "duration": 2475,
    "start_time": "2022-03-16T19:20:08.171Z"
   },
   {
    "duration": 4,
    "start_time": "2022-03-16T19:20:21.904Z"
   },
   {
    "duration": 16,
    "start_time": "2022-03-16T19:21:35.970Z"
   },
   {
    "duration": 14,
    "start_time": "2022-03-16T19:21:51.679Z"
   },
   {
    "duration": 10,
    "start_time": "2022-03-16T19:22:01.953Z"
   },
   {
    "duration": 16,
    "start_time": "2022-03-16T19:23:52.654Z"
   },
   {
    "duration": 42,
    "start_time": "2022-03-16T19:24:26.897Z"
   },
   {
    "duration": 3,
    "start_time": "2022-03-16T19:24:57.492Z"
   },
   {
    "duration": 1529,
    "start_time": "2022-03-16T19:25:10.264Z"
   },
   {
    "duration": 6,
    "start_time": "2022-03-16T19:25:15.997Z"
   },
   {
    "duration": 3,
    "start_time": "2022-03-16T19:25:38.971Z"
   },
   {
    "duration": 1569,
    "start_time": "2022-03-16T19:25:39.387Z"
   },
   {
    "duration": 5,
    "start_time": "2022-03-16T19:25:41.410Z"
   },
   {
    "duration": 51,
    "start_time": "2022-03-16T19:28:05.512Z"
   },
   {
    "duration": 326,
    "start_time": "2022-03-16T19:28:34.651Z"
   },
   {
    "duration": 293,
    "start_time": "2022-03-16T19:31:49.076Z"
   },
   {
    "duration": 3,
    "start_time": "2022-03-16T19:38:53.547Z"
   },
   {
    "duration": 554,
    "start_time": "2022-03-16T19:39:17.604Z"
   },
   {
    "duration": 3,
    "start_time": "2022-03-16T19:40:49.473Z"
   },
   {
    "duration": 701,
    "start_time": "2022-03-16T19:40:49.983Z"
   },
   {
    "duration": 4,
    "start_time": "2022-03-16T19:41:41.328Z"
   },
   {
    "duration": 564,
    "start_time": "2022-03-16T19:41:41.880Z"
   },
   {
    "duration": 3,
    "start_time": "2022-03-16T19:41:57.224Z"
   },
   {
    "duration": 537,
    "start_time": "2022-03-16T19:41:57.721Z"
   },
   {
    "duration": 3,
    "start_time": "2022-03-16T19:43:31.787Z"
   },
   {
    "duration": 3,
    "start_time": "2022-03-16T19:43:52.571Z"
   },
   {
    "duration": 99,
    "start_time": "2022-03-16T19:44:17.120Z"
   },
   {
    "duration": 14,
    "start_time": "2022-03-16T19:44:17.207Z"
   },
   {
    "duration": 90,
    "start_time": "2022-03-16T19:44:22.286Z"
   },
   {
    "duration": 24355,
    "start_time": "2022-03-16T19:44:22.661Z"
   },
   {
    "duration": 5,
    "start_time": "2022-03-16T19:44:49.124Z"
   },
   {
    "duration": 7,
    "start_time": "2022-03-16T19:44:51.755Z"
   },
   {
    "duration": 3,
    "start_time": "2022-03-16T19:45:08.749Z"
   },
   {
    "duration": 7,
    "start_time": "2022-03-16T19:45:10.747Z"
   },
   {
    "duration": 538,
    "start_time": "2022-03-16T19:45:12.145Z"
   },
   {
    "duration": 2,
    "start_time": "2022-03-16T19:46:15.644Z"
   },
   {
    "duration": 15122,
    "start_time": "2022-03-16T19:46:16.024Z"
   },
   {
    "duration": 2,
    "start_time": "2022-03-16T19:46:58.496Z"
   },
   {
    "duration": 17961,
    "start_time": "2022-03-16T19:46:58.824Z"
   },
   {
    "duration": 3,
    "start_time": "2022-03-16T19:47:18.848Z"
   },
   {
    "duration": 3,
    "start_time": "2022-03-16T19:47:47.466Z"
   },
   {
    "duration": 30089,
    "start_time": "2022-03-16T19:47:47.471Z"
   },
   {
    "duration": 3,
    "start_time": "2022-03-16T19:48:41.909Z"
   },
   {
    "duration": 2,
    "start_time": "2022-03-16T19:49:11.542Z"
   },
   {
    "duration": 28686,
    "start_time": "2022-03-16T19:49:11.546Z"
   },
   {
    "duration": 14,
    "start_time": "2022-03-16T19:50:20.049Z"
   },
   {
    "duration": 13,
    "start_time": "2022-03-16T19:50:25.151Z"
   },
   {
    "duration": 17,
    "start_time": "2022-03-16T19:51:42.170Z"
   },
   {
    "duration": 13,
    "start_time": "2022-03-16T19:51:45.299Z"
   },
   {
    "duration": 17,
    "start_time": "2022-03-16T19:52:16.921Z"
   },
   {
    "duration": 17,
    "start_time": "2022-03-16T19:52:33.287Z"
   },
   {
    "duration": 295,
    "start_time": "2022-03-16T19:54:31.787Z"
   },
   {
    "duration": 284,
    "start_time": "2022-03-16T19:55:28.120Z"
   },
   {
    "duration": 289,
    "start_time": "2022-03-16T19:55:59.127Z"
   },
   {
    "duration": 24,
    "start_time": "2022-03-16T19:56:18.402Z"
   },
   {
    "duration": 4,
    "start_time": "2022-03-16T19:56:27.910Z"
   },
   {
    "duration": 276,
    "start_time": "2022-03-16T19:56:42.104Z"
   },
   {
    "duration": 11,
    "start_time": "2022-03-16T19:56:47.014Z"
   },
   {
    "duration": 4,
    "start_time": "2022-03-16T19:58:28.672Z"
   },
   {
    "duration": 335,
    "start_time": "2022-03-16T19:58:46.446Z"
   },
   {
    "duration": 23,
    "start_time": "2022-03-16T19:59:05.170Z"
   },
   {
    "duration": 11,
    "start_time": "2022-03-16T19:59:07.112Z"
   },
   {
    "duration": 1123,
    "start_time": "2022-03-16T19:59:14.552Z"
   },
   {
    "duration": 325,
    "start_time": "2022-03-16T19:59:15.677Z"
   },
   {
    "duration": 457,
    "start_time": "2022-03-16T19:59:16.005Z"
   },
   {
    "duration": 14,
    "start_time": "2022-03-16T19:59:16.464Z"
   },
   {
    "duration": 171,
    "start_time": "2022-03-16T19:59:16.479Z"
   },
   {
    "duration": 33,
    "start_time": "2022-03-16T19:59:16.652Z"
   },
   {
    "duration": 134,
    "start_time": "2022-03-16T19:59:16.686Z"
   },
   {
    "duration": 120,
    "start_time": "2022-03-16T19:59:16.822Z"
   },
   {
    "duration": 94,
    "start_time": "2022-03-16T19:59:16.944Z"
   },
   {
    "duration": 42,
    "start_time": "2022-03-16T19:59:17.040Z"
   },
   {
    "duration": 65,
    "start_time": "2022-03-16T19:59:17.084Z"
   },
   {
    "duration": 59,
    "start_time": "2022-03-16T19:59:17.151Z"
   },
   {
    "duration": 181,
    "start_time": "2022-03-16T19:59:17.212Z"
   },
   {
    "duration": 2,
    "start_time": "2022-03-16T19:59:46.350Z"
   },
   {
    "duration": 23,
    "start_time": "2022-03-16T19:59:46.728Z"
   },
   {
    "duration": 9,
    "start_time": "2022-03-16T19:59:47.360Z"
   },
   {
    "duration": 66,
    "start_time": "2022-03-16T20:02:49.843Z"
   },
   {
    "duration": 10,
    "start_time": "2022-03-16T20:02:50.399Z"
   },
   {
    "duration": 63,
    "start_time": "2022-03-16T20:03:09.001Z"
   },
   {
    "duration": 22,
    "start_time": "2022-03-16T20:05:03.979Z"
   },
   {
    "duration": 12,
    "start_time": "2022-03-16T20:05:07.115Z"
   },
   {
    "duration": 410,
    "start_time": "2022-03-16T20:06:58.435Z"
   },
   {
    "duration": 17,
    "start_time": "2022-03-16T20:07:10.781Z"
   },
   {
    "duration": 4,
    "start_time": "2022-03-16T20:07:16.575Z"
   },
   {
    "duration": 304,
    "start_time": "2022-03-16T20:09:46.599Z"
   },
   {
    "duration": 3,
    "start_time": "2022-03-16T20:09:51.067Z"
   },
   {
    "duration": 503,
    "start_time": "2022-03-16T20:09:51.374Z"
   },
   {
    "duration": 3,
    "start_time": "2022-03-16T20:09:59.443Z"
   },
   {
    "duration": 61,
    "start_time": "2022-03-16T20:15:01.759Z"
   },
   {
    "duration": 190,
    "start_time": "2022-03-16T20:15:02.143Z"
   },
   {
    "duration": 57,
    "start_time": "2022-03-16T20:15:25.340Z"
   },
   {
    "duration": 4,
    "start_time": "2022-03-16T20:15:25.997Z"
   },
   {
    "duration": 1169,
    "start_time": "2022-03-16T20:15:33.297Z"
   },
   {
    "duration": 328,
    "start_time": "2022-03-16T20:15:34.468Z"
   },
   {
    "duration": 797,
    "start_time": "2022-03-16T20:15:34.798Z"
   },
   {
    "duration": 269,
    "start_time": "2022-03-16T20:15:35.596Z"
   },
   {
    "duration": 861,
    "start_time": "2022-03-16T20:15:35.867Z"
   },
   {
    "duration": 340,
    "start_time": "2022-03-16T20:15:36.729Z"
   },
   {
    "duration": 742,
    "start_time": "2022-03-16T20:15:37.071Z"
   },
   {
    "duration": 278,
    "start_time": "2022-03-16T20:15:37.815Z"
   },
   {
    "duration": 641,
    "start_time": "2022-03-16T20:15:38.095Z"
   },
   {
    "duration": 580,
    "start_time": "2022-03-16T20:15:38.738Z"
   },
   {
    "duration": 837,
    "start_time": "2022-03-16T20:15:39.320Z"
   },
   {
    "duration": 276,
    "start_time": "2022-03-16T20:15:40.158Z"
   },
   {
    "duration": 64,
    "start_time": "2022-03-16T20:16:05.498Z"
   },
   {
    "duration": 20,
    "start_time": "2022-03-16T20:16:05.878Z"
   },
   {
    "duration": 1102,
    "start_time": "2022-03-16T20:17:14.973Z"
   },
   {
    "duration": 1034,
    "start_time": "2022-03-16T20:17:16.076Z"
   },
   {
    "duration": 203,
    "start_time": "2022-03-16T20:17:17.113Z"
   },
   {
    "duration": 1647,
    "start_time": "2022-03-16T20:17:17.318Z"
   },
   {
    "duration": 773,
    "start_time": "2022-03-16T20:17:18.966Z"
   },
   {
    "duration": 948,
    "start_time": "2022-03-16T20:17:19.740Z"
   },
   {
    "duration": 633,
    "start_time": "2022-03-16T20:17:20.690Z"
   },
   {
    "duration": 766,
    "start_time": "2022-03-16T20:17:21.325Z"
   },
   {
    "duration": 692,
    "start_time": "2022-03-16T20:17:22.092Z"
   },
   {
    "duration": 906,
    "start_time": "2022-03-16T20:17:22.786Z"
   },
   {
    "duration": 410,
    "start_time": "2022-03-16T20:17:23.694Z"
   },
   {
    "duration": 726,
    "start_time": "2022-03-16T20:17:24.105Z"
   },
   {
    "duration": 5,
    "start_time": "2022-03-16T20:17:49.952Z"
   },
   {
    "duration": 3,
    "start_time": "2022-03-16T20:17:53.593Z"
   },
   {
    "duration": 354,
    "start_time": "2022-03-16T20:23:35.661Z"
   },
   {
    "duration": 3,
    "start_time": "2022-03-16T20:23:44.582Z"
   },
   {
    "duration": 253,
    "start_time": "2022-03-16T20:23:54.729Z"
   },
   {
    "duration": 80,
    "start_time": "2022-03-16T20:23:57.965Z"
   },
   {
    "duration": 4,
    "start_time": "2022-03-16T20:24:01.177Z"
   },
   {
    "duration": 4,
    "start_time": "2022-03-16T20:24:18.993Z"
   },
   {
    "duration": 7,
    "start_time": "2022-03-16T20:54:22.532Z"
   },
   {
    "duration": 1554,
    "start_time": "2022-03-16T20:54:57.748Z"
   },
   {
    "duration": 2468,
    "start_time": "2022-03-16T20:54:59.304Z"
   },
   {
    "duration": 3934,
    "start_time": "2022-03-16T20:55:01.775Z"
   },
   {
    "duration": 4487,
    "start_time": "2022-03-16T20:55:05.711Z"
   },
   {
    "duration": 3838,
    "start_time": "2022-03-16T20:55:10.200Z"
   },
   {
    "duration": 3064,
    "start_time": "2022-03-16T20:55:14.040Z"
   },
   {
    "duration": 4899,
    "start_time": "2022-03-16T20:55:17.105Z"
   },
   {
    "duration": 4010,
    "start_time": "2022-03-16T20:55:22.006Z"
   },
   {
    "duration": 6136,
    "start_time": "2022-03-16T20:55:26.018Z"
   },
   {
    "duration": 3339,
    "start_time": "2022-03-16T20:55:32.155Z"
   },
   {
    "duration": 4943,
    "start_time": "2022-03-16T20:55:35.495Z"
   },
   {
    "duration": 2307,
    "start_time": "2022-03-16T20:55:40.440Z"
   },
   {
    "duration": 2116,
    "start_time": "2022-03-16T20:55:42.748Z"
   },
   {
    "duration": 2144,
    "start_time": "2022-03-16T20:55:44.865Z"
   },
   {
    "duration": 2748,
    "start_time": "2022-03-16T21:11:28.142Z"
   },
   {
    "duration": 1069,
    "start_time": "2022-03-16T21:11:55.405Z"
   },
   {
    "duration": 2367,
    "start_time": "2022-03-16T21:11:56.476Z"
   },
   {
    "duration": 6250,
    "start_time": "2022-03-16T21:11:58.845Z"
   },
   {
    "duration": 6625,
    "start_time": "2022-03-16T21:12:05.096Z"
   },
   {
    "duration": 6554,
    "start_time": "2022-03-16T21:12:11.723Z"
   },
   {
    "duration": 8313,
    "start_time": "2022-03-16T21:12:18.279Z"
   },
   {
    "duration": 7288,
    "start_time": "2022-03-16T21:12:26.594Z"
   },
   {
    "duration": 15249,
    "start_time": "2022-03-16T21:12:33.885Z"
   },
   {
    "duration": 1776,
    "start_time": "2022-03-16T21:12:49.136Z"
   },
   {
    "duration": 1128,
    "start_time": "2022-03-16T21:12:50.914Z"
   },
   {
    "duration": 782,
    "start_time": "2022-03-16T21:12:52.044Z"
   },
   {
    "duration": 4092,
    "start_time": "2022-03-16T21:12:52.828Z"
   },
   {
    "duration": 3416,
    "start_time": "2022-03-16T21:12:56.921Z"
   },
   {
    "duration": 1984,
    "start_time": "2022-03-16T21:13:00.339Z"
   },
   {
    "duration": 5703,
    "start_time": "2022-03-16T21:13:02.324Z"
   },
   {
    "duration": 2486,
    "start_time": "2022-03-16T21:21:32.676Z"
   },
   {
    "duration": 2545,
    "start_time": "2022-03-16T21:25:07.739Z"
   },
   {
    "duration": 296,
    "start_time": "2022-03-16T21:25:28.749Z"
   },
   {
    "duration": 2482,
    "start_time": "2022-03-16T21:26:55.783Z"
   },
   {
    "duration": 3176,
    "start_time": "2022-03-16T21:30:08.162Z"
   },
   {
    "duration": 31,
    "start_time": "2022-03-16T21:31:46.907Z"
   },
   {
    "duration": 10,
    "start_time": "2022-03-16T21:32:04.325Z"
   },
   {
    "duration": 3298,
    "start_time": "2022-03-16T21:33:56.937Z"
   },
   {
    "duration": 3368,
    "start_time": "2022-03-16T21:34:11.632Z"
   },
   {
    "duration": 3126,
    "start_time": "2022-03-16T21:34:22.653Z"
   },
   {
    "duration": 3237,
    "start_time": "2022-03-16T21:34:56.667Z"
   },
   {
    "duration": 658,
    "start_time": "2022-03-16T21:41:21.662Z"
   },
   {
    "duration": 3266,
    "start_time": "2022-03-16T21:41:36.139Z"
   },
   {
    "duration": 3177,
    "start_time": "2022-03-16T21:42:05.267Z"
   },
   {
    "duration": 2804,
    "start_time": "2022-03-16T21:42:16.991Z"
   },
   {
    "duration": 610,
    "start_time": "2022-03-16T21:44:27.270Z"
   },
   {
    "duration": 3221,
    "start_time": "2022-03-16T21:46:40.659Z"
   },
   {
    "duration": 3295,
    "start_time": "2022-03-16T21:47:55.944Z"
   },
   {
    "duration": 3421,
    "start_time": "2022-03-16T21:49:45.117Z"
   },
   {
    "duration": 3580,
    "start_time": "2022-03-16T21:50:03.592Z"
   },
   {
    "duration": 2697,
    "start_time": "2022-03-16T21:50:14.339Z"
   },
   {
    "duration": 100,
    "start_time": "2022-03-16T21:52:28.152Z"
   },
   {
    "duration": 82,
    "start_time": "2022-03-16T21:52:42.669Z"
   },
   {
    "duration": 87,
    "start_time": "2022-03-16T21:53:15.876Z"
   },
   {
    "duration": 3503,
    "start_time": "2022-03-16T21:53:52.998Z"
   },
   {
    "duration": 2876,
    "start_time": "2022-03-16T21:55:29.127Z"
   },
   {
    "duration": 3158,
    "start_time": "2022-03-16T21:55:43.679Z"
   },
   {
    "duration": 3370,
    "start_time": "2022-03-16T21:55:51.769Z"
   },
   {
    "duration": 2864,
    "start_time": "2022-03-16T21:56:38.225Z"
   },
   {
    "duration": 2818,
    "start_time": "2022-03-16T21:57:54.388Z"
   },
   {
    "duration": 2805,
    "start_time": "2022-03-16T21:58:22.254Z"
   },
   {
    "duration": 728,
    "start_time": "2022-03-16T22:00:01.047Z"
   },
   {
    "duration": 2781,
    "start_time": "2022-03-16T22:00:31.249Z"
   },
   {
    "duration": 2713,
    "start_time": "2022-03-17T17:32:09.828Z"
   },
   {
    "duration": 433,
    "start_time": "2022-03-17T17:32:12.544Z"
   },
   {
    "duration": 21,
    "start_time": "2022-03-17T17:32:12.980Z"
   },
   {
    "duration": 22,
    "start_time": "2022-03-17T17:32:13.005Z"
   },
   {
    "duration": 13,
    "start_time": "2022-03-17T17:32:13.030Z"
   },
   {
    "duration": 57,
    "start_time": "2022-03-17T17:32:13.046Z"
   },
   {
    "duration": 14,
    "start_time": "2022-03-17T17:32:13.106Z"
   },
   {
    "duration": 24,
    "start_time": "2022-03-17T17:32:13.123Z"
   },
   {
    "duration": 268,
    "start_time": "2022-03-17T17:32:13.149Z"
   },
   {
    "duration": 111,
    "start_time": "2022-03-17T17:32:13.421Z"
   },
   {
    "duration": 113,
    "start_time": "2022-03-17T17:32:13.535Z"
   },
   {
    "duration": 5,
    "start_time": "2022-03-17T17:32:13.651Z"
   },
   {
    "duration": 42,
    "start_time": "2022-03-17T17:32:13.659Z"
   },
   {
    "duration": 20,
    "start_time": "2022-03-17T17:32:13.703Z"
   },
   {
    "duration": 32,
    "start_time": "2022-03-17T17:32:13.726Z"
   },
   {
    "duration": 4527,
    "start_time": "2022-03-17T17:32:13.760Z"
   },
   {
    "duration": 11,
    "start_time": "2022-03-17T17:34:15.354Z"
   },
   {
    "duration": 14,
    "start_time": "2022-03-17T17:34:21.043Z"
   },
   {
    "duration": 12,
    "start_time": "2022-03-17T17:35:22.455Z"
   },
   {
    "duration": 11,
    "start_time": "2022-03-17T17:35:23.002Z"
   },
   {
    "duration": 16,
    "start_time": "2022-03-17T17:35:31.515Z"
   },
   {
    "duration": 38,
    "start_time": "2022-03-17T17:37:14.032Z"
   },
   {
    "duration": 18,
    "start_time": "2022-03-17T17:37:20.105Z"
   },
   {
    "duration": 6,
    "start_time": "2022-03-17T17:44:57.319Z"
   },
   {
    "duration": 6,
    "start_time": "2022-03-17T17:46:54.764Z"
   },
   {
    "duration": 10,
    "start_time": "2022-03-17T17:46:55.353Z"
   },
   {
    "duration": 6,
    "start_time": "2022-03-17T17:47:06.249Z"
   },
   {
    "duration": 5,
    "start_time": "2022-03-17T17:47:33.960Z"
   },
   {
    "duration": 4,
    "start_time": "2022-03-17T17:48:09.900Z"
   },
   {
    "duration": 12,
    "start_time": "2022-03-17T17:48:10.714Z"
   },
   {
    "duration": 6,
    "start_time": "2022-03-17T17:48:28.783Z"
   },
   {
    "duration": 11,
    "start_time": "2022-03-17T17:48:30.220Z"
   },
   {
    "duration": 6,
    "start_time": "2022-03-17T17:49:27.105Z"
   },
   {
    "duration": 12,
    "start_time": "2022-03-17T17:49:27.503Z"
   },
   {
    "duration": 169,
    "start_time": "2022-03-17T18:22:23.309Z"
   },
   {
    "duration": 104,
    "start_time": "2022-03-17T18:22:43.062Z"
   },
   {
    "duration": 22,
    "start_time": "2022-03-17T18:23:34.862Z"
   },
   {
    "duration": 25,
    "start_time": "2022-03-17T18:24:57.364Z"
   },
   {
    "duration": 147,
    "start_time": "2022-03-17T18:25:02.430Z"
   },
   {
    "duration": 28,
    "start_time": "2022-03-17T18:25:06.810Z"
   },
   {
    "duration": 24,
    "start_time": "2022-03-17T18:25:12.004Z"
   },
   {
    "duration": 20,
    "start_time": "2022-03-17T18:26:00.308Z"
   },
   {
    "duration": 21,
    "start_time": "2022-03-17T18:26:12.819Z"
   },
   {
    "duration": 10,
    "start_time": "2022-03-17T18:27:17.548Z"
   },
   {
    "duration": 17,
    "start_time": "2022-03-17T18:29:32.878Z"
   },
   {
    "duration": 18,
    "start_time": "2022-03-17T18:29:47.157Z"
   },
   {
    "duration": 13,
    "start_time": "2022-03-17T18:29:50.072Z"
   },
   {
    "duration": 6,
    "start_time": "2022-03-17T18:34:09.505Z"
   },
   {
    "duration": 37,
    "start_time": "2022-03-17T18:34:09.876Z"
   },
   {
    "duration": 24,
    "start_time": "2022-03-17T18:39:16.325Z"
   },
   {
    "duration": 6,
    "start_time": "2022-03-17T18:39:19.793Z"
   },
   {
    "duration": 38,
    "start_time": "2022-03-17T18:39:20.060Z"
   },
   {
    "duration": 16,
    "start_time": "2022-03-17T18:39:20.408Z"
   },
   {
    "duration": 24,
    "start_time": "2022-03-17T18:39:50.130Z"
   },
   {
    "duration": 37,
    "start_time": "2022-03-17T18:40:10.726Z"
   },
   {
    "duration": 4,
    "start_time": "2022-03-17T18:40:59.318Z"
   },
   {
    "duration": 5,
    "start_time": "2022-03-17T18:41:10.638Z"
   },
   {
    "duration": 26,
    "start_time": "2022-03-17T18:41:24.335Z"
   },
   {
    "duration": 6,
    "start_time": "2022-03-17T18:41:24.690Z"
   },
   {
    "duration": 38,
    "start_time": "2022-03-17T18:41:26.701Z"
   },
   {
    "duration": 26,
    "start_time": "2022-03-17T18:41:27.089Z"
   },
   {
    "duration": 27,
    "start_time": "2022-03-17T18:41:40.343Z"
   },
   {
    "duration": 39,
    "start_time": "2022-03-17T18:41:42.004Z"
   },
   {
    "duration": 29,
    "start_time": "2022-03-17T18:41:42.382Z"
   },
   {
    "duration": 32,
    "start_time": "2022-03-17T18:41:49.543Z"
   },
   {
    "duration": 13,
    "start_time": "2022-03-17T18:43:30.660Z"
   },
   {
    "duration": 8,
    "start_time": "2022-03-17T18:44:32.879Z"
   },
   {
    "duration": 31,
    "start_time": "2022-03-17T18:45:16.175Z"
   },
   {
    "duration": 11,
    "start_time": "2022-03-17T18:45:17.229Z"
   },
   {
    "duration": 14,
    "start_time": "2022-03-17T18:45:17.519Z"
   },
   {
    "duration": 5,
    "start_time": "2022-03-17T18:45:18.037Z"
   },
   {
    "duration": 35,
    "start_time": "2022-03-17T18:45:29.576Z"
   },
   {
    "duration": 6,
    "start_time": "2022-03-17T18:45:30.143Z"
   },
   {
    "duration": 13,
    "start_time": "2022-03-17T18:45:30.588Z"
   },
   {
    "duration": 5,
    "start_time": "2022-03-17T18:45:31.037Z"
   },
   {
    "duration": 6,
    "start_time": "2022-03-17T18:46:19.317Z"
   },
   {
    "duration": 6,
    "start_time": "2022-03-17T18:46:23.670Z"
   },
   {
    "duration": 6,
    "start_time": "2022-03-17T18:46:29.152Z"
   },
   {
    "duration": 6,
    "start_time": "2022-03-17T18:47:40.534Z"
   },
   {
    "duration": 7,
    "start_time": "2022-03-17T18:48:04.914Z"
   },
   {
    "duration": 7,
    "start_time": "2022-03-17T18:48:23.664Z"
   },
   {
    "duration": 6,
    "start_time": "2022-03-17T18:48:33.868Z"
   },
   {
    "duration": 140,
    "start_time": "2022-03-17T18:49:27.650Z"
   },
   {
    "duration": 118,
    "start_time": "2022-03-17T18:49:33.676Z"
   },
   {
    "duration": 136,
    "start_time": "2022-03-17T18:49:41.479Z"
   },
   {
    "duration": 7,
    "start_time": "2022-03-17T18:52:03.699Z"
   },
   {
    "duration": 17,
    "start_time": "2022-03-17T18:52:22.549Z"
   },
   {
    "duration": 5,
    "start_time": "2022-03-17T18:52:44.400Z"
   },
   {
    "duration": 6,
    "start_time": "2022-03-17T18:52:48.444Z"
   },
   {
    "duration": 7,
    "start_time": "2022-03-17T18:54:03.724Z"
   },
   {
    "duration": 35,
    "start_time": "2022-03-17T18:54:39.840Z"
   },
   {
    "duration": 6,
    "start_time": "2022-03-17T18:55:32.867Z"
   },
   {
    "duration": 5,
    "start_time": "2022-03-17T18:55:36.310Z"
   },
   {
    "duration": 7,
    "start_time": "2022-03-17T18:55:58.261Z"
   },
   {
    "duration": 28,
    "start_time": "2022-03-17T19:00:07.631Z"
   },
   {
    "duration": 5,
    "start_time": "2022-03-17T19:00:25.065Z"
   },
   {
    "duration": 6,
    "start_time": "2022-03-17T19:00:38.450Z"
   },
   {
    "duration": 14,
    "start_time": "2022-03-17T19:01:06.404Z"
   },
   {
    "duration": 5,
    "start_time": "2022-03-17T19:01:10.355Z"
   },
   {
    "duration": 8,
    "start_time": "2022-03-17T19:02:38.096Z"
   },
   {
    "duration": 22,
    "start_time": "2022-03-17T19:02:38.727Z"
   },
   {
    "duration": 6,
    "start_time": "2022-03-17T19:02:42.533Z"
   },
   {
    "duration": 6,
    "start_time": "2022-03-17T19:02:46.102Z"
   },
   {
    "duration": 6,
    "start_time": "2022-03-17T19:14:12.919Z"
   },
   {
    "duration": 5,
    "start_time": "2022-03-17T19:15:21.299Z"
   },
   {
    "duration": 7,
    "start_time": "2022-03-17T19:15:34.980Z"
   },
   {
    "duration": 3594,
    "start_time": "2022-03-17T19:16:31.638Z"
   },
   {
    "duration": 49,
    "start_time": "2022-03-17T19:18:55.216Z"
   },
   {
    "duration": 8,
    "start_time": "2022-03-17T19:20:06.641Z"
   },
   {
    "duration": 49,
    "start_time": "2022-03-17T19:20:07.310Z"
   },
   {
    "duration": 6,
    "start_time": "2022-03-17T19:21:06.476Z"
   },
   {
    "duration": 45,
    "start_time": "2022-03-17T19:21:07.005Z"
   },
   {
    "duration": 124,
    "start_time": "2022-03-17T19:21:14.299Z"
   },
   {
    "duration": 5,
    "start_time": "2022-03-17T19:21:19.604Z"
   },
   {
    "duration": 51,
    "start_time": "2022-03-17T19:21:20.724Z"
   },
   {
    "duration": 6,
    "start_time": "2022-03-17T19:26:15.039Z"
   },
   {
    "duration": 35,
    "start_time": "2022-03-17T19:26:15.626Z"
   },
   {
    "duration": 6,
    "start_time": "2022-03-17T19:26:37.434Z"
   },
   {
    "duration": 37,
    "start_time": "2022-03-17T19:26:37.966Z"
   },
   {
    "duration": 9,
    "start_time": "2022-03-17T19:28:06.484Z"
   },
   {
    "duration": 14,
    "start_time": "2022-03-17T19:28:37.478Z"
   },
   {
    "duration": 6,
    "start_time": "2022-03-17T19:28:56.126Z"
   },
   {
    "duration": 47,
    "start_time": "2022-03-17T19:28:56.660Z"
   },
   {
    "duration": 13,
    "start_time": "2022-03-17T19:32:55.388Z"
   },
   {
    "duration": 9,
    "start_time": "2022-03-17T19:33:01.957Z"
   },
   {
    "duration": 15,
    "start_time": "2022-03-17T19:33:08.028Z"
   },
   {
    "duration": 10,
    "start_time": "2022-03-17T19:33:16.396Z"
   },
   {
    "duration": 5,
    "start_time": "2022-03-17T20:20:33.682Z"
   },
   {
    "duration": 43,
    "start_time": "2022-03-17T20:20:34.901Z"
   },
   {
    "duration": 5,
    "start_time": "2022-03-17T20:21:31.919Z"
   },
   {
    "duration": 26,
    "start_time": "2022-03-17T20:21:32.441Z"
   },
   {
    "duration": 7,
    "start_time": "2022-03-17T20:23:18.820Z"
   },
   {
    "duration": 23,
    "start_time": "2022-03-17T20:23:19.332Z"
   },
   {
    "duration": 11,
    "start_time": "2022-03-17T20:23:28.780Z"
   },
   {
    "duration": 26,
    "start_time": "2022-03-17T20:23:29.097Z"
   },
   {
    "duration": 8,
    "start_time": "2022-03-17T20:23:41.039Z"
   },
   {
    "duration": 27,
    "start_time": "2022-03-17T20:23:41.380Z"
   },
   {
    "duration": 5,
    "start_time": "2022-03-17T20:23:54.936Z"
   },
   {
    "duration": 25,
    "start_time": "2022-03-17T20:23:55.304Z"
   },
   {
    "duration": 6,
    "start_time": "2022-03-17T20:26:28.139Z"
   },
   {
    "duration": 27,
    "start_time": "2022-03-17T20:26:28.624Z"
   },
   {
    "duration": 6,
    "start_time": "2022-03-17T20:26:47.499Z"
   },
   {
    "duration": 24,
    "start_time": "2022-03-17T20:26:47.944Z"
   },
   {
    "duration": 6,
    "start_time": "2022-03-17T20:27:07.382Z"
   },
   {
    "duration": 25,
    "start_time": "2022-03-17T20:27:07.801Z"
   },
   {
    "duration": 6,
    "start_time": "2022-03-17T20:27:13.055Z"
   },
   {
    "duration": 23,
    "start_time": "2022-03-17T20:27:13.441Z"
   },
   {
    "duration": 8,
    "start_time": "2022-03-17T20:28:09.231Z"
   },
   {
    "duration": 8,
    "start_time": "2022-03-17T20:28:17.714Z"
   },
   {
    "duration": 17,
    "start_time": "2022-03-17T20:28:20.312Z"
   },
   {
    "duration": 16,
    "start_time": "2022-03-17T20:28:23.416Z"
   },
   {
    "duration": 6,
    "start_time": "2022-03-17T20:28:28.344Z"
   },
   {
    "duration": 6,
    "start_time": "2022-03-17T20:28:31.227Z"
   },
   {
    "duration": 8,
    "start_time": "2022-03-17T20:28:35.835Z"
   },
   {
    "duration": 9,
    "start_time": "2022-03-17T20:28:44.099Z"
   },
   {
    "duration": 15,
    "start_time": "2022-03-17T20:28:52.177Z"
   },
   {
    "duration": 20,
    "start_time": "2022-03-17T20:28:58.602Z"
   },
   {
    "duration": 22,
    "start_time": "2022-03-17T20:29:21.231Z"
   },
   {
    "duration": 9,
    "start_time": "2022-03-17T20:29:45.650Z"
   },
   {
    "duration": 9,
    "start_time": "2022-03-17T20:29:52.942Z"
   },
   {
    "duration": 19,
    "start_time": "2022-03-17T20:30:01.631Z"
   },
   {
    "duration": 1767,
    "start_time": "2022-03-17T20:30:52.991Z"
   },
   {
    "duration": 8,
    "start_time": "2022-03-17T20:31:01.782Z"
   },
   {
    "duration": 9,
    "start_time": "2022-03-17T20:31:05.211Z"
   },
   {
    "duration": 21,
    "start_time": "2022-03-17T20:31:08.362Z"
   },
   {
    "duration": 6,
    "start_time": "2022-03-17T20:31:28.044Z"
   },
   {
    "duration": 6,
    "start_time": "2022-03-17T20:31:32.375Z"
   },
   {
    "duration": 39,
    "start_time": "2022-03-17T20:31:32.638Z"
   },
   {
    "duration": 7,
    "start_time": "2022-03-17T20:32:38.076Z"
   },
   {
    "duration": 31,
    "start_time": "2022-03-17T20:32:38.428Z"
   },
   {
    "duration": 12,
    "start_time": "2022-03-17T20:33:53.084Z"
   },
   {
    "duration": 4,
    "start_time": "2022-03-17T20:33:56.939Z"
   },
   {
    "duration": 9,
    "start_time": "2022-03-17T20:34:01.153Z"
   },
   {
    "duration": 7,
    "start_time": "2022-03-17T20:34:09.619Z"
   },
   {
    "duration": 20,
    "start_time": "2022-03-17T20:34:18.762Z"
   },
   {
    "duration": 17,
    "start_time": "2022-03-17T20:34:27.939Z"
   },
   {
    "duration": 25,
    "start_time": "2022-03-17T20:34:30.368Z"
   },
   {
    "duration": 123,
    "start_time": "2022-03-17T20:34:36.629Z"
   },
   {
    "duration": 9,
    "start_time": "2022-03-17T20:34:40.165Z"
   },
   {
    "duration": 8,
    "start_time": "2022-03-17T20:34:45.970Z"
   },
   {
    "duration": 18,
    "start_time": "2022-03-17T20:34:51.579Z"
   },
   {
    "duration": 19,
    "start_time": "2022-03-17T20:35:55.883Z"
   },
   {
    "duration": 1139,
    "start_time": "2022-03-17T20:37:34.971Z"
   },
   {
    "duration": 8,
    "start_time": "2022-03-17T20:37:53.931Z"
   },
   {
    "duration": 7,
    "start_time": "2022-03-17T20:37:59.846Z"
   },
   {
    "duration": 9,
    "start_time": "2022-03-17T20:38:04.593Z"
   },
   {
    "duration": 8,
    "start_time": "2022-03-17T20:38:09.668Z"
   },
   {
    "duration": 1277,
    "start_time": "2022-03-17T20:38:15.622Z"
   },
   {
    "duration": 1182,
    "start_time": "2022-03-17T20:38:34.192Z"
   },
   {
    "duration": 10,
    "start_time": "2022-03-17T20:41:55.145Z"
   },
   {
    "duration": 17,
    "start_time": "2022-03-17T20:42:02.511Z"
   },
   {
    "duration": 17,
    "start_time": "2022-03-17T20:42:34.324Z"
   },
   {
    "duration": 10,
    "start_time": "2022-03-17T20:42:43.538Z"
   },
   {
    "duration": 4,
    "start_time": "2022-03-17T20:42:48.849Z"
   },
   {
    "duration": 9,
    "start_time": "2022-03-17T20:42:52.321Z"
   },
   {
    "duration": 123,
    "start_time": "2022-03-17T20:43:06.859Z"
   },
   {
    "duration": 9,
    "start_time": "2022-03-17T20:43:10.161Z"
   },
   {
    "duration": 11,
    "start_time": "2022-03-17T20:43:47.084Z"
   },
   {
    "duration": 10,
    "start_time": "2022-03-17T20:43:57.742Z"
   },
   {
    "duration": 15,
    "start_time": "2022-03-17T20:44:04.651Z"
   },
   {
    "duration": 11,
    "start_time": "2022-03-17T20:44:10.162Z"
   },
   {
    "duration": 9,
    "start_time": "2022-03-17T20:44:32.984Z"
   },
   {
    "duration": 39,
    "start_time": "2022-03-17T20:44:33.657Z"
   },
   {
    "duration": 6,
    "start_time": "2022-03-17T20:44:39.976Z"
   },
   {
    "duration": 51,
    "start_time": "2022-03-17T20:44:40.334Z"
   },
   {
    "duration": 9,
    "start_time": "2022-03-17T20:44:54.162Z"
   },
   {
    "duration": 27,
    "start_time": "2022-03-17T20:44:54.534Z"
   },
   {
    "duration": 11,
    "start_time": "2022-03-17T20:45:12.743Z"
   },
   {
    "duration": 12,
    "start_time": "2022-03-17T20:45:15.531Z"
   },
   {
    "duration": 10,
    "start_time": "2022-03-17T20:45:18.686Z"
   },
   {
    "duration": 16,
    "start_time": "2022-03-17T20:45:29.664Z"
   },
   {
    "duration": 9,
    "start_time": "2022-03-17T20:45:56.032Z"
   },
   {
    "duration": 17,
    "start_time": "2022-03-17T20:46:03.849Z"
   },
   {
    "duration": 17,
    "start_time": "2022-03-17T20:46:09.664Z"
   },
   {
    "duration": 1226,
    "start_time": "2022-03-17T20:46:16.388Z"
   },
   {
    "duration": 22,
    "start_time": "2022-03-17T20:46:20.221Z"
   },
   {
    "duration": 20,
    "start_time": "2022-03-17T20:46:22.455Z"
   },
   {
    "duration": 17,
    "start_time": "2022-03-17T20:46:25.469Z"
   },
   {
    "duration": 1070,
    "start_time": "2022-03-17T20:46:27.823Z"
   },
   {
    "duration": 10,
    "start_time": "2022-03-17T20:46:33.143Z"
   },
   {
    "duration": 9,
    "start_time": "2022-03-17T20:46:40.835Z"
   },
   {
    "duration": 6,
    "start_time": "2022-03-17T20:47:03.437Z"
   },
   {
    "duration": 24,
    "start_time": "2022-03-17T20:47:03.968Z"
   },
   {
    "duration": 7,
    "start_time": "2022-03-17T20:47:30.904Z"
   },
   {
    "duration": 26,
    "start_time": "2022-03-17T20:47:31.321Z"
   },
   {
    "duration": 17,
    "start_time": "2022-03-17T20:49:55.027Z"
   },
   {
    "duration": 20,
    "start_time": "2022-03-17T20:50:00.407Z"
   },
   {
    "duration": 5,
    "start_time": "2022-03-17T21:12:57.704Z"
   },
   {
    "duration": 54,
    "start_time": "2022-03-17T21:12:58.177Z"
   },
   {
    "duration": 7,
    "start_time": "2022-03-17T21:36:52.298Z"
   },
   {
    "duration": 37,
    "start_time": "2022-03-17T21:36:53.595Z"
   },
   {
    "duration": 2157,
    "start_time": "2022-03-17T21:37:05.071Z"
   },
   {
    "duration": 659,
    "start_time": "2022-03-17T21:37:07.231Z"
   },
   {
    "duration": 25,
    "start_time": "2022-03-17T21:37:07.893Z"
   },
   {
    "duration": 29,
    "start_time": "2022-03-17T21:37:07.922Z"
   },
   {
    "duration": 13,
    "start_time": "2022-03-17T21:37:07.983Z"
   },
   {
    "duration": 27,
    "start_time": "2022-03-17T21:37:07.998Z"
   },
   {
    "duration": 14,
    "start_time": "2022-03-17T21:37:08.027Z"
   },
   {
    "duration": 57,
    "start_time": "2022-03-17T21:37:08.044Z"
   },
   {
    "duration": 232,
    "start_time": "2022-03-17T21:37:08.103Z"
   },
   {
    "duration": 106,
    "start_time": "2022-03-17T21:37:08.339Z"
   },
   {
    "duration": 119,
    "start_time": "2022-03-17T21:37:08.447Z"
   },
   {
    "duration": 5,
    "start_time": "2022-03-17T21:37:08.568Z"
   },
   {
    "duration": 22,
    "start_time": "2022-03-17T21:37:08.583Z"
   },
   {
    "duration": 18,
    "start_time": "2022-03-17T21:37:08.607Z"
   },
   {
    "duration": 3998,
    "start_time": "2022-03-17T21:37:08.629Z"
   },
   {
    "duration": 5,
    "start_time": "2022-03-17T21:37:12.630Z"
   },
   {
    "duration": 46,
    "start_time": "2022-03-17T21:37:12.637Z"
   },
   {
    "duration": 164,
    "start_time": "2022-03-17T21:37:12.686Z"
   },
   {
    "duration": 10,
    "start_time": "2022-03-17T21:37:12.853Z"
   },
   {
    "duration": 36,
    "start_time": "2022-03-17T21:37:12.884Z"
   },
   {
    "duration": 9,
    "start_time": "2022-03-17T21:37:12.923Z"
   },
   {
    "duration": 11,
    "start_time": "2022-03-17T21:37:12.935Z"
   },
   {
    "duration": 211,
    "start_time": "2022-03-17T21:37:12.948Z"
   },
   {
    "duration": 8,
    "start_time": "2022-03-17T21:37:30.078Z"
   },
   {
    "duration": 59,
    "start_time": "2022-03-17T21:37:30.815Z"
   },
   {
    "duration": 8,
    "start_time": "2022-03-17T21:37:37.669Z"
   },
   {
    "duration": 100,
    "start_time": "2022-03-17T21:37:37.995Z"
   },
   {
    "duration": 15,
    "start_time": "2022-03-17T21:38:28.632Z"
   },
   {
    "duration": 14,
    "start_time": "2022-03-17T21:40:04.716Z"
   },
   {
    "duration": 10,
    "start_time": "2022-03-17T21:40:09.520Z"
   },
   {
    "duration": 19,
    "start_time": "2022-03-17T21:40:15.352Z"
   },
   {
    "duration": 8,
    "start_time": "2022-03-17T21:40:26.318Z"
   },
   {
    "duration": 7,
    "start_time": "2022-03-17T21:40:29.716Z"
   },
   {
    "duration": 9,
    "start_time": "2022-03-17T21:40:34.970Z"
   },
   {
    "duration": 7,
    "start_time": "2022-03-17T21:40:47.188Z"
   },
   {
    "duration": 28,
    "start_time": "2022-03-17T21:41:35.840Z"
   },
   {
    "duration": 8,
    "start_time": "2022-03-17T21:42:04.409Z"
   },
   {
    "duration": 86,
    "start_time": "2022-03-17T21:42:04.790Z"
   },
   {
    "duration": 33,
    "start_time": "2022-03-17T21:42:05.662Z"
   },
   {
    "duration": 5,
    "start_time": "2022-03-17T21:42:19.459Z"
   },
   {
    "duration": 47,
    "start_time": "2022-03-17T21:42:19.830Z"
   },
   {
    "duration": 30,
    "start_time": "2022-03-17T21:42:20.302Z"
   },
   {
    "duration": 29,
    "start_time": "2022-03-17T21:42:55.542Z"
   },
   {
    "duration": 28,
    "start_time": "2022-03-17T21:43:10.199Z"
   },
   {
    "duration": 7,
    "start_time": "2022-03-17T21:43:14.378Z"
   },
   {
    "duration": 70,
    "start_time": "2022-03-17T21:43:14.776Z"
   },
   {
    "duration": 25,
    "start_time": "2022-03-17T21:43:15.064Z"
   },
   {
    "duration": 11,
    "start_time": "2022-03-17T21:47:18.889Z"
   },
   {
    "duration": 22,
    "start_time": "2022-03-17T21:47:38.188Z"
   },
   {
    "duration": 12,
    "start_time": "2022-03-17T21:47:38.646Z"
   },
   {
    "duration": 8,
    "start_time": "2022-03-17T21:47:52.558Z"
   },
   {
    "duration": 21,
    "start_time": "2022-03-17T21:48:12.122Z"
   },
   {
    "duration": 16,
    "start_time": "2022-03-17T21:48:21.881Z"
   },
   {
    "duration": 6,
    "start_time": "2022-03-17T21:48:26.296Z"
   },
   {
    "duration": 5,
    "start_time": "2022-03-17T21:51:43.349Z"
   },
   {
    "duration": 7,
    "start_time": "2022-03-17T21:52:53.540Z"
   },
   {
    "duration": 8,
    "start_time": "2022-03-17T21:52:59.626Z"
   },
   {
    "duration": 71,
    "start_time": "2022-03-17T21:55:22.303Z"
   },
   {
    "duration": 22,
    "start_time": "2022-03-17T21:55:22.796Z"
   },
   {
    "duration": 3,
    "start_time": "2022-03-17T21:55:23.118Z"
   },
   {
    "duration": 20,
    "start_time": "2022-03-17T21:55:23.468Z"
   },
   {
    "duration": 8,
    "start_time": "2022-03-17T21:55:23.852Z"
   },
   {
    "duration": 13,
    "start_time": "2022-03-17T21:55:24.454Z"
   },
   {
    "duration": 5,
    "start_time": "2022-03-17T21:55:46.140Z"
   },
   {
    "duration": 4,
    "start_time": "2022-03-17T21:56:15.267Z"
   },
   {
    "duration": 17,
    "start_time": "2022-03-17T21:56:15.430Z"
   },
   {
    "duration": 7,
    "start_time": "2022-03-17T21:56:15.593Z"
   },
   {
    "duration": 3,
    "start_time": "2022-03-17T21:56:15.770Z"
   },
   {
    "duration": 4,
    "start_time": "2022-03-17T21:57:20.004Z"
   },
   {
    "duration": 8,
    "start_time": "2022-03-17T21:57:26.154Z"
   },
   {
    "duration": 5,
    "start_time": "2022-03-17T21:57:48.231Z"
   },
   {
    "duration": 7,
    "start_time": "2022-03-17T21:59:50.411Z"
   },
   {
    "duration": 6,
    "start_time": "2022-03-17T22:00:28.333Z"
   },
   {
    "duration": 6,
    "start_time": "2022-03-17T22:00:33.362Z"
   },
   {
    "duration": 6,
    "start_time": "2022-03-17T22:00:38.254Z"
   },
   {
    "duration": 1831,
    "start_time": "2022-03-17T22:02:58.512Z"
   },
   {
    "duration": 467,
    "start_time": "2022-03-17T22:03:00.346Z"
   },
   {
    "duration": 23,
    "start_time": "2022-03-17T22:03:00.815Z"
   },
   {
    "duration": 42,
    "start_time": "2022-03-17T22:03:00.842Z"
   },
   {
    "duration": 12,
    "start_time": "2022-03-17T22:03:00.886Z"
   },
   {
    "duration": 34,
    "start_time": "2022-03-17T22:03:00.901Z"
   },
   {
    "duration": 13,
    "start_time": "2022-03-17T22:03:00.937Z"
   },
   {
    "duration": 44,
    "start_time": "2022-03-17T22:03:00.952Z"
   },
   {
    "duration": 211,
    "start_time": "2022-03-17T22:03:00.998Z"
   },
   {
    "duration": 92,
    "start_time": "2022-03-17T22:03:01.213Z"
   },
   {
    "duration": 119,
    "start_time": "2022-03-17T22:03:01.307Z"
   },
   {
    "duration": 6,
    "start_time": "2022-03-17T22:03:01.428Z"
   },
   {
    "duration": 29,
    "start_time": "2022-03-17T22:03:01.436Z"
   },
   {
    "duration": 17,
    "start_time": "2022-03-17T22:03:01.467Z"
   },
   {
    "duration": 3940,
    "start_time": "2022-03-17T22:03:01.487Z"
   },
   {
    "duration": 6,
    "start_time": "2022-03-17T22:03:05.430Z"
   },
   {
    "duration": 34,
    "start_time": "2022-03-17T22:03:05.439Z"
   },
   {
    "duration": 130,
    "start_time": "2022-03-17T22:03:05.476Z"
   },
   {
    "duration": 8,
    "start_time": "2022-03-17T22:03:05.608Z"
   },
   {
    "duration": 31,
    "start_time": "2022-03-17T22:03:05.620Z"
   },
   {
    "duration": 30,
    "start_time": "2022-03-17T22:03:05.653Z"
   },
   {
    "duration": 11,
    "start_time": "2022-03-17T22:03:05.685Z"
   },
   {
    "duration": 48,
    "start_time": "2022-03-17T22:03:05.698Z"
   },
   {
    "duration": 53,
    "start_time": "2022-03-17T22:03:05.749Z"
   },
   {
    "duration": 4,
    "start_time": "2022-03-17T22:03:05.804Z"
   },
   {
    "duration": 82,
    "start_time": "2022-03-17T22:03:05.810Z"
   },
   {
    "duration": 106,
    "start_time": "2022-03-17T22:03:05.985Z"
   },
   {
    "duration": 4,
    "start_time": "2022-03-17T22:03:06.096Z"
   },
   {
    "duration": 6,
    "start_time": "2022-03-17T22:03:06.102Z"
   },
   {
    "duration": 11,
    "start_time": "2022-03-17T22:03:06.110Z"
   },
   {
    "duration": 6,
    "start_time": "2022-03-17T22:03:38.478Z"
   },
   {
    "duration": 8,
    "start_time": "2022-03-17T22:03:45.700Z"
   },
   {
    "duration": 4,
    "start_time": "2022-03-17T22:04:53.723Z"
   },
   {
    "duration": 6,
    "start_time": "2022-03-17T22:04:54.192Z"
   },
   {
    "duration": 7,
    "start_time": "2022-03-17T22:08:00.661Z"
   },
   {
    "duration": 77,
    "start_time": "2022-03-17T22:08:01.058Z"
   },
   {
    "duration": 24,
    "start_time": "2022-03-17T22:08:01.332Z"
   },
   {
    "duration": 4,
    "start_time": "2022-03-17T22:08:01.532Z"
   },
   {
    "duration": 16,
    "start_time": "2022-03-17T22:08:01.808Z"
   },
   {
    "duration": 7,
    "start_time": "2022-03-17T22:08:02.243Z"
   },
   {
    "duration": 5,
    "start_time": "2022-03-17T22:08:02.809Z"
   },
   {
    "duration": 4,
    "start_time": "2022-03-17T22:08:03.515Z"
   },
   {
    "duration": 5,
    "start_time": "2022-03-17T22:08:04.270Z"
   },
   {
    "duration": 6,
    "start_time": "2022-03-17T22:08:44.232Z"
   },
   {
    "duration": 5,
    "start_time": "2022-03-17T22:08:44.452Z"
   },
   {
    "duration": 5,
    "start_time": "2022-03-17T22:08:44.633Z"
   },
   {
    "duration": 6,
    "start_time": "2022-03-17T22:08:44.804Z"
   },
   {
    "duration": 6,
    "start_time": "2022-03-17T22:08:53.137Z"
   },
   {
    "duration": 41,
    "start_time": "2022-03-17T22:08:53.341Z"
   },
   {
    "duration": 27,
    "start_time": "2022-03-17T22:08:53.520Z"
   },
   {
    "duration": 3,
    "start_time": "2022-03-17T22:08:53.697Z"
   },
   {
    "duration": 23,
    "start_time": "2022-03-17T22:08:54.075Z"
   },
   {
    "duration": 6,
    "start_time": "2022-03-17T22:08:54.596Z"
   },
   {
    "duration": 4,
    "start_time": "2022-03-17T22:08:55.324Z"
   },
   {
    "duration": 5,
    "start_time": "2022-03-17T22:08:55.647Z"
   },
   {
    "duration": 8,
    "start_time": "2022-03-17T22:08:56.183Z"
   },
   {
    "duration": 7,
    "start_time": "2022-03-17T22:09:10.529Z"
   },
   {
    "duration": 4,
    "start_time": "2022-03-17T22:09:10.810Z"
   },
   {
    "duration": 5,
    "start_time": "2022-03-17T22:09:10.995Z"
   },
   {
    "duration": 8,
    "start_time": "2022-03-17T22:09:11.183Z"
   },
   {
    "duration": 5,
    "start_time": "2022-03-17T22:11:41.932Z"
   },
   {
    "duration": 8,
    "start_time": "2022-03-17T22:12:39.548Z"
   },
   {
    "duration": 5,
    "start_time": "2022-03-17T22:12:41.532Z"
   },
   {
    "duration": 149,
    "start_time": "2022-03-17T22:13:50.706Z"
   },
   {
    "duration": 4,
    "start_time": "2022-03-17T22:14:03.525Z"
   },
   {
    "duration": 4,
    "start_time": "2022-03-17T22:14:03.883Z"
   },
   {
    "duration": 6,
    "start_time": "2022-03-17T22:14:04.444Z"
   },
   {
    "duration": 6,
    "start_time": "2022-03-17T22:14:10.830Z"
   },
   {
    "duration": 6,
    "start_time": "2022-03-17T22:14:15.686Z"
   },
   {
    "duration": 7,
    "start_time": "2022-03-17T22:14:19.535Z"
   },
   {
    "duration": 6,
    "start_time": "2022-03-17T22:18:32.778Z"
   },
   {
    "duration": 6,
    "start_time": "2022-03-17T22:18:38.836Z"
   },
   {
    "duration": 6,
    "start_time": "2022-03-17T22:23:04.875Z"
   },
   {
    "duration": 84,
    "start_time": "2022-03-17T22:23:05.243Z"
   },
   {
    "duration": 23,
    "start_time": "2022-03-17T22:23:05.447Z"
   },
   {
    "duration": 4,
    "start_time": "2022-03-17T22:23:05.631Z"
   },
   {
    "duration": 20,
    "start_time": "2022-03-17T22:23:06.065Z"
   },
   {
    "duration": 7,
    "start_time": "2022-03-17T22:23:06.284Z"
   },
   {
    "duration": 7,
    "start_time": "2022-03-17T22:23:06.430Z"
   },
   {
    "duration": 4,
    "start_time": "2022-03-17T22:23:06.591Z"
   },
   {
    "duration": 6,
    "start_time": "2022-03-17T22:23:06.756Z"
   },
   {
    "duration": 6,
    "start_time": "2022-03-17T22:23:08.659Z"
   },
   {
    "duration": 6,
    "start_time": "2022-03-17T22:24:02.989Z"
   },
   {
    "duration": 68,
    "start_time": "2022-03-17T22:24:03.158Z"
   },
   {
    "duration": 23,
    "start_time": "2022-03-17T22:24:03.322Z"
   },
   {
    "duration": 4,
    "start_time": "2022-03-17T22:24:03.479Z"
   },
   {
    "duration": 14,
    "start_time": "2022-03-17T22:24:03.639Z"
   },
   {
    "duration": 9,
    "start_time": "2022-03-17T22:24:03.783Z"
   },
   {
    "duration": 6,
    "start_time": "2022-03-17T22:24:03.962Z"
   },
   {
    "duration": 4,
    "start_time": "2022-03-17T22:24:04.137Z"
   },
   {
    "duration": 4,
    "start_time": "2022-03-17T22:24:04.297Z"
   },
   {
    "duration": 6,
    "start_time": "2022-03-17T22:24:04.432Z"
   },
   {
    "duration": 6,
    "start_time": "2022-03-17T22:24:29.599Z"
   },
   {
    "duration": 44,
    "start_time": "2022-03-17T22:24:29.759Z"
   },
   {
    "duration": 27,
    "start_time": "2022-03-17T22:24:29.912Z"
   },
   {
    "duration": 3,
    "start_time": "2022-03-17T22:24:30.131Z"
   },
   {
    "duration": 69,
    "start_time": "2022-03-17T22:24:30.213Z"
   },
   {
    "duration": 9,
    "start_time": "2022-03-17T22:24:31.813Z"
   },
   {
    "duration": 7,
    "start_time": "2022-03-17T22:24:31.826Z"
   },
   {
    "duration": 16,
    "start_time": "2022-03-17T22:24:31.835Z"
   },
   {
    "duration": 9,
    "start_time": "2022-03-17T22:24:31.854Z"
   },
   {
    "duration": 6,
    "start_time": "2022-03-17T22:24:32.420Z"
   },
   {
    "duration": 6,
    "start_time": "2022-03-17T22:24:45.300Z"
   },
   {
    "duration": 9,
    "start_time": "2022-03-18T16:27:30.442Z"
   },
   {
    "duration": 3,
    "start_time": "2022-03-18T16:40:13.577Z"
   },
   {
    "duration": 9,
    "start_time": "2022-03-18T16:40:18.573Z"
   },
   {
    "duration": 4,
    "start_time": "2022-03-18T16:48:35.556Z"
   },
   {
    "duration": 4,
    "start_time": "2022-03-18T16:48:35.897Z"
   },
   {
    "duration": 3,
    "start_time": "2022-03-18T16:48:59.155Z"
   },
   {
    "duration": 5,
    "start_time": "2022-03-18T16:49:00.458Z"
   },
   {
    "duration": 4,
    "start_time": "2022-03-18T16:49:14.671Z"
   },
   {
    "duration": 5,
    "start_time": "2022-03-18T16:49:15.705Z"
   },
   {
    "duration": 48,
    "start_time": "2022-03-18T16:50:34.067Z"
   },
   {
    "duration": 3,
    "start_time": "2022-03-18T16:50:37.037Z"
   },
   {
    "duration": 3,
    "start_time": "2022-03-18T16:50:37.716Z"
   },
   {
    "duration": 3,
    "start_time": "2022-03-18T16:50:52.312Z"
   },
   {
    "duration": 4,
    "start_time": "2022-03-18T16:50:52.454Z"
   },
   {
    "duration": 3,
    "start_time": "2022-03-18T16:53:56.071Z"
   },
   {
    "duration": 5,
    "start_time": "2022-03-18T16:53:56.598Z"
   },
   {
    "duration": 3,
    "start_time": "2022-03-18T16:56:20.988Z"
   },
   {
    "duration": 4,
    "start_time": "2022-03-18T16:56:21.492Z"
   },
   {
    "duration": 3,
    "start_time": "2022-03-18T16:56:27.682Z"
   },
   {
    "duration": 5,
    "start_time": "2022-03-18T16:56:28.469Z"
   },
   {
    "duration": 3,
    "start_time": "2022-03-18T16:56:39.222Z"
   },
   {
    "duration": 4,
    "start_time": "2022-03-18T16:56:39.548Z"
   },
   {
    "duration": 3,
    "start_time": "2022-03-18T16:57:50.666Z"
   },
   {
    "duration": 4,
    "start_time": "2022-03-18T16:57:50.982Z"
   },
   {
    "duration": 4,
    "start_time": "2022-03-18T16:58:01.252Z"
   },
   {
    "duration": 5,
    "start_time": "2022-03-18T16:58:01.590Z"
   },
   {
    "duration": 3,
    "start_time": "2022-03-18T17:04:14.236Z"
   },
   {
    "duration": 4,
    "start_time": "2022-03-18T17:04:14.653Z"
   },
   {
    "duration": 6,
    "start_time": "2022-03-18T17:06:53.902Z"
   },
   {
    "duration": 8,
    "start_time": "2022-03-18T17:07:00.081Z"
   },
   {
    "duration": 1901,
    "start_time": "2022-03-18T17:07:10.698Z"
   },
   {
    "duration": 422,
    "start_time": "2022-03-18T17:07:12.602Z"
   },
   {
    "duration": 16,
    "start_time": "2022-03-18T17:07:13.026Z"
   },
   {
    "duration": 19,
    "start_time": "2022-03-18T17:07:13.044Z"
   },
   {
    "duration": 45,
    "start_time": "2022-03-18T17:07:13.066Z"
   },
   {
    "duration": 29,
    "start_time": "2022-03-18T17:07:13.114Z"
   },
   {
    "duration": 13,
    "start_time": "2022-03-18T17:07:13.146Z"
   },
   {
    "duration": 48,
    "start_time": "2022-03-18T17:07:13.161Z"
   },
   {
    "duration": 229,
    "start_time": "2022-03-18T17:07:13.211Z"
   },
   {
    "duration": 91,
    "start_time": "2022-03-18T17:07:13.443Z"
   },
   {
    "duration": 109,
    "start_time": "2022-03-18T17:07:13.536Z"
   },
   {
    "duration": 5,
    "start_time": "2022-03-18T17:07:13.647Z"
   },
   {
    "duration": 22,
    "start_time": "2022-03-18T17:07:13.654Z"
   },
   {
    "duration": 24,
    "start_time": "2022-03-18T17:07:13.678Z"
   },
   {
    "duration": 3058,
    "start_time": "2022-03-18T17:07:13.704Z"
   },
   {
    "duration": 5,
    "start_time": "2022-03-18T17:07:16.764Z"
   },
   {
    "duration": 54,
    "start_time": "2022-03-18T17:07:16.771Z"
   },
   {
    "duration": 152,
    "start_time": "2022-03-18T17:07:16.828Z"
   },
   {
    "duration": 7,
    "start_time": "2022-03-18T17:07:16.983Z"
   },
   {
    "duration": 39,
    "start_time": "2022-03-18T17:07:17.002Z"
   },
   {
    "duration": 5,
    "start_time": "2022-03-18T17:07:17.044Z"
   },
   {
    "duration": 14,
    "start_time": "2022-03-18T17:07:17.050Z"
   },
   {
    "duration": 86,
    "start_time": "2022-03-18T17:07:17.066Z"
   },
   {
    "duration": 26,
    "start_time": "2022-03-18T17:07:17.154Z"
   },
   {
    "duration": 3,
    "start_time": "2022-03-18T17:07:17.182Z"
   },
   {
    "duration": 217,
    "start_time": "2022-03-18T17:07:17.186Z"
   },
   {
    "duration": 7,
    "start_time": "2022-03-18T17:07:17.406Z"
   },
   {
    "duration": 95,
    "start_time": "2022-03-18T17:07:17.417Z"
   },
   {
    "duration": 20,
    "start_time": "2022-03-18T17:07:17.514Z"
   },
   {
    "duration": 15,
    "start_time": "2022-03-18T17:07:17.536Z"
   },
   {
    "duration": 9,
    "start_time": "2022-03-18T17:07:17.553Z"
   },
   {
    "duration": 5,
    "start_time": "2022-03-18T17:07:17.565Z"
   },
   {
    "duration": 6,
    "start_time": "2022-03-18T17:07:17.573Z"
   },
   {
    "duration": 11,
    "start_time": "2022-03-18T17:07:17.581Z"
   },
   {
    "duration": 18,
    "start_time": "2022-03-18T17:07:17.594Z"
   },
   {
    "duration": 11,
    "start_time": "2022-03-18T17:09:39.763Z"
   },
   {
    "duration": 113,
    "start_time": "2022-03-18T17:10:05.819Z"
   },
   {
    "duration": 7,
    "start_time": "2022-03-18T17:10:10.654Z"
   },
   {
    "duration": 5,
    "start_time": "2022-03-18T17:22:48.249Z"
   },
   {
    "duration": 4,
    "start_time": "2022-03-18T17:22:53.611Z"
   },
   {
    "duration": 10,
    "start_time": "2022-03-18T17:27:29.783Z"
   },
   {
    "duration": 6,
    "start_time": "2022-03-18T17:28:18.278Z"
   },
   {
    "duration": 6,
    "start_time": "2022-03-18T17:28:24.821Z"
   },
   {
    "duration": 7,
    "start_time": "2022-03-18T17:28:47.002Z"
   },
   {
    "duration": 5,
    "start_time": "2022-03-18T17:28:53.473Z"
   },
   {
    "duration": 5,
    "start_time": "2022-03-18T17:28:59.778Z"
   },
   {
    "duration": 3,
    "start_time": "2022-03-18T17:29:58.057Z"
   },
   {
    "duration": 5,
    "start_time": "2022-03-18T17:29:58.468Z"
   },
   {
    "duration": 4,
    "start_time": "2022-03-18T17:30:13.425Z"
   },
   {
    "duration": 4,
    "start_time": "2022-03-18T17:30:13.879Z"
   },
   {
    "duration": 4,
    "start_time": "2022-03-18T17:35:55.213Z"
   },
   {
    "duration": 5,
    "start_time": "2022-03-18T17:36:03.266Z"
   },
   {
    "duration": 5,
    "start_time": "2022-03-18T17:36:23.877Z"
   },
   {
    "duration": 5,
    "start_time": "2022-03-18T17:36:45.406Z"
   },
   {
    "duration": 6,
    "start_time": "2022-03-18T17:38:00.329Z"
   },
   {
    "duration": 7,
    "start_time": "2022-03-18T17:38:12.446Z"
   },
   {
    "duration": 3,
    "start_time": "2022-03-18T17:53:12.909Z"
   },
   {
    "duration": 16,
    "start_time": "2022-03-18T17:59:02.348Z"
   },
   {
    "duration": 4,
    "start_time": "2022-03-18T17:59:31.877Z"
   },
   {
    "duration": 18,
    "start_time": "2022-03-18T17:59:32.388Z"
   },
   {
    "duration": 4,
    "start_time": "2022-03-18T17:59:54.431Z"
   },
   {
    "duration": 14,
    "start_time": "2022-03-18T17:59:54.611Z"
   },
   {
    "duration": 4,
    "start_time": "2022-03-18T18:00:04.263Z"
   },
   {
    "duration": 12,
    "start_time": "2022-03-18T18:00:04.618Z"
   },
   {
    "duration": 6,
    "start_time": "2022-03-18T18:55:17.291Z"
   },
   {
    "duration": 6,
    "start_time": "2022-03-18T18:55:24.137Z"
   },
   {
    "duration": 4,
    "start_time": "2022-03-18T18:55:39.104Z"
   },
   {
    "duration": 16,
    "start_time": "2022-03-18T18:55:39.378Z"
   },
   {
    "duration": 4,
    "start_time": "2022-03-18T18:55:39.713Z"
   },
   {
    "duration": 5,
    "start_time": "2022-03-18T18:56:02.313Z"
   },
   {
    "duration": 4,
    "start_time": "2022-03-18T19:02:04.016Z"
   },
   {
    "duration": 16,
    "start_time": "2022-03-18T19:02:04.563Z"
   },
   {
    "duration": 5,
    "start_time": "2022-03-18T19:02:05.030Z"
   },
   {
    "duration": 4,
    "start_time": "2022-03-18T19:03:10.483Z"
   },
   {
    "duration": 16,
    "start_time": "2022-03-18T19:03:10.839Z"
   },
   {
    "duration": 5,
    "start_time": "2022-03-18T19:03:11.099Z"
   },
   {
    "duration": 3,
    "start_time": "2022-03-18T19:05:43.962Z"
   },
   {
    "duration": 20,
    "start_time": "2022-03-18T19:05:44.230Z"
   },
   {
    "duration": 5,
    "start_time": "2022-03-18T19:05:44.634Z"
   },
   {
    "duration": 5,
    "start_time": "2022-03-18T19:06:08.478Z"
   },
   {
    "duration": 5,
    "start_time": "2022-03-18T19:06:16.174Z"
   },
   {
    "duration": 5,
    "start_time": "2022-03-18T19:08:29.298Z"
   },
   {
    "duration": 5,
    "start_time": "2022-03-18T19:14:05.880Z"
   },
   {
    "duration": 4,
    "start_time": "2022-03-18T19:14:11.332Z"
   },
   {
    "duration": 11,
    "start_time": "2022-03-18T19:14:18.301Z"
   },
   {
    "duration": 6,
    "start_time": "2022-03-18T19:14:31.947Z"
   },
   {
    "duration": 5,
    "start_time": "2022-03-18T19:16:54.257Z"
   },
   {
    "duration": 5,
    "start_time": "2022-03-18T19:16:58.736Z"
   },
   {
    "duration": 3,
    "start_time": "2022-03-18T19:38:15.511Z"
   },
   {
    "duration": 4,
    "start_time": "2022-03-18T19:44:22.170Z"
   },
   {
    "duration": 3,
    "start_time": "2022-03-18T20:00:59.765Z"
   },
   {
    "duration": 5,
    "start_time": "2022-03-18T20:08:11.199Z"
   },
   {
    "duration": 4,
    "start_time": "2022-03-18T20:09:04.095Z"
   },
   {
    "duration": 961,
    "start_time": "2022-03-18T20:11:44.764Z"
   },
   {
    "duration": 6,
    "start_time": "2022-03-18T20:14:22.133Z"
   },
   {
    "duration": 941,
    "start_time": "2022-03-18T20:14:22.446Z"
   },
   {
    "duration": 5,
    "start_time": "2022-03-18T20:14:36.066Z"
   },
   {
    "duration": 1333,
    "start_time": "2022-03-18T20:14:36.542Z"
   },
   {
    "duration": 7,
    "start_time": "2022-03-18T20:14:53.327Z"
   },
   {
    "duration": 941,
    "start_time": "2022-03-18T20:14:53.722Z"
   },
   {
    "duration": 176,
    "start_time": "2022-03-18T20:17:21.170Z"
   },
   {
    "duration": 6,
    "start_time": "2022-03-18T20:17:25.267Z"
   },
   {
    "duration": 999,
    "start_time": "2022-03-18T20:17:25.760Z"
   },
   {
    "duration": 5,
    "start_time": "2022-03-18T20:17:49.401Z"
   },
   {
    "duration": 922,
    "start_time": "2022-03-18T20:17:49.741Z"
   },
   {
    "duration": 4,
    "start_time": "2022-03-18T20:18:19.547Z"
   },
   {
    "duration": 5,
    "start_time": "2022-03-18T20:18:19.859Z"
   },
   {
    "duration": 2714,
    "start_time": "2022-03-18T20:18:20.422Z"
   },
   {
    "duration": 5,
    "start_time": "2022-03-18T20:18:27.466Z"
   },
   {
    "duration": 7,
    "start_time": "2022-03-18T20:20:09.191Z"
   },
   {
    "duration": 3824,
    "start_time": "2022-03-18T20:20:09.605Z"
   },
   {
    "duration": 6,
    "start_time": "2022-03-18T20:20:13.432Z"
   },
   {
    "duration": 5,
    "start_time": "2022-03-18T20:22:14.197Z"
   },
   {
    "duration": 2838,
    "start_time": "2022-03-18T20:22:14.579Z"
   },
   {
    "duration": 6,
    "start_time": "2022-03-18T20:22:17.419Z"
   },
   {
    "duration": 7,
    "start_time": "2022-03-18T20:24:46.388Z"
   },
   {
    "duration": 2907,
    "start_time": "2022-03-18T20:24:48.582Z"
   },
   {
    "duration": 6,
    "start_time": "2022-03-18T20:25:59.877Z"
   },
   {
    "duration": 4013,
    "start_time": "2022-03-18T20:26:00.139Z"
   },
   {
    "duration": 5,
    "start_time": "2022-03-18T20:26:28.202Z"
   },
   {
    "duration": 4535,
    "start_time": "2022-03-18T20:26:28.850Z"
   },
   {
    "duration": 6,
    "start_time": "2022-03-18T20:27:11.470Z"
   },
   {
    "duration": 2820,
    "start_time": "2022-03-18T20:27:11.713Z"
   },
   {
    "duration": 6,
    "start_time": "2022-03-18T20:27:27.226Z"
   },
   {
    "duration": 2866,
    "start_time": "2022-03-18T20:27:27.563Z"
   },
   {
    "duration": 7,
    "start_time": "2022-03-18T20:28:20.924Z"
   },
   {
    "duration": 3541,
    "start_time": "2022-03-18T20:28:21.488Z"
   },
   {
    "duration": 5,
    "start_time": "2022-03-18T20:28:33.626Z"
   },
   {
    "duration": 2813,
    "start_time": "2022-03-18T20:28:35.062Z"
   },
   {
    "duration": 5,
    "start_time": "2022-03-18T20:28:52.576Z"
   },
   {
    "duration": 2855,
    "start_time": "2022-03-18T20:28:54.914Z"
   },
   {
    "duration": 7,
    "start_time": "2022-03-18T20:29:14.558Z"
   },
   {
    "duration": 4480,
    "start_time": "2022-03-18T20:29:15.086Z"
   },
   {
    "duration": 4,
    "start_time": "2022-03-18T20:29:20.128Z"
   },
   {
    "duration": 5,
    "start_time": "2022-03-18T20:34:10.171Z"
   },
   {
    "duration": 15,
    "start_time": "2022-03-18T20:34:10.623Z"
   },
   {
    "duration": 5,
    "start_time": "2022-03-18T20:34:40.389Z"
   },
   {
    "duration": 2972,
    "start_time": "2022-03-18T20:34:40.942Z"
   },
   {
    "duration": 5,
    "start_time": "2022-03-18T20:34:45.403Z"
   },
   {
    "duration": 4,
    "start_time": "2022-03-18T20:41:38.301Z"
   },
   {
    "duration": 5,
    "start_time": "2022-03-18T20:41:44.597Z"
   },
   {
    "duration": 3015,
    "start_time": "2022-03-18T20:41:45.027Z"
   },
   {
    "duration": 4,
    "start_time": "2022-03-18T20:41:48.044Z"
   },
   {
    "duration": 4,
    "start_time": "2022-03-18T20:53:38.349Z"
   },
   {
    "duration": 17,
    "start_time": "2022-03-18T20:53:38.931Z"
   },
   {
    "duration": 5,
    "start_time": "2022-03-18T20:53:41.205Z"
   },
   {
    "duration": 3,
    "start_time": "2022-03-18T20:54:04.476Z"
   },
   {
    "duration": 5,
    "start_time": "2022-03-18T20:54:04.848Z"
   },
   {
    "duration": 4408,
    "start_time": "2022-03-18T20:54:05.361Z"
   },
   {
    "duration": 5,
    "start_time": "2022-03-18T20:54:09.772Z"
   },
   {
    "duration": 7,
    "start_time": "2022-03-18T20:57:41.435Z"
   },
   {
    "duration": 3042,
    "start_time": "2022-03-18T20:57:41.765Z"
   },
   {
    "duration": 5,
    "start_time": "2022-03-18T20:57:44.809Z"
   },
   {
    "duration": 3,
    "start_time": "2022-03-18T21:04:37.073Z"
   },
   {
    "duration": 16,
    "start_time": "2022-03-18T21:04:37.527Z"
   },
   {
    "duration": 6,
    "start_time": "2022-03-18T21:04:38.006Z"
   },
   {
    "duration": 4,
    "start_time": "2022-03-18T21:04:40.503Z"
   },
   {
    "duration": 5,
    "start_time": "2022-03-18T21:04:41.003Z"
   },
   {
    "duration": 2961,
    "start_time": "2022-03-18T21:04:41.614Z"
   },
   {
    "duration": 4,
    "start_time": "2022-03-18T21:04:44.578Z"
   },
   {
    "duration": 11,
    "start_time": "2022-03-18T21:17:18.816Z"
   },
   {
    "duration": 5,
    "start_time": "2022-03-18T21:17:39.393Z"
   },
   {
    "duration": 6,
    "start_time": "2022-03-18T21:18:09.982Z"
   },
   {
    "duration": 6,
    "start_time": "2022-03-18T21:18:25.856Z"
   },
   {
    "duration": 6,
    "start_time": "2022-03-18T21:19:21.553Z"
   },
   {
    "duration": 5,
    "start_time": "2022-03-18T21:20:42.704Z"
   },
   {
    "duration": 3,
    "start_time": "2022-03-18T21:23:33.141Z"
   },
   {
    "duration": 13,
    "start_time": "2022-03-18T21:38:16.665Z"
   },
   {
    "duration": 12,
    "start_time": "2022-03-18T21:38:40.474Z"
   },
   {
    "duration": 6,
    "start_time": "2022-03-18T21:39:00.003Z"
   },
   {
    "duration": 6,
    "start_time": "2022-03-18T21:39:15.898Z"
   },
   {
    "duration": 1694,
    "start_time": "2022-03-19T08:42:50.896Z"
   },
   {
    "duration": 451,
    "start_time": "2022-03-19T08:42:52.592Z"
   },
   {
    "duration": 24,
    "start_time": "2022-03-19T08:42:53.045Z"
   },
   {
    "duration": 17,
    "start_time": "2022-03-19T08:42:53.071Z"
   },
   {
    "duration": 9,
    "start_time": "2022-03-19T08:42:53.090Z"
   },
   {
    "duration": 17,
    "start_time": "2022-03-19T08:42:53.100Z"
   },
   {
    "duration": 8,
    "start_time": "2022-03-19T08:42:53.119Z"
   },
   {
    "duration": 42,
    "start_time": "2022-03-19T08:42:53.129Z"
   },
   {
    "duration": 134,
    "start_time": "2022-03-19T08:42:53.173Z"
   },
   {
    "duration": 67,
    "start_time": "2022-03-19T08:42:53.310Z"
   },
   {
    "duration": 92,
    "start_time": "2022-03-19T08:42:53.379Z"
   },
   {
    "duration": 4,
    "start_time": "2022-03-19T08:42:53.473Z"
   },
   {
    "duration": 27,
    "start_time": "2022-03-19T08:42:53.479Z"
   },
   {
    "duration": 8,
    "start_time": "2022-03-19T08:42:53.508Z"
   },
   {
    "duration": 2182,
    "start_time": "2022-03-19T08:42:53.517Z"
   },
   {
    "duration": 4,
    "start_time": "2022-03-19T08:42:55.701Z"
   },
   {
    "duration": 39,
    "start_time": "2022-03-19T08:42:55.706Z"
   },
   {
    "duration": 102,
    "start_time": "2022-03-19T08:42:55.747Z"
   },
   {
    "duration": 12,
    "start_time": "2022-03-19T08:42:55.850Z"
   },
   {
    "duration": 36,
    "start_time": "2022-03-19T08:42:55.864Z"
   },
   {
    "duration": 5,
    "start_time": "2022-03-19T08:42:55.901Z"
   },
   {
    "duration": 9,
    "start_time": "2022-03-19T08:42:55.908Z"
   },
   {
    "duration": 50,
    "start_time": "2022-03-19T08:42:55.918Z"
   },
   {
    "duration": 21,
    "start_time": "2022-03-19T08:42:55.969Z"
   },
   {
    "duration": 3,
    "start_time": "2022-03-19T08:42:55.992Z"
   },
   {
    "duration": 168,
    "start_time": "2022-03-19T08:42:55.996Z"
   },
   {
    "duration": 96,
    "start_time": "2022-03-19T08:42:56.167Z"
   },
   {
    "duration": 7,
    "start_time": "2022-03-19T08:42:56.270Z"
   },
   {
    "duration": 84,
    "start_time": "2022-03-19T08:42:56.279Z"
   },
   {
    "duration": 3,
    "start_time": "2022-03-19T08:42:56.365Z"
   },
   {
    "duration": 9,
    "start_time": "2022-03-19T08:42:56.370Z"
   },
   {
    "duration": 6,
    "start_time": "2022-03-19T08:42:56.380Z"
   },
   {
    "duration": 5,
    "start_time": "2022-03-19T08:42:56.388Z"
   },
   {
    "duration": 6,
    "start_time": "2022-03-19T08:42:56.394Z"
   },
   {
    "duration": 10,
    "start_time": "2022-03-19T08:42:56.401Z"
   },
   {
    "duration": 6,
    "start_time": "2022-03-19T08:42:56.412Z"
   },
   {
    "duration": 20,
    "start_time": "2022-03-19T08:42:56.420Z"
   },
   {
    "duration": 6,
    "start_time": "2022-03-19T08:42:56.462Z"
   },
   {
    "duration": 9,
    "start_time": "2022-03-19T08:42:56.469Z"
   },
   {
    "duration": 10,
    "start_time": "2022-03-19T08:42:56.479Z"
   },
   {
    "duration": 2696,
    "start_time": "2022-03-19T08:42:56.490Z"
   },
   {
    "duration": 4,
    "start_time": "2022-03-19T08:42:59.188Z"
   },
   {
    "duration": 7,
    "start_time": "2022-03-19T08:42:59.194Z"
   },
   {
    "duration": 139,
    "start_time": "2022-03-19T09:37:09.568Z"
   },
   {
    "duration": 104,
    "start_time": "2022-03-19T09:38:16.224Z"
   },
   {
    "duration": 115,
    "start_time": "2022-03-19T09:38:40.416Z"
   },
   {
    "duration": 106,
    "start_time": "2022-03-19T09:39:08.851Z"
   },
   {
    "duration": 14,
    "start_time": "2022-03-19T09:39:20.009Z"
   },
   {
    "duration": 9,
    "start_time": "2022-03-19T09:39:30.648Z"
   },
   {
    "duration": 4,
    "start_time": "2022-03-19T09:42:17.293Z"
   },
   {
    "duration": 4,
    "start_time": "2022-03-19T09:42:43.865Z"
   },
   {
    "duration": 5,
    "start_time": "2022-03-19T09:43:52.361Z"
   },
   {
    "duration": 6,
    "start_time": "2022-03-19T09:44:09.961Z"
   },
   {
    "duration": 23,
    "start_time": "2022-03-19T09:56:50.344Z"
   },
   {
    "duration": 63,
    "start_time": "2022-03-19T09:56:56.585Z"
   },
   {
    "duration": 25,
    "start_time": "2022-03-19T09:57:06.269Z"
   },
   {
    "duration": 125,
    "start_time": "2022-03-19T09:57:15.539Z"
   },
   {
    "duration": 50,
    "start_time": "2022-03-19T09:57:18.427Z"
   },
   {
    "duration": 32,
    "start_time": "2022-03-19T09:59:00.411Z"
   },
   {
    "duration": 17,
    "start_time": "2022-03-19T09:59:09.414Z"
   },
   {
    "duration": 38,
    "start_time": "2022-03-19T09:59:32.586Z"
   },
   {
    "duration": 19,
    "start_time": "2022-03-19T10:00:01.871Z"
   },
   {
    "duration": 38,
    "start_time": "2022-03-19T10:01:16.204Z"
   },
   {
    "duration": 39,
    "start_time": "2022-03-19T10:01:31.670Z"
   },
   {
    "duration": 38,
    "start_time": "2022-03-19T10:04:19.283Z"
   },
   {
    "duration": 109,
    "start_time": "2022-03-19T10:13:37.746Z"
   },
   {
    "duration": 10,
    "start_time": "2022-03-19T10:14:00.824Z"
   },
   {
    "duration": 9,
    "start_time": "2022-03-19T10:15:30.067Z"
   },
   {
    "duration": 6,
    "start_time": "2022-03-19T10:15:46.020Z"
   },
   {
    "duration": 6,
    "start_time": "2022-03-19T10:17:17.653Z"
   },
   {
    "duration": 9,
    "start_time": "2022-03-19T10:18:45.488Z"
   },
   {
    "duration": 7,
    "start_time": "2022-03-19T10:19:23.108Z"
   },
   {
    "duration": 581,
    "start_time": "2022-03-19T10:31:18.317Z"
   },
   {
    "duration": 616,
    "start_time": "2022-03-19T10:31:46.067Z"
   },
   {
    "duration": 466,
    "start_time": "2022-03-19T10:32:02.350Z"
   },
   {
    "duration": 465,
    "start_time": "2022-03-19T10:32:08.253Z"
   },
   {
    "duration": 603,
    "start_time": "2022-03-19T10:32:11.289Z"
   },
   {
    "duration": 582,
    "start_time": "2022-03-19T10:33:17.349Z"
   },
   {
    "duration": 586,
    "start_time": "2022-03-19T10:33:22.553Z"
   },
   {
    "duration": 103,
    "start_time": "2022-03-19T10:33:52.856Z"
   },
   {
    "duration": 570,
    "start_time": "2022-03-19T10:33:56.924Z"
   },
   {
    "duration": 677,
    "start_time": "2022-03-19T10:34:24.642Z"
   },
   {
    "duration": 564,
    "start_time": "2022-03-19T10:35:11.116Z"
   },
   {
    "duration": 706,
    "start_time": "2022-03-19T10:35:32.543Z"
   },
   {
    "duration": 645,
    "start_time": "2022-03-19T10:35:46.164Z"
   },
   {
    "duration": 682,
    "start_time": "2022-03-19T10:35:53.861Z"
   },
   {
    "duration": 542,
    "start_time": "2022-03-19T10:38:58.839Z"
   },
   {
    "duration": 12,
    "start_time": "2022-03-19T10:40:08.757Z"
   },
   {
    "duration": 1545,
    "start_time": "2022-03-19T10:48:19.341Z"
   },
   {
    "duration": 355,
    "start_time": "2022-03-19T10:48:20.888Z"
   },
   {
    "duration": 19,
    "start_time": "2022-03-19T10:48:21.245Z"
   },
   {
    "duration": 16,
    "start_time": "2022-03-19T10:48:21.266Z"
   },
   {
    "duration": 8,
    "start_time": "2022-03-19T10:48:21.284Z"
   },
   {
    "duration": 19,
    "start_time": "2022-03-19T10:48:21.294Z"
   },
   {
    "duration": 9,
    "start_time": "2022-03-19T10:48:21.314Z"
   },
   {
    "duration": 45,
    "start_time": "2022-03-19T10:48:21.325Z"
   },
   {
    "duration": 136,
    "start_time": "2022-03-19T10:48:21.371Z"
   },
   {
    "duration": 77,
    "start_time": "2022-03-19T10:48:21.510Z"
   },
   {
    "duration": 97,
    "start_time": "2022-03-19T10:48:21.589Z"
   },
   {
    "duration": 4,
    "start_time": "2022-03-19T10:48:21.688Z"
   },
   {
    "duration": 15,
    "start_time": "2022-03-19T10:48:21.694Z"
   },
   {
    "duration": 4,
    "start_time": "2022-03-19T10:48:21.712Z"
   },
   {
    "duration": 107,
    "start_time": "2022-03-19T10:48:21.718Z"
   },
   {
    "duration": 0,
    "start_time": "2022-03-19T10:48:21.827Z"
   },
   {
    "duration": 0,
    "start_time": "2022-03-19T10:48:21.829Z"
   },
   {
    "duration": 0,
    "start_time": "2022-03-19T10:48:21.830Z"
   },
   {
    "duration": 0,
    "start_time": "2022-03-19T10:48:21.831Z"
   },
   {
    "duration": 0,
    "start_time": "2022-03-19T10:48:21.832Z"
   },
   {
    "duration": 0,
    "start_time": "2022-03-19T10:48:21.833Z"
   },
   {
    "duration": 0,
    "start_time": "2022-03-19T10:48:21.834Z"
   },
   {
    "duration": 0,
    "start_time": "2022-03-19T10:48:21.835Z"
   },
   {
    "duration": 0,
    "start_time": "2022-03-19T10:48:21.837Z"
   },
   {
    "duration": 0,
    "start_time": "2022-03-19T10:48:21.838Z"
   },
   {
    "duration": 0,
    "start_time": "2022-03-19T10:48:21.839Z"
   },
   {
    "duration": 0,
    "start_time": "2022-03-19T10:48:21.840Z"
   },
   {
    "duration": 0,
    "start_time": "2022-03-19T10:48:21.841Z"
   },
   {
    "duration": 0,
    "start_time": "2022-03-19T10:48:21.842Z"
   },
   {
    "duration": 0,
    "start_time": "2022-03-19T10:48:21.843Z"
   },
   {
    "duration": 0,
    "start_time": "2022-03-19T10:48:21.844Z"
   },
   {
    "duration": 0,
    "start_time": "2022-03-19T10:48:21.845Z"
   },
   {
    "duration": 0,
    "start_time": "2022-03-19T10:48:21.846Z"
   },
   {
    "duration": 0,
    "start_time": "2022-03-19T10:48:21.847Z"
   },
   {
    "duration": 0,
    "start_time": "2022-03-19T10:48:21.848Z"
   },
   {
    "duration": 0,
    "start_time": "2022-03-19T10:48:21.849Z"
   },
   {
    "duration": 0,
    "start_time": "2022-03-19T10:48:21.850Z"
   },
   {
    "duration": 0,
    "start_time": "2022-03-19T10:48:21.851Z"
   },
   {
    "duration": 0,
    "start_time": "2022-03-19T10:48:21.852Z"
   },
   {
    "duration": 0,
    "start_time": "2022-03-19T10:48:21.853Z"
   },
   {
    "duration": 0,
    "start_time": "2022-03-19T10:48:21.854Z"
   },
   {
    "duration": 0,
    "start_time": "2022-03-19T10:48:21.856Z"
   },
   {
    "duration": 0,
    "start_time": "2022-03-19T10:48:21.857Z"
   },
   {
    "duration": 0,
    "start_time": "2022-03-19T10:48:21.858Z"
   },
   {
    "duration": 0,
    "start_time": "2022-03-19T10:48:21.859Z"
   },
   {
    "duration": 0,
    "start_time": "2022-03-19T10:48:21.860Z"
   },
   {
    "duration": 0,
    "start_time": "2022-03-19T10:48:21.861Z"
   },
   {
    "duration": 0,
    "start_time": "2022-03-19T10:48:21.862Z"
   },
   {
    "duration": 1488,
    "start_time": "2022-03-19T10:48:40.550Z"
   },
   {
    "duration": 347,
    "start_time": "2022-03-19T10:48:42.040Z"
   },
   {
    "duration": 15,
    "start_time": "2022-03-19T10:48:42.389Z"
   },
   {
    "duration": 22,
    "start_time": "2022-03-19T10:48:42.406Z"
   },
   {
    "duration": 10,
    "start_time": "2022-03-19T10:48:42.430Z"
   },
   {
    "duration": 41,
    "start_time": "2022-03-19T10:48:42.442Z"
   },
   {
    "duration": 11,
    "start_time": "2022-03-19T10:48:42.485Z"
   },
   {
    "duration": 20,
    "start_time": "2022-03-19T10:48:42.498Z"
   },
   {
    "duration": 157,
    "start_time": "2022-03-19T10:48:42.520Z"
   },
   {
    "duration": 59,
    "start_time": "2022-03-19T10:48:42.680Z"
   },
   {
    "duration": 100,
    "start_time": "2022-03-19T10:48:42.740Z"
   },
   {
    "duration": 3,
    "start_time": "2022-03-19T10:48:42.842Z"
   },
   {
    "duration": 29,
    "start_time": "2022-03-19T10:48:42.847Z"
   },
   {
    "duration": 7,
    "start_time": "2022-03-19T10:48:42.878Z"
   },
   {
    "duration": 110,
    "start_time": "2022-03-19T10:48:42.887Z"
   },
   {
    "duration": 0,
    "start_time": "2022-03-19T10:48:42.999Z"
   },
   {
    "duration": 0,
    "start_time": "2022-03-19T10:48:43.000Z"
   },
   {
    "duration": 0,
    "start_time": "2022-03-19T10:48:43.002Z"
   },
   {
    "duration": 0,
    "start_time": "2022-03-19T10:48:43.003Z"
   },
   {
    "duration": 0,
    "start_time": "2022-03-19T10:48:43.004Z"
   },
   {
    "duration": 0,
    "start_time": "2022-03-19T10:48:43.004Z"
   },
   {
    "duration": 0,
    "start_time": "2022-03-19T10:48:43.005Z"
   },
   {
    "duration": 0,
    "start_time": "2022-03-19T10:48:43.006Z"
   },
   {
    "duration": 0,
    "start_time": "2022-03-19T10:48:43.007Z"
   },
   {
    "duration": 0,
    "start_time": "2022-03-19T10:48:43.008Z"
   },
   {
    "duration": 0,
    "start_time": "2022-03-19T10:48:43.009Z"
   },
   {
    "duration": 0,
    "start_time": "2022-03-19T10:48:43.010Z"
   },
   {
    "duration": 0,
    "start_time": "2022-03-19T10:48:43.011Z"
   },
   {
    "duration": 0,
    "start_time": "2022-03-19T10:48:43.012Z"
   },
   {
    "duration": 0,
    "start_time": "2022-03-19T10:48:43.013Z"
   },
   {
    "duration": 0,
    "start_time": "2022-03-19T10:48:43.013Z"
   },
   {
    "duration": 0,
    "start_time": "2022-03-19T10:48:43.014Z"
   },
   {
    "duration": 0,
    "start_time": "2022-03-19T10:48:43.015Z"
   },
   {
    "duration": 0,
    "start_time": "2022-03-19T10:48:43.016Z"
   },
   {
    "duration": 0,
    "start_time": "2022-03-19T10:48:43.017Z"
   },
   {
    "duration": 0,
    "start_time": "2022-03-19T10:48:43.018Z"
   },
   {
    "duration": 0,
    "start_time": "2022-03-19T10:48:43.019Z"
   },
   {
    "duration": 0,
    "start_time": "2022-03-19T10:48:43.020Z"
   },
   {
    "duration": 1,
    "start_time": "2022-03-19T10:48:43.020Z"
   },
   {
    "duration": 0,
    "start_time": "2022-03-19T10:48:43.021Z"
   },
   {
    "duration": 0,
    "start_time": "2022-03-19T10:48:43.022Z"
   },
   {
    "duration": 0,
    "start_time": "2022-03-19T10:48:43.023Z"
   },
   {
    "duration": 0,
    "start_time": "2022-03-19T10:48:43.024Z"
   },
   {
    "duration": 0,
    "start_time": "2022-03-19T10:48:43.025Z"
   },
   {
    "duration": 0,
    "start_time": "2022-03-19T10:48:43.026Z"
   },
   {
    "duration": 0,
    "start_time": "2022-03-19T10:48:43.027Z"
   },
   {
    "duration": 0,
    "start_time": "2022-03-19T10:48:43.028Z"
   },
   {
    "duration": 0,
    "start_time": "2022-03-19T10:48:43.029Z"
   },
   {
    "duration": 1513,
    "start_time": "2022-03-19T10:49:34.079Z"
   },
   {
    "duration": 338,
    "start_time": "2022-03-19T10:49:35.594Z"
   },
   {
    "duration": 12,
    "start_time": "2022-03-19T10:49:35.934Z"
   },
   {
    "duration": 28,
    "start_time": "2022-03-19T10:49:35.948Z"
   },
   {
    "duration": 9,
    "start_time": "2022-03-19T10:49:35.977Z"
   },
   {
    "duration": 19,
    "start_time": "2022-03-19T10:49:35.988Z"
   },
   {
    "duration": 9,
    "start_time": "2022-03-19T10:49:36.009Z"
   },
   {
    "duration": 20,
    "start_time": "2022-03-19T10:49:36.020Z"
   },
   {
    "duration": 156,
    "start_time": "2022-03-19T10:49:36.041Z"
   },
   {
    "duration": 78,
    "start_time": "2022-03-19T10:49:36.199Z"
   },
   {
    "duration": 85,
    "start_time": "2022-03-19T10:49:36.278Z"
   },
   {
    "duration": 4,
    "start_time": "2022-03-19T10:49:36.365Z"
   },
   {
    "duration": 17,
    "start_time": "2022-03-19T10:49:36.371Z"
   },
   {
    "duration": 6,
    "start_time": "2022-03-19T10:49:36.389Z"
   },
   {
    "duration": 104,
    "start_time": "2022-03-19T10:49:36.397Z"
   },
   {
    "duration": 0,
    "start_time": "2022-03-19T10:49:36.503Z"
   },
   {
    "duration": 0,
    "start_time": "2022-03-19T10:49:36.504Z"
   },
   {
    "duration": 0,
    "start_time": "2022-03-19T10:49:36.505Z"
   },
   {
    "duration": 0,
    "start_time": "2022-03-19T10:49:36.506Z"
   },
   {
    "duration": 0,
    "start_time": "2022-03-19T10:49:36.507Z"
   },
   {
    "duration": 0,
    "start_time": "2022-03-19T10:49:36.508Z"
   },
   {
    "duration": 0,
    "start_time": "2022-03-19T10:49:36.508Z"
   },
   {
    "duration": 0,
    "start_time": "2022-03-19T10:49:36.509Z"
   },
   {
    "duration": 1,
    "start_time": "2022-03-19T10:49:36.510Z"
   },
   {
    "duration": 0,
    "start_time": "2022-03-19T10:49:36.512Z"
   },
   {
    "duration": 0,
    "start_time": "2022-03-19T10:49:36.513Z"
   },
   {
    "duration": 0,
    "start_time": "2022-03-19T10:49:36.514Z"
   },
   {
    "duration": 0,
    "start_time": "2022-03-19T10:49:36.515Z"
   },
   {
    "duration": 0,
    "start_time": "2022-03-19T10:49:36.516Z"
   },
   {
    "duration": 0,
    "start_time": "2022-03-19T10:49:36.517Z"
   },
   {
    "duration": 0,
    "start_time": "2022-03-19T10:49:36.518Z"
   },
   {
    "duration": 0,
    "start_time": "2022-03-19T10:49:36.519Z"
   },
   {
    "duration": 0,
    "start_time": "2022-03-19T10:49:36.520Z"
   },
   {
    "duration": 0,
    "start_time": "2022-03-19T10:49:36.521Z"
   },
   {
    "duration": 0,
    "start_time": "2022-03-19T10:49:36.522Z"
   },
   {
    "duration": 0,
    "start_time": "2022-03-19T10:49:36.523Z"
   },
   {
    "duration": 0,
    "start_time": "2022-03-19T10:49:36.524Z"
   },
   {
    "duration": 0,
    "start_time": "2022-03-19T10:49:36.525Z"
   },
   {
    "duration": 0,
    "start_time": "2022-03-19T10:49:36.526Z"
   },
   {
    "duration": 0,
    "start_time": "2022-03-19T10:49:36.526Z"
   },
   {
    "duration": 0,
    "start_time": "2022-03-19T10:49:36.527Z"
   },
   {
    "duration": 0,
    "start_time": "2022-03-19T10:49:36.528Z"
   },
   {
    "duration": 0,
    "start_time": "2022-03-19T10:49:36.529Z"
   },
   {
    "duration": 0,
    "start_time": "2022-03-19T10:49:36.530Z"
   },
   {
    "duration": 0,
    "start_time": "2022-03-19T10:49:36.531Z"
   },
   {
    "duration": 0,
    "start_time": "2022-03-19T10:49:36.531Z"
   },
   {
    "duration": 0,
    "start_time": "2022-03-19T10:49:36.533Z"
   },
   {
    "duration": 0,
    "start_time": "2022-03-19T10:49:36.534Z"
   },
   {
    "duration": 1535,
    "start_time": "2022-03-19T10:50:03.147Z"
   },
   {
    "duration": 341,
    "start_time": "2022-03-19T10:50:04.684Z"
   },
   {
    "duration": 16,
    "start_time": "2022-03-19T10:50:05.027Z"
   },
   {
    "duration": 29,
    "start_time": "2022-03-19T10:50:05.045Z"
   },
   {
    "duration": 9,
    "start_time": "2022-03-19T10:50:05.077Z"
   },
   {
    "duration": 15,
    "start_time": "2022-03-19T10:50:05.088Z"
   },
   {
    "duration": 9,
    "start_time": "2022-03-19T10:50:05.105Z"
   },
   {
    "duration": 48,
    "start_time": "2022-03-19T10:50:05.115Z"
   },
   {
    "duration": 129,
    "start_time": "2022-03-19T10:50:05.164Z"
   },
   {
    "duration": 75,
    "start_time": "2022-03-19T10:50:05.294Z"
   },
   {
    "duration": 94,
    "start_time": "2022-03-19T10:50:05.370Z"
   },
   {
    "duration": 4,
    "start_time": "2022-03-19T10:50:05.465Z"
   },
   {
    "duration": 18,
    "start_time": "2022-03-19T10:50:05.470Z"
   },
   {
    "duration": 6,
    "start_time": "2022-03-19T10:50:05.491Z"
   },
   {
    "duration": 2545,
    "start_time": "2022-03-19T10:50:05.498Z"
   },
   {
    "duration": 4,
    "start_time": "2022-03-19T10:50:08.045Z"
   },
   {
    "duration": 128,
    "start_time": "2022-03-19T10:50:08.051Z"
   },
   {
    "duration": 137,
    "start_time": "2022-03-19T10:50:08.181Z"
   },
   {
    "duration": 5,
    "start_time": "2022-03-19T10:50:08.319Z"
   },
   {
    "duration": 42,
    "start_time": "2022-03-19T10:50:08.326Z"
   },
   {
    "duration": 5,
    "start_time": "2022-03-19T10:50:08.370Z"
   },
   {
    "duration": 6,
    "start_time": "2022-03-19T10:50:08.377Z"
   },
   {
    "duration": 77,
    "start_time": "2022-03-19T10:50:08.385Z"
   },
   {
    "duration": 6,
    "start_time": "2022-03-19T10:50:08.465Z"
   },
   {
    "duration": 28,
    "start_time": "2022-03-19T10:50:08.473Z"
   },
   {
    "duration": 4,
    "start_time": "2022-03-19T10:50:08.502Z"
   },
   {
    "duration": 55,
    "start_time": "2022-03-19T10:50:08.508Z"
   },
   {
    "duration": 102,
    "start_time": "2022-03-19T10:50:08.566Z"
   },
   {
    "duration": 17,
    "start_time": "2022-03-19T10:50:08.670Z"
   },
   {
    "duration": 5,
    "start_time": "2022-03-19T10:50:08.689Z"
   },
   {
    "duration": 4,
    "start_time": "2022-03-19T10:50:08.696Z"
   },
   {
    "duration": 8,
    "start_time": "2022-03-19T10:50:08.701Z"
   },
   {
    "duration": 62,
    "start_time": "2022-03-19T10:50:08.710Z"
   },
   {
    "duration": 11,
    "start_time": "2022-03-19T10:50:08.774Z"
   },
   {
    "duration": 6,
    "start_time": "2022-03-19T10:50:08.787Z"
   },
   {
    "duration": 615,
    "start_time": "2022-03-19T10:50:08.795Z"
   },
   {
    "duration": 4,
    "start_time": "2022-03-19T10:50:09.412Z"
   },
   {
    "duration": 12,
    "start_time": "2022-03-19T10:50:09.418Z"
   },
   {
    "duration": 20,
    "start_time": "2022-03-19T10:50:09.432Z"
   },
   {
    "duration": 26,
    "start_time": "2022-03-19T10:50:09.454Z"
   },
   {
    "duration": 12,
    "start_time": "2022-03-19T10:50:09.484Z"
   },
   {
    "duration": 34,
    "start_time": "2022-03-19T10:50:09.498Z"
   },
   {
    "duration": 8,
    "start_time": "2022-03-19T10:50:09.534Z"
   },
   {
    "duration": 19,
    "start_time": "2022-03-19T10:50:09.543Z"
   },
   {
    "duration": 24,
    "start_time": "2022-03-19T10:50:09.564Z"
   },
   {
    "duration": 2705,
    "start_time": "2022-03-19T10:50:09.590Z"
   },
   {
    "duration": 5,
    "start_time": "2022-03-19T10:50:12.296Z"
   },
   {
    "duration": 10,
    "start_time": "2022-03-19T10:50:12.302Z"
   },
   {
    "duration": 587,
    "start_time": "2022-03-19T10:50:26.683Z"
   },
   {
    "duration": 1149,
    "start_time": "2022-03-19T10:50:56.525Z"
   },
   {
    "duration": 1787,
    "start_time": "2022-03-19T10:51:04.083Z"
   },
   {
    "duration": 581,
    "start_time": "2022-03-19T10:51:37.376Z"
   },
   {
    "duration": 743,
    "start_time": "2022-03-19T10:51:51.323Z"
   },
   {
    "duration": 1488,
    "start_time": "2022-03-19T11:50:50.803Z"
   },
   {
    "duration": 342,
    "start_time": "2022-03-19T11:50:52.293Z"
   },
   {
    "duration": 13,
    "start_time": "2022-03-19T11:50:52.637Z"
   },
   {
    "duration": 14,
    "start_time": "2022-03-19T11:50:52.662Z"
   },
   {
    "duration": 9,
    "start_time": "2022-03-19T11:50:52.678Z"
   },
   {
    "duration": 19,
    "start_time": "2022-03-19T11:50:52.689Z"
   },
   {
    "duration": 10,
    "start_time": "2022-03-19T11:50:52.710Z"
   },
   {
    "duration": 24,
    "start_time": "2022-03-19T11:50:52.722Z"
   },
   {
    "duration": 154,
    "start_time": "2022-03-19T11:50:52.747Z"
   },
   {
    "duration": 69,
    "start_time": "2022-03-19T11:50:52.905Z"
   },
   {
    "duration": 89,
    "start_time": "2022-03-19T11:50:52.976Z"
   },
   {
    "duration": 5,
    "start_time": "2022-03-19T11:50:53.067Z"
   },
   {
    "duration": 16,
    "start_time": "2022-03-19T11:50:53.074Z"
   },
   {
    "duration": 5,
    "start_time": "2022-03-19T11:50:53.092Z"
   },
   {
    "duration": 2013,
    "start_time": "2022-03-19T11:50:53.098Z"
   },
   {
    "duration": 4,
    "start_time": "2022-03-19T11:50:55.113Z"
   },
   {
    "duration": 26,
    "start_time": "2022-03-19T11:50:55.118Z"
   },
   {
    "duration": 118,
    "start_time": "2022-03-19T11:50:55.145Z"
   },
   {
    "duration": 6,
    "start_time": "2022-03-19T11:50:55.264Z"
   },
   {
    "duration": 24,
    "start_time": "2022-03-19T11:50:55.271Z"
   },
   {
    "duration": 4,
    "start_time": "2022-03-19T11:50:55.297Z"
   },
   {
    "duration": 6,
    "start_time": "2022-03-19T11:50:55.303Z"
   },
   {
    "duration": 64,
    "start_time": "2022-03-19T11:50:55.311Z"
   },
   {
    "duration": 6,
    "start_time": "2022-03-19T11:50:55.376Z"
   },
   {
    "duration": 30,
    "start_time": "2022-03-19T11:50:55.383Z"
   },
   {
    "duration": 2,
    "start_time": "2022-03-19T11:50:55.415Z"
   },
   {
    "duration": 49,
    "start_time": "2022-03-19T11:50:55.419Z"
   },
   {
    "duration": 8,
    "start_time": "2022-03-19T11:50:55.562Z"
   },
   {
    "duration": 95,
    "start_time": "2022-03-19T11:50:55.572Z"
   },
   {
    "duration": 4,
    "start_time": "2022-03-19T11:50:55.669Z"
   },
   {
    "duration": 6,
    "start_time": "2022-03-19T11:50:55.675Z"
   },
   {
    "duration": 9,
    "start_time": "2022-03-19T11:50:55.682Z"
   },
   {
    "duration": 43,
    "start_time": "2022-03-19T11:50:55.692Z"
   },
   {
    "duration": 12,
    "start_time": "2022-03-19T11:50:55.762Z"
   },
   {
    "duration": 7,
    "start_time": "2022-03-19T11:50:55.776Z"
   },
   {
    "duration": 782,
    "start_time": "2022-03-19T11:50:55.785Z"
   },
   {
    "duration": 3,
    "start_time": "2022-03-19T11:50:56.568Z"
   },
   {
    "duration": 4,
    "start_time": "2022-03-19T11:50:56.573Z"
   },
   {
    "duration": 8,
    "start_time": "2022-03-19T11:50:56.578Z"
   },
   {
    "duration": 9,
    "start_time": "2022-03-19T11:50:56.588Z"
   },
   {
    "duration": 8,
    "start_time": "2022-03-19T11:50:56.599Z"
   },
   {
    "duration": 17,
    "start_time": "2022-03-19T11:50:56.609Z"
   },
   {
    "duration": 4,
    "start_time": "2022-03-19T11:50:56.627Z"
   },
   {
    "duration": 7,
    "start_time": "2022-03-19T11:50:56.633Z"
   },
   {
    "duration": 5,
    "start_time": "2022-03-19T11:50:56.641Z"
   },
   {
    "duration": 2712,
    "start_time": "2022-03-19T11:50:56.663Z"
   },
   {
    "duration": 6,
    "start_time": "2022-03-19T11:50:59.376Z"
   },
   {
    "duration": 9,
    "start_time": "2022-03-19T11:50:59.383Z"
   },
   {
    "duration": 7,
    "start_time": "2022-03-19T11:54:22.623Z"
   },
   {
    "duration": 7,
    "start_time": "2022-03-19T11:54:28.604Z"
   },
   {
    "duration": 7,
    "start_time": "2022-03-19T11:54:33.341Z"
   },
   {
    "duration": 1761,
    "start_time": "2022-03-20T13:14:59.571Z"
   },
   {
    "duration": 369,
    "start_time": "2022-03-20T13:15:01.334Z"
   },
   {
    "duration": 16,
    "start_time": "2022-03-20T13:15:01.705Z"
   },
   {
    "duration": 20,
    "start_time": "2022-03-20T13:15:01.724Z"
   },
   {
    "duration": 32,
    "start_time": "2022-03-20T13:15:01.746Z"
   },
   {
    "duration": 27,
    "start_time": "2022-03-20T13:15:01.780Z"
   },
   {
    "duration": 9,
    "start_time": "2022-03-20T13:15:01.809Z"
   },
   {
    "duration": 29,
    "start_time": "2022-03-20T13:15:01.820Z"
   },
   {
    "duration": 148,
    "start_time": "2022-03-20T13:15:01.852Z"
   },
   {
    "duration": 77,
    "start_time": "2022-03-20T13:15:02.003Z"
   },
   {
    "duration": 96,
    "start_time": "2022-03-20T13:15:02.082Z"
   },
   {
    "duration": 5,
    "start_time": "2022-03-20T13:15:02.180Z"
   },
   {
    "duration": 35,
    "start_time": "2022-03-20T13:15:02.187Z"
   },
   {
    "duration": 12,
    "start_time": "2022-03-20T13:15:02.224Z"
   },
   {
    "duration": 2309,
    "start_time": "2022-03-20T13:15:02.238Z"
   },
   {
    "duration": 14,
    "start_time": "2022-03-20T13:15:04.549Z"
   },
   {
    "duration": 25,
    "start_time": "2022-03-20T13:15:04.564Z"
   },
   {
    "duration": 157,
    "start_time": "2022-03-20T13:15:04.591Z"
   },
   {
    "duration": 5,
    "start_time": "2022-03-20T13:15:04.750Z"
   },
   {
    "duration": 20,
    "start_time": "2022-03-20T13:15:04.764Z"
   },
   {
    "duration": 4,
    "start_time": "2022-03-20T13:15:04.786Z"
   },
   {
    "duration": 5,
    "start_time": "2022-03-20T13:15:04.791Z"
   },
   {
    "duration": 46,
    "start_time": "2022-03-20T13:15:04.798Z"
   },
   {
    "duration": 4,
    "start_time": "2022-03-20T13:15:04.846Z"
   },
   {
    "duration": 45,
    "start_time": "2022-03-20T13:15:04.852Z"
   },
   {
    "duration": 11,
    "start_time": "2022-03-20T13:15:04.899Z"
   },
   {
    "duration": 6,
    "start_time": "2022-03-20T13:15:04.912Z"
   },
   {
    "duration": 811,
    "start_time": "2022-03-20T13:15:04.922Z"
   },
   {
    "duration": 30,
    "start_time": "2022-03-20T13:15:05.734Z"
   },
   {
    "duration": 3,
    "start_time": "2022-03-20T13:15:05.766Z"
   },
   {
    "duration": 10,
    "start_time": "2022-03-20T13:15:05.771Z"
   },
   {
    "duration": 80,
    "start_time": "2022-03-20T13:15:05.783Z"
   },
   {
    "duration": 99,
    "start_time": "2022-03-20T13:15:05.866Z"
   },
   {
    "duration": 6,
    "start_time": "2022-03-20T13:15:05.967Z"
   },
   {
    "duration": 5,
    "start_time": "2022-03-20T13:15:05.975Z"
   },
   {
    "duration": 18,
    "start_time": "2022-03-20T13:15:05.982Z"
   },
   {
    "duration": 7,
    "start_time": "2022-03-20T13:15:06.002Z"
   },
   {
    "duration": 6,
    "start_time": "2022-03-20T13:15:06.011Z"
   },
   {
    "duration": 6,
    "start_time": "2022-03-20T13:15:06.018Z"
   },
   {
    "duration": 6,
    "start_time": "2022-03-20T13:15:06.026Z"
   },
   {
    "duration": 8,
    "start_time": "2022-03-20T13:15:06.034Z"
   },
   {
    "duration": 31,
    "start_time": "2022-03-20T13:15:06.044Z"
   },
   {
    "duration": 5,
    "start_time": "2022-03-20T13:15:06.077Z"
   },
   {
    "duration": 11,
    "start_time": "2022-03-20T13:15:06.084Z"
   },
   {
    "duration": 5,
    "start_time": "2022-03-20T13:15:06.097Z"
   },
   {
    "duration": 2792,
    "start_time": "2022-03-20T13:15:06.103Z"
   },
   {
    "duration": 6,
    "start_time": "2022-03-20T13:15:08.897Z"
   },
   {
    "duration": 13,
    "start_time": "2022-03-20T13:15:08.905Z"
   }
  ],
  "kernelspec": {
   "display_name": "Python 3 (ipykernel)",
   "language": "python",
   "name": "python3"
  },
  "language_info": {
   "codemirror_mode": {
    "name": "ipython",
    "version": 3
   },
   "file_extension": ".py",
   "mimetype": "text/x-python",
   "name": "python",
   "nbconvert_exporter": "python",
   "pygments_lexer": "ipython3",
   "version": "3.9.5"
  },
  "toc": {
   "base_numbering": 1,
   "nav_menu": {},
   "number_sections": true,
   "sideBar": true,
   "skip_h1_title": true,
   "title_cell": "Table of Contents",
   "title_sidebar": "Contents",
   "toc_cell": false,
   "toc_position": {},
   "toc_section_display": true,
   "toc_window_display": false
  }
 },
 "nbformat": 4,
 "nbformat_minor": 2
}
