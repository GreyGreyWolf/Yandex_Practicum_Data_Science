{
 "cells": [
  {
   "cell_type": "markdown",
   "id": "263ddcaa",
   "metadata": {},
   "source": [
    "## Описание проекта."
   ]
  },
  {
   "cell_type": "markdown",
   "id": "b90bc9c0",
   "metadata": {},
   "source": [
    "Вы работаете в интернет-магазине «Стримчик», который продаёт по всему миру компьютерные игры. Из открытых источников доступны исторические данные о продажах игр, оценки пользователей и экспертов, жанры и платформы (например, Xbox или PlayStation). Вам нужно выявить определяющие успешность игры закономерности. Это позволит сделать ставку на потенциально популярный продукт и спланировать рекламные кампании.\n",
    "Перед вами данные до 2016 года. Представим, что сейчас декабрь 2016 г., и вы планируете кампанию на 2017-й. Нужно отработать принцип работы с данными. Неважно, прогнозируете ли вы продажи на 2017 год по данным 2016-го или же 2027-й — по данным 2026 года.\n",
    "В наборе данных попадается аббревиатура ESRB (Entertainment Software Rating Board) — это ассоциация, определяющая возрастной рейтинг компьютерных игр. ESRB оценивает игровой контент и присваивает ему подходящую возрастную категорию, например, «Для взрослых», «Для детей младшего возраста» или «Для подростков»."
   ]
  },
  {
   "cell_type": "markdown",
   "id": "29194949",
   "metadata": {},
   "source": [
    "## Постановка задачи."
   ]
  },
  {
   "cell_type": "markdown",
   "id": "7f9a34fc",
   "metadata": {},
   "source": [
    "### Подготовьте данные"
   ]
  },
  {
   "cell_type": "markdown",
   "id": "803269be",
   "metadata": {},
   "source": [
    " - Замените названия столбцов (приведите к нижнему регистру);\n",
    " - Преобразуйте данные в нужные типы. Опишите, в каких столбцах заменили тип данных и почему;\n",
    " - Обработайте пропуски при необходимости:\n",
    " - Объясните, почему заполнили пропуски определённым образом или почему не стали это делать;\n",
    " - Опишите причины, которые могли привести к пропускам;\n",
    " - Обратите внимание на аббревиатуру 'tbd' в столбце с оценкой пользователей. Отдельно разберите это значение и   опишите, как его обработать;\n",
    " - Посчитайте суммарные продажи во всех регионах и запишите их в отдельный столбец"
   ]
  },
  {
   "cell_type": "markdown",
   "id": "d2654653",
   "metadata": {},
   "source": [
    "### Проведите исследовательский анализ данных"
   ]
  },
  {
   "cell_type": "markdown",
   "id": "c59f6f63",
   "metadata": {},
   "source": [
    " - Посмотрите, сколько игр выпускалось в разные годы. Важны ли данные за все периоды?\n",
    " - Посмотрите, как менялись продажи по платформам. Выберите платформы с наибольшими суммарными продажами и постройте распределение по годам. За какой характерный срок появляются новые и исчезают старые платформы?\n",
    " - Возьмите данные за соответствующий актуальный период. Актуальный период определите самостоятельно в результате исследования предыдущих вопросов. Основной фактор — эти данные помогут построить прогноз на 2017 год.\n",
    " - Не учитывайте в работе данные за предыдущие годы.\n",
    " - Какие платформы лидируют по продажам, растут или падают? Выберите несколько потенциально прибыльных платформ.\n",
    " - Постройте график «ящик с усами» по глобальным продажам игр в разбивке по платформам. Опишите результат.\n",
    " - Посмотрите, как влияют на продажи внутри одной популярной платформы отзывы пользователей и критиков. Постройте диаграмму рассеяния и посчитайте корреляцию между отзывами и продажами. Сформулируйте выводы.\n",
    " - Соотнесите выводы с продажами игр на других платформах.\n",
    " - Посмотрите на общее распределение игр по жанрам. Что можно сказать о самых прибыльных жанрах? Выделяются ли жанры с высокими и низкими продажами?"
   ]
  },
  {
   "cell_type": "markdown",
   "id": "eb68aca9",
   "metadata": {},
   "source": [
    "### Составьте портрет пользователя каждого региона"
   ]
  },
  {
   "cell_type": "markdown",
   "id": "0e0e5ea6",
   "metadata": {},
   "source": [
    "Определите для пользователя каждого региона (NA, EU, JP):\n",
    " - Самые популярные платформы (топ-5). Опишите различия в долях продаж.\n",
    " - Самые популярные жанры (топ-5). Поясните разницу.\n",
    " - Влияет ли рейтинг ESRB на продажи в отдельном регионе?"
   ]
  },
  {
   "cell_type": "markdown",
   "id": "2de9ff8a",
   "metadata": {},
   "source": [
    "### Проверьте гипотезы"
   ]
  },
  {
   "cell_type": "markdown",
   "id": "45dc1cf1",
   "metadata": {},
   "source": [
    " - Средние пользовательские рейтинги платформ Xbox One и PC одинаковые;\n",
    " - Средние пользовательские рейтинги жанров Action (англ. «действие», экшен-игры) и Sports (англ. «спортивные соревнования») разные.\n",
    " - Задайте самостоятельно пороговое значение alpha.\n",
    " \n",
    "Поясните:\n",
    "\n",
    " - Как вы сформулировали нулевую и альтернативную гипотезы;\n",
    " - Какой критерий применили для проверки гипотез и почему."
   ]
  },
  {
   "cell_type": "markdown",
   "id": "99c0dcff",
   "metadata": {},
   "source": [
    "### Напишите общий вывод"
   ]
  },
  {
   "cell_type": "markdown",
   "id": "6f9972ad",
   "metadata": {},
   "source": [
    "## Описание данных"
   ]
  },
  {
   "cell_type": "markdown",
   "id": "0092856c",
   "metadata": {},
   "source": [
    " - Name — название игры\n",
    " - Platform — платформа\n",
    " - Year_of_Release — год выпуска\n",
    " - Genre — жанр игры\n",
    " - NA_sales — продажи в Северной Америке (миллионы проданных копий)\n",
    " - EU_sales — продажи в Европе (миллионы проданных копий)\n",
    " - JP_sales — продажи в Японии (миллионы проданных копий)\n",
    " - Other_sales — продажи в других странах (миллионы проданных копий)\n",
    " - Critic_Score — оценка критиков (максимум 100)\n",
    " - User_Score — оценка пользователей (максимум 10)\n",
    " - Rating — рейтинг от организации ESRB (англ. Entertainment Software Rating Board). Эта ассоциация определяет рейтинг компьютерных игр и присваивает им подходящую возрастную категорию.\n",
    " \n",
    "Данные за 2016 год могут быть неполными."
   ]
  },
  {
   "cell_type": "markdown",
   "id": "343a0086",
   "metadata": {},
   "source": [
    "**Импортируем библиотеки**"
   ]
  },
  {
   "cell_type": "code",
   "execution_count": 1,
   "id": "0296f2dc",
   "metadata": {},
   "outputs": [],
   "source": [
    "import pandas as pd\n",
    "import numpy as np\n",
    "import matplotlib.pyplot as plt\n",
    "import seaborn as sns\n",
    "import scipy\n",
    "from scipy.stats import levene\n",
    "from collections import Counter"
   ]
  },
  {
   "cell_type": "markdown",
   "id": "0d1e4285",
   "metadata": {},
   "source": [
    "## Шаг 1. Откроем файл с данными и изучим общую информацию.\n"
   ]
  },
  {
   "cell_type": "code",
   "execution_count": 2,
   "id": "7e33c665",
   "metadata": {},
   "outputs": [],
   "source": [
    "data = pd.read_csv('/datasets/games.csv')"
   ]
  },
  {
   "cell_type": "code",
   "execution_count": 3,
   "id": "119925e2",
   "metadata": {
    "scrolled": false
   },
   "outputs": [
    {
     "data": {
      "text/html": [
       "<div>\n",
       "<style scoped>\n",
       "    .dataframe tbody tr th:only-of-type {\n",
       "        vertical-align: middle;\n",
       "    }\n",
       "\n",
       "    .dataframe tbody tr th {\n",
       "        vertical-align: top;\n",
       "    }\n",
       "\n",
       "    .dataframe thead th {\n",
       "        text-align: right;\n",
       "    }\n",
       "</style>\n",
       "<table border=\"1\" class=\"dataframe\">\n",
       "  <thead>\n",
       "    <tr style=\"text-align: right;\">\n",
       "      <th></th>\n",
       "      <th>Name</th>\n",
       "      <th>Platform</th>\n",
       "      <th>Year_of_Release</th>\n",
       "      <th>Genre</th>\n",
       "      <th>NA_sales</th>\n",
       "      <th>EU_sales</th>\n",
       "      <th>JP_sales</th>\n",
       "      <th>Other_sales</th>\n",
       "      <th>Critic_Score</th>\n",
       "      <th>User_Score</th>\n",
       "      <th>Rating</th>\n",
       "    </tr>\n",
       "  </thead>\n",
       "  <tbody>\n",
       "    <tr>\n",
       "      <td>0</td>\n",
       "      <td>Wii Sports</td>\n",
       "      <td>Wii</td>\n",
       "      <td>2006.0</td>\n",
       "      <td>Sports</td>\n",
       "      <td>41.36</td>\n",
       "      <td>28.96</td>\n",
       "      <td>3.77</td>\n",
       "      <td>8.45</td>\n",
       "      <td>76.0</td>\n",
       "      <td>8</td>\n",
       "      <td>E</td>\n",
       "    </tr>\n",
       "    <tr>\n",
       "      <td>1</td>\n",
       "      <td>Super Mario Bros.</td>\n",
       "      <td>NES</td>\n",
       "      <td>1985.0</td>\n",
       "      <td>Platform</td>\n",
       "      <td>29.08</td>\n",
       "      <td>3.58</td>\n",
       "      <td>6.81</td>\n",
       "      <td>0.77</td>\n",
       "      <td>NaN</td>\n",
       "      <td>NaN</td>\n",
       "      <td>NaN</td>\n",
       "    </tr>\n",
       "    <tr>\n",
       "      <td>2</td>\n",
       "      <td>Mario Kart Wii</td>\n",
       "      <td>Wii</td>\n",
       "      <td>2008.0</td>\n",
       "      <td>Racing</td>\n",
       "      <td>15.68</td>\n",
       "      <td>12.76</td>\n",
       "      <td>3.79</td>\n",
       "      <td>3.29</td>\n",
       "      <td>82.0</td>\n",
       "      <td>8.3</td>\n",
       "      <td>E</td>\n",
       "    </tr>\n",
       "    <tr>\n",
       "      <td>3</td>\n",
       "      <td>Wii Sports Resort</td>\n",
       "      <td>Wii</td>\n",
       "      <td>2009.0</td>\n",
       "      <td>Sports</td>\n",
       "      <td>15.61</td>\n",
       "      <td>10.93</td>\n",
       "      <td>3.28</td>\n",
       "      <td>2.95</td>\n",
       "      <td>80.0</td>\n",
       "      <td>8</td>\n",
       "      <td>E</td>\n",
       "    </tr>\n",
       "    <tr>\n",
       "      <td>4</td>\n",
       "      <td>Pokemon Red/Pokemon Blue</td>\n",
       "      <td>GB</td>\n",
       "      <td>1996.0</td>\n",
       "      <td>Role-Playing</td>\n",
       "      <td>11.27</td>\n",
       "      <td>8.89</td>\n",
       "      <td>10.22</td>\n",
       "      <td>1.00</td>\n",
       "      <td>NaN</td>\n",
       "      <td>NaN</td>\n",
       "      <td>NaN</td>\n",
       "    </tr>\n",
       "  </tbody>\n",
       "</table>\n",
       "</div>"
      ],
      "text/plain": [
       "                       Name Platform  Year_of_Release         Genre  NA_sales  \\\n",
       "0                Wii Sports      Wii           2006.0        Sports     41.36   \n",
       "1         Super Mario Bros.      NES           1985.0      Platform     29.08   \n",
       "2            Mario Kart Wii      Wii           2008.0        Racing     15.68   \n",
       "3         Wii Sports Resort      Wii           2009.0        Sports     15.61   \n",
       "4  Pokemon Red/Pokemon Blue       GB           1996.0  Role-Playing     11.27   \n",
       "\n",
       "   EU_sales  JP_sales  Other_sales  Critic_Score User_Score Rating  \n",
       "0     28.96      3.77         8.45          76.0          8      E  \n",
       "1      3.58      6.81         0.77           NaN        NaN    NaN  \n",
       "2     12.76      3.79         3.29          82.0        8.3      E  \n",
       "3     10.93      3.28         2.95          80.0          8      E  \n",
       "4      8.89     10.22         1.00           NaN        NaN    NaN  "
      ]
     },
     "execution_count": 3,
     "metadata": {},
     "output_type": "execute_result"
    }
   ],
   "source": [
    "data.head()"
   ]
  },
  {
   "cell_type": "code",
   "execution_count": 4,
   "id": "f3eb93f8",
   "metadata": {},
   "outputs": [
    {
     "data": {
      "text/html": [
       "<div>\n",
       "<style scoped>\n",
       "    .dataframe tbody tr th:only-of-type {\n",
       "        vertical-align: middle;\n",
       "    }\n",
       "\n",
       "    .dataframe tbody tr th {\n",
       "        vertical-align: top;\n",
       "    }\n",
       "\n",
       "    .dataframe thead th {\n",
       "        text-align: right;\n",
       "    }\n",
       "</style>\n",
       "<table border=\"1\" class=\"dataframe\">\n",
       "  <thead>\n",
       "    <tr style=\"text-align: right;\">\n",
       "      <th></th>\n",
       "      <th>Name</th>\n",
       "      <th>Platform</th>\n",
       "      <th>Year_of_Release</th>\n",
       "      <th>Genre</th>\n",
       "      <th>NA_sales</th>\n",
       "      <th>EU_sales</th>\n",
       "      <th>JP_sales</th>\n",
       "      <th>Other_sales</th>\n",
       "      <th>Critic_Score</th>\n",
       "      <th>User_Score</th>\n",
       "      <th>Rating</th>\n",
       "    </tr>\n",
       "  </thead>\n",
       "  <tbody>\n",
       "    <tr>\n",
       "      <td>16710</td>\n",
       "      <td>Samurai Warriors: Sanada Maru</td>\n",
       "      <td>PS3</td>\n",
       "      <td>2016.0</td>\n",
       "      <td>Action</td>\n",
       "      <td>0.00</td>\n",
       "      <td>0.00</td>\n",
       "      <td>0.01</td>\n",
       "      <td>0.0</td>\n",
       "      <td>NaN</td>\n",
       "      <td>NaN</td>\n",
       "      <td>NaN</td>\n",
       "    </tr>\n",
       "    <tr>\n",
       "      <td>16711</td>\n",
       "      <td>LMA Manager 2007</td>\n",
       "      <td>X360</td>\n",
       "      <td>2006.0</td>\n",
       "      <td>Sports</td>\n",
       "      <td>0.00</td>\n",
       "      <td>0.01</td>\n",
       "      <td>0.00</td>\n",
       "      <td>0.0</td>\n",
       "      <td>NaN</td>\n",
       "      <td>NaN</td>\n",
       "      <td>NaN</td>\n",
       "    </tr>\n",
       "    <tr>\n",
       "      <td>16712</td>\n",
       "      <td>Haitaka no Psychedelica</td>\n",
       "      <td>PSV</td>\n",
       "      <td>2016.0</td>\n",
       "      <td>Adventure</td>\n",
       "      <td>0.00</td>\n",
       "      <td>0.00</td>\n",
       "      <td>0.01</td>\n",
       "      <td>0.0</td>\n",
       "      <td>NaN</td>\n",
       "      <td>NaN</td>\n",
       "      <td>NaN</td>\n",
       "    </tr>\n",
       "    <tr>\n",
       "      <td>16713</td>\n",
       "      <td>Spirits &amp; Spells</td>\n",
       "      <td>GBA</td>\n",
       "      <td>2003.0</td>\n",
       "      <td>Platform</td>\n",
       "      <td>0.01</td>\n",
       "      <td>0.00</td>\n",
       "      <td>0.00</td>\n",
       "      <td>0.0</td>\n",
       "      <td>NaN</td>\n",
       "      <td>NaN</td>\n",
       "      <td>NaN</td>\n",
       "    </tr>\n",
       "    <tr>\n",
       "      <td>16714</td>\n",
       "      <td>Winning Post 8 2016</td>\n",
       "      <td>PSV</td>\n",
       "      <td>2016.0</td>\n",
       "      <td>Simulation</td>\n",
       "      <td>0.00</td>\n",
       "      <td>0.00</td>\n",
       "      <td>0.01</td>\n",
       "      <td>0.0</td>\n",
       "      <td>NaN</td>\n",
       "      <td>NaN</td>\n",
       "      <td>NaN</td>\n",
       "    </tr>\n",
       "  </tbody>\n",
       "</table>\n",
       "</div>"
      ],
      "text/plain": [
       "                                Name Platform  Year_of_Release       Genre  \\\n",
       "16710  Samurai Warriors: Sanada Maru      PS3           2016.0      Action   \n",
       "16711               LMA Manager 2007     X360           2006.0      Sports   \n",
       "16712        Haitaka no Psychedelica      PSV           2016.0   Adventure   \n",
       "16713               Spirits & Spells      GBA           2003.0    Platform   \n",
       "16714            Winning Post 8 2016      PSV           2016.0  Simulation   \n",
       "\n",
       "       NA_sales  EU_sales  JP_sales  Other_sales  Critic_Score User_Score  \\\n",
       "16710      0.00      0.00      0.01          0.0           NaN        NaN   \n",
       "16711      0.00      0.01      0.00          0.0           NaN        NaN   \n",
       "16712      0.00      0.00      0.01          0.0           NaN        NaN   \n",
       "16713      0.01      0.00      0.00          0.0           NaN        NaN   \n",
       "16714      0.00      0.00      0.01          0.0           NaN        NaN   \n",
       "\n",
       "      Rating  \n",
       "16710    NaN  \n",
       "16711    NaN  \n",
       "16712    NaN  \n",
       "16713    NaN  \n",
       "16714    NaN  "
      ]
     },
     "execution_count": 4,
     "metadata": {},
     "output_type": "execute_result"
    }
   ],
   "source": [
    "data.tail()"
   ]
  },
  {
   "cell_type": "markdown",
   "id": "e468fef5",
   "metadata": {},
   "source": [
    "**Названия колонок необходимо привести к одному регистру.** "
   ]
  },
  {
   "cell_type": "code",
   "execution_count": 5,
   "id": "46911a39",
   "metadata": {},
   "outputs": [
    {
     "data": {
      "text/plain": [
       "Name                  2\n",
       "Platform              0\n",
       "Year_of_Release     269\n",
       "Genre                 2\n",
       "NA_sales              0\n",
       "EU_sales              0\n",
       "JP_sales              0\n",
       "Other_sales           0\n",
       "Critic_Score       8578\n",
       "User_Score         6701\n",
       "Rating             6766\n",
       "dtype: int64"
      ]
     },
     "execution_count": 5,
     "metadata": {},
     "output_type": "execute_result"
    }
   ],
   "source": [
    "data.isna().sum()"
   ]
  },
  {
   "cell_type": "markdown",
   "id": "c139af91",
   "metadata": {},
   "source": [
    "**В данных есть пропуски.**"
   ]
  },
  {
   "cell_type": "code",
   "execution_count": 6,
   "id": "5a4da4ee",
   "metadata": {},
   "outputs": [
    {
     "name": "stdout",
     "output_type": "stream",
     "text": [
      "<class 'pandas.core.frame.DataFrame'>\n",
      "RangeIndex: 16715 entries, 0 to 16714\n",
      "Data columns (total 11 columns):\n",
      "Name               16713 non-null object\n",
      "Platform           16715 non-null object\n",
      "Year_of_Release    16446 non-null float64\n",
      "Genre              16713 non-null object\n",
      "NA_sales           16715 non-null float64\n",
      "EU_sales           16715 non-null float64\n",
      "JP_sales           16715 non-null float64\n",
      "Other_sales        16715 non-null float64\n",
      "Critic_Score       8137 non-null float64\n",
      "User_Score         10014 non-null object\n",
      "Rating             9949 non-null object\n",
      "dtypes: float64(6), object(5)\n",
      "memory usage: 1.4+ MB\n"
     ]
    }
   ],
   "source": [
    "data.info()"
   ]
  },
  {
   "cell_type": "markdown",
   "id": "a0181553",
   "metadata": {},
   "source": [
    "**Тип данных  некоторых колонок не совсем корректно соотвествует содержимым данным.**\n",
    "\n",
    "**Например:**\n",
    "\n",
    "1. **Колонка \"год выпуска\" содержит дату в формате float.**\n",
    "\n",
    "\n",
    "2. **Колонка \"Оценка критиков\" указана в формате float.**\n",
    "\n",
    "\n",
    "3. **Колонка \"user_object\" в формате object.**"
   ]
  },
  {
   "cell_type": "code",
   "execution_count": 7,
   "id": "92a107c9",
   "metadata": {},
   "outputs": [
    {
     "name": "stdout",
     "output_type": "stream",
     "text": [
      "\n",
      "Количество явных дубликатов -  0\n"
     ]
    }
   ],
   "source": [
    "print('\\nКоличество явных дубликатов - ',data.duplicated().sum())"
   ]
  },
  {
   "cell_type": "markdown",
   "id": "53ec6fe7",
   "metadata": {},
   "source": [
    "**Явных дубликатов не наблюдается.**"
   ]
  },
  {
   "cell_type": "markdown",
   "id": "03ad9899",
   "metadata": {},
   "source": [
    "### Вывод:"
   ]
  },
  {
   "cell_type": "markdown",
   "id": "46be652d",
   "metadata": {},
   "source": [
    "1. **В данных есть пропуски.**\n",
    "\n",
    "\n",
    "2. **Названия колонок находяться в разных регистрах.**\n",
    "\n",
    "\n",
    "3. **Тип данных некоторых колонок не соответствует содержимому.**"
   ]
  },
  {
   "cell_type": "markdown",
   "id": "7e7d6324",
   "metadata": {},
   "source": [
    "## Шаг 2. Подготовим данные."
   ]
  },
  {
   "cell_type": "markdown",
   "id": "3242ea73",
   "metadata": {},
   "source": [
    "### Скорректируем названия колонок."
   ]
  },
  {
   "cell_type": "markdown",
   "id": "a18c9c0c",
   "metadata": {},
   "source": [
    "**Приведем все названия столбцов к одному регистру с помощью метода rename().**"
   ]
  },
  {
   "cell_type": "code",
   "execution_count": 8,
   "id": "efa920ab",
   "metadata": {},
   "outputs": [],
   "source": [
    "# new_name_columns = {}\n",
    "# nms_column = data.columns\n",
    "# for name in nms_column:\n",
    "#     new_name_columns[name] = str.lower(name)\n",
    "# data = data.rename(columns = new_name_columns)\n",
    "\n",
    "data.columns = data.columns.str.lower()"
   ]
  },
  {
   "cell_type": "code",
   "execution_count": 9,
   "id": "88f0eadc",
   "metadata": {
    "scrolled": false
   },
   "outputs": [
    {
     "data": {
      "text/html": [
       "<div>\n",
       "<style scoped>\n",
       "    .dataframe tbody tr th:only-of-type {\n",
       "        vertical-align: middle;\n",
       "    }\n",
       "\n",
       "    .dataframe tbody tr th {\n",
       "        vertical-align: top;\n",
       "    }\n",
       "\n",
       "    .dataframe thead th {\n",
       "        text-align: right;\n",
       "    }\n",
       "</style>\n",
       "<table border=\"1\" class=\"dataframe\">\n",
       "  <thead>\n",
       "    <tr style=\"text-align: right;\">\n",
       "      <th></th>\n",
       "      <th>name</th>\n",
       "      <th>platform</th>\n",
       "      <th>year_of_release</th>\n",
       "      <th>genre</th>\n",
       "      <th>na_sales</th>\n",
       "      <th>eu_sales</th>\n",
       "      <th>jp_sales</th>\n",
       "      <th>other_sales</th>\n",
       "      <th>critic_score</th>\n",
       "      <th>user_score</th>\n",
       "      <th>rating</th>\n",
       "    </tr>\n",
       "  </thead>\n",
       "  <tbody>\n",
       "    <tr>\n",
       "      <td>0</td>\n",
       "      <td>Wii Sports</td>\n",
       "      <td>Wii</td>\n",
       "      <td>2006.0</td>\n",
       "      <td>Sports</td>\n",
       "      <td>41.36</td>\n",
       "      <td>28.96</td>\n",
       "      <td>3.77</td>\n",
       "      <td>8.45</td>\n",
       "      <td>76.0</td>\n",
       "      <td>8</td>\n",
       "      <td>E</td>\n",
       "    </tr>\n",
       "    <tr>\n",
       "      <td>1</td>\n",
       "      <td>Super Mario Bros.</td>\n",
       "      <td>NES</td>\n",
       "      <td>1985.0</td>\n",
       "      <td>Platform</td>\n",
       "      <td>29.08</td>\n",
       "      <td>3.58</td>\n",
       "      <td>6.81</td>\n",
       "      <td>0.77</td>\n",
       "      <td>NaN</td>\n",
       "      <td>NaN</td>\n",
       "      <td>NaN</td>\n",
       "    </tr>\n",
       "    <tr>\n",
       "      <td>2</td>\n",
       "      <td>Mario Kart Wii</td>\n",
       "      <td>Wii</td>\n",
       "      <td>2008.0</td>\n",
       "      <td>Racing</td>\n",
       "      <td>15.68</td>\n",
       "      <td>12.76</td>\n",
       "      <td>3.79</td>\n",
       "      <td>3.29</td>\n",
       "      <td>82.0</td>\n",
       "      <td>8.3</td>\n",
       "      <td>E</td>\n",
       "    </tr>\n",
       "    <tr>\n",
       "      <td>3</td>\n",
       "      <td>Wii Sports Resort</td>\n",
       "      <td>Wii</td>\n",
       "      <td>2009.0</td>\n",
       "      <td>Sports</td>\n",
       "      <td>15.61</td>\n",
       "      <td>10.93</td>\n",
       "      <td>3.28</td>\n",
       "      <td>2.95</td>\n",
       "      <td>80.0</td>\n",
       "      <td>8</td>\n",
       "      <td>E</td>\n",
       "    </tr>\n",
       "    <tr>\n",
       "      <td>4</td>\n",
       "      <td>Pokemon Red/Pokemon Blue</td>\n",
       "      <td>GB</td>\n",
       "      <td>1996.0</td>\n",
       "      <td>Role-Playing</td>\n",
       "      <td>11.27</td>\n",
       "      <td>8.89</td>\n",
       "      <td>10.22</td>\n",
       "      <td>1.00</td>\n",
       "      <td>NaN</td>\n",
       "      <td>NaN</td>\n",
       "      <td>NaN</td>\n",
       "    </tr>\n",
       "  </tbody>\n",
       "</table>\n",
       "</div>"
      ],
      "text/plain": [
       "                       name platform  year_of_release         genre  na_sales  \\\n",
       "0                Wii Sports      Wii           2006.0        Sports     41.36   \n",
       "1         Super Mario Bros.      NES           1985.0      Platform     29.08   \n",
       "2            Mario Kart Wii      Wii           2008.0        Racing     15.68   \n",
       "3         Wii Sports Resort      Wii           2009.0        Sports     15.61   \n",
       "4  Pokemon Red/Pokemon Blue       GB           1996.0  Role-Playing     11.27   \n",
       "\n",
       "   eu_sales  jp_sales  other_sales  critic_score user_score rating  \n",
       "0     28.96      3.77         8.45          76.0          8      E  \n",
       "1      3.58      6.81         0.77           NaN        NaN    NaN  \n",
       "2     12.76      3.79         3.29          82.0        8.3      E  \n",
       "3     10.93      3.28         2.95          80.0          8      E  \n",
       "4      8.89     10.22         1.00           NaN        NaN    NaN  "
      ]
     },
     "execution_count": 9,
     "metadata": {},
     "output_type": "execute_result"
    }
   ],
   "source": [
    "data.head()"
   ]
  },
  {
   "cell_type": "markdown",
   "id": "7fbd487a",
   "metadata": {},
   "source": [
    "**Приведу содержимое колонок: \"name\", \"platform\", \"genre\", \"rating\" к нижнему регистру, для удобства последующих дополнительных проверок.**"
   ]
  },
  {
   "cell_type": "code",
   "execution_count": 10,
   "id": "349bff07",
   "metadata": {},
   "outputs": [],
   "source": [
    "for column_name in [\"name\", \"platform\", \"genre\", \"rating\"]:\n",
    "    data[column_name] = data[column_name].str.lower()"
   ]
  },
  {
   "cell_type": "code",
   "execution_count": 11,
   "id": "c0ed133e",
   "metadata": {},
   "outputs": [
    {
     "data": {
      "text/html": [
       "<div>\n",
       "<style scoped>\n",
       "    .dataframe tbody tr th:only-of-type {\n",
       "        vertical-align: middle;\n",
       "    }\n",
       "\n",
       "    .dataframe tbody tr th {\n",
       "        vertical-align: top;\n",
       "    }\n",
       "\n",
       "    .dataframe thead th {\n",
       "        text-align: right;\n",
       "    }\n",
       "</style>\n",
       "<table border=\"1\" class=\"dataframe\">\n",
       "  <thead>\n",
       "    <tr style=\"text-align: right;\">\n",
       "      <th></th>\n",
       "      <th>name</th>\n",
       "      <th>platform</th>\n",
       "      <th>year_of_release</th>\n",
       "      <th>genre</th>\n",
       "      <th>na_sales</th>\n",
       "      <th>eu_sales</th>\n",
       "      <th>jp_sales</th>\n",
       "      <th>other_sales</th>\n",
       "      <th>critic_score</th>\n",
       "      <th>user_score</th>\n",
       "      <th>rating</th>\n",
       "    </tr>\n",
       "  </thead>\n",
       "  <tbody>\n",
       "    <tr>\n",
       "      <td>0</td>\n",
       "      <td>wii sports</td>\n",
       "      <td>wii</td>\n",
       "      <td>2006.0</td>\n",
       "      <td>sports</td>\n",
       "      <td>41.36</td>\n",
       "      <td>28.96</td>\n",
       "      <td>3.77</td>\n",
       "      <td>8.45</td>\n",
       "      <td>76.0</td>\n",
       "      <td>8</td>\n",
       "      <td>e</td>\n",
       "    </tr>\n",
       "    <tr>\n",
       "      <td>1</td>\n",
       "      <td>super mario bros.</td>\n",
       "      <td>nes</td>\n",
       "      <td>1985.0</td>\n",
       "      <td>platform</td>\n",
       "      <td>29.08</td>\n",
       "      <td>3.58</td>\n",
       "      <td>6.81</td>\n",
       "      <td>0.77</td>\n",
       "      <td>NaN</td>\n",
       "      <td>NaN</td>\n",
       "      <td>NaN</td>\n",
       "    </tr>\n",
       "    <tr>\n",
       "      <td>2</td>\n",
       "      <td>mario kart wii</td>\n",
       "      <td>wii</td>\n",
       "      <td>2008.0</td>\n",
       "      <td>racing</td>\n",
       "      <td>15.68</td>\n",
       "      <td>12.76</td>\n",
       "      <td>3.79</td>\n",
       "      <td>3.29</td>\n",
       "      <td>82.0</td>\n",
       "      <td>8.3</td>\n",
       "      <td>e</td>\n",
       "    </tr>\n",
       "    <tr>\n",
       "      <td>3</td>\n",
       "      <td>wii sports resort</td>\n",
       "      <td>wii</td>\n",
       "      <td>2009.0</td>\n",
       "      <td>sports</td>\n",
       "      <td>15.61</td>\n",
       "      <td>10.93</td>\n",
       "      <td>3.28</td>\n",
       "      <td>2.95</td>\n",
       "      <td>80.0</td>\n",
       "      <td>8</td>\n",
       "      <td>e</td>\n",
       "    </tr>\n",
       "    <tr>\n",
       "      <td>4</td>\n",
       "      <td>pokemon red/pokemon blue</td>\n",
       "      <td>gb</td>\n",
       "      <td>1996.0</td>\n",
       "      <td>role-playing</td>\n",
       "      <td>11.27</td>\n",
       "      <td>8.89</td>\n",
       "      <td>10.22</td>\n",
       "      <td>1.00</td>\n",
       "      <td>NaN</td>\n",
       "      <td>NaN</td>\n",
       "      <td>NaN</td>\n",
       "    </tr>\n",
       "  </tbody>\n",
       "</table>\n",
       "</div>"
      ],
      "text/plain": [
       "                       name platform  year_of_release         genre  na_sales  \\\n",
       "0                wii sports      wii           2006.0        sports     41.36   \n",
       "1         super mario bros.      nes           1985.0      platform     29.08   \n",
       "2            mario kart wii      wii           2008.0        racing     15.68   \n",
       "3         wii sports resort      wii           2009.0        sports     15.61   \n",
       "4  pokemon red/pokemon blue       gb           1996.0  role-playing     11.27   \n",
       "\n",
       "   eu_sales  jp_sales  other_sales  critic_score user_score rating  \n",
       "0     28.96      3.77         8.45          76.0          8      e  \n",
       "1      3.58      6.81         0.77           NaN        NaN    NaN  \n",
       "2     12.76      3.79         3.29          82.0        8.3      e  \n",
       "3     10.93      3.28         2.95          80.0          8      e  \n",
       "4      8.89     10.22         1.00           NaN        NaN    NaN  "
      ]
     },
     "execution_count": 11,
     "metadata": {},
     "output_type": "execute_result"
    }
   ],
   "source": [
    "data.head()"
   ]
  },
  {
   "cell_type": "markdown",
   "id": "5e28a906",
   "metadata": {},
   "source": [
    "### Преобразуем данные в нужные типы и заполним пропуски."
   ]
  },
  {
   "cell_type": "code",
   "execution_count": 12,
   "id": "14d511ac",
   "metadata": {},
   "outputs": [
    {
     "data": {
      "text/html": [
       "<div>\n",
       "<style scoped>\n",
       "    .dataframe tbody tr th:only-of-type {\n",
       "        vertical-align: middle;\n",
       "    }\n",
       "\n",
       "    .dataframe tbody tr th {\n",
       "        vertical-align: top;\n",
       "    }\n",
       "\n",
       "    .dataframe thead th {\n",
       "        text-align: right;\n",
       "    }\n",
       "</style>\n",
       "<table border=\"1\" class=\"dataframe\">\n",
       "  <thead>\n",
       "    <tr style=\"text-align: right;\">\n",
       "      <th></th>\n",
       "      <th>name</th>\n",
       "      <th>platform</th>\n",
       "      <th>year_of_release</th>\n",
       "      <th>genre</th>\n",
       "      <th>na_sales</th>\n",
       "      <th>eu_sales</th>\n",
       "      <th>jp_sales</th>\n",
       "      <th>other_sales</th>\n",
       "      <th>critic_score</th>\n",
       "      <th>user_score</th>\n",
       "      <th>rating</th>\n",
       "    </tr>\n",
       "  </thead>\n",
       "  <tbody>\n",
       "    <tr>\n",
       "      <td>659</td>\n",
       "      <td>NaN</td>\n",
       "      <td>gen</td>\n",
       "      <td>1993.0</td>\n",
       "      <td>NaN</td>\n",
       "      <td>1.78</td>\n",
       "      <td>0.53</td>\n",
       "      <td>0.00</td>\n",
       "      <td>0.08</td>\n",
       "      <td>NaN</td>\n",
       "      <td>NaN</td>\n",
       "      <td>NaN</td>\n",
       "    </tr>\n",
       "    <tr>\n",
       "      <td>14244</td>\n",
       "      <td>NaN</td>\n",
       "      <td>gen</td>\n",
       "      <td>1993.0</td>\n",
       "      <td>NaN</td>\n",
       "      <td>0.00</td>\n",
       "      <td>0.00</td>\n",
       "      <td>0.03</td>\n",
       "      <td>0.00</td>\n",
       "      <td>NaN</td>\n",
       "      <td>NaN</td>\n",
       "      <td>NaN</td>\n",
       "    </tr>\n",
       "  </tbody>\n",
       "</table>\n",
       "</div>"
      ],
      "text/plain": [
       "      name platform  year_of_release genre  na_sales  eu_sales  jp_sales  \\\n",
       "659    NaN      gen           1993.0   NaN      1.78      0.53      0.00   \n",
       "14244  NaN      gen           1993.0   NaN      0.00      0.00      0.03   \n",
       "\n",
       "       other_sales  critic_score user_score rating  \n",
       "659           0.08           NaN        NaN    NaN  \n",
       "14244         0.00           NaN        NaN    NaN  "
      ]
     },
     "execution_count": 12,
     "metadata": {},
     "output_type": "execute_result"
    }
   ],
   "source": [
    "data[(data['name'].isna()) & (data['genre'].isna())]"
   ]
  },
  {
   "cell_type": "markdown",
   "id": "1252447c",
   "metadata": {},
   "source": [
    "**Строк с пропусками в колонках \"name\" и \"genre\" всего две. Возможно данные не указали при составлении таблицы.**     \n",
    "**Корректного способа заполнить эти пропуски нет, поэтому удалим такие строки.**"
   ]
  },
  {
   "cell_type": "code",
   "execution_count": 13,
   "id": "16531684",
   "metadata": {},
   "outputs": [],
   "source": [
    "data = data.dropna(subset=['name'])"
   ]
  },
  {
   "cell_type": "markdown",
   "id": "43765aa0",
   "metadata": {},
   "source": [
    "**Заполним пропуски в колонке \"year_of_release\" и укажем только год в формает int.**\n",
    "\n",
    "**Некоторые игры выходили одновременно (в один год) для различных платформ. Проверим есть ли эти же игры для других платформ и с датой релиза. Если есть, то заполним пропуски датой выхода как у найденной версии игры для другой платформы.**\n",
    "\n",
    "**Если версии игры не найдена для другой платформы или найдена, но нигде не указана дата выхода, то другого корректного способа заполнить пропуск нет. Тогда просто удалим такие строки.**"
   ]
  },
  {
   "cell_type": "code",
   "execution_count": 14,
   "id": "1aead070",
   "metadata": {},
   "outputs": [
    {
     "name": "stdout",
     "output_type": "stream",
     "text": [
      "\n",
      "Количество пропусков в столбе \"год релиза\" до обработки -  269\n"
     ]
    }
   ],
   "source": [
    "print('\\nКоличество пропусков в столбе \"год релиза\" до обработки - ', data['year_of_release'].isna().sum())"
   ]
  },
  {
   "cell_type": "code",
   "execution_count": 15,
   "id": "a1be1cf3",
   "metadata": {},
   "outputs": [],
   "source": [
    "data['year_of_release'] = data['year_of_release'].fillna(data.groupby('name')['year_of_release'].transform('median'))\n",
    "data = data.dropna(subset=['year_of_release'])"
   ]
  },
  {
   "cell_type": "code",
   "execution_count": 16,
   "id": "f127d260",
   "metadata": {},
   "outputs": [
    {
     "name": "stdout",
     "output_type": "stream",
     "text": [
      "\n",
      "Количество пропусков в столбе \"год релиза\" после обработки -  0\n"
     ]
    }
   ],
   "source": [
    "print('\\nКоличество пропусков в столбе \"год релиза\" после обработки - ', data['year_of_release'].isna().sum())"
   ]
  },
  {
   "cell_type": "code",
   "execution_count": 17,
   "id": "8e41bca2",
   "metadata": {},
   "outputs": [],
   "source": [
    "data['year_of_release'] = pd.to_datetime(data['year_of_release'], format='%Y').dt.year"
   ]
  },
  {
   "cell_type": "code",
   "execution_count": 18,
   "id": "dbf0cf90",
   "metadata": {},
   "outputs": [
    {
     "data": {
      "text/html": [
       "<div>\n",
       "<style scoped>\n",
       "    .dataframe tbody tr th:only-of-type {\n",
       "        vertical-align: middle;\n",
       "    }\n",
       "\n",
       "    .dataframe tbody tr th {\n",
       "        vertical-align: top;\n",
       "    }\n",
       "\n",
       "    .dataframe thead th {\n",
       "        text-align: right;\n",
       "    }\n",
       "</style>\n",
       "<table border=\"1\" class=\"dataframe\">\n",
       "  <thead>\n",
       "    <tr style=\"text-align: right;\">\n",
       "      <th></th>\n",
       "      <th>name</th>\n",
       "      <th>platform</th>\n",
       "      <th>year_of_release</th>\n",
       "      <th>genre</th>\n",
       "      <th>na_sales</th>\n",
       "      <th>eu_sales</th>\n",
       "      <th>jp_sales</th>\n",
       "      <th>other_sales</th>\n",
       "      <th>critic_score</th>\n",
       "      <th>user_score</th>\n",
       "      <th>rating</th>\n",
       "    </tr>\n",
       "  </thead>\n",
       "  <tbody>\n",
       "    <tr>\n",
       "      <td>0</td>\n",
       "      <td>wii sports</td>\n",
       "      <td>wii</td>\n",
       "      <td>2006</td>\n",
       "      <td>sports</td>\n",
       "      <td>41.36</td>\n",
       "      <td>28.96</td>\n",
       "      <td>3.77</td>\n",
       "      <td>8.45</td>\n",
       "      <td>76.0</td>\n",
       "      <td>8</td>\n",
       "      <td>e</td>\n",
       "    </tr>\n",
       "    <tr>\n",
       "      <td>1</td>\n",
       "      <td>super mario bros.</td>\n",
       "      <td>nes</td>\n",
       "      <td>1985</td>\n",
       "      <td>platform</td>\n",
       "      <td>29.08</td>\n",
       "      <td>3.58</td>\n",
       "      <td>6.81</td>\n",
       "      <td>0.77</td>\n",
       "      <td>NaN</td>\n",
       "      <td>NaN</td>\n",
       "      <td>NaN</td>\n",
       "    </tr>\n",
       "    <tr>\n",
       "      <td>2</td>\n",
       "      <td>mario kart wii</td>\n",
       "      <td>wii</td>\n",
       "      <td>2008</td>\n",
       "      <td>racing</td>\n",
       "      <td>15.68</td>\n",
       "      <td>12.76</td>\n",
       "      <td>3.79</td>\n",
       "      <td>3.29</td>\n",
       "      <td>82.0</td>\n",
       "      <td>8.3</td>\n",
       "      <td>e</td>\n",
       "    </tr>\n",
       "    <tr>\n",
       "      <td>3</td>\n",
       "      <td>wii sports resort</td>\n",
       "      <td>wii</td>\n",
       "      <td>2009</td>\n",
       "      <td>sports</td>\n",
       "      <td>15.61</td>\n",
       "      <td>10.93</td>\n",
       "      <td>3.28</td>\n",
       "      <td>2.95</td>\n",
       "      <td>80.0</td>\n",
       "      <td>8</td>\n",
       "      <td>e</td>\n",
       "    </tr>\n",
       "    <tr>\n",
       "      <td>4</td>\n",
       "      <td>pokemon red/pokemon blue</td>\n",
       "      <td>gb</td>\n",
       "      <td>1996</td>\n",
       "      <td>role-playing</td>\n",
       "      <td>11.27</td>\n",
       "      <td>8.89</td>\n",
       "      <td>10.22</td>\n",
       "      <td>1.00</td>\n",
       "      <td>NaN</td>\n",
       "      <td>NaN</td>\n",
       "      <td>NaN</td>\n",
       "    </tr>\n",
       "  </tbody>\n",
       "</table>\n",
       "</div>"
      ],
      "text/plain": [
       "                       name platform  year_of_release         genre  na_sales  \\\n",
       "0                wii sports      wii             2006        sports     41.36   \n",
       "1         super mario bros.      nes             1985      platform     29.08   \n",
       "2            mario kart wii      wii             2008        racing     15.68   \n",
       "3         wii sports resort      wii             2009        sports     15.61   \n",
       "4  pokemon red/pokemon blue       gb             1996  role-playing     11.27   \n",
       "\n",
       "   eu_sales  jp_sales  other_sales  critic_score user_score rating  \n",
       "0     28.96      3.77         8.45          76.0          8      e  \n",
       "1      3.58      6.81         0.77           NaN        NaN    NaN  \n",
       "2     12.76      3.79         3.29          82.0        8.3      e  \n",
       "3     10.93      3.28         2.95          80.0          8      e  \n",
       "4      8.89     10.22         1.00           NaN        NaN    NaN  "
      ]
     },
     "execution_count": 18,
     "metadata": {},
     "output_type": "execute_result"
    }
   ],
   "source": [
    "data.head()"
   ]
  },
  {
   "cell_type": "markdown",
   "id": "a3060fb4",
   "metadata": {},
   "source": [
    "**Пропуски в колонке \"оценка критиков\" можно было бы заполнить медианной оценкой основаной на группе по платформе и жанре игры. Но, считаю, что такое действие может исказить данные.**\n",
    "\n",
    "**Так как показатель типа рейтинг является качественной переменной( порядковой), то пропущенные значения в ячейке \"оценка критиков\" я буду заменять на -1 (группа для пропущенных значений).**\n",
    "\n",
    "**Значения могли быть пропущенны по технологическим причинам или по причине не существования на момент выхода  игры оценивающего издания ,  или игра просто не оценивалась (игра выпускалась только для внутреннего рынка, не популярный жанр, определенная возрастная аудитория).**"
   ]
  },
  {
   "cell_type": "code",
   "execution_count": 19,
   "id": "63c8cb33",
   "metadata": {},
   "outputs": [
    {
     "name": "stdout",
     "output_type": "stream",
     "text": [
      "\n",
      "Количество пропусков в столбе \"оценка критиков\" до обработки -  8492\n"
     ]
    }
   ],
   "source": [
    "print('\\nКоличество пропусков в столбе \"оценка критиков\" до обработки - ', data['critic_score'].isna().sum())"
   ]
  },
  {
   "cell_type": "code",
   "execution_count": 20,
   "id": "eb1d6d27",
   "metadata": {},
   "outputs": [],
   "source": [
    "# data['critic_score'] = data['critic_score'].fillna(data.groupby(['platform', 'genre'])['critic_score'].transform('median'))\n",
    "\n",
    "data['critic_score'] = data['critic_score'].fillna(-1)"
   ]
  },
  {
   "cell_type": "code",
   "execution_count": 21,
   "id": "c9d1b5bf",
   "metadata": {},
   "outputs": [
    {
     "name": "stdout",
     "output_type": "stream",
     "text": [
      "\n",
      "Количество пропусков в столбе \"оценка критиков\" после обработки -  0\n"
     ]
    }
   ],
   "source": [
    "print('\\nКоличество пропусков в столбе \"оценка критиков\" после обработки - ', data['critic_score'].isna().sum())"
   ]
  },
  {
   "cell_type": "code",
   "execution_count": 22,
   "id": "2478e371",
   "metadata": {},
   "outputs": [],
   "source": [
    "data['critic_score'] = data['critic_score'].round(0).astype('Int64')"
   ]
  },
  {
   "cell_type": "markdown",
   "id": "5f016b7b",
   "metadata": {},
   "source": [
    "**Пропуски в колонке \"оценка пользователей\" можно было бы заполнить медианной оценкой основаной на группе по платформе и жанре игры. Но, считаю, что такое действие может исказить данные.**\n",
    "\n",
    "**Так как показатель типа рейтинг является качественной переменной( порядковой), то пропущенные значения в ячейке \"оценка пользователей\" я буду заменять на -1 (группа для пропущенных значений).**\n",
    "\n",
    "**Значения могли быть пропущенны по технологическим причинам ,  или просто не оценивалась (игра выпускалась только для внутреннего рынка, не популярный жанр, определенная возрастная аудитория).**\n",
    "\n",
    "**Изменим тип данных на float32, как на сайте Metacritic.**"
   ]
  },
  {
   "cell_type": "code",
   "execution_count": 23,
   "id": "62a795e2",
   "metadata": {},
   "outputs": [
    {
     "data": {
      "text/plain": [
       "array(['8', nan, '8.3', '8.5', '6.6', '8.4', '8.6', '7.7', '6.3', '7.4',\n",
       "       '8.2', '9', '7.9', '8.1', '8.7', '7.1', '3.4', '5.3', '4.8', '3.2',\n",
       "       '8.9', '6.4', '7.8', '7.5', '2.6', '7.2', '9.2', '7', '7.3', '4.3',\n",
       "       '7.6', '5.7', '5', '9.1', '6.5', 'tbd', '8.8', '6.9', '9.4', '6.8',\n",
       "       '6.1', '6.7', '5.4', '4', '4.9', '4.5', '9.3', '6.2', '4.2', '6',\n",
       "       '3.7', '4.1', '5.8', '5.6', '5.5', '4.4', '4.6', '5.9', '3.9',\n",
       "       '3.1', '2.9', '5.2', '3.3', '4.7', '5.1', '3.5', '2.5', '1.9', '3',\n",
       "       '2.7', '2.2', '2', '9.5', '2.1', '3.6', '2.8', '1.8', '3.8', '0',\n",
       "       '1.6', '9.6', '2.4', '1.7', '1.1', '0.3', '1.5', '0.7', '1.2',\n",
       "       '2.3', '0.5', '1.3', '0.2', '0.6', '1.4', '0.9', '1', '9.7'],\n",
       "      dtype=object)"
      ]
     },
     "execution_count": 23,
     "metadata": {},
     "output_type": "execute_result"
    }
   ],
   "source": [
    "data['user_score'].unique() #Посмотрим на содержимое колонки"
   ]
  },
  {
   "cell_type": "markdown",
   "id": "1dba153d",
   "metadata": {},
   "source": [
    "**В колонке присутсвует абривиатура TBD(To Be Discussed) - подлежит обсуждению, то есть значит,что оценка не определена. Заменим абривиатуру на NaN.**"
   ]
  },
  {
   "cell_type": "code",
   "execution_count": 24,
   "id": "63c06b2c",
   "metadata": {},
   "outputs": [],
   "source": [
    "data['user_score'] = data['user_score'].replace('tbd', np.nan)"
   ]
  },
  {
   "cell_type": "code",
   "execution_count": 25,
   "id": "2f6674da",
   "metadata": {},
   "outputs": [
    {
     "name": "stdout",
     "output_type": "stream",
     "text": [
      "\n",
      "Количество пропусков в столбе \"оценка игроков\" до обработки -  9027\n"
     ]
    }
   ],
   "source": [
    "print('\\nКоличество пропусков в столбе \"оценка игроков\" до обработки - ', data['user_score'].isna().sum())"
   ]
  },
  {
   "cell_type": "code",
   "execution_count": 26,
   "id": "2db15e43",
   "metadata": {},
   "outputs": [],
   "source": [
    "# data['user_score'] = data['user_score'].fillna(data.query('user_score != \"tbd\"').groupby(['platform', 'genre'])['user_score'].transform('median'))\n",
    "data['user_score'] = data['user_score'].fillna(-1)"
   ]
  },
  {
   "cell_type": "code",
   "execution_count": 27,
   "id": "f9204b6d",
   "metadata": {},
   "outputs": [
    {
     "name": "stdout",
     "output_type": "stream",
     "text": [
      "\n",
      "Количество пропусков в столбе \"оценка игроков\" после первой обработки -  0\n"
     ]
    }
   ],
   "source": [
    "print('\\nКоличество пропусков в столбе \"оценка игроков\" после первой обработки - ', data['user_score'].isna().sum())"
   ]
  },
  {
   "cell_type": "code",
   "execution_count": 28,
   "id": "e115401e",
   "metadata": {},
   "outputs": [],
   "source": [
    "data['user_score'] = data['user_score'].astype('float32', errors='ignore')"
   ]
  },
  {
   "cell_type": "code",
   "execution_count": 29,
   "id": "ca7b9bb9",
   "metadata": {},
   "outputs": [
    {
     "data": {
      "text/html": [
       "<div>\n",
       "<style scoped>\n",
       "    .dataframe tbody tr th:only-of-type {\n",
       "        vertical-align: middle;\n",
       "    }\n",
       "\n",
       "    .dataframe tbody tr th {\n",
       "        vertical-align: top;\n",
       "    }\n",
       "\n",
       "    .dataframe thead th {\n",
       "        text-align: right;\n",
       "    }\n",
       "</style>\n",
       "<table border=\"1\" class=\"dataframe\">\n",
       "  <thead>\n",
       "    <tr style=\"text-align: right;\">\n",
       "      <th></th>\n",
       "      <th>name</th>\n",
       "      <th>platform</th>\n",
       "      <th>year_of_release</th>\n",
       "      <th>genre</th>\n",
       "      <th>na_sales</th>\n",
       "      <th>eu_sales</th>\n",
       "      <th>jp_sales</th>\n",
       "      <th>other_sales</th>\n",
       "      <th>critic_score</th>\n",
       "      <th>user_score</th>\n",
       "      <th>rating</th>\n",
       "    </tr>\n",
       "  </thead>\n",
       "  <tbody>\n",
       "    <tr>\n",
       "      <td>16710</td>\n",
       "      <td>samurai warriors: sanada maru</td>\n",
       "      <td>ps3</td>\n",
       "      <td>2016</td>\n",
       "      <td>action</td>\n",
       "      <td>0.00</td>\n",
       "      <td>0.00</td>\n",
       "      <td>0.01</td>\n",
       "      <td>0.0</td>\n",
       "      <td>-1</td>\n",
       "      <td>-1.0</td>\n",
       "      <td>NaN</td>\n",
       "    </tr>\n",
       "    <tr>\n",
       "      <td>16711</td>\n",
       "      <td>lma manager 2007</td>\n",
       "      <td>x360</td>\n",
       "      <td>2006</td>\n",
       "      <td>sports</td>\n",
       "      <td>0.00</td>\n",
       "      <td>0.01</td>\n",
       "      <td>0.00</td>\n",
       "      <td>0.0</td>\n",
       "      <td>-1</td>\n",
       "      <td>-1.0</td>\n",
       "      <td>NaN</td>\n",
       "    </tr>\n",
       "    <tr>\n",
       "      <td>16712</td>\n",
       "      <td>haitaka no psychedelica</td>\n",
       "      <td>psv</td>\n",
       "      <td>2016</td>\n",
       "      <td>adventure</td>\n",
       "      <td>0.00</td>\n",
       "      <td>0.00</td>\n",
       "      <td>0.01</td>\n",
       "      <td>0.0</td>\n",
       "      <td>-1</td>\n",
       "      <td>-1.0</td>\n",
       "      <td>NaN</td>\n",
       "    </tr>\n",
       "    <tr>\n",
       "      <td>16713</td>\n",
       "      <td>spirits &amp; spells</td>\n",
       "      <td>gba</td>\n",
       "      <td>2003</td>\n",
       "      <td>platform</td>\n",
       "      <td>0.01</td>\n",
       "      <td>0.00</td>\n",
       "      <td>0.00</td>\n",
       "      <td>0.0</td>\n",
       "      <td>-1</td>\n",
       "      <td>-1.0</td>\n",
       "      <td>NaN</td>\n",
       "    </tr>\n",
       "    <tr>\n",
       "      <td>16714</td>\n",
       "      <td>winning post 8 2016</td>\n",
       "      <td>psv</td>\n",
       "      <td>2016</td>\n",
       "      <td>simulation</td>\n",
       "      <td>0.00</td>\n",
       "      <td>0.00</td>\n",
       "      <td>0.01</td>\n",
       "      <td>0.0</td>\n",
       "      <td>-1</td>\n",
       "      <td>-1.0</td>\n",
       "      <td>NaN</td>\n",
       "    </tr>\n",
       "  </tbody>\n",
       "</table>\n",
       "</div>"
      ],
      "text/plain": [
       "                                name platform  year_of_release       genre  \\\n",
       "16710  samurai warriors: sanada maru      ps3             2016      action   \n",
       "16711               lma manager 2007     x360             2006      sports   \n",
       "16712        haitaka no psychedelica      psv             2016   adventure   \n",
       "16713               spirits & spells      gba             2003    platform   \n",
       "16714            winning post 8 2016      psv             2016  simulation   \n",
       "\n",
       "       na_sales  eu_sales  jp_sales  other_sales  critic_score  user_score  \\\n",
       "16710      0.00      0.00      0.01          0.0            -1        -1.0   \n",
       "16711      0.00      0.01      0.00          0.0            -1        -1.0   \n",
       "16712      0.00      0.00      0.01          0.0            -1        -1.0   \n",
       "16713      0.01      0.00      0.00          0.0            -1        -1.0   \n",
       "16714      0.00      0.00      0.01          0.0            -1        -1.0   \n",
       "\n",
       "      rating  \n",
       "16710    NaN  \n",
       "16711    NaN  \n",
       "16712    NaN  \n",
       "16713    NaN  \n",
       "16714    NaN  "
      ]
     },
     "execution_count": 29,
     "metadata": {},
     "output_type": "execute_result"
    }
   ],
   "source": [
    "data.tail()"
   ]
  },
  {
   "cell_type": "markdown",
   "id": "7b2ede7b",
   "metadata": {},
   "source": [
    "**Игры с разным жанром могут иметь разные возрастные ограничения. Кроме того, некоторым играм могло быть не присвоено возрастное ограничение.**\n",
    "\n",
    "**Пропуски с возрастной категорией заменю на маркерное значение \"NR\"(Нет рейтинга).**"
   ]
  },
  {
   "cell_type": "code",
   "execution_count": 30,
   "id": "06d23251",
   "metadata": {},
   "outputs": [
    {
     "name": "stdout",
     "output_type": "stream",
     "text": [
      "\n",
      "Количество пропусков в столбце \"возрастной рейтинг\" до обработки -  6699\n"
     ]
    }
   ],
   "source": [
    "print('\\nКоличество пропусков в столбце \"возрастной рейтинг\" до обработки - ', data['rating'].isna().sum())"
   ]
  },
  {
   "cell_type": "code",
   "execution_count": 31,
   "id": "95e5a070",
   "metadata": {},
   "outputs": [],
   "source": [
    "# dict_with_genre_and_most_common_rating = {}\n",
    "# for g in data['genre'].unique():\n",
    "#     l = data.query('genre == @g')['rating']\n",
    "#     l2 = Counter(l).most_common()\n",
    "#     if pd.isna(l2[0][0]):\n",
    "#         dict_with_genre_and_most_common_rating[g] = l2[1][0]\n",
    "#     else:\n",
    "#         dict_with_genre_and_most_common_rating[g] = l2[0][0]\n",
    "        \n",
    "# def get_rating(row):\n",
    "#     if pd.isna(row['rating']):\n",
    "#         r = dict_with_genre_and_most_common_rating[row['genre']]\n",
    "#         return r\n",
    "\n",
    "            \n",
    "# data['rating'] = data['rating'].fillna(data.apply(get_rating, axis=1))\n",
    "data['rating'] = data['rating'].fillna('nr')"
   ]
  },
  {
   "cell_type": "code",
   "execution_count": 32,
   "id": "44f50d19",
   "metadata": {},
   "outputs": [
    {
     "name": "stdout",
     "output_type": "stream",
     "text": [
      "\n",
      "Количество пропусков в столбце \"возрастной рейтинг\" после обработки -  0\n"
     ]
    }
   ],
   "source": [
    "print('\\nКоличество пропусков в столбце \"возрастной рейтинг\" после обработки - ', data['rating'].isna().sum())"
   ]
  },
  {
   "cell_type": "markdown",
   "id": "e2e0ecb7",
   "metadata": {},
   "source": [
    "### Посчитаем суммарные продажи во всех регионах и запишим их в отдельный столбец."
   ]
  },
  {
   "cell_type": "code",
   "execution_count": 33,
   "id": "727c9861",
   "metadata": {},
   "outputs": [],
   "source": [
    "data['total_sales'] = data['na_sales'] + data['eu_sales'] + data['jp_sales'] + data['other_sales']"
   ]
  },
  {
   "cell_type": "code",
   "execution_count": 34,
   "id": "f8d082a6",
   "metadata": {
    "scrolled": true
   },
   "outputs": [
    {
     "data": {
      "text/html": [
       "<div>\n",
       "<style scoped>\n",
       "    .dataframe tbody tr th:only-of-type {\n",
       "        vertical-align: middle;\n",
       "    }\n",
       "\n",
       "    .dataframe tbody tr th {\n",
       "        vertical-align: top;\n",
       "    }\n",
       "\n",
       "    .dataframe thead th {\n",
       "        text-align: right;\n",
       "    }\n",
       "</style>\n",
       "<table border=\"1\" class=\"dataframe\">\n",
       "  <thead>\n",
       "    <tr style=\"text-align: right;\">\n",
       "      <th></th>\n",
       "      <th>name</th>\n",
       "      <th>platform</th>\n",
       "      <th>year_of_release</th>\n",
       "      <th>genre</th>\n",
       "      <th>na_sales</th>\n",
       "      <th>eu_sales</th>\n",
       "      <th>jp_sales</th>\n",
       "      <th>other_sales</th>\n",
       "      <th>critic_score</th>\n",
       "      <th>user_score</th>\n",
       "      <th>rating</th>\n",
       "      <th>total_sales</th>\n",
       "    </tr>\n",
       "  </thead>\n",
       "  <tbody>\n",
       "    <tr>\n",
       "      <td>0</td>\n",
       "      <td>wii sports</td>\n",
       "      <td>wii</td>\n",
       "      <td>2006</td>\n",
       "      <td>sports</td>\n",
       "      <td>41.36</td>\n",
       "      <td>28.96</td>\n",
       "      <td>3.77</td>\n",
       "      <td>8.45</td>\n",
       "      <td>76</td>\n",
       "      <td>8.0</td>\n",
       "      <td>e</td>\n",
       "      <td>82.54</td>\n",
       "    </tr>\n",
       "    <tr>\n",
       "      <td>1</td>\n",
       "      <td>super mario bros.</td>\n",
       "      <td>nes</td>\n",
       "      <td>1985</td>\n",
       "      <td>platform</td>\n",
       "      <td>29.08</td>\n",
       "      <td>3.58</td>\n",
       "      <td>6.81</td>\n",
       "      <td>0.77</td>\n",
       "      <td>-1</td>\n",
       "      <td>-1.0</td>\n",
       "      <td>nr</td>\n",
       "      <td>40.24</td>\n",
       "    </tr>\n",
       "    <tr>\n",
       "      <td>2</td>\n",
       "      <td>mario kart wii</td>\n",
       "      <td>wii</td>\n",
       "      <td>2008</td>\n",
       "      <td>racing</td>\n",
       "      <td>15.68</td>\n",
       "      <td>12.76</td>\n",
       "      <td>3.79</td>\n",
       "      <td>3.29</td>\n",
       "      <td>82</td>\n",
       "      <td>8.3</td>\n",
       "      <td>e</td>\n",
       "      <td>35.52</td>\n",
       "    </tr>\n",
       "    <tr>\n",
       "      <td>3</td>\n",
       "      <td>wii sports resort</td>\n",
       "      <td>wii</td>\n",
       "      <td>2009</td>\n",
       "      <td>sports</td>\n",
       "      <td>15.61</td>\n",
       "      <td>10.93</td>\n",
       "      <td>3.28</td>\n",
       "      <td>2.95</td>\n",
       "      <td>80</td>\n",
       "      <td>8.0</td>\n",
       "      <td>e</td>\n",
       "      <td>32.77</td>\n",
       "    </tr>\n",
       "    <tr>\n",
       "      <td>4</td>\n",
       "      <td>pokemon red/pokemon blue</td>\n",
       "      <td>gb</td>\n",
       "      <td>1996</td>\n",
       "      <td>role-playing</td>\n",
       "      <td>11.27</td>\n",
       "      <td>8.89</td>\n",
       "      <td>10.22</td>\n",
       "      <td>1.00</td>\n",
       "      <td>-1</td>\n",
       "      <td>-1.0</td>\n",
       "      <td>nr</td>\n",
       "      <td>31.38</td>\n",
       "    </tr>\n",
       "  </tbody>\n",
       "</table>\n",
       "</div>"
      ],
      "text/plain": [
       "                       name platform  year_of_release         genre  na_sales  \\\n",
       "0                wii sports      wii             2006        sports     41.36   \n",
       "1         super mario bros.      nes             1985      platform     29.08   \n",
       "2            mario kart wii      wii             2008        racing     15.68   \n",
       "3         wii sports resort      wii             2009        sports     15.61   \n",
       "4  pokemon red/pokemon blue       gb             1996  role-playing     11.27   \n",
       "\n",
       "   eu_sales  jp_sales  other_sales  critic_score  user_score rating  \\\n",
       "0     28.96      3.77         8.45            76         8.0      e   \n",
       "1      3.58      6.81         0.77            -1        -1.0     nr   \n",
       "2     12.76      3.79         3.29            82         8.3      e   \n",
       "3     10.93      3.28         2.95            80         8.0      e   \n",
       "4      8.89     10.22         1.00            -1        -1.0     nr   \n",
       "\n",
       "   total_sales  \n",
       "0        82.54  \n",
       "1        40.24  \n",
       "2        35.52  \n",
       "3        32.77  \n",
       "4        31.38  "
      ]
     },
     "execution_count": 34,
     "metadata": {},
     "output_type": "execute_result"
    }
   ],
   "source": [
    "data.head()"
   ]
  },
  {
   "cell_type": "markdown",
   "id": "3ca82466",
   "metadata": {},
   "source": [
    "### Вывод"
   ]
  },
  {
   "cell_type": "code",
   "execution_count": 35,
   "id": "6a4197c9",
   "metadata": {},
   "outputs": [
    {
     "name": "stdout",
     "output_type": "stream",
     "text": [
      "<class 'pandas.core.frame.DataFrame'>\n",
      "Int64Index: 16567 entries, 0 to 16714\n",
      "Data columns (total 12 columns):\n",
      "name               16567 non-null object\n",
      "platform           16567 non-null object\n",
      "year_of_release    16567 non-null int64\n",
      "genre              16567 non-null object\n",
      "na_sales           16567 non-null float64\n",
      "eu_sales           16567 non-null float64\n",
      "jp_sales           16567 non-null float64\n",
      "other_sales        16567 non-null float64\n",
      "critic_score       16567 non-null Int64\n",
      "user_score         16567 non-null float32\n",
      "rating             16567 non-null object\n",
      "total_sales        16567 non-null float64\n",
      "dtypes: Int64(1), float32(1), float64(5), int64(1), object(4)\n",
      "memory usage: 1.6+ MB\n"
     ]
    }
   ],
   "source": [
    "data.info()"
   ]
  },
  {
   "cell_type": "markdown",
   "id": "e210459c",
   "metadata": {},
   "source": [
    "**Согласно ответам ЯНДЕКСА на поисковые запросы :\"Крупные издания, занимавшиеся/занимающиеся оценками компьютерных игр начали свою деятельность примерно с 2000 года\".**\n",
    "\n",
    "**Возможно у большинства игр  нет оценки критиков и пользователей потому, что контент выходил до 2000 года, неопределенность пользовательских мнений (как в случае с TBD), не популярность жанра или платформы, ограниченный релиз( только для внутреннего рынка конкретной страны. Например, для Японии), определенная возрастная категория( для детей, например) или технологическая ошибка.**\n",
    "\n",
    "**Показатель типа рейтинг/оценка является качественной переменной(порядковой), пропущенные значения в ячейках с порядковым значениями заменили на ноль (группа для пропущенных значений).**"
   ]
  },
  {
   "cell_type": "markdown",
   "id": "0ad8437e",
   "metadata": {},
   "source": [
    "## Шаг 3. Исследовательский анализ данных."
   ]
  },
  {
   "cell_type": "markdown",
   "id": "f6c450ee",
   "metadata": {},
   "source": [
    "### Посмотрим, сколько игр выпускалось в разные годы."
   ]
  },
  {
   "cell_type": "code",
   "execution_count": 36,
   "id": "b957d964",
   "metadata": {},
   "outputs": [
    {
     "data": {
      "image/png": "[encoded data removed]",
      "text/plain": [
       "<Figure size 1440x360 with 1 Axes>"
      ]
     },
     "metadata": {
      "needs_background": "light"
     },
     "output_type": "display_data"
    }
   ],
   "source": [
    "plt.figure(figsize=(20, 5))\n",
    "plt.title('Распределение количества выпускаемых игр по годам.', fontsize=20)\n",
    "plt.ylabel('NUMBER OF GAMES')\n",
    "plt.xlabel('YEAR OF RELEASE')\n",
    "plt.plot(data.groupby('year_of_release')['name'].count(), 'o-', label='NUMBER OF GAMES', alpha=1)\n",
    "plt.axvspan(1991, 2008, color='green', label='ПЕРИОД РОСТА', alpha=0.3)\n",
    "plt.grid(True)\n",
    "plt.legend();"
   ]
  },
  {
   "cell_type": "markdown",
   "id": "6f245f29",
   "metadata": {},
   "source": [
    "**По графику видно, что рост количества выпускаемых компьютерных игр идет в период с 1991 по 2008 год, в 2008 максимальное количество выпущенных игр - 1441. После 2008 количество выпускаемых игр идет на спад. До 1991 года количество игр держится примерно на одном уровне.**\n",
    "\n",
    "**До 1990 года была эпоха старых консолей, потому и количетсво выпускаемых игр было не велико.В 1991 году выходит SNES, консоль нового поколения, начинается популяризация видео игр. 2008 год  - год начала Мирового экономического кризиса, как следствие количество выпускаемых игр пошло на спад.**"
   ]
  },
  {
   "cell_type": "markdown",
   "id": "cdf266e6",
   "metadata": {},
   "source": [
    "### Посмотрим, как менялись продажи по платформам и за какой характерный срок появляются новые и исчезают старые платформы."
   ]
  },
  {
   "cell_type": "markdown",
   "id": "fba9720a",
   "metadata": {},
   "source": [
    "**Определим самые популярные платформы с наибольшим количеством проданных игр.**"
   ]
  },
  {
   "cell_type": "code",
   "execution_count": 37,
   "id": "caae86ca",
   "metadata": {},
   "outputs": [
    {
     "data": {
      "image/png": "[encoded data removed]",
      "text/plain": [
       "<Figure size 1440x360 with 1 Axes>"
      ]
     },
     "metadata": {
      "needs_background": "light"
     },
     "output_type": "display_data"
    }
   ],
   "source": [
    "# Сгруппирую платформы и суммарные продажи и упорядочу по убыванию значения суммарных продаж для наглядного отображения.\n",
    "all_platform_and_total_sales = data.pivot_table(index='platform', values='total_sales', aggfunc='sum').sort_values(by='total_sales', ascending=False)\n",
    "plt.figure(figsize=(20, 5))\n",
    "plt.title('ПЛАТФОРМЫ И СУММАРНОЕ КОЛИЧЕСТВО ПРОДАННЫХ ИГР.', fontsize=20)\n",
    "sns.barplot(x=all_platform_and_total_sales.index, y=all_platform_and_total_sales['total_sales'])\n",
    "plt.ylabel('TOTAL SALES')\n",
    "plt.xlabel('PLATFORM')\n",
    "plt.grid(True);"
   ]
  },
  {
   "cell_type": "markdown",
   "id": "34f5a0e5",
   "metadata": {},
   "source": [
    "**С наибольшим отрывом от остальных лидирующие позиции занимают 6 платформ.**\n",
    "\n",
    "**PS4, XBOXONE не менее популярные платформы, хотя и не попали в список лидеров. Вполне возможно это связано с тем, что консоли с момента выхода не обзавелись большой библиотекой игр на момент составления отчета.**"
   ]
  },
  {
   "cell_type": "code",
   "execution_count": 38,
   "id": "025029d7",
   "metadata": {},
   "outputs": [
    {
     "data": {
      "image/png": "[encoded data removed]",
      "text/plain": [
       "<Figure size 1440x1008 with 6 Axes>"
      ]
     },
     "metadata": {
      "needs_background": "light"
     },
     "output_type": "display_data"
    }
   ],
   "source": [
    "position = 0\n",
    "top_platform = all_platform_and_total_sales.reset_index()['platform'].head(6)\n",
    "plt.figure(figsize=[20, 14])\n",
    "plt.subplots_adjust(wspace=0.3, hspace=0.3)\n",
    "plt.suptitle('ПЛАТФОРМЫ И КОЛИЧЕСТВО ПРОДАННЫХ ИГРЫ ПО ГОДАМ.', fontsize=15)\n",
    "for name_of_platform in top_platform:\n",
    "    position += 1\n",
    "    pvt = data.query('platform == @name_of_platform').pivot_table(index='year_of_release', values='total_sales', aggfunc='sum')\n",
    "    plt.subplot(3, 3, position)\n",
    "    plt.title(f'ПЛАТФОРМФA {name_of_platform.upper()}.', fontsize=10)\n",
    "    plt.plot(pvt, 'o-', label='NUMBER OF GAMES', alpha=1)\n",
    "    plt.ylabel('NUMBER OF GAMES')\n",
    "    plt.xlabel('YEAR OF RELEASE')\n",
    "    plt.grid(True)\n",
    "    plt.legend()\n",
    "plt.show();"
   ]
  },
  {
   "cell_type": "code",
   "execution_count": 39,
   "id": "e8ce48f4",
   "metadata": {},
   "outputs": [
    {
     "name": "stdout",
     "output_type": "stream",
     "text": [
      "\n",
      "Средний жизненный цикл платформы - 11 лет\n"
     ]
    }
   ],
   "source": [
    "list_with_life_cycle_of_consoles = []\n",
    "for name_platform in top_platform:\n",
    "    life_cycle = data.query('(platform == @name_platform)').pivot_table(index='year_of_release', values='total_sales', aggfunc='sum').count()\n",
    "    list_with_life_cycle_of_consoles.append(life_cycle)\n",
    "mean_life_cycle = int(np.mean(list_with_life_cycle_of_consoles))\n",
    "print(f'\\nСредний жизненный цикл платформы - {mean_life_cycle} лет')"
   ]
  },
  {
   "cell_type": "markdown",
   "id": "68b26954",
   "metadata": {},
   "source": [
    "**По представлениям на графиках можно сказать, что в среднем консоль живет около 11 лет.**\n",
    "\n",
    "**Почти все платформы на графиков имеют тенденцию спада количества выпускаемых игр к 2016 году (составлению отчета).**"
   ]
  },
  {
   "cell_type": "markdown",
   "id": "8378239a",
   "metadata": {},
   "source": [
    "### Актуальный период для составления прогноза на 2017 год."
   ]
  },
  {
   "cell_type": "markdown",
   "id": "d7662625",
   "metadata": {},
   "source": [
    "**Учитывая полученные выше выводы, актуальный период для составления прогноза на 2017 год будет начинатся с 2012 года.**"
   ]
  },
  {
   "cell_type": "markdown",
   "id": "a72a3c43",
   "metadata": {},
   "source": [
    "###  Посмотрим какие платформы лидируют по продажам, растут или падают. Выберем несколько потенциально прибыльных платформ."
   ]
  },
  {
   "cell_type": "code",
   "execution_count": 40,
   "id": "99b312ea",
   "metadata": {},
   "outputs": [],
   "source": [
    "df_with_forecast = data.query('year_of_release >= 2012')"
   ]
  },
  {
   "cell_type": "code",
   "execution_count": 41,
   "id": "704e90b0",
   "metadata": {},
   "outputs": [
    {
     "name": "stdout",
     "output_type": "stream",
     "text": [
      "\n",
      "Количество платформ для прогноза - 11\n"
     ]
    }
   ],
   "source": [
    "number_of_platform_for_forecast = len(df_with_forecast['platform'].unique())\n",
    "\n",
    "print(f'\\nКоличество платформ для прогноза - {number_of_platform_for_forecast}')"
   ]
  },
  {
   "cell_type": "code",
   "execution_count": 42,
   "id": "81801914",
   "metadata": {},
   "outputs": [
    {
     "data": {
      "image/png": "[encoded data removed]",
      "text/plain": [
       "<Figure size 1440x576 with 2 Axes>"
      ]
     },
     "metadata": {
      "needs_background": "light"
     },
     "output_type": "display_data"
    }
   ],
   "source": [
    "plt.figure(figsize=(20, 8))\n",
    "plt.title('ПЛАТФОРМЫ И СУММАРНОЕ КОЛИЧЕСТВО ПРОДАННЫХ ИГР В КАЖДОМ ГОДУ.', fontsize=20)\n",
    "(sns\n",
    " .heatmap(df_with_forecast.pivot_table(index='platform', columns='year_of_release', values='total_sales', aggfunc='sum'), annot=True, cmap=\"coolwarm\",linewidths=3))\n",
    "plt.ylabel('PLATFORMS')\n",
    "plt.xlabel('YEARS')\n",
    "plt.grid(True);"
   ]
  },
  {
   "cell_type": "markdown",
   "id": "32ba05f3",
   "metadata": {},
   "source": [
    "**Потенциально прибыльными платформами будут: 3DS, XONE, PS4, WIIU, PC.**\n",
    "\n",
    "**Большинство платформ к 2016 году либо перестали выпускать игры, либо тенденция по выпуску игр пошла на спад.**\n",
    "\n",
    "**Выше перечисленные плтаформы в соответствие с графиком появились недавно, а их тенденция к выпуску игр имеет положительную динамику. PC  же  хоть и имеет неоднозначную динамику, но не строго отрицательную и имеет значительный объем ежегодно выпускаемых игр. Считаю, что эта платформа будет оставаться актуальной долгое время.**"
   ]
  },
  {
   "cell_type": "markdown",
   "id": "0c84e817",
   "metadata": {},
   "source": [
    "### Построим график «ящик с усами» по глобальным продажам игр в разбивке по платформам."
   ]
  },
  {
   "cell_type": "code",
   "execution_count": 43,
   "id": "42814aaa",
   "metadata": {},
   "outputs": [
    {
     "data": {
      "image/png": "[encoded data removed]",
      "text/plain": [
       "<Figure size 1440x360 with 1 Axes>"
      ]
     },
     "metadata": {
      "needs_background": "light"
     },
     "output_type": "display_data"
    }
   ],
   "source": [
    "list_with_promising_platforms = ['ps4', 'xone', 'wiiu', '3ds', 'pc']\n",
    "df_with_promossing_platform = df_with_forecast[df_with_forecast['platform'].isin(list_with_promising_platforms)]\n",
    "\n",
    "plt.figure(figsize=(20, 5))\n",
    "plt.xlim(-0.1, 2)\n",
    "plt.title('ЯЩИК С УСАМИ ДЛЯ ГЛОБАЛЬНЫХ ПРОДАЖ ПО ПЛАТФОРМАМ.', fontsize=20)\n",
    "sns.boxplot(x='total_sales', y='platform', data=df_with_promossing_platform, orient='h')\n",
    "plt.ylabel('TOTAL SALES')\n",
    "plt.xlabel('PLATFORM')\n",
    "plt.grid(True);"
   ]
  },
  {
   "cell_type": "markdown",
   "id": "3e3526cc",
   "metadata": {},
   "source": [
    "**По графику можно сказать, что большего всего продаются игры для PS4, XBOXONE, WIIU.**\n",
    "\n",
    "**На графике:**\n",
    "\n",
    "1. **Медиана у лидеров находится дальше остальных. Разброс больше, так как значений (продаж) больше, средняя/медианная прибыль больше.**\n",
    "\n",
    "2. **Размах усов для ящиков ограничен минимуом и максимумом, и он шире чем у двух других консолей. Это значит, что в диапазон попадает большое количество значений(нормальных ). Обьянятется тем, что платформы имеют большое число продаж. Выбросы и аномалии находятся за приделами усов.**"
   ]
  },
  {
   "cell_type": "markdown",
   "id": "0c6d41d8",
   "metadata": {},
   "source": [
    "### Посмотрим, как влияют на продажи внутри одной популярной платформы отзывы пользователей и критиков. Построим диаграмму рассеяния и посчитайте корреляцию между отзывами и продажами."
   ]
  },
  {
   "cell_type": "code",
   "execution_count": 44,
   "id": "4bc1b89e",
   "metadata": {},
   "outputs": [],
   "source": [
    "df_for_ps4 = df_with_promossing_platform[(df_with_promossing_platform['platform'] == 'ps4') & (df_with_promossing_platform['user_score'] != -1) & (df_with_promossing_platform['user_score'] != 0) ]"
   ]
  },
  {
   "cell_type": "code",
   "execution_count": 45,
   "id": "3ed25e2e",
   "metadata": {
    "scrolled": false
   },
   "outputs": [
    {
     "data": {
      "image/png": "[encoded data removed]",
      "text/plain": [
       "<Figure size 1440x360 with 2 Axes>"
      ]
     },
     "metadata": {
      "needs_background": "light"
     },
     "output_type": "display_data"
    }
   ],
   "source": [
    "plt.figure(figsize=(20, 5))\n",
    "plt.suptitle('ДИАГРАММА РАССЕЯНИЯ:', fontsize=15)\n",
    "\n",
    "plt.subplot(1, 2, 1)\n",
    "plt.title('ДЛЯ ОТЗЫВОВ ПОЛЬЗОВАТЛЕЙ.', fontsize=10)\n",
    "sns.scatterplot(x='user_score', y='total_sales', data=df_for_ps4)\n",
    "plt.ylabel('TOTAL SALES')\n",
    "plt.xlabel('USER SCORE')\n",
    "plt.grid(True)\n",
    "\n",
    "plt.subplot(1, 2, 2)\n",
    "plt.title('ДЛЯ ОТЗЫВОВ КРИТИКОВ.', fontsize=10)\n",
    "sns.scatterplot(x='critic_score', y='total_sales', data=df_for_ps4)\n",
    "plt.ylabel('TOTAL SALES')\n",
    "plt.xlabel('CRITIC SCORE')\n",
    "plt.grid(True);"
   ]
  },
  {
   "cell_type": "code",
   "execution_count": 46,
   "id": "7e80c2fc",
   "metadata": {},
   "outputs": [
    {
     "name": "stdout",
     "output_type": "stream",
     "text": [
      "\n",
      "Коэффицент корреляции для отзывов критиков - 0.35\n",
      "\n",
      "Коэффицент корреляции для отзывов пользователей - -0.03\n"
     ]
    }
   ],
   "source": [
    "cor_with_critic_score = df_for_ps4['total_sales'].corr(df_for_ps4['critic_score'].astype('float32'))\n",
    "cor_with_user_score = df_for_ps4['total_sales'].corr(df_for_ps4['user_score'])\n",
    "print(f'\\nКоэффицент корреляции для отзывов критиков - {cor_with_critic_score:.2f}')\n",
    "print(f'\\nКоэффицент корреляции для отзывов пользователей - {cor_with_user_score:.2f}')"
   ]
  },
  {
   "cell_type": "markdown",
   "id": "c9f48af4",
   "metadata": {},
   "source": [
    "**Коэффиценты корреляции для оценки критиков положительный. Отзывы оказывают влияние, умеренное. Мнение критиков имеет превосходство над мнение пользователей.**"
   ]
  },
  {
   "cell_type": "markdown",
   "id": "9d7386e7",
   "metadata": {},
   "source": [
    "### Соотнесем выводы с продажами игр на других платформах."
   ]
  },
  {
   "cell_type": "code",
   "execution_count": 47,
   "id": "2de4426a",
   "metadata": {},
   "outputs": [
    {
     "data": {
      "image/png": "[encoded data removed]",
      "text/plain": [
       "<Figure size 1440x1080 with 10 Axes>"
      ]
     },
     "metadata": {
      "needs_background": "light"
     },
     "output_type": "display_data"
    }
   ],
   "source": [
    "position = 0\n",
    "plt.figure(figsize=[20,15])\n",
    "plt.subplots_adjust(wspace=0.4, hspace=1.2)\n",
    "plt.suptitle('ДИАГРАММА РАССЕЯНИЯ:', fontsize=15)\n",
    "\n",
    "for name_of_platform in list_with_promising_platforms:\n",
    "    position += 1\n",
    "    df_for_console = df_with_promossing_platform[(df_with_promossing_platform['platform'] == name_of_platform) & (df_with_promossing_platform['user_score'] != 0) & (df_with_promossing_platform['user_score'] != -1)]\n",
    "    \n",
    "    plt.subplot(5, 2, position)\n",
    "    cor_with_user_score = df_for_console['total_sales'].corr(df_for_console['user_score'])\n",
    "    plt.title(f'ДЛЯ ОТЗЫВОВ ПОЛЬЗОВАТЕЛЕЙ И ПРОДАЖАХ НА {name_of_platform.upper()},\\n\\nКОЭФФИЦЕНТ ПИРСОНА: {cor_with_user_score:.2f}.', fontsize=13)\n",
    "    sns.scatterplot(x='user_score', y='total_sales', data=df_for_console)\n",
    "    plt.xlabel('USER SCORE')\n",
    "    plt.ylabel('TOTAL SALES')\n",
    "    plt.grid(True)\n",
    "    \n",
    "    position += 1\n",
    "    plt.subplot(5, 2, position)\n",
    "    cor_with_critic_score = df_for_console['total_sales'].corr(df_for_console['critic_score'].astype('float32'))\n",
    "    plt.title(f'ДЛЯ ОТЗЫВОВ КРИТИКОВ И ПРОДАЖАХ НА {name_of_platform.upper()},\\n\\nКОЭФФИЦЕНТ ПИРСОНА: {cor_with_critic_score:.2f}.', fontsize=13)\n",
    "    sns.scatterplot(x='critic_score', y='total_sales', data=df_for_console)\n",
    "    plt.xlabel('CRITIC SCORE')\n",
    "    plt.ylabel('TOTAL SALES')\n",
    "    plt.grid(True);\n"
   ]
  },
  {
   "cell_type": "markdown",
   "id": "4f17aaa6",
   "metadata": {},
   "source": [
    "**Влияние отзывов пользователей на продажи пока велико для WIIU и 3DS. Влияние мнения критиков, хоть и не имеет высоких показателей в общем, но значительно выше влияния пользователских оценок.**\n",
    "\n",
    "**Исходя из такой корреляции можно предположить, что данное являение может иметь определенный успех в будущем для продаж.**\n",
    "\n",
    "**Относительно всех платформ - самое сильное влияние отзывов критиков и пользователей у консоли WIIU, а самое слабое у PC.**"
   ]
  },
  {
   "cell_type": "markdown",
   "id": "e86f84af",
   "metadata": {},
   "source": [
    "### Посмотрим на общее распределение игр по жанрам."
   ]
  },
  {
   "cell_type": "code",
   "execution_count": 48,
   "id": "73622180",
   "metadata": {
    "scrolled": false
   },
   "outputs": [],
   "source": [
    "# all_genre_and_total_sales = df_with_promossing_platform.pivot_table(index='genre', values='total_sales', aggfunc='sum').sort_values(by='total_sales', ascending=False).reset_index()\n",
    "# plt.figure(figsize=(20, 5))\n",
    "# plt.title('ЖАНРЫ И СУММАРНОЕ КОЛИЧЕСТВО ПРОДАННЫХ ИГР.', fontsize=20)\n",
    "# sns.barplot(x='genre', y='total_sales', data=all_genre_and_total_sales)\n",
    "# plt.ylabel('TOTAL SALES')\n",
    "# plt.xlabel('GENRE')\n",
    "# plt.grid(True);"
   ]
  },
  {
   "cell_type": "code",
   "execution_count": 49,
   "id": "1a456edc",
   "metadata": {},
   "outputs": [
    {
     "data": {
      "image/png": "[encoded data removed]",
      "text/plain": [
       "<Figure size 1440x360 with 1 Axes>"
      ]
     },
     "metadata": {
      "needs_background": "light"
     },
     "output_type": "display_data"
    }
   ],
   "source": [
    "all_genre_and_total_sales = df_with_promossing_platform.pivot_table(index='genre', values='total_sales', aggfunc='median').sort_values(by='total_sales', ascending=False).reset_index()\n",
    "plt.figure(figsize=(20, 5))\n",
    "plt.title('ЖАНРЫ И МЕДИАННОЕ КОЛИЧЕСТВО ПРОДАННЫХ ИГР НА ЕДЕНИЦУ ЖАНРА.', fontsize=20)\n",
    "sns.barplot(x='genre', y='total_sales', data=all_genre_and_total_sales)\n",
    "plt.ylabel('TOTAL SALES')\n",
    "plt.xlabel('GENRE')\n",
    "plt.grid(True);"
   ]
  },
  {
   "cell_type": "markdown",
   "id": "781d5956",
   "metadata": {},
   "source": [
    "**Самый популярный жанр - \"shooter\", у него больше всего продаж, а меньше всего у \"adventure\", этот жанр менее популярен.**\n",
    "\n",
    "**Наибольшую популярность имеют жанры: \"shooter\", \"sports\", \"platform\", \"role-playing\". У них наибольшее количество продаж с отрывом от остальных.\"**"
   ]
  },
  {
   "cell_type": "markdown",
   "id": "28814e5f",
   "metadata": {},
   "source": [
    "### Вывод"
   ]
  },
  {
   "cell_type": "markdown",
   "id": "954ccaae",
   "metadata": {},
   "source": [
    "**Средний срок жизни игровой платформы составляет 11 лет. Потенциально прибыльными платформами на период с 2017 года считаю: 3DS, XONE, PS4, WIIU, PC. Они появились недавно, и имею положительную динамику роста количества продаж игр.**\n",
    "\n",
    "**Мнения критиков влияет на количество продаж, хоть и не сильно, зато жанр имеет большее значение. Игроки больше ценят: \"shooter\", \"sports\", \"platform\", \"role-playing\".** "
   ]
  },
  {
   "cell_type": "markdown",
   "id": "aafcf1a6",
   "metadata": {},
   "source": [
    "## Составим портрет пользователя каждого региона."
   ]
  },
  {
   "cell_type": "markdown",
   "id": "53f024d0",
   "metadata": {},
   "source": [
    "### Определим для пользователя каждого региона (NA, EU, JP) самые популярные платформы (топ-5)."
   ]
  },
  {
   "cell_type": "code",
   "execution_count": 50,
   "id": "6900d1da",
   "metadata": {},
   "outputs": [],
   "source": [
    "forecast_for_na = df_with_forecast.loc[:, 'name':'genre']\n",
    "forecast_for_na['na_sales'] = df_with_forecast['na_sales']\n",
    "forecast_for_na['rating'] = df_with_forecast['rating']\n",
    "\n",
    "forecast_for_eu = df_with_forecast.loc[:, 'name':'genre']\n",
    "forecast_for_eu['eu_sales'] = df_with_forecast['eu_sales']\n",
    "forecast_for_eu['rating'] = df_with_forecast['rating']\n",
    "\n",
    "forecast_for_jp = df_with_forecast.loc[:, 'name':'genre']\n",
    "forecast_for_jp['jp_sales'] = df_with_forecast['jp_sales']\n",
    "forecast_for_jp['rating'] = df_with_forecast['rating']"
   ]
  },
  {
   "cell_type": "code",
   "execution_count": 51,
   "id": "a54cdb2e",
   "metadata": {},
   "outputs": [
    {
     "data": {
      "image/png": "[encoded data removed]",
      "text/plain": [
       "<Figure size 1440x504 with 3 Axes>"
      ]
     },
     "metadata": {
      "needs_background": "light"
     },
     "output_type": "display_data"
    }
   ],
   "source": [
    "position = 0\n",
    "plt.figure(figsize=[20, 7])\n",
    "plt.subplots_adjust(wspace=0.18, hspace=0.3)\n",
    "plt.suptitle('САМЫЕ ПОПУЛЯРНЫЕ ПЛАТФОРМЫ:', fontsize=15)\n",
    "for region, forecast_for_region in {'na_sales': forecast_for_na, 'eu_sales': forecast_for_eu, 'jp_sales': forecast_for_jp}.items():\n",
    "    position += 1\n",
    "    all_sales_in_region = forecast_for_region[region].sum()\n",
    "    total_sales_for_regin_by_platform = forecast_for_region.pivot_table(index='platform',\n",
    "                                                                        values=region,\n",
    "                                                                        aggfunc='sum').sort_values(by=region,\n",
    "                                                                                                   ascending=False).reset_index()\n",
    "    plt.subplot(1, 3, position)\n",
    "    plt.title(f'ДЛЯ РЕГИОНА {region[0:2].upper()}', fontsize=13)\n",
    "    pop_platform = sns.barplot(x='platform', y=region, data=total_sales_for_regin_by_platform)\n",
    "    for p in pop_platform.patches:\n",
    "        pop_platform.annotate(format(p.get_height() / all_sales_in_region * 100, '.1f'), \n",
    "        (p.get_x() + p.get_width() / 2., p.get_height()), \n",
    "        ha = 'center', va = 'center', \n",
    "        xytext = (0, 9), \n",
    "        textcoords = 'offset points')\n",
    "    plt.ylabel('SALES')\n",
    "    plt.xlabel('PLATFORM')\n",
    "    plt.grid(True);\n",
    "    \n",
    "#     position += 1\n",
    "#     sizes = []\n",
    "#     labels = list(total_sales_for_regin_by_platform['platform'])\n",
    "#     all_sales_in_region = forecast_for_region[region].sum()\n",
    "#     for plfrm in labels:\n",
    "#         sz = (forecast_for_region.query('platform == @plfrm')[region].sum() / all_sales_in_region) * 100\n",
    "#         sizes.append(sz)\n",
    "#     plt.subplot(3, 2, position)\n",
    "#     plt.title(f'ДОЛЯ ПРОДАЖ ИГР ПО ПЛАТФОРМАМ РЕГИОНА {region[0:2].upper()}', fontsize=13)\n",
    "#     plt.pie(sizes,\n",
    "#             shadow=True,\n",
    "#             startangle=140,)\n",
    "#     text_for_legend = [f'{l}, {s:0.1f}%' for l, s in zip(labels, sizes)]\n",
    "#     plt.legend(loc ='upper right', labels=text_for_legend)\n",
    "#     plt.axis('equal');\n",
    "    "
   ]
  },
  {
   "cell_type": "markdown",
   "id": "ecf208ce",
   "metadata": {},
   "source": [
    " - **<u>Для Северной Америки самыми популярными платформами являются:</u>**\n",
    "\n",
    "1. **XBOX360 - у нее 23.7% от общего числа продаж в регионе.**\n",
    "\n",
    "\n",
    "2. **PS4 - у нее 18.3% от общего числа продаж в регионе.**\n",
    "\n",
    "\n",
    "3. **PS3 - у нее 17.5% от общего числа продаж в регионе.**\n",
    "\n",
    "\n",
    "4. **XONE - у нее 15.7% от общего числа продаж в регионе.**\n",
    "\n",
    "\n",
    "5. **3DS - у нее 9.4% от общего числа продаж в регионе.**\n",
    "\n",
    " - **<u>Для Европейского региона самыми популярными платформами являются:</u>**\n",
    "\n",
    "\n",
    "1. **PS4 - у нее 27.7% от общего числа продаж в регионе.**\n",
    "\n",
    "\n",
    "2. **PS3 - у нее 21.1% от общего числа продаж в регионе.**\n",
    "\n",
    "\n",
    "3. **XBOX360 - у нее 14.7% от общего числа продаж в регионе.**\n",
    "\n",
    "\n",
    "4. **XONE - у нее 10.1% от общего числа продаж в регионе.**\n",
    "\n",
    "\n",
    "5. **3DS - у нее 8.4% от общего числа продаж в регионе.**\n",
    "\n",
    " - **<u>Для Японии самыми популярными платформами являются:</u>**\n",
    "\n",
    "\n",
    "1. **3DS - у нее 45.5% от общего числа продаж в регионе.**\n",
    "\n",
    "\n",
    "2. **PS3 - у нее 18.3% от общего числа продаж в регионе.**\n",
    "\n",
    "\n",
    "3. **PSV - у нее 10.9% от общего числа продаж в регионе.**\n",
    "\n",
    "\n",
    "4. **PS4 - у нее 8.3% от общего числа продаж в регионе.**\n",
    "\n",
    "\n",
    "5. **WIIU - у нее 6.7% от общего числа продаж в регионе.**"
   ]
  },
  {
   "cell_type": "markdown",
   "id": "fe023e74",
   "metadata": {},
   "source": [
    "### Определим для пользователя каждого региона (NA, EU, JP) cамые популярные жанры (топ-5)."
   ]
  },
  {
   "cell_type": "code",
   "execution_count": 52,
   "id": "cc136329",
   "metadata": {},
   "outputs": [
    {
     "data": {
      "image/png": "[encoded data removed]",
      "text/plain": [
       "<Figure size 1440x360 with 3 Axes>"
      ]
     },
     "metadata": {
      "needs_background": "light"
     },
     "output_type": "display_data"
    }
   ],
   "source": [
    "position = 0\n",
    "plt.figure(figsize=[20, 5])\n",
    "plt.subplots_adjust(wspace=0.3, hspace=0.3)\n",
    "plt.suptitle('САМЫЕ ПОПУЛЯРНЫЕ ЖАНРЫ:', fontsize=15)\n",
    "for region, forecast_for_region in {'na_sales': forecast_for_na, 'eu_sales': forecast_for_eu, 'jp_sales': forecast_for_jp}.items():\n",
    "    position += 1\n",
    "    total_sales_for_regin_by_genre = forecast_for_region.pivot_table(index='genre',\n",
    "                                                                        values=region,\n",
    "                                                                        aggfunc='median').sort_values(by=region,\n",
    "                                                                                                   ascending=False).reset_index()\n",
    "    plt.subplot(1, 3, position)\n",
    "    plt.title(f'ДЛЯ РЕГИОНА {region[0:2].upper()}', fontsize=13)\n",
    "    sns.barplot(x=region, y='genre', data=total_sales_for_regin_by_genre)\n",
    "    plt.ylabel('GENRE')\n",
    "    plt.xlabel('SALES')\n",
    "    plt.grid(True);"
   ]
  },
  {
   "cell_type": "markdown",
   "id": "ac818525",
   "metadata": {},
   "source": [
    " - **<u>Для Северной Америки самыми популярными платформами являются:</u>**\n",
    "\n",
    "1. **SHOOTER**\n",
    "\n",
    "\n",
    "2. **PLATFORM**\n",
    "\n",
    "\n",
    "3. **SPORTS**\n",
    "\n",
    "\n",
    "4. **FIGHTING**\n",
    "\n",
    "\n",
    "5. **RACING**\n",
    "\n",
    " - **<u>Для Европейского региона самыми популярными платформами являются:</u>**\n",
    "\n",
    "\n",
    "1. **SHOOTER**\n",
    "\n",
    "\n",
    "2. **RACING**\n",
    "\n",
    "\n",
    "3. **PLATFORM**\n",
    "\n",
    "\n",
    "4. **SPORTS**\n",
    "\n",
    "\n",
    "5. **SIMULATION**\n",
    "\n",
    " - **<u>Для Японии самыми популярными платформами являются:</u>**\n",
    "\n",
    "\n",
    "1. **ROLE-PLAYING**\n",
    "\n",
    "\n",
    "2. **FIGHTING**\n",
    "\n",
    "\n",
    "3. **MISC**\n",
    "\n",
    "\n",
    "4. **ACTION**\n",
    "\n",
    "\n",
    "5. **ADVENTURE**"
   ]
  },
  {
   "cell_type": "markdown",
   "id": "0141db8c",
   "metadata": {},
   "source": [
    "**Разница в предпочтении жанров может быть обусловлена менталитетом и предпочтении определенных консолей.**"
   ]
  },
  {
   "cell_type": "markdown",
   "id": "09a040aa",
   "metadata": {},
   "source": [
    "### Посмотрим влияет ли рейтинг ESRB на продажи в отдельном регионе?"
   ]
  },
  {
   "cell_type": "code",
   "execution_count": 53,
   "id": "abde4259",
   "metadata": {},
   "outputs": [
    {
     "data": {
      "text/plain": [
       "array(['m', 'nr', 'e', 'e10+', 't'], dtype=object)"
      ]
     },
     "execution_count": 53,
     "metadata": {},
     "output_type": "execute_result"
    }
   ],
   "source": [
    "forecast_for_jp['rating'].unique()"
   ]
  },
  {
   "cell_type": "code",
   "execution_count": 54,
   "id": "196a4df0",
   "metadata": {},
   "outputs": [
    {
     "data": {
      "image/png": "[encoded data removed]",
      "text/plain": [
       "<Figure size 1440x360 with 3 Axes>"
      ]
     },
     "metadata": {
      "needs_background": "light"
     },
     "output_type": "display_data"
    }
   ],
   "source": [
    "position = 0\n",
    "plt.figure(figsize=[20, 5])\n",
    "plt.subplots_adjust(wspace=0.3, hspace=0.3)\n",
    "plt.suptitle('ВЛИЯНИЕ ВОЗРАСТНОГО РЕЙТИНГА НА ПРОДАЖИ:', fontsize=15)\n",
    "for region, forecast_for_region in {'na_sales': forecast_for_na, 'eu_sales': forecast_for_eu, 'jp_sales': forecast_for_jp}.items():\n",
    "    position += 1\n",
    "    plt.subplot(1, 3, position)\n",
    "    pvt = forecast_for_region.pivot_table(index='rating',\n",
    "                                          values=region,\n",
    "                                          aggfunc='sum').reset_index().sort_values(by=region, \n",
    "                                                                                   ascending=False).reset_index()\n",
    "    plt.title(f'ДЛЯ РЕГИОНА {region[0:2].upper()}', fontsize=13)\n",
    "    sns.barplot(x='rating', y=region, data=pvt)\n",
    "    plt.xlabel('RATING')\n",
    "    plt.ylabel('SALES')\n",
    "    plt.grid(True)"
   ]
  },
  {
   "cell_type": "markdown",
   "id": "b9b961df",
   "metadata": {},
   "source": [
    " - **<u>Для Северной Америки самыми популярными являются игры с возрастным ограничением:</u>**\n",
    "\n",
    "1. **Для всех**\n",
    "2. **Для взрослых**\n",
    "3. **Без рейтинга**\n",
    "4. **Для подростков**\n",
    "5. **Для всех от 10 лет**\n",
    "\n",
    "\n",
    " - **<u>Для Европейского региона самыми популярными являются игры с возрастным ограничением:</u>**\n",
    "\n",
    "\n",
    "1. **Для всех**\n",
    "2. **Для взрослых**\n",
    "3. **Без рейтинга**\n",
    "4. **Для подростков**\n",
    "5. **Для всех от 10 лет**\n",
    "\n",
    "\n",
    " - **<u>Для Японии самыми популярными являются игры с возрастным ограничением:</u>**\n",
    "\n",
    "\n",
    "1. **Без рейтинга**\n",
    "2. **Для подростков**\n",
    "3. **Для всех**\n",
    "4. **Для взрослых**\n",
    "5. **Для всех от 10 лет**\n",
    "\n",
    "**Разница в предпочтении жанров может быть обусловлена менталитетом и предпочтении определенных консолей.**\n",
    "**Отсутствие рейтинга для игры может быть обусловлен тем, что для каждого региона могла действовать своя организация. Например: PEGI,CERO.**"
   ]
  },
  {
   "cell_type": "markdown",
   "id": "2eefdc48",
   "metadata": {},
   "source": [
    "### Вывод"
   ]
  },
  {
   "cell_type": "markdown",
   "id": "0d7addbd",
   "metadata": {},
   "source": [
    "**Средний срок жизни консоли - 11 лет, необходимо своевременно обновлять каталог игр под новые консоли, что бы соответствовать тенденциям. Перспективными платформами на следующий срок будут: 3DS, XONE, PS4, WIIU, PC. На данный момент популярны консоли предыдущих версий (PS3, WII, XBOX360, DS...), а значит выбранные платформы должны иметь успех в будущем.**\n",
    "\n",
    "**Мнение критиков и пользователей пока оказывает не сильное влияние на продажи игр. Но влияние есть (положительная корреляция), и при будущих планированиях это определенно стоит учесть, как дополнительный стимул пользователей к покупке игр.**\n",
    "\n",
    "**Пользователи отдельных регионов сходятся в предпочтении жанров : \"shooter\", \"sports\", \"platform\", \"role-playing\". Стоит учитывать специфику региона, что бы максимально охватить аудиторию каждого.**\n",
    "\n",
    "**Есть определенное влияние возрастного рейтинга на продажи игр. Необходимо принять во внимание и  этот фактор.Например, что бы не закупать игры не популярного рейтинга.**"
   ]
  },
  {
   "cell_type": "markdown",
   "id": "3355a764",
   "metadata": {},
   "source": [
    "## Шаг 5. Проверим гипотезы."
   ]
  },
  {
   "cell_type": "markdown",
   "id": "585a0e2a",
   "metadata": {},
   "source": [
    "*Нулевая гипотеза (H₀) всегда формируется так, чтобы использовать знак равенства.   \n",
    "Исходя из формулировки H₀ формуриуется альтернативная гипотеза (H₁). Это утверждение, которое принимается верным, когда отбрасывается нулевая гипотеза.*\n",
    "\n",
    "*Пороговое значение сделаю равное 5%, как общепринятое.*\n",
    "\n",
    "<u>*Логика проверки.*</u>\n",
    "\n",
    "*Вычислю значение (p-value) получить наблюдаемое на выборке значение, при условии, что H₀ верна. Если значение будет большим (сравним с пороговым значением), то нулевую гипотезу не отвергаем.*"
   ]
  },
  {
   "cell_type": "markdown",
   "id": "11208440",
   "metadata": {},
   "source": [
    "### Проверим гипотезу: \"Средние пользовательские рейтинги платформ Xbox One и PC одинаковые\"."
   ]
  },
  {
   "cell_type": "markdown",
   "id": "cd7d02ca",
   "metadata": {},
   "source": [
    "<u>***Сформируем гипотезу.***</u>\n",
    "\n",
    "**H₀:  Средние пользовательские рейтинги платформ Xbox One равны cредним пользовательским рейтингам платформы PC.**\n",
    "\n",
    "**H₁:  Средние пользовательские рейтинги платформ Xbox One и cредние пользовательские рейтинги платформы PC различаются. Альтернативная гипотеза говорит о проверке равенства средних двух генеральных совокупностей.**"
   ]
  },
  {
   "cell_type": "markdown",
   "id": "b0140a1e",
   "metadata": {},
   "source": [
    "**Дополнительно сравним дисперсии выборок до проверки гипотез, чтобы понять с каким параметром equal_var использовать метод проверки ttest_ind (по дефолту True). Дисперсии выборок сравним с помощью стат.теста Левене.**"
   ]
  },
  {
   "cell_type": "code",
   "execution_count": 55,
   "id": "242bb7db",
   "metadata": {},
   "outputs": [],
   "source": [
    "alpha = .05"
   ]
  },
  {
   "cell_type": "code",
   "execution_count": 64,
   "id": "c233f121",
   "metadata": {},
   "outputs": [],
   "source": [
    "df_with_forecast = df_with_forecast[df_with_forecast['user_score'] != -1]"
   ]
  },
  {
   "cell_type": "code",
   "execution_count": 56,
   "id": "f1e35565",
   "metadata": {},
   "outputs": [
    {
     "name": "stdout",
     "output_type": "stream",
     "text": [
      "\n",
      "Значение p-value:  0.014264562455205375\n",
      "\n",
      "Дисперсии выборок не равны\n"
     ]
    }
   ],
   "source": [
    "stat, p = levene(df_with_forecast.query('platform == \"xone\"')['user_score'],\n",
    "                 df_with_forecast.query('platform == \"pc\"')['user_score'])\n",
    "\n",
    "print('\\nЗначение p-value: ', p)\n",
    "\n",
    "if p > alpha:\n",
    "    print('\\nДисперсии выборок равны')\n",
    "else:\n",
    "    print('\\nДисперсии выборок не равны')"
   ]
  },
  {
   "cell_type": "code",
   "execution_count": 57,
   "id": "c60e1f7c",
   "metadata": {},
   "outputs": [
    {
     "name": "stdout",
     "output_type": "stream",
     "text": [
      "\n",
      "Размер совокопуности для XONE - 182\n",
      "\n",
      "Размер совокопуности для PC - 211\n"
     ]
    }
   ],
   "source": [
    "print('\\nРазмер совокопуности для XONE -', len(df_with_forecast.query('platform == \"xone\"')['user_score']))\n",
    "print('\\nРазмер совокопуности для PC -', len(df_with_forecast.query('platform == \"pc\"')['user_score']))"
   ]
  },
  {
   "cell_type": "markdown",
   "id": "956a75ba",
   "metadata": {},
   "source": [
    "***Размер совокупностей и дисперсии выборок не равны. Поэтому в методе ttest_ind укажу параметру equal_var значение False, чтобы посчитать дисперсии выборок по отдельности.***"
   ]
  },
  {
   "cell_type": "code",
   "execution_count": 58,
   "id": "a4e19624",
   "metadata": {},
   "outputs": [
    {
     "name": "stdout",
     "output_type": "stream",
     "text": [
      "\n",
      "Значение p-value:  0.6206382152087896\n",
      "\n",
      "Не отвергаем нулевую гипотезу\n"
     ]
    }
   ],
   "source": [
    "res = scipy.stats.ttest_ind(df_with_forecast.query('platform == \"xone\"')['user_score'],\n",
    "                            df_with_forecast.query('platform == \"pc\"')['user_score'],\n",
    "                            equal_var=False)\n",
    "\n",
    "print('\\nЗначение p-value: ', res.pvalue)\n",
    "\n",
    "if res.pvalue < alpha:\n",
    "    print('\\nОтвергаем нулевую гипотезу')\n",
    "else:\n",
    "    print('\\nНе отвергаем нулевую гипотезу')"
   ]
  },
  {
   "cell_type": "markdown",
   "id": "59f03c67",
   "metadata": {},
   "source": [
    "**Итог проверки: пользовательские рейтинги не различаются.**"
   ]
  },
  {
   "cell_type": "markdown",
   "id": "a3a968ed",
   "metadata": {},
   "source": [
    "### Проверим гипотезу: \"Средние пользовательские рейтинги жанров Action и Sports разные."
   ]
  },
  {
   "cell_type": "markdown",
   "id": "fde0a0f3",
   "metadata": {},
   "source": [
    "<u>***Сформируем гипотезу.***</u>\n",
    "\n",
    "**H₀:  Средние пользовательские рейтинги жанра Action равны cредним пользовательским рейтингам жанра Sports.**\n",
    "\n",
    "**H₁:  Средние пользовательские рейтинги жанров Action и cредние пользовательские рейтинги пжанра Sports различаются. Альтернативная гипотеза говорит о проверке равенства средних двух генеральных совокупностей.**"
   ]
  },
  {
   "cell_type": "markdown",
   "id": "dc8bee04",
   "metadata": {},
   "source": [
    "**Дополнительно сравним дисперсии выборок до проверки гипотез, чтобы понять с каким параметром equal_var использовать метод проверки ttest_ind (по дефолту True). Дисперсии выборок сравним с помощью стат.теста Левене.**"
   ]
  },
  {
   "cell_type": "code",
   "execution_count": 59,
   "id": "0de5e6e5",
   "metadata": {},
   "outputs": [
    {
     "name": "stdout",
     "output_type": "stream",
     "text": [
      "\n",
      "Значение p-value:  1.8018155462392233e-05\n",
      "\n",
      "Дисперсии выборок не равны\n"
     ]
    }
   ],
   "source": [
    "stat, p = levene(df_with_forecast.query('genre == \"action\"')['user_score'],\n",
    "                 df_with_forecast.query('genre == \"sports\"')['user_score'])\n",
    "\n",
    "print('\\nЗначение p-value: ', p)\n",
    "\n",
    "if p > alpha:\n",
    "    print('\\nДисперсии выборок равны')\n",
    "else:\n",
    "    print('\\nДисперсии выборок не равны')"
   ]
  },
  {
   "cell_type": "code",
   "execution_count": 60,
   "id": "353790bc",
   "metadata": {},
   "outputs": [
    {
     "name": "stdout",
     "output_type": "stream",
     "text": [
      "\n",
      "Размер совокопуности для ACTION - 531\n",
      "\n",
      "Размер совокопуности для SPORTS - 195\n"
     ]
    }
   ],
   "source": [
    "print('\\nРазмер совокопуности для ACTION -', len(df_with_forecast.query('genre == \"action\"')['user_score']))\n",
    "print('\\nРазмер совокопуности для SPORTS -', len(df_with_forecast.query('genre == \"sports\"')['user_score']))"
   ]
  },
  {
   "cell_type": "markdown",
   "id": "8ef7462b",
   "metadata": {},
   "source": [
    "***Размеры выборок не равны, и дисперсии не одинаковы. Поэтому в методе ttest_ind укажу параметру equal_var значение False, чтобы посчитать дисперсии выборок по отдельности.***"
   ]
  },
  {
   "cell_type": "code",
   "execution_count": 61,
   "id": "b8626149",
   "metadata": {},
   "outputs": [
    {
     "name": "stdout",
     "output_type": "stream",
     "text": [
      "\n",
      "Значение p-value:  1.140485434887335e-26\n",
      "\n",
      "Отвергаем нулевую гипотезу\n"
     ]
    }
   ],
   "source": [
    "res = scipy.stats.ttest_ind(df_with_forecast.query('genre == \"action\"')['user_score'],\n",
    "                            df_with_forecast.query('genre == \"sports\"')['user_score'],\n",
    "                            equal_var=True)\n",
    "\n",
    "print('\\nЗначение p-value: ', res.pvalue)\n",
    "\n",
    "if res.pvalue < alpha:\n",
    "    print('\\nОтвергаем нулевую гипотезу')\n",
    "else:\n",
    "    print('\\nНе отвергаем нулевую гипотезу')"
   ]
  },
  {
   "cell_type": "markdown",
   "id": "332c0842",
   "metadata": {},
   "source": [
    "**Итог проверки: Пользовательские рейтинги жаров Action и Sports различаются.**"
   ]
  },
  {
   "cell_type": "markdown",
   "id": "038c203e",
   "metadata": {},
   "source": [
    "## Общий вывод."
   ]
  },
  {
   "cell_type": "markdown",
   "id": "c1184f6f",
   "metadata": {},
   "source": [
    "**При опредлелении популярности продукта стоит учитывать:**\n",
    "\n",
    "1. **Популярность жанра, с учетом специфики(предпочтений) региона, для максимального охвата аудитории в каждом.**\n",
    "\n",
    "\n",
    "2. **Популярность платформ, для выбора продукта под них, что бы извлечь максимальную выгоду.**\n",
    "\n",
    "\n",
    "3. **Популрность возрастного рейтинга, что бы заранее исключить в будущем связанные с этим возможные убытки.**\n",
    "\n",
    "\n",
    "4. **Мнение критиков, как возможное привлечение дополнительной игровой аудитории.**\n",
    "\n",
    "\n",
    "5. **Будущие перспективные платформы, для занимания лидирующей позиции на рынке игр под новые консоли.**"
   ]
  },
  {
   "cell_type": "markdown",
   "id": "764d94c2",
   "metadata": {},
   "source": [
    "**<u>Перспективные направления для региона:</u>**\n",
    "\n",
    "1. **Северная Америка**\n",
    "\n",
    "    Плафторма: PS4, XONE\n",
    "    \n",
    "    Жанр: Shooter, Platform\n",
    "    \n",
    "    Рейтинг:  m, e\n",
    "\n",
    "\n",
    "2. **Европа**\n",
    "\n",
    "    Плафторма: PS4, XONE\n",
    "    \n",
    "    Жанр: Shooter, Racing\n",
    "    \n",
    "    Рейтинг: m, e\n",
    "\n",
    "\n",
    "3. **Япония**\n",
    "\n",
    "    Плафторма: PS4, WIIU\n",
    "    \n",
    "    Жанр: Role-playing, Fighting\n",
    "    \n",
    "    Рейтинг: nr, e"
   ]
  }
 ],
 "metadata": {
  "ExecuteTimeLog": [
   {
    "duration": 1617,
    "start_time": "2022-02-07T09:29:41.533Z"
   },
   {
    "duration": 2635,
    "start_time": "2022-02-07T09:29:43.152Z"
   },
   {
    "duration": -247,
    "start_time": "2022-02-07T09:29:46.040Z"
   },
   {
    "duration": -248,
    "start_time": "2022-02-07T09:29:46.042Z"
   },
   {
    "duration": -249,
    "start_time": "2022-02-07T09:29:46.044Z"
   },
   {
    "duration": -248,
    "start_time": "2022-02-07T09:29:46.045Z"
   },
   {
    "duration": -249,
    "start_time": "2022-02-07T09:29:46.047Z"
   },
   {
    "duration": -249,
    "start_time": "2022-02-07T09:29:46.049Z"
   },
   {
    "duration": -249,
    "start_time": "2022-02-07T09:29:46.050Z"
   },
   {
    "duration": -299,
    "start_time": "2022-02-07T09:29:46.101Z"
   },
   {
    "duration": -300,
    "start_time": "2022-02-07T09:29:46.103Z"
   },
   {
    "duration": -299,
    "start_time": "2022-02-07T09:29:46.104Z"
   },
   {
    "duration": -300,
    "start_time": "2022-02-07T09:29:46.106Z"
   },
   {
    "duration": -475,
    "start_time": "2022-02-07T09:29:46.282Z"
   },
   {
    "duration": -476,
    "start_time": "2022-02-07T09:29:46.284Z"
   },
   {
    "duration": -475,
    "start_time": "2022-02-07T09:29:46.285Z"
   },
   {
    "duration": -476,
    "start_time": "2022-02-07T09:29:46.287Z"
   },
   {
    "duration": -476,
    "start_time": "2022-02-07T09:29:46.289Z"
   },
   {
    "duration": -476,
    "start_time": "2022-02-07T09:29:46.290Z"
   },
   {
    "duration": -477,
    "start_time": "2022-02-07T09:29:46.292Z"
   },
   {
    "duration": -477,
    "start_time": "2022-02-07T09:29:46.293Z"
   },
   {
    "duration": -478,
    "start_time": "2022-02-07T09:29:46.295Z"
   },
   {
    "duration": -478,
    "start_time": "2022-02-07T09:29:46.296Z"
   },
   {
    "duration": -478,
    "start_time": "2022-02-07T09:29:46.298Z"
   },
   {
    "duration": -478,
    "start_time": "2022-02-07T09:29:46.299Z"
   },
   {
    "duration": -479,
    "start_time": "2022-02-07T09:29:46.301Z"
   },
   {
    "duration": -479,
    "start_time": "2022-02-07T09:29:46.302Z"
   },
   {
    "duration": -480,
    "start_time": "2022-02-07T09:29:46.304Z"
   },
   {
    "duration": -479,
    "start_time": "2022-02-07T09:29:46.305Z"
   },
   {
    "duration": -480,
    "start_time": "2022-02-07T09:29:46.307Z"
   },
   {
    "duration": -481,
    "start_time": "2022-02-07T09:29:46.309Z"
   },
   {
    "duration": -441,
    "start_time": "2022-02-07T09:29:46.310Z"
   },
   {
    "duration": -442,
    "start_time": "2022-02-07T09:29:46.312Z"
   },
   {
    "duration": -441,
    "start_time": "2022-02-07T09:29:46.313Z"
   },
   {
    "duration": -442,
    "start_time": "2022-02-07T09:29:46.315Z"
   },
   {
    "duration": -441,
    "start_time": "2022-02-07T09:29:46.316Z"
   },
   {
    "duration": -442,
    "start_time": "2022-02-07T09:29:46.318Z"
   },
   {
    "duration": -442,
    "start_time": "2022-02-07T09:29:46.319Z"
   },
   {
    "duration": -442,
    "start_time": "2022-02-07T09:29:46.320Z"
   },
   {
    "duration": -443,
    "start_time": "2022-02-07T09:29:46.322Z"
   },
   {
    "duration": -442,
    "start_time": "2022-02-07T09:29:46.323Z"
   },
   {
    "duration": -443,
    "start_time": "2022-02-07T09:29:46.325Z"
   },
   {
    "duration": -443,
    "start_time": "2022-02-07T09:29:46.326Z"
   },
   {
    "duration": -443,
    "start_time": "2022-02-07T09:29:46.328Z"
   },
   {
    "duration": -457,
    "start_time": "2022-02-07T09:29:46.344Z"
   },
   {
    "duration": -460,
    "start_time": "2022-02-07T09:29:46.348Z"
   },
   {
    "duration": -461,
    "start_time": "2022-02-07T09:29:46.350Z"
   },
   {
    "duration": -460,
    "start_time": "2022-02-07T09:29:46.351Z"
   },
   {
    "duration": -461,
    "start_time": "2022-02-07T09:29:46.353Z"
   },
   {
    "duration": -462,
    "start_time": "2022-02-07T09:29:46.355Z"
   },
   {
    "duration": -462,
    "start_time": "2022-02-07T09:29:46.356Z"
   },
   {
    "duration": -462,
    "start_time": "2022-02-07T09:29:46.358Z"
   },
   {
    "duration": -525,
    "start_time": "2022-02-07T09:29:46.422Z"
   },
   {
    "duration": -539,
    "start_time": "2022-02-07T09:29:46.437Z"
   },
   {
    "duration": -539,
    "start_time": "2022-02-07T09:29:46.439Z"
   },
   {
    "duration": -539,
    "start_time": "2022-02-07T09:29:46.440Z"
   },
   {
    "duration": -539,
    "start_time": "2022-02-07T09:29:46.442Z"
   },
   {
    "duration": -539,
    "start_time": "2022-02-07T09:29:46.443Z"
   },
   {
    "duration": -475,
    "start_time": "2022-02-07T09:29:46.445Z"
   },
   {
    "duration": -474,
    "start_time": "2022-02-07T09:29:46.446Z"
   },
   {
    "duration": 279,
    "start_time": "2022-02-07T11:15:11.218Z"
   },
   {
    "duration": 3,
    "start_time": "2022-02-07T11:15:18.607Z"
   },
   {
    "duration": 37,
    "start_time": "2022-02-07T11:15:21.956Z"
   },
   {
    "duration": 1119,
    "start_time": "2022-02-07T11:33:11.742Z"
   },
   {
    "duration": 35,
    "start_time": "2022-02-07T11:33:12.863Z"
   },
   {
    "duration": 16,
    "start_time": "2022-02-07T11:33:12.900Z"
   },
   {
    "duration": 18,
    "start_time": "2022-02-07T11:33:12.917Z"
   },
   {
    "duration": 10,
    "start_time": "2022-02-07T11:33:12.937Z"
   },
   {
    "duration": 10,
    "start_time": "2022-02-07T11:33:12.949Z"
   },
   {
    "duration": 15,
    "start_time": "2022-02-07T11:33:12.960Z"
   },
   {
    "duration": 5,
    "start_time": "2022-02-07T11:33:12.977Z"
   },
   {
    "duration": 41,
    "start_time": "2022-02-07T11:33:12.984Z"
   },
   {
    "duration": 25,
    "start_time": "2022-02-07T11:33:13.027Z"
   },
   {
    "duration": 12,
    "start_time": "2022-02-07T11:33:13.054Z"
   },
   {
    "duration": 15,
    "start_time": "2022-02-07T11:33:13.068Z"
   },
   {
    "duration": 30,
    "start_time": "2022-02-07T11:33:13.084Z"
   },
   {
    "duration": 5,
    "start_time": "2022-02-07T11:33:13.116Z"
   },
   {
    "duration": 29,
    "start_time": "2022-02-07T11:33:13.124Z"
   },
   {
    "duration": 4,
    "start_time": "2022-02-07T11:33:13.155Z"
   },
   {
    "duration": 9,
    "start_time": "2022-02-07T11:33:13.161Z"
   },
   {
    "duration": 47,
    "start_time": "2022-02-07T11:33:13.172Z"
   },
   {
    "duration": 6,
    "start_time": "2022-02-07T11:33:13.220Z"
   },
   {
    "duration": 5,
    "start_time": "2022-02-07T11:33:13.228Z"
   },
   {
    "duration": 8,
    "start_time": "2022-02-07T11:33:13.234Z"
   },
   {
    "duration": 6,
    "start_time": "2022-02-07T11:33:13.244Z"
   },
   {
    "duration": 6,
    "start_time": "2022-02-07T11:33:13.252Z"
   },
   {
    "duration": 9,
    "start_time": "2022-02-07T11:33:13.260Z"
   },
   {
    "duration": 7,
    "start_time": "2022-02-07T11:33:13.270Z"
   },
   {
    "duration": 6,
    "start_time": "2022-02-07T11:33:13.278Z"
   },
   {
    "duration": 5,
    "start_time": "2022-02-07T11:33:13.312Z"
   },
   {
    "duration": 9,
    "start_time": "2022-02-07T11:33:13.319Z"
   },
   {
    "duration": 20,
    "start_time": "2022-02-07T11:33:13.329Z"
   },
   {
    "duration": 7,
    "start_time": "2022-02-07T11:33:13.351Z"
   },
   {
    "duration": 298,
    "start_time": "2022-02-07T11:33:13.359Z"
   },
   {
    "duration": 5,
    "start_time": "2022-02-07T11:33:13.659Z"
   },
   {
    "duration": 11,
    "start_time": "2022-02-07T11:33:13.666Z"
   },
   {
    "duration": 33,
    "start_time": "2022-02-07T11:33:13.678Z"
   },
   {
    "duration": 15,
    "start_time": "2022-02-07T11:33:13.713Z"
   },
   {
    "duration": 434,
    "start_time": "2022-02-07T11:33:13.730Z"
   },
   {
    "duration": 468,
    "start_time": "2022-02-07T11:33:14.166Z"
   },
   {
    "duration": 1263,
    "start_time": "2022-02-07T11:33:14.636Z"
   },
   {
    "duration": 135,
    "start_time": "2022-02-07T11:33:15.901Z"
   },
   {
    "duration": 6,
    "start_time": "2022-02-07T11:33:16.038Z"
   },
   {
    "duration": 4,
    "start_time": "2022-02-07T11:33:16.046Z"
   },
   {
    "duration": 926,
    "start_time": "2022-02-07T11:33:16.052Z"
   },
   {
    "duration": 331,
    "start_time": "2022-02-07T11:33:16.980Z"
   },
   {
    "duration": 5,
    "start_time": "2022-02-07T11:33:17.313Z"
   },
   {
    "duration": 641,
    "start_time": "2022-02-07T11:33:17.320Z"
   },
   {
    "duration": 5,
    "start_time": "2022-02-07T11:33:17.963Z"
   },
   {
    "duration": 2683,
    "start_time": "2022-02-07T11:33:17.970Z"
   },
   {
    "duration": 358,
    "start_time": "2022-02-07T11:33:20.654Z"
   },
   {
    "duration": 13,
    "start_time": "2022-02-07T11:33:21.013Z"
   },
   {
    "duration": 1679,
    "start_time": "2022-02-07T11:33:21.028Z"
   },
   {
    "duration": 702,
    "start_time": "2022-02-07T11:33:22.712Z"
   },
   {
    "duration": 5,
    "start_time": "2022-02-07T11:33:23.416Z"
   },
   {
    "duration": 565,
    "start_time": "2022-02-07T11:33:23.423Z"
   },
   {
    "duration": 3,
    "start_time": "2022-02-07T11:33:23.990Z"
   },
   {
    "duration": 23,
    "start_time": "2022-02-07T11:33:23.995Z"
   },
   {
    "duration": 10,
    "start_time": "2022-02-07T11:33:24.019Z"
   },
   {
    "duration": 10,
    "start_time": "2022-02-07T11:33:24.031Z"
   },
   {
    "duration": 11,
    "start_time": "2022-02-07T11:33:24.043Z"
   },
   {
    "duration": 10,
    "start_time": "2022-02-07T11:33:24.055Z"
   },
   {
    "duration": 47,
    "start_time": "2022-02-07T11:33:24.067Z"
   },
   {
    "duration": 3,
    "start_time": "2022-02-07T11:35:32.745Z"
   },
   {
    "duration": 3,
    "start_time": "2022-02-07T11:35:35.213Z"
   },
   {
    "duration": 4,
    "start_time": "2022-02-07T11:38:04.622Z"
   },
   {
    "duration": 3,
    "start_time": "2022-02-07T11:38:08.635Z"
   },
   {
    "duration": 3,
    "start_time": "2022-02-07T11:38:52.004Z"
   },
   {
    "duration": 4,
    "start_time": "2022-02-07T11:40:15.761Z"
   },
   {
    "duration": 1136,
    "start_time": "2022-02-07T11:45:15.823Z"
   },
   {
    "duration": 36,
    "start_time": "2022-02-07T11:45:16.961Z"
   },
   {
    "duration": 15,
    "start_time": "2022-02-07T11:45:16.999Z"
   },
   {
    "duration": 24,
    "start_time": "2022-02-07T11:45:17.016Z"
   },
   {
    "duration": 15,
    "start_time": "2022-02-07T11:45:17.041Z"
   },
   {
    "duration": 17,
    "start_time": "2022-02-07T11:45:17.058Z"
   },
   {
    "duration": 17,
    "start_time": "2022-02-07T11:45:17.076Z"
   },
   {
    "duration": 3,
    "start_time": "2022-02-07T11:45:17.095Z"
   },
   {
    "duration": 13,
    "start_time": "2022-02-07T11:45:17.112Z"
   },
   {
    "duration": 34,
    "start_time": "2022-02-07T11:45:17.127Z"
   },
   {
    "duration": 14,
    "start_time": "2022-02-07T11:45:17.162Z"
   },
   {
    "duration": 15,
    "start_time": "2022-02-07T11:45:17.177Z"
   },
   {
    "duration": 21,
    "start_time": "2022-02-07T11:45:17.194Z"
   },
   {
    "duration": 3,
    "start_time": "2022-02-07T11:45:17.217Z"
   },
   {
    "duration": 24,
    "start_time": "2022-02-07T11:45:17.222Z"
   },
   {
    "duration": 4,
    "start_time": "2022-02-07T11:45:17.247Z"
   },
   {
    "duration": 10,
    "start_time": "2022-02-07T11:45:17.253Z"
   },
   {
    "duration": 12,
    "start_time": "2022-02-07T11:45:17.265Z"
   },
   {
    "duration": 34,
    "start_time": "2022-02-07T11:45:17.279Z"
   },
   {
    "duration": 7,
    "start_time": "2022-02-07T11:45:17.315Z"
   },
   {
    "duration": 5,
    "start_time": "2022-02-07T11:45:17.323Z"
   },
   {
    "duration": 7,
    "start_time": "2022-02-07T11:45:17.329Z"
   },
   {
    "duration": 6,
    "start_time": "2022-02-07T11:45:17.338Z"
   },
   {
    "duration": 6,
    "start_time": "2022-02-07T11:45:17.345Z"
   },
   {
    "duration": 6,
    "start_time": "2022-02-07T11:45:17.353Z"
   },
   {
    "duration": 6,
    "start_time": "2022-02-07T11:45:17.361Z"
   },
   {
    "duration": 7,
    "start_time": "2022-02-07T11:45:17.371Z"
   },
   {
    "duration": 33,
    "start_time": "2022-02-07T11:45:17.380Z"
   },
   {
    "duration": 17,
    "start_time": "2022-02-07T11:45:17.415Z"
   },
   {
    "duration": 5,
    "start_time": "2022-02-07T11:45:17.433Z"
   },
   {
    "duration": 9,
    "start_time": "2022-02-07T11:45:17.439Z"
   },
   {
    "duration": 7,
    "start_time": "2022-02-07T11:45:17.450Z"
   },
   {
    "duration": 7,
    "start_time": "2022-02-07T11:45:17.459Z"
   },
   {
    "duration": 20,
    "start_time": "2022-02-07T11:45:17.467Z"
   },
   {
    "duration": 25,
    "start_time": "2022-02-07T11:45:17.489Z"
   },
   {
    "duration": 454,
    "start_time": "2022-02-07T11:45:17.515Z"
   },
   {
    "duration": 462,
    "start_time": "2022-02-07T11:45:17.971Z"
   },
   {
    "duration": 1267,
    "start_time": "2022-02-07T11:45:18.435Z"
   },
   {
    "duration": 127,
    "start_time": "2022-02-07T11:45:19.704Z"
   },
   {
    "duration": 6,
    "start_time": "2022-02-07T11:45:19.833Z"
   },
   {
    "duration": 10,
    "start_time": "2022-02-07T11:45:19.841Z"
   },
   {
    "duration": 918,
    "start_time": "2022-02-07T11:45:19.852Z"
   },
   {
    "duration": 319,
    "start_time": "2022-02-07T11:45:20.772Z"
   },
   {
    "duration": 5,
    "start_time": "2022-02-07T11:45:21.093Z"
   },
   {
    "duration": 626,
    "start_time": "2022-02-07T11:45:21.100Z"
   },
   {
    "duration": 5,
    "start_time": "2022-02-07T11:45:21.728Z"
   },
   {
    "duration": 2365,
    "start_time": "2022-02-07T11:45:21.734Z"
   },
   {
    "duration": 335,
    "start_time": "2022-02-07T11:45:24.101Z"
   },
   {
    "duration": 12,
    "start_time": "2022-02-07T11:45:24.438Z"
   },
   {
    "duration": 1666,
    "start_time": "2022-02-07T11:45:24.452Z"
   },
   {
    "duration": 716,
    "start_time": "2022-02-07T11:45:26.120Z"
   },
   {
    "duration": 4,
    "start_time": "2022-02-07T11:45:26.838Z"
   },
   {
    "duration": 541,
    "start_time": "2022-02-07T11:45:26.844Z"
   },
   {
    "duration": 2,
    "start_time": "2022-02-07T11:45:27.387Z"
   },
   {
    "duration": 27,
    "start_time": "2022-02-07T11:45:27.390Z"
   },
   {
    "duration": 10,
    "start_time": "2022-02-07T11:45:27.419Z"
   },
   {
    "duration": 16,
    "start_time": "2022-02-07T11:45:27.430Z"
   },
   {
    "duration": 12,
    "start_time": "2022-02-07T11:45:27.447Z"
   },
   {
    "duration": 9,
    "start_time": "2022-02-07T11:45:27.461Z"
   },
   {
    "duration": 10,
    "start_time": "2022-02-07T11:45:27.472Z"
   },
   {
    "duration": 6,
    "start_time": "2022-02-07T11:48:17.342Z"
   },
   {
    "duration": 5,
    "start_time": "2022-02-07T11:48:18.165Z"
   },
   {
    "duration": 1120,
    "start_time": "2022-02-07T11:49:09.046Z"
   },
   {
    "duration": 35,
    "start_time": "2022-02-07T11:49:10.168Z"
   },
   {
    "duration": 16,
    "start_time": "2022-02-07T11:49:10.205Z"
   },
   {
    "duration": 13,
    "start_time": "2022-02-07T11:49:10.222Z"
   },
   {
    "duration": 11,
    "start_time": "2022-02-07T11:49:10.237Z"
   },
   {
    "duration": 10,
    "start_time": "2022-02-07T11:49:10.249Z"
   },
   {
    "duration": 15,
    "start_time": "2022-02-07T11:49:10.261Z"
   },
   {
    "duration": 34,
    "start_time": "2022-02-07T11:49:10.278Z"
   },
   {
    "duration": 12,
    "start_time": "2022-02-07T11:49:10.314Z"
   },
   {
    "duration": 25,
    "start_time": "2022-02-07T11:49:10.327Z"
   },
   {
    "duration": 12,
    "start_time": "2022-02-07T11:49:10.353Z"
   },
   {
    "duration": 18,
    "start_time": "2022-02-07T11:49:10.366Z"
   },
   {
    "duration": 30,
    "start_time": "2022-02-07T11:49:10.386Z"
   },
   {
    "duration": 4,
    "start_time": "2022-02-07T11:49:10.418Z"
   },
   {
    "duration": 21,
    "start_time": "2022-02-07T11:49:10.423Z"
   },
   {
    "duration": 4,
    "start_time": "2022-02-07T11:49:10.445Z"
   },
   {
    "duration": 11,
    "start_time": "2022-02-07T11:49:10.451Z"
   },
   {
    "duration": 12,
    "start_time": "2022-02-07T11:49:10.464Z"
   },
   {
    "duration": 35,
    "start_time": "2022-02-07T11:49:10.477Z"
   },
   {
    "duration": 5,
    "start_time": "2022-02-07T11:49:10.514Z"
   },
   {
    "duration": 6,
    "start_time": "2022-02-07T11:49:10.520Z"
   },
   {
    "duration": 7,
    "start_time": "2022-02-07T11:49:10.527Z"
   },
   {
    "duration": 5,
    "start_time": "2022-02-07T11:49:10.537Z"
   },
   {
    "duration": 25,
    "start_time": "2022-02-07T11:49:10.544Z"
   },
   {
    "duration": 25,
    "start_time": "2022-02-07T11:49:10.570Z"
   },
   {
    "duration": 17,
    "start_time": "2022-02-07T11:49:10.597Z"
   },
   {
    "duration": 7,
    "start_time": "2022-02-07T11:49:10.616Z"
   },
   {
    "duration": 7,
    "start_time": "2022-02-07T11:49:10.625Z"
   },
   {
    "duration": 14,
    "start_time": "2022-02-07T11:49:10.634Z"
   },
   {
    "duration": 3,
    "start_time": "2022-02-07T11:49:10.650Z"
   },
   {
    "duration": 5,
    "start_time": "2022-02-07T11:49:10.654Z"
   },
   {
    "duration": 7,
    "start_time": "2022-02-07T11:49:10.660Z"
   },
   {
    "duration": 8,
    "start_time": "2022-02-07T11:49:10.668Z"
   },
   {
    "duration": 15,
    "start_time": "2022-02-07T11:49:10.678Z"
   },
   {
    "duration": 25,
    "start_time": "2022-02-07T11:49:10.694Z"
   },
   {
    "duration": 437,
    "start_time": "2022-02-07T11:49:10.721Z"
   },
   {
    "duration": 487,
    "start_time": "2022-02-07T11:49:11.160Z"
   },
   {
    "duration": 1230,
    "start_time": "2022-02-07T11:49:11.649Z"
   },
   {
    "duration": 131,
    "start_time": "2022-02-07T11:49:12.881Z"
   },
   {
    "duration": 6,
    "start_time": "2022-02-07T11:49:13.013Z"
   },
   {
    "duration": 8,
    "start_time": "2022-02-07T11:49:13.021Z"
   },
   {
    "duration": 670,
    "start_time": "2022-02-07T11:49:13.031Z"
   },
   {
    "duration": 319,
    "start_time": "2022-02-07T11:49:13.702Z"
   },
   {
    "duration": 4,
    "start_time": "2022-02-07T11:49:14.023Z"
   },
   {
    "duration": 600,
    "start_time": "2022-02-07T11:49:14.029Z"
   },
   {
    "duration": 6,
    "start_time": "2022-02-07T11:49:14.631Z"
   },
   {
    "duration": 2351,
    "start_time": "2022-02-07T11:49:14.638Z"
   },
   {
    "duration": 338,
    "start_time": "2022-02-07T11:49:16.991Z"
   },
   {
    "duration": 11,
    "start_time": "2022-02-07T11:49:17.331Z"
   },
   {
    "duration": 1349,
    "start_time": "2022-02-07T11:49:17.343Z"
   },
   {
    "duration": 772,
    "start_time": "2022-02-07T11:49:18.694Z"
   },
   {
    "duration": 5,
    "start_time": "2022-02-07T11:49:19.468Z"
   },
   {
    "duration": 490,
    "start_time": "2022-02-07T11:49:19.475Z"
   },
   {
    "duration": 2,
    "start_time": "2022-02-07T11:49:19.967Z"
   },
   {
    "duration": 12,
    "start_time": "2022-02-07T11:49:19.971Z"
   },
   {
    "duration": 34,
    "start_time": "2022-02-07T11:49:19.985Z"
   },
   {
    "duration": 11,
    "start_time": "2022-02-07T11:49:20.021Z"
   },
   {
    "duration": 12,
    "start_time": "2022-02-07T11:49:20.034Z"
   },
   {
    "duration": 11,
    "start_time": "2022-02-07T11:49:20.047Z"
   },
   {
    "duration": 10,
    "start_time": "2022-02-07T11:49:20.059Z"
   },
   {
    "duration": 329,
    "start_time": "2022-02-07T11:55:45.382Z"
   },
   {
    "duration": 336,
    "start_time": "2022-02-07T11:56:20.669Z"
   },
   {
    "duration": 388,
    "start_time": "2022-02-07T11:57:57.976Z"
   },
   {
    "duration": 345,
    "start_time": "2022-02-07T11:58:31.043Z"
   },
   {
    "duration": 327,
    "start_time": "2022-02-07T11:58:42.356Z"
   },
   {
    "duration": 2,
    "start_time": "2022-02-07T11:59:21.933Z"
   },
   {
    "duration": 780,
    "start_time": "2022-02-07T12:02:35.866Z"
   },
   {
    "duration": 759,
    "start_time": "2022-02-07T12:04:58.985Z"
   },
   {
    "duration": 5,
    "start_time": "2022-02-07T12:12:30.528Z"
   },
   {
    "duration": 5,
    "start_time": "2022-02-07T12:12:35.835Z"
   },
   {
    "duration": 1146,
    "start_time": "2022-02-07T12:12:41.500Z"
   },
   {
    "duration": 36,
    "start_time": "2022-02-07T12:12:42.648Z"
   },
   {
    "duration": 16,
    "start_time": "2022-02-07T12:12:42.686Z"
   },
   {
    "duration": 18,
    "start_time": "2022-02-07T12:12:42.704Z"
   },
   {
    "duration": 9,
    "start_time": "2022-02-07T12:12:42.724Z"
   },
   {
    "duration": 10,
    "start_time": "2022-02-07T12:12:42.735Z"
   },
   {
    "duration": 15,
    "start_time": "2022-02-07T12:12:42.746Z"
   },
   {
    "duration": 3,
    "start_time": "2022-02-07T12:12:42.762Z"
   },
   {
    "duration": 13,
    "start_time": "2022-02-07T12:12:42.768Z"
   },
   {
    "duration": 52,
    "start_time": "2022-02-07T12:12:42.783Z"
   },
   {
    "duration": 12,
    "start_time": "2022-02-07T12:12:42.836Z"
   },
   {
    "duration": 15,
    "start_time": "2022-02-07T12:12:42.850Z"
   },
   {
    "duration": 7,
    "start_time": "2022-02-07T12:12:42.866Z"
   },
   {
    "duration": 4,
    "start_time": "2022-02-07T12:12:42.874Z"
   },
   {
    "duration": 53,
    "start_time": "2022-02-07T12:12:42.879Z"
   },
   {
    "duration": 4,
    "start_time": "2022-02-07T12:12:42.933Z"
   },
   {
    "duration": 11,
    "start_time": "2022-02-07T12:12:42.938Z"
   },
   {
    "duration": 11,
    "start_time": "2022-02-07T12:12:42.951Z"
   },
   {
    "duration": 3,
    "start_time": "2022-02-07T12:12:42.964Z"
   },
   {
    "duration": 4,
    "start_time": "2022-02-07T12:12:42.969Z"
   },
   {
    "duration": 5,
    "start_time": "2022-02-07T12:12:42.974Z"
   },
   {
    "duration": 33,
    "start_time": "2022-02-07T12:12:42.980Z"
   },
   {
    "duration": 8,
    "start_time": "2022-02-07T12:12:43.015Z"
   },
   {
    "duration": 6,
    "start_time": "2022-02-07T12:12:43.024Z"
   },
   {
    "duration": 6,
    "start_time": "2022-02-07T12:12:43.031Z"
   },
   {
    "duration": 7,
    "start_time": "2022-02-07T12:12:43.039Z"
   },
   {
    "duration": 4,
    "start_time": "2022-02-07T12:12:43.049Z"
   },
   {
    "duration": 5,
    "start_time": "2022-02-07T12:12:43.055Z"
   },
   {
    "duration": 14,
    "start_time": "2022-02-07T12:12:43.061Z"
   },
   {
    "duration": 4,
    "start_time": "2022-02-07T12:12:43.077Z"
   },
   {
    "duration": 31,
    "start_time": "2022-02-07T12:12:43.083Z"
   },
   {
    "duration": 8,
    "start_time": "2022-02-07T12:12:43.116Z"
   },
   {
    "duration": 6,
    "start_time": "2022-02-07T12:12:43.125Z"
   },
   {
    "duration": 16,
    "start_time": "2022-02-07T12:12:43.132Z"
   },
   {
    "duration": 10,
    "start_time": "2022-02-07T12:12:43.150Z"
   },
   {
    "duration": 477,
    "start_time": "2022-02-07T12:12:43.162Z"
   },
   {
    "duration": 461,
    "start_time": "2022-02-07T12:12:43.641Z"
   },
   {
    "duration": 1269,
    "start_time": "2022-02-07T12:12:44.112Z"
   },
   {
    "duration": 130,
    "start_time": "2022-02-07T12:12:45.382Z"
   },
   {
    "duration": 5,
    "start_time": "2022-02-07T12:12:45.514Z"
   },
   {
    "duration": 5,
    "start_time": "2022-02-07T12:12:45.520Z"
   },
   {
    "duration": 751,
    "start_time": "2022-02-07T12:12:45.527Z"
   },
   {
    "duration": 316,
    "start_time": "2022-02-07T12:12:46.279Z"
   },
   {
    "duration": 5,
    "start_time": "2022-02-07T12:12:46.596Z"
   },
   {
    "duration": 639,
    "start_time": "2022-02-07T12:12:46.602Z"
   },
   {
    "duration": 6,
    "start_time": "2022-02-07T12:12:47.242Z"
   },
   {
    "duration": 2362,
    "start_time": "2022-02-07T12:12:47.250Z"
   },
   {
    "duration": 3,
    "start_time": "2022-02-07T12:12:49.614Z"
   },
   {
    "duration": 349,
    "start_time": "2022-02-07T12:12:49.619Z"
   },
   {
    "duration": 11,
    "start_time": "2022-02-07T12:12:49.970Z"
   },
   {
    "duration": 1356,
    "start_time": "2022-02-07T12:12:49.982Z"
   },
   {
    "duration": 779,
    "start_time": "2022-02-07T12:12:51.340Z"
   },
   {
    "duration": 4,
    "start_time": "2022-02-07T12:12:52.121Z"
   },
   {
    "duration": 533,
    "start_time": "2022-02-07T12:12:52.127Z"
   },
   {
    "duration": 2,
    "start_time": "2022-02-07T12:12:52.662Z"
   },
   {
    "duration": 12,
    "start_time": "2022-02-07T12:12:52.666Z"
   },
   {
    "duration": 10,
    "start_time": "2022-02-07T12:12:52.680Z"
   },
   {
    "duration": 10,
    "start_time": "2022-02-07T12:12:52.712Z"
   },
   {
    "duration": 12,
    "start_time": "2022-02-07T12:12:52.724Z"
   },
   {
    "duration": 9,
    "start_time": "2022-02-07T12:12:52.738Z"
   },
   {
    "duration": 12,
    "start_time": "2022-02-07T12:12:52.749Z"
   },
   {
    "duration": 5,
    "start_time": "2022-02-07T12:19:44.124Z"
   },
   {
    "duration": 1129,
    "start_time": "2022-02-07T12:30:21.935Z"
   },
   {
    "duration": 37,
    "start_time": "2022-02-07T12:30:23.066Z"
   },
   {
    "duration": 19,
    "start_time": "2022-02-07T12:30:23.105Z"
   },
   {
    "duration": 15,
    "start_time": "2022-02-07T12:30:23.126Z"
   },
   {
    "duration": 12,
    "start_time": "2022-02-07T12:30:23.143Z"
   },
   {
    "duration": 10,
    "start_time": "2022-02-07T12:30:23.157Z"
   },
   {
    "duration": 44,
    "start_time": "2022-02-07T12:30:23.169Z"
   },
   {
    "duration": 3,
    "start_time": "2022-02-07T12:30:23.214Z"
   },
   {
    "duration": 15,
    "start_time": "2022-02-07T12:30:23.220Z"
   },
   {
    "duration": 25,
    "start_time": "2022-02-07T12:30:23.237Z"
   },
   {
    "duration": 13,
    "start_time": "2022-02-07T12:30:23.264Z"
   },
   {
    "duration": 40,
    "start_time": "2022-02-07T12:30:23.279Z"
   },
   {
    "duration": 8,
    "start_time": "2022-02-07T12:30:23.321Z"
   },
   {
    "duration": 8,
    "start_time": "2022-02-07T12:30:23.330Z"
   },
   {
    "duration": 29,
    "start_time": "2022-02-07T12:30:23.339Z"
   },
   {
    "duration": 5,
    "start_time": "2022-02-07T12:30:23.369Z"
   },
   {
    "duration": 11,
    "start_time": "2022-02-07T12:30:23.375Z"
   },
   {
    "duration": 34,
    "start_time": "2022-02-07T12:30:23.388Z"
   },
   {
    "duration": 5,
    "start_time": "2022-02-07T12:30:23.424Z"
   },
   {
    "duration": 8,
    "start_time": "2022-02-07T12:30:23.430Z"
   },
   {
    "duration": 7,
    "start_time": "2022-02-07T12:30:23.440Z"
   },
   {
    "duration": 6,
    "start_time": "2022-02-07T12:30:23.448Z"
   },
   {
    "duration": 6,
    "start_time": "2022-02-07T12:30:23.456Z"
   },
   {
    "duration": 6,
    "start_time": "2022-02-07T12:30:23.464Z"
   },
   {
    "duration": 6,
    "start_time": "2022-02-07T12:30:23.472Z"
   },
   {
    "duration": 34,
    "start_time": "2022-02-07T12:30:23.480Z"
   },
   {
    "duration": 5,
    "start_time": "2022-02-07T12:30:23.517Z"
   },
   {
    "duration": 6,
    "start_time": "2022-02-07T12:30:23.524Z"
   },
   {
    "duration": 16,
    "start_time": "2022-02-07T12:30:23.532Z"
   },
   {
    "duration": 7,
    "start_time": "2022-02-07T12:30:23.549Z"
   },
   {
    "duration": 7,
    "start_time": "2022-02-07T12:30:23.557Z"
   },
   {
    "duration": 12,
    "start_time": "2022-02-07T12:30:23.566Z"
   },
   {
    "duration": 33,
    "start_time": "2022-02-07T12:30:23.579Z"
   },
   {
    "duration": 15,
    "start_time": "2022-02-07T12:30:23.614Z"
   },
   {
    "duration": 11,
    "start_time": "2022-02-07T12:30:23.631Z"
   },
   {
    "duration": 432,
    "start_time": "2022-02-07T12:30:23.644Z"
   },
   {
    "duration": 470,
    "start_time": "2022-02-07T12:30:24.077Z"
   },
   {
    "duration": 1286,
    "start_time": "2022-02-07T12:30:24.549Z"
   },
   {
    "duration": 136,
    "start_time": "2022-02-07T12:30:25.837Z"
   },
   {
    "duration": 5,
    "start_time": "2022-02-07T12:30:25.975Z"
   },
   {
    "duration": 6,
    "start_time": "2022-02-07T12:30:25.981Z"
   },
   {
    "duration": 706,
    "start_time": "2022-02-07T12:30:25.989Z"
   },
   {
    "duration": 332,
    "start_time": "2022-02-07T12:30:26.697Z"
   },
   {
    "duration": 5,
    "start_time": "2022-02-07T12:30:27.031Z"
   },
   {
    "duration": 618,
    "start_time": "2022-02-07T12:30:27.038Z"
   },
   {
    "duration": 7,
    "start_time": "2022-02-07T12:30:27.658Z"
   },
   {
    "duration": 2466,
    "start_time": "2022-02-07T12:30:27.666Z"
   },
   {
    "duration": 2,
    "start_time": "2022-02-07T12:30:30.134Z"
   },
   {
    "duration": 356,
    "start_time": "2022-02-07T12:30:30.137Z"
   },
   {
    "duration": 17,
    "start_time": "2022-02-07T12:30:30.495Z"
   },
   {
    "duration": 1334,
    "start_time": "2022-02-07T12:30:30.514Z"
   },
   {
    "duration": 768,
    "start_time": "2022-02-07T12:30:31.850Z"
   },
   {
    "duration": 8,
    "start_time": "2022-02-07T12:30:32.620Z"
   },
   {
    "duration": 6,
    "start_time": "2022-02-07T12:30:32.630Z"
   },
   {
    "duration": 512,
    "start_time": "2022-02-07T12:30:32.638Z"
   },
   {
    "duration": 3,
    "start_time": "2022-02-07T12:30:33.151Z"
   },
   {
    "duration": 29,
    "start_time": "2022-02-07T12:30:33.155Z"
   },
   {
    "duration": 46,
    "start_time": "2022-02-07T12:30:33.185Z"
   },
   {
    "duration": 14,
    "start_time": "2022-02-07T12:30:33.233Z"
   },
   {
    "duration": 16,
    "start_time": "2022-02-07T12:30:33.249Z"
   },
   {
    "duration": 20,
    "start_time": "2022-02-07T12:30:33.267Z"
   },
   {
    "duration": 22,
    "start_time": "2022-02-07T12:30:33.289Z"
   },
   {
    "duration": 16,
    "start_time": "2022-02-07T12:30:36.298Z"
   },
   {
    "duration": 889,
    "start_time": "2022-02-07T12:48:22.182Z"
   },
   {
    "duration": 814,
    "start_time": "2022-02-07T12:48:27.387Z"
   },
   {
    "duration": 711,
    "start_time": "2022-02-07T12:50:45.698Z"
   },
   {
    "duration": 796,
    "start_time": "2022-02-07T12:52:00.923Z"
   },
   {
    "duration": 11,
    "start_time": "2022-02-07T12:56:45.922Z"
   },
   {
    "duration": 1341,
    "start_time": "2022-02-07T12:56:46.675Z"
   },
   {
    "duration": 1126,
    "start_time": "2022-02-07T12:57:09.833Z"
   },
   {
    "duration": 37,
    "start_time": "2022-02-07T12:57:10.961Z"
   },
   {
    "duration": 18,
    "start_time": "2022-02-07T12:57:11.000Z"
   },
   {
    "duration": 12,
    "start_time": "2022-02-07T12:57:11.020Z"
   },
   {
    "duration": 8,
    "start_time": "2022-02-07T12:57:11.034Z"
   },
   {
    "duration": 8,
    "start_time": "2022-02-07T12:57:11.043Z"
   },
   {
    "duration": 13,
    "start_time": "2022-02-07T12:57:11.053Z"
   },
   {
    "duration": 2,
    "start_time": "2022-02-07T12:57:11.068Z"
   },
   {
    "duration": 46,
    "start_time": "2022-02-07T12:57:11.073Z"
   },
   {
    "duration": 23,
    "start_time": "2022-02-07T12:57:11.121Z"
   },
   {
    "duration": 13,
    "start_time": "2022-02-07T12:57:11.145Z"
   },
   {
    "duration": 16,
    "start_time": "2022-02-07T12:57:11.159Z"
   },
   {
    "duration": 7,
    "start_time": "2022-02-07T12:57:11.177Z"
   },
   {
    "duration": 29,
    "start_time": "2022-02-07T12:57:11.185Z"
   },
   {
    "duration": 21,
    "start_time": "2022-02-07T12:57:11.215Z"
   },
   {
    "duration": 3,
    "start_time": "2022-02-07T12:57:11.238Z"
   },
   {
    "duration": 10,
    "start_time": "2022-02-07T12:57:11.242Z"
   },
   {
    "duration": 11,
    "start_time": "2022-02-07T12:57:11.253Z"
   },
   {
    "duration": 5,
    "start_time": "2022-02-07T12:57:11.265Z"
   },
   {
    "duration": 4,
    "start_time": "2022-02-07T12:57:11.272Z"
   },
   {
    "duration": 5,
    "start_time": "2022-02-07T12:57:11.277Z"
   },
   {
    "duration": 5,
    "start_time": "2022-02-07T12:57:11.313Z"
   },
   {
    "duration": 15,
    "start_time": "2022-02-07T12:57:11.324Z"
   },
   {
    "duration": 13,
    "start_time": "2022-02-07T12:57:11.341Z"
   },
   {
    "duration": 15,
    "start_time": "2022-02-07T12:57:11.355Z"
   },
   {
    "duration": 13,
    "start_time": "2022-02-07T12:57:11.371Z"
   },
   {
    "duration": 19,
    "start_time": "2022-02-07T12:57:11.388Z"
   },
   {
    "duration": 5,
    "start_time": "2022-02-07T12:57:11.410Z"
   },
   {
    "duration": 16,
    "start_time": "2022-02-07T12:57:11.417Z"
   },
   {
    "duration": 8,
    "start_time": "2022-02-07T12:57:11.435Z"
   },
   {
    "duration": 10,
    "start_time": "2022-02-07T12:57:11.445Z"
   },
   {
    "duration": 11,
    "start_time": "2022-02-07T12:57:11.456Z"
   },
   {
    "duration": 9,
    "start_time": "2022-02-07T12:57:11.468Z"
   },
   {
    "duration": 22,
    "start_time": "2022-02-07T12:57:11.479Z"
   },
   {
    "duration": 16,
    "start_time": "2022-02-07T12:57:11.502Z"
   },
   {
    "duration": 440,
    "start_time": "2022-02-07T12:57:11.520Z"
   },
   {
    "duration": 462,
    "start_time": "2022-02-07T12:57:11.962Z"
   },
   {
    "duration": 1226,
    "start_time": "2022-02-07T12:57:12.426Z"
   },
   {
    "duration": 141,
    "start_time": "2022-02-07T12:57:13.654Z"
   },
   {
    "duration": 5,
    "start_time": "2022-02-07T12:57:13.797Z"
   },
   {
    "duration": 10,
    "start_time": "2022-02-07T12:57:13.804Z"
   },
   {
    "duration": 638,
    "start_time": "2022-02-07T12:57:13.816Z"
   },
   {
    "duration": 314,
    "start_time": "2022-02-07T12:57:14.455Z"
   },
   {
    "duration": 5,
    "start_time": "2022-02-07T12:57:14.770Z"
   },
   {
    "duration": 577,
    "start_time": "2022-02-07T12:57:14.776Z"
   },
   {
    "duration": 7,
    "start_time": "2022-02-07T12:57:15.355Z"
   },
   {
    "duration": 2348,
    "start_time": "2022-02-07T12:57:15.364Z"
   },
   {
    "duration": 2,
    "start_time": "2022-02-07T12:57:17.714Z"
   },
   {
    "duration": 341,
    "start_time": "2022-02-07T12:57:17.718Z"
   },
   {
    "duration": 10,
    "start_time": "2022-02-07T12:57:18.061Z"
   },
   {
    "duration": 1351,
    "start_time": "2022-02-07T12:57:18.073Z"
   },
   {
    "duration": 800,
    "start_time": "2022-02-07T12:57:19.426Z"
   },
   {
    "duration": 15,
    "start_time": "2022-02-07T12:57:20.228Z"
   },
   {
    "duration": 4,
    "start_time": "2022-02-07T12:57:20.244Z"
   },
   {
    "duration": 528,
    "start_time": "2022-02-07T12:57:20.250Z"
   },
   {
    "duration": 2,
    "start_time": "2022-02-07T12:57:20.780Z"
   },
   {
    "duration": 21,
    "start_time": "2022-02-07T12:57:20.784Z"
   },
   {
    "duration": 14,
    "start_time": "2022-02-07T12:57:20.807Z"
   },
   {
    "duration": 17,
    "start_time": "2022-02-07T12:57:20.822Z"
   },
   {
    "duration": 10,
    "start_time": "2022-02-07T12:57:20.841Z"
   },
   {
    "duration": 9,
    "start_time": "2022-02-07T12:57:20.852Z"
   },
   {
    "duration": 10,
    "start_time": "2022-02-07T12:57:20.862Z"
   },
   {
    "duration": 1184,
    "start_time": "2022-02-07T13:19:25.865Z"
   },
   {
    "duration": 38,
    "start_time": "2022-02-07T13:19:27.051Z"
   },
   {
    "duration": 20,
    "start_time": "2022-02-07T13:19:27.092Z"
   },
   {
    "duration": 14,
    "start_time": "2022-02-07T13:19:27.114Z"
   },
   {
    "duration": 10,
    "start_time": "2022-02-07T13:19:27.130Z"
   },
   {
    "duration": 15,
    "start_time": "2022-02-07T13:19:27.142Z"
   },
   {
    "duration": 53,
    "start_time": "2022-02-07T13:19:27.159Z"
   },
   {
    "duration": 3,
    "start_time": "2022-02-07T13:19:27.215Z"
   },
   {
    "duration": 15,
    "start_time": "2022-02-07T13:19:27.220Z"
   },
   {
    "duration": 24,
    "start_time": "2022-02-07T13:19:27.237Z"
   },
   {
    "duration": 13,
    "start_time": "2022-02-07T13:19:27.262Z"
   },
   {
    "duration": 45,
    "start_time": "2022-02-07T13:19:27.277Z"
   },
   {
    "duration": 7,
    "start_time": "2022-02-07T13:19:27.324Z"
   },
   {
    "duration": 4,
    "start_time": "2022-02-07T13:19:27.333Z"
   },
   {
    "duration": 27,
    "start_time": "2022-02-07T13:19:27.339Z"
   },
   {
    "duration": 4,
    "start_time": "2022-02-07T13:19:27.367Z"
   },
   {
    "duration": 42,
    "start_time": "2022-02-07T13:19:27.373Z"
   },
   {
    "duration": 14,
    "start_time": "2022-02-07T13:19:27.417Z"
   },
   {
    "duration": 4,
    "start_time": "2022-02-07T13:19:27.433Z"
   },
   {
    "duration": 6,
    "start_time": "2022-02-07T13:19:27.439Z"
   },
   {
    "duration": 4,
    "start_time": "2022-02-07T13:19:27.447Z"
   },
   {
    "duration": 5,
    "start_time": "2022-02-07T13:19:27.453Z"
   },
   {
    "duration": 5,
    "start_time": "2022-02-07T13:19:27.461Z"
   },
   {
    "duration": 44,
    "start_time": "2022-02-07T13:19:27.468Z"
   },
   {
    "duration": 5,
    "start_time": "2022-02-07T13:19:27.514Z"
   },
   {
    "duration": 5,
    "start_time": "2022-02-07T13:19:27.521Z"
   },
   {
    "duration": 6,
    "start_time": "2022-02-07T13:19:27.528Z"
   },
   {
    "duration": 5,
    "start_time": "2022-02-07T13:19:27.536Z"
   },
   {
    "duration": 14,
    "start_time": "2022-02-07T13:19:27.543Z"
   },
   {
    "duration": 5,
    "start_time": "2022-02-07T13:19:27.558Z"
   },
   {
    "duration": 8,
    "start_time": "2022-02-07T13:19:27.565Z"
   },
   {
    "duration": 6,
    "start_time": "2022-02-07T13:19:27.612Z"
   },
   {
    "duration": 7,
    "start_time": "2022-02-07T13:19:27.620Z"
   },
   {
    "duration": 19,
    "start_time": "2022-02-07T13:19:27.629Z"
   },
   {
    "duration": 12,
    "start_time": "2022-02-07T13:19:27.650Z"
   },
   {
    "duration": 510,
    "start_time": "2022-02-07T13:19:27.664Z"
   },
   {
    "duration": 485,
    "start_time": "2022-02-07T13:19:28.175Z"
   },
   {
    "duration": 1435,
    "start_time": "2022-02-07T13:19:28.662Z"
   },
   {
    "duration": 138,
    "start_time": "2022-02-07T13:19:30.099Z"
   },
   {
    "duration": 5,
    "start_time": "2022-02-07T13:19:30.239Z"
   },
   {
    "duration": 26,
    "start_time": "2022-02-07T13:19:30.246Z"
   },
   {
    "duration": 712,
    "start_time": "2022-02-07T13:19:30.274Z"
   },
   {
    "duration": 339,
    "start_time": "2022-02-07T13:19:30.987Z"
   },
   {
    "duration": 5,
    "start_time": "2022-02-07T13:19:31.327Z"
   },
   {
    "duration": 731,
    "start_time": "2022-02-07T13:19:31.334Z"
   },
   {
    "duration": 8,
    "start_time": "2022-02-07T13:19:32.067Z"
   },
   {
    "duration": 2589,
    "start_time": "2022-02-07T13:19:32.077Z"
   },
   {
    "duration": 3,
    "start_time": "2022-02-07T13:19:34.668Z"
   },
   {
    "duration": 390,
    "start_time": "2022-02-07T13:19:34.673Z"
   },
   {
    "duration": 13,
    "start_time": "2022-02-07T13:19:35.066Z"
   },
   {
    "duration": 1452,
    "start_time": "2022-02-07T13:19:35.081Z"
   },
   {
    "duration": 847,
    "start_time": "2022-02-07T13:19:36.534Z"
   },
   {
    "duration": 17,
    "start_time": "2022-02-07T13:19:37.383Z"
   },
   {
    "duration": 30,
    "start_time": "2022-02-07T13:19:37.413Z"
   },
   {
    "duration": 540,
    "start_time": "2022-02-07T13:19:37.444Z"
   },
   {
    "duration": 2,
    "start_time": "2022-02-07T13:19:37.986Z"
   },
   {
    "duration": 25,
    "start_time": "2022-02-07T13:19:37.990Z"
   },
   {
    "duration": 13,
    "start_time": "2022-02-07T13:19:38.017Z"
   },
   {
    "duration": 13,
    "start_time": "2022-02-07T13:19:38.032Z"
   },
   {
    "duration": 13,
    "start_time": "2022-02-07T13:19:38.047Z"
   },
   {
    "duration": 11,
    "start_time": "2022-02-07T13:19:38.062Z"
   },
   {
    "duration": 45,
    "start_time": "2022-02-07T13:19:38.075Z"
   },
   {
    "duration": 5864,
    "start_time": "2022-02-07T13:19:38.122Z"
   },
   {
    "duration": 9,
    "start_time": "2022-02-07T13:19:57.149Z"
   },
   {
    "duration": 5,
    "start_time": "2022-02-07T13:20:07.489Z"
   },
   {
    "duration": 5,
    "start_time": "2022-02-07T13:20:14.506Z"
   },
   {
    "duration": 5,
    "start_time": "2022-02-07T13:20:32.930Z"
   },
   {
    "duration": 767,
    "start_time": "2022-02-07T13:35:53.742Z"
   },
   {
    "duration": 2091,
    "start_time": "2022-02-07T13:41:37.270Z"
   },
   {
    "duration": 2195,
    "start_time": "2022-02-07T13:42:16.034Z"
   },
   {
    "duration": 2079,
    "start_time": "2022-02-07T13:42:40.943Z"
   },
   {
    "duration": 2101,
    "start_time": "2022-02-07T13:45:11.283Z"
   },
   {
    "duration": 434,
    "start_time": "2022-02-08T10:08:27.446Z"
   },
   {
    "duration": 1539,
    "start_time": "2022-02-08T10:08:31.398Z"
   },
   {
    "duration": 48,
    "start_time": "2022-02-08T10:08:32.939Z"
   },
   {
    "duration": 23,
    "start_time": "2022-02-08T10:08:32.990Z"
   },
   {
    "duration": 19,
    "start_time": "2022-02-08T10:08:33.016Z"
   },
   {
    "duration": 33,
    "start_time": "2022-02-08T10:08:33.037Z"
   },
   {
    "duration": 13,
    "start_time": "2022-02-08T10:08:33.072Z"
   },
   {
    "duration": 23,
    "start_time": "2022-02-08T10:08:33.087Z"
   },
   {
    "duration": 4,
    "start_time": "2022-02-08T10:08:33.113Z"
   },
   {
    "duration": 57,
    "start_time": "2022-02-08T10:08:33.120Z"
   },
   {
    "duration": 38,
    "start_time": "2022-02-08T10:08:33.180Z"
   },
   {
    "duration": 51,
    "start_time": "2022-02-08T10:08:33.220Z"
   },
   {
    "duration": 24,
    "start_time": "2022-02-08T10:08:33.274Z"
   },
   {
    "duration": 12,
    "start_time": "2022-02-08T10:08:33.301Z"
   },
   {
    "duration": 45,
    "start_time": "2022-02-08T10:08:33.316Z"
   },
   {
    "duration": 31,
    "start_time": "2022-02-08T10:08:33.364Z"
   },
   {
    "duration": 6,
    "start_time": "2022-02-08T10:08:33.397Z"
   },
   {
    "duration": 11,
    "start_time": "2022-02-08T10:08:33.406Z"
   },
   {
    "duration": 50,
    "start_time": "2022-02-08T10:08:33.420Z"
   },
   {
    "duration": 6,
    "start_time": "2022-02-08T10:08:33.472Z"
   },
   {
    "duration": 8,
    "start_time": "2022-02-08T10:08:33.480Z"
   },
   {
    "duration": 5,
    "start_time": "2022-02-08T10:08:33.490Z"
   },
   {
    "duration": 6,
    "start_time": "2022-02-08T10:08:33.498Z"
   },
   {
    "duration": 50,
    "start_time": "2022-02-08T10:08:33.511Z"
   },
   {
    "duration": 6,
    "start_time": "2022-02-08T10:08:33.564Z"
   },
   {
    "duration": 8,
    "start_time": "2022-02-08T10:08:33.572Z"
   },
   {
    "duration": 6,
    "start_time": "2022-02-08T10:08:33.582Z"
   },
   {
    "duration": 6,
    "start_time": "2022-02-08T10:08:33.590Z"
   },
   {
    "duration": 7,
    "start_time": "2022-02-08T10:08:33.598Z"
   },
   {
    "duration": 67,
    "start_time": "2022-02-08T10:08:33.607Z"
   },
   {
    "duration": 7,
    "start_time": "2022-02-08T10:08:33.676Z"
   },
   {
    "duration": 6,
    "start_time": "2022-02-08T10:08:33.685Z"
   },
   {
    "duration": 8,
    "start_time": "2022-02-08T10:08:33.694Z"
   },
   {
    "duration": 11,
    "start_time": "2022-02-08T10:08:33.705Z"
   },
   {
    "duration": 59,
    "start_time": "2022-02-08T10:08:33.718Z"
   },
   {
    "duration": 13,
    "start_time": "2022-02-08T10:08:33.779Z"
   },
   {
    "duration": 583,
    "start_time": "2022-02-08T10:08:33.794Z"
   },
   {
    "duration": 715,
    "start_time": "2022-02-08T10:08:34.380Z"
   },
   {
    "duration": 1888,
    "start_time": "2022-02-08T10:08:35.097Z"
   },
   {
    "duration": 177,
    "start_time": "2022-02-08T10:08:36.987Z"
   },
   {
    "duration": 7,
    "start_time": "2022-02-08T10:08:37.166Z"
   },
   {
    "duration": 5,
    "start_time": "2022-02-08T10:08:37.176Z"
   },
   {
    "duration": 970,
    "start_time": "2022-02-08T10:08:37.183Z"
   },
   {
    "duration": 488,
    "start_time": "2022-02-08T10:08:38.160Z"
   },
   {
    "duration": 11,
    "start_time": "2022-02-08T10:08:38.651Z"
   },
   {
    "duration": 908,
    "start_time": "2022-02-08T10:08:38.664Z"
   },
   {
    "duration": 9,
    "start_time": "2022-02-08T10:08:39.574Z"
   },
   {
    "duration": 3879,
    "start_time": "2022-02-08T10:08:39.585Z"
   },
   {
    "duration": 3,
    "start_time": "2022-02-08T10:08:43.467Z"
   },
   {
    "duration": 560,
    "start_time": "2022-02-08T10:08:43.472Z"
   },
   {
    "duration": 25,
    "start_time": "2022-02-08T10:08:44.034Z"
   },
   {
    "duration": 2002,
    "start_time": "2022-02-08T10:08:44.061Z"
   },
   {
    "duration": 1210,
    "start_time": "2022-02-08T10:08:46.065Z"
   },
   {
    "duration": 7,
    "start_time": "2022-02-08T10:08:47.277Z"
   },
   {
    "duration": 800,
    "start_time": "2022-02-08T10:08:47.286Z"
   },
   {
    "duration": 3,
    "start_time": "2022-02-08T10:08:48.088Z"
   },
   {
    "duration": 16,
    "start_time": "2022-02-08T10:08:48.093Z"
   },
   {
    "duration": 15,
    "start_time": "2022-02-08T10:08:48.112Z"
   },
   {
    "duration": 17,
    "start_time": "2022-02-08T10:08:48.160Z"
   },
   {
    "duration": 19,
    "start_time": "2022-02-08T10:08:48.179Z"
   },
   {
    "duration": 14,
    "start_time": "2022-02-08T10:08:48.201Z"
   },
   {
    "duration": 51,
    "start_time": "2022-02-08T10:08:48.217Z"
   },
   {
    "duration": 45,
    "start_time": "2022-02-08T10:08:56.905Z"
   },
   {
    "duration": 33,
    "start_time": "2022-02-08T10:09:03.089Z"
   },
   {
    "duration": 1158,
    "start_time": "2022-02-08T11:05:44.244Z"
   },
   {
    "duration": 909,
    "start_time": "2022-02-08T11:05:45.404Z"
   },
   {
    "duration": 21,
    "start_time": "2022-02-08T11:05:46.316Z"
   },
   {
    "duration": 13,
    "start_time": "2022-02-08T11:05:46.339Z"
   },
   {
    "duration": 16,
    "start_time": "2022-02-08T11:05:46.354Z"
   },
   {
    "duration": 9,
    "start_time": "2022-02-08T11:05:46.372Z"
   },
   {
    "duration": 14,
    "start_time": "2022-02-08T11:05:46.383Z"
   },
   {
    "duration": 2,
    "start_time": "2022-02-08T11:05:46.400Z"
   },
   {
    "duration": 14,
    "start_time": "2022-02-08T11:05:46.404Z"
   },
   {
    "duration": 22,
    "start_time": "2022-02-08T11:05:46.420Z"
   },
   {
    "duration": 37,
    "start_time": "2022-02-08T11:05:46.444Z"
   },
   {
    "duration": 14,
    "start_time": "2022-02-08T11:05:46.482Z"
   },
   {
    "duration": 6,
    "start_time": "2022-02-08T11:05:46.498Z"
   },
   {
    "duration": 5,
    "start_time": "2022-02-08T11:05:46.506Z"
   },
   {
    "duration": 21,
    "start_time": "2022-02-08T11:05:46.512Z"
   },
   {
    "duration": 3,
    "start_time": "2022-02-08T11:05:46.535Z"
   },
   {
    "duration": 33,
    "start_time": "2022-02-08T11:05:46.540Z"
   },
   {
    "duration": 12,
    "start_time": "2022-02-08T11:05:46.575Z"
   },
   {
    "duration": 6,
    "start_time": "2022-02-08T11:05:46.589Z"
   },
   {
    "duration": 5,
    "start_time": "2022-02-08T11:05:46.596Z"
   },
   {
    "duration": 7,
    "start_time": "2022-02-08T11:05:46.602Z"
   },
   {
    "duration": 7,
    "start_time": "2022-02-08T11:05:46.611Z"
   },
   {
    "duration": 14,
    "start_time": "2022-02-08T11:05:46.621Z"
   },
   {
    "duration": 7,
    "start_time": "2022-02-08T11:05:46.636Z"
   },
   {
    "duration": 28,
    "start_time": "2022-02-08T11:05:46.645Z"
   },
   {
    "duration": 5,
    "start_time": "2022-02-08T11:05:46.675Z"
   },
   {
    "duration": 8,
    "start_time": "2022-02-08T11:05:46.682Z"
   },
   {
    "duration": 9,
    "start_time": "2022-02-08T11:05:46.692Z"
   },
   {
    "duration": 16,
    "start_time": "2022-02-08T11:05:46.702Z"
   },
   {
    "duration": 4,
    "start_time": "2022-02-08T11:05:46.720Z"
   },
   {
    "duration": 7,
    "start_time": "2022-02-08T11:05:46.726Z"
   },
   {
    "duration": 9,
    "start_time": "2022-02-08T11:05:46.735Z"
   },
   {
    "duration": 32,
    "start_time": "2022-02-08T11:05:46.746Z"
   },
   {
    "duration": 12,
    "start_time": "2022-02-08T11:05:46.780Z"
   },
   {
    "duration": 11,
    "start_time": "2022-02-08T11:05:46.794Z"
   },
   {
    "duration": 396,
    "start_time": "2022-02-08T11:05:46.807Z"
   },
   {
    "duration": 394,
    "start_time": "2022-02-08T11:05:47.204Z"
   },
   {
    "duration": 1018,
    "start_time": "2022-02-08T11:05:47.599Z"
   },
   {
    "duration": 120,
    "start_time": "2022-02-08T11:05:48.618Z"
   },
   {
    "duration": 5,
    "start_time": "2022-02-08T11:05:48.740Z"
   },
   {
    "duration": 21,
    "start_time": "2022-02-08T11:05:48.746Z"
   },
   {
    "duration": 579,
    "start_time": "2022-02-08T11:05:48.768Z"
   },
   {
    "duration": 278,
    "start_time": "2022-02-08T11:05:49.348Z"
   },
   {
    "duration": 4,
    "start_time": "2022-02-08T11:05:49.628Z"
   },
   {
    "duration": 542,
    "start_time": "2022-02-08T11:05:49.633Z"
   },
   {
    "duration": 5,
    "start_time": "2022-02-08T11:05:50.176Z"
   },
   {
    "duration": 2069,
    "start_time": "2022-02-08T11:05:50.183Z"
   },
   {
    "duration": 2,
    "start_time": "2022-02-08T11:05:52.253Z"
   },
   {
    "duration": 282,
    "start_time": "2022-02-08T11:05:52.257Z"
   },
   {
    "duration": 10,
    "start_time": "2022-02-08T11:05:52.540Z"
   },
   {
    "duration": 1171,
    "start_time": "2022-02-08T11:05:52.552Z"
   },
   {
    "duration": 704,
    "start_time": "2022-02-08T11:05:53.725Z"
   },
   {
    "duration": 5,
    "start_time": "2022-02-08T11:05:54.431Z"
   },
   {
    "duration": 452,
    "start_time": "2022-02-08T11:05:54.438Z"
   },
   {
    "duration": 2,
    "start_time": "2022-02-08T11:05:54.892Z"
   },
   {
    "duration": 12,
    "start_time": "2022-02-08T11:05:54.896Z"
   },
   {
    "duration": 15,
    "start_time": "2022-02-08T11:05:54.909Z"
   },
   {
    "duration": 8,
    "start_time": "2022-02-08T11:05:54.926Z"
   },
   {
    "duration": 10,
    "start_time": "2022-02-08T11:05:54.936Z"
   },
   {
    "duration": 31,
    "start_time": "2022-02-08T11:05:54.947Z"
   },
   {
    "duration": 8,
    "start_time": "2022-02-08T11:05:54.980Z"
   },
   {
    "duration": 1126,
    "start_time": "2022-02-08T11:11:31.015Z"
   },
   {
    "duration": -4,
    "start_time": "2022-02-08T11:11:32.147Z"
   },
   {
    "duration": 1130,
    "start_time": "2022-02-08T11:12:15.515Z"
   },
   {
    "duration": 988,
    "start_time": "2022-02-08T11:13:27.673Z"
   },
   {
    "duration": 980,
    "start_time": "2022-02-08T11:13:53.022Z"
   },
   {
    "duration": 6,
    "start_time": "2022-02-08T11:14:11.872Z"
   },
   {
    "duration": 531,
    "start_time": "2022-02-08T11:14:17.191Z"
   },
   {
    "duration": 6,
    "start_time": "2022-02-08T11:15:03.272Z"
   },
   {
    "duration": 623,
    "start_time": "2022-02-08T11:15:04.918Z"
   },
   {
    "duration": 6,
    "start_time": "2022-02-08T11:15:18.777Z"
   },
   {
    "duration": 535,
    "start_time": "2022-02-08T11:15:19.312Z"
   },
   {
    "duration": 91,
    "start_time": "2022-02-08T11:17:14.682Z"
   },
   {
    "duration": 595,
    "start_time": "2022-02-08T11:17:15.963Z"
   },
   {
    "duration": 86,
    "start_time": "2022-02-08T11:17:35.627Z"
   },
   {
    "duration": 496,
    "start_time": "2022-02-08T11:17:36.332Z"
   },
   {
    "duration": 5,
    "start_time": "2022-02-08T11:18:01.900Z"
   },
   {
    "duration": 334,
    "start_time": "2022-02-08T11:18:03.719Z"
   },
   {
    "duration": 5,
    "start_time": "2022-02-08T11:18:11.122Z"
   },
   {
    "duration": 614,
    "start_time": "2022-02-08T11:18:12.259Z"
   },
   {
    "duration": 6,
    "start_time": "2022-02-08T11:18:20.602Z"
   },
   {
    "duration": 822,
    "start_time": "2022-02-08T11:18:21.090Z"
   },
   {
    "duration": 138,
    "start_time": "2022-02-08T11:21:00.699Z"
   },
   {
    "duration": 565,
    "start_time": "2022-02-08T11:21:02.092Z"
   },
   {
    "duration": 5,
    "start_time": "2022-02-08T11:21:23.780Z"
   },
   {
    "duration": 531,
    "start_time": "2022-02-08T11:21:24.719Z"
   },
   {
    "duration": 291,
    "start_time": "2022-02-08T11:22:11.751Z"
   },
   {
    "duration": 539,
    "start_time": "2022-02-08T11:22:12.435Z"
   },
   {
    "duration": 6,
    "start_time": "2022-02-08T11:22:21.824Z"
   },
   {
    "duration": 545,
    "start_time": "2022-02-08T11:22:22.582Z"
   },
   {
    "duration": 6,
    "start_time": "2022-02-08T11:22:39.061Z"
   },
   {
    "duration": 499,
    "start_time": "2022-02-08T11:22:39.632Z"
   },
   {
    "duration": 6,
    "start_time": "2022-02-08T11:23:26.675Z"
   },
   {
    "duration": 6,
    "start_time": "2022-02-08T11:24:24.176Z"
   },
   {
    "duration": 579,
    "start_time": "2022-02-08T11:24:24.871Z"
   },
   {
    "duration": 5,
    "start_time": "2022-02-08T11:24:29.592Z"
   },
   {
    "duration": 1120,
    "start_time": "2022-02-08T11:24:40.080Z"
   },
   {
    "duration": 37,
    "start_time": "2022-02-08T11:24:41.202Z"
   },
   {
    "duration": 15,
    "start_time": "2022-02-08T11:24:41.241Z"
   },
   {
    "duration": 13,
    "start_time": "2022-02-08T11:24:41.258Z"
   },
   {
    "duration": 10,
    "start_time": "2022-02-08T11:24:41.273Z"
   },
   {
    "duration": 9,
    "start_time": "2022-02-08T11:24:41.285Z"
   },
   {
    "duration": 14,
    "start_time": "2022-02-08T11:24:41.295Z"
   },
   {
    "duration": 3,
    "start_time": "2022-02-08T11:24:41.311Z"
   },
   {
    "duration": 14,
    "start_time": "2022-02-08T11:24:41.315Z"
   },
   {
    "duration": 49,
    "start_time": "2022-02-08T11:24:41.331Z"
   },
   {
    "duration": 11,
    "start_time": "2022-02-08T11:24:41.382Z"
   },
   {
    "duration": 13,
    "start_time": "2022-02-08T11:24:41.394Z"
   },
   {
    "duration": 7,
    "start_time": "2022-02-08T11:24:41.409Z"
   },
   {
    "duration": 8,
    "start_time": "2022-02-08T11:24:41.418Z"
   },
   {
    "duration": 45,
    "start_time": "2022-02-08T11:24:41.427Z"
   },
   {
    "duration": 4,
    "start_time": "2022-02-08T11:24:41.474Z"
   },
   {
    "duration": 9,
    "start_time": "2022-02-08T11:24:41.479Z"
   },
   {
    "duration": 11,
    "start_time": "2022-02-08T11:24:41.490Z"
   },
   {
    "duration": 7,
    "start_time": "2022-02-08T11:24:41.503Z"
   },
   {
    "duration": 7,
    "start_time": "2022-02-08T11:24:41.512Z"
   },
   {
    "duration": 8,
    "start_time": "2022-02-08T11:24:41.521Z"
   },
   {
    "duration": 8,
    "start_time": "2022-02-08T11:24:41.531Z"
   },
   {
    "duration": 29,
    "start_time": "2022-02-08T11:24:41.544Z"
   },
   {
    "duration": 4,
    "start_time": "2022-02-08T11:24:41.575Z"
   },
   {
    "duration": 8,
    "start_time": "2022-02-08T11:24:41.581Z"
   },
   {
    "duration": 10,
    "start_time": "2022-02-08T11:24:41.590Z"
   },
   {
    "duration": 9,
    "start_time": "2022-02-08T11:24:41.601Z"
   },
   {
    "duration": 8,
    "start_time": "2022-02-08T11:24:41.612Z"
   },
   {
    "duration": 16,
    "start_time": "2022-02-08T11:24:41.622Z"
   },
   {
    "duration": 8,
    "start_time": "2022-02-08T11:24:41.639Z"
   },
   {
    "duration": 9,
    "start_time": "2022-02-08T11:24:41.649Z"
   },
   {
    "duration": 13,
    "start_time": "2022-02-08T11:24:41.660Z"
   },
   {
    "duration": 9,
    "start_time": "2022-02-08T11:24:41.675Z"
   },
   {
    "duration": 18,
    "start_time": "2022-02-08T11:24:41.686Z"
   },
   {
    "duration": 9,
    "start_time": "2022-02-08T11:24:41.705Z"
   },
   {
    "duration": 385,
    "start_time": "2022-02-08T11:24:41.716Z"
   },
   {
    "duration": 409,
    "start_time": "2022-02-08T11:24:42.102Z"
   },
   {
    "duration": 1045,
    "start_time": "2022-02-08T11:24:42.513Z"
   },
   {
    "duration": 127,
    "start_time": "2022-02-08T11:24:43.560Z"
   },
   {
    "duration": 6,
    "start_time": "2022-02-08T11:24:43.688Z"
   },
   {
    "duration": 7,
    "start_time": "2022-02-08T11:24:43.695Z"
   },
   {
    "duration": 550,
    "start_time": "2022-02-08T11:24:43.703Z"
   },
   {
    "duration": 264,
    "start_time": "2022-02-08T11:24:44.255Z"
   },
   {
    "duration": 5,
    "start_time": "2022-02-08T11:24:44.520Z"
   },
   {
    "duration": 527,
    "start_time": "2022-02-08T11:24:44.527Z"
   },
   {
    "duration": 4,
    "start_time": "2022-02-08T11:24:45.056Z"
   },
   {
    "duration": 2086,
    "start_time": "2022-02-08T11:24:45.071Z"
   },
   {
    "duration": 2,
    "start_time": "2022-02-08T11:24:47.158Z"
   },
   {
    "duration": 275,
    "start_time": "2022-02-08T11:24:47.162Z"
   },
   {
    "duration": 10,
    "start_time": "2022-02-08T11:24:47.439Z"
   },
   {
    "duration": 1178,
    "start_time": "2022-02-08T11:24:47.450Z"
   },
   {
    "duration": 660,
    "start_time": "2022-02-08T11:24:48.630Z"
   },
   {
    "duration": 4,
    "start_time": "2022-02-08T11:24:49.292Z"
   },
   {
    "duration": 443,
    "start_time": "2022-02-08T11:24:49.297Z"
   },
   {
    "duration": 3,
    "start_time": "2022-02-08T11:24:49.741Z"
   },
   {
    "duration": 11,
    "start_time": "2022-02-08T11:24:49.746Z"
   },
   {
    "duration": 9,
    "start_time": "2022-02-08T11:24:49.772Z"
   },
   {
    "duration": 10,
    "start_time": "2022-02-08T11:24:49.783Z"
   },
   {
    "duration": 9,
    "start_time": "2022-02-08T11:24:49.795Z"
   },
   {
    "duration": 8,
    "start_time": "2022-02-08T11:24:49.806Z"
   },
   {
    "duration": 8,
    "start_time": "2022-02-08T11:24:49.816Z"
   },
   {
    "duration": 5,
    "start_time": "2022-02-08T11:26:44.634Z"
   },
   {
    "duration": 505,
    "start_time": "2022-02-08T11:26:45.548Z"
   },
   {
    "duration": 6,
    "start_time": "2022-02-08T11:26:55.636Z"
   },
   {
    "duration": 5,
    "start_time": "2022-02-08T11:27:11.870Z"
   },
   {
    "duration": 686,
    "start_time": "2022-02-08T11:27:12.678Z"
   },
   {
    "duration": 6,
    "start_time": "2022-02-08T11:27:19.785Z"
   },
   {
    "duration": 6,
    "start_time": "2022-02-08T11:27:35.759Z"
   },
   {
    "duration": 520,
    "start_time": "2022-02-08T11:27:36.310Z"
   },
   {
    "duration": 6,
    "start_time": "2022-02-08T11:27:48.663Z"
   },
   {
    "duration": 7,
    "start_time": "2022-02-08T11:27:59.466Z"
   },
   {
    "duration": 505,
    "start_time": "2022-02-08T11:27:59.940Z"
   },
   {
    "duration": 5,
    "start_time": "2022-02-08T11:28:02.392Z"
   },
   {
    "duration": 6,
    "start_time": "2022-02-08T11:28:07.984Z"
   },
   {
    "duration": 600,
    "start_time": "2022-02-08T11:28:08.463Z"
   },
   {
    "duration": 5,
    "start_time": "2022-02-08T11:28:11.741Z"
   },
   {
    "duration": 2085,
    "start_time": "2022-02-08T11:30:40.998Z"
   },
   {
    "duration": 2040,
    "start_time": "2022-02-08T11:30:55.691Z"
   },
   {
    "duration": 2083,
    "start_time": "2022-02-08T11:31:11.660Z"
   },
   {
    "duration": 2124,
    "start_time": "2022-02-08T11:32:23.589Z"
   },
   {
    "duration": 2564,
    "start_time": "2022-02-08T11:32:33.824Z"
   },
   {
    "duration": 1151,
    "start_time": "2022-02-08T15:34:16.041Z"
   },
   {
    "duration": 34,
    "start_time": "2022-02-08T15:34:17.194Z"
   },
   {
    "duration": 16,
    "start_time": "2022-02-08T15:34:17.231Z"
   },
   {
    "duration": 20,
    "start_time": "2022-02-08T15:34:17.249Z"
   },
   {
    "duration": 26,
    "start_time": "2022-02-08T15:34:17.271Z"
   },
   {
    "duration": 25,
    "start_time": "2022-02-08T15:34:17.299Z"
   },
   {
    "duration": 28,
    "start_time": "2022-02-08T15:34:17.326Z"
   },
   {
    "duration": 7,
    "start_time": "2022-02-08T15:34:17.357Z"
   },
   {
    "duration": 25,
    "start_time": "2022-02-08T15:34:17.366Z"
   },
   {
    "duration": 29,
    "start_time": "2022-02-08T15:34:17.392Z"
   },
   {
    "duration": 16,
    "start_time": "2022-02-08T15:34:17.423Z"
   },
   {
    "duration": 19,
    "start_time": "2022-02-08T15:34:17.441Z"
   },
   {
    "duration": 17,
    "start_time": "2022-02-08T15:34:17.461Z"
   },
   {
    "duration": 14,
    "start_time": "2022-02-08T15:34:17.480Z"
   },
   {
    "duration": 31,
    "start_time": "2022-02-08T15:34:17.496Z"
   },
   {
    "duration": 4,
    "start_time": "2022-02-08T15:34:17.529Z"
   },
   {
    "duration": 18,
    "start_time": "2022-02-08T15:34:17.534Z"
   },
   {
    "duration": 17,
    "start_time": "2022-02-08T15:34:17.554Z"
   },
   {
    "duration": 8,
    "start_time": "2022-02-08T15:34:17.573Z"
   },
   {
    "duration": 25,
    "start_time": "2022-02-08T15:34:17.583Z"
   },
   {
    "duration": 12,
    "start_time": "2022-02-08T15:34:17.610Z"
   },
   {
    "duration": 22,
    "start_time": "2022-02-08T15:34:17.624Z"
   },
   {
    "duration": 18,
    "start_time": "2022-02-08T15:34:17.650Z"
   },
   {
    "duration": 15,
    "start_time": "2022-02-08T15:34:17.671Z"
   },
   {
    "duration": 30,
    "start_time": "2022-02-08T15:34:17.688Z"
   },
   {
    "duration": 22,
    "start_time": "2022-02-08T15:34:17.720Z"
   },
   {
    "duration": 17,
    "start_time": "2022-02-08T15:34:17.744Z"
   },
   {
    "duration": 23,
    "start_time": "2022-02-08T15:34:17.763Z"
   },
   {
    "duration": 30,
    "start_time": "2022-02-08T15:34:17.788Z"
   },
   {
    "duration": 34,
    "start_time": "2022-02-08T15:34:17.820Z"
   },
   {
    "duration": 46,
    "start_time": "2022-02-08T15:34:17.856Z"
   },
   {
    "duration": 13,
    "start_time": "2022-02-08T15:34:17.904Z"
   },
   {
    "duration": 35,
    "start_time": "2022-02-08T15:34:17.919Z"
   },
   {
    "duration": 17,
    "start_time": "2022-02-08T15:34:17.956Z"
   },
   {
    "duration": 21,
    "start_time": "2022-02-08T15:34:17.975Z"
   },
   {
    "duration": 474,
    "start_time": "2022-02-08T15:34:17.998Z"
   },
   {
    "duration": 459,
    "start_time": "2022-02-08T15:34:18.474Z"
   },
   {
    "duration": 1242,
    "start_time": "2022-02-08T15:34:18.935Z"
   },
   {
    "duration": 160,
    "start_time": "2022-02-08T15:34:20.179Z"
   },
   {
    "duration": 7,
    "start_time": "2022-02-08T15:34:20.341Z"
   },
   {
    "duration": 11,
    "start_time": "2022-02-08T15:34:20.350Z"
   },
   {
    "duration": 681,
    "start_time": "2022-02-08T15:34:20.363Z"
   },
   {
    "duration": 323,
    "start_time": "2022-02-08T15:34:21.046Z"
   },
   {
    "duration": 5,
    "start_time": "2022-02-08T15:34:21.371Z"
   },
   {
    "duration": 658,
    "start_time": "2022-02-08T15:34:21.378Z"
   },
   {
    "duration": 6,
    "start_time": "2022-02-08T15:34:22.038Z"
   },
   {
    "duration": 2949,
    "start_time": "2022-02-08T15:34:22.046Z"
   },
   {
    "duration": 2,
    "start_time": "2022-02-08T15:34:24.997Z"
   },
   {
    "duration": 351,
    "start_time": "2022-02-08T15:34:25.001Z"
   },
   {
    "duration": 12,
    "start_time": "2022-02-08T15:34:25.354Z"
   },
   {
    "duration": 1363,
    "start_time": "2022-02-08T15:34:25.368Z"
   },
   {
    "duration": 778,
    "start_time": "2022-02-08T15:34:26.733Z"
   },
   {
    "duration": 7,
    "start_time": "2022-02-08T15:34:27.513Z"
   },
   {
    "duration": 496,
    "start_time": "2022-02-08T15:34:27.522Z"
   },
   {
    "duration": 3,
    "start_time": "2022-02-08T15:34:28.020Z"
   },
   {
    "duration": 13,
    "start_time": "2022-02-08T15:34:28.026Z"
   },
   {
    "duration": 15,
    "start_time": "2022-02-08T15:34:28.041Z"
   },
   {
    "duration": 13,
    "start_time": "2022-02-08T15:34:28.057Z"
   },
   {
    "duration": 15,
    "start_time": "2022-02-08T15:34:28.072Z"
   },
   {
    "duration": 11,
    "start_time": "2022-02-08T15:34:28.117Z"
   },
   {
    "duration": 11,
    "start_time": "2022-02-08T15:34:28.130Z"
   },
   {
    "duration": 6,
    "start_time": "2022-02-08T15:36:13.683Z"
   },
   {
    "duration": 612,
    "start_time": "2022-02-08T15:36:14.522Z"
   },
   {
    "duration": 1213,
    "start_time": "2022-02-08T15:36:22.417Z"
   },
   {
    "duration": 36,
    "start_time": "2022-02-08T15:36:23.633Z"
   },
   {
    "duration": 19,
    "start_time": "2022-02-08T15:36:23.671Z"
   },
   {
    "duration": 13,
    "start_time": "2022-02-08T15:36:23.692Z"
   },
   {
    "duration": 13,
    "start_time": "2022-02-08T15:36:23.718Z"
   },
   {
    "duration": 15,
    "start_time": "2022-02-08T15:36:23.733Z"
   },
   {
    "duration": 16,
    "start_time": "2022-02-08T15:36:23.749Z"
   },
   {
    "duration": 3,
    "start_time": "2022-02-08T15:36:23.768Z"
   },
   {
    "duration": 21,
    "start_time": "2022-02-08T15:36:23.773Z"
   },
   {
    "duration": 43,
    "start_time": "2022-02-08T15:36:23.796Z"
   },
   {
    "duration": 15,
    "start_time": "2022-02-08T15:36:23.841Z"
   },
   {
    "duration": 32,
    "start_time": "2022-02-08T15:36:23.857Z"
   },
   {
    "duration": 14,
    "start_time": "2022-02-08T15:36:23.891Z"
   },
   {
    "duration": 6,
    "start_time": "2022-02-08T15:36:23.907Z"
   },
   {
    "duration": 44,
    "start_time": "2022-02-08T15:36:23.915Z"
   },
   {
    "duration": 4,
    "start_time": "2022-02-08T15:36:23.961Z"
   },
   {
    "duration": 17,
    "start_time": "2022-02-08T15:36:23.966Z"
   },
   {
    "duration": 31,
    "start_time": "2022-02-08T15:36:23.984Z"
   },
   {
    "duration": 49,
    "start_time": "2022-02-08T15:36:24.017Z"
   },
   {
    "duration": 14,
    "start_time": "2022-02-08T15:36:24.068Z"
   },
   {
    "duration": 9,
    "start_time": "2022-02-08T15:36:24.083Z"
   },
   {
    "duration": 20,
    "start_time": "2022-02-08T15:36:24.093Z"
   },
   {
    "duration": 15,
    "start_time": "2022-02-08T15:36:24.118Z"
   },
   {
    "duration": 7,
    "start_time": "2022-02-08T15:36:24.136Z"
   },
   {
    "duration": 18,
    "start_time": "2022-02-08T15:36:24.145Z"
   },
   {
    "duration": 18,
    "start_time": "2022-02-08T15:36:24.165Z"
   },
   {
    "duration": 17,
    "start_time": "2022-02-08T15:36:24.185Z"
   },
   {
    "duration": 12,
    "start_time": "2022-02-08T15:36:24.203Z"
   },
   {
    "duration": 26,
    "start_time": "2022-02-08T15:36:24.217Z"
   },
   {
    "duration": 13,
    "start_time": "2022-02-08T15:36:24.245Z"
   },
   {
    "duration": 27,
    "start_time": "2022-02-08T15:36:24.260Z"
   },
   {
    "duration": 10,
    "start_time": "2022-02-08T15:36:24.289Z"
   },
   {
    "duration": 9,
    "start_time": "2022-02-08T15:36:24.301Z"
   },
   {
    "duration": 17,
    "start_time": "2022-02-08T15:36:24.312Z"
   },
   {
    "duration": 49,
    "start_time": "2022-02-08T15:36:24.330Z"
   },
   {
    "duration": 427,
    "start_time": "2022-02-08T15:36:24.381Z"
   },
   {
    "duration": 554,
    "start_time": "2022-02-08T15:36:24.810Z"
   },
   {
    "duration": 1220,
    "start_time": "2022-02-08T15:36:25.366Z"
   },
   {
    "duration": 154,
    "start_time": "2022-02-08T15:36:26.587Z"
   },
   {
    "duration": 6,
    "start_time": "2022-02-08T15:36:26.743Z"
   },
   {
    "duration": 8,
    "start_time": "2022-02-08T15:36:26.751Z"
   },
   {
    "duration": 697,
    "start_time": "2022-02-08T15:36:26.761Z"
   },
   {
    "duration": 310,
    "start_time": "2022-02-08T15:36:27.459Z"
   },
   {
    "duration": 6,
    "start_time": "2022-02-08T15:36:27.771Z"
   },
   {
    "duration": 18,
    "start_time": "2022-02-08T15:36:27.779Z"
   },
   {
    "duration": 663,
    "start_time": "2022-02-08T15:36:27.799Z"
   },
   {
    "duration": 6,
    "start_time": "2022-02-08T15:36:28.464Z"
   },
   {
    "duration": 2905,
    "start_time": "2022-02-08T15:36:28.472Z"
   },
   {
    "duration": 2,
    "start_time": "2022-02-08T15:36:31.379Z"
   },
   {
    "duration": 322,
    "start_time": "2022-02-08T15:36:31.383Z"
   },
   {
    "duration": 18,
    "start_time": "2022-02-08T15:36:31.707Z"
   },
   {
    "duration": 1416,
    "start_time": "2022-02-08T15:36:31.727Z"
   },
   {
    "duration": 738,
    "start_time": "2022-02-08T15:36:33.145Z"
   },
   {
    "duration": 5,
    "start_time": "2022-02-08T15:36:33.885Z"
   },
   {
    "duration": 480,
    "start_time": "2022-02-08T15:36:33.892Z"
   },
   {
    "duration": 3,
    "start_time": "2022-02-08T15:36:34.373Z"
   },
   {
    "duration": 13,
    "start_time": "2022-02-08T15:36:34.377Z"
   },
   {
    "duration": 31,
    "start_time": "2022-02-08T15:36:34.392Z"
   },
   {
    "duration": 10,
    "start_time": "2022-02-08T15:36:34.425Z"
   },
   {
    "duration": 14,
    "start_time": "2022-02-08T15:36:34.437Z"
   },
   {
    "duration": 11,
    "start_time": "2022-02-08T15:36:34.453Z"
   },
   {
    "duration": 13,
    "start_time": "2022-02-08T15:36:34.466Z"
   },
   {
    "duration": 14,
    "start_time": "2022-02-08T15:37:56.827Z"
   },
   {
    "duration": 10,
    "start_time": "2022-02-08T15:38:56.629Z"
   },
   {
    "duration": 10,
    "start_time": "2022-02-08T15:39:09.176Z"
   },
   {
    "duration": 7,
    "start_time": "2022-02-08T15:39:35.854Z"
   },
   {
    "duration": 724,
    "start_time": "2022-02-08T15:39:37.034Z"
   },
   {
    "duration": 718,
    "start_time": "2022-02-08T15:45:30.010Z"
   },
   {
    "duration": 546,
    "start_time": "2022-02-08T15:48:46.446Z"
   },
   {
    "duration": 606,
    "start_time": "2022-02-08T15:49:17.369Z"
   },
   {
    "duration": 1151,
    "start_time": "2022-02-08T15:49:45.648Z"
   },
   {
    "duration": 766,
    "start_time": "2022-02-08T15:57:07.348Z"
   },
   {
    "duration": 629,
    "start_time": "2022-02-08T15:57:27.181Z"
   },
   {
    "duration": 718,
    "start_time": "2022-02-08T15:57:41.656Z"
   },
   {
    "duration": 626,
    "start_time": "2022-02-08T15:57:50.202Z"
   },
   {
    "duration": 617,
    "start_time": "2022-02-08T15:58:02.221Z"
   },
   {
    "duration": 617,
    "start_time": "2022-02-08T15:58:13.304Z"
   },
   {
    "duration": 597,
    "start_time": "2022-02-08T15:59:18.635Z"
   },
   {
    "duration": 721,
    "start_time": "2022-02-08T15:59:41.581Z"
   },
   {
    "duration": 754,
    "start_time": "2022-02-08T15:59:54.748Z"
   },
   {
    "duration": 689,
    "start_time": "2022-02-08T16:03:40.088Z"
   },
   {
    "duration": 1372,
    "start_time": "2022-02-08T16:04:07.631Z"
   },
   {
    "duration": 1706,
    "start_time": "2022-02-08T16:06:46.049Z"
   },
   {
    "duration": 2121,
    "start_time": "2022-02-08T16:07:43.083Z"
   },
   {
    "duration": 2475,
    "start_time": "2022-02-08T16:08:05.455Z"
   },
   {
    "duration": 2670,
    "start_time": "2022-02-08T16:08:12.330Z"
   },
   {
    "duration": 554,
    "start_time": "2022-02-08T16:08:35.718Z"
   },
   {
    "duration": 2780,
    "start_time": "2022-02-08T16:08:46.613Z"
   },
   {
    "duration": 215,
    "start_time": "2022-02-08T16:20:25.647Z"
   },
   {
    "duration": 504,
    "start_time": "2022-02-08T16:20:35.358Z"
   },
   {
    "duration": 790,
    "start_time": "2022-02-08T16:21:23.810Z"
   },
   {
    "duration": 854,
    "start_time": "2022-02-08T16:23:52.608Z"
   },
   {
    "duration": 860,
    "start_time": "2022-02-08T16:24:15.345Z"
   },
   {
    "duration": 986,
    "start_time": "2022-02-08T16:24:29.425Z"
   },
   {
    "duration": 1067,
    "start_time": "2022-02-08T16:25:04.663Z"
   },
   {
    "duration": 884,
    "start_time": "2022-02-08T16:25:16.892Z"
   },
   {
    "duration": 928,
    "start_time": "2022-02-08T16:25:33.932Z"
   },
   {
    "duration": 1000,
    "start_time": "2022-02-08T16:25:42.537Z"
   },
   {
    "duration": 869,
    "start_time": "2022-02-08T16:25:51.942Z"
   },
   {
    "duration": 890,
    "start_time": "2022-02-08T16:26:11.047Z"
   },
   {
    "duration": 885,
    "start_time": "2022-02-08T16:26:17.568Z"
   },
   {
    "duration": 1011,
    "start_time": "2022-02-08T16:26:25.068Z"
   },
   {
    "duration": 644,
    "start_time": "2022-02-08T16:36:23.837Z"
   },
   {
    "duration": 682,
    "start_time": "2022-02-08T16:36:34.459Z"
   },
   {
    "duration": 638,
    "start_time": "2022-02-08T16:36:57.130Z"
   },
   {
    "duration": 856,
    "start_time": "2022-02-08T16:37:19.039Z"
   },
   {
    "duration": 1172,
    "start_time": "2022-02-08T16:37:51.698Z"
   },
   {
    "duration": 34,
    "start_time": "2022-02-08T16:37:52.872Z"
   },
   {
    "duration": 16,
    "start_time": "2022-02-08T16:37:52.908Z"
   },
   {
    "duration": 11,
    "start_time": "2022-02-08T16:37:52.927Z"
   },
   {
    "duration": 10,
    "start_time": "2022-02-08T16:37:52.940Z"
   },
   {
    "duration": 14,
    "start_time": "2022-02-08T16:37:52.951Z"
   },
   {
    "duration": 16,
    "start_time": "2022-02-08T16:37:52.967Z"
   },
   {
    "duration": 3,
    "start_time": "2022-02-08T16:37:52.986Z"
   },
   {
    "duration": 37,
    "start_time": "2022-02-08T16:37:52.991Z"
   },
   {
    "duration": 27,
    "start_time": "2022-02-08T16:37:53.030Z"
   },
   {
    "duration": 15,
    "start_time": "2022-02-08T16:37:53.059Z"
   },
   {
    "duration": 14,
    "start_time": "2022-02-08T16:37:53.076Z"
   },
   {
    "duration": 28,
    "start_time": "2022-02-08T16:37:53.092Z"
   },
   {
    "duration": 4,
    "start_time": "2022-02-08T16:37:53.122Z"
   },
   {
    "duration": 23,
    "start_time": "2022-02-08T16:37:53.128Z"
   },
   {
    "duration": 4,
    "start_time": "2022-02-08T16:37:53.153Z"
   },
   {
    "duration": 12,
    "start_time": "2022-02-08T16:37:53.158Z"
   },
   {
    "duration": 13,
    "start_time": "2022-02-08T16:37:53.172Z"
   },
   {
    "duration": 5,
    "start_time": "2022-02-08T16:37:53.186Z"
   },
   {
    "duration": 3,
    "start_time": "2022-02-08T16:37:53.219Z"
   },
   {
    "duration": 6,
    "start_time": "2022-02-08T16:37:53.224Z"
   },
   {
    "duration": 6,
    "start_time": "2022-02-08T16:37:53.231Z"
   },
   {
    "duration": 5,
    "start_time": "2022-02-08T16:37:53.241Z"
   },
   {
    "duration": 7,
    "start_time": "2022-02-08T16:37:53.248Z"
   },
   {
    "duration": 7,
    "start_time": "2022-02-08T16:37:53.256Z"
   },
   {
    "duration": 5,
    "start_time": "2022-02-08T16:37:53.265Z"
   },
   {
    "duration": 6,
    "start_time": "2022-02-08T16:37:53.271Z"
   },
   {
    "duration": 40,
    "start_time": "2022-02-08T16:37:53.279Z"
   },
   {
    "duration": 16,
    "start_time": "2022-02-08T16:37:53.321Z"
   },
   {
    "duration": 7,
    "start_time": "2022-02-08T16:37:53.338Z"
   },
   {
    "duration": 7,
    "start_time": "2022-02-08T16:37:53.347Z"
   },
   {
    "duration": 9,
    "start_time": "2022-02-08T16:37:53.355Z"
   },
   {
    "duration": 12,
    "start_time": "2022-02-08T16:37:53.366Z"
   },
   {
    "duration": 13,
    "start_time": "2022-02-08T16:37:53.379Z"
   },
   {
    "duration": 30,
    "start_time": "2022-02-08T16:37:53.394Z"
   },
   {
    "duration": 542,
    "start_time": "2022-02-08T16:37:53.426Z"
   },
   {
    "duration": 432,
    "start_time": "2022-02-08T16:37:53.970Z"
   },
   {
    "duration": 1372,
    "start_time": "2022-02-08T16:37:54.403Z"
   },
   {
    "duration": 141,
    "start_time": "2022-02-08T16:37:55.777Z"
   },
   {
    "duration": 5,
    "start_time": "2022-02-08T16:37:55.920Z"
   },
   {
    "duration": 6,
    "start_time": "2022-02-08T16:37:55.927Z"
   },
   {
    "duration": 630,
    "start_time": "2022-02-08T16:37:55.935Z"
   },
   {
    "duration": 290,
    "start_time": "2022-02-08T16:37:56.567Z"
   },
   {
    "duration": 6,
    "start_time": "2022-02-08T16:37:56.859Z"
   },
   {
    "duration": 547,
    "start_time": "2022-02-08T16:37:56.866Z"
   },
   {
    "duration": 5,
    "start_time": "2022-02-08T16:37:57.415Z"
   },
   {
    "duration": 2305,
    "start_time": "2022-02-08T16:37:57.422Z"
   },
   {
    "duration": 2,
    "start_time": "2022-02-08T16:37:59.729Z"
   },
   {
    "duration": 421,
    "start_time": "2022-02-08T16:37:59.733Z"
   },
   {
    "duration": 11,
    "start_time": "2022-02-08T16:38:00.156Z"
   },
   {
    "duration": 730,
    "start_time": "2022-02-08T16:38:00.169Z"
   },
   {
    "duration": -81,
    "start_time": "2022-02-08T16:38:00.981Z"
   },
   {
    "duration": -105,
    "start_time": "2022-02-08T16:38:01.006Z"
   },
   {
    "duration": -128,
    "start_time": "2022-02-08T16:38:01.030Z"
   },
   {
    "duration": -133,
    "start_time": "2022-02-08T16:38:01.037Z"
   },
   {
    "duration": -154,
    "start_time": "2022-02-08T16:38:01.058Z"
   },
   {
    "duration": -160,
    "start_time": "2022-02-08T16:38:01.065Z"
   },
   {
    "duration": -154,
    "start_time": "2022-02-08T16:38:01.072Z"
   },
   {
    "duration": -175,
    "start_time": "2022-02-08T16:38:01.094Z"
   },
   {
    "duration": -183,
    "start_time": "2022-02-08T16:38:01.102Z"
   },
   {
    "duration": -206,
    "start_time": "2022-02-08T16:38:01.126Z"
   },
   {
    "duration": 815,
    "start_time": "2022-02-08T16:38:24.668Z"
   },
   {
    "duration": 804,
    "start_time": "2022-02-08T16:38:40.022Z"
   },
   {
    "duration": 804,
    "start_time": "2022-02-08T16:38:52.733Z"
   },
   {
    "duration": 78,
    "start_time": "2022-02-08T16:41:04.676Z"
   },
   {
    "duration": 75,
    "start_time": "2022-02-08T16:41:30.256Z"
   },
   {
    "duration": 73,
    "start_time": "2022-02-08T16:42:06.165Z"
   },
   {
    "duration": 101,
    "start_time": "2022-02-08T16:42:41.726Z"
   },
   {
    "duration": 552,
    "start_time": "2022-02-08T16:42:59.149Z"
   },
   {
    "duration": 924,
    "start_time": "2022-02-08T16:43:51.765Z"
   },
   {
    "duration": 219,
    "start_time": "2022-02-08T16:52:16.947Z"
   },
   {
    "duration": 1165,
    "start_time": "2022-02-08T16:52:43.728Z"
   },
   {
    "duration": 35,
    "start_time": "2022-02-08T16:52:44.895Z"
   },
   {
    "duration": 15,
    "start_time": "2022-02-08T16:52:44.932Z"
   },
   {
    "duration": 14,
    "start_time": "2022-02-08T16:52:44.949Z"
   },
   {
    "duration": 10,
    "start_time": "2022-02-08T16:52:44.964Z"
   },
   {
    "duration": 8,
    "start_time": "2022-02-08T16:52:44.976Z"
   },
   {
    "duration": 40,
    "start_time": "2022-02-08T16:52:44.986Z"
   },
   {
    "duration": 4,
    "start_time": "2022-02-08T16:52:45.030Z"
   },
   {
    "duration": 17,
    "start_time": "2022-02-08T16:52:45.036Z"
   },
   {
    "duration": 27,
    "start_time": "2022-02-08T16:52:45.055Z"
   },
   {
    "duration": 34,
    "start_time": "2022-02-08T16:52:45.084Z"
   },
   {
    "duration": 15,
    "start_time": "2022-02-08T16:52:45.120Z"
   },
   {
    "duration": 8,
    "start_time": "2022-02-08T16:52:45.137Z"
   },
   {
    "duration": 5,
    "start_time": "2022-02-08T16:52:45.147Z"
   },
   {
    "duration": 28,
    "start_time": "2022-02-08T16:52:45.154Z"
   },
   {
    "duration": 3,
    "start_time": "2022-02-08T16:52:45.185Z"
   },
   {
    "duration": 35,
    "start_time": "2022-02-08T16:52:45.190Z"
   },
   {
    "duration": 12,
    "start_time": "2022-02-08T16:52:45.227Z"
   },
   {
    "duration": 6,
    "start_time": "2022-02-08T16:52:45.241Z"
   },
   {
    "duration": 5,
    "start_time": "2022-02-08T16:52:45.249Z"
   },
   {
    "duration": 6,
    "start_time": "2022-02-08T16:52:45.256Z"
   },
   {
    "duration": 9,
    "start_time": "2022-02-08T16:52:45.263Z"
   },
   {
    "duration": 6,
    "start_time": "2022-02-08T16:52:45.276Z"
   },
   {
    "duration": 37,
    "start_time": "2022-02-08T16:52:45.284Z"
   },
   {
    "duration": 7,
    "start_time": "2022-02-08T16:52:45.323Z"
   },
   {
    "duration": 9,
    "start_time": "2022-02-08T16:52:45.332Z"
   },
   {
    "duration": 7,
    "start_time": "2022-02-08T16:52:45.343Z"
   },
   {
    "duration": 11,
    "start_time": "2022-02-08T16:52:45.351Z"
   },
   {
    "duration": 13,
    "start_time": "2022-02-08T16:52:45.364Z"
   },
   {
    "duration": 8,
    "start_time": "2022-02-08T16:52:45.379Z"
   },
   {
    "duration": 33,
    "start_time": "2022-02-08T16:52:45.389Z"
   },
   {
    "duration": 6,
    "start_time": "2022-02-08T16:52:45.424Z"
   },
   {
    "duration": 12,
    "start_time": "2022-02-08T16:52:45.432Z"
   },
   {
    "duration": 14,
    "start_time": "2022-02-08T16:52:45.445Z"
   },
   {
    "duration": 19,
    "start_time": "2022-02-08T16:52:45.461Z"
   },
   {
    "duration": 481,
    "start_time": "2022-02-08T16:52:45.482Z"
   },
   {
    "duration": 460,
    "start_time": "2022-02-08T16:52:45.965Z"
   },
   {
    "duration": 1148,
    "start_time": "2022-02-08T16:52:46.427Z"
   },
   {
    "duration": 145,
    "start_time": "2022-02-08T16:52:47.577Z"
   },
   {
    "duration": 5,
    "start_time": "2022-02-08T16:52:47.724Z"
   },
   {
    "duration": 7,
    "start_time": "2022-02-08T16:52:47.731Z"
   },
   {
    "duration": 624,
    "start_time": "2022-02-08T16:52:47.739Z"
   },
   {
    "duration": 304,
    "start_time": "2022-02-08T16:52:48.365Z"
   },
   {
    "duration": 7,
    "start_time": "2022-02-08T16:52:48.671Z"
   },
   {
    "duration": 548,
    "start_time": "2022-02-08T16:52:48.680Z"
   },
   {
    "duration": 6,
    "start_time": "2022-02-08T16:52:49.230Z"
   },
   {
    "duration": 2451,
    "start_time": "2022-02-08T16:52:49.237Z"
   },
   {
    "duration": 3,
    "start_time": "2022-02-08T16:52:51.689Z"
   },
   {
    "duration": 325,
    "start_time": "2022-02-08T16:52:51.693Z"
   },
   {
    "duration": 11,
    "start_time": "2022-02-08T16:52:52.020Z"
   },
   {
    "duration": 898,
    "start_time": "2022-02-08T16:52:52.033Z"
   },
   {
    "duration": 737,
    "start_time": "2022-02-08T16:52:52.933Z"
   },
   {
    "duration": 4,
    "start_time": "2022-02-08T16:52:53.672Z"
   },
   {
    "duration": 478,
    "start_time": "2022-02-08T16:52:53.678Z"
   },
   {
    "duration": 2,
    "start_time": "2022-02-08T16:52:54.158Z"
   },
   {
    "duration": 14,
    "start_time": "2022-02-08T16:52:54.162Z"
   },
   {
    "duration": 8,
    "start_time": "2022-02-08T16:52:54.178Z"
   },
   {
    "duration": 37,
    "start_time": "2022-02-08T16:52:54.187Z"
   },
   {
    "duration": 10,
    "start_time": "2022-02-08T16:52:54.226Z"
   },
   {
    "duration": 10,
    "start_time": "2022-02-08T16:52:54.238Z"
   },
   {
    "duration": 10,
    "start_time": "2022-02-08T16:52:54.249Z"
   },
   {
    "duration": 24,
    "start_time": "2022-02-08T16:54:28.357Z"
   },
   {
    "duration": 13,
    "start_time": "2022-02-08T16:54:34.432Z"
   },
   {
    "duration": 7,
    "start_time": "2022-02-08T16:57:28.148Z"
   }
  ],
  "kernelspec": {
   "display_name": "Python 3 (ipykernel)",
   "language": "python",
   "name": "python3"
  },
  "language_info": {
   "codemirror_mode": {
    "name": "ipython",
    "version": 3
   },
   "file_extension": ".py",
   "mimetype": "text/x-python",
   "name": "python",
   "nbconvert_exporter": "python",
   "pygments_lexer": "ipython3",
   "version": "3.9.5"
  },
  "toc": {
   "base_numbering": 1,
   "nav_menu": {},
   "number_sections": true,
   "sideBar": true,
   "skip_h1_title": true,
   "title_cell": "Table of Contents",
   "title_sidebar": "Contents",
   "toc_cell": false,
   "toc_position": {},
   "toc_section_display": true,
   "toc_window_display": true
  }
 },
 "nbformat": 4,
 "nbformat_minor": 5
}
